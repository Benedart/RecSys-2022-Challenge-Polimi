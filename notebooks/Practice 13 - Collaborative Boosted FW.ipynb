{
 "cells": [
  {
   "cell_type": "markdown",
   "metadata": {},
   "source": [
    "# Recommender Systems 2021/22\n",
    "\n",
    "### Practice - Collaborative Boosted FW\n",
    "\n",
    "\n",
    "### Underlying idea... the way to capture the feature importance from the user point of view, is to... use their point of view (e.g., ratings, collaborative similarity)"
   ]
  },
  {
   "cell_type": "markdown",
   "metadata": {},
   "source": [
    "## A few info about feature weightign techniques\n",
    "\n",
    "* Information retrieval methods (TF-IDF, BM25..) do not optimize a predictive model\n",
    "* Embedding methods (FISM, UFSM, Factorization Machines) optimize everything at the same time, model and weights, but are difficult to train and sensitive to noise\n",
    "* Wrapper methods (LFW, CFW) apply a two step approach approximating an already built collaborative model, more robust and easier to tune\n"
   ]
  },
  {
   "cell_type": "code",
   "execution_count": 1,
   "metadata": {},
   "outputs": [
    {
     "name": "stdout",
     "output_type": "stream",
     "text": [
      "Movielens10M: Verifying data consistency...\n",
      "Movielens10M: Verifying data consistency... Passed!\n",
      "DataReader: current dataset is: <class 'Data_manager.Dataset.Dataset'>\n",
      "\tNumber of items: 10681\n",
      "\tNumber of users: 69878\n",
      "\tNumber of interactions in URM_all: 10000054\n",
      "\tValue range in URM_all: 0.50-5.00\n",
      "\tInteraction density: 1.34E-02\n",
      "\tInteractions per user:\n",
      "\t\t Min: 2.00E+01\n",
      "\t\t Avg: 1.43E+02\n",
      "\t\t Max: 7.36E+03\n",
      "\tInteractions per item:\n",
      "\t\t Min: 0.00E+00\n",
      "\t\t Avg: 9.36E+02\n",
      "\t\t Max: 3.49E+04\n",
      "\tGini Index: 0.57\n",
      "\n",
      "\tICM name: ICM_all, Value range: 1.00 / 69.00, Num features: 10126, feature occurrences: 128384, density 1.19E-03\n",
      "\tICM name: ICM_genres, Value range: 1.00 / 1.00, Num features: 20, feature occurrences: 21564, density 1.01E-01\n",
      "\tICM name: ICM_tags, Value range: 1.00 / 69.00, Num features: 10106, feature occurrences: 106820, density 9.90E-04\n",
      "\tICM name: ICM_year, Value range: 6.00E+00 / 2.01E+03, Num features: 1, feature occurrences: 10681, density 1.00E+00\n",
      "\n",
      "\n"
     ]
    }
   ],
   "source": [
    "from Data_manager.split_functions.split_train_validation_random_holdout import split_train_in_two_percentage_global_sample\n",
    "from Data_manager.Movielens.Movielens10MReader import Movielens10MReader\n",
    "import numpy as np\n",
    "\n",
    "data_reader = Movielens10MReader()\n",
    "data_loaded = data_reader.load_data()\n",
    "\n",
    "URM_all = data_loaded.get_URM_all()\n",
    "ICM_tags = data_loaded.get_ICM_from_name(\"ICM_tags\")\n",
    "ICM_genres = data_loaded.get_ICM_from_name(\"ICM_genres\")"
   ]
  },
  {
   "cell_type": "code",
   "execution_count": 2,
   "metadata": {},
   "outputs": [
    {
     "name": "stdout",
     "output_type": "stream",
     "text": [
      "Warning: 73 (0.10 %) of 69878 users have no sampled items\n",
      "Warning: 2463 (3.52 %) of 69878 users have no sampled items\n"
     ]
    }
   ],
   "source": [
    "URM_train, URM_test = split_train_in_two_percentage_global_sample(URM_all, train_percentage = 0.8)\n",
    "URM_train, URM_validation = split_train_in_two_percentage_global_sample(URM_train, train_percentage = 0.9)"
   ]
  },
  {
   "cell_type": "markdown",
   "metadata": {},
   "source": [
    "### Let's now consider two simple models, a KNN pure collaborative and a KNN content-based\n",
    "The hyperparameters are taken from a previous optimization step.\n",
    "\n",
    "Warning: not very clean, the data split in this case is certainly different, though for reasonably large datasets the optimal hyperparameters do not change a lot"
   ]
  },
  {
   "cell_type": "code",
   "execution_count": 3,
   "metadata": {},
   "outputs": [],
   "source": [
    "best_hyperparams_ItemKNNCF = {'topK': 700, 'shrink': 200, 'similarity': 'cosine', 'normalize': True}\n",
    "best_hyperparams_ItemKNNCBF = {'topK': 500, 'shrink': 1000, 'similarity': 'cosine', 'normalize': True}"
   ]
  },
  {
   "cell_type": "markdown",
   "metadata": {},
   "source": [
    "### Step 1: Create the two models, collaborative and content based"
   ]
  },
  {
   "cell_type": "code",
   "execution_count": 4,
   "metadata": {},
   "outputs": [
    {
     "name": "stdout",
     "output_type": "stream",
     "text": [
      "ItemKNNCFRecommender: URM Detected 46 ( 0.4%) items with no interactions.\n",
      "Similarity column 10681 (100.0%), 689.51 column/sec. Elapsed time 15.49 sec\n",
      "ItemKNNCBFRecommender: URM Detected 46 ( 0.4%) items with no interactions.\n",
      "ItemKNNCBFRecommender: ICM Detected 3087 (28.9%) items with no features.\n",
      "Similarity column 10681 (100.0%), 5868.25 column/sec. Elapsed time 1.82 sec\n"
     ]
    }
   ],
   "source": [
    "from Recommenders.KNN.ItemKNNCFRecommender import ItemKNNCFRecommender\n",
    "from Recommenders.KNN.ItemKNNCBFRecommender import ItemKNNCBFRecommender\n",
    "\n",
    "\n",
    "itemKNNCF = ItemKNNCFRecommender(URM_train)\n",
    "itemKNNCF.fit(**best_hyperparams_ItemKNNCF)\n",
    "\n",
    "itemKNNCBF = ItemKNNCBFRecommender(URM_train, ICM_tags)\n",
    "itemKNNCBF.fit(**best_hyperparams_ItemKNNCBF)"
   ]
  },
  {
   "cell_type": "markdown",
   "metadata": {},
   "source": [
    "### Question, how the two similarities differ?"
   ]
  },
  {
   "cell_type": "code",
   "execution_count": 5,
   "metadata": {},
   "outputs": [],
   "source": [
    "W_sparse_CF = itemKNNCF.W_sparse\n",
    "W_sparse_CBF = itemKNNCBF.W_sparse"
   ]
  },
  {
   "cell_type": "markdown",
   "metadata": {},
   "source": [
    "## Let's plot the global similarity distribution "
   ]
  },
  {
   "cell_type": "code",
   "execution_count": 6,
   "metadata": {},
   "outputs": [],
   "source": [
    "W_sparse_CF_sorted = np.sort(W_sparse_CF.data.copy())\n",
    "W_sparse_CBF_sorted = np.sort(W_sparse_CBF.data.copy())"
   ]
  },
  {
   "cell_type": "code",
   "execution_count": 7,
   "metadata": {},
   "outputs": [
    {
     "data": {
      "text/plain": [
       "array([7.3099858e-05, 7.4463380e-05, 8.4556516e-05, ..., 5.9459770e-01,\n",
       "       5.9845638e-01, 5.9845638e-01], dtype=float32)"
      ]
     },
     "execution_count": 7,
     "metadata": {},
     "output_type": "execute_result"
    }
   ],
   "source": [
    "W_sparse_CF_sorted"
   ]
  },
  {
   "cell_type": "code",
   "execution_count": 8,
   "metadata": {},
   "outputs": [
    {
     "data": {
      "text/plain": [
       "array([5.2254670e-04, 5.8741629e-04, 5.9216074e-04, ..., 6.8608046e-01,\n",
       "       6.9043833e-01, 6.9043833e-01], dtype=float32)"
      ]
     },
     "execution_count": 8,
     "metadata": {},
     "output_type": "execute_result"
    }
   ],
   "source": [
    "W_sparse_CBF_sorted"
   ]
  },
  {
   "cell_type": "code",
   "execution_count": 9,
   "metadata": {},
   "outputs": [
    {
     "data": {
      "image/png": "[encoded data removed]",
      "text/plain": [
       "<Figure size 432x288 with 1 Axes>"
      ]
     },
     "metadata": {
      "needs_background": "light"
     },
     "output_type": "display_data"
    }
   ],
   "source": [
    "import numpy as np\n",
    "import matplotlib.pyplot as pyplot\n",
    "\n",
    "\n",
    "pyplot.plot(W_sparse_CF_sorted, label = 'KNN CF')\n",
    "pyplot.plot(W_sparse_CBF_sorted, label = 'KNN CBF')\n",
    "pyplot.ylabel('Similarity value')\n",
    "pyplot.xlabel('Sorted similarity index')\n",
    "pyplot.legend()\n",
    "pyplot.show()"
   ]
  },
  {
   "cell_type": "markdown",
   "metadata": {},
   "source": [
    "## Let's now plot the delta for the common values"
   ]
  },
  {
   "cell_type": "code",
   "execution_count": 10,
   "metadata": {},
   "outputs": [],
   "source": [
    "# Get common structure\n",
    "W_sparse_CF_structure = W_sparse_CF.copy()\n",
    "W_sparse_CF_structure.data = np.ones_like(W_sparse_CF_structure.data)\n",
    "\n",
    "W_sparse_CBF_structure = W_sparse_CBF.copy()\n",
    "W_sparse_CBF_structure.data = np.ones_like(W_sparse_CBF_structure.data)\n",
    "\n",
    "W_sparse_common = W_sparse_CF_structure.multiply(W_sparse_CBF_structure)\n",
    "\n",
    "# Get values of both in common structure of CF\n",
    "W_sparse_delta = W_sparse_CBF.copy().multiply(W_sparse_common)\n",
    "W_sparse_delta -= W_sparse_CF.copy().multiply(W_sparse_common)"
   ]
  },
  {
   "cell_type": "code",
   "execution_count": 11,
   "metadata": {},
   "outputs": [],
   "source": [
    "W_sparse_delta_sorted = np.sort(W_sparse_delta.data.copy())"
   ]
  },
  {
   "cell_type": "code",
   "execution_count": 12,
   "metadata": {},
   "outputs": [
    {
     "data": {
      "image/png": "[encoded data removed]",
      "text/plain": [
       "<Figure size 432x288 with 1 Axes>"
      ]
     },
     "metadata": {
      "needs_background": "light"
     },
     "output_type": "display_data"
    }
   ],
   "source": [
    "pyplot.plot(W_sparse_delta_sorted)\n",
    "pyplot.ylabel('Similarity value delta')\n",
    "pyplot.xlabel('Sorted similarity index')\n",
    "pyplot.title(\"Delta between the existing KNN CF similarities and the corresponding KNN CBF ones\")\n",
    "pyplot.show()"
   ]
  },
  {
   "cell_type": "code",
   "execution_count": 13,
   "metadata": {},
   "outputs": [
    {
     "name": "stdout",
     "output_type": "stream",
     "text": [
      "W_sparse_CF has 7.42E+06 values and 10.63 % in common with CBF\n",
      "W_sparse_CBF has 3.10E+06 values and 25.45 % in common with CF\n",
      "W_sparse_delta has 7.88E+05 values\n"
     ]
    }
   ],
   "source": [
    "# How many values we have in common?\n",
    "\n",
    "print(\"W_sparse_CF has {:.2E} values and {:.2f} % in common with CBF\".format(W_sparse_CF.nnz, W_sparse_common.nnz/W_sparse_CF.nnz*100))\n",
    "print(\"W_sparse_CBF has {:.2E} values and {:.2f} % in common with CF\".format(W_sparse_CBF.nnz, W_sparse_common.nnz/W_sparse_CBF.nnz*100))\n",
    "\n",
    "print(\"W_sparse_delta has {:.2E} values\".format(W_sparse_delta.nnz))\n"
   ]
  },
  {
   "cell_type": "markdown",
   "metadata": {},
   "source": [
    "## What do we see?\n",
    "## The great majority of similarities are not common... the KNNs are modeling two very different phenomena"
   ]
  },
  {
   "cell_type": "markdown",
   "metadata": {},
   "source": [
    "# Idea: \n",
    "\n",
    "what if we were to weight features in such a way to approximate as well as possible the collaborative similarity?\n",
    "\n",
    "Basic model:  $S_{CBF} = ICM \\cdot diag(feature\\_weights) \\cdot ICM^{T}$ \n",
    "\n",
    "\n",
    "We want  $S_{CBF} = S_{CF}$\n",
    "\n",
    "Hence we wish to find the weights such that  $S_{CF} = ICM \\cdot diag(feature\\_weights) \\cdot ICM^{T}$ \n",
    "\n",
    "Now, we can rearrange the equations considering that we need only weights for features the two items have in common... this becomes a regression problem in form Ax = b. In our case A are the common features, x the weights and b the collaborative similarity\n"
   ]
  },
  {
   "cell_type": "markdown",
   "metadata": {},
   "source": [
    "### Since it is a regression problem, we can use an already available solver like linalg in scipy.sparse\n",
    "\n",
    "### It takes as imput two data structures, one is sparse and the other is the target value"
   ]
  },
  {
   "cell_type": "code",
   "execution_count": 14,
   "metadata": {},
   "outputs": [],
   "source": [
    "W_sparse_delta = W_sparse_delta.tocoo()\n",
    "\n",
    "\n",
    "item_index_1 = W_sparse_delta.row[666]\n",
    "item_index_2 = W_sparse_delta.col[666]"
   ]
  },
  {
   "cell_type": "code",
   "execution_count": 15,
   "metadata": {},
   "outputs": [
    {
     "name": "stdout",
     "output_type": "stream",
     "text": [
      "Item indices are 7 and 42\n"
     ]
    }
   ],
   "source": [
    "print(\"Item indices are {} and {}\".format(item_index_1, item_index_2))"
   ]
  },
  {
   "cell_type": "code",
   "execution_count": 16,
   "metadata": {},
   "outputs": [
    {
     "name": "stdout",
     "output_type": "stream",
     "text": [
      "Collaborative similarity value is 0.18686850368976593\n",
      "Content-based similarity value is 0.021173948422074318\n"
     ]
    }
   ],
   "source": [
    "print(\"Collaborative similarity value is {}\".format(W_sparse_CF[item_index_1, item_index_2]))\n",
    "print(\"Content-based similarity value is {}\".format(W_sparse_CBF[item_index_1, item_index_2]))"
   ]
  },
  {
   "cell_type": "markdown",
   "metadata": {},
   "source": [
    "### Compute the common features"
   ]
  },
  {
   "cell_type": "code",
   "execution_count": 17,
   "metadata": {},
   "outputs": [
    {
     "data": {
      "text/plain": [
       "<1x10106 sparse matrix of type '<class 'numpy.float64'>'\n",
       "\twith 10 stored elements in Compressed Sparse Row format>"
      ]
     },
     "execution_count": 17,
     "metadata": {},
     "output_type": "execute_result"
    }
   ],
   "source": [
    "common_features = ICM_tags[item_index_1,:].multiply(ICM_tags[item_index_2,:])\n",
    "common_features"
   ]
  },
  {
   "cell_type": "code",
   "execution_count": 18,
   "metadata": {},
   "outputs": [
    {
     "data": {
      "text/plain": [
       "array([  25,   33,   94,  145,  511,  550, 2538, 5518, 5728, 6107],\n",
       "      dtype=int32)"
      ]
     },
     "execution_count": 18,
     "metadata": {},
     "output_type": "execute_result"
    }
   ],
   "source": [
    "common_features.indices"
   ]
  },
  {
   "cell_type": "markdown",
   "metadata": {},
   "source": [
    "## These items have just two common features, that is a common scenario\n",
    "\n",
    "### Let's look for items having  a few features in common, say 5"
   ]
  },
  {
   "cell_type": "code",
   "execution_count": 19,
   "metadata": {},
   "outputs": [
    {
     "name": "stdout",
     "output_type": "stream",
     "text": [
      "Item indices are 1 and 11\n",
      "Collaborative similarity value is 0.3871592581272125\n",
      "Content-based similarity value is 0.10350184142589569\n"
     ]
    },
    {
     "data": {
      "text/plain": [
       "array([   8,  489,  671,  672, 2593], dtype=int32)"
      ]
     },
     "execution_count": 19,
     "metadata": {},
     "output_type": "execute_result"
    }
   ],
   "source": [
    "import scipy.sparse as sps\n",
    "\n",
    "min_common_features = 5\n",
    "common_features = sps.csr_matrix((1,1))\n",
    "inner_index = 0\n",
    "\n",
    "while (common_features.nnz < min_common_features and inner_index<len(W_sparse_delta.row)):\n",
    "\n",
    "    item_index_1 = W_sparse_delta.row[inner_index]\n",
    "    item_index_2 = W_sparse_delta.col[inner_index]\n",
    "    inner_index += 1\n",
    "    \n",
    "    common_features = ICM_tags[item_index_1,:].multiply(ICM_tags[item_index_2,:])      \n",
    "        \n",
    "\n",
    "print(\"Item indices are {} and {}\".format(item_index_1, item_index_2))\n",
    "\n",
    "print(\"Collaborative similarity value is {}\".format(W_sparse_CF[item_index_1, item_index_2]))\n",
    "print(\"Content-based similarity value is {}\".format(W_sparse_CBF[item_index_1, item_index_2]))\n",
    "    \n",
    "common_features.indices"
   ]
  },
  {
   "cell_type": "code",
   "execution_count": 20,
   "metadata": {},
   "outputs": [],
   "source": [
    "from scipy.sparse import linalg\n",
    "\n",
    "loss_tolerance = 1e-6\n",
    "iteration_limit = 50000\n",
    "damp_coeff=0.0\n",
    "\n",
    "W_sparse_CF_value = W_sparse_CF[item_index_1, item_index_2]"
   ]
  },
  {
   "cell_type": "code",
   "execution_count": 21,
   "metadata": {},
   "outputs": [],
   "source": [
    "linalg_result = linalg.lsqr(common_features, W_sparse_CF_value, show = False,\n",
    "                            atol=loss_tolerance, btol=loss_tolerance,\n",
    "                            iter_lim = iteration_limit, damp=damp_coeff)"
   ]
  },
  {
   "cell_type": "code",
   "execution_count": 22,
   "metadata": {},
   "outputs": [
    {
     "data": {
      "text/plain": [
       "array([0., 0., 0., ..., 0., 0., 0.])"
      ]
     },
     "execution_count": 22,
     "metadata": {},
     "output_type": "execute_result"
    }
   ],
   "source": [
    "feature_weights = linalg_result[0].copy()\n",
    "feature_weights"
   ]
  },
  {
   "cell_type": "code",
   "execution_count": 23,
   "metadata": {},
   "outputs": [
    {
     "data": {
      "text/plain": [
       "array([3.38891435e-04, 4.84130622e-05, 3.05002292e-03, 3.05002292e-03,\n",
       "       1.45239186e-04])"
      ]
     },
     "execution_count": 23,
     "metadata": {},
     "output_type": "execute_result"
    }
   ],
   "source": [
    "feature_weights[common_features.indices]"
   ]
  },
  {
   "cell_type": "markdown",
   "metadata": {},
   "source": [
    "### Note that all weights will be zeros except for the features those items have in common, nothing can be learned if a feature is not common\n",
    "\n",
    "### If a dataset has a very sparse ICM, this FW method will struggle"
   ]
  },
  {
   "cell_type": "code",
   "execution_count": 24,
   "metadata": {},
   "outputs": [
    {
     "data": {
      "text/plain": [
       "array([0.38715926])"
      ]
     },
     "execution_count": 24,
     "metadata": {},
     "output_type": "execute_result"
    }
   ],
   "source": [
    "new_CBF_value = common_features.dot(feature_weights)\n",
    "new_CBF_value"
   ]
  },
  {
   "cell_type": "code",
   "execution_count": 25,
   "metadata": {},
   "outputs": [
    {
     "name": "stdout",
     "output_type": "stream",
     "text": [
      "Collaborative similarity value is 0.3871592581272125\n",
      "Content-based similarity value is 0.10350184142589569\n",
      "Weighted Content-based similarity value is 0.38715925812721236\n"
     ]
    }
   ],
   "source": [
    "print(\"Collaborative similarity value is {}\".format(W_sparse_CF[item_index_1, item_index_2]))\n",
    "print(\"Content-based similarity value is {}\".format(W_sparse_CBF[item_index_1, item_index_2]))\n",
    "\n",
    "print(\"Weighted Content-based similarity value is {}\".format(new_CBF_value[0]))"
   ]
  },
  {
   "cell_type": "markdown",
   "metadata": {},
   "source": [
    "### Note that we learned the CF similarity amost exactly...\n",
    "\n",
    "### Warning: 5 common features and 1 similarity value, more parameters than data points, overfitting!\n",
    "\n",
    "### if we want to apply this method to the whole dataset we have to compute the common features of all items having a common similarity value. Whe already know who they are, thanks to W_sparse_delta"
   ]
  },
  {
   "cell_type": "code",
   "execution_count": 26,
   "metadata": {},
   "outputs": [],
   "source": [
    "from Recommenders.FeatureWeighting.CFW_D_Similarity_Linalg import CFW_D_Similarity_Linalg"
   ]
  },
  {
   "cell_type": "code",
   "execution_count": 27,
   "metadata": {},
   "outputs": [
    {
     "name": "stdout",
     "output_type": "stream",
     "text": [
      "CFW_D_Similarity_Linalg: URM Detected 46 ( 0.4%) items with no interactions.\n",
      "CFW_D_Similarity_Linalg: ICM Detected 3087 (28.9%) items with no features.\n",
      "CFW_D_Similarity_Linalg: Generating train data\n",
      "Similarity column 10681 (100.0%), 14068.36 column/sec. Elapsed time 0.76 sec\n",
      "CFW_D_Similarity_Linalg: Collaborative S density: 6.50E-02, nonzero cells 7415187\n",
      "CFW_D_Similarity_Linalg: Content S density: 1.73E-02, nonzero cells 1975457\n",
      "CFW_D_Similarity_Linalg: Content S structure has 567640 out of 1975457 (28.7%) nonzero collaborative cells\n",
      "CFW_D_Similarity_Linalg: Nonzero collaborative cell sum is: 7.51E+04, average is: 1.32E-01, average over all collaborative data is 8.64E-02\n",
      "Similarity column 10681 (100.0%), 13885.38 column/sec. Elapsed time 0.77 sec\n"
     ]
    }
   ],
   "source": [
    "CFW_weithing = CFW_D_Similarity_Linalg(URM_train, ICM_tags, W_sparse_CF)\n",
    "CFW_weithing.fit()"
   ]
  },
  {
   "cell_type": "code",
   "execution_count": 28,
   "metadata": {},
   "outputs": [
    {
     "name": "stdout",
     "output_type": "stream",
     "text": [
      "EvaluatorHoldout: Ignoring 67415 ( 3.5%) Users that have less than 1 test interactions\n",
      "EvaluatorHoldout: Ignoring 69805 ( 0.1%) Users that have less than 1 test interactions\n"
     ]
    }
   ],
   "source": [
    "from Evaluation.Evaluator import EvaluatorHoldout\n",
    "\n",
    "evaluator_validation = EvaluatorHoldout(URM_validation, cutoff_list=[5, 10, 20])\n",
    "evaluator_test = EvaluatorHoldout(URM_test, cutoff_list=[5, 10, 20])"
   ]
  },
  {
   "cell_type": "code",
   "execution_count": 29,
   "metadata": {},
   "outputs": [
    {
     "name": "stdout",
     "output_type": "stream",
     "text": [
      "EvaluatorHoldout: Processed 69805 (100.0%) in 2.89 min. Users per second: 402\n"
     ]
    },
    {
     "data": {
      "text/html": [
       "<div>\n",
       "<style scoped>\n",
       "    .dataframe tbody tr th:only-of-type {\n",
       "        vertical-align: middle;\n",
       "    }\n",
       "\n",
       "    .dataframe tbody tr th {\n",
       "        vertical-align: top;\n",
       "    }\n",
       "\n",
       "    .dataframe thead th {\n",
       "        text-align: right;\n",
       "    }\n",
       "</style>\n",
       "<table border=\"1\" class=\"dataframe\">\n",
       "  <thead>\n",
       "    <tr style=\"text-align: right;\">\n",
       "      <th></th>\n",
       "      <th>PRECISION</th>\n",
       "      <th>PRECISION_RECALL_MIN_DEN</th>\n",
       "      <th>RECALL</th>\n",
       "      <th>MAP</th>\n",
       "      <th>MAP_MIN_DEN</th>\n",
       "      <th>MRR</th>\n",
       "      <th>NDCG</th>\n",
       "      <th>F1</th>\n",
       "      <th>HIT_RATE</th>\n",
       "      <th>ARHR_ALL_HITS</th>\n",
       "      <th>...</th>\n",
       "      <th>COVERAGE_ITEM_CORRECT</th>\n",
       "      <th>COVERAGE_USER</th>\n",
       "      <th>COVERAGE_USER_CORRECT</th>\n",
       "      <th>DIVERSITY_GINI</th>\n",
       "      <th>SHANNON_ENTROPY</th>\n",
       "      <th>RATIO_DIVERSITY_HERFINDAHL</th>\n",
       "      <th>RATIO_DIVERSITY_GINI</th>\n",
       "      <th>RATIO_SHANNON_ENTROPY</th>\n",
       "      <th>RATIO_AVERAGE_POPULARITY</th>\n",
       "      <th>RATIO_NOVELTY</th>\n",
       "    </tr>\n",
       "    <tr>\n",
       "      <th>cutoff</th>\n",
       "      <th></th>\n",
       "      <th></th>\n",
       "      <th></th>\n",
       "      <th></th>\n",
       "      <th></th>\n",
       "      <th></th>\n",
       "      <th></th>\n",
       "      <th></th>\n",
       "      <th></th>\n",
       "      <th></th>\n",
       "      <th></th>\n",
       "      <th></th>\n",
       "      <th></th>\n",
       "      <th></th>\n",
       "      <th></th>\n",
       "      <th></th>\n",
       "      <th></th>\n",
       "      <th></th>\n",
       "      <th></th>\n",
       "      <th></th>\n",
       "      <th></th>\n",
       "    </tr>\n",
       "  </thead>\n",
       "  <tbody>\n",
       "    <tr>\n",
       "      <th>5</th>\n",
       "      <td>0.311568</td>\n",
       "      <td>0.31824</td>\n",
       "      <td>0.103998</td>\n",
       "      <td>0.230186</td>\n",
       "      <td>0.234289</td>\n",
       "      <td>0.515758</td>\n",
       "      <td>0.241143</td>\n",
       "      <td>0.155944</td>\n",
       "      <td>0.724332</td>\n",
       "      <td>0.773383</td>\n",
       "      <td>...</td>\n",
       "      <td>0.075836</td>\n",
       "      <td>0.998955</td>\n",
       "      <td>0.723575</td>\n",
       "      <td>0.009682</td>\n",
       "      <td>6.970848</td>\n",
       "      <td>0.986868</td>\n",
       "      <td>0.04974</td>\n",
       "      <td>0.615551</td>\n",
       "      <td>1.9305</td>\n",
       "      <td>0.039192</td>\n",
       "    </tr>\n",
       "    <tr>\n",
       "      <th>10</th>\n",
       "      <td>0.26773</td>\n",
       "      <td>0.306406</td>\n",
       "      <td>0.169867</td>\n",
       "      <td>0.171386</td>\n",
       "      <td>0.191499</td>\n",
       "      <td>0.528319</td>\n",
       "      <td>0.251792</td>\n",
       "      <td>0.207856</td>\n",
       "      <td>0.81679</td>\n",
       "      <td>0.919716</td>\n",
       "      <td>...</td>\n",
       "      <td>0.101582</td>\n",
       "      <td>0.998955</td>\n",
       "      <td>0.815936</td>\n",
       "      <td>0.012401</td>\n",
       "      <td>7.379472</td>\n",
       "      <td>0.990963</td>\n",
       "      <td>0.063708</td>\n",
       "      <td>0.651634</td>\n",
       "      <td>1.829649</td>\n",
       "      <td>0.07913</td>\n",
       "    </tr>\n",
       "    <tr>\n",
       "      <th>20</th>\n",
       "      <td>0.218631</td>\n",
       "      <td>0.333019</td>\n",
       "      <td>0.258057</td>\n",
       "      <td>0.121338</td>\n",
       "      <td>0.172511</td>\n",
       "      <td>0.532908</td>\n",
       "      <td>0.27555</td>\n",
       "      <td>0.236714</td>\n",
       "      <td>0.881427</td>\n",
       "      <td>1.03504</td>\n",
       "      <td>...</td>\n",
       "      <td>0.133789</td>\n",
       "      <td>0.998955</td>\n",
       "      <td>0.880506</td>\n",
       "      <td>0.016322</td>\n",
       "      <td>7.807952</td>\n",
       "      <td>0.993838</td>\n",
       "      <td>0.083852</td>\n",
       "      <td>0.689471</td>\n",
       "      <td>1.706362</td>\n",
       "      <td>0.160229</td>\n",
       "    </tr>\n",
       "  </tbody>\n",
       "</table>\n",
       "<p>3 rows × 25 columns</p>\n",
       "</div>"
      ],
      "text/plain": [
       "       PRECISION PRECISION_RECALL_MIN_DEN    RECALL       MAP MAP_MIN_DEN  \\\n",
       "cutoff                                                                      \n",
       "5       0.311568                  0.31824  0.103998  0.230186    0.234289   \n",
       "10       0.26773                 0.306406  0.169867  0.171386    0.191499   \n",
       "20      0.218631                 0.333019  0.258057  0.121338    0.172511   \n",
       "\n",
       "             MRR      NDCG        F1  HIT_RATE ARHR_ALL_HITS  ...  \\\n",
       "cutoff                                                        ...   \n",
       "5       0.515758  0.241143  0.155944  0.724332      0.773383  ...   \n",
       "10      0.528319  0.251792  0.207856   0.81679      0.919716  ...   \n",
       "20      0.532908   0.27555  0.236714  0.881427       1.03504  ...   \n",
       "\n",
       "       COVERAGE_ITEM_CORRECT COVERAGE_USER COVERAGE_USER_CORRECT  \\\n",
       "cutoff                                                             \n",
       "5                   0.075836      0.998955              0.723575   \n",
       "10                  0.101582      0.998955              0.815936   \n",
       "20                  0.133789      0.998955              0.880506   \n",
       "\n",
       "       DIVERSITY_GINI SHANNON_ENTROPY RATIO_DIVERSITY_HERFINDAHL  \\\n",
       "cutoff                                                             \n",
       "5            0.009682        6.970848                   0.986868   \n",
       "10           0.012401        7.379472                   0.990963   \n",
       "20           0.016322        7.807952                   0.993838   \n",
       "\n",
       "       RATIO_DIVERSITY_GINI RATIO_SHANNON_ENTROPY RATIO_AVERAGE_POPULARITY  \\\n",
       "cutoff                                                                       \n",
       "5                   0.04974              0.615551                   1.9305   \n",
       "10                 0.063708              0.651634                 1.829649   \n",
       "20                 0.083852              0.689471                 1.706362   \n",
       "\n",
       "       RATIO_NOVELTY  \n",
       "cutoff                \n",
       "5           0.039192  \n",
       "10           0.07913  \n",
       "20          0.160229  \n",
       "\n",
       "[3 rows x 25 columns]"
      ]
     },
     "execution_count": 29,
     "metadata": {},
     "output_type": "execute_result"
    }
   ],
   "source": [
    "results_df, _ = evaluator_test.evaluateRecommender(itemKNNCF)\n",
    "results_df"
   ]
  },
  {
   "cell_type": "code",
   "execution_count": 30,
   "metadata": {},
   "outputs": [
    {
     "name": "stdout",
     "output_type": "stream",
     "text": [
      "EvaluatorHoldout: Processed 69805 (100.0%) in 2.24 min. Users per second: 520\n"
     ]
    },
    {
     "data": {
      "text/html": [
       "<div>\n",
       "<style scoped>\n",
       "    .dataframe tbody tr th:only-of-type {\n",
       "        vertical-align: middle;\n",
       "    }\n",
       "\n",
       "    .dataframe tbody tr th {\n",
       "        vertical-align: top;\n",
       "    }\n",
       "\n",
       "    .dataframe thead th {\n",
       "        text-align: right;\n",
       "    }\n",
       "</style>\n",
       "<table border=\"1\" class=\"dataframe\">\n",
       "  <thead>\n",
       "    <tr style=\"text-align: right;\">\n",
       "      <th></th>\n",
       "      <th>PRECISION</th>\n",
       "      <th>PRECISION_RECALL_MIN_DEN</th>\n",
       "      <th>RECALL</th>\n",
       "      <th>MAP</th>\n",
       "      <th>MAP_MIN_DEN</th>\n",
       "      <th>MRR</th>\n",
       "      <th>NDCG</th>\n",
       "      <th>F1</th>\n",
       "      <th>HIT_RATE</th>\n",
       "      <th>ARHR_ALL_HITS</th>\n",
       "      <th>...</th>\n",
       "      <th>COVERAGE_ITEM_CORRECT</th>\n",
       "      <th>COVERAGE_USER</th>\n",
       "      <th>COVERAGE_USER_CORRECT</th>\n",
       "      <th>DIVERSITY_GINI</th>\n",
       "      <th>SHANNON_ENTROPY</th>\n",
       "      <th>RATIO_DIVERSITY_HERFINDAHL</th>\n",
       "      <th>RATIO_DIVERSITY_GINI</th>\n",
       "      <th>RATIO_SHANNON_ENTROPY</th>\n",
       "      <th>RATIO_AVERAGE_POPULARITY</th>\n",
       "      <th>RATIO_NOVELTY</th>\n",
       "    </tr>\n",
       "    <tr>\n",
       "      <th>cutoff</th>\n",
       "      <th></th>\n",
       "      <th></th>\n",
       "      <th></th>\n",
       "      <th></th>\n",
       "      <th></th>\n",
       "      <th></th>\n",
       "      <th></th>\n",
       "      <th></th>\n",
       "      <th></th>\n",
       "      <th></th>\n",
       "      <th></th>\n",
       "      <th></th>\n",
       "      <th></th>\n",
       "      <th></th>\n",
       "      <th></th>\n",
       "      <th></th>\n",
       "      <th></th>\n",
       "      <th></th>\n",
       "      <th></th>\n",
       "      <th></th>\n",
       "      <th></th>\n",
       "    </tr>\n",
       "  </thead>\n",
       "  <tbody>\n",
       "    <tr>\n",
       "      <th>5</th>\n",
       "      <td>0.132996</td>\n",
       "      <td>0.134467</td>\n",
       "      <td>0.032536</td>\n",
       "      <td>0.089544</td>\n",
       "      <td>0.090417</td>\n",
       "      <td>0.282975</td>\n",
       "      <td>0.111531</td>\n",
       "      <td>0.052282</td>\n",
       "      <td>0.432362</td>\n",
       "      <td>0.354832</td>\n",
       "      <td>...</td>\n",
       "      <td>0.019567</td>\n",
       "      <td>0.998955</td>\n",
       "      <td>0.43191</td>\n",
       "      <td>0.002467</td>\n",
       "      <td>4.889391</td>\n",
       "      <td>0.943808</td>\n",
       "      <td>0.012672</td>\n",
       "      <td>0.431751</td>\n",
       "      <td>1.900615</td>\n",
       "      <td>0.039605</td>\n",
       "    </tr>\n",
       "    <tr>\n",
       "      <th>10</th>\n",
       "      <td>0.107369</td>\n",
       "      <td>0.115891</td>\n",
       "      <td>0.05029</td>\n",
       "      <td>0.058554</td>\n",
       "      <td>0.062473</td>\n",
       "      <td>0.297552</td>\n",
       "      <td>0.107655</td>\n",
       "      <td>0.068498</td>\n",
       "      <td>0.540362</td>\n",
       "      <td>0.408644</td>\n",
       "      <td>...</td>\n",
       "      <td>0.024623</td>\n",
       "      <td>0.998955</td>\n",
       "      <td>0.539798</td>\n",
       "      <td>0.003516</td>\n",
       "      <td>5.476874</td>\n",
       "      <td>0.963596</td>\n",
       "      <td>0.01806</td>\n",
       "      <td>0.483628</td>\n",
       "      <td>1.689557</td>\n",
       "      <td>0.081138</td>\n",
       "    </tr>\n",
       "    <tr>\n",
       "      <th>20</th>\n",
       "      <td>0.077085</td>\n",
       "      <td>0.102555</td>\n",
       "      <td>0.069606</td>\n",
       "      <td>0.035134</td>\n",
       "      <td>0.0447</td>\n",
       "      <td>0.302905</td>\n",
       "      <td>0.105773</td>\n",
       "      <td>0.073155</td>\n",
       "      <td>0.616045</td>\n",
       "      <td>0.440872</td>\n",
       "      <td>...</td>\n",
       "      <td>0.033705</td>\n",
       "      <td>0.998955</td>\n",
       "      <td>0.615401</td>\n",
       "      <td>0.005227</td>\n",
       "      <td>6.132445</td>\n",
       "      <td>0.979353</td>\n",
       "      <td>0.026854</td>\n",
       "      <td>0.541517</td>\n",
       "      <td>1.35263</td>\n",
       "      <td>0.170255</td>\n",
       "    </tr>\n",
       "  </tbody>\n",
       "</table>\n",
       "<p>3 rows × 25 columns</p>\n",
       "</div>"
      ],
      "text/plain": [
       "       PRECISION PRECISION_RECALL_MIN_DEN    RECALL       MAP MAP_MIN_DEN  \\\n",
       "cutoff                                                                      \n",
       "5       0.132996                 0.134467  0.032536  0.089544    0.090417   \n",
       "10      0.107369                 0.115891   0.05029  0.058554    0.062473   \n",
       "20      0.077085                 0.102555  0.069606  0.035134      0.0447   \n",
       "\n",
       "             MRR      NDCG        F1  HIT_RATE ARHR_ALL_HITS  ...  \\\n",
       "cutoff                                                        ...   \n",
       "5       0.282975  0.111531  0.052282  0.432362      0.354832  ...   \n",
       "10      0.297552  0.107655  0.068498  0.540362      0.408644  ...   \n",
       "20      0.302905  0.105773  0.073155  0.616045      0.440872  ...   \n",
       "\n",
       "       COVERAGE_ITEM_CORRECT COVERAGE_USER COVERAGE_USER_CORRECT  \\\n",
       "cutoff                                                             \n",
       "5                   0.019567      0.998955               0.43191   \n",
       "10                  0.024623      0.998955              0.539798   \n",
       "20                  0.033705      0.998955              0.615401   \n",
       "\n",
       "       DIVERSITY_GINI SHANNON_ENTROPY RATIO_DIVERSITY_HERFINDAHL  \\\n",
       "cutoff                                                             \n",
       "5            0.002467        4.889391                   0.943808   \n",
       "10           0.003516        5.476874                   0.963596   \n",
       "20           0.005227        6.132445                   0.979353   \n",
       "\n",
       "       RATIO_DIVERSITY_GINI RATIO_SHANNON_ENTROPY RATIO_AVERAGE_POPULARITY  \\\n",
       "cutoff                                                                       \n",
       "5                  0.012672              0.431751                 1.900615   \n",
       "10                  0.01806              0.483628                 1.689557   \n",
       "20                 0.026854              0.541517                  1.35263   \n",
       "\n",
       "       RATIO_NOVELTY  \n",
       "cutoff                \n",
       "5           0.039605  \n",
       "10          0.081138  \n",
       "20          0.170255  \n",
       "\n",
       "[3 rows x 25 columns]"
      ]
     },
     "execution_count": 30,
     "metadata": {},
     "output_type": "execute_result"
    }
   ],
   "source": [
    "results_df, _ = evaluator_test.evaluateRecommender(itemKNNCBF)\n",
    "results_df"
   ]
  },
  {
   "cell_type": "code",
   "execution_count": 31,
   "metadata": {},
   "outputs": [
    {
     "name": "stdout",
     "output_type": "stream",
     "text": [
      "EvaluatorHoldout: Processed 69805 (100.0%) in 1.91 min. Users per second: 610\n"
     ]
    },
    {
     "data": {
      "text/html": [
       "<div>\n",
       "<style scoped>\n",
       "    .dataframe tbody tr th:only-of-type {\n",
       "        vertical-align: middle;\n",
       "    }\n",
       "\n",
       "    .dataframe tbody tr th {\n",
       "        vertical-align: top;\n",
       "    }\n",
       "\n",
       "    .dataframe thead th {\n",
       "        text-align: right;\n",
       "    }\n",
       "</style>\n",
       "<table border=\"1\" class=\"dataframe\">\n",
       "  <thead>\n",
       "    <tr style=\"text-align: right;\">\n",
       "      <th></th>\n",
       "      <th>PRECISION</th>\n",
       "      <th>PRECISION_RECALL_MIN_DEN</th>\n",
       "      <th>RECALL</th>\n",
       "      <th>MAP</th>\n",
       "      <th>MAP_MIN_DEN</th>\n",
       "      <th>MRR</th>\n",
       "      <th>NDCG</th>\n",
       "      <th>F1</th>\n",
       "      <th>HIT_RATE</th>\n",
       "      <th>ARHR_ALL_HITS</th>\n",
       "      <th>...</th>\n",
       "      <th>COVERAGE_ITEM_CORRECT</th>\n",
       "      <th>COVERAGE_USER</th>\n",
       "      <th>COVERAGE_USER_CORRECT</th>\n",
       "      <th>DIVERSITY_GINI</th>\n",
       "      <th>SHANNON_ENTROPY</th>\n",
       "      <th>RATIO_DIVERSITY_HERFINDAHL</th>\n",
       "      <th>RATIO_DIVERSITY_GINI</th>\n",
       "      <th>RATIO_SHANNON_ENTROPY</th>\n",
       "      <th>RATIO_AVERAGE_POPULARITY</th>\n",
       "      <th>RATIO_NOVELTY</th>\n",
       "    </tr>\n",
       "    <tr>\n",
       "      <th>cutoff</th>\n",
       "      <th></th>\n",
       "      <th></th>\n",
       "      <th></th>\n",
       "      <th></th>\n",
       "      <th></th>\n",
       "      <th></th>\n",
       "      <th></th>\n",
       "      <th></th>\n",
       "      <th></th>\n",
       "      <th></th>\n",
       "      <th></th>\n",
       "      <th></th>\n",
       "      <th></th>\n",
       "      <th></th>\n",
       "      <th></th>\n",
       "      <th></th>\n",
       "      <th></th>\n",
       "      <th></th>\n",
       "      <th></th>\n",
       "      <th></th>\n",
       "      <th></th>\n",
       "    </tr>\n",
       "  </thead>\n",
       "  <tbody>\n",
       "    <tr>\n",
       "      <th>5</th>\n",
       "      <td>0.128581</td>\n",
       "      <td>0.129655</td>\n",
       "      <td>0.028334</td>\n",
       "      <td>0.083702</td>\n",
       "      <td>0.08426</td>\n",
       "      <td>0.251594</td>\n",
       "      <td>0.105564</td>\n",
       "      <td>0.046435</td>\n",
       "      <td>0.40722</td>\n",
       "      <td>0.323352</td>\n",
       "      <td>...</td>\n",
       "      <td>0.020316</td>\n",
       "      <td>0.998955</td>\n",
       "      <td>0.406795</td>\n",
       "      <td>0.002513</td>\n",
       "      <td>4.922491</td>\n",
       "      <td>0.946743</td>\n",
       "      <td>0.01291</td>\n",
       "      <td>0.434674</td>\n",
       "      <td>1.729163</td>\n",
       "      <td>0.040789</td>\n",
       "    </tr>\n",
       "    <tr>\n",
       "      <th>10</th>\n",
       "      <td>0.114579</td>\n",
       "      <td>0.122349</td>\n",
       "      <td>0.050053</td>\n",
       "      <td>0.059636</td>\n",
       "      <td>0.062446</td>\n",
       "      <td>0.268868</td>\n",
       "      <td>0.107934</td>\n",
       "      <td>0.06967</td>\n",
       "      <td>0.537025</td>\n",
       "      <td>0.388664</td>\n",
       "      <td>...</td>\n",
       "      <td>0.027057</td>\n",
       "      <td>0.998955</td>\n",
       "      <td>0.536464</td>\n",
       "      <td>0.00368</td>\n",
       "      <td>5.547019</td>\n",
       "      <td>0.966322</td>\n",
       "      <td>0.018904</td>\n",
       "      <td>0.489822</td>\n",
       "      <td>1.648456</td>\n",
       "      <td>0.082043</td>\n",
       "    </tr>\n",
       "    <tr>\n",
       "      <th>20</th>\n",
       "      <td>0.10095</td>\n",
       "      <td>0.13071</td>\n",
       "      <td>0.08555</td>\n",
       "      <td>0.04246</td>\n",
       "      <td>0.050417</td>\n",
       "      <td>0.277722</td>\n",
       "      <td>0.118983</td>\n",
       "      <td>0.092614</td>\n",
       "      <td>0.663505</td>\n",
       "      <td>0.447737</td>\n",
       "      <td>...</td>\n",
       "      <td>0.038667</td>\n",
       "      <td>0.998955</td>\n",
       "      <td>0.662812</td>\n",
       "      <td>0.005806</td>\n",
       "      <td>6.297284</td>\n",
       "      <td>0.981422</td>\n",
       "      <td>0.029827</td>\n",
       "      <td>0.556073</td>\n",
       "      <td>1.548863</td>\n",
       "      <td>0.165274</td>\n",
       "    </tr>\n",
       "  </tbody>\n",
       "</table>\n",
       "<p>3 rows × 25 columns</p>\n",
       "</div>"
      ],
      "text/plain": [
       "       PRECISION PRECISION_RECALL_MIN_DEN    RECALL       MAP MAP_MIN_DEN  \\\n",
       "cutoff                                                                      \n",
       "5       0.128581                 0.129655  0.028334  0.083702     0.08426   \n",
       "10      0.114579                 0.122349  0.050053  0.059636    0.062446   \n",
       "20       0.10095                  0.13071   0.08555   0.04246    0.050417   \n",
       "\n",
       "             MRR      NDCG        F1  HIT_RATE ARHR_ALL_HITS  ...  \\\n",
       "cutoff                                                        ...   \n",
       "5       0.251594  0.105564  0.046435   0.40722      0.323352  ...   \n",
       "10      0.268868  0.107934   0.06967  0.537025      0.388664  ...   \n",
       "20      0.277722  0.118983  0.092614  0.663505      0.447737  ...   \n",
       "\n",
       "       COVERAGE_ITEM_CORRECT COVERAGE_USER COVERAGE_USER_CORRECT  \\\n",
       "cutoff                                                             \n",
       "5                   0.020316      0.998955              0.406795   \n",
       "10                  0.027057      0.998955              0.536464   \n",
       "20                  0.038667      0.998955              0.662812   \n",
       "\n",
       "       DIVERSITY_GINI SHANNON_ENTROPY RATIO_DIVERSITY_HERFINDAHL  \\\n",
       "cutoff                                                             \n",
       "5            0.002513        4.922491                   0.946743   \n",
       "10            0.00368        5.547019                   0.966322   \n",
       "20           0.005806        6.297284                   0.981422   \n",
       "\n",
       "       RATIO_DIVERSITY_GINI RATIO_SHANNON_ENTROPY RATIO_AVERAGE_POPULARITY  \\\n",
       "cutoff                                                                       \n",
       "5                   0.01291              0.434674                 1.729163   \n",
       "10                 0.018904              0.489822                 1.648456   \n",
       "20                 0.029827              0.556073                 1.548863   \n",
       "\n",
       "       RATIO_NOVELTY  \n",
       "cutoff                \n",
       "5           0.040789  \n",
       "10          0.082043  \n",
       "20          0.165274  \n",
       "\n",
       "[3 rows x 25 columns]"
      ]
     },
     "execution_count": 31,
     "metadata": {},
     "output_type": "execute_result"
    }
   ],
   "source": [
    "results_df, _ = evaluator_test.evaluateRecommender(CFW_weithing)\n",
    "results_df"
   ]
  },
  {
   "cell_type": "markdown",
   "metadata": {},
   "source": [
    "### This algorithm has hyperparameters too:\n",
    "* topK, the usual number of neighbors\n",
    "* add_zeros_quota, the percentage of zero collaborative similarities to add to the train set, this helps the regressor in finding non-relevant features\n",
    "* normalize_similarity, apply or not the usual cosine denominator"
   ]
  },
  {
   "cell_type": "code",
   "execution_count": 32,
   "metadata": {},
   "outputs": [],
   "source": [
    "from HyperparameterTuning.SearchBayesianSkopt import SearchBayesianSkopt\n",
    "from skopt.space import Real, Integer, Categorical\n",
    "from HyperparameterTuning.SearchAbstractClass import SearchInputRecommenderArgs\n",
    "\n",
    "\n",
    "def hyperparameter_optimization_CFW_D(URM_train, ICM_train, W_sparse_CF):\n",
    "\n",
    "    recommender_class = CFW_D_Similarity_Linalg\n",
    "\n",
    "    parameterSearch = SearchBayesianSkopt(recommender_class,\n",
    "                                     evaluator_validation=evaluator_validation,\n",
    "                                     evaluator_test=evaluator_test)\n",
    "\n",
    "\n",
    "    hyperparameters_range_dictionary = {}\n",
    "    hyperparameters_range_dictionary[\"topK\"] = Integer(5, 1000)\n",
    "    hyperparameters_range_dictionary[\"add_zeros_quota\"] = Real(low = 0, high = 1, prior = 'uniform')\n",
    "    hyperparameters_range_dictionary[\"normalize_similarity\"] = Categorical([True, False])\n",
    "\n",
    "\n",
    "    recommender_input_args = SearchInputRecommenderArgs(\n",
    "        CONSTRUCTOR_POSITIONAL_ARGS = [URM_train, ICM_train, W_sparse_CF],\n",
    "        CONSTRUCTOR_KEYWORD_ARGS = {},\n",
    "        FIT_POSITIONAL_ARGS = [],\n",
    "        FIT_KEYWORD_ARGS = {}\n",
    "    )\n",
    "\n",
    "\n",
    "    output_folder_path = \"result_experiments/\"\n",
    "\n",
    "    import os\n",
    "\n",
    "    # If directory does not exist, create\n",
    "    if not os.path.exists(output_folder_path):\n",
    "        os.makedirs(output_folder_path)\n",
    "\n",
    "    n_cases = 10\n",
    "    metric_to_optimize = \"MAP\"\n",
    "    cutoff_to_optimize = 10\n",
    "\n",
    "\n",
    "    # Clone data structure to perform the fitting with the best hyperparameters on train + validation data\n",
    "    recommender_input_args_last_test = recommender_input_args.copy()\n",
    "    recommender_input_args_last_test.CONSTRUCTOR_POSITIONAL_ARGS[0] = URM_train + URM_validation\n",
    "\n",
    "\n",
    "    parameterSearch.search(recommender_input_args,\n",
    "                           recommender_input_args_last_test = recommender_input_args_last_test,\n",
    "                           hyperparameter_search_space = hyperparameters_range_dictionary,\n",
    "                           n_cases = n_cases,\n",
    "                           n_random_starts = int(n_cases/3),\n",
    "                           save_model = \"no\",\n",
    "                           evaluate_on_test = \"last\",\n",
    "                           output_folder_path = output_folder_path,\n",
    "                           output_file_name_root = recommender_class.RECOMMENDER_NAME,\n",
    "                           metric_to_optimize = metric_to_optimize,\n",
    "                           cutoff_to_optimize = cutoff_to_optimize\n",
    "                          )\n"
   ]
  },
  {
   "cell_type": "code",
   "execution_count": 33,
   "metadata": {},
   "outputs": [
    {
     "name": "stdout",
     "output_type": "stream",
     "text": [
      "Iteration No: 1 started. Evaluating function at random point.\n",
      "SearchBayesianSkopt: Testing config: {'topK': 561, 'add_zeros_quota': 0.890362988450008, 'normalize_similarity': False}\n",
      "CFW_D_Similarity_Linalg: URM Detected 46 ( 0.4%) items with no interactions.\n",
      "CFW_D_Similarity_Linalg: ICM Detected 3087 (28.9%) items with no features.\n",
      "CFW_D_Similarity_Linalg: Generating train data\n",
      "Similarity column 10681 (100.0%), 13831.74 column/sec. Elapsed time 0.77 sec\n",
      "CFW_D_Similarity_Linalg: Collaborative S density: 6.50E-02, nonzero cells 7415187\n",
      "CFW_D_Similarity_Linalg: Content S density: 3.00E-02, nonzero cells 3420680\n",
      "CFW_D_Similarity_Linalg: Content S structure has 876028 out of 3420680 (25.6%) nonzero collaborative cells\n",
      "CFW_D_Similarity_Linalg: Nonzero collaborative cell sum is: 1.14E+05, average is: 1.30E-01, average over all collaborative data is 8.64E-02\n",
      "Similarity column 10681 (100.0%), 11892.97 column/sec. Elapsed time 0.90 sec\n",
      "EvaluatorHoldout: Processed 67415 (100.0%) in 2.41 min. Users per second: 467\n",
      "SearchBayesianSkopt: New best config found. Config 0: {'topK': 561, 'add_zeros_quota': 0.890362988450008, 'normalize_similarity': False} - results: PRECISION: 0.0476274, PRECISION_RECALL_MIN_DEN: 0.0681745, RECALL: 0.0502769, MAP: 0.0204555, MAP_MIN_DEN: 0.0287219, MRR: 0.1405649, NDCG: 0.0632135, F1: 0.0489163, HIT_RATE: 0.3270489, ARHR_ALL_HITS: 0.1685708, NOVELTY: 0.0087325, AVERAGE_POPULARITY: 0.5307364, DIVERSITY_MEAN_INTER_LIST: 0.5594035, DIVERSITY_HERFINDAHL: 0.9559395, COVERAGE_ITEM: 0.0518678, COVERAGE_ITEM_CORRECT: 0.0148862, COVERAGE_USER: 0.9647529, COVERAGE_USER_CORRECT: 0.3155213, DIVERSITY_GINI: 0.0024119, SHANNON_ENTROPY: 4.9899501, RATIO_DIVERSITY_HERFINDAHL: 0.9566611, RATIO_DIVERSITY_GINI: 0.0123907, RATIO_SHANNON_ENTROPY: 0.4406308, RATIO_AVERAGE_POPULARITY: 1.8424149, RATIO_NOVELTY: 0.0799342, \n",
      "\n",
      "Iteration No: 1 ended. Evaluation done at random point.\n",
      "Time taken: 630.7205\n",
      "Function value obtained: -0.0205\n",
      "Current minimum: -0.0205\n",
      "Iteration No: 2 started. Evaluating function at random point.\n",
      "SearchBayesianSkopt: Testing config: {'topK': 388, 'add_zeros_quota': 0.5694595906365112, 'normalize_similarity': True}\n",
      "CFW_D_Similarity_Linalg: URM Detected 46 ( 0.4%) items with no interactions.\n",
      "CFW_D_Similarity_Linalg: ICM Detected 3087 (28.9%) items with no features.\n",
      "CFW_D_Similarity_Linalg: Generating train data\n",
      "Similarity column 10681 (100.0%), 9387.12 column/sec. Elapsed time 1.14 sec\n",
      "CFW_D_Similarity_Linalg: Collaborative S density: 6.50E-02, nonzero cells 7415187\n",
      "CFW_D_Similarity_Linalg: Content S density: 2.18E-02, nonzero cells 2485981\n",
      "CFW_D_Similarity_Linalg: Content S structure has 683738 out of 2485981 (27.5%) nonzero collaborative cells\n",
      "CFW_D_Similarity_Linalg: Nonzero collaborative cell sum is: 2.38E+07, average is: 3.49E+01, average over all collaborative data is 8.64E-02\n",
      "Similarity column 10681 (100.0%), 7471.65 column/sec. Elapsed time 1.43 sec\n",
      "EvaluatorHoldout: Processed 67415 (100.0%) in 1.91 min. Users per second: 587\n",
      "SearchBayesianSkopt: Config 1 is suboptimal. Config: {'topK': 388, 'add_zeros_quota': 0.5694595906365112, 'normalize_similarity': True} - results: PRECISION: 0.0021138, PRECISION_RECALL_MIN_DEN: 0.0031189, RECALL: 0.0022436, MAP: 0.0006763, MAP_MIN_DEN: 0.0009222, MRR: 0.0064283, NDCG: 0.0015678, F1: 0.0021767, HIT_RATE: 0.0201142, ARHR_ALL_HITS: 0.0065926, NOVELTY: 0.0138864, AVERAGE_POPULARITY: 0.0253383, DIVERSITY_MEAN_INTER_LIST: 0.7398033, DIVERSITY_HERFINDAHL: 0.9739792, COVERAGE_ITEM: 0.1379084, COVERAGE_ITEM_CORRECT: 0.0159161, COVERAGE_USER: 0.9647529, COVERAGE_USER_CORRECT: 0.0194052, DIVERSITY_GINI: 0.0075605, SHANNON_ENTROPY: 6.3582520, RATIO_DIVERSITY_HERFINDAHL: 0.9747144, RATIO_DIVERSITY_GINI: 0.0388401, RATIO_SHANNON_ENTROPY: 0.5614569, RATIO_AVERAGE_POPULARITY: 0.0879602, RATIO_NOVELTY: 0.1271115, \n",
      "\n",
      "Iteration No: 2 ended. Evaluation done at random point.\n",
      "Time taken: 463.0433\n",
      "Function value obtained: -0.0007\n",
      "Current minimum: -0.0205\n",
      "Iteration No: 3 started. Evaluating function at random point.\n",
      "SearchBayesianSkopt: Testing config: {'topK': 328, 'add_zeros_quota': 0.7559756110029718, 'normalize_similarity': True}\n",
      "CFW_D_Similarity_Linalg: URM Detected 46 ( 0.4%) items with no interactions.\n",
      "CFW_D_Similarity_Linalg: ICM Detected 3087 (28.9%) items with no features.\n",
      "CFW_D_Similarity_Linalg: Generating train data\n",
      "Similarity column 10681 (100.0%), 13637.96 column/sec. Elapsed time 0.78 sec\n",
      "CFW_D_Similarity_Linalg: Collaborative S density: 6.50E-02, nonzero cells 7415187\n",
      "CFW_D_Similarity_Linalg: Content S density: 1.88E-02, nonzero cells 2140865\n",
      "CFW_D_Similarity_Linalg: Content S structure has 606078 out of 2140865 (28.3%) nonzero collaborative cells\n",
      "CFW_D_Similarity_Linalg: Nonzero collaborative cell sum is: 2.19E+07, average is: 3.62E+01, average over all collaborative data is 8.64E-02\n",
      "Similarity column 10681 (100.0%), 7263.43 column/sec. Elapsed time 1.47 sec\n",
      "EvaluatorHoldout: Processed 67415 (100.0%) in 2.25 min. Users per second: 500\n",
      "SearchBayesianSkopt: Config 2 is suboptimal. Config: {'topK': 328, 'add_zeros_quota': 0.7559756110029718, 'normalize_similarity': True} - results: PRECISION: 0.0021509, PRECISION_RECALL_MIN_DEN: 0.0031996, RECALL: 0.0023128, MAP: 0.0006494, MAP_MIN_DEN: 0.0008941, MRR: 0.0061253, NDCG: 0.0016284, F1: 0.0022289, HIT_RATE: 0.0203367, ARHR_ALL_HITS: 0.0063063, NOVELTY: 0.0139382, AVERAGE_POPULARITY: 0.0249705, DIVERSITY_MEAN_INTER_LIST: 0.7322401, DIVERSITY_HERFINDAHL: 0.9732229, COVERAGE_ITEM: 0.1349125, COVERAGE_ITEM_CORRECT: 0.0159161, COVERAGE_USER: 0.9647529, COVERAGE_USER_CORRECT: 0.0196199, DIVERSITY_GINI: 0.0071161, SHANNON_ENTROPY: 6.2803115, RATIO_DIVERSITY_HERFINDAHL: 0.9739575, RATIO_DIVERSITY_GINI: 0.0365570, RATIO_SHANNON_ENTROPY: 0.5545745, RATIO_AVERAGE_POPULARITY: 0.0866833, RATIO_NOVELTY: 0.1275860, \n",
      "\n",
      "Iteration No: 3 ended. Evaluation done at random point.\n",
      "Time taken: 536.5059\n",
      "Function value obtained: -0.0006\n",
      "Current minimum: -0.0205\n",
      "Iteration No: 4 started. Searching for the next optimal point.\n",
      "SearchBayesianSkopt: Testing config: {'topK': 5, 'add_zeros_quota': 0.0, 'normalize_similarity': False}\n",
      "CFW_D_Similarity_Linalg: URM Detected 46 ( 0.4%) items with no interactions.\n",
      "CFW_D_Similarity_Linalg: ICM Detected 3087 (28.9%) items with no features.\n",
      "CFW_D_Similarity_Linalg: Generating train data\n",
      "Similarity column 10681 (100.0%), 13395.44 column/sec. Elapsed time 0.80 sec\n",
      "CFW_D_Similarity_Linalg: Collaborative S density: 6.50E-02, nonzero cells 7415187\n",
      "CFW_D_Similarity_Linalg: Content S density: 3.31E-04, nonzero cells 37717\n",
      "CFW_D_Similarity_Linalg: Content S structure has 14952 out of 37717 (39.6%) nonzero collaborative cells\n",
      "CFW_D_Similarity_Linalg: Nonzero collaborative cell sum is: 2.18E+03, average is: 1.46E-01, average over all collaborative data is 8.64E-02\n",
      "Similarity column 10681 (100.0%), 12981.72 column/sec. Elapsed time 0.82 sec\n",
      "EvaluatorHoldout: Processed 67415 (100.0%) in 2.36 min. Users per second: 475\n",
      "SearchBayesianSkopt: Config 3 is suboptimal. Config: {'topK': 5, 'add_zeros_quota': 0.0, 'normalize_similarity': False} - results: PRECISION: 0.0322109, PRECISION_RECALL_MIN_DEN: 0.0462006, RECALL: 0.0343855, MAP: 0.0113526, MAP_MIN_DEN: 0.0161512, MRR: 0.0864654, NDCG: 0.0377637, F1: 0.0332627, HIT_RATE: 0.2481347, ARHR_ALL_HITS: 0.0988418, NOVELTY: 0.0099422, AVERAGE_POPULARITY: 0.2984378, DIVERSITY_MEAN_INTER_LIST: 0.9237852, DIVERSITY_HERFINDAHL: 0.9923772, COVERAGE_ITEM: 0.1931467, COVERAGE_ITEM_CORRECT: 0.0446587, COVERAGE_USER: 0.9647529, COVERAGE_USER_CORRECT: 0.2393886, DIVERSITY_GINI: 0.0176886, SHANNON_ENTROPY: 7.8757897, RATIO_DIVERSITY_HERFINDAHL: 0.9931262, RATIO_DIVERSITY_GINI: 0.0908706, RATIO_SHANNON_ENTROPY: 0.6954610, RATIO_AVERAGE_POPULARITY: 1.0360065, RATIO_NOVELTY: 0.0910076, \n",
      "\n",
      "Iteration No: 4 ended. Search finished for the next optimal point.\n",
      "Time taken: 152.4775\n",
      "Function value obtained: -0.0114\n",
      "Current minimum: -0.0205\n",
      "Iteration No: 5 started. Searching for the next optimal point.\n",
      "SearchBayesianSkopt: Testing config: {'topK': 1000, 'add_zeros_quota': 0.017288268337664617, 'normalize_similarity': False}\n",
      "CFW_D_Similarity_Linalg: URM Detected 46 ( 0.4%) items with no interactions.\n",
      "CFW_D_Similarity_Linalg: ICM Detected 3087 (28.9%) items with no features.\n",
      "CFW_D_Similarity_Linalg: Generating train data\n"
     ]
    },
    {
     "name": "stdout",
     "output_type": "stream",
     "text": [
      "Similarity column 10681 (100.0%), 12065.84 column/sec. Elapsed time 0.89 sec\n",
      "CFW_D_Similarity_Linalg: Collaborative S density: 6.50E-02, nonzero cells 7415187\n",
      "CFW_D_Similarity_Linalg: Content S density: 4.73E-02, nonzero cells 5391649\n",
      "CFW_D_Similarity_Linalg: Generating train data. Sample 671315 (12.7%) \n",
      "CFW_D_Similarity_Linalg: Generating train data. Sample 1286544 (24.3%) \n",
      "CFW_D_Similarity_Linalg: Content S structure has 1216982 out of 5391649 (22.6%) nonzero collaborative cells\n",
      "CFW_D_Similarity_Linalg: Nonzero collaborative cell sum is: 1.56E+05, average is: 1.29E-01, average over all collaborative data is 8.64E-02\n",
      "Similarity column 10681 (100.0%), 11487.17 column/sec. Elapsed time 0.93 sec\n",
      "EvaluatorHoldout: Processed 67415 (100.0%) in 2.90 min. Users per second: 388\n",
      "SearchBayesianSkopt: Config 4 is suboptimal. Config: {'topK': 1000, 'add_zeros_quota': 0.017288268337664617, 'normalize_similarity': False} - results: PRECISION: 0.0389424, PRECISION_RECALL_MIN_DEN: 0.0554399, RECALL: 0.0405033, MAP: 0.0157580, MAP_MIN_DEN: 0.0222527, MRR: 0.1145053, NDCG: 0.0510086, F1: 0.0397075, HIT_RATE: 0.2803382, ARHR_ALL_HITS: 0.1335468, NOVELTY: 0.0090642, AVERAGE_POPULARITY: 0.4528623, DIVERSITY_MEAN_INTER_LIST: 0.5040455, DIVERSITY_HERFINDAHL: 0.9504038, COVERAGE_ITEM: 0.0469993, COVERAGE_ITEM_CORRECT: 0.0135755, COVERAGE_USER: 0.9647529, COVERAGE_USER_CORRECT: 0.2704571, DIVERSITY_GINI: 0.0022366, SHANNON_ENTROPY: 4.8548089, RATIO_DIVERSITY_HERFINDAHL: 0.9511212, RATIO_DIVERSITY_GINI: 0.0114899, RATIO_SHANNON_ENTROPY: 0.4286974, RATIO_AVERAGE_POPULARITY: 1.5720803, RATIO_NOVELTY: 0.0829709, \n",
      "\n",
      "Iteration No: 5 ended. Search finished for the next optimal point.\n",
      "Time taken: 494.2557\n",
      "Function value obtained: -0.0158\n",
      "Current minimum: -0.0205\n",
      "Iteration No: 6 started. Searching for the next optimal point.\n",
      "SearchBayesianSkopt: Testing config: {'topK': 703, 'add_zeros_quota': 0.00046478974956365806, 'normalize_similarity': False}\n",
      "CFW_D_Similarity_Linalg: URM Detected 46 ( 0.4%) items with no interactions.\n",
      "CFW_D_Similarity_Linalg: ICM Detected 3087 (28.9%) items with no features.\n",
      "CFW_D_Similarity_Linalg: Generating train data\n",
      "Similarity column 10681 (100.0%), 8223.58 column/sec. Elapsed time 1.30 sec\n",
      "CFW_D_Similarity_Linalg: Collaborative S density: 6.50E-02, nonzero cells 7415187\n",
      "CFW_D_Similarity_Linalg: Content S density: 3.60E-02, nonzero cells 4110621\n",
      "CFW_D_Similarity_Linalg: Generating train data. Sample 649017 (15.8%) \n",
      "CFW_D_Similarity_Linalg: Content S structure has 1003861 out of 4110621 (24.4%) nonzero collaborative cells\n",
      "CFW_D_Similarity_Linalg: Nonzero collaborative cell sum is: 1.30E+05, average is: 1.29E-01, average over all collaborative data is 8.64E-02\n",
      "Similarity column 10681 (100.0%), 9207.64 column/sec. Elapsed time 1.16 sec\n",
      "EvaluatorHoldout: Processed 67415 (100.0%) in 2.53 min. Users per second: 444\n",
      "SearchBayesianSkopt: Config 5 is suboptimal. Config: {'topK': 703, 'add_zeros_quota': 0.00046478974956365806, 'normalize_similarity': False} - results: PRECISION: 0.0404687, PRECISION_RECALL_MIN_DEN: 0.0574533, RECALL: 0.0419781, MAP: 0.0164537, MAP_MIN_DEN: 0.0229656, MRR: 0.1182127, NDCG: 0.0526436, F1: 0.0412096, HIT_RATE: 0.2889268, ARHR_ALL_HITS: 0.1386798, NOVELTY: 0.0090479, AVERAGE_POPULARITY: 0.4559405, DIVERSITY_MEAN_INTER_LIST: 0.5409815, DIVERSITY_HERFINDAHL: 0.9540973, COVERAGE_ITEM: 0.0555191, COVERAGE_ITEM_CORRECT: 0.0157289, COVERAGE_USER: 0.9647529, COVERAGE_USER_CORRECT: 0.2787430, DIVERSITY_GINI: 0.0025015, SHANNON_ENTROPY: 5.0104646, RATIO_DIVERSITY_HERFINDAHL: 0.9548175, RATIO_DIVERSITY_GINI: 0.0128507, RATIO_SHANNON_ENTROPY: 0.4424423, RATIO_AVERAGE_POPULARITY: 1.5827663, RATIO_NOVELTY: 0.0828215, \n",
      "\n",
      "Iteration No: 6 ended. Search finished for the next optimal point.\n",
      "Time taken: 425.9662\n",
      "Function value obtained: -0.0165\n",
      "Current minimum: -0.0205\n",
      "Iteration No: 7 started. Searching for the next optimal point.\n",
      "SearchBayesianSkopt: Testing config: {'topK': 982, 'add_zeros_quota': 0.9968194757250247, 'normalize_similarity': False}\n",
      "CFW_D_Similarity_Linalg: URM Detected 46 ( 0.4%) items with no interactions.\n",
      "CFW_D_Similarity_Linalg: ICM Detected 3087 (28.9%) items with no features.\n",
      "CFW_D_Similarity_Linalg: Generating train data\n",
      "Similarity column 10681 (100.0%), 8075.47 column/sec. Elapsed time 1.32 sec\n",
      "CFW_D_Similarity_Linalg: Collaborative S density: 6.50E-02, nonzero cells 7415187\n",
      "CFW_D_Similarity_Linalg: Content S density: 4.66E-02, nonzero cells 5321204\n",
      "CFW_D_Similarity_Linalg: Generating train data. Sample 2332060 (87.5%) \n",
      "CFW_D_Similarity_Linalg: Content S structure has 1205821 out of 5321204 (22.7%) nonzero collaborative cells\n",
      "CFW_D_Similarity_Linalg: Nonzero collaborative cell sum is: 1.55E+05, average is: 1.29E-01, average over all collaborative data is 8.64E-02\n",
      "Similarity column 10681 (100.0%), 11183.77 column/sec. Elapsed time 0.96 sec\n",
      "EvaluatorHoldout: Processed 67415 (100.0%) in 3.02 min. Users per second: 372\n",
      "SearchBayesianSkopt: Config 6 is suboptimal. Config: {'topK': 982, 'add_zeros_quota': 0.9968194757250247, 'normalize_similarity': False} - results: PRECISION: 0.0457213, PRECISION_RECALL_MIN_DEN: 0.0656390, RECALL: 0.0484941, MAP: 0.0194927, MAP_MIN_DEN: 0.0275383, MRR: 0.1355648, NDCG: 0.0607493, F1: 0.0470669, HIT_RATE: 0.3171698, ARHR_ALL_HITS: 0.1616018, NOVELTY: 0.0087542, AVERAGE_POPULARITY: 0.5276966, DIVERSITY_MEAN_INTER_LIST: 0.5170484, DIVERSITY_HERFINDAHL: 0.9517041, COVERAGE_ITEM: 0.0412883, COVERAGE_ITEM_CORRECT: 0.0123584, COVERAGE_USER: 0.9647529, COVERAGE_USER_CORRECT: 0.3059904, DIVERSITY_GINI: 0.0020972, SHANNON_ENTROPY: 4.7927849, RATIO_DIVERSITY_HERFINDAHL: 0.9524224, RATIO_DIVERSITY_GINI: 0.0107739, RATIO_SHANNON_ENTROPY: 0.4232204, RATIO_AVERAGE_POPULARITY: 1.8318625, RATIO_NOVELTY: 0.0801329, \n",
      "\n",
      "Iteration No: 7 ended. Search finished for the next optimal point.\n",
      "Time taken: 1028.8245\n",
      "Function value obtained: -0.0195\n",
      "Current minimum: -0.0205\n",
      "Iteration No: 8 started. Searching for the next optimal point.\n",
      "SearchBayesianSkopt: Testing config: {'topK': 996, 'add_zeros_quota': 0.8994262681381963, 'normalize_similarity': True}\n",
      "CFW_D_Similarity_Linalg: URM Detected 46 ( 0.4%) items with no interactions.\n",
      "CFW_D_Similarity_Linalg: ICM Detected 3087 (28.9%) items with no features.\n",
      "CFW_D_Similarity_Linalg: Generating train data\n",
      "Similarity column 10681 (100.0%), 7943.49 column/sec. Elapsed time 1.34 sec\n",
      "CFW_D_Similarity_Linalg: Collaborative S density: 6.50E-02, nonzero cells 7415187\n",
      "CFW_D_Similarity_Linalg: Content S density: 4.71E-02, nonzero cells 5376065\n",
      "CFW_D_Similarity_Linalg: Generating train data. Sample 1786038 (63.1%) \n",
      "CFW_D_Similarity_Linalg: Generating train data. Sample 4932913 (174.3%) \n",
      "CFW_D_Similarity_Linalg: Content S structure has 1214547 out of 5376065 (22.6%) nonzero collaborative cells\n",
      "CFW_D_Similarity_Linalg: Nonzero collaborative cell sum is: 3.47E+07, average is: 2.86E+01, average over all collaborative data is 8.64E-02\n",
      "Similarity column 10681 (100.0%), 8418.84 column/sec. Elapsed time 1.27 sec\n",
      "EvaluatorHoldout: Processed 67415 (100.0%) in 2.20 min. Users per second: 510\n",
      "SearchBayesianSkopt: Config 7 is suboptimal. Config: {'topK': 996, 'add_zeros_quota': 0.8994262681381963, 'normalize_similarity': True} - results: PRECISION: 0.0030438, PRECISION_RECALL_MIN_DEN: 0.0048178, RECALL: 0.0037729, MAP: 0.0008136, MAP_MIN_DEN: 0.0011659, MRR: 0.0077621, NDCG: 0.0023896, F1: 0.0033694, HIT_RATE: 0.0292517, ARHR_ALL_HITS: 0.0079476, NOVELTY: 0.0133853, AVERAGE_POPULARITY: 0.0385044, DIVERSITY_MEAN_INTER_LIST: 0.7073728, DIVERSITY_HERFINDAHL: 0.9707362, COVERAGE_ITEM: 0.1188091, COVERAGE_ITEM_CORRECT: 0.0162906, COVERAGE_USER: 0.9647529, COVERAGE_USER_CORRECT: 0.0282206, DIVERSITY_GINI: 0.0059815, SHANNON_ENTROPY: 6.0480413, RATIO_DIVERSITY_HERFINDAHL: 0.9714689, RATIO_DIVERSITY_GINI: 0.0307286, RATIO_SHANNON_ENTROPY: 0.5340641, RATIO_AVERAGE_POPULARITY: 0.1336655, RATIO_NOVELTY: 0.1225248, \n",
      "\n",
      "Iteration No: 8 ended. Search finished for the next optimal point.\n",
      "Time taken: 1070.1009\n",
      "Function value obtained: -0.0008\n",
      "Current minimum: -0.0205\n",
      "Iteration No: 9 started. Searching for the next optimal point.\n",
      "SearchBayesianSkopt: Testing config: {'topK': 700, 'add_zeros_quota': 1.0, 'normalize_similarity': False}\n"
     ]
    },
    {
     "name": "stdout",
     "output_type": "stream",
     "text": [
      "CFW_D_Similarity_Linalg: URM Detected 46 ( 0.4%) items with no interactions.\n",
      "CFW_D_Similarity_Linalg: ICM Detected 3087 (28.9%) items with no features.\n",
      "CFW_D_Similarity_Linalg: Generating train data\n",
      "Similarity column 10681 (100.0%), 12027.20 column/sec. Elapsed time 0.89 sec\n",
      "CFW_D_Similarity_Linalg: Collaborative S density: 6.50E-02, nonzero cells 7415187\n",
      "CFW_D_Similarity_Linalg: Content S density: 3.59E-02, nonzero cells 4096717\n",
      "CFW_D_Similarity_Linalg: Generating train data. Sample 2719494 (132.8%) \n",
      "CFW_D_Similarity_Linalg: Content S structure has 1001348 out of 4096717 (24.4%) nonzero collaborative cells\n",
      "CFW_D_Similarity_Linalg: Nonzero collaborative cell sum is: 1.30E+05, average is: 1.29E-01, average over all collaborative data is 8.64E-02\n",
      "Similarity column 10681 (100.0%), 12991.43 column/sec. Elapsed time 0.82 sec\n",
      "EvaluatorHoldout: Processed 67415 (100.0%) in 2.28 min. Users per second: 494\n",
      "SearchBayesianSkopt: Config 8 is suboptimal. Config: {'topK': 700, 'add_zeros_quota': 1.0, 'normalize_similarity': False} - results: PRECISION: 0.0469465, PRECISION_RECALL_MIN_DEN: 0.0672717, RECALL: 0.0496600, MAP: 0.0200355, MAP_MIN_DEN: 0.0281397, MRR: 0.1381368, NDCG: 0.0621028, F1: 0.0482652, HIT_RATE: 0.3238003, ARHR_ALL_HITS: 0.1653766, NOVELTY: 0.0087307, AVERAGE_POPULARITY: 0.5319740, DIVERSITY_MEAN_INTER_LIST: 0.5385547, DIVERSITY_HERFINDAHL: 0.9538547, COVERAGE_ITEM: 0.0477483, COVERAGE_ITEM_CORRECT: 0.0140436, COVERAGE_USER: 0.9647529, COVERAGE_USER_CORRECT: 0.3123873, DIVERSITY_GINI: 0.0022525, SHANNON_ENTROPY: 4.8938890, RATIO_DIVERSITY_HERFINDAHL: 0.9545746, RATIO_DIVERSITY_GINI: 0.0115714, RATIO_SHANNON_ENTROPY: 0.4321483, RATIO_AVERAGE_POPULARITY: 1.8467114, RATIO_NOVELTY: 0.0799184, \n",
      "\n",
      "Iteration No: 9 ended. Search finished for the next optimal point.\n",
      "Time taken: 818.3961\n",
      "Function value obtained: -0.0200\n",
      "Current minimum: -0.0205\n",
      "Iteration No: 10 started. Searching for the next optimal point.\n",
      "SearchBayesianSkopt: Testing config: {'topK': 10, 'add_zeros_quota': 0.9837508786196454, 'normalize_similarity': False}\n",
      "CFW_D_Similarity_Linalg: URM Detected 46 ( 0.4%) items with no interactions.\n",
      "CFW_D_Similarity_Linalg: ICM Detected 3087 (28.9%) items with no features.\n",
      "CFW_D_Similarity_Linalg: Generating train data\n",
      "Similarity column 10681 (100.0%), 13183.69 column/sec. Elapsed time 0.81 sec\n",
      "CFW_D_Similarity_Linalg: Collaborative S density: 6.50E-02, nonzero cells 7415187\n",
      "CFW_D_Similarity_Linalg: Content S density: 6.58E-04, nonzero cells 75106\n",
      "CFW_D_Similarity_Linalg: Content S structure has 29300 out of 75106 (39.0%) nonzero collaborative cells\n",
      "CFW_D_Similarity_Linalg: Nonzero collaborative cell sum is: 4.21E+03, average is: 1.44E-01, average over all collaborative data is 8.64E-02\n",
      "Similarity column 10681 (100.0%), 10082.55 column/sec. Elapsed time 1.06 sec\n",
      "EvaluatorHoldout: Processed 67415 (100.0%) in 1.91 min. Users per second: 588\n",
      "SearchBayesianSkopt: New best config found. Config 9: {'topK': 10, 'add_zeros_quota': 0.9837508786196454, 'normalize_similarity': False} - results: PRECISION: 0.0584173, PRECISION_RECALL_MIN_DEN: 0.0831829, RECALL: 0.0612093, MAP: 0.0256974, MAP_MIN_DEN: 0.0359256, MRR: 0.1674752, NDCG: 0.0759199, F1: 0.0597807, HIT_RATE: 0.3789068, ARHR_ALL_HITS: 0.2061341, NOVELTY: 0.0090802, AVERAGE_POPULARITY: 0.4358379, DIVERSITY_MEAN_INTER_LIST: 0.9039388, DIVERSITY_HERFINDAHL: 0.9903925, COVERAGE_ITEM: 0.1510158, COVERAGE_ITEM_CORRECT: 0.0458759, COVERAGE_USER: 0.9647529, COVERAGE_USER_CORRECT: 0.3655514, DIVERSITY_GINI: 0.0131171, SHANNON_ENTROPY: 7.4441515, RATIO_DIVERSITY_HERFINDAHL: 0.9911401, RATIO_DIVERSITY_GINI: 0.0673856, RATIO_SHANNON_ENTROPY: 0.6573458, RATIO_AVERAGE_POPULARITY: 1.5129815, RATIO_NOVELTY: 0.0831177, \n",
      "\n",
      "Iteration No: 10 ended. Search finished for the next optimal point.\n",
      "Time taken: 144.7457\n",
      "Function value obtained: -0.0257\n",
      "Current minimum: -0.0257\n",
      "SearchBayesianSkopt: Search complete. Best config is 9: {'topK': 10, 'add_zeros_quota': 0.9837508786196454, 'normalize_similarity': False}\n",
      "\n",
      "CFW_D_Similarity_Linalg: URM Detected 36 ( 0.3%) items with no interactions.\n",
      "CFW_D_Similarity_Linalg: ICM Detected 3087 (28.9%) items with no features.\n",
      "SearchBayesianSkopt: Evaluation with constructor data for final test. Using best config: {'topK': 10, 'add_zeros_quota': 0.9837508786196454, 'normalize_similarity': False}\n",
      "CFW_D_Similarity_Linalg: Generating train data\n",
      "Similarity column 10681 (100.0%), 14900.40 column/sec. Elapsed time 0.72 sec\n",
      "CFW_D_Similarity_Linalg: Collaborative S density: 6.50E-02, nonzero cells 7415187\n",
      "CFW_D_Similarity_Linalg: Content S density: 6.58E-04, nonzero cells 75106\n",
      "CFW_D_Similarity_Linalg: Content S structure has 29300 out of 75106 (39.0%) nonzero collaborative cells\n",
      "CFW_D_Similarity_Linalg: Nonzero collaborative cell sum is: 4.21E+03, average is: 1.44E-01, average over all collaborative data is 8.64E-02\n",
      "Similarity column 10681 (100.0%), 9576.61 column/sec. Elapsed time 1.12 sec\n",
      "EvaluatorHoldout: Processed 69805 (100.0%) in 1.97 min. Users per second: 591\n",
      "SearchBayesianSkopt: Best config evaluated with evaluator_test with constructor data for final test. Config: {'topK': 10, 'add_zeros_quota': 0.9837508786196454, 'normalize_similarity': False} - results:\n",
      "CUTOFF: 5 - PRECISION: 0.1916854, PRECISION_RECALL_MIN_DEN: 0.1933097, RECALL: 0.0422124, MAP: 0.1410526, MAP_MIN_DEN: 0.1420167, MRR: 0.3528522, NDCG: 0.1574267, F1: 0.0691884, HIT_RATE: 0.5056371, ARHR_ALL_HITS: 0.4954538, NOVELTY: 0.0044725, AVERAGE_POPULARITY: 0.4725344, DIVERSITY_MEAN_INTER_LIST: 0.9325737, DIVERSITY_HERFINDAHL: 0.9865121, COVERAGE_ITEM: 0.1036420, COVERAGE_ITEM_CORRECT: 0.0437225, COVERAGE_USER: 0.9989553, COVERAGE_USER_CORRECT: 0.5051089, DIVERSITY_GINI: 0.0095682, SHANNON_ENTROPY: 6.9712753, RATIO_DIVERSITY_HERFINDAHL: 0.9872568, RATIO_DIVERSITY_GINI: 0.0491478, RATIO_SHANNON_ENTROPY: 0.6155837, RATIO_AVERAGE_POPULARITY: 1.6394532, RATIO_NOVELTY: 0.0368454, \n",
      "CUTOFF: 10 - PRECISION: 0.1583540, PRECISION_RECALL_MIN_DEN: 0.1684034, RECALL: 0.0662853, MAP: 0.0997378, MAP_MIN_DEN: 0.1042886, MRR: 0.3662037, NDCG: 0.1512807, F1: 0.0934524, HIT_RATE: 0.6050999, ARHR_ALL_HITS: 0.5772554, NOVELTY: 0.0090942, AVERAGE_POPULARITY: 0.4315674, DIVERSITY_MEAN_INTER_LIST: 0.9041125, DIVERSITY_HERFINDAHL: 0.9904100, COVERAGE_ITEM: 0.1453984, COVERAGE_ITEM_CORRECT: 0.0577661, COVERAGE_USER: 0.9989553, COVERAGE_USER_CORRECT: 0.6044678, DIVERSITY_GINI: 0.0128659, SHANNON_ENTROPY: 7.4275162, RATIO_DIVERSITY_HERFINDAHL: 0.9911576, RATIO_DIVERSITY_GINI: 0.0660866, RATIO_SHANNON_ENTROPY: 0.6558711, RATIO_AVERAGE_POPULARITY: 1.4973184, RATIO_NOVELTY: 0.0749205, \n",
      "CUTOFF: 20 - PRECISION: 0.1265490, PRECISION_RECALL_MIN_DEN: 0.1599114, RECALL: 0.1009232, MAP: 0.0677386, MAP_MIN_DEN: 0.0796070, MRR: 0.3724126, NDCG: 0.1542057, F1: 0.1122926, HIT_RATE: 0.6940620, ARHR_ALL_HITS: 0.6416713, NOVELTY: 0.0185801, AVERAGE_POPULARITY: 0.3854770, DIVERSITY_MEAN_INTER_LIST: 0.8679460, DIVERSITY_HERFINDAHL: 0.9933967, COVERAGE_ITEM: 0.2152420, COVERAGE_ITEM_CORRECT: 0.0759292, COVERAGE_USER: 0.9989553, COVERAGE_USER_CORRECT: 0.6933370, DIVERSITY_GINI: 0.0179952, SHANNON_ENTROPY: 7.9342776, RATIO_DIVERSITY_HERFINDAHL: 0.9941466, RATIO_DIVERSITY_GINI: 0.0924336, RATIO_SHANNON_ENTROPY: 0.7006196, RATIO_AVERAGE_POPULARITY: 1.3374083, RATIO_NOVELTY: 0.1530671, \n",
      "\n",
      "\n"
     ]
    }
   ],
   "source": [
    "hyperparameter_optimization_CFW_D(URM_train, ICM_tags, W_sparse_CF)"
   ]
  },
  {
   "cell_type": "markdown",
   "metadata": {},
   "source": [
    "### The best solution has a MAP of 0.099, better than the pure CBF\n",
    "\n",
    "### Let's try another ICM, the genres of the movie"
   ]
  },
  {
   "cell_type": "code",
   "execution_count": 34,
   "metadata": {},
   "outputs": [
    {
     "name": "stdout",
     "output_type": "stream",
     "text": [
      "CFW_D_Similarity_Linalg: URM Detected 46 ( 0.4%) items with no interactions.\n",
      "CFW_D_Similarity_Linalg: Generating train data\n",
      "Similarity column 10681 (100.0%), 9218.28 column/sec. Elapsed time 1.16 sec\n",
      "CFW_D_Similarity_Linalg: Collaborative S density: 6.50E-02, nonzero cells 7415187\n",
      "CFW_D_Similarity_Linalg: Content S density: 2.80E-02, nonzero cells 3199455\n",
      "CFW_D_Similarity_Linalg: Content S structure has 411533 out of 3199455 (12.9%) nonzero collaborative cells\n",
      "CFW_D_Similarity_Linalg: Nonzero collaborative cell sum is: 3.95E+04, average is: 9.59E-02, average over all collaborative data is 8.64E-02\n",
      "Similarity column 10681 (100.0%), 8849.61 column/sec. Elapsed time 1.21 sec\n",
      "EvaluatorHoldout: Processed 69805 (100.0%) in 1.95 min. Users per second: 596\n"
     ]
    },
    {
     "data": {
      "text/html": [
       "<div>\n",
       "<style scoped>\n",
       "    .dataframe tbody tr th:only-of-type {\n",
       "        vertical-align: middle;\n",
       "    }\n",
       "\n",
       "    .dataframe tbody tr th {\n",
       "        vertical-align: top;\n",
       "    }\n",
       "\n",
       "    .dataframe thead th {\n",
       "        text-align: right;\n",
       "    }\n",
       "</style>\n",
       "<table border=\"1\" class=\"dataframe\">\n",
       "  <thead>\n",
       "    <tr style=\"text-align: right;\">\n",
       "      <th></th>\n",
       "      <th>PRECISION</th>\n",
       "      <th>PRECISION_RECALL_MIN_DEN</th>\n",
       "      <th>RECALL</th>\n",
       "      <th>MAP</th>\n",
       "      <th>MAP_MIN_DEN</th>\n",
       "      <th>MRR</th>\n",
       "      <th>NDCG</th>\n",
       "      <th>F1</th>\n",
       "      <th>HIT_RATE</th>\n",
       "      <th>ARHR_ALL_HITS</th>\n",
       "      <th>...</th>\n",
       "      <th>COVERAGE_ITEM_CORRECT</th>\n",
       "      <th>COVERAGE_USER</th>\n",
       "      <th>COVERAGE_USER_CORRECT</th>\n",
       "      <th>DIVERSITY_GINI</th>\n",
       "      <th>SHANNON_ENTROPY</th>\n",
       "      <th>RATIO_DIVERSITY_HERFINDAHL</th>\n",
       "      <th>RATIO_DIVERSITY_GINI</th>\n",
       "      <th>RATIO_SHANNON_ENTROPY</th>\n",
       "      <th>RATIO_AVERAGE_POPULARITY</th>\n",
       "      <th>RATIO_NOVELTY</th>\n",
       "    </tr>\n",
       "    <tr>\n",
       "      <th>cutoff</th>\n",
       "      <th></th>\n",
       "      <th></th>\n",
       "      <th></th>\n",
       "      <th></th>\n",
       "      <th></th>\n",
       "      <th></th>\n",
       "      <th></th>\n",
       "      <th></th>\n",
       "      <th></th>\n",
       "      <th></th>\n",
       "      <th></th>\n",
       "      <th></th>\n",
       "      <th></th>\n",
       "      <th></th>\n",
       "      <th></th>\n",
       "      <th></th>\n",
       "      <th></th>\n",
       "      <th></th>\n",
       "      <th></th>\n",
       "      <th></th>\n",
       "      <th></th>\n",
       "    </tr>\n",
       "  </thead>\n",
       "  <tbody>\n",
       "    <tr>\n",
       "      <th>5</th>\n",
       "      <td>0.014363</td>\n",
       "      <td>0.014445</td>\n",
       "      <td>0.002632</td>\n",
       "      <td>0.006524</td>\n",
       "      <td>0.00656</td>\n",
       "      <td>0.028173</td>\n",
       "      <td>0.006822</td>\n",
       "      <td>0.004449</td>\n",
       "      <td>0.063892</td>\n",
       "      <td>0.030264</td>\n",
       "      <td>...</td>\n",
       "      <td>0.03979</td>\n",
       "      <td>0.998955</td>\n",
       "      <td>0.063826</td>\n",
       "      <td>0.027973</td>\n",
       "      <td>8.161773</td>\n",
       "      <td>0.991093</td>\n",
       "      <td>0.143706</td>\n",
       "      <td>0.720714</td>\n",
       "      <td>0.22539</td>\n",
       "      <td>0.06021</td>\n",
       "    </tr>\n",
       "    <tr>\n",
       "      <th>10</th>\n",
       "      <td>0.017841</td>\n",
       "      <td>0.018687</td>\n",
       "      <td>0.006383</td>\n",
       "      <td>0.005187</td>\n",
       "      <td>0.005406</td>\n",
       "      <td>0.037751</td>\n",
       "      <td>0.009484</td>\n",
       "      <td>0.009403</td>\n",
       "      <td>0.137913</td>\n",
       "      <td>0.043869</td>\n",
       "      <td>...</td>\n",
       "      <td>0.055613</td>\n",
       "      <td>0.998955</td>\n",
       "      <td>0.137769</td>\n",
       "      <td>0.035421</td>\n",
       "      <td>8.591438</td>\n",
       "      <td>0.994325</td>\n",
       "      <td>0.181967</td>\n",
       "      <td>0.758655</td>\n",
       "      <td>0.265454</td>\n",
       "      <td>0.118283</td>\n",
       "    </tr>\n",
       "    <tr>\n",
       "      <th>20</th>\n",
       "      <td>0.01916</td>\n",
       "      <td>0.0236</td>\n",
       "      <td>0.01393</td>\n",
       "      <td>0.003854</td>\n",
       "      <td>0.004545</td>\n",
       "      <td>0.045298</td>\n",
       "      <td>0.013035</td>\n",
       "      <td>0.016131</td>\n",
       "      <td>0.247776</td>\n",
       "      <td>0.057714</td>\n",
       "      <td>...</td>\n",
       "      <td>0.079955</td>\n",
       "      <td>0.998955</td>\n",
       "      <td>0.247517</td>\n",
       "      <td>0.044169</td>\n",
       "      <td>8.857605</td>\n",
       "      <td>0.995197</td>\n",
       "      <td>0.226904</td>\n",
       "      <td>0.782159</td>\n",
       "      <td>0.293409</td>\n",
       "      <td>0.233044</td>\n",
       "    </tr>\n",
       "  </tbody>\n",
       "</table>\n",
       "<p>3 rows × 25 columns</p>\n",
       "</div>"
      ],
      "text/plain": [
       "       PRECISION PRECISION_RECALL_MIN_DEN    RECALL       MAP MAP_MIN_DEN  \\\n",
       "cutoff                                                                      \n",
       "5       0.014363                 0.014445  0.002632  0.006524     0.00656   \n",
       "10      0.017841                 0.018687  0.006383  0.005187    0.005406   \n",
       "20       0.01916                   0.0236   0.01393  0.003854    0.004545   \n",
       "\n",
       "             MRR      NDCG        F1  HIT_RATE ARHR_ALL_HITS  ...  \\\n",
       "cutoff                                                        ...   \n",
       "5       0.028173  0.006822  0.004449  0.063892      0.030264  ...   \n",
       "10      0.037751  0.009484  0.009403  0.137913      0.043869  ...   \n",
       "20      0.045298  0.013035  0.016131  0.247776      0.057714  ...   \n",
       "\n",
       "       COVERAGE_ITEM_CORRECT COVERAGE_USER COVERAGE_USER_CORRECT  \\\n",
       "cutoff                                                             \n",
       "5                    0.03979      0.998955              0.063826   \n",
       "10                  0.055613      0.998955              0.137769   \n",
       "20                  0.079955      0.998955              0.247517   \n",
       "\n",
       "       DIVERSITY_GINI SHANNON_ENTROPY RATIO_DIVERSITY_HERFINDAHL  \\\n",
       "cutoff                                                             \n",
       "5            0.027973        8.161773                   0.991093   \n",
       "10           0.035421        8.591438                   0.994325   \n",
       "20           0.044169        8.857605                   0.995197   \n",
       "\n",
       "       RATIO_DIVERSITY_GINI RATIO_SHANNON_ENTROPY RATIO_AVERAGE_POPULARITY  \\\n",
       "cutoff                                                                       \n",
       "5                  0.143706              0.720714                  0.22539   \n",
       "10                 0.181967              0.758655                 0.265454   \n",
       "20                 0.226904              0.782159                 0.293409   \n",
       "\n",
       "       RATIO_NOVELTY  \n",
       "cutoff                \n",
       "5            0.06021  \n",
       "10          0.118283  \n",
       "20          0.233044  \n",
       "\n",
       "[3 rows x 25 columns]"
      ]
     },
     "execution_count": 34,
     "metadata": {},
     "output_type": "execute_result"
    }
   ],
   "source": [
    "CFW_weithing_genre = CFW_D_Similarity_Linalg(URM_train, ICM_genres, W_sparse_CF)\n",
    "CFW_weithing_genre.fit()\n",
    "\n",
    "results_df, _ = evaluator_test.evaluateRecommender(CFW_weithing_genre)\n",
    "results_df"
   ]
  },
  {
   "cell_type": "code",
   "execution_count": 35,
   "metadata": {},
   "outputs": [
    {
     "name": "stdout",
     "output_type": "stream",
     "text": [
      "Iteration No: 1 started. Evaluating function at random point.\n",
      "SearchBayesianSkopt: Testing config: {'topK': 169, 'add_zeros_quota': 0.8254251929198315, 'normalize_similarity': False}\n",
      "CFW_D_Similarity_Linalg: URM Detected 46 ( 0.4%) items with no interactions.\n",
      "CFW_D_Similarity_Linalg: Generating train data\n",
      "Similarity column 10681 (100.0%), 8737.98 column/sec. Elapsed time 1.22 sec\n",
      "CFW_D_Similarity_Linalg: Collaborative S density: 6.50E-02, nonzero cells 7415187\n",
      "CFW_D_Similarity_Linalg: Content S density: 1.58E-02, nonzero cells 1804515\n",
      "CFW_D_Similarity_Linalg: Content S structure has 246314 out of 1804515 (13.6%) nonzero collaborative cells\n",
      "CFW_D_Similarity_Linalg: Nonzero collaborative cell sum is: 2.39E+04, average is: 9.72E-02, average over all collaborative data is 8.64E-02\n",
      "Similarity column 10681 (100.0%), 9176.54 column/sec. Elapsed time 1.16 sec\n",
      "EvaluatorHoldout: Processed 67415 (100.0%) in 1.95 min. Users per second: 576\n",
      "SearchBayesianSkopt: New best config found. Config 0: {'topK': 169, 'add_zeros_quota': 0.8254251929198315, 'normalize_similarity': False} - results: PRECISION: 0.0090722, PRECISION_RECALL_MIN_DEN: 0.0120502, RECALL: 0.0079695, MAP: 0.0024283, MAP_MIN_DEN: 0.0031917, MRR: 0.0204502, NDCG: 0.0068715, F1: 0.0084852, HIT_RATE: 0.0791219, ARHR_ALL_HITS: 0.0222402, NOVELTY: 0.0126038, AVERAGE_POPULARITY: 0.0878599, DIVERSITY_MEAN_INTER_LIST: 0.9439841, DIVERSITY_HERFINDAHL: 0.9943970, COVERAGE_ITEM: 0.3320850, COVERAGE_ITEM_CORRECT: 0.0376369, COVERAGE_USER: 0.9647529, COVERAGE_USER_CORRECT: 0.0763330, DIVERSITY_GINI: 0.0326237, SHANNON_ENTROPY: 8.6081439, RATIO_DIVERSITY_HERFINDAHL: 0.9951476, RATIO_DIVERSITY_GINI: 0.1675954, RATIO_SHANNON_ENTROPY: 0.7601306, RATIO_AVERAGE_POPULARITY: 0.3049996, RATIO_NOVELTY: 0.1153711, \n",
      "\n",
      "Iteration No: 1 ended. Evaluation done at random point.\n",
      "Time taken: 138.0440\n",
      "Function value obtained: -0.0024\n",
      "Current minimum: -0.0024\n",
      "Iteration No: 2 started. Evaluating function at random point.\n",
      "SearchBayesianSkopt: Testing config: {'topK': 132, 'add_zeros_quota': 0.8139889412402458, 'normalize_similarity': True}\n",
      "CFW_D_Similarity_Linalg: URM Detected 46 ( 0.4%) items with no interactions.\n",
      "CFW_D_Similarity_Linalg: Generating train data\n",
      "Similarity column 10681 (100.0%), 8204.49 column/sec. Elapsed time 1.30 sec\n",
      "CFW_D_Similarity_Linalg: Collaborative S density: 6.50E-02, nonzero cells 7415187\n",
      "CFW_D_Similarity_Linalg: Content S density: 1.24E-02, nonzero cells 1409656\n",
      "CFW_D_Similarity_Linalg: Content S structure has 197873 out of 1409656 (14.0%) nonzero collaborative cells\n",
      "CFW_D_Similarity_Linalg: Nonzero collaborative cell sum is: 5.49E+04, average is: 2.77E-01, average over all collaborative data is 8.64E-02\n",
      "Similarity column 10681 (100.0%), 5746.43 column/sec. Elapsed time 1.86 sec\n",
      "EvaluatorHoldout: Processed 67415 (100.0%) in 1.92 min. Users per second: 586\n",
      "SearchBayesianSkopt: Config 1 is suboptimal. Config: {'topK': 132, 'add_zeros_quota': 0.8139889412402458, 'normalize_similarity': True} - results: PRECISION: 0.0066395, PRECISION_RECALL_MIN_DEN: 0.0091043, RECALL: 0.0061606, MAP: 0.0020556, MAP_MIN_DEN: 0.0027808, MRR: 0.0182104, NDCG: 0.0054100, F1: 0.0063911, HIT_RATE: 0.0598828, ARHR_ALL_HITS: 0.0193157, NOVELTY: 0.0131557, AVERAGE_POPULARITY: 0.0738989, DIVERSITY_MEAN_INTER_LIST: 0.9697216, DIVERSITY_HERFINDAHL: 0.9969707, COVERAGE_ITEM: 0.4449022, COVERAGE_ITEM_CORRECT: 0.0416628, COVERAGE_USER: 0.9647529, COVERAGE_USER_CORRECT: 0.0577721, DIVERSITY_GINI: 0.0463196, SHANNON_ENTROPY: 9.1771664, RATIO_DIVERSITY_HERFINDAHL: 0.9977232, RATIO_DIVERSITY_GINI: 0.2379548, RATIO_SHANNON_ENTROPY: 0.8103773, RATIO_AVERAGE_POPULARITY: 0.2565350, RATIO_NOVELTY: 0.1204230, \n",
      "\n",
      "Iteration No: 2 ended. Evaluation done at random point.\n",
      "Time taken: 134.6666\n",
      "Function value obtained: -0.0021\n",
      "Current minimum: -0.0024\n",
      "Iteration No: 3 started. Evaluating function at random point.\n",
      "SearchBayesianSkopt: Testing config: {'topK': 633, 'add_zeros_quota': 0.2787831312503715, 'normalize_similarity': True}\n",
      "CFW_D_Similarity_Linalg: URM Detected 46 ( 0.4%) items with no interactions.\n",
      "CFW_D_Similarity_Linalg: Generating train data\n",
      "Similarity column 10681 (100.0%), 8897.25 column/sec. Elapsed time 1.20 sec\n",
      "CFW_D_Similarity_Linalg: Collaborative S density: 6.50E-02, nonzero cells 7415187\n",
      "CFW_D_Similarity_Linalg: Content S density: 5.83E-02, nonzero cells 6655324\n",
      "CFW_D_Similarity_Linalg: Generating train data. Sample 2092315 (40.2%) \n",
      "CFW_D_Similarity_Linalg: Content S structure has 756432 out of 6655324 (11.4%) nonzero collaborative cells\n",
      "CFW_D_Similarity_Linalg: Nonzero collaborative cell sum is: 1.88E+05, average is: 2.49E-01, average over all collaborative data is 8.64E-02\n",
      "Similarity column 10681 (100.0%), 5665.58 column/sec. Elapsed time 1.89 sec\n",
      "EvaluatorHoldout: Processed 67415 (100.0%) in 2.04 min. Users per second: 550\n",
      "SearchBayesianSkopt: Config 2 is suboptimal. Config: {'topK': 633, 'add_zeros_quota': 0.2787831312503715, 'normalize_similarity': True} - results: PRECISION: 0.0069970, PRECISION_RECALL_MIN_DEN: 0.0091019, RECALL: 0.0057592, MAP: 0.0021486, MAP_MIN_DEN: 0.0027267, MRR: 0.0188062, NDCG: 0.0053377, F1: 0.0063180, HIT_RATE: 0.0622117, ARHR_ALL_HITS: 0.0200635, NOVELTY: 0.0132480, AVERAGE_POPULARITY: 0.0711461, DIVERSITY_MEAN_INTER_LIST: 0.9622420, DIVERSITY_HERFINDAHL: 0.9962228, COVERAGE_ITEM: 0.5462972, COVERAGE_ITEM_CORRECT: 0.0482165, COVERAGE_USER: 0.9647529, COVERAGE_USER_CORRECT: 0.0600189, DIVERSITY_GINI: 0.0636704, SHANNON_ENTROPY: 9.4408902, RATIO_DIVERSITY_HERFINDAHL: 0.9969747, RATIO_DIVERSITY_GINI: 0.3270898, RATIO_SHANNON_ENTROPY: 0.8336651, RATIO_AVERAGE_POPULARITY: 0.2469787, RATIO_NOVELTY: 0.1212678, \n",
      "\n",
      "Iteration No: 3 ended. Evaluation done at random point.\n",
      "Time taken: 168.2925\n",
      "Function value obtained: -0.0021\n",
      "Current minimum: -0.0024\n",
      "Iteration No: 4 started. Searching for the next optimal point.\n",
      "SearchBayesianSkopt: Testing config: {'topK': 864, 'add_zeros_quota': 0.995848437195078, 'normalize_similarity': True}\n",
      "CFW_D_Similarity_Linalg: URM Detected 46 ( 0.4%) items with no interactions.\n",
      "CFW_D_Similarity_Linalg: Generating train data\n",
      "Similarity column 10681 (100.0%), 8164.69 column/sec. Elapsed time 1.31 sec\n",
      "CFW_D_Similarity_Linalg: Collaborative S density: 6.50E-02, nonzero cells 7415187\n",
      "CFW_D_Similarity_Linalg: Content S density: 7.87E-02, nonzero cells 8982987\n",
      "CFW_D_Similarity_Linalg: Generating train data. Sample 4895574 (108.8%) \n",
      "CFW_D_Similarity_Linalg: Content S structure has 998241 out of 8982987 (11.1%) nonzero collaborative cells\n",
      "CFW_D_Similarity_Linalg: Nonzero collaborative cell sum is: 2.43E+05, average is: 2.43E-01, average over all collaborative data is 8.64E-02\n",
      "Similarity column 10681 (100.0%), 5013.63 column/sec. Elapsed time 2.13 sec\n",
      "EvaluatorHoldout: Processed 67415 (100.0%) in 2.24 min. Users per second: 502\n",
      "SearchBayesianSkopt: Config 3 is suboptimal. Config: {'topK': 864, 'add_zeros_quota': 0.995848437195078, 'normalize_similarity': True} - results: PRECISION: 0.0067389, PRECISION_RECALL_MIN_DEN: 0.0091986, RECALL: 0.0060868, MAP: 0.0019848, MAP_MIN_DEN: 0.0027111, MRR: 0.0173413, NDCG: 0.0053566, F1: 0.0063963, HIT_RATE: 0.0599125, ARHR_ALL_HITS: 0.0185276, NOVELTY: 0.0132183, AVERAGE_POPULARITY: 0.0708674, DIVERSITY_MEAN_INTER_LIST: 0.9712301, DIVERSITY_HERFINDAHL: 0.9971216, COVERAGE_ITEM: 0.4620354, COVERAGE_ITEM_CORRECT: 0.0445651, COVERAGE_USER: 0.9647529, COVERAGE_USER_CORRECT: 0.0578007, DIVERSITY_GINI: 0.0568847, SHANNON_ENTROPY: 9.4427795, RATIO_DIVERSITY_HERFINDAHL: 0.9978742, RATIO_DIVERSITY_GINI: 0.2922303, RATIO_SHANNON_ENTROPY: 0.8338319, RATIO_AVERAGE_POPULARITY: 0.2460112, RATIO_NOVELTY: 0.1209961, \n",
      "\n",
      "Iteration No: 4 ended. Search finished for the next optimal point.\n",
      "Time taken: 221.4908\n",
      "Function value obtained: -0.0020\n",
      "Current minimum: -0.0024\n",
      "Iteration No: 5 started. Searching for the next optimal point.\n",
      "SearchBayesianSkopt: Testing config: {'topK': 498, 'add_zeros_quota': 0.24899523372624272, 'normalize_similarity': False}\n",
      "CFW_D_Similarity_Linalg: URM Detected 46 ( 0.4%) items with no interactions.\n",
      "CFW_D_Similarity_Linalg: Generating train data\n",
      "Similarity column 10681 (100.0%), 8189.30 column/sec. Elapsed time 1.30 sec\n",
      "CFW_D_Similarity_Linalg: Collaborative S density: 6.50E-02, nonzero cells 7415187\n",
      "CFW_D_Similarity_Linalg: Content S density: 4.63E-02, nonzero cells 5284995\n"
     ]
    },
    {
     "name": "stdout",
     "output_type": "stream",
     "text": [
      "CFW_D_Similarity_Linalg: Content S structure has 618403 out of 5284995 (11.7%) nonzero collaborative cells\n",
      "CFW_D_Similarity_Linalg: Nonzero collaborative cell sum is: 5.86E+04, average is: 9.48E-02, average over all collaborative data is 8.64E-02\n",
      "Similarity column 10681 (100.0%), 8352.41 column/sec. Elapsed time 1.28 sec\n",
      "EvaluatorHoldout: Processed 67415 (100.0%) in 1.89 min. Users per second: 593\n",
      "SearchBayesianSkopt: Config 4 is suboptimal. Config: {'topK': 498, 'add_zeros_quota': 0.24899523372624272, 'normalize_similarity': False} - results: PRECISION: 0.0047215, PRECISION_RECALL_MIN_DEN: 0.0066265, RECALL: 0.0045562, MAP: 0.0012892, MAP_MIN_DEN: 0.0017591, MRR: 0.0116782, NDCG: 0.0036046, F1: 0.0046374, HIT_RATE: 0.0433286, ARHR_ALL_HITS: 0.0122695, NOVELTY: 0.0131355, AVERAGE_POPULARITY: 0.0587949, DIVERSITY_MEAN_INTER_LIST: 0.8996842, DIVERSITY_HERFINDAHL: 0.9899671, COVERAGE_ITEM: 0.2857410, COVERAGE_ITEM_CORRECT: 0.0311769, COVERAGE_USER: 0.9647529, COVERAGE_USER_CORRECT: 0.0418014, DIVERSITY_GINI: 0.0231952, SHANNON_ENTROPY: 7.9379991, RATIO_DIVERSITY_HERFINDAHL: 0.9907143, RATIO_DIVERSITY_GINI: 0.1191591, RATIO_SHANNON_ENTROPY: 0.7009543, RATIO_AVERAGE_POPULARITY: 0.2041024, RATIO_NOVELTY: 0.1202385, \n",
      "\n",
      "Iteration No: 5 ended. Search finished for the next optimal point.\n",
      "Time taken: 146.4180\n",
      "Function value obtained: -0.0013\n",
      "Current minimum: -0.0024\n",
      "Iteration No: 6 started. Searching for the next optimal point.\n",
      "SearchBayesianSkopt: Testing config: {'topK': 465, 'add_zeros_quota': 0.0004786224680490837, 'normalize_similarity': True}\n",
      "CFW_D_Similarity_Linalg: URM Detected 46 ( 0.4%) items with no interactions.\n",
      "CFW_D_Similarity_Linalg: Generating train data\n",
      "Similarity column 10681 (100.0%), 7983.78 column/sec. Elapsed time 1.34 sec\n",
      "CFW_D_Similarity_Linalg: Collaborative S density: 6.50E-02, nonzero cells 7415187\n",
      "CFW_D_Similarity_Linalg: Content S density: 4.33E-02, nonzero cells 4943055\n",
      "CFW_D_Similarity_Linalg: Generating train data. Sample 552112 (11.2%) \n",
      "CFW_D_Similarity_Linalg: Content S structure has 583033 out of 4943055 (11.8%) nonzero collaborative cells\n",
      "CFW_D_Similarity_Linalg: Nonzero collaborative cell sum is: 1.48E+05, average is: 2.54E-01, average over all collaborative data is 8.64E-02\n",
      "Similarity column 10681 (100.0%), 4919.31 column/sec. Elapsed time 2.17 sec\n",
      "EvaluatorHoldout: Processed 67415 (100.0%) in 2.13 min. Users per second: 527\n",
      "SearchBayesianSkopt: Config 5 is suboptimal. Config: {'topK': 465, 'add_zeros_quota': 0.0004786224680490837, 'normalize_similarity': True} - results: PRECISION: 0.0071186, PRECISION_RECALL_MIN_DEN: 0.0094222, RECALL: 0.0061504, MAP: 0.0020783, MAP_MIN_DEN: 0.0027693, MRR: 0.0181703, NDCG: 0.0055903, F1: 0.0065992, HIT_RATE: 0.0633835, ARHR_ALL_HITS: 0.0194166, NOVELTY: 0.0129759, AVERAGE_POPULARITY: 0.0759272, DIVERSITY_MEAN_INTER_LIST: 0.9656231, DIVERSITY_HERFINDAHL: 0.9965609, COVERAGE_ITEM: 0.7411291, COVERAGE_ITEM_CORRECT: 0.0628218, COVERAGE_USER: 0.9647529, COVERAGE_USER_CORRECT: 0.0611494, DIVERSITY_GINI: 0.0984795, SHANNON_ENTROPY: 9.8452438, RATIO_DIVERSITY_HERFINDAHL: 0.9973131, RATIO_DIVERSITY_GINI: 0.5059124, RATIO_SHANNON_ENTROPY: 0.8693710, RATIO_AVERAGE_POPULARITY: 0.2635759, RATIO_NOVELTY: 0.1187771, \n",
      "\n",
      "Iteration No: 6 ended. Search finished for the next optimal point.\n",
      "Time taken: 167.4954\n",
      "Function value obtained: -0.0021\n",
      "Current minimum: -0.0024\n",
      "Iteration No: 7 started. Searching for the next optimal point.\n",
      "SearchBayesianSkopt: Testing config: {'topK': 419, 'add_zeros_quota': 0.001090728475234615, 'normalize_similarity': False}\n",
      "CFW_D_Similarity_Linalg: URM Detected 46 ( 0.4%) items with no interactions.\n",
      "CFW_D_Similarity_Linalg: Generating train data\n",
      "Similarity column 10681 (100.0%), 7148.07 column/sec. Elapsed time 1.49 sec\n",
      "CFW_D_Similarity_Linalg: Collaborative S density: 6.50E-02, nonzero cells 7415187\n",
      "CFW_D_Similarity_Linalg: Content S density: 3.91E-02, nonzero cells 4457523\n",
      "CFW_D_Similarity_Linalg: Content S structure has 534694 out of 4457523 (12.0%) nonzero collaborative cells\n",
      "CFW_D_Similarity_Linalg: Nonzero collaborative cell sum is: 5.08E+04, average is: 9.49E-02, average over all collaborative data is 8.64E-02\n",
      "Similarity column 10681 (100.0%), 8708.33 column/sec. Elapsed time 1.23 sec\n",
      "EvaluatorHoldout: Processed 67415 (100.0%) in 2.25 min. Users per second: 500\n",
      "SearchBayesianSkopt: Config 6 is suboptimal. Config: {'topK': 419, 'add_zeros_quota': 0.001090728475234615, 'normalize_similarity': False} - results: PRECISION: 0.0065178, PRECISION_RECALL_MIN_DEN: 0.0088401, RECALL: 0.0059055, MAP: 0.0016855, MAP_MIN_DEN: 0.0022396, MRR: 0.0148580, NDCG: 0.0048284, F1: 0.0061966, HIT_RATE: 0.0586220, ARHR_ALL_HITS: 0.0158013, NOVELTY: 0.0130630, AVERAGE_POPULARITY: 0.0690817, DIVERSITY_MEAN_INTER_LIST: 0.9263670, DIVERSITY_HERFINDAHL: 0.9926353, COVERAGE_ITEM: 0.3453796, COVERAGE_ITEM_CORRECT: 0.0362326, COVERAGE_USER: 0.9647529, COVERAGE_USER_CORRECT: 0.0565557, DIVERSITY_GINI: 0.0289266, SHANNON_ENTROPY: 8.3194378, RATIO_DIVERSITY_HERFINDAHL: 0.9933846, RATIO_DIVERSITY_GINI: 0.1486027, RATIO_SHANNON_ENTROPY: 0.7346368, RATIO_AVERAGE_POPULARITY: 0.2398125, RATIO_NOVELTY: 0.1195751, \n",
      "\n",
      "Iteration No: 7 ended. Search finished for the next optimal point.\n",
      "Time taken: 163.5290\n",
      "Function value obtained: -0.0017\n",
      "Current minimum: -0.0024\n",
      "Iteration No: 8 started. Searching for the next optimal point.\n",
      "SearchBayesianSkopt: Testing config: {'topK': 180, 'add_zeros_quota': 0.9532206348399387, 'normalize_similarity': True}\n",
      "CFW_D_Similarity_Linalg: URM Detected 46 ( 0.4%) items with no interactions.\n",
      "CFW_D_Similarity_Linalg: Generating train data\n",
      "Similarity column 10681 (100.0%), 6532.61 column/sec. Elapsed time 1.64 sec\n",
      "CFW_D_Similarity_Linalg: Collaborative S density: 6.50E-02, nonzero cells 7415187\n",
      "CFW_D_Similarity_Linalg: Content S density: 1.68E-02, nonzero cells 1921852\n",
      "CFW_D_Similarity_Linalg: Content S structure has 260115 out of 1921852 (13.5%) nonzero collaborative cells\n",
      "CFW_D_Similarity_Linalg: Nonzero collaborative cell sum is: 7.05E+04, average is: 2.71E-01, average over all collaborative data is 8.64E-02\n",
      "Similarity column 10681 (100.0%), 4708.97 column/sec. Elapsed time 2.27 sec\n",
      "EvaluatorHoldout: Processed 67415 (100.0%) in 2.14 min. Users per second: 525\n",
      "SearchBayesianSkopt: Config 7 is suboptimal. Config: {'topK': 180, 'add_zeros_quota': 0.9532206348399387, 'normalize_similarity': True} - results: PRECISION: 0.0065060, PRECISION_RECALL_MIN_DEN: 0.0086015, RECALL: 0.0056189, MAP: 0.0020036, MAP_MIN_DEN: 0.0026184, MRR: 0.0174369, NDCG: 0.0051459, F1: 0.0060300, HIT_RATE: 0.0577468, ARHR_ALL_HITS: 0.0186666, NOVELTY: 0.0131785, AVERAGE_POPULARITY: 0.0683210, DIVERSITY_MEAN_INTER_LIST: 0.9691784, DIVERSITY_HERFINDAHL: 0.9969164, COVERAGE_ITEM: 0.4780451, COVERAGE_ITEM_CORRECT: 0.0440034, COVERAGE_USER: 0.9647529, COVERAGE_USER_CORRECT: 0.0557114, DIVERSITY_GINI: 0.0472099, SHANNON_ENTROPY: 9.1639581, RATIO_DIVERSITY_HERFINDAHL: 0.9976689, RATIO_DIVERSITY_GINI: 0.2425286, RATIO_SHANNON_ENTROPY: 0.8092110, RATIO_AVERAGE_POPULARITY: 0.2371718, RATIO_NOVELTY: 0.1206316, \n",
      "\n",
      "Iteration No: 8 ended. Search finished for the next optimal point.\n",
      "Time taken: 155.4552\n",
      "Function value obtained: -0.0020\n",
      "Current minimum: -0.0024\n",
      "Iteration No: 9 started. Searching for the next optimal point.\n",
      "SearchBayesianSkopt: Testing config: {'topK': 601, 'add_zeros_quota': 1.0, 'normalize_similarity': False}\n",
      "CFW_D_Similarity_Linalg: URM Detected 46 ( 0.4%) items with no interactions.\n",
      "CFW_D_Similarity_Linalg: Generating train data\n",
      "Similarity column 10681 (100.0%), 5655.38 column/sec. Elapsed time 1.89 sec\n",
      "CFW_D_Similarity_Linalg: Collaborative S density: 6.50E-02, nonzero cells 7415187\n",
      "CFW_D_Similarity_Linalg: Content S density: 5.55E-02, nonzero cells 6330834\n",
      "CFW_D_Similarity_Linalg: Generating train data. Sample 3671926 (116.0%) \n",
      "CFW_D_Similarity_Linalg: Content S structure has 725625 out of 6330834 (11.5%) nonzero collaborative cells\n",
      "CFW_D_Similarity_Linalg: Nonzero collaborative cell sum is: 6.85E+04, average is: 9.44E-02, average over all collaborative data is 8.64E-02\n",
      "Similarity column 10681 (100.0%), 6301.31 column/sec. Elapsed time 1.70 sec\n",
      "EvaluatorHoldout: Processed 67415 (100.0%) in 2.44 min. Users per second: 460\n"
     ]
    },
    {
     "name": "stdout",
     "output_type": "stream",
     "text": [
      "SearchBayesianSkopt: Config 8 is suboptimal. Config: {'topK': 601, 'add_zeros_quota': 1.0, 'normalize_similarity': False} - results: PRECISION: 0.0047037, PRECISION_RECALL_MIN_DEN: 0.0066686, RECALL: 0.0046086, MAP: 0.0013318, MAP_MIN_DEN: 0.0018123, MRR: 0.0122015, NDCG: 0.0036554, F1: 0.0046556, HIT_RATE: 0.0435808, ARHR_ALL_HITS: 0.0127332, NOVELTY: 0.0130938, AVERAGE_POPULARITY: 0.0590907, DIVERSITY_MEAN_INTER_LIST: 0.8894659, DIVERSITY_HERFINDAHL: 0.9889453, COVERAGE_ITEM: 0.2525981, COVERAGE_ITEM_CORRECT: 0.0280873, COVERAGE_USER: 0.9647529, COVERAGE_USER_CORRECT: 0.0420447, DIVERSITY_GINI: 0.0192704, SHANNON_ENTROPY: 7.6984532, RATIO_DIVERSITY_HERFINDAHL: 0.9896917, RATIO_DIVERSITY_GINI: 0.0989964, RATIO_SHANNON_ENTROPY: 0.6798016, RATIO_AVERAGE_POPULARITY: 0.2051292, RATIO_NOVELTY: 0.1198570, \n",
      "\n",
      "Iteration No: 9 ended. Search finished for the next optimal point.\n",
      "Time taken: 211.6807\n",
      "Function value obtained: -0.0013\n",
      "Current minimum: -0.0024\n",
      "Iteration No: 10 started. Searching for the next optimal point.\n",
      "SearchBayesianSkopt: Testing config: {'topK': 27, 'add_zeros_quota': 0.1740155453190461, 'normalize_similarity': False}\n",
      "CFW_D_Similarity_Linalg: URM Detected 46 ( 0.4%) items with no interactions.\n",
      "CFW_D_Similarity_Linalg: Generating train data\n",
      "Similarity column 10681 (100.0%), 5655.32 column/sec. Elapsed time 1.89 sec\n",
      "CFW_D_Similarity_Linalg: Collaborative S density: 6.50E-02, nonzero cells 7415187\n",
      "CFW_D_Similarity_Linalg: Content S density: 2.53E-03, nonzero cells 288360\n",
      "CFW_D_Similarity_Linalg: Content S structure has 43743 out of 288360 (15.2%) nonzero collaborative cells\n",
      "CFW_D_Similarity_Linalg: Nonzero collaborative cell sum is: 4.46E+03, average is: 1.02E-01, average over all collaborative data is 8.64E-02\n",
      "Similarity column 10681 (100.0%), 8979.98 column/sec. Elapsed time 1.19 sec\n",
      "EvaluatorHoldout: Processed 67415 (100.0%) in 2.10 min. Users per second: 534\n",
      "SearchBayesianSkopt: Config 9 is suboptimal. Config: {'topK': 27, 'add_zeros_quota': 0.1740155453190461, 'normalize_similarity': False} - results: PRECISION: 0.0081644, PRECISION_RECALL_MIN_DEN: 0.0109241, RECALL: 0.0072306, MAP: 0.0024163, MAP_MIN_DEN: 0.0032189, MRR: 0.0210431, NDCG: 0.0066738, F1: 0.0076692, HIT_RATE: 0.0721204, ARHR_ALL_HITS: 0.0225130, NOVELTY: 0.0128445, AVERAGE_POPULARITY: 0.0758535, DIVERSITY_MEAN_INTER_LIST: 0.9544176, DIVERSITY_HERFINDAHL: 0.9954403, COVERAGE_ITEM: 0.3481884, COVERAGE_ITEM_CORRECT: 0.0478420, COVERAGE_USER: 0.9647529, COVERAGE_USER_CORRECT: 0.0695784, DIVERSITY_GINI: 0.0477907, SHANNON_ENTROPY: 9.1223096, RATIO_DIVERSITY_HERFINDAHL: 0.9961917, RATIO_DIVERSITY_GINI: 0.2455120, RATIO_SHANNON_ENTROPY: 0.8055333, RATIO_AVERAGE_POPULARITY: 0.2633203, RATIO_NOVELTY: 0.1175743, \n",
      "\n",
      "Iteration No: 10 ended. Search finished for the next optimal point.\n",
      "Time taken: 134.8778\n",
      "Function value obtained: -0.0024\n",
      "Current minimum: -0.0024\n",
      "SearchBayesianSkopt: Search complete. Best config is 0: {'topK': 169, 'add_zeros_quota': 0.8254251929198315, 'normalize_similarity': False}\n",
      "\n",
      "CFW_D_Similarity_Linalg: URM Detected 36 ( 0.3%) items with no interactions.\n",
      "SearchBayesianSkopt: Evaluation with constructor data for final test. Using best config: {'topK': 169, 'add_zeros_quota': 0.8254251929198315, 'normalize_similarity': False}\n",
      "CFW_D_Similarity_Linalg: Generating train data\n",
      "Similarity column 10681 (100.0%), 5587.31 column/sec. Elapsed time 1.91 sec\n",
      "CFW_D_Similarity_Linalg: Collaborative S density: 6.50E-02, nonzero cells 7415187\n",
      "CFW_D_Similarity_Linalg: Content S density: 1.58E-02, nonzero cells 1804515\n",
      "CFW_D_Similarity_Linalg: Content S structure has 246314 out of 1804515 (13.6%) nonzero collaborative cells\n",
      "CFW_D_Similarity_Linalg: Nonzero collaborative cell sum is: 2.39E+04, average is: 9.72E-02, average over all collaborative data is 8.64E-02\n",
      "Similarity column 10681 (100.0%), 8593.71 column/sec. Elapsed time 1.24 sec\n",
      "EvaluatorHoldout: Processed 69805 (100.0%) in 2.70 min. Users per second: 431\n",
      "SearchBayesianSkopt: Best config evaluated with evaluator_test with constructor data for final test. Config: {'topK': 169, 'add_zeros_quota': 0.8254251929198315, 'normalize_similarity': False} - results:\n",
      "CUTOFF: 5 - PRECISION: 0.0208180, PRECISION_RECALL_MIN_DEN: 0.0209574, RECALL: 0.0037367, MAP: 0.0087921, MAP_MIN_DEN: 0.0088418, MRR: 0.0341953, NDCG: 0.0096245, F1: 0.0063360, HIT_RATE: 0.0868562, ARHR_ALL_HITS: 0.0386878, NOVELTY: 0.0063844, AVERAGE_POPULARITY: 0.0776887, DIVERSITY_MEAN_INTER_LIST: 0.9523280, DIVERSITY_HERFINDAHL: 0.9904629, COVERAGE_ITEM: 0.2675779, COVERAGE_ITEM_CORRECT: 0.0354836, COVERAGE_USER: 0.9989553, COVERAGE_USER_CORRECT: 0.0867655, DIVERSITY_GINI: 0.0260874, SHANNON_ENTROPY: 8.1644616, RATIO_DIVERSITY_HERFINDAHL: 0.9912105, RATIO_DIVERSITY_GINI: 0.1340000, RATIO_SHANNON_ENTROPY: 0.7209455, RATIO_AVERAGE_POPULARITY: 0.2695401, RATIO_NOVELTY: 0.0525964, \n",
      "CUTOFF: 10 - PRECISION: 0.0224869, PRECISION_RECALL_MIN_DEN: 0.0236929, RECALL: 0.0082442, MAP: 0.0068393, MAP_MIN_DEN: 0.0071379, MRR: 0.0442551, NDCG: 0.0121403, F1: 0.0120651, HIT_RATE: 0.1634983, ARHR_ALL_HITS: 0.0543572, NOVELTY: 0.0126229, AVERAGE_POPULARITY: 0.0864468, DIVERSITY_MEAN_INTER_LIST: 0.9421911, DIVERSITY_HERFINDAHL: 0.9942178, COVERAGE_ITEM: 0.3259994, COVERAGE_ITEM_CORRECT: 0.0506507, COVERAGE_USER: 0.9989553, COVERAGE_USER_CORRECT: 0.1633275, DIVERSITY_GINI: 0.0315888, SHANNON_ENTROPY: 8.5616682, RATIO_DIVERSITY_HERFINDAHL: 0.9949683, RATIO_DIVERSITY_GINI: 0.1622586, RATIO_SHANNON_ENTROPY: 0.7560200, RATIO_AVERAGE_POPULARITY: 0.2999262, RATIO_NOVELTY: 0.1039910, \n",
      "CUTOFF: 20 - PRECISION: 0.0216525, PRECISION_RECALL_MIN_DEN: 0.0269219, RECALL: 0.0161220, MAP: 0.0048067, MAP_MIN_DEN: 0.0056855, MRR: 0.0514224, NDCG: 0.0153649, F1: 0.0184824, HIT_RATE: 0.2670153, ARHR_ALL_HITS: 0.0685094, NOVELTY: 0.0252742, AVERAGE_POPULARITY: 0.0887921, DIVERSITY_MEAN_INTER_LIST: 0.9203425, DIVERSITY_HERFINDAHL: 0.9960165, COVERAGE_ITEM: 0.3929407, COVERAGE_ITEM_CORRECT: 0.0708735, COVERAGE_USER: 0.9989553, COVERAGE_USER_CORRECT: 0.2667363, DIVERSITY_GINI: 0.0384301, SHANNON_ENTROPY: 8.9045079, RATIO_DIVERSITY_HERFINDAHL: 0.9967683, RATIO_DIVERSITY_GINI: 0.1973995, RATIO_SHANNON_ENTROPY: 0.7862938, RATIO_AVERAGE_POPULARITY: 0.3080632, RATIO_NOVELTY: 0.2082149, \n",
      "\n",
      "\n"
     ]
    }
   ],
   "source": [
    "hyperparameter_optimization_CFW_D(URM_train, ICM_genres, W_sparse_CF)"
   ]
  },
  {
   "cell_type": "markdown",
   "metadata": {},
   "source": [
    "### Here the best solution has a MAP of 0.006... not great"
   ]
  },
  {
   "cell_type": "markdown",
   "metadata": {},
   "source": [
    "Since we are weighting features, and weights can be applied only to common features, we may expect a sparse ICM to have limited quality gains because the items will tend to have few features in common and so only few parameters that can be learned. A more dense ICM may exhibit much higher improvements due to more common features and model parameters, however, very different items may have the same features in common, choking the model.\n",
    "\n",
    "### Improvements of CF+CBF greatly depend on the ICM structure and collaborative data distribution...\n",
    "\n",
    "## Tip:\n",
    "If your ICM is very sparse and you get poor results, you may try to aggregate features (e.g., put them in OR, add them...) to reduce their number and get a new denser ICM on which to try feature weighting"
   ]
  },
  {
   "cell_type": "markdown",
   "metadata": {},
   "source": [
    "## How about using these feature weights to perform feature selection?\n",
    "## Let's try to select the x% features with highest value"
   ]
  },
  {
   "cell_type": "code",
   "execution_count": 36,
   "metadata": {},
   "outputs": [
    {
     "data": {
      "image/png": "[encoded data removed]",
      "text/plain": [
       "<Figure size 432x288 with 1 Axes>"
      ]
     },
     "metadata": {
      "needs_background": "light"
     },
     "output_type": "display_data"
    }
   ],
   "source": [
    "import matplotlib.pyplot as pyplot\n",
    "%matplotlib inline  \n",
    "\n",
    "pyplot.plot(np.sort(CFW_weithing.D_best))\n",
    "pyplot.ylabel('Weight')\n",
    "pyplot.xlabel('Sorted features')\n",
    "pyplot.show()"
   ]
  },
  {
   "cell_type": "markdown",
   "metadata": {},
   "source": [
    "### Something to think about... do we select features with the 'highest' weight, hence excluding the negative ones, or do we select those that have the 'highest absolute' value, accounting also for the strong negative ones?"
   ]
  },
  {
   "cell_type": "code",
   "execution_count": 41,
   "metadata": {},
   "outputs": [
    {
     "name": "stdout",
     "output_type": "stream",
     "text": [
      "Selected 3031/10106 features, weights: 3.26E-03 to 2.73E-01\n",
      "ItemKNNCBFRecommender: URM Detected 46 ( 0.4%) items with no interactions.\n",
      "ItemKNNCBFRecommender: ICM Detected 3298 (30.9%) items with no features.\n",
      "Similarity column 10681 (100.0%), 8924.71 column/sec. Elapsed time 1.20 sec\n",
      "EvaluatorHoldout: Processed 69805 (100.0%) in 2.34 min. Users per second: 497\n",
      "Selected 5053/10106 features, weights: 0.00E+00 to 2.73E-01\n",
      "ItemKNNCBFRecommender: URM Detected 46 ( 0.4%) items with no interactions.\n",
      "ItemKNNCBFRecommender: ICM Detected 3140 (29.4%) items with no features.\n",
      "Similarity column 10681 (100.0%), 8929.66 column/sec. Elapsed time 1.20 sec\n",
      "EvaluatorHoldout: Processed 69805 (100.0%) in 2.14 min. Users per second: 545\n",
      "Selected 7074/10106 features, weights: 0.00E+00 to 2.73E-01\n",
      "ItemKNNCBFRecommender: URM Detected 46 ( 0.4%) items with no interactions.\n",
      "ItemKNNCBFRecommender: ICM Detected 3130 (29.3%) items with no features.\n",
      "Similarity column 10681 (100.0%), 9009.28 column/sec. Elapsed time 1.19 sec\n",
      "EvaluatorHoldout: Processed 69805 (100.0%) in 2.14 min. Users per second: 543\n",
      "Selected 9095/10106 features, weights: -1.46E-03 to 2.73E-01\n",
      "ItemKNNCBFRecommender: URM Detected 46 ( 0.4%) items with no interactions.\n",
      "ItemKNNCBFRecommender: ICM Detected 3106 (29.1%) items with no features.\n",
      "Similarity column 10681 (100.0%), 8960.42 column/sec. Elapsed time 1.19 sec\n",
      "EvaluatorHoldout: Processed 69805 (100.0%) in 2.15 min. Users per second: 541\n"
     ]
    }
   ],
   "source": [
    "argsort_features = np.argsort(-CFW_weithing.D_best)\n",
    "\n",
    "map_list = []\n",
    "selection_quota_list = [0.3, 0.5, 0.7, 0.9]\n",
    "\n",
    "for selection_quota in selection_quota_list:\n",
    "    \n",
    "    n_to_select = int(selection_quota*len(argsort_features))\n",
    "    selected_features = argsort_features[:n_to_select]\n",
    "    \n",
    "    ICM_selected = ICM_tags[:,selected_features]\n",
    "    \n",
    "    print(\"Selected {}/{} features, weights: {:.2E} to {:.2E}\".format(n_to_select, len(argsort_features),\n",
    "                                                                min(CFW_weithing.D_best[selected_features]),\n",
    "                                                                max(CFW_weithing.D_best[selected_features])))\n",
    "    \n",
    "    itemKNNCBF = ItemKNNCBFRecommender(URM_train, ICM_selected)\n",
    "    itemKNNCBF.fit(**best_hyperparams_ItemKNNCBF)\n",
    "    \n",
    "    results_df, _ = evaluator_test.evaluateRecommender(itemKNNCBF)\n",
    "    map_list.append(results_df.loc[10][\"MAP\"])\n",
    "    \n",
    "    "
   ]
  },
  {
   "cell_type": "code",
   "execution_count": 42,
   "metadata": {},
   "outputs": [
    {
     "data": {
      "image/png": "[encoded data removed]",
      "text/plain": [
       "<Figure size 432x288 with 1 Axes>"
      ]
     },
     "metadata": {
      "needs_background": "light"
     },
     "output_type": "display_data"
    }
   ],
   "source": [
    "pyplot.plot(selection_quota_list, map_list)\n",
    "pyplot.ylabel('MAP')\n",
    "pyplot.xlabel('Selected features')\n",
    "pyplot.title(\"Features selected from the highest weight to the lowest\")\n",
    "pyplot.show()"
   ]
  },
  {
   "cell_type": "code",
   "execution_count": 43,
   "metadata": {},
   "outputs": [
    {
     "name": "stdout",
     "output_type": "stream",
     "text": [
      "Selected 3031/10106 features, weights: 0.00E+00 to 0.00E+00\n",
      "ItemKNNCBFRecommender: URM Detected 46 ( 0.4%) items with no interactions.\n",
      "ItemKNNCBFRecommender: ICM Detected 8696 (81.4%) items with no features.\n",
      "Similarity column 10681 (100.0%), 15491.99 column/sec. Elapsed time 0.69 sec\n",
      "EvaluatorHoldout: Processed 69805 (100.0%) in 1.60 min. Users per second: 726\n",
      "Selected 5053/10106 features, weights: 0.00E+00 to 0.00E+00\n",
      "ItemKNNCBFRecommender: URM Detected 46 ( 0.4%) items with no interactions.\n",
      "ItemKNNCBFRecommender: ICM Detected 7993 (74.8%) items with no features.\n",
      "Similarity column 10681 (100.0%), 15773.41 column/sec. Elapsed time 0.68 sec\n",
      "EvaluatorHoldout: Processed 69805 (100.0%) in 1.61 min. Users per second: 722\n",
      "Selected 7074/10106 features, weights: -1.11E-02 to 1.11E-02\n",
      "ItemKNNCBFRecommender: URM Detected 46 ( 0.4%) items with no interactions.\n",
      "ItemKNNCBFRecommender: ICM Detected 4005 (37.5%) items with no features.\n",
      "Similarity column 10681 (100.0%), 9578.82 column/sec. Elapsed time 1.12 sec\n",
      "EvaluatorHoldout: Processed 69805 (100.0%) in 2.13 min. Users per second: 547\n",
      "Selected 9095/10106 features, weights: -4.83E-02 to 4.85E-02\n",
      "ItemKNNCBFRecommender: URM Detected 46 ( 0.4%) items with no interactions.\n",
      "ItemKNNCBFRecommender: ICM Detected 3289 (30.8%) items with no features.\n",
      "Similarity column 10681 (100.0%), 8981.49 column/sec. Elapsed time 1.19 sec\n",
      "EvaluatorHoldout: Processed 69805 (100.0%) in 2.15 min. Users per second: 542\n"
     ]
    }
   ],
   "source": [
    "argsort_features = np.argsort(np.abs(CFW_weithing.D_best))\n",
    "\n",
    "map_list = []\n",
    "selection_quota_list = [0.3, 0.5, 0.7, 0.9]\n",
    "\n",
    "for selection_quota in selection_quota_list:\n",
    "    \n",
    "    n_to_select = int(selection_quota*len(argsort_features))\n",
    "    selected_features = argsort_features[:n_to_select]\n",
    "    \n",
    "    ICM_selected = ICM_tags[:,selected_features]\n",
    "    \n",
    "    print(\"Selected {}/{} features, weights: {:.2E} to {:.2E}\".format(n_to_select, len(argsort_features),\n",
    "                                                                min(CFW_weithing.D_best[selected_features]),\n",
    "                                                                max(CFW_weithing.D_best[selected_features])))\n",
    "    \n",
    "    itemKNNCBF = ItemKNNCBFRecommender(URM_train, ICM_selected)\n",
    "    itemKNNCBF.fit(**best_hyperparams_ItemKNNCBF)\n",
    "    \n",
    "    results_df, _ = evaluator_test.evaluateRecommender(itemKNNCBF)\n",
    "    map_list.append(results_df.loc[10][\"MAP\"])\n",
    "    \n",
    "    "
   ]
  },
  {
   "cell_type": "code",
   "execution_count": 44,
   "metadata": {},
   "outputs": [
    {
     "data": {
      "image/png": "[encoded data removed]",
      "text/plain": [
       "<Figure size 432x288 with 1 Axes>"
      ]
     },
     "metadata": {
      "needs_background": "light"
     },
     "output_type": "display_data"
    }
   ],
   "source": [
    "pyplot.plot(selection_quota_list, map_list)\n",
    "pyplot.ylabel('MAP')\n",
    "pyplot.xlabel('Selected features')\n",
    "pyplot.title(\"Features selected from the highest absolute weight to the lowest\")\n",
    "pyplot.show()"
   ]
  },
  {
   "cell_type": "code",
   "execution_count": null,
   "metadata": {},
   "outputs": [],
   "source": []
  }
 ],
 "metadata": {
  "kernelspec": {
   "display_name": "Python 3",
   "language": "python",
   "name": "python3"
  },
  "language_info": {
   "codemirror_mode": {
    "name": "ipython",
    "version": 3
   },
   "file_extension": ".py",
   "mimetype": "text/x-python",
   "name": "python",
   "nbconvert_exporter": "python",
   "pygments_lexer": "ipython3",
   "version": "3.8.8"
  }
 },
 "nbformat": 4,
 "nbformat_minor": 2
}
