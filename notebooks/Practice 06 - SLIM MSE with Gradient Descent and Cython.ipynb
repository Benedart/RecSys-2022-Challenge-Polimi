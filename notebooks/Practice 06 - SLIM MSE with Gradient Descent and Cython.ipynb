{
 "cells": [
  {
   "cell_type": "markdown",
   "metadata": {},
   "source": [
    "# Recommender Systems 2021/20\n",
    "\n",
    "### Practice - SLIM MSE implemented with Python and Cython\n",
    "\n",
    "\n",
    "### Cython is a superset of Python, allowing you to use C-like operations and import C code. Cython files (.pyx) are compiled and support static typing.\n",
    "\n",
    "### Why do we use it (or any other compiled language)? If the code is written properly it is fast... I mean, FAST"
   ]
  },
  {
   "cell_type": "code",
   "execution_count": 1,
   "metadata": {},
   "outputs": [],
   "source": [
    "import time\n",
    "import numpy as np"
   ]
  },
  {
   "cell_type": "markdown",
   "metadata": {},
   "source": [
    "### Let's implement something simple"
   ]
  },
  {
   "cell_type": "code",
   "execution_count": 2,
   "metadata": {},
   "outputs": [],
   "source": [
    "def isPrime(n):\n",
    "    \n",
    "    i = 2\n",
    "    \n",
    "    # Usually you loop up to sqrt(n)\n",
    "    while i < n:\n",
    "        if n % i == 0:\n",
    "            return False\n",
    "        \n",
    "        i += 1\n",
    "        \n",
    "    return True"
   ]
  },
  {
   "cell_type": "code",
   "execution_count": 3,
   "metadata": {},
   "outputs": [
    {
     "name": "stdout",
     "output_type": "stream",
     "text": [
      "Is prime 2? True\n",
      "Is prime 3? True\n",
      "Is prime 5? True\n",
      "Is prime 15? False\n",
      "Is prime 20? False\n"
     ]
    }
   ],
   "source": [
    "print(\"Is prime 2? {}\".format(isPrime(2)))\n",
    "print(\"Is prime 3? {}\".format(isPrime(3)))\n",
    "print(\"Is prime 5? {}\".format(isPrime(5)))\n",
    "print(\"Is prime 15? {}\".format(isPrime(15)))\n",
    "print(\"Is prime 20? {}\".format(isPrime(20)))"
   ]
  },
  {
   "cell_type": "code",
   "execution_count": 4,
   "metadata": {},
   "outputs": [
    {
     "name": "stdout",
     "output_type": "stream",
     "text": [
      "Is Prime 80000023? True, time required 7.22 sec\n"
     ]
    }
   ],
   "source": [
    "start_time = time.time()\n",
    "\n",
    "result = isPrime(80000023)\n",
    "\n",
    "print(\"Is Prime 80000023? {}, time required {:.2f} sec\".format(result, time.time()-start_time))"
   ]
  },
  {
   "cell_type": "markdown",
   "metadata": {},
   "source": [
    "#### Load Cython magic command, this takes care of the compilation step. If you are writing code outside Jupyter you'll have to compile using other tools. See at the end of the notebook for details."
   ]
  },
  {
   "cell_type": "code",
   "execution_count": 5,
   "metadata": {},
   "outputs": [],
   "source": [
    "%load_ext Cython"
   ]
  },
  {
   "cell_type": "markdown",
   "metadata": {},
   "source": [
    "#### Declare Cython function, paste the same code as before. The function will be compiled and then executed with a Python interface"
   ]
  },
  {
   "cell_type": "code",
   "execution_count": 6,
   "metadata": {},
   "outputs": [],
   "source": [
    "%%cython\n",
    "def isPrime(n):\n",
    "    \n",
    "    i = 2\n",
    "    \n",
    "    # Usually you loop up to sqrt(n)\n",
    "    while i < n:\n",
    "        if n % i == 0:\n",
    "            return False\n",
    "        \n",
    "        i += 1\n",
    "        \n",
    "    return True"
   ]
  },
  {
   "cell_type": "code",
   "execution_count": 7,
   "metadata": {},
   "outputs": [
    {
     "name": "stdout",
     "output_type": "stream",
     "text": [
      "Is Prime 80000023? True, time required 3.73 sec\n"
     ]
    }
   ],
   "source": [
    "start_time = time.time()\n",
    "\n",
    "result = isPrime(80000023)\n",
    "\n",
    "print(\"Is Prime 80000023? {}, time required {:.2f} sec\".format(result, time.time()-start_time))"
   ]
  },
  {
   "cell_type": "markdown",
   "metadata": {},
   "source": [
    "#### As you can see by just compiling the same code we got some improvement.\n",
    "#### To go seriously higher, we have to use some static tiping"
   ]
  },
  {
   "cell_type": "code",
   "execution_count": 8,
   "metadata": {},
   "outputs": [],
   "source": [
    "%%cython\n",
    "# Declare the tipe of the arguments\n",
    "def isPrime(long n):\n",
    "    \n",
    "    # Declare index of for loop\n",
    "    cdef long i\n",
    "    \n",
    "    i = 2\n",
    "    \n",
    "    # Usually you loop up to sqrt(n)\n",
    "    while i < n:\n",
    "        if n % i == 0:\n",
    "            return False\n",
    "        \n",
    "        i += 1\n",
    "        \n",
    "    return True"
   ]
  },
  {
   "cell_type": "code",
   "execution_count": 9,
   "metadata": {},
   "outputs": [
    {
     "name": "stdout",
     "output_type": "stream",
     "text": [
      "Is Prime 80000023? True, time required 0.68 sec\n"
     ]
    }
   ],
   "source": [
    "start_time = time.time()\n",
    "\n",
    "result = isPrime(80000023)\n",
    "\n",
    "print(\"Is Prime 80000023? {}, time required {:.2f} sec\".format(result, time.time()-start_time))"
   ]
  },
  {
   "cell_type": "markdown",
   "metadata": {},
   "source": [
    "#### Cython code with two tipe declaration, for n and i, runs 50x faster than Python"
   ]
  },
  {
   "cell_type": "markdown",
   "metadata": {},
   "source": [
    "#### Main benefits of Cython:\n",
    "* Compiled, no interpreter\n",
    "* Static typing, no overhead\n",
    "* Fast loops, no need to vectorize. Vectorization sometimes performes lots of useless operations\n",
    "* Numpy, which is fast in python, when opertions are not vectorizable often becomes slooooow compared to a carefully written Cython code"
   ]
  },
  {
   "cell_type": "markdown",
   "metadata": {},
   "source": [
    "## A few info about gradient descent"
   ]
  },
  {
   "cell_type": "code",
   "execution_count": 10,
   "metadata": {},
   "outputs": [],
   "source": [
    "%matplotlib inline\n",
    "import numpy as np\n",
    "import scipy as sp\n",
    "import matplotlib.pyplot as plt\n",
    "import random\n",
    "from scipy import stats\n",
    "from scipy.optimize import fmin"
   ]
  },
  {
   "cell_type": "markdown",
   "metadata": {},
   "source": [
    "<b>Gradient descent</b>, also known as <b>steepest descent</b>, is an optimization algorithm for finding the local minimum of a function. To find a local minimum, the function \"steps\" in the  direction of the negative of the gradient. <b>Gradient ascent</b> is the same as gradient descent, except that it steps in the direction of the positive of the gradient and therefore finds local maximums instead of minimums. The algorithm of gradient descent can be outlined as follows:\n",
    "\n",
    "&nbsp;&nbsp;&nbsp; 1: &nbsp; Choose initial guess $x_0$ <br>\n",
    "&nbsp;&nbsp;&nbsp;    2: &nbsp; <b>for</b> k = 0, 1, 2, ... <b>do</b> <br>\n",
    "&nbsp;&nbsp;&nbsp;    3:   &nbsp;&nbsp;&nbsp;&nbsp;&nbsp; $s_k$ = -$\\nabla f(x_k)$ <br>\n",
    "&nbsp;&nbsp;&nbsp;    4:   &nbsp;&nbsp;&nbsp;&nbsp;&nbsp; choose $\\alpha_k$ to minimize $f(x_k+\\alpha_k s_k)$ <br>\n",
    "&nbsp;&nbsp;&nbsp;    5:   &nbsp;&nbsp;&nbsp;&nbsp;&nbsp; $x_{k+1} = x_k + \\alpha_k s_k$ <br>\n",
    "&nbsp;&nbsp;&nbsp;    6: &nbsp;  <b>end for</b>\n",
    "\n",
    "As a simple example, let's find a local minimum for the function $f(x) = x^3-2x^2+2$"
   ]
  },
  {
   "cell_type": "code",
   "execution_count": 11,
   "metadata": {},
   "outputs": [],
   "source": [
    "f = lambda x: x**3-2*x**2+2"
   ]
  },
  {
   "cell_type": "code",
   "execution_count": 12,
   "metadata": {},
   "outputs": [
    {
     "data": {
      "image/png": "[encoded data removed]",
      "text/plain": [
       "<Figure size 432x288 with 1 Axes>"
      ]
     },
     "metadata": {
      "needs_background": "light"
     },
     "output_type": "display_data"
    }
   ],
   "source": [
    "x = np.linspace(-1,2.5,1000)\n",
    "plt.plot(x,f(x))\n",
    "plt.xlim([-1,2.5])\n",
    "plt.ylim([0,3])\n",
    "plt.show()"
   ]
  },
  {
   "cell_type": "markdown",
   "metadata": {},
   "source": [
    "We can see from plot above that our local minimum is gonna be near around 1.4 or 1.5 (on the x-axis), but let's pretend that we don't know that, so we set our starting point (arbitrarily, in this case) at $x_0 = 2$"
   ]
  },
  {
   "cell_type": "code",
   "execution_count": 13,
   "metadata": {},
   "outputs": [
    {
     "name": "stdout",
     "output_type": "stream",
     "text": [
      "Local minimum occurs at: 1.33\n",
      "Number of steps: 17\n"
     ]
    }
   ],
   "source": [
    "x_old = 0\n",
    "x_new = 2 # The algorithm starts at x=2\n",
    "n_k = 0.1 # step size\n",
    "precision = 0.0001\n",
    "\n",
    "x_list, y_list = [x_new], [f(x_new)]\n",
    "\n",
    "# returns the value of the derivative of our function\n",
    "def f_gradient(x):\n",
    "    return 3*x**2-4*x\n",
    " \n",
    "while abs(x_new - x_old) > precision:\n",
    "    \n",
    "    x_old = x_new\n",
    "    \n",
    "    # Gradient descent step\n",
    "    s_k = -f_gradient(x_old)\n",
    "    \n",
    "    x_new = x_old + n_k * s_k\n",
    "    \n",
    "    x_list.append(x_new)\n",
    "    y_list.append(f(x_new))\n",
    "    \n",
    "print (\"Local minimum occurs at: {:.2f}\".format(x_new))\n",
    "print (\"Number of steps:\", len(x_list))"
   ]
  },
  {
   "cell_type": "markdown",
   "metadata": {},
   "source": [
    "The figures below show the route that was taken to find the local minimum."
   ]
  },
  {
   "cell_type": "code",
   "execution_count": 14,
   "metadata": {},
   "outputs": [
    {
     "data": {
      "image/png": "[encoded data removed]",
      "text/plain": [
       "<Figure size 720x216 with 2 Axes>"
      ]
     },
     "metadata": {
      "needs_background": "light"
     },
     "output_type": "display_data"
    }
   ],
   "source": [
    "plt.figure(figsize=[10,3])\n",
    "plt.subplot(1,2,1)\n",
    "plt.scatter(x_list,y_list,c=\"r\")\n",
    "plt.plot(x_list,y_list,c=\"r\")\n",
    "plt.plot(x,f(x), c=\"b\")\n",
    "plt.xlim([-1,2.5])\n",
    "plt.ylim([0,3])\n",
    "plt.title(\"Gradient descent\")\n",
    "plt.subplot(1,2,2)\n",
    "plt.scatter(x_list,y_list,c=\"r\")\n",
    "plt.plot(x_list,y_list,c=\"r\")\n",
    "plt.plot(x,f(x), c=\"b\")\n",
    "plt.xlim([1.2,2.1])\n",
    "plt.ylim([0,3])\n",
    "plt.title(\"Gradient descent (zoomed in)\")\n",
    "plt.show()"
   ]
  },
  {
   "cell_type": "markdown",
   "metadata": {},
   "source": [
    "# SLIM MSE with Cython\n",
    "\n",
    "#### Load the usual data."
   ]
  },
  {
   "cell_type": "code",
   "execution_count": 15,
   "metadata": {},
   "outputs": [
    {
     "name": "stdout",
     "output_type": "stream",
     "text": [
      "Movielens10M: Verifying data consistency...\n",
      "Movielens10M: Verifying data consistency... Passed!\n",
      "DataReader: current dataset is: Movielens10M\n",
      "\tNumber of items: 10681\n",
      "\tNumber of users: 69878\n",
      "\tNumber of interactions in URM_all: 10000054\n",
      "\tValue range in URM_all: 0.50-5.00\n",
      "\tInteraction density: 1.34E-02\n",
      "\tInteractions per user:\n",
      "\t\t Min: 2.00E+01\n",
      "\t\t Avg: 1.43E+02\n",
      "\t\t Max: 7.36E+03\n",
      "\tInteractions per item:\n",
      "\t\t Min: 0.00E+00\n",
      "\t\t Avg: 9.36E+02\n",
      "\t\t Max: 3.49E+04\n",
      "\tGini Index: 0.57\n",
      "\n",
      "\tICM name: ICM_genres, Value range: 1.00 / 1.00, Num features: 20, feature occurrences: 21564, density 1.01E-01\n",
      "\tICM name: ICM_all, Value range: 1.00 / 69.00, Num features: 10126, feature occurrences: 128384, density 1.19E-03\n",
      "\tICM name: ICM_year, Value range: 6.00E+00 / 2.01E+03, Num features: 1, feature occurrences: 10681, density 1.00E+00\n",
      "\tICM name: ICM_tags, Value range: 1.00 / 69.00, Num features: 10106, feature occurrences: 106820, density 9.90E-04\n",
      "\n",
      "\n",
      "Warning: 77 (0.11 %) of 69878 users have no sampled items\n"
     ]
    }
   ],
   "source": [
    "from Data_manager.split_functions.split_train_validation_random_holdout import split_train_in_two_percentage_global_sample\n",
    "from Data_manager.Movielens.Movielens10MReader import Movielens10MReader\n",
    "\n",
    "data_reader = Movielens10MReader()\n",
    "data_loaded = data_reader.load_data()\n",
    "\n",
    "URM_all = data_loaded.get_URM_all()\n",
    "\n",
    "URM_train, URM_test = split_train_in_two_percentage_global_sample(URM_all, train_percentage = 0.8)"
   ]
  },
  {
   "cell_type": "code",
   "execution_count": 16,
   "metadata": {},
   "outputs": [
    {
     "data": {
      "text/plain": [
       "<69878x10681 sparse matrix of type '<class 'numpy.float64'>'\n",
       "\twith 8000043 stored elements in Compressed Sparse Row format>"
      ]
     },
     "execution_count": 16,
     "metadata": {},
     "output_type": "execute_result"
    }
   ],
   "source": [
    "URM_train"
   ]
  },
  {
   "cell_type": "markdown",
   "metadata": {},
   "source": [
    "## What do we need for a SLIM MSE?\n",
    "\n",
    "* Loss function\n",
    "* Item-Item similarity matrix\n",
    "* Computing prediction\n",
    "* Update rule\n",
    "* Training loop and some patience\n"
   ]
  },
  {
   "cell_type": "code",
   "execution_count": 17,
   "metadata": {},
   "outputs": [],
   "source": [
    "n_users, n_items = URM_train.shape"
   ]
  },
  {
   "cell_type": "markdown",
   "metadata": {},
   "source": [
    "#### SLIM MSE is based on a dense item-item similarity matrix $ S \\in R^{I \\times I}$ \n",
    "\n",
    "### How to compute the predictions\n",
    "$ \\hat{r}_{ui} = \\sum_{j=0}^{I} r_{uj}S_{ji}$\n",
    "\n",
    "\n",
    "### The loss function we are interested in minimizing is\n",
    "\n",
    "$L = |R - RS|_2 + \\alpha|S|_2 + \\beta|S|$\n",
    "\n",
    "#### The gradient of this with respect to S is\n",
    "$\\frac{\\partial}{\\partial S} L = -2(R - RS)R + 2 \\alpha S + \\beta$\n",
    "\n",
    "#### The update is going to be (we can remove the coefficients)\n",
    "$ S = S - \\frac{\\partial}{\\partial S}$, or \n",
    "\n",
    "$ S = S + l((R - RS)R - \\alpha S - \\beta)$, with $l$ the learning rate"
   ]
  },
  {
   "cell_type": "markdown",
   "metadata": {},
   "source": [
    "### WARNING:\n",
    "During the learning process we must account for the fact that a possible solution for SLIM EN is $S=I$, which is a trivial and useless solution. We want to avoid that the diagonal is 1. This can be done by either introducing a penalty in the loss function or by simply never using and updating the diagonal. In this notebook we will never learn the self-similarity (the similarity of an item with itself, i.e., the diagonal) by ensuring it is always zero."
   ]
  },
  {
   "cell_type": "markdown",
   "metadata": {},
   "source": [
    "## Step 1: We create a dense similarity matrix, initialized as zero"
   ]
  },
  {
   "cell_type": "code",
   "execution_count": 18,
   "metadata": {},
   "outputs": [
    {
     "data": {
      "text/plain": [
       "array([[0., 0., 0., ..., 0., 0., 0.],\n",
       "       [0., 0., 0., ..., 0., 0., 0.],\n",
       "       [0., 0., 0., ..., 0., 0., 0.],\n",
       "       ...,\n",
       "       [0., 0., 0., ..., 0., 0., 0.],\n",
       "       [0., 0., 0., ..., 0., 0., 0.],\n",
       "       [0., 0., 0., ..., 0., 0., 0.]])"
      ]
     },
     "execution_count": 18,
     "metadata": {},
     "output_type": "execute_result"
    }
   ],
   "source": [
    "item_item_S = np.zeros((n_items, n_items), dtype = float)\n",
    "item_item_S"
   ]
  },
  {
   "cell_type": "markdown",
   "metadata": {},
   "source": [
    "## Step 2: We sample an interaction and compute the prediction of the current SLIM model"
   ]
  },
  {
   "cell_type": "code",
   "execution_count": 19,
   "metadata": {},
   "outputs": [
    {
     "data": {
      "text/plain": [
       "7064025"
      ]
     },
     "execution_count": 19,
     "metadata": {},
     "output_type": "execute_result"
    }
   ],
   "source": [
    "URM_train_coo = URM_train.tocoo()\n",
    "\n",
    "sample_index = np.random.randint(URM_train_coo.nnz)\n",
    "sample_index"
   ]
  },
  {
   "cell_type": "code",
   "execution_count": 20,
   "metadata": {},
   "outputs": [
    {
     "data": {
      "text/plain": [
       "(61820, 72, 4.0)"
      ]
     },
     "execution_count": 20,
     "metadata": {},
     "output_type": "execute_result"
    }
   ],
   "source": [
    "user_id = URM_train_coo.row[sample_index]\n",
    "item_id = URM_train_coo.col[sample_index]\n",
    "true_rating = URM_train_coo.data[sample_index]\n",
    "\n",
    "(user_id, item_id, true_rating)"
   ]
  },
  {
   "cell_type": "code",
   "execution_count": 21,
   "metadata": {},
   "outputs": [
    {
     "data": {
      "text/plain": [
       "0.0"
      ]
     },
     "execution_count": 21,
     "metadata": {},
     "output_type": "execute_result"
    }
   ],
   "source": [
    "predicted_rating = URM_train[user_id].dot(item_item_S[:,item_id])[0]\n",
    "predicted_rating"
   ]
  },
  {
   "cell_type": "markdown",
   "metadata": {},
   "source": [
    "#### The first predicted rating is zero, of course, the model is \"empty\"\n",
    "\n",
    "### Step 3: We compute the prediction error and update the item-item similarity"
   ]
  },
  {
   "cell_type": "code",
   "execution_count": 22,
   "metadata": {},
   "outputs": [
    {
     "data": {
      "text/plain": [
       "4.0"
      ]
     },
     "execution_count": 22,
     "metadata": {},
     "output_type": "execute_result"
    }
   ],
   "source": [
    "prediction_error = true_rating - predicted_rating\n",
    "prediction_error"
   ]
  },
  {
   "cell_type": "markdown",
   "metadata": {},
   "source": [
    "### The error is positive, so we need to increase the prediction our model computes. Meaning, we have to increase the values in the item-item similarity matrix\n",
    "\n",
    "### Which item similarities we modify? Only those we used to compute the prediction, i.e., only the items in the profile of the sampled user. "
   ]
  },
  {
   "cell_type": "code",
   "execution_count": 23,
   "metadata": {},
   "outputs": [
    {
     "data": {
      "text/plain": [
       "array([   1,    3,    7,    9,   10,   11,   16,   18,   19,   21,   22,\n",
       "         24,   27,   29,   31,   32,   33,   34,   35,   37,   43,   46,\n",
       "         47,   48,   50,   51,   52,   56,   57,   58,   60,   62,   63,\n",
       "         64,   71,   72,   73,   74,   77,   78,   80,   82,   84,   85,\n",
       "         88,   90,   95,   96,   97,   98,  101,  102,  104,  105,  108,\n",
       "        110,  111,  112,  117,  118,  119,  130,  131,  133,  134,  137,\n",
       "        138,  139,  141,  142,  144,  145,  146,  147,  148,  151,  154,\n",
       "        156,  163,  165,  167,  170,  175,  176,  178,  179,  183,  187,\n",
       "        188,  189,  192,  193,  194,  197,  198,  199,  201,  203,  204,\n",
       "        205,  208,  211,  212,  213,  216,  218,  221,  228,  236,  242,\n",
       "        244,  246,  248,  252,  258,  259,  261,  264,  277,  278,  279,\n",
       "        284,  296,  297,  300,  305,  306,  307,  309,  310,  311,  312,\n",
       "        315,  316,  319,  321,  329,  335,  337,  338,  339,  349,  351,\n",
       "        355,  368,  369,  379,  380,  382,  384,  385,  389,  391,  399,\n",
       "        401,  412,  413,  414,  415,  416,  417,  418,  422,  423,  429,\n",
       "        436,  437,  439,  446,  448,  450,  453,  454,  461,  466,  467,\n",
       "        468,  469,  473,  474,  475,  476,  481,  483,  484,  485,  487,\n",
       "        488,  489,  499,  500,  504,  513,  519,  523,  529,  531,  533,\n",
       "        535,  536,  537,  540,  545,  555,  560,  561,  563,  565,  579,\n",
       "        588,  590,  603,  604,  605,  606,  610,  614,  616,  625,  626,\n",
       "        630,  632,  646,  651,  655,  660,  663,  666,  669,  670,  676,\n",
       "        686,  687,  697,  705,  707,  712,  713,  714,  716,  717,  731,\n",
       "        738,  744,  745,  746,  747,  750,  774,  777,  782,  784,  786,\n",
       "        787,  793,  795,  798,  799,  801,  821,  822,  826,  832,  841,\n",
       "        844,  863,  864,  866,  868,  871,  896,  897,  902,  915,  958,\n",
       "        961,  966,  968,  982,  989,  995,  997,  998, 1002, 1005, 1006,\n",
       "       1007, 1008, 1009, 1028, 1032, 1033, 1035, 1036, 1038, 1039, 1041,\n",
       "       1042, 1048, 1051, 1055, 1057, 1059, 1069, 1080, 1081, 1085, 1086,\n",
       "       1093, 1098, 1100, 1102, 1105, 1108, 1109, 1115, 1122, 1131, 1141,\n",
       "       1147, 1153, 1161, 1162, 1171, 1189, 1196, 1204, 1213, 1216, 1229,\n",
       "       1239, 1242, 1251, 1255, 1280, 1281, 1283, 1284, 1287, 1292, 1293,\n",
       "       1294, 1300, 1303, 1304, 1309, 1311, 1313, 1316, 1317, 1319, 1320,\n",
       "       1323, 1325, 1327, 1331, 1333, 1334, 1337, 1344, 1346, 1347, 1351,\n",
       "       1353, 1355, 1359, 1360, 1361, 1362, 1363, 1364, 1365, 1366, 1367,\n",
       "       1368, 1371, 1376, 1385, 1404, 1405, 1412, 1418, 1423, 1425, 1426,\n",
       "       1449, 1464, 1467, 1472, 1473, 1478, 1482, 1484, 1487, 1494, 1500,\n",
       "       1501, 1512, 1522, 1524, 1525, 1526, 1529, 1531, 1535, 1538, 1540,\n",
       "       1544, 1547, 1572, 1573, 1576, 1588, 1593, 1601, 1612, 1613, 1618,\n",
       "       1619, 1623, 1626, 1627, 1634, 1652, 1653, 1654, 1655, 1665, 1666,\n",
       "       1667, 1673, 1674, 1675, 1679, 1682, 1691, 1692, 1695, 1698, 1704,\n",
       "       1705, 1726, 1727, 1728, 1738, 1739, 1741, 1743, 1760, 1762, 1766,\n",
       "       1769, 1772, 1792, 1793, 1795, 1800, 1805, 1812, 1815, 1822, 1823,\n",
       "       1826, 1836, 1848, 1852, 1857, 1861, 1872, 1878, 1879, 1882, 1896,\n",
       "       1906, 1910, 1913, 1919, 1920, 1921, 1922, 1925, 1930, 1931, 1953,\n",
       "       1954, 1977, 1987, 1989, 1991, 1995, 1997, 1999, 2004, 2005, 2006,\n",
       "       2007, 2011, 2015, 2017, 2023, 2025, 2027, 2034, 2037, 2038, 2040,\n",
       "       2045, 2047, 2048, 2049, 2051, 2053, 2055, 2056, 2057, 2058, 2107,\n",
       "       2138, 2158, 2192, 2240, 2257, 2287, 2292, 2302, 2306, 2452, 2472,\n",
       "       2494, 2496, 2498, 2499, 2529, 2536, 2547, 2553, 2554, 2568, 2573,\n",
       "       2598, 2606, 2618, 2653, 2673, 2674, 2677, 2687, 2695, 2712, 2721,\n",
       "       2735, 2782, 2789, 2810, 2823, 2848, 2886, 2894, 2945, 2947, 2966,\n",
       "       2980, 3001, 3007, 3013, 3014, 3021, 3049, 3071, 3073, 3074, 3093,\n",
       "       3094, 3140, 3197, 3204, 3213, 3215, 3222, 3228, 3231, 3233, 3237,\n",
       "       3284, 3310, 3316, 3317, 3329, 3348, 3355, 3387, 3395, 3399, 3421,\n",
       "       3442, 3465, 3489, 3498, 3516, 3570, 3572, 3606, 3626, 3633, 3634,\n",
       "       3669, 3690, 3780, 3790, 3835, 3862, 3870, 3889, 3924, 3952, 3953,\n",
       "       3966, 3970, 4002, 4013, 4030, 4031, 4041, 4052, 4055, 4070, 4074,\n",
       "       4082, 4088, 4181, 4564, 4587, 4617, 5075, 5250, 5283, 5315, 5423,\n",
       "       5442, 5544, 5899, 5901, 6082, 6090, 6170, 6207, 6300, 7025, 7559,\n",
       "       8235], dtype=int32)"
      ]
     },
     "execution_count": 23,
     "metadata": {},
     "output_type": "execute_result"
    }
   ],
   "source": [
    "items_in_user_profile = URM_train[user_id].indices\n",
    "items_in_user_profile"
   ]
  },
  {
   "cell_type": "code",
   "execution_count": 24,
   "metadata": {},
   "outputs": [
    {
     "data": {
      "text/plain": [
       "array([2. , 3. , 3. , 3. , 1. , 4. , 3. , 3. , 3. , 2. , 3. , 4. , 3. ,\n",
       "       3. , 3. , 2. , 3. , 5. , 3. , 3. , 3.5, 4. , 4. , 3. , 4. , 3. ,\n",
       "       4. , 4. , 3. , 3. , 4.5, 4. , 4. , 3. , 3. , 4. , 5. , 3. , 3. ,\n",
       "       3. , 3. , 4. , 3. , 4. , 3. , 3. , 3. , 4. , 3. , 4. , 5. , 1.5,\n",
       "       3. , 5. , 3. , 3. , 3. , 4. , 5. , 4. , 4. , 3. , 4. , 3. , 2. ,\n",
       "       2. , 3. , 4. , 3. , 3. , 3. , 5. , 5. , 5. , 5. , 4. , 3. , 3. ,\n",
       "       5. , 4. , 4. , 3. , 4. , 5. , 5. , 3. , 3. , 4. , 3. , 3. , 3. ,\n",
       "       3. , 2. , 3. , 3. , 3. , 1. , 4. , 2. , 4. , 3. , 3. , 3. , 5. ,\n",
       "       5. , 5. , 4. , 3. , 3. , 4. , 5. , 4. , 2. , 3. , 2. , 4. , 5. ,\n",
       "       4. , 4. , 4. , 4. , 4. , 4. , 3. , 3. , 3. , 3. , 4. , 1. , 1. ,\n",
       "       4. , 4. , 3. , 3. , 2. , 3. , 5. , 2. , 4. , 3. , 4. , 2. , 4. ,\n",
       "       3. , 2. , 3. , 3. , 2. , 4. , 5. , 4. , 3. , 3. , 4. , 4. , 4. ,\n",
       "       4. , 4. , 3. , 3. , 4. , 1. , 5. , 2. , 4. , 1. , 4. , 2. , 3. ,\n",
       "       1. , 1. , 3. , 4. , 5. , 4. , 3. , 3. , 3. , 4. , 2. , 2. , 3. ,\n",
       "       3. , 4. , 3. , 3. , 4. , 2.5, 3. , 3. , 3. , 2. , 3. , 2. , 3. ,\n",
       "       2. , 2. , 3. , 3. , 3. , 3. , 5. , 4. , 3. , 3. , 2. , 3. , 4. ,\n",
       "       4. , 3. , 3. , 5. , 3.5, 5. , 1. , 3. , 2. , 3. , 4. , 3. , 4. ,\n",
       "       3. , 3. , 3. , 4. , 3.5, 4. , 4. , 3. , 3. , 2. , 3. , 4. , 3. ,\n",
       "       3. , 3. , 3. , 3. , 3. , 3. , 3. , 4. , 1. , 3. , 3. , 1. , 3. ,\n",
       "       4. , 3. , 2. , 3. , 2. , 3. , 3. , 4. , 4. , 5. , 2. , 4. , 4. ,\n",
       "       2. , 3.5, 3. , 3.5, 4. , 2. , 2.5, 2. , 4. , 3.5, 4. , 4. , 2.5,\n",
       "       3. , 2.5, 3. , 4. , 4. , 3.5, 3. , 4. , 5. , 4.5, 3. , 3. , 2. ,\n",
       "       5. , 3. , 3. , 5. , 2. , 4. , 4. , 4. , 3. , 3. , 3. , 3. , 3. ,\n",
       "       3. , 4. , 3. , 3. , 3. , 2. , 3. , 3. , 3. , 4. , 1. , 3. , 3. ,\n",
       "       3. , 2. , 4. , 1. , 1. , 3. , 1. , 4. , 3. , 2. , 3. , 3. , 4. ,\n",
       "       4. , 3. , 4. , 2.5, 3.5, 3. , 3. , 3. , 3. , 3. , 3. , 2. , 2. ,\n",
       "       1. , 3. , 5. , 4. , 3. , 3. , 3. , 3. , 3. , 4. , 5. , 4. , 5. ,\n",
       "       3. , 3. , 3. , 2. , 3. , 3. , 3. , 3. , 4. , 2. , 1. , 4. , 5. ,\n",
       "       2. , 2. , 4. , 2. , 3. , 4. , 3. , 3. , 4. , 3. , 3. , 3. , 3. ,\n",
       "       3.5, 3. , 3. , 3. , 3. , 3. , 3. , 3. , 3. , 4. , 3. , 3. , 3. ,\n",
       "       3. , 2. , 4. , 3. , 3. , 4. , 3. , 3. , 3. , 3. , 1. , 1. , 2. ,\n",
       "       4. , 3. , 3. , 3. , 3. , 3. , 4. , 2. , 3. , 3. , 3. , 3. , 2. ,\n",
       "       3. , 2. , 4. , 2. , 2. , 2. , 3. , 3. , 4. , 4. , 3. , 3. , 3. ,\n",
       "       4. , 3. , 3. , 5. , 3. , 3. , 4. , 3. , 3. , 3. , 3. , 3. , 3. ,\n",
       "       3. , 4. , 3. , 3. , 3. , 4. , 2. , 3. , 3. , 4. , 3. , 4. , 4. ,\n",
       "       3. , 1. , 4. , 3. , 4. , 4. , 4. , 4. , 2. , 3.5, 2. , 4. , 3.5,\n",
       "       3. , 4. , 4. , 3. , 3.5, 2. , 3. , 3. , 2.5, 3. , 3. , 3. , 3. ,\n",
       "       3.5, 4. , 4. , 4. , 4. , 3. , 4. , 4. , 4. , 4. , 3. , 2. , 3. ,\n",
       "       4. , 2. , 3. , 4. , 4. , 3. , 3. , 4. , 3. , 3. , 3. , 3. , 3. ,\n",
       "       2. , 4. , 3. , 5. , 3. , 4. , 5. , 4. , 4. , 3. , 4. , 3. , 4. ,\n",
       "       3. , 4. , 3. , 1. , 3. , 4. , 3. , 4.5, 4. , 3. , 5. , 2. , 3. ,\n",
       "       4. , 4. , 3. , 1. , 3. , 3. , 3. , 5. , 3. , 3. , 4. , 4. , 4. ,\n",
       "       5. , 3. , 4. , 4. , 3. , 4. , 2. , 4. , 4. , 3. , 3. , 3. , 2. ,\n",
       "       3. , 3. , 3. , 2. , 3. , 3. , 3. , 4. , 4. , 3. , 3.5, 3. , 1. ,\n",
       "       3. , 5. , 4. , 3. , 3. , 4. , 4. , 4. , 4. , 4. , 3.5, 4.5, 4. ,\n",
       "       3. , 4. , 3. , 4. , 4. , 3. , 4. , 3. , 3. , 3. , 2. , 3. , 4. ,\n",
       "       4. , 3. , 3. , 3. , 3. , 4. , 3.5, 1. , 3. , 1. , 4. , 3. , 3.5,\n",
       "       4. , 3. , 3. , 3. , 3. , 4. , 3. , 4. , 3. , 2. , 2. , 3. , 3. ,\n",
       "       4. , 1. , 3. , 4. , 3. , 3. , 4. , 3. , 4. , 1. , 3.5, 3. , 4. ,\n",
       "       2. , 1. , 1. , 2. , 4. , 4. , 4. , 3. , 2. , 3. , 4. , 3. , 1. ])"
      ]
     },
     "execution_count": 24,
     "metadata": {},
     "output_type": "execute_result"
    }
   ],
   "source": [
    "ratings_in_user_profile = URM_train[user_id].data\n",
    "ratings_in_user_profile"
   ]
  },
  {
   "cell_type": "markdown",
   "metadata": {},
   "source": [
    "#### Apply the update rule"
   ]
  },
  {
   "cell_type": "code",
   "execution_count": 25,
   "metadata": {},
   "outputs": [
    {
     "data": {
      "text/plain": [
       "array([0., 0., 0., 0., 0., 0., 0., 0., 0., 0., 0., 0., 0., 0., 0., 0., 0.,\n",
       "       0., 0., 0., 0., 0., 0., 0., 0., 0., 0., 0., 0., 0., 0., 0., 0., 0.,\n",
       "       0., 0., 0., 0., 0., 0., 0., 0., 0., 0., 0., 0., 0., 0., 0., 0., 0.,\n",
       "       0., 0., 0., 0., 0., 0., 0., 0., 0., 0., 0., 0., 0., 0., 0., 0., 0.,\n",
       "       0., 0., 0., 0., 0., 0., 0., 0., 0., 0., 0., 0., 0., 0., 0., 0., 0.,\n",
       "       0., 0., 0., 0., 0., 0., 0., 0., 0., 0., 0., 0., 0., 0., 0., 0., 0.,\n",
       "       0., 0., 0., 0., 0., 0., 0., 0., 0., 0., 0., 0., 0., 0., 0., 0., 0.,\n",
       "       0., 0., 0., 0., 0., 0., 0., 0., 0., 0., 0., 0., 0., 0., 0., 0., 0.,\n",
       "       0., 0., 0., 0., 0., 0., 0., 0., 0., 0., 0., 0., 0., 0., 0., 0., 0.,\n",
       "       0., 0., 0., 0., 0., 0., 0., 0., 0., 0., 0., 0., 0., 0., 0., 0., 0.,\n",
       "       0., 0., 0., 0., 0., 0., 0., 0., 0., 0., 0., 0., 0., 0., 0., 0., 0.,\n",
       "       0., 0., 0., 0., 0., 0., 0., 0., 0., 0., 0., 0., 0., 0., 0., 0., 0.,\n",
       "       0., 0., 0., 0., 0., 0., 0., 0., 0., 0., 0., 0., 0., 0., 0., 0., 0.,\n",
       "       0., 0., 0., 0., 0., 0., 0., 0., 0., 0., 0., 0., 0., 0., 0., 0., 0.,\n",
       "       0., 0., 0., 0., 0., 0., 0., 0., 0., 0., 0., 0., 0., 0., 0., 0., 0.,\n",
       "       0., 0., 0., 0., 0., 0., 0., 0., 0., 0., 0., 0., 0., 0., 0., 0., 0.,\n",
       "       0., 0., 0., 0., 0., 0., 0., 0., 0., 0., 0., 0., 0., 0., 0., 0., 0.,\n",
       "       0., 0., 0., 0., 0., 0., 0., 0., 0., 0., 0., 0., 0., 0., 0., 0., 0.,\n",
       "       0., 0., 0., 0., 0., 0., 0., 0., 0., 0., 0., 0., 0., 0., 0., 0., 0.,\n",
       "       0., 0., 0., 0., 0., 0., 0., 0., 0., 0., 0., 0., 0., 0., 0., 0., 0.,\n",
       "       0., 0., 0., 0., 0., 0., 0., 0., 0., 0., 0., 0., 0., 0., 0., 0., 0.,\n",
       "       0., 0., 0., 0., 0., 0., 0., 0., 0., 0., 0., 0., 0., 0., 0., 0., 0.,\n",
       "       0., 0., 0., 0., 0., 0., 0., 0., 0., 0., 0., 0., 0., 0., 0., 0., 0.,\n",
       "       0., 0., 0., 0., 0., 0., 0., 0., 0., 0., 0., 0., 0., 0., 0., 0., 0.,\n",
       "       0., 0., 0., 0., 0., 0., 0., 0., 0., 0., 0., 0., 0., 0., 0., 0., 0.,\n",
       "       0., 0., 0., 0., 0., 0., 0., 0., 0., 0., 0., 0., 0., 0., 0., 0., 0.,\n",
       "       0., 0., 0., 0., 0., 0., 0., 0., 0., 0., 0., 0., 0., 0., 0., 0., 0.,\n",
       "       0., 0., 0., 0., 0., 0., 0., 0., 0., 0., 0., 0., 0., 0., 0., 0., 0.,\n",
       "       0., 0., 0., 0., 0., 0., 0., 0., 0., 0., 0., 0., 0., 0., 0., 0., 0.,\n",
       "       0., 0., 0., 0., 0., 0., 0., 0., 0., 0., 0., 0., 0., 0., 0., 0., 0.,\n",
       "       0., 0., 0., 0., 0., 0., 0., 0., 0., 0., 0., 0., 0., 0., 0., 0., 0.,\n",
       "       0., 0., 0., 0., 0., 0., 0., 0., 0., 0., 0., 0., 0., 0., 0., 0., 0.,\n",
       "       0., 0., 0., 0., 0., 0., 0., 0., 0., 0., 0., 0., 0., 0., 0., 0., 0.,\n",
       "       0., 0., 0., 0., 0., 0., 0., 0., 0., 0., 0., 0., 0., 0., 0., 0., 0.,\n",
       "       0., 0., 0., 0., 0., 0., 0., 0., 0., 0., 0., 0., 0., 0., 0., 0., 0.,\n",
       "       0., 0., 0., 0., 0., 0., 0., 0., 0., 0., 0., 0., 0., 0., 0., 0., 0.,\n",
       "       0., 0., 0., 0., 0., 0., 0., 0., 0., 0., 0., 0., 0., 0., 0., 0., 0.,\n",
       "       0., 0., 0., 0., 0., 0., 0., 0., 0., 0., 0., 0., 0., 0., 0., 0., 0.,\n",
       "       0., 0., 0., 0.])"
      ]
     },
     "execution_count": 25,
     "metadata": {},
     "output_type": "execute_result"
    }
   ],
   "source": [
    "item_item_S[items_in_user_profile,item_id]"
   ]
  },
  {
   "cell_type": "code",
   "execution_count": 26,
   "metadata": {},
   "outputs": [],
   "source": [
    "learning_rate = 1e-4\n",
    "regularization_2 = 1e-3\n",
    "\n",
    "# let's simplify and only use the l2 norm for regularization\n",
    "item_item_S[items_in_user_profile,item_id] += learning_rate * (prediction_error * ratings_in_user_profile -\n",
    "                                                               regularization_2 * item_item_S[items_in_user_profile,item_id])\n",
    "\n",
    "# Ensure diagonal is always zero\n",
    "item_item_S[item_id,item_id] = 0.0"
   ]
  },
  {
   "cell_type": "code",
   "execution_count": 27,
   "metadata": {},
   "outputs": [
    {
     "data": {
      "text/plain": [
       "array([0.0008, 0.0012, 0.0012, 0.0012, 0.0004, 0.0016, 0.0012, 0.0012,\n",
       "       0.0012, 0.0008, 0.0012, 0.0016, 0.0012, 0.0012, 0.0012, 0.0008,\n",
       "       0.0012, 0.002 , 0.0012, 0.0012, 0.0014, 0.0016, 0.0016, 0.0012,\n",
       "       0.0016, 0.0012, 0.0016, 0.0016, 0.0012, 0.0012, 0.0018, 0.0016,\n",
       "       0.0016, 0.0012, 0.0012, 0.    , 0.002 , 0.0012, 0.0012, 0.0012,\n",
       "       0.0012, 0.0016, 0.0012, 0.0016, 0.0012, 0.0012, 0.0012, 0.0016,\n",
       "       0.0012, 0.0016, 0.002 , 0.0006, 0.0012, 0.002 , 0.0012, 0.0012,\n",
       "       0.0012, 0.0016, 0.002 , 0.0016, 0.0016, 0.0012, 0.0016, 0.0012,\n",
       "       0.0008, 0.0008, 0.0012, 0.0016, 0.0012, 0.0012, 0.0012, 0.002 ,\n",
       "       0.002 , 0.002 , 0.002 , 0.0016, 0.0012, 0.0012, 0.002 , 0.0016,\n",
       "       0.0016, 0.0012, 0.0016, 0.002 , 0.002 , 0.0012, 0.0012, 0.0016,\n",
       "       0.0012, 0.0012, 0.0012, 0.0012, 0.0008, 0.0012, 0.0012, 0.0012,\n",
       "       0.0004, 0.0016, 0.0008, 0.0016, 0.0012, 0.0012, 0.0012, 0.002 ,\n",
       "       0.002 , 0.002 , 0.0016, 0.0012, 0.0012, 0.0016, 0.002 , 0.0016,\n",
       "       0.0008, 0.0012, 0.0008, 0.0016, 0.002 , 0.0016, 0.0016, 0.0016,\n",
       "       0.0016, 0.0016, 0.0016, 0.0012, 0.0012, 0.0012, 0.0012, 0.0016,\n",
       "       0.0004, 0.0004, 0.0016, 0.0016, 0.0012, 0.0012, 0.0008, 0.0012,\n",
       "       0.002 , 0.0008, 0.0016, 0.0012, 0.0016, 0.0008, 0.0016, 0.0012,\n",
       "       0.0008, 0.0012, 0.0012, 0.0008, 0.0016, 0.002 , 0.0016, 0.0012,\n",
       "       0.0012, 0.0016, 0.0016, 0.0016, 0.0016, 0.0016, 0.0012, 0.0012,\n",
       "       0.0016, 0.0004, 0.002 , 0.0008, 0.0016, 0.0004, 0.0016, 0.0008,\n",
       "       0.0012, 0.0004, 0.0004, 0.0012, 0.0016, 0.002 , 0.0016, 0.0012,\n",
       "       0.0012, 0.0012, 0.0016, 0.0008, 0.0008, 0.0012, 0.0012, 0.0016,\n",
       "       0.0012, 0.0012, 0.0016, 0.001 , 0.0012, 0.0012, 0.0012, 0.0008,\n",
       "       0.0012, 0.0008, 0.0012, 0.0008, 0.0008, 0.0012, 0.0012, 0.0012,\n",
       "       0.0012, 0.002 , 0.0016, 0.0012, 0.0012, 0.0008, 0.0012, 0.0016,\n",
       "       0.0016, 0.0012, 0.0012, 0.002 , 0.0014, 0.002 , 0.0004, 0.0012,\n",
       "       0.0008, 0.0012, 0.0016, 0.0012, 0.0016, 0.0012, 0.0012, 0.0012,\n",
       "       0.0016, 0.0014, 0.0016, 0.0016, 0.0012, 0.0012, 0.0008, 0.0012,\n",
       "       0.0016, 0.0012, 0.0012, 0.0012, 0.0012, 0.0012, 0.0012, 0.0012,\n",
       "       0.0012, 0.0016, 0.0004, 0.0012, 0.0012, 0.0004, 0.0012, 0.0016,\n",
       "       0.0012, 0.0008, 0.0012, 0.0008, 0.0012, 0.0012, 0.0016, 0.0016,\n",
       "       0.002 , 0.0008, 0.0016, 0.0016, 0.0008, 0.0014, 0.0012, 0.0014,\n",
       "       0.0016, 0.0008, 0.001 , 0.0008, 0.0016, 0.0014, 0.0016, 0.0016,\n",
       "       0.001 , 0.0012, 0.001 , 0.0012, 0.0016, 0.0016, 0.0014, 0.0012,\n",
       "       0.0016, 0.002 , 0.0018, 0.0012, 0.0012, 0.0008, 0.002 , 0.0012,\n",
       "       0.0012, 0.002 , 0.0008, 0.0016, 0.0016, 0.0016, 0.0012, 0.0012,\n",
       "       0.0012, 0.0012, 0.0012, 0.0012, 0.0016, 0.0012, 0.0012, 0.0012,\n",
       "       0.0008, 0.0012, 0.0012, 0.0012, 0.0016, 0.0004, 0.0012, 0.0012,\n",
       "       0.0012, 0.0008, 0.0016, 0.0004, 0.0004, 0.0012, 0.0004, 0.0016,\n",
       "       0.0012, 0.0008, 0.0012, 0.0012, 0.0016, 0.0016, 0.0012, 0.0016,\n",
       "       0.001 , 0.0014, 0.0012, 0.0012, 0.0012, 0.0012, 0.0012, 0.0012,\n",
       "       0.0008, 0.0008, 0.0004, 0.0012, 0.002 , 0.0016, 0.0012, 0.0012,\n",
       "       0.0012, 0.0012, 0.0012, 0.0016, 0.002 , 0.0016, 0.002 , 0.0012,\n",
       "       0.0012, 0.0012, 0.0008, 0.0012, 0.0012, 0.0012, 0.0012, 0.0016,\n",
       "       0.0008, 0.0004, 0.0016, 0.002 , 0.0008, 0.0008, 0.0016, 0.0008,\n",
       "       0.0012, 0.0016, 0.0012, 0.0012, 0.0016, 0.0012, 0.0012, 0.0012,\n",
       "       0.0012, 0.0014, 0.0012, 0.0012, 0.0012, 0.0012, 0.0012, 0.0012,\n",
       "       0.0012, 0.0012, 0.0016, 0.0012, 0.0012, 0.0012, 0.0012, 0.0008,\n",
       "       0.0016, 0.0012, 0.0012, 0.0016, 0.0012, 0.0012, 0.0012, 0.0012,\n",
       "       0.0004, 0.0004, 0.0008, 0.0016, 0.0012, 0.0012, 0.0012, 0.0012,\n",
       "       0.0012, 0.0016, 0.0008, 0.0012, 0.0012, 0.0012, 0.0012, 0.0008,\n",
       "       0.0012, 0.0008, 0.0016, 0.0008, 0.0008, 0.0008, 0.0012, 0.0012,\n",
       "       0.0016, 0.0016, 0.0012, 0.0012, 0.0012, 0.0016, 0.0012, 0.0012,\n",
       "       0.002 , 0.0012, 0.0012, 0.0016, 0.0012, 0.0012, 0.0012, 0.0012,\n",
       "       0.0012, 0.0012, 0.0012, 0.0016, 0.0012, 0.0012, 0.0012, 0.0016,\n",
       "       0.0008, 0.0012, 0.0012, 0.0016, 0.0012, 0.0016, 0.0016, 0.0012,\n",
       "       0.0004, 0.0016, 0.0012, 0.0016, 0.0016, 0.0016, 0.0016, 0.0008,\n",
       "       0.0014, 0.0008, 0.0016, 0.0014, 0.0012, 0.0016, 0.0016, 0.0012,\n",
       "       0.0014, 0.0008, 0.0012, 0.0012, 0.001 , 0.0012, 0.0012, 0.0012,\n",
       "       0.0012, 0.0014, 0.0016, 0.0016, 0.0016, 0.0016, 0.0012, 0.0016,\n",
       "       0.0016, 0.0016, 0.0016, 0.0012, 0.0008, 0.0012, 0.0016, 0.0008,\n",
       "       0.0012, 0.0016, 0.0016, 0.0012, 0.0012, 0.0016, 0.0012, 0.0012,\n",
       "       0.0012, 0.0012, 0.0012, 0.0008, 0.0016, 0.0012, 0.002 , 0.0012,\n",
       "       0.0016, 0.002 , 0.0016, 0.0016, 0.0012, 0.0016, 0.0012, 0.0016,\n",
       "       0.0012, 0.0016, 0.0012, 0.0004, 0.0012, 0.0016, 0.0012, 0.0018,\n",
       "       0.0016, 0.0012, 0.002 , 0.0008, 0.0012, 0.0016, 0.0016, 0.0012,\n",
       "       0.0004, 0.0012, 0.0012, 0.0012, 0.002 , 0.0012, 0.0012, 0.0016,\n",
       "       0.0016, 0.0016, 0.002 , 0.0012, 0.0016, 0.0016, 0.0012, 0.0016,\n",
       "       0.0008, 0.0016, 0.0016, 0.0012, 0.0012, 0.0012, 0.0008, 0.0012,\n",
       "       0.0012, 0.0012, 0.0008, 0.0012, 0.0012, 0.0012, 0.0016, 0.0016,\n",
       "       0.0012, 0.0014, 0.0012, 0.0004, 0.0012, 0.002 , 0.0016, 0.0012,\n",
       "       0.0012, 0.0016, 0.0016, 0.0016, 0.0016, 0.0016, 0.0014, 0.0018,\n",
       "       0.0016, 0.0012, 0.0016, 0.0012, 0.0016, 0.0016, 0.0012, 0.0016,\n",
       "       0.0012, 0.0012, 0.0012, 0.0008, 0.0012, 0.0016, 0.0016, 0.0012,\n",
       "       0.0012, 0.0012, 0.0012, 0.0016, 0.0014, 0.0004, 0.0012, 0.0004,\n",
       "       0.0016, 0.0012, 0.0014, 0.0016, 0.0012, 0.0012, 0.0012, 0.0012,\n",
       "       0.0016, 0.0012, 0.0016, 0.0012, 0.0008, 0.0008, 0.0012, 0.0012,\n",
       "       0.0016, 0.0004, 0.0012, 0.0016, 0.0012, 0.0012, 0.0016, 0.0012,\n",
       "       0.0016, 0.0004, 0.0014, 0.0012, 0.0016, 0.0008, 0.0004, 0.0004,\n",
       "       0.0008, 0.0016, 0.0016, 0.0016, 0.0012, 0.0008, 0.0012, 0.0016,\n",
       "       0.0012, 0.0004])"
      ]
     },
     "execution_count": 27,
     "metadata": {},
     "output_type": "execute_result"
    }
   ],
   "source": [
    "item_item_S[items_in_user_profile,item_id]"
   ]
  },
  {
   "cell_type": "markdown",
   "metadata": {},
   "source": [
    "### Let's check what the new prediction for the same user-item interaction would be"
   ]
  },
  {
   "cell_type": "code",
   "execution_count": 28,
   "metadata": {},
   "outputs": [
    {
     "data": {
      "text/plain": [
       "2.8873000000000184"
      ]
     },
     "execution_count": 28,
     "metadata": {},
     "output_type": "execute_result"
    }
   ],
   "source": [
    "predicted_rating = URM_train[user_id].dot(item_item_S[:,item_id])[0]\n",
    "predicted_rating"
   ]
  },
  {
   "cell_type": "markdown",
   "metadata": {},
   "source": [
    "### The value is not zero anymore, but higher, we are moving in the right direction"
   ]
  },
  {
   "cell_type": "markdown",
   "metadata": {},
   "source": [
    "### And now? Sample another interaction and repeat... a lot of times"
   ]
  },
  {
   "cell_type": "markdown",
   "metadata": {},
   "source": [
    "### Let's put all together in a training loop."
   ]
  },
  {
   "cell_type": "code",
   "execution_count": 29,
   "metadata": {},
   "outputs": [
    {
     "name": "stdout",
     "output_type": "stream",
     "text": [
      "Iteration 5000 in 3.22 seconds, loss is 13.42. Samples per second 1553.39\n",
      "Iteration 10000 in 6.02 seconds, loss is 13.34. Samples per second 1659.86\n",
      "Iteration 15000 in 8.82 seconds, loss is 13.34. Samples per second 1701.45\n",
      "Iteration 20000 in 11.48 seconds, loss is 13.35. Samples per second 1742.38\n",
      "Iteration 25000 in 14.25 seconds, loss is 13.31. Samples per second 1754.70\n",
      "Iteration 30000 in 17.03 seconds, loss is 13.31. Samples per second 1761.57\n",
      "Iteration 35000 in 19.79 seconds, loss is 13.28. Samples per second 1768.34\n",
      "Iteration 40000 in 22.53 seconds, loss is 13.25. Samples per second 1775.78\n",
      "Iteration 45000 in 25.17 seconds, loss is 13.21. Samples per second 1788.18\n",
      "Iteration 50000 in 27.62 seconds, loss is 13.19. Samples per second 1810.25\n",
      "Iteration 55000 in 30.32 seconds, loss is 13.17. Samples per second 1814.05\n",
      "Iteration 60000 in 33.06 seconds, loss is 13.15. Samples per second 1815.14\n",
      "Iteration 65000 in 35.77 seconds, loss is 13.12. Samples per second 1817.31\n",
      "Iteration 70000 in 38.48 seconds, loss is 13.10. Samples per second 1818.89\n",
      "Iteration 75000 in 41.05 seconds, loss is 13.06. Samples per second 1827.13\n",
      "Iteration 80000 in 43.56 seconds, loss is 13.04. Samples per second 1836.74\n",
      "Iteration 85000 in 46.25 seconds, loss is 13.02. Samples per second 1837.96\n",
      "Iteration 90000 in 48.98 seconds, loss is 12.99. Samples per second 1837.42\n",
      "Iteration 95000 in 51.65 seconds, loss is 12.97. Samples per second 1839.18\n",
      "Iteration 100000 in 54.37 seconds, loss is 12.94. Samples per second 1839.29\n"
     ]
    }
   ],
   "source": [
    "URM_train_coo = URM_train.tocoo()\n",
    "item_item_S = np.zeros((n_items, n_items), dtype = float)\n",
    "\n",
    "learning_rate = 1e-6\n",
    "regularization_2 = 1e-3\n",
    "\n",
    "loss = 0.0\n",
    "start_time = time.time()\n",
    "for sample_num in range(100000):\n",
    "    \n",
    "    # Randomly pick sample\n",
    "    sample_index = np.random.randint(URM_train_coo.nnz)\n",
    "\n",
    "    user_id = URM_train_coo.row[sample_index]\n",
    "    item_id = URM_train_coo.col[sample_index]\n",
    "    true_rating = URM_train_coo.data[sample_index]\n",
    "\n",
    "    # Compute prediction\n",
    "    predicted_rating = URM_train[user_id].dot(item_item_S[:,item_id])[0]\n",
    "        \n",
    "    # Compute prediction error, or gradient\n",
    "    prediction_error = true_rating - predicted_rating\n",
    "    loss += prediction_error**2\n",
    "    \n",
    "    # Update model, in this case the similarity\n",
    "    items_in_user_profile = URM_train[user_id].indices\n",
    "    ratings_in_user_profile = URM_train[user_id].data\n",
    "    item_item_S[items_in_user_profile,item_id] += learning_rate * (prediction_error * ratings_in_user_profile -\n",
    "                                                                   regularization_2 * item_item_S[items_in_user_profile,item_id])\n",
    "    \n",
    "    # Ensure diagonal is always zero\n",
    "    item_item_S[item_id,item_id] = 0.0\n",
    "\n",
    "    # Print some stats\n",
    "    if (sample_num +1)% 5000 == 0:\n",
    "        elapsed_time = time.time() - start_time\n",
    "        samples_per_second = (sample_num +1)/elapsed_time\n",
    "        print(\"Iteration {} in {:.2f} seconds, loss is {:.2f}. Samples per second {:.2f}\".format(sample_num+1, elapsed_time, loss/(sample_num +1), samples_per_second))\n"
   ]
  },
  {
   "cell_type": "markdown",
   "metadata": {},
   "source": [
    "### What do we see? The loss generally goes down but may oscillate a bit.\n",
    "### How long do we train such a model?\n",
    "\n",
    "* An epoch: a complete loop over all the train data\n",
    "* Usually you train for multiple epochs. Depending on the algorithm and data 10s or 100s of epochs."
   ]
  },
  {
   "cell_type": "code",
   "execution_count": 30,
   "metadata": {},
   "outputs": [],
   "source": [
    "def train_one_epoch(URM_train, item_item_S, learning_rate, regularization_2):\n",
    "    \n",
    "    URM_train_coo = URM_train.tocoo()\n",
    "\n",
    "    loss = 0.0\n",
    "    start_time = time.time()\n",
    "    for sample_num in range(URM_train.nnz):\n",
    "\n",
    "        # Randomly pick sample\n",
    "        sample_index = np.random.randint(URM_train_coo.nnz)\n",
    "\n",
    "        user_id = URM_train_coo.row[sample_index]\n",
    "        item_id = URM_train_coo.col[sample_index]\n",
    "        true_rating = URM_train_coo.data[sample_index]\n",
    "\n",
    "        # Compute prediction\n",
    "        predicted_rating = URM_train[user_id].dot(item_item_S[:,item_id])[0]\n",
    "\n",
    "        # Compute prediction error, or gradient\n",
    "        prediction_error = true_rating - predicted_rating\n",
    "        loss += prediction_error**2\n",
    "\n",
    "        # Update model, in this case the similarity\n",
    "        items_in_user_profile = URM_train[user_id].indices\n",
    "        ratings_in_user_profile = URM_train[user_id].data\n",
    "        item_item_S[items_in_user_profile,item_id] += learning_rate * (prediction_error * ratings_in_user_profile -\n",
    "                                                                       regularization_2 * item_item_S[items_in_user_profile,item_id])\n",
    "\n",
    "        # Ensure diagonal is always zero\n",
    "        item_item_S[item_id,item_id] = 0.0\n",
    "    \n",
    "        # Print some stats\n",
    "        if (sample_num +1)% 5000 == 0:\n",
    "            elapsed_time = time.time() - start_time\n",
    "            samples_per_second = (sample_num +1)/elapsed_time\n",
    "            print(\"Iteration {} in {:.2f} seconds, loss is {:.2f}. Samples per second {:.2f}\".format(sample_num+1, elapsed_time, loss/(sample_num +1), samples_per_second))\n",
    "         \n",
    "            # Stop training because this implementation is too slow\n",
    "            print(\"\\tStopping the epoch early because this implementation is too slow\")\n",
    "            return item_item_S\n",
    "            \n",
    "    return item_item_S"
   ]
  },
  {
   "cell_type": "code",
   "execution_count": 31,
   "metadata": {},
   "outputs": [
    {
     "name": "stdout",
     "output_type": "stream",
     "text": [
      "Iteration 5000 in 3.13 seconds, loss is 13.40. Samples per second 1597.37\n",
      "\tStopping the epoch early because this implementation is too slow\n",
      "Iteration 5000 in 2.80 seconds, loss is 13.25. Samples per second 1787.86\n",
      "\tStopping the epoch early because this implementation is too slow\n",
      "Iteration 5000 in 2.52 seconds, loss is 13.30. Samples per second 1983.19\n",
      "\tStopping the epoch early because this implementation is too slow\n",
      "Iteration 5000 in 2.82 seconds, loss is 13.28. Samples per second 1773.25\n",
      "\tStopping the epoch early because this implementation is too slow\n",
      "Iteration 5000 in 2.75 seconds, loss is 13.18. Samples per second 1821.49\n",
      "\tStopping the epoch early because this implementation is too slow\n"
     ]
    }
   ],
   "source": [
    "n_items = URM_train.shape[1]\n",
    "learning_rate = 1e-6\n",
    "regularization_2 = 1e-3\n",
    "    \n",
    "item_item_S = np.zeros((n_items, n_items), dtype = float)\n",
    "\n",
    "for n_epoch in range(5):\n",
    "    item_item_S = train_one_epoch(URM_train, item_item_S, learning_rate, regularization_2)\n",
    "    "
   ]
  },
  {
   "cell_type": "code",
   "execution_count": 32,
   "metadata": {},
   "outputs": [
    {
     "data": {
      "text/plain": [
       "array([[0.00000000e+00, 4.87044671e-05, 3.26732943e-05, ...,\n",
       "        0.00000000e+00, 0.00000000e+00, 0.00000000e+00],\n",
       "       [1.59282357e-05, 0.00000000e+00, 2.04141814e-04, ...,\n",
       "        0.00000000e+00, 0.00000000e+00, 0.00000000e+00],\n",
       "       [3.74430719e-05, 2.11474715e-04, 0.00000000e+00, ...,\n",
       "        0.00000000e+00, 0.00000000e+00, 0.00000000e+00],\n",
       "       ...,\n",
       "       [0.00000000e+00, 0.00000000e+00, 0.00000000e+00, ...,\n",
       "        0.00000000e+00, 0.00000000e+00, 0.00000000e+00],\n",
       "       [0.00000000e+00, 0.00000000e+00, 0.00000000e+00, ...,\n",
       "        0.00000000e+00, 0.00000000e+00, 0.00000000e+00],\n",
       "       [0.00000000e+00, 0.00000000e+00, 0.00000000e+00, ...,\n",
       "        0.00000000e+00, 0.00000000e+00, 0.00000000e+00]])"
      ]
     },
     "execution_count": 32,
     "metadata": {},
     "output_type": "execute_result"
    }
   ],
   "source": [
    "item_item_S"
   ]
  },
  {
   "cell_type": "markdown",
   "metadata": {},
   "source": [
    "### How do we use this similarity? As in a simple item-based KNN"
   ]
  },
  {
   "cell_type": "markdown",
   "metadata": {},
   "source": [
    "### Let's estimate the training time. Say we train for 10 epochs and we have 8M interactions in the train data..."
   ]
  },
  {
   "cell_type": "code",
   "execution_count": 33,
   "metadata": {},
   "outputs": [
    {
     "name": "stdout",
     "output_type": "stream",
     "text": [
      "Estimated time with the previous training speed is 43495.02 seconds (724.92 minutes, 12.08 hours)\n"
     ]
    }
   ],
   "source": [
    "estimated_seconds = 8e6 * 10 / samples_per_second\n",
    "print(\"Estimated time with the previous training speed is {:.2f} seconds ({:.2f} minutes, {:.2f} hours)\".format(estimated_seconds, estimated_seconds/60, estimated_seconds/3600))"
   ]
  },
  {
   "cell_type": "markdown",
   "metadata": {},
   "source": [
    "### Unacceptable!"
   ]
  },
  {
   "cell_type": "markdown",
   "metadata": {},
   "source": [
    "### Let's rewrite the loop with some smarter use of the data structures. In particular:\n",
    "* Use the indptr/indices data structures to get the seen items\n",
    "* Not much else we can do with this tools"
   ]
  },
  {
   "cell_type": "code",
   "execution_count": 34,
   "metadata": {},
   "outputs": [
    {
     "name": "stdout",
     "output_type": "stream",
     "text": [
      "Iteration 5000 in 2.42 seconds, loss is 13.51. Samples per second 2069.01\n",
      "Iteration 10000 in 4.48 seconds, loss is 13.48. Samples per second 2229.87\n",
      "Iteration 15000 in 6.18 seconds, loss is 13.44. Samples per second 2428.33\n",
      "Iteration 20000 in 8.27 seconds, loss is 13.39. Samples per second 2417.81\n",
      "Iteration 25000 in 10.12 seconds, loss is 13.32. Samples per second 2469.33\n",
      "Iteration 30000 in 12.34 seconds, loss is 13.31. Samples per second 2431.83\n",
      "Iteration 35000 in 14.55 seconds, loss is 13.28. Samples per second 2405.12\n",
      "Iteration 40000 in 16.26 seconds, loss is 13.24. Samples per second 2459.41\n",
      "Iteration 45000 in 18.38 seconds, loss is 13.20. Samples per second 2448.57\n",
      "Iteration 50000 in 20.14 seconds, loss is 13.20. Samples per second 2482.22\n",
      "Iteration 55000 in 22.48 seconds, loss is 13.17. Samples per second 2446.70\n",
      "Iteration 60000 in 24.85 seconds, loss is 13.15. Samples per second 2414.96\n",
      "Iteration 65000 in 26.70 seconds, loss is 13.12. Samples per second 2434.16\n",
      "Iteration 70000 in 28.93 seconds, loss is 13.07. Samples per second 2419.59\n",
      "Iteration 75000 in 30.58 seconds, loss is 13.05. Samples per second 2452.57\n",
      "Iteration 80000 in 32.81 seconds, loss is 13.03. Samples per second 2438.03\n",
      "Iteration 85000 in 35.00 seconds, loss is 12.99. Samples per second 2428.35\n",
      "Iteration 90000 in 36.81 seconds, loss is 12.97. Samples per second 2445.31\n",
      "Iteration 95000 in 38.85 seconds, loss is 12.95. Samples per second 2445.23\n",
      "Iteration 100000 in 40.48 seconds, loss is 12.92. Samples per second 2470.11\n"
     ]
    }
   ],
   "source": [
    "URM_train_coo = URM_train.tocoo()\n",
    "item_item_S = np.zeros((n_items, n_items), dtype = float)\n",
    "\n",
    "learning_rate = 1e-6\n",
    "regularization_2 = 1e-3\n",
    "\n",
    "loss = 0.0\n",
    "start_time = time.time()\n",
    "for sample_num in range(100000):\n",
    "    \n",
    "    # Randomly pick sample\n",
    "    sample_index = np.random.randint(URM_train_coo.nnz)\n",
    "\n",
    "    user_id = URM_train_coo.row[sample_index]\n",
    "    item_id = URM_train_coo.col[sample_index]\n",
    "    true_rating = URM_train_coo.data[sample_index]\n",
    "\n",
    "    # Compute prediction\n",
    "    predicted_rating = URM_train[user_id].dot(item_item_S[:,item_id])[0]\n",
    "        \n",
    "    # Compute prediction error, or gradient\n",
    "    prediction_error = true_rating - predicted_rating\n",
    "    loss += prediction_error**2\n",
    "    \n",
    "    # Update model, in this case the similarity\n",
    "    items_in_user_profile = URM_train.indices[URM_train.indptr[user_id]:URM_train.indptr[user_id+1]]\n",
    "    ratings_in_user_profile = URM_train.data[URM_train.indptr[user_id]:URM_train.indptr[user_id+1]]\n",
    "    item_item_S[items_in_user_profile,item_id] += learning_rate * (prediction_error * ratings_in_user_profile -\n",
    "                                                                   regularization_2 * item_item_S[items_in_user_profile,item_id])\n",
    "    \n",
    "    # Ensure diagonal is always zero\n",
    "    item_item_S[item_id,item_id] = 0.0\n",
    "    \n",
    "    # Print some stats\n",
    "    if (sample_num +1)% 5000 == 0:\n",
    "        elapsed_time = time.time() - start_time\n",
    "        samples_per_second = (sample_num +1)/elapsed_time\n",
    "        print(\"Iteration {} in {:.2f} seconds, loss is {:.2f}. Samples per second {:.2f}\".format(sample_num+1, elapsed_time, loss/(sample_num +1), samples_per_second))\n"
   ]
  },
  {
   "cell_type": "code",
   "execution_count": 35,
   "metadata": {},
   "outputs": [
    {
     "name": "stdout",
     "output_type": "stream",
     "text": [
      "Estimated time with the previous training speed is 32387.17 seconds (539.79 minutes, 9.00 hours)\n"
     ]
    }
   ],
   "source": [
    "estimated_seconds = 8e6 * 10 / samples_per_second\n",
    "print(\"Estimated time with the previous training speed is {:.2f} seconds ({:.2f} minutes, {:.2f} hours)\".format(estimated_seconds, estimated_seconds/60, estimated_seconds/3600))"
   ]
  },
  {
   "cell_type": "markdown",
   "metadata": {},
   "source": [
    "### Just as bad as before\n",
    "\n",
    "### Let's see what we can do with Cython\n",
    "### First step, just compile it. We do not have the data at compile time, so we put the loop in a function"
   ]
  },
  {
   "cell_type": "code",
   "execution_count": 36,
   "metadata": {},
   "outputs": [],
   "source": [
    "%%cython\n",
    "import numpy as np\n",
    "import time\n",
    "\n",
    "def do_some_training(URM_train):\n",
    "    \n",
    "    URM_train_coo = URM_train.tocoo()\n",
    "    n_items = URM_train.shape[1]\n",
    "    \n",
    "    item_item_S = np.zeros((n_items, n_items), dtype = float)\n",
    "\n",
    "    learning_rate = 1e-6\n",
    "    regularization_2 = 1e-3\n",
    "\n",
    "    loss = 0.0\n",
    "    start_time = time.time()\n",
    "    for sample_num in range(100000):\n",
    "\n",
    "        # Randomly pick sample\n",
    "        sample_index = np.random.randint(URM_train_coo.nnz)\n",
    "\n",
    "        user_id = URM_train_coo.row[sample_index]\n",
    "        item_id = URM_train_coo.col[sample_index]\n",
    "        true_rating = URM_train_coo.data[sample_index]\n",
    "\n",
    "        # Compute prediction\n",
    "        predicted_rating = URM_train[user_id].dot(item_item_S[:,item_id])[0]\n",
    "\n",
    "        # Compute prediction error, or gradient\n",
    "        prediction_error = true_rating - predicted_rating\n",
    "        loss += prediction_error**2\n",
    "\n",
    "        # Update model, in this case the similarity\n",
    "        items_in_user_profile = URM_train.indices[URM_train.indptr[user_id]:URM_train.indptr[user_id+1]]\n",
    "        ratings_in_user_profile = URM_train.data[URM_train.indptr[user_id]:URM_train.indptr[user_id+1]]\n",
    "        item_item_S[items_in_user_profile,item_id] += learning_rate * (prediction_error * ratings_in_user_profile -\n",
    "                                                                       regularization_2 * item_item_S[items_in_user_profile,item_id])\n",
    "\n",
    "        # Ensure diagonal is always zero\n",
    "        item_item_S[item_id,item_id] = 0.0\n",
    "    \n",
    "        # Print some stats\n",
    "        if (sample_num +1)% 5000 == 0:\n",
    "            elapsed_time = time.time() - start_time\n",
    "            samples_per_second = (sample_num +1)/elapsed_time\n",
    "            print(\"Iteration {} in {:.2f} seconds, loss is {:.2f}. Samples per second {:.2f}\".format(sample_num+1, elapsed_time, loss/(sample_num +1), samples_per_second))\n",
    "    \n",
    "    return loss, samples_per_second"
   ]
  },
  {
   "cell_type": "code",
   "execution_count": 37,
   "metadata": {},
   "outputs": [
    {
     "name": "stdout",
     "output_type": "stream",
     "text": [
      "Iteration 5000 in 2.40 seconds, loss is 13.61. Samples per second 2085.15\n",
      "Iteration 10000 in 4.13 seconds, loss is 13.50. Samples per second 2422.04\n",
      "Iteration 15000 in 6.43 seconds, loss is 13.43. Samples per second 2332.24\n",
      "Iteration 20000 in 8.99 seconds, loss is 13.43. Samples per second 2223.61\n",
      "Iteration 25000 in 11.28 seconds, loss is 13.35. Samples per second 2216.89\n",
      "Iteration 30000 in 13.63 seconds, loss is 13.32. Samples per second 2201.76\n",
      "Iteration 35000 in 15.54 seconds, loss is 13.28. Samples per second 2252.95\n",
      "Iteration 40000 in 17.85 seconds, loss is 13.24. Samples per second 2240.54\n",
      "Iteration 45000 in 19.71 seconds, loss is 13.23. Samples per second 2283.59\n",
      "Iteration 50000 in 21.67 seconds, loss is 13.21. Samples per second 2307.76\n",
      "Iteration 55000 in 23.69 seconds, loss is 13.17. Samples per second 2321.75\n",
      "Iteration 60000 in 25.38 seconds, loss is 13.15. Samples per second 2364.23\n",
      "Iteration 65000 in 27.43 seconds, loss is 13.14. Samples per second 2369.40\n",
      "Iteration 70000 in 29.09 seconds, loss is 13.11. Samples per second 2406.09\n",
      "Iteration 75000 in 31.14 seconds, loss is 13.08. Samples per second 2408.47\n",
      "Iteration 80000 in 33.15 seconds, loss is 13.05. Samples per second 2413.36\n",
      "Iteration 85000 in 34.95 seconds, loss is 13.02. Samples per second 2432.23\n",
      "Iteration 90000 in 36.90 seconds, loss is 12.99. Samples per second 2438.75\n",
      "Iteration 95000 in 38.61 seconds, loss is 12.98. Samples per second 2460.31\n",
      "Iteration 100000 in 40.79 seconds, loss is 12.95. Samples per second 2451.40\n"
     ]
    }
   ],
   "source": [
    "loss, samples_per_second = do_some_training(URM_train)"
   ]
  },
  {
   "cell_type": "code",
   "execution_count": 38,
   "metadata": {},
   "outputs": [
    {
     "name": "stdout",
     "output_type": "stream",
     "text": [
      "Estimated time with the previous training speed is 32634.40 seconds (543.91 minutes, 9.07 hours)\n"
     ]
    }
   ],
   "source": [
    "estimated_seconds = 8e6 * 10 / samples_per_second\n",
    "print(\"Estimated time with the previous training speed is {:.2f} seconds ({:.2f} minutes, {:.2f} hours)\".format(estimated_seconds, estimated_seconds/60, estimated_seconds/3600))"
   ]
  },
  {
   "cell_type": "markdown",
   "metadata": {},
   "source": [
    "### Still far too time consuming\n",
    "### The compiler is just porting in C all operations that the python interpreter would have to perform, dynamic tiping included. Have a look at the html reports in the Cython_examples folder\n",
    "\n",
    "### Now try to add some types: If you use a variable only as a C object, use primitive tipes\n",
    "\n",
    "* cdef int namevar\n",
    "* cdef double namevar\n",
    "* cdef float namevar\n",
    "* cdef double[:] singledimensionarray\n",
    "* cdef double[:,:] bidimensionalmatrix\n",
    "\n",
    "\n",
    "### We now use types for all main variables\n"
   ]
  },
  {
   "cell_type": "code",
   "execution_count": 39,
   "metadata": {},
   "outputs": [],
   "source": [
    "%%cython\n",
    "import numpy as np\n",
    "import time\n",
    "\n",
    "def do_some_training(URM_train):\n",
    "\n",
    "    URM_train_coo = URM_train.tocoo()\n",
    "    n_items = URM_train.shape[1]\n",
    "\n",
    "    cdef double[:,:] item_item_S = np.zeros((n_items, n_items), dtype = float)\n",
    "    cdef double learning_rate = 1e-6, regularization_2 = 1e-3\n",
    "    cdef double loss = 0.0\n",
    "    cdef long start_time = time.time()\n",
    "    cdef double true_rating, predicted_rating, prediction_error, profile_rating\n",
    "    cdef int[:] items_in_user_profile\n",
    "    cdef double[:] ratings_in_user_profile\n",
    "    cdef int index, sample_num, user_id, item_id, profile_item_id\n",
    "\n",
    "    for sample_num in range(100000):\n",
    "\n",
    "        # Randomly pick sample\n",
    "        sample_index = np.random.randint(URM_train_coo.nnz)\n",
    "\n",
    "        user_id = URM_train_coo.row[sample_index]\n",
    "        item_id = URM_train_coo.col[sample_index]\n",
    "        true_rating = URM_train_coo.data[sample_index]\n",
    "\n",
    "        # Compute prediction\n",
    "        items_in_user_profile = URM_train.indices[URM_train.indptr[user_id]:URM_train.indptr[user_id+1]]\n",
    "        ratings_in_user_profile = URM_train.data[URM_train.indptr[user_id]:URM_train.indptr[user_id+1]]\n",
    "        predicted_rating = 0.0\n",
    "\n",
    "        for index in range(len(items_in_user_profile)):\n",
    "            profile_item_id = items_in_user_profile[index]\n",
    "            profile_rating = ratings_in_user_profile[index]\n",
    "            predicted_rating += profile_rating * item_item_S[profile_item_id,item_id]\n",
    "\n",
    "        # Compute prediction error, or gradient\n",
    "        prediction_error = true_rating - predicted_rating\n",
    "        loss += prediction_error**2\n",
    "\n",
    "        # Update model, in this case the similarity\n",
    "        for index in range(len(items_in_user_profile)):\n",
    "            profile_item_id = items_in_user_profile[index]\n",
    "            profile_rating = ratings_in_user_profile[index]\n",
    "            item_item_S[profile_item_id,item_id] += learning_rate * (prediction_error * profile_rating -\n",
    "                                                                     regularization_2 * item_item_S[profile_item_id,item_id])\n",
    "\n",
    "        # Ensure diagonal is always zero\n",
    "        item_item_S[item_id,item_id] = 0.0\n",
    "    \n",
    "        # Print some stats\n",
    "        if (sample_num +1)% 5000 == 0:\n",
    "            elapsed_time = time.time() - start_time\n",
    "            samples_per_second = (sample_num +1)/elapsed_time\n",
    "            print(\"Iteration {} in {:.2f} seconds, loss is {:.2f}. Samples per second {:.2f}\".format(sample_num+1, elapsed_time, loss/(sample_num +1), samples_per_second))\n",
    "\n",
    "    return loss, samples_per_second"
   ]
  },
  {
   "cell_type": "code",
   "execution_count": 40,
   "metadata": {},
   "outputs": [
    {
     "name": "stdout",
     "output_type": "stream",
     "text": [
      "Iteration 5000 in 1.06 seconds, loss is 13.44. Samples per second 4699.29\n",
      "Iteration 10000 in 1.24 seconds, loss is 13.35. Samples per second 8091.25\n",
      "Iteration 15000 in 1.37 seconds, loss is 13.32. Samples per second 10988.24\n",
      "Iteration 20000 in 1.49 seconds, loss is 13.30. Samples per second 13466.54\n",
      "Iteration 25000 in 1.62 seconds, loss is 13.32. Samples per second 15434.82\n",
      "Iteration 30000 in 1.73 seconds, loss is 13.29. Samples per second 17295.51\n",
      "Iteration 35000 in 1.84 seconds, loss is 13.27. Samples per second 18999.01\n",
      "Iteration 40000 in 1.95 seconds, loss is 13.26. Samples per second 20532.35\n",
      "Iteration 45000 in 2.05 seconds, loss is 13.24. Samples per second 21991.17\n",
      "Iteration 50000 in 2.15 seconds, loss is 13.20. Samples per second 23225.82\n",
      "Iteration 55000 in 2.25 seconds, loss is 13.17. Samples per second 24439.81\n",
      "Iteration 60000 in 2.35 seconds, loss is 13.15. Samples per second 25569.12\n",
      "Iteration 65000 in 2.45 seconds, loss is 13.13. Samples per second 26537.76\n",
      "Iteration 70000 in 2.55 seconds, loss is 13.10. Samples per second 27468.26\n",
      "Iteration 75000 in 2.66 seconds, loss is 13.08. Samples per second 28191.22\n",
      "Iteration 80000 in 2.80 seconds, loss is 13.05. Samples per second 28569.15\n",
      "Iteration 85000 in 2.90 seconds, loss is 13.02. Samples per second 29296.53\n",
      "Iteration 90000 in 3.03 seconds, loss is 12.99. Samples per second 29734.23\n",
      "Iteration 95000 in 3.16 seconds, loss is 12.96. Samples per second 30018.67\n",
      "Iteration 100000 in 3.28 seconds, loss is 12.93. Samples per second 30445.66\n"
     ]
    }
   ],
   "source": [
    "loss, samples_per_second = do_some_training(URM_train)"
   ]
  },
  {
   "cell_type": "code",
   "execution_count": 41,
   "metadata": {},
   "outputs": [
    {
     "name": "stdout",
     "output_type": "stream",
     "text": [
      "Estimated time with the previous training speed is 2627.63 seconds (43.79 minutes, 0.73 hours)\n"
     ]
    }
   ],
   "source": [
    "estimated_seconds = 8e6 * 10 / samples_per_second\n",
    "print(\"Estimated time with the previous training speed is {:.2f} seconds ({:.2f} minutes, {:.2f} hours)\".format(estimated_seconds, estimated_seconds/60, estimated_seconds/3600))"
   ]
  },
  {
   "cell_type": "markdown",
   "metadata": {},
   "source": [
    "### This is why we use it for machine learning algorithms...\n",
    "\n",
    "### Some operations are still done with sparse matrices, those cannot be correctly optimized because the compiler does not know how what is the type of the data.\n",
    "\n",
    "### To address this, we create typed arrays in which we put the URM_train data\n",
    "For example, this operation: user_id = URM_train_coo.row[sample_index]\n",
    "\n",
    "Becomes:\n",
    "\n",
    "cdef int user_id\n",
    "\n",
    "cdef int[:] URM_train_coo_row = URM_train_coo.row\n",
    "\n",
    "user_id = URM_train_coo_row[sample_index]\n",
    "\n",
    "\n",
    "### We can also skip the creation of the items_in_user_profile array and replace the np.random call with the faster native C function rand()\n",
    "\n",
    "## To obtain a more reliable speed estimate we increase the number of samples and the print step by a factor of 10"
   ]
  },
  {
   "cell_type": "code",
   "execution_count": 42,
   "metadata": {},
   "outputs": [],
   "source": [
    "%%cython\n",
    "\n",
    "import numpy as np\n",
    "import time\n",
    "\n",
    "from libc.stdlib cimport rand, srand, RAND_MAX\n",
    "\n",
    "def do_some_training(URM_train):\n",
    "\n",
    "    URM_train_coo = URM_train.tocoo()\n",
    "    cdef int n_items = URM_train.shape[1]\n",
    "    cdef int n_interactions = URM_train.nnz\n",
    "    cdef int[:] URM_train_coo_row = URM_train_coo.row\n",
    "    cdef int[:] URM_train_coo_col = URM_train_coo.col\n",
    "    cdef double[:] URM_train_coo_data = URM_train_coo.data\n",
    "    cdef int[:] URM_train_indices = URM_train.indices\n",
    "    cdef int[:] URM_train_indptr = URM_train.indptr\n",
    "    cdef double[:] URM_train_data = URM_train.data\n",
    "\n",
    "    cdef double[:,:] item_item_S = np.zeros((n_items, n_items), dtype = float)\n",
    "    cdef double learning_rate = 1e-6, regularization_2 = 1e-3\n",
    "    cdef double loss = 0.0\n",
    "    cdef long start_time = time.time()\n",
    "    cdef double true_rating, predicted_rating, prediction_error, profile_rating\n",
    "    cdef int start_profile, end_profile\n",
    "    cdef int index, sample_num, user_id, item_id, profile_item_id\n",
    "\n",
    "    for sample_num in range(1000000):\n",
    "\n",
    "        # Randomly pick sample\n",
    "        index = rand() % n_interactions\n",
    "\n",
    "        user_id = URM_train_coo_row[index]\n",
    "        item_id = URM_train_coo_col[index]\n",
    "        true_rating = URM_train_coo_data[index]\n",
    "\n",
    "        # Compute prediction\n",
    "        start_profile = URM_train_indptr[user_id]\n",
    "        end_profile = URM_train_indptr[user_id+1]\n",
    "        predicted_rating = 0.0\n",
    "\n",
    "        for index in range(start_profile, end_profile):\n",
    "            profile_item_id = URM_train_indices[index]\n",
    "            profile_rating = URM_train_data[index]\n",
    "            predicted_rating += item_item_S[profile_item_id,item_id] * profile_rating\n",
    "\n",
    "        # Compute prediction error, or gradient\n",
    "        prediction_error = true_rating - predicted_rating\n",
    "        loss += prediction_error**2\n",
    "\n",
    "        # Update model, in this case the similarity\n",
    "        for index in range(start_profile, end_profile):\n",
    "            profile_item_id = URM_train_indices[index]\n",
    "            profile_rating = URM_train_data[index]\n",
    "            item_item_S[profile_item_id,item_id] += learning_rate * (prediction_error * profile_rating - \n",
    "                                                                     regularization_2 * item_item_S[profile_item_id,item_id])\n",
    "\n",
    "        # Ensure diagonal is always zero\n",
    "        item_item_S[item_id,item_id] = 0.0\n",
    "        \n",
    "        # Print some stats\n",
    "        if (sample_num +1)% 50000 == 0:\n",
    "            elapsed_time = time.time() - start_time\n",
    "            samples_per_second = (sample_num +1)/elapsed_time\n",
    "            print(\"Iteration {} in {:.2f} seconds, loss is {:.2f}. Samples per second {:.2f}\".format(sample_num+1, elapsed_time, loss/(sample_num +1), samples_per_second))\n",
    "\n",
    "    return loss, samples_per_second"
   ]
  },
  {
   "cell_type": "code",
   "execution_count": 43,
   "metadata": {},
   "outputs": [
    {
     "name": "stdout",
     "output_type": "stream",
     "text": [
      "Iteration 50000 in 1.35 seconds, loss is 13.19. Samples per second 37018.11\n",
      "Iteration 100000 in 1.95 seconds, loss is 12.93. Samples per second 51217.62\n",
      "Iteration 150000 in 2.51 seconds, loss is 12.70. Samples per second 59681.39\n",
      "Iteration 200000 in 3.07 seconds, loss is 12.47. Samples per second 65108.81\n",
      "Iteration 250000 in 3.60 seconds, loss is 12.25. Samples per second 69408.28\n",
      "Iteration 300000 in 4.18 seconds, loss is 12.06. Samples per second 71718.46\n",
      "Iteration 350000 in 4.83 seconds, loss is 11.87. Samples per second 72490.65\n",
      "Iteration 400000 in 5.38 seconds, loss is 11.68. Samples per second 74334.95\n",
      "Iteration 450000 in 5.95 seconds, loss is 11.50. Samples per second 75675.33\n",
      "Iteration 500000 in 6.47 seconds, loss is 11.34. Samples per second 77283.80\n",
      "Iteration 550000 in 6.98 seconds, loss is 11.18. Samples per second 78774.79\n",
      "Iteration 600000 in 7.53 seconds, loss is 11.03. Samples per second 79656.44\n",
      "Iteration 650000 in 8.20 seconds, loss is 10.88. Samples per second 79306.37\n",
      "Iteration 700000 in 8.79 seconds, loss is 10.74. Samples per second 79647.21\n",
      "Iteration 750000 in 9.36 seconds, loss is 10.61. Samples per second 80143.93\n",
      "Iteration 800000 in 9.92 seconds, loss is 10.49. Samples per second 80604.87\n",
      "Iteration 850000 in 10.46 seconds, loss is 10.36. Samples per second 81246.30\n",
      "Iteration 900000 in 11.05 seconds, loss is 10.25. Samples per second 81456.86\n",
      "Iteration 950000 in 11.75 seconds, loss is 10.13. Samples per second 80864.44\n",
      "Iteration 1000000 in 12.30 seconds, loss is 10.03. Samples per second 81326.37\n"
     ]
    }
   ],
   "source": [
    "loss, samples_per_second = do_some_training(URM_train)"
   ]
  },
  {
   "cell_type": "code",
   "execution_count": 44,
   "metadata": {},
   "outputs": [
    {
     "name": "stdout",
     "output_type": "stream",
     "text": [
      "Estimated time with the previous training speed is 983.69 seconds (16.39 minutes, 0.27 hours)\n"
     ]
    }
   ],
   "source": [
    "estimated_seconds = 8e6 * 10 / samples_per_second\n",
    "print(\"Estimated time with the previous training speed is {:.2f} seconds ({:.2f} minutes, {:.2f} hours)\".format(estimated_seconds, estimated_seconds/60, estimated_seconds/3600))"
   ]
  },
  {
   "cell_type": "markdown",
   "metadata": {},
   "source": [
    "### As the source code gets less readable due to the addition of types and native C functions, it also gets remarkably faster\n",
    "\n",
    "### We started from a naive python implementation which took 10 hours (2k samples per second) and we now have a Cython one with takes only a few minutes (100k samples per second)."
   ]
  },
  {
   "cell_type": "code",
   "execution_count": 45,
   "metadata": {},
   "outputs": [],
   "source": [
    "%%cython\n",
    "\n",
    "import numpy as np\n",
    "import time\n",
    "\n",
    "from libc.stdlib cimport rand, srand, RAND_MAX\n",
    "\n",
    "def train_multiple_epochs(URM_train, learning_rate_input, regularization_2_input, n_epochs):\n",
    "\n",
    "    URM_train_coo = URM_train.tocoo()\n",
    "    cdef int n_items = URM_train.shape[1]\n",
    "    cdef int n_interactions = URM_train.nnz\n",
    "    cdef int[:] URM_train_coo_row = URM_train_coo.row\n",
    "    cdef int[:] URM_train_coo_col = URM_train_coo.col\n",
    "    cdef double[:] URM_train_coo_data = URM_train_coo.data\n",
    "    cdef int[:] URM_train_indices = URM_train.indices\n",
    "    cdef int[:] URM_train_indptr = URM_train.indptr\n",
    "    cdef double[:] URM_train_data = URM_train.data\n",
    "\n",
    "    cdef double[:,:] item_item_S = np.zeros((n_items, n_items), dtype = float)\n",
    "    cdef double learning_rate = learning_rate_input\n",
    "    cdef double regularization_2 = regularization_2_input\n",
    "    cdef double loss = 0.0\n",
    "    cdef long start_time\n",
    "    cdef double true_rating, predicted_rating, prediction_error, profile_rating\n",
    "    cdef int start_profile, end_profile\n",
    "    cdef int index, sample_num, user_id, item_id, profile_item_id\n",
    "    \n",
    "    for n_epoch in range(n_epochs):\n",
    "        \n",
    "        loss = 0.0\n",
    "        start_time = time.time()\n",
    "        \n",
    "        for sample_num in range(n_interactions):\n",
    "\n",
    "            # Randomly pick sample\n",
    "            index = rand() % n_interactions\n",
    "\n",
    "            user_id = URM_train_coo_row[index]\n",
    "            item_id = URM_train_coo_col[index]\n",
    "            true_rating = URM_train_coo_data[index]\n",
    "\n",
    "            # Compute prediction\n",
    "            start_profile = URM_train_indptr[user_id]\n",
    "            end_profile = URM_train_indptr[user_id+1]\n",
    "            predicted_rating = 0.0\n",
    "\n",
    "            for index in range(start_profile, end_profile):\n",
    "                profile_item_id = URM_train_indices[index]\n",
    "                profile_rating = URM_train_data[index]\n",
    "                predicted_rating += item_item_S[profile_item_id,item_id] * profile_rating\n",
    "\n",
    "            # Compute prediction error, or gradient\n",
    "            prediction_error = true_rating - predicted_rating\n",
    "            loss += prediction_error**2\n",
    "\n",
    "            # Update model, in this case the similarity\n",
    "            for index in range(start_profile, end_profile):\n",
    "                profile_item_id = URM_train_indices[index]\n",
    "                profile_rating = URM_train_data[index]\n",
    "                item_item_S[profile_item_id,item_id] += learning_rate * (prediction_error * profile_rating - \n",
    "                                                                         regularization_2 * item_item_S[profile_item_id,item_id])\n",
    "\n",
    "            # Ensure diagonal is always zero\n",
    "            item_item_S[item_id,item_id] = 0.0\n",
    "        \n",
    "#             if sample_num % 1000000 == 0:\n",
    "#                 print(\"Epoch {}: {:.2f}%\".format(n_epoch+1, sample_num/n_interactions*100))\n",
    "            \n",
    "            \n",
    "        elapsed_time = time.time() - start_time\n",
    "        samples_per_second = (sample_num+1)/elapsed_time\n",
    "     \n",
    "        print(\"Epoch {} complete in in {:.2f} seconds, loss is {:.3E}. Samples per second {:.2f}\".format(n_epoch+1, time.time() - start_time, loss/(sample_num+1), samples_per_second))\n",
    "\n",
    "    return np.array(item_item_S), loss/(sample_num+1), samples_per_second"
   ]
  },
  {
   "cell_type": "markdown",
   "metadata": {},
   "source": [
    "### Now let's compare the loss function if we use no regularization"
   ]
  },
  {
   "cell_type": "code",
   "execution_count": 49,
   "metadata": {},
   "outputs": [
    {
     "name": "stdout",
     "output_type": "stream",
     "text": [
      "Epoch 1 complete in in 97.21 seconds, loss is 5.751E+00. Samples per second 82295.58\n",
      "Epoch 2 complete in in 94.24 seconds, loss is 3.707E+00. Samples per second 84889.81\n",
      "Epoch 3 complete in in 95.06 seconds, loss is 3.240E+00. Samples per second 84156.00\n",
      "Epoch 4 complete in in 106.15 seconds, loss is 2.987E+00. Samples per second 75365.70\n",
      "Epoch 5 complete in in 83.18 seconds, loss is 2.821E+00. Samples per second 96174.70\n",
      "Epoch 6 complete in in 86.58 seconds, loss is 2.703E+00. Samples per second 92405.60\n",
      "Epoch 7 complete in in 89.73 seconds, loss is 2.612E+00. Samples per second 89159.01\n",
      "Epoch 8 complete in in 86.16 seconds, loss is 2.536E+00. Samples per second 92856.15\n",
      "Epoch 9 complete in in 87.00 seconds, loss is 2.474E+00. Samples per second 91955.81\n",
      "Epoch 10 complete in in 85.55 seconds, loss is 2.422E+00. Samples per second 93515.19\n"
     ]
    }
   ],
   "source": [
    "n_items = URM_train.shape[1]\n",
    "learning_rate = 1e-6\n",
    "regularization_2 = 1e-3\n",
    "    \n",
    "item_item_S, loss, samples_per_second = train_multiple_epochs(URM_train, learning_rate, regularization_2, 10)"
   ]
  },
  {
   "cell_type": "code",
   "execution_count": 50,
   "metadata": {},
   "outputs": [
    {
     "name": "stdout",
     "output_type": "stream",
     "text": [
      "Epoch 1 complete in in 84.74 seconds, loss is 5.749E+00. Samples per second 94401.75\n",
      "Epoch 2 complete in in 85.36 seconds, loss is 3.708E+00. Samples per second 93725.61\n",
      "Epoch 3 complete in in 86.08 seconds, loss is 3.241E+00. Samples per second 92935.58\n",
      "Epoch 4 complete in in 98.70 seconds, loss is 2.988E+00. Samples per second 81056.75\n",
      "Epoch 5 complete in in 118.07 seconds, loss is 2.824E+00. Samples per second 67755.27\n",
      "Epoch 6 complete in in 118.41 seconds, loss is 2.703E+00. Samples per second 67561.51\n",
      "Epoch 7 complete in in 118.37 seconds, loss is 2.610E+00. Samples per second 67582.51\n",
      "Epoch 8 complete in in 119.30 seconds, loss is 2.534E+00. Samples per second 67056.61\n",
      "Epoch 9 complete in in 118.39 seconds, loss is 2.473E+00. Samples per second 67574.40\n",
      "Epoch 10 complete in in 118.81 seconds, loss is 2.422E+00. Samples per second 67335.62\n"
     ]
    }
   ],
   "source": [
    "item_item_S, loss, samples_per_second = train_multiple_epochs(URM_train, learning_rate, 0.0, 10)"
   ]
  },
  {
   "cell_type": "markdown",
   "metadata": {
    "collapsed": true
   },
   "source": [
    "## How to use Cython outside a notebook\n",
    "\n",
    "### Step1: Create a .pyx file and write your code\n",
    "\n",
    "### Step2: Create a compilation script \"compileCython.py\" with the following content"
   ]
  },
  {
   "cell_type": "code",
   "execution_count": null,
   "metadata": {
    "scrolled": false
   },
   "outputs": [],
   "source": [
    "# This code will not run in a notebook cell\n",
    "\n",
    "try:\n",
    "    from setuptools import setup\n",
    "    from setuptools import Extension\n",
    "except ImportError:\n",
    "    from distutils.core import setup\n",
    "    from distutils.extension import Extension\n",
    "\n",
    "\n",
    "from Cython.Distutils import build_ext\n",
    "import numpy\n",
    "import sys\n",
    "import re\n",
    "\n",
    "\n",
    "if len(sys.argv) != 4:\n",
    "    raise ValueError(\"Wrong number of paramethers received. Expected 4, got {}\".format(sys.argv))\n",
    "\n",
    "\n",
    "# Get the name of the file to compile\n",
    "fileToCompile = sys.argv[1]\n",
    "\n",
    "# Remove the argument from sys argv in order for it to contain only what setup needs\n",
    "del sys.argv[1]\n",
    "\n",
    "extensionName = re.sub(\"\\.pyx\", \"\", fileToCompile)\n",
    "\n",
    "\n",
    "ext_modules = Extension(extensionName,\n",
    "                [fileToCompile],\n",
    "                extra_compile_args=['-O3'],\n",
    "                include_dirs=[numpy.get_include(),],\n",
    "                )\n",
    "\n",
    "setup(\n",
    "    cmdclass={'build_ext': build_ext},\n",
    "    ext_modules=[ext_modules]\n",
    ")\n"
   ]
  },
  {
   "cell_type": "markdown",
   "metadata": {},
   "source": [
    "### Step3: Compile your code with the following command \n",
    "\n",
    "python compileCython.py Cython_examples\\SLIM_MSE_fastest.pyx build_ext --inplace"
   ]
  },
  {
   "cell_type": "markdown",
   "metadata": {},
   "source": [
    "### Step4: Generate cython report and look for \"yellow lines\". The report is an .html file which represents how many operations are necessary to translate each python operation in cython code. If a line is white, it has a direct C translation. If it is yellow it will require many indirect steps that will slow down execution. Some of those steps may be inevitable, some may be removed via static typing.\n",
    "\n",
    "### IMPORTANT: white does not mean fast!! If a system call is involved that part might be slow anyway.\n",
    "\n",
    "cython -a Cython_examples\\SLIM_MSE_fastest.pyx"
   ]
  },
  {
   "cell_type": "markdown",
   "metadata": {},
   "source": [
    "### Step5: Add static types and C functions to remove \"yellow\" lines.\n",
    "\n",
    "#### If you use a variable only as a C object, use primitive tipes \n",
    "cdef int namevar\n",
    "\n",
    "def double namevar\n",
    "\n",
    "cdef float namevar\n",
    "\n",
    "#### If you call a function only within C code, use a specific declaration \"cdef\"\n",
    "\n",
    "cdef function_name(self, int param1, double param2):\n",
    "...\n",
    "\n"
   ]
  },
  {
   "cell_type": "markdown",
   "metadata": {},
   "source": [
    "## Step6: Iterate step 4 and 5 until you are satisfied with how clean your code is, then compile. An example of non optimized code can be found in the source folder of this notebook with the _SLOW suffix\n",
    "\n",
    "## Step7: the compilation generates a file wose name is something like \"SLIM_MSE_fastest.cp36-win_amd64.pyd\" and tells you the source file, the architecture it is compiled for and the OS\n",
    "\n",
    "## Step8: Import and use the compiled file as if it were any python object, function or class"
   ]
  },
  {
   "cell_type": "code",
   "execution_count": null,
   "metadata": {},
   "outputs": [],
   "source": [
    "from Cython_examples.SLIM_MSE_fastest import train_multiple_epochs\n",
    "\n",
    "train_multiple_epochs(URM_train, 1e-3, 1)"
   ]
  },
  {
   "cell_type": "markdown",
   "metadata": {},
   "source": [
    "# A few warnings on ML algorithms"
   ]
  },
  {
   "cell_type": "markdown",
   "metadata": {},
   "source": [
    "### - Why do we bother with KNNs if we have ML?\n",
    "Because sometimes ML algorithms work better than heuristic ones, sometimes they do not\n",
    "\n",
    "### - ML algorithms are always best because they learn from the data\n",
    "Not really... Yes they learn from the data but the data is sometimes too noisy, too sparse and does not yeld good results. There is plenty of examples of cases where ML algorithms are not the best choice.\n",
    "\n",
    "### - We should use this complex model because it can in theory approximate any function!!\n",
    "Theory is important but... does it work in practice? Often complex modes are veeeery difficult to train and you need to use lots of tricks: adaptive gradients, data normalization, careful initialization and crafted batches...\n",
    "\n",
    "### - I have trained my model for 2 epochs but the result is not great\n",
    "Have you just used the default learning rate or have you optimized it? Why did you stop after 2 epochs? You may need 100s of epochs\n",
    "\n",
    "### - If I select a high learning rate (maybe 1e-3) after 5 epochs I get a result wich is not very good, if I use a lower learning rate (maybe 1e-6) the result is much worse\n",
    "Of course, the lower the learning rate the slower the training process but the best solution you may find. Again, you may need 100s of epochs\n",
    "\n",
    "### - Training and optimizing the hyperparameters of this ML model takes several hours, what am I doing wrong?\n",
    "Probably nothing, ML is computationally expensive and takes time... A few hours is a normal timespan. Sometimes the end result is still not satisfactory."
   ]
  },
  {
   "cell_type": "code",
   "execution_count": null,
   "metadata": {},
   "outputs": [],
   "source": []
  }
 ],
 "metadata": {
  "kernelspec": {
   "display_name": "Python 3",
   "language": "python",
   "name": "python3"
  },
  "language_info": {
   "codemirror_mode": {
    "name": "ipython",
    "version": 3
   },
   "file_extension": ".py",
   "mimetype": "text/x-python",
   "name": "python",
   "nbconvert_exporter": "python",
   "pygments_lexer": "ipython3",
   "version": "3.8.8"
  }
 },
 "nbformat": 4,
 "nbformat_minor": 2
}
