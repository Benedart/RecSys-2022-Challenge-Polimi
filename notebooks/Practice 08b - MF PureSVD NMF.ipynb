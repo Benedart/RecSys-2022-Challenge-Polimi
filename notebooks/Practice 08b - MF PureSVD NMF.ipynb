{
 "cells": [
  {
   "cell_type": "markdown",
   "metadata": {},
   "source": [
    "# Recommender Systems 2021/22\n",
    "\n",
    "### Practice - PureSVD\n",
    "\n",
    "PureSVD relies on the SVD decomposition of the URM, which is a well known matrix decompositoin technique available in most numerical libraries.\n",
    "\n",
    "In our case, an SVD decomposition of the URM *R* as ($m \\times n$) is as follows\n",
    "\n",
    "$$ R = U \\Sigma V^* $$\n",
    "\n",
    "Where $U$ is an orthogonal $m \\times m$ matrix, $\\Sigma$ is a rectangular diagonal matrix ($m \\times n$), and $V^*$ is the conjugate transposed of an $n \\times n$ matrix. \n",
    "\n",
    "The SVD decomposition will try to approximate *exactly* the original matrix, this is not what we want! \n",
    "We use instead the *truncated* SVD that will limit the decomposition at the desired number of latent dimensions, approximating the original matrix.\n",
    "\n",
    "\n",
    "$$ \\widehat{R} = U_{t} \\Sigma_{t} V^T_{t} $$\n",
    "\n",
    "Where $U_{t}$ is a $m \\times t$ matrix, $\\Sigma_{t}$ is a $t \\times t$ diagonal matrix, and $V^*_{t}$ is a $t \\times n$ matrix. For this approximation, only the $t$ largest singular values are kept.\n"
   ]
  },
  {
   "cell_type": "code",
   "execution_count": 1,
   "metadata": {},
   "outputs": [],
   "source": [
    "import time\n",
    "import numpy as np"
   ]
  },
  {
   "cell_type": "code",
   "execution_count": 2,
   "metadata": {},
   "outputs": [
    {
     "name": "stdout",
     "output_type": "stream",
     "text": [
      "Movielens10M: Verifying data consistency...\n",
      "Movielens10M: Verifying data consistency... Passed!\n",
      "DataReader: current dataset is: <class 'Data_manager.Dataset.Dataset'>\n",
      "\tNumber of items: 10681\n",
      "\tNumber of users: 69878\n",
      "\tNumber of interactions in URM_all: 10000054\n",
      "\tValue range in URM_all: 0.50-5.00\n",
      "\tInteraction density: 1.34E-02\n",
      "\tInteractions per user:\n",
      "\t\t Min: 2.00E+01\n",
      "\t\t Avg: 1.43E+02\n",
      "\t\t Max: 7.36E+03\n",
      "\tInteractions per item:\n",
      "\t\t Min: 0.00E+00\n",
      "\t\t Avg: 9.36E+02\n",
      "\t\t Max: 3.49E+04\n",
      "\tGini Index: 0.57\n",
      "\n",
      "\tICM name: ICM_all, Value range: 1.00 / 69.00, Num features: 10126, feature occurrences: 128384, density 1.19E-03\n",
      "\tICM name: ICM_genres, Value range: 1.00 / 1.00, Num features: 20, feature occurrences: 21564, density 1.01E-01\n",
      "\tICM name: ICM_tags, Value range: 1.00 / 69.00, Num features: 10106, feature occurrences: 106820, density 9.90E-04\n",
      "\tICM name: ICM_year, Value range: 6.00E+00 / 2.01E+03, Num features: 1, feature occurrences: 10681, density 1.00E+00\n",
      "\n",
      "\n",
      "Warning: 90 (0.13 %) of 69878 users have no sampled items\n"
     ]
    }
   ],
   "source": [
    "from Data_manager.Movielens.Movielens10MReader import Movielens10MReader\n",
    "from Data_manager.split_functions.split_train_validation_random_holdout import split_train_in_two_percentage_global_sample\n",
    "\n",
    "\n",
    "data_reader = Movielens10MReader()\n",
    "data_loaded = data_reader.load_data()\n",
    "\n",
    "URM_all = data_loaded.get_URM_all()\n",
    "\n",
    "URM_train, URM_test = split_train_in_two_percentage_global_sample(URM_all, train_percentage = 0.80)"
   ]
  },
  {
   "cell_type": "code",
   "execution_count": 3,
   "metadata": {},
   "outputs": [
    {
     "data": {
      "text/plain": [
       "<69878x10681 sparse matrix of type '<class 'numpy.float64'>'\n",
       "\twith 8000043 stored elements in Compressed Sparse Row format>"
      ]
     },
     "execution_count": 3,
     "metadata": {},
     "output_type": "execute_result"
    }
   ],
   "source": [
    "URM_train"
   ]
  },
  {
   "cell_type": "markdown",
   "metadata": {},
   "source": [
    "### What do we need for PureSVD?\n",
    "\n",
    "* A numerical library like sklearn\n",
    "* ... nothing else really\n"
   ]
  },
  {
   "cell_type": "code",
   "execution_count": 4,
   "metadata": {},
   "outputs": [],
   "source": [
    "n_users, n_items = URM_train.shape"
   ]
  },
  {
   "cell_type": "markdown",
   "metadata": {},
   "source": [
    "## Step one and only: Compute the decomposition\n",
    "\n",
    "In this case I use randomized_svd, but other approximate decompositions are also available which may rely on different algorithms to find the result."
   ]
  },
  {
   "cell_type": "code",
   "execution_count": 5,
   "metadata": {},
   "outputs": [],
   "source": [
    "from sklearn.utils.extmath import randomized_svd\n",
    "\n",
    "num_factors = 10\n",
    "\n",
    "U, Sigma, VT = randomized_svd(URM_train,\n",
    "                              n_components=num_factors)"
   ]
  },
  {
   "cell_type": "code",
   "execution_count": 6,
   "metadata": {},
   "outputs": [
    {
     "data": {
      "text/plain": [
       "(69878, 10)"
      ]
     },
     "execution_count": 6,
     "metadata": {},
     "output_type": "execute_result"
    }
   ],
   "source": [
    "U.shape"
   ]
  },
  {
   "cell_type": "code",
   "execution_count": 7,
   "metadata": {},
   "outputs": [
    {
     "data": {
      "text/plain": [
       "array([[ 8.29745777e-04, -3.27470639e-03, -8.15057301e-04, ...,\n",
       "        -1.15551192e-03, -1.41987009e-03,  1.11381179e-04],\n",
       "       [ 6.74183091e-04, -1.02728990e-03, -1.74801108e-04, ...,\n",
       "         4.72396428e-03,  2.22452459e-03,  7.66579892e-04],\n",
       "       [ 6.82133856e-04,  9.01357290e-05, -9.59301908e-04, ...,\n",
       "         9.20645031e-05,  2.71983328e-03,  5.21528159e-04],\n",
       "       ...,\n",
       "       [ 3.03711593e-03,  2.38879330e-03,  6.24619035e-03, ...,\n",
       "         1.85254816e-04,  1.61042181e-03,  6.50981356e-04],\n",
       "       [ 1.48702188e-03, -5.76873078e-03,  9.02103631e-04, ...,\n",
       "         9.43520411e-04, -2.40377260e-03,  2.21736478e-03],\n",
       "       [ 1.65682542e-03, -8.06054399e-04, -8.67286133e-04, ...,\n",
       "         2.89531411e-03, -3.67103461e-04,  5.52247035e-03]])"
      ]
     },
     "execution_count": 7,
     "metadata": {},
     "output_type": "execute_result"
    }
   ],
   "source": [
    "U"
   ]
  },
  {
   "cell_type": "code",
   "execution_count": 8,
   "metadata": {},
   "outputs": [
    {
     "data": {
      "text/plain": [
       "(10,)"
      ]
     },
     "execution_count": 8,
     "metadata": {},
     "output_type": "execute_result"
    }
   ],
   "source": [
    "Sigma.shape"
   ]
  },
  {
   "cell_type": "code",
   "execution_count": 9,
   "metadata": {},
   "outputs": [
    {
     "data": {
      "text/plain": [
       "array([4274.34712234, 1783.94079629, 1532.69955439, 1226.23777693,\n",
       "       1181.77418321, 1012.75372053,  960.90948964,  908.11669303,\n",
       "        843.63067778,  745.68885263])"
      ]
     },
     "execution_count": 9,
     "metadata": {},
     "output_type": "execute_result"
    }
   ],
   "source": [
    "Sigma"
   ]
  },
  {
   "cell_type": "code",
   "execution_count": 10,
   "metadata": {},
   "outputs": [
    {
     "data": {
      "text/plain": [
       "(10, 10681)"
      ]
     },
     "execution_count": 10,
     "metadata": {},
     "output_type": "execute_result"
    }
   ],
   "source": [
    "VT.shape"
   ]
  },
  {
   "cell_type": "code",
   "execution_count": 11,
   "metadata": {},
   "outputs": [
    {
     "data": {
      "text/plain": [
       "array([[ 0.00659513,  0.03287326,  0.04179272, ...,  0.        ,\n",
       "         0.        ,  0.        ],\n",
       "       [-0.01460375, -0.09528498, -0.07152948, ..., -0.        ,\n",
       "        -0.        , -0.        ],\n",
       "       [ 0.00269548, -0.01149541, -0.04279691, ..., -0.        ,\n",
       "        -0.        , -0.        ],\n",
       "       ...,\n",
       "       [ 0.00125656, -0.02294984, -0.03211044, ...,  0.        ,\n",
       "         0.        ,  0.        ],\n",
       "       [-0.00659959, -0.00630734, -0.0306876 , ...,  0.        ,\n",
       "         0.        ,  0.        ],\n",
       "       [-0.01302404,  0.01671774, -0.08365515, ...,  0.        ,\n",
       "         0.        ,  0.        ]])"
      ]
     },
     "execution_count": 11,
     "metadata": {},
     "output_type": "execute_result"
    }
   ],
   "source": [
    "VT"
   ]
  },
  {
   "cell_type": "markdown",
   "metadata": {},
   "source": [
    "### Now we can compute the predictions\n",
    "\n",
    "In order to compute the prediction we simply have to \"reconstruct\" the URM starting from the decomposition we have obtained, hence:\n",
    "\n",
    "$$ \\widehat{URM} = U_{t} \\Sigma_{t} V^T_{t} $$"
   ]
  },
  {
   "cell_type": "code",
   "execution_count": 12,
   "metadata": {},
   "outputs": [
    {
     "data": {
      "text/plain": [
       "2.2289523994900016"
      ]
     },
     "execution_count": 12,
     "metadata": {},
     "output_type": "execute_result"
    }
   ],
   "source": [
    "user_id = 17025\n",
    "item_id = 468\n",
    "\n",
    "user_factors = np.dot(U, np.diag(Sigma))\n",
    "item_factors = VT\n",
    "\n",
    "predicted_rating_mf = np.dot(user_factors[user_id,:], item_factors[:,item_id])\n",
    "predicted_rating_mf"
   ]
  },
  {
   "cell_type": "markdown",
   "metadata": {},
   "source": [
    "## Item-based version of PureSVD\n",
    "\n",
    "It is proven that via folding-in you can construct a matematically equivalent version of PureSVD that is item-based.\n",
    "See for example: Paolo Cremonesi, Yehuda Koren, and Roberto Turrin. 2010. Performance of recommender algorithms on top-n recommendation tasks. https://doi.org/10.1145/1864708.1864721\n",
    "\n",
    "Why would you want to do that?\n",
    "* Allows to compute recommendations for users that did not exist when you trained the model (you still need some interactions in their user profile to be able to compute recommendations)\n",
    "* Allows to create hybrid item-item similarities"
   ]
  },
  {
   "cell_type": "markdown",
   "metadata": {},
   "source": [
    "You can represent the user embeddings as $U_t \\Sigma_t$ and the item embeddings as $V$.\n",
    "\n",
    "The equivalence tells you that you can write $$ R = U_t \\Sigma_t V^T_t = R V V^T $$"
   ]
  },
  {
   "cell_type": "code",
   "execution_count": 13,
   "metadata": {},
   "outputs": [
    {
     "data": {
      "text/plain": [
       "(10681, 10681)"
      ]
     },
     "execution_count": 13,
     "metadata": {},
     "output_type": "execute_result"
    }
   ],
   "source": [
    "item_item_similarity = np.dot(VT.T,VT)\n",
    "item_item_similarity.shape"
   ]
  },
  {
   "cell_type": "code",
   "execution_count": 14,
   "metadata": {},
   "outputs": [
    {
     "data": {
      "text/plain": [
       "array([2.22820517])"
      ]
     },
     "execution_count": 14,
     "metadata": {},
     "output_type": "execute_result"
    }
   ],
   "source": [
    "predicted_rating_similarity = URM_train[user_id,:].dot(item_item_similarity[:,item_id])\n",
    "predicted_rating_similarity"
   ]
  },
  {
   "cell_type": "markdown",
   "metadata": {},
   "source": [
    "The predictios are almost identical, some small numerical diffrences can occur as the representation is always approximate"
   ]
  },
  {
   "cell_type": "markdown",
   "metadata": {},
   "source": [
    "### Non-Negative MF\n",
    "\n",
    "Another strategy for matrix decomposition that guarantees no latent dimension will be negative"
   ]
  },
  {
   "cell_type": "code",
   "execution_count": 17,
   "metadata": {},
   "outputs": [],
   "source": [
    "from sklearn.decomposition import NMF\n",
    "\n",
    "nmf_solver = NMF(n_components  = num_factors,\n",
    "                 init = \"random\",\n",
    "                 solver = \"mu\", #\"multiplicative_update\",\n",
    "                 beta_loss = \"frobenius\",\n",
    "                 l1_ratio = 0.01,\n",
    "                 shuffle = True,\n",
    "                 verbose = True,\n",
    "                 max_iter = 500)"
   ]
  },
  {
   "cell_type": "code",
   "execution_count": 18,
   "metadata": {},
   "outputs": [
    {
     "name": "stdout",
     "output_type": "stream",
     "text": [
      "Epoch 10 reached after 4.480 seconds, error: 9277.490591\n",
      "Epoch 20 reached after 8.806 seconds, error: 8994.546701\n",
      "Epoch 30 reached after 13.027 seconds, error: 8923.966636\n",
      "Epoch 40 reached after 17.363 seconds, error: 8897.652511\n",
      "Epoch 50 reached after 21.683 seconds, error: 8887.053704\n",
      "Epoch 60 reached after 25.825 seconds, error: 8881.777195\n",
      "Epoch 70 reached after 29.973 seconds, error: 8878.741659\n",
      "Epoch 80 reached after 34.116 seconds, error: 8876.816537\n",
      "Epoch 90 reached after 38.227 seconds, error: 8875.477266\n",
      "Epoch 100 reached after 42.346 seconds, error: 8874.472954\n",
      "Epoch 10 reached after 0.667 seconds, error: 8878.913049\n",
      "Epoch 20 reached after 0.998 seconds, error: 8874.952676\n",
      "Epoch 30 reached after 1.298 seconds, error: 8874.328325\n"
     ]
    }
   ],
   "source": [
    "nmf_solver.fit(URM_train)\n",
    "\n",
    "ITEM_factors = nmf_solver.components_.copy().T\n",
    "USER_factors = nmf_solver.transform(URM_train)"
   ]
  },
  {
   "cell_type": "code",
   "execution_count": 19,
   "metadata": {},
   "outputs": [
    {
     "data": {
      "text/plain": [
       "array([[8.82562067e-22, 3.55522618e-01, 1.18789896e-01, ...,\n",
       "        9.52500331e-18, 8.46799368e-13, 3.25385175e-21],\n",
       "       [3.91054831e-03, 3.06543921e+00, 1.91465805e-02, ...,\n",
       "        7.36999049e-09, 2.53566618e-01, 3.49509879e-01],\n",
       "       [1.11367844e+00, 2.63463522e+00, 6.11578516e-03, ...,\n",
       "        4.01144167e-05, 1.73533819e-01, 2.92685888e-05],\n",
       "       ...,\n",
       "       [0.00000000e+00, 0.00000000e+00, 0.00000000e+00, ...,\n",
       "        0.00000000e+00, 0.00000000e+00, 0.00000000e+00],\n",
       "       [0.00000000e+00, 0.00000000e+00, 0.00000000e+00, ...,\n",
       "        0.00000000e+00, 0.00000000e+00, 0.00000000e+00],\n",
       "       [0.00000000e+00, 0.00000000e+00, 0.00000000e+00, ...,\n",
       "        0.00000000e+00, 0.00000000e+00, 0.00000000e+00]])"
      ]
     },
     "execution_count": 19,
     "metadata": {},
     "output_type": "execute_result"
    }
   ],
   "source": [
    "ITEM_factors"
   ]
  },
  {
   "cell_type": "code",
   "execution_count": 20,
   "metadata": {},
   "outputs": [
    {
     "data": {
      "text/plain": [
       "array([[2.53384552e-06, 2.86892153e-01, 7.50472301e-10, ...,\n",
       "        2.27148242e-09, 6.20762936e-03, 5.34420629e-02],\n",
       "       [1.38230732e-10, 1.13653026e-02, 2.83458134e-01, ...,\n",
       "        5.31755615e-02, 6.84947315e-08, 7.30046392e-02],\n",
       "       [4.40034653e-03, 2.40529237e-02, 2.85509615e-18, ...,\n",
       "        5.04689455e-02, 1.85018548e-01, 1.12577829e-13],\n",
       "       ...,\n",
       "       [2.00520375e-07, 8.76694619e-08, 3.55827828e-05, ...,\n",
       "        4.12833182e-01, 6.20688931e-05, 1.11279117e-01],\n",
       "       [1.74809493e-05, 3.62548301e-01, 9.75225487e-02, ...,\n",
       "        9.81888247e-07, 5.78517505e-07, 3.05222623e-05],\n",
       "       [2.35326269e-06, 2.57301618e-02, 9.80433117e-02, ...,\n",
       "        7.58979904e-02, 1.91714844e-07, 5.00901430e-01]])"
      ]
     },
     "execution_count": 20,
     "metadata": {},
     "output_type": "execute_result"
    }
   ],
   "source": [
    "USER_factors"
   ]
  },
  {
   "cell_type": "code",
   "execution_count": null,
   "metadata": {},
   "outputs": [],
   "source": []
  }
 ],
 "metadata": {
  "kernelspec": {
   "display_name": "Python 3",
   "language": "python",
   "name": "python3"
  },
  "language_info": {
   "codemirror_mode": {
    "name": "ipython",
    "version": 3
   },
   "file_extension": ".py",
   "mimetype": "text/x-python",
   "name": "python",
   "nbconvert_exporter": "python",
   "pygments_lexer": "ipython3",
   "version": "3.8.8"
  }
 },
 "nbformat": 4,
 "nbformat_minor": 2
}
