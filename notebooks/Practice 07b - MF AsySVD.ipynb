{
 "cells": [
  {
   "cell_type": "markdown",
   "metadata": {},
   "source": [
    "# Recommender Systems 2022/23\n",
    "\n",
    "### Practice - AsySVD implemented with Python\n",
    "\n",
    "AsymmetricSVD is a model-based matrix factorization algorithm in which the user latent factors are represented as a function of their user profile and of a second item factor matrix."
   ]
  },
  {
   "cell_type": "code",
   "execution_count": 1,
   "metadata": {},
   "outputs": [],
   "source": [
    "import time\n",
    "import numpy as np"
   ]
  },
  {
   "cell_type": "code",
   "execution_count": 2,
   "metadata": {},
   "outputs": [
    {
     "name": "stdout",
     "output_type": "stream",
     "text": [
      "Movielens10M: Verifying data consistency...\n",
      "Movielens10M: Verifying data consistency... Passed!\n",
      "DataReader: current dataset is: Movielens10M\n",
      "\tNumber of items: 10681\n",
      "\tNumber of users: 69878\n",
      "\tNumber of interactions in URM_all: 10000054\n",
      "\tValue range in URM_all: 0.50-5.00\n",
      "\tInteraction density: 1.34E-02\n",
      "\tInteractions per user:\n",
      "\t\t Min: 2.00E+01\n",
      "\t\t Avg: 1.43E+02\n",
      "\t\t Max: 7.36E+03\n",
      "\tInteractions per item:\n",
      "\t\t Min: 0.00E+00\n",
      "\t\t Avg: 9.36E+02\n",
      "\t\t Max: 3.49E+04\n",
      "\tGini Index: 0.57\n",
      "\n",
      "\tICM name: ICM_genres, Value range: 1.00 / 1.00, Num features: 20, feature occurrences: 21564, density 1.01E-01\n",
      "\tICM name: ICM_all, Value range: 1.00 / 69.00, Num features: 10126, feature occurrences: 128384, density 1.19E-03\n",
      "\tICM name: ICM_year, Value range: 6.00E+00 / 2.01E+03, Num features: 1, feature occurrences: 10681, density 1.00E+00\n",
      "\tICM name: ICM_tags, Value range: 1.00 / 69.00, Num features: 10106, feature occurrences: 106820, density 9.90E-04\n",
      "\n",
      "\n",
      "Warning: 81 (0.12 %) of 69878 users have no sampled items\n"
     ]
    }
   ],
   "source": [
    "from Data_manager.split_functions.split_train_validation_random_holdout import split_train_in_two_percentage_global_sample\n",
    "from Data_manager.Movielens.Movielens10MReader import Movielens10MReader\n",
    "\n",
    "data_reader = Movielens10MReader()\n",
    "data_loaded = data_reader.load_data()\n",
    "\n",
    "URM_all = data_loaded.get_URM_all()\n",
    "\n",
    "URM_train, URM_test = split_train_in_two_percentage_global_sample(URM_all, train_percentage = 0.8)"
   ]
  },
  {
   "cell_type": "code",
   "execution_count": 3,
   "metadata": {},
   "outputs": [
    {
     "data": {
      "text/plain": [
       "<69878x10681 sparse matrix of type '<class 'numpy.float64'>'\n",
       "\twith 8000043 stored elements in Compressed Sparse Row format>"
      ]
     },
     "execution_count": 3,
     "metadata": {},
     "output_type": "execute_result"
    }
   ],
   "source": [
    "URM_train"
   ]
  },
  {
   "cell_type": "markdown",
   "metadata": {},
   "source": [
    "### What do we need for AsySVD?\n",
    "\n",
    "* Loss function\n",
    "* User factor and Item factor matrices\n",
    "* Computing prediction\n",
    "* Update rule\n",
    "* Training loop and some patience\n"
   ]
  },
  {
   "cell_type": "code",
   "execution_count": 4,
   "metadata": {},
   "outputs": [],
   "source": [
    "n_users, n_items = URM_train.shape"
   ]
  },
  {
   "cell_type": "markdown",
   "metadata": {},
   "source": [
    "#### The two methods are based on two latent factor matrices $ W, V \\in R^{I \\times E}$ with E the embedding size, and biases\n",
    "\n",
    "#### How to compute the predictions\n",
    "$ \\hat{r}_{ui} = \\sum_{k=0}^{E}\\sum_{j=0}^{I} r_{uj}W_{jk}H_{ki}$\n",
    "\n",
    "\n",
    "#### The loss function we are interested in minimizing is\n",
    "$L = |R - RWH|_F + \\alpha|W|_2 + \\beta|H|_2$\n",
    "\n",
    "#### Gradients\n",
    "\n",
    "$\\frac{\\partial}{\\partial W} L = -2(R - RWH)RH + 2\\alpha W $\n",
    "\n",
    "$\\frac{\\partial}{\\partial H} L = -2(R - RWH)RW + 2\\alpha H $\n",
    "\n",
    "\n",
    "#### The update is going to be (we can remove the coefficients)\n",
    "$ W = W - \\frac{\\partial}{\\partial W}$, or \n",
    "\n",
    "$ W = W + l((R - RWH)RH - \\alpha W)$, with $l$ the learning rate\n"
   ]
  },
  {
   "cell_type": "markdown",
   "metadata": {},
   "source": [
    "## Step 1: We create the dense latent factor matrices\n",
    "### In a MF model you have two matrices, one with a row per user and the other with a column per item. The other dimension, columns for the first one and rows for the second one is called latent factors"
   ]
  },
  {
   "cell_type": "code",
   "execution_count": 48,
   "metadata": {},
   "outputs": [],
   "source": [
    "num_factors = 10\n",
    "\n",
    "user_profile_factors = np.random.random((n_items, num_factors))\n",
    "item_factors = np.random.random((n_items, num_factors))"
   ]
  },
  {
   "cell_type": "code",
   "execution_count": 49,
   "metadata": {},
   "outputs": [
    {
     "data": {
      "text/plain": [
       "array([[0.09322355, 0.87480538, 0.27462011, ..., 0.90062068, 0.85601966,\n",
       "        0.9707732 ],\n",
       "       [0.62917388, 0.37059208, 0.74426552, ..., 0.82698028, 0.22020956,\n",
       "        0.71384618],\n",
       "       [0.83058974, 0.70111152, 0.56187921, ..., 0.76641175, 0.20665587,\n",
       "        0.94908772],\n",
       "       ...,\n",
       "       [0.79292913, 0.94349928, 0.90062389, ..., 0.31243291, 0.49190609,\n",
       "        0.68836993],\n",
       "       [0.56211935, 0.72012409, 0.256398  , ..., 0.32746358, 0.05331511,\n",
       "        0.41274234],\n",
       "       [0.36696277, 0.03362334, 0.66668566, ..., 0.95645357, 0.16164893,\n",
       "        0.31240537]])"
      ]
     },
     "execution_count": 49,
     "metadata": {},
     "output_type": "execute_result"
    }
   ],
   "source": [
    "user_profile_factors"
   ]
  },
  {
   "cell_type": "code",
   "execution_count": 50,
   "metadata": {},
   "outputs": [
    {
     "data": {
      "text/plain": [
       "array([[0.46842057, 0.89858749, 0.66953195, ..., 0.29047228, 0.39885589,\n",
       "        0.36497037],\n",
       "       [0.78741586, 0.5761603 , 0.09862143, ..., 0.47005879, 0.78939069,\n",
       "        0.75788963],\n",
       "       [0.34837808, 0.98052912, 0.4830543 , ..., 0.27998635, 0.14446389,\n",
       "        0.68178991],\n",
       "       ...,\n",
       "       [0.27224415, 0.06036333, 0.41525965, ..., 0.940685  , 0.05485744,\n",
       "        0.83336637],\n",
       "       [0.05217096, 0.50322239, 0.13575699, ..., 0.57949148, 0.87768706,\n",
       "        0.41222356],\n",
       "       [0.03277985, 0.18521053, 0.23841347, ..., 0.96429103, 0.00268752,\n",
       "        0.00181105]])"
      ]
     },
     "execution_count": 50,
     "metadata": {},
     "output_type": "execute_result"
    }
   ],
   "source": [
    "item_factors"
   ]
  },
  {
   "cell_type": "markdown",
   "metadata": {},
   "source": [
    "## Step 2: We sample an interaction and compute the prediction of the current model"
   ]
  },
  {
   "cell_type": "code",
   "execution_count": 64,
   "metadata": {},
   "outputs": [
    {
     "data": {
      "text/plain": [
       "48952"
      ]
     },
     "execution_count": 64,
     "metadata": {},
     "output_type": "execute_result"
    }
   ],
   "source": [
    "URM_train_coo = URM_train.tocoo()\n",
    "\n",
    "sample_index = np.random.randint(URM_train_coo.nnz)\n",
    "sample_index"
   ]
  },
  {
   "cell_type": "code",
   "execution_count": 65,
   "metadata": {},
   "outputs": [
    {
     "data": {
      "text/plain": [
       "(447, 4208, 4.5)"
      ]
     },
     "execution_count": 65,
     "metadata": {},
     "output_type": "execute_result"
    }
   ],
   "source": [
    "user_id = URM_train_coo.row[sample_index]\n",
    "item_id = URM_train_coo.col[sample_index]\n",
    "rating = URM_train_coo.data[sample_index]\n",
    "\n",
    "user_profile = URM_train[user_id]\n",
    "\n",
    "(user_id, item_id, rating)"
   ]
  },
  {
   "cell_type": "code",
   "execution_count": 66,
   "metadata": {},
   "outputs": [
    {
     "data": {
      "text/plain": [
       "array([2.1246364 , 2.18319311, 2.06995653, 1.99935849, 2.06322857,\n",
       "       2.14486522, 1.93724708, 2.13619879, 1.85921077, 2.05088976])"
      ]
     },
     "execution_count": 66,
     "metadata": {},
     "output_type": "execute_result"
    }
   ],
   "source": [
    "# The estimated user factors may be divided by the square root of the profile length or the length itself\n",
    "# to improve learning stability (otherwise the dot product produces an embedding vector with very large numbers)\n",
    "estimated_user_factors = user_profile.dot(user_profile_factors).ravel()/user_profile.nnz\n",
    "estimated_user_factors"
   ]
  },
  {
   "cell_type": "code",
   "execution_count": 67,
   "metadata": {},
   "outputs": [
    {
     "data": {
      "text/plain": [
       "6.723057462921961"
      ]
     },
     "execution_count": 67,
     "metadata": {},
     "output_type": "execute_result"
    }
   ],
   "source": [
    "predicted_rating = np.dot(estimated_user_factors, item_factors[item_id,:])\n",
    "predicted_rating"
   ]
  },
  {
   "cell_type": "markdown",
   "metadata": {},
   "source": [
    "#### The first predicted rating is a random prediction, essentially\n",
    "\n",
    "### Step 3: We compute the prediction error and update the latent factor matrices"
   ]
  },
  {
   "cell_type": "code",
   "execution_count": 68,
   "metadata": {},
   "outputs": [
    {
     "data": {
      "text/plain": [
       "-2.223057462921961"
      ]
     },
     "execution_count": 68,
     "metadata": {},
     "output_type": "execute_result"
    }
   ],
   "source": [
    "prediction_error = rating - predicted_rating\n",
    "prediction_error"
   ]
  },
  {
   "cell_type": "markdown",
   "metadata": {},
   "source": [
    "### The error is positive, so we need to increase the prediction our model computes. Meaning, we have to increase the values latent factor matrices\n",
    "\n",
    "### Which latent factors we modify? All the factors of the item and user we used"
   ]
  },
  {
   "cell_type": "code",
   "execution_count": 69,
   "metadata": {},
   "outputs": [],
   "source": [
    "# Copy original value to avoid messing up the updates\n",
    "H_all = item_factors.copy()\n",
    "W_all = user_profile_factors.copy()"
   ]
  },
  {
   "cell_type": "code",
   "execution_count": 70,
   "metadata": {},
   "outputs": [
    {
     "data": {
      "text/plain": [
       "array([[0.46834958, 0.898519  , 0.66946486, ..., 0.2904036 , 0.39878559,\n",
       "        0.36490286],\n",
       "       [0.78734487, 0.57609182, 0.09855435, ..., 0.46999011, 0.78932038,\n",
       "        0.75782212],\n",
       "       [0.34830709, 0.98046064, 0.48298721, ..., 0.27991767, 0.14439358,\n",
       "        0.6817224 ],\n",
       "       ...,\n",
       "       [0.27217316, 0.06029485, 0.41519257, ..., 0.94061632, 0.05478713,\n",
       "        0.83329886],\n",
       "       [0.05209996, 0.50315391, 0.1356899 , ..., 0.5794228 , 0.87761675,\n",
       "        0.41215605],\n",
       "       [0.03270885, 0.18514204, 0.23834638, ..., 0.96422235, 0.00261721,\n",
       "        0.00174355]])"
      ]
     },
     "execution_count": 70,
     "metadata": {},
     "output_type": "execute_result"
    }
   ],
   "source": [
    "H_all"
   ]
  },
  {
   "cell_type": "code",
   "execution_count": 71,
   "metadata": {},
   "outputs": [
    {
     "data": {
      "text/plain": [
       "array([[0.09315576, 0.87473813, 0.27455189, ..., 0.90054703, 0.85594987,\n",
       "        0.97070559],\n",
       "       [0.62910608, 0.37052483, 0.7441973 , ..., 0.82690662, 0.22013977,\n",
       "        0.71377858],\n",
       "       [0.83052194, 0.70104427, 0.561811  , ..., 0.7663381 , 0.20658609,\n",
       "        0.94902011],\n",
       "       ...,\n",
       "       [0.79286134, 0.94343203, 0.90055567, ..., 0.31235926, 0.4918363 ,\n",
       "        0.68830233],\n",
       "       [0.56205155, 0.72005684, 0.25632978, ..., 0.32738993, 0.05324532,\n",
       "        0.41267473],\n",
       "       [0.36689497, 0.03355609, 0.66661745, ..., 0.95637991, 0.16157914,\n",
       "        0.31233776]])"
      ]
     },
     "execution_count": 71,
     "metadata": {},
     "output_type": "execute_result"
    }
   ],
   "source": [
    "W_all"
   ]
  },
  {
   "cell_type": "markdown",
   "metadata": {},
   "source": [
    "#### Apply the update rule"
   ]
  },
  {
   "cell_type": "code",
   "execution_count": 72,
   "metadata": {},
   "outputs": [],
   "source": [
    "learning_rate = 1e-9    # Notice the low learning rate\n",
    "regularization = 1e-1   # Notice the high regularization"
   ]
  },
  {
   "cell_type": "code",
   "execution_count": 73,
   "metadata": {},
   "outputs": [
    {
     "data": {
      "text/plain": [
       "array([[-764.474143  , -745.77938176, -730.42248892, ..., -755.41713214,\n",
       "        -719.7980786 , -719.68390024],\n",
       "       [-764.52773803, -745.72896043, -730.46945346, ..., -755.4097681 ,\n",
       "        -719.73449759, -719.65820754],\n",
       "       [-764.54787962, -745.76201237, -730.45121483, ..., -755.40371125,\n",
       "        -719.73314222, -719.6817317 ],\n",
       "       ...,\n",
       "       [-764.54411356, -745.78625115, -730.4850893 , ..., -755.35831336,\n",
       "        -719.76166725, -719.65565992],\n",
       "       [-764.52103258, -745.76391363, -730.42066671, ..., -755.35981643,\n",
       "        -719.71780815, -719.62809716],\n",
       "       [-764.50151692, -745.69526355, -730.46169548, ..., -755.42271543,\n",
       "        -719.72864153, -719.61806346]])"
      ]
     },
     "execution_count": 73,
     "metadata": {},
     "output_type": "execute_result"
    }
   ],
   "source": [
    "user_factors_update = prediction_error * user_profile.dot(H_all) - regularization * W_all\n",
    "user_factors_update"
   ]
  },
  {
   "cell_type": "code",
   "execution_count": 74,
   "metadata": {},
   "outputs": [
    {
     "data": {
      "text/plain": [
       "array([[-779.37298728, -800.89486745, -759.33627774, ..., -783.59633003,\n",
       "        -682.00672172, -752.31204355],\n",
       "       [-779.40488681, -800.86262473, -759.27918669, ..., -783.61428868,\n",
       "        -682.0457752 , -752.35133548],\n",
       "       [-779.36098303, -800.90306162, -759.31762997, ..., -783.59528144,\n",
       "        -681.98128252, -752.3437255 ],\n",
       "       ...,\n",
       "       [-779.35336964, -800.81104504, -759.31085051, ..., -783.6613513 ,\n",
       "        -681.97232187, -752.35888315],\n",
       "       [-779.33136232, -800.85533094, -759.28290024, ..., -783.62523195,\n",
       "        -682.05460483, -752.31676887],\n",
       "       [-779.32942321, -800.82352976, -759.29316589, ..., -783.6637119 ,\n",
       "        -681.96710488, -752.27572762]])"
      ]
     },
     "execution_count": 74,
     "metadata": {},
     "output_type": "execute_result"
    }
   ],
   "source": [
    "item_factors_update = prediction_error * user_profile.dot(W_all) - regularization * item_factors\n",
    "item_factors_update"
   ]
  },
  {
   "cell_type": "code",
   "execution_count": 75,
   "metadata": {},
   "outputs": [],
   "source": [
    "user_profile_factors += learning_rate * user_factors_update \n",
    "item_factors += learning_rate * item_factors_update"
   ]
  },
  {
   "cell_type": "markdown",
   "metadata": {},
   "source": [
    "### Let's check what the new prediction for the same user-item interaction would be"
   ]
  },
  {
   "cell_type": "code",
   "execution_count": 63,
   "metadata": {},
   "outputs": [
    {
     "data": {
      "text/plain": [
       "121.9663597204858"
      ]
     },
     "execution_count": 63,
     "metadata": {},
     "output_type": "execute_result"
    }
   ],
   "source": [
    "estimated_user_factors = user_profile.dot(user_profile_factors).ravel()/np.sqrt(user_profile.nnz)\n",
    "\n",
    "predicted_rating = np.dot(estimated_user_factors, item_factors[item_id,:])\n",
    "predicted_rating"
   ]
  },
  {
   "cell_type": "markdown",
   "metadata": {},
   "source": [
    "### We are moving in the right direction"
   ]
  },
  {
   "cell_type": "markdown",
   "metadata": {},
   "source": [
    "### And now? Sample another interaction and repeat... a lot of times"
   ]
  },
  {
   "cell_type": "markdown",
   "metadata": {},
   "source": [
    "### Let's put all together in a training loop."
   ]
  },
  {
   "cell_type": "code",
   "execution_count": 76,
   "metadata": {},
   "outputs": [
    {
     "name": "stdout",
     "output_type": "stream",
     "text": [
      "Iteration 100000 in 139.50 seconds, loss is 591.24. Samples per second 716.85\n",
      "Iteration 200000 in 284.36 seconds, loss is 412.96. Samples per second 703.34\n",
      "Iteration 300000 in 436.25 seconds, loss is 352.34. Samples per second 687.68\n",
      "Iteration 400000 in 586.90 seconds, loss is 322.61. Samples per second 681.55\n",
      "Iteration 500000 in 725.97 seconds, loss is 304.48. Samples per second 688.73\n",
      "Iteration 600000 in 825.62 seconds, loss is 292.16. Samples per second 726.72\n",
      "Iteration 700000 in 926.82 seconds, loss is 283.31. Samples per second 755.27\n",
      "Iteration 800000 in 1027.88 seconds, loss is 276.70. Samples per second 778.30\n",
      "Iteration 900000 in 1128.21 seconds, loss is 271.94. Samples per second 797.72\n",
      "Iteration 1000000 in 1230.43 seconds, loss is 267.45. Samples per second 812.73\n"
     ]
    }
   ],
   "source": [
    "URM_train_coo = URM_train.tocoo()\n",
    "\n",
    "num_factors = 10\n",
    "learning_rate = 1e-9    # Notice the low learning rate\n",
    "regularization = 1e-1   # Notice the high regularization\n",
    "\n",
    "user_profile_factors = np.random.random((n_items, num_factors))\n",
    "item_factors = np.random.random((n_items, num_factors))\n",
    "\n",
    "loss = 0.0\n",
    "start_time = time.time()\n",
    "\n",
    "for sample_num in range(1000000):\n",
    "    \n",
    "    # Randomly pick sample\n",
    "    sample_index = np.random.randint(URM_train_coo.nnz)\n",
    "\n",
    "    user_id = URM_train_coo.row[sample_index]\n",
    "    item_id = URM_train_coo.col[sample_index]\n",
    "    rating = URM_train_coo.data[sample_index]\n",
    "    \n",
    "    # Compute prediction\n",
    "    user_profile = URM_train[user_id]\n",
    "    \n",
    "    if user_profile.nnz == 0:\n",
    "        continue \n",
    "        \n",
    "    estimated_user_factors = user_profile.dot(user_profile_factors).ravel()/np.sqrt(user_profile.nnz)\n",
    "    predicted_rating = np.dot(estimated_user_factors, item_factors[item_id,:])\n",
    "        \n",
    "    # Compute prediction error, or gradient\n",
    "    prediction_error = rating - predicted_rating\n",
    "    loss += prediction_error**2\n",
    "\n",
    "    if np.isnan(loss):\n",
    "        break \n",
    "        \n",
    "    # Copy original value to avoid messing up the updates\n",
    "    H_all = item_factors.copy()\n",
    "    W_u = user_profile_factors[user_profile.indices,:]\n",
    "    \n",
    "    # Apply the updates\n",
    "    user_factors_update = prediction_error * user_profile.dot(H_all) - regularization * W_all\n",
    "    item_factors_update = prediction_error * user_profile.dot(W_all) - regularization * item_factors\n",
    "    \n",
    "    user_profile_factors += learning_rate * user_factors_update \n",
    "    item_factors += learning_rate * item_factors_update    \n",
    "    \n",
    "    # Print some stats\n",
    "    if (sample_num +1)% 100000 == 0:\n",
    "        elapsed_time = time.time() - start_time\n",
    "        samples_per_second = sample_num/elapsed_time\n",
    "        print(\"Iteration {} in {:.2f} seconds, loss is {:.2f}. Samples per second {:.2f}\".format(sample_num+1, elapsed_time, loss/sample_num, samples_per_second))"
   ]
  },
  {
   "cell_type": "markdown",
   "metadata": {},
   "source": [
    "### What do we see? The loss generally goes down but may oscillate a bit.\n",
    "### With higher learning rates or lower regularization you may see numerical instability (i.e., the loss suddendly explodes and then becomes nan, at which point some model parameters will also become none and the model is ruined)\n",
    "\n",
    "### How long do we train such a model?\n",
    "\n",
    "* An epoch: a complete loop over all the train data\n",
    "* Usually you train for multiple epochs. Depending on the algorithm and data 10s or 100s of epochs."
   ]
  },
  {
   "cell_type": "code",
   "execution_count": 77,
   "metadata": {},
   "outputs": [
    {
     "name": "stdout",
     "output_type": "stream",
     "text": [
      "Estimated time with the previous training speed is 98434.23 seconds (1640.57 minutes, 27.34 hours)\n"
     ]
    }
   ],
   "source": [
    "estimated_seconds = 8e6 * 10 / samples_per_second\n",
    "print(\"Estimated time with the previous training speed is {:.2f} seconds ({:.2f} minutes, {:.2f} hours)\".format(estimated_seconds, estimated_seconds/60, estimated_seconds/3600))"
   ]
  },
  {
   "cell_type": "markdown",
   "metadata": {},
   "source": [
    "### AsySVD can be very slow. Each sample requires to compute dozens (or hundreds) of dot products. Cython does not help in this case because most of the computational cost is already vectorized by numpy. Tools such as PyTorch may become useful in this case because they allow to better parallelize these operations."
   ]
  },
  {
   "cell_type": "code",
   "execution_count": null,
   "metadata": {},
   "outputs": [],
   "source": []
  }
 ],
 "metadata": {
  "kernelspec": {
   "display_name": "Python 3",
   "language": "python",
   "name": "python3"
  },
  "language_info": {
   "codemirror_mode": {
    "name": "ipython",
    "version": 3
   },
   "file_extension": ".py",
   "mimetype": "text/x-python",
   "name": "python",
   "nbconvert_exporter": "python",
   "pygments_lexer": "ipython3",
   "version": "3.8.8"
  }
 },
 "nbformat": 4,
 "nbformat_minor": 2
}
