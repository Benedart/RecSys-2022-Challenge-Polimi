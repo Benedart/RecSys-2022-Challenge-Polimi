{
 "cells": [
  {
   "cell_type": "markdown",
   "metadata": {},
   "source": [
    "# Recommender Systems 2022/23\n",
    "\n",
    "### Practice 3 - Content Based recommenders\n",
    "\n",
    "\n",
    "### Load the data you saw last time:"
   ]
  },
  {
   "cell_type": "code",
   "execution_count": 1,
   "metadata": {},
   "outputs": [],
   "source": [
    "from urllib.request import urlretrieve\n",
    "import zipfile, os\n",
    "\n",
    "# If file exists, skip the download\n",
    "data_file_path = \"Data_manager_split_datasets/Movielens10M/\"\n",
    "data_file_name = data_file_path + \"movielens_10m.zip\"\n",
    "\n",
    "# If directory does not exist, create\n",
    "if not os.path.exists(data_file_path):\n",
    "    os.makedirs(data_file_path)\n",
    "\n",
    "if not os.path.exists(data_file_name):\n",
    "    urlretrieve (\"http://files.grouplens.org/datasets/movielens/ml-10m.zip\", data_file_name)\n",
    "    \n",
    "dataFile = zipfile.ZipFile(data_file_path + \"movielens_10m.zip\")\n",
    "\n",
    "URM_path = dataFile.extract(\"ml-10M100K/ratings.dat\", path = data_file_path + \"decompressed/\")\n",
    "\n",
    "URM_file = open(URM_path, 'r')"
   ]
  },
  {
   "cell_type": "code",
   "execution_count": 2,
   "metadata": {},
   "outputs": [],
   "source": [
    "import pandas as pd\n",
    "\n",
    "URM_all_dataframe = pd.read_csv(filepath_or_buffer=URM_path, \n",
    "                                sep=\"::\", \n",
    "                                header=None, \n",
    "                                dtype={0:int, 1:int, 2:float, 3:int},\n",
    "                                engine='python')\n",
    "\n",
    "URM_all_dataframe.columns = [\"UserID\", \"ItemID\", \"Interaction\", \"Timestamp\"]"
   ]
  },
  {
   "cell_type": "code",
   "execution_count": 3,
   "metadata": {},
   "outputs": [
    {
     "data": {
      "text/html": [
       "<div>\n",
       "<style scoped>\n",
       "    .dataframe tbody tr th:only-of-type {\n",
       "        vertical-align: middle;\n",
       "    }\n",
       "\n",
       "    .dataframe tbody tr th {\n",
       "        vertical-align: top;\n",
       "    }\n",
       "\n",
       "    .dataframe thead th {\n",
       "        text-align: right;\n",
       "    }\n",
       "</style>\n",
       "<table border=\"1\" class=\"dataframe\">\n",
       "  <thead>\n",
       "    <tr style=\"text-align: right;\">\n",
       "      <th></th>\n",
       "      <th>UserID</th>\n",
       "      <th>ItemID</th>\n",
       "      <th>Interaction</th>\n",
       "      <th>Timestamp</th>\n",
       "    </tr>\n",
       "  </thead>\n",
       "  <tbody>\n",
       "    <tr>\n",
       "      <th>0</th>\n",
       "      <td>1</td>\n",
       "      <td>122</td>\n",
       "      <td>5.0</td>\n",
       "      <td>838985046</td>\n",
       "    </tr>\n",
       "    <tr>\n",
       "      <th>1</th>\n",
       "      <td>1</td>\n",
       "      <td>185</td>\n",
       "      <td>5.0</td>\n",
       "      <td>838983525</td>\n",
       "    </tr>\n",
       "    <tr>\n",
       "      <th>2</th>\n",
       "      <td>1</td>\n",
       "      <td>231</td>\n",
       "      <td>5.0</td>\n",
       "      <td>838983392</td>\n",
       "    </tr>\n",
       "    <tr>\n",
       "      <th>3</th>\n",
       "      <td>1</td>\n",
       "      <td>292</td>\n",
       "      <td>5.0</td>\n",
       "      <td>838983421</td>\n",
       "    </tr>\n",
       "    <tr>\n",
       "      <th>4</th>\n",
       "      <td>1</td>\n",
       "      <td>316</td>\n",
       "      <td>5.0</td>\n",
       "      <td>838983392</td>\n",
       "    </tr>\n",
       "    <tr>\n",
       "      <th>5</th>\n",
       "      <td>1</td>\n",
       "      <td>329</td>\n",
       "      <td>5.0</td>\n",
       "      <td>838983392</td>\n",
       "    </tr>\n",
       "    <tr>\n",
       "      <th>6</th>\n",
       "      <td>1</td>\n",
       "      <td>355</td>\n",
       "      <td>5.0</td>\n",
       "      <td>838984474</td>\n",
       "    </tr>\n",
       "    <tr>\n",
       "      <th>7</th>\n",
       "      <td>1</td>\n",
       "      <td>356</td>\n",
       "      <td>5.0</td>\n",
       "      <td>838983653</td>\n",
       "    </tr>\n",
       "    <tr>\n",
       "      <th>8</th>\n",
       "      <td>1</td>\n",
       "      <td>362</td>\n",
       "      <td>5.0</td>\n",
       "      <td>838984885</td>\n",
       "    </tr>\n",
       "    <tr>\n",
       "      <th>9</th>\n",
       "      <td>1</td>\n",
       "      <td>364</td>\n",
       "      <td>5.0</td>\n",
       "      <td>838983707</td>\n",
       "    </tr>\n",
       "  </tbody>\n",
       "</table>\n",
       "</div>"
      ],
      "text/plain": [
       "   UserID  ItemID  Interaction  Timestamp\n",
       "0       1     122          5.0  838985046\n",
       "1       1     185          5.0  838983525\n",
       "2       1     231          5.0  838983392\n",
       "3       1     292          5.0  838983421\n",
       "4       1     316          5.0  838983392\n",
       "5       1     329          5.0  838983392\n",
       "6       1     355          5.0  838984474\n",
       "7       1     356          5.0  838983653\n",
       "8       1     362          5.0  838984885\n",
       "9       1     364          5.0  838983707"
      ]
     },
     "execution_count": 3,
     "metadata": {},
     "output_type": "execute_result"
    }
   ],
   "source": [
    "URM_all_dataframe.head(n=10)"
   ]
  },
  {
   "cell_type": "markdown",
   "metadata": {},
   "source": [
    "## And now load the content informations in the same way:\n",
    "## In this case we are using tags. The ICM also contains the user that added the tag in column 0 (but we don't use that information)."
   ]
  },
  {
   "cell_type": "code",
   "execution_count": 4,
   "metadata": {},
   "outputs": [],
   "source": [
    "ICM_path = dataFile.extract(\"ml-10M100K/tags.dat\", path = data_file_path + \"decompressed/\")\n",
    "\n",
    "ICM_dataframe = pd.read_csv(filepath_or_buffer=ICM_path, \n",
    "                            sep=\"::\", \n",
    "                            header=None, \n",
    "                            dtype={0:int, 1:int, 2:str, 3:int},\n",
    "                            engine='python')\n",
    "\n",
    "ICM_dataframe.columns = [\"UserID\", \"ItemID\", \"FeatureID\", \"Timestamp\"]\n",
    "\n",
    "# Some nan values exist, remove them\n",
    "ICM_dataframe = ICM_dataframe[ICM_dataframe[\"FeatureID\"].notna()]"
   ]
  },
  {
   "cell_type": "code",
   "execution_count": 5,
   "metadata": {},
   "outputs": [
    {
     "data": {
      "text/html": [
       "<div>\n",
       "<style scoped>\n",
       "    .dataframe tbody tr th:only-of-type {\n",
       "        vertical-align: middle;\n",
       "    }\n",
       "\n",
       "    .dataframe tbody tr th {\n",
       "        vertical-align: top;\n",
       "    }\n",
       "\n",
       "    .dataframe thead th {\n",
       "        text-align: right;\n",
       "    }\n",
       "</style>\n",
       "<table border=\"1\" class=\"dataframe\">\n",
       "  <thead>\n",
       "    <tr style=\"text-align: right;\">\n",
       "      <th></th>\n",
       "      <th>UserID</th>\n",
       "      <th>ItemID</th>\n",
       "      <th>FeatureID</th>\n",
       "      <th>Timestamp</th>\n",
       "    </tr>\n",
       "  </thead>\n",
       "  <tbody>\n",
       "    <tr>\n",
       "      <th>0</th>\n",
       "      <td>15</td>\n",
       "      <td>4973</td>\n",
       "      <td>excellent!</td>\n",
       "      <td>1215184630</td>\n",
       "    </tr>\n",
       "    <tr>\n",
       "      <th>1</th>\n",
       "      <td>20</td>\n",
       "      <td>1747</td>\n",
       "      <td>politics</td>\n",
       "      <td>1188263867</td>\n",
       "    </tr>\n",
       "    <tr>\n",
       "      <th>2</th>\n",
       "      <td>20</td>\n",
       "      <td>1747</td>\n",
       "      <td>satire</td>\n",
       "      <td>1188263867</td>\n",
       "    </tr>\n",
       "    <tr>\n",
       "      <th>3</th>\n",
       "      <td>20</td>\n",
       "      <td>2424</td>\n",
       "      <td>chick flick 212</td>\n",
       "      <td>1188263835</td>\n",
       "    </tr>\n",
       "    <tr>\n",
       "      <th>4</th>\n",
       "      <td>20</td>\n",
       "      <td>2424</td>\n",
       "      <td>hanks</td>\n",
       "      <td>1188263835</td>\n",
       "    </tr>\n",
       "    <tr>\n",
       "      <th>5</th>\n",
       "      <td>20</td>\n",
       "      <td>2424</td>\n",
       "      <td>ryan</td>\n",
       "      <td>1188263835</td>\n",
       "    </tr>\n",
       "    <tr>\n",
       "      <th>6</th>\n",
       "      <td>20</td>\n",
       "      <td>2947</td>\n",
       "      <td>action</td>\n",
       "      <td>1188263755</td>\n",
       "    </tr>\n",
       "    <tr>\n",
       "      <th>7</th>\n",
       "      <td>20</td>\n",
       "      <td>2947</td>\n",
       "      <td>bond</td>\n",
       "      <td>1188263756</td>\n",
       "    </tr>\n",
       "    <tr>\n",
       "      <th>8</th>\n",
       "      <td>20</td>\n",
       "      <td>3033</td>\n",
       "      <td>spoof</td>\n",
       "      <td>1188263880</td>\n",
       "    </tr>\n",
       "    <tr>\n",
       "      <th>9</th>\n",
       "      <td>20</td>\n",
       "      <td>3033</td>\n",
       "      <td>star wars</td>\n",
       "      <td>1188263880</td>\n",
       "    </tr>\n",
       "  </tbody>\n",
       "</table>\n",
       "</div>"
      ],
      "text/plain": [
       "   UserID  ItemID        FeatureID   Timestamp\n",
       "0      15    4973       excellent!  1215184630\n",
       "1      20    1747         politics  1188263867\n",
       "2      20    1747           satire  1188263867\n",
       "3      20    2424  chick flick 212  1188263835\n",
       "4      20    2424            hanks  1188263835\n",
       "5      20    2424             ryan  1188263835\n",
       "6      20    2947           action  1188263755\n",
       "7      20    2947             bond  1188263756\n",
       "8      20    3033            spoof  1188263880\n",
       "9      20    3033        star wars  1188263880"
      ]
     },
     "execution_count": 5,
     "metadata": {},
     "output_type": "execute_result"
    }
   ],
   "source": [
    "ICM_dataframe.head(n=10)"
   ]
  },
  {
   "cell_type": "markdown",
   "metadata": {},
   "source": [
    "### We can see that most users and items have no data associated to them"
   ]
  },
  {
   "cell_type": "code",
   "execution_count": 6,
   "metadata": {},
   "outputs": [
    {
     "name": "stdout",
     "output_type": "stream",
     "text": [
      "Number of tags\t 16528, Number of item-tag tuples 95564\n"
     ]
    }
   ],
   "source": [
    "n_features = len(ICM_dataframe[\"FeatureID\"].unique())\n",
    "\n",
    "print (\"Number of tags\\t {}, Number of item-tag tuples {}\".format(n_features, len(ICM_dataframe)))"
   ]
  },
  {
   "cell_type": "markdown",
   "metadata": {},
   "source": [
    "## We now build the sparse URM and ICM matrices\n",
    "\n",
    "### The tags are strings, we should traslate them into numbers so we can use them as indices in the ICM.\n",
    "### We should also ensure that the item and user indices we use in ICM and URM are consistent. To do so we use the same mapper, first we populate it with the URM and then we add the new ids that appear only in the ICM"
   ]
  },
  {
   "cell_type": "code",
   "execution_count": 7,
   "metadata": {},
   "outputs": [
    {
     "name": "stdout",
     "output_type": "stream",
     "text": [
      "Unique UserID in the URM are 69878\n",
      "Unique UserID in the URM and ICM are 71567\n"
     ]
    }
   ],
   "source": [
    "mapped_id, original_id = pd.factorize(URM_all_dataframe[\"UserID\"].unique())\n",
    "\n",
    "print(\"Unique UserID in the URM are {}\".format(len(original_id)))\n",
    "\n",
    "all_item_indices = pd.concat([URM_all_dataframe[\"UserID\"], ICM_dataframe[\"UserID\"]], ignore_index=True)\n",
    "mapped_id, original_id = pd.factorize(all_item_indices.unique())\n",
    "\n",
    "print(\"Unique UserID in the URM and ICM are {}\".format(len(original_id)))\n",
    "\n",
    "user_original_ID_to_index = pd.Series(mapped_id, index=original_id)"
   ]
  },
  {
   "cell_type": "code",
   "execution_count": 8,
   "metadata": {},
   "outputs": [
    {
     "name": "stdout",
     "output_type": "stream",
     "text": [
      "Unique ItemID in the URM are 10677\n",
      "Unique ItemID in the URM and ICM are 10681\n"
     ]
    }
   ],
   "source": [
    "mapped_id, original_id = pd.factorize(URM_all_dataframe[\"ItemID\"].unique())\n",
    "\n",
    "print(\"Unique ItemID in the URM are {}\".format(len(original_id)))\n",
    "\n",
    "all_item_indices = pd.concat([URM_all_dataframe[\"ItemID\"], ICM_dataframe[\"ItemID\"]], ignore_index=True)\n",
    "mapped_id, original_id = pd.factorize(all_item_indices.unique())\n",
    "\n",
    "print(\"Unique ItemID in the URM and ICM are {}\".format(len(original_id)))\n",
    "\n",
    "item_original_ID_to_index = pd.Series(mapped_id, index=original_id)"
   ]
  },
  {
   "cell_type": "code",
   "execution_count": 9,
   "metadata": {},
   "outputs": [
    {
     "name": "stdout",
     "output_type": "stream",
     "text": [
      "Unique FeatureID in the URM are 16528\n"
     ]
    }
   ],
   "source": [
    "mapped_id, original_id = pd.factorize(ICM_dataframe[\"FeatureID\"].unique())\n",
    "feature_original_ID_to_index = pd.Series(mapped_id, index=original_id)\n",
    "\n",
    "print(\"Unique FeatureID in the URM are {}\".format(len(feature_original_ID_to_index)))"
   ]
  },
  {
   "cell_type": "code",
   "execution_count": 10,
   "metadata": {},
   "outputs": [
    {
     "name": "stdout",
     "output_type": "stream",
     "text": [
      "New index for feature 'star wars' is 9\n"
     ]
    }
   ],
   "source": [
    "original_feature_ID = \"star wars\"\n",
    "print(\"New index for feature '{}' is {}\".format(original_feature_ID, feature_original_ID_to_index[original_feature_ID]))"
   ]
  },
  {
   "cell_type": "markdown",
   "metadata": {},
   "source": [
    "# We can now build the URM and ICM using the new indices\n"
   ]
  },
  {
   "cell_type": "code",
   "execution_count": 11,
   "metadata": {},
   "outputs": [],
   "source": [
    "URM_all_dataframe[\"UserID\"] = URM_all_dataframe[\"UserID\"].map(user_original_ID_to_index)\n",
    "URM_all_dataframe[\"ItemID\"] = URM_all_dataframe[\"ItemID\"].map(item_original_ID_to_index)"
   ]
  },
  {
   "cell_type": "code",
   "execution_count": 12,
   "metadata": {},
   "outputs": [
    {
     "data": {
      "text/html": [
       "<div>\n",
       "<style scoped>\n",
       "    .dataframe tbody tr th:only-of-type {\n",
       "        vertical-align: middle;\n",
       "    }\n",
       "\n",
       "    .dataframe tbody tr th {\n",
       "        vertical-align: top;\n",
       "    }\n",
       "\n",
       "    .dataframe thead th {\n",
       "        text-align: right;\n",
       "    }\n",
       "</style>\n",
       "<table border=\"1\" class=\"dataframe\">\n",
       "  <thead>\n",
       "    <tr style=\"text-align: right;\">\n",
       "      <th></th>\n",
       "      <th>UserID</th>\n",
       "      <th>ItemID</th>\n",
       "      <th>Interaction</th>\n",
       "      <th>Timestamp</th>\n",
       "    </tr>\n",
       "  </thead>\n",
       "  <tbody>\n",
       "    <tr>\n",
       "      <th>0</th>\n",
       "      <td>0</td>\n",
       "      <td>0</td>\n",
       "      <td>5.0</td>\n",
       "      <td>838985046</td>\n",
       "    </tr>\n",
       "    <tr>\n",
       "      <th>1</th>\n",
       "      <td>0</td>\n",
       "      <td>1</td>\n",
       "      <td>5.0</td>\n",
       "      <td>838983525</td>\n",
       "    </tr>\n",
       "    <tr>\n",
       "      <th>2</th>\n",
       "      <td>0</td>\n",
       "      <td>2</td>\n",
       "      <td>5.0</td>\n",
       "      <td>838983392</td>\n",
       "    </tr>\n",
       "    <tr>\n",
       "      <th>3</th>\n",
       "      <td>0</td>\n",
       "      <td>3</td>\n",
       "      <td>5.0</td>\n",
       "      <td>838983421</td>\n",
       "    </tr>\n",
       "    <tr>\n",
       "      <th>4</th>\n",
       "      <td>0</td>\n",
       "      <td>4</td>\n",
       "      <td>5.0</td>\n",
       "      <td>838983392</td>\n",
       "    </tr>\n",
       "    <tr>\n",
       "      <th>5</th>\n",
       "      <td>0</td>\n",
       "      <td>5</td>\n",
       "      <td>5.0</td>\n",
       "      <td>838983392</td>\n",
       "    </tr>\n",
       "    <tr>\n",
       "      <th>6</th>\n",
       "      <td>0</td>\n",
       "      <td>6</td>\n",
       "      <td>5.0</td>\n",
       "      <td>838984474</td>\n",
       "    </tr>\n",
       "    <tr>\n",
       "      <th>7</th>\n",
       "      <td>0</td>\n",
       "      <td>7</td>\n",
       "      <td>5.0</td>\n",
       "      <td>838983653</td>\n",
       "    </tr>\n",
       "    <tr>\n",
       "      <th>8</th>\n",
       "      <td>0</td>\n",
       "      <td>8</td>\n",
       "      <td>5.0</td>\n",
       "      <td>838984885</td>\n",
       "    </tr>\n",
       "    <tr>\n",
       "      <th>9</th>\n",
       "      <td>0</td>\n",
       "      <td>9</td>\n",
       "      <td>5.0</td>\n",
       "      <td>838983707</td>\n",
       "    </tr>\n",
       "  </tbody>\n",
       "</table>\n",
       "</div>"
      ],
      "text/plain": [
       "   UserID  ItemID  Interaction  Timestamp\n",
       "0       0       0          5.0  838985046\n",
       "1       0       1          5.0  838983525\n",
       "2       0       2          5.0  838983392\n",
       "3       0       3          5.0  838983421\n",
       "4       0       4          5.0  838983392\n",
       "5       0       5          5.0  838983392\n",
       "6       0       6          5.0  838984474\n",
       "7       0       7          5.0  838983653\n",
       "8       0       8          5.0  838984885\n",
       "9       0       9          5.0  838983707"
      ]
     },
     "execution_count": 12,
     "metadata": {},
     "output_type": "execute_result"
    }
   ],
   "source": [
    "URM_all_dataframe.head(n=10)"
   ]
  },
  {
   "cell_type": "code",
   "execution_count": 13,
   "metadata": {},
   "outputs": [],
   "source": [
    "ICM_dataframe[\"UserID\"] = ICM_dataframe[\"UserID\"].map(user_original_ID_to_index)\n",
    "ICM_dataframe[\"ItemID\"] = ICM_dataframe[\"ItemID\"].map(item_original_ID_to_index)\n",
    "ICM_dataframe[\"FeatureID\"] = ICM_dataframe[\"FeatureID\"].map(feature_original_ID_to_index)"
   ]
  },
  {
   "cell_type": "code",
   "execution_count": 14,
   "metadata": {},
   "outputs": [
    {
     "data": {
      "text/html": [
       "<div>\n",
       "<style scoped>\n",
       "    .dataframe tbody tr th:only-of-type {\n",
       "        vertical-align: middle;\n",
       "    }\n",
       "\n",
       "    .dataframe tbody tr th {\n",
       "        vertical-align: top;\n",
       "    }\n",
       "\n",
       "    .dataframe thead th {\n",
       "        text-align: right;\n",
       "    }\n",
       "</style>\n",
       "<table border=\"1\" class=\"dataframe\">\n",
       "  <thead>\n",
       "    <tr style=\"text-align: right;\">\n",
       "      <th></th>\n",
       "      <th>UserID</th>\n",
       "      <th>ItemID</th>\n",
       "      <th>FeatureID</th>\n",
       "      <th>Timestamp</th>\n",
       "    </tr>\n",
       "  </thead>\n",
       "  <tbody>\n",
       "    <tr>\n",
       "      <th>0</th>\n",
       "      <td>69878</td>\n",
       "      <td>1926</td>\n",
       "      <td>0</td>\n",
       "      <td>1215184630</td>\n",
       "    </tr>\n",
       "    <tr>\n",
       "      <th>1</th>\n",
       "      <td>69879</td>\n",
       "      <td>1040</td>\n",
       "      <td>1</td>\n",
       "      <td>1188263867</td>\n",
       "    </tr>\n",
       "    <tr>\n",
       "      <th>2</th>\n",
       "      <td>69879</td>\n",
       "      <td>1040</td>\n",
       "      <td>2</td>\n",
       "      <td>1188263867</td>\n",
       "    </tr>\n",
       "    <tr>\n",
       "      <th>3</th>\n",
       "      <td>69879</td>\n",
       "      <td>1086</td>\n",
       "      <td>3</td>\n",
       "      <td>1188263835</td>\n",
       "    </tr>\n",
       "    <tr>\n",
       "      <th>4</th>\n",
       "      <td>69879</td>\n",
       "      <td>1086</td>\n",
       "      <td>4</td>\n",
       "      <td>1188263835</td>\n",
       "    </tr>\n",
       "    <tr>\n",
       "      <th>5</th>\n",
       "      <td>69879</td>\n",
       "      <td>1086</td>\n",
       "      <td>5</td>\n",
       "      <td>1188263835</td>\n",
       "    </tr>\n",
       "    <tr>\n",
       "      <th>6</th>\n",
       "      <td>69879</td>\n",
       "      <td>612</td>\n",
       "      <td>6</td>\n",
       "      <td>1188263755</td>\n",
       "    </tr>\n",
       "    <tr>\n",
       "      <th>7</th>\n",
       "      <td>69879</td>\n",
       "      <td>612</td>\n",
       "      <td>7</td>\n",
       "      <td>1188263756</td>\n",
       "    </tr>\n",
       "    <tr>\n",
       "      <th>8</th>\n",
       "      <td>69879</td>\n",
       "      <td>628</td>\n",
       "      <td>8</td>\n",
       "      <td>1188263880</td>\n",
       "    </tr>\n",
       "    <tr>\n",
       "      <th>9</th>\n",
       "      <td>69879</td>\n",
       "      <td>628</td>\n",
       "      <td>9</td>\n",
       "      <td>1188263880</td>\n",
       "    </tr>\n",
       "  </tbody>\n",
       "</table>\n",
       "</div>"
      ],
      "text/plain": [
       "   UserID  ItemID  FeatureID   Timestamp\n",
       "0   69878    1926          0  1215184630\n",
       "1   69879    1040          1  1188263867\n",
       "2   69879    1040          2  1188263867\n",
       "3   69879    1086          3  1188263835\n",
       "4   69879    1086          4  1188263835\n",
       "5   69879    1086          5  1188263835\n",
       "6   69879     612          6  1188263755\n",
       "7   69879     612          7  1188263756\n",
       "8   69879     628          8  1188263880\n",
       "9   69879     628          9  1188263880"
      ]
     },
     "execution_count": 14,
     "metadata": {},
     "output_type": "execute_result"
    }
   ],
   "source": [
    "ICM_dataframe.head(n=10)"
   ]
  },
  {
   "cell_type": "markdown",
   "metadata": {},
   "source": [
    "### When we create the matrices we need to make sure they have the same shape. As we have seen some items and users only appear in one of the two matrices and are missing in the other (if they have no tags or no interactions)"
   ]
  },
  {
   "cell_type": "code",
   "execution_count": 15,
   "metadata": {},
   "outputs": [],
   "source": [
    "import scipy.sparse as sps\n",
    "import numpy as np\n",
    "\n",
    "n_users = len(user_original_ID_to_index)\n",
    "n_items = len(item_original_ID_to_index)\n",
    "n_features = len(feature_original_ID_to_index)"
   ]
  },
  {
   "cell_type": "code",
   "execution_count": 16,
   "metadata": {},
   "outputs": [
    {
     "data": {
      "text/plain": [
       "<71567x10681 sparse matrix of type '<class 'numpy.float64'>'\n",
       "\twith 10000054 stored elements in Compressed Sparse Row format>"
      ]
     },
     "execution_count": 16,
     "metadata": {},
     "output_type": "execute_result"
    }
   ],
   "source": [
    "URM_all = sps.csr_matrix((URM_all_dataframe[\"Interaction\"].values, \n",
    "                          (URM_all_dataframe[\"UserID\"].values, URM_all_dataframe[\"ItemID\"].values)),\n",
    "                        shape = (n_users, n_items))\n",
    "\n",
    "URM_all"
   ]
  },
  {
   "cell_type": "code",
   "execution_count": 17,
   "metadata": {},
   "outputs": [
    {
     "data": {
      "text/plain": [
       "<10681x16528 sparse matrix of type '<class 'numpy.float64'>'\n",
       "\twith 71140 stored elements in Compressed Sparse Row format>"
      ]
     },
     "execution_count": 17,
     "metadata": {},
     "output_type": "execute_result"
    }
   ],
   "source": [
    "ICM_all = sps.csr_matrix((np.ones(len(ICM_dataframe[\"ItemID\"].values)), \n",
    "                          (ICM_dataframe[\"ItemID\"].values, ICM_dataframe[\"FeatureID\"].values)),\n",
    "                        shape = (n_items, n_features))\n",
    "\n",
    "ICM_all.data = np.ones_like(ICM_all.data)\n",
    "\n",
    "ICM_all"
   ]
  },
  {
   "cell_type": "markdown",
   "metadata": {},
   "source": [
    "# Let's take a look at the ICM\n",
    "\n",
    "### We leverage CSR and CSC indptr data structure to compute the number of cells that have values for that row or column"
   ]
  },
  {
   "cell_type": "code",
   "execution_count": 18,
   "metadata": {},
   "outputs": [],
   "source": [
    "ICM_all = sps.csr_matrix(ICM_all)\n",
    "features_per_item = np.ediff1d(ICM_all.indptr)\n",
    "\n",
    "ICM_all = sps.csc_matrix(ICM_all)\n",
    "items_per_feature = np.ediff1d(ICM_all.indptr)\n",
    "\n",
    "ICM_all = sps.csr_matrix(ICM_all)"
   ]
  },
  {
   "cell_type": "code",
   "execution_count": 19,
   "metadata": {},
   "outputs": [
    {
     "name": "stdout",
     "output_type": "stream",
     "text": [
      "(10681,)\n",
      "(16528,)\n"
     ]
    }
   ],
   "source": [
    "print(features_per_item.shape)\n",
    "print(items_per_feature.shape)"
   ]
  },
  {
   "cell_type": "code",
   "execution_count": 20,
   "metadata": {},
   "outputs": [],
   "source": [
    "features_per_item = np.sort(features_per_item)\n",
    "items_per_feature = np.sort(items_per_feature)"
   ]
  },
  {
   "cell_type": "code",
   "execution_count": 21,
   "metadata": {},
   "outputs": [
    {
     "data": {
      "image/png": "[encoded data removed]",
      "text/plain": [
       "<Figure size 432x288 with 1 Axes>"
      ]
     },
     "metadata": {
      "needs_background": "light"
     },
     "output_type": "display_data"
    }
   ],
   "source": [
    "import matplotlib.pyplot as pyplot\n",
    "%matplotlib inline  \n",
    "\n",
    "pyplot.plot(features_per_item, 'ro')\n",
    "pyplot.ylabel('Num features ')\n",
    "pyplot.xlabel('Sorted items')\n",
    "pyplot.show()"
   ]
  },
  {
   "cell_type": "code",
   "execution_count": 22,
   "metadata": {},
   "outputs": [
    {
     "data": {
      "image/png": "[encoded data removed]",
      "text/plain": [
       "<Figure size 432x288 with 1 Axes>"
      ]
     },
     "metadata": {
      "needs_background": "light"
     },
     "output_type": "display_data"
    }
   ],
   "source": [
    "pyplot.plot(items_per_feature, 'ro')\n",
    "pyplot.ylabel('Num items ')\n",
    "pyplot.xlabel('Sorted features')\n",
    "pyplot.show()"
   ]
  },
  {
   "cell_type": "markdown",
   "metadata": {},
   "source": [
    "# We can now build the recommender algorithm, but first we need the train/test split and the evaluation function:"
   ]
  },
  {
   "cell_type": "code",
   "execution_count": 23,
   "metadata": {},
   "outputs": [
    {
     "name": "stdout",
     "output_type": "stream",
     "text": [
      "Warning: 1689 (2.36 %) of 71567 users have no train items\n",
      "Warning: 1759 (2.46 %) of 71567 users have no sampled items\n",
      "Warning: 1689 (2.36 %) of 71567 users have no train items\n",
      "Warning: 1935 (2.70 %) of 71567 users have no sampled items\n",
      "EvaluatorHoldout: Ignoring 1935 ( 2.7%) Users that have less than 1 test interactions\n",
      "EvaluatorHoldout: Ignoring 1759 ( 2.5%) Users that have less than 1 test interactions\n"
     ]
    }
   ],
   "source": [
    "from Evaluation.Evaluator import EvaluatorHoldout\n",
    "from Data_manager.split_functions.split_train_validation_random_holdout import split_train_in_two_percentage_global_sample\n",
    "\n",
    "URM_train, URM_test = split_train_in_two_percentage_global_sample(URM_all, train_percentage = 0.80)\n",
    "URM_train, URM_validation = split_train_in_two_percentage_global_sample(URM_train, train_percentage = 0.80)\n",
    "\n",
    "evaluator_validation = EvaluatorHoldout(URM_validation, cutoff_list=[10])\n",
    "evaluator_test = EvaluatorHoldout(URM_test, cutoff_list=[10])"
   ]
  },
  {
   "cell_type": "markdown",
   "metadata": {},
   "source": [
    "### We need to define Cosine similarity... Let's look at the attached source code"
   ]
  },
  {
   "cell_type": "markdown",
   "metadata": {},
   "source": [
    "### See also a [list of commonly used KNN similarity heuristics](https://github.com/MaurizioFD/RecSys_Course_2018/blob/master/slides/List_of_KNN_similarity_heuristics.pdf)"
   ]
  },
  {
   "cell_type": "markdown",
   "metadata": {},
   "source": [
    "## A KNN is built with the following steps:\n",
    "* Compute the similarity of an item with all others\n",
    "* Select the k-highest similarities"
   ]
  },
  {
   "cell_type": "code",
   "execution_count": 24,
   "metadata": {},
   "outputs": [],
   "source": [
    "item_id = 80\n",
    "shrink = 10"
   ]
  },
  {
   "cell_type": "markdown",
   "metadata": {},
   "source": [
    "The numerator is the dot product of the item features times the whole ICM data transposed"
   ]
  },
  {
   "cell_type": "code",
   "execution_count": 25,
   "metadata": {},
   "outputs": [
    {
     "data": {
      "text/plain": [
       "array([2., 0., 0., ..., 0., 1., 0.])"
      ]
     },
     "execution_count": 25,
     "metadata": {},
     "output_type": "execute_result"
    }
   ],
   "source": [
    "numerator_vector = ICM_all[item_id].dot(ICM_all.T).toarray().ravel()\n",
    "numerator_vector"
   ]
  },
  {
   "cell_type": "code",
   "execution_count": 26,
   "metadata": {},
   "outputs": [
    {
     "data": {
      "text/plain": [
       "array([1.73205081, 4.35889894, 5.29150262, ..., 1.        , 1.41421356,\n",
       "       1.41421356])"
      ]
     },
     "execution_count": 26,
     "metadata": {},
     "output_type": "execute_result"
    }
   ],
   "source": [
    "item_norms = np.sqrt(np.array(ICM_all.T.power(2).sum(axis=0))).ravel()\n",
    "item_norms"
   ]
  },
  {
   "cell_type": "markdown",
   "metadata": {},
   "source": [
    "The denominator will be the product of norms plus the srink term and a small value which prevents the denominator to be zero (only for non-negative data)"
   ]
  },
  {
   "cell_type": "code",
   "execution_count": 27,
   "metadata": {},
   "outputs": [
    {
     "data": {
      "text/plain": [
       "array([15.47722658, 23.78404975, 26.73320153, ..., 13.16227866,\n",
       "       14.47213695, 14.47213695])"
      ]
     },
     "execution_count": 27,
     "metadata": {},
     "output_type": "execute_result"
    }
   ],
   "source": [
    "denominator_vector = item_norms[item_id] * item_norms + shrink + 1e-6\n",
    "denominator_vector"
   ]
  },
  {
   "cell_type": "code",
   "execution_count": 28,
   "metadata": {},
   "outputs": [],
   "source": [
    "similarity_vector = numerator_vector/denominator_vector"
   ]
  },
  {
   "cell_type": "markdown",
   "metadata": {},
   "source": [
    "Let's sort the similarity from the highest to the lowest"
   ]
  },
  {
   "cell_type": "code",
   "execution_count": 29,
   "metadata": {},
   "outputs": [
    {
     "data": {
      "text/plain": [
       "array([   80,  3542,     0, ...,  3938,  3931, 10680], dtype=int64)"
      ]
     },
     "execution_count": 29,
     "metadata": {},
     "output_type": "execute_result"
    }
   ],
   "source": [
    "sorted_item_indices = np.argsort(-similarity_vector)\n",
    "sorted_item_indices"
   ]
  },
  {
   "cell_type": "code",
   "execution_count": 30,
   "metadata": {},
   "outputs": [
    {
     "data": {
      "image/png": "[encoded data removed]",
      "text/plain": [
       "<Figure size 432x288 with 1 Axes>"
      ]
     },
     "metadata": {
      "needs_background": "light"
     },
     "output_type": "display_data"
    }
   ],
   "source": [
    "pyplot.plot(similarity_vector[sorted_item_indices], 'ro')\n",
    "pyplot.ylabel('Similarity')\n",
    "pyplot.xlabel('Item')\n",
    "pyplot.show()"
   ]
  },
  {
   "cell_type": "markdown",
   "metadata": {},
   "source": [
    "Now we select the k most similar items"
   ]
  },
  {
   "cell_type": "code",
   "execution_count": 31,
   "metadata": {},
   "outputs": [],
   "source": [
    "k = 100"
   ]
  },
  {
   "cell_type": "code",
   "execution_count": 32,
   "metadata": {},
   "outputs": [
    {
     "data": {
      "image/png": "[encoded data removed]",
      "text/plain": [
       "<Figure size 432x288 with 1 Axes>"
      ]
     },
     "metadata": {
      "needs_background": "light"
     },
     "output_type": "display_data"
    }
   ],
   "source": [
    "pyplot.plot(similarity_vector[sorted_item_indices[0:k]], 'ro')\n",
    "pyplot.ylabel('Similarity')\n",
    "pyplot.xlabel('Item')\n",
    "pyplot.show()"
   ]
  },
  {
   "cell_type": "markdown",
   "metadata": {},
   "source": [
    "The operation is performed for all items.\n",
    "A simple strategy to perform it efficiently is to vectorize the most computationally intensive part, the dot product, on a group of items. The speedup can be of a factor of 10-100.\n",
    "This strategy is limited by the fact that the result of the dot product is a huge item-item dense similarity which likely does not fit in memory."
   ]
  },
  {
   "cell_type": "code",
   "execution_count": 33,
   "metadata": {},
   "outputs": [],
   "source": [
    "import traceback\n",
    "\n",
    "try:\n",
    "    numerator_matrix = ICM_all.dot(ICM_all.T).toarray()\n",
    "    \n",
    "except Exception as e:\n",
    "    traceback.print_exc()\n",
    "    "
   ]
  },
  {
   "cell_type": "markdown",
   "metadata": {},
   "source": [
    "The solution is:\n",
    "* Compute the numerator a block of items at a time leveraging vectorization while not running out of memory\n",
    "* Extract the k-nn on those items\n",
    "* Built incrementally the sparse similarity matrix"
   ]
  },
  {
   "cell_type": "code",
   "execution_count": 34,
   "metadata": {},
   "outputs": [
    {
     "data": {
      "text/plain": [
       "(100, 10681)"
      ]
     },
     "execution_count": 34,
     "metadata": {},
     "output_type": "execute_result"
    }
   ],
   "source": [
    "block_size = 100\n",
    "\n",
    "numerator_block = ICM_all[0:block_size].dot(ICM_all.T).toarray()\n",
    "numerator_block.shape"
   ]
  },
  {
   "cell_type": "markdown",
   "metadata": {},
   "source": [
    "Let's compare the speed to compute the dot product on the whole similarity of the two strategies"
   ]
  },
  {
   "cell_type": "code",
   "execution_count": 35,
   "metadata": {},
   "outputs": [
    {
     "name": "stdout",
     "output_type": "stream",
     "text": [
      "Computing the similarity one item at a time runs at 985.58 items/sec\n"
     ]
    }
   ],
   "source": [
    "import time\n",
    "\n",
    "n_items = ICM_all.shape[0]\n",
    "\n",
    "start_time = time.time()\n",
    "\n",
    "for n_item in range(n_items):\n",
    "    numerator_vector = ICM_all[item_id].dot(ICM_all.T).toarray().ravel()\n",
    "    \n",
    "end_time = time.time()\n",
    "\n",
    "print(\"Computing the similarity one item at a time runs at {:.2f} items/sec\".format(n_items/(end_time-start_time)))"
   ]
  },
  {
   "cell_type": "code",
   "execution_count": 36,
   "metadata": {},
   "outputs": [
    {
     "name": "stdout",
     "output_type": "stream",
     "text": [
      "Computing the similarity in blocks of 100 items at a time runs at 27339.09 items/sec\n"
     ]
    }
   ],
   "source": [
    "n_items = ICM_all.shape[0]\n",
    "\n",
    "start_time = time.time()\n",
    "\n",
    "block_size = 100\n",
    "blocks_start_positions = range(0, n_items, block_size)\n",
    "\n",
    "for start_pos in blocks_start_positions:\n",
    "    end_pos = min(start_pos + block_size, n_items)\n",
    "    \n",
    "    numerator_block = ICM_all[start_pos:end_pos].dot(ICM_all.T).toarray()\n",
    "    \n",
    "end_time = time.time()\n",
    "\n",
    "print(\"Computing the similarity in blocks of 100 items at a time runs at {:.2f} items/sec\".format(n_items/(end_time-start_time)))"
   ]
  },
  {
   "cell_type": "markdown",
   "metadata": {},
   "source": [
    "### In this case the vectorized implementation runs >20 times faster!\n",
    "\n",
    "#### Usually most of the speed gain comes with blocks of 100 or so items, depending on the system. Much higher than that tends to not be beneficial while requiring increasingly more memory."
   ]
  },
  {
   "cell_type": "markdown",
   "metadata": {},
   "source": [
    "Now an example of something you should *never* do, nested loops to compute the similarity of each item without vectorization"
   ]
  },
  {
   "cell_type": "code",
   "execution_count": 37,
   "metadata": {},
   "outputs": [
    {
     "name": "stdout",
     "output_type": "stream",
     "text": [
      "Computing the similarity with nested loops runs at 27.57 items/sec\n"
     ]
    }
   ],
   "source": [
    "n_items = 100\n",
    "\n",
    "start_time = time.time()\n",
    "\n",
    "for n_item in range(n_items):\n",
    "    for second_item in range(n_items):\n",
    "        numerator_vector = ICM_all[item_id].dot(ICM_all[second_item].T)\n",
    "    \n",
    "end_time = time.time()\n",
    "\n",
    "print(\"Computing the similarity with nested loops runs at {:.2f} items/sec\".format(n_items/(end_time-start_time)))"
   ]
  },
  {
   "cell_type": "markdown",
   "metadata": {},
   "source": [
    "You see how incredibly slow nested loops are compared to a well vectorized implementation"
   ]
  },
  {
   "cell_type": "markdown",
   "metadata": {},
   "source": [
    "#### Let's now compute the entire similarity matrix and use it to generate recommendations"
   ]
  },
  {
   "cell_type": "code",
   "execution_count": 38,
   "metadata": {},
   "outputs": [
    {
     "name": "stdout",
     "output_type": "stream",
     "text": [
      "Similarity column 10681 (100.0%), 3044.67 column/sec. Elapsed time 3.51 sec\n"
     ]
    },
    {
     "data": {
      "text/plain": [
       "<10681x10681 sparse matrix of type '<class 'numpy.float32'>'\n",
       "\twith 624041 stored elements in Compressed Sparse Row format>"
      ]
     },
     "execution_count": 38,
     "metadata": {},
     "output_type": "execute_result"
    }
   ],
   "source": [
    "from Recommenders.Similarity.Compute_Similarity_Python import Compute_Similarity_Python\n",
    "\n",
    "similarity_object = Compute_Similarity_Python(ICM_all.T, shrink=0.0, \n",
    "                                          topK=100,\n",
    "                                          normalize=True, \n",
    "                                          similarity = \"cosine\")\n",
    "\n",
    "W_sparse = similarity_object.compute_similarity()\n",
    "W_sparse"
   ]
  },
  {
   "cell_type": "code",
   "execution_count": 39,
   "metadata": {},
   "outputs": [
    {
     "data": {
      "text/plain": [
       "<1x10681 sparse matrix of type '<class 'numpy.float64'>'\n",
       "\twith 5309 stored elements in Compressed Sparse Row format>"
      ]
     },
     "execution_count": 39,
     "metadata": {},
     "output_type": "execute_result"
    }
   ],
   "source": [
    "user_id = 200\n",
    "user_profile = URM_train[user_id]\n",
    "\n",
    "scores = user_profile.dot(W_sparse)\n",
    "scores"
   ]
  },
  {
   "cell_type": "code",
   "execution_count": 40,
   "metadata": {},
   "outputs": [
    {
     "data": {
      "text/plain": [
       "array([0.        , 5.06626014, 4.63941215, ..., 0.        , 0.        ,\n",
       "       0.        ])"
      ]
     },
     "execution_count": 40,
     "metadata": {},
     "output_type": "execute_result"
    }
   ],
   "source": [
    "scores = scores.toarray().ravel()\n",
    "scores"
   ]
  },
  {
   "cell_type": "markdown",
   "metadata": {},
   "source": [
    "We can then sort the scores to recommend the highest ranked ones"
   ]
  },
  {
   "cell_type": "code",
   "execution_count": 41,
   "metadata": {},
   "outputs": [
    {
     "data": {
      "text/plain": [
       "array([ 436, 2643, 7714, 3082, 6302,  235,   37, 6586, 6183,  179],\n",
       "      dtype=int64)"
      ]
     },
     "execution_count": 41,
     "metadata": {},
     "output_type": "execute_result"
    }
   ],
   "source": [
    "ranking = scores.argsort()[::-1][0:10]\n",
    "ranking"
   ]
  },
  {
   "cell_type": "code",
   "execution_count": 42,
   "metadata": {},
   "outputs": [
    {
     "data": {
      "text/plain": [
       "array([23.67845091, 20.97654562, 20.79778096, 20.79778096, 20.13316749,\n",
       "       20.01614007, 19.26797123, 19.07612655, 18.62343012, 17.8655453 ])"
      ]
     },
     "execution_count": 42,
     "metadata": {},
     "output_type": "execute_result"
    }
   ],
   "source": [
    "scores[ranking]"
   ]
  },
  {
   "cell_type": "markdown",
   "metadata": {},
   "source": [
    "## Test our CBF recommender:\n",
    "\n",
    "#### We put everything in a Python class with a standard interface"
   ]
  },
  {
   "cell_type": "code",
   "execution_count": 43,
   "metadata": {},
   "outputs": [],
   "source": [
    "from Recommenders.Similarity.Compute_Similarity_Python import Compute_Similarity_Python\n",
    "\n",
    "class ItemKNNCBFRecommender(object):\n",
    "    \n",
    "    def __init__(self, URM, ICM):\n",
    "        self.URM = URM\n",
    "        self.ICM = ICM\n",
    "        \n",
    "            \n",
    "    def fit(self, topK=50, shrink=100, normalize = True, similarity = \"cosine\"):\n",
    "        \n",
    "        similarity_object = Compute_Similarity_Python(self.ICM.T, shrink=shrink, \n",
    "                                                  topK=topK, normalize=normalize, \n",
    "                                                  similarity = similarity)\n",
    "        \n",
    "        self.W_sparse = similarity_object.compute_similarity()\n",
    "\n",
    "        \n",
    "    def recommend(self, user_id, at=None, exclude_seen=True):\n",
    "        # compute the scores using the dot product\n",
    "        user_profile = self.URM[user_id]\n",
    "        scores = user_profile.dot(self.W_sparse).toarray().ravel()\n",
    "\n",
    "        if exclude_seen:\n",
    "            scores = self.filter_seen(user_id, scores)\n",
    "\n",
    "        # rank items\n",
    "        ranking = scores.argsort()[::-1]\n",
    "            \n",
    "        return ranking[:at]\n",
    "    \n",
    "    \n",
    "    def filter_seen(self, user_id, scores):\n",
    "\n",
    "        start_pos = self.URM.indptr[user_id]\n",
    "        end_pos = self.URM.indptr[user_id+1]\n",
    "\n",
    "        user_profile = self.URM.indices[start_pos:end_pos]\n",
    "        \n",
    "        scores[user_profile] = -np.inf\n",
    "\n",
    "        return scores"
   ]
  },
  {
   "cell_type": "code",
   "execution_count": 44,
   "metadata": {},
   "outputs": [
    {
     "name": "stdout",
     "output_type": "stream",
     "text": [
      "Similarity column 10681 (100.0%), 3424.33 column/sec. Elapsed time 3.12 sec\n"
     ]
    }
   ],
   "source": [
    "recommender = ItemKNNCBFRecommender(URM_train, ICM_all)\n",
    "recommender.fit(shrink=0.0, topK=50)"
   ]
  },
  {
   "cell_type": "code",
   "execution_count": 45,
   "metadata": {},
   "outputs": [
    {
     "name": "stdout",
     "output_type": "stream",
     "text": [
      "[ 284   94 5512 1451 2008]\n",
      "[ 177  196 1234  822  554]\n",
      "[5138 9277 5018   60  798]\n",
      "[1723  441 5106  425 3117]\n",
      "[ 176    7  403 1184 1314]\n",
      "[  37  822   19  798 1234]\n",
      "[ 220  218  144  219 1139]\n",
      "[2366 2333 3736 2340 1102]\n",
      "[1073 4584 1994 4390  170]\n",
      "[1310   34   16 1314  402]\n"
     ]
    }
   ],
   "source": [
    "for user_id in range(10):\n",
    "    print(recommender.recommend(user_id, at=5))"
   ]
  },
  {
   "cell_type": "markdown",
   "metadata": {},
   "source": [
    "#### Let's talk about speed\n",
    "\n",
    "#### Time to compute recommendations for a fixed group of users"
   ]
  },
  {
   "cell_type": "code",
   "execution_count": 46,
   "metadata": {},
   "outputs": [
    {
     "name": "stdout",
     "output_type": "stream",
     "text": [
      "Reasonable implementation speed is 703.86 usr/sec\n"
     ]
    }
   ],
   "source": [
    "import time\n",
    "\n",
    "n_users_to_test = 1000\n",
    "\n",
    "start_time = time.time()\n",
    "\n",
    "for user_id in range(n_users_to_test):\n",
    "    recommender.recommend(user_id, at=5)\n",
    "    \n",
    "end_time = time.time()\n",
    "\n",
    "print(\"Reasonable implementation speed is {:.2f} usr/sec\".format(n_users_to_test/(end_time-start_time)))"
   ]
  },
  {
   "cell_type": "markdown",
   "metadata": {},
   "source": [
    "### Let's add a common mistake.... a CSC URM"
   ]
  },
  {
   "cell_type": "code",
   "execution_count": 47,
   "metadata": {},
   "outputs": [
    {
     "name": "stdout",
     "output_type": "stream",
     "text": [
      "Similarity column 10681 (100.0%), 3635.56 column/sec. Elapsed time 2.94 sec\n"
     ]
    }
   ],
   "source": [
    "URM_train_csc = URM_train.tocsc()\n",
    "\n",
    "recommender = ItemKNNCBFRecommender(URM_train_csc, ICM_all)\n",
    "recommender.fit(shrink=0.0, topK=50)"
   ]
  },
  {
   "cell_type": "code",
   "execution_count": 48,
   "metadata": {},
   "outputs": [
    {
     "name": "stdout",
     "output_type": "stream",
     "text": [
      "Exception index 10683 is out of bounds for axis 0 with size 10681\n"
     ]
    },
    {
     "name": "stderr",
     "output_type": "stream",
     "text": [
      "Traceback (most recent call last):\n",
      "  File \"C:\\Users\\ferra\\AppData\\Local\\Temp/ipykernel_10832/1155062715.py\", line 10, in <module>\n",
      "    recommender.recommend(user_id, at=5)\n",
      "  File \"C:\\Users\\ferra\\AppData\\Local\\Temp/ipykernel_10832/4145966258.py\", line 25, in recommend\n",
      "    scores = self.filter_seen(user_id, scores)\n",
      "  File \"C:\\Users\\ferra\\AppData\\Local\\Temp/ipykernel_10832/4145966258.py\", line 40, in filter_seen\n",
      "    scores[user_profile] = -np.inf\n",
      "IndexError: index 10683 is out of bounds for axis 0 with size 10681\n"
     ]
    }
   ],
   "source": [
    "import time, traceback\n",
    "\n",
    "try:\n",
    "\n",
    "    n_users_to_test = 1000\n",
    "\n",
    "    start_time = time.time()\n",
    "\n",
    "    for user_id in range(n_users_to_test):\n",
    "        recommender.recommend(user_id, at=5)\n",
    "\n",
    "    end_time = time.time()\n",
    "\n",
    "    print(\"Wrong implementation speed is {:.2f} usr/sec\".format(n_users_to_test/(end_time-start_time)))\n",
    "\n",
    "    \n",
    "except Exception as e:\n",
    "        \n",
    "    print(\"Exception {}\".format(str(e)))\n",
    "    traceback.print_exc()"
   ]
  },
  {
   "cell_type": "markdown",
   "metadata": {},
   "source": [
    "## Hyperparameter tuning\n",
    "\n",
    "#### Once we have built our model we can play with its hyperparameters\n",
    "* Number of neighbors\n",
    "* Shrinkage\n",
    "* Similarity type\n",
    "\n",
    "\n",
    "Do not confuse \"hyperparameter\" with \"parameter\". A hyperparameter is someting that influences the model structure (number of neighbors, similarity type) or its training phase (learning rate, regularization), while the parameters are the model components (for example the actual value of the similarity between two items) whose values are learned with machine learning."
   ]
  },
  {
   "cell_type": "markdown",
   "metadata": {},
   "source": [
    "### Number of neighbors\n",
    "\n",
    "#### First let's use Grid Search. To do that we need to specify a list of values to test. Grid search is simple to implement but is largely obsolete, it is widely known that it is very inefficient and difficult to set up correctly (which values do you choose?). It is strongly discouraged."
   ]
  },
  {
   "cell_type": "code",
   "execution_count": 49,
   "metadata": {},
   "outputs": [
    {
     "name": "stdout",
     "output_type": "stream",
     "text": [
      "ItemKNNCBFRecommender: URM Detected 1689 ( 2.4%) users with no interactions.\n",
      "ItemKNNCBFRecommender: URM Detected 62 ( 0.6%) items with no interactions.\n",
      "ItemKNNCBFRecommender: ICM Detected 3080 (28.8%) items with no features.\n",
      "Similarity column 10681 (100.0%), 13547.62 column/sec. Elapsed time 0.79 sec\n",
      "EvaluatorHoldout: Processed 69808 (100.0%) in 42.29 sec. Users per second: 1651\n",
      "ItemKNNCBFRecommender: URM Detected 1689 ( 2.4%) users with no interactions.\n",
      "ItemKNNCBFRecommender: URM Detected 62 ( 0.6%) items with no interactions.\n",
      "ItemKNNCBFRecommender: ICM Detected 3080 (28.8%) items with no features.\n",
      "Similarity column 10681 (100.0%), 12689.76 column/sec. Elapsed time 0.84 sec\n",
      "EvaluatorHoldout: Processed 69808 (100.0%) in 50.34 sec. Users per second: 1387\n",
      "ItemKNNCBFRecommender: URM Detected 1689 ( 2.4%) users with no interactions.\n",
      "ItemKNNCBFRecommender: URM Detected 62 ( 0.6%) items with no interactions.\n",
      "ItemKNNCBFRecommender: ICM Detected 3080 (28.8%) items with no features.\n",
      "Similarity column 10681 (100.0%), 12302.12 column/sec. Elapsed time 0.87 sec\n",
      "EvaluatorHoldout: Processed 69808 (100.0%) in 48.96 sec. Users per second: 1426\n",
      "ItemKNNCBFRecommender: URM Detected 1689 ( 2.4%) users with no interactions.\n",
      "ItemKNNCBFRecommender: URM Detected 62 ( 0.6%) items with no interactions.\n",
      "ItemKNNCBFRecommender: ICM Detected 3080 (28.8%) items with no features.\n",
      "Similarity column 10681 (100.0%), 12643.45 column/sec. Elapsed time 0.85 sec\n",
      "EvaluatorHoldout: Processed 69808 (100.0%) in 54.92 sec. Users per second: 1271\n",
      "ItemKNNCBFRecommender: URM Detected 1689 ( 2.4%) users with no interactions.\n",
      "ItemKNNCBFRecommender: URM Detected 62 ( 0.6%) items with no interactions.\n",
      "ItemKNNCBFRecommender: ICM Detected 3080 (28.8%) items with no features.\n",
      "Similarity column 10681 (100.0%), 11453.30 column/sec. Elapsed time 0.93 sec\n",
      "EvaluatorHoldout: Processed 69808 (100.0%) in 55.44 sec. Users per second: 1259\n",
      "ItemKNNCBFRecommender: URM Detected 1689 ( 2.4%) users with no interactions.\n",
      "ItemKNNCBFRecommender: URM Detected 62 ( 0.6%) items with no interactions.\n",
      "ItemKNNCBFRecommender: ICM Detected 3080 (28.8%) items with no features.\n",
      "Similarity column 10681 (100.0%), 12293.84 column/sec. Elapsed time 0.87 sec\n",
      "EvaluatorHoldout: Processed 69808 (100.0%) in 55.26 sec. Users per second: 1263\n",
      "ItemKNNCBFRecommender: URM Detected 1689 ( 2.4%) users with no interactions.\n",
      "ItemKNNCBFRecommender: URM Detected 62 ( 0.6%) items with no interactions.\n",
      "ItemKNNCBFRecommender: ICM Detected 3080 (28.8%) items with no features.\n",
      "Similarity column 10681 (100.0%), 13070.55 column/sec. Elapsed time 0.82 sec\n",
      "EvaluatorHoldout: Processed 69808 (100.0%) in 58.15 sec. Users per second: 1200\n",
      "ItemKNNCBFRecommender: URM Detected 1689 ( 2.4%) users with no interactions.\n",
      "ItemKNNCBFRecommender: URM Detected 62 ( 0.6%) items with no interactions.\n",
      "ItemKNNCBFRecommender: ICM Detected 3080 (28.8%) items with no features.\n",
      "Similarity column 10681 (100.0%), 11972.79 column/sec. Elapsed time 0.89 sec\n",
      "EvaluatorHoldout: Processed 69808 (100.0%) in 59.99 sec. Users per second: 1164\n",
      "ItemKNNCBFRecommender: URM Detected 1689 ( 2.4%) users with no interactions.\n",
      "ItemKNNCBFRecommender: URM Detected 62 ( 0.6%) items with no interactions.\n",
      "ItemKNNCBFRecommender: ICM Detected 3080 (28.8%) items with no features.\n",
      "Similarity column 10681 (100.0%), 13055.06 column/sec. Elapsed time 0.82 sec\n",
      "EvaluatorHoldout: Processed 69808 (100.0%) in 57.53 sec. Users per second: 1213\n",
      "ItemKNNCBFRecommender: URM Detected 1689 ( 2.4%) users with no interactions.\n",
      "ItemKNNCBFRecommender: URM Detected 62 ( 0.6%) items with no interactions.\n",
      "ItemKNNCBFRecommender: ICM Detected 3080 (28.8%) items with no features.\n",
      "Similarity column 10681 (100.0%), 12490.63 column/sec. Elapsed time 0.86 sec\n",
      "EvaluatorHoldout: Processed 69808 (100.0%) in 59.94 sec. Users per second: 1165\n",
      "ItemKNNCBFRecommender: URM Detected 1689 ( 2.4%) users with no interactions.\n",
      "ItemKNNCBFRecommender: URM Detected 62 ( 0.6%) items with no interactions.\n",
      "ItemKNNCBFRecommender: ICM Detected 3080 (28.8%) items with no features.\n",
      "Similarity column 10681 (100.0%), 10431.29 column/sec. Elapsed time 1.02 sec\n",
      "EvaluatorHoldout: Processed 69808 (100.0%) in 1.04 min. Users per second: 1119\n"
     ]
    }
   ],
   "source": [
    "from Recommenders.KNN.ItemKNNCBFRecommender import ItemKNNCBFRecommender\n",
    "\n",
    "x_tick_grid = [10, 50, 100, 150, 200, 250, 300, 350, 400, 450, 500]\n",
    "MAP_per_k_grid = []\n",
    "\n",
    "for topK in x_tick_grid:\n",
    "    \n",
    "    recommender = ItemKNNCBFRecommender(URM_train, ICM_all)\n",
    "    recommender.fit(shrink=0.0, topK=topK)\n",
    "    \n",
    "    result_df, _ = evaluator_test.evaluateRecommender(recommender)\n",
    "    \n",
    "    MAP_per_k_grid.append(result_df.loc[10][\"MAP\"])"
   ]
  },
  {
   "cell_type": "markdown",
   "metadata": {},
   "source": [
    "### Even better, use a random search!\n",
    "\n",
    "#### Just use a random number generator to select the values you want. It is more efficient than greed search and just as simple to implement. It is important to decide if we want to sample with a random distribution or a log-uniform distribution. Use a log-uniform if you need to sample both high and low values, for example you want to sample with uniform probability 10, 20 but also 100 and 200."
   ]
  },
  {
   "cell_type": "code",
   "execution_count": 50,
   "metadata": {},
   "outputs": [
    {
     "name": "stdout",
     "output_type": "stream",
     "text": [
      "ItemKNNCBFRecommender: URM Detected 1689 ( 2.4%) users with no interactions.\n",
      "ItemKNNCBFRecommender: URM Detected 62 ( 0.6%) items with no interactions.\n",
      "ItemKNNCBFRecommender: ICM Detected 3080 (28.8%) items with no features.\n",
      "Similarity column 10681 (100.0%), 13533.85 column/sec. Elapsed time 0.79 sec\n",
      "EvaluatorHoldout: Processed 69808 (100.0%) in 44.10 sec. Users per second: 1583\n",
      "ItemKNNCBFRecommender: URM Detected 1689 ( 2.4%) users with no interactions.\n",
      "ItemKNNCBFRecommender: URM Detected 62 ( 0.6%) items with no interactions.\n",
      "ItemKNNCBFRecommender: ICM Detected 3080 (28.8%) items with no features.\n",
      "Similarity column 10681 (100.0%), 14142.66 column/sec. Elapsed time 0.76 sec\n",
      "EvaluatorHoldout: Processed 69808 (100.0%) in 43.93 sec. Users per second: 1589\n",
      "ItemKNNCBFRecommender: URM Detected 1689 ( 2.4%) users with no interactions.\n",
      "ItemKNNCBFRecommender: URM Detected 62 ( 0.6%) items with no interactions.\n",
      "ItemKNNCBFRecommender: ICM Detected 3080 (28.8%) items with no features.\n",
      "Similarity column 10681 (100.0%), 13568.43 column/sec. Elapsed time 0.79 sec\n",
      "EvaluatorHoldout: Processed 69808 (100.0%) in 45.59 sec. Users per second: 1531\n",
      "ItemKNNCBFRecommender: URM Detected 1689 ( 2.4%) users with no interactions.\n",
      "ItemKNNCBFRecommender: URM Detected 62 ( 0.6%) items with no interactions.\n",
      "ItemKNNCBFRecommender: ICM Detected 3080 (28.8%) items with no features.\n",
      "Similarity column 10681 (100.0%), 13760.52 column/sec. Elapsed time 0.78 sec\n",
      "EvaluatorHoldout: Processed 69808 (100.0%) in 48.61 sec. Users per second: 1436\n",
      "ItemKNNCBFRecommender: URM Detected 1689 ( 2.4%) users with no interactions.\n",
      "ItemKNNCBFRecommender: URM Detected 62 ( 0.6%) items with no interactions.\n",
      "ItemKNNCBFRecommender: ICM Detected 3080 (28.8%) items with no features.\n",
      "Similarity column 10681 (100.0%), 13707.69 column/sec. Elapsed time 0.78 sec\n",
      "EvaluatorHoldout: Processed 69808 (100.0%) in 48.59 sec. Users per second: 1437\n",
      "ItemKNNCBFRecommender: URM Detected 1689 ( 2.4%) users with no interactions.\n",
      "ItemKNNCBFRecommender: URM Detected 62 ( 0.6%) items with no interactions.\n",
      "ItemKNNCBFRecommender: ICM Detected 3080 (28.8%) items with no features.\n",
      "Similarity column 10681 (100.0%), 14294.02 column/sec. Elapsed time 0.75 sec\n",
      "EvaluatorHoldout: Processed 69808 (100.0%) in 47.92 sec. Users per second: 1457\n",
      "ItemKNNCBFRecommender: URM Detected 1689 ( 2.4%) users with no interactions.\n",
      "ItemKNNCBFRecommender: URM Detected 62 ( 0.6%) items with no interactions.\n",
      "ItemKNNCBFRecommender: ICM Detected 3080 (28.8%) items with no features.\n",
      "Similarity column 10681 (100.0%), 14012.92 column/sec. Elapsed time 0.76 sec\n",
      "EvaluatorHoldout: Processed 69808 (100.0%) in 48.63 sec. Users per second: 1435\n",
      "ItemKNNCBFRecommender: URM Detected 1689 ( 2.4%) users with no interactions.\n",
      "ItemKNNCBFRecommender: URM Detected 62 ( 0.6%) items with no interactions.\n",
      "ItemKNNCBFRecommender: ICM Detected 3080 (28.8%) items with no features.\n",
      "Similarity column 10681 (100.0%), 13216.00 column/sec. Elapsed time 0.81 sec\n",
      "EvaluatorHoldout: Processed 69808 (100.0%) in 50.49 sec. Users per second: 1383\n",
      "ItemKNNCBFRecommender: URM Detected 1689 ( 2.4%) users with no interactions.\n",
      "ItemKNNCBFRecommender: URM Detected 62 ( 0.6%) items with no interactions.\n",
      "ItemKNNCBFRecommender: ICM Detected 3080 (28.8%) items with no features.\n",
      "Similarity column 10681 (100.0%), 13620.30 column/sec. Elapsed time 0.78 sec\n",
      "EvaluatorHoldout: Processed 69808 (100.0%) in 52.90 sec. Users per second: 1320\n",
      "ItemKNNCBFRecommender: URM Detected 1689 ( 2.4%) users with no interactions.\n",
      "ItemKNNCBFRecommender: URM Detected 62 ( 0.6%) items with no interactions.\n",
      "ItemKNNCBFRecommender: ICM Detected 3080 (28.8%) items with no features.\n",
      "Similarity column 10681 (100.0%), 12743.67 column/sec. Elapsed time 0.84 sec\n",
      "EvaluatorHoldout: Processed 69808 (100.0%) in 53.25 sec. Users per second: 1311\n",
      "ItemKNNCBFRecommender: URM Detected 1689 ( 2.4%) users with no interactions.\n",
      "ItemKNNCBFRecommender: URM Detected 62 ( 0.6%) items with no interactions.\n",
      "ItemKNNCBFRecommender: ICM Detected 3080 (28.8%) items with no features.\n",
      "Similarity column 10681 (100.0%), 13516.98 column/sec. Elapsed time 0.79 sec\n",
      "EvaluatorHoldout: Processed 69808 (100.0%) in 53.67 sec. Users per second: 1301\n"
     ]
    }
   ],
   "source": [
    "from Recommenders.KNN.ItemKNNCBFRecommender import ItemKNNCBFRecommender\n",
    "from scipy.stats import loguniform\n",
    "\n",
    "x_tick_rnd = loguniform.rvs(10, 500, size=11).astype(int)\n",
    "x_tick_rnd.sort()\n",
    "x_tick_rnd = list(x_tick_rnd)\n",
    "\n",
    "MAP_per_k_rnd = []\n",
    "\n",
    "for topK in x_tick_rnd:\n",
    "    \n",
    "    recommender = ItemKNNCBFRecommender(URM_train, ICM_all)\n",
    "    recommender.fit(shrink=0.0, topK=topK)\n",
    "    \n",
    "    result_df, _ = evaluator_test.evaluateRecommender(recommender)\n",
    "    \n",
    "    MAP_per_k_rnd.append(result_df.loc[10][\"MAP\"])"
   ]
  },
  {
   "cell_type": "code",
   "execution_count": 51,
   "metadata": {},
   "outputs": [
    {
     "data": {
      "image/png": "[encoded data removed]",
      "text/plain": [
       "<Figure size 432x288 with 1 Axes>"
      ]
     },
     "metadata": {
      "needs_background": "light"
     },
     "output_type": "display_data"
    }
   ],
   "source": [
    "pyplot.plot(x_tick_grid, MAP_per_k_grid, label=\"Grid\")\n",
    "pyplot.plot(x_tick_rnd, MAP_per_k_rnd, label=\"Rnd\")\n",
    "pyplot.ylabel('MAP')\n",
    "pyplot.xlabel('TopK')\n",
    "pyplot.legend()\n",
    "pyplot.show()"
   ]
  },
  {
   "cell_type": "markdown",
   "metadata": {},
   "source": [
    "#### On this dataset the number of neighbors has a small absolute impact on MAP but a large relative one. Fine-tuning around the best values is needed.\n",
    "\n",
    "#### Different datasets will behave in different ways."
   ]
  },
  {
   "cell_type": "markdown",
   "metadata": {},
   "source": [
    "### Shrinkage"
   ]
  },
  {
   "cell_type": "code",
   "execution_count": 52,
   "metadata": {},
   "outputs": [
    {
     "name": "stdout",
     "output_type": "stream",
     "text": [
      "ItemKNNCBFRecommender: URM Detected 1689 ( 2.4%) users with no interactions.\n",
      "ItemKNNCBFRecommender: URM Detected 62 ( 0.6%) items with no interactions.\n",
      "ItemKNNCBFRecommender: ICM Detected 3080 (28.8%) items with no features.\n",
      "Similarity column 10681 (100.0%), 14274.95 column/sec. Elapsed time 0.75 sec\n",
      "EvaluatorHoldout: Processed 69808 (100.0%) in 47.71 sec. Users per second: 1463\n",
      "ItemKNNCBFRecommender: URM Detected 1689 ( 2.4%) users with no interactions.\n",
      "ItemKNNCBFRecommender: URM Detected 62 ( 0.6%) items with no interactions.\n",
      "ItemKNNCBFRecommender: ICM Detected 3080 (28.8%) items with no features.\n",
      "Similarity column 10681 (100.0%), 13199.68 column/sec. Elapsed time 0.81 sec\n",
      "EvaluatorHoldout: Processed 69808 (100.0%) in 51.87 sec. Users per second: 1346\n",
      "ItemKNNCBFRecommender: URM Detected 1689 ( 2.4%) users with no interactions.\n",
      "ItemKNNCBFRecommender: URM Detected 62 ( 0.6%) items with no interactions.\n",
      "ItemKNNCBFRecommender: ICM Detected 3080 (28.8%) items with no features.\n",
      "Similarity column 10681 (100.0%), 13672.31 column/sec. Elapsed time 0.78 sec\n",
      "EvaluatorHoldout: Processed 69808 (100.0%) in 51.65 sec. Users per second: 1351\n",
      "ItemKNNCBFRecommender: URM Detected 1689 ( 2.4%) users with no interactions.\n",
      "ItemKNNCBFRecommender: URM Detected 62 ( 0.6%) items with no interactions.\n",
      "ItemKNNCBFRecommender: ICM Detected 3080 (28.8%) items with no features.\n",
      "Similarity column 10681 (100.0%), 13957.87 column/sec. Elapsed time 0.77 sec\n",
      "EvaluatorHoldout: Processed 69808 (100.0%) in 53.44 sec. Users per second: 1306\n",
      "ItemKNNCBFRecommender: URM Detected 1689 ( 2.4%) users with no interactions.\n",
      "ItemKNNCBFRecommender: URM Detected 62 ( 0.6%) items with no interactions.\n",
      "ItemKNNCBFRecommender: ICM Detected 3080 (28.8%) items with no features.\n",
      "Similarity column 10681 (100.0%), 13742.94 column/sec. Elapsed time 0.78 sec\n",
      "EvaluatorHoldout: Processed 69808 (100.0%) in 52.57 sec. Users per second: 1328\n",
      "ItemKNNCBFRecommender: URM Detected 1689 ( 2.4%) users with no interactions.\n",
      "ItemKNNCBFRecommender: URM Detected 62 ( 0.6%) items with no interactions.\n",
      "ItemKNNCBFRecommender: ICM Detected 3080 (28.8%) items with no features.\n",
      "Similarity column 10681 (100.0%), 13364.58 column/sec. Elapsed time 0.80 sec\n",
      "EvaluatorHoldout: Processed 69808 (100.0%) in 55.99 sec. Users per second: 1247\n",
      "ItemKNNCBFRecommender: URM Detected 1689 ( 2.4%) users with no interactions.\n",
      "ItemKNNCBFRecommender: URM Detected 62 ( 0.6%) items with no interactions.\n",
      "ItemKNNCBFRecommender: ICM Detected 3080 (28.8%) items with no features.\n",
      "Similarity column 10681 (100.0%), 11374.39 column/sec. Elapsed time 0.94 sec\n",
      "EvaluatorHoldout: Processed 69808 (100.0%) in 56.62 sec. Users per second: 1233\n",
      "ItemKNNCBFRecommender: URM Detected 1689 ( 2.4%) users with no interactions.\n",
      "ItemKNNCBFRecommender: URM Detected 62 ( 0.6%) items with no interactions.\n",
      "ItemKNNCBFRecommender: ICM Detected 3080 (28.8%) items with no features.\n",
      "Similarity column 10681 (100.0%), 13585.42 column/sec. Elapsed time 0.79 sec\n",
      "EvaluatorHoldout: Processed 69808 (100.0%) in 52.50 sec. Users per second: 1330\n",
      "ItemKNNCBFRecommender: URM Detected 1689 ( 2.4%) users with no interactions.\n",
      "ItemKNNCBFRecommender: URM Detected 62 ( 0.6%) items with no interactions.\n",
      "ItemKNNCBFRecommender: ICM Detected 3080 (28.8%) items with no features.\n",
      "Similarity column 10681 (100.0%), 14142.50 column/sec. Elapsed time 0.76 sec\n",
      "EvaluatorHoldout: Processed 69808 (100.0%) in 51.59 sec. Users per second: 1353\n",
      "ItemKNNCBFRecommender: URM Detected 1689 ( 2.4%) users with no interactions.\n",
      "ItemKNNCBFRecommender: URM Detected 62 ( 0.6%) items with no interactions.\n",
      "ItemKNNCBFRecommender: ICM Detected 3080 (28.8%) items with no features.\n",
      "Similarity column 10681 (100.0%), 14049.58 column/sec. Elapsed time 0.76 sec\n",
      "EvaluatorHoldout: Processed 69808 (100.0%) in 50.86 sec. Users per second: 1372\n",
      "ItemKNNCBFRecommender: URM Detected 1689 ( 2.4%) users with no interactions.\n",
      "ItemKNNCBFRecommender: URM Detected 62 ( 0.6%) items with no interactions.\n",
      "ItemKNNCBFRecommender: ICM Detected 3080 (28.8%) items with no features.\n",
      "Similarity column 10681 (100.0%), 14142.49 column/sec. Elapsed time 0.76 sec\n",
      "EvaluatorHoldout: Processed 69808 (100.0%) in 50.71 sec. Users per second: 1377\n",
      "ItemKNNCBFRecommender: URM Detected 1689 ( 2.4%) users with no interactions.\n",
      "ItemKNNCBFRecommender: URM Detected 62 ( 0.6%) items with no interactions.\n",
      "ItemKNNCBFRecommender: ICM Detected 3080 (28.8%) items with no features.\n",
      "Similarity column 10681 (100.0%), 14105.17 column/sec. Elapsed time 0.76 sec\n",
      "EvaluatorHoldout: Processed 69808 (100.0%) in 50.67 sec. Users per second: 1378\n"
     ]
    }
   ],
   "source": [
    "x_tick_grid = [0, 10, 50, 100, 150, 200, 250, 300, 350, 400, 450, 500]\n",
    "MAP_per_shrinkage_grid = []\n",
    "\n",
    "for shrink in x_tick_grid:\n",
    "    \n",
    "    recommender = ItemKNNCBFRecommender(URM_train, ICM_all)\n",
    "    recommender.fit(shrink=shrink, topK=100)\n",
    "    \n",
    "    result_df, _ = evaluator_test.evaluateRecommender(recommender)\n",
    "    \n",
    "    MAP_per_shrinkage_grid.append(result_df.loc[10][\"MAP\"])"
   ]
  },
  {
   "cell_type": "code",
   "execution_count": 53,
   "metadata": {},
   "outputs": [
    {
     "name": "stdout",
     "output_type": "stream",
     "text": [
      "ItemKNNCBFRecommender: URM Detected 1689 ( 2.4%) users with no interactions.\n",
      "ItemKNNCBFRecommender: URM Detected 62 ( 0.6%) items with no interactions.\n",
      "ItemKNNCBFRecommender: ICM Detected 3080 (28.8%) items with no features.\n",
      "Similarity column 10681 (100.0%), 14068.75 column/sec. Elapsed time 0.76 sec\n",
      "EvaluatorHoldout: Processed 69808 (100.0%) in 47.45 sec. Users per second: 1471\n",
      "ItemKNNCBFRecommender: URM Detected 1689 ( 2.4%) users with no interactions.\n",
      "ItemKNNCBFRecommender: URM Detected 62 ( 0.6%) items with no interactions.\n",
      "ItemKNNCBFRecommender: ICM Detected 3080 (28.8%) items with no features.\n",
      "Similarity column 10681 (100.0%), 14180.37 column/sec. Elapsed time 0.75 sec\n",
      "EvaluatorHoldout: Processed 69808 (100.0%) in 48.09 sec. Users per second: 1452\n",
      "ItemKNNCBFRecommender: URM Detected 1689 ( 2.4%) users with no interactions.\n",
      "ItemKNNCBFRecommender: URM Detected 62 ( 0.6%) items with no interactions.\n",
      "ItemKNNCBFRecommender: ICM Detected 3080 (28.8%) items with no features.\n",
      "Similarity column 10681 (100.0%), 13348.31 column/sec. Elapsed time 0.80 sec\n",
      "EvaluatorHoldout: Processed 69808 (100.0%) in 47.88 sec. Users per second: 1458\n",
      "ItemKNNCBFRecommender: URM Detected 1689 ( 2.4%) users with no interactions.\n",
      "ItemKNNCBFRecommender: URM Detected 62 ( 0.6%) items with no interactions.\n",
      "ItemKNNCBFRecommender: ICM Detected 3080 (28.8%) items with no features.\n",
      "Similarity column 10681 (100.0%), 14218.09 column/sec. Elapsed time 0.75 sec\n",
      "EvaluatorHoldout: Processed 69808 (100.0%) in 48.20 sec. Users per second: 1448\n",
      "ItemKNNCBFRecommender: URM Detected 1689 ( 2.4%) users with no interactions.\n",
      "ItemKNNCBFRecommender: URM Detected 62 ( 0.6%) items with no interactions.\n",
      "ItemKNNCBFRecommender: ICM Detected 3080 (28.8%) items with no features.\n",
      "Similarity column 10681 (100.0%), 14049.59 column/sec. Elapsed time 0.76 sec\n",
      "EvaluatorHoldout: Processed 69808 (100.0%) in 47.75 sec. Users per second: 1462\n",
      "ItemKNNCBFRecommender: URM Detected 1689 ( 2.4%) users with no interactions.\n",
      "ItemKNNCBFRecommender: URM Detected 62 ( 0.6%) items with no interactions.\n",
      "ItemKNNCBFRecommender: ICM Detected 3080 (28.8%) items with no features.\n",
      "Similarity column 10681 (100.0%), 14105.70 column/sec. Elapsed time 0.76 sec\n",
      "EvaluatorHoldout: Processed 69808 (100.0%) in 49.30 sec. Users per second: 1416\n",
      "ItemKNNCBFRecommender: URM Detected 1689 ( 2.4%) users with no interactions.\n",
      "ItemKNNCBFRecommender: URM Detected 62 ( 0.6%) items with no interactions.\n",
      "ItemKNNCBFRecommender: ICM Detected 3080 (28.8%) items with no features.\n",
      "Similarity column 10681 (100.0%), 12623.22 column/sec. Elapsed time 0.85 sec\n",
      "EvaluatorHoldout: Processed 69808 (100.0%) in 50.16 sec. Users per second: 1392\n",
      "ItemKNNCBFRecommender: URM Detected 1689 ( 2.4%) users with no interactions.\n",
      "ItemKNNCBFRecommender: URM Detected 62 ( 0.6%) items with no interactions.\n",
      "ItemKNNCBFRecommender: ICM Detected 3080 (28.8%) items with no features.\n",
      "Similarity column 10681 (100.0%), 14142.52 column/sec. Elapsed time 0.76 sec\n",
      "EvaluatorHoldout: Processed 69808 (100.0%) in 50.34 sec. Users per second: 1387\n",
      "ItemKNNCBFRecommender: URM Detected 1689 ( 2.4%) users with no interactions.\n",
      "ItemKNNCBFRecommender: URM Detected 62 ( 0.6%) items with no interactions.\n",
      "ItemKNNCBFRecommender: ICM Detected 3080 (28.8%) items with no features.\n",
      "Similarity column 10681 (100.0%), 14351.56 column/sec. Elapsed time 0.74 sec\n",
      "EvaluatorHoldout: Processed 69808 (100.0%) in 50.64 sec. Users per second: 1378\n",
      "ItemKNNCBFRecommender: URM Detected 1689 ( 2.4%) users with no interactions.\n",
      "ItemKNNCBFRecommender: URM Detected 62 ( 0.6%) items with no interactions.\n",
      "ItemKNNCBFRecommender: ICM Detected 3080 (28.8%) items with no features.\n",
      "Similarity column 10681 (100.0%), 14312.89 column/sec. Elapsed time 0.75 sec\n",
      "EvaluatorHoldout: Processed 69808 (100.0%) in 50.64 sec. Users per second: 1379\n",
      "ItemKNNCBFRecommender: URM Detected 1689 ( 2.4%) users with no interactions.\n",
      "ItemKNNCBFRecommender: URM Detected 62 ( 0.6%) items with no interactions.\n",
      "ItemKNNCBFRecommender: ICM Detected 3080 (28.8%) items with no features.\n",
      "Similarity column 10681 (100.0%), 14180.23 column/sec. Elapsed time 0.75 sec\n",
      "EvaluatorHoldout: Processed 69808 (100.0%) in 51.45 sec. Users per second: 1357\n",
      "ItemKNNCBFRecommender: URM Detected 1689 ( 2.4%) users with no interactions.\n",
      "ItemKNNCBFRecommender: URM Detected 62 ( 0.6%) items with no interactions.\n",
      "ItemKNNCBFRecommender: ICM Detected 3080 (28.8%) items with no features.\n",
      "Similarity column 10681 (100.0%), 14313.16 column/sec. Elapsed time 0.75 sec\n",
      "EvaluatorHoldout: Processed 69808 (100.0%) in 50.71 sec. Users per second: 1377\n"
     ]
    }
   ],
   "source": [
    "x_tick_rnd = loguniform.rvs(0.1, 500, size=12).astype(int)\n",
    "x_tick_rnd.sort()\n",
    "x_tick_rnd = list(x_tick_rnd)\n",
    "\n",
    "MAP_per_shrinkage_rnd = []\n",
    "\n",
    "for shrink in x_tick_rnd:\n",
    "    \n",
    "    recommender = ItemKNNCBFRecommender(URM_train, ICM_all)\n",
    "    recommender.fit(shrink=shrink, topK=100)\n",
    "    \n",
    "    result_df, _ = evaluator_test.evaluateRecommender(recommender)\n",
    "    \n",
    "    MAP_per_shrinkage_rnd.append(result_df.loc[10][\"MAP\"])"
   ]
  },
  {
   "cell_type": "code",
   "execution_count": 54,
   "metadata": {},
   "outputs": [
    {
     "data": {
      "image/png": "[encoded data removed]",
      "text/plain": [
       "<Figure size 432x288 with 1 Axes>"
      ]
     },
     "metadata": {
      "needs_background": "light"
     },
     "output_type": "display_data"
    }
   ],
   "source": [
    "pyplot.plot(x_tick_grid, MAP_per_shrinkage_grid, label=\"Grid\")\n",
    "pyplot.plot(x_tick_rnd, MAP_per_shrinkage_rnd, label=\"Rnd\")\n",
    "pyplot.ylabel('MAP')\n",
    "pyplot.xlabel('Shrinkage')\n",
    "pyplot.legend()\n",
    "pyplot.show()"
   ]
  },
  {
   "cell_type": "markdown",
   "metadata": {},
   "source": [
    "#### The shrinkage value (i.e. support) have a much stronger impact. Combine a hyperparameter search with the two to ensure maximum recommendation quality\n",
    "\n",
    "## Be careful, overfitting!\n",
    "\n",
    "#### While a thorough parameter tuning might result in significantly higher MAP on your validation split, it could have only marginally better or even worse MAP on the test set"
   ]
  },
  {
   "cell_type": "markdown",
   "metadata": {},
   "source": [
    "# Feature weighting"
   ]
  },
  {
   "cell_type": "markdown",
   "metadata": {
    "collapsed": true
   },
   "source": [
    "# IDF"
   ]
  },
  {
   "cell_type": "markdown",
   "metadata": {},
   "source": [
    "![title](https://www.link-assistant.com/images/news/tf-idf-tool-for-seo/screen-03.png)"
   ]
  },
  {
   "cell_type": "code",
   "execution_count": 55,
   "metadata": {},
   "outputs": [
    {
     "name": "stdout",
     "output_type": "stream",
     "text": [
      "(10681, 16528)\n",
      "(16528,)\n"
     ]
    }
   ],
   "source": [
    "num_tot_items = ICM_all.shape[0]\n",
    "\n",
    "# let's count how many items have a certain feature\n",
    "items_per_feature = np.ediff1d(sps.csc_matrix(ICM_all).indptr)\n",
    "\n",
    "IDF = np.log(num_tot_items / items_per_feature)\n",
    "\n",
    "print(ICM_all.shape)\n",
    "print(IDF.shape)"
   ]
  },
  {
   "cell_type": "code",
   "execution_count": 56,
   "metadata": {},
   "outputs": [
    {
     "data": {
      "text/plain": [
       "array([  1,   1,   1, ..., 404, 492, 640], dtype=int32)"
      ]
     },
     "execution_count": 56,
     "metadata": {},
     "output_type": "execute_result"
    }
   ],
   "source": [
    "np.sort(items_per_feature)"
   ]
  },
  {
   "cell_type": "code",
   "execution_count": 57,
   "metadata": {},
   "outputs": [
    {
     "data": {
      "text/plain": [
       "array([2.81475356, 3.07774302, 3.27480686, ..., 9.27622174, 9.27622174,\n",
       "       9.27622174])"
      ]
     },
     "execution_count": 57,
     "metadata": {},
     "output_type": "execute_result"
    }
   ],
   "source": [
    "np.sort(IDF)"
   ]
  },
  {
   "cell_type": "code",
   "execution_count": 58,
   "metadata": {},
   "outputs": [
    {
     "data": {
      "image/png": "[encoded data removed]",
      "text/plain": [
       "<Figure size 432x288 with 1 Axes>"
      ]
     },
     "metadata": {
      "needs_background": "light"
     },
     "output_type": "display_data"
    }
   ],
   "source": [
    "pyplot.plot(np.sort(IDF))\n",
    "pyplot.ylabel('IDF')\n",
    "pyplot.xlabel('Sorted feature')\n",
    "pyplot.show()"
   ]
  },
  {
   "cell_type": "markdown",
   "metadata": {},
   "source": [
    "#### Highest ranked features"
   ]
  },
  {
   "cell_type": "code",
   "execution_count": 59,
   "metadata": {},
   "outputs": [],
   "source": [
    "feature_index_to_original_ID_dict = {value:key for key,value in feature_original_ID_to_index.iteritems()}"
   ]
  },
  {
   "cell_type": "code",
   "execution_count": 60,
   "metadata": {},
   "outputs": [
    {
     "name": "stdout",
     "output_type": "stream",
     "text": [
      "a old story of fight\n",
      "i hate this movie with a fiery passion\n",
      "so damn good\n",
      "cool-ish\n",
      "i love this movie\n",
      "ukraine\n",
      "don't watch it again\n",
      "NOT Eugene O'Neill - S. Africa\n",
      "why do i hate this?\n",
      "Yakuza Papers I\n",
      "needless gratuitous violence\n",
      "always applicable to present\n",
      "insanely funny\n",
      "homoerotic hobbit-on-hobbit action\n",
      "musical score drives me crazy!\n",
      "brilliant in concept & execution\n",
      "modern male friendship\n",
      "almost favourite\n",
      "this movie is pretty...pretty gay\n",
      "instant classic\n"
     ]
    }
   ],
   "source": [
    "sorted_features = np.argsort(-IDF)\n",
    "\n",
    "highest_ranked_features = sorted_features[:20]\n",
    "\n",
    "for feature_index in highest_ranked_features:\n",
    "    print(feature_index_to_original_ID_dict[feature_index])"
   ]
  },
  {
   "cell_type": "markdown",
   "metadata": {},
   "source": [
    "#### Lowest ranked features"
   ]
  },
  {
   "cell_type": "code",
   "execution_count": 61,
   "metadata": {},
   "outputs": [
    {
     "name": "stdout",
     "output_type": "stream",
     "text": [
      "atmospheric\n",
      "library\n",
      "seen more than once\n",
      "Nudity (Topless - Brief)\n",
      "To See\n",
      "adapted from:book\n",
      "imdb top 250\n",
      "Can't remember\n",
      "classic\n",
      "Bibliothek\n",
      "National Film Registry\n",
      "Betamax\n",
      "movie to see\n",
      "Nudity (Topless)\n",
      "based on a book\n",
      "70mm\n",
      "R\n",
      "erlend's DVDs\n",
      "less than 300 ratings\n",
      "Tumey's DVDs\n"
     ]
    }
   ],
   "source": [
    "lowest_ranked_features = sorted_features[-20:]\n",
    "\n",
    "for feature_index in lowest_ranked_features:\n",
    "    print(feature_index_to_original_ID_dict[feature_index])    "
   ]
  },
  {
   "cell_type": "code",
   "execution_count": 62,
   "metadata": {},
   "outputs": [
    {
     "data": {
      "text/plain": [
       "<16528x16528 sparse matrix of type '<class 'numpy.float64'>'\n",
       "\twith 16528 stored elements (1 diagonals) in DIAgonal format>"
      ]
     },
     "execution_count": 62,
     "metadata": {},
     "output_type": "execute_result"
    }
   ],
   "source": [
    "from scipy.sparse import diags\n",
    "diags(IDF)"
   ]
  },
  {
   "cell_type": "code",
   "execution_count": 63,
   "metadata": {},
   "outputs": [],
   "source": [
    "ICM_idf = ICM_all.copy()\n",
    "\n",
    "ICM_idf = ICM_idf*diags(IDF)"
   ]
  },
  {
   "cell_type": "code",
   "execution_count": 64,
   "metadata": {
    "scrolled": true
   },
   "outputs": [
    {
     "name": "stdout",
     "output_type": "stream",
     "text": [
      "ItemKNNCBFRecommender: URM Detected 1689 ( 2.4%) users with no interactions.\n",
      "ItemKNNCBFRecommender: URM Detected 62 ( 0.6%) items with no interactions.\n",
      "ItemKNNCBFRecommender: ICM Detected 3080 (28.8%) items with no features.\n",
      "Similarity column 10681 (100.0%), 14370.85 column/sec. Elapsed time 0.74 sec\n",
      "EvaluatorHoldout: Processed 69808 (100.0%) in 43.80 sec. Users per second: 1594\n"
     ]
    },
    {
     "data": {
      "text/plain": [
       "PRECISION                     0.064261\n",
       "PRECISION_RECALL_MIN_DEN      0.069066\n",
       "RECALL                        0.031154\n",
       "MAP                           0.032879\n",
       "MAP_MIN_DEN                   0.035015\n",
       "MRR                           0.180819\n",
       "NDCG                          0.061338\n",
       "F1                            0.041963\n",
       "HIT_RATE                      0.358827\n",
       "ARHR_ALL_HITS                 0.240779\n",
       "NOVELTY                        0.01286\n",
       "AVERAGE_POPULARITY            0.145106\n",
       "DIVERSITY_MEAN_INTER_LIST     0.974796\n",
       "DIVERSITY_HERFINDAHL          0.997478\n",
       "COVERAGE_ITEM                 0.496208\n",
       "COVERAGE_ITEM_HIT             0.118996\n",
       "ITEMS_IN_GT                   0.960865\n",
       "COVERAGE_USER                 0.975422\n",
       "COVERAGE_USER_HIT             0.350008\n",
       "USERS_IN_GT                   0.975422\n",
       "DIVERSITY_GINI                0.084978\n",
       "SHANNON_ENTROPY               9.970774\n",
       "RATIO_DIVERSITY_HERFINDAHL    0.998231\n",
       "RATIO_DIVERSITY_GINI          0.436642\n",
       "RATIO_SHANNON_ENTROPY         0.880465\n",
       "RATIO_AVERAGE_POPULARITY      0.518729\n",
       "RATIO_NOVELTY                 0.135633\n",
       "Name: 10, dtype: object"
      ]
     },
     "execution_count": 64,
     "metadata": {},
     "output_type": "execute_result"
    }
   ],
   "source": [
    "recommender_idf = ItemKNNCBFRecommender(URM_train, ICM_idf)\n",
    "recommender_idf.fit(shrink=0.0, topK=50)\n",
    "\n",
    "result_df, _ = evaluator_test.evaluateRecommender(recommender_idf)\n",
    "result_df.loc[10]"
   ]
  },
  {
   "cell_type": "markdown",
   "metadata": {},
   "source": [
    "#### Try other feature weighting methods like BM25..."
   ]
  },
  {
   "cell_type": "markdown",
   "metadata": {},
   "source": [
    "# BM25"
   ]
  },
  {
   "cell_type": "code",
   "execution_count": 65,
   "metadata": {},
   "outputs": [],
   "source": [
    "from Recommenders.IR_feature_weighting import okapi_BM_25\n",
    "\n",
    "ICM_BM25 = ICM_all.copy().astype(np.float32)\n",
    "ICM_BM25 = okapi_BM_25(ICM_BM25)\n",
    "ICM_BM25 = ICM_BM25.tocsr()"
   ]
  },
  {
   "cell_type": "code",
   "execution_count": 66,
   "metadata": {
    "scrolled": true
   },
   "outputs": [
    {
     "name": "stdout",
     "output_type": "stream",
     "text": [
      "ItemKNNCBFRecommender: URM Detected 1689 ( 2.4%) users with no interactions.\n",
      "ItemKNNCBFRecommender: URM Detected 62 ( 0.6%) items with no interactions.\n",
      "ItemKNNCBFRecommender: ICM Detected 3080 (28.8%) items with no features.\n",
      "Similarity column 10681 (100.0%), 14546.71 column/sec. Elapsed time 0.73 sec\n",
      "EvaluatorHoldout: Processed 69808 (100.0%) in 44.04 sec. Users per second: 1585\n"
     ]
    },
    {
     "data": {
      "text/plain": [
       "PRECISION                     0.068012\n",
       "PRECISION_RECALL_MIN_DEN      0.073047\n",
       "RECALL                        0.032823\n",
       "MAP                           0.034988\n",
       "MAP_MIN_DEN                   0.037264\n",
       "MRR                           0.189115\n",
       "NDCG                          0.064866\n",
       "F1                            0.044277\n",
       "HIT_RATE                      0.373439\n",
       "ARHR_ALL_HITS                 0.253897\n",
       "NOVELTY                       0.012732\n",
       "AVERAGE_POPULARITY            0.156445\n",
       "DIVERSITY_MEAN_INTER_LIST     0.973196\n",
       "DIVERSITY_HERFINDAHL          0.997318\n",
       "COVERAGE_ITEM                 0.498268\n",
       "COVERAGE_ITEM_HIT             0.118809\n",
       "ITEMS_IN_GT                   0.960865\n",
       "COVERAGE_USER                 0.975422\n",
       "COVERAGE_USER_HIT              0.36426\n",
       "USERS_IN_GT                   0.975422\n",
       "DIVERSITY_GINI                0.083546\n",
       "SHANNON_ENTROPY               9.922846\n",
       "RATIO_DIVERSITY_HERFINDAHL    0.998071\n",
       "RATIO_DIVERSITY_GINI          0.429285\n",
       "RATIO_SHANNON_ENTROPY         0.876233\n",
       "RATIO_AVERAGE_POPULARITY      0.559265\n",
       "RATIO_NOVELTY                 0.134285\n",
       "Name: 10, dtype: object"
      ]
     },
     "execution_count": 66,
     "metadata": {},
     "output_type": "execute_result"
    }
   ],
   "source": [
    "recommender_bm25 = ItemKNNCBFRecommender(URM_train, ICM_BM25)\n",
    "recommender_bm25.fit(shrink=0.0, topK=50)\n",
    "\n",
    "result_df, _ = evaluator_test.evaluateRecommender(recommender_bm25)\n",
    "result_df.loc[10]"
   ]
  },
  {
   "cell_type": "markdown",
   "metadata": {},
   "source": [
    "#### A small gain over TF-IDF"
   ]
  },
  {
   "cell_type": "markdown",
   "metadata": {},
   "source": [
    "# Unnormalized similarity matrix"
   ]
  },
  {
   "cell_type": "code",
   "execution_count": 67,
   "metadata": {},
   "outputs": [
    {
     "name": "stdout",
     "output_type": "stream",
     "text": [
      "ItemKNNCBFRecommender: URM Detected 1689 ( 2.4%) users with no interactions.\n",
      "ItemKNNCBFRecommender: URM Detected 62 ( 0.6%) items with no interactions.\n",
      "ItemKNNCBFRecommender: ICM Detected 3080 (28.8%) items with no features.\n",
      "EvaluatorHoldout: Processed 69808 (100.0%) in 1.15 min. Users per second: 1008\n"
     ]
    },
    {
     "data": {
      "text/plain": [
       "PRECISION                     0.123222\n",
       "PRECISION_RECALL_MIN_DEN      0.133744\n",
       "RECALL                        0.059976\n",
       "MAP                           0.067868\n",
       "MAP_MIN_DEN                    0.07275\n",
       "MRR                            0.32608\n",
       "NDCG                          0.129453\n",
       "F1                            0.080682\n",
       "HIT_RATE                      0.586552\n",
       "ARHR_ALL_HITS                 0.460047\n",
       "NOVELTY                       0.008519\n",
       "AVERAGE_POPULARITY            0.580033\n",
       "DIVERSITY_MEAN_INTER_LIST     0.599504\n",
       "DIVERSITY_HERFINDAHL           0.95995\n",
       "COVERAGE_ITEM                 0.048965\n",
       "COVERAGE_ITEM_HIT             0.018257\n",
       "ITEMS_IN_GT                   0.960865\n",
       "COVERAGE_USER                 0.975422\n",
       "COVERAGE_USER_HIT             0.572135\n",
       "USERS_IN_GT                   0.975422\n",
       "DIVERSITY_GINI                0.002441\n",
       "SHANNON_ENTROPY               5.047136\n",
       "RATIO_DIVERSITY_HERFINDAHL    0.960674\n",
       "RATIO_DIVERSITY_GINI          0.012541\n",
       "RATIO_SHANNON_ENTROPY         0.445685\n",
       "RATIO_AVERAGE_POPULARITY      2.073524\n",
       "RATIO_NOVELTY                 0.089847\n",
       "Name: 10, dtype: object"
      ]
     },
     "execution_count": 67,
     "metadata": {},
     "output_type": "execute_result"
    }
   ],
   "source": [
    "recommender_dot = ItemKNNCBFRecommender(URM_train, ICM_all)\n",
    "recommender_dot.W_sparse = ICM_all * ICM_all.T\n",
    "\n",
    "result_df, _ = evaluator_test.evaluateRecommender(recommender_dot)\n",
    "result_df.loc[10]"
   ]
  },
  {
   "cell_type": "code",
   "execution_count": null,
   "metadata": {},
   "outputs": [],
   "source": []
  }
 ],
 "metadata": {
  "anaconda-cloud": {},
  "kernelspec": {
   "display_name": "Python 3 (ipykernel)",
   "language": "python",
   "name": "python3"
  },
  "language_info": {
   "codemirror_mode": {
    "name": "ipython",
    "version": 3
   },
   "file_extension": ".py",
   "mimetype": "text/x-python",
   "name": "python",
   "nbconvert_exporter": "python",
   "pygments_lexer": "ipython3",
   "version": "3.8.12"
  }
 },
 "nbformat": 4,
 "nbformat_minor": 1
}
