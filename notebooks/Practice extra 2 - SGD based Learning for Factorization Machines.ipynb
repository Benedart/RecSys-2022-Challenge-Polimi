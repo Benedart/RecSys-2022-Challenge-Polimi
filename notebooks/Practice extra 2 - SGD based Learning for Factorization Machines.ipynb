{
 "cells": [
  {
   "cell_type": "markdown",
   "metadata": {},
   "source": [
    "# Recommender Systems 2017/18\n",
    "\n",
    "### Practice 7 - SGD-based Learning for Factorization Machines\n",
    "\n",
    "S. Rendle, \"**Factorization Machines with libFM**,\" ACM Trans. Intell. Syst. Technol., 3(3), May 2012.\n",
    "\n",
    "##### The original version of this notebook is available at [Takuti Github repo](https://github.com/takuti/factorization-machines)"
   ]
  },
  {
   "cell_type": "code",
   "execution_count": 1,
   "metadata": {},
   "outputs": [],
   "source": [
    "import numpy as np\n",
    "import pandas as pd\n",
    "\n",
    "%matplotlib inline\n",
    "import matplotlib.pyplot as plt"
   ]
  },
  {
   "cell_type": "code",
   "execution_count": 2,
   "metadata": {},
   "outputs": [],
   "source": [
    "from SGD_FM import Regression, Classification"
   ]
  },
  {
   "cell_type": "markdown",
   "metadata": {},
   "source": [
    "### Utility functions"
   ]
  },
  {
   "cell_type": "code",
   "execution_count": 3,
   "metadata": {},
   "outputs": [],
   "source": [
    "def plot(l, xlabel, ylabel):\n",
    "    fig, ax = plt.subplots()\n",
    "    ax.plot(range(len(l)), l)\n",
    "    ax.set_xlabel(xlabel)\n",
    "    ax.set_ylabel(ylabel)\n",
    "    ax.grid(True)\n",
    "    fig.set_size_inches((5.5,3))\n",
    "    fig.patch.set_alpha(0.0)"
   ]
  },
  {
   "cell_type": "markdown",
   "metadata": {},
   "source": [
    "### Regression: Mock dataset"
   ]
  },
  {
   "cell_type": "code",
   "execution_count": 4,
   "metadata": {},
   "outputs": [],
   "source": [
    "X = np.array([\n",
    "    [1, 0, 0, 1, 0, 0, 0, 0, 0, 1, 0, 0, 1],\n",
    "    [1, 0, 0, 0, 1, 0, 0, 1, 0, 0, 0, 0, 0],\n",
    "    [1, 0, 0, 0, 0, 1, 0, 0, 1, 0, 0, 0.5, 0.5],\n",
    "    [0, 1, 0, 0, 0, 1, 0, 0, 1, 0, 0.5, 0, 0.5],\n",
    "    [0, 1, 0, 0, 0, 0, 1, 0, 0, 1, 0, 0, 0],\n",
    "    [0, 0, 1, 1, 0, 0, 0, 1, 0, 0, 1, 0, 0],\n",
    "    [0, 0, 1, 0, 0, 1, 0, 0, 0, 1, 0.5, 0.5, 0]\n",
    "    ])\n",
    "y = np.array([5, 3, 1, 4, 5, 1, 5])\n",
    "\n",
    "n_sample = y.size"
   ]
  },
  {
   "cell_type": "code",
   "execution_count": 5,
   "metadata": {},
   "outputs": [
    {
     "data": {
      "image/png": "[encoded data removed]",
      "text/plain": [
       "<matplotlib.figure.Figure at 0xaf2dcf8>"
      ]
     },
     "metadata": {},
     "output_type": "display_data"
    }
   ],
   "source": [
    "# learn incrementally\n",
    "regressor = Regression(X, y)\n",
    "\n",
    "RMSEs = []\n",
    "for i in range(600):\n",
    "    # update with randomly sampled one\n",
    "    j = np.random.randint(n_sample)\n",
    "    RMSE = regressor.update(X[j], y[j])\n",
    "    RMSEs.append(RMSE)\n",
    "    \n",
    "plot(RMSEs, 'Iteration', 'RMSE')"
   ]
  },
  {
   "cell_type": "code",
   "execution_count": 6,
   "metadata": {},
   "outputs": [
    {
     "data": {
      "image/png": "[encoded data removed]",
      "text/plain": [
       "<matplotlib.figure.Figure at 0xaf2dd30>"
      ]
     },
     "metadata": {},
     "output_type": "display_data"
    }
   ],
   "source": [
    "# learn at once\n",
    "# 1 iteration = descent for all samples\n",
    "regressor = Regression(X, y)\n",
    "RMSEs = regressor.fit()\n",
    "plot(RMSEs, 'Iteration', 'RMSE')"
   ]
  },
  {
   "cell_type": "markdown",
   "metadata": {},
   "source": [
    "## Classification: Based on the mock dataset"
   ]
  },
  {
   "cell_type": "code",
   "execution_count": 7,
   "metadata": {},
   "outputs": [
    {
     "data": {
      "text/plain": [
       "array([ 1, -1, -1,  1,  1, -1,  1])"
      ]
     },
     "execution_count": 7,
     "metadata": {},
     "output_type": "execute_result"
    }
   ],
   "source": [
    "# give labels for the mock dataset\n",
    "y_labels = np.ones_like(y)\n",
    "y_labels[y < np.mean(y)] = -1\n",
    "y_labels"
   ]
  },
  {
   "cell_type": "code",
   "execution_count": 8,
   "metadata": {},
   "outputs": [
    {
     "data": {
      "image/png": "[encoded data removed]",
      "text/plain": [
       "<matplotlib.figure.Figure at 0xb16e128>"
      ]
     },
     "metadata": {},
     "output_type": "display_data"
    }
   ],
   "source": [
    "# learn incrementally\n",
    "classifier = Classification(X, y_labels)\n",
    "\n",
    "AUCs = []\n",
    "for i in range(100):\n",
    "    # update with random sample\n",
    "    j = np.random.randint(n_sample)\n",
    "    current = classifier.update(X[j], y_labels[j])\n",
    "    AUCs.append(current)\n",
    "\n",
    "plot(AUCs, 'Iteration', 'AUC')"
   ]
  },
  {
   "cell_type": "markdown",
   "metadata": {
    "collapsed": true
   },
   "source": [
    "### Let's look at the code"
   ]
  },
  {
   "cell_type": "code",
   "execution_count": 9,
   "metadata": {},
   "outputs": [],
   "source": [
    "from abc import ABCMeta, abstractmethod\n",
    "import numpy as np\n",
    "from sklearn import metrics\n",
    "\n",
    "class SGD:\n",
    "    __metaclass__ = ABCMeta\n",
    "\n",
    "    def __init__(self, X, y, l2_reg_w0=0.01, l2_reg_w=0.01, l2_reg_V=0.01, learn_rate=0.01):\n",
    "        self.X, self.y = X, y\n",
    "        self.n, self.p = X.shape # number of samples and their dimension\n",
    "\n",
    "        # parameter settings\n",
    "        self.k = int(np.sqrt(self.p)) # for the low-rank assumption of pairwise interaction\n",
    "        self.l2_reg_w0 = l2_reg_w0\n",
    "        self.l2_reg_w = l2_reg_w\n",
    "        self.l2_reg_V = l2_reg_V\n",
    "        self.learn_rate = learn_rate\n",
    "\n",
    "        # initialize the model parameters\n",
    "        # we have the weight vector and the pairwise interaction matrix\n",
    "        self.w0 = 0.\n",
    "        self.w = np.zeros(self.p)\n",
    "        self.V = np.random.random((self.p, self.k))\n",
    "\n",
    "    def predict(self, x):\n",
    "        \"\"\"\n",
    "        Return a predicted value for an input vector x.\n",
    "        \"\"\"\n",
    "\n",
    "        # efficient vectorized implementation of the pairwise interaction term\n",
    "        interaction = float(np.sum(np.dot(self.V.T, np.array([x]).T) ** 2 - \n",
    "                                   np.dot(self.V.T ** 2, np.array([x]).T ** 2)) / 2.)\n",
    "\n",
    "        # Add the pairwise interaction to the linear weight\n",
    "        return self.w0 + np.inner(self.w, x) + interaction\n",
    "\n",
    "    def fit(self):\n",
    "        \"\"\"\n",
    "        Learn the model parameters with SGD. Iterate until convergence.\n",
    "        \"\"\"\n",
    "\n",
    "        prev = float('inf')\n",
    "        current = 0.\n",
    "        eps = 1e-3\n",
    "\n",
    "        history = []\n",
    "        while abs(prev - current) > eps:\n",
    "            prev = current\n",
    "            for x, y in zip(self.X, self.y): # for each (x, y) training sample\n",
    "                current = self.update(x, y)\n",
    "            history.append(current)\n",
    "        return history\n",
    "\n",
    "    def update(self, x, y):\n",
    "        \"\"\"\n",
    "        Update the model parameters based on the given vector-value pair.\n",
    "        \"\"\"\n",
    "\n",
    "        # common part of the gradient\n",
    "        grad_base = self._loss_derivative(x, y)\n",
    "\n",
    "        grad_w0 = grad_base * 1.\n",
    "        self.w0 = self.w0 - self.learn_rate * (grad_w0 + 2. * self.l2_reg_w0 * self.w0)\n",
    "\n",
    "        # Update every paramether\n",
    "        for i in range(self.p):\n",
    "            if x[i] == 0.: continue\n",
    "            grad_w = grad_base * x[i]\n",
    "            self.w[i] = self.w[i] - self.learn_rate * (grad_w + 2. * self.l2_reg_w * self.w[i])\n",
    "\n",
    "            for f in range(self.k):\n",
    "                grad_V = grad_base * x[i] * (sum(x * self.V[:, f]) - x[i] * self.V[i, f])\n",
    "                self.V[i, f] = self.V[i, f] - \\\n",
    "                                self.learn_rate * (grad_V + 2. * self.l2_reg_V * self.V[i, f])\n",
    "\n",
    "        return self._evaluate()\n",
    "\n",
    "    @abstractmethod\n",
    "    def _loss_derivative(self, x, y):\n",
    "        # for grad_base\n",
    "        pass\n",
    "\n",
    "    @abstractmethod\n",
    "    def _evaluate(self):\n",
    "        # RMSE for regression\n",
    "        # AUC for classification\n",
    "        pass"
   ]
  },
  {
   "cell_type": "code",
   "execution_count": 10,
   "metadata": {},
   "outputs": [],
   "source": [
    "\n",
    "class Regression(SGD):\n",
    "    def _loss_derivative(self, x, y):\n",
    "        return 2. * (self.predict(x) - y)\n",
    "\n",
    "    def _evaluate(self):\n",
    "        # Efficient vectorized RMSE computation\n",
    "        linear = np.dot(self.X, np.array([self.w]).T).T\n",
    "        interaction = np.array([np.sum(np.dot(self.X, self.V) ** 2 - np.dot(self.X ** 2, self.V ** 2), axis=1) / 2.])\n",
    "        y_pred = self.w0 + linear + interaction\n",
    "        y_pred = y_pred.reshape((self.n))\n",
    "\n",
    "        return metrics.mean_squared_error(self.y, y_pred) ** 0.5\n"
   ]
  },
  {
   "cell_type": "code",
   "execution_count": 11,
   "metadata": {},
   "outputs": [],
   "source": [
    "\n",
    "class Classification(SGD):\n",
    "    def _loss_derivative(self, x, y):\n",
    "        return (1. / (1. + np.e ** (- self.predict(x) * y)) - 1) * y\n",
    "\n",
    "    def _evaluate(self):\n",
    "        linear = np.dot(self.X, np.array([self.w]).T).T\n",
    "        interaction = np.array([np.sum(np.dot(self.X, self.V) ** 2 - np.dot(self.X ** 2, self.V ** 2), axis=1) / 2.])\n",
    "        y_pred = self.w0 + linear + interaction\n",
    "        y_pred = y_pred.reshape((self.n))\n",
    "\n",
    "        fpr, tpr, thresholds = metrics.roc_curve(self.y, y_pred, pos_label=1)\n",
    "        return metrics.auc(fpr, tpr)\n"
   ]
  },
  {
   "cell_type": "code",
   "execution_count": null,
   "metadata": {},
   "outputs": [],
   "source": []
  }
 ],
 "metadata": {
  "kernelspec": {
   "display_name": "Python 3",
   "language": "python",
   "name": "python3"
  },
  "language_info": {
   "codemirror_mode": {
    "name": "ipython",
    "version": 3
   },
   "file_extension": ".py",
   "mimetype": "text/x-python",
   "name": "python",
   "nbconvert_exporter": "python",
   "pygments_lexer": "ipython3",
   "version": "3.6.7"
  }
 },
 "nbformat": 4,
 "nbformat_minor": 1
}
