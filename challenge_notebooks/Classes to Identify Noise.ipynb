{
 "cells": [
  {
   "cell_type": "code",
   "execution_count": 2,
   "metadata": {
    "collapsed": true
   },
   "outputs": [
    {
     "data": {
      "text/plain": "         UserId  ItemId                 ImpressionList  Data\n0             0      21                            NaN     0\n1             0      21                            NaN     0\n2             0      21  20,21,22,23,24,25,26,27,28,29     0\n3             0      21                            NaN     1\n4             0      21                            NaN     1\n...         ...     ...                            ...   ...\n5826500   41628   20448                            NaN     0\n5826501   41628   20896                            NaN     1\n5826502   41628   21506                            NaN     1\n5826503   41628   22882                            NaN     0\n5826504   41628   23757                            NaN     0\n\n[5826505 rows x 4 columns]",
      "text/html": "<div>\n<style scoped>\n    .dataframe tbody tr th:only-of-type {\n        vertical-align: middle;\n    }\n\n    .dataframe tbody tr th {\n        vertical-align: top;\n    }\n\n    .dataframe thead th {\n        text-align: right;\n    }\n</style>\n<table border=\"1\" class=\"dataframe\">\n  <thead>\n    <tr style=\"text-align: right;\">\n      <th></th>\n      <th>UserId</th>\n      <th>ItemId</th>\n      <th>ImpressionList</th>\n      <th>Data</th>\n    </tr>\n  </thead>\n  <tbody>\n    <tr>\n      <th>0</th>\n      <td>0</td>\n      <td>21</td>\n      <td>NaN</td>\n      <td>0</td>\n    </tr>\n    <tr>\n      <th>1</th>\n      <td>0</td>\n      <td>21</td>\n      <td>NaN</td>\n      <td>0</td>\n    </tr>\n    <tr>\n      <th>2</th>\n      <td>0</td>\n      <td>21</td>\n      <td>20,21,22,23,24,25,26,27,28,29</td>\n      <td>0</td>\n    </tr>\n    <tr>\n      <th>3</th>\n      <td>0</td>\n      <td>21</td>\n      <td>NaN</td>\n      <td>1</td>\n    </tr>\n    <tr>\n      <th>4</th>\n      <td>0</td>\n      <td>21</td>\n      <td>NaN</td>\n      <td>1</td>\n    </tr>\n    <tr>\n      <th>...</th>\n      <td>...</td>\n      <td>...</td>\n      <td>...</td>\n      <td>...</td>\n    </tr>\n    <tr>\n      <th>5826500</th>\n      <td>41628</td>\n      <td>20448</td>\n      <td>NaN</td>\n      <td>0</td>\n    </tr>\n    <tr>\n      <th>5826501</th>\n      <td>41628</td>\n      <td>20896</td>\n      <td>NaN</td>\n      <td>1</td>\n    </tr>\n    <tr>\n      <th>5826502</th>\n      <td>41628</td>\n      <td>21506</td>\n      <td>NaN</td>\n      <td>1</td>\n    </tr>\n    <tr>\n      <th>5826503</th>\n      <td>41628</td>\n      <td>22882</td>\n      <td>NaN</td>\n      <td>0</td>\n    </tr>\n    <tr>\n      <th>5826504</th>\n      <td>41628</td>\n      <td>23757</td>\n      <td>NaN</td>\n      <td>0</td>\n    </tr>\n  </tbody>\n</table>\n<p>5826505 rows × 4 columns</p>\n</div>"
     },
     "execution_count": 2,
     "metadata": {},
     "output_type": "execute_result"
    }
   ],
   "source": [
    "import pandas as pd\n",
    "\n",
    "path = \"recommender-system-2022-challenge-polimi-data/interactions_and_impressions.csv\"\n",
    "\n",
    "Interactions_and_Impressions = pd.read_csv(filepath_or_buffer=path,\n",
    "                                           sep=\",\",\n",
    "                                           header=1,\n",
    "                                           engine='python',\n",
    "                                           names=['UserId', 'ItemId', 'ImpressionList', 'Data'])\n",
    "\n",
    "\n",
    "# content_type = pd.read_csv(\"/kaggle/input/recommender-system-2022-challenge-polimi/data_ICM_type.csv\")\n",
    "# content_length = pd.read_csv(\"/kaggle/input/recommender-system-2022-challenge-polimi/data_ICM_length.csv\")\n",
    "\n",
    "# ICM_all = pd.concat([content_type, content_length]).sort_values(by='item_id')\n",
    "\n",
    "Interactions_and_Impressions"
   ]
  },
  {
   "cell_type": "code",
   "execution_count": 5,
   "outputs": [
    {
     "data": {
      "text/plain": "         UserId  ItemId                 ImpressionList  Data\n0             0      21                            NaN     0\n1             0      21                            NaN     0\n2             0      21  20,21,22,23,24,25,26,27,28,29     0\n3             0      21                            NaN     1\n4             0      21                            NaN     1\n...         ...     ...                            ...   ...\n5826500   41628   20448                            NaN     0\n5826501   41628   20896                            NaN     1\n5826502   41628   21506                            NaN     1\n5826503   41628   22882                            NaN     0\n5826504   41628   23757                            NaN     0\n\n[5826505 rows x 4 columns]",
      "text/html": "<div>\n<style scoped>\n    .dataframe tbody tr th:only-of-type {\n        vertical-align: middle;\n    }\n\n    .dataframe tbody tr th {\n        vertical-align: top;\n    }\n\n    .dataframe thead th {\n        text-align: right;\n    }\n</style>\n<table border=\"1\" class=\"dataframe\">\n  <thead>\n    <tr style=\"text-align: right;\">\n      <th></th>\n      <th>UserId</th>\n      <th>ItemId</th>\n      <th>ImpressionList</th>\n      <th>Data</th>\n    </tr>\n  </thead>\n  <tbody>\n    <tr>\n      <th>0</th>\n      <td>0</td>\n      <td>21</td>\n      <td>NaN</td>\n      <td>0</td>\n    </tr>\n    <tr>\n      <th>1</th>\n      <td>0</td>\n      <td>21</td>\n      <td>NaN</td>\n      <td>0</td>\n    </tr>\n    <tr>\n      <th>2</th>\n      <td>0</td>\n      <td>21</td>\n      <td>20,21,22,23,24,25,26,27,28,29</td>\n      <td>0</td>\n    </tr>\n    <tr>\n      <th>3</th>\n      <td>0</td>\n      <td>21</td>\n      <td>NaN</td>\n      <td>1</td>\n    </tr>\n    <tr>\n      <th>4</th>\n      <td>0</td>\n      <td>21</td>\n      <td>NaN</td>\n      <td>1</td>\n    </tr>\n    <tr>\n      <th>...</th>\n      <td>...</td>\n      <td>...</td>\n      <td>...</td>\n      <td>...</td>\n    </tr>\n    <tr>\n      <th>5826500</th>\n      <td>41628</td>\n      <td>20448</td>\n      <td>NaN</td>\n      <td>0</td>\n    </tr>\n    <tr>\n      <th>5826501</th>\n      <td>41628</td>\n      <td>20896</td>\n      <td>NaN</td>\n      <td>1</td>\n    </tr>\n    <tr>\n      <th>5826502</th>\n      <td>41628</td>\n      <td>21506</td>\n      <td>NaN</td>\n      <td>1</td>\n    </tr>\n    <tr>\n      <th>5826503</th>\n      <td>41628</td>\n      <td>22882</td>\n      <td>NaN</td>\n      <td>0</td>\n    </tr>\n    <tr>\n      <th>5826504</th>\n      <td>41628</td>\n      <td>23757</td>\n      <td>NaN</td>\n      <td>0</td>\n    </tr>\n  </tbody>\n</table>\n<p>5826505 rows × 4 columns</p>\n</div>"
     },
     "execution_count": 5,
     "metadata": {},
     "output_type": "execute_result"
    }
   ],
   "source": [
    "Interactions_and_Impressions"
   ],
   "metadata": {
    "collapsed": false
   }
  },
  {
   "cell_type": "code",
   "execution_count": 6,
   "outputs": [],
   "source": [
    "DF = Interactions_and_Impressions.drop([\"ImpressionList\"], axis=1)\n",
    "DF = DF.groupby(['UserId', 'ItemId'], as_index=False).count()"
   ],
   "metadata": {
    "collapsed": false
   }
  },
  {
   "cell_type": "markdown",
   "source": [
    "##### We consider 0 and 1 interactions indistinctly"
   ],
   "metadata": {
    "collapsed": false
   }
  },
  {
   "cell_type": "code",
   "execution_count": 7,
   "outputs": [
    {
     "data": {
      "text/plain": "         UserId  ItemId  Data\n0             0      21    12\n1             0      22    15\n2             0      24     1\n3             0      44     1\n4             0      54     7\n...         ...     ...   ...\n1554634   41628   20448     1\n1554635   41628   20896     1\n1554636   41628   21506     1\n1554637   41628   22882     1\n1554638   41628   23757     1\n\n[1554639 rows x 3 columns]",
      "text/html": "<div>\n<style scoped>\n    .dataframe tbody tr th:only-of-type {\n        vertical-align: middle;\n    }\n\n    .dataframe tbody tr th {\n        vertical-align: top;\n    }\n\n    .dataframe thead th {\n        text-align: right;\n    }\n</style>\n<table border=\"1\" class=\"dataframe\">\n  <thead>\n    <tr style=\"text-align: right;\">\n      <th></th>\n      <th>UserId</th>\n      <th>ItemId</th>\n      <th>Data</th>\n    </tr>\n  </thead>\n  <tbody>\n    <tr>\n      <th>0</th>\n      <td>0</td>\n      <td>21</td>\n      <td>12</td>\n    </tr>\n    <tr>\n      <th>1</th>\n      <td>0</td>\n      <td>22</td>\n      <td>15</td>\n    </tr>\n    <tr>\n      <th>2</th>\n      <td>0</td>\n      <td>24</td>\n      <td>1</td>\n    </tr>\n    <tr>\n      <th>3</th>\n      <td>0</td>\n      <td>44</td>\n      <td>1</td>\n    </tr>\n    <tr>\n      <th>4</th>\n      <td>0</td>\n      <td>54</td>\n      <td>7</td>\n    </tr>\n    <tr>\n      <th>...</th>\n      <td>...</td>\n      <td>...</td>\n      <td>...</td>\n    </tr>\n    <tr>\n      <th>1554634</th>\n      <td>41628</td>\n      <td>20448</td>\n      <td>1</td>\n    </tr>\n    <tr>\n      <th>1554635</th>\n      <td>41628</td>\n      <td>20896</td>\n      <td>1</td>\n    </tr>\n    <tr>\n      <th>1554636</th>\n      <td>41628</td>\n      <td>21506</td>\n      <td>1</td>\n    </tr>\n    <tr>\n      <th>1554637</th>\n      <td>41628</td>\n      <td>22882</td>\n      <td>1</td>\n    </tr>\n    <tr>\n      <th>1554638</th>\n      <td>41628</td>\n      <td>23757</td>\n      <td>1</td>\n    </tr>\n  </tbody>\n</table>\n<p>1554639 rows × 3 columns</p>\n</div>"
     },
     "execution_count": 7,
     "metadata": {},
     "output_type": "execute_result"
    }
   ],
   "source": [
    "DF"
   ],
   "metadata": {
    "collapsed": false
   }
  },
  {
   "cell_type": "markdown",
   "source": [
    "Let's take a look at this Data column"
   ],
   "metadata": {
    "collapsed": false
   }
  },
  {
   "cell_type": "code",
   "execution_count": 20,
   "outputs": [
    {
     "name": "stdout",
     "output_type": "stream",
     "text": [
      "Max number of interactions by a user on one item: 4348\n",
      "Min number of interactions by a user on one item: 1\n",
      "Mean number of interactions by a user on one item: 3.747818625417219\n",
      "25% quantile of interactions by a user on one item: 1.0\n",
      "75% quantile of interactions by a user on one item: 1.0\n",
      "77% quantile of interactions by a user on one item: 2.0\n"
     ]
    }
   ],
   "source": [
    "import numpy as np\n",
    "data = np.array(DF.Data)\n",
    "print(\"Max number of interactions by a user on one item: {}\".format(data.max()))\n",
    "print(\"Min number of interactions by a user on one item: {}\".format(data.min()))\n",
    "print(\"Mean number of interactions by a user on one item: {}\".format(data.mean()))\n",
    "print(\"25% quantile of interactions by a user on one item: {}\".format(np.quantile(data, .25)))\n",
    "print(\"75% quantile of interactions by a user on one item: {}\".format(np.quantile(data, .75)))\n",
    "print(\"77% quantile of interactions by a user on one item: {}\".format(np.quantile(data, .77)))"
   ],
   "metadata": {
    "collapsed": false
   }
  },
  {
   "cell_type": "markdown",
   "source": [
    "Looking at quantiles we see that the vast majority of users interact with items only one time"
   ],
   "metadata": {
    "collapsed": false
   }
  },
  {
   "cell_type": "markdown",
   "source": [
    "### Let's try differentiating the two types of interactions\n",
    "And visualizing the same data"
   ],
   "metadata": {
    "collapsed": false
   }
  },
  {
   "cell_type": "code",
   "execution_count": 22,
   "outputs": [],
   "source": [
    "DF_1 = Interactions_and_Impressions[Interactions_and_Impressions[\"Data\"] == 1].drop([\"ImpressionList\"], axis=1)\n",
    "DF_1 = DF_1.groupby(['UserId', 'ItemId'], as_index=False).count()\n",
    "\n",
    "DF_0 = Interactions_and_Impressions[Interactions_and_Impressions[\"Data\"] == 0].drop([\"ImpressionList\"], axis=1)\n",
    "DF_0 = DF_0.groupby(['UserId', 'ItemId'], as_index=False).count()"
   ],
   "metadata": {
    "collapsed": false
   }
  },
  {
   "cell_type": "code",
   "execution_count": 63,
   "outputs": [
    {
     "data": {
      "text/plain": "        UserId  ItemId  Data\n547352   31350      20  4256\n57003     3328     337  3856\n114226    6564     909  1570\n338423   19407    2581  1377\n55330     3226      20  1333\n...        ...     ...   ...\n252892   14435      97     1\n252891   14435      93     1\n252889   14435      55     1\n252888   14435      54     1\n663368   41628   21506     1\n\n[663369 rows x 3 columns]",
      "text/html": "<div>\n<style scoped>\n    .dataframe tbody tr th:only-of-type {\n        vertical-align: middle;\n    }\n\n    .dataframe tbody tr th {\n        vertical-align: top;\n    }\n\n    .dataframe thead th {\n        text-align: right;\n    }\n</style>\n<table border=\"1\" class=\"dataframe\">\n  <thead>\n    <tr style=\"text-align: right;\">\n      <th></th>\n      <th>UserId</th>\n      <th>ItemId</th>\n      <th>Data</th>\n    </tr>\n  </thead>\n  <tbody>\n    <tr>\n      <th>547352</th>\n      <td>31350</td>\n      <td>20</td>\n      <td>4256</td>\n    </tr>\n    <tr>\n      <th>57003</th>\n      <td>3328</td>\n      <td>337</td>\n      <td>3856</td>\n    </tr>\n    <tr>\n      <th>114226</th>\n      <td>6564</td>\n      <td>909</td>\n      <td>1570</td>\n    </tr>\n    <tr>\n      <th>338423</th>\n      <td>19407</td>\n      <td>2581</td>\n      <td>1377</td>\n    </tr>\n    <tr>\n      <th>55330</th>\n      <td>3226</td>\n      <td>20</td>\n      <td>1333</td>\n    </tr>\n    <tr>\n      <th>...</th>\n      <td>...</td>\n      <td>...</td>\n      <td>...</td>\n    </tr>\n    <tr>\n      <th>252892</th>\n      <td>14435</td>\n      <td>97</td>\n      <td>1</td>\n    </tr>\n    <tr>\n      <th>252891</th>\n      <td>14435</td>\n      <td>93</td>\n      <td>1</td>\n    </tr>\n    <tr>\n      <th>252889</th>\n      <td>14435</td>\n      <td>55</td>\n      <td>1</td>\n    </tr>\n    <tr>\n      <th>252888</th>\n      <td>14435</td>\n      <td>54</td>\n      <td>1</td>\n    </tr>\n    <tr>\n      <th>663368</th>\n      <td>41628</td>\n      <td>21506</td>\n      <td>1</td>\n    </tr>\n  </tbody>\n</table>\n<p>663369 rows × 3 columns</p>\n</div>"
     },
     "execution_count": 63,
     "metadata": {},
     "output_type": "execute_result"
    }
   ],
   "source": [
    "DF_1.sort_values(by=['Data'], ascending=False)"
   ],
   "metadata": {
    "collapsed": false
   }
  },
  {
   "cell_type": "code",
   "execution_count": 66,
   "outputs": [
    {
     "data": {
      "text/plain": "        UserId  ItemId  Data\n354466   20368      28    11\n354467   20368      65  1149\n354468   20368     113     2\n354469   20368     139     1\n354470   20368     348    24\n354471   20368     349     1\n354472   20368     421     1\n354473   20368     498     1\n354474   20368     521    12\n354475   20368     629     1\n354476   20368    1448     1\n354477   20368    2281     1\n354478   20368    3037     1\n354479   20368    3349    35\n354480   20368    4279     1\n354481   20368    4720     2\n354482   20368    5446     1\n354483   20368    5979    62\n354484   20368    6016     1\n354485   20368    7080     1\n354486   20368    7703    10\n354487   20368    8411     6\n354488   20368    9544     1\n354489   20368   11382     6\n354490   20368   11940     8\n354491   20368   12663    20\n354492   20368   14118     4\n354493   20368   18740     1\n354494   20368   20356     1\n354495   20368   20665    12\n354496   20368   21819    27\n354497   20368   22027     1\n354498   20368   23261    10\n354499   20368   23713     2",
      "text/html": "<div>\n<style scoped>\n    .dataframe tbody tr th:only-of-type {\n        vertical-align: middle;\n    }\n\n    .dataframe tbody tr th {\n        vertical-align: top;\n    }\n\n    .dataframe thead th {\n        text-align: right;\n    }\n</style>\n<table border=\"1\" class=\"dataframe\">\n  <thead>\n    <tr style=\"text-align: right;\">\n      <th></th>\n      <th>UserId</th>\n      <th>ItemId</th>\n      <th>Data</th>\n    </tr>\n  </thead>\n  <tbody>\n    <tr>\n      <th>354466</th>\n      <td>20368</td>\n      <td>28</td>\n      <td>11</td>\n    </tr>\n    <tr>\n      <th>354467</th>\n      <td>20368</td>\n      <td>65</td>\n      <td>1149</td>\n    </tr>\n    <tr>\n      <th>354468</th>\n      <td>20368</td>\n      <td>113</td>\n      <td>2</td>\n    </tr>\n    <tr>\n      <th>354469</th>\n      <td>20368</td>\n      <td>139</td>\n      <td>1</td>\n    </tr>\n    <tr>\n      <th>354470</th>\n      <td>20368</td>\n      <td>348</td>\n      <td>24</td>\n    </tr>\n    <tr>\n      <th>354471</th>\n      <td>20368</td>\n      <td>349</td>\n      <td>1</td>\n    </tr>\n    <tr>\n      <th>354472</th>\n      <td>20368</td>\n      <td>421</td>\n      <td>1</td>\n    </tr>\n    <tr>\n      <th>354473</th>\n      <td>20368</td>\n      <td>498</td>\n      <td>1</td>\n    </tr>\n    <tr>\n      <th>354474</th>\n      <td>20368</td>\n      <td>521</td>\n      <td>12</td>\n    </tr>\n    <tr>\n      <th>354475</th>\n      <td>20368</td>\n      <td>629</td>\n      <td>1</td>\n    </tr>\n    <tr>\n      <th>354476</th>\n      <td>20368</td>\n      <td>1448</td>\n      <td>1</td>\n    </tr>\n    <tr>\n      <th>354477</th>\n      <td>20368</td>\n      <td>2281</td>\n      <td>1</td>\n    </tr>\n    <tr>\n      <th>354478</th>\n      <td>20368</td>\n      <td>3037</td>\n      <td>1</td>\n    </tr>\n    <tr>\n      <th>354479</th>\n      <td>20368</td>\n      <td>3349</td>\n      <td>35</td>\n    </tr>\n    <tr>\n      <th>354480</th>\n      <td>20368</td>\n      <td>4279</td>\n      <td>1</td>\n    </tr>\n    <tr>\n      <th>354481</th>\n      <td>20368</td>\n      <td>4720</td>\n      <td>2</td>\n    </tr>\n    <tr>\n      <th>354482</th>\n      <td>20368</td>\n      <td>5446</td>\n      <td>1</td>\n    </tr>\n    <tr>\n      <th>354483</th>\n      <td>20368</td>\n      <td>5979</td>\n      <td>62</td>\n    </tr>\n    <tr>\n      <th>354484</th>\n      <td>20368</td>\n      <td>6016</td>\n      <td>1</td>\n    </tr>\n    <tr>\n      <th>354485</th>\n      <td>20368</td>\n      <td>7080</td>\n      <td>1</td>\n    </tr>\n    <tr>\n      <th>354486</th>\n      <td>20368</td>\n      <td>7703</td>\n      <td>10</td>\n    </tr>\n    <tr>\n      <th>354487</th>\n      <td>20368</td>\n      <td>8411</td>\n      <td>6</td>\n    </tr>\n    <tr>\n      <th>354488</th>\n      <td>20368</td>\n      <td>9544</td>\n      <td>1</td>\n    </tr>\n    <tr>\n      <th>354489</th>\n      <td>20368</td>\n      <td>11382</td>\n      <td>6</td>\n    </tr>\n    <tr>\n      <th>354490</th>\n      <td>20368</td>\n      <td>11940</td>\n      <td>8</td>\n    </tr>\n    <tr>\n      <th>354491</th>\n      <td>20368</td>\n      <td>12663</td>\n      <td>20</td>\n    </tr>\n    <tr>\n      <th>354492</th>\n      <td>20368</td>\n      <td>14118</td>\n      <td>4</td>\n    </tr>\n    <tr>\n      <th>354493</th>\n      <td>20368</td>\n      <td>18740</td>\n      <td>1</td>\n    </tr>\n    <tr>\n      <th>354494</th>\n      <td>20368</td>\n      <td>20356</td>\n      <td>1</td>\n    </tr>\n    <tr>\n      <th>354495</th>\n      <td>20368</td>\n      <td>20665</td>\n      <td>12</td>\n    </tr>\n    <tr>\n      <th>354496</th>\n      <td>20368</td>\n      <td>21819</td>\n      <td>27</td>\n    </tr>\n    <tr>\n      <th>354497</th>\n      <td>20368</td>\n      <td>22027</td>\n      <td>1</td>\n    </tr>\n    <tr>\n      <th>354498</th>\n      <td>20368</td>\n      <td>23261</td>\n      <td>10</td>\n    </tr>\n    <tr>\n      <th>354499</th>\n      <td>20368</td>\n      <td>23713</td>\n      <td>2</td>\n    </tr>\n  </tbody>\n</table>\n</div>"
     },
     "execution_count": 66,
     "metadata": {},
     "output_type": "execute_result"
    }
   ],
   "source": [
    "DF_1[DF_1['UserId']==20368\n",
    "     #and DF_1['ItemId']==65\n",
    "]"
   ],
   "metadata": {
    "collapsed": false
   }
  },
  {
   "cell_type": "code",
   "execution_count": 62,
   "outputs": [
    {
     "data": {
      "text/plain": "         UserId  ItemId  Data\n550929    20368      65  2801\n545263    20145      71  2186\n647627    23973   13253  2070\n462842    17074      71  1925\n257256     9490     958  1868\n...         ...     ...   ...\n399219    14736    1028     1\n399220    14736    4173     1\n399221    14736    4906     1\n399222    14736    4963     1\n1051827   41628   23757     1\n\n[1051828 rows x 3 columns]",
      "text/html": "<div>\n<style scoped>\n    .dataframe tbody tr th:only-of-type {\n        vertical-align: middle;\n    }\n\n    .dataframe tbody tr th {\n        vertical-align: top;\n    }\n\n    .dataframe thead th {\n        text-align: right;\n    }\n</style>\n<table border=\"1\" class=\"dataframe\">\n  <thead>\n    <tr style=\"text-align: right;\">\n      <th></th>\n      <th>UserId</th>\n      <th>ItemId</th>\n      <th>Data</th>\n    </tr>\n  </thead>\n  <tbody>\n    <tr>\n      <th>550929</th>\n      <td>20368</td>\n      <td>65</td>\n      <td>2801</td>\n    </tr>\n    <tr>\n      <th>545263</th>\n      <td>20145</td>\n      <td>71</td>\n      <td>2186</td>\n    </tr>\n    <tr>\n      <th>647627</th>\n      <td>23973</td>\n      <td>13253</td>\n      <td>2070</td>\n    </tr>\n    <tr>\n      <th>462842</th>\n      <td>17074</td>\n      <td>71</td>\n      <td>1925</td>\n    </tr>\n    <tr>\n      <th>257256</th>\n      <td>9490</td>\n      <td>958</td>\n      <td>1868</td>\n    </tr>\n    <tr>\n      <th>...</th>\n      <td>...</td>\n      <td>...</td>\n      <td>...</td>\n    </tr>\n    <tr>\n      <th>399219</th>\n      <td>14736</td>\n      <td>1028</td>\n      <td>1</td>\n    </tr>\n    <tr>\n      <th>399220</th>\n      <td>14736</td>\n      <td>4173</td>\n      <td>1</td>\n    </tr>\n    <tr>\n      <th>399221</th>\n      <td>14736</td>\n      <td>4906</td>\n      <td>1</td>\n    </tr>\n    <tr>\n      <th>399222</th>\n      <td>14736</td>\n      <td>4963</td>\n      <td>1</td>\n    </tr>\n    <tr>\n      <th>1051827</th>\n      <td>41628</td>\n      <td>23757</td>\n      <td>1</td>\n    </tr>\n  </tbody>\n</table>\n<p>1051828 rows × 3 columns</p>\n</div>"
     },
     "execution_count": 62,
     "metadata": {},
     "output_type": "execute_result"
    }
   ],
   "source": [
    "DF_0.sort_values(by=['Data'], ascending=False)"
   ],
   "metadata": {
    "collapsed": false
   }
  },
  {
   "cell_type": "code",
   "execution_count": 25,
   "outputs": [
    {
     "name": "stdout",
     "output_type": "stream",
     "text": [
      "-------Only 1 interactions---------\n",
      "Max number of interactions by a user on one item: 4256\n",
      "Min number of interactions by a user on one item: 1\n",
      "Mean number of interactions by a user on one item: 3.4053837306235293\n",
      "25% quantile of interactions by a user on one item: 1.0\n",
      "75% quantile of interactions by a user on one item: 1.0\n",
      "77% quantile of interactions by a user on one item: 2.0\n"
     ]
    }
   ],
   "source": [
    "data_1 = np.array(DF_1.Data)\n",
    "print(\"-------Only 1 interactions---------\")\n",
    "print(\"Max number of interactions by a user on one item: {}\".format(data_1.max()))\n",
    "print(\"Min number of interactions by a user on one item: {}\".format(data_1.min()))\n",
    "print(\"Mean number of interactions by a user on one item: {}\".format(data_1.mean()))\n",
    "print(\"25% quantile of interactions by a user on one item: {}\".format(np.quantile(data_1, .25)))\n",
    "print(\"75% quantile of interactions by a user on one item: {}\".format(np.quantile(data_1, .75)))\n",
    "print(\"77% quantile of interactions by a user on one item: {}\".format(np.quantile(data_1, .77)))"
   ],
   "metadata": {
    "collapsed": false
   }
  },
  {
   "cell_type": "code",
   "execution_count": 34,
   "outputs": [
    {
     "data": {
      "text/plain": "(663369,\n array([ 783,  784,  787,  791,  801,  805,  820,  822,  828,  874,  883,\n         898,  909,  910,  928,  947, 1020, 1057, 1070, 1135, 1149, 1170,\n        1242, 1246, 1333, 1377, 1570, 3856, 4256]))"
     },
     "execution_count": 34,
     "metadata": {},
     "output_type": "execute_result"
    }
   ],
   "source": [
    "data_1.sort()\n",
    "len(data_1), data_1[663340:663369]"
   ],
   "metadata": {
    "collapsed": false
   }
  },
  {
   "cell_type": "code",
   "execution_count": 26,
   "outputs": [
    {
     "name": "stdout",
     "output_type": "stream",
     "text": [
      "-------Only 0 interactions---------\n",
      "Max number of interactions by a user on one item: 2801\n",
      "Min number of interactions by a user on one item: 1\n",
      "Mean number of interactions by a user on one item: 3.391694269405264\n",
      "25% quantile of interactions by a user on one item: 1.0\n",
      "75% quantile of interactions by a user on one item: 1.0\n",
      "77% quantile of interactions by a user on one item: 2.0\n"
     ]
    }
   ],
   "source": [
    "data_0 = np.array(DF_0.Data)\n",
    "print(\"-------Only 0 interactions---------\")\n",
    "print(\"Max number of interactions by a user on one item: {}\".format(data_0.max()))\n",
    "print(\"Min number of interactions by a user on one item: {}\".format(data_0.min()))\n",
    "print(\"Mean number of interactions by a user on one item: {}\".format(data_0.mean()))\n",
    "print(\"25% quantile of interactions by a user on one item: {}\".format(np.quantile(data_0, .25)))\n",
    "print(\"75% quantile of interactions by a user on one item: {}\".format(np.quantile(data_0, .75)))\n",
    "print(\"77% quantile of interactions by a user on one item: {}\".format(np.quantile(data_0, .77)))"
   ],
   "metadata": {
    "collapsed": false
   }
  },
  {
   "cell_type": "code",
   "execution_count": 36,
   "outputs": [
    {
     "data": {
      "text/plain": "(1051828,\n array([1208, 1267, 1276, 1309, 1310, 1328, 1337, 1348, 1363, 1367, 1379,\n        1381, 1466, 1480, 1531, 1562, 1567, 1585, 1594, 1814, 1819, 1842,\n        1845, 1868, 1925, 2070, 2186, 2801]))"
     },
     "execution_count": 36,
     "metadata": {},
     "output_type": "execute_result"
    }
   ],
   "source": [
    "data_0.sort()\n",
    "len(data_0), data_0[1051800:1051828]"
   ],
   "metadata": {
    "collapsed": false
   }
  },
  {
   "cell_type": "markdown",
   "source": [
    "------------"
   ],
   "metadata": {
    "collapsed": false
   }
  },
  {
   "cell_type": "markdown",
   "source": [
    "### Let's try comparing the \"1\" and the \"0\" dataframes"
   ],
   "metadata": {
    "collapsed": false
   }
  },
  {
   "cell_type": "code",
   "execution_count": 38,
   "outputs": [
    {
     "data": {
      "text/plain": "        UserId  ItemId  Data_x  Data_y\n0            0      21       3       9\n1            0    1326       1       3\n2            0    1995       1       2\n3            0   14305       4      52\n4            2      20       1       4\n...        ...     ...     ...     ...\n160553   41616      25       1       2\n160554   41616    1837       1       3\n160555   41617      80       2       1\n160556   41624   14400       1       1\n160557   41624   21458       1       2\n\n[160558 rows x 4 columns]",
      "text/html": "<div>\n<style scoped>\n    .dataframe tbody tr th:only-of-type {\n        vertical-align: middle;\n    }\n\n    .dataframe tbody tr th {\n        vertical-align: top;\n    }\n\n    .dataframe thead th {\n        text-align: right;\n    }\n</style>\n<table border=\"1\" class=\"dataframe\">\n  <thead>\n    <tr style=\"text-align: right;\">\n      <th></th>\n      <th>UserId</th>\n      <th>ItemId</th>\n      <th>Data_x</th>\n      <th>Data_y</th>\n    </tr>\n  </thead>\n  <tbody>\n    <tr>\n      <th>0</th>\n      <td>0</td>\n      <td>21</td>\n      <td>3</td>\n      <td>9</td>\n    </tr>\n    <tr>\n      <th>1</th>\n      <td>0</td>\n      <td>1326</td>\n      <td>1</td>\n      <td>3</td>\n    </tr>\n    <tr>\n      <th>2</th>\n      <td>0</td>\n      <td>1995</td>\n      <td>1</td>\n      <td>2</td>\n    </tr>\n    <tr>\n      <th>3</th>\n      <td>0</td>\n      <td>14305</td>\n      <td>4</td>\n      <td>52</td>\n    </tr>\n    <tr>\n      <th>4</th>\n      <td>2</td>\n      <td>20</td>\n      <td>1</td>\n      <td>4</td>\n    </tr>\n    <tr>\n      <th>...</th>\n      <td>...</td>\n      <td>...</td>\n      <td>...</td>\n      <td>...</td>\n    </tr>\n    <tr>\n      <th>160553</th>\n      <td>41616</td>\n      <td>25</td>\n      <td>1</td>\n      <td>2</td>\n    </tr>\n    <tr>\n      <th>160554</th>\n      <td>41616</td>\n      <td>1837</td>\n      <td>1</td>\n      <td>3</td>\n    </tr>\n    <tr>\n      <th>160555</th>\n      <td>41617</td>\n      <td>80</td>\n      <td>2</td>\n      <td>1</td>\n    </tr>\n    <tr>\n      <th>160556</th>\n      <td>41624</td>\n      <td>14400</td>\n      <td>1</td>\n      <td>1</td>\n    </tr>\n    <tr>\n      <th>160557</th>\n      <td>41624</td>\n      <td>21458</td>\n      <td>1</td>\n      <td>2</td>\n    </tr>\n  </tbody>\n</table>\n<p>160558 rows × 4 columns</p>\n</div>"
     },
     "execution_count": 38,
     "metadata": {},
     "output_type": "execute_result"
    }
   ],
   "source": [
    "comparison_df = DF_0.merge(DF_1, on=[\"UserId\", \"ItemId\"])\n",
    "comparison_df"
   ],
   "metadata": {
    "collapsed": false
   }
  },
  {
   "cell_type": "code",
   "execution_count": 47,
   "outputs": [
    {
     "name": "stdout",
     "output_type": "stream",
     "text": [
      "The user-items that have at least a '0' and a '1' interaction are 160558\n",
      " So only 0.24203422228051052 of '1' interactions come from '0' interactions\n",
      "So only 0.15264663043767612 of '0' interactions are followed by '1' interactions\n"
     ]
    }
   ],
   "source": [
    "print(\"The user-items that have at least a '0' and a '1' interaction are {}\\n So only {} of '1' interactions come from '0' interactions\\nSo only {} of '0' interactions are followed by '1' interactions\"\n",
    "      .format(\n",
    "        len(comparison_df),\n",
    "        1 - ((len(DF_1)-len(comparison_df))/len(DF_1)),\n",
    "        1 - ((len(DF_0)-len(comparison_df))/len(DF_0))\n",
    "))"
   ],
   "metadata": {
    "collapsed": false
   }
  },
  {
   "cell_type": "code",
   "execution_count": 50,
   "outputs": [
    {
     "name": "stdout",
     "output_type": "stream",
     "text": [
      "On avarage, users that 'discover' an item looking at the details page than generate 7.714408500355012 '1' interactions\n",
      "On avarage, users that watch an item look at the details page 9.89844168462487 times\n"
     ]
    }
   ],
   "source": [
    "print(\"On average, users that 'discover' an item looking at the details page, then generate {} '1' interactions\"\n",
    "      .format(comparison_df.Data_x.mean())\n",
    "      )\n",
    "print(\"On avarage, users that watch an item look at the details page {} times\"\n",
    "      .format(comparison_df.Data_y.mean())\n",
    "      )"
   ],
   "metadata": {
    "collapsed": false
   }
  },
  {
   "cell_type": "markdown",
   "source": [
    "Both number are higher than the two computed previously.\n",
    "### Can we say these interactions are more significant?"
   ],
   "metadata": {
    "collapsed": false
   }
  }
 ],
 "metadata": {
  "kernelspec": {
   "display_name": "Python 3",
   "language": "python",
   "name": "python3"
  },
  "language_info": {
   "codemirror_mode": {
    "name": "ipython",
    "version": 2
   },
   "file_extension": ".py",
   "mimetype": "text/x-python",
   "name": "python",
   "nbconvert_exporter": "python",
   "pygments_lexer": "ipython2",
   "version": "2.7.6"
  }
 },
 "nbformat": 4,
 "nbformat_minor": 0
}
