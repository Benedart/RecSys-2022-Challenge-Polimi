{
 "cells": [
  {
   "cell_type": "code",
   "execution_count": 1,
   "id": "fa462224",
   "metadata": {
    "execution": {
     "iopub.execute_input": "2023-01-13T23:31:27.310147Z",
     "iopub.status.busy": "2023-01-13T23:31:27.309267Z",
     "iopub.status.idle": "2023-01-13T23:31:56.041127Z",
     "shell.execute_reply": "2023-01-13T23:31:56.039803Z"
    },
    "papermill": {
     "duration": 28.742607,
     "end_time": "2023-01-13T23:31:56.044244",
     "exception": false,
     "start_time": "2023-01-13T23:31:27.301637",
     "status": "completed"
    },
    "tags": []
   },
   "outputs": [
    {
     "name": "stdout",
     "output_type": "stream",
     "text": [
      "Cloning into 'RecSys-2022-Challenge-Polimi'...\r\n",
      "remote: Enumerating objects: 635, done.\u001b[K\r\n",
      "remote: Counting objects: 100% (20/20), done.\u001b[K\r\n",
      "remote: Compressing objects: 100% (15/15), done.\u001b[K\r\n",
      "remote: Total 635 (delta 9), reused 15 (delta 5), pack-reused 615\u001b[K\r\n",
      "Receiving objects: 100% (635/635), 1.06 GiB | 56.70 MiB/s, done.\r\n",
      "Resolving deltas: 100% (275/275), done.\r\n",
      "Updating files: 100% (205/205), done.\r\n"
     ]
    }
   ],
   "source": [
    "from kaggle_secrets import UserSecretsClient\n",
    "user_secrets = UserSecretsClient()\n",
    "token = user_secrets.get_secret(\"token\")\n",
    "\n",
    "!git clone https://{token}@github.com/Benedart/RecSys-2022-Challenge-Polimi.git"
   ]
  },
  {
   "cell_type": "code",
   "execution_count": 2,
   "id": "e1f6b14d",
   "metadata": {
    "execution": {
     "iopub.execute_input": "2023-01-13T23:31:56.063140Z",
     "iopub.status.busy": "2023-01-13T23:31:56.062656Z",
     "iopub.status.idle": "2023-01-13T23:32:20.885408Z",
     "shell.execute_reply": "2023-01-13T23:32:20.884000Z"
    },
    "papermill": {
     "duration": 24.835316,
     "end_time": "2023-01-13T23:32:20.888242",
     "exception": false,
     "start_time": "2023-01-13T23:31:56.052926",
     "status": "completed"
    },
    "tags": []
   },
   "outputs": [
    {
     "data": {
      "text/html": [
       "<div>\n",
       "<style scoped>\n",
       "    .dataframe tbody tr th:only-of-type {\n",
       "        vertical-align: middle;\n",
       "    }\n",
       "\n",
       "    .dataframe tbody tr th {\n",
       "        vertical-align: top;\n",
       "    }\n",
       "\n",
       "    .dataframe thead th {\n",
       "        text-align: right;\n",
       "    }\n",
       "</style>\n",
       "<table border=\"1\" class=\"dataframe\">\n",
       "  <thead>\n",
       "    <tr style=\"text-align: right;\">\n",
       "      <th></th>\n",
       "      <th>UserId</th>\n",
       "      <th>ItemId</th>\n",
       "      <th>ImpressionList</th>\n",
       "      <th>Data</th>\n",
       "    </tr>\n",
       "  </thead>\n",
       "  <tbody>\n",
       "    <tr>\n",
       "      <th>0</th>\n",
       "      <td>0</td>\n",
       "      <td>21</td>\n",
       "      <td>NaN</td>\n",
       "      <td>0</td>\n",
       "    </tr>\n",
       "    <tr>\n",
       "      <th>1</th>\n",
       "      <td>0</td>\n",
       "      <td>21</td>\n",
       "      <td>NaN</td>\n",
       "      <td>0</td>\n",
       "    </tr>\n",
       "    <tr>\n",
       "      <th>2</th>\n",
       "      <td>0</td>\n",
       "      <td>21</td>\n",
       "      <td>20,21,22,23,24,25,26,27,28,29</td>\n",
       "      <td>0</td>\n",
       "    </tr>\n",
       "    <tr>\n",
       "      <th>3</th>\n",
       "      <td>0</td>\n",
       "      <td>21</td>\n",
       "      <td>NaN</td>\n",
       "      <td>1</td>\n",
       "    </tr>\n",
       "    <tr>\n",
       "      <th>4</th>\n",
       "      <td>0</td>\n",
       "      <td>21</td>\n",
       "      <td>NaN</td>\n",
       "      <td>1</td>\n",
       "    </tr>\n",
       "    <tr>\n",
       "      <th>...</th>\n",
       "      <td>...</td>\n",
       "      <td>...</td>\n",
       "      <td>...</td>\n",
       "      <td>...</td>\n",
       "    </tr>\n",
       "    <tr>\n",
       "      <th>5826500</th>\n",
       "      <td>41628</td>\n",
       "      <td>20448</td>\n",
       "      <td>NaN</td>\n",
       "      <td>0</td>\n",
       "    </tr>\n",
       "    <tr>\n",
       "      <th>5826501</th>\n",
       "      <td>41628</td>\n",
       "      <td>20896</td>\n",
       "      <td>NaN</td>\n",
       "      <td>1</td>\n",
       "    </tr>\n",
       "    <tr>\n",
       "      <th>5826502</th>\n",
       "      <td>41628</td>\n",
       "      <td>21506</td>\n",
       "      <td>NaN</td>\n",
       "      <td>1</td>\n",
       "    </tr>\n",
       "    <tr>\n",
       "      <th>5826503</th>\n",
       "      <td>41628</td>\n",
       "      <td>22882</td>\n",
       "      <td>NaN</td>\n",
       "      <td>0</td>\n",
       "    </tr>\n",
       "    <tr>\n",
       "      <th>5826504</th>\n",
       "      <td>41628</td>\n",
       "      <td>23757</td>\n",
       "      <td>NaN</td>\n",
       "      <td>0</td>\n",
       "    </tr>\n",
       "  </tbody>\n",
       "</table>\n",
       "<p>5826505 rows × 4 columns</p>\n",
       "</div>"
      ],
      "text/plain": [
       "         UserId  ItemId                 ImpressionList  Data\n",
       "0             0      21                            NaN     0\n",
       "1             0      21                            NaN     0\n",
       "2             0      21  20,21,22,23,24,25,26,27,28,29     0\n",
       "3             0      21                            NaN     1\n",
       "4             0      21                            NaN     1\n",
       "...         ...     ...                            ...   ...\n",
       "5826500   41628   20448                            NaN     0\n",
       "5826501   41628   20896                            NaN     1\n",
       "5826502   41628   21506                            NaN     1\n",
       "5826503   41628   22882                            NaN     0\n",
       "5826504   41628   23757                            NaN     0\n",
       "\n",
       "[5826505 rows x 4 columns]"
      ]
     },
     "execution_count": 2,
     "metadata": {},
     "output_type": "execute_result"
    }
   ],
   "source": [
    "import pandas as pd\n",
    "\n",
    "path = \"/kaggle/input/recommender-system-2022-challenge-polimi/interactions_and_impressions.csv\"\n",
    "Interactions_and_Impressions = pd.read_csv(filepath_or_buffer=path,\n",
    "                               sep=\",\",\n",
    "                               header=1,\n",
    "                               engine='python',\n",
    "                               names=['UserId', 'ItemId', 'ImpressionList', 'Data'])\n",
    "\n",
    "\n",
    "content_type = pd.read_csv(\"/kaggle/input/recommender-system-2022-challenge-polimi/data_ICM_type.csv\")\n",
    "content_length = pd.read_csv(\"/kaggle/input/recommender-system-2022-challenge-polimi/data_ICM_length.csv\")\n",
    "\n",
    "ICM_all = pd.concat([content_type, content_length]).sort_values(by='item_id')\n",
    "\n",
    "Interactions_and_Impressions"
   ]
  },
  {
   "cell_type": "code",
   "execution_count": 3,
   "id": "6007a4c4",
   "metadata": {
    "execution": {
     "iopub.execute_input": "2023-01-13T23:32:20.910866Z",
     "iopub.status.busy": "2023-01-13T23:32:20.909759Z",
     "iopub.status.idle": "2023-01-13T23:32:21.591015Z",
     "shell.execute_reply": "2023-01-13T23:32:21.589709Z"
    },
    "papermill": {
     "duration": 0.69668,
     "end_time": "2023-01-13T23:32:21.593809",
     "exception": false,
     "start_time": "2023-01-13T23:32:20.897129",
     "status": "completed"
    },
    "tags": []
   },
   "outputs": [
    {
     "data": {
      "text/html": [
       "<div>\n",
       "<style scoped>\n",
       "    .dataframe tbody tr th:only-of-type {\n",
       "        vertical-align: middle;\n",
       "    }\n",
       "\n",
       "    .dataframe tbody tr th {\n",
       "        vertical-align: top;\n",
       "    }\n",
       "\n",
       "    .dataframe thead th {\n",
       "        text-align: right;\n",
       "    }\n",
       "</style>\n",
       "<table border=\"1\" class=\"dataframe\">\n",
       "  <thead>\n",
       "    <tr style=\"text-align: right;\">\n",
       "      <th></th>\n",
       "      <th>UserId</th>\n",
       "      <th>ItemId</th>\n",
       "    </tr>\n",
       "  </thead>\n",
       "  <tbody>\n",
       "    <tr>\n",
       "      <th>0</th>\n",
       "      <td>0</td>\n",
       "      <td>21</td>\n",
       "    </tr>\n",
       "    <tr>\n",
       "      <th>12</th>\n",
       "      <td>0</td>\n",
       "      <td>22</td>\n",
       "    </tr>\n",
       "    <tr>\n",
       "      <th>27</th>\n",
       "      <td>0</td>\n",
       "      <td>24</td>\n",
       "    </tr>\n",
       "    <tr>\n",
       "      <th>28</th>\n",
       "      <td>0</td>\n",
       "      <td>44</td>\n",
       "    </tr>\n",
       "    <tr>\n",
       "      <th>29</th>\n",
       "      <td>0</td>\n",
       "      <td>54</td>\n",
       "    </tr>\n",
       "    <tr>\n",
       "      <th>...</th>\n",
       "      <td>...</td>\n",
       "      <td>...</td>\n",
       "    </tr>\n",
       "    <tr>\n",
       "      <th>5826500</th>\n",
       "      <td>41628</td>\n",
       "      <td>20448</td>\n",
       "    </tr>\n",
       "    <tr>\n",
       "      <th>5826501</th>\n",
       "      <td>41628</td>\n",
       "      <td>20896</td>\n",
       "    </tr>\n",
       "    <tr>\n",
       "      <th>5826502</th>\n",
       "      <td>41628</td>\n",
       "      <td>21506</td>\n",
       "    </tr>\n",
       "    <tr>\n",
       "      <th>5826503</th>\n",
       "      <td>41628</td>\n",
       "      <td>22882</td>\n",
       "    </tr>\n",
       "    <tr>\n",
       "      <th>5826504</th>\n",
       "      <td>41628</td>\n",
       "      <td>23757</td>\n",
       "    </tr>\n",
       "  </tbody>\n",
       "</table>\n",
       "<p>1554639 rows × 2 columns</p>\n",
       "</div>"
      ],
      "text/plain": [
       "         UserId  ItemId\n",
       "0             0      21\n",
       "12            0      22\n",
       "27            0      24\n",
       "28            0      44\n",
       "29            0      54\n",
       "...         ...     ...\n",
       "5826500   41628   20448\n",
       "5826501   41628   20896\n",
       "5826502   41628   21506\n",
       "5826503   41628   22882\n",
       "5826504   41628   23757\n",
       "\n",
       "[1554639 rows x 2 columns]"
      ]
     },
     "execution_count": 3,
     "metadata": {},
     "output_type": "execute_result"
    }
   ],
   "source": [
    "Distinct_Interactions = Interactions_and_Impressions.copy(deep=True)\n",
    "Distinct_Interactions = Distinct_Interactions.drop([\"ImpressionList\", \"Data\"], axis=1)\n",
    "Distinct_Interactions = Distinct_Interactions.drop_duplicates()\n",
    "Distinct_Interactions"
   ]
  },
  {
   "cell_type": "code",
   "execution_count": 4,
   "id": "d3014273",
   "metadata": {
    "execution": {
     "iopub.execute_input": "2023-01-13T23:32:21.613930Z",
     "iopub.status.busy": "2023-01-13T23:32:21.613507Z",
     "iopub.status.idle": "2023-01-13T23:32:21.646577Z",
     "shell.execute_reply": "2023-01-13T23:32:21.645316Z"
    },
    "papermill": {
     "duration": 0.04679,
     "end_time": "2023-01-13T23:32:21.649391",
     "exception": false,
     "start_time": "2023-01-13T23:32:21.602601",
     "status": "completed"
    },
    "tags": []
   },
   "outputs": [],
   "source": [
    "mapped_id, original_id = pd.factorize(Distinct_Interactions[\"UserId\"].unique())\n",
    "user_original_Id_to_index = pd.Series(mapped_id, index=original_id)\n",
    "\n",
    "mapped_id, original_id = pd.factorize(Distinct_Interactions[\"ItemId\"].unique())\n",
    "item_original_Id_to_index = pd.Series(mapped_id, index=original_id)"
   ]
  },
  {
   "cell_type": "code",
   "execution_count": 5,
   "id": "02e814f4",
   "metadata": {
    "execution": {
     "iopub.execute_input": "2023-01-13T23:32:21.669248Z",
     "iopub.status.busy": "2023-01-13T23:32:21.668220Z",
     "iopub.status.idle": "2023-01-13T23:32:21.728500Z",
     "shell.execute_reply": "2023-01-13T23:32:21.727289Z"
    },
    "papermill": {
     "duration": 0.072796,
     "end_time": "2023-01-13T23:32:21.731016",
     "exception": false,
     "start_time": "2023-01-13T23:32:21.658220",
     "status": "completed"
    },
    "tags": []
   },
   "outputs": [
    {
     "data": {
      "text/html": [
       "<div>\n",
       "<style scoped>\n",
       "    .dataframe tbody tr th:only-of-type {\n",
       "        vertical-align: middle;\n",
       "    }\n",
       "\n",
       "    .dataframe tbody tr th {\n",
       "        vertical-align: top;\n",
       "    }\n",
       "\n",
       "    .dataframe thead th {\n",
       "        text-align: right;\n",
       "    }\n",
       "</style>\n",
       "<table border=\"1\" class=\"dataframe\">\n",
       "  <thead>\n",
       "    <tr style=\"text-align: right;\">\n",
       "      <th></th>\n",
       "      <th>UserId</th>\n",
       "      <th>ItemId</th>\n",
       "    </tr>\n",
       "  </thead>\n",
       "  <tbody>\n",
       "    <tr>\n",
       "      <th>0</th>\n",
       "      <td>0</td>\n",
       "      <td>0</td>\n",
       "    </tr>\n",
       "    <tr>\n",
       "      <th>12</th>\n",
       "      <td>0</td>\n",
       "      <td>1</td>\n",
       "    </tr>\n",
       "    <tr>\n",
       "      <th>27</th>\n",
       "      <td>0</td>\n",
       "      <td>2</td>\n",
       "    </tr>\n",
       "    <tr>\n",
       "      <th>28</th>\n",
       "      <td>0</td>\n",
       "      <td>3</td>\n",
       "    </tr>\n",
       "    <tr>\n",
       "      <th>29</th>\n",
       "      <td>0</td>\n",
       "      <td>4</td>\n",
       "    </tr>\n",
       "    <tr>\n",
       "      <th>...</th>\n",
       "      <td>...</td>\n",
       "      <td>...</td>\n",
       "    </tr>\n",
       "    <tr>\n",
       "      <th>5826500</th>\n",
       "      <td>41628</td>\n",
       "      <td>3699</td>\n",
       "    </tr>\n",
       "    <tr>\n",
       "      <th>5826501</th>\n",
       "      <td>41628</td>\n",
       "      <td>12693</td>\n",
       "    </tr>\n",
       "    <tr>\n",
       "      <th>5826502</th>\n",
       "      <td>41628</td>\n",
       "      <td>15131</td>\n",
       "    </tr>\n",
       "    <tr>\n",
       "      <th>5826503</th>\n",
       "      <td>41628</td>\n",
       "      <td>18127</td>\n",
       "    </tr>\n",
       "    <tr>\n",
       "      <th>5826504</th>\n",
       "      <td>41628</td>\n",
       "      <td>14572</td>\n",
       "    </tr>\n",
       "  </tbody>\n",
       "</table>\n",
       "<p>1554639 rows × 2 columns</p>\n",
       "</div>"
      ],
      "text/plain": [
       "         UserId  ItemId\n",
       "0             0       0\n",
       "12            0       1\n",
       "27            0       2\n",
       "28            0       3\n",
       "29            0       4\n",
       "...         ...     ...\n",
       "5826500   41628    3699\n",
       "5826501   41628   12693\n",
       "5826502   41628   15131\n",
       "5826503   41628   18127\n",
       "5826504   41628   14572\n",
       "\n",
       "[1554639 rows x 2 columns]"
      ]
     },
     "execution_count": 5,
     "metadata": {},
     "output_type": "execute_result"
    }
   ],
   "source": [
    "Distinct_Interactions[\"UserId\"] = Distinct_Interactions[\"UserId\"].map(user_original_Id_to_index)\n",
    "Distinct_Interactions[\"ItemId\"] = Distinct_Interactions[\"ItemId\"].map(item_original_Id_to_index)\n",
    "Distinct_Interactions"
   ]
  },
  {
   "cell_type": "code",
   "execution_count": 6,
   "id": "53993e03",
   "metadata": {
    "execution": {
     "iopub.execute_input": "2023-01-13T23:32:21.750724Z",
     "iopub.status.busy": "2023-01-13T23:32:21.750291Z",
     "iopub.status.idle": "2023-01-13T23:32:21.764534Z",
     "shell.execute_reply": "2023-01-13T23:32:21.763370Z"
    },
    "papermill": {
     "duration": 0.027067,
     "end_time": "2023-01-13T23:32:21.767111",
     "exception": false,
     "start_time": "2023-01-13T23:32:21.740044",
     "status": "completed"
    },
    "tags": []
   },
   "outputs": [
    {
     "data": {
      "text/html": [
       "<div>\n",
       "<style scoped>\n",
       "    .dataframe tbody tr th:only-of-type {\n",
       "        vertical-align: middle;\n",
       "    }\n",
       "\n",
       "    .dataframe tbody tr th {\n",
       "        vertical-align: top;\n",
       "    }\n",
       "\n",
       "    .dataframe thead th {\n",
       "        text-align: right;\n",
       "    }\n",
       "</style>\n",
       "<table border=\"1\" class=\"dataframe\">\n",
       "  <thead>\n",
       "    <tr style=\"text-align: right;\">\n",
       "      <th></th>\n",
       "      <th>UserId</th>\n",
       "      <th>ItemId</th>\n",
       "      <th>Rating</th>\n",
       "    </tr>\n",
       "  </thead>\n",
       "  <tbody>\n",
       "    <tr>\n",
       "      <th>0</th>\n",
       "      <td>0</td>\n",
       "      <td>0</td>\n",
       "      <td>1</td>\n",
       "    </tr>\n",
       "    <tr>\n",
       "      <th>12</th>\n",
       "      <td>0</td>\n",
       "      <td>1</td>\n",
       "      <td>1</td>\n",
       "    </tr>\n",
       "    <tr>\n",
       "      <th>27</th>\n",
       "      <td>0</td>\n",
       "      <td>2</td>\n",
       "      <td>1</td>\n",
       "    </tr>\n",
       "    <tr>\n",
       "      <th>28</th>\n",
       "      <td>0</td>\n",
       "      <td>3</td>\n",
       "      <td>1</td>\n",
       "    </tr>\n",
       "    <tr>\n",
       "      <th>29</th>\n",
       "      <td>0</td>\n",
       "      <td>4</td>\n",
       "      <td>1</td>\n",
       "    </tr>\n",
       "    <tr>\n",
       "      <th>...</th>\n",
       "      <td>...</td>\n",
       "      <td>...</td>\n",
       "      <td>...</td>\n",
       "    </tr>\n",
       "    <tr>\n",
       "      <th>5826500</th>\n",
       "      <td>41628</td>\n",
       "      <td>3699</td>\n",
       "      <td>1</td>\n",
       "    </tr>\n",
       "    <tr>\n",
       "      <th>5826501</th>\n",
       "      <td>41628</td>\n",
       "      <td>12693</td>\n",
       "      <td>1</td>\n",
       "    </tr>\n",
       "    <tr>\n",
       "      <th>5826502</th>\n",
       "      <td>41628</td>\n",
       "      <td>15131</td>\n",
       "      <td>1</td>\n",
       "    </tr>\n",
       "    <tr>\n",
       "      <th>5826503</th>\n",
       "      <td>41628</td>\n",
       "      <td>18127</td>\n",
       "      <td>1</td>\n",
       "    </tr>\n",
       "    <tr>\n",
       "      <th>5826504</th>\n",
       "      <td>41628</td>\n",
       "      <td>14572</td>\n",
       "      <td>1</td>\n",
       "    </tr>\n",
       "  </tbody>\n",
       "</table>\n",
       "<p>1554639 rows × 3 columns</p>\n",
       "</div>"
      ],
      "text/plain": [
       "         UserId  ItemId  Rating\n",
       "0             0       0       1\n",
       "12            0       1       1\n",
       "27            0       2       1\n",
       "28            0       3       1\n",
       "29            0       4       1\n",
       "...         ...     ...     ...\n",
       "5826500   41628    3699       1\n",
       "5826501   41628   12693       1\n",
       "5826502   41628   15131       1\n",
       "5826503   41628   18127       1\n",
       "5826504   41628   14572       1\n",
       "\n",
       "[1554639 rows x 3 columns]"
      ]
     },
     "execution_count": 6,
     "metadata": {},
     "output_type": "execute_result"
    }
   ],
   "source": [
    "Distinct_Interactions[\"Rating\"]=1\n",
    "Distinct_Interactions"
   ]
  },
  {
   "cell_type": "code",
   "execution_count": 7,
   "id": "0adaa414",
   "metadata": {
    "execution": {
     "iopub.execute_input": "2023-01-13T23:32:21.787768Z",
     "iopub.status.busy": "2023-01-13T23:32:21.787354Z",
     "iopub.status.idle": "2023-01-13T23:32:21.825384Z",
     "shell.execute_reply": "2023-01-13T23:32:21.824102Z"
    },
    "papermill": {
     "duration": 0.05165,
     "end_time": "2023-01-13T23:32:21.828219",
     "exception": false,
     "start_time": "2023-01-13T23:32:21.776569",
     "status": "completed"
    },
    "tags": []
   },
   "outputs": [],
   "source": [
    "userId_unique = Distinct_Interactions[\"UserId\"].unique()\n",
    "itemId_unique = Distinct_Interactions[\"ItemId\"].unique()"
   ]
  },
  {
   "cell_type": "code",
   "execution_count": 8,
   "id": "c67736a2",
   "metadata": {
    "execution": {
     "iopub.execute_input": "2023-01-13T23:32:21.850104Z",
     "iopub.status.busy": "2023-01-13T23:32:21.849559Z",
     "iopub.status.idle": "2023-01-13T23:32:23.566750Z",
     "shell.execute_reply": "2023-01-13T23:32:23.565195Z"
    },
    "papermill": {
     "duration": 1.73095,
     "end_time": "2023-01-13T23:32:23.569747",
     "exception": false,
     "start_time": "2023-01-13T23:32:21.838797",
     "status": "completed"
    },
    "tags": []
   },
   "outputs": [],
   "source": [
    "from sklearn.model_selection import train_test_split\n",
    "import numpy as np\n",
    "\n",
    "seed = 42\n",
    "\n",
    "\n",
    "(user_ids_training_validation, user_ids_test,\n",
    " item_ids_training_validation, item_ids_test,\n",
    " ratings_training_validation, ratings_test) = train_test_split(Distinct_Interactions.UserId,\n",
    "                                                               Distinct_Interactions.ItemId,\n",
    "                                                               Distinct_Interactions.Rating,\n",
    "                                                               test_size=0.15,\n",
    "                                                               shuffle=True,\n",
    "                                                               random_state=seed)\n",
    "\n",
    "(user_ids_training, user_ids_validation,\n",
    " item_ids_training, item_ids_validation,\n",
    " ratings_training, ratings_validation) = train_test_split(user_ids_training_validation,\n",
    "                                                          item_ids_training_validation,\n",
    "                                                          ratings_training_validation,\n",
    "                                                          test_size=0.15,\n",
    "                                                          shuffle=True,\n",
    "                                                          random_state=seed)"
   ]
  },
  {
   "cell_type": "code",
   "execution_count": 9,
   "id": "055f6397",
   "metadata": {
    "execution": {
     "iopub.execute_input": "2023-01-13T23:32:23.592354Z",
     "iopub.status.busy": "2023-01-13T23:32:23.591890Z",
     "iopub.status.idle": "2023-01-13T23:32:23.597435Z",
     "shell.execute_reply": "2023-01-13T23:32:23.596059Z"
    },
    "papermill": {
     "duration": 0.020022,
     "end_time": "2023-01-13T23:32:23.599856",
     "exception": false,
     "start_time": "2023-01-13T23:32:23.579834",
     "status": "completed"
    },
    "tags": []
   },
   "outputs": [],
   "source": [
    "num_users = len(userId_unique)\n",
    "num_items = len(itemId_unique)"
   ]
  },
  {
   "cell_type": "code",
   "execution_count": 10,
   "id": "d195b098",
   "metadata": {
    "execution": {
     "iopub.execute_input": "2023-01-13T23:32:23.621239Z",
     "iopub.status.busy": "2023-01-13T23:32:23.620369Z",
     "iopub.status.idle": "2023-01-13T23:32:23.952844Z",
     "shell.execute_reply": "2023-01-13T23:32:23.951769Z"
    },
    "papermill": {
     "duration": 0.346197,
     "end_time": "2023-01-13T23:32:23.955533",
     "exception": false,
     "start_time": "2023-01-13T23:32:23.609336",
     "status": "completed"
    },
    "tags": []
   },
   "outputs": [
    {
     "data": {
      "text/plain": [
       "(<41629x24507 sparse matrix of type '<class 'numpy.int64'>'\n",
       " \twith 1554639 stored elements in Compressed Sparse Row format>,\n",
       " <41629x24507 sparse matrix of type '<class 'numpy.int64'>'\n",
       " \twith 1123226 stored elements in Compressed Sparse Row format>,\n",
       " <41629x24507 sparse matrix of type '<class 'numpy.int64'>'\n",
       " \twith 233196 stored elements in Compressed Sparse Row format>,\n",
       " <41629x24507 sparse matrix of type '<class 'numpy.int64'>'\n",
       " \twith 198217 stored elements in Compressed Sparse Row format>,\n",
       " <41629x24507 sparse matrix of type '<class 'numpy.int64'>'\n",
       " \twith 1321443 stored elements in Compressed Sparse Row format>)"
      ]
     },
     "execution_count": 10,
     "metadata": {},
     "output_type": "execute_result"
    }
   ],
   "source": [
    "import scipy.sparse as sps\n",
    "\n",
    "urm_all = sps.csr_matrix((Distinct_Interactions.Rating, (Distinct_Interactions.UserId, Distinct_Interactions.ItemId)),\n",
    "                         shape = (num_users, num_items))\n",
    "\n",
    "urm_train = sps.csr_matrix((ratings_training, (user_ids_training, item_ids_training)),\n",
    "                           shape = (num_users, num_items))\n",
    "\n",
    "urm_validation = sps.csr_matrix((ratings_validation, (user_ids_validation, item_ids_validation)),\n",
    "                                shape = (num_users, num_items))\n",
    "\n",
    "urm_train_validation = sps.csr_matrix((ratings_training_validation, (user_ids_training_validation, item_ids_training_validation)),\n",
    "                                      shape = (num_users, num_items))\n",
    "\n",
    "urm_test = sps.csr_matrix((ratings_test, (user_ids_test, item_ids_test)),\n",
    "                          shape = (num_users, num_items))\n",
    "\n",
    "urm_all, urm_train, urm_test, urm_validation, urm_train_validation"
   ]
  },
  {
   "cell_type": "code",
   "execution_count": 11,
   "id": "a5eca158",
   "metadata": {
    "execution": {
     "iopub.execute_input": "2023-01-13T23:32:23.976388Z",
     "iopub.status.busy": "2023-01-13T23:32:23.975961Z",
     "iopub.status.idle": "2023-01-13T23:32:23.981014Z",
     "shell.execute_reply": "2023-01-13T23:32:23.979726Z"
    },
    "papermill": {
     "duration": 0.018219,
     "end_time": "2023-01-13T23:32:23.983458",
     "exception": false,
     "start_time": "2023-01-13T23:32:23.965239",
     "status": "completed"
    },
    "tags": []
   },
   "outputs": [],
   "source": [
    "import os\n",
    "os.chdir( \"./RecSys-2022-Challenge-Polimi\")"
   ]
  },
  {
   "cell_type": "code",
   "execution_count": 12,
   "id": "6f12f62b",
   "metadata": {
    "execution": {
     "iopub.execute_input": "2023-01-13T23:32:24.004792Z",
     "iopub.status.busy": "2023-01-13T23:32:24.004003Z",
     "iopub.status.idle": "2023-01-13T23:32:30.128567Z",
     "shell.execute_reply": "2023-01-13T23:32:30.126914Z"
    },
    "papermill": {
     "duration": 6.138328,
     "end_time": "2023-01-13T23:32:30.131322",
     "exception": false,
     "start_time": "2023-01-13T23:32:23.992994",
     "status": "completed"
    },
    "tags": []
   },
   "outputs": [
    {
     "name": "stdout",
     "output_type": "stream",
     "text": [
      "EvaluatorHoldout: Ignoring 1549 ( 3.7%) Users that have less than 1 test interactions\n",
      "EvaluatorHoldout: Ignoring 0 Users\n"
     ]
    }
   ],
   "source": [
    "from Recommenders.Recommender_import_list import *\n",
    "from Evaluation.Evaluator import EvaluatorHoldout\n",
    "evaluator_validation = EvaluatorHoldout(urm_validation, cutoff_list=[10], ignore_users=[])"
   ]
  },
  {
   "cell_type": "markdown",
   "id": "2cf8b920",
   "metadata": {
    "execution": {
     "iopub.execute_input": "2022-12-29T17:17:34.5603Z",
     "iopub.status.busy": "2022-12-29T17:17:34.559836Z",
     "iopub.status.idle": "2022-12-29T17:17:34.565723Z",
     "shell.execute_reply": "2022-12-29T17:17:34.564633Z",
     "shell.execute_reply.started": "2022-12-29T17:17:34.560267Z"
    },
    "papermill": {
     "duration": 0.009276,
     "end_time": "2023-01-13T23:32:30.150532",
     "exception": false,
     "start_time": "2023-01-13T23:32:30.141256",
     "status": "completed"
    },
    "tags": []
   },
   "source": [
    "## Insert model here"
   ]
  },
  {
   "cell_type": "code",
   "execution_count": 13,
   "id": "7986d6ef",
   "metadata": {
    "execution": {
     "iopub.execute_input": "2023-01-13T23:32:30.172147Z",
     "iopub.status.busy": "2023-01-13T23:32:30.171384Z",
     "iopub.status.idle": "2023-01-13T23:32:30.177196Z",
     "shell.execute_reply": "2023-01-13T23:32:30.175926Z"
    },
    "papermill": {
     "duration": 0.01951,
     "end_time": "2023-01-13T23:32:30.179676",
     "exception": false,
     "start_time": "2023-01-13T23:32:30.160166",
     "status": "completed"
    },
    "tags": []
   },
   "outputs": [],
   "source": [
    "model = SLIMElasticNetRecommender"
   ]
  },
  {
   "cell_type": "code",
   "execution_count": 14,
   "id": "ced51cc9",
   "metadata": {
    "execution": {
     "iopub.execute_input": "2023-01-13T23:32:30.201573Z",
     "iopub.status.busy": "2023-01-13T23:32:30.201045Z",
     "iopub.status.idle": "2023-01-13T23:32:30.484063Z",
     "shell.execute_reply": "2023-01-13T23:32:30.482481Z"
    },
    "papermill": {
     "duration": 0.297483,
     "end_time": "2023-01-13T23:32:30.487197",
     "exception": false,
     "start_time": "2023-01-13T23:32:30.189714",
     "status": "completed"
    },
    "tags": []
   },
   "outputs": [],
   "source": [
    "import optuna as op\n",
    "\n",
    "def objective(trial):\n",
    "    topK = trial.suggest_int(\"topK\", 3e3, 1e4)\n",
    "    l1 = trial.suggest_float(\"l1_ratio\", 0.01, 0.1)\n",
    "    alpha = trial.suggest_float(\"alpha\", 5e-4, 0.005)\n",
    "\n",
    "    \n",
    "    recommender = model(urm_train)\n",
    "    recommender.fit(**trial.params)\n",
    "    \n",
    "    result, _ = evaluator_validation.evaluateRecommender(recommender)\n",
    "    MAP_result = result[\"MAP\"].item()\n",
    "       \n",
    "    return MAP_result"
   ]
  },
  {
   "cell_type": "code",
   "execution_count": 15,
   "id": "1c29515a",
   "metadata": {
    "execution": {
     "iopub.execute_input": "2023-01-13T23:32:30.509030Z",
     "iopub.status.busy": "2023-01-13T23:32:30.508590Z",
     "iopub.status.idle": "2023-01-14T10:12:28.268056Z",
     "shell.execute_reply": "2023-01-14T10:12:28.266491Z"
    },
    "papermill": {
     "duration": 38397.783761,
     "end_time": "2023-01-14T10:12:28.280903",
     "exception": false,
     "start_time": "2023-01-13T23:32:30.497142",
     "status": "completed"
    },
    "tags": []
   },
   "outputs": [
    {
     "name": "stderr",
     "output_type": "stream",
     "text": [
      "\u001b[32m[I 2023-01-13 23:32:30,511]\u001b[0m A new study created in memory with name: no-name-8fa881b2-5701-4ae0-b54a-8aa26b4a9f8c\u001b[0m\n"
     ]
    },
    {
     "name": "stdout",
     "output_type": "stream",
     "text": [
      "SLIMElasticNetRecommender: Processed 4169 (17.0%) in 5.00 min. Items per second: 13.89\n",
      "SLIMElasticNetRecommender: Processed 8734 (35.6%) in 10.00 min. Items per second: 14.55\n",
      "SLIMElasticNetRecommender: Processed 13477 (55.0%) in 15.00 min. Items per second: 14.97\n",
      "SLIMElasticNetRecommender: Processed 18354 (74.9%) in 20.00 min. Items per second: 15.29\n",
      "SLIMElasticNetRecommender: Processed 23414 (95.5%) in 25.00 min. Items per second: 15.61\n",
      "SLIMElasticNetRecommender: Processed 24507 (100.0%) in 26.04 min. Items per second: 15.69\n",
      "EvaluatorHoldout: Processed 40080 (100.0%) in 44.66 sec. Users per second: 897\n"
     ]
    },
    {
     "name": "stderr",
     "output_type": "stream",
     "text": [
      "\u001b[32m[I 2023-01-13 23:59:17,435]\u001b[0m Trial 0 finished with value: 0.019956682864429493 and parameters: {'topK': 6468, 'l1_ratio': 0.03534306561986866, 'alpha': 0.001}. Best is trial 0 with value: 0.019956682864429493.\u001b[0m\n"
     ]
    },
    {
     "name": "stdout",
     "output_type": "stream",
     "text": [
      "SLIMElasticNetRecommender: Processed 8440 (34.4%) in 5.00 min. Items per second: 28.13\n",
      "SLIMElasticNetRecommender: Processed 22010 (89.8%) in 10.00 min. Items per second: 36.68\n",
      "SLIMElasticNetRecommender: Processed 24507 (100.0%) in 10.70 min. Items per second: 38.16\n",
      "EvaluatorHoldout: Processed 40080 (100.0%) in 32.63 sec. Users per second: 1228\n"
     ]
    },
    {
     "name": "stderr",
     "output_type": "stream",
     "text": [
      "\u001b[32m[I 2023-01-14 00:10:32,371]\u001b[0m Trial 1 finished with value: 0.019284805389221196 and parameters: {'topK': 6939, 'l1_ratio': 0.07087257428388977, 'alpha': 0.0021548096392657694}. Best is trial 0 with value: 0.019956682864429493.\u001b[0m\n"
     ]
    },
    {
     "name": "stdout",
     "output_type": "stream",
     "text": [
      "SLIMElasticNetRecommender: Processed 4828 (19.7%) in 5.00 min. Items per second: 16.09\n",
      "SLIMElasticNetRecommender: Processed 10313 (42.1%) in 10.00 min. Items per second: 17.18\n",
      "SLIMElasticNetRecommender: Processed 16225 (66.2%) in 15.00 min. Items per second: 18.02\n",
      "SLIMElasticNetRecommender: Processed 22683 (92.6%) in 20.00 min. Items per second: 18.90\n",
      "SLIMElasticNetRecommender: Processed 24507 (100.0%) in 21.29 min. Items per second: 19.19\n",
      "EvaluatorHoldout: Processed 40080 (100.0%) in 40.21 sec. Users per second: 997\n"
     ]
    },
    {
     "name": "stderr",
     "output_type": "stream",
     "text": [
      "\u001b[32m[I 2023-01-14 00:32:29,999]\u001b[0m Trial 2 finished with value: 0.019881391977948474 and parameters: {'topK': 3341, 'l1_ratio': 0.06520998477787093, 'alpha': 0.0009416141730680571}. Best is trial 0 with value: 0.019956682864429493.\u001b[0m\n"
     ]
    },
    {
     "name": "stdout",
     "output_type": "stream",
     "text": [
      "SLIMElasticNetRecommender: Processed 3727 (15.2%) in 5.00 min. Items per second: 12.42\n",
      "SLIMElasticNetRecommender: Processed 7603 (31.0%) in 10.00 min. Items per second: 12.67\n",
      "SLIMElasticNetRecommender: Processed 11628 (47.4%) in 15.00 min. Items per second: 12.92\n",
      "SLIMElasticNetRecommender: Processed 15692 (64.0%) in 20.00 min. Items per second: 13.07\n",
      "SLIMElasticNetRecommender: Processed 19816 (80.9%) in 25.00 min. Items per second: 13.21\n",
      "SLIMElasticNetRecommender: Processed 23858 (97.4%) in 30.00 min. Items per second: 13.25\n",
      "SLIMElasticNetRecommender: Processed 24507 (100.0%) in 30.80 min. Items per second: 13.26\n",
      "EvaluatorHoldout: Processed 40080 (100.0%) in 51.20 sec. Users per second: 783\n"
     ]
    },
    {
     "name": "stderr",
     "output_type": "stream",
     "text": [
      "\u001b[32m[I 2023-01-14 01:04:09,545]\u001b[0m Trial 3 finished with value: 0.019917450812659977 and parameters: {'topK': 6483, 'l1_ratio': 0.012658527259653246, 'alpha': 0.001260888936336987}. Best is trial 0 with value: 0.019956682864429493.\u001b[0m\n"
     ]
    },
    {
     "name": "stdout",
     "output_type": "stream",
     "text": [
      "SLIMElasticNetRecommender: Processed 11728 (47.9%) in 5.00 min. Items per second: 39.09\n",
      "SLIMElasticNetRecommender: Processed 24507 (100.0%) in 8.52 min. Items per second: 47.92\n",
      "EvaluatorHoldout: Processed 40080 (100.0%) in 29.97 sec. Users per second: 1337\n"
     ]
    },
    {
     "name": "stderr",
     "output_type": "stream",
     "text": [
      "\u001b[32m[I 2023-01-14 01:13:11,031]\u001b[0m Trial 4 finished with value: 0.018500193066248175 and parameters: {'topK': 5689, 'l1_ratio': 0.06043071419860327, 'alpha': 0.004523445701883164}. Best is trial 0 with value: 0.019956682864429493.\u001b[0m\n"
     ]
    },
    {
     "name": "stdout",
     "output_type": "stream",
     "text": [
      "SLIMElasticNetRecommender: Processed 7941 (32.4%) in 5.00 min. Items per second: 26.47\n",
      "SLIMElasticNetRecommender: Processed 19578 (79.9%) in 10.00 min. Items per second: 32.63\n",
      "SLIMElasticNetRecommender: Processed 24507 (100.0%) in 11.59 min. Items per second: 35.22\n",
      "EvaluatorHoldout: Processed 40080 (100.0%) in 33.50 sec. Users per second: 1197\n"
     ]
    },
    {
     "name": "stderr",
     "output_type": "stream",
     "text": [
      "\u001b[32m[I 2023-01-14 01:25:20,304]\u001b[0m Trial 5 finished with value: 0.019451629479136565 and parameters: {'topK': 3595, 'l1_ratio': 0.07981564496616496, 'alpha': 0.0016575627690116476}. Best is trial 0 with value: 0.019956682864429493.\u001b[0m\n"
     ]
    },
    {
     "name": "stdout",
     "output_type": "stream",
     "text": [
      "SLIMElasticNetRecommender: Processed 5924 (24.2%) in 5.00 min. Items per second: 19.74\n",
      "SLIMElasticNetRecommender: Processed 13475 (55.0%) in 10.00 min. Items per second: 22.45\n",
      "SLIMElasticNetRecommender: Processed 22269 (90.9%) in 15.00 min. Items per second: 24.74\n",
      "SLIMElasticNetRecommender: Processed 24507 (100.0%) in 16.09 min. Items per second: 25.39\n",
      "EvaluatorHoldout: Processed 40080 (100.0%) in 36.95 sec. Users per second: 1085\n"
     ]
    },
    {
     "name": "stderr",
     "output_type": "stream",
     "text": [
      "\u001b[32m[I 2023-01-14 01:42:02,526]\u001b[0m Trial 6 finished with value: 0.019722317270221012 and parameters: {'topK': 7913, 'l1_ratio': 0.059359573376691586, 'alpha': 0.0014953279739585213}. Best is trial 0 with value: 0.019956682864429493.\u001b[0m\n"
     ]
    },
    {
     "name": "stdout",
     "output_type": "stream",
     "text": [
      "SLIMElasticNetRecommender: Processed 7146 (29.2%) in 5.00 min. Items per second: 23.81\n",
      "SLIMElasticNetRecommender: Processed 16930 (69.1%) in 10.00 min. Items per second: 28.21\n",
      "SLIMElasticNetRecommender: Processed 24507 (100.0%) in 13.08 min. Items per second: 31.24\n",
      "EvaluatorHoldout: Processed 40080 (100.0%) in 35.47 sec. Users per second: 1130\n"
     ]
    },
    {
     "name": "stderr",
     "output_type": "stream",
     "text": [
      "\u001b[32m[I 2023-01-14 01:55:42,599]\u001b[0m Trial 7 finished with value: 0.019263688892056784 and parameters: {'topK': 8182, 'l1_ratio': 0.026460064213027545, 'alpha': 0.004241830105810854}. Best is trial 0 with value: 0.019956682864429493.\u001b[0m\n"
     ]
    },
    {
     "name": "stdout",
     "output_type": "stream",
     "text": [
      "SLIMElasticNetRecommender: Processed 10216 (41.7%) in 5.00 min. Items per second: 34.05\n",
      "SLIMElasticNetRecommender: Processed 24507 (100.0%) in 9.41 min. Items per second: 43.40\n",
      "EvaluatorHoldout: Processed 40080 (100.0%) in 31.47 sec. Users per second: 1273\n"
     ]
    },
    {
     "name": "stderr",
     "output_type": "stream",
     "text": [
      "\u001b[32m[I 2023-01-14 02:05:38,837]\u001b[0m Trial 8 finished with value: 0.018853812216835863 and parameters: {'topK': 3608, 'l1_ratio': 0.056255693465119744, 'alpha': 0.0037160365049667857}. Best is trial 0 with value: 0.019956682864429493.\u001b[0m\n"
     ]
    },
    {
     "name": "stdout",
     "output_type": "stream",
     "text": [
      "SLIMElasticNetRecommender: Processed 8248 (33.7%) in 5.00 min. Items per second: 27.49\n",
      "SLIMElasticNetRecommender: Processed 21317 (87.0%) in 10.00 min. Items per second: 35.53\n",
      "SLIMElasticNetRecommender: Processed 24507 (100.0%) in 10.93 min. Items per second: 37.37\n",
      "EvaluatorHoldout: Processed 40080 (100.0%) in 33.41 sec. Users per second: 1200\n"
     ]
    },
    {
     "name": "stderr",
     "output_type": "stream",
     "text": [
      "\u001b[32m[I 2023-01-14 02:17:08,122]\u001b[0m Trial 9 finished with value: 0.019081262079016188 and parameters: {'topK': 7674, 'l1_ratio': 0.03694343433846754, 'alpha': 0.004071124110511348}. Best is trial 0 with value: 0.019956682864429493.\u001b[0m\n"
     ]
    },
    {
     "name": "stdout",
     "output_type": "stream",
     "text": [
      "SLIMElasticNetRecommender: Processed 11106 (45.3%) in 5.00 min. Items per second: 37.02\n",
      "SLIMElasticNetRecommender: Processed 24507 (100.0%) in 8.77 min. Items per second: 46.57\n",
      "EvaluatorHoldout: Processed 40080 (100.0%) in 31.09 sec. Users per second: 1289\n"
     ]
    },
    {
     "name": "stderr",
     "output_type": "stream",
     "text": [
      "\u001b[32m[I 2023-01-14 02:26:25,551]\u001b[0m Trial 10 finished with value: 0.01868224463770841 and parameters: {'topK': 5203, 'l1_ratio': 0.09174358312809387, 'alpha': 0.002933231847380503}. Best is trial 0 with value: 0.019956682864429493.\u001b[0m\n"
     ]
    },
    {
     "name": "stdout",
     "output_type": "stream",
     "text": [
      "SLIMElasticNetRecommender: Processed 3322 (13.6%) in 5.00 min. Items per second: 11.07\n",
      "SLIMElasticNetRecommender: Processed 6833 (27.9%) in 10.00 min. Items per second: 11.38\n",
      "SLIMElasticNetRecommender: Processed 10443 (42.6%) in 15.00 min. Items per second: 11.60\n",
      "SLIMElasticNetRecommender: Processed 14059 (57.4%) in 20.01 min. Items per second: 11.71\n",
      "SLIMElasticNetRecommender: Processed 17749 (72.4%) in 25.01 min. Items per second: 11.83\n",
      "SLIMElasticNetRecommender: Processed 21434 (87.5%) in 30.01 min. Items per second: 11.90\n",
      "SLIMElasticNetRecommender: Processed 24507 (100.0%) in 34.07 min. Items per second: 11.99\n",
      "EvaluatorHoldout: Processed 40080 (100.0%) in 50.08 sec. Users per second: 800\n"
     ]
    },
    {
     "name": "stderr",
     "output_type": "stream",
     "text": [
      "\u001b[32m[I 2023-01-14 03:01:21,556]\u001b[0m Trial 11 finished with value: 0.0193920838877796 and parameters: {'topK': 9252, 'l1_ratio': 0.01333399686770853, 'alpha': 0.0005334622199483198}. Best is trial 0 with value: 0.019956682864429493.\u001b[0m\n"
     ]
    },
    {
     "name": "stdout",
     "output_type": "stream",
     "text": [
      "SLIMElasticNetRecommender: Processed 5539 (22.6%) in 5.00 min. Items per second: 18.46\n",
      "SLIMElasticNetRecommender: Processed 12552 (51.2%) in 10.00 min. Items per second: 20.92\n",
      "SLIMElasticNetRecommender: Processed 20719 (84.5%) in 15.00 min. Items per second: 23.02\n",
      "SLIMElasticNetRecommender: Processed 24507 (100.0%) in 16.93 min. Items per second: 24.12\n",
      "EvaluatorHoldout: Processed 40080 (100.0%) in 38.26 sec. Users per second: 1048\n"
     ]
    },
    {
     "name": "stderr",
     "output_type": "stream",
     "text": [
      "\u001b[32m[I 2023-01-14 03:18:55,910]\u001b[0m Trial 12 finished with value: 0.01959687074264131 and parameters: {'topK': 5866, 'l1_ratio': 0.03786526957792341, 'alpha': 0.00236065015828368}. Best is trial 0 with value: 0.019956682864429493.\u001b[0m\n"
     ]
    },
    {
     "name": "stdout",
     "output_type": "stream",
     "text": [
      "SLIMElasticNetRecommender: Processed 3295 (13.4%) in 5.00 min. Items per second: 10.98\n",
      "SLIMElasticNetRecommender: Processed 6844 (27.9%) in 10.00 min. Items per second: 11.40\n",
      "SLIMElasticNetRecommender: Processed 10457 (42.7%) in 15.00 min. Items per second: 11.62\n",
      "SLIMElasticNetRecommender: Processed 14090 (57.5%) in 20.00 min. Items per second: 11.74\n",
      "SLIMElasticNetRecommender: Processed 17783 (72.6%) in 25.00 min. Items per second: 11.85\n",
      "SLIMElasticNetRecommender: Processed 21477 (87.6%) in 30.01 min. Items per second: 11.93\n",
      "SLIMElasticNetRecommender: Processed 24507 (100.0%) in 34.03 min. Items per second: 12.00\n",
      "EvaluatorHoldout: Processed 40080 (100.0%) in 52.10 sec. Users per second: 769\n"
     ]
    },
    {
     "name": "stderr",
     "output_type": "stream",
     "text": [
      "\u001b[32m[I 2023-01-14 03:53:50,799]\u001b[0m Trial 13 finished with value: 0.01980124077242299 and parameters: {'topK': 6716, 'l1_ratio': 0.012121291655048626, 'alpha': 0.0010607079764275726}. Best is trial 0 with value: 0.019956682864429493.\u001b[0m\n"
     ]
    },
    {
     "name": "stdout",
     "output_type": "stream",
     "text": [
      "SLIMElasticNetRecommender: Processed 7140 (29.1%) in 5.00 min. Items per second: 23.79\n",
      "SLIMElasticNetRecommender: Processed 17689 (72.2%) in 10.00 min. Items per second: 29.48\n",
      "SLIMElasticNetRecommender: Processed 24507 (100.0%) in 12.48 min. Items per second: 32.72\n",
      "EvaluatorHoldout: Processed 40080 (100.0%) in 34.83 sec. Users per second: 1151\n"
     ]
    },
    {
     "name": "stderr",
     "output_type": "stream",
     "text": [
      "\u001b[32m[I 2023-01-14 04:06:54,709]\u001b[0m Trial 14 finished with value: 0.019276589677786896 and parameters: {'topK': 4566, 'l1_ratio': 0.03981677782717195, 'alpha': 0.003139759034999181}. Best is trial 0 with value: 0.019956682864429493.\u001b[0m\n"
     ]
    },
    {
     "name": "stdout",
     "output_type": "stream",
     "text": [
      "SLIMElasticNetRecommender: Processed 4080 (16.6%) in 5.00 min. Items per second: 13.60\n",
      "SLIMElasticNetRecommender: Processed 8601 (35.1%) in 10.00 min. Items per second: 14.33\n",
      "SLIMElasticNetRecommender: Processed 13221 (53.9%) in 15.00 min. Items per second: 14.69\n",
      "SLIMElasticNetRecommender: Processed 17992 (73.4%) in 20.00 min. Items per second: 14.99\n",
      "SLIMElasticNetRecommender: Processed 22823 (93.1%) in 25.00 min. Items per second: 15.21\n",
      "SLIMElasticNetRecommender: Processed 24507 (100.0%) in 26.69 min. Items per second: 15.31\n",
      "EvaluatorHoldout: Processed 40080 (100.0%) in 45.77 sec. Users per second: 876\n"
     ]
    },
    {
     "name": "stderr",
     "output_type": "stream",
     "text": [
      "\u001b[32m[I 2023-01-14 04:34:21,811]\u001b[0m Trial 15 finished with value: 0.01988271670943783 and parameters: {'topK': 8774, 'l1_ratio': 0.023529791266961288, 'alpha': 0.0018480319706512382}. Best is trial 0 with value: 0.019956682864429493.\u001b[0m\n"
     ]
    },
    {
     "name": "stdout",
     "output_type": "stream",
     "text": [
      "SLIMElasticNetRecommender: Processed 3886 (15.9%) in 5.00 min. Items per second: 12.95\n",
      "SLIMElasticNetRecommender: Processed 8153 (33.3%) in 10.00 min. Items per second: 13.58\n",
      "SLIMElasticNetRecommender: Processed 12570 (51.3%) in 15.00 min. Items per second: 13.96\n",
      "SLIMElasticNetRecommender: Processed 17140 (69.9%) in 20.00 min. Items per second: 14.28\n",
      "SLIMElasticNetRecommender: Processed 21670 (88.4%) in 25.00 min. Items per second: 14.44\n",
      "SLIMElasticNetRecommender: Processed 24507 (100.0%) in 28.05 min. Items per second: 14.56\n",
      "EvaluatorHoldout: Processed 40080 (100.0%) in 46.38 sec. Users per second: 864\n"
     ]
    },
    {
     "name": "stderr",
     "output_type": "stream",
     "text": [
      "\u001b[32m[I 2023-01-14 05:03:11,498]\u001b[0m Trial 16 finished with value: 0.019825187917814763 and parameters: {'topK': 6896, 'l1_ratio': 0.04666160678984387, 'alpha': 0.0005413214420182098}. Best is trial 0 with value: 0.019956682864429493.\u001b[0m\n"
     ]
    },
    {
     "name": "stdout",
     "output_type": "stream",
     "text": [
      "SLIMElasticNetRecommender: Processed 3831 (15.6%) in 5.00 min. Items per second: 12.77\n",
      "SLIMElasticNetRecommender: Processed 8082 (33.0%) in 10.00 min. Items per second: 13.47\n",
      "SLIMElasticNetRecommender: Processed 12504 (51.0%) in 15.00 min. Items per second: 13.89\n",
      "SLIMElasticNetRecommender: Processed 17056 (69.6%) in 20.00 min. Items per second: 14.21\n",
      "SLIMElasticNetRecommender: Processed 21703 (88.6%) in 25.00 min. Items per second: 14.47\n",
      "SLIMElasticNetRecommender: Processed 24507 (100.0%) in 27.90 min. Items per second: 14.64\n",
      "EvaluatorHoldout: Processed 40080 (100.0%) in 46.55 sec. Users per second: 861\n"
     ]
    },
    {
     "name": "stderr",
     "output_type": "stream",
     "text": [
      "\u001b[32m[I 2023-01-14 05:31:52,217]\u001b[0m Trial 17 finished with value: 0.01995010574089871 and parameters: {'topK': 9833, 'l1_ratio': 0.02544316786186716, 'alpha': 0.0013242594756917323}. Best is trial 0 with value: 0.019956682864429493.\u001b[0m\n"
     ]
    },
    {
     "name": "stdout",
     "output_type": "stream",
     "text": [
      "SLIMElasticNetRecommender: Processed 4644 (18.9%) in 5.00 min. Items per second: 15.48\n",
      "SLIMElasticNetRecommender: Processed 9829 (40.1%) in 10.00 min. Items per second: 16.38\n",
      "SLIMElasticNetRecommender: Processed 15380 (62.8%) in 15.00 min. Items per second: 17.09\n",
      "SLIMElasticNetRecommender: Processed 21217 (86.6%) in 20.00 min. Items per second: 17.68\n",
      "SLIMElasticNetRecommender: Processed 24507 (100.0%) in 22.54 min. Items per second: 18.12\n",
      "EvaluatorHoldout: Processed 40080 (100.0%) in 40.98 sec. Users per second: 978\n"
     ]
    },
    {
     "name": "stderr",
     "output_type": "stream",
     "text": [
      "\u001b[32m[I 2023-01-14 05:55:05,519]\u001b[0m Trial 18 finished with value: 0.019701369087221983 and parameters: {'topK': 9699, 'l1_ratio': 0.026219214327743705, 'alpha': 0.002457160954302061}. Best is trial 0 with value: 0.019956682864429493.\u001b[0m\n"
     ]
    },
    {
     "name": "stdout",
     "output_type": "stream",
     "text": [
      "SLIMElasticNetRecommender: Processed 5564 (22.7%) in 5.00 min. Items per second: 18.54\n",
      "SLIMElasticNetRecommender: Processed 12316 (50.3%) in 10.00 min. Items per second: 20.52\n",
      "SLIMElasticNetRecommender: Processed 20288 (82.8%) in 15.00 min. Items per second: 22.54\n",
      "SLIMElasticNetRecommender: Processed 24507 (100.0%) in 17.24 min. Items per second: 23.69\n",
      "EvaluatorHoldout: Processed 40080 (100.0%) in 38.24 sec. Users per second: 1048\n"
     ]
    },
    {
     "name": "stderr",
     "output_type": "stream",
     "text": [
      "\u001b[32m[I 2023-01-14 06:12:58,546]\u001b[0m Trial 19 finished with value: 0.019646333325412234 and parameters: {'topK': 9900, 'l1_ratio': 0.047124176178872566, 'alpha': 0.0019019650704683823}. Best is trial 0 with value: 0.019956682864429493.\u001b[0m\n"
     ]
    },
    {
     "name": "stdout",
     "output_type": "stream",
     "text": [
      "SLIMElasticNetRecommender: Processed 6436 (26.3%) in 5.00 min. Items per second: 21.45\n",
      "SLIMElasticNetRecommender: Processed 15209 (62.1%) in 10.00 min. Items per second: 25.35\n",
      "SLIMElasticNetRecommender: Processed 24507 (100.0%) in 14.18 min. Items per second: 28.81\n",
      "EvaluatorHoldout: Processed 40080 (100.0%) in 36.78 sec. Users per second: 1090\n"
     ]
    },
    {
     "name": "stderr",
     "output_type": "stream",
     "text": [
      "\u001b[32m[I 2023-01-14 06:27:46,003]\u001b[0m Trial 20 finished with value: 0.01936462491683264 and parameters: {'topK': 8618, 'l1_ratio': 0.03188988475371525, 'alpha': 0.003360202446757567}. Best is trial 0 with value: 0.019956682864429493.\u001b[0m\n"
     ]
    },
    {
     "name": "stdout",
     "output_type": "stream",
     "text": [
      "SLIMElasticNetRecommender: Processed 3818 (15.6%) in 5.00 min. Items per second: 12.72\n",
      "SLIMElasticNetRecommender: Processed 7937 (32.4%) in 10.00 min. Items per second: 13.23\n",
      "SLIMElasticNetRecommender: Processed 12177 (49.7%) in 15.00 min. Items per second: 13.53\n",
      "SLIMElasticNetRecommender: Processed 16538 (67.5%) in 20.00 min. Items per second: 13.78\n",
      "SLIMElasticNetRecommender: Processed 20971 (85.6%) in 25.00 min. Items per second: 13.98\n",
      "SLIMElasticNetRecommender: Processed 24507 (100.0%) in 28.94 min. Items per second: 14.11\n",
      "EvaluatorHoldout: Processed 40080 (100.0%) in 48.35 sec. Users per second: 829\n"
     ]
    },
    {
     "name": "stderr",
     "output_type": "stream",
     "text": [
      "\u001b[32m[I 2023-01-14 06:57:31,479]\u001b[0m Trial 21 finished with value: 0.01997237172480393 and parameters: {'topK': 6117, 'l1_ratio': 0.018920292136425064, 'alpha': 0.0012529892110969758}. Best is trial 21 with value: 0.01997237172480393.\u001b[0m\n"
     ]
    },
    {
     "name": "stdout",
     "output_type": "stream",
     "text": [
      "SLIMElasticNetRecommender: Processed 3349 (13.7%) in 5.00 min. Items per second: 11.16\n",
      "SLIMElasticNetRecommender: Processed 6909 (28.2%) in 10.00 min. Items per second: 11.51\n",
      "SLIMElasticNetRecommender: Processed 10502 (42.9%) in 15.00 min. Items per second: 11.67\n",
      "SLIMElasticNetRecommender: Processed 14252 (58.2%) in 20.00 min. Items per second: 11.87\n",
      "SLIMElasticNetRecommender: Processed 18041 (73.6%) in 25.00 min. Items per second: 12.02\n",
      "SLIMElasticNetRecommender: Processed 21722 (88.6%) in 30.01 min. Items per second: 12.06\n",
      "SLIMElasticNetRecommender: Processed 24507 (100.0%) in 33.85 min. Items per second: 12.06\n",
      "EvaluatorHoldout: Processed 40080 (100.0%) in 51.42 sec. Users per second: 779\n"
     ]
    },
    {
     "name": "stderr",
     "output_type": "stream",
     "text": [
      "\u001b[32m[I 2023-01-14 07:32:15,115]\u001b[0m Trial 22 finished with value: 0.019860317064283747 and parameters: {'topK': 7403, 'l1_ratio': 0.020448180540949875, 'alpha': 0.0008869014832612763}. Best is trial 21 with value: 0.01997237172480393.\u001b[0m\n"
     ]
    },
    {
     "name": "stdout",
     "output_type": "stream",
     "text": [
      "SLIMElasticNetRecommender: Processed 4165 (17.0%) in 5.00 min. Items per second: 13.88\n",
      "SLIMElasticNetRecommender: Processed 8987 (36.7%) in 10.00 min. Items per second: 14.98\n",
      "SLIMElasticNetRecommender: Processed 14008 (57.2%) in 15.00 min. Items per second: 15.56\n",
      "SLIMElasticNetRecommender: Processed 19367 (79.0%) in 20.00 min. Items per second: 16.14\n",
      "SLIMElasticNetRecommender: Processed 24507 (100.0%) in 24.45 min. Items per second: 16.71\n",
      "EvaluatorHoldout: Processed 40080 (100.0%) in 41.12 sec. Users per second: 975\n"
     ]
    },
    {
     "name": "stderr",
     "output_type": "stream",
     "text": [
      "\u001b[32m[I 2023-01-14 07:57:23,137]\u001b[0m Trial 23 finished with value: 0.019830932381268842 and parameters: {'topK': 4740, 'l1_ratio': 0.04680364263121867, 'alpha': 0.0013622660651757901}. Best is trial 21 with value: 0.01997237172480393.\u001b[0m\n"
     ]
    },
    {
     "name": "stdout",
     "output_type": "stream",
     "text": [
      "SLIMElasticNetRecommender: Processed 3153 (12.9%) in 5.00 min. Items per second: 10.50\n",
      "SLIMElasticNetRecommender: Processed 6554 (26.7%) in 10.00 min. Items per second: 10.92\n",
      "SLIMElasticNetRecommender: Processed 10044 (41.0%) in 15.00 min. Items per second: 11.16\n",
      "SLIMElasticNetRecommender: Processed 13581 (55.4%) in 20.00 min. Items per second: 11.31\n",
      "SLIMElasticNetRecommender: Processed 17145 (70.0%) in 25.00 min. Items per second: 11.43\n",
      "SLIMElasticNetRecommender: Processed 20751 (84.7%) in 30.01 min. Items per second: 11.53\n",
      "SLIMElasticNetRecommender: Processed 24367 (99.4%) in 35.01 min. Items per second: 11.60\n",
      "SLIMElasticNetRecommender: Processed 24507 (100.0%) in 35.20 min. Items per second: 11.60\n",
      "EvaluatorHoldout: Processed 40080 (100.0%) in 51.40 sec. Users per second: 780\n"
     ]
    },
    {
     "name": "stderr",
     "output_type": "stream",
     "text": [
      "\u001b[32m[I 2023-01-14 08:33:27,616]\u001b[0m Trial 24 finished with value: 0.01987005651395583 and parameters: {'topK': 5682, 'l1_ratio': 0.01998472876670042, 'alpha': 0.000925877591703995}. Best is trial 21 with value: 0.01997237172480393.\u001b[0m\n"
     ]
    },
    {
     "name": "stdout",
     "output_type": "stream",
     "text": [
      "SLIMElasticNetRecommender: Processed 4960 (20.2%) in 5.00 min. Items per second: 16.53\n",
      "SLIMElasticNetRecommender: Processed 11127 (45.4%) in 10.00 min. Items per second: 18.54\n",
      "SLIMElasticNetRecommender: Processed 18146 (74.0%) in 15.00 min. Items per second: 20.16\n",
      "SLIMElasticNetRecommender: Processed 24507 (100.0%) in 18.85 min. Items per second: 21.66\n",
      "EvaluatorHoldout: Processed 40080 (100.0%) in 38.28 sec. Users per second: 1047\n"
     ]
    },
    {
     "name": "stderr",
     "output_type": "stream",
     "text": [
      "\u001b[32m[I 2023-01-14 08:52:57,246]\u001b[0m Trial 25 finished with value: 0.01956617815955354 and parameters: {'topK': 6194, 'l1_ratio': 0.03249082861028673, 'alpha': 0.002673497523154675}. Best is trial 21 with value: 0.01997237172480393.\u001b[0m\n"
     ]
    },
    {
     "name": "stdout",
     "output_type": "stream",
     "text": [
      "SLIMElasticNetRecommender: Processed 3660 (14.9%) in 5.00 min. Items per second: 12.20\n",
      "SLIMElasticNetRecommender: Processed 7587 (31.0%) in 10.00 min. Items per second: 12.64\n",
      "SLIMElasticNetRecommender: Processed 11702 (47.7%) in 15.00 min. Items per second: 13.00\n",
      "SLIMElasticNetRecommender: Processed 15935 (65.0%) in 20.00 min. Items per second: 13.28\n",
      "SLIMElasticNetRecommender: Processed 20540 (83.8%) in 25.00 min. Items per second: 13.69\n",
      "SLIMElasticNetRecommender: Processed 24507 (100.0%) in 29.17 min. Items per second: 14.00\n",
      "EvaluatorHoldout: Processed 40080 (100.0%) in 46.80 sec. Users per second: 856\n"
     ]
    },
    {
     "name": "stderr",
     "output_type": "stream",
     "text": [
      "\u001b[32m[I 2023-01-14 09:22:54,663]\u001b[0m Trial 26 finished with value: 0.01986249623768293 and parameters: {'topK': 7327, 'l1_ratio': 0.01958932952968384, 'alpha': 0.0020190124705380483}. Best is trial 21 with value: 0.01997237172480393.\u001b[0m\n"
     ]
    },
    {
     "name": "stdout",
     "output_type": "stream",
     "text": [
      "SLIMElasticNetRecommender: Processed 4372 (17.8%) in 5.00 min. Items per second: 14.57\n",
      "SLIMElasticNetRecommender: Processed 9336 (38.1%) in 10.00 min. Items per second: 15.56\n",
      "SLIMElasticNetRecommender: Processed 14527 (59.3%) in 15.00 min. Items per second: 16.14\n",
      "SLIMElasticNetRecommender: Processed 19982 (81.5%) in 20.00 min. Items per second: 16.65\n",
      "SLIMElasticNetRecommender: Processed 24507 (100.0%) in 23.81 min. Items per second: 17.15\n",
      "EvaluatorHoldout: Processed 40080 (100.0%) in 42.98 sec. Users per second: 932\n"
     ]
    },
    {
     "name": "stderr",
     "output_type": "stream",
     "text": [
      "\u001b[32m[I 2023-01-14 09:47:26,566]\u001b[0m Trial 27 finished with value: 0.019846674706142854 and parameters: {'topK': 4275, 'l1_ratio': 0.03112977199308151, 'alpha': 0.0016519737307700163}. Best is trial 21 with value: 0.01997237172480393.\u001b[0m\n"
     ]
    },
    {
     "name": "stdout",
     "output_type": "stream",
     "text": [
      "SLIMElasticNetRecommender: Processed 9439 (38.5%) in 5.00 min. Items per second: 31.46\n",
      "SLIMElasticNetRecommender: Processed 24507 (100.0%) in 9.74 min. Items per second: 41.94\n",
      "EvaluatorHoldout: Processed 40080 (100.0%) in 31.75 sec. Users per second: 1262\n"
     ]
    },
    {
     "name": "stderr",
     "output_type": "stream",
     "text": [
      "\u001b[32m[I 2023-01-14 09:57:42,742]\u001b[0m Trial 28 finished with value: 0.018683284225200103 and parameters: {'topK': 6245, 'l1_ratio': 0.042729381898891895, 'alpha': 0.0049852079252161174}. Best is trial 21 with value: 0.01997237172480393.\u001b[0m\n"
     ]
    },
    {
     "name": "stdout",
     "output_type": "stream",
     "text": [
      "SLIMElasticNetRecommender: Processed 6341 (25.9%) in 5.00 min. Items per second: 21.13\n",
      "SLIMElasticNetRecommender: Processed 15162 (61.9%) in 10.00 min. Items per second: 25.26\n",
      "SLIMElasticNetRecommender: Processed 24507 (100.0%) in 14.15 min. Items per second: 28.86\n",
      "EvaluatorHoldout: Processed 40080 (100.0%) in 36.17 sec. Users per second: 1108\n"
     ]
    },
    {
     "name": "stderr",
     "output_type": "stream",
     "text": [
      "\u001b[32m[I 2023-01-14 10:12:28,262]\u001b[0m Trial 29 finished with value: 0.0194818992966444 and parameters: {'topK': 5249, 'l1_ratio': 0.05063548223726836, 'alpha': 0.002212234479041836}. Best is trial 21 with value: 0.01997237172480393.\u001b[0m\n"
     ]
    }
   ],
   "source": [
    "best_params = {\n",
    "    \"topK\": 6468,\n",
    "    \"l1_ratio\": 0.03534306561986866,\n",
    "    \"alpha\": 0.001,\n",
    "}\n",
    "\n",
    "study = op.create_study(direction=\"maximize\")\n",
    "study.enqueue_trial(best_params)\n",
    "study.optimize(objective, n_trials=30)"
   ]
  },
  {
   "cell_type": "code",
   "execution_count": 16,
   "id": "62bcfd12",
   "metadata": {
    "execution": {
     "iopub.execute_input": "2023-01-14T10:12:28.328535Z",
     "iopub.status.busy": "2023-01-14T10:12:28.328088Z",
     "iopub.status.idle": "2023-01-14T10:12:28.338642Z",
     "shell.execute_reply": "2023-01-14T10:12:28.337056Z"
    },
    "papermill": {
     "duration": 0.038497,
     "end_time": "2023-01-14T10:12:28.341713",
     "exception": false,
     "start_time": "2023-01-14T10:12:28.303216",
     "status": "completed"
    },
    "tags": []
   },
   "outputs": [
    {
     "data": {
      "text/plain": [
       "{'topK': 6117,\n",
       " 'l1_ratio': 0.018920292136425064,\n",
       " 'alpha': 0.0012529892110969758}"
      ]
     },
     "execution_count": 16,
     "metadata": {},
     "output_type": "execute_result"
    }
   ],
   "source": [
    "study.best_params"
   ]
  },
  {
   "cell_type": "code",
   "execution_count": 17,
   "id": "f301d6a3",
   "metadata": {
    "execution": {
     "iopub.execute_input": "2023-01-14T10:12:28.390594Z",
     "iopub.status.busy": "2023-01-14T10:12:28.390172Z",
     "iopub.status.idle": "2023-01-14T10:47:29.742879Z",
     "shell.execute_reply": "2023-01-14T10:47:29.741132Z"
    },
    "papermill": {
     "duration": 2101.380636,
     "end_time": "2023-01-14T10:47:29.746360",
     "exception": false,
     "start_time": "2023-01-14T10:12:28.365724",
     "status": "completed"
    },
    "tags": []
   },
   "outputs": [
    {
     "name": "stdout",
     "output_type": "stream",
     "text": [
      "SLIMElasticNetRecommender: Processed 3134 (12.8%) in 5.00 min. Items per second: 10.44\n",
      "SLIMElasticNetRecommender: Processed 6508 (26.6%) in 10.00 min. Items per second: 10.84\n",
      "SLIMElasticNetRecommender: Processed 10002 (40.8%) in 15.00 min. Items per second: 11.11\n",
      "SLIMElasticNetRecommender: Processed 13558 (55.3%) in 20.00 min. Items per second: 11.30\n",
      "SLIMElasticNetRecommender: Processed 17173 (70.1%) in 25.00 min. Items per second: 11.45\n",
      "SLIMElasticNetRecommender: Processed 20803 (84.9%) in 30.01 min. Items per second: 11.55\n",
      "SLIMElasticNetRecommender: Processed 24500 (100.0%) in 35.01 min. Items per second: 11.66\n",
      "SLIMElasticNetRecommender: Processed 24507 (100.0%) in 35.02 min. Items per second: 11.66\n"
     ]
    }
   ],
   "source": [
    "final = model(urm_train_validation)\n",
    "final.fit(**study.best_params)"
   ]
  },
  {
   "cell_type": "code",
   "execution_count": 18,
   "id": "a2073bef",
   "metadata": {
    "execution": {
     "iopub.execute_input": "2023-01-14T10:47:29.794164Z",
     "iopub.status.busy": "2023-01-14T10:47:29.793702Z",
     "iopub.status.idle": "2023-01-14T10:48:21.874857Z",
     "shell.execute_reply": "2023-01-14T10:48:21.873778Z"
    },
    "papermill": {
     "duration": 52.108424,
     "end_time": "2023-01-14T10:48:21.877435",
     "exception": false,
     "start_time": "2023-01-14T10:47:29.769011",
     "status": "completed"
    },
    "tags": []
   },
   "outputs": [
    {
     "name": "stdout",
     "output_type": "stream",
     "text": [
      "EvaluatorHoldout: Ignoring 931 ( 2.2%) Users that have less than 1 test interactions\n",
      "EvaluatorHoldout: Ignoring 0 Users\n",
      "EvaluatorHoldout: Processed 40698 (100.0%) in 51.99 sec. Users per second: 783\n"
     ]
    },
    {
     "data": {
      "text/plain": [
       "(       PRECISION PRECISION_RECALL_MIN_DEN    RECALL       MAP MAP_MIN_DEN  \\\n",
       " cutoff                                                                      \n",
       " 10      0.056172                 0.093717  0.087615  0.027672    0.045144   \n",
       " \n",
       "             MRR      NDCG        F1  HIT_RATE ARHR_ALL_HITS  ...  \\\n",
       " cutoff                                                       ...   \n",
       " 10      0.18309  0.089816  0.068456  0.366922      0.223347  ...   \n",
       " \n",
       "        COVERAGE_USER COVERAGE_USER_HIT USERS_IN_GT DIVERSITY_GINI  \\\n",
       " cutoff                                                              \n",
       " 10          0.977636          0.358716    0.977636       0.021583   \n",
       " \n",
       "        SHANNON_ENTROPY RATIO_DIVERSITY_HERFINDAHL RATIO_DIVERSITY_GINI  \\\n",
       " cutoff                                                                   \n",
       " 10            8.937814                   0.993193             0.042442   \n",
       " \n",
       "        RATIO_SHANNON_ENTROPY RATIO_AVERAGE_POPULARITY RATIO_NOVELTY  \n",
       " cutoff                                                               \n",
       " 10                  0.662367                 4.264206      0.245156  \n",
       " \n",
       " [1 rows x 27 columns],\n",
       " 'CUTOFF: 10 - PRECISION: 0.0561723, PRECISION_RECALL_MIN_DEN: 0.0937172, RECALL: 0.0876153, MAP: 0.0276717, MAP_MIN_DEN: 0.0451443, MRR: 0.1830895, NDCG: 0.0898155, F1: 0.0684559, HIT_RATE: 0.3669222, ARHR_ALL_HITS: 0.2233474, NOVELTY: 0.0042849, AVERAGE_POPULARITY: 0.2155576, DIVERSITY_MEAN_INTER_LIST: 0.9286794, DIVERSITY_HERFINDAHL: 0.9928657, COVERAGE_ITEM: 0.1544457, COVERAGE_ITEM_HIT: 0.0642674, ITEMS_IN_GT: 0.9929408, COVERAGE_USER: 0.9776358, COVERAGE_USER_HIT: 0.3587163, USERS_IN_GT: 0.9776358, DIVERSITY_GINI: 0.0215829, SHANNON_ENTROPY: 8.9378142, RATIO_DIVERSITY_HERFINDAHL: 0.9931931, RATIO_DIVERSITY_GINI: 0.0424418, RATIO_SHANNON_ENTROPY: 0.6623671, RATIO_AVERAGE_POPULARITY: 4.2642063, RATIO_NOVELTY: 0.2451557, \\n')"
      ]
     },
     "execution_count": 18,
     "metadata": {},
     "output_type": "execute_result"
    }
   ],
   "source": [
    "from Evaluation.Evaluator import EvaluatorHoldout\n",
    "evaluator_test = EvaluatorHoldout(urm_test, cutoff_list=[10], ignore_users=[])\n",
    "evaluator_test.evaluateRecommender(final)"
   ]
  },
  {
   "cell_type": "code",
   "execution_count": 19,
   "id": "4ae0d7d8",
   "metadata": {
    "execution": {
     "iopub.execute_input": "2023-01-14T10:48:21.927039Z",
     "iopub.status.busy": "2023-01-14T10:48:21.925807Z",
     "iopub.status.idle": "2023-01-14T10:48:29.366705Z",
     "shell.execute_reply": "2023-01-14T10:48:29.365055Z"
    },
    "papermill": {
     "duration": 7.468741,
     "end_time": "2023-01-14T10:48:29.369559",
     "exception": false,
     "start_time": "2023-01-14T10:48:21.900818",
     "status": "completed"
    },
    "tags": []
   },
   "outputs": [
    {
     "name": "stdout",
     "output_type": "stream",
     "text": [
      "SLIMElasticNetRecommender: Saving model in file '.SLIM_Elastic_train_validation.zip'\n",
      "SLIMElasticNetRecommender: Saving complete\n"
     ]
    }
   ],
   "source": [
    "final.save_model(\".\", \"SLIM_Elastic_train_validation.zip\")\n",
    "\n",
    "!cp SLIM_Elastic_train_validation.zip ..\n",
    "os.chdir(\"..\")\n",
    "!rm -r RecSys-2022-Challenge-Polimi"
   ]
  }
 ],
 "metadata": {
  "kernelspec": {
   "display_name": "Python 3",
   "language": "python",
   "name": "python3"
  },
  "language_info": {
   "codemirror_mode": {
    "name": "ipython",
    "version": 3
   },
   "file_extension": ".py",
   "mimetype": "text/x-python",
   "name": "python",
   "nbconvert_exporter": "python",
   "pygments_lexer": "ipython3",
   "version": "3.7.12"
  },
  "papermill": {
   "default_parameters": {},
   "duration": 40634.925398,
   "end_time": "2023-01-14T10:48:32.534297",
   "environment_variables": {},
   "exception": null,
   "input_path": "__notebook__.ipynb",
   "output_path": "__notebook__.ipynb",
   "parameters": {},
   "start_time": "2023-01-13T23:31:17.608899",
   "version": "2.3.4"
  }
 },
 "nbformat": 4,
 "nbformat_minor": 5
}
