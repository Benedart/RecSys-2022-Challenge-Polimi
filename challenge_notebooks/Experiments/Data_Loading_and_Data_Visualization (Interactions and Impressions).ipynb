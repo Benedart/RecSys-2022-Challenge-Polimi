{
 "cells": [
  {
   "cell_type": "code",
   "execution_count": 2,
   "id": "195b795b",
   "metadata": {},
   "outputs": [],
   "source": [
    "import numpy as np\n",
    "import matplotlib.pyplot as pyplot\n",
    "%matplotlib inline"
   ]
  },
  {
   "cell_type": "markdown",
   "id": "1be5910b",
   "metadata": {},
   "source": [
    "# Let's take a look at the *Interactions_and_Impressions* Dataset :)"
   ]
  },
  {
   "cell_type": "markdown",
   "id": "6eb7f110",
   "metadata": {},
   "source": [
    "## Dataset import"
   ]
  },
  {
   "cell_type": "code",
   "execution_count": 3,
   "id": "e1dcafdf",
   "metadata": {},
   "outputs": [],
   "source": [
    "import pandas as pd\n",
    "path = \"recommender-system-2022-challenge-polimi-data/interactions_and_impressions.csv\"\n",
    "\n",
    "Interactions_and_Impressions = pd.read_csv(filepath_or_buffer=path,\n",
    "                               sep=\",\",\n",
    "                               header=1,\n",
    "                               engine='python',\n",
    "                               names=['UserId', 'ItemId', 'ImpressionList', 'Data'])"
   ]
  },
  {
   "cell_type": "markdown",
   "id": "6ffef090",
   "metadata": {},
   "source": [
    "This is what the dataset looks like:"
   ]
  },
  {
   "cell_type": "code",
   "execution_count": 4,
   "id": "02b310f0",
   "metadata": {},
   "outputs": [
    {
     "data": {
      "text/plain": "         UserId  ItemId                 ImpressionList  Data\n0             0      21                            NaN     0\n1             0      21                            NaN     0\n2             0      21  20,21,22,23,24,25,26,27,28,29     0\n3             0      21                            NaN     1\n4             0      21                            NaN     1\n...         ...     ...                            ...   ...\n5826500   41628   20448                            NaN     0\n5826501   41628   20896                            NaN     1\n5826502   41628   21506                            NaN     1\n5826503   41628   22882                            NaN     0\n5826504   41628   23757                            NaN     0\n\n[5826505 rows x 4 columns]",
      "text/html": "<div>\n<style scoped>\n    .dataframe tbody tr th:only-of-type {\n        vertical-align: middle;\n    }\n\n    .dataframe tbody tr th {\n        vertical-align: top;\n    }\n\n    .dataframe thead th {\n        text-align: right;\n    }\n</style>\n<table border=\"1\" class=\"dataframe\">\n  <thead>\n    <tr style=\"text-align: right;\">\n      <th></th>\n      <th>UserId</th>\n      <th>ItemId</th>\n      <th>ImpressionList</th>\n      <th>Data</th>\n    </tr>\n  </thead>\n  <tbody>\n    <tr>\n      <th>0</th>\n      <td>0</td>\n      <td>21</td>\n      <td>NaN</td>\n      <td>0</td>\n    </tr>\n    <tr>\n      <th>1</th>\n      <td>0</td>\n      <td>21</td>\n      <td>NaN</td>\n      <td>0</td>\n    </tr>\n    <tr>\n      <th>2</th>\n      <td>0</td>\n      <td>21</td>\n      <td>20,21,22,23,24,25,26,27,28,29</td>\n      <td>0</td>\n    </tr>\n    <tr>\n      <th>3</th>\n      <td>0</td>\n      <td>21</td>\n      <td>NaN</td>\n      <td>1</td>\n    </tr>\n    <tr>\n      <th>4</th>\n      <td>0</td>\n      <td>21</td>\n      <td>NaN</td>\n      <td>1</td>\n    </tr>\n    <tr>\n      <th>...</th>\n      <td>...</td>\n      <td>...</td>\n      <td>...</td>\n      <td>...</td>\n    </tr>\n    <tr>\n      <th>5826500</th>\n      <td>41628</td>\n      <td>20448</td>\n      <td>NaN</td>\n      <td>0</td>\n    </tr>\n    <tr>\n      <th>5826501</th>\n      <td>41628</td>\n      <td>20896</td>\n      <td>NaN</td>\n      <td>1</td>\n    </tr>\n    <tr>\n      <th>5826502</th>\n      <td>41628</td>\n      <td>21506</td>\n      <td>NaN</td>\n      <td>1</td>\n    </tr>\n    <tr>\n      <th>5826503</th>\n      <td>41628</td>\n      <td>22882</td>\n      <td>NaN</td>\n      <td>0</td>\n    </tr>\n    <tr>\n      <th>5826504</th>\n      <td>41628</td>\n      <td>23757</td>\n      <td>NaN</td>\n      <td>0</td>\n    </tr>\n  </tbody>\n</table>\n<p>5826505 rows × 4 columns</p>\n</div>"
     },
     "execution_count": 4,
     "metadata": {},
     "output_type": "execute_result"
    }
   ],
   "source": [
    "Interactions_and_Impressions"
   ]
  },
  {
   "cell_type": "code",
   "execution_count": 5,
   "outputs": [
    {
     "data": {
      "text/plain": "UserId             int64\nItemId             int64\nImpressionList    object\nData               int64\ndtype: object"
     },
     "execution_count": 5,
     "metadata": {},
     "output_type": "execute_result"
    }
   ],
   "source": [
    "Interactions_and_Impressions.dtypes"
   ],
   "metadata": {
    "collapsed": false
   }
  },
  {
   "cell_type": "code",
   "execution_count": 6,
   "outputs": [
    {
     "data": {
      "text/plain": "             UserId        ItemId          Data\ncount  5.826505e+06  5.826505e+06  5.826505e+06\nmean   1.899452e+04  4.641731e+03  3.877154e-01\nstd    1.117126e+04  6.533349e+03  4.872291e-01\nmin    0.000000e+00  0.000000e+00  0.000000e+00\n25%    9.315000e+03  3.370000e+02  0.000000e+00\n50%    1.893600e+04  1.448000e+03  0.000000e+00\n75%    2.831300e+04  6.016000e+03  1.000000e+00\nmax    4.162800e+04  2.450600e+04  1.000000e+00",
      "text/html": "<div>\n<style scoped>\n    .dataframe tbody tr th:only-of-type {\n        vertical-align: middle;\n    }\n\n    .dataframe tbody tr th {\n        vertical-align: top;\n    }\n\n    .dataframe thead th {\n        text-align: right;\n    }\n</style>\n<table border=\"1\" class=\"dataframe\">\n  <thead>\n    <tr style=\"text-align: right;\">\n      <th></th>\n      <th>UserId</th>\n      <th>ItemId</th>\n      <th>Data</th>\n    </tr>\n  </thead>\n  <tbody>\n    <tr>\n      <th>count</th>\n      <td>5.826505e+06</td>\n      <td>5.826505e+06</td>\n      <td>5.826505e+06</td>\n    </tr>\n    <tr>\n      <th>mean</th>\n      <td>1.899452e+04</td>\n      <td>4.641731e+03</td>\n      <td>3.877154e-01</td>\n    </tr>\n    <tr>\n      <th>std</th>\n      <td>1.117126e+04</td>\n      <td>6.533349e+03</td>\n      <td>4.872291e-01</td>\n    </tr>\n    <tr>\n      <th>min</th>\n      <td>0.000000e+00</td>\n      <td>0.000000e+00</td>\n      <td>0.000000e+00</td>\n    </tr>\n    <tr>\n      <th>25%</th>\n      <td>9.315000e+03</td>\n      <td>3.370000e+02</td>\n      <td>0.000000e+00</td>\n    </tr>\n    <tr>\n      <th>50%</th>\n      <td>1.893600e+04</td>\n      <td>1.448000e+03</td>\n      <td>0.000000e+00</td>\n    </tr>\n    <tr>\n      <th>75%</th>\n      <td>2.831300e+04</td>\n      <td>6.016000e+03</td>\n      <td>1.000000e+00</td>\n    </tr>\n    <tr>\n      <th>max</th>\n      <td>4.162800e+04</td>\n      <td>2.450600e+04</td>\n      <td>1.000000e+00</td>\n    </tr>\n  </tbody>\n</table>\n</div>"
     },
     "execution_count": 6,
     "metadata": {},
     "output_type": "execute_result"
    }
   ],
   "source": [
    "Interactions_and_Impressions.describe()"
   ],
   "metadata": {
    "collapsed": false
   }
  },
  {
   "cell_type": "code",
   "execution_count": 7,
   "outputs": [
    {
     "name": "stdout",
     "output_type": "stream",
     "text": [
      "Number of users: 41629\n",
      "Number of items: 24507\n"
     ]
    }
   ],
   "source": [
    "userId_unique = Interactions_and_Impressions[\"UserId\"].unique()\n",
    "itemId_unique = Interactions_and_Impressions[\"ItemId\"].unique()\n",
    "print(\"Number of users: {}\".format(len(userId_unique)))\n",
    "print(\"Number of items: {}\".format(len(itemId_unique)))"
   ],
   "metadata": {
    "collapsed": false
   }
  },
  {
   "cell_type": "code",
   "execution_count": 8,
   "outputs": [
    {
     "name": "stdout",
     "output_type": "stream",
     "text": [
      "Number of 0 interactions: 3567479\n",
      "Number of 1 interactions: 2259026\n"
     ]
    }
   ],
   "source": [
    "print(\"Number of 0 interactions: {}\".format(len(Interactions_and_Impressions[Interactions_and_Impressions['Data'] == 0])))\n",
    "print(\"Number of 1 interactions: {}\".format(len(Interactions_and_Impressions[Interactions_and_Impressions['Data'] == 1])))"
   ],
   "metadata": {
    "collapsed": false
   }
  },
  {
   "cell_type": "markdown",
   "id": "c538a5d0",
   "metadata": {},
   "source": [
    "Note that they are sorted by UserId"
   ]
  },
  {
   "cell_type": "markdown",
   "source": [
    "Let's group UserId+Data to see how frequent are 0 and 1 interactions for each user"
   ],
   "metadata": {
    "collapsed": false
   }
  },
  {
   "cell_type": "code",
   "execution_count": 9,
   "outputs": [
    {
     "data": {
      "text/plain": "       UserId  Data  ItemId\n0           0     0      17\n1           0     1     139\n2           1     0      14\n3           1     1       8\n4           2     0      90\n...       ...   ...     ...\n83231   41626     1       9\n83232   41627     0     130\n83233   41627     1       3\n83234   41628     0      15\n83235   41628     1       8\n\n[83236 rows x 3 columns]",
      "text/html": "<div>\n<style scoped>\n    .dataframe tbody tr th:only-of-type {\n        vertical-align: middle;\n    }\n\n    .dataframe tbody tr th {\n        vertical-align: top;\n    }\n\n    .dataframe thead th {\n        text-align: right;\n    }\n</style>\n<table border=\"1\" class=\"dataframe\">\n  <thead>\n    <tr style=\"text-align: right;\">\n      <th></th>\n      <th>UserId</th>\n      <th>Data</th>\n      <th>ItemId</th>\n    </tr>\n  </thead>\n  <tbody>\n    <tr>\n      <th>0</th>\n      <td>0</td>\n      <td>0</td>\n      <td>17</td>\n    </tr>\n    <tr>\n      <th>1</th>\n      <td>0</td>\n      <td>1</td>\n      <td>139</td>\n    </tr>\n    <tr>\n      <th>2</th>\n      <td>1</td>\n      <td>0</td>\n      <td>14</td>\n    </tr>\n    <tr>\n      <th>3</th>\n      <td>1</td>\n      <td>1</td>\n      <td>8</td>\n    </tr>\n    <tr>\n      <th>4</th>\n      <td>2</td>\n      <td>0</td>\n      <td>90</td>\n    </tr>\n    <tr>\n      <th>...</th>\n      <td>...</td>\n      <td>...</td>\n      <td>...</td>\n    </tr>\n    <tr>\n      <th>83231</th>\n      <td>41626</td>\n      <td>1</td>\n      <td>9</td>\n    </tr>\n    <tr>\n      <th>83232</th>\n      <td>41627</td>\n      <td>0</td>\n      <td>130</td>\n    </tr>\n    <tr>\n      <th>83233</th>\n      <td>41627</td>\n      <td>1</td>\n      <td>3</td>\n    </tr>\n    <tr>\n      <th>83234</th>\n      <td>41628</td>\n      <td>0</td>\n      <td>15</td>\n    </tr>\n    <tr>\n      <th>83235</th>\n      <td>41628</td>\n      <td>1</td>\n      <td>8</td>\n    </tr>\n  </tbody>\n</table>\n<p>83236 rows × 3 columns</p>\n</div>"
     },
     "execution_count": 9,
     "metadata": {},
     "output_type": "execute_result"
    }
   ],
   "source": [
    "Group_byType = Interactions_and_Impressions.drop(['ImpressionList'], axis=1)\n",
    "Group_byType = Group_byType.groupby(['UserId', 'Data'], as_index=False).count()\n",
    "Group_byType"
   ],
   "metadata": {
    "collapsed": false
   }
  },
  {
   "cell_type": "code",
   "execution_count": 10,
   "outputs": [
    {
     "name": "stdout",
     "output_type": "stream",
     "text": [
      "Number of 0 interactions of User 0 is 17\n",
      "Number of 1 interactions of User 0 is 139\n"
     ]
    }
   ],
   "source": [
    "print('Number of 0 interactions of User 0 is {}'.format(len(Interactions_and_Impressions[(Interactions_and_Impressions['Data'] == 0) & (Interactions_and_Impressions['UserId'] == 0)])))\n",
    "print('Number of 1 interactions of User 0 is {}'.format(len(Interactions_and_Impressions[(Interactions_and_Impressions['Data'] == 1) & (Interactions_and_Impressions['UserId'] == 0)])))"
   ],
   "metadata": {
    "collapsed": false
   }
  },
  {
   "cell_type": "code",
   "execution_count": 11,
   "outputs": [
    {
     "name": "stdout",
     "output_type": "stream",
     "text": [
      "The mean number of 0 interactions per User is 85.69696605731582\n",
      "The mean number of 1 interactions per User is 54.294373542913455\n",
      "\n",
      "The 25% quantile number of 0 interactions per User is 17.0\n",
      "The 25% quantile number of 1 interactions per User is 6.0\n",
      "\n",
      "The 75% quantile number of 0 interactions per User is 83.0\n",
      "The 75% quantile number of 1 interactions per User is 40.0\n",
      "\n",
      "The max number of 0 interactions per User is 5155\n",
      "The max number of 1 interactions per User is 5815\n",
      "\n",
      "\n"
     ]
    }
   ],
   "source": [
    "print(\"The mean number of 0 interactions per User is {}\".format(Group_byType[Group_byType['Data'] == 0].ItemId.mean()))\n",
    "print(\"The mean number of 1 interactions per User is {}\".format(Group_byType[Group_byType['Data'] == 1].ItemId.mean()))\n",
    "print(\"\")\n",
    "print(\"The 25% quantile number of 0 interactions per User is {}\".format(Group_byType[Group_byType['Data'] == 0].ItemId.quantile(.25)))\n",
    "print(\"The 25% quantile number of 1 interactions per User is {}\".format(Group_byType[Group_byType['Data'] == 1].ItemId.quantile(.25)))\n",
    "print(\"\")\n",
    "print(\"The 75% quantile number of 0 interactions per User is {}\".format(Group_byType[Group_byType['Data'] == 0].ItemId.quantile(.75)))\n",
    "print(\"The 75% quantile number of 1 interactions per User is {}\".format(Group_byType[Group_byType['Data'] == 1].ItemId.quantile(.75)))\n",
    "print(\"\")\n",
    "print(\"The max number of 0 interactions per User is {}\".format(Group_byType[Group_byType['Data'] == 0].ItemId.max()))\n",
    "print(\"The max number of 1 interactions per User is {}\".format(Group_byType[Group_byType['Data'] == 1].ItemId.max()))\n",
    "print(\"\\n\")"
   ],
   "metadata": {
    "collapsed": false
   }
  },
  {
   "cell_type": "markdown",
   "source": [
    "#### Now without differentiating 0 and 1 interactions"
   ],
   "metadata": {
    "collapsed": false
   }
  },
  {
   "cell_type": "code",
   "execution_count": 12,
   "outputs": [
    {
     "data": {
      "text/plain": "       UserId  ItemId\n0           0     156\n1           1      22\n2           2     238\n3           3     349\n4           4    1458\n...       ...     ...\n41624   41624      57\n41625   41625      22\n41626   41626      28\n41627   41627     133\n41628   41628      23\n\n[41629 rows x 2 columns]",
      "text/html": "<div>\n<style scoped>\n    .dataframe tbody tr th:only-of-type {\n        vertical-align: middle;\n    }\n\n    .dataframe tbody tr th {\n        vertical-align: top;\n    }\n\n    .dataframe thead th {\n        text-align: right;\n    }\n</style>\n<table border=\"1\" class=\"dataframe\">\n  <thead>\n    <tr style=\"text-align: right;\">\n      <th></th>\n      <th>UserId</th>\n      <th>ItemId</th>\n    </tr>\n  </thead>\n  <tbody>\n    <tr>\n      <th>0</th>\n      <td>0</td>\n      <td>156</td>\n    </tr>\n    <tr>\n      <th>1</th>\n      <td>1</td>\n      <td>22</td>\n    </tr>\n    <tr>\n      <th>2</th>\n      <td>2</td>\n      <td>238</td>\n    </tr>\n    <tr>\n      <th>3</th>\n      <td>3</td>\n      <td>349</td>\n    </tr>\n    <tr>\n      <th>4</th>\n      <td>4</td>\n      <td>1458</td>\n    </tr>\n    <tr>\n      <th>...</th>\n      <td>...</td>\n      <td>...</td>\n    </tr>\n    <tr>\n      <th>41624</th>\n      <td>41624</td>\n      <td>57</td>\n    </tr>\n    <tr>\n      <th>41625</th>\n      <td>41625</td>\n      <td>22</td>\n    </tr>\n    <tr>\n      <th>41626</th>\n      <td>41626</td>\n      <td>28</td>\n    </tr>\n    <tr>\n      <th>41627</th>\n      <td>41627</td>\n      <td>133</td>\n    </tr>\n    <tr>\n      <th>41628</th>\n      <td>41628</td>\n      <td>23</td>\n    </tr>\n  </tbody>\n</table>\n<p>41629 rows × 2 columns</p>\n</div>"
     },
     "execution_count": 12,
     "metadata": {},
     "output_type": "execute_result"
    }
   ],
   "source": [
    "Group_user = Interactions_and_Impressions.drop(['ImpressionList', 'Data'], axis=1)\n",
    "Group_user = Group_user.groupby(['UserId'], as_index=False).count()\n",
    "Group_user"
   ],
   "metadata": {
    "collapsed": false
   }
  },
  {
   "cell_type": "markdown",
   "source": [
    "Sorted by ItemId count:"
   ],
   "metadata": {
    "collapsed": false
   }
  },
  {
   "cell_type": "code",
   "execution_count": 13,
   "outputs": [
    {
     "data": {
      "text/plain": "       UserId  ItemId\n38400   38400       5\n25061   25061       6\n41083   41083       6\n30257   30257       6\n38965   38965       7\n...       ...     ...\n18296   18296    5854\n7445     7445    5916\n1186     1186    6353\n18764   18764    7670\n390       390    7798\n\n[41629 rows x 2 columns]",
      "text/html": "<div>\n<style scoped>\n    .dataframe tbody tr th:only-of-type {\n        vertical-align: middle;\n    }\n\n    .dataframe tbody tr th {\n        vertical-align: top;\n    }\n\n    .dataframe thead th {\n        text-align: right;\n    }\n</style>\n<table border=\"1\" class=\"dataframe\">\n  <thead>\n    <tr style=\"text-align: right;\">\n      <th></th>\n      <th>UserId</th>\n      <th>ItemId</th>\n    </tr>\n  </thead>\n  <tbody>\n    <tr>\n      <th>38400</th>\n      <td>38400</td>\n      <td>5</td>\n    </tr>\n    <tr>\n      <th>25061</th>\n      <td>25061</td>\n      <td>6</td>\n    </tr>\n    <tr>\n      <th>41083</th>\n      <td>41083</td>\n      <td>6</td>\n    </tr>\n    <tr>\n      <th>30257</th>\n      <td>30257</td>\n      <td>6</td>\n    </tr>\n    <tr>\n      <th>38965</th>\n      <td>38965</td>\n      <td>7</td>\n    </tr>\n    <tr>\n      <th>...</th>\n      <td>...</td>\n      <td>...</td>\n    </tr>\n    <tr>\n      <th>18296</th>\n      <td>18296</td>\n      <td>5854</td>\n    </tr>\n    <tr>\n      <th>7445</th>\n      <td>7445</td>\n      <td>5916</td>\n    </tr>\n    <tr>\n      <th>1186</th>\n      <td>1186</td>\n      <td>6353</td>\n    </tr>\n    <tr>\n      <th>18764</th>\n      <td>18764</td>\n      <td>7670</td>\n    </tr>\n    <tr>\n      <th>390</th>\n      <td>390</td>\n      <td>7798</td>\n    </tr>\n  </tbody>\n</table>\n<p>41629 rows × 2 columns</p>\n</div>"
     },
     "execution_count": 13,
     "metadata": {},
     "output_type": "execute_result"
    }
   ],
   "source": [
    "Group_user.sort_values(\"ItemId\")"
   ],
   "metadata": {
    "collapsed": false
   }
  },
  {
   "cell_type": "markdown",
   "source": [
    "Some Statistics:"
   ],
   "metadata": {
    "collapsed": false
   }
  },
  {
   "cell_type": "code",
   "execution_count": 56,
   "outputs": [
    {
     "name": "stdout",
     "output_type": "stream",
     "text": [
      "The mean number of interactions per User is 139.9626462321939\n",
      "\n",
      "The 25% quantile number of interactions per User is 28.0\n",
      "\n",
      "The 75% quantile number of interactions per User is 139.0\n",
      "\n",
      "The max number of interactions per User is 7798\n",
      "\n",
      "\n"
     ]
    }
   ],
   "source": [
    "print(\"The mean number of interactions per User is {}\".format(Group_user.ItemId.mean()))\n",
    "print(\"\")\n",
    "print(\"The 25% quantile number of interactions per User is {}\".format(Group_user.ItemId.quantile(.25)))\n",
    "print(\"\")\n",
    "print(\"The 75% quantile number of interactions per User is {}\".format(Group_user.ItemId.quantile(.75)))\n",
    "print(\"\")\n",
    "print(\"The max number of interactions per User is {}\".format(Group_user.ItemId.max()))\n",
    "print(\"\\n\")"
   ],
   "metadata": {
    "collapsed": false
   }
  },
  {
   "cell_type": "markdown",
   "source": [
    "Let's see them on a graph"
   ],
   "metadata": {
    "collapsed": false
   }
  },
  {
   "cell_type": "code",
   "execution_count": 57,
   "outputs": [],
   "source": [
    "sorted_items = Group_user.ItemId.values.copy()"
   ],
   "metadata": {
    "collapsed": false
   }
  },
  {
   "cell_type": "code",
   "execution_count": 58,
   "outputs": [
    {
     "data": {
      "text/plain": "<Figure size 640x480 with 1 Axes>",
      "image/png": "[encoded data removed]"
     },
     "metadata": {},
     "output_type": "display_data"
    }
   ],
   "source": [
    "import matplotlib.pyplot as pyplot\n",
    "\n",
    "pyplot.boxplot(sorted_items)\n",
    "# fig = pyplot.figure(figsize = (100,70))\n",
    "pyplot.show()"
   ],
   "metadata": {
    "collapsed": false
   }
  },
  {
   "cell_type": "markdown",
   "source": [
    "The fact the box is so small in the graph means that there are a big number of big outliers"
   ],
   "metadata": {
    "collapsed": false
   }
  },
  {
   "cell_type": "markdown",
   "source": [
    "### Finding User Outliers\n",
    "With a mathematical approach"
   ],
   "metadata": {
    "collapsed": false
   }
  },
  {
   "cell_type": "code",
   "execution_count": 59,
   "outputs": [],
   "source": [
    "def find_outliers(data, percentage):\n",
    "    # the first quartile\n",
    "    q1 = data.quantile(percentage)\n",
    "\n",
    "    # the 3rd quartile\n",
    "    q3 = data.quantile(1-percentage)\n",
    "\n",
    "    # the iqr region\n",
    "    iqr = q3 - q1\n",
    "\n",
    "    # finding upper and lower whiskers\n",
    "    upper_bound = q3+(1.5*iqr)\n",
    "    lower_bound = q1-(1.5*iqr)\n",
    "\n",
    "    return (upper_bound, lower_bound)"
   ],
   "metadata": {
    "collapsed": false
   }
  },
  {
   "cell_type": "code",
   "execution_count": 60,
   "outputs": [
    {
     "data": {
      "text/plain": "(785.0, -439.0)"
     },
     "execution_count": 60,
     "metadata": {},
     "output_type": "execute_result"
    }
   ],
   "source": [
    "(user_upper_bound, user_lower_bound) = find_outliers(Group_user.ItemId, 0.10)\n",
    "user_upper_bound, user_lower_bound"
   ],
   "metadata": {
    "collapsed": false
   }
  },
  {
   "cell_type": "markdown",
   "source": [
    "The lower bound is negative so we can't have any \"low outlier\""
   ],
   "metadata": {
    "collapsed": false
   }
  },
  {
   "cell_type": "code",
   "execution_count": 61,
   "outputs": [
    {
     "name": "stdout",
     "output_type": "stream",
     "text": [
      "The number of outliers is 1012\n"
     ]
    }
   ],
   "source": [
    "user_outliers = Group_user[Group_user['ItemId'] >= user_upper_bound]\n",
    "print(\"The number of outliers is {}\".format(len(user_outliers)))"
   ],
   "metadata": {
    "collapsed": false
   }
  },
  {
   "cell_type": "code",
   "execution_count": 62,
   "outputs": [
    {
     "data": {
      "text/plain": "       UserId  ItemId\n4           4    1458\n11         11     812\n86         86    1644\n115       115     979\n126       126    1096\n...       ...     ...\n41245   41245     794\n41254   41254    1181\n41403   41403    1488\n41467   41467    2085\n41535   41535    2071\n\n[1012 rows x 2 columns]",
      "text/html": "<div>\n<style scoped>\n    .dataframe tbody tr th:only-of-type {\n        vertical-align: middle;\n    }\n\n    .dataframe tbody tr th {\n        vertical-align: top;\n    }\n\n    .dataframe thead th {\n        text-align: right;\n    }\n</style>\n<table border=\"1\" class=\"dataframe\">\n  <thead>\n    <tr style=\"text-align: right;\">\n      <th></th>\n      <th>UserId</th>\n      <th>ItemId</th>\n    </tr>\n  </thead>\n  <tbody>\n    <tr>\n      <th>4</th>\n      <td>4</td>\n      <td>1458</td>\n    </tr>\n    <tr>\n      <th>11</th>\n      <td>11</td>\n      <td>812</td>\n    </tr>\n    <tr>\n      <th>86</th>\n      <td>86</td>\n      <td>1644</td>\n    </tr>\n    <tr>\n      <th>115</th>\n      <td>115</td>\n      <td>979</td>\n    </tr>\n    <tr>\n      <th>126</th>\n      <td>126</td>\n      <td>1096</td>\n    </tr>\n    <tr>\n      <th>...</th>\n      <td>...</td>\n      <td>...</td>\n    </tr>\n    <tr>\n      <th>41245</th>\n      <td>41245</td>\n      <td>794</td>\n    </tr>\n    <tr>\n      <th>41254</th>\n      <td>41254</td>\n      <td>1181</td>\n    </tr>\n    <tr>\n      <th>41403</th>\n      <td>41403</td>\n      <td>1488</td>\n    </tr>\n    <tr>\n      <th>41467</th>\n      <td>41467</td>\n      <td>2085</td>\n    </tr>\n    <tr>\n      <th>41535</th>\n      <td>41535</td>\n      <td>2071</td>\n    </tr>\n  </tbody>\n</table>\n<p>1012 rows × 2 columns</p>\n</div>"
     },
     "execution_count": 62,
     "metadata": {},
     "output_type": "execute_result"
    }
   ],
   "source": [
    "user_outliers"
   ],
   "metadata": {
    "collapsed": false
   }
  },
  {
   "cell_type": "markdown",
   "source": [
    "### Finding Item Outliers"
   ],
   "metadata": {
    "collapsed": false
   }
  },
  {
   "cell_type": "code",
   "execution_count": 63,
   "outputs": [
    {
     "data": {
      "text/plain": "         UserId  ItemId\n0             0      21\n12            0      22\n27            0      24\n28            0      44\n29            0      54\n...         ...     ...\n5826500   41628   20448\n5826501   41628   20896\n5826502   41628   21506\n5826503   41628   22882\n5826504   41628   23757\n\n[1554639 rows x 2 columns]",
      "text/html": "<div>\n<style scoped>\n    .dataframe tbody tr th:only-of-type {\n        vertical-align: middle;\n    }\n\n    .dataframe tbody tr th {\n        vertical-align: top;\n    }\n\n    .dataframe thead th {\n        text-align: right;\n    }\n</style>\n<table border=\"1\" class=\"dataframe\">\n  <thead>\n    <tr style=\"text-align: right;\">\n      <th></th>\n      <th>UserId</th>\n      <th>ItemId</th>\n    </tr>\n  </thead>\n  <tbody>\n    <tr>\n      <th>0</th>\n      <td>0</td>\n      <td>21</td>\n    </tr>\n    <tr>\n      <th>12</th>\n      <td>0</td>\n      <td>22</td>\n    </tr>\n    <tr>\n      <th>27</th>\n      <td>0</td>\n      <td>24</td>\n    </tr>\n    <tr>\n      <th>28</th>\n      <td>0</td>\n      <td>44</td>\n    </tr>\n    <tr>\n      <th>29</th>\n      <td>0</td>\n      <td>54</td>\n    </tr>\n    <tr>\n      <th>...</th>\n      <td>...</td>\n      <td>...</td>\n    </tr>\n    <tr>\n      <th>5826500</th>\n      <td>41628</td>\n      <td>20448</td>\n    </tr>\n    <tr>\n      <th>5826501</th>\n      <td>41628</td>\n      <td>20896</td>\n    </tr>\n    <tr>\n      <th>5826502</th>\n      <td>41628</td>\n      <td>21506</td>\n    </tr>\n    <tr>\n      <th>5826503</th>\n      <td>41628</td>\n      <td>22882</td>\n    </tr>\n    <tr>\n      <th>5826504</th>\n      <td>41628</td>\n      <td>23757</td>\n    </tr>\n  </tbody>\n</table>\n<p>1554639 rows × 2 columns</p>\n</div>"
     },
     "execution_count": 63,
     "metadata": {},
     "output_type": "execute_result"
    }
   ],
   "source": [
    "Group_item = Interactions_and_Impressions.drop(['ImpressionList', 'Data'], axis=1).drop_duplicates() # drop duplicates + the two columns\n",
    "Group_item"
   ],
   "metadata": {
    "collapsed": false
   }
  },
  {
   "cell_type": "code",
   "execution_count": 32,
   "outputs": [
    {
     "data": {
      "text/plain": "       ItemId  UserId\n0           0      41\n1           1      87\n2           2      50\n3           3      63\n4           4      66\n...       ...     ...\n24502   24502      22\n24503   24503      31\n24504   24504      25\n24505   24505      24\n24506   24506      24\n\n[24507 rows x 2 columns]",
      "text/html": "<div>\n<style scoped>\n    .dataframe tbody tr th:only-of-type {\n        vertical-align: middle;\n    }\n\n    .dataframe tbody tr th {\n        vertical-align: top;\n    }\n\n    .dataframe thead th {\n        text-align: right;\n    }\n</style>\n<table border=\"1\" class=\"dataframe\">\n  <thead>\n    <tr style=\"text-align: right;\">\n      <th></th>\n      <th>ItemId</th>\n      <th>UserId</th>\n    </tr>\n  </thead>\n  <tbody>\n    <tr>\n      <th>0</th>\n      <td>0</td>\n      <td>41</td>\n    </tr>\n    <tr>\n      <th>1</th>\n      <td>1</td>\n      <td>87</td>\n    </tr>\n    <tr>\n      <th>2</th>\n      <td>2</td>\n      <td>50</td>\n    </tr>\n    <tr>\n      <th>3</th>\n      <td>3</td>\n      <td>63</td>\n    </tr>\n    <tr>\n      <th>4</th>\n      <td>4</td>\n      <td>66</td>\n    </tr>\n    <tr>\n      <th>...</th>\n      <td>...</td>\n      <td>...</td>\n    </tr>\n    <tr>\n      <th>24502</th>\n      <td>24502</td>\n      <td>22</td>\n    </tr>\n    <tr>\n      <th>24503</th>\n      <td>24503</td>\n      <td>31</td>\n    </tr>\n    <tr>\n      <th>24504</th>\n      <td>24504</td>\n      <td>25</td>\n    </tr>\n    <tr>\n      <th>24505</th>\n      <td>24505</td>\n      <td>24</td>\n    </tr>\n    <tr>\n      <th>24506</th>\n      <td>24506</td>\n      <td>24</td>\n    </tr>\n  </tbody>\n</table>\n<p>24507 rows × 2 columns</p>\n</div>"
     },
     "execution_count": 32,
     "metadata": {},
     "output_type": "execute_result"
    }
   ],
   "source": [
    "Group_item = Group_item.groupby(['ItemId'], as_index=False).count()\n",
    "Group_item"
   ],
   "metadata": {
    "collapsed": false
   }
  },
  {
   "cell_type": "code",
   "execution_count": 33,
   "outputs": [
    {
     "name": "stdout",
     "output_type": "stream",
     "text": [
      "The mean number of interactions per Item is 63.43652833884197\n",
      "\n",
      "The 25% quantile number of interactions per Item is 29.0\n",
      "\n",
      "The 75% quantile number of interactions per Item is 46.0\n",
      "\n",
      "The max number of interactions per Item is 9481\n",
      "\n",
      "\n"
     ]
    }
   ],
   "source": [
    "print(\"The mean number of interactions per Item is {}\".format(Group_item.UserId.mean()))\n",
    "print(\"\")\n",
    "print(\"The 25% quantile number of interactions per Item is {}\".format(Group_item.UserId.quantile(.25)))\n",
    "print(\"\")\n",
    "print(\"The 75% quantile number of interactions per Item is {}\".format(Group_item.UserId.quantile(.75)))\n",
    "print(\"\")\n",
    "print(\"The max number of interactions per Item is {}\".format(Group_item.UserId.max()))\n",
    "print(\"\\n\")"
   ],
   "metadata": {
    "collapsed": false
   }
  },
  {
   "cell_type": "code",
   "execution_count": 34,
   "outputs": [
    {
     "data": {
      "text/plain": "(182.5, -69.5)"
     },
     "execution_count": 34,
     "metadata": {},
     "output_type": "execute_result"
    }
   ],
   "source": [
    "outliers_ratio = 0.10\n",
    "(item_upper_bound, item_lower_bound) = find_outliers(Group_item.UserId, outliers_ratio)   # outliers are outside these bounds\n",
    "item_upper_bound, item_lower_bound"
   ],
   "metadata": {
    "collapsed": false
   }
  },
  {
   "cell_type": "code",
   "execution_count": 42,
   "outputs": [
    {
     "name": "stdout",
     "output_type": "stream",
     "text": [
      "The number of Item outliers is 1070\n",
      "The total number of Items is 24507, so outliers are the 4.366%\n"
     ]
    }
   ],
   "source": [
    "item_outliers = Group_item[Group_item['UserId'] >= item_upper_bound]\n",
    "print(\"The number of Item outliers is {}\".format(len(item_outliers)))\n",
    "print(\"The total number of Items is {}, so outliers are the {:.3f}%\".format(len(itemId_unique), len(item_outliers)/len(itemId_unique)*100))"
   ],
   "metadata": {
    "collapsed": false
   }
  },
  {
   "cell_type": "code",
   "execution_count": 41,
   "outputs": [
    {
     "data": {
      "text/plain": "       ItemId  UserId\n5           5     658\n6           6     455\n7           7     248\n19         19     485\n20         20    5016\n...       ...     ...\n22782   22782     273\n22844   22844     187\n22864   22864     372\n22894   22894     214\n22938   22938     345\n\n[1070 rows x 2 columns]",
      "text/html": "<div>\n<style scoped>\n    .dataframe tbody tr th:only-of-type {\n        vertical-align: middle;\n    }\n\n    .dataframe tbody tr th {\n        vertical-align: top;\n    }\n\n    .dataframe thead th {\n        text-align: right;\n    }\n</style>\n<table border=\"1\" class=\"dataframe\">\n  <thead>\n    <tr style=\"text-align: right;\">\n      <th></th>\n      <th>ItemId</th>\n      <th>UserId</th>\n    </tr>\n  </thead>\n  <tbody>\n    <tr>\n      <th>5</th>\n      <td>5</td>\n      <td>658</td>\n    </tr>\n    <tr>\n      <th>6</th>\n      <td>6</td>\n      <td>455</td>\n    </tr>\n    <tr>\n      <th>7</th>\n      <td>7</td>\n      <td>248</td>\n    </tr>\n    <tr>\n      <th>19</th>\n      <td>19</td>\n      <td>485</td>\n    </tr>\n    <tr>\n      <th>20</th>\n      <td>20</td>\n      <td>5016</td>\n    </tr>\n    <tr>\n      <th>...</th>\n      <td>...</td>\n      <td>...</td>\n    </tr>\n    <tr>\n      <th>22782</th>\n      <td>22782</td>\n      <td>273</td>\n    </tr>\n    <tr>\n      <th>22844</th>\n      <td>22844</td>\n      <td>187</td>\n    </tr>\n    <tr>\n      <th>22864</th>\n      <td>22864</td>\n      <td>372</td>\n    </tr>\n    <tr>\n      <th>22894</th>\n      <td>22894</td>\n      <td>214</td>\n    </tr>\n    <tr>\n      <th>22938</th>\n      <td>22938</td>\n      <td>345</td>\n    </tr>\n  </tbody>\n</table>\n<p>1070 rows × 2 columns</p>\n</div>"
     },
     "execution_count": 41,
     "metadata": {},
     "output_type": "execute_result"
    }
   ],
   "source": [
    "item_outliers"
   ],
   "metadata": {
    "collapsed": false
   }
  },
  {
   "cell_type": "markdown",
   "id": "9f1636bb",
   "metadata": {},
   "source": [
    "# Stats about the dataframe:"
   ]
  },
  {
   "cell_type": "markdown",
   "id": "4d181e1c",
   "metadata": {},
   "source": [
    "#### Let's remove empty indeces:"
   ]
  },
  {
   "cell_type": "code",
   "execution_count": 43,
   "id": "7d2149c5",
   "metadata": {},
   "outputs": [
    {
     "data": {
      "text/plain": "21           0\n22           1\n24           2\n44           3\n54           4\n         ...  \n19714    24502\n19075    24503\n20006    24504\n20177    24505\n2538     24506\nLength: 24507, dtype: int64"
     },
     "execution_count": 43,
     "metadata": {},
     "output_type": "execute_result"
    }
   ],
   "source": [
    "mapped_id, original_id = pd.factorize(Interactions_and_Impressions[\"UserId\"].unique())\n",
    "user_original_Id_to_index = pd.Series(mapped_id, index=original_id)\n",
    "\n",
    "mapped_id, original_id = pd.factorize(Interactions_and_Impressions[\"ItemId\"].unique())\n",
    "item_original_Id_to_index = pd.Series(mapped_id, index=original_id)\n",
    "item_original_Id_to_index"
   ]
  },
  {
   "cell_type": "code",
   "execution_count": 198,
   "id": "a257bb60",
   "metadata": {},
   "outputs": [
    {
     "name": "stdout",
     "output_type": "stream",
     "text": [
      "New index for item 21 is 0\n"
     ]
    }
   ],
   "source": [
    "original_item_Id = 21\n",
    "print(\"New index for item {} is {}\".format(original_item_Id, item_original_Id_to_index[original_item_Id]))"
   ]
  },
  {
   "cell_type": "code",
   "execution_count": 199,
   "id": "baf06b67",
   "metadata": {},
   "outputs": [],
   "source": [
    "Interactions_and_Impressions[\"UserId\"] = Interactions_and_Impressions[\"UserId\"].map(user_original_Id_to_index)\n",
    "Interactions_and_Impressions[\"ItemId\"] = Interactions_and_Impressions[\"ItemId\"].map(item_original_Id_to_index)"
   ]
  },
  {
   "cell_type": "code",
   "execution_count": 200,
   "id": "c0d6559b",
   "metadata": {},
   "outputs": [
    {
     "data": {
      "text/plain": "         UserId  ItemId                 ImpressionList  Data\n0             0       0                            NaN     0\n1             0       0                            NaN     0\n2             0       0  20,21,22,23,24,25,26,27,28,29     0\n3             0       0                            NaN     1\n4             0       0                            NaN     1\n...         ...     ...                            ...   ...\n5826500   41628    3699                            NaN     0\n5826501   41628   12693                            NaN     1\n5826502   41628   15131                            NaN     1\n5826503   41628   18127                            NaN     0\n5826504   41628   14572                            NaN     0\n\n[5826505 rows x 4 columns]",
      "text/html": "<div>\n<style scoped>\n    .dataframe tbody tr th:only-of-type {\n        vertical-align: middle;\n    }\n\n    .dataframe tbody tr th {\n        vertical-align: top;\n    }\n\n    .dataframe thead th {\n        text-align: right;\n    }\n</style>\n<table border=\"1\" class=\"dataframe\">\n  <thead>\n    <tr style=\"text-align: right;\">\n      <th></th>\n      <th>UserId</th>\n      <th>ItemId</th>\n      <th>ImpressionList</th>\n      <th>Data</th>\n    </tr>\n  </thead>\n  <tbody>\n    <tr>\n      <th>0</th>\n      <td>0</td>\n      <td>0</td>\n      <td>NaN</td>\n      <td>0</td>\n    </tr>\n    <tr>\n      <th>1</th>\n      <td>0</td>\n      <td>0</td>\n      <td>NaN</td>\n      <td>0</td>\n    </tr>\n    <tr>\n      <th>2</th>\n      <td>0</td>\n      <td>0</td>\n      <td>20,21,22,23,24,25,26,27,28,29</td>\n      <td>0</td>\n    </tr>\n    <tr>\n      <th>3</th>\n      <td>0</td>\n      <td>0</td>\n      <td>NaN</td>\n      <td>1</td>\n    </tr>\n    <tr>\n      <th>4</th>\n      <td>0</td>\n      <td>0</td>\n      <td>NaN</td>\n      <td>1</td>\n    </tr>\n    <tr>\n      <th>...</th>\n      <td>...</td>\n      <td>...</td>\n      <td>...</td>\n      <td>...</td>\n    </tr>\n    <tr>\n      <th>5826500</th>\n      <td>41628</td>\n      <td>3699</td>\n      <td>NaN</td>\n      <td>0</td>\n    </tr>\n    <tr>\n      <th>5826501</th>\n      <td>41628</td>\n      <td>12693</td>\n      <td>NaN</td>\n      <td>1</td>\n    </tr>\n    <tr>\n      <th>5826502</th>\n      <td>41628</td>\n      <td>15131</td>\n      <td>NaN</td>\n      <td>1</td>\n    </tr>\n    <tr>\n      <th>5826503</th>\n      <td>41628</td>\n      <td>18127</td>\n      <td>NaN</td>\n      <td>0</td>\n    </tr>\n    <tr>\n      <th>5826504</th>\n      <td>41628</td>\n      <td>14572</td>\n      <td>NaN</td>\n      <td>0</td>\n    </tr>\n  </tbody>\n</table>\n<p>5826505 rows × 4 columns</p>\n</div>"
     },
     "execution_count": 200,
     "metadata": {},
     "output_type": "execute_result"
    }
   ],
   "source": [
    "Interactions_and_Impressions"
   ]
  },
  {
   "cell_type": "markdown",
   "id": "df9bc2ee",
   "metadata": {},
   "source": [
    "#### How to get back original IDs:"
   ]
  },
  {
   "cell_type": "code",
   "execution_count": 220,
   "id": "62725114",
   "metadata": {},
   "outputs": [
    {
     "data": {
      "text/plain": "44"
     },
     "execution_count": 220,
     "metadata": {},
     "output_type": "execute_result"
    }
   ],
   "source": [
    "# to revert the mapping:\n",
    "item_original_Id_to_index[item_original_Id_to_index==3].index.item()"
   ]
  },
  {
   "cell_type": "markdown",
   "id": "36cc4f3d",
   "metadata": {},
   "source": [
    "### Average interactions per user/item:"
   ]
  },
  {
   "cell_type": "code",
   "execution_count": 202,
   "id": "6a29e6c9",
   "metadata": {},
   "outputs": [
    {
     "name": "stdout",
     "output_type": "stream",
     "text": [
      "Number of items\t 24507, Number of users\t 41629\n",
      "Max ID items\t 24506, Max Id users\t 41628\n",
      "\n",
      "Average interactions per user 139.96\n",
      "Average interactions per item 237.75\n",
      "\n"
     ]
    }
   ],
   "source": [
    "userId_unique = Interactions_and_Impressions[\"UserId\"].unique()\n",
    "itemId_unique = Interactions_and_Impressions[\"ItemId\"].unique()\n",
    "\n",
    "n_users = len(userId_unique)\n",
    "n_items = len(itemId_unique)\n",
    "n_interactions = len(Interactions_and_Impressions)\n",
    "\n",
    "print (\"Number of items\\t {}, Number of users\\t {}\".format(n_items, n_users))\n",
    "print (\"Max ID items\\t {}, Max Id users\\t {}\\n\".format(max(itemId_unique), max(userId_unique)))\n",
    "print (\"Average interactions per user {:.2f}\".format(n_interactions/n_users))\n",
    "print (\"Average interactions per item {:.2f}\\n\".format(n_interactions/n_items))"
   ]
  },
  {
   "cell_type": "markdown",
   "id": "ba3af0d3",
   "metadata": {},
   "source": [
    "### Interactions distribution on users\n",
    "We'll take a look at the distribution of interactions and impressions on users.\n",
    "1) first we'll consider all interactions (both Data=0 and Data=1) separately\n",
    "2) then we'll get rid of multiple interactions (ie: we'll count all interactions on the same item as one)\n",
    "3) lastly we'll compare the two results"
   ]
  },
  {
   "cell_type": "markdown",
   "id": "46078768",
   "metadata": {},
   "source": [
    "#### (1) All Interactions"
   ]
  },
  {
   "cell_type": "code",
   "execution_count": 203,
   "id": "6bcb0b03",
   "metadata": {},
   "outputs": [
    {
     "data": {
      "text/plain": "<pandas.core.groupby.generic.DataFrameGroupBy object at 0x7f21ff5e1640>"
     },
     "execution_count": 203,
     "metadata": {},
     "output_type": "execute_result"
    }
   ],
   "source": [
    "g = Interactions_and_Impressions.groupby('UserId')\n",
    "g"
   ]
  },
  {
   "cell_type": "code",
   "execution_count": 204,
   "id": "84929667",
   "metadata": {},
   "outputs": [
    {
     "data": {
      "text/plain": "0         156\n1          22\n2         238\n3         349\n4        1458\n         ... \n41624      57\n41625      22\n41626      28\n41627     133\n41628      23\nLength: 41629, dtype: int64"
     },
     "execution_count": 204,
     "metadata": {},
     "output_type": "execute_result"
    }
   ],
   "source": [
    "sizes = []\n",
    "for user_id, user_id_df in g:\n",
    "    sizes.append(len(user_id_df))\n",
    "\n",
    "activities_per_user = pd.Series(data=sizes, index=range(0, len(userId_unique)))\n",
    "activities_per_user"
   ]
  },
  {
   "cell_type": "markdown",
   "id": "6697039e",
   "metadata": {},
   "source": [
    "#### Note that the majority of users have few interactions (less then 1000) - (!) multiple impressions on the same item are considered separately"
   ]
  },
  {
   "cell_type": "code",
   "execution_count": 205,
   "id": "53ea0994",
   "metadata": {},
   "outputs": [
    {
     "data": {
      "text/plain": "[<matplotlib.lines.Line2D at 0x7f220d446700>]"
     },
     "execution_count": 205,
     "metadata": {},
     "output_type": "execute_result"
    },
    {
     "data": {
      "text/plain": "<Figure size 640x480 with 1 Axes>",
      "image/png": "[encoded data removed]"
     },
     "metadata": {},
     "output_type": "display_data"
    }
   ],
   "source": [
    "\n",
    "n_activities_per_user = activities_per_user.values.copy()\n",
    "n_activities_per_user.sort()\n",
    "\n",
    "pyplot.plot(n_activities_per_user, 'ro')\n"
   ]
  },
  {
   "cell_type": "markdown",
   "id": "c8150af4",
   "metadata": {},
   "source": [
    "#### (2) Without considering multiple interactions\n",
    "Ie: let's throw away the Data and ImpressionList column and all duplicates row"
   ]
  },
  {
   "cell_type": "code",
   "execution_count": 206,
   "id": "e91f8c88",
   "metadata": {},
   "outputs": [],
   "source": [
    "Distinct_Interactions = Interactions_and_Impressions.copy(deep=True)\n",
    "Distinct_Interactions = Distinct_Interactions.drop([\"ImpressionList\", \"Data\"], axis=1)\n",
    "Distinct_Interactions = Distinct_Interactions.drop_duplicates()"
   ]
  },
  {
   "cell_type": "code",
   "execution_count": 207,
   "id": "6fad3cfc",
   "metadata": {},
   "outputs": [
    {
     "data": {
      "text/plain": "         UserId  ItemId\n0             0       0\n12            0       1\n27            0       2\n28            0       3\n29            0       4\n...         ...     ...\n5826500   41628    3699\n5826501   41628   12693\n5826502   41628   15131\n5826503   41628   18127\n5826504   41628   14572\n\n[1554639 rows x 2 columns]",
      "text/html": "<div>\n<style scoped>\n    .dataframe tbody tr th:only-of-type {\n        vertical-align: middle;\n    }\n\n    .dataframe tbody tr th {\n        vertical-align: top;\n    }\n\n    .dataframe thead th {\n        text-align: right;\n    }\n</style>\n<table border=\"1\" class=\"dataframe\">\n  <thead>\n    <tr style=\"text-align: right;\">\n      <th></th>\n      <th>UserId</th>\n      <th>ItemId</th>\n    </tr>\n  </thead>\n  <tbody>\n    <tr>\n      <th>0</th>\n      <td>0</td>\n      <td>0</td>\n    </tr>\n    <tr>\n      <th>12</th>\n      <td>0</td>\n      <td>1</td>\n    </tr>\n    <tr>\n      <th>27</th>\n      <td>0</td>\n      <td>2</td>\n    </tr>\n    <tr>\n      <th>28</th>\n      <td>0</td>\n      <td>3</td>\n    </tr>\n    <tr>\n      <th>29</th>\n      <td>0</td>\n      <td>4</td>\n    </tr>\n    <tr>\n      <th>...</th>\n      <td>...</td>\n      <td>...</td>\n    </tr>\n    <tr>\n      <th>5826500</th>\n      <td>41628</td>\n      <td>3699</td>\n    </tr>\n    <tr>\n      <th>5826501</th>\n      <td>41628</td>\n      <td>12693</td>\n    </tr>\n    <tr>\n      <th>5826502</th>\n      <td>41628</td>\n      <td>15131</td>\n    </tr>\n    <tr>\n      <th>5826503</th>\n      <td>41628</td>\n      <td>18127</td>\n    </tr>\n    <tr>\n      <th>5826504</th>\n      <td>41628</td>\n      <td>14572</td>\n    </tr>\n  </tbody>\n</table>\n<p>1554639 rows × 2 columns</p>\n</div>"
     },
     "execution_count": 207,
     "metadata": {},
     "output_type": "execute_result"
    }
   ],
   "source": [
    "Distinct_Interactions"
   ]
  },
  {
   "cell_type": "markdown",
   "id": "60007ef7",
   "metadata": {},
   "source": [
    "This time instead of using gropBy I'll use the properties of SciPy sparce matrices"
   ]
  },
  {
   "cell_type": "code",
   "execution_count": 208,
   "id": "b0492c83",
   "metadata": {},
   "outputs": [
    {
     "data": {
      "text/plain": "<41629x24507 sparse matrix of type '<class 'numpy.float64'>'\n\twith 1554639 stored elements in COOrdinate format>"
     },
     "execution_count": 208,
     "metadata": {},
     "output_type": "execute_result"
    }
   ],
   "source": [
    "import scipy.sparse as sps\n",
    "\n",
    "# we want the matrix to be a binary matrix\n",
    "data = np.ones(len(Distinct_Interactions))\n",
    "\n",
    "# The COO constructor expects (data, (row, column))\n",
    "implicit_URM = sps.coo_matrix((data, \n",
    "                               (Distinct_Interactions[\"UserId\"].values, Distinct_Interactions[\"ItemId\"].values)))\n",
    "implicit_URM"
   ]
  },
  {
   "cell_type": "code",
   "execution_count": 209,
   "id": "376dcc8c",
   "metadata": {},
   "outputs": [
    {
     "data": {
      "text/plain": "<Figure size 640x480 with 1 Axes>",
      "image/png": "[encoded data removed]"
     },
     "metadata": {},
     "output_type": "display_data"
    }
   ],
   "source": [
    "interactions_per_user = np.ediff1d(implicit_URM.tocsr().indptr)\n",
    "interactions_per_user = np.sort(interactions_per_user)\n",
    "\n",
    "pyplot.plot(interactions_per_user, 'ro')\n",
    "pyplot.show()"
   ]
  },
  {
   "cell_type": "markdown",
   "id": "f6a7e0fa",
   "metadata": {},
   "source": [
    "The shape of the graph is roughly the same but the number of interactions is significantly lower"
   ]
  },
  {
   "cell_type": "markdown",
   "id": "321f033e",
   "metadata": {},
   "source": [
    "#### (3) Let's try comparing the two results, ie: see if getting rid of multiple interactions changes which users have more of them"
   ]
  },
  {
   "cell_type": "markdown",
   "id": "6d7c2a26",
   "metadata": {},
   "source": [
    "Firstly with duplicates:"
   ]
  },
  {
   "cell_type": "code",
   "execution_count": 210,
   "id": "f299da9e",
   "metadata": {},
   "outputs": [
    {
     "data": {
      "text/plain": "   UserId  ItemId                 ImpressionList  Data\n0       0       0                            NaN     0\n1       0       0                            NaN     0\n2       0       0  20,21,22,23,24,25,26,27,28,29     0\n3       0       0                            NaN     1\n4       0       0                            NaN     1\n5       0       0                            NaN     1\n6       0       0                            NaN     1\n7       0       0                            NaN     1\n8       0       0                            NaN     1\n9       0       0                            NaN     1",
      "text/html": "<div>\n<style scoped>\n    .dataframe tbody tr th:only-of-type {\n        vertical-align: middle;\n    }\n\n    .dataframe tbody tr th {\n        vertical-align: top;\n    }\n\n    .dataframe thead th {\n        text-align: right;\n    }\n</style>\n<table border=\"1\" class=\"dataframe\">\n  <thead>\n    <tr style=\"text-align: right;\">\n      <th></th>\n      <th>UserId</th>\n      <th>ItemId</th>\n      <th>ImpressionList</th>\n      <th>Data</th>\n    </tr>\n  </thead>\n  <tbody>\n    <tr>\n      <th>0</th>\n      <td>0</td>\n      <td>0</td>\n      <td>NaN</td>\n      <td>0</td>\n    </tr>\n    <tr>\n      <th>1</th>\n      <td>0</td>\n      <td>0</td>\n      <td>NaN</td>\n      <td>0</td>\n    </tr>\n    <tr>\n      <th>2</th>\n      <td>0</td>\n      <td>0</td>\n      <td>20,21,22,23,24,25,26,27,28,29</td>\n      <td>0</td>\n    </tr>\n    <tr>\n      <th>3</th>\n      <td>0</td>\n      <td>0</td>\n      <td>NaN</td>\n      <td>1</td>\n    </tr>\n    <tr>\n      <th>4</th>\n      <td>0</td>\n      <td>0</td>\n      <td>NaN</td>\n      <td>1</td>\n    </tr>\n    <tr>\n      <th>5</th>\n      <td>0</td>\n      <td>0</td>\n      <td>NaN</td>\n      <td>1</td>\n    </tr>\n    <tr>\n      <th>6</th>\n      <td>0</td>\n      <td>0</td>\n      <td>NaN</td>\n      <td>1</td>\n    </tr>\n    <tr>\n      <th>7</th>\n      <td>0</td>\n      <td>0</td>\n      <td>NaN</td>\n      <td>1</td>\n    </tr>\n    <tr>\n      <th>8</th>\n      <td>0</td>\n      <td>0</td>\n      <td>NaN</td>\n      <td>1</td>\n    </tr>\n    <tr>\n      <th>9</th>\n      <td>0</td>\n      <td>0</td>\n      <td>NaN</td>\n      <td>1</td>\n    </tr>\n  </tbody>\n</table>\n</div>"
     },
     "execution_count": 210,
     "metadata": {},
     "output_type": "execute_result"
    }
   ],
   "source": [
    "Interactions_and_Impressions.head(10)"
   ]
  },
  {
   "cell_type": "code",
   "execution_count": 211,
   "id": "9e6b4b33",
   "metadata": {},
   "outputs": [
    {
     "data": {
      "text/plain": "0         156\n1          22\n2         238\n3         349\n4        1458\n         ... \n41624      57\n41625      22\n41626      28\n41627     133\n41628      23\nLength: 41629, dtype: int64"
     },
     "execution_count": 211,
     "metadata": {},
     "output_type": "execute_result"
    }
   ],
   "source": [
    "sizes = []\n",
    "for user_id, user_id_df in g:\n",
    "    sizes.append(len(user_id_df))\n",
    "\n",
    "activities_per_user = pd.Series(data=sizes, index=range(0, len(userId_unique)))\n",
    "activities_per_user"
   ]
  },
  {
   "cell_type": "code",
   "execution_count": 212,
   "id": "9c2b49d4",
   "metadata": {},
   "outputs": [
    {
     "data": {
      "text/plain": "38400       5\n25061       6\n41083       6\n30257       6\n38965       7\n         ... \n18296    5854\n7445     5916\n1186     6353\n18764    7670\n390      7798\nLength: 41629, dtype: int64"
     },
     "execution_count": 212,
     "metadata": {},
     "output_type": "execute_result"
    }
   ],
   "source": [
    "activities_per_user = activities_per_user.sort_values()\n",
    "activities_per_user"
   ]
  },
  {
   "cell_type": "code",
   "execution_count": 213,
   "id": "47e8f137",
   "metadata": {},
   "outputs": [
    {
     "data": {
      "text/plain": "Int64Index([38400, 25061, 41083, 30257, 38965,    97, 38674, 21852, 21810,\n            11537,\n            ...\n             1610, 19407, 17868,  9723, 22372, 18296,  7445,  1186, 18764,\n              390],\n           dtype='int64', length=41629)"
     },
     "execution_count": 213,
     "metadata": {},
     "output_type": "execute_result"
    }
   ],
   "source": [
    "order = activities_per_user.index\n",
    "order"
   ]
  },
  {
   "cell_type": "markdown",
   "id": "6f5b0c3a",
   "metadata": {},
   "source": [
    "Now getting rid of duplicates:"
   ]
  },
  {
   "cell_type": "code",
   "execution_count": 214,
   "id": "099e9e88",
   "metadata": {},
   "outputs": [
    {
     "data": {
      "text/plain": "0         65\n1         21\n2        103\n3        127\n4         39\n        ... \n41624     38\n41625     21\n41626     23\n41627     53\n41628     23\nLength: 41629, dtype: int32"
     },
     "execution_count": 214,
     "metadata": {},
     "output_type": "execute_result"
    }
   ],
   "source": [
    "implicit_copy = implicit_URM.copy().tocsr()\n",
    "interactions_per_user = pd.Series(data=np.ediff1d(implicit_copy.indptr) , index=range(0, len(userId_unique)))\n",
    "interactions_per_user"
   ]
  },
  {
   "cell_type": "code",
   "execution_count": 215,
   "id": "7af72bf1",
   "metadata": {},
   "outputs": [
    {
     "data": {
      "text/plain": "     UserId  ItemId\n0         0       0\n12        0       1\n27        0       2\n28        0       3\n29        0       4\n..      ...     ...\n152       0      61\n153       0      62\n154       0      63\n155       0      64\n156       1      65\n\n[66 rows x 2 columns]",
      "text/html": "<div>\n<style scoped>\n    .dataframe tbody tr th:only-of-type {\n        vertical-align: middle;\n    }\n\n    .dataframe tbody tr th {\n        vertical-align: top;\n    }\n\n    .dataframe thead th {\n        text-align: right;\n    }\n</style>\n<table border=\"1\" class=\"dataframe\">\n  <thead>\n    <tr style=\"text-align: right;\">\n      <th></th>\n      <th>UserId</th>\n      <th>ItemId</th>\n    </tr>\n  </thead>\n  <tbody>\n    <tr>\n      <th>0</th>\n      <td>0</td>\n      <td>0</td>\n    </tr>\n    <tr>\n      <th>12</th>\n      <td>0</td>\n      <td>1</td>\n    </tr>\n    <tr>\n      <th>27</th>\n      <td>0</td>\n      <td>2</td>\n    </tr>\n    <tr>\n      <th>28</th>\n      <td>0</td>\n      <td>3</td>\n    </tr>\n    <tr>\n      <th>29</th>\n      <td>0</td>\n      <td>4</td>\n    </tr>\n    <tr>\n      <th>...</th>\n      <td>...</td>\n      <td>...</td>\n    </tr>\n    <tr>\n      <th>152</th>\n      <td>0</td>\n      <td>61</td>\n    </tr>\n    <tr>\n      <th>153</th>\n      <td>0</td>\n      <td>62</td>\n    </tr>\n    <tr>\n      <th>154</th>\n      <td>0</td>\n      <td>63</td>\n    </tr>\n    <tr>\n      <th>155</th>\n      <td>0</td>\n      <td>64</td>\n    </tr>\n    <tr>\n      <th>156</th>\n      <td>1</td>\n      <td>65</td>\n    </tr>\n  </tbody>\n</table>\n<p>66 rows × 2 columns</p>\n</div>"
     },
     "execution_count": 215,
     "metadata": {},
     "output_type": "execute_result"
    }
   ],
   "source": [
    "Distinct_Interactions.head(66) # just to check"
   ]
  },
  {
   "cell_type": "markdown",
   "id": "37db52d6",
   "metadata": {},
   "source": [
    "Now we have two Pandas Series containing number of interactions in the two scenarios:\n",
    "##### Let's plot them\n",
    "We'll take the sorting of the first case to see the differences between the two"
   ]
  },
  {
   "cell_type": "code",
   "execution_count": 216,
   "id": "a6071036",
   "metadata": {},
   "outputs": [
    {
     "data": {
      "text/plain": "38400      5\n25061      6\n41083      6\n30257      6\n38965      7\n        ... \n18296     47\n7445      67\n1186      71\n18764    612\n390       90\nLength: 41629, dtype: int32"
     },
     "execution_count": 216,
     "metadata": {},
     "output_type": "execute_result"
    }
   ],
   "source": [
    "interactions_per_user[order]"
   ]
  },
  {
   "cell_type": "code",
   "execution_count": 217,
   "id": "38b5d565",
   "metadata": {},
   "outputs": [
    {
     "data": {
      "text/plain": "[<matplotlib.lines.Line2D at 0x7f22283ed400>]"
     },
     "execution_count": 217,
     "metadata": {},
     "output_type": "execute_result"
    },
    {
     "data": {
      "text/plain": "<Figure size 640x480 with 1 Axes>",
      "image/png": "[encoded data removed]"
     },
     "metadata": {},
     "output_type": "display_data"
    }
   ],
   "source": [
    "pyplot.plot(interactions_per_user[order].values) #without considering multiple, blue\n",
    "pyplot.plot(activities_per_user[order].values) #considering multiple, orange"
   ]
  },
  {
   "cell_type": "markdown",
   "id": "b832efa5",
   "metadata": {},
   "source": [
    "##### -> we see from the graph that getting rid of multiple interactions doesn't produce huge changes"
   ]
  },
  {
   "cell_type": "code",
   "execution_count": 218,
   "id": "b8d03b33",
   "metadata": {},
   "outputs": [
    {
     "data": {
      "text/plain": "1.0"
     },
     "execution_count": 218,
     "metadata": {},
     "output_type": "execute_result"
    }
   ],
   "source": [
    "np.max(implicit_URM)"
   ]
  }
 ],
 "metadata": {
  "kernelspec": {
   "display_name": "Python 3 (ipykernel)",
   "language": "python",
   "name": "python3"
  },
  "language_info": {
   "codemirror_mode": {
    "name": "ipython",
    "version": 3
   },
   "file_extension": ".py",
   "mimetype": "text/x-python",
   "name": "python",
   "nbconvert_exporter": "python",
   "pygments_lexer": "ipython3",
   "version": "3.8.13"
  }
 },
 "nbformat": 4,
 "nbformat_minor": 5
}
