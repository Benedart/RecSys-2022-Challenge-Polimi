{
 "cells": [
  {
   "cell_type": "markdown",
   "id": "556718eb",
   "metadata": {},
   "source": [
    "# Data Load\n",
    "### Create the Pandas Dataframe"
   ]
  },
  {
   "cell_type": "code",
   "execution_count": 1,
   "id": "71b3b376",
   "metadata": {},
   "outputs": [
    {
     "data": {
      "text/plain": "         UserId  ItemId                 ImpressionList  Data\n0             0      21                            NaN     0\n1             0      21                            NaN     0\n2             0      21  20,21,22,23,24,25,26,27,28,29     0\n3             0      21                            NaN     1\n4             0      21                            NaN     1\n...         ...     ...                            ...   ...\n5826500   41628   20448                            NaN     0\n5826501   41628   20896                            NaN     1\n5826502   41628   21506                            NaN     1\n5826503   41628   22882                            NaN     0\n5826504   41628   23757                            NaN     0\n\n[5826505 rows x 4 columns]",
      "text/html": "<div>\n<style scoped>\n    .dataframe tbody tr th:only-of-type {\n        vertical-align: middle;\n    }\n\n    .dataframe tbody tr th {\n        vertical-align: top;\n    }\n\n    .dataframe thead th {\n        text-align: right;\n    }\n</style>\n<table border=\"1\" class=\"dataframe\">\n  <thead>\n    <tr style=\"text-align: right;\">\n      <th></th>\n      <th>UserId</th>\n      <th>ItemId</th>\n      <th>ImpressionList</th>\n      <th>Data</th>\n    </tr>\n  </thead>\n  <tbody>\n    <tr>\n      <th>0</th>\n      <td>0</td>\n      <td>21</td>\n      <td>NaN</td>\n      <td>0</td>\n    </tr>\n    <tr>\n      <th>1</th>\n      <td>0</td>\n      <td>21</td>\n      <td>NaN</td>\n      <td>0</td>\n    </tr>\n    <tr>\n      <th>2</th>\n      <td>0</td>\n      <td>21</td>\n      <td>20,21,22,23,24,25,26,27,28,29</td>\n      <td>0</td>\n    </tr>\n    <tr>\n      <th>3</th>\n      <td>0</td>\n      <td>21</td>\n      <td>NaN</td>\n      <td>1</td>\n    </tr>\n    <tr>\n      <th>4</th>\n      <td>0</td>\n      <td>21</td>\n      <td>NaN</td>\n      <td>1</td>\n    </tr>\n    <tr>\n      <th>...</th>\n      <td>...</td>\n      <td>...</td>\n      <td>...</td>\n      <td>...</td>\n    </tr>\n    <tr>\n      <th>5826500</th>\n      <td>41628</td>\n      <td>20448</td>\n      <td>NaN</td>\n      <td>0</td>\n    </tr>\n    <tr>\n      <th>5826501</th>\n      <td>41628</td>\n      <td>20896</td>\n      <td>NaN</td>\n      <td>1</td>\n    </tr>\n    <tr>\n      <th>5826502</th>\n      <td>41628</td>\n      <td>21506</td>\n      <td>NaN</td>\n      <td>1</td>\n    </tr>\n    <tr>\n      <th>5826503</th>\n      <td>41628</td>\n      <td>22882</td>\n      <td>NaN</td>\n      <td>0</td>\n    </tr>\n    <tr>\n      <th>5826504</th>\n      <td>41628</td>\n      <td>23757</td>\n      <td>NaN</td>\n      <td>0</td>\n    </tr>\n  </tbody>\n</table>\n<p>5826505 rows × 4 columns</p>\n</div>"
     },
     "execution_count": 1,
     "metadata": {},
     "output_type": "execute_result"
    }
   ],
   "source": [
    "import pandas as pd\n",
    "path = \"recommender-system-2022-challenge-polimi-data/interactions_and_impressions.csv\"\n",
    "\n",
    "Interactions_and_Impressions = pd.read_csv(filepath_or_buffer=path,\n",
    "                               sep=\",\",\n",
    "                               header=1,\n",
    "                               engine='python',\n",
    "                               names=['UserId', 'ItemId', 'ImpressionList', 'Data'])\n",
    "Interactions_and_Impressions"
   ]
  },
  {
   "cell_type": "code",
   "execution_count": 2,
   "outputs": [
    {
     "name": "stdout",
     "output_type": "stream",
     "text": [
      "41628\n",
      "24506\n"
     ]
    }
   ],
   "source": [
    "print(Interactions_and_Impressions[\"UserId\"].max())\n",
    "print(Interactions_and_Impressions[\"ItemId\"].max())"
   ],
   "metadata": {
    "collapsed": false
   }
  },
  {
   "cell_type": "markdown",
   "source": [
    "- First remove ImpressionList\n",
    "- We want to give the same value to 0 and 1 interactions so we drop \"Data\" too\n",
    "- We don't consider multiple interactions so we drop duplicates"
   ],
   "metadata": {
    "collapsed": false
   }
  },
  {
   "cell_type": "code",
   "execution_count": 3,
   "outputs": [
    {
     "data": {
      "text/plain": "         UserId  ItemId\n0             0      21\n12            0      22\n27            0      24\n28            0      44\n29            0      54\n...         ...     ...\n5826500   41628   20448\n5826501   41628   20896\n5826502   41628   21506\n5826503   41628   22882\n5826504   41628   23757\n\n[1554639 rows x 2 columns]",
      "text/html": "<div>\n<style scoped>\n    .dataframe tbody tr th:only-of-type {\n        vertical-align: middle;\n    }\n\n    .dataframe tbody tr th {\n        vertical-align: top;\n    }\n\n    .dataframe thead th {\n        text-align: right;\n    }\n</style>\n<table border=\"1\" class=\"dataframe\">\n  <thead>\n    <tr style=\"text-align: right;\">\n      <th></th>\n      <th>UserId</th>\n      <th>ItemId</th>\n    </tr>\n  </thead>\n  <tbody>\n    <tr>\n      <th>0</th>\n      <td>0</td>\n      <td>21</td>\n    </tr>\n    <tr>\n      <th>12</th>\n      <td>0</td>\n      <td>22</td>\n    </tr>\n    <tr>\n      <th>27</th>\n      <td>0</td>\n      <td>24</td>\n    </tr>\n    <tr>\n      <th>28</th>\n      <td>0</td>\n      <td>44</td>\n    </tr>\n    <tr>\n      <th>29</th>\n      <td>0</td>\n      <td>54</td>\n    </tr>\n    <tr>\n      <th>...</th>\n      <td>...</td>\n      <td>...</td>\n    </tr>\n    <tr>\n      <th>5826500</th>\n      <td>41628</td>\n      <td>20448</td>\n    </tr>\n    <tr>\n      <th>5826501</th>\n      <td>41628</td>\n      <td>20896</td>\n    </tr>\n    <tr>\n      <th>5826502</th>\n      <td>41628</td>\n      <td>21506</td>\n    </tr>\n    <tr>\n      <th>5826503</th>\n      <td>41628</td>\n      <td>22882</td>\n    </tr>\n    <tr>\n      <th>5826504</th>\n      <td>41628</td>\n      <td>23757</td>\n    </tr>\n  </tbody>\n</table>\n<p>1554639 rows × 2 columns</p>\n</div>"
     },
     "execution_count": 3,
     "metadata": {},
     "output_type": "execute_result"
    }
   ],
   "source": [
    "Distinct_Interactions = Interactions_and_Impressions.copy(deep=True)\n",
    "Distinct_Interactions = Distinct_Interactions.drop([\"ImpressionList\", \"Data\"], axis=1)\n",
    "Distinct_Interactions = Distinct_Interactions.drop_duplicates()\n",
    "Distinct_Interactions"
   ],
   "metadata": {
    "collapsed": false
   }
  },
  {
   "cell_type": "markdown",
   "source": [
    "Let's drop the duplicates now"
   ],
   "metadata": {
    "collapsed": false
   }
  },
  {
   "cell_type": "markdown",
   "source": [
    "### Let's now deal with outliers"
   ],
   "metadata": {
    "collapsed": false
   }
  },
  {
   "cell_type": "code",
   "execution_count": 4,
   "outputs": [
    {
     "data": {
      "text/plain": "       ItemId  UserId\n0           0      41\n1           1      87\n2           2      50\n3           3      63\n4           4      66\n...       ...     ...\n24502   24502      22\n24503   24503      31\n24504   24504      25\n24505   24505      24\n24506   24506      24\n\n[24507 rows x 2 columns]",
      "text/html": "<div>\n<style scoped>\n    .dataframe tbody tr th:only-of-type {\n        vertical-align: middle;\n    }\n\n    .dataframe tbody tr th {\n        vertical-align: top;\n    }\n\n    .dataframe thead th {\n        text-align: right;\n    }\n</style>\n<table border=\"1\" class=\"dataframe\">\n  <thead>\n    <tr style=\"text-align: right;\">\n      <th></th>\n      <th>ItemId</th>\n      <th>UserId</th>\n    </tr>\n  </thead>\n  <tbody>\n    <tr>\n      <th>0</th>\n      <td>0</td>\n      <td>41</td>\n    </tr>\n    <tr>\n      <th>1</th>\n      <td>1</td>\n      <td>87</td>\n    </tr>\n    <tr>\n      <th>2</th>\n      <td>2</td>\n      <td>50</td>\n    </tr>\n    <tr>\n      <th>3</th>\n      <td>3</td>\n      <td>63</td>\n    </tr>\n    <tr>\n      <th>4</th>\n      <td>4</td>\n      <td>66</td>\n    </tr>\n    <tr>\n      <th>...</th>\n      <td>...</td>\n      <td>...</td>\n    </tr>\n    <tr>\n      <th>24502</th>\n      <td>24502</td>\n      <td>22</td>\n    </tr>\n    <tr>\n      <th>24503</th>\n      <td>24503</td>\n      <td>31</td>\n    </tr>\n    <tr>\n      <th>24504</th>\n      <td>24504</td>\n      <td>25</td>\n    </tr>\n    <tr>\n      <th>24505</th>\n      <td>24505</td>\n      <td>24</td>\n    </tr>\n    <tr>\n      <th>24506</th>\n      <td>24506</td>\n      <td>24</td>\n    </tr>\n  </tbody>\n</table>\n<p>24507 rows × 2 columns</p>\n</div>"
     },
     "execution_count": 4,
     "metadata": {},
     "output_type": "execute_result"
    }
   ],
   "source": [
    "Group_by_item = Distinct_Interactions.groupby(['ItemId'], as_index=False).count()\n",
    "Group_by_item"
   ],
   "metadata": {
    "collapsed": false
   }
  },
  {
   "cell_type": "code",
   "execution_count": 5,
   "outputs": [
    {
     "name": "stdout",
     "output_type": "stream",
     "text": [
      "The mean number of interactions per Item is 63.43652833884197\n",
      "\n",
      "The 25% quantile number of interactions per Item is 29.0\n",
      "\n",
      "The 75% quantile number of interactions per Item is 46.0\n",
      "\n",
      "The max number of interactions per Item is 9481\n",
      "\n",
      "\n"
     ]
    }
   ],
   "source": [
    "print(\"The mean number of interactions per Item is {}\".format(Group_by_item.UserId.mean()))\n",
    "print(\"\")\n",
    "print(\"The 25% quantile number of interactions per Item is {}\".format(Group_by_item.UserId.quantile(.25)))\n",
    "print(\"\")\n",
    "print(\"The 75% quantile number of interactions per Item is {}\".format(Group_by_item.UserId.quantile(.75)))\n",
    "print(\"\")\n",
    "print(\"The max number of interactions per Item is {}\".format(Group_by_item.UserId.max()))\n",
    "print(\"\\n\")"
   ],
   "metadata": {
    "collapsed": false
   }
  },
  {
   "cell_type": "code",
   "execution_count": 6,
   "outputs": [
    {
     "data": {
      "text/plain": "(182.5, -69.5)"
     },
     "execution_count": 6,
     "metadata": {},
     "output_type": "execute_result"
    }
   ],
   "source": [
    "def find_outliers(data, percentage):\n",
    "    # the first quartile\n",
    "    q1 = data.quantile(percentage)\n",
    "\n",
    "    # the 3rd quartile\n",
    "    q3 = data.quantile(1-percentage)\n",
    "\n",
    "    # the iqr region\n",
    "    iqr = q3 - q1\n",
    "\n",
    "    # finding upper and lower whiskers\n",
    "    upper_bound = q3+(1.5*iqr)\n",
    "    lower_bound = q1-(1.5*iqr)\n",
    "\n",
    "    return (upper_bound, lower_bound)\n",
    "\n",
    "\n",
    "outliers_ratio = 0.10\n",
    "(item_upper_bound, item_lower_bound) = find_outliers(Group_by_item.UserId, outliers_ratio)   # outliers are outside these bounds\n",
    "item_upper_bound, item_lower_bound"
   ],
   "metadata": {
    "collapsed": false
   }
  },
  {
   "cell_type": "code",
   "execution_count": 7,
   "outputs": [
    {
     "name": "stdout",
     "output_type": "stream",
     "text": [
      "The number of Item outliers is 1070\n",
      "The total number of Items is 24507, so outliers are the 4.366%\n"
     ]
    }
   ],
   "source": [
    "item_outliers = Group_by_item[Group_by_item['UserId'] >= item_upper_bound]\n",
    "print(\"The number of Item outliers is {}\".format(len(item_outliers)))\n",
    "print(\"The total number of Items is {}, so outliers are the {:.3f}%\".format(len(Distinct_Interactions.ItemId.unique()), len(item_outliers)/len(Distinct_Interactions.ItemId.unique())*100))"
   ],
   "metadata": {
    "collapsed": false
   }
  },
  {
   "cell_type": "code",
   "execution_count": 8,
   "outputs": [
    {
     "data": {
      "text/plain": "       ItemId  UserId\n5           5     658\n6           6     455\n7           7     248\n19         19     485\n20         20    5016\n...       ...     ...\n22782   22782     273\n22844   22844     187\n22864   22864     372\n22894   22894     214\n22938   22938     345\n\n[1070 rows x 2 columns]",
      "text/html": "<div>\n<style scoped>\n    .dataframe tbody tr th:only-of-type {\n        vertical-align: middle;\n    }\n\n    .dataframe tbody tr th {\n        vertical-align: top;\n    }\n\n    .dataframe thead th {\n        text-align: right;\n    }\n</style>\n<table border=\"1\" class=\"dataframe\">\n  <thead>\n    <tr style=\"text-align: right;\">\n      <th></th>\n      <th>ItemId</th>\n      <th>UserId</th>\n    </tr>\n  </thead>\n  <tbody>\n    <tr>\n      <th>5</th>\n      <td>5</td>\n      <td>658</td>\n    </tr>\n    <tr>\n      <th>6</th>\n      <td>6</td>\n      <td>455</td>\n    </tr>\n    <tr>\n      <th>7</th>\n      <td>7</td>\n      <td>248</td>\n    </tr>\n    <tr>\n      <th>19</th>\n      <td>19</td>\n      <td>485</td>\n    </tr>\n    <tr>\n      <th>20</th>\n      <td>20</td>\n      <td>5016</td>\n    </tr>\n    <tr>\n      <th>...</th>\n      <td>...</td>\n      <td>...</td>\n    </tr>\n    <tr>\n      <th>22782</th>\n      <td>22782</td>\n      <td>273</td>\n    </tr>\n    <tr>\n      <th>22844</th>\n      <td>22844</td>\n      <td>187</td>\n    </tr>\n    <tr>\n      <th>22864</th>\n      <td>22864</td>\n      <td>372</td>\n    </tr>\n    <tr>\n      <th>22894</th>\n      <td>22894</td>\n      <td>214</td>\n    </tr>\n    <tr>\n      <th>22938</th>\n      <td>22938</td>\n      <td>345</td>\n    </tr>\n  </tbody>\n</table>\n<p>1070 rows × 2 columns</p>\n</div>"
     },
     "execution_count": 8,
     "metadata": {},
     "output_type": "execute_result"
    }
   ],
   "source": [
    "item_outliers"
   ],
   "metadata": {
    "collapsed": false
   }
  },
  {
   "cell_type": "markdown",
   "source": [
    "# Experiment 1: Try removing the outliers items"
   ],
   "metadata": {
    "collapsed": false
   }
  },
  {
   "cell_type": "code",
   "execution_count": 9,
   "outputs": [
    {
     "data": {
      "text/plain": "         UserId  ItemId\n37            0     159\n42            0     987\n47            0    1715\n54            0    2292\n55            0    2730\n...         ...     ...\n5826500   41628   20448\n5826501   41628   20896\n5826502   41628   21506\n5826503   41628   22882\n5826504   41628   23757\n\n[976819 rows x 2 columns]",
      "text/html": "<div>\n<style scoped>\n    .dataframe tbody tr th:only-of-type {\n        vertical-align: middle;\n    }\n\n    .dataframe tbody tr th {\n        vertical-align: top;\n    }\n\n    .dataframe thead th {\n        text-align: right;\n    }\n</style>\n<table border=\"1\" class=\"dataframe\">\n  <thead>\n    <tr style=\"text-align: right;\">\n      <th></th>\n      <th>UserId</th>\n      <th>ItemId</th>\n    </tr>\n  </thead>\n  <tbody>\n    <tr>\n      <th>37</th>\n      <td>0</td>\n      <td>159</td>\n    </tr>\n    <tr>\n      <th>42</th>\n      <td>0</td>\n      <td>987</td>\n    </tr>\n    <tr>\n      <th>47</th>\n      <td>0</td>\n      <td>1715</td>\n    </tr>\n    <tr>\n      <th>54</th>\n      <td>0</td>\n      <td>2292</td>\n    </tr>\n    <tr>\n      <th>55</th>\n      <td>0</td>\n      <td>2730</td>\n    </tr>\n    <tr>\n      <th>...</th>\n      <td>...</td>\n      <td>...</td>\n    </tr>\n    <tr>\n      <th>5826500</th>\n      <td>41628</td>\n      <td>20448</td>\n    </tr>\n    <tr>\n      <th>5826501</th>\n      <td>41628</td>\n      <td>20896</td>\n    </tr>\n    <tr>\n      <th>5826502</th>\n      <td>41628</td>\n      <td>21506</td>\n    </tr>\n    <tr>\n      <th>5826503</th>\n      <td>41628</td>\n      <td>22882</td>\n    </tr>\n    <tr>\n      <th>5826504</th>\n      <td>41628</td>\n      <td>23757</td>\n    </tr>\n  </tbody>\n</table>\n<p>976819 rows × 2 columns</p>\n</div>"
     },
     "execution_count": 9,
     "metadata": {},
     "output_type": "execute_result"
    }
   ],
   "source": [
    "Distinct_Interactions_no_outlier = Distinct_Interactions.copy(deep=True)\n",
    "for v in item_outliers.ItemId.values:\n",
    "    Distinct_Interactions_no_outlier = Distinct_Interactions_no_outlier[Distinct_Interactions_no_outlier[\"ItemId\"] != v]\n",
    "\n",
    "Distinct_Interactions_no_outlier"
   ],
   "metadata": {
    "collapsed": false
   }
  },
  {
   "cell_type": "code",
   "execution_count": 10,
   "outputs": [
    {
     "data": {
      "text/plain": "         UserId  ItemId  Rating\n37            0     159       1\n42            0     987       1\n47            0    1715       1\n54            0    2292       1\n55            0    2730       1\n...         ...     ...     ...\n5826500   41628   20448       1\n5826501   41628   20896       1\n5826502   41628   21506       1\n5826503   41628   22882       1\n5826504   41628   23757       1\n\n[976819 rows x 3 columns]",
      "text/html": "<div>\n<style scoped>\n    .dataframe tbody tr th:only-of-type {\n        vertical-align: middle;\n    }\n\n    .dataframe tbody tr th {\n        vertical-align: top;\n    }\n\n    .dataframe thead th {\n        text-align: right;\n    }\n</style>\n<table border=\"1\" class=\"dataframe\">\n  <thead>\n    <tr style=\"text-align: right;\">\n      <th></th>\n      <th>UserId</th>\n      <th>ItemId</th>\n      <th>Rating</th>\n    </tr>\n  </thead>\n  <tbody>\n    <tr>\n      <th>37</th>\n      <td>0</td>\n      <td>159</td>\n      <td>1</td>\n    </tr>\n    <tr>\n      <th>42</th>\n      <td>0</td>\n      <td>987</td>\n      <td>1</td>\n    </tr>\n    <tr>\n      <th>47</th>\n      <td>0</td>\n      <td>1715</td>\n      <td>1</td>\n    </tr>\n    <tr>\n      <th>54</th>\n      <td>0</td>\n      <td>2292</td>\n      <td>1</td>\n    </tr>\n    <tr>\n      <th>55</th>\n      <td>0</td>\n      <td>2730</td>\n      <td>1</td>\n    </tr>\n    <tr>\n      <th>...</th>\n      <td>...</td>\n      <td>...</td>\n      <td>...</td>\n    </tr>\n    <tr>\n      <th>5826500</th>\n      <td>41628</td>\n      <td>20448</td>\n      <td>1</td>\n    </tr>\n    <tr>\n      <th>5826501</th>\n      <td>41628</td>\n      <td>20896</td>\n      <td>1</td>\n    </tr>\n    <tr>\n      <th>5826502</th>\n      <td>41628</td>\n      <td>21506</td>\n      <td>1</td>\n    </tr>\n    <tr>\n      <th>5826503</th>\n      <td>41628</td>\n      <td>22882</td>\n      <td>1</td>\n    </tr>\n    <tr>\n      <th>5826504</th>\n      <td>41628</td>\n      <td>23757</td>\n      <td>1</td>\n    </tr>\n  </tbody>\n</table>\n<p>976819 rows × 3 columns</p>\n</div>"
     },
     "execution_count": 10,
     "metadata": {},
     "output_type": "execute_result"
    }
   ],
   "source": [
    "Distinct_Interactions_no_outlier['Rating'] = 1\n",
    "Distinct_Interactions_no_outlier"
   ],
   "metadata": {
    "collapsed": false
   }
  },
  {
   "cell_type": "code",
   "execution_count": 11,
   "outputs": [
    {
     "name": "stdout",
     "output_type": "stream",
     "text": [
      "The new number of Items is 23437\n"
     ]
    }
   ],
   "source": [
    "itemId_unique_no_outlier = Distinct_Interactions_no_outlier[\"ItemId\"].unique()\n",
    "print(\"The new number of Items is {}\".format(len(itemId_unique_no_outlier)))"
   ],
   "metadata": {
    "collapsed": false
   }
  },
  {
   "cell_type": "markdown",
   "source": [
    "Let's remove the empty indexes"
   ],
   "metadata": {
    "collapsed": false
   }
  },
  {
   "cell_type": "code",
   "execution_count": 12,
   "outputs": [],
   "source": [
    "userId_unique = Distinct_Interactions_no_outlier[\"UserId\"].unique()\n",
    "itemId_unique = Distinct_Interactions_no_outlier[\"ItemId\"].unique()"
   ],
   "metadata": {
    "collapsed": false
   }
  },
  {
   "cell_type": "code",
   "execution_count": 13,
   "outputs": [],
   "source": [
    "mapped_id, original_id = pd.factorize(Distinct_Interactions_no_outlier[\"UserId\"].unique())\n",
    "user_original_Id_to_index = pd.Series(mapped_id, index=original_id)\n",
    "\n",
    "mapped_id, original_id = pd.factorize(Distinct_Interactions_no_outlier[\"ItemId\"].unique())\n",
    "item_original_Id_to_index = pd.Series(mapped_id, index=original_id)"
   ],
   "metadata": {
    "collapsed": false
   }
  },
  {
   "cell_type": "code",
   "execution_count": 14,
   "outputs": [],
   "source": [
    "Distinct_Interactions_no_outlier[\"UserId\"] = Distinct_Interactions_no_outlier[\"UserId\"].map(user_original_Id_to_index)\n",
    "Distinct_Interactions_no_outlier[\"ItemId\"] = Distinct_Interactions_no_outlier[\"ItemId\"].map(item_original_Id_to_index)"
   ],
   "metadata": {
    "collapsed": false
   }
  },
  {
   "cell_type": "code",
   "execution_count": 15,
   "outputs": [
    {
     "data": {
      "text/plain": "    UserId  ItemId  Rating\n37       0       0       1\n42       0       1       1\n47       0       2       1\n54       0       3       1\n55       0       4       1\n56       0       5       1\n57       0       6       1\n58       0       7       1\n59       0       8       1\n61       0       9       1\n63       0      10       1\n64       0      11       1\n65       0      12       1\n66       0      13       1\n67       0      14       1",
      "text/html": "<div>\n<style scoped>\n    .dataframe tbody tr th:only-of-type {\n        vertical-align: middle;\n    }\n\n    .dataframe tbody tr th {\n        vertical-align: top;\n    }\n\n    .dataframe thead th {\n        text-align: right;\n    }\n</style>\n<table border=\"1\" class=\"dataframe\">\n  <thead>\n    <tr style=\"text-align: right;\">\n      <th></th>\n      <th>UserId</th>\n      <th>ItemId</th>\n      <th>Rating</th>\n    </tr>\n  </thead>\n  <tbody>\n    <tr>\n      <th>37</th>\n      <td>0</td>\n      <td>0</td>\n      <td>1</td>\n    </tr>\n    <tr>\n      <th>42</th>\n      <td>0</td>\n      <td>1</td>\n      <td>1</td>\n    </tr>\n    <tr>\n      <th>47</th>\n      <td>0</td>\n      <td>2</td>\n      <td>1</td>\n    </tr>\n    <tr>\n      <th>54</th>\n      <td>0</td>\n      <td>3</td>\n      <td>1</td>\n    </tr>\n    <tr>\n      <th>55</th>\n      <td>0</td>\n      <td>4</td>\n      <td>1</td>\n    </tr>\n    <tr>\n      <th>56</th>\n      <td>0</td>\n      <td>5</td>\n      <td>1</td>\n    </tr>\n    <tr>\n      <th>57</th>\n      <td>0</td>\n      <td>6</td>\n      <td>1</td>\n    </tr>\n    <tr>\n      <th>58</th>\n      <td>0</td>\n      <td>7</td>\n      <td>1</td>\n    </tr>\n    <tr>\n      <th>59</th>\n      <td>0</td>\n      <td>8</td>\n      <td>1</td>\n    </tr>\n    <tr>\n      <th>61</th>\n      <td>0</td>\n      <td>9</td>\n      <td>1</td>\n    </tr>\n    <tr>\n      <th>63</th>\n      <td>0</td>\n      <td>10</td>\n      <td>1</td>\n    </tr>\n    <tr>\n      <th>64</th>\n      <td>0</td>\n      <td>11</td>\n      <td>1</td>\n    </tr>\n    <tr>\n      <th>65</th>\n      <td>0</td>\n      <td>12</td>\n      <td>1</td>\n    </tr>\n    <tr>\n      <th>66</th>\n      <td>0</td>\n      <td>13</td>\n      <td>1</td>\n    </tr>\n    <tr>\n      <th>67</th>\n      <td>0</td>\n      <td>14</td>\n      <td>1</td>\n    </tr>\n  </tbody>\n</table>\n</div>"
     },
     "execution_count": 15,
     "metadata": {},
     "output_type": "execute_result"
    }
   ],
   "source": [
    "Distinct_Interactions_no_outlier.head(15)"
   ],
   "metadata": {
    "collapsed": false
   }
  },
  {
   "cell_type": "markdown",
   "source": [
    "### Let's build the URM"
   ],
   "metadata": {
    "collapsed": false
   }
  },
  {
   "cell_type": "markdown",
   "source": [
    "Split the Dataset"
   ],
   "metadata": {
    "collapsed": false
   }
  },
  {
   "cell_type": "code",
   "execution_count": 16,
   "outputs": [],
   "source": [
    "from sklearn.model_selection import train_test_split\n",
    "import numpy as np\n",
    "\n",
    "seed = 1234\n",
    "\n",
    "\n",
    "(user_ids_training_validation, user_ids_test,\n",
    " item_ids_training_validation, item_ids_test,\n",
    " ratings_training_validation, ratings_test) = train_test_split(Distinct_Interactions_no_outlier.UserId,\n",
    "                                                               Distinct_Interactions_no_outlier.ItemId,\n",
    "                                                               Distinct_Interactions_no_outlier.Rating,\n",
    "                                                               test_size=0.20,\n",
    "                                                               shuffle=True,\n",
    "                                                               random_state=seed)\n",
    "\n",
    "(user_ids_training, user_ids_validation,\n",
    " item_ids_training, item_ids_validation,\n",
    " ratings_training, ratings_validation) = train_test_split(user_ids_training_validation,\n",
    "                                                          item_ids_training_validation,\n",
    "                                                          ratings_training_validation,\n",
    "                                                          test_size=0.20,\n",
    "                                                          shuffle=True,\n",
    "                                                          random_state=seed)"
   ],
   "metadata": {
    "collapsed": false
   }
  },
  {
   "cell_type": "markdown",
   "id": "d260c4e7",
   "metadata": {},
   "source": [
    "##### Step 4"
   ]
  },
  {
   "cell_type": "code",
   "execution_count": 17,
   "outputs": [],
   "source": [
    "num_users = len(userId_unique)\n",
    "num_items = len(itemId_unique)"
   ],
   "metadata": {
    "collapsed": false
   }
  },
  {
   "cell_type": "code",
   "execution_count": 18,
   "id": "63d28dc5",
   "metadata": {},
   "outputs": [
    {
     "data": {
      "text/plain": "(<41629x23437 sparse matrix of type '<class 'numpy.int64'>'\n \twith 976819 stored elements in Compressed Sparse Row format>,\n <41629x23437 sparse matrix of type '<class 'numpy.int64'>'\n \twith 625164 stored elements in Compressed Sparse Row format>,\n <41629x23437 sparse matrix of type '<class 'numpy.int64'>'\n \twith 195364 stored elements in Compressed Sparse Row format>,\n <41629x23437 sparse matrix of type '<class 'numpy.int64'>'\n \twith 156291 stored elements in Compressed Sparse Row format>,\n <41629x23437 sparse matrix of type '<class 'numpy.int64'>'\n \twith 781455 stored elements in Compressed Sparse Row format>)"
     },
     "execution_count": 18,
     "metadata": {},
     "output_type": "execute_result"
    }
   ],
   "source": [
    "import scipy.sparse as sps\n",
    "\n",
    "urm_all = sps.csr_matrix((Distinct_Interactions_no_outlier.Rating, (Distinct_Interactions_no_outlier.UserId, Distinct_Interactions_no_outlier.ItemId)),\n",
    "                         shape = (num_users, num_items))\n",
    "\n",
    "urm_train = sps.csr_matrix((ratings_training, (user_ids_training, item_ids_training)),\n",
    "                           shape = (num_users, num_items))\n",
    "\n",
    "urm_validation = sps.csr_matrix((ratings_validation, (user_ids_validation, item_ids_validation)),\n",
    "                                shape = (num_users, num_items))\n",
    "\n",
    "urm_train_validation = sps.csr_matrix((ratings_training_validation, (user_ids_training_validation, item_ids_training_validation)),\n",
    "                                      shape = (num_users, num_items))\n",
    "\n",
    "urm_test = sps.csr_matrix((ratings_test, (user_ids_test, item_ids_test)),\n",
    "                          shape = (num_users, num_items))\n",
    "\n",
    "urm_all, urm_train, urm_test, urm_validation, urm_train_validation"
   ]
  },
  {
   "cell_type": "markdown",
   "id": "93389fda",
   "metadata": {},
   "source": [
    "# Now we try running SLIM"
   ]
  },
  {
   "cell_type": "code",
   "execution_count": 19,
   "id": "b89fa582",
   "metadata": {},
   "outputs": [],
   "source": [
    "from Recommenders.SLIM.SLIMElasticNetRecommender import SLIMElasticNetRecommender"
   ]
  },
  {
   "cell_type": "code",
   "execution_count": 20,
   "id": "54395299",
   "metadata": {},
   "outputs": [],
   "source": [
    "MySlimRecommender = SLIMElasticNetRecommender(urm_train)"
   ]
  },
  {
   "cell_type": "code",
   "execution_count": 21,
   "id": "71950c7c",
   "metadata": {},
   "outputs": [
    {
     "name": "stdout",
     "output_type": "stream",
     "text": [
      "EvaluatorHoldout: Ignoring 1934 ( 4.6%) Users that have less than 1 test interactions\n",
      "SLIMElasticNetRecommender: Processed 23437 (100.0%) in 3.90 min. Items per second: 100.18\n",
      "EvaluatorHoldout: Processed 39695 (100.0%) in 16.14 sec. Users per second: 2460\n"
     ]
    },
    {
     "data": {
      "text/plain": "(       PRECISION PRECISION_RECALL_MIN_DEN    RECALL       MAP MAP_MIN_DEN  \\\n cutoff                                                                      \n 10      0.011077                 0.021806  0.020866  0.005315    0.010629   \n \n             MRR      NDCG        F1  HIT_RATE ARHR_ALL_HITS  ...  \\\n cutoff                                                       ...   \n 10      0.04199  0.020507  0.014471  0.087265      0.047031  ...   \n \n        COVERAGE_USER COVERAGE_USER_HIT USERS_IN_GT DIVERSITY_GINI  \\\n cutoff                                                              \n 10          0.953542          0.083211    0.953542       0.065703   \n \n        SHANNON_ENTROPY RATIO_DIVERSITY_HERFINDAHL RATIO_DIVERSITY_GINI  \\\n cutoff                                                                   \n 10           10.692296                   0.997723             0.089835   \n \n        RATIO_SHANNON_ENTROPY RATIO_AVERAGE_POPULARITY RATIO_NOVELTY  \n cutoff                                                               \n 10                  0.746844                 1.870458      0.625235  \n \n [1 rows x 27 columns],\n 'CUTOFF: 10 - PRECISION: 0.0110770, PRECISION_RECALL_MIN_DEN: 0.0218063, RECALL: 0.0208656, MAP: 0.0053148, MAP_MIN_DEN: 0.0106290, MRR: 0.0419901, NDCG: 0.0205072, F1: 0.0144714, HIT_RATE: 0.0872654, ARHR_ALL_HITS: 0.0470309, NOVELTY: 0.0057356, AVERAGE_POPULARITY: 0.4955453, DIVERSITY_MEAN_INTER_LIST: 0.9766667, DIVERSITY_HERFINDAHL: 0.9976642, COVERAGE_ITEM: 0.1821479, COVERAGE_ITEM_HIT: 0.0594786, ITEMS_IN_GT: 0.9950506, COVERAGE_USER: 0.9535420, COVERAGE_USER_HIT: 0.0832112, USERS_IN_GT: 0.9535420, DIVERSITY_GINI: 0.0657034, SHANNON_ENTROPY: 10.6922956, RATIO_DIVERSITY_HERFINDAHL: 0.9977226, RATIO_DIVERSITY_GINI: 0.0898347, RATIO_SHANNON_ENTROPY: 0.7468439, RATIO_AVERAGE_POPULARITY: 1.8704576, RATIO_NOVELTY: 0.6252351, \\n')"
     },
     "execution_count": 21,
     "metadata": {},
     "output_type": "execute_result"
    }
   ],
   "source": [
    "liS = [0.1, 0.01, 0.001]\n",
    "alphaS = [0.1, 0.01, 0.001]\n",
    "\n",
    "from Evaluation.Evaluator import EvaluatorHoldout\n",
    "e = EvaluatorHoldout(urm_validation, [10])\n",
    "\n",
    "\n",
    "for li in liS:\n",
    "    for alp in alphaS:\n",
    "        MySlimRecommender.fit(l1_ratio=li, alpha = alp, positive_only=True, topK = 100)\n",
    "        print(\"\\n-----------------------------------------------------\\n\")\n",
    "        print(str(li) + \"       \" + str(alp) + \"\\n\")\n",
    "        print(e.evaluateRecommender(MySlimRecommender))\n",
    "        print(\"\\n-----------------------------------------------------\\n\")\n",
    "\n",
    "\n",
    "\"\"\"\n",
    "MySlimRecommender.fit(l1_ratio=0.085, alpha = 0.001, positive_only=True, topK = 100)\n",
    "e.evaluateRecommender(MySlimRecommender)\n",
    "\"\"\""
   ]
  },
  {
   "cell_type": "markdown",
   "source": [
    "### No parameter tuning for now"
   ],
   "metadata": {
    "collapsed": false
   }
  },
  {
   "cell_type": "markdown",
   "source": [
    "# Computing the submission\n",
    "First we compute the original indexes"
   ],
   "metadata": {
    "collapsed": false
   }
  },
  {
   "cell_type": "code",
   "execution_count": null,
   "outputs": [],
   "source": [
    "target = pd.read_csv(filepath_or_buffer=\"recommender-system-2022-challenge-polimi-data/data_target_users_test.csv\",\n",
    "                                          sep=\",\",\n",
    "                                          header=0,\n",
    "                                          engine='python',\n",
    "                                          names=['id'])\n",
    "target"
   ],
   "metadata": {
    "collapsed": false
   }
  },
  {
   "cell_type": "code",
   "execution_count": null,
   "outputs": [],
   "source": [
    "def write_recommendations(file_name):\n",
    "    recommendations = 'user_id,item_list'\n",
    "    f = open(\"submissions/\" + file_name + \".csv\", \"w\")\n",
    "\n",
    "    for id in target['id']:\n",
    "        recommendations_per_user = MySlimRecommender.recommend(user_id_array=id, remove_seen_flag=True, cutoff=10)\n",
    "\n",
    "        recommendation_string = str(user_original_Id_to_index[user_original_Id_to_index==id].index.item()\n",
    "                                    ) + ','\n",
    "\n",
    "        for rec in recommendations_per_user:\n",
    "            recommendation_string = recommendation_string + str(item_original_Id_to_index[item_original_Id_to_index==rec].index.item()) + ' '\n",
    "\n",
    "        recommendation_string = recommendation_string[:-1]\n",
    "        recommendations = recommendations + '\\n' + recommendation_string\n",
    "\n",
    "    f.write(recommendations)\n",
    "    f.close()"
   ],
   "metadata": {
    "collapsed": false
   }
  },
  {
   "cell_type": "code",
   "execution_count": null,
   "outputs": [],
   "source": [],
   "metadata": {
    "collapsed": false
   }
  }
 ],
 "metadata": {
  "kernelspec": {
   "display_name": "Python 3 (ipykernel)",
   "language": "python",
   "name": "python3"
  },
  "language_info": {
   "codemirror_mode": {
    "name": "ipython",
    "version": 3
   },
   "file_extension": ".py",
   "mimetype": "text/x-python",
   "name": "python",
   "nbconvert_exporter": "python",
   "pygments_lexer": "ipython3",
   "version": "3.8.13"
  }
 },
 "nbformat": 4,
 "nbformat_minor": 5
}
