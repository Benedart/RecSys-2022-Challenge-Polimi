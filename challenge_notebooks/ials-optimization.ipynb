{
 "cells": [
  {
   "cell_type": "code",
   "execution_count": 1,
   "id": "23e324b5",
   "metadata": {
    "execution": {
     "iopub.execute_input": "2023-01-10T11:05:52.876963Z",
     "iopub.status.busy": "2023-01-10T11:05:52.876078Z",
     "iopub.status.idle": "2023-01-10T11:06:26.652943Z",
     "shell.execute_reply": "2023-01-10T11:06:26.651743Z"
    },
    "papermill": {
     "duration": 33.785581,
     "end_time": "2023-01-10T11:06:26.655616",
     "exception": false,
     "start_time": "2023-01-10T11:05:52.870035",
     "status": "completed"
    },
    "tags": []
   },
   "outputs": [
    {
     "name": "stdout",
     "output_type": "stream",
     "text": [
      "Cloning into 'RecSys-2022-Challenge-Polimi'...\r\n",
      "remote: Enumerating objects: 608, done.\u001b[K\r\n",
      "remote: Counting objects: 100% (165/165), done.\u001b[K\r\n",
      "remote: Compressing objects: 100% (96/96), done.\u001b[K\r\n",
      "remote: Total 608 (delta 75), reused 159 (delta 69), pack-reused 443\u001b[K\r\n",
      "Receiving objects: 100% (608/608), 1.06 GiB | 44.68 MiB/s, done.\r\n",
      "Resolving deltas: 100% (246/246), done.\r\n",
      "Updating files: 100% (205/205), done.\r\n"
     ]
    }
   ],
   "source": [
    "from kaggle_secrets import UserSecretsClient\n",
    "user_secrets = UserSecretsClient()\n",
    "token = user_secrets.get_secret(\"token\")\n",
    "\n",
    "!git clone https://{token}@github.com/Benedart/RecSys-2022-Challenge-Polimi.git"
   ]
  },
  {
   "cell_type": "code",
   "execution_count": 2,
   "id": "6af916a9",
   "metadata": {
    "execution": {
     "iopub.execute_input": "2023-01-10T11:06:26.671706Z",
     "iopub.status.busy": "2023-01-10T11:06:26.670769Z",
     "iopub.status.idle": "2023-01-10T11:06:26.676069Z",
     "shell.execute_reply": "2023-01-10T11:06:26.675209Z"
    },
    "papermill": {
     "duration": 0.01535,
     "end_time": "2023-01-10T11:06:26.678020",
     "exception": false,
     "start_time": "2023-01-10T11:06:26.662670",
     "status": "completed"
    },
    "tags": []
   },
   "outputs": [],
   "source": [
    "import os\n",
    "\n",
    "os.chdir( \"./RecSys-2022-Challenge-Polimi\")"
   ]
  },
  {
   "cell_type": "code",
   "execution_count": 3,
   "id": "6d98ed49",
   "metadata": {
    "execution": {
     "iopub.execute_input": "2023-01-10T11:06:26.692929Z",
     "iopub.status.busy": "2023-01-10T11:06:26.692079Z",
     "iopub.status.idle": "2023-01-10T11:06:32.698698Z",
     "shell.execute_reply": "2023-01-10T11:06:32.697643Z"
    },
    "papermill": {
     "duration": 6.016644,
     "end_time": "2023-01-10T11:06:32.701321",
     "exception": false,
     "start_time": "2023-01-10T11:06:26.684677",
     "status": "completed"
    },
    "tags": []
   },
   "outputs": [],
   "source": [
    "import numpy as np # linear algebra\n",
    "import pandas as pd # data processing, CSV file I/O (e.g. pd.read_csv)\n",
    "import scipy.sparse as sps\n",
    "import csv\n",
    "from tqdm import tqdm\n",
    "\n",
    "from Recommenders.Recommender_import_list import *"
   ]
  },
  {
   "cell_type": "code",
   "execution_count": 4,
   "id": "b8a94f7a",
   "metadata": {
    "execution": {
     "iopub.execute_input": "2023-01-10T11:06:32.716354Z",
     "iopub.status.busy": "2023-01-10T11:06:32.715799Z",
     "iopub.status.idle": "2023-01-10T11:06:35.082926Z",
     "shell.execute_reply": "2023-01-10T11:06:35.081716Z"
    },
    "papermill": {
     "duration": 2.377557,
     "end_time": "2023-01-10T11:06:35.085616",
     "exception": false,
     "start_time": "2023-01-10T11:06:32.708059",
     "status": "completed"
    },
    "tags": []
   },
   "outputs": [
    {
     "name": "stderr",
     "output_type": "stream",
     "text": [
      "/opt/conda/lib/python3.7/site-packages/IPython/core/interactiveshell.py:3552: DtypeWarning: Columns (2) have mixed types.Specify dtype option on import or set low_memory=False.\n",
      "  exec(code_obj, self.user_global_ns, self.user_ns)\n"
     ]
    }
   ],
   "source": [
    "URM_all = pd.read_csv(\"/kaggle/input/recommender-system-2022-challenge-polimi/interactions_and_impressions.csv\")\n",
    "ICM_type = pd.read_csv(\"/kaggle/input/recommender-system-2022-challenge-polimi/data_ICM_type.csv\")\n",
    "ICM_length = pd.read_csv(\"/kaggle/input/recommender-system-2022-challenge-polimi/data_ICM_length.csv\")\n",
    "\n",
    "ICM_all = pd.concat([ICM_type, ICM_length]).sort_values(by='item_id')"
   ]
  },
  {
   "cell_type": "code",
   "execution_count": 5,
   "id": "70a66c5f",
   "metadata": {
    "execution": {
     "iopub.execute_input": "2023-01-10T11:06:35.103216Z",
     "iopub.status.busy": "2023-01-10T11:06:35.102181Z",
     "iopub.status.idle": "2023-01-10T11:06:35.425394Z",
     "shell.execute_reply": "2023-01-10T11:06:35.424398Z"
    },
    "papermill": {
     "duration": 0.334046,
     "end_time": "2023-01-10T11:06:35.427739",
     "exception": false,
     "start_time": "2023-01-10T11:06:35.093693",
     "status": "completed"
    },
    "tags": []
   },
   "outputs": [
    {
     "name": "stdout",
     "output_type": "stream",
     "text": [
      "Unique UserID in the URM are 41629\n",
      "Unique ItemID in the URM are 24507\n",
      "Unique ItemID in the URM and ICM are 27968\n",
      "Unique FeatureID in the URM are 6\n"
     ]
    }
   ],
   "source": [
    "mapped_id, original_id = pd.factorize(URM_all[\"UserID\"].unique())\n",
    "user_original_Id_to_index = pd.Series(mapped_id, index=original_id)\n",
    "\n",
    "print(\"Unique UserID in the URM are {}\".format(len(original_id)))\n",
    "\n",
    "mapped_id, original_id = pd.factorize(URM_all[\"ItemID\"].unique())\n",
    "\n",
    "print(\"Unique ItemID in the URM are {}\".format(len(original_id)))\n",
    "\n",
    "all_item_indices = pd.concat([URM_all[\"ItemID\"], ICM_all[\"item_id\"]], ignore_index=True)\n",
    "mapped_id, original_id = pd.factorize(all_item_indices.unique())\n",
    "\n",
    "print(\"Unique ItemID in the URM and ICM are {}\".format(len(original_id)))\n",
    "\n",
    "item_original_ID_to_index = pd.Series(mapped_id, index=original_id)\n",
    "\n",
    "mapped_id, original_id = pd.factorize(ICM_all[\"feature_id\"].unique())\n",
    "feature_original_ID_to_index = pd.Series(mapped_id, index=original_id)\n",
    "\n",
    "print(\"Unique FeatureID in the URM are {}\".format(len(feature_original_ID_to_index)))\n",
    "\n",
    "URM_all[\"UserID\"] = URM_all[\"UserID\"].map(user_original_Id_to_index)\n",
    "URM_all[\"ItemID\"] = URM_all[\"ItemID\"].map(item_original_ID_to_index)\n",
    "ICM_all[\"item_id\"] = ICM_all[\"item_id\"].map(item_original_ID_to_index)\n",
    "ICM_all[\"feature_id\"] = ICM_all[\"feature_id\"].map(feature_original_ID_to_index)"
   ]
  },
  {
   "cell_type": "code",
   "execution_count": 6,
   "id": "81ccd5a0",
   "metadata": {
    "execution": {
     "iopub.execute_input": "2023-01-10T11:06:35.442616Z",
     "iopub.status.busy": "2023-01-10T11:06:35.442317Z",
     "iopub.status.idle": "2023-01-10T11:06:35.854314Z",
     "shell.execute_reply": "2023-01-10T11:06:35.853338Z"
    },
    "papermill": {
     "duration": 0.421983,
     "end_time": "2023-01-10T11:06:35.856767",
     "exception": false,
     "start_time": "2023-01-10T11:06:35.434784",
     "status": "completed"
    },
    "tags": []
   },
   "outputs": [],
   "source": [
    "URM_all = URM_all.drop([\"Impressions\", \"Data\"], axis=1).drop_duplicates()\n",
    "URM_all[\"Rating\"] = 1"
   ]
  },
  {
   "cell_type": "code",
   "execution_count": 7,
   "id": "afabc01a",
   "metadata": {
    "execution": {
     "iopub.execute_input": "2023-01-10T11:06:35.872549Z",
     "iopub.status.busy": "2023-01-10T11:06:35.872246Z",
     "iopub.status.idle": "2023-01-10T11:06:36.502674Z",
     "shell.execute_reply": "2023-01-10T11:06:36.501701Z"
    },
    "papermill": {
     "duration": 0.641353,
     "end_time": "2023-01-10T11:06:36.505134",
     "exception": false,
     "start_time": "2023-01-10T11:06:35.863781",
     "status": "completed"
    },
    "tags": []
   },
   "outputs": [],
   "source": [
    "n_users = len(user_original_Id_to_index)\n",
    "n_items = len(item_original_ID_to_index)\n",
    "n_features = len(feature_original_ID_to_index)\n",
    "\n",
    "from sklearn.model_selection import train_test_split\n",
    "\n",
    "seed = 42\n",
    "\n",
    "(user_ids_training_validation, user_ids_test,\n",
    " item_ids_training_validation, item_ids_test,\n",
    " ratings_training_validation, ratings_test) = train_test_split(URM_all.UserID,\n",
    "                                                    URM_all.ItemID,\n",
    "                                                    URM_all.Rating,\n",
    "                                                    test_size=0.15,\n",
    "                                                    shuffle=True,\n",
    "                                                    random_state=seed)\n",
    "\n",
    "(user_ids_training, user_ids_validation,\n",
    " item_ids_training, item_ids_validation,\n",
    " ratings_training, ratings_validation) = train_test_split(user_ids_training_validation,\n",
    "                                                          item_ids_training_validation,\n",
    "                                                          ratings_training_validation,\n",
    "                                                          test_size=0.15,\n",
    "                                                          shuffle=True,\n",
    "                                                          random_state=seed)\n",
    "\n",
    "URM_all = sps.csr_matrix((URM_all.Rating, (URM_all.UserID, URM_all.ItemID)),\n",
    "                           shape = (n_users, n_items))\n",
    "\n",
    "URM_train = sps.csr_matrix((ratings_training, (user_ids_training, item_ids_training)),\n",
    "                           shape = (n_users, n_items))\n",
    "\n",
    "URM_validation = sps.csr_matrix((ratings_validation, (user_ids_validation, item_ids_validation)),\n",
    "                           shape = (n_users, n_items))\n",
    "\n",
    "URM_train_validation = sps.csr_matrix((ratings_training_validation, (user_ids_training_validation, item_ids_training_validation)),\n",
    "                           shape = (n_users, n_items))\n",
    "\n",
    "URM_test = sps.csr_matrix((ratings_test, (user_ids_test, item_ids_test)),\n",
    "                           shape = (n_users, n_items))\n",
    "\n",
    "\n",
    "ICM_all = sps.csr_matrix((np.ones(len(ICM_all[\"item_id\"].values)), \n",
    "                          (ICM_all[\"item_id\"].values, ICM_all[\"feature_id\"].values)),\n",
    "                        shape = (n_items, n_features))\n",
    "\n",
    "ICM_all.data = np.ones_like(ICM_all.data)\n",
    "\n",
    "ICM_all = sps.csr_matrix(ICM_all)\n",
    "features_per_item = np.ediff1d(ICM_all.indptr)\n",
    "\n",
    "ICM_all = sps.csc_matrix(ICM_all)\n",
    "items_per_feature = np.ediff1d(ICM_all.indptr)\n",
    "\n",
    "ICM_all = sps.csr_matrix(ICM_all)"
   ]
  },
  {
   "cell_type": "code",
   "execution_count": 8,
   "id": "e77e2483",
   "metadata": {
    "execution": {
     "iopub.execute_input": "2023-01-10T11:06:36.520563Z",
     "iopub.status.busy": "2023-01-10T11:06:36.520249Z",
     "iopub.status.idle": "2023-01-10T11:06:36.557716Z",
     "shell.execute_reply": "2023-01-10T11:06:36.556827Z"
    },
    "papermill": {
     "duration": 0.047403,
     "end_time": "2023-01-10T11:06:36.559815",
     "exception": false,
     "start_time": "2023-01-10T11:06:36.512412",
     "status": "completed"
    },
    "tags": []
   },
   "outputs": [
    {
     "name": "stdout",
     "output_type": "stream",
     "text": [
      "EvaluatorHoldout: Ignoring 1520 ( 3.7%) Users that have less than 1 test interactions\n",
      "EvaluatorHoldout: Ignoring 976 ( 2.3%) Users that have less than 1 test interactions\n"
     ]
    }
   ],
   "source": [
    "from Evaluation.Evaluator import EvaluatorHoldout\n",
    "\n",
    "evaluator_validation = EvaluatorHoldout(URM_validation, cutoff_list=[10])\n",
    "evaluator_test = EvaluatorHoldout(URM_test, cutoff_list=[10])"
   ]
  },
  {
   "cell_type": "markdown",
   "id": "85cef1e0",
   "metadata": {
    "execution": {
     "iopub.execute_input": "2022-12-29T17:17:34.560300Z",
     "iopub.status.busy": "2022-12-29T17:17:34.559836Z",
     "iopub.status.idle": "2022-12-29T17:17:34.565723Z",
     "shell.execute_reply": "2022-12-29T17:17:34.564633Z",
     "shell.execute_reply.started": "2022-12-29T17:17:34.560267Z"
    },
    "papermill": {
     "duration": 0.006903,
     "end_time": "2023-01-10T11:06:36.573898",
     "exception": false,
     "start_time": "2023-01-10T11:06:36.566995",
     "status": "completed"
    },
    "tags": []
   },
   "source": [
    "## Insert model here"
   ]
  },
  {
   "cell_type": "code",
   "execution_count": 9,
   "id": "7283d80f",
   "metadata": {
    "execution": {
     "iopub.execute_input": "2023-01-10T11:06:36.589290Z",
     "iopub.status.busy": "2023-01-10T11:06:36.588357Z",
     "iopub.status.idle": "2023-01-10T11:06:36.593277Z",
     "shell.execute_reply": "2023-01-10T11:06:36.592333Z"
    },
    "papermill": {
     "duration": 0.014699,
     "end_time": "2023-01-10T11:06:36.595301",
     "exception": false,
     "start_time": "2023-01-10T11:06:36.580602",
     "status": "completed"
    },
    "tags": []
   },
   "outputs": [],
   "source": [
    "model = FeatureCombinedImplicitALSRecommender\n",
    "GPU = True"
   ]
  },
  {
   "cell_type": "code",
   "execution_count": 10,
   "id": "5a3f14d9",
   "metadata": {
    "execution": {
     "iopub.execute_input": "2023-01-10T11:06:36.611108Z",
     "iopub.status.busy": "2023-01-10T11:06:36.610803Z",
     "iopub.status.idle": "2023-01-10T11:06:36.823205Z",
     "shell.execute_reply": "2023-01-10T11:06:36.822242Z"
    },
    "papermill": {
     "duration": 0.223722,
     "end_time": "2023-01-10T11:06:36.825803",
     "exception": false,
     "start_time": "2023-01-10T11:06:36.602081",
     "status": "completed"
    },
    "tags": []
   },
   "outputs": [],
   "source": [
    "import optuna as op\n",
    "\n",
    "def objective(trial):\n",
    "    iterations = trial.suggest_int(\"iterations\", 100, 300)\n",
    "    factors = trial.suggest_int(\"factors\", 1, 150)\n",
    "    regularization = trial.suggest_float(\"regularization\", 0.001, 0.1)\n",
    "    urm_alpha = trial.suggest_float(\"urm_alpha\", 2, 4)\n",
    "    icm_alpha = trial.suggest_float(\"icm_alpha\", 0, 1)\n",
    "    use_gpu = trial.suggest_categorical(\"use_gpu\", [GPU])\n",
    "    \n",
    "    recommender = model(URM_train, ICM_all)\n",
    "    recommender.fit(**trial.params)\n",
    "    \n",
    "    result, _ = evaluator_validation.evaluateRecommender(recommender)\n",
    "    MAP_result = result[\"MAP\"].item()\n",
    "       \n",
    "    return MAP_result"
   ]
  },
  {
   "cell_type": "code",
   "execution_count": 11,
   "id": "e016c505",
   "metadata": {
    "execution": {
     "iopub.execute_input": "2023-01-10T11:06:36.844249Z",
     "iopub.status.busy": "2023-01-10T11:06:36.842291Z",
     "iopub.status.idle": "2023-01-10T20:26:31.588398Z",
     "shell.execute_reply": "2023-01-10T20:26:31.587474Z"
    },
    "papermill": {
     "duration": 33594.806845,
     "end_time": "2023-01-10T20:26:31.640424",
     "exception": false,
     "start_time": "2023-01-10T11:06:36.833579",
     "status": "completed"
    },
    "tags": []
   },
   "outputs": [
    {
     "name": "stderr",
     "output_type": "stream",
     "text": [
      "\u001b[32m[I 2023-01-10 11:06:36,846]\u001b[0m A new study created in memory with name: no-name-dbdf56a1-d1e7-454f-aef7-244a323f8b36\u001b[0m\n"
     ]
    },
    {
     "name": "stdout",
     "output_type": "stream",
     "text": [
      "EvaluatorHoldout: Processed 40109 (100.0%) in 33.48 sec. Users per second: 1198\n"
     ]
    },
    {
     "name": "stderr",
     "output_type": "stream",
     "text": [
      "\u001b[32m[I 2023-01-10 11:07:32,978]\u001b[0m Trial 0 finished with value: 0.014338267506758554 and parameters: {'iterations': 120, 'factors': 80, 'regularization': 0.04590878515116987, 'urm_alpha': 2.9974929864429285, 'icm_alpha': 0.8631236369566112, 'use_gpu': True}. Best is trial 0 with value: 0.014338267506758554.\u001b[0m\n"
     ]
    },
    {
     "name": "stdout",
     "output_type": "stream",
     "text": [
      "EvaluatorHoldout: Processed 40109 (100.0%) in 34.00 sec. Users per second: 1180\n"
     ]
    },
    {
     "name": "stderr",
     "output_type": "stream",
     "text": [
      "\u001b[32m[I 2023-01-10 11:08:50,893]\u001b[0m Trial 1 finished with value: 0.014525427139616109 and parameters: {'iterations': 260, 'factors': 111, 'regularization': 0.02580105613949528, 'urm_alpha': 3.7317507596661645, 'icm_alpha': 0.4606070093301988, 'use_gpu': True}. Best is trial 1 with value: 0.014525427139616109.\u001b[0m\n"
     ]
    },
    {
     "name": "stdout",
     "output_type": "stream",
     "text": [
      "EvaluatorHoldout: Processed 40109 (100.0%) in 32.82 sec. Users per second: 1222\n"
     ]
    },
    {
     "name": "stderr",
     "output_type": "stream",
     "text": [
      "\u001b[32m[I 2023-01-10 11:09:45,728]\u001b[0m Trial 2 finished with value: 0.014338335773113681 and parameters: {'iterations': 151, 'factors': 33, 'regularization': 0.06936852850408085, 'urm_alpha': 3.043921434839193, 'icm_alpha': 0.5361414237560213, 'use_gpu': True}. Best is trial 1 with value: 0.014525427139616109.\u001b[0m\n"
     ]
    },
    {
     "name": "stdout",
     "output_type": "stream",
     "text": [
      "EvaluatorHoldout: Processed 40109 (100.0%) in 33.90 sec. Users per second: 1183\n"
     ]
    },
    {
     "name": "stderr",
     "output_type": "stream",
     "text": [
      "\u001b[32m[I 2023-01-10 11:11:04,751]\u001b[0m Trial 3 finished with value: 0.013855136617796126 and parameters: {'iterations': 267, 'factors': 124, 'regularization': 0.02205040829256745, 'urm_alpha': 2.1242199668926824, 'icm_alpha': 0.616920376206171, 'use_gpu': True}. Best is trial 1 with value: 0.014525427139616109.\u001b[0m\n"
     ]
    },
    {
     "name": "stdout",
     "output_type": "stream",
     "text": [
      "EvaluatorHoldout: Processed 40109 (100.0%) in 33.03 sec. Users per second: 1214\n"
     ]
    },
    {
     "name": "stderr",
     "output_type": "stream",
     "text": [
      "\u001b[32m[I 2023-01-10 11:12:11,501]\u001b[0m Trial 4 finished with value: 0.013911820448009543 and parameters: {'iterations': 232, 'factors': 58, 'regularization': 0.0745968671440995, 'urm_alpha': 2.1471644854805474, 'icm_alpha': 0.5323025733632175, 'use_gpu': True}. Best is trial 1 with value: 0.014525427139616109.\u001b[0m\n"
     ]
    },
    {
     "name": "stdout",
     "output_type": "stream",
     "text": [
      "EvaluatorHoldout: Processed 40109 (100.0%) in 36.30 sec. Users per second: 1105\n"
     ]
    },
    {
     "name": "stderr",
     "output_type": "stream",
     "text": [
      "\u001b[32m[I 2023-01-10 11:13:37,956]\u001b[0m Trial 5 finished with value: 0.014212579253281078 and parameters: {'iterations': 271, 'factors': 134, 'regularization': 0.041581752273583676, 'urm_alpha': 3.1935296670348268, 'icm_alpha': 0.11178804160305134, 'use_gpu': True}. Best is trial 1 with value: 0.014525427139616109.\u001b[0m\n"
     ]
    },
    {
     "name": "stdout",
     "output_type": "stream",
     "text": [
      "EvaluatorHoldout: Processed 40109 (100.0%) in 34.09 sec. Users per second: 1177\n"
     ]
    },
    {
     "name": "stderr",
     "output_type": "stream",
     "text": [
      "\u001b[32m[I 2023-01-10 11:14:51,701]\u001b[0m Trial 6 finished with value: 0.013656537918299945 and parameters: {'iterations': 214, 'factors': 144, 'regularization': 0.03458113273783334, 'urm_alpha': 2.048134519951671, 'icm_alpha': 0.5785427265807093, 'use_gpu': True}. Best is trial 1 with value: 0.014525427139616109.\u001b[0m\n"
     ]
    },
    {
     "name": "stdout",
     "output_type": "stream",
     "text": [
      "EvaluatorHoldout: Processed 40109 (100.0%) in 33.10 sec. Users per second: 1212\n"
     ]
    },
    {
     "name": "stderr",
     "output_type": "stream",
     "text": [
      "\u001b[32m[I 2023-01-10 11:15:57,203]\u001b[0m Trial 7 finished with value: 0.014466059155468202 and parameters: {'iterations': 223, 'factors': 53, 'regularization': 0.05843324295769205, 'urm_alpha': 3.9416992667949984, 'icm_alpha': 0.1725570881906764, 'use_gpu': True}. Best is trial 1 with value: 0.014525427139616109.\u001b[0m\n"
     ]
    },
    {
     "name": "stdout",
     "output_type": "stream",
     "text": [
      "EvaluatorHoldout: Processed 40109 (100.0%) in 32.42 sec. Users per second: 1237\n"
     ]
    },
    {
     "name": "stderr",
     "output_type": "stream",
     "text": [
      "\u001b[32m[I 2023-01-10 11:16:40,409]\u001b[0m Trial 8 finished with value: 0.01400530874794773 and parameters: {'iterations': 115, 'factors': 25, 'regularization': 0.08859789208282091, 'urm_alpha': 2.5111503801680897, 'icm_alpha': 0.47820616238549596, 'use_gpu': True}. Best is trial 1 with value: 0.014525427139616109.\u001b[0m\n"
     ]
    },
    {
     "name": "stdout",
     "output_type": "stream",
     "text": [
      "EvaluatorHoldout: Processed 40109 (100.0%) in 32.52 sec. Users per second: 1233\n"
     ]
    },
    {
     "name": "stderr",
     "output_type": "stream",
     "text": [
      "\u001b[32m[I 2023-01-10 11:17:38,269]\u001b[0m Trial 9 finished with value: 0.014407980317127976 and parameters: {'iterations': 272, 'factors': 6, 'regularization': 0.07627478959362193, 'urm_alpha': 3.4529849816015874, 'icm_alpha': 0.2240748956260189, 'use_gpu': True}. Best is trial 1 with value: 0.014525427139616109.\u001b[0m\n"
     ]
    },
    {
     "name": "stdout",
     "output_type": "stream",
     "text": [
      "EvaluatorHoldout: Processed 40109 (100.0%) in 33.93 sec. Users per second: 1182\n"
     ]
    },
    {
     "name": "stderr",
     "output_type": "stream",
     "text": [
      "\u001b[32m[I 2023-01-10 11:18:41,774]\u001b[0m Trial 10 finished with value: 0.014464901595533331 and parameters: {'iterations': 174, 'factors': 102, 'regularization': 0.0074666097264528865, 'urm_alpha': 3.9894800861608557, 'icm_alpha': 0.9741155076932037, 'use_gpu': True}. Best is trial 1 with value: 0.014525427139616109.\u001b[0m\n"
     ]
    },
    {
     "name": "stdout",
     "output_type": "stream",
     "text": [
      "EvaluatorHoldout: Processed 40109 (100.0%) in 33.54 sec. Users per second: 1196\n"
     ]
    },
    {
     "name": "stderr",
     "output_type": "stream",
     "text": [
      "\u001b[32m[I 2023-01-10 11:19:52,895]\u001b[0m Trial 11 finished with value: 0.01461300792641654 and parameters: {'iterations': 236, 'factors': 77, 'regularization': 0.059693554477426504, 'urm_alpha': 3.989421271191027, 'icm_alpha': 0.30660814677701403, 'use_gpu': True}. Best is trial 11 with value: 0.01461300792641654.\u001b[0m\n"
     ]
    },
    {
     "name": "stdout",
     "output_type": "stream",
     "text": [
      "EvaluatorHoldout: Processed 40109 (100.0%) in 33.47 sec. Users per second: 1198\n"
     ]
    },
    {
     "name": "stderr",
     "output_type": "stream",
     "text": [
      "\u001b[32m[I 2023-01-10 11:21:13,443]\u001b[0m Trial 12 finished with value: 0.014495025856129468 and parameters: {'iterations': 296, 'factors': 94, 'regularization': 0.026486651764215913, 'urm_alpha': 3.6346868274854374, 'icm_alpha': 0.3432950179354755, 'use_gpu': True}. Best is trial 11 with value: 0.01461300792641654.\u001b[0m\n"
     ]
    },
    {
     "name": "stdout",
     "output_type": "stream",
     "text": [
      "EvaluatorHoldout: Processed 40109 (100.0%) in 33.62 sec. Users per second: 1193\n"
     ]
    },
    {
     "name": "stderr",
     "output_type": "stream",
     "text": [
      "\u001b[32m[I 2023-01-10 11:22:29,637]\u001b[0m Trial 13 finished with value: 0.014433133995576523 and parameters: {'iterations': 252, 'factors': 109, 'regularization': 0.007872079797965455, 'urm_alpha': 3.6611689651535038, 'icm_alpha': 0.3465501397505627, 'use_gpu': True}. Best is trial 11 with value: 0.01461300792641654.\u001b[0m\n"
     ]
    },
    {
     "name": "stdout",
     "output_type": "stream",
     "text": [
      "EvaluatorHoldout: Processed 40109 (100.0%) in 33.15 sec. Users per second: 1210\n"
     ]
    },
    {
     "name": "stderr",
     "output_type": "stream",
     "text": [
      "\u001b[32m[I 2023-01-10 11:23:32,298]\u001b[0m Trial 14 finished with value: 0.01454866441328342 and parameters: {'iterations': 185, 'factors': 73, 'regularization': 0.05714045191873589, 'urm_alpha': 3.712610696026632, 'icm_alpha': 0.004635857303206925, 'use_gpu': True}. Best is trial 11 with value: 0.01461300792641654.\u001b[0m\n"
     ]
    },
    {
     "name": "stdout",
     "output_type": "stream",
     "text": [
      "EvaluatorHoldout: Processed 40109 (100.0%) in 33.37 sec. Users per second: 1202\n"
     ]
    },
    {
     "name": "stderr",
     "output_type": "stream",
     "text": [
      "\u001b[32m[I 2023-01-10 11:24:35,820]\u001b[0m Trial 15 finished with value: 0.014422466635561064 and parameters: {'iterations': 189, 'factors': 67, 'regularization': 0.0574314039834068, 'urm_alpha': 3.321819613687598, 'icm_alpha': 0.015408543685944187, 'use_gpu': True}. Best is trial 11 with value: 0.01461300792641654.\u001b[0m\n"
     ]
    },
    {
     "name": "stdout",
     "output_type": "stream",
     "text": [
      "EvaluatorHoldout: Processed 40109 (100.0%) in 33.13 sec. Users per second: 1210\n"
     ]
    },
    {
     "name": "stderr",
     "output_type": "stream",
     "text": [
      "\u001b[32m[I 2023-01-10 11:25:34,990]\u001b[0m Trial 16 finished with value: 0.014255709738581611 and parameters: {'iterations': 163, 'factors': 87, 'regularization': 0.09624421932918265, 'urm_alpha': 2.693245825609013, 'icm_alpha': 0.002006899228557457, 'use_gpu': True}. Best is trial 11 with value: 0.01461300792641654.\u001b[0m\n"
     ]
    },
    {
     "name": "stdout",
     "output_type": "stream",
     "text": [
      "EvaluatorHoldout: Processed 40109 (100.0%) in 32.50 sec. Users per second: 1234\n"
     ]
    },
    {
     "name": "stderr",
     "output_type": "stream",
     "text": [
      "\u001b[32m[I 2023-01-10 11:26:35,817]\u001b[0m Trial 17 finished with value: 0.014502400601219032 and parameters: {'iterations': 195, 'factors': 38, 'regularization': 0.06153758838295616, 'urm_alpha': 3.786501546736464, 'icm_alpha': 0.7782747553041733, 'use_gpu': True}. Best is trial 11 with value: 0.01461300792641654.\u001b[0m\n"
     ]
    },
    {
     "name": "stdout",
     "output_type": "stream",
     "text": [
      "EvaluatorHoldout: Processed 40109 (100.0%) in 33.17 sec. Users per second: 1209\n"
     ]
    },
    {
     "name": "stderr",
     "output_type": "stream",
     "text": [
      "\u001b[32m[I 2023-01-10 11:27:31,502]\u001b[0m Trial 18 finished with value: 0.014482834870216886 and parameters: {'iterations': 141, 'factors': 68, 'regularization': 0.08641460445252161, 'urm_alpha': 3.500485995038301, 'icm_alpha': 0.2921471541066569, 'use_gpu': True}. Best is trial 11 with value: 0.01461300792641654.\u001b[0m\n"
     ]
    },
    {
     "name": "stdout",
     "output_type": "stream",
     "text": [
      "EvaluatorHoldout: Processed 40109 (100.0%) in 33.31 sec. Users per second: 1204\n"
     ]
    },
    {
     "name": "stderr",
     "output_type": "stream",
     "text": [
      "\u001b[32m[I 2023-01-10 11:28:39,678]\u001b[0m Trial 19 finished with value: 0.014522860720410008 and parameters: {'iterations': 240, 'factors': 55, 'regularization': 0.050846901970420695, 'urm_alpha': 3.8843774818352212, 'icm_alpha': 0.09017394135775975, 'use_gpu': True}. Best is trial 11 with value: 0.01461300792641654.\u001b[0m\n"
     ]
    },
    {
     "name": "stdout",
     "output_type": "stream",
     "text": [
      "EvaluatorHoldout: Processed 40109 (100.0%) in 33.35 sec. Users per second: 1203\n"
     ]
    },
    {
     "name": "stderr",
     "output_type": "stream",
     "text": [
      "\u001b[32m[I 2023-01-10 11:29:46,155]\u001b[0m Trial 20 finished with value: 0.01435768384327326 and parameters: {'iterations': 208, 'factors': 79, 'regularization': 0.06978202155874069, 'urm_alpha': 2.801713393223569, 'icm_alpha': 0.7134999319268456, 'use_gpu': True}. Best is trial 11 with value: 0.01461300792641654.\u001b[0m\n"
     ]
    },
    {
     "name": "stdout",
     "output_type": "stream",
     "text": [
      "EvaluatorHoldout: Processed 40109 (100.0%) in 34.97 sec. Users per second: 1147\n"
     ]
    },
    {
     "name": "stderr",
     "output_type": "stream",
     "text": [
      "\u001b[32m[I 2023-01-10 11:31:03,360]\u001b[0m Trial 21 finished with value: 0.014480129939565644 and parameters: {'iterations': 250, 'factors': 111, 'regularization': 0.03581333520941666, 'urm_alpha': 3.6836766138968065, 'icm_alpha': 0.4269355763139419, 'use_gpu': True}. Best is trial 11 with value: 0.01461300792641654.\u001b[0m\n"
     ]
    },
    {
     "name": "stdout",
     "output_type": "stream",
     "text": [
      "EvaluatorHoldout: Processed 40109 (100.0%) in 33.88 sec. Users per second: 1184\n"
     ]
    },
    {
     "name": "stderr",
     "output_type": "stream",
     "text": [
      "\u001b[32m[I 2023-01-10 11:32:27,716]\u001b[0m Trial 22 finished with value: 0.014416602654591743 and parameters: {'iterations': 299, 'factors': 116, 'regularization': 0.019250184665952887, 'urm_alpha': 3.4946349089059106, 'icm_alpha': 0.41743452081094945, 'use_gpu': True}. Best is trial 11 with value: 0.01461300792641654.\u001b[0m\n"
     ]
    },
    {
     "name": "stdout",
     "output_type": "stream",
     "text": [
      "EvaluatorHoldout: Processed 40109 (100.0%) in 33.96 sec. Users per second: 1181\n"
     ]
    },
    {
     "name": "stderr",
     "output_type": "stream",
     "text": [
      "\u001b[32m[I 2023-01-10 11:33:34,353]\u001b[0m Trial 23 finished with value: 0.014470389616865609 and parameters: {'iterations': 193, 'factors': 100, 'regularization': 0.0508848836993543, 'urm_alpha': 3.8228788989877804, 'icm_alpha': 0.2493346000649258, 'use_gpu': True}. Best is trial 11 with value: 0.01461300792641654.\u001b[0m\n"
     ]
    },
    {
     "name": "stdout",
     "output_type": "stream",
     "text": [
      "EvaluatorHoldout: Processed 40109 (100.0%) in 34.01 sec. Users per second: 1179\n"
     ]
    },
    {
     "name": "stderr",
     "output_type": "stream",
     "text": [
      "\u001b[32m[I 2023-01-10 11:34:44,363]\u001b[0m Trial 24 finished with value: 0.014650473293608402 and parameters: {'iterations': 226, 'factors': 87, 'regularization': 0.030965733897751844, 'urm_alpha': 3.992838981816042, 'icm_alpha': 0.6726654438363616, 'use_gpu': True}. Best is trial 24 with value: 0.014650473293608402.\u001b[0m\n"
     ]
    },
    {
     "name": "stdout",
     "output_type": "stream",
     "text": [
      "EvaluatorHoldout: Processed 40109 (100.0%) in 33.84 sec. Users per second: 1185\n"
     ]
    },
    {
     "name": "stderr",
     "output_type": "stream",
     "text": [
      "\u001b[32m[I 2023-01-10 11:35:47,214]\u001b[0m Trial 25 finished with value: 0.01454075936723235 and parameters: {'iterations': 182, 'factors': 88, 'regularization': 0.043435725715381415, 'urm_alpha': 3.9561312254305014, 'icm_alpha': 0.6812822942100318, 'use_gpu': True}. Best is trial 24 with value: 0.014650473293608402.\u001b[0m\n"
     ]
    },
    {
     "name": "stdout",
     "output_type": "stream",
     "text": [
      "EvaluatorHoldout: Processed 40109 (100.0%) in 33.47 sec. Users per second: 1198\n"
     ]
    },
    {
     "name": "stderr",
     "output_type": "stream",
     "text": [
      "\u001b[32m[I 2023-01-10 11:36:56,144]\u001b[0m Trial 26 finished with value: 0.014409312995104307 and parameters: {'iterations': 222, 'factors': 71, 'regularization': 0.03552521196658595, 'urm_alpha': 3.294206277433029, 'icm_alpha': 0.8174973639641201, 'use_gpu': True}. Best is trial 24 with value: 0.014650473293608402.\u001b[0m\n"
     ]
    },
    {
     "name": "stdout",
     "output_type": "stream",
     "text": [
      "EvaluatorHoldout: Processed 40109 (100.0%) in 32.72 sec. Users per second: 1226\n"
     ]
    },
    {
     "name": "stderr",
     "output_type": "stream",
     "text": [
      "\u001b[32m[I 2023-01-10 11:37:58,798]\u001b[0m Trial 27 finished with value: 0.01444769253783456 and parameters: {'iterations': 206, 'factors': 48, 'regularization': 0.06284561372545966, 'urm_alpha': 3.5577483409107136, 'icm_alpha': 0.13114128156696575, 'use_gpu': True}. Best is trial 24 with value: 0.014650473293608402.\u001b[0m\n"
     ]
    },
    {
     "name": "stdout",
     "output_type": "stream",
     "text": [
      "EvaluatorHoldout: Processed 40109 (100.0%) in 33.46 sec. Users per second: 1199\n"
     ]
    },
    {
     "name": "stderr",
     "output_type": "stream",
     "text": [
      "\u001b[32m[I 2023-01-10 11:39:10,468]\u001b[0m Trial 28 finished with value: 0.014598463235302955 and parameters: {'iterations': 240, 'factors': 82, 'regularization': 0.014248529382633317, 'urm_alpha': 3.815900944179313, 'icm_alpha': 0.3751743856238007, 'use_gpu': True}. Best is trial 24 with value: 0.014650473293608402.\u001b[0m\n"
     ]
    },
    {
     "name": "stdout",
     "output_type": "stream",
     "text": [
      "EvaluatorHoldout: Processed 40109 (100.0%) in 34.02 sec. Users per second: 1179\n"
     ]
    },
    {
     "name": "stderr",
     "output_type": "stream",
     "text": [
      "\u001b[32m[I 2023-01-10 11:40:29,663]\u001b[0m Trial 29 finished with value: 0.014564883114149007 and parameters: {'iterations': 284, 'factors': 85, 'regularization': 0.014908272412107458, 'urm_alpha': 3.834530834410463, 'icm_alpha': 0.3657325827305024, 'use_gpu': True}. Best is trial 24 with value: 0.014650473293608402.\u001b[0m\n"
     ]
    },
    {
     "name": "stdout",
     "output_type": "stream",
     "text": [
      "EvaluatorHoldout: Processed 40109 (100.0%) in 33.09 sec. Users per second: 1212\n"
     ]
    },
    {
     "name": "stderr",
     "output_type": "stream",
     "text": [
      "\u001b[32m[I 2023-01-10 11:41:18,957]\u001b[0m Trial 30 finished with value: 0.0141338414328892 and parameters: {'iterations': 101, 'factors': 95, 'regularization': 0.0042014631283041615, 'urm_alpha': 2.3673715918608753, 'icm_alpha': 0.6815460573436217, 'use_gpu': True}. Best is trial 24 with value: 0.014650473293608402.\u001b[0m\n"
     ]
    },
    {
     "name": "stdout",
     "output_type": "stream",
     "text": [
      "EvaluatorHoldout: Processed 40109 (100.0%) in 33.11 sec. Users per second: 1211\n"
     ]
    },
    {
     "name": "stderr",
     "output_type": "stream",
     "text": [
      "\u001b[32m[I 2023-01-10 11:42:37,088]\u001b[0m Trial 31 finished with value: 0.014550282029089886 and parameters: {'iterations': 283, 'factors': 78, 'regularization': 0.013342031417749813, 'urm_alpha': 3.857982643124248, 'icm_alpha': 0.3311350274043175, 'use_gpu': True}. Best is trial 24 with value: 0.014650473293608402.\u001b[0m\n"
     ]
    },
    {
     "name": "stdout",
     "output_type": "stream",
     "text": [
      "EvaluatorHoldout: Processed 40109 (100.0%) in 33.32 sec. Users per second: 1204\n"
     ]
    },
    {
     "name": "stderr",
     "output_type": "stream",
     "text": [
      "\u001b[32m[I 2023-01-10 11:43:48,283]\u001b[0m Trial 32 finished with value: 0.014593988326255518 and parameters: {'iterations': 238, 'factors': 85, 'regularization': 0.015766485139312936, 'urm_alpha': 3.8038825772179927, 'icm_alpha': 0.3912834371168404, 'use_gpu': True}. Best is trial 24 with value: 0.014650473293608402.\u001b[0m\n"
     ]
    },
    {
     "name": "stdout",
     "output_type": "stream",
     "text": [
      "EvaluatorHoldout: Processed 40109 (100.0%) in 32.93 sec. Users per second: 1218\n"
     ]
    },
    {
     "name": "stderr",
     "output_type": "stream",
     "text": [
      "\u001b[32m[I 2023-01-10 11:44:57,247]\u001b[0m Trial 33 finished with value: 0.014572855437187768 and parameters: {'iterations': 248, 'factors': 64, 'regularization': 0.029029829456505035, 'urm_alpha': 3.958637497034167, 'icm_alpha': 0.4211368387047766, 'use_gpu': True}. Best is trial 24 with value: 0.014650473293608402.\u001b[0m\n"
     ]
    },
    {
     "name": "stdout",
     "output_type": "stream",
     "text": [
      "EvaluatorHoldout: Processed 40109 (100.0%) in 33.70 sec. Users per second: 1190\n"
     ]
    },
    {
     "name": "stderr",
     "output_type": "stream",
     "text": [
      "\u001b[32m[I 2023-01-10 11:46:07,994]\u001b[0m Trial 34 finished with value: 0.014383611207079932 and parameters: {'iterations': 232, 'factors': 82, 'regularization': 0.0017299786239580919, 'urm_alpha': 3.0444428370194476, 'icm_alpha': 0.58747214454307, 'use_gpu': True}. Best is trial 24 with value: 0.014650473293608402.\u001b[0m\n"
     ]
    },
    {
     "name": "stdout",
     "output_type": "stream",
     "text": [
      "EvaluatorHoldout: Processed 40109 (100.0%) in 33.80 sec. Users per second: 1187\n"
     ]
    },
    {
     "name": "stderr",
     "output_type": "stream",
     "text": [
      "\u001b[32m[I 2023-01-10 11:47:21,834]\u001b[0m Trial 35 finished with value: 0.014527156553946215 and parameters: {'iterations': 237, 'factors': 124, 'regularization': 0.019379772991381335, 'urm_alpha': 3.784848271334917, 'icm_alpha': 0.5031918263201679, 'use_gpu': True}. Best is trial 24 with value: 0.014650473293608402.\u001b[0m\n"
     ]
    },
    {
     "name": "stdout",
     "output_type": "stream",
     "text": [
      "EvaluatorHoldout: Processed 40109 (100.0%) in 33.06 sec. Users per second: 1213\n"
     ]
    },
    {
     "name": "stderr",
     "output_type": "stream",
     "text": [
      "\u001b[32m[I 2023-01-10 11:48:36,410]\u001b[0m Trial 36 finished with value: 0.014552949363777507 and parameters: {'iterations': 261, 'factors': 92, 'regularization': 0.012483036108223898, 'urm_alpha': 3.378191409793927, 'icm_alpha': 0.27208804500665273, 'use_gpu': True}. Best is trial 24 with value: 0.014650473293608402.\u001b[0m\n"
     ]
    },
    {
     "name": "stdout",
     "output_type": "stream",
     "text": [
      "EvaluatorHoldout: Processed 40109 (100.0%) in 34.21 sec. Users per second: 1173\n"
     ]
    },
    {
     "name": "stderr",
     "output_type": "stream",
     "text": [
      "\u001b[32m[I 2023-01-10 11:49:48,289]\u001b[0m Trial 37 finished with value: 0.014532075688985744 and parameters: {'iterations': 223, 'factors': 103, 'regularization': 0.024371985640474887, 'urm_alpha': 3.989639653118286, 'icm_alpha': 0.2032492661465553, 'use_gpu': True}. Best is trial 24 with value: 0.014650473293608402.\u001b[0m\n"
     ]
    },
    {
     "name": "stdout",
     "output_type": "stream",
     "text": [
      "EvaluatorHoldout: Processed 40109 (100.0%) in 33.43 sec. Users per second: 1200\n"
     ]
    },
    {
     "name": "stderr",
     "output_type": "stream",
     "text": [
      "\u001b[32m[I 2023-01-10 11:50:57,176]\u001b[0m Trial 38 finished with value: 0.014480281312787922 and parameters: {'iterations': 244, 'factors': 60, 'regularization': 0.03323147026003968, 'urm_alpha': 3.6057254574275954, 'icm_alpha': 0.5537853719096549, 'use_gpu': True}. Best is trial 24 with value: 0.014650473293608402.\u001b[0m\n"
     ]
    },
    {
     "name": "stdout",
     "output_type": "stream",
     "text": [
      "EvaluatorHoldout: Processed 40109 (100.0%) in 32.92 sec. Users per second: 1219\n"
     ]
    },
    {
     "name": "stderr",
     "output_type": "stream",
     "text": [
      "\u001b[32m[I 2023-01-10 11:52:01,500]\u001b[0m Trial 39 finished with value: 0.014422246995983688 and parameters: {'iterations': 216, 'factors': 41, 'regularization': 0.04186354779397344, 'urm_alpha': 3.2235638622063263, 'icm_alpha': 0.6231021945552064, 'use_gpu': True}. Best is trial 24 with value: 0.014650473293608402.\u001b[0m\n"
     ]
    },
    {
     "name": "stdout",
     "output_type": "stream",
     "text": [
      "EvaluatorHoldout: Processed 40109 (100.0%) in 33.59 sec. Users per second: 1194\n"
     ]
    },
    {
     "name": "stderr",
     "output_type": "stream",
     "text": [
      "\u001b[32m[I 2023-01-10 11:53:18,879]\u001b[0m Trial 40 finished with value: 0.014518908197384555 and parameters: {'iterations': 259, 'factors': 121, 'regularization': 0.018372568897877768, 'urm_alpha': 3.755698212243301, 'icm_alpha': 0.9019267947675327, 'use_gpu': True}. Best is trial 24 with value: 0.014650473293608402.\u001b[0m\n"
     ]
    },
    {
     "name": "stdout",
     "output_type": "stream",
     "text": [
      "EvaluatorHoldout: Processed 40109 (100.0%) in 32.79 sec. Users per second: 1223\n"
     ]
    },
    {
     "name": "stderr",
     "output_type": "stream",
     "text": [
      "\u001b[32m[I 2023-01-10 11:54:25,806]\u001b[0m Trial 41 finished with value: 0.014571035990418273 and parameters: {'iterations': 235, 'factors': 63, 'regularization': 0.029050951009138102, 'urm_alpha': 3.923714262514344, 'icm_alpha': 0.44467738562127074, 'use_gpu': True}. Best is trial 24 with value: 0.014650473293608402.\u001b[0m\n"
     ]
    },
    {
     "name": "stdout",
     "output_type": "stream",
     "text": [
      "EvaluatorHoldout: Processed 40109 (100.0%) in 33.57 sec. Users per second: 1195\n"
     ]
    },
    {
     "name": "stderr",
     "output_type": "stream",
     "text": [
      "\u001b[32m[I 2023-01-10 11:55:38,713]\u001b[0m Trial 42 finished with value: 0.014643853435895247 and parameters: {'iterations': 247, 'factors': 76, 'regularization': 0.030500317195263752, 'urm_alpha': 3.985827811242627, 'icm_alpha': 0.37431617381600557, 'use_gpu': True}. Best is trial 24 with value: 0.014650473293608402.\u001b[0m\n"
     ]
    },
    {
     "name": "stdout",
     "output_type": "stream",
     "text": [
      "EvaluatorHoldout: Processed 40109 (100.0%) in 33.18 sec. Users per second: 1209\n"
     ]
    },
    {
     "name": "stderr",
     "output_type": "stream",
     "text": [
      "\u001b[32m[I 2023-01-10 11:56:48,568]\u001b[0m Trial 43 finished with value: 0.01455355485666652 and parameters: {'iterations': 230, 'factors': 77, 'regularization': 0.046792436176475834, 'urm_alpha': 3.8676947461994966, 'icm_alpha': 0.38654633261609217, 'use_gpu': True}. Best is trial 24 with value: 0.014650473293608402.\u001b[0m\n"
     ]
    },
    {
     "name": "stdout",
     "output_type": "stream",
     "text": [
      "EvaluatorHoldout: Processed 40109 (100.0%) in 34.03 sec. Users per second: 1179\n"
     ]
    },
    {
     "name": "stderr",
     "output_type": "stream",
     "text": [
      "\u001b[32m[I 2023-01-10 11:58:06,492]\u001b[0m Trial 44 finished with value: 0.014441887918913205 and parameters: {'iterations': 260, 'factors': 97, 'regularization': 0.009946055064759152, 'urm_alpha': 3.7552873072170927, 'icm_alpha': 0.2975754328351267, 'use_gpu': True}. Best is trial 24 with value: 0.014650473293608402.\u001b[0m\n"
     ]
    },
    {
     "name": "stdout",
     "output_type": "stream",
     "text": [
      "EvaluatorHoldout: Processed 40109 (100.0%) in 33.18 sec. Users per second: 1209\n"
     ]
    },
    {
     "name": "stderr",
     "output_type": "stream",
     "text": [
      "\u001b[32m[I 2023-01-10 11:59:23,454]\u001b[0m Trial 45 finished with value: 0.014681624517634015 and parameters: {'iterations': 275, 'factors': 73, 'regularization': 0.022275639703032053, 'urm_alpha': 3.993857717575092, 'icm_alpha': 0.4887850836495764, 'use_gpu': True}. Best is trial 45 with value: 0.014681624517634015.\u001b[0m\n"
     ]
    },
    {
     "name": "stdout",
     "output_type": "stream",
     "text": [
      "EvaluatorHoldout: Processed 40109 (100.0%) in 33.40 sec. Users per second: 1201\n"
     ]
    },
    {
     "name": "stderr",
     "output_type": "stream",
     "text": [
      "\u001b[32m[I 2023-01-10 12:00:40,587]\u001b[0m Trial 46 finished with value: 0.014621445252164158 and parameters: {'iterations': 275, 'factors': 73, 'regularization': 0.023446732247209834, 'urm_alpha': 3.989320735431801, 'icm_alpha': 0.5066763003612746, 'use_gpu': True}. Best is trial 45 with value: 0.014681624517634015.\u001b[0m\n"
     ]
    },
    {
     "name": "stdout",
     "output_type": "stream",
     "text": [
      "EvaluatorHoldout: Processed 40109 (100.0%) in 33.22 sec. Users per second: 1207\n"
     ]
    },
    {
     "name": "stderr",
     "output_type": "stream",
     "text": [
      "\u001b[32m[I 2023-01-10 12:01:53,756]\u001b[0m Trial 47 finished with value: 0.014577674646113281 and parameters: {'iterations': 275, 'factors': 49, 'regularization': 0.03164252269017615, 'urm_alpha': 3.9994786433158698, 'icm_alpha': 0.48683195584640054, 'use_gpu': True}. Best is trial 45 with value: 0.014681624517634015.\u001b[0m\n"
     ]
    },
    {
     "name": "stdout",
     "output_type": "stream",
     "text": [
      "EvaluatorHoldout: Processed 40109 (100.0%) in 32.50 sec. Users per second: 1234\n"
     ]
    },
    {
     "name": "stderr",
     "output_type": "stream",
     "text": [
      "\u001b[32m[I 2023-01-10 12:02:52,750]\u001b[0m Trial 48 finished with value: 0.01441908992440059 and parameters: {'iterations': 284, 'factors': 19, 'regularization': 0.03925862417810642, 'urm_alpha': 3.588802786112697, 'icm_alpha': 0.6143127260590584, 'use_gpu': True}. Best is trial 45 with value: 0.014681624517634015.\u001b[0m\n"
     ]
    },
    {
     "name": "stdout",
     "output_type": "stream",
     "text": [
      "EvaluatorHoldout: Processed 40109 (100.0%) in 33.16 sec. Users per second: 1210\n"
     ]
    },
    {
     "name": "stderr",
     "output_type": "stream",
     "text": [
      "\u001b[32m[I 2023-01-10 12:04:08,539]\u001b[0m Trial 49 finished with value: 0.01456314578487916 and parameters: {'iterations': 268, 'factors': 70, 'regularization': 0.02735088212073796, 'urm_alpha': 3.8987946145920724, 'icm_alpha': 0.5270631879072456, 'use_gpu': True}. Best is trial 45 with value: 0.014681624517634015.\u001b[0m\n"
     ]
    },
    {
     "name": "stdout",
     "output_type": "stream",
     "text": [
      "EvaluatorHoldout: Processed 40109 (100.0%) in 32.55 sec. Users per second: 1232\n"
     ]
    },
    {
     "name": "stderr",
     "output_type": "stream",
     "text": [
      "\u001b[32m[I 2023-01-10 12:05:23,567]\u001b[0m Trial 50 finished with value: 0.014537171920801725 and parameters: {'iterations': 293, 'factors': 58, 'regularization': 0.023366783213065834, 'urm_alpha': 3.6986988907176372, 'icm_alpha': 0.461497248220635, 'use_gpu': True}. Best is trial 45 with value: 0.014681624517634015.\u001b[0m\n"
     ]
    },
    {
     "name": "stdout",
     "output_type": "stream",
     "text": [
      "EvaluatorHoldout: Processed 40109 (100.0%) in 33.30 sec. Users per second: 1204\n"
     ]
    },
    {
     "name": "stderr",
     "output_type": "stream",
     "text": [
      "\u001b[32m[I 2023-01-10 12:06:37,333]\u001b[0m Trial 51 finished with value: 0.014615854336615402 and parameters: {'iterations': 254, 'factors': 74, 'regularization': 0.022586738466171076, 'urm_alpha': 3.891313403836354, 'icm_alpha': 0.32397388497766216, 'use_gpu': True}. Best is trial 45 with value: 0.014681624517634015.\u001b[0m\n"
     ]
    },
    {
     "name": "stdout",
     "output_type": "stream",
     "text": [
      "EvaluatorHoldout: Processed 40109 (100.0%) in 33.50 sec. Users per second: 1197\n"
     ]
    },
    {
     "name": "stderr",
     "output_type": "stream",
     "text": [
      "\u001b[32m[I 2023-01-10 12:07:51,466]\u001b[0m Trial 52 finished with value: 0.014674561423296218 and parameters: {'iterations': 255, 'factors': 74, 'regularization': 0.022166179131821156, 'urm_alpha': 3.9910984906925924, 'icm_alpha': 0.33331970811848555, 'use_gpu': True}. Best is trial 45 with value: 0.014681624517634015.\u001b[0m\n"
     ]
    },
    {
     "name": "stdout",
     "output_type": "stream",
     "text": [
      "EvaluatorHoldout: Processed 40109 (100.0%) in 34.01 sec. Users per second: 1179\n"
     ]
    },
    {
     "name": "stderr",
     "output_type": "stream",
     "text": [
      "\u001b[32m[I 2023-01-10 12:09:09,352]\u001b[0m Trial 53 finished with value: 0.014553465813594655 and parameters: {'iterations': 276, 'factors': 75, 'regularization': 0.021388581591995116, 'urm_alpha': 3.9053276867245126, 'icm_alpha': 0.23139750027822265, 'use_gpu': True}. Best is trial 45 with value: 0.014681624517634015.\u001b[0m\n"
     ]
    },
    {
     "name": "stdout",
     "output_type": "stream",
     "text": [
      "EvaluatorHoldout: Processed 40109 (100.0%) in 33.09 sec. Users per second: 1212\n"
     ]
    },
    {
     "name": "stderr",
     "output_type": "stream",
     "text": [
      "\u001b[32m[I 2023-01-10 12:10:23,213]\u001b[0m Trial 54 finished with value: 0.01456320514692716 and parameters: {'iterations': 256, 'factors': 65, 'regularization': 0.03077240495193835, 'urm_alpha': 3.9974276387898, 'icm_alpha': 0.7494067559758946, 'use_gpu': True}. Best is trial 45 with value: 0.014681624517634015.\u001b[0m\n"
     ]
    },
    {
     "name": "stdout",
     "output_type": "stream",
     "text": [
      "EvaluatorHoldout: Processed 40109 (100.0%) in 33.10 sec. Users per second: 1212\n"
     ]
    },
    {
     "name": "stderr",
     "output_type": "stream",
     "text": [
      "\u001b[32m[I 2023-01-10 12:11:38,947]\u001b[0m Trial 55 finished with value: 0.014625164284467867 and parameters: {'iterations': 268, 'factors': 92, 'regularization': 0.03806278337776921, 'urm_alpha': 3.908993213549352, 'icm_alpha': 0.3315529321267456, 'use_gpu': True}. Best is trial 45 with value: 0.014681624517634015.\u001b[0m\n"
     ]
    },
    {
     "name": "stdout",
     "output_type": "stream",
     "text": [
      "EvaluatorHoldout: Processed 40109 (100.0%) in 33.73 sec. Users per second: 1189\n"
     ]
    },
    {
     "name": "stderr",
     "output_type": "stream",
     "text": [
      "\u001b[32m[I 2023-01-10 12:12:54,865]\u001b[0m Trial 56 finished with value: 0.014492552437465169 and parameters: {'iterations': 265, 'factors': 92, 'regularization': 0.03704555480433186, 'urm_alpha': 3.7056154481763035, 'icm_alpha': 0.5222795780495755, 'use_gpu': True}. Best is trial 45 with value: 0.014681624517634015.\u001b[0m\n"
     ]
    },
    {
     "name": "stdout",
     "output_type": "stream",
     "text": [
      "EvaluatorHoldout: Processed 40109 (100.0%) in 33.46 sec. Users per second: 1199\n"
     ]
    },
    {
     "name": "stderr",
     "output_type": "stream",
     "text": [
      "\u001b[32m[I 2023-01-10 12:14:16,949]\u001b[0m Trial 57 finished with value: 0.014570710488522097 and parameters: {'iterations': 288, 'factors': 105, 'regularization': 0.045661470769604515, 'urm_alpha': 3.9151975462514854, 'icm_alpha': 0.18740532034797158, 'use_gpu': True}. Best is trial 45 with value: 0.014681624517634015.\u001b[0m\n"
     ]
    },
    {
     "name": "stdout",
     "output_type": "stream",
     "text": [
      "EvaluatorHoldout: Processed 40109 (100.0%) in 34.21 sec. Users per second: 1172\n"
     ]
    },
    {
     "name": "stderr",
     "output_type": "stream",
     "text": [
      "\u001b[32m[I 2023-01-10 12:15:42,387]\u001b[0m Trial 58 finished with value: 0.01405939252046134 and parameters: {'iterations': 277, 'factors': 146, 'regularization': 0.026578391788105282, 'urm_alpha': 2.926502092829901, 'icm_alpha': 0.569679394070922, 'use_gpu': True}. Best is trial 45 with value: 0.014681624517634015.\u001b[0m\n"
     ]
    },
    {
     "name": "stdout",
     "output_type": "stream",
     "text": [
      "EvaluatorHoldout: Processed 40109 (100.0%) in 33.46 sec. Users per second: 1199\n"
     ]
    },
    {
     "name": "stderr",
     "output_type": "stream",
     "text": [
      "\u001b[32m[I 2023-01-10 12:16:58,354]\u001b[0m Trial 59 finished with value: 0.014537878329172225 and parameters: {'iterations': 267, 'factors': 90, 'regularization': 0.03864775088082713, 'urm_alpha': 3.6472543641884974, 'icm_alpha': 0.46726910883598316, 'use_gpu': True}. Best is trial 45 with value: 0.014681624517634015.\u001b[0m\n"
     ]
    },
    {
     "name": "stdout",
     "output_type": "stream",
     "text": [
      "EvaluatorHoldout: Processed 40109 (100.0%) in 33.48 sec. Users per second: 1198\n"
     ]
    },
    {
     "name": "stderr",
     "output_type": "stream",
     "text": [
      "\u001b[32m[I 2023-01-10 12:18:07,925]\u001b[0m Trial 60 finished with value: 0.014415473786313417 and parameters: {'iterations': 248, 'factors': 54, 'regularization': 0.03350268350467993, 'urm_alpha': 3.761202777100971, 'icm_alpha': 0.6434639569268932, 'use_gpu': True}. Best is trial 45 with value: 0.014681624517634015.\u001b[0m\n"
     ]
    },
    {
     "name": "stdout",
     "output_type": "stream",
     "text": [
      "EvaluatorHoldout: Processed 40109 (100.0%) in 33.49 sec. Users per second: 1198\n"
     ]
    },
    {
     "name": "stderr",
     "output_type": "stream",
     "text": [
      "\u001b[32m[I 2023-01-10 12:19:22,222]\u001b[0m Trial 61 finished with value: 0.014623630764895916 and parameters: {'iterations': 256, 'factors': 73, 'regularization': 0.02289334314478248, 'urm_alpha': 3.8656454393966504, 'icm_alpha': 0.3472506842180794, 'use_gpu': True}. Best is trial 45 with value: 0.014681624517634015.\u001b[0m\n"
     ]
    },
    {
     "name": "stdout",
     "output_type": "stream",
     "text": [
      "EvaluatorHoldout: Processed 40109 (100.0%) in 33.04 sec. Users per second: 1214\n"
     ]
    },
    {
     "name": "stderr",
     "output_type": "stream",
     "text": [
      "\u001b[32m[I 2023-01-10 12:20:38,725]\u001b[0m Trial 62 finished with value: 0.01455578093346435 and parameters: {'iterations': 273, 'factors': 70, 'regularization': 0.024751492132458232, 'urm_alpha': 3.8522275870595335, 'icm_alpha': 0.4094203841027799, 'use_gpu': True}. Best is trial 45 with value: 0.014681624517634015.\u001b[0m\n"
     ]
    },
    {
     "name": "stdout",
     "output_type": "stream",
     "text": [
      "EvaluatorHoldout: Processed 40109 (100.0%) in 33.20 sec. Users per second: 1208\n"
     ]
    },
    {
     "name": "stderr",
     "output_type": "stream",
     "text": [
      "\u001b[32m[I 2023-01-10 12:21:53,616]\u001b[0m Trial 63 finished with value: 0.014579161665414215 and parameters: {'iterations': 262, 'factors': 81, 'regularization': 0.02082932305090717, 'urm_alpha': 3.935106591344858, 'icm_alpha': 0.27104968078454317, 'use_gpu': True}. Best is trial 45 with value: 0.014681624517634015.\u001b[0m\n"
     ]
    },
    {
     "name": "stdout",
     "output_type": "stream",
     "text": [
      "EvaluatorHoldout: Processed 40109 (100.0%) in 33.66 sec. Users per second: 1191\n"
     ]
    },
    {
     "name": "stderr",
     "output_type": "stream",
     "text": [
      "\u001b[32m[I 2023-01-10 12:23:08,740]\u001b[0m Trial 64 finished with value: 0.014399742843608482 and parameters: {'iterations': 245, 'factors': 99, 'regularization': 0.03005121482550728, 'urm_alpha': 3.8379657675341434, 'icm_alpha': 0.3643072512327624, 'use_gpu': True}. Best is trial 45 with value: 0.014681624517634015.\u001b[0m\n"
     ]
    },
    {
     "name": "stdout",
     "output_type": "stream",
     "text": [
      "EvaluatorHoldout: Processed 40109 (100.0%) in 32.76 sec. Users per second: 1224\n"
     ]
    },
    {
     "name": "stderr",
     "output_type": "stream",
     "text": [
      "\u001b[32m[I 2023-01-10 12:24:27,469]\u001b[0m Trial 65 finished with value: 0.014536752428996205 and parameters: {'iterations': 289, 'factors': 86, 'regularization': 0.017685360398162337, 'urm_alpha': 3.9943106139177633, 'icm_alpha': 0.337996782466018, 'use_gpu': True}. Best is trial 45 with value: 0.014681624517634015.\u001b[0m\n"
     ]
    },
    {
     "name": "stdout",
     "output_type": "stream",
     "text": [
      "EvaluatorHoldout: Processed 40109 (100.0%) in 32.76 sec. Users per second: 1224\n"
     ]
    },
    {
     "name": "stderr",
     "output_type": "stream",
     "text": [
      "\u001b[32m[I 2023-01-10 12:25:40,483]\u001b[0m Trial 66 finished with value: 0.014542504611441895 and parameters: {'iterations': 253, 'factors': 73, 'regularization': 0.009261549380648939, 'urm_alpha': 3.5275120585412503, 'icm_alpha': 0.13745061407051612, 'use_gpu': True}. Best is trial 45 with value: 0.014681624517634015.\u001b[0m\n"
     ]
    },
    {
     "name": "stdout",
     "output_type": "stream",
     "text": [
      "EvaluatorHoldout: Processed 40109 (100.0%) in 34.04 sec. Users per second: 1178\n"
     ]
    },
    {
     "name": "stderr",
     "output_type": "stream",
     "text": [
      "\u001b[32m[I 2023-01-10 12:27:06,062]\u001b[0m Trial 67 finished with value: 0.014475942936450815 and parameters: {'iterations': 279, 'factors': 131, 'regularization': 0.05329536649628425, 'urm_alpha': 3.9322814834987248, 'icm_alpha': 0.4379446448198362, 'use_gpu': True}. Best is trial 45 with value: 0.014681624517634015.\u001b[0m\n"
     ]
    },
    {
     "name": "stdout",
     "output_type": "stream",
     "text": [
      "EvaluatorHoldout: Processed 40109 (100.0%) in 32.63 sec. Users per second: 1229\n"
     ]
    },
    {
     "name": "stderr",
     "output_type": "stream",
     "text": [
      "\u001b[32m[I 2023-01-10 12:28:17,889]\u001b[0m Trial 68 finished with value: 0.014075770509488808 and parameters: {'iterations': 270, 'factors': 61, 'regularization': 0.0396966074731016, 'urm_alpha': 2.4707354669156096, 'icm_alpha': 0.500076660417574, 'use_gpu': True}. Best is trial 45 with value: 0.014681624517634015.\u001b[0m\n"
     ]
    },
    {
     "name": "stdout",
     "output_type": "stream",
     "text": [
      "EvaluatorHoldout: Processed 40109 (100.0%) in 32.96 sec. Users per second: 1217\n"
     ]
    },
    {
     "name": "stderr",
     "output_type": "stream",
     "text": [
      "\u001b[32m[I 2023-01-10 12:29:25,529]\u001b[0m Trial 69 finished with value: 0.013905429134181038 and parameters: {'iterations': 218, 'factors': 80, 'regularization': 0.026692358501173633, 'urm_alpha': 2.166201196721696, 'icm_alpha': 0.27207237170946874, 'use_gpu': True}. Best is trial 45 with value: 0.014681624517634015.\u001b[0m\n"
     ]
    },
    {
     "name": "stdout",
     "output_type": "stream",
     "text": [
      "EvaluatorHoldout: Processed 40109 (100.0%) in 33.41 sec. Users per second: 1200\n"
     ]
    },
    {
     "name": "stderr",
     "output_type": "stream",
     "text": [
      "\u001b[32m[I 2023-01-10 12:30:37,299]\u001b[0m Trial 70 finished with value: 0.014497100559705146 and parameters: {'iterations': 227, 'factors': 106, 'regularization': 0.03567217114321595, 'urm_alpha': 3.7078628308753987, 'icm_alpha': 0.3107547701171957, 'use_gpu': True}. Best is trial 45 with value: 0.014681624517634015.\u001b[0m\n"
     ]
    },
    {
     "name": "stdout",
     "output_type": "stream",
     "text": [
      "EvaluatorHoldout: Processed 40109 (100.0%) in 32.84 sec. Users per second: 1221\n"
     ]
    },
    {
     "name": "stderr",
     "output_type": "stream",
     "text": [
      "\u001b[32m[I 2023-01-10 12:31:50,569]\u001b[0m Trial 71 finished with value: 0.014639339941516716 and parameters: {'iterations': 254, 'factors': 67, 'regularization': 0.021863133475436832, 'urm_alpha': 3.878580029568975, 'icm_alpha': 0.31716180196874355, 'use_gpu': True}. Best is trial 45 with value: 0.014681624517634015.\u001b[0m\n"
     ]
    },
    {
     "name": "stdout",
     "output_type": "stream",
     "text": [
      "EvaluatorHoldout: Processed 40109 (100.0%) in 33.08 sec. Users per second: 1213\n"
     ]
    },
    {
     "name": "stderr",
     "output_type": "stream",
     "text": [
      "\u001b[32m[I 2023-01-10 12:33:02,336]\u001b[0m Trial 72 finished with value: 0.014523815460014447 and parameters: {'iterations': 243, 'factors': 67, 'regularization': 0.016260875636284138, 'urm_alpha': 3.801563587647478, 'icm_alpha': 0.35155407209443007, 'use_gpu': True}. Best is trial 45 with value: 0.014681624517634015.\u001b[0m\n"
     ]
    },
    {
     "name": "stdout",
     "output_type": "stream",
     "text": [
      "EvaluatorHoldout: Processed 40109 (100.0%) in 32.88 sec. Users per second: 1220\n"
     ]
    },
    {
     "name": "stderr",
     "output_type": "stream",
     "text": [
      "\u001b[32m[I 2023-01-10 12:34:15,791]\u001b[0m Trial 73 finished with value: 0.0145587223229399 and parameters: {'iterations': 255, 'factors': 84, 'regularization': 0.011671634698651533, 'urm_alpha': 3.9298784675809206, 'icm_alpha': 0.24415111004383633, 'use_gpu': True}. Best is trial 45 with value: 0.014681624517634015.\u001b[0m\n"
     ]
    },
    {
     "name": "stdout",
     "output_type": "stream",
     "text": [
      "EvaluatorHoldout: Processed 40109 (100.0%) in 32.56 sec. Users per second: 1232\n"
     ]
    },
    {
     "name": "stderr",
     "output_type": "stream",
     "text": [
      "\u001b[32m[I 2023-01-10 12:35:26,990]\u001b[0m Trial 74 finished with value: 0.014581944756095368 and parameters: {'iterations': 266, 'factors': 50, 'regularization': 0.022403518455591007, 'urm_alpha': 3.884083326147124, 'icm_alpha': 0.39799722623680395, 'use_gpu': True}. Best is trial 45 with value: 0.014681624517634015.\u001b[0m\n"
     ]
    },
    {
     "name": "stdout",
     "output_type": "stream",
     "text": [
      "EvaluatorHoldout: Processed 40109 (100.0%) in 32.43 sec. Users per second: 1237\n"
     ]
    },
    {
     "name": "stderr",
     "output_type": "stream",
     "text": [
      "\u001b[32m[I 2023-01-10 12:36:44,075]\u001b[0m Trial 75 finished with value: 0.014639656539105697 and parameters: {'iterations': 281, 'factors': 75, 'regularization': 0.032818774289256544, 'urm_alpha': 3.83839349242691, 'icm_alpha': 0.2912385884266625, 'use_gpu': True}. Best is trial 45 with value: 0.014681624517634015.\u001b[0m\n"
     ]
    },
    {
     "name": "stdout",
     "output_type": "stream",
     "text": [
      "EvaluatorHoldout: Processed 40109 (100.0%) in 32.74 sec. Users per second: 1225\n"
     ]
    },
    {
     "name": "stderr",
     "output_type": "stream",
     "text": [
      "\u001b[32m[I 2023-01-10 12:38:04,350]\u001b[0m Trial 76 finished with value: 0.014569420353346758 and parameters: {'iterations': 299, 'factors': 67, 'regularization': 0.03211651230032046, 'urm_alpha': 3.7489632717953567, 'icm_alpha': 0.20924740861196578, 'use_gpu': True}. Best is trial 45 with value: 0.014681624517634015.\u001b[0m\n"
     ]
    },
    {
     "name": "stdout",
     "output_type": "stream",
     "text": [
      "EvaluatorHoldout: Processed 40109 (100.0%) in 32.63 sec. Users per second: 1229\n"
     ]
    },
    {
     "name": "stderr",
     "output_type": "stream",
     "text": [
      "\u001b[32m[I 2023-01-10 12:39:10,447]\u001b[0m Trial 77 finished with value: 0.01450098976321283 and parameters: {'iterations': 210, 'factors': 90, 'regularization': 0.045502943232024785, 'urm_alpha': 3.4303173098383057, 'icm_alpha': 0.299745069172302, 'use_gpu': True}. Best is trial 45 with value: 0.014681624517634015.\u001b[0m\n"
     ]
    },
    {
     "name": "stdout",
     "output_type": "stream",
     "text": [
      "EvaluatorHoldout: Processed 40109 (100.0%) in 32.26 sec. Users per second: 1243\n"
     ]
    },
    {
     "name": "stderr",
     "output_type": "stream",
     "text": [
      "\u001b[32m[I 2023-01-10 12:40:11,768]\u001b[0m Trial 78 finished with value: 0.014550580818064601 and parameters: {'iterations': 200, 'factors': 45, 'regularization': 0.028939039783718798, 'urm_alpha': 3.8155484861317044, 'icm_alpha': 0.26678346146294113, 'use_gpu': True}. Best is trial 45 with value: 0.014681624517634015.\u001b[0m\n"
     ]
    },
    {
     "name": "stdout",
     "output_type": "stream",
     "text": [
      "EvaluatorHoldout: Processed 40109 (100.0%) in 33.03 sec. Users per second: 1214\n"
     ]
    },
    {
     "name": "stderr",
     "output_type": "stream",
     "text": [
      "\u001b[32m[I 2023-01-10 12:41:24,472]\u001b[0m Trial 79 finished with value: 0.014533418260636782 and parameters: {'iterations': 249, 'factors': 79, 'regularization': 0.03360360839288145, 'urm_alpha': 3.634994513693939, 'icm_alpha': 0.37063928281462144, 'use_gpu': True}. Best is trial 45 with value: 0.014681624517634015.\u001b[0m\n"
     ]
    },
    {
     "name": "stdout",
     "output_type": "stream",
     "text": [
      "EvaluatorHoldout: Processed 40109 (100.0%) in 32.11 sec. Users per second: 1249\n"
     ]
    },
    {
     "name": "stderr",
     "output_type": "stream",
     "text": [
      "\u001b[32m[I 2023-01-10 12:42:37,203]\u001b[0m Trial 80 finished with value: 0.014527725440239019 and parameters: {'iterations': 280, 'factors': 58, 'regularization': 0.04199551468293654, 'urm_alpha': 3.856130565113218, 'icm_alpha': 0.32555705843886446, 'use_gpu': True}. Best is trial 45 with value: 0.014681624517634015.\u001b[0m\n"
     ]
    },
    {
     "name": "stdout",
     "output_type": "stream",
     "text": [
      "EvaluatorHoldout: Processed 40109 (100.0%) in 33.12 sec. Users per second: 1211\n"
     ]
    },
    {
     "name": "stderr",
     "output_type": "stream",
     "text": [
      "\u001b[32m[I 2023-01-10 12:43:56,100]\u001b[0m Trial 81 finished with value: 0.014562607568977834 and parameters: {'iterations': 288, 'factors': 75, 'regularization': 0.025279167819656726, 'urm_alpha': 3.95540420987507, 'icm_alpha': 0.8974927455846469, 'use_gpu': True}. Best is trial 45 with value: 0.014681624517634015.\u001b[0m\n"
     ]
    },
    {
     "name": "stdout",
     "output_type": "stream",
     "text": [
      "EvaluatorHoldout: Processed 40109 (100.0%) in 32.58 sec. Users per second: 1231\n"
     ]
    },
    {
     "name": "stderr",
     "output_type": "stream",
     "text": [
      "\u001b[32m[I 2023-01-10 12:45:11,748]\u001b[0m Trial 82 finished with value: 0.014571738441319043 and parameters: {'iterations': 271, 'factors': 72, 'regularization': 0.01774255312240687, 'urm_alpha': 3.942332417594274, 'icm_alpha': 0.443255492266474, 'use_gpu': True}. Best is trial 45 with value: 0.014681624517634015.\u001b[0m\n"
     ]
    },
    {
     "name": "stdout",
     "output_type": "stream",
     "text": [
      "EvaluatorHoldout: Processed 40109 (100.0%) in 32.93 sec. Users per second: 1218\n"
     ]
    },
    {
     "name": "stderr",
     "output_type": "stream",
     "text": [
      "\u001b[32m[I 2023-01-10 12:46:25,627]\u001b[0m Trial 83 finished with value: 0.014632207591456312 and parameters: {'iterations': 257, 'factors': 87, 'regularization': 0.019465726941086593, 'urm_alpha': 3.8800656581357615, 'icm_alpha': 0.346164927518196, 'use_gpu': True}. Best is trial 45 with value: 0.014681624517634015.\u001b[0m\n"
     ]
    },
    {
     "name": "stdout",
     "output_type": "stream",
     "text": [
      "EvaluatorHoldout: Processed 40109 (100.0%) in 32.71 sec. Users per second: 1226\n"
     ]
    },
    {
     "name": "stderr",
     "output_type": "stream",
     "text": [
      "\u001b[32m[I 2023-01-10 12:47:39,715]\u001b[0m Trial 84 finished with value: 0.014552743575344656 and parameters: {'iterations': 260, 'factors': 87, 'regularization': 0.027243320323135017, 'urm_alpha': 3.7794507326256754, 'icm_alpha': 0.15546892327965814, 'use_gpu': True}. Best is trial 45 with value: 0.014681624517634015.\u001b[0m\n"
     ]
    },
    {
     "name": "stdout",
     "output_type": "stream",
     "text": [
      "EvaluatorHoldout: Processed 40109 (100.0%) in 32.89 sec. Users per second: 1219\n"
     ]
    },
    {
     "name": "stderr",
     "output_type": "stream",
     "text": [
      "\u001b[32m[I 2023-01-10 12:48:51,428]\u001b[0m Trial 85 finished with value: 0.01454030129009575 and parameters: {'iterations': 244, 'factors': 94, 'regularization': 0.020143927457776094, 'urm_alpha': 3.859636433505873, 'icm_alpha': 0.07369251175390157, 'use_gpu': True}. Best is trial 45 with value: 0.014681624517634015.\u001b[0m\n"
     ]
    },
    {
     "name": "stdout",
     "output_type": "stream",
     "text": [
      "EvaluatorHoldout: Processed 40109 (100.0%) in 32.33 sec. Users per second: 1241\n"
     ]
    },
    {
     "name": "stderr",
     "output_type": "stream",
     "text": [
      "\u001b[32m[I 2023-01-10 12:50:05,725]\u001b[0m Trial 86 finished with value: 0.014209258936066038 and parameters: {'iterations': 264, 'factors': 82, 'regularization': 0.014595682588848798, 'urm_alpha': 2.6560622721396756, 'icm_alpha': 0.3456722087291539, 'use_gpu': True}. Best is trial 45 with value: 0.014681624517634015.\u001b[0m\n"
     ]
    },
    {
     "name": "stdout",
     "output_type": "stream",
     "text": [
      "EvaluatorHoldout: Processed 40109 (100.0%) in 31.69 sec. Users per second: 1266\n"
     ]
    },
    {
     "name": "stderr",
     "output_type": "stream",
     "text": [
      "\u001b[32m[I 2023-01-10 12:51:14,599]\u001b[0m Trial 87 finished with value: 0.014526543146117515 and parameters: {'iterations': 256, 'factors': 64, 'regularization': 0.0290462360011593, 'urm_alpha': 3.6739148276847002, 'icm_alpha': 0.39317419054208474, 'use_gpu': True}. Best is trial 45 with value: 0.014681624517634015.\u001b[0m\n"
     ]
    },
    {
     "name": "stdout",
     "output_type": "stream",
     "text": [
      "EvaluatorHoldout: Processed 40109 (100.0%) in 32.59 sec. Users per second: 1231\n"
     ]
    },
    {
     "name": "stderr",
     "output_type": "stream",
     "text": [
      "\u001b[32m[I 2023-01-10 12:52:11,131]\u001b[0m Trial 88 finished with value: 0.014595901762934252 and parameters: {'iterations': 150, 'factors': 77, 'regularization': 0.020267607511276018, 'urm_alpha': 3.8878646819897833, 'icm_alpha': 0.28557928829562074, 'use_gpu': True}. Best is trial 45 with value: 0.014681624517634015.\u001b[0m\n"
     ]
    },
    {
     "name": "stdout",
     "output_type": "stream",
     "text": [
      "EvaluatorHoldout: Processed 40109 (100.0%) in 33.02 sec. Users per second: 1215\n"
     ]
    },
    {
     "name": "stderr",
     "output_type": "stream",
     "text": [
      "\u001b[32m[I 2023-01-10 12:53:23,683]\u001b[0m Trial 89 finished with value: 0.014504779040606517 and parameters: {'iterations': 234, 'factors': 97, 'regularization': 0.006416384200630509, 'urm_alpha': 3.8126275004206827, 'icm_alpha': 0.2523252068011529, 'use_gpu': True}. Best is trial 45 with value: 0.014681624517634015.\u001b[0m\n"
     ]
    },
    {
     "name": "stdout",
     "output_type": "stream",
     "text": [
      "EvaluatorHoldout: Processed 40109 (100.0%) in 32.79 sec. Users per second: 1223\n"
     ]
    },
    {
     "name": "stderr",
     "output_type": "stream",
     "text": [
      "\u001b[32m[I 2023-01-10 12:54:36,396]\u001b[0m Trial 90 finished with value: 0.01438249816868096 and parameters: {'iterations': 251, 'factors': 69, 'regularization': 0.03704988063973687, 'urm_alpha': 3.1319024442115078, 'icm_alpha': 0.30998311642068144, 'use_gpu': True}. Best is trial 45 with value: 0.014681624517634015.\u001b[0m\n"
     ]
    },
    {
     "name": "stdout",
     "output_type": "stream",
     "text": [
      "EvaluatorHoldout: Processed 40109 (100.0%) in 32.59 sec. Users per second: 1231\n"
     ]
    },
    {
     "name": "stderr",
     "output_type": "stream",
     "text": [
      "\u001b[32m[I 2023-01-10 12:55:52,241]\u001b[0m Trial 91 finished with value: 0.014613184033825437 and parameters: {'iterations': 272, 'factors': 76, 'regularization': 0.023282235602703576, 'urm_alpha': 3.9713878673444585, 'icm_alpha': 0.3681023141147827, 'use_gpu': True}. Best is trial 45 with value: 0.014681624517634015.\u001b[0m\n"
     ]
    },
    {
     "name": "stdout",
     "output_type": "stream",
     "text": [
      "EvaluatorHoldout: Processed 40109 (100.0%) in 32.51 sec. Users per second: 1234\n"
     ]
    },
    {
     "name": "stderr",
     "output_type": "stream",
     "text": [
      "\u001b[32m[I 2023-01-10 12:57:09,209]\u001b[0m Trial 92 finished with value: 0.014592126336685067 and parameters: {'iterations': 280, 'factors': 89, 'regularization': 0.024578203749938878, 'urm_alpha': 3.9477637839586572, 'icm_alpha': 0.4256251339771542, 'use_gpu': True}. Best is trial 45 with value: 0.014681624517634015.\u001b[0m\n"
     ]
    },
    {
     "name": "stdout",
     "output_type": "stream",
     "text": [
      "EvaluatorHoldout: Processed 40109 (100.0%) in 32.55 sec. Users per second: 1232\n"
     ]
    },
    {
     "name": "stderr",
     "output_type": "stream",
     "text": [
      "\u001b[32m[I 2023-01-10 12:58:28,491]\u001b[0m Trial 93 finished with value: 0.014579971957368676 and parameters: {'iterations': 294, 'factors': 83, 'regularization': 0.01638527600976817, 'urm_alpha': 3.9925914391302153, 'icm_alpha': 0.8274020484896996, 'use_gpu': True}. Best is trial 45 with value: 0.014681624517634015.\u001b[0m\n"
     ]
    },
    {
     "name": "stdout",
     "output_type": "stream",
     "text": [
      "EvaluatorHoldout: Processed 40109 (100.0%) in 32.14 sec. Users per second: 1248\n"
     ]
    },
    {
     "name": "stderr",
     "output_type": "stream",
     "text": [
      "\u001b[32m[I 2023-01-10 12:59:37,961]\u001b[0m Trial 94 finished with value: 0.014548067824701654 and parameters: {'iterations': 257, 'factors': 61, 'regularization': 0.02741002671553342, 'urm_alpha': 3.8921511114393677, 'icm_alpha': 0.6812697722431534, 'use_gpu': True}. Best is trial 45 with value: 0.014681624517634015.\u001b[0m\n"
     ]
    },
    {
     "name": "stdout",
     "output_type": "stream",
     "text": [
      "EvaluatorHoldout: Processed 40109 (100.0%) in 32.41 sec. Users per second: 1238\n"
     ]
    },
    {
     "name": "stderr",
     "output_type": "stream",
     "text": [
      "\u001b[32m[I 2023-01-10 13:00:52,052]\u001b[0m Trial 95 finished with value: 0.014511814432655295 and parameters: {'iterations': 262, 'factors': 71, 'regularization': 0.030387693671446704, 'urm_alpha': 3.7437615002425733, 'icm_alpha': 0.32998938729803085, 'use_gpu': True}. Best is trial 45 with value: 0.014681624517634015.\u001b[0m\n"
     ]
    },
    {
     "name": "stdout",
     "output_type": "stream",
     "text": [
      "EvaluatorHoldout: Processed 40109 (100.0%) in 32.55 sec. Users per second: 1232\n"
     ]
    },
    {
     "name": "stderr",
     "output_type": "stream",
     "text": [
      "\u001b[32m[I 2023-01-10 13:02:09,739]\u001b[0m Trial 96 finished with value: 0.01450889876673379 and parameters: {'iterations': 284, 'factors': 78, 'regularization': 0.011888463218762085, 'urm_alpha': 3.8429088595471983, 'icm_alpha': 0.5462397391713482, 'use_gpu': True}. Best is trial 45 with value: 0.014681624517634015.\u001b[0m\n"
     ]
    },
    {
     "name": "stdout",
     "output_type": "stream",
     "text": [
      "EvaluatorHoldout: Processed 40109 (100.0%) in 32.21 sec. Users per second: 1245\n"
     ]
    },
    {
     "name": "stderr",
     "output_type": "stream",
     "text": [
      "\u001b[32m[I 2023-01-10 13:03:15,040]\u001b[0m Trial 97 finished with value: 0.014545274840345915 and parameters: {'iterations': 228, 'factors': 56, 'regularization': 0.02241831737809303, 'urm_alpha': 3.9594714371994075, 'icm_alpha': 0.4810837857736291, 'use_gpu': True}. Best is trial 45 with value: 0.014681624517634015.\u001b[0m\n"
     ]
    },
    {
     "name": "stdout",
     "output_type": "stream",
     "text": [
      "EvaluatorHoldout: Processed 40109 (100.0%) in 32.55 sec. Users per second: 1232\n"
     ]
    },
    {
     "name": "stderr",
     "output_type": "stream",
     "text": [
      "\u001b[32m[I 2023-01-10 13:04:25,588]\u001b[0m Trial 98 finished with value: 0.014674460507814738 and parameters: {'iterations': 239, 'factors': 66, 'regularization': 0.032337415484601284, 'urm_alpha': 3.9077440558645473, 'icm_alpha': 0.2266973484048814, 'use_gpu': True}. Best is trial 45 with value: 0.014681624517634015.\u001b[0m\n"
     ]
    },
    {
     "name": "stdout",
     "output_type": "stream",
     "text": [
      "EvaluatorHoldout: Processed 40109 (100.0%) in 33.13 sec. Users per second: 1211\n"
     ]
    },
    {
     "name": "stderr",
     "output_type": "stream",
     "text": [
      "\u001b[32m[I 2023-01-10 13:05:39,122]\u001b[0m Trial 99 finished with value: 0.01452688744599558 and parameters: {'iterations': 239, 'factors': 113, 'regularization': 0.0345012142236867, 'urm_alpha': 3.909864955578362, 'icm_alpha': 0.2367047155839008, 'use_gpu': True}. Best is trial 45 with value: 0.014681624517634015.\u001b[0m\n"
     ]
    },
    {
     "name": "stdout",
     "output_type": "stream",
     "text": [
      "EvaluatorHoldout: Processed 40109 (100.0%) in 32.68 sec. Users per second: 1227\n"
     ]
    },
    {
     "name": "stderr",
     "output_type": "stream",
     "text": [
      "\u001b[32m[I 2023-01-10 13:06:51,251]\u001b[0m Trial 100 finished with value: 0.014601881499897046 and parameters: {'iterations': 248, 'factors': 66, 'regularization': 0.03764616253813035, 'urm_alpha': 3.7969838741158255, 'icm_alpha': 0.21578654203329306, 'use_gpu': True}. Best is trial 45 with value: 0.014681624517634015.\u001b[0m\n"
     ]
    },
    {
     "name": "stdout",
     "output_type": "stream",
     "text": [
      "EvaluatorHoldout: Processed 40109 (100.0%) in 32.66 sec. Users per second: 1228\n"
     ]
    },
    {
     "name": "stderr",
     "output_type": "stream",
     "text": [
      "\u001b[32m[I 2023-01-10 13:08:06,412]\u001b[0m Trial 101 finished with value: 0.014554733193318216 and parameters: {'iterations': 267, 'factors': 74, 'regularization': 0.01890409585631177, 'urm_alpha': 3.8798109887436185, 'icm_alpha': 0.29550256754051707, 'use_gpu': True}. Best is trial 45 with value: 0.014681624517634015.\u001b[0m\n"
     ]
    },
    {
     "name": "stdout",
     "output_type": "stream",
     "text": [
      "EvaluatorHoldout: Processed 40109 (100.0%) in 32.57 sec. Users per second: 1231\n"
     ]
    },
    {
     "name": "stderr",
     "output_type": "stream",
     "text": [
      "\u001b[32m[I 2023-01-10 13:08:59,801]\u001b[0m Trial 102 finished with value: 0.014635183608793144 and parameters: {'iterations': 130, 'factors': 85, 'regularization': 0.0323499865012735, 'urm_alpha': 3.995601758137596, 'icm_alpha': 0.3494641603689816, 'use_gpu': True}. Best is trial 45 with value: 0.014681624517634015.\u001b[0m\n"
     ]
    },
    {
     "name": "stdout",
     "output_type": "stream",
     "text": [
      "EvaluatorHoldout: Processed 40109 (100.0%) in 32.79 sec. Users per second: 1223\n"
     ]
    },
    {
     "name": "stderr",
     "output_type": "stream",
     "text": [
      "\u001b[32m[I 2023-01-10 13:09:49,550]\u001b[0m Trial 103 finished with value: 0.014602583950797764 and parameters: {'iterations': 106, 'factors': 86, 'regularization': 0.031777367125502026, 'urm_alpha': 3.9310321445077365, 'icm_alpha': 0.1763164081501078, 'use_gpu': True}. Best is trial 45 with value: 0.014681624517634015.\u001b[0m\n"
     ]
    },
    {
     "name": "stdout",
     "output_type": "stream",
     "text": [
      "EvaluatorHoldout: Processed 40109 (100.0%) in 32.76 sec. Users per second: 1224\n"
     ]
    },
    {
     "name": "stderr",
     "output_type": "stream",
     "text": [
      "\u001b[32m[I 2023-01-10 13:10:48,944]\u001b[0m Trial 104 finished with value: 0.014586698666768129 and parameters: {'iterations': 167, 'factors': 94, 'regularization': 0.040104382441110586, 'urm_alpha': 3.8395404868183807, 'icm_alpha': 0.3525007466974345, 'use_gpu': True}. Best is trial 45 with value: 0.014681624517634015.\u001b[0m\n"
     ]
    },
    {
     "name": "stdout",
     "output_type": "stream",
     "text": [
      "EvaluatorHoldout: Processed 40109 (100.0%) in 31.81 sec. Users per second: 1261\n"
     ]
    },
    {
     "name": "stderr",
     "output_type": "stream",
     "text": [
      "\u001b[32m[I 2023-01-10 13:11:31,755]\u001b[0m Trial 105 finished with value: 0.014571717664602161 and parameters: {'iterations': 117, 'factors': 1, 'regularization': 0.03491312660279135, 'urm_alpha': 3.9960116306428017, 'icm_alpha': 0.3879798837195616, 'use_gpu': True}. Best is trial 45 with value: 0.014681624517634015.\u001b[0m\n"
     ]
    },
    {
     "name": "stdout",
     "output_type": "stream",
     "text": [
      "EvaluatorHoldout: Processed 40109 (100.0%) in 32.37 sec. Users per second: 1239\n"
     ]
    },
    {
     "name": "stderr",
     "output_type": "stream",
     "text": [
      "\u001b[32m[I 2023-01-10 13:12:42,504]\u001b[0m Trial 106 finished with value: 0.014518966570064901 and parameters: {'iterations': 241, 'factors': 80, 'regularization': 0.025794376258733043, 'urm_alpha': 3.9120371923712187, 'icm_alpha': 0.3147230374804748, 'use_gpu': True}. Best is trial 45 with value: 0.014681624517634015.\u001b[0m\n"
     ]
    },
    {
     "name": "stdout",
     "output_type": "stream",
     "text": [
      "EvaluatorHoldout: Processed 40109 (100.0%) in 32.75 sec. Users per second: 1225\n"
     ]
    },
    {
     "name": "stderr",
     "output_type": "stream",
     "text": [
      "\u001b[32m[I 2023-01-10 13:13:37,990]\u001b[0m Trial 107 finished with value: 0.014429530719266316 and parameters: {'iterations': 134, 'factors': 102, 'regularization': 0.0837647708789495, 'urm_alpha': 3.7772282385399016, 'icm_alpha': 0.409807508917118, 'use_gpu': True}. Best is trial 45 with value: 0.014681624517634015.\u001b[0m\n"
     ]
    },
    {
     "name": "stdout",
     "output_type": "stream",
     "text": [
      "EvaluatorHoldout: Processed 40109 (100.0%) in 34.22 sec. Users per second: 1172\n"
     ]
    },
    {
     "name": "stderr",
     "output_type": "stream",
     "text": [
      "\u001b[32m[I 2023-01-10 13:14:51,367]\u001b[0m Trial 108 finished with value: 0.014628218461834498 and parameters: {'iterations': 246, 'factors': 92, 'regularization': 0.032276905411250036, 'urm_alpha': 3.960448666869538, 'icm_alpha': 0.2580718430498098, 'use_gpu': True}. Best is trial 45 with value: 0.014681624517634015.\u001b[0m\n"
     ]
    },
    {
     "name": "stdout",
     "output_type": "stream",
     "text": [
      "EvaluatorHoldout: Processed 40109 (100.0%) in 32.91 sec. Users per second: 1219\n"
     ]
    },
    {
     "name": "stderr",
     "output_type": "stream",
     "text": [
      "\u001b[32m[I 2023-01-10 13:16:01,406]\u001b[0m Trial 109 finished with value: 0.01458789580140163 and parameters: {'iterations': 233, 'factors': 90, 'regularization': 0.0324249124486403, 'urm_alpha': 3.9598440723163617, 'icm_alpha': 0.2833815080360902, 'use_gpu': True}. Best is trial 45 with value: 0.014681624517634015.\u001b[0m\n"
     ]
    },
    {
     "name": "stdout",
     "output_type": "stream",
     "text": [
      "EvaluatorHoldout: Processed 40109 (100.0%) in 33.04 sec. Users per second: 1214\n"
     ]
    },
    {
     "name": "stderr",
     "output_type": "stream",
     "text": [
      "\u001b[32m[I 2023-01-10 13:16:56,010]\u001b[0m Trial 110 finished with value: 0.014478153183369086 and parameters: {'iterations': 127, 'factors': 97, 'regularization': 0.029154011659833452, 'urm_alpha': 3.737546177275353, 'icm_alpha': 0.24955912710878309, 'use_gpu': True}. Best is trial 45 with value: 0.014681624517634015.\u001b[0m\n"
     ]
    },
    {
     "name": "stdout",
     "output_type": "stream",
     "text": [
      "EvaluatorHoldout: Processed 40109 (100.0%) in 32.47 sec. Users per second: 1235\n"
     ]
    },
    {
     "name": "stderr",
     "output_type": "stream",
     "text": [
      "\u001b[32m[I 2023-01-10 13:18:08,577]\u001b[0m Trial 111 finished with value: 0.014546785604466041 and parameters: {'iterations': 252, 'factors': 83, 'regularization': 0.03073311664803143, 'urm_alpha': 3.8788906070883495, 'icm_alpha': 0.26280043301606953, 'use_gpu': True}. Best is trial 45 with value: 0.014681624517634015.\u001b[0m\n"
     ]
    },
    {
     "name": "stdout",
     "output_type": "stream",
     "text": [
      "EvaluatorHoldout: Processed 40109 (100.0%) in 32.53 sec. Users per second: 1233\n"
     ]
    },
    {
     "name": "stderr",
     "output_type": "stream",
     "text": [
      "\u001b[32m[I 2023-01-10 13:19:18,864]\u001b[0m Trial 112 finished with value: 0.014521881246618993 and parameters: {'iterations': 237, 'factors': 69, 'regularization': 0.035995545689766824, 'urm_alpha': 3.82964539489033, 'icm_alpha': 0.18820431477849242, 'use_gpu': True}. Best is trial 45 with value: 0.014681624517634015.\u001b[0m\n"
     ]
    },
    {
     "name": "stdout",
     "output_type": "stream",
     "text": [
      "EvaluatorHoldout: Processed 40109 (100.0%) in 33.30 sec. Users per second: 1205\n"
     ]
    },
    {
     "name": "stderr",
     "output_type": "stream",
     "text": [
      "\u001b[32m[I 2023-01-10 13:20:20,867]\u001b[0m Trial 113 finished with value: 0.014665876755682112 and parameters: {'iterations': 180, 'factors': 92, 'regularization': 0.04282468256913295, 'urm_alpha': 3.9529290014039145, 'icm_alpha': 0.3403036382825223, 'use_gpu': True}. Best is trial 45 with value: 0.014681624517634015.\u001b[0m\n"
     ]
    },
    {
     "name": "stdout",
     "output_type": "stream",
     "text": [
      "EvaluatorHoldout: Processed 40109 (100.0%) in 32.75 sec. Users per second: 1225\n"
     ]
    },
    {
     "name": "stderr",
     "output_type": "stream",
     "text": [
      "\u001b[32m[I 2023-01-10 13:21:22,502]\u001b[0m Trial 114 finished with value: 0.014545620129591404 and parameters: {'iterations': 181, 'factors': 86, 'regularization': 0.04776455216391696, 'urm_alpha': 3.950726046861185, 'icm_alpha': 0.31940785601895244, 'use_gpu': True}. Best is trial 45 with value: 0.014681624517634015.\u001b[0m\n"
     ]
    },
    {
     "name": "stdout",
     "output_type": "stream",
     "text": [
      "EvaluatorHoldout: Processed 40109 (100.0%) in 32.34 sec. Users per second: 1240\n"
     ]
    },
    {
     "name": "stderr",
     "output_type": "stream",
     "text": [
      "\u001b[32m[I 2023-01-10 13:22:30,547]\u001b[0m Trial 115 finished with value: 0.014585409520960284 and parameters: {'iterations': 224, 'factors': 93, 'regularization': 0.03992285973844025, 'urm_alpha': 3.9991377111396775, 'icm_alpha': 0.36948567340084215, 'use_gpu': True}. Best is trial 45 with value: 0.014681624517634015.\u001b[0m\n"
     ]
    },
    {
     "name": "stdout",
     "output_type": "stream",
     "text": [
      "EvaluatorHoldout: Processed 40109 (100.0%) in 33.19 sec. Users per second: 1208\n"
     ]
    },
    {
     "name": "stderr",
     "output_type": "stream",
     "text": [
      "\u001b[32m[I 2023-01-10 13:23:45,495]\u001b[0m Trial 116 finished with value: 0.014497592275335513 and parameters: {'iterations': 247, 'factors': 100, 'regularization': 0.04211058433924559, 'urm_alpha': 3.9145596759219563, 'icm_alpha': 0.2293014758755743, 'use_gpu': True}. Best is trial 45 with value: 0.014681624517634015.\u001b[0m\n"
     ]
    },
    {
     "name": "stdout",
     "output_type": "stream",
     "text": [
      "EvaluatorHoldout: Processed 40109 (100.0%) in 32.39 sec. Users per second: 1238\n"
     ]
    },
    {
     "name": "stderr",
     "output_type": "stream",
     "text": [
      "\u001b[32m[I 2023-01-10 13:24:41,561]\u001b[0m Trial 117 finished with value: 0.014655843580212291 and parameters: {'iterations': 148, 'factors': 90, 'regularization': 0.043305796772206105, 'urm_alpha': 3.959009021139914, 'icm_alpha': 0.277317560101066, 'use_gpu': True}. Best is trial 45 with value: 0.014681624517634015.\u001b[0m\n"
     ]
    },
    {
     "name": "stdout",
     "output_type": "stream",
     "text": [
      "EvaluatorHoldout: Processed 40109 (100.0%) in 32.62 sec. Users per second: 1229\n"
     ]
    },
    {
     "name": "stderr",
     "output_type": "stream",
     "text": [
      "\u001b[32m[I 2023-01-10 13:25:37,486]\u001b[0m Trial 118 finished with value: 0.014596560681666414 and parameters: {'iterations': 146, 'factors': 89, 'regularization': 0.050218366448852435, 'urm_alpha': 3.926950733878901, 'icm_alpha': 0.2746768701561853, 'use_gpu': True}. Best is trial 45 with value: 0.014681624517634015.\u001b[0m\n"
     ]
    },
    {
     "name": "stdout",
     "output_type": "stream",
     "text": [
      "EvaluatorHoldout: Processed 40109 (100.0%) in 33.48 sec. Users per second: 1198\n"
     ]
    },
    {
     "name": "stderr",
     "output_type": "stream",
     "text": [
      "\u001b[32m[I 2023-01-10 13:26:38,244]\u001b[0m Trial 119 finished with value: 0.014578156468069134 and parameters: {'iterations': 161, 'factors': 107, 'regularization': 0.043273767641982555, 'urm_alpha': 3.9999657584092634, 'icm_alpha': 0.29461536712085473, 'use_gpu': True}. Best is trial 45 with value: 0.014681624517634015.\u001b[0m\n"
     ]
    },
    {
     "name": "stdout",
     "output_type": "stream",
     "text": [
      "EvaluatorHoldout: Processed 40109 (100.0%) in 32.30 sec. Users per second: 1242\n"
     ]
    },
    {
     "name": "stderr",
     "output_type": "stream",
     "text": [
      "\u001b[32m[I 2023-01-10 13:27:31,829]\u001b[0m Trial 120 finished with value: 0.014583509935426045 and parameters: {'iterations': 133, 'factors': 80, 'regularization': 0.0547880831729051, 'urm_alpha': 3.954889963256454, 'icm_alpha': 0.19705238614805576, 'use_gpu': True}. Best is trial 45 with value: 0.014681624517634015.\u001b[0m\n"
     ]
    },
    {
     "name": "stdout",
     "output_type": "stream",
     "text": [
      "EvaluatorHoldout: Processed 40109 (100.0%) in 32.64 sec. Users per second: 1229\n"
     ]
    },
    {
     "name": "stderr",
     "output_type": "stream",
     "text": [
      "\u001b[32m[I 2023-01-10 13:28:29,685]\u001b[0m Trial 121 finished with value: 0.01462413831040585 and parameters: {'iterations': 158, 'factors': 92, 'regularization': 0.04522872952461994, 'urm_alpha': 3.8757066457441587, 'icm_alpha': 0.3349872020267778, 'use_gpu': True}. Best is trial 45 with value: 0.014681624517634015.\u001b[0m\n"
     ]
    },
    {
     "name": "stdout",
     "output_type": "stream",
     "text": [
      "EvaluatorHoldout: Processed 40109 (100.0%) in 32.83 sec. Users per second: 1222\n"
     ]
    },
    {
     "name": "stderr",
     "output_type": "stream",
     "text": [
      "\u001b[32m[I 2023-01-10 13:29:26,593]\u001b[0m Trial 122 finished with value: 0.01453529608008667 and parameters: {'iterations': 142, 'factors': 97, 'regularization': 0.03824646127182457, 'urm_alpha': 3.909368000958861, 'icm_alpha': 0.35008583563119405, 'use_gpu': True}. Best is trial 45 with value: 0.014681624517634015.\u001b[0m\n"
     ]
    },
    {
     "name": "stdout",
     "output_type": "stream",
     "text": [
      "EvaluatorHoldout: Processed 40109 (100.0%) in 32.83 sec. Users per second: 1222\n"
     ]
    },
    {
     "name": "stderr",
     "output_type": "stream",
     "text": [
      "\u001b[32m[I 2023-01-10 13:30:19,251]\u001b[0m Trial 123 finished with value: 0.014632630051364124 and parameters: {'iterations': 124, 'factors': 84, 'regularization': 0.03522099250888336, 'urm_alpha': 3.8166862937304007, 'icm_alpha': 0.29794589045731296, 'use_gpu': True}. Best is trial 45 with value: 0.014681624517634015.\u001b[0m\n"
     ]
    },
    {
     "name": "stdout",
     "output_type": "stream",
     "text": [
      "EvaluatorHoldout: Processed 40109 (100.0%) in 32.63 sec. Users per second: 1229\n"
     ]
    },
    {
     "name": "stderr",
     "output_type": "stream",
     "text": [
      "\u001b[32m[I 2023-01-10 13:31:12,200]\u001b[0m Trial 124 finished with value: 0.01462500004946852 and parameters: {'iterations': 127, 'factors': 84, 'regularization': 0.03382493210126098, 'urm_alpha': 3.8104249372826158, 'icm_alpha': 0.2233935234103937, 'use_gpu': True}. Best is trial 45 with value: 0.014681624517634015.\u001b[0m\n"
     ]
    },
    {
     "name": "stdout",
     "output_type": "stream",
     "text": [
      "EvaluatorHoldout: Processed 40109 (100.0%) in 32.45 sec. Users per second: 1236\n"
     ]
    },
    {
     "name": "stderr",
     "output_type": "stream",
     "text": [
      "\u001b[32m[I 2023-01-10 13:32:04,201]\u001b[0m Trial 125 finished with value: 0.014558389895471526 and parameters: {'iterations': 122, 'factors': 76, 'regularization': 0.02783898476397386, 'urm_alpha': 3.9564241954131227, 'icm_alpha': 0.30582687688447, 'use_gpu': True}. Best is trial 45 with value: 0.014681624517634015.\u001b[0m\n"
     ]
    },
    {
     "name": "stdout",
     "output_type": "stream",
     "text": [
      "EvaluatorHoldout: Processed 40109 (100.0%) in 32.58 sec. Users per second: 1231\n"
     ]
    },
    {
     "name": "stderr",
     "output_type": "stream",
     "text": [
      "\u001b[32m[I 2023-01-10 13:33:08,119]\u001b[0m Trial 126 finished with value: 0.01451801578793048 and parameters: {'iterations': 197, 'factors': 88, 'regularization': 0.04783794356420221, 'urm_alpha': 3.844901544514142, 'icm_alpha': 0.254292897673, 'use_gpu': True}. Best is trial 45 with value: 0.014681624517634015.\u001b[0m\n"
     ]
    },
    {
     "name": "stdout",
     "output_type": "stream",
     "text": [
      "EvaluatorHoldout: Processed 40109 (100.0%) in 32.66 sec. Users per second: 1228\n"
     ]
    },
    {
     "name": "stderr",
     "output_type": "stream",
     "text": [
      "\u001b[32m[I 2023-01-10 13:33:56,854]\u001b[0m Trial 127 finished with value: 0.014525383607447666 and parameters: {'iterations': 110, 'factors': 63, 'regularization': 0.09811294631321266, 'urm_alpha': 3.7867235403540755, 'icm_alpha': 0.15796606038711972, 'use_gpu': True}. Best is trial 45 with value: 0.014681624517634015.\u001b[0m\n"
     ]
    },
    {
     "name": "stdout",
     "output_type": "stream",
     "text": [
      "EvaluatorHoldout: Processed 40109 (100.0%) in 32.82 sec. Users per second: 1222\n"
     ]
    },
    {
     "name": "stderr",
     "output_type": "stream",
     "text": [
      "\u001b[32m[I 2023-01-10 13:34:59,634]\u001b[0m Trial 128 finished with value: 0.014611973048047396 and parameters: {'iterations': 188, 'factors': 81, 'regularization': 0.032215490899835685, 'urm_alpha': 3.9584869408545917, 'icm_alpha': 0.38146465430834536, 'use_gpu': True}. Best is trial 45 with value: 0.014681624517634015.\u001b[0m\n"
     ]
    },
    {
     "name": "stdout",
     "output_type": "stream",
     "text": [
      "EvaluatorHoldout: Processed 40109 (100.0%) in 32.82 sec. Users per second: 1222\n"
     ]
    },
    {
     "name": "stderr",
     "output_type": "stream",
     "text": [
      "\u001b[32m[I 2023-01-10 13:35:52,123]\u001b[0m Trial 129 finished with value: 0.014518519375970438 and parameters: {'iterations': 123, 'factors': 77, 'regularization': 0.025104282140947138, 'urm_alpha': 3.873217322464167, 'icm_alpha': 0.2925745574008653, 'use_gpu': True}. Best is trial 45 with value: 0.014681624517634015.\u001b[0m\n"
     ]
    },
    {
     "name": "stdout",
     "output_type": "stream",
     "text": [
      "EvaluatorHoldout: Processed 40109 (100.0%) in 32.66 sec. Users per second: 1228\n"
     ]
    },
    {
     "name": "stderr",
     "output_type": "stream",
     "text": [
      "\u001b[32m[I 2023-01-10 13:36:42,906]\u001b[0m Trial 130 finished with value: 0.014280547808808464 and parameters: {'iterations': 113, 'factors': 71, 'regularization': 0.036256832011239845, 'urm_alpha': 2.8147239469126455, 'icm_alpha': 0.40410353033010094, 'use_gpu': True}. Best is trial 45 with value: 0.014681624517634015.\u001b[0m\n"
     ]
    },
    {
     "name": "stdout",
     "output_type": "stream",
     "text": [
      "EvaluatorHoldout: Processed 40109 (100.0%) in 32.48 sec. Users per second: 1235\n"
     ]
    },
    {
     "name": "stderr",
     "output_type": "stream",
     "text": [
      "\u001b[32m[I 2023-01-10 13:37:43,209]\u001b[0m Trial 131 finished with value: 0.014620106637983089 and parameters: {'iterations': 174, 'factors': 91, 'regularization': 0.03420435854376224, 'urm_alpha': 3.9033403837658507, 'icm_alpha': 0.3248563534826316, 'use_gpu': True}. Best is trial 45 with value: 0.014681624517634015.\u001b[0m\n"
     ]
    },
    {
     "name": "stdout",
     "output_type": "stream",
     "text": [
      "EvaluatorHoldout: Processed 40109 (100.0%) in 32.68 sec. Users per second: 1227\n"
     ]
    },
    {
     "name": "stderr",
     "output_type": "stream",
     "text": [
      "\u001b[32m[I 2023-01-10 13:38:37,497]\u001b[0m Trial 132 finished with value: 0.014620338149970064 and parameters: {'iterations': 135, 'factors': 84, 'regularization': 0.03962857710522404, 'urm_alpha': 3.9209335310021625, 'icm_alpha': 0.3560160574949215, 'use_gpu': True}. Best is trial 45 with value: 0.014681624517634015.\u001b[0m\n"
     ]
    },
    {
     "name": "stdout",
     "output_type": "stream",
     "text": [
      "EvaluatorHoldout: Processed 40109 (100.0%) in 32.66 sec. Users per second: 1228\n"
     ]
    },
    {
     "name": "stderr",
     "output_type": "stream",
     "text": [
      "\u001b[32m[I 2023-01-10 13:39:51,589]\u001b[0m Trial 133 finished with value: 0.014570305837228584 and parameters: {'iterations': 260, 'factors': 95, 'regularization': 0.030669742971992774, 'urm_alpha': 3.719980966606167, 'icm_alpha': 0.284892903363511, 'use_gpu': True}. Best is trial 45 with value: 0.014681624517634015.\u001b[0m\n"
     ]
    },
    {
     "name": "stdout",
     "output_type": "stream",
     "text": [
      "EvaluatorHoldout: Processed 40109 (100.0%) in 33.15 sec. Users per second: 1210\n"
     ]
    },
    {
     "name": "stderr",
     "output_type": "stream",
     "text": [
      "\u001b[32m[I 2023-01-10 13:41:03,283]\u001b[0m Trial 134 finished with value: 0.014588478538838944 and parameters: {'iterations': 242, 'factors': 88, 'regularization': 0.04328691236837173, 'urm_alpha': 3.973715876487905, 'icm_alpha': 0.33129541503861765, 'use_gpu': True}. Best is trial 45 with value: 0.014681624517634015.\u001b[0m\n"
     ]
    },
    {
     "name": "stdout",
     "output_type": "stream",
     "text": [
      "EvaluatorHoldout: Processed 40109 (100.0%) in 33.30 sec. Users per second: 1205\n"
     ]
    },
    {
     "name": "stderr",
     "output_type": "stream",
     "text": [
      "\u001b[32m[I 2023-01-10 13:42:12,421]\u001b[0m Trial 135 finished with value: 0.014452925302360758 and parameters: {'iterations': 212, 'factors': 99, 'regularization': 0.03747744265381826, 'urm_alpha': 3.8509687697397057, 'icm_alpha': 0.5879100280003811, 'use_gpu': True}. Best is trial 45 with value: 0.014681624517634015.\u001b[0m\n"
     ]
    },
    {
     "name": "stdout",
     "output_type": "stream",
     "text": [
      "EvaluatorHoldout: Processed 40109 (100.0%) in 32.97 sec. Users per second: 1216\n"
     ]
    },
    {
     "name": "stderr",
     "output_type": "stream",
     "text": [
      "\u001b[32m[I 2023-01-10 13:43:27,439]\u001b[0m Trial 136 finished with value: 0.014620252075000525 and parameters: {'iterations': 264, 'factors': 86, 'regularization': 0.04103906255815565, 'urm_alpha': 3.9967422832279027, 'icm_alpha': 0.9567046118864043, 'use_gpu': True}. Best is trial 45 with value: 0.014681624517634015.\u001b[0m\n"
     ]
    },
    {
     "name": "stdout",
     "output_type": "stream",
     "text": [
      "EvaluatorHoldout: Processed 40109 (100.0%) in 33.32 sec. Users per second: 1204\n"
     ]
    },
    {
     "name": "stderr",
     "output_type": "stream",
     "text": [
      "\u001b[32m[I 2023-01-10 13:44:35,614]\u001b[0m Trial 137 finished with value: 0.014490779490966605 and parameters: {'iterations': 206, 'factors': 103, 'regularization': 0.027686675647168, 'urm_alpha': 3.8112214279105476, 'icm_alpha': 0.2610674701653208, 'use_gpu': True}. Best is trial 45 with value: 0.014681624517634015.\u001b[0m\n"
     ]
    },
    {
     "name": "stdout",
     "output_type": "stream",
     "text": [
      "EvaluatorHoldout: Processed 40109 (100.0%) in 31.79 sec. Users per second: 1262\n"
     ]
    },
    {
     "name": "stderr",
     "output_type": "stream",
     "text": [
      "\u001b[32m[I 2023-01-10 13:45:20,455]\u001b[0m Trial 138 finished with value: 0.014498362003223865 and parameters: {'iterations': 139, 'factors': 28, 'regularization': 0.02167859378536849, 'urm_alpha': 3.892089164190715, 'icm_alpha': 0.740098225712913, 'use_gpu': True}. Best is trial 45 with value: 0.014681624517634015.\u001b[0m\n"
     ]
    },
    {
     "name": "stdout",
     "output_type": "stream",
     "text": [
      "EvaluatorHoldout: Processed 40109 (100.0%) in 32.77 sec. Users per second: 1224\n"
     ]
    },
    {
     "name": "stderr",
     "output_type": "stream",
     "text": [
      "\u001b[32m[I 2023-01-10 13:46:33,520]\u001b[0m Trial 139 finished with value: 0.014606346515269809 and parameters: {'iterations': 253, 'factors': 67, 'regularization': 0.03563808160821102, 'urm_alpha': 3.9382161800427737, 'icm_alpha': 0.4505841844338496, 'use_gpu': True}. Best is trial 45 with value: 0.014681624517634015.\u001b[0m\n"
     ]
    },
    {
     "name": "stdout",
     "output_type": "stream",
     "text": [
      "EvaluatorHoldout: Processed 40109 (100.0%) in 32.65 sec. Users per second: 1228\n"
     ]
    },
    {
     "name": "stderr",
     "output_type": "stream",
     "text": [
      "\u001b[32m[I 2023-01-10 13:47:45,183]\u001b[0m Trial 140 finished with value: 0.014637030757851685 and parameters: {'iterations': 245, 'factors': 79, 'regularization': 0.03371122438496335, 'urm_alpha': 3.8449354682972063, 'icm_alpha': 0.31044951262460785, 'use_gpu': True}. Best is trial 45 with value: 0.014681624517634015.\u001b[0m\n"
     ]
    },
    {
     "name": "stdout",
     "output_type": "stream",
     "text": [
      "EvaluatorHoldout: Processed 40109 (100.0%) in 32.68 sec. Users per second: 1227\n"
     ]
    },
    {
     "name": "stderr",
     "output_type": "stream",
     "text": [
      "\u001b[32m[I 2023-01-10 13:48:57,210]\u001b[0m Trial 141 finished with value: 0.014557210569452386 and parameters: {'iterations': 247, 'factors': 79, 'regularization': 0.032332059551997444, 'urm_alpha': 3.8649571300206547, 'icm_alpha': 0.30753292474534966, 'use_gpu': True}. Best is trial 45 with value: 0.014681624517634015.\u001b[0m\n"
     ]
    },
    {
     "name": "stdout",
     "output_type": "stream",
     "text": [
      "EvaluatorHoldout: Processed 40109 (100.0%) in 32.82 sec. Users per second: 1222\n"
     ]
    },
    {
     "name": "stderr",
     "output_type": "stream",
     "text": [
      "\u001b[32m[I 2023-01-10 13:50:11,103]\u001b[0m Trial 142 finished with value: 0.014535916413487693 and parameters: {'iterations': 258, 'factors': 75, 'regularization': 0.029933507776392743, 'urm_alpha': 3.7642096670204537, 'icm_alpha': 0.3381205407076613, 'use_gpu': True}. Best is trial 45 with value: 0.014681624517634015.\u001b[0m\n"
     ]
    },
    {
     "name": "stdout",
     "output_type": "stream",
     "text": [
      "EvaluatorHoldout: Processed 40109 (100.0%) in 32.77 sec. Users per second: 1224\n"
     ]
    },
    {
     "name": "stderr",
     "output_type": "stream",
     "text": [
      "\u001b[32m[I 2023-01-10 13:51:22,895]\u001b[0m Trial 143 finished with value: 0.014530538211944026 and parameters: {'iterations': 245, 'factors': 82, 'regularization': 0.033856981413723036, 'urm_alpha': 3.9518425343004884, 'icm_alpha': 0.36605429295668235, 'use_gpu': True}. Best is trial 45 with value: 0.014681624517634015.\u001b[0m\n"
     ]
    },
    {
     "name": "stdout",
     "output_type": "stream",
     "text": [
      "EvaluatorHoldout: Processed 40109 (100.0%) in 32.46 sec. Users per second: 1235\n"
     ]
    },
    {
     "name": "stderr",
     "output_type": "stream",
     "text": [
      "\u001b[32m[I 2023-01-10 13:52:16,051]\u001b[0m Trial 144 finished with value: 0.014558695610018416 and parameters: {'iterations': 129, 'factors': 73, 'regularization': 0.03796021369169017, 'urm_alpha': 3.8347997429716503, 'icm_alpha': 0.28445266901999616, 'use_gpu': True}. Best is trial 45 with value: 0.014681624517634015.\u001b[0m\n"
     ]
    },
    {
     "name": "stdout",
     "output_type": "stream",
     "text": [
      "EvaluatorHoldout: Processed 40109 (100.0%) in 32.38 sec. Users per second: 1239\n"
     ]
    },
    {
     "name": "stderr",
     "output_type": "stream",
     "text": [
      "\u001b[32m[I 2023-01-10 13:53:23,322]\u001b[0m Trial 145 finished with value: 0.013913549862339633 and parameters: {'iterations': 219, 'factors': 95, 'regularization': 0.06569654779114618, 'urm_alpha': 2.007854344188116, 'icm_alpha': 0.31786663105815965, 'use_gpu': True}. Best is trial 45 with value: 0.014681624517634015.\u001b[0m\n"
     ]
    },
    {
     "name": "stdout",
     "output_type": "stream",
     "text": [
      "EvaluatorHoldout: Processed 40109 (100.0%) in 32.90 sec. Users per second: 1219\n"
     ]
    },
    {
     "name": "stderr",
     "output_type": "stream",
     "text": [
      "\u001b[32m[I 2023-01-10 13:54:36,003]\u001b[0m Trial 146 finished with value: 0.014550638201377565 and parameters: {'iterations': 250, 'factors': 92, 'regularization': 0.024625665279347366, 'urm_alpha': 3.9126510738456055, 'icm_alpha': 0.2690593332184954, 'use_gpu': True}. Best is trial 45 with value: 0.014681624517634015.\u001b[0m\n"
     ]
    },
    {
     "name": "stdout",
     "output_type": "stream",
     "text": [
      "EvaluatorHoldout: Processed 40109 (100.0%) in 32.83 sec. Users per second: 1222\n"
     ]
    },
    {
     "name": "stderr",
     "output_type": "stream",
     "text": [
      "\u001b[32m[I 2023-01-10 13:55:46,892]\u001b[0m Trial 147 finished with value: 0.014589453065792683 and parameters: {'iterations': 239, 'factors': 79, 'regularization': 0.043898772830146114, 'urm_alpha': 3.999735242120149, 'icm_alpha': 0.23910824923333862, 'use_gpu': True}. Best is trial 45 with value: 0.014681624517634015.\u001b[0m\n"
     ]
    },
    {
     "name": "stdout",
     "output_type": "stream",
     "text": [
      "EvaluatorHoldout: Processed 40109 (100.0%) in 33.41 sec. Users per second: 1201\n"
     ]
    },
    {
     "name": "stderr",
     "output_type": "stream",
     "text": [
      "\u001b[32m[I 2023-01-10 13:56:56,983]\u001b[0m Trial 148 finished with value: 0.014533789273436385 and parameters: {'iterations': 230, 'factors': 85, 'regularization': 0.017823233255435764, 'urm_alpha': 3.6745114800775402, 'icm_alpha': 0.3845737564900448, 'use_gpu': True}. Best is trial 45 with value: 0.014681624517634015.\u001b[0m\n"
     ]
    },
    {
     "name": "stdout",
     "output_type": "stream",
     "text": [
      "EvaluatorHoldout: Processed 40109 (100.0%) in 32.73 sec. Users per second: 1225\n"
     ]
    },
    {
     "name": "stderr",
     "output_type": "stream",
     "text": [
      "\u001b[32m[I 2023-01-10 13:57:54,277]\u001b[0m Trial 149 finished with value: 0.014597776614281814 and parameters: {'iterations': 154, 'factors': 71, 'regularization': 0.031400537252348634, 'urm_alpha': 3.8988512579361005, 'icm_alpha': 0.20950976758182388, 'use_gpu': True}. Best is trial 45 with value: 0.014681624517634015.\u001b[0m\n"
     ]
    },
    {
     "name": "stdout",
     "output_type": "stream",
     "text": [
      "EvaluatorHoldout: Processed 40109 (100.0%) in 32.56 sec. Users per second: 1232\n"
     ]
    },
    {
     "name": "stderr",
     "output_type": "stream",
     "text": [
      "\u001b[32m[I 2023-01-10 13:59:10,579]\u001b[0m Trial 150 finished with value: 0.014609645066400504 and parameters: {'iterations': 275, 'factors': 90, 'regularization': 0.03585707325595716, 'urm_alpha': 3.9625509163893087, 'icm_alpha': 0.6556326127869424, 'use_gpu': True}. Best is trial 45 with value: 0.014681624517634015.\u001b[0m\n"
     ]
    },
    {
     "name": "stdout",
     "output_type": "stream",
     "text": [
      "EvaluatorHoldout: Processed 40109 (100.0%) in 32.79 sec. Users per second: 1223\n"
     ]
    },
    {
     "name": "stderr",
     "output_type": "stream",
     "text": [
      "\u001b[32m[I 2023-01-10 14:00:03,672]\u001b[0m Trial 151 finished with value: 0.014509302428659814 and parameters: {'iterations': 127, 'factors': 86, 'regularization': 0.03456851042850551, 'urm_alpha': 3.8092384265642973, 'icm_alpha': 0.2246903521575056, 'use_gpu': True}. Best is trial 45 with value: 0.014681624517634015.\u001b[0m\n"
     ]
    },
    {
     "name": "stdout",
     "output_type": "stream",
     "text": [
      "EvaluatorHoldout: Processed 40109 (100.0%) in 33.15 sec. Users per second: 1210\n"
     ]
    },
    {
     "name": "stderr",
     "output_type": "stream",
     "text": [
      "\u001b[32m[I 2023-01-10 14:00:55,492]\u001b[0m Trial 152 finished with value: 0.01461423672080898 and parameters: {'iterations': 116, 'factors': 83, 'regularization': 0.03329717142125733, 'urm_alpha': 3.821353940147327, 'icm_alpha': 0.24476056675384728, 'use_gpu': True}. Best is trial 45 with value: 0.014681624517634015.\u001b[0m\n"
     ]
    },
    {
     "name": "stdout",
     "output_type": "stream",
     "text": [
      "EvaluatorHoldout: Processed 40109 (100.0%) in 32.96 sec. Users per second: 1217\n"
     ]
    },
    {
     "name": "stderr",
     "output_type": "stream",
     "text": [
      "\u001b[32m[I 2023-01-10 14:02:11,267]\u001b[0m Trial 153 finished with value: 0.014585505489604486 and parameters: {'iterations': 269, 'factors': 77, 'regularization': 0.02847545153670118, 'urm_alpha': 3.932816872596449, 'icm_alpha': 0.34447435701423623, 'use_gpu': True}. Best is trial 45 with value: 0.014681624517634015.\u001b[0m\n"
     ]
    },
    {
     "name": "stdout",
     "output_type": "stream",
     "text": [
      "EvaluatorHoldout: Processed 40109 (100.0%) in 32.96 sec. Users per second: 1217\n"
     ]
    },
    {
     "name": "stderr",
     "output_type": "stream",
     "text": [
      "\u001b[32m[I 2023-01-10 14:03:11,210]\u001b[0m Trial 154 finished with value: 0.014649446330178973 and parameters: {'iterations': 169, 'factors': 82, 'regularization': 0.041321329975435424, 'urm_alpha': 3.855683654330933, 'icm_alpha': 0.30613105192811607, 'use_gpu': True}. Best is trial 45 with value: 0.014681624517634015.\u001b[0m\n"
     ]
    },
    {
     "name": "stdout",
     "output_type": "stream",
     "text": [
      "EvaluatorHoldout: Processed 40109 (100.0%) in 32.71 sec. Users per second: 1226\n"
     ]
    },
    {
     "name": "stderr",
     "output_type": "stream",
     "text": [
      "\u001b[32m[I 2023-01-10 14:04:11,398]\u001b[0m Trial 155 finished with value: 0.014537290644897562 and parameters: {'iterations': 172, 'factors': 68, 'regularization': 0.04117419432705891, 'urm_alpha': 3.8743450448158763, 'icm_alpha': 0.30921805488491483, 'use_gpu': True}. Best is trial 45 with value: 0.014681624517634015.\u001b[0m\n"
     ]
    },
    {
     "name": "stdout",
     "output_type": "stream",
     "text": [
      "EvaluatorHoldout: Processed 40109 (100.0%) in 32.64 sec. Users per second: 1229\n"
     ]
    },
    {
     "name": "stderr",
     "output_type": "stream",
     "text": [
      "\u001b[32m[I 2023-01-10 14:05:12,426]\u001b[0m Trial 156 finished with value: 0.01456528479734006 and parameters: {'iterations': 178, 'factors': 81, 'regularization': 0.03812996336660682, 'urm_alpha': 3.9665873618222345, 'icm_alpha': 0.42461826165413374, 'use_gpu': True}. Best is trial 45 with value: 0.014681624517634015.\u001b[0m\n"
     ]
    },
    {
     "name": "stdout",
     "output_type": "stream",
     "text": [
      "EvaluatorHoldout: Processed 40109 (100.0%) in 32.63 sec. Users per second: 1229\n"
     ]
    },
    {
     "name": "stderr",
     "output_type": "stream",
     "text": [
      "\u001b[32m[I 2023-01-10 14:06:12,054]\u001b[0m Trial 157 finished with value: 0.014645014953300015 and parameters: {'iterations': 169, 'factors': 74, 'regularization': 0.04974389420959143, 'urm_alpha': 3.8579389384836, 'icm_alpha': 0.30292602105328054, 'use_gpu': True}. Best is trial 45 with value: 0.014681624517634015.\u001b[0m\n"
     ]
    },
    {
     "name": "stdout",
     "output_type": "stream",
     "text": [
      "EvaluatorHoldout: Processed 40109 (100.0%) in 32.57 sec. Users per second: 1231\n"
     ]
    },
    {
     "name": "stderr",
     "output_type": "stream",
     "text": [
      "\u001b[32m[I 2023-01-10 14:07:11,438]\u001b[0m Trial 158 finished with value: 0.014572457711466539 and parameters: {'iterations': 168, 'factors': 74, 'regularization': 0.04501493284496168, 'urm_alpha': 3.7667446106459543, 'icm_alpha': 0.29488991603327624, 'use_gpu': True}. Best is trial 45 with value: 0.014681624517634015.\u001b[0m\n"
     ]
    },
    {
     "name": "stdout",
     "output_type": "stream",
     "text": [
      "EvaluatorHoldout: Processed 40109 (100.0%) in 32.21 sec. Users per second: 1245\n"
     ]
    },
    {
     "name": "stderr",
     "output_type": "stream",
     "text": [
      "\u001b[32m[I 2023-01-10 14:08:07,723]\u001b[0m Trial 159 finished with value: 0.014560427003083399 and parameters: {'iterations': 165, 'factors': 62, 'regularization': 0.02030411440041225, 'urm_alpha': 3.864036925211356, 'icm_alpha': 0.28195855320190705, 'use_gpu': True}. Best is trial 45 with value: 0.014681624517634015.\u001b[0m\n"
     ]
    },
    {
     "name": "stdout",
     "output_type": "stream",
     "text": [
      "EvaluatorHoldout: Processed 40109 (100.0%) in 32.95 sec. Users per second: 1217\n"
     ]
    },
    {
     "name": "stderr",
     "output_type": "stream",
     "text": [
      "\u001b[32m[I 2023-01-10 14:09:05,923]\u001b[0m Trial 160 finished with value: 0.01460946599088923 and parameters: {'iterations': 158, 'factors': 70, 'regularization': 0.05005362827122815, 'urm_alpha': 3.926011193220397, 'icm_alpha': 0.26323185470258775, 'use_gpu': True}. Best is trial 45 with value: 0.014681624517634015.\u001b[0m\n"
     ]
    },
    {
     "name": "stdout",
     "output_type": "stream",
     "text": [
      "EvaluatorHoldout: Processed 40109 (100.0%) in 32.66 sec. Users per second: 1228\n"
     ]
    },
    {
     "name": "stderr",
     "output_type": "stream",
     "text": [
      "\u001b[32m[I 2023-01-10 14:10:07,766]\u001b[0m Trial 161 finished with value: 0.014615746495561605 and parameters: {'iterations': 183, 'factors': 88, 'regularization': 0.05600206841497133, 'urm_alpha': 3.893363984608176, 'icm_alpha': 0.3243405368119113, 'use_gpu': True}. Best is trial 45 with value: 0.014681624517634015.\u001b[0m\n"
     ]
    },
    {
     "name": "stdout",
     "output_type": "stream",
     "text": [
      "EvaluatorHoldout: Processed 40109 (100.0%) in 32.79 sec. Users per second: 1223\n"
     ]
    },
    {
     "name": "stderr",
     "output_type": "stream",
     "text": [
      "\u001b[32m[I 2023-01-10 14:11:10,869]\u001b[0m Trial 162 finished with value: 0.014559279336823236 and parameters: {'iterations': 190, 'factors': 78, 'regularization': 0.04871803408252935, 'urm_alpha': 3.841991833611793, 'icm_alpha': 0.3576956196076678, 'use_gpu': True}. Best is trial 45 with value: 0.014681624517634015.\u001b[0m\n"
     ]
    },
    {
     "name": "stdout",
     "output_type": "stream",
     "text": [
      "EvaluatorHoldout: Processed 40109 (100.0%) in 33.12 sec. Users per second: 1211\n"
     ]
    },
    {
     "name": "stderr",
     "output_type": "stream",
     "text": [
      "\u001b[32m[I 2023-01-10 14:12:08,038]\u001b[0m Trial 163 finished with value: 0.014606014087801364 and parameters: {'iterations': 150, 'factors': 82, 'regularization': 0.05173788800161565, 'urm_alpha': 3.9635270727150615, 'icm_alpha': 0.3076076751208212, 'use_gpu': True}. Best is trial 45 with value: 0.014681624517634015.\u001b[0m\n"
     ]
    },
    {
     "name": "stdout",
     "output_type": "stream",
     "text": [
      "EvaluatorHoldout: Processed 40109 (100.0%) in 33.03 sec. Users per second: 1214\n"
     ]
    },
    {
     "name": "stderr",
     "output_type": "stream",
     "text": [
      "\u001b[32m[I 2023-01-10 14:13:05,966]\u001b[0m Trial 164 finished with value: 0.014539742297477643 and parameters: {'iterations': 171, 'factors': 64, 'regularization': 0.026090911979147903, 'urm_alpha': 3.996360026885421, 'icm_alpha': 0.32701125613106313, 'use_gpu': True}. Best is trial 45 with value: 0.014681624517634015.\u001b[0m\n"
     ]
    },
    {
     "name": "stdout",
     "output_type": "stream",
     "text": [
      "EvaluatorHoldout: Processed 40109 (100.0%) in 32.73 sec. Users per second: 1225\n"
     ]
    },
    {
     "name": "stderr",
     "output_type": "stream",
     "text": [
      "\u001b[32m[I 2023-01-10 14:14:19,442]\u001b[0m Trial 165 finished with value: 0.014570268241264903 and parameters: {'iterations': 256, 'factors': 75, 'regularization': 0.040367159906949925, 'urm_alpha': 3.9064377656941036, 'icm_alpha': 0.3688542387854766, 'use_gpu': True}. Best is trial 45 with value: 0.014681624517634015.\u001b[0m\n"
     ]
    },
    {
     "name": "stdout",
     "output_type": "stream",
     "text": [
      "EvaluatorHoldout: Processed 40109 (100.0%) in 33.22 sec. Users per second: 1208\n"
     ]
    },
    {
     "name": "stderr",
     "output_type": "stream",
     "text": [
      "\u001b[32m[I 2023-01-10 14:15:37,665]\u001b[0m Trial 166 finished with value: 0.014589350171576271 and parameters: {'iterations': 283, 'factors': 94, 'regularization': 0.04253173936062363, 'urm_alpha': 3.7293309545293027, 'icm_alpha': 0.34543549642462146, 'use_gpu': True}. Best is trial 45 with value: 0.014681624517634015.\u001b[0m\n"
     ]
    },
    {
     "name": "stdout",
     "output_type": "stream",
     "text": [
      "EvaluatorHoldout: Processed 40109 (100.0%) in 33.62 sec. Users per second: 1193\n"
     ]
    },
    {
     "name": "stderr",
     "output_type": "stream",
     "text": [
      "\u001b[32m[I 2023-01-10 14:16:48,814]\u001b[0m Trial 167 finished with value: 0.014440679901237551 and parameters: {'iterations': 236, 'factors': 88, 'regularization': 0.030079085124538052, 'urm_alpha': 3.278164374587809, 'icm_alpha': 0.2776581310091262, 'use_gpu': True}. Best is trial 45 with value: 0.014681624517634015.\u001b[0m\n"
     ]
    },
    {
     "name": "stdout",
     "output_type": "stream",
     "text": [
      "EvaluatorHoldout: Processed 40109 (100.0%) in 32.39 sec. Users per second: 1238\n"
     ]
    },
    {
     "name": "stderr",
     "output_type": "stream",
     "text": [
      "\u001b[32m[I 2023-01-10 14:17:49,143]\u001b[0m Trial 168 finished with value: 0.01402662368062921 and parameters: {'iterations': 175, 'factors': 91, 'regularization': 0.038857635911527, 'urm_alpha': 2.267048438990533, 'icm_alpha': 0.3014300439175904, 'use_gpu': True}. Best is trial 45 with value: 0.014681624517634015.\u001b[0m\n"
     ]
    },
    {
     "name": "stdout",
     "output_type": "stream",
     "text": [
      "EvaluatorHoldout: Processed 40109 (100.0%) in 32.65 sec. Users per second: 1228\n"
     ]
    },
    {
     "name": "stderr",
     "output_type": "stream",
     "text": [
      "\u001b[32m[I 2023-01-10 14:18:47,634]\u001b[0m Trial 169 finished with value: 0.014570286049879306 and parameters: {'iterations': 162, 'factors': 67, 'regularization': 0.032759742104494824, 'urm_alpha': 3.784071355421579, 'icm_alpha': 0.3912458458587391, 'use_gpu': True}. Best is trial 45 with value: 0.014681624517634015.\u001b[0m\n"
     ]
    },
    {
     "name": "stdout",
     "output_type": "stream",
     "text": [
      "EvaluatorHoldout: Processed 40109 (100.0%) in 32.75 sec. Users per second: 1225\n"
     ]
    },
    {
     "name": "stderr",
     "output_type": "stream",
     "text": [
      "\u001b[32m[I 2023-01-10 14:20:00,477]\u001b[0m Trial 170 finished with value: 0.014555206110966862 and parameters: {'iterations': 252, 'factors': 72, 'regularization': 0.03572863836001325, 'urm_alpha': 3.933272575368839, 'icm_alpha': 0.33492068089939253, 'use_gpu': True}. Best is trial 45 with value: 0.014681624517634015.\u001b[0m\n"
     ]
    },
    {
     "name": "stdout",
     "output_type": "stream",
     "text": [
      "EvaluatorHoldout: Processed 40109 (100.0%) in 32.59 sec. Users per second: 1231\n"
     ]
    },
    {
     "name": "stderr",
     "output_type": "stream",
     "text": [
      "\u001b[32m[I 2023-01-10 14:20:55,088]\u001b[0m Trial 171 finished with value: 0.014568501230971158 and parameters: {'iterations': 138, 'factors': 85, 'regularization': 0.03438798096179634, 'urm_alpha': 3.8344423679084656, 'icm_alpha': 0.21358836445331675, 'use_gpu': True}. Best is trial 45 with value: 0.014681624517634015.\u001b[0m\n"
     ]
    },
    {
     "name": "stdout",
     "output_type": "stream",
     "text": [
      "EvaluatorHoldout: Processed 40109 (100.0%) in 32.45 sec. Users per second: 1236\n"
     ]
    },
    {
     "name": "stderr",
     "output_type": "stream",
     "text": [
      "\u001b[32m[I 2023-01-10 14:22:06,009]\u001b[0m Trial 172 finished with value: 0.014638588022242674 and parameters: {'iterations': 242, 'factors': 84, 'regularization': 0.05930544943724797, 'urm_alpha': 3.801017016839726, 'icm_alpha': 0.23293797039173017, 'use_gpu': True}. Best is trial 45 with value: 0.014681624517634015.\u001b[0m\n"
     ]
    },
    {
     "name": "stdout",
     "output_type": "stream",
     "text": [
      "EvaluatorHoldout: Processed 40109 (100.0%) in 32.47 sec. Users per second: 1235\n"
     ]
    },
    {
     "name": "stderr",
     "output_type": "stream",
     "text": [
      "\u001b[32m[I 2023-01-10 14:23:16,799]\u001b[0m Trial 173 finished with value: 0.014568988989131745 and parameters: {'iterations': 241, 'factors': 80, 'regularization': 0.06803746973720451, 'urm_alpha': 3.8777655296232068, 'icm_alpha': 0.2485874585226027, 'use_gpu': True}. Best is trial 45 with value: 0.014681624517634015.\u001b[0m\n"
     ]
    },
    {
     "name": "stdout",
     "output_type": "stream",
     "text": [
      "EvaluatorHoldout: Processed 40109 (100.0%) in 32.44 sec. Users per second: 1236\n"
     ]
    },
    {
     "name": "stderr",
     "output_type": "stream",
     "text": [
      "\u001b[32m[I 2023-01-10 14:24:28,764]\u001b[0m Trial 174 finished with value: 0.01456624052631197 and parameters: {'iterations': 248, 'factors': 77, 'regularization': 0.0605114649159411, 'urm_alpha': 3.9539097444338567, 'icm_alpha': 0.2679660440535215, 'use_gpu': True}. Best is trial 45 with value: 0.014681624517634015.\u001b[0m\n"
     ]
    },
    {
     "name": "stdout",
     "output_type": "stream",
     "text": [
      "EvaluatorHoldout: Processed 40109 (100.0%) in 32.84 sec. Users per second: 1221\n"
     ]
    },
    {
     "name": "stderr",
     "output_type": "stream",
     "text": [
      "\u001b[32m[I 2023-01-10 14:25:40,308]\u001b[0m Trial 175 finished with value: 0.014598131797201997 and parameters: {'iterations': 243, 'factors': 83, 'regularization': 0.037064493784324644, 'urm_alpha': 3.904945297881503, 'icm_alpha': 0.29694868748973224, 'use_gpu': True}. Best is trial 45 with value: 0.014681624517634015.\u001b[0m\n"
     ]
    },
    {
     "name": "stdout",
     "output_type": "stream",
     "text": [
      "EvaluatorHoldout: Processed 40109 (100.0%) in 32.80 sec. Users per second: 1223\n"
     ]
    },
    {
     "name": "stderr",
     "output_type": "stream",
     "text": [
      "\u001b[32m[I 2023-01-10 14:26:53,220]\u001b[0m Trial 176 finished with value: 0.014535424697857157 and parameters: {'iterations': 252, 'factors': 88, 'regularization': 0.045774106812689536, 'urm_alpha': 3.8615695659323963, 'icm_alpha': 0.31739179015072067, 'use_gpu': True}. Best is trial 45 with value: 0.014681624517634015.\u001b[0m\n"
     ]
    },
    {
     "name": "stdout",
     "output_type": "stream",
     "text": [
      "EvaluatorHoldout: Processed 40109 (100.0%) in 32.55 sec. Users per second: 1232\n"
     ]
    },
    {
     "name": "stderr",
     "output_type": "stream",
     "text": [
      "\u001b[32m[I 2023-01-10 14:27:48,948]\u001b[0m Trial 177 finished with value: 0.014681972774981986 and parameters: {'iterations': 145, 'factors': 96, 'regularization': 0.07263639102018932, 'urm_alpha': 3.9999128886992454, 'icm_alpha': 0.23541392649808265, 'use_gpu': True}. Best is trial 177 with value: 0.014681972774981986.\u001b[0m\n"
     ]
    },
    {
     "name": "stdout",
     "output_type": "stream",
     "text": [
      "EvaluatorHoldout: Processed 40109 (100.0%) in 31.54 sec. Users per second: 1272\n"
     ]
    },
    {
     "name": "stderr",
     "output_type": "stream",
     "text": [
      "\u001b[32m[I 2023-01-10 14:28:42,120]\u001b[0m Trial 178 finished with value: 0.014433448614430546 and parameters: {'iterations': 232, 'factors': 13, 'regularization': 0.06998668858615197, 'urm_alpha': 3.971596763357512, 'icm_alpha': 0.18732089572131155, 'use_gpu': True}. Best is trial 177 with value: 0.014681972774981986.\u001b[0m\n"
     ]
    },
    {
     "name": "stdout",
     "output_type": "stream",
     "text": [
      "EvaluatorHoldout: Processed 40109 (100.0%) in 32.64 sec. Users per second: 1229\n"
     ]
    },
    {
     "name": "stderr",
     "output_type": "stream",
     "text": [
      "\u001b[32m[I 2023-01-10 14:29:39,504]\u001b[0m Trial 179 finished with value: 0.014505767418704834 and parameters: {'iterations': 155, 'factors': 73, 'regularization': 0.07482400167276293, 'urm_alpha': 3.938795893024722, 'icm_alpha': 0.22674775432604233, 'use_gpu': True}. Best is trial 177 with value: 0.014681972774981986.\u001b[0m\n"
     ]
    },
    {
     "name": "stdout",
     "output_type": "stream",
     "text": [
      "EvaluatorHoldout: Processed 40109 (100.0%) in 32.90 sec. Users per second: 1219\n"
     ]
    },
    {
     "name": "stderr",
     "output_type": "stream",
     "text": [
      "\u001b[32m[I 2023-01-10 14:30:35,891]\u001b[0m Trial 180 finished with value: 0.014559752254471769 and parameters: {'iterations': 147, 'factors': 96, 'regularization': 0.05918422379408042, 'urm_alpha': 3.9995278517194404, 'icm_alpha': 0.24744444585304642, 'use_gpu': True}. Best is trial 177 with value: 0.014681972774981986.\u001b[0m\n"
     ]
    },
    {
     "name": "stdout",
     "output_type": "stream",
     "text": [
      "EvaluatorHoldout: Processed 40109 (100.0%) in 32.51 sec. Users per second: 1234\n"
     ]
    },
    {
     "name": "stderr",
     "output_type": "stream",
     "text": [
      "\u001b[32m[I 2023-01-10 14:31:31,104]\u001b[0m Trial 181 finished with value: 0.014562166311088063 and parameters: {'iterations': 142, 'factors': 93, 'regularization': 0.07972346984475102, 'urm_alpha': 3.921075857182686, 'icm_alpha': 0.28071162839692865, 'use_gpu': True}. Best is trial 177 with value: 0.014681972774981986.\u001b[0m\n"
     ]
    },
    {
     "name": "stdout",
     "output_type": "stream",
     "text": [
      "EvaluatorHoldout: Processed 40109 (100.0%) in 33.53 sec. Users per second: 1196\n"
     ]
    },
    {
     "name": "stderr",
     "output_type": "stream",
     "text": [
      "\u001b[32m[I 2023-01-10 14:32:48,901]\u001b[0m Trial 182 finished with value: 0.014494335277638415 and parameters: {'iterations': 262, 'factors': 98, 'regularization': 0.09230130228852662, 'urm_alpha': 3.9644435649773055, 'icm_alpha': 0.35464755617492005, 'use_gpu': True}. Best is trial 177 with value: 0.014681972774981986.\u001b[0m\n"
     ]
    },
    {
     "name": "stdout",
     "output_type": "stream",
     "text": [
      "EvaluatorHoldout: Processed 40109 (100.0%) in 32.93 sec. Users per second: 1218\n"
     ]
    },
    {
     "name": "stderr",
     "output_type": "stream",
     "text": [
      "\u001b[32m[I 2023-01-10 14:33:44,170]\u001b[0m Trial 183 finished with value: 0.014440542379159826 and parameters: {'iterations': 131, 'factors': 101, 'regularization': 0.015647942016610128, 'urm_alpha': 3.802873237709162, 'icm_alpha': 0.7898845864215378, 'use_gpu': True}. Best is trial 177 with value: 0.014681972774981986.\u001b[0m\n"
     ]
    },
    {
     "name": "stdout",
     "output_type": "stream",
     "text": [
      "EvaluatorHoldout: Processed 40109 (100.0%) in 32.79 sec. Users per second: 1223\n"
     ]
    },
    {
     "name": "stderr",
     "output_type": "stream",
     "text": [
      "\u001b[32m[I 2023-01-10 14:34:55,832]\u001b[0m Trial 184 finished with value: 0.01463037924037962 and parameters: {'iterations': 244, 'factors': 91, 'regularization': 0.07838496145119903, 'urm_alpha': 3.8840710001404943, 'icm_alpha': 0.26308421577147917, 'use_gpu': True}. Best is trial 177 with value: 0.014681972774981986.\u001b[0m\n"
     ]
    },
    {
     "name": "stdout",
     "output_type": "stream",
     "text": [
      "EvaluatorHoldout: Processed 40109 (100.0%) in 32.59 sec. Users per second: 1231\n"
     ]
    },
    {
     "name": "stderr",
     "output_type": "stream",
     "text": [
      "\u001b[32m[I 2023-01-10 14:36:07,394]\u001b[0m Trial 185 finished with value: 0.014514568831679864 and parameters: {'iterations': 245, 'factors': 86, 'regularization': 0.08663279835112053, 'urm_alpha': 3.8679731509059905, 'icm_alpha': 0.25839551924434134, 'use_gpu': True}. Best is trial 177 with value: 0.014681972774981986.\u001b[0m\n"
     ]
    },
    {
     "name": "stdout",
     "output_type": "stream",
     "text": [
      "EvaluatorHoldout: Processed 40109 (100.0%) in 32.71 sec. Users per second: 1226\n"
     ]
    },
    {
     "name": "stderr",
     "output_type": "stream",
     "text": [
      "\u001b[32m[I 2023-01-10 14:37:26,037]\u001b[0m Trial 186 finished with value: 0.014602803590375033 and parameters: {'iterations': 289, 'factors': 90, 'regularization': 0.08086464669635345, 'urm_alpha': 3.8296644333601146, 'icm_alpha': 0.20215117628590218, 'use_gpu': True}. Best is trial 177 with value: 0.014681972774981986.\u001b[0m\n"
     ]
    },
    {
     "name": "stdout",
     "output_type": "stream",
     "text": [
      "EvaluatorHoldout: Processed 40109 (100.0%) in 32.68 sec. Users per second: 1227\n"
     ]
    },
    {
     "name": "stderr",
     "output_type": "stream",
     "text": [
      "\u001b[32m[I 2023-01-10 14:38:38,325]\u001b[0m Trial 187 finished with value: 0.014584734772348652 and parameters: {'iterations': 249, 'factors': 82, 'regularization': 0.07695235725377146, 'urm_alpha': 3.8989068652313326, 'icm_alpha': 0.23746694033277688, 'use_gpu': True}. Best is trial 177 with value: 0.014681972774981986.\u001b[0m\n"
     ]
    },
    {
     "name": "stdout",
     "output_type": "stream",
     "text": [
      "EvaluatorHoldout: Processed 40109 (100.0%) in 32.19 sec. Users per second: 1246\n"
     ]
    },
    {
     "name": "stderr",
     "output_type": "stream",
     "text": [
      "\u001b[32m[I 2023-01-10 14:39:45,206]\u001b[0m Trial 188 finished with value: 0.014626439579131156 and parameters: {'iterations': 239, 'factors': 59, 'regularization': 0.07660656206848526, 'urm_alpha': 3.958460051782561, 'icm_alpha': 0.17218230811743776, 'use_gpu': True}. Best is trial 177 with value: 0.014681972774981986.\u001b[0m\n"
     ]
    },
    {
     "name": "stdout",
     "output_type": "stream",
     "text": [
      "EvaluatorHoldout: Processed 40109 (100.0%) in 32.77 sec. Users per second: 1224\n"
     ]
    },
    {
     "name": "stderr",
     "output_type": "stream",
     "text": [
      "\u001b[32m[I 2023-01-10 14:40:37,191]\u001b[0m Trial 189 finished with value: 0.014552348817725788 and parameters: {'iterations': 120, 'factors': 79, 'regularization': 0.0528908857573044, 'urm_alpha': 3.9970152064276854, 'icm_alpha': 0.28704522071426525, 'use_gpu': True}. Best is trial 177 with value: 0.014681972774981986.\u001b[0m\n"
     ]
    },
    {
     "name": "stdout",
     "output_type": "stream",
     "text": [
      "EvaluatorHoldout: Processed 40109 (100.0%) in 32.49 sec. Users per second: 1234\n"
     ]
    },
    {
     "name": "stderr",
     "output_type": "stream",
     "text": [
      "\u001b[32m[I 2023-01-10 14:41:48,517]\u001b[0m Trial 190 finished with value: 0.014537189729416046 and parameters: {'iterations': 244, 'factors': 76, 'regularization': 0.022783305457604174, 'urm_alpha': 3.7806539987068217, 'icm_alpha': 0.2688982060661244, 'use_gpu': True}. Best is trial 177 with value: 0.014681972774981986.\u001b[0m\n"
     ]
    },
    {
     "name": "stdout",
     "output_type": "stream",
     "text": [
      "EvaluatorHoldout: Processed 40109 (100.0%) in 33.33 sec. Users per second: 1203\n"
     ]
    },
    {
     "name": "stderr",
     "output_type": "stream",
     "text": [
      "\u001b[32m[I 2023-01-10 14:42:59,580]\u001b[0m Trial 191 finished with value: 0.014580557662908385 and parameters: {'iterations': 237, 'factors': 66, 'regularization': 0.07889205716383761, 'urm_alpha': 3.937831526790823, 'icm_alpha': 0.3089006195016048, 'use_gpu': True}. Best is trial 177 with value: 0.014681972774981986.\u001b[0m\n"
     ]
    },
    {
     "name": "stdout",
     "output_type": "stream",
     "text": [
      "EvaluatorHoldout: Processed 40109 (100.0%) in 32.26 sec. Users per second: 1243\n"
     ]
    },
    {
     "name": "stderr",
     "output_type": "stream",
     "text": [
      "\u001b[32m[I 2023-01-10 14:44:04,872]\u001b[0m Trial 192 finished with value: 0.014545873407662682 and parameters: {'iterations': 227, 'factors': 59, 'regularization': 0.08137576580559854, 'urm_alpha': 3.9997508225342573, 'icm_alpha': 0.10563667024554559, 'use_gpu': True}. Best is trial 177 with value: 0.014681972774981986.\u001b[0m\n"
     ]
    },
    {
     "name": "stdout",
     "output_type": "stream",
     "text": [
      "EvaluatorHoldout: Processed 40109 (100.0%) in 32.60 sec. Users per second: 1230\n"
     ]
    },
    {
     "name": "stderr",
     "output_type": "stream",
     "text": [
      "\u001b[32m[I 2023-01-10 14:45:15,694]\u001b[0m Trial 193 finished with value: 0.014598405851989932 and parameters: {'iterations': 240, 'factors': 69, 'regularization': 0.07281054215425911, 'urm_alpha': 3.9517099218555933, 'icm_alpha': 0.16809079972394175, 'use_gpu': True}. Best is trial 177 with value: 0.014681972774981986.\u001b[0m\n"
     ]
    },
    {
     "name": "stdout",
     "output_type": "stream",
     "text": [
      "EvaluatorHoldout: Processed 40109 (100.0%) in 32.00 sec. Users per second: 1253\n"
     ]
    },
    {
     "name": "stderr",
     "output_type": "stream",
     "text": [
      "\u001b[32m[I 2023-01-10 14:46:21,697]\u001b[0m Trial 194 finished with value: 0.014603811755822666 and parameters: {'iterations': 234, 'factors': 55, 'regularization': 0.071365589188943, 'urm_alpha': 3.892630005971607, 'icm_alpha': 0.1413541015054266, 'use_gpu': True}. Best is trial 177 with value: 0.014681972774981986.\u001b[0m\n"
     ]
    },
    {
     "name": "stdout",
     "output_type": "stream",
     "text": [
      "EvaluatorHoldout: Processed 40109 (100.0%) in 32.40 sec. Users per second: 1238\n"
     ]
    },
    {
     "name": "stderr",
     "output_type": "stream",
     "text": [
      "\u001b[32m[I 2023-01-10 14:47:34,705]\u001b[0m Trial 195 finished with value: 0.01460490401750479 and parameters: {'iterations': 255, 'factors': 85, 'regularization': 0.018858357940356812, 'urm_alpha': 3.8608417580031427, 'icm_alpha': 0.0648388477405965, 'use_gpu': True}. Best is trial 177 with value: 0.014681972774981986.\u001b[0m\n"
     ]
    },
    {
     "name": "stdout",
     "output_type": "stream",
     "text": [
      "EvaluatorHoldout: Processed 40109 (100.0%) in 32.25 sec. Users per second: 1244\n"
     ]
    },
    {
     "name": "stderr",
     "output_type": "stream",
     "text": [
      "\u001b[32m[I 2023-01-10 14:48:39,274]\u001b[0m Trial 196 finished with value: 0.014400781679447439 and parameters: {'iterations': 203, 'factors': 92, 'regularization': 0.0769774417310595, 'urm_alpha': 2.9699264443203592, 'icm_alpha': 0.19259671939543363, 'use_gpu': True}. Best is trial 177 with value: 0.014681972774981986.\u001b[0m\n"
     ]
    },
    {
     "name": "stdout",
     "output_type": "stream",
     "text": [
      "EvaluatorHoldout: Processed 40109 (100.0%) in 32.61 sec. Users per second: 1230\n"
     ]
    },
    {
     "name": "stderr",
     "output_type": "stream",
     "text": [
      "\u001b[32m[I 2023-01-10 14:49:50,851]\u001b[0m Trial 197 finished with value: 0.014621098973551159 and parameters: {'iterations': 245, 'factors': 88, 'regularization': 0.07491896087791854, 'urm_alpha': 3.9276178777110653, 'icm_alpha': 0.2281603711514006, 'use_gpu': True}. Best is trial 177 with value: 0.014681972774981986.\u001b[0m\n"
     ]
    },
    {
     "name": "stdout",
     "output_type": "stream",
     "text": [
      "EvaluatorHoldout: Processed 40109 (100.0%) in 32.16 sec. Users per second: 1247\n"
     ]
    },
    {
     "name": "stderr",
     "output_type": "stream",
     "text": [
      "\u001b[32m[I 2023-01-10 14:50:48,934]\u001b[0m Trial 198 finished with value: 0.01452327229727584 and parameters: {'iterations': 178, 'factors': 60, 'regularization': 0.0619295991369901, 'urm_alpha': 3.9641016701598755, 'icm_alpha': 0.25523470765855283, 'use_gpu': True}. Best is trial 177 with value: 0.014681972774981986.\u001b[0m\n"
     ]
    },
    {
     "name": "stdout",
     "output_type": "stream",
     "text": [
      "EvaluatorHoldout: Processed 40109 (100.0%) in 32.61 sec. Users per second: 1230\n"
     ]
    },
    {
     "name": "stderr",
     "output_type": "stream",
     "text": [
      "\u001b[32m[I 2023-01-10 14:51:59,485]\u001b[0m Trial 199 finished with value: 0.014628095780268744 and parameters: {'iterations': 238, 'factors': 79, 'regularization': 0.0821780237916026, 'urm_alpha': 3.8991733860185187, 'icm_alpha': 0.29353490783195657, 'use_gpu': True}. Best is trial 177 with value: 0.014681972774981986.\u001b[0m\n"
     ]
    },
    {
     "name": "stdout",
     "output_type": "stream",
     "text": [
      "EvaluatorHoldout: Processed 40109 (100.0%) in 33.68 sec. Users per second: 1191\n"
     ]
    },
    {
     "name": "stderr",
     "output_type": "stream",
     "text": [
      "\u001b[32m[I 2023-01-10 14:53:00,253]\u001b[0m Trial 200 finished with value: 0.01444893320463669 and parameters: {'iterations': 146, 'factors': 141, 'regularization': 0.02794650937554599, 'urm_alpha': 3.832203258689712, 'icm_alpha': 0.2995392575777034, 'use_gpu': True}. Best is trial 177 with value: 0.014681972774981986.\u001b[0m\n"
     ]
    },
    {
     "name": "stdout",
     "output_type": "stream",
     "text": [
      "EvaluatorHoldout: Processed 40109 (100.0%) in 32.64 sec. Users per second: 1229\n"
     ]
    },
    {
     "name": "stderr",
     "output_type": "stream",
     "text": [
      "\u001b[32m[I 2023-01-10 14:54:10,621]\u001b[0m Trial 201 finished with value: 0.014549744802556 and parameters: {'iterations': 237, 'factors': 80, 'regularization': 0.08285441386070551, 'urm_alpha': 3.8817004178349133, 'icm_alpha': 0.32207608209397975, 'use_gpu': True}. Best is trial 177 with value: 0.014681972774981986.\u001b[0m\n"
     ]
    },
    {
     "name": "stdout",
     "output_type": "stream",
     "text": [
      "EvaluatorHoldout: Processed 40109 (100.0%) in 32.49 sec. Users per second: 1235\n"
     ]
    },
    {
     "name": "stderr",
     "output_type": "stream",
     "text": [
      "\u001b[32m[I 2023-01-10 14:55:22,559]\u001b[0m Trial 202 finished with value: 0.014614827373185969 and parameters: {'iterations': 248, 'factors': 75, 'regularization': 0.06406293270540227, 'urm_alpha': 3.917095556852793, 'icm_alpha': 0.28484426658314577, 'use_gpu': True}. Best is trial 177 with value: 0.014681972774981986.\u001b[0m\n"
     ]
    },
    {
     "name": "stdout",
     "output_type": "stream",
     "text": [
      "EvaluatorHoldout: Processed 40109 (100.0%) in 32.44 sec. Users per second: 1237\n"
     ]
    },
    {
     "name": "stderr",
     "output_type": "stream",
     "text": [
      "\u001b[32m[I 2023-01-10 14:56:33,375]\u001b[0m Trial 203 finished with value: 0.014566279111643092 and parameters: {'iterations': 241, 'factors': 83, 'regularization': 0.08637890241564278, 'urm_alpha': 3.96766703898387, 'icm_alpha': 0.6051575765304703, 'use_gpu': True}. Best is trial 177 with value: 0.014681972774981986.\u001b[0m\n"
     ]
    },
    {
     "name": "stdout",
     "output_type": "stream",
     "text": [
      "EvaluatorHoldout: Processed 40109 (100.0%) in 32.56 sec. Users per second: 1232\n"
     ]
    },
    {
     "name": "stderr",
     "output_type": "stream",
     "text": [
      "\u001b[32m[I 2023-01-10 14:57:42,556]\u001b[0m Trial 204 finished with value: 0.0145579565525215 and parameters: {'iterations': 230, 'factors': 71, 'regularization': 0.0785534603755477, 'urm_alpha': 3.9339419868614702, 'icm_alpha': 0.32963981427173583, 'use_gpu': True}. Best is trial 177 with value: 0.014681972774981986.\u001b[0m\n"
     ]
    },
    {
     "name": "stdout",
     "output_type": "stream",
     "text": [
      "EvaluatorHoldout: Processed 40109 (100.0%) in 32.38 sec. Users per second: 1239\n"
     ]
    },
    {
     "name": "stderr",
     "output_type": "stream",
     "text": [
      "\u001b[32m[I 2023-01-10 14:58:54,854]\u001b[0m Trial 205 finished with value: 0.014635496248912278 and parameters: {'iterations': 251, 'factors': 78, 'regularization': 0.08309199578891652, 'urm_alpha': 3.8586442016582922, 'icm_alpha': 0.2657505049415276, 'use_gpu': True}. Best is trial 177 with value: 0.014681972774981986.\u001b[0m\n"
     ]
    },
    {
     "name": "stdout",
     "output_type": "stream",
     "text": [
      "EvaluatorHoldout: Processed 40109 (100.0%) in 32.59 sec. Users per second: 1231\n"
     ]
    },
    {
     "name": "stderr",
     "output_type": "stream",
     "text": [
      "\u001b[32m[I 2023-01-10 15:00:07,363]\u001b[0m Trial 206 finished with value: 0.014635351801262325 and parameters: {'iterations': 251, 'factors': 77, 'regularization': 0.08316236689503725, 'urm_alpha': 3.806579163774207, 'icm_alpha': 0.2734230487613306, 'use_gpu': True}. Best is trial 177 with value: 0.014681972774981986.\u001b[0m\n"
     ]
    },
    {
     "name": "stdout",
     "output_type": "stream",
     "text": [
      "EvaluatorHoldout: Processed 40109 (100.0%) in 32.64 sec. Users per second: 1229\n"
     ]
    },
    {
     "name": "stderr",
     "output_type": "stream",
     "text": [
      "\u001b[32m[I 2023-01-10 15:01:20,124]\u001b[0m Trial 207 finished with value: 0.014380750945736492 and parameters: {'iterations': 252, 'factors': 74, 'regularization': 0.031381426597251495, 'urm_alpha': 3.125218932077399, 'icm_alpha': 0.2707672423266047, 'use_gpu': True}. Best is trial 177 with value: 0.014681972774981986.\u001b[0m\n"
     ]
    },
    {
     "name": "stdout",
     "output_type": "stream",
     "text": [
      "EvaluatorHoldout: Processed 40109 (100.0%) in 32.18 sec. Users per second: 1246\n"
     ]
    },
    {
     "name": "stderr",
     "output_type": "stream",
     "text": [
      "\u001b[32m[I 2023-01-10 15:02:33,021]\u001b[0m Trial 208 finished with value: 0.014531672027059739 and parameters: {'iterations': 256, 'factors': 77, 'regularization': 0.08361409120700987, 'urm_alpha': 3.7478363351319546, 'icm_alpha': 0.24648906959792619, 'use_gpu': True}. Best is trial 177 with value: 0.014681972774981986.\u001b[0m\n"
     ]
    },
    {
     "name": "stdout",
     "output_type": "stream",
     "text": [
      "EvaluatorHoldout: Processed 40109 (100.0%) in 32.65 sec. Users per second: 1228\n"
     ]
    },
    {
     "name": "stderr",
     "output_type": "stream",
     "text": [
      "\u001b[32m[I 2023-01-10 15:03:46,735]\u001b[0m Trial 209 finished with value: 0.014555594932380778 and parameters: {'iterations': 258, 'factors': 85, 'regularization': 0.08516120401353651, 'urm_alpha': 3.8192522041800814, 'icm_alpha': 0.21737597207502515, 'use_gpu': True}. Best is trial 177 with value: 0.014681972774981986.\u001b[0m\n"
     ]
    },
    {
     "name": "stdout",
     "output_type": "stream",
     "text": [
      "EvaluatorHoldout: Processed 40109 (100.0%) in 32.26 sec. Users per second: 1243\n"
     ]
    },
    {
     "name": "stderr",
     "output_type": "stream",
     "text": [
      "\u001b[32m[I 2023-01-10 15:04:59,079]\u001b[0m Trial 210 finished with value: 0.014580488407185736 and parameters: {'iterations': 252, 'factors': 81, 'regularization': 0.04717767816063863, 'urm_alpha': 3.846750023092321, 'icm_alpha': 0.3097706313159909, 'use_gpu': True}. Best is trial 177 with value: 0.014681972774981986.\u001b[0m\n"
     ]
    },
    {
     "name": "stdout",
     "output_type": "stream",
     "text": [
      "EvaluatorHoldout: Processed 40109 (100.0%) in 32.23 sec. Users per second: 1245\n"
     ]
    },
    {
     "name": "stderr",
     "output_type": "stream",
     "text": [
      "\u001b[32m[I 2023-01-10 15:06:10,635]\u001b[0m Trial 211 finished with value: 0.014579381304991625 and parameters: {'iterations': 247, 'factors': 79, 'regularization': 0.08238664534985114, 'urm_alpha': 3.78316557185199, 'icm_alpha': 0.2886189259084127, 'use_gpu': True}. Best is trial 177 with value: 0.014681972774981986.\u001b[0m\n"
     ]
    },
    {
     "name": "stdout",
     "output_type": "stream",
     "text": [
      "EvaluatorHoldout: Processed 40109 (100.0%) in 32.39 sec. Users per second: 1238\n"
     ]
    },
    {
     "name": "stderr",
     "output_type": "stream",
     "text": [
      "\u001b[32m[I 2023-01-10 15:07:21,853]\u001b[0m Trial 212 finished with value: 0.014582666004977839 and parameters: {'iterations': 244, 'factors': 77, 'regularization': 0.09163361564313026, 'urm_alpha': 3.8877140692265675, 'icm_alpha': 0.26433745082062315, 'use_gpu': True}. Best is trial 177 with value: 0.014681972774981986.\u001b[0m\n"
     ]
    },
    {
     "name": "stdout",
     "output_type": "stream",
     "text": [
      "EvaluatorHoldout: Processed 40109 (100.0%) in 32.36 sec. Users per second: 1240\n"
     ]
    },
    {
     "name": "stderr",
     "output_type": "stream",
     "text": [
      "\u001b[32m[I 2023-01-10 15:08:34,092]\u001b[0m Trial 213 finished with value: 0.014559815573989634 and parameters: {'iterations': 251, 'factors': 90, 'regularization': 0.08537423052302412, 'urm_alpha': 3.860227057336785, 'icm_alpha': 0.2995260710936268, 'use_gpu': True}. Best is trial 177 with value: 0.014681972774981986.\u001b[0m\n"
     ]
    },
    {
     "name": "stdout",
     "output_type": "stream",
     "text": [
      "EvaluatorHoldout: Processed 40109 (100.0%) in 32.63 sec. Users per second: 1229\n"
     ]
    },
    {
     "name": "stderr",
     "output_type": "stream",
     "text": [
      "\u001b[32m[I 2023-01-10 15:09:36,372]\u001b[0m Trial 214 finished with value: 0.014167751013409254 and parameters: {'iterations': 186, 'factors': 71, 'regularization': 0.09041671577993615, 'urm_alpha': 2.582600282003534, 'icm_alpha': 0.5205746097203003, 'use_gpu': True}. Best is trial 177 with value: 0.014681972774981986.\u001b[0m\n"
     ]
    },
    {
     "name": "stdout",
     "output_type": "stream",
     "text": [
      "EvaluatorHoldout: Processed 40109 (100.0%) in 32.54 sec. Users per second: 1233\n"
     ]
    },
    {
     "name": "stderr",
     "output_type": "stream",
     "text": [
      "\u001b[32m[I 2023-01-10 15:10:48,373]\u001b[0m Trial 215 finished with value: 0.01452262030411583 and parameters: {'iterations': 248, 'factors': 74, 'regularization': 0.02953004572865882, 'urm_alpha': 3.8051080558014796, 'icm_alpha': 0.23450785785891654, 'use_gpu': True}. Best is trial 177 with value: 0.014681972774981986.\u001b[0m\n"
     ]
    },
    {
     "name": "stdout",
     "output_type": "stream",
     "text": [
      "EvaluatorHoldout: Processed 40109 (100.0%) in 32.27 sec. Users per second: 1243\n"
     ]
    },
    {
     "name": "stderr",
     "output_type": "stream",
     "text": [
      "\u001b[32m[I 2023-01-10 15:11:51,226]\u001b[0m Trial 216 finished with value: 0.014591592078253569 and parameters: {'iterations': 192, 'factors': 84, 'regularization': 0.0802996332188166, 'urm_alpha': 3.999723093672237, 'icm_alpha': 0.27660048796874176, 'use_gpu': True}. Best is trial 177 with value: 0.014681972774981986.\u001b[0m\n"
     ]
    },
    {
     "name": "stdout",
     "output_type": "stream",
     "text": [
      "EvaluatorHoldout: Processed 40109 (100.0%) in 32.60 sec. Users per second: 1230\n"
     ]
    },
    {
     "name": "stderr",
     "output_type": "stream",
     "text": [
      "\u001b[32m[I 2023-01-10 15:12:43,702]\u001b[0m Trial 217 finished with value: 0.014546159334860219 and parameters: {'iterations': 124, 'factors': 80, 'regularization': 0.021247041703172948, 'urm_alpha': 3.907049744583965, 'icm_alpha': 0.34449867100303205, 'use_gpu': True}. Best is trial 177 with value: 0.014681972774981986.\u001b[0m\n"
     ]
    },
    {
     "name": "stdout",
     "output_type": "stream",
     "text": [
      "EvaluatorHoldout: Processed 40109 (100.0%) in 32.81 sec. Users per second: 1223\n"
     ]
    },
    {
     "name": "stderr",
     "output_type": "stream",
     "text": [
      "\u001b[32m[I 2023-01-10 15:13:57,868]\u001b[0m Trial 218 finished with value: 0.01453404156214014 and parameters: {'iterations': 260, 'factors': 94, 'regularization': 0.08465569278812574, 'urm_alpha': 3.8498128766742425, 'icm_alpha': 0.3161237573743322, 'use_gpu': True}. Best is trial 177 with value: 0.014681972774981986.\u001b[0m\n"
     ]
    },
    {
     "name": "stdout",
     "output_type": "stream",
     "text": [
      "EvaluatorHoldout: Processed 40109 (100.0%) in 32.26 sec. Users per second: 1243\n"
     ]
    },
    {
     "name": "stderr",
     "output_type": "stream",
     "text": [
      "\u001b[32m[I 2023-01-10 15:14:55,357]\u001b[0m Trial 219 finished with value: 0.014583832469219954 and parameters: {'iterations': 158, 'factors': 88, 'regularization': 0.08822191558305328, 'urm_alpha': 3.898079120533684, 'icm_alpha': 0.3713844250508702, 'use_gpu': True}. Best is trial 177 with value: 0.014681972774981986.\u001b[0m\n"
     ]
    },
    {
     "name": "stdout",
     "output_type": "stream",
     "text": [
      "EvaluatorHoldout: Processed 40109 (100.0%) in 32.54 sec. Users per second: 1233\n"
     ]
    },
    {
     "name": "stderr",
     "output_type": "stream",
     "text": [
      "\u001b[32m[I 2023-01-10 15:16:12,261]\u001b[0m Trial 220 finished with value: 0.014585893321651012 and parameters: {'iterations': 279, 'factors': 78, 'regularization': 0.03268940974740662, 'urm_alpha': 3.940251274105833, 'icm_alpha': 0.2572917752600923, 'use_gpu': True}. Best is trial 177 with value: 0.014681972774981986.\u001b[0m\n"
     ]
    },
    {
     "name": "stdout",
     "output_type": "stream",
     "text": [
      "EvaluatorHoldout: Processed 40109 (100.0%) in 32.19 sec. Users per second: 1246\n"
     ]
    },
    {
     "name": "stderr",
     "output_type": "stream",
     "text": [
      "\u001b[32m[I 2023-01-10 15:17:22,324]\u001b[0m Trial 221 finished with value: 0.014597952721690706 and parameters: {'iterations': 238, 'factors': 65, 'regularization': 0.07319090886804068, 'urm_alpha': 3.953702388094319, 'icm_alpha': 0.3349612238056105, 'use_gpu': True}. Best is trial 177 with value: 0.014681972774981986.\u001b[0m\n"
     ]
    },
    {
     "name": "stdout",
     "output_type": "stream",
     "text": [
      "EvaluatorHoldout: Processed 40109 (100.0%) in 32.12 sec. Users per second: 1249\n"
     ]
    },
    {
     "name": "stderr",
     "output_type": "stream",
     "text": [
      "\u001b[32m[I 2023-01-10 15:18:33,339]\u001b[0m Trial 222 finished with value: 0.014574441393235328 and parameters: {'iterations': 244, 'factors': 82, 'regularization': 0.07742167790158344, 'urm_alpha': 3.9705222320547557, 'icm_alpha': 0.2788405724495874, 'use_gpu': True}. Best is trial 177 with value: 0.014681972774981986.\u001b[0m\n"
     ]
    },
    {
     "name": "stdout",
     "output_type": "stream",
     "text": [
      "EvaluatorHoldout: Processed 40109 (100.0%) in 32.16 sec. Users per second: 1247\n"
     ]
    },
    {
     "name": "stderr",
     "output_type": "stream",
     "text": [
      "\u001b[32m[I 2023-01-10 15:19:43,846]\u001b[0m Trial 223 finished with value: 0.014566849976670841 and parameters: {'iterations': 241, 'factors': 69, 'regularization': 0.07954891673075168, 'urm_alpha': 3.9140373378005995, 'icm_alpha': 0.30163569435067905, 'use_gpu': True}. Best is trial 177 with value: 0.014681972774981986.\u001b[0m\n"
     ]
    },
    {
     "name": "stdout",
     "output_type": "stream",
     "text": [
      "EvaluatorHoldout: Processed 40109 (100.0%) in 32.74 sec. Users per second: 1225\n"
     ]
    },
    {
     "name": "stderr",
     "output_type": "stream",
     "text": [
      "\u001b[32m[I 2023-01-10 15:20:56,220]\u001b[0m Trial 224 finished with value: 0.014546108877119523 and parameters: {'iterations': 249, 'factors': 73, 'regularization': 0.02416192062589316, 'urm_alpha': 3.873825286869702, 'icm_alpha': 0.24254595735921514, 'use_gpu': True}. Best is trial 177 with value: 0.014681972774981986.\u001b[0m\n"
     ]
    },
    {
     "name": "stdout",
     "output_type": "stream",
     "text": [
      "EvaluatorHoldout: Processed 40109 (100.0%) in 32.70 sec. Users per second: 1227\n"
     ]
    },
    {
     "name": "stderr",
     "output_type": "stream",
     "text": [
      "\u001b[32m[I 2023-01-10 15:21:55,874]\u001b[0m Trial 225 finished with value: 0.014563716649906931 and parameters: {'iterations': 169, 'factors': 86, 'regularization': 0.08123238340211239, 'urm_alpha': 3.9987870052883427, 'icm_alpha': 0.3520792257421576, 'use_gpu': True}. Best is trial 177 with value: 0.014681972774981986.\u001b[0m\n"
     ]
    },
    {
     "name": "stdout",
     "output_type": "stream",
     "text": [
      "EvaluatorHoldout: Processed 40109 (100.0%) in 32.74 sec. Users per second: 1225\n"
     ]
    },
    {
     "name": "stderr",
     "output_type": "stream",
     "text": [
      "\u001b[32m[I 2023-01-10 15:23:06,047]\u001b[0m Trial 226 finished with value: 0.014567146786910502 and parameters: {'iterations': 235, 'factors': 76, 'regularization': 0.03073488259841318, 'urm_alpha': 3.940947743189167, 'icm_alpha': 0.29091988412406994, 'use_gpu': True}. Best is trial 177 with value: 0.014681972774981986.\u001b[0m\n"
     ]
    },
    {
     "name": "stdout",
     "output_type": "stream",
     "text": [
      "EvaluatorHoldout: Processed 40109 (100.0%) in 32.72 sec. Users per second: 1226\n"
     ]
    },
    {
     "name": "stderr",
     "output_type": "stream",
     "text": [
      "\u001b[32m[I 2023-01-10 15:24:16,941]\u001b[0m Trial 227 finished with value: 0.014539101187359836 and parameters: {'iterations': 240, 'factors': 96, 'regularization': 0.08270464549360372, 'urm_alpha': 3.715955310944611, 'icm_alpha': 0.20336130764644025, 'use_gpu': True}. Best is trial 177 with value: 0.014681972774981986.\u001b[0m\n"
     ]
    },
    {
     "name": "stdout",
     "output_type": "stream",
     "text": [
      "EvaluatorHoldout: Processed 40109 (100.0%) in 31.93 sec. Users per second: 1256\n"
     ]
    },
    {
     "name": "stderr",
     "output_type": "stream",
     "text": [
      "\u001b[32m[I 2023-01-10 15:25:24,408]\u001b[0m Trial 228 finished with value: 0.014552602095797042 and parameters: {'iterations': 223, 'factors': 90, 'regularization': 0.0757846974451606, 'urm_alpha': 3.815510148516926, 'icm_alpha': 0.32042338105937174, 'use_gpu': True}. Best is trial 177 with value: 0.014681972774981986.\u001b[0m\n"
     ]
    },
    {
     "name": "stdout",
     "output_type": "stream",
     "text": [
      "EvaluatorHoldout: Processed 40109 (100.0%) in 32.62 sec. Users per second: 1230\n"
     ]
    },
    {
     "name": "stderr",
     "output_type": "stream",
     "text": [
      "\u001b[32m[I 2023-01-10 15:26:37,518]\u001b[0m Trial 229 finished with value: 0.014644572706042818 and parameters: {'iterations': 254, 'factors': 83, 'regularization': 0.02658943936783551, 'urm_alpha': 3.96878764105076, 'icm_alpha': 0.2625332642702138, 'use_gpu': True}. Best is trial 177 with value: 0.014681972774981986.\u001b[0m\n"
     ]
    },
    {
     "name": "stdout",
     "output_type": "stream",
     "text": [
      "EvaluatorHoldout: Processed 40109 (100.0%) in 32.53 sec. Users per second: 1233\n"
     ]
    },
    {
     "name": "stderr",
     "output_type": "stream",
     "text": [
      "\u001b[32m[I 2023-01-10 15:27:50,598]\u001b[0m Trial 230 finished with value: 0.014537059132910589 and parameters: {'iterations': 255, 'factors': 83, 'regularization': 0.027221805361316898, 'urm_alpha': 3.881775223004611, 'icm_alpha': 0.2597941982166907, 'use_gpu': True}. Best is trial 177 with value: 0.014681972774981986.\u001b[0m\n"
     ]
    },
    {
     "name": "stdout",
     "output_type": "stream",
     "text": [
      "EvaluatorHoldout: Processed 40109 (100.0%) in 32.56 sec. Users per second: 1232\n"
     ]
    },
    {
     "name": "stderr",
     "output_type": "stream",
     "text": [
      "\u001b[32m[I 2023-01-10 15:29:03,572]\u001b[0m Trial 231 finished with value: 0.014647970193920086 and parameters: {'iterations': 254, 'factors': 79, 'regularization': 0.020867334862449873, 'urm_alpha': 3.957928270859156, 'icm_alpha': 0.22636118629304489, 'use_gpu': True}. Best is trial 177 with value: 0.014681972774981986.\u001b[0m\n"
     ]
    },
    {
     "name": "stdout",
     "output_type": "stream",
     "text": [
      "EvaluatorHoldout: Processed 40109 (100.0%) in 32.59 sec. Users per second: 1231\n"
     ]
    },
    {
     "name": "stderr",
     "output_type": "stream",
     "text": [
      "\u001b[32m[I 2023-01-10 15:30:16,595]\u001b[0m Trial 232 finished with value: 0.014612252049672743 and parameters: {'iterations': 254, 'factors': 82, 'regularization': 0.019994575125876934, 'urm_alpha': 3.999667823155961, 'icm_alpha': 0.22438855396298285, 'use_gpu': True}. Best is trial 177 with value: 0.014681972774981986.\u001b[0m\n"
     ]
    },
    {
     "name": "stdout",
     "output_type": "stream",
     "text": [
      "EvaluatorHoldout: Processed 40109 (100.0%) in 32.46 sec. Users per second: 1235\n"
     ]
    },
    {
     "name": "stderr",
     "output_type": "stream",
     "text": [
      "\u001b[32m[I 2023-01-10 15:31:30,555]\u001b[0m Trial 233 finished with value: 0.01452699132957951 and parameters: {'iterations': 261, 'factors': 78, 'regularization': 0.02213195498741263, 'urm_alpha': 3.906169359135263, 'icm_alpha': 0.24246513276305526, 'use_gpu': True}. Best is trial 177 with value: 0.014681972774981986.\u001b[0m\n"
     ]
    },
    {
     "name": "stdout",
     "output_type": "stream",
     "text": [
      "EvaluatorHoldout: Processed 40109 (100.0%) in 32.71 sec. Users per second: 1226\n"
     ]
    },
    {
     "name": "stderr",
     "output_type": "stream",
     "text": [
      "\u001b[32m[I 2023-01-10 15:32:42,877]\u001b[0m Trial 234 finished with value: 0.014568279612658774 and parameters: {'iterations': 249, 'factors': 86, 'regularization': 0.02559366854472371, 'urm_alpha': 3.935294370632285, 'icm_alpha': 0.2777241690330853, 'use_gpu': True}. Best is trial 177 with value: 0.014681972774981986.\u001b[0m\n"
     ]
    },
    {
     "name": "stdout",
     "output_type": "stream",
     "text": [
      "EvaluatorHoldout: Processed 40109 (100.0%) in 32.55 sec. Users per second: 1232\n"
     ]
    },
    {
     "name": "stderr",
     "output_type": "stream",
     "text": [
      "\u001b[32m[I 2023-01-10 15:33:56,175]\u001b[0m Trial 235 finished with value: 0.014637500707397852 and parameters: {'iterations': 256, 'factors': 79, 'regularization': 0.029536019338971858, 'urm_alpha': 3.9657786260494983, 'icm_alpha': 0.5668907690478171, 'use_gpu': True}. Best is trial 177 with value: 0.014681972774981986.\u001b[0m\n"
     ]
    },
    {
     "name": "stdout",
     "output_type": "stream",
     "text": [
      "EvaluatorHoldout: Processed 40109 (100.0%) in 32.59 sec. Users per second: 1231\n"
     ]
    },
    {
     "name": "stderr",
     "output_type": "stream",
     "text": [
      "\u001b[32m[I 2023-01-10 15:35:10,765]\u001b[0m Trial 236 finished with value: 0.01458107708082791 and parameters: {'iterations': 264, 'factors': 75, 'regularization': 0.029076065558997215, 'urm_alpha': 3.966538740959048, 'icm_alpha': 0.4714247090787737, 'use_gpu': True}. Best is trial 177 with value: 0.014681972774981986.\u001b[0m\n"
     ]
    },
    {
     "name": "stdout",
     "output_type": "stream",
     "text": [
      "EvaluatorHoldout: Processed 40109 (100.0%) in 32.57 sec. Users per second: 1231\n"
     ]
    },
    {
     "name": "stderr",
     "output_type": "stream",
     "text": [
      "\u001b[32m[I 2023-01-10 15:36:24,381]\u001b[0m Trial 237 finished with value: 0.0145389112288064 and parameters: {'iterations': 258, 'factors': 88, 'regularization': 0.031760773291945696, 'urm_alpha': 3.9521113338989067, 'icm_alpha': 0.6622881601222185, 'use_gpu': True}. Best is trial 177 with value: 0.014681972774981986.\u001b[0m\n"
     ]
    },
    {
     "name": "stdout",
     "output_type": "stream",
     "text": [
      "EvaluatorHoldout: Processed 40109 (100.0%) in 32.29 sec. Users per second: 1242\n"
     ]
    },
    {
     "name": "stderr",
     "output_type": "stream",
     "text": [
      "\u001b[32m[I 2023-01-10 15:37:37,114]\u001b[0m Trial 238 finished with value: 0.014653465140824716 and parameters: {'iterations': 254, 'factors': 92, 'regularization': 0.02425868083494862, 'urm_alpha': 3.9964069237063766, 'icm_alpha': 0.7238593054135672, 'use_gpu': True}. Best is trial 177 with value: 0.014681972774981986.\u001b[0m\n"
     ]
    },
    {
     "name": "stdout",
     "output_type": "stream",
     "text": [
      "EvaluatorHoldout: Processed 40109 (100.0%) in 32.42 sec. Users per second: 1237\n"
     ]
    },
    {
     "name": "stderr",
     "output_type": "stream",
     "text": [
      "\u001b[32m[I 2023-01-10 15:38:51,049]\u001b[0m Trial 239 finished with value: 0.01461623029625236 and parameters: {'iterations': 261, 'factors': 81, 'regularization': 0.023555393610183016, 'urm_alpha': 3.993952913106913, 'icm_alpha': 0.679218577375466, 'use_gpu': True}. Best is trial 177 with value: 0.014681972774981986.\u001b[0m\n"
     ]
    },
    {
     "name": "stdout",
     "output_type": "stream",
     "text": [
      "EvaluatorHoldout: Processed 40109 (100.0%) in 32.59 sec. Users per second: 1231\n"
     ]
    },
    {
     "name": "stderr",
     "output_type": "stream",
     "text": [
      "\u001b[32m[I 2023-01-10 15:40:04,068]\u001b[0m Trial 240 finished with value: 0.01457091528758751 and parameters: {'iterations': 254, 'factors': 84, 'regularization': 0.02540710445640719, 'urm_alpha': 3.841463489002707, 'icm_alpha': 0.6292268481953129, 'use_gpu': True}. Best is trial 177 with value: 0.014681972774981986.\u001b[0m\n"
     ]
    },
    {
     "name": "stdout",
     "output_type": "stream",
     "text": [
      "EvaluatorHoldout: Processed 40109 (100.0%) in 32.73 sec. Users per second: 1225\n"
     ]
    },
    {
     "name": "stderr",
     "output_type": "stream",
     "text": [
      "\u001b[32m[I 2023-01-10 15:41:16,878]\u001b[0m Trial 241 finished with value: 0.01467290621152611 and parameters: {'iterations': 252, 'factors': 92, 'regularization': 0.018185561450322973, 'urm_alpha': 3.9655769783935337, 'icm_alpha': 0.706023053953453, 'use_gpu': True}. Best is trial 177 with value: 0.014681972774981986.\u001b[0m\n"
     ]
    },
    {
     "name": "stdout",
     "output_type": "stream",
     "text": [
      "EvaluatorHoldout: Processed 40109 (100.0%) in 32.77 sec. Users per second: 1224\n"
     ]
    },
    {
     "name": "stderr",
     "output_type": "stream",
     "text": [
      "\u001b[32m[I 2023-01-10 15:42:30,236]\u001b[0m Trial 242 finished with value: 0.014602445439352466 and parameters: {'iterations': 255, 'factors': 92, 'regularization': 0.019202075190547025, 'urm_alpha': 3.966324665498829, 'icm_alpha': 0.7586667283570322, 'use_gpu': True}. Best is trial 177 with value: 0.014681972774981986.\u001b[0m\n"
     ]
    },
    {
     "name": "stdout",
     "output_type": "stream",
     "text": [
      "EvaluatorHoldout: Processed 40109 (100.0%) in 32.77 sec. Users per second: 1224\n"
     ]
    },
    {
     "name": "stderr",
     "output_type": "stream",
     "text": [
      "\u001b[32m[I 2023-01-10 15:43:43,896]\u001b[0m Trial 243 finished with value: 0.014561259061122055 and parameters: {'iterations': 257, 'factors': 95, 'regularization': 0.021423341988512753, 'urm_alpha': 3.998831539805488, 'icm_alpha': 0.7202562758131056, 'use_gpu': True}. Best is trial 177 with value: 0.014681972774981986.\u001b[0m\n"
     ]
    },
    {
     "name": "stdout",
     "output_type": "stream",
     "text": [
      "EvaluatorHoldout: Processed 40109 (100.0%) in 33.13 sec. Users per second: 1211\n"
     ]
    },
    {
     "name": "stderr",
     "output_type": "stream",
     "text": [
      "\u001b[32m[I 2023-01-10 15:44:56,936]\u001b[0m Trial 244 finished with value: 0.014543289179842152 and parameters: {'iterations': 251, 'factors': 87, 'regularization': 0.020550397517096038, 'urm_alpha': 3.9227665842225434, 'icm_alpha': 0.6972192894826503, 'use_gpu': True}. Best is trial 177 with value: 0.014681972774981986.\u001b[0m\n"
     ]
    },
    {
     "name": "stdout",
     "output_type": "stream",
     "text": [
      "EvaluatorHoldout: Processed 40109 (100.0%) in 32.56 sec. Users per second: 1232\n"
     ]
    },
    {
     "name": "stderr",
     "output_type": "stream",
     "text": [
      "\u001b[32m[I 2023-01-10 15:46:09,714]\u001b[0m Trial 245 finished with value: 0.0145619031393423 and parameters: {'iterations': 253, 'factors': 73, 'regularization': 0.017464386009722457, 'urm_alpha': 3.928022101164831, 'icm_alpha': 0.7266597517486787, 'use_gpu': True}. Best is trial 177 with value: 0.014681972774981986.\u001b[0m\n"
     ]
    },
    {
     "name": "stdout",
     "output_type": "stream",
     "text": [
      "EvaluatorHoldout: Processed 40109 (100.0%) in 33.38 sec. Users per second: 1202\n"
     ]
    },
    {
     "name": "stderr",
     "output_type": "stream",
     "text": [
      "\u001b[32m[I 2023-01-10 15:47:26,654]\u001b[0m Trial 246 finished with value: 0.01422970322537774 and parameters: {'iterations': 258, 'factors': 99, 'regularization': 0.023045726014362965, 'urm_alpha': 2.8505349963872617, 'icm_alpha': 0.7026032752818165, 'use_gpu': True}. Best is trial 177 with value: 0.014681972774981986.\u001b[0m\n"
     ]
    },
    {
     "name": "stdout",
     "output_type": "stream",
     "text": [
      "EvaluatorHoldout: Processed 40109 (100.0%) in 32.75 sec. Users per second: 1225\n"
     ]
    },
    {
     "name": "stderr",
     "output_type": "stream",
     "text": [
      "\u001b[32m[I 2023-01-10 15:48:25,561]\u001b[0m Trial 247 finished with value: 0.014609526342304646 and parameters: {'iterations': 164, 'factors': 91, 'regularization': 0.016869969506072256, 'urm_alpha': 3.9703112397890945, 'icm_alpha': 0.564982504341498, 'use_gpu': True}. Best is trial 177 with value: 0.014681972774981986.\u001b[0m\n"
     ]
    },
    {
     "name": "stdout",
     "output_type": "stream",
     "text": [
      "EvaluatorHoldout: Processed 40109 (100.0%) in 33.68 sec. Users per second: 1191\n"
     ]
    },
    {
     "name": "stderr",
     "output_type": "stream",
     "text": [
      "\u001b[32m[I 2023-01-10 15:49:38,437]\u001b[0m Trial 248 finished with value: 0.014596588383955465 and parameters: {'iterations': 246, 'factors': 80, 'regularization': 0.025833140808007183, 'urm_alpha': 3.870543687269118, 'icm_alpha': 0.7753748204023696, 'use_gpu': True}. Best is trial 177 with value: 0.014681972774981986.\u001b[0m\n"
     ]
    },
    {
     "name": "stdout",
     "output_type": "stream",
     "text": [
      "EvaluatorHoldout: Processed 40109 (100.0%) in 32.95 sec. Users per second: 1217\n"
     ]
    },
    {
     "name": "stderr",
     "output_type": "stream",
     "text": [
      "\u001b[32m[I 2023-01-10 15:50:51,501]\u001b[0m Trial 249 finished with value: 0.014574677852059634 and parameters: {'iterations': 252, 'factors': 76, 'regularization': 0.02906518071059875, 'urm_alpha': 3.926898358439387, 'icm_alpha': 0.6945187344754336, 'use_gpu': True}. Best is trial 177 with value: 0.014681972774981986.\u001b[0m\n"
     ]
    },
    {
     "name": "stdout",
     "output_type": "stream",
     "text": [
      "EvaluatorHoldout: Processed 40109 (100.0%) in 32.67 sec. Users per second: 1228\n"
     ]
    },
    {
     "name": "stderr",
     "output_type": "stream",
     "text": [
      "\u001b[32m[I 2023-01-10 15:52:06,624]\u001b[0m Trial 250 finished with value: 0.014612011633378509 and parameters: {'iterations': 267, 'factors': 71, 'regularization': 0.027402627046392805, 'urm_alpha': 3.968480232625264, 'icm_alpha': 0.7156220522130337, 'use_gpu': True}. Best is trial 177 with value: 0.014681972774981986.\u001b[0m\n"
     ]
    },
    {
     "name": "stdout",
     "output_type": "stream",
     "text": [
      "EvaluatorHoldout: Processed 40109 (100.0%) in 32.66 sec. Users per second: 1228\n"
     ]
    },
    {
     "name": "stderr",
     "output_type": "stream",
     "text": [
      "\u001b[32m[I 2023-01-10 15:53:19,152]\u001b[0m Trial 251 finished with value: 0.01457035926307168 and parameters: {'iterations': 250, 'factors': 85, 'regularization': 0.01891150196555804, 'urm_alpha': 3.999266914974927, 'icm_alpha': 0.7506901744905489, 'use_gpu': True}. Best is trial 177 with value: 0.014681972774981986.\u001b[0m\n"
     ]
    },
    {
     "name": "stdout",
     "output_type": "stream",
     "text": [
      "EvaluatorHoldout: Processed 40109 (100.0%) in 32.76 sec. Users per second: 1224\n"
     ]
    },
    {
     "name": "stderr",
     "output_type": "stream",
     "text": [
      "\u001b[32m[I 2023-01-10 15:54:33,077]\u001b[0m Trial 252 finished with value: 0.014517956425882442 and parameters: {'iterations': 259, 'factors': 78, 'regularization': 0.01414866978652321, 'urm_alpha': 3.7888245308809854, 'icm_alpha': 0.5948449421220551, 'use_gpu': True}. Best is trial 177 with value: 0.014681972774981986.\u001b[0m\n"
     ]
    },
    {
     "name": "stdout",
     "output_type": "stream",
     "text": [
      "EvaluatorHoldout: Processed 40109 (100.0%) in 33.01 sec. Users per second: 1215\n"
     ]
    },
    {
     "name": "stderr",
     "output_type": "stream",
     "text": [
      "\u001b[32m[I 2023-01-10 15:55:37,498]\u001b[0m Trial 253 finished with value: 0.014639203408806338 and parameters: {'iterations': 197, 'factors': 89, 'regularization': 0.0241451533545388, 'urm_alpha': 3.887710901853679, 'icm_alpha': 0.6759074092414669, 'use_gpu': True}. Best is trial 177 with value: 0.014681972774981986.\u001b[0m\n"
     ]
    },
    {
     "name": "stdout",
     "output_type": "stream",
     "text": [
      "EvaluatorHoldout: Processed 40109 (100.0%) in 32.96 sec. Users per second: 1217\n"
     ]
    },
    {
     "name": "stderr",
     "output_type": "stream",
     "text": [
      "\u001b[32m[I 2023-01-10 15:56:44,699]\u001b[0m Trial 254 finished with value: 0.014607607958788606 and parameters: {'iterations': 215, 'factors': 83, 'regularization': 0.02302399511219799, 'urm_alpha': 3.9340045535259898, 'icm_alpha': 0.6847556125213394, 'use_gpu': True}. Best is trial 177 with value: 0.014681972774981986.\u001b[0m\n"
     ]
    },
    {
     "name": "stdout",
     "output_type": "stream",
     "text": [
      "EvaluatorHoldout: Processed 40109 (100.0%) in 32.64 sec. Users per second: 1229\n"
     ]
    },
    {
     "name": "stderr",
     "output_type": "stream",
     "text": [
      "\u001b[32m[I 2023-01-10 15:57:45,700]\u001b[0m Trial 255 finished with value: 0.014585817140356177 and parameters: {'iterations': 178, 'factors': 87, 'regularization': 0.0948803941533066, 'urm_alpha': 3.848783832999224, 'icm_alpha': 0.6643727124672134, 'use_gpu': True}. Best is trial 177 with value: 0.014681972774981986.\u001b[0m\n"
     ]
    },
    {
     "name": "stdout",
     "output_type": "stream",
     "text": [
      "EvaluatorHoldout: Processed 40109 (100.0%) in 32.98 sec. Users per second: 1216\n"
     ]
    },
    {
     "name": "stderr",
     "output_type": "stream",
     "text": [
      "\u001b[32m[I 2023-01-10 15:58:43,018]\u001b[0m Trial 256 finished with value: 0.014593620281558299 and parameters: {'iterations': 152, 'factors': 68, 'regularization': 0.024626901233480488, 'urm_alpha': 3.8981735239881328, 'icm_alpha': 0.6402505937595036, 'use_gpu': True}. Best is trial 177 with value: 0.014681972774981986.\u001b[0m\n"
     ]
    },
    {
     "name": "stdout",
     "output_type": "stream",
     "text": [
      "EvaluatorHoldout: Processed 40109 (100.0%) in 32.74 sec. Users per second: 1225\n"
     ]
    },
    {
     "name": "stderr",
     "output_type": "stream",
     "text": [
      "\u001b[32m[I 2023-01-10 15:59:35,135]\u001b[0m Trial 257 finished with value: 0.014629552129178268 and parameters: {'iterations': 121, 'factors': 89, 'regularization': 0.020943064422817244, 'urm_alpha': 3.955901309783822, 'icm_alpha': 0.7375021663174676, 'use_gpu': True}. Best is trial 177 with value: 0.014681972774981986.\u001b[0m\n"
     ]
    },
    {
     "name": "stdout",
     "output_type": "stream",
     "text": [
      "EvaluatorHoldout: Processed 40109 (100.0%) in 32.93 sec. Users per second: 1218\n"
     ]
    },
    {
     "name": "stderr",
     "output_type": "stream",
     "text": [
      "\u001b[32m[I 2023-01-10 16:00:40,106]\u001b[0m Trial 258 finished with value: 0.01462340617848125 and parameters: {'iterations': 201, 'factors': 81, 'regularization': 0.026904501398907887, 'urm_alpha': 3.759699813941634, 'icm_alpha': 0.5016711584839824, 'use_gpu': True}. Best is trial 177 with value: 0.014681972774981986.\u001b[0m\n"
     ]
    },
    {
     "name": "stdout",
     "output_type": "stream",
     "text": [
      "EvaluatorHoldout: Processed 40109 (100.0%) in 32.45 sec. Users per second: 1236\n"
     ]
    },
    {
     "name": "stderr",
     "output_type": "stream",
     "text": [
      "\u001b[32m[I 2023-01-10 16:01:57,566]\u001b[0m Trial 259 finished with value: 0.0145792813788776 and parameters: {'iterations': 283, 'factors': 75, 'regularization': 0.03441857215222778, 'urm_alpha': 3.8199939085984496, 'icm_alpha': 0.6667633089807266, 'use_gpu': True}. Best is trial 177 with value: 0.014681972774981986.\u001b[0m\n"
     ]
    },
    {
     "name": "stdout",
     "output_type": "stream",
     "text": [
      "EvaluatorHoldout: Processed 40109 (100.0%) in 32.82 sec. Users per second: 1222\n"
     ]
    },
    {
     "name": "stderr",
     "output_type": "stream",
     "text": [
      "\u001b[32m[I 2023-01-10 16:03:13,876]\u001b[0m Trial 260 finished with value: 0.014647884118950615 and parameters: {'iterations': 273, 'factors': 93, 'regularization': 0.043998932256840796, 'urm_alpha': 3.922059962650435, 'icm_alpha': 0.543214913301727, 'use_gpu': True}. Best is trial 177 with value: 0.014681972774981986.\u001b[0m\n"
     ]
    },
    {
     "name": "stdout",
     "output_type": "stream",
     "text": [
      "EvaluatorHoldout: Processed 40109 (100.0%) in 32.98 sec. Users per second: 1216\n"
     ]
    },
    {
     "name": "stderr",
     "output_type": "stream",
     "text": [
      "\u001b[32m[I 2023-01-10 16:04:33,622]\u001b[0m Trial 261 finished with value: 0.014539607743502275 and parameters: {'iterations': 277, 'factors': 97, 'regularization': 0.04436115127527614, 'urm_alpha': 3.9655006878969936, 'icm_alpha': 0.5480769452704881, 'use_gpu': True}. Best is trial 177 with value: 0.014681972774981986.\u001b[0m\n"
     ]
    },
    {
     "name": "stdout",
     "output_type": "stream",
     "text": [
      "EvaluatorHoldout: Processed 40109 (100.0%) in 32.91 sec. Users per second: 1219\n"
     ]
    },
    {
     "name": "stderr",
     "output_type": "stream",
     "text": [
      "\u001b[32m[I 2023-01-10 16:05:49,656]\u001b[0m Trial 262 finished with value: 0.014656442147529125 and parameters: {'iterations': 271, 'factors': 78, 'regularization': 0.0465908745176365, 'urm_alpha': 3.9183291892610717, 'icm_alpha': 0.561521459119168, 'use_gpu': True}. Best is trial 177 with value: 0.014681972774981986.\u001b[0m\n"
     ]
    },
    {
     "name": "stdout",
     "output_type": "stream",
     "text": [
      "EvaluatorHoldout: Processed 40109 (100.0%) in 32.41 sec. Users per second: 1238\n"
     ]
    },
    {
     "name": "stderr",
     "output_type": "stream",
     "text": [
      "\u001b[32m[I 2023-01-10 16:07:05,055]\u001b[0m Trial 263 finished with value: 0.014563411924727467 and parameters: {'iterations': 270, 'factors': 94, 'regularization': 0.04701392488409348, 'urm_alpha': 3.9223495799164607, 'icm_alpha': 0.5935816319990277, 'use_gpu': True}. Best is trial 177 with value: 0.014681972774981986.\u001b[0m\n"
     ]
    },
    {
     "name": "stdout",
     "output_type": "stream",
     "text": [
      "EvaluatorHoldout: Processed 40109 (100.0%) in 32.96 sec. Users per second: 1217\n"
     ]
    },
    {
     "name": "stderr",
     "output_type": "stream",
     "text": [
      "\u001b[32m[I 2023-01-10 16:08:20,331]\u001b[0m Trial 264 finished with value: 0.014588635848265958 and parameters: {'iterations': 266, 'factors': 73, 'regularization': 0.04975310348048323, 'urm_alpha': 3.9279741132245016, 'icm_alpha': 0.5701748175136292, 'use_gpu': True}. Best is trial 177 with value: 0.014681972774981986.\u001b[0m\n"
     ]
    },
    {
     "name": "stdout",
     "output_type": "stream",
     "text": [
      "EvaluatorHoldout: Processed 40109 (100.0%) in 33.16 sec. Users per second: 1210\n"
     ]
    },
    {
     "name": "stderr",
     "output_type": "stream",
     "text": [
      "\u001b[32m[I 2023-01-10 16:09:37,896]\u001b[0m Trial 265 finished with value: 0.01458625641951094 and parameters: {'iterations': 279, 'factors': 77, 'regularization': 0.045399492568860035, 'urm_alpha': 3.998983342315058, 'icm_alpha': 0.542253484754787, 'use_gpu': True}. Best is trial 177 with value: 0.014681972774981986.\u001b[0m\n"
     ]
    },
    {
     "name": "stdout",
     "output_type": "stream",
     "text": [
      "EvaluatorHoldout: Processed 40109 (100.0%) in 33.32 sec. Users per second: 1204\n"
     ]
    },
    {
     "name": "stderr",
     "output_type": "stream",
     "text": [
      "\u001b[32m[I 2023-01-10 16:10:55,301]\u001b[0m Trial 266 finished with value: 0.014585494606562305 and parameters: {'iterations': 277, 'factors': 71, 'regularization': 0.043087650423293135, 'urm_alpha': 3.888477537191556, 'icm_alpha': 0.5612782617560662, 'use_gpu': True}. Best is trial 177 with value: 0.014681972774981986.\u001b[0m\n"
     ]
    },
    {
     "name": "stdout",
     "output_type": "stream",
     "text": [
      "EvaluatorHoldout: Processed 40109 (100.0%) in 33.01 sec. Users per second: 1215\n"
     ]
    },
    {
     "name": "stderr",
     "output_type": "stream",
     "text": [
      "\u001b[32m[I 2023-01-10 16:11:59,555]\u001b[0m Trial 267 finished with value: 0.014626245663107785 and parameters: {'iterations': 196, 'factors': 80, 'regularization': 0.051371234754648686, 'urm_alpha': 3.9634804409698114, 'icm_alpha': 0.5109477710838535, 'use_gpu': True}. Best is trial 177 with value: 0.014681972774981986.\u001b[0m\n"
     ]
    },
    {
     "name": "stdout",
     "output_type": "stream",
     "text": [
      "EvaluatorHoldout: Processed 40109 (100.0%) in 32.85 sec. Users per second: 1221\n"
     ]
    },
    {
     "name": "stderr",
     "output_type": "stream",
     "text": [
      "\u001b[32m[I 2023-01-10 16:13:15,866]\u001b[0m Trial 268 finished with value: 0.014601369007549771 and parameters: {'iterations': 273, 'factors': 77, 'regularization': 0.04934187950211534, 'urm_alpha': 3.9242059924148287, 'icm_alpha': 0.6137456345094853, 'use_gpu': True}. Best is trial 177 with value: 0.014681972774981986.\u001b[0m\n"
     ]
    },
    {
     "name": "stdout",
     "output_type": "stream",
     "text": [
      "EvaluatorHoldout: Processed 40109 (100.0%) in 32.75 sec. Users per second: 1225\n"
     ]
    },
    {
     "name": "stderr",
     "output_type": "stream",
     "text": [
      "\u001b[32m[I 2023-01-10 16:14:31,432]\u001b[0m Trial 269 finished with value: 0.01454938665153348 and parameters: {'iterations': 269, 'factors': 94, 'regularization': 0.04189526382672772, 'urm_alpha': 3.9648295681186885, 'icm_alpha': 0.5285455106220307, 'use_gpu': True}. Best is trial 177 with value: 0.014681972774981986.\u001b[0m\n"
     ]
    },
    {
     "name": "stdout",
     "output_type": "stream",
     "text": [
      "EvaluatorHoldout: Processed 40109 (100.0%) in 33.02 sec. Users per second: 1215\n"
     ]
    },
    {
     "name": "stderr",
     "output_type": "stream",
     "text": [
      "\u001b[32m[I 2023-01-10 16:15:47,876]\u001b[0m Trial 270 finished with value: 0.014618214967388566 and parameters: {'iterations': 273, 'factors': 69, 'regularization': 0.04453094447756217, 'urm_alpha': 3.8711744986705785, 'icm_alpha': 0.2070487192372931, 'use_gpu': True}. Best is trial 177 with value: 0.014681972774981986.\u001b[0m\n"
     ]
    },
    {
     "name": "stdout",
     "output_type": "stream",
     "text": [
      "EvaluatorHoldout: Processed 40109 (100.0%) in 32.71 sec. Users per second: 1226\n"
     ]
    },
    {
     "name": "stderr",
     "output_type": "stream",
     "text": [
      "\u001b[32m[I 2023-01-10 16:17:02,741]\u001b[0m Trial 271 finished with value: 0.01470518135699275 and parameters: {'iterations': 265, 'factors': 74, 'regularization': 0.05437849850416252, 'urm_alpha': 3.9990511039736827, 'icm_alpha': 0.5323445660084045, 'use_gpu': True}. Best is trial 271 with value: 0.01470518135699275.\u001b[0m\n"
     ]
    },
    {
     "name": "stdout",
     "output_type": "stream",
     "text": [
      "EvaluatorHoldout: Processed 40109 (100.0%) in 32.76 sec. Users per second: 1224\n"
     ]
    },
    {
     "name": "stderr",
     "output_type": "stream",
     "text": [
      "\u001b[32m[I 2023-01-10 16:18:17,176]\u001b[0m Trial 272 finished with value: 0.014630228856524801 and parameters: {'iterations': 262, 'factors': 73, 'regularization': 0.04820290025679872, 'urm_alpha': 3.913653043846682, 'icm_alpha': 0.48588538568916123, 'use_gpu': True}. Best is trial 271 with value: 0.01470518135699275.\u001b[0m\n"
     ]
    },
    {
     "name": "stdout",
     "output_type": "stream",
     "text": [
      "EvaluatorHoldout: Processed 40109 (100.0%) in 32.71 sec. Users per second: 1226\n"
     ]
    },
    {
     "name": "stderr",
     "output_type": "stream",
     "text": [
      "\u001b[32m[I 2023-01-10 16:19:31,726]\u001b[0m Trial 273 finished with value: 0.014582729324495634 and parameters: {'iterations': 263, 'factors': 65, 'regularization': 0.05309736068274502, 'urm_alpha': 3.9442920499278964, 'icm_alpha': 0.5707365375520728, 'use_gpu': True}. Best is trial 271 with value: 0.01470518135699275.\u001b[0m\n"
     ]
    },
    {
     "name": "stdout",
     "output_type": "stream",
     "text": [
      "EvaluatorHoldout: Processed 40109 (100.0%) in 32.90 sec. Users per second: 1219\n"
     ]
    },
    {
     "name": "stderr",
     "output_type": "stream",
     "text": [
      "\u001b[32m[I 2023-01-10 16:20:46,956]\u001b[0m Trial 274 finished with value: 0.014587884918359547 and parameters: {'iterations': 266, 'factors': 74, 'regularization': 0.045601199923130546, 'urm_alpha': 3.9986000280726697, 'icm_alpha': 0.5403885154177291, 'use_gpu': True}. Best is trial 271 with value: 0.01470518135699275.\u001b[0m\n"
     ]
    },
    {
     "name": "stdout",
     "output_type": "stream",
     "text": [
      "EvaluatorHoldout: Processed 40109 (100.0%) in 34.17 sec. Users per second: 1174\n"
     ]
    },
    {
     "name": "stderr",
     "output_type": "stream",
     "text": [
      "\u001b[32m[I 2023-01-10 16:21:50,403]\u001b[0m Trial 275 finished with value: 0.014459902321728987 and parameters: {'iterations': 183, 'factors': 78, 'regularization': 0.05789038529413398, 'urm_alpha': 3.866057153334805, 'icm_alpha': 0.2322750017133618, 'use_gpu': True}. Best is trial 271 with value: 0.01470518135699275.\u001b[0m\n"
     ]
    },
    {
     "name": "stdout",
     "output_type": "stream",
     "text": [
      "EvaluatorHoldout: Processed 40109 (100.0%) in 32.99 sec. Users per second: 1216\n"
     ]
    },
    {
     "name": "stderr",
     "output_type": "stream",
     "text": [
      "\u001b[32m[I 2023-01-10 16:23:06,719]\u001b[0m Trial 276 finished with value: 0.014539514742960447 and parameters: {'iterations': 272, 'factors': 76, 'regularization': 0.05575218081887309, 'urm_alpha': 3.9049368571993472, 'icm_alpha': 0.5410337600372889, 'use_gpu': True}. Best is trial 271 with value: 0.01470518135699275.\u001b[0m\n"
     ]
    },
    {
     "name": "stdout",
     "output_type": "stream",
     "text": [
      "EvaluatorHoldout: Processed 40109 (100.0%) in 33.25 sec. Users per second: 1206\n"
     ]
    },
    {
     "name": "stderr",
     "output_type": "stream",
     "text": [
      "\u001b[32m[I 2023-01-10 16:24:04,255]\u001b[0m Trial 277 finished with value: 0.014564246950868531 and parameters: {'iterations': 143, 'factors': 103, 'regularization': 0.04691237321685249, 'urm_alpha': 3.95553219321846, 'icm_alpha': 0.7083704091526686, 'use_gpu': True}. Best is trial 271 with value: 0.01470518135699275.\u001b[0m\n"
     ]
    },
    {
     "name": "stdout",
     "output_type": "stream",
     "text": [
      "EvaluatorHoldout: Processed 40109 (100.0%) in 32.62 sec. Users per second: 1230\n"
     ]
    },
    {
     "name": "stderr",
     "output_type": "stream",
     "text": [
      "\u001b[32m[I 2023-01-10 16:25:09,715]\u001b[0m Trial 278 finished with value: 0.014615150896347275 and parameters: {'iterations': 206, 'factors': 69, 'regularization': 0.023755575833683353, 'urm_alpha': 3.9998599415018794, 'icm_alpha': 0.5233772977755146, 'use_gpu': True}. Best is trial 271 with value: 0.01470518135699275.\u001b[0m\n"
     ]
    },
    {
     "name": "stdout",
     "output_type": "stream",
     "text": [
      "EvaluatorHoldout: Processed 40109 (100.0%) in 32.77 sec. Users per second: 1224\n"
     ]
    },
    {
     "name": "stderr",
     "output_type": "stream",
     "text": [
      "\u001b[32m[I 2023-01-10 16:26:23,269]\u001b[0m Trial 279 finished with value: 0.014640837843859708 and parameters: {'iterations': 256, 'factors': 72, 'regularization': 0.04102722440946622, 'urm_alpha': 3.855989467903062, 'icm_alpha': 0.5835234322298046, 'use_gpu': True}. Best is trial 271 with value: 0.01470518135699275.\u001b[0m\n"
     ]
    },
    {
     "name": "stdout",
     "output_type": "stream",
     "text": [
      "EvaluatorHoldout: Processed 40109 (100.0%) in 32.13 sec. Users per second: 1248\n"
     ]
    },
    {
     "name": "stderr",
     "output_type": "stream",
     "text": [
      "\u001b[32m[I 2023-01-10 16:27:35,338]\u001b[0m Trial 280 finished with value: 0.01452194258740185 and parameters: {'iterations': 275, 'factors': 64, 'regularization': 0.041609681060514665, 'urm_alpha': 3.8547723150124886, 'icm_alpha': 0.5816918079975781, 'use_gpu': True}. Best is trial 271 with value: 0.01470518135699275.\u001b[0m\n"
     ]
    },
    {
     "name": "stdout",
     "output_type": "stream",
     "text": [
      "EvaluatorHoldout: Processed 40109 (100.0%) in 32.42 sec. Users per second: 1237\n"
     ]
    },
    {
     "name": "stderr",
     "output_type": "stream",
     "text": [
      "\u001b[32m[I 2023-01-10 16:28:48,354]\u001b[0m Trial 281 finished with value: 0.014604326226904872 and parameters: {'iterations': 255, 'factors': 67, 'regularization': 0.05392325607203354, 'urm_alpha': 3.906982250011563, 'icm_alpha': 0.6334727647170356, 'use_gpu': True}. Best is trial 271 with value: 0.01470518135699275.\u001b[0m\n"
     ]
    },
    {
     "name": "stdout",
     "output_type": "stream",
     "text": [
      "EvaluatorHoldout: Processed 40109 (100.0%) in 32.84 sec. Users per second: 1221\n"
     ]
    },
    {
     "name": "stderr",
     "output_type": "stream",
     "text": [
      "\u001b[32m[I 2023-01-10 16:30:03,212]\u001b[0m Trial 282 finished with value: 0.014572614031526127 and parameters: {'iterations': 264, 'factors': 71, 'regularization': 0.03967022411182808, 'urm_alpha': 3.9474823238144796, 'icm_alpha': 0.5641443851704623, 'use_gpu': True}. Best is trial 271 with value: 0.01470518135699275.\u001b[0m\n"
     ]
    },
    {
     "name": "stdout",
     "output_type": "stream",
     "text": [
      "EvaluatorHoldout: Processed 40109 (100.0%) in 33.46 sec. Users per second: 1199\n"
     ]
    },
    {
     "name": "stderr",
     "output_type": "stream",
     "text": [
      "\u001b[32m[I 2023-01-10 16:31:24,473]\u001b[0m Trial 283 finished with value: 0.014535394027465827 and parameters: {'iterations': 283, 'factors': 98, 'regularization': 0.04381780215886575, 'urm_alpha': 3.8856898845815793, 'icm_alpha': 0.549743579846199, 'use_gpu': True}. Best is trial 271 with value: 0.01470518135699275.\u001b[0m\n"
     ]
    },
    {
     "name": "stdout",
     "output_type": "stream",
     "text": [
      "EvaluatorHoldout: Processed 40109 (100.0%) in 32.71 sec. Users per second: 1226\n"
     ]
    },
    {
     "name": "stderr",
     "output_type": "stream",
     "text": [
      "\u001b[32m[I 2023-01-10 16:32:38,394]\u001b[0m Trial 284 finished with value: 0.0145604675671495 and parameters: {'iterations': 259, 'factors': 91, 'regularization': 0.04260353385930804, 'urm_alpha': 3.9499686168157866, 'icm_alpha': 0.5836053030166458, 'use_gpu': True}. Best is trial 271 with value: 0.01470518135699275.\u001b[0m\n"
     ]
    },
    {
     "name": "stdout",
     "output_type": "stream",
     "text": [
      "EvaluatorHoldout: Processed 40109 (100.0%) in 32.60 sec. Users per second: 1230\n"
     ]
    },
    {
     "name": "stderr",
     "output_type": "stream",
     "text": [
      "\u001b[32m[I 2023-01-10 16:33:38,612]\u001b[0m Trial 285 finished with value: 0.014578781748307425 and parameters: {'iterations': 173, 'factors': 74, 'regularization': 0.02846015325059932, 'urm_alpha': 3.8404802345374303, 'icm_alpha': 0.49210950179335733, 'use_gpu': True}. Best is trial 271 with value: 0.01470518135699275.\u001b[0m\n"
     ]
    },
    {
     "name": "stdout",
     "output_type": "stream",
     "text": [
      "EvaluatorHoldout: Processed 40109 (100.0%) in 32.55 sec. Users per second: 1232\n"
     ]
    },
    {
     "name": "stderr",
     "output_type": "stream",
     "text": [
      "\u001b[32m[I 2023-01-10 16:34:53,773]\u001b[0m Trial 286 finished with value: 0.01453128023754333 and parameters: {'iterations': 268, 'factors': 71, 'regularization': 0.05127341579934181, 'urm_alpha': 3.921788056076693, 'icm_alpha': 0.604725970129298, 'use_gpu': True}. Best is trial 271 with value: 0.01470518135699275.\u001b[0m\n"
     ]
    },
    {
     "name": "stdout",
     "output_type": "stream",
     "text": [
      "EvaluatorHoldout: Processed 40109 (100.0%) in 32.74 sec. Users per second: 1225\n"
     ]
    },
    {
     "name": "stderr",
     "output_type": "stream",
     "text": [
      "\u001b[32m[I 2023-01-10 16:35:50,341]\u001b[0m Trial 287 finished with value: 0.01466992821545428 and parameters: {'iterations': 149, 'factors': 81, 'regularization': 0.024640962959772805, 'urm_alpha': 3.999144269179687, 'icm_alpha': 0.5254161642021171, 'use_gpu': True}. Best is trial 271 with value: 0.01470518135699275.\u001b[0m\n"
     ]
    },
    {
     "name": "stdout",
     "output_type": "stream",
     "text": [
      "EvaluatorHoldout: Processed 40109 (100.0%) in 32.59 sec. Users per second: 1231\n"
     ]
    },
    {
     "name": "stderr",
     "output_type": "stream",
     "text": [
      "\u001b[32m[I 2023-01-10 16:36:46,726]\u001b[0m Trial 288 finished with value: 0.014592887160266207 and parameters: {'iterations': 149, 'factors': 82, 'regularization': 0.026122832064107836, 'urm_alpha': 3.967306075540408, 'icm_alpha': 0.5565349025693578, 'use_gpu': True}. Best is trial 271 with value: 0.01470518135699275.\u001b[0m\n"
     ]
    },
    {
     "name": "stdout",
     "output_type": "stream",
     "text": [
      "EvaluatorHoldout: Processed 40109 (100.0%) in 32.63 sec. Users per second: 1229\n"
     ]
    },
    {
     "name": "stderr",
     "output_type": "stream",
     "text": [
      "\u001b[32m[I 2023-01-10 16:37:42,846]\u001b[0m Trial 289 finished with value: 0.014621573869934762 and parameters: {'iterations': 147, 'factors': 93, 'regularization': 0.02281006247185107, 'urm_alpha': 3.999994463238614, 'icm_alpha': 0.5382199547568743, 'use_gpu': True}. Best is trial 271 with value: 0.01470518135699275.\u001b[0m\n"
     ]
    },
    {
     "name": "stdout",
     "output_type": "stream",
     "text": [
      "EvaluatorHoldout: Processed 40109 (100.0%) in 32.99 sec. Users per second: 1216\n"
     ]
    },
    {
     "name": "stderr",
     "output_type": "stream",
     "text": [
      "\u001b[32m[I 2023-01-10 16:38:39,035]\u001b[0m Trial 290 finished with value: 0.014568241027327658 and parameters: {'iterations': 145, 'factors': 90, 'regularization': 0.021674836012395542, 'urm_alpha': 3.968671405071438, 'icm_alpha': 0.5303354573796357, 'use_gpu': True}. Best is trial 271 with value: 0.01470518135699275.\u001b[0m\n"
     ]
    },
    {
     "name": "stdout",
     "output_type": "stream",
     "text": [
      "EvaluatorHoldout: Processed 40109 (100.0%) in 32.58 sec. Users per second: 1231\n"
     ]
    },
    {
     "name": "stderr",
     "output_type": "stream",
     "text": [
      "\u001b[32m[I 2023-01-10 16:39:37,011]\u001b[0m Trial 291 finished with value: 0.014590043718169689 and parameters: {'iterations': 159, 'factors': 80, 'regularization': 0.0673576619486804, 'urm_alpha': 3.931829572190475, 'icm_alpha': 0.5097556716308502, 'use_gpu': True}. Best is trial 271 with value: 0.01470518135699275.\u001b[0m\n"
     ]
    },
    {
     "name": "stdout",
     "output_type": "stream",
     "text": [
      "EvaluatorHoldout: Processed 40109 (100.0%) in 32.61 sec. Users per second: 1230\n"
     ]
    },
    {
     "name": "stderr",
     "output_type": "stream",
     "text": [
      "\u001b[32m[I 2023-01-10 16:40:34,077]\u001b[0m Trial 292 finished with value: 0.014638485128026277 and parameters: {'iterations': 153, 'factors': 85, 'regularization': 0.02460429276367624, 'urm_alpha': 3.9991954341432474, 'icm_alpha': 0.6473755816626734, 'use_gpu': True}. Best is trial 271 with value: 0.01470518135699275.\u001b[0m\n"
     ]
    },
    {
     "name": "stdout",
     "output_type": "stream",
     "text": [
      "EvaluatorHoldout: Processed 40109 (100.0%) in 32.78 sec. Users per second: 1223\n"
     ]
    },
    {
     "name": "stderr",
     "output_type": "stream",
     "text": [
      "\u001b[32m[I 2023-01-10 16:41:28,938]\u001b[0m Trial 293 finished with value: 0.014590212900006356 and parameters: {'iterations': 138, 'factors': 88, 'regularization': 0.024433377426928336, 'urm_alpha': 3.9713776717904796, 'icm_alpha': 0.6809066424142921, 'use_gpu': True}. Best is trial 271 with value: 0.01470518135699275.\u001b[0m\n"
     ]
    },
    {
     "name": "stdout",
     "output_type": "stream",
     "text": [
      "EvaluatorHoldout: Processed 40109 (100.0%) in 32.61 sec. Users per second: 1230\n"
     ]
    },
    {
     "name": "stderr",
     "output_type": "stream",
     "text": [
      "\u001b[32m[I 2023-01-10 16:42:26,344]\u001b[0m Trial 294 finished with value: 0.014555276356056872 and parameters: {'iterations': 155, 'factors': 85, 'regularization': 0.02605391217780182, 'urm_alpha': 3.999263890450687, 'icm_alpha': 0.6476456394819593, 'use_gpu': True}. Best is trial 271 with value: 0.01470518135699275.\u001b[0m\n"
     ]
    },
    {
     "name": "stdout",
     "output_type": "stream",
     "text": [
      "EvaluatorHoldout: Processed 40109 (100.0%) in 32.84 sec. Users per second: 1221\n"
     ]
    },
    {
     "name": "stderr",
     "output_type": "stream",
     "text": [
      "\u001b[32m[I 2023-01-10 16:43:23,292]\u001b[0m Trial 295 finished with value: 0.014090602117167375 and parameters: {'iterations': 151, 'factors': 96, 'regularization': 0.023697739221590703, 'urm_alpha': 2.409178969606475, 'icm_alpha': 0.6571342133731637, 'use_gpu': True}. Best is trial 271 with value: 0.01470518135699275.\u001b[0m\n"
     ]
    },
    {
     "name": "stdout",
     "output_type": "stream",
     "text": [
      "EvaluatorHoldout: Processed 40109 (100.0%) in 32.70 sec. Users per second: 1227\n"
     ]
    },
    {
     "name": "stderr",
     "output_type": "stream",
     "text": [
      "\u001b[32m[I 2023-01-10 16:44:19,458]\u001b[0m Trial 296 finished with value: 0.014525761545819487 and parameters: {'iterations': 147, 'factors': 83, 'regularization': 0.021768193575014784, 'urm_alpha': 3.9529691588550437, 'icm_alpha': 0.7196288458772276, 'use_gpu': True}. Best is trial 271 with value: 0.01470518135699275.\u001b[0m\n"
     ]
    },
    {
     "name": "stdout",
     "output_type": "stream",
     "text": [
      "EvaluatorHoldout: Processed 40109 (100.0%) in 32.73 sec. Users per second: 1225\n"
     ]
    },
    {
     "name": "stderr",
     "output_type": "stream",
     "text": [
      "\u001b[32m[I 2023-01-10 16:45:16,818]\u001b[0m Trial 297 finished with value: 0.014713745321776026 and parameters: {'iterations': 154, 'factors': 87, 'regularization': 0.027737993520896242, 'urm_alpha': 3.9693090150756634, 'icm_alpha': 0.6816896641474052, 'use_gpu': True}. Best is trial 297 with value: 0.014713745321776026.\u001b[0m\n"
     ]
    },
    {
     "name": "stdout",
     "output_type": "stream",
     "text": [
      "EvaluatorHoldout: Processed 40109 (100.0%) in 32.85 sec. Users per second: 1221\n"
     ]
    },
    {
     "name": "stderr",
     "output_type": "stream",
     "text": [
      "\u001b[32m[I 2023-01-10 16:46:14,421]\u001b[0m Trial 298 finished with value: 0.014570386965360746 and parameters: {'iterations': 155, 'factors': 89, 'regularization': 0.026383829142751367, 'urm_alpha': 3.545108411494073, 'icm_alpha': 0.7020802475368743, 'use_gpu': True}. Best is trial 297 with value: 0.014713745321776026.\u001b[0m\n"
     ]
    },
    {
     "name": "stdout",
     "output_type": "stream",
     "text": [
      "EvaluatorHoldout: Processed 40109 (100.0%) in 32.91 sec. Users per second: 1219\n"
     ]
    },
    {
     "name": "stderr",
     "output_type": "stream",
     "text": [
      "\u001b[32m[I 2023-01-10 16:47:12,884]\u001b[0m Trial 299 finished with value: 0.014527853068642061 and parameters: {'iterations': 160, 'factors': 91, 'regularization': 0.019673807951272104, 'urm_alpha': 3.921573212942264, 'icm_alpha': 0.6678765116766749, 'use_gpu': True}. Best is trial 297 with value: 0.014713745321776026.\u001b[0m\n"
     ]
    },
    {
     "name": "stdout",
     "output_type": "stream",
     "text": [
      "EvaluatorHoldout: Processed 40109 (100.0%) in 33.91 sec. Users per second: 1183\n"
     ]
    },
    {
     "name": "stderr",
     "output_type": "stream",
     "text": [
      "\u001b[32m[I 2023-01-10 16:48:12,579]\u001b[0m Trial 300 finished with value: 0.014568041175099534 and parameters: {'iterations': 152, 'factors': 100, 'regularization': 0.048858313899779626, 'urm_alpha': 3.9991474580736224, 'icm_alpha': 0.6810592785193187, 'use_gpu': True}. Best is trial 297 with value: 0.014713745321776026.\u001b[0m\n"
     ]
    },
    {
     "name": "stdout",
     "output_type": "stream",
     "text": [
      "EvaluatorHoldout: Processed 40109 (100.0%) in 34.01 sec. Users per second: 1179\n"
     ]
    },
    {
     "name": "stderr",
     "output_type": "stream",
     "text": [
      "\u001b[32m[I 2023-01-10 16:49:12,949]\u001b[0m Trial 301 finished with value: 0.014483092105757985 and parameters: {'iterations': 165, 'factors': 87, 'regularization': 0.026954112208255068, 'urm_alpha': 3.395239368369678, 'icm_alpha': 0.6177057759206666, 'use_gpu': True}. Best is trial 297 with value: 0.014713745321776026.\u001b[0m\n"
     ]
    },
    {
     "name": "stdout",
     "output_type": "stream",
     "text": [
      "EvaluatorHoldout: Processed 40109 (100.0%) in 33.32 sec. Users per second: 1204\n"
     ]
    },
    {
     "name": "stderr",
     "output_type": "stream",
     "text": [
      "\u001b[32m[I 2023-01-10 16:50:08,852]\u001b[0m Trial 302 finished with value: 0.014505692226777377 and parameters: {'iterations': 141, 'factors': 95, 'regularization': 0.024393501536656117, 'urm_alpha': 3.905461055959696, 'icm_alpha': 0.6928165145619426, 'use_gpu': True}. Best is trial 297 with value: 0.014713745321776026.\u001b[0m\n"
     ]
    },
    {
     "name": "stdout",
     "output_type": "stream",
     "text": [
      "EvaluatorHoldout: Processed 40109 (100.0%) in 33.11 sec. Users per second: 1211\n"
     ]
    },
    {
     "name": "stderr",
     "output_type": "stream",
     "text": [
      "\u001b[32m[I 2023-01-10 16:51:06,016]\u001b[0m Trial 303 finished with value: 0.014615216194600027 and parameters: {'iterations': 150, 'factors': 85, 'regularization': 0.040932260501022555, 'urm_alpha': 3.9524357650608373, 'icm_alpha': 0.7355037864955776, 'use_gpu': True}. Best is trial 297 with value: 0.014713745321776026.\u001b[0m\n"
     ]
    },
    {
     "name": "stdout",
     "output_type": "stream",
     "text": [
      "EvaluatorHoldout: Processed 40109 (100.0%) in 32.99 sec. Users per second: 1216\n"
     ]
    },
    {
     "name": "stderr",
     "output_type": "stream",
     "text": [
      "\u001b[32m[I 2023-01-10 16:52:05,794]\u001b[0m Trial 304 finished with value: 0.014590869840003563 and parameters: {'iterations': 168, 'factors': 68, 'regularization': 0.017966461048367084, 'urm_alpha': 3.963461621459899, 'icm_alpha': 0.6455095677308282, 'use_gpu': True}. Best is trial 297 with value: 0.014713745321776026.\u001b[0m\n"
     ]
    },
    {
     "name": "stdout",
     "output_type": "stream",
     "text": [
      "EvaluatorHoldout: Processed 40109 (100.0%) in 32.76 sec. Users per second: 1224\n"
     ]
    },
    {
     "name": "stderr",
     "output_type": "stream",
     "text": [
      "\u001b[32m[I 2023-01-10 16:53:03,475]\u001b[0m Trial 305 finished with value: 0.014585025646383636 and parameters: {'iterations': 156, 'factors': 92, 'regularization': 0.020564688560332885, 'urm_alpha': 3.9149085835551247, 'icm_alpha': 0.6767120785270654, 'use_gpu': True}. Best is trial 297 with value: 0.014713745321776026.\u001b[0m\n"
     ]
    },
    {
     "name": "stdout",
     "output_type": "stream",
     "text": [
      "EvaluatorHoldout: Processed 40109 (100.0%) in 32.83 sec. Users per second: 1222\n"
     ]
    },
    {
     "name": "stderr",
     "output_type": "stream",
     "text": [
      "\u001b[32m[I 2023-01-10 16:54:21,953]\u001b[0m Trial 306 finished with value: 0.014645406742816407 and parameters: {'iterations': 287, 'factors': 88, 'regularization': 0.04635790002078757, 'urm_alpha': 3.8880522610613784, 'icm_alpha': 0.5109988801862841, 'use_gpu': True}. Best is trial 297 with value: 0.014713745321776026.\u001b[0m\n"
     ]
    },
    {
     "name": "stdout",
     "output_type": "stream",
     "text": [
      "EvaluatorHoldout: Processed 40109 (100.0%) in 32.77 sec. Users per second: 1224\n"
     ]
    },
    {
     "name": "stderr",
     "output_type": "stream",
     "text": [
      "\u001b[32m[I 2023-01-10 16:55:40,314]\u001b[0m Trial 307 finished with value: 0.014539694807839267 and parameters: {'iterations': 287, 'factors': 93, 'regularization': 0.047628420863047694, 'urm_alpha': 3.8899290201294536, 'icm_alpha': 0.4599733577967995, 'use_gpu': True}. Best is trial 297 with value: 0.014713745321776026.\u001b[0m\n"
     ]
    },
    {
     "name": "stdout",
     "output_type": "stream",
     "text": [
      "EvaluatorHoldout: Processed 40109 (100.0%) in 32.49 sec. Users per second: 1234\n"
     ]
    },
    {
     "name": "stderr",
     "output_type": "stream",
     "text": [
      "\u001b[32m[I 2023-01-10 16:56:55,070]\u001b[0m Trial 308 finished with value: 0.014536081637854466 and parameters: {'iterations': 291, 'factors': 62, 'regularization': 0.04628349471899469, 'urm_alpha': 3.882561371943582, 'icm_alpha': 0.5179496282547758, 'use_gpu': True}. Best is trial 297 with value: 0.014713745321776026.\u001b[0m\n"
     ]
    },
    {
     "name": "stdout",
     "output_type": "stream",
     "text": [
      "EvaluatorHoldout: Processed 40109 (100.0%) in 32.77 sec. Users per second: 1224\n"
     ]
    },
    {
     "name": "stderr",
     "output_type": "stream",
     "text": [
      "\u001b[32m[I 2023-01-10 16:58:13,527]\u001b[0m Trial 309 finished with value: 0.014504792891751087 and parameters: {'iterations': 287, 'factors': 89, 'regularization': 0.04285775644163145, 'urm_alpha': 3.9353812291686836, 'icm_alpha': 0.4977779586118698, 'use_gpu': True}. Best is trial 297 with value: 0.014713745321776026.\u001b[0m\n"
     ]
    },
    {
     "name": "stdout",
     "output_type": "stream",
     "text": [
      "EvaluatorHoldout: Processed 40109 (100.0%) in 33.44 sec. Users per second: 1199\n"
     ]
    },
    {
     "name": "stderr",
     "output_type": "stream",
     "text": [
      "\u001b[32m[I 2023-01-10 16:59:36,800]\u001b[0m Trial 310 finished with value: 0.014506908159392803 and parameters: {'iterations': 295, 'factors': 97, 'regularization': 0.04910043918386989, 'urm_alpha': 3.89097466968749, 'icm_alpha': 0.4840154639639602, 'use_gpu': True}. Best is trial 297 with value: 0.014713745321776026.\u001b[0m\n"
     ]
    },
    {
     "name": "stdout",
     "output_type": "stream",
     "text": [
      "EvaluatorHoldout: Processed 40109 (100.0%) in 33.10 sec. Users per second: 1212\n"
     ]
    },
    {
     "name": "stderr",
     "output_type": "stream",
     "text": [
      "\u001b[32m[I 2023-01-10 17:00:54,588]\u001b[0m Trial 311 finished with value: 0.014291706884454325 and parameters: {'iterations': 281, 'factors': 72, 'regularization': 0.04413043394494464, 'urm_alpha': 2.7225467026334416, 'icm_alpha': 0.5050488836514062, 'use_gpu': True}. Best is trial 297 with value: 0.014713745321776026.\u001b[0m\n"
     ]
    },
    {
     "name": "stdout",
     "output_type": "stream",
     "text": [
      "EvaluatorHoldout: Processed 40109 (100.0%) in 33.00 sec. Users per second: 1215\n"
     ]
    },
    {
     "name": "stderr",
     "output_type": "stream",
     "text": [
      "\u001b[32m[I 2023-01-10 17:02:11,314]\u001b[0m Trial 312 finished with value: 0.014652507433117936 and parameters: {'iterations': 275, 'factors': 90, 'regularization': 0.057121579353281486, 'urm_alpha': 3.9361416602384103, 'icm_alpha': 0.523883236788101, 'use_gpu': True}. Best is trial 297 with value: 0.014713745321776026.\u001b[0m\n"
     ]
    },
    {
     "name": "stdout",
     "output_type": "stream",
     "text": [
      "EvaluatorHoldout: Processed 40109 (100.0%) in 32.88 sec. Users per second: 1220\n"
     ]
    },
    {
     "name": "stderr",
     "output_type": "stream",
     "text": [
      "\u001b[32m[I 2023-01-10 17:03:27,792]\u001b[0m Trial 313 finished with value: 0.01453199357148614 and parameters: {'iterations': 274, 'factors': 93, 'regularization': 0.05595678927790212, 'urm_alpha': 3.9342645343261986, 'icm_alpha': 0.5528183387271034, 'use_gpu': True}. Best is trial 297 with value: 0.014713745321776026.\u001b[0m\n"
     ]
    },
    {
     "name": "stdout",
     "output_type": "stream",
     "text": [
      "EvaluatorHoldout: Processed 40109 (100.0%) in 32.75 sec. Users per second: 1225\n"
     ]
    },
    {
     "name": "stderr",
     "output_type": "stream",
     "text": [
      "\u001b[32m[I 2023-01-10 17:04:44,917]\u001b[0m Trial 314 finished with value: 0.014587146850230047 and parameters: {'iterations': 279, 'factors': 90, 'regularization': 0.04025998768700706, 'urm_alpha': 3.96279057647946, 'icm_alpha': 0.5304546006447423, 'use_gpu': True}. Best is trial 297 with value: 0.014713745321776026.\u001b[0m\n"
     ]
    },
    {
     "name": "stdout",
     "output_type": "stream",
     "text": [
      "EvaluatorHoldout: Processed 40109 (100.0%) in 32.91 sec. Users per second: 1219\n"
     ]
    },
    {
     "name": "stderr",
     "output_type": "stream",
     "text": [
      "\u001b[32m[I 2023-01-10 17:06:01,114]\u001b[0m Trial 315 finished with value: 0.014538010904412603 and parameters: {'iterations': 272, 'factors': 88, 'regularization': 0.047158937887501744, 'urm_alpha': 3.9991059721084117, 'icm_alpha': 0.5159661336624887, 'use_gpu': True}. Best is trial 297 with value: 0.014713745321776026.\u001b[0m\n"
     ]
    },
    {
     "name": "stdout",
     "output_type": "stream",
     "text": [
      "EvaluatorHoldout: Processed 40109 (100.0%) in 32.62 sec. Users per second: 1230\n"
     ]
    },
    {
     "name": "stderr",
     "output_type": "stream",
     "text": [
      "\u001b[32m[I 2023-01-10 17:07:03,563]\u001b[0m Trial 316 finished with value: 0.014633655036058641 and parameters: {'iterations': 187, 'factors': 74, 'regularization': 0.0442382750433816, 'urm_alpha': 3.927936587920796, 'icm_alpha': 0.46015470246786033, 'use_gpu': True}. Best is trial 297 with value: 0.014713745321776026.\u001b[0m\n"
     ]
    },
    {
     "name": "stdout",
     "output_type": "stream",
     "text": [
      "EvaluatorHoldout: Processed 40109 (100.0%) in 32.09 sec. Users per second: 1250\n"
     ]
    },
    {
     "name": "stderr",
     "output_type": "stream",
     "text": [
      "\u001b[32m[I 2023-01-10 17:08:16,201]\u001b[0m Trial 317 finished with value: 0.014567583097963013 and parameters: {'iterations': 279, 'factors': 37, 'regularization': 0.028102713013133288, 'urm_alpha': 3.8882549884096713, 'icm_alpha': 0.48979638019041233, 'use_gpu': True}. Best is trial 297 with value: 0.014713745321776026.\u001b[0m\n"
     ]
    },
    {
     "name": "stdout",
     "output_type": "stream",
     "text": [
      "EvaluatorHoldout: Processed 40109 (100.0%) in 32.81 sec. Users per second: 1223\n"
     ]
    },
    {
     "name": "stderr",
     "output_type": "stream",
     "text": [
      "\u001b[32m[I 2023-01-10 17:09:32,006]\u001b[0m Trial 318 finished with value: 0.014670640560029587 and parameters: {'iterations': 270, 'factors': 94, 'regularization': 0.052223022645826365, 'urm_alpha': 3.959935281168927, 'icm_alpha': 0.52780814769632, 'use_gpu': True}. Best is trial 297 with value: 0.014713745321776026.\u001b[0m\n"
     ]
    },
    {
     "name": "stdout",
     "output_type": "stream",
     "text": [
      "EvaluatorHoldout: Processed 40109 (100.0%) in 33.06 sec. Users per second: 1213\n"
     ]
    },
    {
     "name": "stderr",
     "output_type": "stream",
     "text": [
      "\u001b[32m[I 2023-01-10 17:10:50,652]\u001b[0m Trial 319 finished with value: 0.014612513242683686 and parameters: {'iterations': 270, 'factors': 98, 'regularization': 0.052218847666239326, 'urm_alpha': 3.9628518199719363, 'icm_alpha': 0.5363584795401345, 'use_gpu': True}. Best is trial 297 with value: 0.014713745321776026.\u001b[0m\n"
     ]
    },
    {
     "name": "stdout",
     "output_type": "stream",
     "text": [
      "EvaluatorHoldout: Processed 40109 (100.0%) in 32.52 sec. Users per second: 1233\n"
     ]
    },
    {
     "name": "stderr",
     "output_type": "stream",
     "text": [
      "\u001b[32m[I 2023-01-10 17:12:07,001]\u001b[0m Trial 320 finished with value: 0.013945854688830289 and parameters: {'iterations': 275, 'factors': 95, 'regularization': 0.05168027339066705, 'urm_alpha': 2.1007980519621383, 'icm_alpha': 0.7709638156534223, 'use_gpu': True}. Best is trial 297 with value: 0.014713745321776026.\u001b[0m\n"
     ]
    },
    {
     "name": "stdout",
     "output_type": "stream",
     "text": [
      "EvaluatorHoldout: Processed 40109 (100.0%) in 33.26 sec. Users per second: 1206\n"
     ]
    },
    {
     "name": "stderr",
     "output_type": "stream",
     "text": [
      "\u001b[32m[I 2023-01-10 17:13:25,002]\u001b[0m Trial 321 finished with value: 0.014549458875358356 and parameters: {'iterations': 265, 'factors': 102, 'regularization': 0.05402876392383289, 'urm_alpha': 3.9628676027535596, 'icm_alpha': 0.5390853248151617, 'use_gpu': True}. Best is trial 297 with value: 0.014713745321776026.\u001b[0m\n"
     ]
    },
    {
     "name": "stdout",
     "output_type": "stream",
     "text": [
      "EvaluatorHoldout: Processed 40109 (100.0%) in 32.68 sec. Users per second: 1227\n"
     ]
    },
    {
     "name": "stderr",
     "output_type": "stream",
     "text": [
      "\u001b[32m[I 2023-01-10 17:14:40,458]\u001b[0m Trial 322 finished with value: 0.014598669023735878 and parameters: {'iterations': 269, 'factors': 67, 'regularization': 0.049792596452610714, 'urm_alpha': 3.9321052935439638, 'icm_alpha': 0.5209258839546491, 'use_gpu': True}. Best is trial 297 with value: 0.014713745321776026.\u001b[0m\n"
     ]
    },
    {
     "name": "stdout",
     "output_type": "stream",
     "text": [
      "EvaluatorHoldout: Processed 40109 (100.0%) in 32.86 sec. Users per second: 1221\n"
     ]
    },
    {
     "name": "stderr",
     "output_type": "stream",
     "text": [
      "\u001b[32m[I 2023-01-10 17:15:58,811]\u001b[0m Trial 323 finished with value: 0.014606030907048234 and parameters: {'iterations': 286, 'factors': 91, 'regularization': 0.04583732159111622, 'urm_alpha': 3.995641912054977, 'icm_alpha': 0.5072650259996223, 'use_gpu': True}. Best is trial 297 with value: 0.014713745321776026.\u001b[0m\n"
     ]
    },
    {
     "name": "stdout",
     "output_type": "stream",
     "text": [
      "EvaluatorHoldout: Processed 40109 (100.0%) in 32.64 sec. Users per second: 1229\n"
     ]
    },
    {
     "name": "stderr",
     "output_type": "stream",
     "text": [
      "\u001b[32m[I 2023-01-10 17:17:14,785]\u001b[0m Trial 324 finished with value: 0.014598898556987866 and parameters: {'iterations': 272, 'factors': 94, 'regularization': 0.03837545520060719, 'urm_alpha': 3.9998847683718903, 'icm_alpha': 0.4838629693531467, 'use_gpu': True}. Best is trial 297 with value: 0.014713745321776026.\u001b[0m\n"
     ]
    },
    {
     "name": "stdout",
     "output_type": "stream",
     "text": [
      "EvaluatorHoldout: Processed 40109 (100.0%) in 32.73 sec. Users per second: 1226\n"
     ]
    },
    {
     "name": "stderr",
     "output_type": "stream",
     "text": [
      "\u001b[32m[I 2023-01-10 17:18:29,202]\u001b[0m Trial 325 finished with value: 0.014595233939894862 and parameters: {'iterations': 262, 'factors': 71, 'regularization': 0.01635834698607685, 'urm_alpha': 3.915517720002344, 'icm_alpha': 0.5569524359608629, 'use_gpu': True}. Best is trial 297 with value: 0.014713745321776026.\u001b[0m\n"
     ]
    },
    {
     "name": "stdout",
     "output_type": "stream",
     "text": [
      "EvaluatorHoldout: Processed 40109 (100.0%) in 33.48 sec. Users per second: 1198\n"
     ]
    },
    {
     "name": "stderr",
     "output_type": "stream",
     "text": [
      "\u001b[32m[I 2023-01-10 17:19:49,489]\u001b[0m Trial 326 finished with value: 0.014457826628785891 and parameters: {'iterations': 277, 'factors': 99, 'regularization': 0.055861459705464626, 'urm_alpha': 3.9592787500377664, 'icm_alpha': 0.4303840573098911, 'use_gpu': True}. Best is trial 297 with value: 0.014713745321776026.\u001b[0m\n"
     ]
    },
    {
     "name": "stdout",
     "output_type": "stream",
     "text": [
      "EvaluatorHoldout: Processed 40109 (100.0%) in 32.83 sec. Users per second: 1222\n"
     ]
    },
    {
     "name": "stderr",
     "output_type": "stream",
     "text": [
      "\u001b[32m[I 2023-01-10 17:21:10,016]\u001b[0m Trial 327 finished with value: 0.014582439439828152 and parameters: {'iterations': 300, 'factors': 75, 'regularization': 0.0306282084442652, 'urm_alpha': 3.85026185293253, 'icm_alpha': 0.5732464587024674, 'use_gpu': True}. Best is trial 297 with value: 0.014713745321776026.\u001b[0m\n"
     ]
    },
    {
     "name": "stdout",
     "output_type": "stream",
     "text": [
      "EvaluatorHoldout: Processed 40109 (100.0%) in 33.36 sec. Users per second: 1202\n"
     ]
    },
    {
     "name": "stderr",
     "output_type": "stream",
     "text": [
      "\u001b[32m[I 2023-01-10 17:22:28,398]\u001b[0m Trial 328 finished with value: 0.014550701520895349 and parameters: {'iterations': 283, 'factors': 65, 'regularization': 0.05804216306682449, 'urm_alpha': 3.9352265646536346, 'icm_alpha': 0.8294444814523902, 'use_gpu': True}. Best is trial 297 with value: 0.014713745321776026.\u001b[0m\n"
     ]
    },
    {
     "name": "stdout",
     "output_type": "stream",
     "text": [
      "EvaluatorHoldout: Processed 40109 (100.0%) in 32.71 sec. Users per second: 1226\n"
     ]
    },
    {
     "name": "stderr",
     "output_type": "stream",
     "text": [
      "\u001b[32m[I 2023-01-10 17:23:24,121]\u001b[0m Trial 329 finished with value: 0.014539887734495065 and parameters: {'iterations': 144, 'factors': 81, 'regularization': 0.04176743417974813, 'urm_alpha': 3.9572446573757434, 'icm_alpha': 0.5179702773527343, 'use_gpu': True}. Best is trial 297 with value: 0.014713745321776026.\u001b[0m\n"
     ]
    },
    {
     "name": "stdout",
     "output_type": "stream",
     "text": [
      "EvaluatorHoldout: Processed 40109 (100.0%) in 32.52 sec. Users per second: 1233\n"
     ]
    },
    {
     "name": "stderr",
     "output_type": "stream",
     "text": [
      "\u001b[32m[I 2023-01-10 17:24:39,429]\u001b[0m Trial 330 finished with value: 0.014543653267069552 and parameters: {'iterations': 269, 'factors': 87, 'regularization': 0.05024016433592113, 'urm_alpha': 3.908133488469229, 'icm_alpha': 0.5276105208197531, 'use_gpu': True}. Best is trial 297 with value: 0.014713745321776026.\u001b[0m\n"
     ]
    },
    {
     "name": "stdout",
     "output_type": "stream",
     "text": [
      "EvaluatorHoldout: Processed 40109 (100.0%) in 32.16 sec. Users per second: 1247\n"
     ]
    },
    {
     "name": "stderr",
     "output_type": "stream",
     "text": [
      "\u001b[32m[I 2023-01-10 17:25:52,943]\u001b[0m Trial 331 finished with value: 0.014545367840887738 and parameters: {'iterations': 260, 'factors': 70, 'regularization': 0.054264528942324294, 'urm_alpha': 3.86079146203807, 'icm_alpha': 0.32780141151246617, 'use_gpu': True}. Best is trial 297 with value: 0.014713745321776026.\u001b[0m\n"
     ]
    },
    {
     "name": "stdout",
     "output_type": "stream",
     "text": [
      "EvaluatorHoldout: Processed 40109 (100.0%) in 32.83 sec. Users per second: 1222\n"
     ]
    },
    {
     "name": "stderr",
     "output_type": "stream",
     "text": [
      "\u001b[32m[I 2023-01-10 17:27:12,384]\u001b[0m Trial 332 finished with value: 0.014561436157898414 and parameters: {'iterations': 276, 'factors': 120, 'regularization': 0.045811912751779094, 'urm_alpha': 3.9657477481370345, 'icm_alpha': 0.793181491926427, 'use_gpu': True}. Best is trial 297 with value: 0.014713745321776026.\u001b[0m\n"
     ]
    },
    {
     "name": "stdout",
     "output_type": "stream",
     "text": [
      "EvaluatorHoldout: Processed 40109 (100.0%) in 32.35 sec. Users per second: 1240\n"
     ]
    },
    {
     "name": "stderr",
     "output_type": "stream",
     "text": [
      "\u001b[32m[I 2023-01-10 17:28:06,861]\u001b[0m Trial 333 finished with value: 0.014685287155992112 and parameters: {'iterations': 138, 'factors': 94, 'regularization': 0.04754708691470565, 'urm_alpha': 3.999442102838033, 'icm_alpha': 0.5026200200299115, 'use_gpu': True}. Best is trial 297 with value: 0.014713745321776026.\u001b[0m\n"
     ]
    },
    {
     "name": "stdout",
     "output_type": "stream",
     "text": [
      "EvaluatorHoldout: Processed 40109 (100.0%) in 32.72 sec. Users per second: 1226\n"
     ]
    },
    {
     "name": "stderr",
     "output_type": "stream",
     "text": [
      "\u001b[32m[I 2023-01-10 17:29:01,011]\u001b[0m Trial 334 finished with value: 0.014636554872100636 and parameters: {'iterations': 134, 'factors': 95, 'regularization': 0.047401365806735436, 'urm_alpha': 3.994362598261611, 'icm_alpha': 0.4757129781422242, 'use_gpu': True}. Best is trial 297 with value: 0.014713745321776026.\u001b[0m\n"
     ]
    },
    {
     "name": "stdout",
     "output_type": "stream",
     "text": [
      "EvaluatorHoldout: Processed 40109 (100.0%) in 32.54 sec. Users per second: 1233\n"
     ]
    },
    {
     "name": "stderr",
     "output_type": "stream",
     "text": [
      "\u001b[32m[I 2023-01-10 17:29:56,257]\u001b[0m Trial 335 finished with value: 0.014532879055367912 and parameters: {'iterations': 142, 'factors': 93, 'regularization': 0.04832386437180901, 'urm_alpha': 3.5972901175925185, 'icm_alpha': 0.49859710391590595, 'use_gpu': True}. Best is trial 297 with value: 0.014713745321776026.\u001b[0m\n"
     ]
    },
    {
     "name": "stdout",
     "output_type": "stream",
     "text": [
      "EvaluatorHoldout: Processed 40109 (100.0%) in 33.15 sec. Users per second: 1210\n"
     ]
    },
    {
     "name": "stderr",
     "output_type": "stream",
     "text": [
      "\u001b[32m[I 2023-01-10 17:30:51,328]\u001b[0m Trial 336 finished with value: 0.014628509335869358 and parameters: {'iterations': 137, 'factors': 96, 'regularization': 0.05072411986461941, 'urm_alpha': 3.963372402839044, 'icm_alpha': 0.5467180742940693, 'use_gpu': True}. Best is trial 297 with value: 0.014713745321776026.\u001b[0m\n"
     ]
    },
    {
     "name": "stdout",
     "output_type": "stream",
     "text": [
      "EvaluatorHoldout: Processed 40109 (100.0%) in 32.98 sec. Users per second: 1216\n"
     ]
    },
    {
     "name": "stderr",
     "output_type": "stream",
     "text": [
      "\u001b[32m[I 2023-01-10 17:31:46,845]\u001b[0m Trial 337 finished with value: 0.01461475910683078 and parameters: {'iterations': 141, 'factors': 91, 'regularization': 0.04541327807220762, 'urm_alpha': 3.9277204859929387, 'icm_alpha': 0.45381799636564835, 'use_gpu': True}. Best is trial 297 with value: 0.014713745321776026.\u001b[0m\n"
     ]
    },
    {
     "name": "stdout",
     "output_type": "stream",
     "text": [
      "EvaluatorHoldout: Processed 40109 (100.0%) in 33.10 sec. Users per second: 1212\n"
     ]
    },
    {
     "name": "stderr",
     "output_type": "stream",
     "text": [
      "\u001b[32m[I 2023-01-10 17:33:07,421]\u001b[0m Trial 338 finished with value: 0.014556616948972926 and parameters: {'iterations': 281, 'factors': 99, 'regularization': 0.04405942024128648, 'urm_alpha': 3.9965781868042365, 'icm_alpha': 0.5868872845708953, 'use_gpu': True}. Best is trial 297 with value: 0.014713745321776026.\u001b[0m\n"
     ]
    },
    {
     "name": "stdout",
     "output_type": "stream",
     "text": [
      "EvaluatorHoldout: Processed 40109 (100.0%) in 34.29 sec. Users per second: 1170\n"
     ]
    },
    {
     "name": "stderr",
     "output_type": "stream",
     "text": [
      "\u001b[32m[I 2023-01-10 17:34:26,690]\u001b[0m Trial 339 finished with value: 0.014515183228876082 and parameters: {'iterations': 266, 'factors': 105, 'regularization': 0.05185953022604937, 'urm_alpha': 3.9362180871614796, 'icm_alpha': 0.5048215910120585, 'use_gpu': True}. Best is trial 297 with value: 0.014713745321776026.\u001b[0m\n"
     ]
    },
    {
     "name": "stdout",
     "output_type": "stream",
     "text": [
      "EvaluatorHoldout: Processed 40109 (100.0%) in 35.24 sec. Users per second: 1138\n"
     ]
    },
    {
     "name": "stderr",
     "output_type": "stream",
     "text": [
      "\u001b[32m[I 2023-01-10 17:35:45,585]\u001b[0m Trial 340 finished with value: 0.01459219658177511 and parameters: {'iterations': 274, 'factors': 83, 'regularization': 0.042900041460726235, 'urm_alpha': 3.9603750851251593, 'icm_alpha': 0.5227219586144172, 'use_gpu': True}. Best is trial 297 with value: 0.014713745321776026.\u001b[0m\n"
     ]
    },
    {
     "name": "stdout",
     "output_type": "stream",
     "text": [
      "EvaluatorHoldout: Processed 40109 (100.0%) in 33.25 sec. Users per second: 1206\n"
     ]
    },
    {
     "name": "stderr",
     "output_type": "stream",
     "text": [
      "\u001b[32m[I 2023-01-10 17:36:42,402]\u001b[0m Trial 341 finished with value: 0.014568978106089649 and parameters: {'iterations': 147, 'factors': 86, 'regularization': 0.04048811045415018, 'urm_alpha': 3.9040488718795174, 'icm_alpha': 0.4810274610462621, 'use_gpu': True}. Best is trial 297 with value: 0.014713745321776026.\u001b[0m\n"
     ]
    },
    {
     "name": "stdout",
     "output_type": "stream",
     "text": [
      "EvaluatorHoldout: Processed 40109 (100.0%) in 32.54 sec. Users per second: 1233\n"
     ]
    },
    {
     "name": "stderr",
     "output_type": "stream",
     "text": [
      "\u001b[32m[I 2023-01-10 17:37:42,864]\u001b[0m Trial 342 finished with value: 0.014556322117468148 and parameters: {'iterations': 175, 'factors': 91, 'regularization': 0.030459055070915234, 'urm_alpha': 3.9975192498005927, 'icm_alpha': 0.5572819924719494, 'use_gpu': True}. Best is trial 297 with value: 0.014713745321776026.\u001b[0m\n"
     ]
    },
    {
     "name": "stdout",
     "output_type": "stream",
     "text": [
      "EvaluatorHoldout: Processed 40109 (100.0%) in 33.12 sec. Users per second: 1211\n"
     ]
    },
    {
     "name": "stderr",
     "output_type": "stream",
     "text": [
      "\u001b[32m[I 2023-01-10 17:38:42,020]\u001b[0m Trial 343 finished with value: 0.014375594362505226 and parameters: {'iterations': 163, 'factors': 76, 'regularization': 0.04670840479724131, 'urm_alpha': 3.0568895450556552, 'icm_alpha': 0.7226403481154893, 'use_gpu': True}. Best is trial 297 with value: 0.014713745321776026.\u001b[0m\n"
     ]
    },
    {
     "name": "stdout",
     "output_type": "stream",
     "text": [
      "EvaluatorHoldout: Processed 40109 (100.0%) in 33.00 sec. Users per second: 1216\n"
     ]
    },
    {
     "name": "stderr",
     "output_type": "stream",
     "text": [
      "\u001b[32m[I 2023-01-10 17:39:43,727]\u001b[0m Trial 344 finished with value: 0.01455786652008215 and parameters: {'iterations': 180, 'factors': 96, 'regularization': 0.04945553727448847, 'urm_alpha': 3.474730876279815, 'icm_alpha': 0.7499367073170861, 'use_gpu': True}. Best is trial 297 with value: 0.014713745321776026.\u001b[0m\n"
     ]
    },
    {
     "name": "stdout",
     "output_type": "stream",
     "text": [
      "EvaluatorHoldout: Processed 40109 (100.0%) in 32.72 sec. Users per second: 1226\n"
     ]
    },
    {
     "name": "stderr",
     "output_type": "stream",
     "text": [
      "\u001b[32m[I 2023-01-10 17:40:38,691]\u001b[0m Trial 345 finished with value: 0.014593939847249684 and parameters: {'iterations': 139, 'factors': 81, 'regularization': 0.03729221752911861, 'urm_alpha': 3.9994566809196663, 'icm_alpha': 0.5348995104928005, 'use_gpu': True}. Best is trial 297 with value: 0.014713745321776026.\u001b[0m\n"
     ]
    },
    {
     "name": "stdout",
     "output_type": "stream",
     "text": [
      "EvaluatorHoldout: Processed 40109 (100.0%) in 32.84 sec. Users per second: 1221\n"
     ]
    },
    {
     "name": "stderr",
     "output_type": "stream",
     "text": [
      "\u001b[32m[I 2023-01-10 17:41:54,696]\u001b[0m Trial 346 finished with value: 0.014584302418766097 and parameters: {'iterations': 271, 'factors': 89, 'regularization': 0.02792465143414711, 'urm_alpha': 3.931379595231377, 'icm_alpha': 0.5133345697332159, 'use_gpu': True}. Best is trial 297 with value: 0.014713745321776026.\u001b[0m\n"
     ]
    },
    {
     "name": "stdout",
     "output_type": "stream",
     "text": [
      "EvaluatorHoldout: Processed 40109 (100.0%) in 32.72 sec. Users per second: 1226\n"
     ]
    },
    {
     "name": "stderr",
     "output_type": "stream",
     "text": [
      "\u001b[32m[I 2023-01-10 17:43:09,592]\u001b[0m Trial 347 finished with value: 0.01454129758313376 and parameters: {'iterations': 265, 'factors': 93, 'regularization': 0.05371124804964678, 'urm_alpha': 3.8919533982251457, 'icm_alpha': 0.21858608518857572, 'use_gpu': True}. Best is trial 297 with value: 0.014713745321776026.\u001b[0m\n"
     ]
    },
    {
     "name": "stdout",
     "output_type": "stream",
     "text": [
      "EvaluatorHoldout: Processed 40109 (100.0%) in 32.75 sec. Users per second: 1225\n"
     ]
    },
    {
     "name": "stderr",
     "output_type": "stream",
     "text": [
      "\u001b[32m[I 2023-01-10 17:44:23,233]\u001b[0m Trial 348 finished with value: 0.014594793671372652 and parameters: {'iterations': 257, 'factors': 86, 'regularization': 0.04816751249583348, 'urm_alpha': 3.9585784601434026, 'icm_alpha': 0.49908289457990973, 'use_gpu': True}. Best is trial 297 with value: 0.014713745321776026.\u001b[0m\n"
     ]
    },
    {
     "name": "stdout",
     "output_type": "stream",
     "text": [
      "EvaluatorHoldout: Processed 40109 (100.0%) in 33.21 sec. Users per second: 1208\n"
     ]
    },
    {
     "name": "stderr",
     "output_type": "stream",
     "text": [
      "\u001b[32m[I 2023-01-10 17:45:44,221]\u001b[0m Trial 349 finished with value: 0.014509088725287195 and parameters: {'iterations': 283, 'factors': 101, 'regularization': 0.04218345920822395, 'urm_alpha': 3.9206869603583123, 'icm_alpha': 0.5797914780971476, 'use_gpu': True}. Best is trial 297 with value: 0.014713745321776026.\u001b[0m\n"
     ]
    },
    {
     "name": "stdout",
     "output_type": "stream",
     "text": [
      "EvaluatorHoldout: Processed 40109 (100.0%) in 32.82 sec. Users per second: 1222\n"
     ]
    },
    {
     "name": "stderr",
     "output_type": "stream",
     "text": [
      "\u001b[32m[I 2023-01-10 17:47:01,424]\u001b[0m Trial 350 finished with value: 0.014565527192369167 and parameters: {'iterations': 279, 'factors': 78, 'regularization': 0.04445483597487305, 'urm_alpha': 3.9592486198495918, 'icm_alpha': 0.4660267728305069, 'use_gpu': True}. Best is trial 297 with value: 0.014713745321776026.\u001b[0m\n"
     ]
    },
    {
     "name": "stdout",
     "output_type": "stream",
     "text": [
      "EvaluatorHoldout: Processed 40109 (100.0%) in 32.74 sec. Users per second: 1225\n"
     ]
    },
    {
     "name": "stderr",
     "output_type": "stream",
     "text": [
      "\u001b[32m[I 2023-01-10 17:48:16,024]\u001b[0m Trial 351 finished with value: 0.01408011976886813 and parameters: {'iterations': 263, 'factors': 73, 'regularization': 0.02221300751211561, 'urm_alpha': 2.277221214831857, 'icm_alpha': 0.9873790192857756, 'use_gpu': True}. Best is trial 297 with value: 0.014713745321776026.\u001b[0m\n"
     ]
    },
    {
     "name": "stdout",
     "output_type": "stream",
     "text": [
      "EvaluatorHoldout: Processed 40109 (100.0%) in 32.83 sec. Users per second: 1222\n"
     ]
    },
    {
     "name": "stderr",
     "output_type": "stream",
     "text": [
      "\u001b[32m[I 2023-01-10 17:49:35,474]\u001b[0m Trial 352 finished with value: 0.01458491681596239 and parameters: {'iterations': 293, 'factors': 83, 'regularization': 0.02951592215599996, 'urm_alpha': 3.865900080747225, 'icm_alpha': 0.40419750214116207, 'use_gpu': True}. Best is trial 297 with value: 0.014713745321776026.\u001b[0m\n"
     ]
    },
    {
     "name": "stdout",
     "output_type": "stream",
     "text": [
      "EvaluatorHoldout: Processed 40109 (100.0%) in 33.39 sec. Users per second: 1201\n"
     ]
    },
    {
     "name": "stderr",
     "output_type": "stream",
     "text": [
      "\u001b[32m[I 2023-01-10 17:50:32,528]\u001b[0m Trial 353 finished with value: 0.014579408017913159 and parameters: {'iterations': 148, 'factors': 88, 'regularization': 0.03955183320570034, 'urm_alpha': 3.904279809786859, 'icm_alpha': 0.5429098256166974, 'use_gpu': True}. Best is trial 297 with value: 0.014713745321776026.\u001b[0m\n"
     ]
    },
    {
     "name": "stdout",
     "output_type": "stream",
     "text": [
      "EvaluatorHoldout: Processed 40109 (100.0%) in 33.01 sec. Users per second: 1215\n"
     ]
    },
    {
     "name": "stderr",
     "output_type": "stream",
     "text": [
      "\u001b[32m[I 2023-01-10 17:51:32,650]\u001b[0m Trial 354 finished with value: 0.014607975014118377 and parameters: {'iterations': 170, 'factors': 92, 'regularization': 0.03247131631651037, 'urm_alpha': 3.9651810418322775, 'icm_alpha': 0.18710506578961172, 'use_gpu': True}. Best is trial 297 with value: 0.014713745321776026.\u001b[0m\n"
     ]
    },
    {
     "name": "stdout",
     "output_type": "stream",
     "text": [
      "EvaluatorHoldout: Processed 40109 (100.0%) in 33.60 sec. Users per second: 1194\n"
     ]
    },
    {
     "name": "stderr",
     "output_type": "stream",
     "text": [
      "\u001b[32m[I 2023-01-10 17:52:30,873]\u001b[0m Trial 355 finished with value: 0.014435785500384624 and parameters: {'iterations': 145, 'factors': 97, 'regularization': 0.026987088755710712, 'urm_alpha': 3.931367236102746, 'icm_alpha': 0.2480613420288501, 'use_gpu': True}. Best is trial 297 with value: 0.014713745321776026.\u001b[0m\n"
     ]
    },
    {
     "name": "stdout",
     "output_type": "stream",
     "text": [
      "EvaluatorHoldout: Processed 40109 (100.0%) in 32.80 sec. Users per second: 1223\n"
     ]
    },
    {
     "name": "stderr",
     "output_type": "stream",
     "text": [
      "\u001b[32m[I 2023-01-10 17:53:38,727]\u001b[0m Trial 356 finished with value: 0.014437501063570168 and parameters: {'iterations': 220, 'factors': 76, 'regularization': 0.0188691781913725, 'urm_alpha': 3.310515796527555, 'icm_alpha': 0.5528384776184115, 'use_gpu': True}. Best is trial 297 with value: 0.014713745321776026.\u001b[0m\n"
     ]
    },
    {
     "name": "stdout",
     "output_type": "stream",
     "text": [
      "EvaluatorHoldout: Processed 40109 (100.0%) in 32.75 sec. Users per second: 1225\n"
     ]
    },
    {
     "name": "stderr",
     "output_type": "stream",
     "text": [
      "\u001b[32m[I 2023-01-10 17:54:55,250]\u001b[0m Trial 357 finished with value: 0.014573601420256944 and parameters: {'iterations': 275, 'factors': 80, 'regularization': 0.051770894951697975, 'urm_alpha': 3.9973540364498343, 'icm_alpha': 0.6000215764078908, 'use_gpu': True}. Best is trial 297 with value: 0.014713745321776026.\u001b[0m\n"
     ]
    },
    {
     "name": "stdout",
     "output_type": "stream",
     "text": [
      "EvaluatorHoldout: Processed 40109 (100.0%) in 33.06 sec. Users per second: 1213\n"
     ]
    },
    {
     "name": "stderr",
     "output_type": "stream",
     "text": [
      "\u001b[32m[I 2023-01-10 17:55:50,901]\u001b[0m Trial 358 finished with value: 0.014401026053211493 and parameters: {'iterations': 133, 'factors': 110, 'regularization': 0.057274510262323, 'urm_alpha': 3.8390333039589835, 'icm_alpha': 0.4408558411302259, 'use_gpu': True}. Best is trial 297 with value: 0.014713745321776026.\u001b[0m\n"
     ]
    },
    {
     "name": "stdout",
     "output_type": "stream",
     "text": [
      "EvaluatorHoldout: Processed 40109 (100.0%) in 32.69 sec. Users per second: 1227\n"
     ]
    },
    {
     "name": "stderr",
     "output_type": "stream",
     "text": [
      "\u001b[32m[I 2023-01-10 17:57:04,066]\u001b[0m Trial 359 finished with value: 0.014531184268899093 and parameters: {'iterations': 254, 'factors': 84, 'regularization': 0.04583864372901273, 'urm_alpha': 3.8864825247041854, 'icm_alpha': 0.6999773637676194, 'use_gpu': True}. Best is trial 297 with value: 0.014713745321776026.\u001b[0m\n"
     ]
    },
    {
     "name": "stdout",
     "output_type": "stream",
     "text": [
      "EvaluatorHoldout: Processed 40109 (100.0%) in 32.85 sec. Users per second: 1221\n"
     ]
    },
    {
     "name": "stderr",
     "output_type": "stream",
     "text": [
      "\u001b[32m[I 2023-01-10 17:58:19,754]\u001b[0m Trial 360 finished with value: 0.014601368018182346 and parameters: {'iterations': 269, 'factors': 89, 'regularization': 0.025415283360692435, 'urm_alpha': 3.9613439454931165, 'icm_alpha': 0.526732112319275, 'use_gpu': True}. Best is trial 297 with value: 0.014713745321776026.\u001b[0m\n"
     ]
    },
    {
     "name": "stdout",
     "output_type": "stream",
     "text": [
      "EvaluatorHoldout: Processed 40109 (100.0%) in 33.31 sec. Users per second: 1204\n"
     ]
    },
    {
     "name": "stderr",
     "output_type": "stream",
     "text": [
      "\u001b[32m[I 2023-01-10 17:59:39,041]\u001b[0m Trial 361 finished with value: 0.014684534247350686 and parameters: {'iterations': 289, 'factors': 93, 'regularization': 0.048618385732523445, 'urm_alpha': 3.9326443286341055, 'icm_alpha': 0.20709178521950625, 'use_gpu': True}. Best is trial 297 with value: 0.014713745321776026.\u001b[0m\n"
     ]
    },
    {
     "name": "stdout",
     "output_type": "stream",
     "text": [
      "EvaluatorHoldout: Processed 40109 (100.0%) in 33.15 sec. Users per second: 1210\n"
     ]
    },
    {
     "name": "stderr",
     "output_type": "stream",
     "text": [
      "\u001b[32m[I 2023-01-10 18:00:53,599]\u001b[0m Trial 362 finished with value: 0.014592763489332996 and parameters: {'iterations': 260, 'factors': 94, 'regularization': 0.04903098425725455, 'urm_alpha': 3.9364644107404057, 'icm_alpha': 0.5004032204285909, 'use_gpu': True}. Best is trial 297 with value: 0.014713745321776026.\u001b[0m\n"
     ]
    },
    {
     "name": "stdout",
     "output_type": "stream",
     "text": [
      "EvaluatorHoldout: Processed 40109 (100.0%) in 32.72 sec. Users per second: 1226\n"
     ]
    },
    {
     "name": "stderr",
     "output_type": "stream",
     "text": [
      "\u001b[32m[I 2023-01-10 18:02:12,339]\u001b[0m Trial 363 finished with value: 0.01464204784027036 and parameters: {'iterations': 289, 'factors': 92, 'regularization': 0.012858266500784818, 'urm_alpha': 3.99741383746423, 'icm_alpha': 0.19701237662549503, 'use_gpu': True}. Best is trial 297 with value: 0.014713745321776026.\u001b[0m\n"
     ]
    },
    {
     "name": "stdout",
     "output_type": "stream",
     "text": [
      "EvaluatorHoldout: Processed 40109 (100.0%) in 33.18 sec. Users per second: 1209\n"
     ]
    },
    {
     "name": "stderr",
     "output_type": "stream",
     "text": [
      "\u001b[32m[I 2023-01-10 18:03:34,437]\u001b[0m Trial 364 finished with value: 0.014559853169953334 and parameters: {'iterations': 289, 'factors': 98, 'regularization': 0.011902574344118353, 'urm_alpha': 3.996801634949874, 'icm_alpha': 0.1908225671692037, 'use_gpu': True}. Best is trial 297 with value: 0.014713745321776026.\u001b[0m\n"
     ]
    },
    {
     "name": "stdout",
     "output_type": "stream",
     "text": [
      "EvaluatorHoldout: Processed 40109 (100.0%) in 34.07 sec. Users per second: 1177\n"
     ]
    },
    {
     "name": "stderr",
     "output_type": "stream",
     "text": [
      "\u001b[32m[I 2023-01-10 18:05:03,385]\u001b[0m Trial 365 finished with value: 0.01448024866366154 and parameters: {'iterations': 297, 'factors': 150, 'regularization': 0.05236590504656108, 'urm_alpha': 3.9668353211146474, 'icm_alpha': 0.1496041341365631, 'use_gpu': True}. Best is trial 297 with value: 0.014713745321776026.\u001b[0m\n"
     ]
    },
    {
     "name": "stdout",
     "output_type": "stream",
     "text": [
      "EvaluatorHoldout: Processed 40109 (100.0%) in 32.66 sec. Users per second: 1228\n"
     ]
    },
    {
     "name": "stderr",
     "output_type": "stream",
     "text": [
      "\u001b[32m[I 2023-01-10 18:06:21,369]\u001b[0m Trial 366 finished with value: 0.014641054515334755 and parameters: {'iterations': 285, 'factors': 93, 'regularization': 0.014892191920587161, 'urm_alpha': 3.966537123280359, 'icm_alpha': 0.17353606486396123, 'use_gpu': True}. Best is trial 297 with value: 0.014713745321776026.\u001b[0m\n"
     ]
    },
    {
     "name": "stdout",
     "output_type": "stream",
     "text": [
      "EvaluatorHoldout: Processed 40109 (100.0%) in 34.39 sec. Users per second: 1166\n"
     ]
    },
    {
     "name": "stderr",
     "output_type": "stream",
     "text": [
      "\u001b[32m[I 2023-01-10 18:07:42,030]\u001b[0m Trial 367 finished with value: 0.014539800670158101 and parameters: {'iterations': 291, 'factors': 91, 'regularization': 0.009771478527427581, 'urm_alpha': 3.9999516915979796, 'icm_alpha': 0.20489488584888313, 'use_gpu': True}. Best is trial 297 with value: 0.014713745321776026.\u001b[0m\n"
     ]
    },
    {
     "name": "stdout",
     "output_type": "stream",
     "text": [
      "EvaluatorHoldout: Processed 40109 (100.0%) in 33.27 sec. Users per second: 1206\n"
     ]
    },
    {
     "name": "stderr",
     "output_type": "stream",
     "text": [
      "\u001b[32m[I 2023-01-10 18:09:02,102]\u001b[0m Trial 368 finished with value: 0.01457264767001995 and parameters: {'iterations': 294, 'factors': 96, 'regularization': 0.04828632277703434, 'urm_alpha': 3.9263343049109753, 'icm_alpha': 0.2049116031475167, 'use_gpu': True}. Best is trial 297 with value: 0.014713745321776026.\u001b[0m\n"
     ]
    },
    {
     "name": "stdout",
     "output_type": "stream",
     "text": [
      "EvaluatorHoldout: Processed 40109 (100.0%) in 32.80 sec. Users per second: 1223\n"
     ]
    },
    {
     "name": "stderr",
     "output_type": "stream",
     "text": [
      "\u001b[32m[I 2023-01-10 18:09:58,886]\u001b[0m Trial 369 finished with value: 0.014555779944096982 and parameters: {'iterations': 150, 'factors': 87, 'regularization': 0.05018695338377163, 'urm_alpha': 3.962004171178985, 'icm_alpha': 0.2298181772422079, 'use_gpu': True}. Best is trial 297 with value: 0.014713745321776026.\u001b[0m\n"
     ]
    },
    {
     "name": "stdout",
     "output_type": "stream",
     "text": [
      "EvaluatorHoldout: Processed 40109 (100.0%) in 33.07 sec. Users per second: 1213\n"
     ]
    },
    {
     "name": "stderr",
     "output_type": "stream",
     "text": [
      "\u001b[32m[I 2023-01-10 18:11:21,931]\u001b[0m Trial 370 finished with value: 0.014517826818744504 and parameters: {'iterations': 296, 'factors': 100, 'regularization': 0.06306821805627286, 'urm_alpha': 3.925467603934195, 'icm_alpha': 0.21654142792451964, 'use_gpu': True}. Best is trial 297 with value: 0.014713745321776026.\u001b[0m\n"
     ]
    },
    {
     "name": "stdout",
     "output_type": "stream",
     "text": [
      "EvaluatorHoldout: Processed 40109 (100.0%) in 32.52 sec. Users per second: 1233\n"
     ]
    },
    {
     "name": "stderr",
     "output_type": "stream",
     "text": [
      "\u001b[32m[I 2023-01-10 18:12:39,960]\u001b[0m Trial 371 finished with value: 0.014603306189047692 and parameters: {'iterations': 286, 'factors': 93, 'regularization': 0.04685219652226275, 'urm_alpha': 3.9995133837711982, 'icm_alpha': 0.2359398549585191, 'use_gpu': True}. Best is trial 297 with value: 0.014713745321776026.\u001b[0m\n"
     ]
    },
    {
     "name": "stdout",
     "output_type": "stream",
     "text": [
      "EvaluatorHoldout: Processed 40109 (100.0%) in 32.68 sec. Users per second: 1227\n"
     ]
    },
    {
     "name": "stderr",
     "output_type": "stream",
     "text": [
      "\u001b[32m[I 2023-01-10 18:13:58,918]\u001b[0m Trial 372 finished with value: 0.014598537437862914 and parameters: {'iterations': 291, 'factors': 90, 'regularization': 0.013046535709887182, 'urm_alpha': 3.9404247592145305, 'icm_alpha': 0.17924668772518826, 'use_gpu': True}. Best is trial 297 with value: 0.014713745321776026.\u001b[0m\n"
     ]
    },
    {
     "name": "stdout",
     "output_type": "stream",
     "text": [
      "EvaluatorHoldout: Processed 40109 (100.0%) in 33.05 sec. Users per second: 1214\n"
     ]
    },
    {
     "name": "stderr",
     "output_type": "stream",
     "text": [
      "\u001b[32m[I 2023-01-10 18:14:57,664]\u001b[0m Trial 373 finished with value: 0.014579987787248118 and parameters: {'iterations': 161, 'factors': 87, 'regularization': 0.020572355685912598, 'urm_alpha': 3.894706634398822, 'icm_alpha': 0.16722701703684986, 'use_gpu': True}. Best is trial 297 with value: 0.014713745321776026.\u001b[0m\n"
     ]
    },
    {
     "name": "stdout",
     "output_type": "stream",
     "text": [
      "EvaluatorHoldout: Processed 40109 (100.0%) in 33.09 sec. Users per second: 1212\n"
     ]
    },
    {
     "name": "stderr",
     "output_type": "stream",
     "text": [
      "\u001b[32m[I 2023-01-10 18:15:52,494]\u001b[0m Trial 374 finished with value: 0.014567892769979702 and parameters: {'iterations': 136, 'factors': 95, 'regularization': 0.022709038388830757, 'urm_alpha': 3.9635867049798055, 'icm_alpha': 0.1987799847276515, 'use_gpu': True}. Best is trial 297 with value: 0.014713745321776026.\u001b[0m\n"
     ]
    },
    {
     "name": "stdout",
     "output_type": "stream",
     "text": [
      "EvaluatorHoldout: Processed 40109 (100.0%) in 32.68 sec. Users per second: 1227\n"
     ]
    },
    {
     "name": "stderr",
     "output_type": "stream",
     "text": [
      "\u001b[32m[I 2023-01-10 18:16:49,635]\u001b[0m Trial 375 finished with value: 0.014600577513577198 and parameters: {'iterations': 153, 'factors': 90, 'regularization': 0.01599172487301445, 'urm_alpha': 3.999160863074522, 'icm_alpha': 0.7372975603404246, 'use_gpu': True}. Best is trial 297 with value: 0.014713745321776026.\u001b[0m\n"
     ]
    },
    {
     "name": "stdout",
     "output_type": "stream",
     "text": [
      "EvaluatorHoldout: Processed 40109 (100.0%) in 34.19 sec. Users per second: 1173\n"
     ]
    },
    {
     "name": "stderr",
     "output_type": "stream",
     "text": [
      "\u001b[32m[I 2023-01-10 18:18:09,671]\u001b[0m Trial 376 finished with value: 0.01456099490000873 and parameters: {'iterations': 288, 'factors': 85, 'regularization': 0.005562030407333493, 'urm_alpha': 3.909963869761815, 'icm_alpha': 0.1287390787791747, 'use_gpu': True}. Best is trial 297 with value: 0.014713745321776026.\u001b[0m\n"
     ]
    },
    {
     "name": "stdout",
     "output_type": "stream",
     "text": [
      "EvaluatorHoldout: Processed 40109 (100.0%) in 34.00 sec. Users per second: 1180\n"
     ]
    },
    {
     "name": "stderr",
     "output_type": "stream",
     "text": [
      "\u001b[32m[I 2023-01-10 18:19:06,606]\u001b[0m Trial 377 finished with value: 0.014573509409082629 and parameters: {'iterations': 143, 'factors': 96, 'regularization': 0.0035837307929317153, 'urm_alpha': 3.9640195165100547, 'icm_alpha': 0.21509222524592253, 'use_gpu': True}. Best is trial 297 with value: 0.014713745321776026.\u001b[0m\n"
     ]
    },
    {
     "name": "stdout",
     "output_type": "stream",
     "text": [
      "EvaluatorHoldout: Processed 40109 (100.0%) in 33.26 sec. Users per second: 1206\n"
     ]
    },
    {
     "name": "stderr",
     "output_type": "stream",
     "text": [
      "\u001b[32m[I 2023-01-10 18:20:15,776]\u001b[0m Trial 378 finished with value: 0.014554103955610012 and parameters: {'iterations': 247, 'factors': 51, 'regularization': 0.05080832856234565, 'urm_alpha': 3.9306320272894193, 'icm_alpha': 0.37697579935184944, 'use_gpu': True}. Best is trial 297 with value: 0.014713745321776026.\u001b[0m\n"
     ]
    },
    {
     "name": "stdout",
     "output_type": "stream",
     "text": [
      "EvaluatorHoldout: Processed 40109 (100.0%) in 33.42 sec. Users per second: 1200\n"
     ]
    },
    {
     "name": "stderr",
     "output_type": "stream",
     "text": [
      "\u001b[32m[I 2023-01-10 18:21:31,501]\u001b[0m Trial 379 finished with value: 0.014627048040122544 and parameters: {'iterations': 266, 'factors': 92, 'regularization': 0.054961613131471874, 'urm_alpha': 3.9985296257036267, 'icm_alpha': 0.4778190799521083, 'use_gpu': True}. Best is trial 297 with value: 0.014713745321776026.\u001b[0m\n"
     ]
    },
    {
     "name": "stdout",
     "output_type": "stream",
     "text": [
      "EvaluatorHoldout: Processed 40109 (100.0%) in 33.38 sec. Users per second: 1202\n"
     ]
    },
    {
     "name": "stderr",
     "output_type": "stream",
     "text": [
      "\u001b[32m[I 2023-01-10 18:22:47,986]\u001b[0m Trial 380 finished with value: 0.014613233502198694 and parameters: {'iterations': 271, 'factors': 89, 'regularization': 0.04454591001667265, 'urm_alpha': 3.893035130343457, 'icm_alpha': 0.7110948573002402, 'use_gpu': True}. Best is trial 297 with value: 0.014713745321776026.\u001b[0m\n"
     ]
    },
    {
     "name": "stdout",
     "output_type": "stream",
     "text": [
      "EvaluatorHoldout: Processed 40109 (100.0%) in 32.89 sec. Users per second: 1219\n"
     ]
    },
    {
     "name": "stderr",
     "output_type": "stream",
     "text": [
      "\u001b[32m[I 2023-01-10 18:23:47,529]\u001b[0m Trial 381 finished with value: 0.01458815204757525 and parameters: {'iterations': 167, 'factors': 83, 'regularization': 0.047459636120677835, 'urm_alpha': 3.9459297533395845, 'icm_alpha': 0.5183214389637787, 'use_gpu': True}. Best is trial 297 with value: 0.014713745321776026.\u001b[0m\n"
     ]
    },
    {
     "name": "stdout",
     "output_type": "stream",
     "text": [
      "EvaluatorHoldout: Processed 40109 (100.0%) in 33.98 sec. Users per second: 1180\n"
     ]
    },
    {
     "name": "stderr",
     "output_type": "stream",
     "text": [
      "\u001b[32m[I 2023-01-10 18:25:07,962]\u001b[0m Trial 382 finished with value: 0.014577897253793047 and parameters: {'iterations': 275, 'factors': 100, 'regularization': 0.025098128112294015, 'urm_alpha': 3.9605582606025824, 'icm_alpha': 0.25139651033875904, 'use_gpu': True}. Best is trial 297 with value: 0.014713745321776026.\u001b[0m\n"
     ]
    },
    {
     "name": "stdout",
     "output_type": "stream",
     "text": [
      "EvaluatorHoldout: Processed 40109 (100.0%) in 33.49 sec. Users per second: 1198\n"
     ]
    },
    {
     "name": "stderr",
     "output_type": "stream",
     "text": [
      "\u001b[32m[I 2023-01-10 18:26:23,887]\u001b[0m Trial 383 finished with value: 0.01454786896184104 and parameters: {'iterations': 251, 'factors': 104, 'regularization': 0.006988196418879621, 'urm_alpha': 3.9106079312465027, 'icm_alpha': 0.2339307223976548, 'use_gpu': True}. Best is trial 297 with value: 0.014713745321776026.\u001b[0m\n"
     ]
    },
    {
     "name": "stdout",
     "output_type": "stream",
     "text": [
      "EvaluatorHoldout: Processed 40109 (100.0%) in 33.14 sec. Users per second: 1210\n"
     ]
    },
    {
     "name": "stderr",
     "output_type": "stream",
     "text": [
      "\u001b[32m[I 2023-01-10 18:27:21,954]\u001b[0m Trial 384 finished with value: 0.014631736652542568 and parameters: {'iterations': 156, 'factors': 87, 'regularization': 0.019097173114902524, 'urm_alpha': 3.96447670779761, 'icm_alpha': 0.19591859346797666, 'use_gpu': True}. Best is trial 297 with value: 0.014713745321776026.\u001b[0m\n"
     ]
    },
    {
     "name": "stdout",
     "output_type": "stream",
     "text": [
      "EvaluatorHoldout: Processed 40109 (100.0%) in 33.67 sec. Users per second: 1191\n"
     ]
    },
    {
     "name": "stderr",
     "output_type": "stream",
     "text": [
      "\u001b[32m[I 2023-01-10 18:28:19,406]\u001b[0m Trial 385 finished with value: 0.014501637798902926 and parameters: {'iterations': 140, 'factors': 97, 'regularization': 0.010356942900231708, 'urm_alpha': 3.874170084523292, 'icm_alpha': 0.48811545837500253, 'use_gpu': True}. Best is trial 297 with value: 0.014713745321776026.\u001b[0m\n"
     ]
    },
    {
     "name": "stdout",
     "output_type": "stream",
     "text": [
      "EvaluatorHoldout: Processed 40109 (100.0%) in 33.18 sec. Users per second: 1209\n"
     ]
    },
    {
     "name": "stderr",
     "output_type": "stream",
     "text": [
      "\u001b[32m[I 2023-01-10 18:29:23,253]\u001b[0m Trial 386 finished with value: 0.014502766667181316 and parameters: {'iterations': 192, 'factors': 93, 'regularization': 0.022108725842972805, 'urm_alpha': 3.921082979944322, 'icm_alpha': 0.35630904248766704, 'use_gpu': True}. Best is trial 297 with value: 0.014713745321776026.\u001b[0m\n"
     ]
    },
    {
     "name": "stdout",
     "output_type": "stream",
     "text": [
      "EvaluatorHoldout: Processed 40109 (100.0%) in 33.04 sec. Users per second: 1214\n"
     ]
    },
    {
     "name": "stderr",
     "output_type": "stream",
     "text": [
      "\u001b[32m[I 2023-01-10 18:30:23,902]\u001b[0m Trial 387 finished with value: 0.014656565818462279 and parameters: {'iterations': 173, 'factors': 90, 'regularization': 0.06569469672039169, 'urm_alpha': 3.967541827095866, 'icm_alpha': 0.03438667589444472, 'use_gpu': True}. Best is trial 297 with value: 0.014713745321776026.\u001b[0m\n"
     ]
    },
    {
     "name": "stdout",
     "output_type": "stream",
     "text": [
      "EvaluatorHoldout: Processed 40109 (100.0%) in 32.86 sec. Users per second: 1221\n"
     ]
    },
    {
     "name": "stderr",
     "output_type": "stream",
     "text": [
      "\u001b[32m[I 2023-01-10 18:31:26,103]\u001b[0m Trial 388 finished with value: 0.014566683762936598 and parameters: {'iterations': 184, 'factors': 83, 'regularization': 0.06489826218578414, 'urm_alpha': 3.879720863384455, 'icm_alpha': 0.94180225972136, 'use_gpu': True}. Best is trial 297 with value: 0.014713745321776026.\u001b[0m\n"
     ]
    },
    {
     "name": "stdout",
     "output_type": "stream",
     "text": [
      "EvaluatorHoldout: Processed 40109 (100.0%) in 32.75 sec. Users per second: 1225\n"
     ]
    },
    {
     "name": "stderr",
     "output_type": "stream",
     "text": [
      "\u001b[32m[I 2023-01-10 18:32:25,873]\u001b[0m Trial 389 finished with value: 0.01462219915017312 and parameters: {'iterations': 169, 'factors': 86, 'regularization': 0.053426683577727896, 'urm_alpha': 3.934873650007069, 'icm_alpha': 0.018413603192507632, 'use_gpu': True}. Best is trial 297 with value: 0.014713745321776026.\u001b[0m\n"
     ]
    },
    {
     "name": "stdout",
     "output_type": "stream",
     "text": [
      "EvaluatorHoldout: Processed 40109 (100.0%) in 34.15 sec. Users per second: 1175\n"
     ]
    },
    {
     "name": "stderr",
     "output_type": "stream",
     "text": [
      "\u001b[32m[I 2023-01-10 18:33:32,275]\u001b[0m Trial 390 finished with value: 0.014506267049275056 and parameters: {'iterations': 174, 'factors': 129, 'regularization': 0.05879330434425757, 'urm_alpha': 3.9667125123425424, 'icm_alpha': 0.005931719668338855, 'use_gpu': True}. Best is trial 297 with value: 0.014713745321776026.\u001b[0m\n"
     ]
    },
    {
     "name": "stdout",
     "output_type": "stream",
     "text": [
      "EvaluatorHoldout: Processed 40109 (100.0%) in 32.95 sec. Users per second: 1217\n"
     ]
    },
    {
     "name": "stderr",
     "output_type": "stream",
     "text": [
      "\u001b[32m[I 2023-01-10 18:34:33,319]\u001b[0m Trial 391 finished with value: 0.014553548920461696 and parameters: {'iterations': 176, 'factors': 80, 'regularization': 0.07042211781198553, 'urm_alpha': 3.908809652424415, 'icm_alpha': 0.3442354150424011, 'use_gpu': True}. Best is trial 297 with value: 0.014713745321776026.\u001b[0m\n"
     ]
    },
    {
     "name": "stdout",
     "output_type": "stream",
     "text": [
      "EvaluatorHoldout: Processed 40109 (100.0%) in 33.06 sec. Users per second: 1213\n"
     ]
    },
    {
     "name": "stderr",
     "output_type": "stream",
     "text": [
      "\u001b[32m[I 2023-01-10 18:35:34,771]\u001b[0m Trial 392 finished with value: 0.014661488910971727 and parameters: {'iterations': 178, 'factors': 90, 'regularization': 0.04941209617916469, 'urm_alpha': 3.9992536560179315, 'icm_alpha': 0.3073446949759537, 'use_gpu': True}. Best is trial 297 with value: 0.014713745321776026.\u001b[0m\n"
     ]
    },
    {
     "name": "stdout",
     "output_type": "stream",
     "text": [
      "EvaluatorHoldout: Processed 40109 (100.0%) in 32.98 sec. Users per second: 1216\n"
     ]
    },
    {
     "name": "stderr",
     "output_type": "stream",
     "text": [
      "\u001b[32m[I 2023-01-10 18:36:36,317]\u001b[0m Trial 393 finished with value: 0.014563925406442205 and parameters: {'iterations': 179, 'factors': 89, 'regularization': 0.06066343379944732, 'urm_alpha': 3.9986639448913333, 'icm_alpha': 0.3014218177917661, 'use_gpu': True}. Best is trial 297 with value: 0.014713745321776026.\u001b[0m\n"
     ]
    },
    {
     "name": "stdout",
     "output_type": "stream",
     "text": [
      "EvaluatorHoldout: Processed 40109 (100.0%) in 33.11 sec. Users per second: 1211\n"
     ]
    },
    {
     "name": "stderr",
     "output_type": "stream",
     "text": [
      "\u001b[32m[I 2023-01-10 18:37:37,037]\u001b[0m Trial 394 finished with value: 0.014536244883486297 and parameters: {'iterations': 173, 'factors': 89, 'regularization': 0.048779787978571604, 'urm_alpha': 3.937289324380526, 'icm_alpha': 0.06822202251005999, 'use_gpu': True}. Best is trial 297 with value: 0.014713745321776026.\u001b[0m\n"
     ]
    },
    {
     "name": "stdout",
     "output_type": "stream",
     "text": [
      "EvaluatorHoldout: Processed 40109 (100.0%) in 32.77 sec. Users per second: 1224\n"
     ]
    },
    {
     "name": "stderr",
     "output_type": "stream",
     "text": [
      "\u001b[32m[I 2023-01-10 18:38:37,427]\u001b[0m Trial 395 finished with value: 0.014682605970159964 and parameters: {'iterations': 173, 'factors': 95, 'regularization': 0.07232373806032787, 'urm_alpha': 3.9609549689895975, 'icm_alpha': 0.10308475860519775, 'use_gpu': True}. Best is trial 297 with value: 0.014713745321776026.\u001b[0m\n"
     ]
    },
    {
     "name": "stdout",
     "output_type": "stream",
     "text": [
      "EvaluatorHoldout: Processed 40109 (100.0%) in 33.29 sec. Users per second: 1205\n"
     ]
    },
    {
     "name": "stderr",
     "output_type": "stream",
     "text": [
      "\u001b[32m[I 2023-01-10 18:39:41,564]\u001b[0m Trial 396 finished with value: 0.014192690988485144 and parameters: {'iterations': 182, 'factors': 98, 'regularization': 0.06866677468807851, 'urm_alpha': 2.9083333041040813, 'icm_alpha': 0.31274460682193583, 'use_gpu': True}. Best is trial 297 with value: 0.014713745321776026.\u001b[0m\n"
     ]
    },
    {
     "name": "stdout",
     "output_type": "stream",
     "text": [
      "EvaluatorHoldout: Processed 40109 (100.0%) in 33.23 sec. Users per second: 1207\n"
     ]
    },
    {
     "name": "stderr",
     "output_type": "stream",
     "text": [
      "\u001b[32m[I 2023-01-10 18:40:42,266]\u001b[0m Trial 397 finished with value: 0.014585521319483923 and parameters: {'iterations': 172, 'factors': 94, 'regularization': 0.07274985444489329, 'urm_alpha': 3.9999747606103098, 'icm_alpha': 0.1074409081071317, 'use_gpu': True}. Best is trial 297 with value: 0.014713745321776026.\u001b[0m\n"
     ]
    },
    {
     "name": "stdout",
     "output_type": "stream",
     "text": [
      "EvaluatorHoldout: Processed 40109 (100.0%) in 33.76 sec. Users per second: 1188\n"
     ]
    },
    {
     "name": "stderr",
     "output_type": "stream",
     "text": [
      "\u001b[32m[I 2023-01-10 18:41:43,963]\u001b[0m Trial 398 finished with value: 0.014469048034582108 and parameters: {'iterations': 164, 'factors': 101, 'regularization': 0.0714284500376742, 'urm_alpha': 3.8662667211648056, 'icm_alpha': 0.006090596410935095, 'use_gpu': True}. Best is trial 297 with value: 0.014713745321776026.\u001b[0m\n"
     ]
    },
    {
     "name": "stdout",
     "output_type": "stream",
     "text": [
      "EvaluatorHoldout: Processed 40109 (100.0%) in 33.30 sec. Users per second: 1205\n"
     ]
    },
    {
     "name": "stderr",
     "output_type": "stream",
     "text": [
      "\u001b[32m[I 2023-01-10 18:42:45,527]\u001b[0m Trial 399 finished with value: 0.014536465512431197 and parameters: {'iterations': 177, 'factors': 92, 'regularization': 0.06836928888194106, 'urm_alpha': 3.933662726418641, 'icm_alpha': 0.03818365196440604, 'use_gpu': True}. Best is trial 297 with value: 0.014713745321776026.\u001b[0m\n"
     ]
    },
    {
     "name": "stdout",
     "output_type": "stream",
     "text": [
      "EvaluatorHoldout: Processed 40109 (100.0%) in 32.98 sec. Users per second: 1216\n"
     ]
    },
    {
     "name": "stderr",
     "output_type": "stream",
     "text": [
      "\u001b[32m[I 2023-01-10 18:43:45,631]\u001b[0m Trial 400 finished with value: 0.014563566266052132 and parameters: {'iterations': 170, 'factors': 95, 'regularization': 0.05018694666592363, 'urm_alpha': 3.90367956995798, 'icm_alpha': 0.11557458404315873, 'use_gpu': True}. Best is trial 297 with value: 0.014713745321776026.\u001b[0m\n"
     ]
    },
    {
     "name": "stdout",
     "output_type": "stream",
     "text": [
      "EvaluatorHoldout: Processed 40109 (100.0%) in 32.87 sec. Users per second: 1220\n"
     ]
    },
    {
     "name": "stderr",
     "output_type": "stream",
     "text": [
      "\u001b[32m[I 2023-01-10 18:44:46,900]\u001b[0m Trial 401 finished with value: 0.014572765404748443 and parameters: {'iterations': 178, 'factors': 96, 'regularization': 0.07541233076983424, 'urm_alpha': 3.834580658010312, 'icm_alpha': 0.06434252261762671, 'use_gpu': True}. Best is trial 297 with value: 0.014713745321776026.\u001b[0m\n"
     ]
    },
    {
     "name": "stdout",
     "output_type": "stream",
     "text": [
      "EvaluatorHoldout: Processed 40109 (100.0%) in 33.21 sec. Users per second: 1208\n"
     ]
    },
    {
     "name": "stderr",
     "output_type": "stream",
     "text": [
      "\u001b[32m[I 2023-01-10 18:45:47,596]\u001b[0m Trial 402 finished with value: 0.0146181189987444 and parameters: {'iterations': 172, 'factors': 91, 'regularization': 0.05271250701140056, 'urm_alpha': 3.956882267841643, 'icm_alpha': 0.08483282532544331, 'use_gpu': True}. Best is trial 297 with value: 0.014713745321776026.\u001b[0m\n"
     ]
    },
    {
     "name": "stdout",
     "output_type": "stream",
     "text": [
      "EvaluatorHoldout: Processed 40109 (100.0%) in 33.20 sec. Users per second: 1208\n"
     ]
    },
    {
     "name": "stderr",
     "output_type": "stream",
     "text": [
      "\u001b[32m[I 2023-01-10 18:46:47,168]\u001b[0m Trial 403 finished with value: 0.014596720959195827 and parameters: {'iterations': 165, 'factors': 94, 'regularization': 0.0672389703514517, 'urm_alpha': 3.8830967551757447, 'icm_alpha': 0.03586361136244534, 'use_gpu': True}. Best is trial 297 with value: 0.014713745321776026.\u001b[0m\n"
     ]
    },
    {
     "name": "stdout",
     "output_type": "stream",
     "text": [
      "EvaluatorHoldout: Processed 40109 (100.0%) in 33.25 sec. Users per second: 1206\n"
     ]
    },
    {
     "name": "stderr",
     "output_type": "stream",
     "text": [
      "\u001b[32m[I 2023-01-10 18:47:48,517]\u001b[0m Trial 404 finished with value: 0.01460305884718126 and parameters: {'iterations': 176, 'factors': 90, 'regularization': 0.07104534928265156, 'urm_alpha': 3.9627747032691576, 'icm_alpha': 0.13066731996242395, 'use_gpu': True}. Best is trial 297 with value: 0.014713745321776026.\u001b[0m\n"
     ]
    },
    {
     "name": "stdout",
     "output_type": "stream",
     "text": [
      "EvaluatorHoldout: Processed 40109 (100.0%) in 32.84 sec. Users per second: 1221\n"
     ]
    },
    {
     "name": "stderr",
     "output_type": "stream",
     "text": [
      "\u001b[32m[I 2023-01-10 18:48:49,929]\u001b[0m Trial 405 finished with value: 0.014529492450532738 and parameters: {'iterations': 179, 'factors': 87, 'regularization': 0.07324776947015836, 'urm_alpha': 3.9278437798683354, 'icm_alpha': 0.5265426875102482, 'use_gpu': True}. Best is trial 297 with value: 0.014713745321776026.\u001b[0m\n"
     ]
    },
    {
     "name": "stdout",
     "output_type": "stream",
     "text": [
      "EvaluatorHoldout: Processed 40109 (100.0%) in 33.61 sec. Users per second: 1193\n"
     ]
    },
    {
     "name": "stderr",
     "output_type": "stream",
     "text": [
      "\u001b[32m[I 2023-01-10 18:49:50,680]\u001b[0m Trial 406 finished with value: 0.014515390996043886 and parameters: {'iterations': 160, 'factors': 98, 'regularization': 0.04667588301190013, 'urm_alpha': 3.9616327941302836, 'icm_alpha': 0.047610455990197496, 'use_gpu': True}. Best is trial 297 with value: 0.014713745321776026.\u001b[0m\n"
     ]
    },
    {
     "name": "stdout",
     "output_type": "stream",
     "text": [
      "EvaluatorHoldout: Processed 40109 (100.0%) in 32.94 sec. Users per second: 1218\n"
     ]
    },
    {
     "name": "stderr",
     "output_type": "stream",
     "text": [
      "\u001b[32m[I 2023-01-10 18:50:53,157]\u001b[0m Trial 407 finished with value: 0.01455499735443152 and parameters: {'iterations': 185, 'factors': 92, 'regularization': 0.05558762121809449, 'urm_alpha': 3.9997756459231284, 'icm_alpha': 0.7627931002185949, 'use_gpu': True}. Best is trial 297 with value: 0.014713745321776026.\u001b[0m\n"
     ]
    },
    {
     "name": "stdout",
     "output_type": "stream",
     "text": [
      "EvaluatorHoldout: Processed 40109 (100.0%) in 32.63 sec. Users per second: 1229\n"
     ]
    },
    {
     "name": "stderr",
     "output_type": "stream",
     "text": [
      "\u001b[32m[I 2023-01-10 18:51:52,022]\u001b[0m Trial 408 finished with value: 0.014624880336005126 and parameters: {'iterations': 164, 'factors': 87, 'regularization': 0.05100363643629854, 'urm_alpha': 3.9032965887273074, 'icm_alpha': 0.05134595937998717, 'use_gpu': True}. Best is trial 297 with value: 0.014713745321776026.\u001b[0m\n"
     ]
    },
    {
     "name": "stdout",
     "output_type": "stream",
     "text": [
      "EvaluatorHoldout: Processed 40109 (100.0%) in 33.11 sec. Users per second: 1211\n"
     ]
    },
    {
     "name": "stderr",
     "output_type": "stream",
     "text": [
      "\u001b[32m[I 2023-01-10 18:52:52,890]\u001b[0m Trial 409 finished with value: 0.014581610349891892 and parameters: {'iterations': 174, 'factors': 95, 'regularization': 0.06161891083622355, 'urm_alpha': 3.838806229231738, 'icm_alpha': 0.09624744089270015, 'use_gpu': True}. Best is trial 297 with value: 0.014713745321776026.\u001b[0m\n"
     ]
    },
    {
     "name": "stdout",
     "output_type": "stream",
     "text": [
      "EvaluatorHoldout: Processed 40109 (100.0%) in 33.46 sec. Users per second: 1199\n"
     ]
    },
    {
     "name": "stderr",
     "output_type": "stream",
     "text": [
      "\u001b[32m[I 2023-01-10 18:53:54,712]\u001b[0m Trial 410 finished with value: 0.014521810012161414 and parameters: {'iterations': 167, 'factors': 102, 'regularization': 0.04533317432823635, 'urm_alpha': 3.9363438495578893, 'icm_alpha': 0.7235449367421041, 'use_gpu': True}. Best is trial 297 with value: 0.014713745321776026.\u001b[0m\n"
     ]
    },
    {
     "name": "stdout",
     "output_type": "stream",
     "text": [
      "EvaluatorHoldout: Processed 40109 (100.0%) in 33.03 sec. Users per second: 1214\n"
     ]
    },
    {
     "name": "stderr",
     "output_type": "stream",
     "text": [
      "\u001b[32m[I 2023-01-10 18:54:50,968]\u001b[0m Trial 411 finished with value: 0.014147530321144889 and parameters: {'iterations': 145, 'factors': 90, 'regularization': 0.06543069228563997, 'urm_alpha': 2.586567748078147, 'icm_alpha': 0.1502255667235406, 'use_gpu': True}. Best is trial 297 with value: 0.014713745321776026.\u001b[0m\n"
     ]
    },
    {
     "name": "stdout",
     "output_type": "stream",
     "text": [
      "EvaluatorHoldout: Processed 40109 (100.0%) in 33.39 sec. Users per second: 1201\n"
     ]
    },
    {
     "name": "stderr",
     "output_type": "stream",
     "text": [
      "\u001b[32m[I 2023-01-10 18:55:56,233]\u001b[0m Trial 412 finished with value: 0.014491882635690925 and parameters: {'iterations': 188, 'factors': 98, 'regularization': 0.04341927592224227, 'urm_alpha': 3.875400420888385, 'icm_alpha': 0.509804101915145, 'use_gpu': True}. Best is trial 297 with value: 0.014713745321776026.\u001b[0m\n"
     ]
    },
    {
     "name": "stdout",
     "output_type": "stream",
     "text": [
      "EvaluatorHoldout: Processed 40109 (100.0%) in 32.01 sec. Users per second: 1253\n"
     ]
    },
    {
     "name": "stderr",
     "output_type": "stream",
     "text": [
      "\u001b[32m[I 2023-01-10 18:56:44,151]\u001b[0m Trial 413 finished with value: 0.01433572186426919 and parameters: {'iterations': 169, 'factors': 21, 'regularization': 0.04808452893794046, 'urm_alpha': 3.95981917716315, 'icm_alpha': 0.08831816132988336, 'use_gpu': True}. Best is trial 297 with value: 0.014713745321776026.\u001b[0m\n"
     ]
    },
    {
     "name": "stdout",
     "output_type": "stream",
     "text": [
      "EvaluatorHoldout: Processed 40109 (100.0%) in 33.04 sec. Users per second: 1214\n"
     ]
    },
    {
     "name": "stderr",
     "output_type": "stream",
     "text": [
      "\u001b[32m[I 2023-01-10 18:57:45,940]\u001b[0m Trial 414 finished with value: 0.014553498462720986 and parameters: {'iterations': 180, 'factors': 85, 'regularization': 0.04942650492477196, 'urm_alpha': 3.9057313234195514, 'icm_alpha': 0.027478560461508095, 'use_gpu': True}. Best is trial 297 with value: 0.014713745321776026.\u001b[0m\n"
     ]
    },
    {
     "name": "stdout",
     "output_type": "stream",
     "text": [
      "EvaluatorHoldout: Processed 40109 (100.0%) in 32.89 sec. Users per second: 1219\n"
     ]
    },
    {
     "name": "stderr",
     "output_type": "stream",
     "text": [
      "\u001b[32m[I 2023-01-10 18:59:01,681]\u001b[0m Trial 415 finished with value: 0.014544913721220932 and parameters: {'iterations': 269, 'factors': 93, 'regularization': 0.05634686178818915, 'urm_alpha': 3.967325816461916, 'icm_alpha': 0.5502496924958419, 'use_gpu': True}. Best is trial 297 with value: 0.014713745321776026.\u001b[0m\n"
     ]
    },
    {
     "name": "stdout",
     "output_type": "stream",
     "text": [
      "EvaluatorHoldout: Processed 40109 (100.0%) in 32.48 sec. Users per second: 1235\n"
     ]
    },
    {
     "name": "stderr",
     "output_type": "stream",
     "text": [
      "\u001b[32m[I 2023-01-10 18:59:58,157]\u001b[0m Trial 416 finished with value: 0.014592823840748352 and parameters: {'iterations': 150, 'factors': 89, 'regularization': 0.0466247312134161, 'urm_alpha': 3.9295614587381373, 'icm_alpha': 0.4647603524331483, 'use_gpu': True}. Best is trial 297 with value: 0.014713745321776026.\u001b[0m\n"
     ]
    },
    {
     "name": "stdout",
     "output_type": "stream",
     "text": [
      "EvaluatorHoldout: Processed 40109 (100.0%) in 32.01 sec. Users per second: 1253\n"
     ]
    },
    {
     "name": "stderr",
     "output_type": "stream",
     "text": [
      "\u001b[32m[I 2023-01-10 19:00:46,236]\u001b[0m Trial 417 finished with value: 0.014483115850577061 and parameters: {'iterations': 171, 'factors': 10, 'regularization': 0.051945847347291435, 'urm_alpha': 3.9708787343274348, 'icm_alpha': 0.28889179316382607, 'use_gpu': True}. Best is trial 297 with value: 0.014713745321776026.\u001b[0m\n"
     ]
    },
    {
     "name": "stdout",
     "output_type": "stream",
     "text": [
      "EvaluatorHoldout: Processed 40109 (100.0%) in 32.99 sec. Users per second: 1216\n"
     ]
    },
    {
     "name": "stderr",
     "output_type": "stream",
     "text": [
      "\u001b[32m[I 2023-01-10 19:02:03,438]\u001b[0m Trial 418 finished with value: 0.014602396960346641 and parameters: {'iterations': 278, 'factors': 95, 'regularization': 0.04286374391977879, 'urm_alpha': 3.999048669938153, 'icm_alpha': 0.8819629706270592, 'use_gpu': True}. Best is trial 297 with value: 0.014713745321776026.\u001b[0m\n"
     ]
    },
    {
     "name": "stdout",
     "output_type": "stream",
     "text": [
      "EvaluatorHoldout: Processed 40109 (100.0%) in 32.82 sec. Users per second: 1222\n"
     ]
    },
    {
     "name": "stderr",
     "output_type": "stream",
     "text": [
      "\u001b[32m[I 2023-01-10 19:03:19,523]\u001b[0m Trial 419 finished with value: 0.01464372877559458 and parameters: {'iterations': 272, 'factors': 85, 'regularization': 0.07397062563213154, 'urm_alpha': 3.8668731916703596, 'icm_alpha': 0.3262559906312773, 'use_gpu': True}. Best is trial 297 with value: 0.014713745321776026.\u001b[0m\n"
     ]
    },
    {
     "name": "stdout",
     "output_type": "stream",
     "text": [
      "EvaluatorHoldout: Processed 40109 (100.0%) in 32.76 sec. Users per second: 1224\n"
     ]
    },
    {
     "name": "stderr",
     "output_type": "stream",
     "text": [
      "\u001b[32m[I 2023-01-10 19:04:34,614]\u001b[0m Trial 420 finished with value: 0.014592344986894969 and parameters: {'iterations': 266, 'factors': 91, 'regularization': 0.04466770480313729, 'urm_alpha': 3.923416639389489, 'icm_alpha': 0.6946123441466511, 'use_gpu': True}. Best is trial 297 with value: 0.014713745321776026.\u001b[0m\n"
     ]
    },
    {
     "name": "stdout",
     "output_type": "stream",
     "text": [
      "EvaluatorHoldout: Processed 40109 (100.0%) in 32.87 sec. Users per second: 1220\n"
     ]
    },
    {
     "name": "stderr",
     "output_type": "stream",
     "text": [
      "\u001b[32m[I 2023-01-10 19:05:29,424]\u001b[0m Trial 421 finished with value: 0.014603041038566895 and parameters: {'iterations': 137, 'factors': 88, 'regularization': 0.050490727097919186, 'urm_alpha': 3.8176358329563795, 'icm_alpha': 0.5379378012937933, 'use_gpu': True}. Best is trial 297 with value: 0.014713745321776026.\u001b[0m\n"
     ]
    },
    {
     "name": "stdout",
     "output_type": "stream",
     "text": [
      "EvaluatorHoldout: Processed 40109 (100.0%) in 33.42 sec. Users per second: 1200\n"
     ]
    },
    {
     "name": "stderr",
     "output_type": "stream",
     "text": [
      "\u001b[32m[I 2023-01-10 19:06:49,491]\u001b[0m Trial 422 finished with value: 0.014548830627017728 and parameters: {'iterations': 276, 'factors': 99, 'regularization': 0.05313552218368193, 'urm_alpha': 3.9622251379223203, 'icm_alpha': 0.49976050543189565, 'use_gpu': True}. Best is trial 297 with value: 0.014713745321776026.\u001b[0m\n"
     ]
    },
    {
     "name": "stdout",
     "output_type": "stream",
     "text": [
      "EvaluatorHoldout: Processed 40109 (100.0%) in 32.83 sec. Users per second: 1222\n"
     ]
    },
    {
     "name": "stderr",
     "output_type": "stream",
     "text": [
      "\u001b[32m[I 2023-01-10 19:08:07,235]\u001b[0m Trial 423 finished with value: 0.014594820384294159 and parameters: {'iterations': 282, 'factors': 92, 'regularization': 0.016955830272504774, 'urm_alpha': 3.893295554320774, 'icm_alpha': 0.2749114225561346, 'use_gpu': True}. Best is trial 297 with value: 0.014713745321776026.\u001b[0m\n"
     ]
    },
    {
     "name": "stdout",
     "output_type": "stream",
     "text": [
      "EvaluatorHoldout: Processed 40109 (100.0%) in 32.67 sec. Users per second: 1228\n"
     ]
    },
    {
     "name": "stderr",
     "output_type": "stream",
     "text": [
      "\u001b[32m[I 2023-01-10 19:09:07,861]\u001b[0m Trial 424 finished with value: 0.014631589236790194 and parameters: {'iterations': 175, 'factors': 81, 'regularization': 0.048052916142210106, 'urm_alpha': 3.935360259590308, 'icm_alpha': 0.3116381480893656, 'use_gpu': True}. Best is trial 297 with value: 0.014713745321776026.\u001b[0m\n"
     ]
    },
    {
     "name": "stdout",
     "output_type": "stream",
     "text": [
      "EvaluatorHoldout: Processed 40109 (100.0%) in 32.41 sec. Users per second: 1237\n"
     ]
    },
    {
     "name": "stderr",
     "output_type": "stream",
     "text": [
      "\u001b[32m[I 2023-01-10 19:10:13,775]\u001b[0m Trial 425 finished with value: 0.014625288944768451 and parameters: {'iterations': 210, 'factors': 86, 'regularization': 0.02015150107997995, 'urm_alpha': 3.9990048128579834, 'icm_alpha': 0.5663098320550702, 'use_gpu': True}. Best is trial 297 with value: 0.014713745321776026.\u001b[0m\n"
     ]
    },
    {
     "name": "stdout",
     "output_type": "stream",
     "text": [
      "EvaluatorHoldout: Processed 40109 (100.0%) in 32.68 sec. Users per second: 1227\n"
     ]
    },
    {
     "name": "stderr",
     "output_type": "stream",
     "text": [
      "\u001b[32m[I 2023-01-10 19:11:11,716]\u001b[0m Trial 426 finished with value: 0.01450593857927639 and parameters: {'iterations': 158, 'factors': 95, 'regularization': 0.05418442324569195, 'urm_alpha': 3.2629408197300513, 'icm_alpha': 0.5143460449881345, 'use_gpu': True}. Best is trial 297 with value: 0.014713745321776026.\u001b[0m\n"
     ]
    },
    {
     "name": "stdout",
     "output_type": "stream",
     "text": [
      "EvaluatorHoldout: Processed 40109 (100.0%) in 32.62 sec. Users per second: 1230\n"
     ]
    },
    {
     "name": "stderr",
     "output_type": "stream",
     "text": [
      "\u001b[32m[I 2023-01-10 19:12:26,046]\u001b[0m Trial 427 finished with value: 0.014563350583944635 and parameters: {'iterations': 262, 'factors': 90, 'regularization': 0.06967163024851343, 'urm_alpha': 3.8603414517791075, 'icm_alpha': 0.488145190767268, 'use_gpu': True}. Best is trial 297 with value: 0.014713745321776026.\u001b[0m\n"
     ]
    },
    {
     "name": "stdout",
     "output_type": "stream",
     "text": [
      "EvaluatorHoldout: Processed 40109 (100.0%) in 32.68 sec. Users per second: 1227\n"
     ]
    },
    {
     "name": "stderr",
     "output_type": "stream",
     "text": [
      "\u001b[32m[I 2023-01-10 19:13:34,970]\u001b[0m Trial 428 finished with value: 0.014580615046221495 and parameters: {'iterations': 227, 'factors': 82, 'regularization': 0.045203438871471824, 'urm_alpha': 3.998598910187596, 'icm_alpha': 0.6306510204914517, 'use_gpu': True}. Best is trial 297 with value: 0.014713745321776026.\u001b[0m\n"
     ]
    },
    {
     "name": "stdout",
     "output_type": "stream",
     "text": [
      "EvaluatorHoldout: Processed 40109 (100.0%) in 33.12 sec. Users per second: 1211\n"
     ]
    },
    {
     "name": "stderr",
     "output_type": "stream",
     "text": [
      "\u001b[32m[I 2023-01-10 19:14:31,889]\u001b[0m Trial 429 finished with value: 0.014582206938473737 and parameters: {'iterations': 148, 'factors': 78, 'regularization': 0.04678926816878217, 'urm_alpha': 3.933508644881508, 'icm_alpha': 0.7947711427506292, 'use_gpu': True}. Best is trial 297 with value: 0.014713745321776026.\u001b[0m\n"
     ]
    },
    {
     "name": "stdout",
     "output_type": "stream",
     "text": [
      "EvaluatorHoldout: Processed 40109 (100.0%) in 33.36 sec. Users per second: 1202\n"
     ]
    },
    {
     "name": "stderr",
     "output_type": "stream",
     "text": [
      "\u001b[32m[I 2023-01-10 19:15:31,214]\u001b[0m Trial 430 finished with value: 0.014298606733160234 and parameters: {'iterations': 153, 'factors': 97, 'regularization': 0.023317635855477227, 'urm_alpha': 3.2032888233355394, 'icm_alpha': 0.7433013499801885, 'use_gpu': True}. Best is trial 297 with value: 0.014713745321776026.\u001b[0m\n"
     ]
    },
    {
     "name": "stdout",
     "output_type": "stream",
     "text": [
      "EvaluatorHoldout: Processed 40109 (100.0%) in 33.25 sec. Users per second: 1206\n"
     ]
    },
    {
     "name": "stderr",
     "output_type": "stream",
     "text": [
      "\u001b[32m[I 2023-01-10 19:16:35,322]\u001b[0m Trial 431 finished with value: 0.014539670073652648 and parameters: {'iterations': 182, 'factors': 108, 'regularization': 0.048485828966859365, 'urm_alpha': 3.9000408312902373, 'icm_alpha': 0.4181159330400954, 'use_gpu': True}. Best is trial 297 with value: 0.014713745321776026.\u001b[0m\n"
     ]
    },
    {
     "name": "stdout",
     "output_type": "stream",
     "text": [
      "EvaluatorHoldout: Processed 40109 (100.0%) in 32.24 sec. Users per second: 1244\n"
     ]
    },
    {
     "name": "stderr",
     "output_type": "stream",
     "text": [
      "\u001b[32m[I 2023-01-10 19:17:34,254]\u001b[0m Trial 432 finished with value: 0.01463842972344815 and parameters: {'iterations': 167, 'factors': 88, 'regularization': 0.01808907702171701, 'urm_alpha': 3.962822668158511, 'icm_alpha': 0.7130501720615081, 'use_gpu': True}. Best is trial 297 with value: 0.014713745321776026.\u001b[0m\n"
     ]
    },
    {
     "name": "stdout",
     "output_type": "stream",
     "text": [
      "EvaluatorHoldout: Processed 40109 (100.0%) in 32.38 sec. Users per second: 1239\n"
     ]
    },
    {
     "name": "stderr",
     "output_type": "stream",
     "text": [
      "\u001b[32m[I 2023-01-10 19:18:27,433]\u001b[0m Trial 433 finished with value: 0.014567602885312291 and parameters: {'iterations': 142, 'factors': 45, 'regularization': 0.0668089300809484, 'urm_alpha': 3.9632968178741192, 'icm_alpha': 0.5347633612862139, 'use_gpu': True}. Best is trial 297 with value: 0.014713745321776026.\u001b[0m\n"
     ]
    },
    {
     "name": "stdout",
     "output_type": "stream",
     "text": [
      "EvaluatorHoldout: Processed 40109 (100.0%) in 32.89 sec. Users per second: 1220\n"
     ]
    },
    {
     "name": "stderr",
     "output_type": "stream",
     "text": [
      "\u001b[32m[I 2023-01-10 19:19:43,311]\u001b[0m Trial 434 finished with value: 0.014638774023326256 and parameters: {'iterations': 270, 'factors': 94, 'regularization': 0.04184208129021364, 'urm_alpha': 3.9093198013966344, 'icm_alpha': 0.29119533216516075, 'use_gpu': True}. Best is trial 297 with value: 0.014713745321776026.\u001b[0m\n"
     ]
    },
    {
     "name": "stdout",
     "output_type": "stream",
     "text": [
      "EvaluatorHoldout: Processed 40109 (100.0%) in 32.86 sec. Users per second: 1221\n"
     ]
    },
    {
     "name": "stderr",
     "output_type": "stream",
     "text": [
      "\u001b[32m[I 2023-01-10 19:20:43,467]\u001b[0m Trial 435 finished with value: 0.014565961524686701 and parameters: {'iterations': 171, 'factors': 92, 'regularization': 0.07191818187214802, 'urm_alpha': 3.99820031065385, 'icm_alpha': 0.4517093888698515, 'use_gpu': True}. Best is trial 297 with value: 0.014713745321776026.\u001b[0m\n"
     ]
    },
    {
     "name": "stdout",
     "output_type": "stream",
     "text": [
      "EvaluatorHoldout: Processed 40109 (100.0%) in 33.53 sec. Users per second: 1196\n"
     ]
    },
    {
     "name": "stderr",
     "output_type": "stream",
     "text": [
      "\u001b[32m[I 2023-01-10 19:21:59,024]\u001b[0m Trial 436 finished with value: 0.01453204501859434 and parameters: {'iterations': 264, 'factors': 84, 'regularization': 0.021025661904145322, 'urm_alpha': 3.8498178499345093, 'icm_alpha': 0.33456868090251224, 'use_gpu': True}. Best is trial 297 with value: 0.014713745321776026.\u001b[0m\n"
     ]
    },
    {
     "name": "stdout",
     "output_type": "stream",
     "text": [
      "EvaluatorHoldout: Processed 40109 (100.0%) in 32.97 sec. Users per second: 1217\n"
     ]
    },
    {
     "name": "stderr",
     "output_type": "stream",
     "text": [
      "\u001b[32m[I 2023-01-10 19:22:57,715]\u001b[0m Trial 437 finished with value: 0.01463117864929192 and parameters: {'iterations': 161, 'factors': 80, 'regularization': 0.05072474658608946, 'urm_alpha': 3.9333738381795533, 'icm_alpha': 0.25784697726480893, 'use_gpu': True}. Best is trial 297 with value: 0.014713745321776026.\u001b[0m\n"
     ]
    },
    {
     "name": "stdout",
     "output_type": "stream",
     "text": [
      "EvaluatorHoldout: Processed 40109 (100.0%) in 33.01 sec. Users per second: 1215\n"
     ]
    },
    {
     "name": "stderr",
     "output_type": "stream",
     "text": [
      "\u001b[32m[I 2023-01-10 19:24:16,868]\u001b[0m Trial 438 finished with value: 0.014557871466919444 and parameters: {'iterations': 273, 'factors': 104, 'regularization': 0.06333481503678866, 'urm_alpha': 3.8923904044847757, 'icm_alpha': 0.5099745918178064, 'use_gpu': True}. Best is trial 297 with value: 0.014713745321776026.\u001b[0m\n"
     ]
    },
    {
     "name": "stdout",
     "output_type": "stream",
     "text": [
      "EvaluatorHoldout: Processed 40109 (100.0%) in 32.78 sec. Users per second: 1224\n"
     ]
    },
    {
     "name": "stderr",
     "output_type": "stream",
     "text": [
      "\u001b[32m[I 2023-01-10 19:25:33,867]\u001b[0m Trial 439 finished with value: 0.014634914500842455 and parameters: {'iterations': 278, 'factors': 88, 'regularization': 0.04588087252786936, 'urm_alpha': 3.9623441633150303, 'icm_alpha': 0.5514685197953835, 'use_gpu': True}. Best is trial 297 with value: 0.014713745321776026.\u001b[0m\n"
     ]
    },
    {
     "name": "stdout",
     "output_type": "stream",
     "text": [
      "EvaluatorHoldout: Processed 40109 (100.0%) in 34.00 sec. Users per second: 1180\n"
     ]
    },
    {
     "name": "stderr",
     "output_type": "stream",
     "text": [
      "\u001b[32m[I 2023-01-10 19:26:32,471]\u001b[0m Trial 440 finished with value: 0.014518855760908805 and parameters: {'iterations': 145, 'factors': 99, 'regularization': 0.04401657379387882, 'urm_alpha': 3.9428994900813334, 'icm_alpha': 0.5302572423815277, 'use_gpu': True}. Best is trial 297 with value: 0.014713745321776026.\u001b[0m\n"
     ]
    },
    {
     "name": "stdout",
     "output_type": "stream",
     "text": [
      "EvaluatorHoldout: Processed 40109 (100.0%) in 33.79 sec. Users per second: 1187\n"
     ]
    },
    {
     "name": "stderr",
     "output_type": "stream",
     "text": [
      "\u001b[32m[I 2023-01-10 19:27:34,541]\u001b[0m Trial 441 finished with value: 0.014645991458988688 and parameters: {'iterations': 177, 'factors': 76, 'regularization': 0.056910915989145626, 'urm_alpha': 3.999407413234786, 'icm_alpha': 0.12272986614432978, 'use_gpu': True}. Best is trial 297 with value: 0.014713745321776026.\u001b[0m\n"
     ]
    },
    {
     "name": "stdout",
     "output_type": "stream",
     "text": [
      "EvaluatorHoldout: Processed 40109 (100.0%) in 33.18 sec. Users per second: 1209\n"
     ]
    },
    {
     "name": "stderr",
     "output_type": "stream",
     "text": [
      "\u001b[32m[I 2023-01-10 19:28:50,374]\u001b[0m Trial 442 finished with value: 0.014587080562609872 and parameters: {'iterations': 268, 'factors': 77, 'regularization': 0.05788719393667174, 'urm_alpha': 3.999256544148617, 'icm_alpha': 0.07766725462174634, 'use_gpu': True}. Best is trial 297 with value: 0.014713745321776026.\u001b[0m\n"
     ]
    },
    {
     "name": "stdout",
     "output_type": "stream",
     "text": [
      "EvaluatorHoldout: Processed 40109 (100.0%) in 32.92 sec. Users per second: 1218\n"
     ]
    },
    {
     "name": "stderr",
     "output_type": "stream",
     "text": [
      "\u001b[32m[I 2023-01-10 19:29:44,430]\u001b[0m Trial 443 finished with value: 0.014596897066604763 and parameters: {'iterations': 132, 'factors': 84, 'regularization': 0.055097109582129586, 'urm_alpha': 3.999527239176628, 'icm_alpha': 0.10593332989134382, 'use_gpu': True}. Best is trial 297 with value: 0.014713745321776026.\u001b[0m\n"
     ]
    },
    {
     "name": "stdout",
     "output_type": "stream",
     "text": [
      "EvaluatorHoldout: Processed 40109 (100.0%) in 33.23 sec. Users per second: 1207\n"
     ]
    },
    {
     "name": "stderr",
     "output_type": "stream",
     "text": [
      "\u001b[32m[I 2023-01-10 19:30:46,687]\u001b[0m Trial 444 finished with value: 0.014545718076970561 and parameters: {'iterations': 182, 'factors': 93, 'regularization': 0.057104157297797054, 'urm_alpha': 3.962656068212632, 'icm_alpha': 0.1280506169855653, 'use_gpu': True}. Best is trial 297 with value: 0.014713745321776026.\u001b[0m\n"
     ]
    },
    {
     "name": "stdout",
     "output_type": "stream",
     "text": [
      "EvaluatorHoldout: Processed 40109 (100.0%) in 33.22 sec. Users per second: 1207\n"
     ]
    },
    {
     "name": "stderr",
     "output_type": "stream",
     "text": [
      "\u001b[32m[I 2023-01-10 19:31:49,284]\u001b[0m Trial 445 finished with value: 0.014594913384835975 and parameters: {'iterations': 184, 'factors': 90, 'regularization': 0.06163073879228245, 'urm_alpha': 3.961653210873161, 'icm_alpha': 0.16236383105299587, 'use_gpu': True}. Best is trial 297 with value: 0.014713745321776026.\u001b[0m\n"
     ]
    },
    {
     "name": "stdout",
     "output_type": "stream",
     "text": [
      "EvaluatorHoldout: Processed 40109 (100.0%) in 33.17 sec. Users per second: 1209\n"
     ]
    },
    {
     "name": "stderr",
     "output_type": "stream",
     "text": [
      "\u001b[32m[I 2023-01-10 19:32:52,771]\u001b[0m Trial 446 finished with value: 0.014694128143665778 and parameters: {'iterations': 190, 'factors': 86, 'regularization': 0.05630426440903672, 'urm_alpha': 3.9288646916336374, 'icm_alpha': 0.17712037410088224, 'use_gpu': True}. Best is trial 297 with value: 0.014713745321776026.\u001b[0m\n"
     ]
    },
    {
     "name": "stdout",
     "output_type": "stream",
     "text": [
      "EvaluatorHoldout: Processed 40109 (100.0%) in 32.55 sec. Users per second: 1232\n"
     ]
    },
    {
     "name": "stderr",
     "output_type": "stream",
     "text": [
      "\u001b[32m[I 2023-01-10 19:33:54,366]\u001b[0m Trial 447 finished with value: 0.01453449073496951 and parameters: {'iterations': 182, 'factors': 80, 'regularization': 0.05697296533212275, 'urm_alpha': 3.9381133842872633, 'icm_alpha': 0.15193483780249628, 'use_gpu': True}. Best is trial 297 with value: 0.014713745321776026.\u001b[0m\n"
     ]
    },
    {
     "name": "stdout",
     "output_type": "stream",
     "text": [
      "EvaluatorHoldout: Processed 40109 (100.0%) in 33.01 sec. Users per second: 1215\n"
     ]
    },
    {
     "name": "stderr",
     "output_type": "stream",
     "text": [
      "\u001b[32m[I 2023-01-10 19:34:58,165]\u001b[0m Trial 448 finished with value: 0.014598780822259485 and parameters: {'iterations': 193, 'factors': 85, 'regularization': 0.05940110803010184, 'urm_alpha': 3.998537376399437, 'icm_alpha': 0.22440731583956086, 'use_gpu': True}. Best is trial 297 with value: 0.014713745321776026.\u001b[0m\n"
     ]
    },
    {
     "name": "stdout",
     "output_type": "stream",
     "text": [
      "EvaluatorHoldout: Processed 40109 (100.0%) in 33.20 sec. Users per second: 1208\n"
     ]
    },
    {
     "name": "stderr",
     "output_type": "stream",
     "text": [
      "\u001b[32m[I 2023-01-10 19:36:01,853]\u001b[0m Trial 449 finished with value: 0.014586302919781831 and parameters: {'iterations': 191, 'factors': 82, 'regularization': 0.05502801078261179, 'urm_alpha': 3.9329905776733094, 'icm_alpha': 0.18122873301449607, 'use_gpu': True}. Best is trial 297 with value: 0.014713745321776026.\u001b[0m\n"
     ]
    },
    {
     "name": "stdout",
     "output_type": "stream",
     "text": [
      "EvaluatorHoldout: Processed 40109 (100.0%) in 33.11 sec. Users per second: 1211\n"
     ]
    },
    {
     "name": "stderr",
     "output_type": "stream",
     "text": [
      "\u001b[32m[I 2023-01-10 19:37:05,143]\u001b[0m Trial 450 finished with value: 0.014340332316659482 and parameters: {'iterations': 189, 'factors': 75, 'regularization': 0.059758258607155744, 'urm_alpha': 3.098810067117973, 'icm_alpha': 0.20439774359290133, 'use_gpu': True}. Best is trial 297 with value: 0.014713745321776026.\u001b[0m\n"
     ]
    },
    {
     "name": "stdout",
     "output_type": "stream",
     "text": [
      "EvaluatorHoldout: Processed 40109 (100.0%) in 33.92 sec. Users per second: 1182\n"
     ]
    },
    {
     "name": "stderr",
     "output_type": "stream",
     "text": [
      "\u001b[32m[I 2023-01-10 19:38:12,609]\u001b[0m Trial 451 finished with value: 0.014628764592675553 and parameters: {'iterations': 198, 'factors': 97, 'regularization': 0.056317732086644985, 'urm_alpha': 3.968047414464631, 'icm_alpha': 0.13763102102329786, 'use_gpu': True}. Best is trial 297 with value: 0.014713745321776026.\u001b[0m\n"
     ]
    },
    {
     "name": "stdout",
     "output_type": "stream",
     "text": [
      "EvaluatorHoldout: Processed 40109 (100.0%) in 33.32 sec. Users per second: 1204\n"
     ]
    },
    {
     "name": "stderr",
     "output_type": "stream",
     "text": [
      "\u001b[32m[I 2023-01-10 19:39:14,351]\u001b[0m Trial 452 finished with value: 0.014587251723181479 and parameters: {'iterations': 178, 'factors': 78, 'regularization': 0.059857528171959565, 'urm_alpha': 3.9211471107792106, 'icm_alpha': 0.16401777539031517, 'use_gpu': True}. Best is trial 297 with value: 0.014713745321776026.\u001b[0m\n"
     ]
    },
    {
     "name": "stdout",
     "output_type": "stream",
     "text": [
      "EvaluatorHoldout: Processed 40109 (100.0%) in 33.23 sec. Users per second: 1207\n"
     ]
    },
    {
     "name": "stderr",
     "output_type": "stream",
     "text": [
      "\u001b[32m[I 2023-01-10 19:40:19,252]\u001b[0m Trial 453 finished with value: 0.01448424669759047 and parameters: {'iterations': 187, 'factors': 101, 'regularization': 0.05799090911971686, 'urm_alpha': 3.9985853048109927, 'icm_alpha': 0.06336894427271426, 'use_gpu': True}. Best is trial 297 with value: 0.014713745321776026.\u001b[0m\n"
     ]
    },
    {
     "name": "stdout",
     "output_type": "stream",
     "text": [
      "EvaluatorHoldout: Processed 40109 (100.0%) in 33.02 sec. Users per second: 1215\n"
     ]
    },
    {
     "name": "stderr",
     "output_type": "stream",
     "text": [
      "\u001b[32m[I 2023-01-10 19:41:20,996]\u001b[0m Trial 454 finished with value: 0.014652863605405539 and parameters: {'iterations': 180, 'factors': 86, 'regularization': 0.052631480660033696, 'urm_alpha': 3.960960843186932, 'icm_alpha': 0.11315085265363839, 'use_gpu': True}. Best is trial 297 with value: 0.014713745321776026.\u001b[0m\n"
     ]
    },
    {
     "name": "stdout",
     "output_type": "stream",
     "text": [
      "EvaluatorHoldout: Processed 40109 (100.0%) in 33.10 sec. Users per second: 1212\n"
     ]
    },
    {
     "name": "stderr",
     "output_type": "stream",
     "text": [
      "\u001b[32m[I 2023-01-10 19:42:23,467]\u001b[0m Trial 455 finished with value: 0.014636677553666447 and parameters: {'iterations': 184, 'factors': 90, 'regularization': 0.05325454135722923, 'urm_alpha': 3.900204179436904, 'icm_alpha': 0.09786784538005484, 'use_gpu': True}. Best is trial 297 with value: 0.014713745321776026.\u001b[0m\n"
     ]
    },
    {
     "name": "stdout",
     "output_type": "stream",
     "text": [
      "EvaluatorHoldout: Processed 40109 (100.0%) in 32.81 sec. Users per second: 1222\n"
     ]
    },
    {
     "name": "stderr",
     "output_type": "stream",
     "text": [
      "\u001b[32m[I 2023-01-10 19:43:24,234]\u001b[0m Trial 456 finished with value: 0.014571281353549815 and parameters: {'iterations': 175, 'factors': 85, 'regularization': 0.05267275313345287, 'urm_alpha': 3.9461234436248374, 'icm_alpha': 0.6638826384227952, 'use_gpu': True}. Best is trial 297 with value: 0.014713745321776026.\u001b[0m\n"
     ]
    },
    {
     "name": "stdout",
     "output_type": "stream",
     "text": [
      "EvaluatorHoldout: Processed 40109 (100.0%) in 33.07 sec. Users per second: 1213\n"
     ]
    },
    {
     "name": "stderr",
     "output_type": "stream",
     "text": [
      "\u001b[32m[I 2023-01-10 19:44:27,094]\u001b[0m Trial 457 finished with value: 0.014583206199614144 and parameters: {'iterations': 186, 'factors': 88, 'regularization': 0.023668411882377824, 'urm_alpha': 3.9586731187599864, 'icm_alpha': 0.18445417776564, 'use_gpu': True}. Best is trial 297 with value: 0.014713745321776026.\u001b[0m\n"
     ]
    },
    {
     "name": "stdout",
     "output_type": "stream",
     "text": [
      "EvaluatorHoldout: Processed 40109 (100.0%) in 32.16 sec. Users per second: 1247\n"
     ]
    },
    {
     "name": "stderr",
     "output_type": "stream",
     "text": [
      "\u001b[32m[I 2023-01-10 19:45:27,859]\u001b[0m Trial 458 finished with value: 0.01459236576361173 and parameters: {'iterations': 179, 'factors': 94, 'regularization': 0.021875279598841536, 'urm_alpha': 3.906953146532756, 'icm_alpha': 0.21378014533169887, 'use_gpu': True}. Best is trial 297 with value: 0.014713745321776026.\u001b[0m\n"
     ]
    },
    {
     "name": "stdout",
     "output_type": "stream",
     "text": [
      "EvaluatorHoldout: Processed 40109 (100.0%) in 32.80 sec. Users per second: 1223\n"
     ]
    },
    {
     "name": "stderr",
     "output_type": "stream",
     "text": [
      "\u001b[32m[I 2023-01-10 19:46:31,417]\u001b[0m Trial 459 finished with value: 0.014488742383354744 and parameters: {'iterations': 193, 'factors': 85, 'regularization': 0.025624370892664436, 'urm_alpha': 3.9300588885203176, 'icm_alpha': 0.24242781399621102, 'use_gpu': True}. Best is trial 297 with value: 0.014713745321776026.\u001b[0m\n"
     ]
    },
    {
     "name": "stdout",
     "output_type": "stream",
     "text": [
      "EvaluatorHoldout: Processed 40109 (100.0%) in 32.95 sec. Users per second: 1217\n"
     ]
    },
    {
     "name": "stderr",
     "output_type": "stream",
     "text": [
      "\u001b[32m[I 2023-01-10 19:47:45,659]\u001b[0m Trial 460 finished with value: 0.014610277272211094 and parameters: {'iterations': 259, 'factors': 91, 'regularization': 0.054273001913632976, 'urm_alpha': 3.964600024932659, 'icm_alpha': 0.6814224977141111, 'use_gpu': True}. Best is trial 297 with value: 0.014713745321776026.\u001b[0m\n"
     ]
    },
    {
     "name": "stdout",
     "output_type": "stream",
     "text": [
      "EvaluatorHoldout: Processed 40109 (100.0%) in 32.77 sec. Users per second: 1224\n"
     ]
    },
    {
     "name": "stderr",
     "output_type": "stream",
     "text": [
      "\u001b[32m[I 2023-01-10 19:49:00,287]\u001b[0m Trial 461 finished with value: 0.014544338898723344 and parameters: {'iterations': 263, 'factors': 87, 'regularization': 0.01877474650139078, 'urm_alpha': 3.879456653394329, 'icm_alpha': 0.6110546351075565, 'use_gpu': True}. Best is trial 297 with value: 0.014713745321776026.\u001b[0m\n"
     ]
    },
    {
     "name": "stdout",
     "output_type": "stream",
     "text": [
      "EvaluatorHoldout: Processed 40109 (100.0%) in 33.01 sec. Users per second: 1215\n"
     ]
    },
    {
     "name": "stderr",
     "output_type": "stream",
     "text": [
      "\u001b[32m[I 2023-01-10 19:49:55,551]\u001b[0m Trial 462 finished with value: 0.01461790925284165 and parameters: {'iterations': 139, 'factors': 95, 'regularization': 0.052021046124819496, 'urm_alpha': 3.921559000819186, 'icm_alpha': 0.7034708623309591, 'use_gpu': True}. Best is trial 297 with value: 0.014713745321776026.\u001b[0m\n"
     ]
    },
    {
     "name": "stdout",
     "output_type": "stream",
     "text": [
      "EvaluatorHoldout: Processed 40109 (100.0%) in 34.63 sec. Users per second: 1158\n"
     ]
    },
    {
     "name": "stderr",
     "output_type": "stream",
     "text": [
      "\u001b[32m[I 2023-01-10 19:51:02,674]\u001b[0m Trial 463 finished with value: 0.014579172548456391 and parameters: {'iterations': 204, 'factors': 82, 'regularization': 0.03962077312074147, 'urm_alpha': 3.9613766147236746, 'icm_alpha': 0.7321817631111089, 'use_gpu': True}. Best is trial 297 with value: 0.014713745321776026.\u001b[0m\n"
     ]
    },
    {
     "name": "stdout",
     "output_type": "stream",
     "text": [
      "EvaluatorHoldout: Processed 40109 (100.0%) in 33.03 sec. Users per second: 1214\n"
     ]
    },
    {
     "name": "stderr",
     "output_type": "stream",
     "text": [
      "\u001b[32m[I 2023-01-10 19:52:04,616]\u001b[0m Trial 464 finished with value: 0.014597957668528049 and parameters: {'iterations': 181, 'factors': 92, 'regularization': 0.02385840880488924, 'urm_alpha': 3.9628597672958885, 'icm_alpha': 0.024559141819066516, 'use_gpu': True}. Best is trial 297 with value: 0.014713745321776026.\u001b[0m\n"
     ]
    },
    {
     "name": "stdout",
     "output_type": "stream",
     "text": [
      "EvaluatorHoldout: Processed 40109 (100.0%) in 33.24 sec. Users per second: 1207\n"
     ]
    },
    {
     "name": "stderr",
     "output_type": "stream",
     "text": [
      "\u001b[32m[I 2023-01-10 19:53:12,151]\u001b[0m Trial 465 finished with value: 0.014570989490147438 and parameters: {'iterations': 215, 'factors': 87, 'regularization': 0.027533797180561734, 'urm_alpha': 3.902371377662384, 'icm_alpha': 0.23465208997728942, 'use_gpu': True}. Best is trial 297 with value: 0.014713745321776026.\u001b[0m\n"
     ]
    },
    {
     "name": "stdout",
     "output_type": "stream",
     "text": [
      "EvaluatorHoldout: Processed 40109 (100.0%) in 33.44 sec. Users per second: 1199\n"
     ]
    },
    {
     "name": "stderr",
     "output_type": "stream",
     "text": [
      "\u001b[32m[I 2023-01-10 19:54:31,747]\u001b[0m Trial 466 finished with value: 0.01451579762607227 and parameters: {'iterations': 273, 'factors': 97, 'regularization': 0.02008116755184132, 'urm_alpha': 3.93786019529283, 'icm_alpha': 0.5712286330834537, 'use_gpu': True}. Best is trial 297 with value: 0.014713745321776026.\u001b[0m\n"
     ]
    },
    {
     "name": "stdout",
     "output_type": "stream",
     "text": [
      "EvaluatorHoldout: Processed 40109 (100.0%) in 33.13 sec. Users per second: 1211\n"
     ]
    },
    {
     "name": "stderr",
     "output_type": "stream",
     "text": [
      "\u001b[32m[I 2023-01-10 19:55:32,995]\u001b[0m Trial 467 finished with value: 0.014513523070268528 and parameters: {'iterations': 176, 'factors': 90, 'regularization': 0.07399768428987497, 'urm_alpha': 3.866088366973766, 'icm_alpha': 0.05164484566194335, 'use_gpu': True}. Best is trial 297 with value: 0.014713745321776026.\u001b[0m\n"
     ]
    },
    {
     "name": "stdout",
     "output_type": "stream",
     "text": [
      "EvaluatorHoldout: Processed 40109 (100.0%) in 34.36 sec. Users per second: 1167\n"
     ]
    },
    {
     "name": "stderr",
     "output_type": "stream",
     "text": [
      "\u001b[32m[I 2023-01-10 19:56:49,986]\u001b[0m Trial 468 finished with value: 0.01457904689878822 and parameters: {'iterations': 268, 'factors': 83, 'regularization': 0.050990817027046886, 'urm_alpha': 3.9997776381805075, 'icm_alpha': 0.1441432432628147, 'use_gpu': True}. Best is trial 297 with value: 0.014713745321776026.\u001b[0m\n"
     ]
    },
    {
     "name": "stdout",
     "output_type": "stream",
     "text": [
      "EvaluatorHoldout: Processed 40109 (100.0%) in 33.42 sec. Users per second: 1200\n"
     ]
    },
    {
     "name": "stderr",
     "output_type": "stream",
     "text": [
      "\u001b[32m[I 2023-01-10 19:57:53,755]\u001b[0m Trial 469 finished with value: 0.014577610337228038 and parameters: {'iterations': 190, 'factors': 93, 'regularization': 0.05336999058524172, 'urm_alpha': 3.9631829556743674, 'icm_alpha': 0.24993840312076737, 'use_gpu': True}. Best is trial 297 with value: 0.014713745321776026.\u001b[0m\n"
     ]
    },
    {
     "name": "stdout",
     "output_type": "stream",
     "text": [
      "EvaluatorHoldout: Processed 40109 (100.0%) in 33.02 sec. Users per second: 1215\n"
     ]
    },
    {
     "name": "stderr",
     "output_type": "stream",
     "text": [
      "\u001b[32m[I 2023-01-10 19:59:02,715]\u001b[0m Trial 470 finished with value: 0.014525624023741747 and parameters: {'iterations': 225, 'factors': 87, 'regularization': 0.06942333799556952, 'urm_alpha': 3.920160224282503, 'icm_alpha': 0.18739280214443899, 'use_gpu': True}. Best is trial 297 with value: 0.014713745321776026.\u001b[0m\n"
     ]
    },
    {
     "name": "stdout",
     "output_type": "stream",
     "text": [
      "EvaluatorHoldout: Processed 40109 (100.0%) in 33.21 sec. Users per second: 1208\n"
     ]
    },
    {
     "name": "stderr",
     "output_type": "stream",
     "text": [
      "\u001b[32m[I 2023-01-10 19:59:59,463]\u001b[0m Trial 471 finished with value: 0.014593351173607638 and parameters: {'iterations': 147, 'factors': 95, 'regularization': 0.049188760447312456, 'urm_alpha': 3.9667773866510005, 'icm_alpha': 0.8384906068668774, 'use_gpu': True}. Best is trial 297 with value: 0.014713745321776026.\u001b[0m\n"
     ]
    },
    {
     "name": "stdout",
     "output_type": "stream",
     "text": [
      "EvaluatorHoldout: Processed 40109 (100.0%) in 33.38 sec. Users per second: 1202\n"
     ]
    },
    {
     "name": "stderr",
     "output_type": "stream",
     "text": [
      "\u001b[32m[I 2023-01-10 20:00:56,867]\u001b[0m Trial 472 finished with value: 0.014684834025692817 and parameters: {'iterations': 150, 'factors': 91, 'regularization': 0.04161193511372026, 'urm_alpha': 3.886672690123136, 'icm_alpha': 0.2182611172751239, 'use_gpu': True}. Best is trial 297 with value: 0.014713745321776026.\u001b[0m\n"
     ]
    },
    {
     "name": "stdout",
     "output_type": "stream",
     "text": [
      "EvaluatorHoldout: Processed 40109 (100.0%) in 33.40 sec. Users per second: 1201\n"
     ]
    },
    {
     "name": "stderr",
     "output_type": "stream",
     "text": [
      "\u001b[32m[I 2023-01-10 20:01:54,586]\u001b[0m Trial 473 finished with value: 0.014226031682712378 and parameters: {'iterations': 152, 'factors': 89, 'regularization': 0.0388544894349044, 'urm_alpha': 2.7356254818008856, 'icm_alpha': 0.20535420517911634, 'use_gpu': True}. Best is trial 297 with value: 0.014713745321776026.\u001b[0m\n"
     ]
    },
    {
     "name": "stdout",
     "output_type": "stream",
     "text": [
      "EvaluatorHoldout: Processed 40109 (100.0%) in 33.25 sec. Users per second: 1206\n"
     ]
    },
    {
     "name": "stderr",
     "output_type": "stream",
     "text": [
      "\u001b[32m[I 2023-01-10 20:02:51,690]\u001b[0m Trial 474 finished with value: 0.014515457283664076 and parameters: {'iterations': 149, 'factors': 84, 'regularization': 0.022047007789805253, 'urm_alpha': 3.822599310051602, 'icm_alpha': 0.22407659576426148, 'use_gpu': True}. Best is trial 297 with value: 0.014713745321776026.\u001b[0m\n"
     ]
    },
    {
     "name": "stdout",
     "output_type": "stream",
     "text": [
      "EvaluatorHoldout: Processed 40109 (100.0%) in 33.89 sec. Users per second: 1184\n"
     ]
    },
    {
     "name": "stderr",
     "output_type": "stream",
     "text": [
      "\u001b[32m[I 2023-01-10 20:03:50,350]\u001b[0m Trial 475 finished with value: 0.014656900224665701 and parameters: {'iterations': 155, 'factors': 80, 'regularization': 0.0410188932911699, 'urm_alpha': 3.8691029759738584, 'icm_alpha': 0.22596978935652895, 'use_gpu': True}. Best is trial 297 with value: 0.014713745321776026.\u001b[0m\n"
     ]
    },
    {
     "name": "stdout",
     "output_type": "stream",
     "text": [
      "EvaluatorHoldout: Processed 40109 (100.0%) in 33.46 sec. Users per second: 1199\n"
     ]
    },
    {
     "name": "stderr",
     "output_type": "stream",
     "text": [
      "\u001b[32m[I 2023-01-10 20:04:48,412]\u001b[0m Trial 476 finished with value: 0.014572492339327836 and parameters: {'iterations': 154, 'factors': 86, 'regularization': 0.03783704834135387, 'urm_alpha': 3.7952632943508475, 'icm_alpha': 0.17068251385837652, 'use_gpu': True}. Best is trial 297 with value: 0.014713745321776026.\u001b[0m\n"
     ]
    },
    {
     "name": "stdout",
     "output_type": "stream",
     "text": [
      "EvaluatorHoldout: Processed 40109 (100.0%) in 33.74 sec. Users per second: 1189\n"
     ]
    },
    {
     "name": "stderr",
     "output_type": "stream",
     "text": [
      "\u001b[32m[I 2023-01-10 20:05:47,422]\u001b[0m Trial 477 finished with value: 0.014599842413550255 and parameters: {'iterations': 158, 'factors': 81, 'regularization': 0.036561293633679555, 'urm_alpha': 3.846960943963931, 'icm_alpha': 0.2580232445282226, 'use_gpu': True}. Best is trial 297 with value: 0.014713745321776026.\u001b[0m\n"
     ]
    },
    {
     "name": "stdout",
     "output_type": "stream",
     "text": [
      "EvaluatorHoldout: Processed 40109 (100.0%) in 33.33 sec. Users per second: 1203\n"
     ]
    },
    {
     "name": "stderr",
     "output_type": "stream",
     "text": [
      "\u001b[32m[I 2023-01-10 20:06:44,758]\u001b[0m Trial 478 finished with value: 0.014652740923839771 and parameters: {'iterations': 150, 'factors': 90, 'regularization': 0.039316158057313574, 'urm_alpha': 3.8759951752598716, 'icm_alpha': 0.21604627896309286, 'use_gpu': True}. Best is trial 297 with value: 0.014713745321776026.\u001b[0m\n"
     ]
    },
    {
     "name": "stdout",
     "output_type": "stream",
     "text": [
      "EvaluatorHoldout: Processed 40109 (100.0%) in 33.05 sec. Users per second: 1213\n"
     ]
    },
    {
     "name": "stderr",
     "output_type": "stream",
     "text": [
      "\u001b[32m[I 2023-01-10 20:07:41,793]\u001b[0m Trial 479 finished with value: 0.014543475180925804 and parameters: {'iterations': 150, 'factors': 91, 'regularization': 0.03998010253935469, 'urm_alpha': 3.875388266656456, 'icm_alpha': 0.1975994744104927, 'use_gpu': True}. Best is trial 297 with value: 0.014713745321776026.\u001b[0m\n"
     ]
    },
    {
     "name": "stdout",
     "output_type": "stream",
     "text": [
      "EvaluatorHoldout: Processed 40109 (100.0%) in 33.18 sec. Users per second: 1209\n"
     ]
    },
    {
     "name": "stderr",
     "output_type": "stream",
     "text": [
      "\u001b[32m[I 2023-01-10 20:08:39,418]\u001b[0m Trial 480 finished with value: 0.014474191756036352 and parameters: {'iterations': 153, 'factors': 90, 'regularization': 0.042131015017868485, 'urm_alpha': 3.3861947723041057, 'icm_alpha': 0.2145140295796671, 'use_gpu': True}. Best is trial 297 with value: 0.014713745321776026.\u001b[0m\n"
     ]
    },
    {
     "name": "stdout",
     "output_type": "stream",
     "text": [
      "EvaluatorHoldout: Processed 40109 (100.0%) in 33.77 sec. Users per second: 1188\n"
     ]
    },
    {
     "name": "stderr",
     "output_type": "stream",
     "text": [
      "\u001b[32m[I 2023-01-10 20:09:37,490]\u001b[0m Trial 481 finished with value: 0.014464116037765477 and parameters: {'iterations': 143, 'factors': 99, 'regularization': 0.04072838922583454, 'urm_alpha': 3.8860412444194963, 'icm_alpha': 0.21269566463864714, 'use_gpu': True}. Best is trial 297 with value: 0.014713745321776026.\u001b[0m\n"
     ]
    },
    {
     "name": "stdout",
     "output_type": "stream",
     "text": [
      "EvaluatorHoldout: Processed 40109 (100.0%) in 33.04 sec. Users per second: 1214\n"
     ]
    },
    {
     "name": "stderr",
     "output_type": "stream",
     "text": [
      "\u001b[32m[I 2023-01-10 20:10:34,198]\u001b[0m Trial 482 finished with value: 0.014576131232866803 and parameters: {'iterations': 148, 'factors': 95, 'regularization': 0.0421953497930171, 'urm_alpha': 3.829611049867847, 'icm_alpha': 0.1691399449062802, 'use_gpu': True}. Best is trial 297 with value: 0.014713745321776026.\u001b[0m\n"
     ]
    },
    {
     "name": "stdout",
     "output_type": "stream",
     "text": [
      "EvaluatorHoldout: Processed 40109 (100.0%) in 32.73 sec. Users per second: 1225\n"
     ]
    },
    {
     "name": "stderr",
     "output_type": "stream",
     "text": [
      "\u001b[32m[I 2023-01-10 20:11:30,119]\u001b[0m Trial 483 finished with value: 0.014571247715055937 and parameters: {'iterations': 145, 'factors': 92, 'regularization': 0.04126637265582656, 'urm_alpha': 3.8971244693367613, 'icm_alpha': 0.1881053728233326, 'use_gpu': True}. Best is trial 297 with value: 0.014713745321776026.\u001b[0m\n"
     ]
    },
    {
     "name": "stdout",
     "output_type": "stream",
     "text": [
      "EvaluatorHoldout: Processed 40109 (100.0%) in 32.92 sec. Users per second: 1218\n"
     ]
    },
    {
     "name": "stderr",
     "output_type": "stream",
     "text": [
      "\u001b[32m[I 2023-01-10 20:12:27,816]\u001b[0m Trial 484 finished with value: 0.014634567232862031 and parameters: {'iterations': 155, 'factors': 89, 'regularization': 0.036890401652355444, 'urm_alpha': 3.932645585795207, 'icm_alpha': 0.23389856038553197, 'use_gpu': True}. Best is trial 297 with value: 0.014713745321776026.\u001b[0m\n"
     ]
    },
    {
     "name": "stdout",
     "output_type": "stream",
     "text": [
      "EvaluatorHoldout: Processed 40109 (100.0%) in 32.94 sec. Users per second: 1218\n"
     ]
    },
    {
     "name": "stderr",
     "output_type": "stream",
     "text": [
      "\u001b[32m[I 2023-01-10 20:13:26,736]\u001b[0m Trial 485 finished with value: 0.01450017155631876 and parameters: {'iterations': 153, 'factors': 102, 'regularization': 0.028641372339619685, 'urm_alpha': 3.8656623629741738, 'icm_alpha': 0.21912369169779486, 'use_gpu': True}. Best is trial 297 with value: 0.014713745321776026.\u001b[0m\n"
     ]
    },
    {
     "name": "stdout",
     "output_type": "stream",
     "text": [
      "EvaluatorHoldout: Processed 40109 (100.0%) in 32.71 sec. Users per second: 1226\n"
     ]
    },
    {
     "name": "stderr",
     "output_type": "stream",
     "text": [
      "\u001b[32m[I 2023-01-10 20:14:24,389]\u001b[0m Trial 486 finished with value: 0.01460712020062804 and parameters: {'iterations': 156, 'factors': 96, 'regularization': 0.03163351593548837, 'urm_alpha': 3.9146164880483973, 'icm_alpha': 0.1921395940499863, 'use_gpu': True}. Best is trial 297 with value: 0.014713745321776026.\u001b[0m\n"
     ]
    },
    {
     "name": "stdout",
     "output_type": "stream",
     "text": [
      "EvaluatorHoldout: Processed 40109 (100.0%) in 32.68 sec. Users per second: 1227\n"
     ]
    },
    {
     "name": "stderr",
     "output_type": "stream",
     "text": [
      "\u001b[32m[I 2023-01-10 20:15:19,632]\u001b[0m Trial 487 finished with value: 0.014637169269296835 and parameters: {'iterations': 141, 'factors': 88, 'regularization': 0.03465909758497803, 'urm_alpha': 3.9993260383360933, 'icm_alpha': 0.08441142508044132, 'use_gpu': True}. Best is trial 297 with value: 0.014713745321776026.\u001b[0m\n"
     ]
    },
    {
     "name": "stdout",
     "output_type": "stream",
     "text": [
      "EvaluatorHoldout: Processed 40109 (100.0%) in 32.95 sec. Users per second: 1217\n"
     ]
    },
    {
     "name": "stderr",
     "output_type": "stream",
     "text": [
      "\u001b[32m[I 2023-01-10 20:16:16,684]\u001b[0m Trial 488 finished with value: 0.014686637642582814 and parameters: {'iterations': 150, 'factors': 92, 'regularization': 0.04315080122441059, 'urm_alpha': 3.9631834786160787, 'icm_alpha': 0.2490181749506284, 'use_gpu': True}. Best is trial 297 with value: 0.014713745321776026.\u001b[0m\n"
     ]
    },
    {
     "name": "stdout",
     "output_type": "stream",
     "text": [
      "EvaluatorHoldout: Processed 40109 (100.0%) in 33.21 sec. Users per second: 1208\n"
     ]
    },
    {
     "name": "stderr",
     "output_type": "stream",
     "text": [
      "\u001b[32m[I 2023-01-10 20:17:15,686]\u001b[0m Trial 489 finished with value: 0.014492019168401217 and parameters: {'iterations': 152, 'factors': 97, 'regularization': 0.04290930650349779, 'urm_alpha': 3.82233951351681, 'icm_alpha': 0.23773441707595627, 'use_gpu': True}. Best is trial 297 with value: 0.014713745321776026.\u001b[0m\n"
     ]
    },
    {
     "name": "stdout",
     "output_type": "stream",
     "text": [
      "EvaluatorHoldout: Processed 40109 (100.0%) in 32.78 sec. Users per second: 1224\n"
     ]
    },
    {
     "name": "stderr",
     "output_type": "stream",
     "text": [
      "\u001b[32m[I 2023-01-10 20:18:11,964]\u001b[0m Trial 490 finished with value: 0.014601074176044946 and parameters: {'iterations': 147, 'factors': 94, 'regularization': 0.04186500777457704, 'urm_alpha': 3.889200046954191, 'icm_alpha': 0.2504977734798488, 'use_gpu': True}. Best is trial 297 with value: 0.014713745321776026.\u001b[0m\n"
     ]
    },
    {
     "name": "stdout",
     "output_type": "stream",
     "text": [
      "EvaluatorHoldout: Processed 40109 (100.0%) in 32.98 sec. Users per second: 1216\n"
     ]
    },
    {
     "name": "stderr",
     "output_type": "stream",
     "text": [
      "\u001b[32m[I 2023-01-10 20:19:08,785]\u001b[0m Trial 491 finished with value: 0.014560334991909101 and parameters: {'iterations': 149, 'factors': 92, 'regularization': 0.04529426308606193, 'urm_alpha': 3.931179259377122, 'icm_alpha': 0.25935845101254434, 'use_gpu': True}. Best is trial 297 with value: 0.014713745321776026.\u001b[0m\n"
     ]
    },
    {
     "name": "stdout",
     "output_type": "stream",
     "text": [
      "EvaluatorHoldout: Processed 40109 (100.0%) in 33.20 sec. Users per second: 1208\n"
     ]
    },
    {
     "name": "stderr",
     "output_type": "stream",
     "text": [
      "\u001b[32m[I 2023-01-10 20:20:08,836]\u001b[0m Trial 492 finished with value: 0.014565475745261028 and parameters: {'iterations': 158, 'factors': 100, 'regularization': 0.039528708204414405, 'urm_alpha': 3.9687239381882997, 'icm_alpha': 0.23543990953747787, 'use_gpu': True}. Best is trial 297 with value: 0.014713745321776026.\u001b[0m\n"
     ]
    },
    {
     "name": "stdout",
     "output_type": "stream",
     "text": [
      "EvaluatorHoldout: Processed 40109 (100.0%) in 32.01 sec. Users per second: 1253\n"
     ]
    },
    {
     "name": "stderr",
     "output_type": "stream",
     "text": [
      "\u001b[32m[I 2023-01-10 20:21:02,143]\u001b[0m Trial 493 finished with value: 0.01445645140800861 and parameters: {'iterations': 146, 'factors': 58, 'regularization': 0.04372677121651099, 'urm_alpha': 3.4325368957670435, 'icm_alpha': 0.21864592275445802, 'use_gpu': True}. Best is trial 297 with value: 0.014713745321776026.\u001b[0m\n"
     ]
    },
    {
     "name": "stdout",
     "output_type": "stream",
     "text": [
      "EvaluatorHoldout: Processed 40109 (100.0%) in 32.52 sec. Users per second: 1233\n"
     ]
    },
    {
     "name": "stderr",
     "output_type": "stream",
     "text": [
      "\u001b[32m[I 2023-01-10 20:21:57,062]\u001b[0m Trial 494 finished with value: 0.014626864017773984 and parameters: {'iterations': 140, 'factors': 92, 'regularization': 0.07642149432653612, 'urm_alpha': 3.9318026350923003, 'icm_alpha': 0.2681906284571193, 'use_gpu': True}. Best is trial 297 with value: 0.014713745321776026.\u001b[0m\n"
     ]
    },
    {
     "name": "stdout",
     "output_type": "stream",
     "text": [
      "EvaluatorHoldout: Processed 40109 (100.0%) in 32.90 sec. Users per second: 1219\n"
     ]
    },
    {
     "name": "stderr",
     "output_type": "stream",
     "text": [
      "\u001b[32m[I 2023-01-10 20:22:54,113]\u001b[0m Trial 495 finished with value: 0.01460102470767169 and parameters: {'iterations': 151, 'factors': 96, 'regularization': 0.03843824824977513, 'urm_alpha': 3.8514520904794707, 'icm_alpha': 0.24865752013241968, 'use_gpu': True}. Best is trial 297 with value: 0.014713745321776026.\u001b[0m\n"
     ]
    },
    {
     "name": "stdout",
     "output_type": "stream",
     "text": [
      "EvaluatorHoldout: Processed 40109 (100.0%) in 32.51 sec. Users per second: 1234\n"
     ]
    },
    {
     "name": "stderr",
     "output_type": "stream",
     "text": [
      "\u001b[32m[I 2023-01-10 20:23:51,686]\u001b[0m Trial 496 finished with value: 0.014552170731581972 and parameters: {'iterations': 157, 'factors': 89, 'regularization': 0.0406808027308175, 'urm_alpha': 3.968487934527636, 'icm_alpha': 0.21059061903199505, 'use_gpu': True}. Best is trial 297 with value: 0.014713745321776026.\u001b[0m\n"
     ]
    },
    {
     "name": "stdout",
     "output_type": "stream",
     "text": [
      "EvaluatorHoldout: Processed 40109 (100.0%) in 32.67 sec. Users per second: 1228\n"
     ]
    },
    {
     "name": "stderr",
     "output_type": "stream",
     "text": [
      "\u001b[32m[I 2023-01-10 20:24:37,812]\u001b[0m Trial 497 finished with value: 0.014442266846652462 and parameters: {'iterations': 143, 'factors': 31, 'regularization': 0.04413584647602702, 'urm_alpha': 3.895430113883065, 'icm_alpha': 0.27704730625699076, 'use_gpu': True}. Best is trial 297 with value: 0.014713745321776026.\u001b[0m\n"
     ]
    },
    {
     "name": "stdout",
     "output_type": "stream",
     "text": [
      "EvaluatorHoldout: Processed 40109 (100.0%) in 33.46 sec. Users per second: 1199\n"
     ]
    },
    {
     "name": "stderr",
     "output_type": "stream",
     "text": [
      "\u001b[32m[I 2023-01-10 20:25:35,421]\u001b[0m Trial 498 finished with value: 0.014642048829637704 and parameters: {'iterations': 151, 'factors': 93, 'regularization': 0.04771381475825463, 'urm_alpha': 3.96205219326598, 'icm_alpha': 0.1574610149192216, 'use_gpu': True}. Best is trial 297 with value: 0.014713745321776026.\u001b[0m\n"
     ]
    },
    {
     "name": "stdout",
     "output_type": "stream",
     "text": [
      "EvaluatorHoldout: Processed 40109 (100.0%) in 32.98 sec. Users per second: 1216\n"
     ]
    },
    {
     "name": "stderr",
     "output_type": "stream",
     "text": [
      "\u001b[32m[I 2023-01-10 20:26:31,584]\u001b[0m Trial 499 finished with value: 0.014527032883012997 and parameters: {'iterations': 145, 'factors': 90, 'regularization': 0.05121678913797842, 'urm_alpha': 3.9060482219996238, 'icm_alpha': 0.22715364401295698, 'use_gpu': True}. Best is trial 297 with value: 0.014713745321776026.\u001b[0m\n"
     ]
    }
   ],
   "source": [
    "best_params = {\n",
    "    'iterations': 120,\n",
    "    'factors': 80,\n",
    "    'regularization': 0.04590878515116987,\n",
    "    'urm_alpha': 2.9974929864429285,\n",
    "    'icm_alpha': 0.8631236369566112,\n",
    "    'use_gpu': True\n",
    "}\n",
    "\n",
    "study = op.create_study(direction=\"maximize\")\n",
    "study.enqueue_trial(best_params)\n",
    "study.optimize(objective, n_trials=500)"
   ]
  },
  {
   "cell_type": "code",
   "execution_count": 12,
   "id": "ad85ae95",
   "metadata": {
    "execution": {
     "iopub.execute_input": "2023-01-10T20:26:31.757390Z",
     "iopub.status.busy": "2023-01-10T20:26:31.756989Z",
     "iopub.status.idle": "2023-01-10T20:26:31.766831Z",
     "shell.execute_reply": "2023-01-10T20:26:31.765811Z"
    },
    "papermill": {
     "duration": 0.07078,
     "end_time": "2023-01-10T20:26:31.768965",
     "exception": false,
     "start_time": "2023-01-10T20:26:31.698185",
     "status": "completed"
    },
    "tags": []
   },
   "outputs": [
    {
     "data": {
      "text/plain": [
       "{'iterations': 154,\n",
       " 'factors': 87,\n",
       " 'regularization': 0.027737993520896242,\n",
       " 'urm_alpha': 3.9693090150756634,\n",
       " 'icm_alpha': 0.6816896641474052,\n",
       " 'use_gpu': True}"
      ]
     },
     "execution_count": 12,
     "metadata": {},
     "output_type": "execute_result"
    }
   ],
   "source": [
    "study.best_params"
   ]
  },
  {
   "cell_type": "code",
   "execution_count": 13,
   "id": "0b85b82b",
   "metadata": {
    "execution": {
     "iopub.execute_input": "2023-01-10T20:26:31.886221Z",
     "iopub.status.busy": "2023-01-10T20:26:31.885851Z",
     "iopub.status.idle": "2023-01-10T20:26:57.777773Z",
     "shell.execute_reply": "2023-01-10T20:26:57.776781Z"
    },
    "papermill": {
     "duration": 25.953396,
     "end_time": "2023-01-10T20:26:57.780171",
     "exception": false,
     "start_time": "2023-01-10T20:26:31.826775",
     "status": "completed"
    },
    "tags": []
   },
   "outputs": [],
   "source": [
    "final = model(URM_train_validation, ICM_all)\n",
    "final.fit(**study.best_params)"
   ]
  },
  {
   "cell_type": "code",
   "execution_count": 14,
   "id": "b04cea27",
   "metadata": {
    "execution": {
     "iopub.execute_input": "2023-01-10T20:26:57.898677Z",
     "iopub.status.busy": "2023-01-10T20:26:57.898330Z",
     "iopub.status.idle": "2023-01-10T20:27:32.198175Z",
     "shell.execute_reply": "2023-01-10T20:27:32.197175Z"
    },
    "papermill": {
     "duration": 34.403593,
     "end_time": "2023-01-10T20:27:32.242157",
     "exception": false,
     "start_time": "2023-01-10T20:26:57.838564",
     "status": "completed"
    },
    "tags": []
   },
   "outputs": [
    {
     "name": "stdout",
     "output_type": "stream",
     "text": [
      "EvaluatorHoldout: Ignoring 976 ( 2.3%) Users that have less than 1 test interactions\n",
      "EvaluatorHoldout: Ignoring 0 Users\n",
      "EvaluatorHoldout: Processed 40653 (100.0%) in 34.25 sec. Users per second: 1187\n"
     ]
    },
    {
     "data": {
      "text/plain": [
       "(       PRECISION PRECISION_RECALL_MIN_DEN    RECALL       MAP MAP_MIN_DEN  \\\n",
       " cutoff                                                                      \n",
       " 10      0.042491                 0.070862  0.066381  0.019855    0.032954   \n",
       " \n",
       "              MRR      NDCG        F1  HIT_RATE ARHR_ALL_HITS  ...  \\\n",
       " cutoff                                                        ...   \n",
       " 10      0.141788  0.067582  0.051815  0.300421       0.16692  ...   \n",
       " \n",
       "        COVERAGE_USER COVERAGE_USER_HIT USERS_IN_GT DIVERSITY_GINI  \\\n",
       " cutoff                                                              \n",
       " 10          0.976555          0.293377    0.976555       0.012823   \n",
       " \n",
       "        SHANNON_ENTROPY RATIO_DIVERSITY_HERFINDAHL RATIO_DIVERSITY_GINI  \\\n",
       " cutoff                                                                   \n",
       " 10            8.921933                   0.997523             0.028769   \n",
       " \n",
       "        RATIO_SHANNON_ENTROPY RATIO_AVERAGE_POPULARITY RATIO_NOVELTY  \n",
       " cutoff                                                               \n",
       " 10                  0.661186                 2.605047       0.24907  \n",
       " \n",
       " [1 rows x 27 columns],\n",
       " 'CUTOFF: 10 - PRECISION: 0.0424913, PRECISION_RECALL_MIN_DEN: 0.0708623, RECALL: 0.0663812, MAP: 0.0198554, MAP_MIN_DEN: 0.0329545, MRR: 0.1417878, NDCG: 0.0675823, F1: 0.0518152, HIT_RATE: 0.3004206, ARHR_ALL_HITS: 0.1669196, NOVELTY: 0.0038146, AVERAGE_POPULARITY: 0.1318171, DIVERSITY_MEAN_INTER_LIST: 0.9719585, DIVERSITY_HERFINDAHL: 0.9971935, COVERAGE_ITEM: 0.0470180, COVERAGE_ITEM_HIT: 0.0340389, ITEMS_IN_GT: 0.8702446, COVERAGE_USER: 0.9765548, COVERAGE_USER_HIT: 0.2933772, USERS_IN_GT: 0.9765548, DIVERSITY_GINI: 0.0128228, SHANNON_ENTROPY: 8.9219327, RATIO_DIVERSITY_HERFINDAHL: 0.9975225, RATIO_DIVERSITY_GINI: 0.0287693, RATIO_SHANNON_ENTROPY: 0.6611862, RATIO_AVERAGE_POPULARITY: 2.6050471, RATIO_NOVELTY: 0.2490697, \\n')"
      ]
     },
     "execution_count": 14,
     "metadata": {},
     "output_type": "execute_result"
    }
   ],
   "source": [
    "from Evaluation.Evaluator import EvaluatorHoldout\n",
    "evaluator_test = EvaluatorHoldout(URM_test, cutoff_list=[10], ignore_users=[])\n",
    "evaluator_test.evaluateRecommender(final)"
   ]
  }
 ],
 "metadata": {
  "kernelspec": {
   "display_name": "Python 3",
   "language": "python",
   "name": "python3"
  },
  "language_info": {
   "codemirror_mode": {
    "name": "ipython",
    "version": 3
   },
   "file_extension": ".py",
   "mimetype": "text/x-python",
   "name": "python",
   "nbconvert_exporter": "python",
   "pygments_lexer": "ipython3",
   "version": "3.7.12"
  },
  "papermill": {
   "default_parameters": {},
   "duration": 33710.073734,
   "end_time": "2023-01-10T20:27:35.006467",
   "environment_variables": {},
   "exception": null,
   "input_path": "__notebook__.ipynb",
   "output_path": "__notebook__.ipynb",
   "parameters": {},
   "start_time": "2023-01-10T11:05:44.932733",
   "version": "2.3.4"
  }
 },
 "nbformat": 4,
 "nbformat_minor": 5
}
