{
 "metadata": {
  "kernelspec": {
   "language": "python",
   "display_name": "Python 3",
   "name": "python3"
  },
  "language_info": {
   "name": "python",
   "version": "3.7.12",
   "mimetype": "text/x-python",
   "codemirror_mode": {
    "name": "ipython",
    "version": 3
   },
   "pygments_lexer": "ipython3",
   "nbconvert_exporter": "python",
   "file_extension": ".py"
  }
 },
 "nbformat_minor": 4,
 "nbformat": 4,
 "cells": [
  {
   "cell_type": "markdown",
   "source": [
    "# Hyperparameters Optimization"
   ],
   "metadata": {
    "papermill": {
     "duration": 0.005807,
     "end_time": "2022-12-06T08:34:25.161437",
     "exception": false,
     "start_time": "2022-12-06T08:34:25.155630",
     "status": "completed"
    },
    "tags": []
   }
  },
  {
   "cell_type": "markdown",
   "source": [
    "### Importing github repository"
   ],
   "metadata": {
    "papermill": {
     "duration": 0.0053,
     "end_time": "2022-12-06T08:34:25.172693",
     "exception": false,
     "start_time": "2022-12-06T08:34:25.167393",
     "status": "completed"
    },
    "tags": []
   }
  },
  {
   "cell_type": "code",
   "source": [
    "from kaggle_secrets import UserSecretsClient\n",
    "user_secrets = UserSecretsClient()\n",
    "token = user_secrets.get_secret(\"token\")\n",
    "\n",
    "!git clone https://{token}@github.com/Benedart/RecSys-2022-Challenge-Polimi.git"
   ],
   "metadata": {
    "papermill": {
     "duration": 2.694227,
     "end_time": "2022-12-06T08:34:27.872323",
     "exception": false,
     "start_time": "2022-12-06T08:34:25.178096",
     "status": "completed"
    },
    "tags": [],
    "execution": {
     "iopub.status.busy": "2022-12-11T11:20:58.361034Z",
     "iopub.execute_input": "2022-12-11T11:20:58.361500Z",
     "iopub.status.idle": "2022-12-11T11:21:42.467678Z",
     "shell.execute_reply.started": "2022-12-11T11:20:58.361411Z",
     "shell.execute_reply": "2022-12-11T11:21:42.466279Z"
    },
    "trusted": true
   },
   "execution_count": 1,
   "outputs": [
    {
     "name": "stdout",
     "text": "Cloning into 'RecSys-2022-Challenge-Polimi'...\nremote: Enumerating objects: 338, done.\u001B[K\nremote: Counting objects: 100% (135/135), done.\u001B[K\nremote: Compressing objects: 100% (95/95), done.\u001B[K\nremote: Total 338 (delta 52), reused 121 (delta 40), pack-reused 203\u001B[K\nReceiving objects: 100% (338/338), 343.19 MiB | 15.68 MiB/s, done.\nResolving deltas: 100% (87/87), done.\nUpdating files: 100% (186/186), done.\n",
     "output_type": "stream"
    }
   ]
  },
  {
   "cell_type": "markdown",
   "source": [
    "#### Compiling Cython files"
   ],
   "metadata": {
    "papermill": {
     "duration": 0.005514,
     "end_time": "2022-12-06T08:34:27.884183",
     "exception": false,
     "start_time": "2022-12-06T08:34:27.878669",
     "status": "completed"
    },
    "tags": []
   }
  },
  {
   "cell_type": "code",
   "source": [
    "import os\n",
    "\n",
    "os.chdir( \"./RecSys-2022-Challenge-Polimi\")\n",
    "!python run_compile_all_cython.py"
   ],
   "metadata": {
    "papermill": {
     "duration": 134.576019,
     "end_time": "2022-12-06T08:36:42.465897",
     "exception": false,
     "start_time": "2022-12-06T08:34:27.889878",
     "status": "completed"
    },
    "tags": [],
    "execution": {
     "iopub.status.busy": "2022-12-11T11:21:42.470222Z",
     "iopub.execute_input": "2022-12-11T11:21:42.470610Z",
     "iopub.status.idle": "2022-12-11T11:24:34.937625Z",
     "shell.execute_reply.started": "2022-12-11T11:21:42.470572Z",
     "shell.execute_reply": "2022-12-11T11:24:34.936093Z"
    },
    "trusted": true
   },
   "execution_count": 2,
   "outputs": [
    {
     "name": "stdout",
     "text": "run_compile_all_cython: Found 10 Cython files in 4 folders...\nrun_compile_all_cython: All files will be compiled using your current python environment: '/opt/conda/bin/python'\nCompiling [1/10]: MatrixFactorization_Cython_Epoch.pyx... \nIn file included from \u001B[01m\u001B[K/opt/conda/lib/python3.7/site-packages/numpy/core/include/numpy/ndarraytypes.h:1969\u001B[m\u001B[K,\n                 from \u001B[01m\u001B[K/opt/conda/lib/python3.7/site-packages/numpy/core/include/numpy/ndarrayobject.h:12\u001B[m\u001B[K,\n                 from \u001B[01m\u001B[K/opt/conda/lib/python3.7/site-packages/numpy/core/include/numpy/arrayobject.h:4\u001B[m\u001B[K,\n                 from \u001B[01m\u001B[KMatrixFactorization_Cython_Epoch.c:746\u001B[m\u001B[K:\n\u001B[01m\u001B[K/opt/conda/lib/python3.7/site-packages/numpy/core/include/numpy/npy_1_7_deprecated_api.h:17:2:\u001B[m\u001B[K \u001B[01;35m\u001B[Kwarning: \u001B[m\u001B[K#warning \"Using deprecated NumPy API, disable it with \" \"#define NPY_NO_DEPRECATED_API NPY_1_7_API_VERSION\" [\u001B[01;35m\u001B[K-Wcpp\u001B[m\u001B[K]\n   17 | #\u001B[01;35m\u001B[Kwarning\u001B[m\u001B[K \"Using deprecated NumPy API, disable it with \" \\\n      |  \u001B[01;35m\u001B[K^~~~~~~\u001B[m\u001B[K\n\u001B[01m\u001B[KMatrixFactorization_Cython_Epoch.c:\u001B[m\u001B[K In function ‘\u001B[01m\u001B[K__pyx_pf_32MatrixFactorization_Cython_Epoch_32MatrixFactorization_Cython_Epoch_10epochIteration_Cython_ASY_SVD_SGD\u001B[m\u001B[K’:\n\u001B[01m\u001B[KMatrixFactorization_Cython_Epoch.c:8669:9:\u001B[m\u001B[K \u001B[01;35m\u001B[Kwarning: \u001B[m\u001B[K‘\u001B[01m\u001B[K__pyx_v_end_pos_seen_items\u001B[m\u001B[K’ may be used uninitialized in this function [\u001B[01;35m\u001B[K-Wmaybe-uninitialized\u001B[m\u001B[K]\n 8669 |         \u001B[01;35m\u001B[Kfor\u001B[m\u001B[K (__pyx_t_19 = __pyx_v_start_pos_seen_items; __pyx_t_19 < __pyx_t_18; __pyx_t_19+=1) {\n      |         \u001B[01;35m\u001B[K^~~\u001B[m\u001B[K\n\u001B[01m\u001B[KMatrixFactorization_Cython_Epoch.c:8669:9:\u001B[m\u001B[K \u001B[01;35m\u001B[Kwarning: \u001B[m\u001B[K‘\u001B[01m\u001B[K__pyx_v_start_pos_seen_items\u001B[m\u001B[K’ may be used uninitialized in this function [\u001B[01;35m\u001B[K-Wmaybe-uninitialized\u001B[m\u001B[K]\n/opt/conda/lib/python3.7/site-packages/Cython/Compiler/Main.py:369: FutureWarning: Cython directive 'language_level' not set, using 2 for now (Py2). This will change in a later release! File: /kaggle/working/RecSys-2022-Challenge-Polimi/Recommenders/MatrixFactorization/Cython/MatrixFactorization_Cython_Epoch.pyx\n  tree = Parsing.p_module(s, pxd, full_module_name)\nCompiling [1/10]: MatrixFactorization_Cython_Epoch.pyx... PASS\n\nCompiling [2/10]: MatrixFactorizationImpressions_Cython_Epoch.pyx... \nIn file included from \u001B[01m\u001B[K/opt/conda/lib/python3.7/site-packages/numpy/core/include/numpy/ndarraytypes.h:1969\u001B[m\u001B[K,\n                 from \u001B[01m\u001B[K/opt/conda/lib/python3.7/site-packages/numpy/core/include/numpy/ndarrayobject.h:12\u001B[m\u001B[K,\n                 from \u001B[01m\u001B[K/opt/conda/lib/python3.7/site-packages/numpy/core/include/numpy/arrayobject.h:4\u001B[m\u001B[K,\n                 from \u001B[01m\u001B[KMatrixFactorizationImpressions_Cython_Epoch.c:746\u001B[m\u001B[K:\n\u001B[01m\u001B[K/opt/conda/lib/python3.7/site-packages/numpy/core/include/numpy/npy_1_7_deprecated_api.h:17:2:\u001B[m\u001B[K \u001B[01;35m\u001B[Kwarning: \u001B[m\u001B[K#warning \"Using deprecated NumPy API, disable it with \" \"#define NPY_NO_DEPRECATED_API NPY_1_7_API_VERSION\" [\u001B[01;35m\u001B[K-Wcpp\u001B[m\u001B[K]\n   17 | #\u001B[01;35m\u001B[Kwarning\u001B[m\u001B[K \"Using deprecated NumPy API, disable it with \" \\\n      |  \u001B[01;35m\u001B[K^~~~~~~\u001B[m\u001B[K\n\u001B[01m\u001B[KMatrixFactorizationImpressions_Cython_Epoch.c:\u001B[m\u001B[K In function ‘\u001B[01m\u001B[K__pyx_f_43MatrixFactorizationImpressions_Cython_Epoch_32MatrixFactorization_Cython_Epoch_sampleBPR_Cython\u001B[m\u001B[K’:\n\u001B[01m\u001B[KMatrixFactorizationImpressions_Cython_Epoch.c:12758:17:\u001B[m\u001B[K \u001B[01;35m\u001B[Kwarning: \u001B[m\u001B[K‘\u001B[01m\u001B[K__pyx_v_start_pos_impression_items\u001B[m\u001B[K’ may be used uninitialized in this function [\u001B[01;35m\u001B[K-Wmaybe-uninitialized\u001B[m\u001B[K]\n12758 |       \u001B[01;35m\u001B[K__pyx_t_4 = (__pyx_v_start_pos_impression_items + __pyx_v_index)\u001B[m\u001B[K;\n      |       \u001B[01;35m\u001B[K~~~~~~~~~~^~~~~~~~~~~~~~~~~~~~~~~~~~~~~~~~~~~~~~~~~~~~~~~~~~~~~~\u001B[m\u001B[K\n\u001B[01m\u001B[KMatrixFactorizationImpressions_Cython_Epoch.c:\u001B[m\u001B[K In function ‘\u001B[01m\u001B[K__pyx_pf_43MatrixFactorizationImpressions_Cython_Epoch_32MatrixFactorization_Cython_Epoch_10epochIteration_Cython_ASY_SVD_SGD\u001B[m\u001B[K’:\n\u001B[01m\u001B[KMatrixFactorizationImpressions_Cython_Epoch.c:8736:7:\u001B[m\u001B[K \u001B[01;35m\u001B[Kwarning: \u001B[m\u001B[K‘\u001B[01m\u001B[K__pyx_v_end_pos_seen_items\u001B[m\u001B[K’ may be used uninitialized in this function [\u001B[01;35m\u001B[K-Wmaybe-uninitialized\u001B[m\u001B[K]\n 8736 |       \u001B[01;35m\u001B[Kfor\u001B[m\u001B[K (__pyx_t_19 = __pyx_v_start_pos_seen_items; __pyx_t_19 < __pyx_t_18; __pyx_t_19+=1) {\n      |       \u001B[01;35m\u001B[K^~~\u001B[m\u001B[K\n\u001B[01m\u001B[KMatrixFactorizationImpressions_Cython_Epoch.c:8736:7:\u001B[m\u001B[K \u001B[01;35m\u001B[Kwarning: \u001B[m\u001B[K‘\u001B[01m\u001B[K__pyx_v_start_pos_seen_items\u001B[m\u001B[K’ may be used uninitialized in this function [\u001B[01;35m\u001B[K-Wmaybe-uninitialized\u001B[m\u001B[K]\n/opt/conda/lib/python3.7/site-packages/Cython/Compiler/Main.py:369: FutureWarning: Cython directive 'language_level' not set, using 2 for now (Py2). This will change in a later release! File: /kaggle/working/RecSys-2022-Challenge-Polimi/Recommenders/MatrixFactorization/Cython/MatrixFactorizationImpressions_Cython_Epoch.pyx\n  tree = Parsing.p_module(s, pxd, full_module_name)\nCompiling [2/10]: MatrixFactorizationImpressions_Cython_Epoch.pyx... PASS\n\nCompiling [3/10]: Compute_Similarity_Cython.pyx... \nIn file included from \u001B[01m\u001B[K/opt/conda/lib/python3.7/site-packages/numpy/core/include/numpy/ndarraytypes.h:1969\u001B[m\u001B[K,\n                 from \u001B[01m\u001B[K/opt/conda/lib/python3.7/site-packages/numpy/core/include/numpy/ndarrayobject.h:12\u001B[m\u001B[K,\n                 from \u001B[01m\u001B[K/opt/conda/lib/python3.7/site-packages/numpy/core/include/numpy/arrayobject.h:4\u001B[m\u001B[K,\n                 from \u001B[01m\u001B[KCompute_Similarity_Cython.c:746\u001B[m\u001B[K:\n\u001B[01m\u001B[K/opt/conda/lib/python3.7/site-packages/numpy/core/include/numpy/npy_1_7_deprecated_api.h:17:2:\u001B[m\u001B[K \u001B[01;35m\u001B[Kwarning: \u001B[m\u001B[K#warning \"Using deprecated NumPy API, disable it with \" \"#define NPY_NO_DEPRECATED_API NPY_1_7_API_VERSION\" [\u001B[01;35m\u001B[K-Wcpp\u001B[m\u001B[K]\n   17 | #\u001B[01;35m\u001B[Kwarning\u001B[m\u001B[K \"Using deprecated NumPy API, disable it with \" \\\n      |  \u001B[01;35m\u001B[K^~~~~~~\u001B[m\u001B[K\n/opt/conda/lib/python3.7/site-packages/Cython/Compiler/Main.py:369: FutureWarning: Cython directive 'language_level' not set, using 2 for now (Py2). This will change in a later release! File: /kaggle/working/RecSys-2022-Challenge-Polimi/Recommenders/Similarity/Cython/Compute_Similarity_Cython.pyx\n  tree = Parsing.p_module(s, pxd, full_module_name)\nCompiling [3/10]: Compute_Similarity_Cython.pyx... PASS\n\nCompiling [4/10]: SLIM_BPR_Cython_Epoch.pyx... \nwarning: SLIM_BPR_Cython_Epoch.pyx:633:34: Non-trivial type declarators in shared declaration (e.g. mix of pointers and values). Each pointer declaration should be on its own line.\nwarning: SLIM_BPR_Cython_Epoch.pyx:633:66: Non-trivial type declarators in shared declaration (e.g. mix of pointers and values). Each pointer declaration should be on its own line.\nwarning: SLIM_BPR_Cython_Epoch.pyx:818:35: Non-trivial type declarators in shared declaration (e.g. mix of pointers and values). Each pointer declaration should be on its own line.\nwarning: SLIM_BPR_Cython_Epoch.pyx:818:52: Non-trivial type declarators in shared declaration (e.g. mix of pointers and values). Each pointer declaration should be on its own line.\nwarning: SLIM_BPR_Cython_Epoch.pyx:917:35: Non-trivial type declarators in shared declaration (e.g. mix of pointers and values). Each pointer declaration should be on its own line.\nwarning: SLIM_BPR_Cython_Epoch.pyx:917:53: Non-trivial type declarators in shared declaration (e.g. mix of pointers and values). Each pointer declaration should be on its own line.\nwarning: SLIM_BPR_Cython_Epoch.pyx:917:69: Non-trivial type declarators in shared declaration (e.g. mix of pointers and values). Each pointer declaration should be on its own line.\nwarning: SLIM_BPR_Cython_Epoch.pyx:1052:35: Non-trivial type declarators in shared declaration (e.g. mix of pointers and values). Each pointer declaration should be on its own line.\nwarning: SLIM_BPR_Cython_Epoch.pyx:1052:42: Non-trivial type declarators in shared declaration (e.g. mix of pointers and values). Each pointer declaration should be on its own line.\nwarning: SLIM_BPR_Cython_Epoch.pyx:1053:35: Non-trivial type declarators in shared declaration (e.g. mix of pointers and values). Each pointer declaration should be on its own line.\nwarning: SLIM_BPR_Cython_Epoch.pyx:1053:53: Non-trivial type declarators in shared declaration (e.g. mix of pointers and values). Each pointer declaration should be on its own line.\nIn file included from \u001B[01m\u001B[K/opt/conda/lib/python3.7/site-packages/numpy/core/include/numpy/ndarraytypes.h:1969\u001B[m\u001B[K,\n                 from \u001B[01m\u001B[K/opt/conda/lib/python3.7/site-packages/numpy/core/include/numpy/ndarrayobject.h:12\u001B[m\u001B[K,\n                 from \u001B[01m\u001B[K/opt/conda/lib/python3.7/site-packages/numpy/core/include/numpy/arrayobject.h:4\u001B[m\u001B[K,\n                 from \u001B[01m\u001B[KSLIM_BPR_Cython_Epoch.c:746\u001B[m\u001B[K:\n\u001B[01m\u001B[K/opt/conda/lib/python3.7/site-packages/numpy/core/include/numpy/npy_1_7_deprecated_api.h:17:2:\u001B[m\u001B[K \u001B[01;35m\u001B[Kwarning: \u001B[m\u001B[K#warning \"Using deprecated NumPy API, disable it with \" \"#define NPY_NO_DEPRECATED_API NPY_1_7_API_VERSION\" [\u001B[01;35m\u001B[K-Wcpp\u001B[m\u001B[K]\n   17 | #\u001B[01;35m\u001B[Kwarning\u001B[m\u001B[K \"Using deprecated NumPy API, disable it with \" \\\n      |  \u001B[01;35m\u001B[K^~~~~~~\u001B[m\u001B[K\n\u001B[01m\u001B[KSLIM_BPR_Cython_Epoch.c:\u001B[m\u001B[K In function ‘\u001B[01m\u001B[K__pyx_f_21SLIM_BPR_Cython_Epoch_22Sparse_Matrix_Tree_CSR_test_list_tee_conversion\u001B[m\u001B[K’:\n\u001B[01m\u001B[KSLIM_BPR_Cython_Epoch.c:10848:15:\u001B[m\u001B[K \u001B[01;35m\u001B[Kwarning: \u001B[m\u001B[K‘\u001B[01m\u001B[K__pyx_v_previous_element\u001B[m\u001B[K’ may be used uninitialized in this function [\u001B[01;35m\u001B[K-Wmaybe-uninitialized\u001B[m\u001B[K]\n10848 |     \u001B[01;35m\u001B[K__pyx_t_7 = __pyx_v_current_element->lower\u001B[m\u001B[K;\n      |     \u001B[01;35m\u001B[K~~~~~~~~~~^~~~~~~~~~~~~~~~~~~~~~~~~~~~~~~~\u001B[m\u001B[K\n/opt/conda/lib/python3.7/site-packages/Cython/Compiler/Main.py:369: FutureWarning: Cython directive 'language_level' not set, using 2 for now (Py2). This will change in a later release! File: /kaggle/working/RecSys-2022-Challenge-Polimi/Recommenders/SLIM/Cython/SLIM_BPR_Cython_Epoch.pyx\n  tree = Parsing.p_module(s, pxd, full_module_name)\nwarning: SLIM_BPR_Cython_Epoch.pyx:633:34: Non-trivial type declarators in shared declaration (e.g. mix of pointers and values). Each pointer declaration should be on its own line.\nwarning: SLIM_BPR_Cython_Epoch.pyx:633:66: Non-trivial type declarators in shared declaration (e.g. mix of pointers and values). Each pointer declaration should be on its own line.\nwarning: SLIM_BPR_Cython_Epoch.pyx:818:35: Non-trivial type declarators in shared declaration (e.g. mix of pointers and values). Each pointer declaration should be on its own line.\nwarning: SLIM_BPR_Cython_Epoch.pyx:818:52: Non-trivial type declarators in shared declaration (e.g. mix of pointers and values). Each pointer declaration should be on its own line.\nwarning: SLIM_BPR_Cython_Epoch.pyx:917:35: Non-trivial type declarators in shared declaration (e.g. mix of pointers and values). Each pointer declaration should be on its own line.\nwarning: SLIM_BPR_Cython_Epoch.pyx:917:53: Non-trivial type declarators in shared declaration (e.g. mix of pointers and values). Each pointer declaration should be on its own line.\nwarning: SLIM_BPR_Cython_Epoch.pyx:917:69: Non-trivial type declarators in shared declaration (e.g. mix of pointers and values). Each pointer declaration should be on its own line.\nwarning: SLIM_BPR_Cython_Epoch.pyx:1052:35: Non-trivial type declarators in shared declaration (e.g. mix of pointers and values). Each pointer declaration should be on its own line.\nwarning: SLIM_BPR_Cython_Epoch.pyx:1052:42: Non-trivial type declarators in shared declaration (e.g. mix of pointers and values). Each pointer declaration should be on its own line.\nwarning: SLIM_BPR_Cython_Epoch.pyx:1053:35: Non-trivial type declarators in shared declaration (e.g. mix of pointers and values). Each pointer declaration should be on its own line.\nwarning: SLIM_BPR_Cython_Epoch.pyx:1053:53: Non-trivial type declarators in shared declaration (e.g. mix of pointers and values). Each pointer declaration should be on its own line.\nCompiling [4/10]: SLIM_BPR_Cython_Epoch.pyx... PASS\n\nCompiling [5/10]: Sparse_Matrix_Tree_CSR.pyx... \nwarning: Sparse_Matrix_Tree_CSR.pyx:132:34: Non-trivial type declarators in shared declaration (e.g. mix of pointers and values). Each pointer declaration should be on its own line.\nwarning: Sparse_Matrix_Tree_CSR.pyx:132:66: Non-trivial type declarators in shared declaration (e.g. mix of pointers and values). Each pointer declaration should be on its own line.\nwarning: Sparse_Matrix_Tree_CSR.pyx:343:35: Non-trivial type declarators in shared declaration (e.g. mix of pointers and values). Each pointer declaration should be on its own line.\nwarning: Sparse_Matrix_Tree_CSR.pyx:343:52: Non-trivial type declarators in shared declaration (e.g. mix of pointers and values). Each pointer declaration should be on its own line.\nwarning: Sparse_Matrix_Tree_CSR.pyx:442:35: Non-trivial type declarators in shared declaration (e.g. mix of pointers and values). Each pointer declaration should be on its own line.\nwarning: Sparse_Matrix_Tree_CSR.pyx:442:53: Non-trivial type declarators in shared declaration (e.g. mix of pointers and values). Each pointer declaration should be on its own line.\nwarning: Sparse_Matrix_Tree_CSR.pyx:442:69: Non-trivial type declarators in shared declaration (e.g. mix of pointers and values). Each pointer declaration should be on its own line.\nwarning: Sparse_Matrix_Tree_CSR.pyx:577:35: Non-trivial type declarators in shared declaration (e.g. mix of pointers and values). Each pointer declaration should be on its own line.\nwarning: Sparse_Matrix_Tree_CSR.pyx:577:42: Non-trivial type declarators in shared declaration (e.g. mix of pointers and values). Each pointer declaration should be on its own line.\nwarning: Sparse_Matrix_Tree_CSR.pyx:578:35: Non-trivial type declarators in shared declaration (e.g. mix of pointers and values). Each pointer declaration should be on its own line.\nwarning: Sparse_Matrix_Tree_CSR.pyx:578:53: Non-trivial type declarators in shared declaration (e.g. mix of pointers and values). Each pointer declaration should be on its own line.\nIn file included from \u001B[01m\u001B[K/opt/conda/lib/python3.7/site-packages/numpy/core/include/numpy/ndarraytypes.h:1969\u001B[m\u001B[K,\n                 from \u001B[01m\u001B[K/opt/conda/lib/python3.7/site-packages/numpy/core/include/numpy/ndarrayobject.h:12\u001B[m\u001B[K,\n                 from \u001B[01m\u001B[K/opt/conda/lib/python3.7/site-packages/numpy/core/include/numpy/arrayobject.h:4\u001B[m\u001B[K,\n                 from \u001B[01m\u001B[KSparse_Matrix_Tree_CSR.c:746\u001B[m\u001B[K:\n\u001B[01m\u001B[K/opt/conda/lib/python3.7/site-packages/numpy/core/include/numpy/npy_1_7_deprecated_api.h:17:2:\u001B[m\u001B[K \u001B[01;35m\u001B[Kwarning: \u001B[m\u001B[K#warning \"Using deprecated NumPy API, disable it with \" \"#define NPY_NO_DEPRECATED_API NPY_1_7_API_VERSION\" [\u001B[01;35m\u001B[K-Wcpp\u001B[m\u001B[K]\n   17 | #\u001B[01;35m\u001B[Kwarning\u001B[m\u001B[K \"Using deprecated NumPy API, disable it with \" \\\n      |  \u001B[01;35m\u001B[K^~~~~~~\u001B[m\u001B[K\n\u001B[01m\u001B[KSparse_Matrix_Tree_CSR.c:\u001B[m\u001B[K In function ‘\u001B[01m\u001B[K__pyx_f_22Sparse_Matrix_Tree_CSR_22Sparse_Matrix_Tree_CSR_test_list_tree_conversion\u001B[m\u001B[K’:\n\u001B[01m\u001B[KSparse_Matrix_Tree_CSR.c:5844:15:\u001B[m\u001B[K \u001B[01;35m\u001B[Kwarning: \u001B[m\u001B[K‘\u001B[01m\u001B[K__pyx_v_previous_element\u001B[m\u001B[K’ may be used uninitialized in this function [\u001B[01;35m\u001B[K-Wmaybe-uninitialized\u001B[m\u001B[K]\n 5844 |     \u001B[01;35m\u001B[K__pyx_t_7 = __pyx_v_current_element->lower\u001B[m\u001B[K;\n      |     \u001B[01;35m\u001B[K~~~~~~~~~~^~~~~~~~~~~~~~~~~~~~~~~~~~~~~~~~\u001B[m\u001B[K\n/opt/conda/lib/python3.7/site-packages/Cython/Compiler/Main.py:369: FutureWarning: Cython directive 'language_level' not set, using 2 for now (Py2). This will change in a later release! File: /kaggle/working/RecSys-2022-Challenge-Polimi/Recommenders/SLIM/Cython/Sparse_Matrix_Tree_CSR.pyx\n  tree = Parsing.p_module(s, pxd, full_module_name)\nwarning: Sparse_Matrix_Tree_CSR.pyx:132:34: Non-trivial type declarators in shared declaration (e.g. mix of pointers and values). Each pointer declaration should be on its own line.\nwarning: Sparse_Matrix_Tree_CSR.pyx:132:66: Non-trivial type declarators in shared declaration (e.g. mix of pointers and values). Each pointer declaration should be on its own line.\nwarning: Sparse_Matrix_Tree_CSR.pyx:343:35: Non-trivial type declarators in shared declaration (e.g. mix of pointers and values). Each pointer declaration should be on its own line.\nwarning: Sparse_Matrix_Tree_CSR.pyx:343:52: Non-trivial type declarators in shared declaration (e.g. mix of pointers and values). Each pointer declaration should be on its own line.\nwarning: Sparse_Matrix_Tree_CSR.pyx:442:35: Non-trivial type declarators in shared declaration (e.g. mix of pointers and values). Each pointer declaration should be on its own line.\nwarning: Sparse_Matrix_Tree_CSR.pyx:442:53: Non-trivial type declarators in shared declaration (e.g. mix of pointers and values). Each pointer declaration should be on its own line.\nwarning: Sparse_Matrix_Tree_CSR.pyx:442:69: Non-trivial type declarators in shared declaration (e.g. mix of pointers and values). Each pointer declaration should be on its own line.\nwarning: Sparse_Matrix_Tree_CSR.pyx:577:35: Non-trivial type declarators in shared declaration (e.g. mix of pointers and values). Each pointer declaration should be on its own line.\nwarning: Sparse_Matrix_Tree_CSR.pyx:577:42: Non-trivial type declarators in shared declaration (e.g. mix of pointers and values). Each pointer declaration should be on its own line.\nwarning: Sparse_Matrix_Tree_CSR.pyx:578:35: Non-trivial type declarators in shared declaration (e.g. mix of pointers and values). Each pointer declaration should be on its own line.\nwarning: Sparse_Matrix_Tree_CSR.pyx:578:53: Non-trivial type declarators in shared declaration (e.g. mix of pointers and values). Each pointer declaration should be on its own line.\nCompiling [5/10]: Sparse_Matrix_Tree_CSR.pyx... PASS\n\nCompiling [6/10]: Triangular_Matrix.pyx... \nIn file included from \u001B[01m\u001B[K/opt/conda/lib/python3.7/site-packages/numpy/core/include/numpy/ndarraytypes.h:1969\u001B[m\u001B[K,\n                 from \u001B[01m\u001B[K/opt/conda/lib/python3.7/site-packages/numpy/core/include/numpy/ndarrayobject.h:12\u001B[m\u001B[K,\n                 from \u001B[01m\u001B[K/opt/conda/lib/python3.7/site-packages/numpy/core/include/numpy/arrayobject.h:4\u001B[m\u001B[K,\n                 from \u001B[01m\u001B[KTriangular_Matrix.c:746\u001B[m\u001B[K:\n\u001B[01m\u001B[K/opt/conda/lib/python3.7/site-packages/numpy/core/include/numpy/npy_1_7_deprecated_api.h:17:2:\u001B[m\u001B[K \u001B[01;35m\u001B[Kwarning: \u001B[m\u001B[K#warning \"Using deprecated NumPy API, disable it with \" \"#define NPY_NO_DEPRECATED_API NPY_1_7_API_VERSION\" [\u001B[01;35m\u001B[K-Wcpp\u001B[m\u001B[K]\n   17 | #\u001B[01;35m\u001B[Kwarning\u001B[m\u001B[K \"Using deprecated NumPy API, disable it with \" \\\n      |  \u001B[01;35m\u001B[K^~~~~~~\u001B[m\u001B[K\n/opt/conda/lib/python3.7/site-packages/Cython/Compiler/Main.py:369: FutureWarning: Cython directive 'language_level' not set, using 2 for now (Py2). This will change in a later release! File: /kaggle/working/RecSys-2022-Challenge-Polimi/Recommenders/SLIM/Cython/Triangular_Matrix.pyx\n  tree = Parsing.p_module(s, pxd, full_module_name)\nCompiling [6/10]: Triangular_Matrix.pyx... PASS\n\nCompiling [7/10]: FBSM_Rating_Cython_SGD.pyx... \nIn file included from \u001B[01m\u001B[K/opt/conda/lib/python3.7/site-packages/numpy/core/include/numpy/ndarraytypes.h:1969\u001B[m\u001B[K,\n                 from \u001B[01m\u001B[K/opt/conda/lib/python3.7/site-packages/numpy/core/include/numpy/ndarrayobject.h:12\u001B[m\u001B[K,\n                 from \u001B[01m\u001B[K/opt/conda/lib/python3.7/site-packages/numpy/core/include/numpy/arrayobject.h:4\u001B[m\u001B[K,\n                 from \u001B[01m\u001B[KFBSM_Rating_Cython_SGD.c:746\u001B[m\u001B[K:\n\u001B[01m\u001B[K/opt/conda/lib/python3.7/site-packages/numpy/core/include/numpy/npy_1_7_deprecated_api.h:17:2:\u001B[m\u001B[K \u001B[01;35m\u001B[Kwarning: \u001B[m\u001B[K#warning \"Using deprecated NumPy API, disable it with \" \"#define NPY_NO_DEPRECATED_API NPY_1_7_API_VERSION\" [\u001B[01;35m\u001B[K-Wcpp\u001B[m\u001B[K]\n   17 | #\u001B[01;35m\u001B[Kwarning\u001B[m\u001B[K \"Using deprecated NumPy API, disable it with \" \\\n      |  \u001B[01;35m\u001B[K^~~~~~~\u001B[m\u001B[K\n\u001B[01m\u001B[KFBSM_Rating_Cython_SGD.c:\u001B[m\u001B[K In function ‘\u001B[01m\u001B[K__pyx_pf_22FBSM_Rating_Cython_SGD_22FBSM_Rating_Cython_SGD_2fit\u001B[m\u001B[K’:\n\u001B[01m\u001B[KFBSM_Rating_Cython_SGD.c:9031:55:\u001B[m\u001B[K \u001B[01;35m\u001B[Kwarning: \u001B[m\u001B[K‘\u001B[01m\u001B[K__pyx_v_num_sample\u001B[m\u001B[K’ may be used uninitialized in this function [\u001B[01;35m\u001B[K-Wmaybe-uninitialized\u001B[m\u001B[K]\n 9031 |   __pyx_t_5 = PyFloat_FromDouble((__pyx_v_cum_loss / \u001B[01;35m\u001B[K((double)__pyx_v_num_sample)\u001B[m\u001B[K)); if (unlikely(!__pyx_t_5)) __PYX_ERR(0, 551, __pyx_L1_error)\n      |                                                      \u001B[01;35m\u001B[K~^~~~~~~~~~~~~~~~~~~~~~~~~~~\u001B[m\u001B[K\n/opt/conda/lib/python3.7/site-packages/Cython/Compiler/Main.py:369: FutureWarning: Cython directive 'language_level' not set, using 2 for now (Py2). This will change in a later release! File: /kaggle/working/RecSys-2022-Challenge-Polimi/Recommenders/FeatureWeighting/Cython/FBSM_Rating_Cython_SGD.pyx\n  tree = Parsing.p_module(s, pxd, full_module_name)\nCompiling [7/10]: FBSM_Rating_Cython_SGD.pyx... PASS\n\nCompiling [8/10]: CFW_DVV_Similarity_Cython_SGD.pyx... \nIn file included from \u001B[01m\u001B[K/opt/conda/lib/python3.7/site-packages/numpy/core/include/numpy/ndarraytypes.h:1969\u001B[m\u001B[K,\n                 from \u001B[01m\u001B[K/opt/conda/lib/python3.7/site-packages/numpy/core/include/numpy/ndarrayobject.h:12\u001B[m\u001B[K,\n                 from \u001B[01m\u001B[K/opt/conda/lib/python3.7/site-packages/numpy/core/include/numpy/arrayobject.h:4\u001B[m\u001B[K,\n                 from \u001B[01m\u001B[KCFW_DVV_Similarity_Cython_SGD.c:746\u001B[m\u001B[K:\n\u001B[01m\u001B[K/opt/conda/lib/python3.7/site-packages/numpy/core/include/numpy/npy_1_7_deprecated_api.h:17:2:\u001B[m\u001B[K \u001B[01;35m\u001B[Kwarning: \u001B[m\u001B[K#warning \"Using deprecated NumPy API, disable it with \" \"#define NPY_NO_DEPRECATED_API NPY_1_7_API_VERSION\" [\u001B[01;35m\u001B[K-Wcpp\u001B[m\u001B[K]\n   17 | #\u001B[01;35m\u001B[Kwarning\u001B[m\u001B[K \"Using deprecated NumPy API, disable it with \" \\\n      |  \u001B[01;35m\u001B[K^~~~~~~\u001B[m\u001B[K\n/opt/conda/lib/python3.7/site-packages/Cython/Compiler/Main.py:369: FutureWarning: Cython directive 'language_level' not set, using 2 for now (Py2). This will change in a later release! File: /kaggle/working/RecSys-2022-Challenge-Polimi/Recommenders/FeatureWeighting/Cython/CFW_DVV_Similarity_Cython_SGD.pyx\n  tree = Parsing.p_module(s, pxd, full_module_name)\nCompiling [8/10]: CFW_DVV_Similarity_Cython_SGD.pyx... PASS\n\nCompiling [9/10]: HP3_Similarity_Cython_SGD.pyx... \nwarning: HP3_Similarity_Cython_SGD.pyx:113:40: Index should be typed for more efficient access\nIn file included from \u001B[01m\u001B[K/opt/conda/lib/python3.7/site-packages/numpy/core/include/numpy/ndarraytypes.h:1969\u001B[m\u001B[K,\n                 from \u001B[01m\u001B[K/opt/conda/lib/python3.7/site-packages/numpy/core/include/numpy/ndarrayobject.h:12\u001B[m\u001B[K,\n                 from \u001B[01m\u001B[K/opt/conda/lib/python3.7/site-packages/numpy/core/include/numpy/arrayobject.h:4\u001B[m\u001B[K,\n                 from \u001B[01m\u001B[KHP3_Similarity_Cython_SGD.c:746\u001B[m\u001B[K:\n\u001B[01m\u001B[K/opt/conda/lib/python3.7/site-packages/numpy/core/include/numpy/npy_1_7_deprecated_api.h:17:2:\u001B[m\u001B[K \u001B[01;35m\u001B[Kwarning: \u001B[m\u001B[K#warning \"Using deprecated NumPy API, disable it with \" \"#define NPY_NO_DEPRECATED_API NPY_1_7_API_VERSION\" [\u001B[01;35m\u001B[K-Wcpp\u001B[m\u001B[K]\n   17 | #\u001B[01;35m\u001B[Kwarning\u001B[m\u001B[K \"Using deprecated NumPy API, disable it with \" \\\n      |  \u001B[01;35m\u001B[K^~~~~~~\u001B[m\u001B[K\n\u001B[01m\u001B[KHP3_Similarity_Cython_SGD.c:\u001B[m\u001B[K In function ‘\u001B[01m\u001B[K__pyx_pf_25HP3_Similarity_Cython_SGD_25HP3_Similarity_Cython_SGD_4fit\u001B[m\u001B[K’:\n\u001B[01m\u001B[KHP3_Similarity_Cython_SGD.c:6303:55:\u001B[m\u001B[K \u001B[01;35m\u001B[Kwarning: \u001B[m\u001B[K‘\u001B[01m\u001B[K__pyx_v_sample_num\u001B[m\u001B[K’ may be used uninitialized in this function [\u001B[01;35m\u001B[K-Wmaybe-uninitialized\u001B[m\u001B[K]\n 6303 |   __pyx_t_1 = PyFloat_FromDouble((__pyx_v_cum_loss / \u001B[01;35m\u001B[K((double)__pyx_v_sample_num)\u001B[m\u001B[K)); if (unlikely(!__pyx_t_1)) __PYX_ERR(0, 291, __pyx_L1_error)\n      |                                                      \u001B[01;35m\u001B[K~^~~~~~~~~~~~~~~~~~~~~~~~~~~\u001B[m\u001B[K\n/opt/conda/lib/python3.7/site-packages/Cython/Compiler/Main.py:369: FutureWarning: Cython directive 'language_level' not set, using 2 for now (Py2). This will change in a later release! File: /kaggle/working/RecSys-2022-Challenge-Polimi/Recommenders/FeatureWeighting/Cython/HP3_Similarity_Cython_SGD.pyx\n  tree = Parsing.p_module(s, pxd, full_module_name)\nwarning: HP3_Similarity_Cython_SGD.pyx:113:40: Index should be typed for more efficient access\nCompiling [9/10]: HP3_Similarity_Cython_SGD.pyx... PASS\n\nCompiling [10/10]: CFW_D_Similarity_Cython_SGD.pyx... \nIn file included from \u001B[01m\u001B[K/opt/conda/lib/python3.7/site-packages/numpy/core/include/numpy/ndarraytypes.h:1969\u001B[m\u001B[K,\n                 from \u001B[01m\u001B[K/opt/conda/lib/python3.7/site-packages/numpy/core/include/numpy/ndarrayobject.h:12\u001B[m\u001B[K,\n                 from \u001B[01m\u001B[K/opt/conda/lib/python3.7/site-packages/numpy/core/include/numpy/arrayobject.h:4\u001B[m\u001B[K,\n                 from \u001B[01m\u001B[KCFW_D_Similarity_Cython_SGD.c:746\u001B[m\u001B[K:\n\u001B[01m\u001B[K/opt/conda/lib/python3.7/site-packages/numpy/core/include/numpy/npy_1_7_deprecated_api.h:17:2:\u001B[m\u001B[K \u001B[01;35m\u001B[Kwarning: \u001B[m\u001B[K#warning \"Using deprecated NumPy API, disable it with \" \"#define NPY_NO_DEPRECATED_API NPY_1_7_API_VERSION\" [\u001B[01;35m\u001B[K-Wcpp\u001B[m\u001B[K]\n   17 | #\u001B[01;35m\u001B[Kwarning\u001B[m\u001B[K \"Using deprecated NumPy API, disable it with \" \\\n      |  \u001B[01;35m\u001B[K^~~~~~~\u001B[m\u001B[K\n\u001B[01m\u001B[KCFW_D_Similarity_Cython_SGD.c:\u001B[m\u001B[K In function ‘\u001B[01m\u001B[K__pyx_pf_27CFW_D_Similarity_Cython_SGD_27CFW_D_Similarity_Cython_SGD_6fit\u001B[m\u001B[K’:\n\u001B[01m\u001B[KCFW_D_Similarity_Cython_SGD.c:6056:55:\u001B[m\u001B[K \u001B[01;35m\u001B[Kwarning: \u001B[m\u001B[K‘\u001B[01m\u001B[K__pyx_v_sample_num\u001B[m\u001B[K’ may be used uninitialized in this function [\u001B[01;35m\u001B[K-Wmaybe-uninitialized\u001B[m\u001B[K]\n 6056 |   __pyx_t_3 = PyFloat_FromDouble((__pyx_v_cum_loss / \u001B[01;35m\u001B[K((double)__pyx_v_sample_num)\u001B[m\u001B[K)); if (unlikely(!__pyx_t_3)) __PYX_ERR(0, 290, __pyx_L1_error)\n      |                                                      \u001B[01;35m\u001B[K~^~~~~~~~~~~~~~~~~~~~~~~~~~~\u001B[m\u001B[K\n/opt/conda/lib/python3.7/site-packages/Cython/Compiler/Main.py:369: FutureWarning: Cython directive 'language_level' not set, using 2 for now (Py2). This will change in a later release! File: /kaggle/working/RecSys-2022-Challenge-Polimi/Recommenders/FeatureWeighting/Cython/CFW_D_Similarity_Cython_SGD.pyx\n  tree = Parsing.p_module(s, pxd, full_module_name)\nCompiling [10/10]: CFW_D_Similarity_Cython_SGD.pyx... PASS\n\nrun_compile_all_cython: Compilation finished. SUCCESS.\nCompilation log can be found here: './result_experiments/run_compile_all_cython.txt'\n",
     "output_type": "stream"
    }
   ]
  },
  {
   "cell_type": "code",
   "source": [
    "import numpy as np # linear algebra\n",
    "import pandas as pd # data processing, CSV file I/O (e.g. pd.read_csv)\n",
    "import scipy.sparse as sps\n",
    "import csv\n",
    "\n",
    "from Recommenders.Recommender_import_list import *"
   ],
   "metadata": {
    "papermill": {
     "duration": 6.152286,
     "end_time": "2022-12-06T08:36:48.626996",
     "exception": false,
     "start_time": "2022-12-06T08:36:42.474710",
     "status": "completed"
    },
    "tags": [],
    "execution": {
     "iopub.status.busy": "2022-12-11T11:24:34.942323Z",
     "iopub.execute_input": "2022-12-11T11:24:34.942747Z",
     "iopub.status.idle": "2022-12-11T11:24:41.157236Z",
     "shell.execute_reply.started": "2022-12-11T11:24:34.942710Z",
     "shell.execute_reply": "2022-12-11T11:24:41.155766Z"
    },
    "trusted": true
   },
   "execution_count": 1,
   "outputs": [
    {
     "ename": "ModuleNotFoundError",
     "evalue": "No module named 'implicit'",
     "output_type": "error",
     "traceback": [
      "\u001B[0;31m---------------------------------------------------------------------------\u001B[0m",
      "\u001B[0;31mModuleNotFoundError\u001B[0m                       Traceback (most recent call last)",
      "\u001B[0;32m/tmp/ipykernel_11106/2311984242.py\u001B[0m in \u001B[0;36m<module>\u001B[0;34m\u001B[0m\n\u001B[1;32m      4\u001B[0m \u001B[0;32mimport\u001B[0m \u001B[0mcsv\u001B[0m\u001B[0;34m\u001B[0m\u001B[0;34m\u001B[0m\u001B[0m\n\u001B[1;32m      5\u001B[0m \u001B[0;34m\u001B[0m\u001B[0m\n\u001B[0;32m----> 6\u001B[0;31m \u001B[0;32mfrom\u001B[0m \u001B[0mRecommenders\u001B[0m\u001B[0;34m.\u001B[0m\u001B[0mRecommender_import_list\u001B[0m \u001B[0;32mimport\u001B[0m \u001B[0;34m*\u001B[0m\u001B[0;34m\u001B[0m\u001B[0;34m\u001B[0m\u001B[0m\n\u001B[0m",
      "\u001B[0;32m~/Documents/UNI2/RecSys/RecSys-2022-Challenge-Polimi/Recommenders/Recommender_import_list.py\u001B[0m in \u001B[0;36m<module>\u001B[0;34m\u001B[0m\n\u001B[1;32m     30\u001B[0m \u001B[0;32mfrom\u001B[0m \u001B[0mRecommenders\u001B[0m\u001B[0;34m.\u001B[0m\u001B[0mMatrixFactorization\u001B[0m\u001B[0;34m.\u001B[0m\u001B[0mCython\u001B[0m\u001B[0;34m.\u001B[0m\u001B[0mMatrixFactorization_Cython\u001B[0m \u001B[0;32mimport\u001B[0m \u001B[0mMatrixFactorization_BPR_Cython\u001B[0m\u001B[0;34m,\u001B[0m \u001B[0mMatrixFactorization_FunkSVD_Cython\u001B[0m\u001B[0;34m,\u001B[0m \u001B[0mMatrixFactorization_AsySVD_Cython\u001B[0m\u001B[0;34m\u001B[0m\u001B[0;34m\u001B[0m\u001B[0m\n\u001B[1;32m     31\u001B[0m \u001B[0;32mfrom\u001B[0m \u001B[0mRecommenders\u001B[0m\u001B[0;34m.\u001B[0m\u001B[0mMatrixFactorization\u001B[0m\u001B[0;34m.\u001B[0m\u001B[0mPureSVDRecommender\u001B[0m \u001B[0;32mimport\u001B[0m \u001B[0mPureSVDRecommender\u001B[0m\u001B[0;34m\u001B[0m\u001B[0;34m\u001B[0m\u001B[0m\n\u001B[0;32m---> 32\u001B[0;31m \u001B[0;32mfrom\u001B[0m \u001B[0mRecommenders\u001B[0m\u001B[0;34m.\u001B[0m\u001B[0mMatrixFactorization\u001B[0m\u001B[0;34m.\u001B[0m\u001B[0mIALSRecommender\u001B[0m \u001B[0;32mimport\u001B[0m \u001B[0mIALSRecommender\u001B[0m\u001B[0;34m\u001B[0m\u001B[0;34m\u001B[0m\u001B[0m\n\u001B[0m\u001B[1;32m     33\u001B[0m \u001B[0;32mfrom\u001B[0m \u001B[0mRecommenders\u001B[0m\u001B[0;34m.\u001B[0m\u001B[0mMatrixFactorization\u001B[0m\u001B[0;34m.\u001B[0m\u001B[0mNMFRecommender\u001B[0m \u001B[0;32mimport\u001B[0m \u001B[0mNMFRecommender\u001B[0m\u001B[0;34m\u001B[0m\u001B[0;34m\u001B[0m\u001B[0m\n\u001B[1;32m     34\u001B[0m \u001B[0;32mfrom\u001B[0m \u001B[0mRecommenders\u001B[0m\u001B[0;34m.\u001B[0m\u001B[0mEASE_R\u001B[0m\u001B[0;34m.\u001B[0m\u001B[0mEASE_R_Recommender\u001B[0m \u001B[0;32mimport\u001B[0m \u001B[0mEASE_R_Recommender\u001B[0m\u001B[0;34m\u001B[0m\u001B[0;34m\u001B[0m\u001B[0m\n",
      "\u001B[0;32m~/Documents/UNI2/RecSys/RecSys-2022-Challenge-Polimi/Recommenders/MatrixFactorization/IALSRecommender.py\u001B[0m in \u001B[0;36m<module>\u001B[0;34m\u001B[0m\n\u001B[1;32m     12\u001B[0m \u001B[0;32mimport\u001B[0m \u001B[0mnumpy\u001B[0m \u001B[0;32mas\u001B[0m \u001B[0mnp\u001B[0m\u001B[0;34m\u001B[0m\u001B[0;34m\u001B[0m\u001B[0m\n\u001B[1;32m     13\u001B[0m \u001B[0;34m\u001B[0m\u001B[0m\n\u001B[0;32m---> 14\u001B[0;31m \u001B[0;32mimport\u001B[0m \u001B[0mimplicit\u001B[0m\u001B[0;34m\u001B[0m\u001B[0;34m\u001B[0m\u001B[0m\n\u001B[0m\u001B[1;32m     15\u001B[0m \u001B[0;32mfrom\u001B[0m \u001B[0mData_manager\u001B[0m\u001B[0;34m.\u001B[0m\u001B[0mloaders\u001B[0m \u001B[0;32mimport\u001B[0m \u001B[0mcombine\u001B[0m\u001B[0;34m\u001B[0m\u001B[0;34m\u001B[0m\u001B[0m\n\u001B[1;32m     16\u001B[0m \u001B[0;34m\u001B[0m\u001B[0m\n",
      "\u001B[0;31mModuleNotFoundError\u001B[0m: No module named 'implicit'"
     ]
    }
   ]
  },
  {
   "cell_type": "markdown",
   "source": [
    "#### Importing URM & ICM"
   ],
   "metadata": {
    "papermill": {
     "duration": 0.008426,
     "end_time": "2022-12-06T08:36:48.644484",
     "exception": false,
     "start_time": "2022-12-06T08:36:48.636058",
     "status": "completed"
    },
    "tags": []
   }
  },
  {
   "cell_type": "code",
   "source": [
    "URM_all = pd.read_csv(\"/kaggle/input/recommender-system-2022-challenge-polimi/interactions_and_impressions.csv\")\n",
    "ICM_type = pd.read_csv(\"/kaggle/input/recommender-system-2022-challenge-polimi/data_ICM_type.csv\")\n",
    "ICM_length = pd.read_csv(\"/kaggle/input/recommender-system-2022-challenge-polimi/data_ICM_length.csv\")\n",
    "\n",
    "ICM_all = pd.concat([ICM_type, ICM_length]).sort_values(by='item_id')"
   ],
   "metadata": {
    "papermill": {
     "duration": 2.406565,
     "end_time": "2022-12-06T08:36:51.059556",
     "exception": false,
     "start_time": "2022-12-06T08:36:48.652991",
     "status": "completed"
    },
    "tags": [],
    "execution": {
     "iopub.status.busy": "2022-12-11T11:24:41.159922Z",
     "iopub.execute_input": "2022-12-11T11:24:41.160550Z",
     "iopub.status.idle": "2022-12-11T11:24:43.947957Z",
     "shell.execute_reply.started": "2022-12-11T11:24:41.160516Z",
     "shell.execute_reply": "2022-12-11T11:24:43.945691Z"
    },
    "trusted": true
   },
   "execution_count": 4,
   "outputs": [
    {
     "name": "stderr",
     "text": "/opt/conda/lib/python3.7/site-packages/IPython/core/interactiveshell.py:3552: DtypeWarning: Columns (2) have mixed types.Specify dtype option on import or set low_memory=False.\n  exec(code_obj, self.user_global_ns, self.user_ns)\n",
     "output_type": "stream"
    }
   ]
  },
  {
   "cell_type": "code",
   "source": [
    "URM_all"
   ],
   "metadata": {
    "papermill": {
     "duration": 0.039707,
     "end_time": "2022-12-06T08:36:51.108322",
     "exception": false,
     "start_time": "2022-12-06T08:36:51.068615",
     "status": "completed"
    },
    "tags": [],
    "execution": {
     "iopub.status.busy": "2022-12-11T11:24:43.949546Z",
     "iopub.execute_input": "2022-12-11T11:24:43.950052Z",
     "iopub.status.idle": "2022-12-11T11:24:43.973960Z",
     "shell.execute_reply.started": "2022-12-11T11:24:43.949982Z",
     "shell.execute_reply": "2022-12-11T11:24:43.972727Z"
    },
    "trusted": true
   },
   "execution_count": 5,
   "outputs": [
    {
     "execution_count": 5,
     "output_type": "execute_result",
     "data": {
      "text/plain": "         UserID  ItemID                                        Impressions  \\\n0             0      11  0,1,2,3,4,5,6,7,8,9,10,11,12,13,14,15,16,17,18,19   \n1             0      21                                                NaN   \n2             0      21                                                NaN   \n3             0      21                      20,21,22,23,24,25,26,27,28,29   \n4             0      21                                                NaN   \n...         ...     ...                                                ...   \n5826501   41628   20448                                                NaN   \n5826502   41628   20896                                                NaN   \n5826503   41628   21506                                                NaN   \n5826504   41628   22882                                                NaN   \n5826505   41628   23757                                                NaN   \n\n         Data  \n0           1  \n1           0  \n2           0  \n3           0  \n4           1  \n...       ...  \n5826501     0  \n5826502     1  \n5826503     1  \n5826504     0  \n5826505     0  \n\n[5826506 rows x 4 columns]",
      "text/html": "<div>\n<style scoped>\n    .dataframe tbody tr th:only-of-type {\n        vertical-align: middle;\n    }\n\n    .dataframe tbody tr th {\n        vertical-align: top;\n    }\n\n    .dataframe thead th {\n        text-align: right;\n    }\n</style>\n<table border=\"1\" class=\"dataframe\">\n  <thead>\n    <tr style=\"text-align: right;\">\n      <th></th>\n      <th>UserID</th>\n      <th>ItemID</th>\n      <th>Impressions</th>\n      <th>Data</th>\n    </tr>\n  </thead>\n  <tbody>\n    <tr>\n      <th>0</th>\n      <td>0</td>\n      <td>11</td>\n      <td>0,1,2,3,4,5,6,7,8,9,10,11,12,13,14,15,16,17,18,19</td>\n      <td>1</td>\n    </tr>\n    <tr>\n      <th>1</th>\n      <td>0</td>\n      <td>21</td>\n      <td>NaN</td>\n      <td>0</td>\n    </tr>\n    <tr>\n      <th>2</th>\n      <td>0</td>\n      <td>21</td>\n      <td>NaN</td>\n      <td>0</td>\n    </tr>\n    <tr>\n      <th>3</th>\n      <td>0</td>\n      <td>21</td>\n      <td>20,21,22,23,24,25,26,27,28,29</td>\n      <td>0</td>\n    </tr>\n    <tr>\n      <th>4</th>\n      <td>0</td>\n      <td>21</td>\n      <td>NaN</td>\n      <td>1</td>\n    </tr>\n    <tr>\n      <th>...</th>\n      <td>...</td>\n      <td>...</td>\n      <td>...</td>\n      <td>...</td>\n    </tr>\n    <tr>\n      <th>5826501</th>\n      <td>41628</td>\n      <td>20448</td>\n      <td>NaN</td>\n      <td>0</td>\n    </tr>\n    <tr>\n      <th>5826502</th>\n      <td>41628</td>\n      <td>20896</td>\n      <td>NaN</td>\n      <td>1</td>\n    </tr>\n    <tr>\n      <th>5826503</th>\n      <td>41628</td>\n      <td>21506</td>\n      <td>NaN</td>\n      <td>1</td>\n    </tr>\n    <tr>\n      <th>5826504</th>\n      <td>41628</td>\n      <td>22882</td>\n      <td>NaN</td>\n      <td>0</td>\n    </tr>\n    <tr>\n      <th>5826505</th>\n      <td>41628</td>\n      <td>23757</td>\n      <td>NaN</td>\n      <td>0</td>\n    </tr>\n  </tbody>\n</table>\n<p>5826506 rows × 4 columns</p>\n</div>"
     },
     "metadata": {}
    }
   ]
  },
  {
   "cell_type": "code",
   "source": [
    "ICM_all"
   ],
   "metadata": {
    "papermill": {
     "duration": 0.023683,
     "end_time": "2022-12-06T08:36:51.141574",
     "exception": false,
     "start_time": "2022-12-06T08:36:51.117891",
     "status": "completed"
    },
    "tags": [],
    "execution": {
     "iopub.status.busy": "2022-12-11T11:24:43.975166Z",
     "iopub.execute_input": "2022-12-11T11:24:43.975518Z",
     "iopub.status.idle": "2022-12-11T11:24:43.989323Z",
     "shell.execute_reply.started": "2022-12-11T11:24:43.975451Z",
     "shell.execute_reply": "2022-12-11T11:24:43.988153Z"
    },
    "trusted": true
   },
   "execution_count": 6,
   "outputs": [
    {
     "execution_count": 6,
     "output_type": "execute_result",
     "data": {
      "text/plain": "       item_id  feature_id  data\n0            0           1     1\n0            0           0     1\n1            1           0     1\n1            1           3     1\n2            2           4     1\n...        ...         ...   ...\n23088    27965           1     1\n23089    27966           0     1\n23089    27966           1     1\n23090    27967           4     1\n23090    27967           0     2\n\n[46182 rows x 3 columns]",
      "text/html": "<div>\n<style scoped>\n    .dataframe tbody tr th:only-of-type {\n        vertical-align: middle;\n    }\n\n    .dataframe tbody tr th {\n        vertical-align: top;\n    }\n\n    .dataframe thead th {\n        text-align: right;\n    }\n</style>\n<table border=\"1\" class=\"dataframe\">\n  <thead>\n    <tr style=\"text-align: right;\">\n      <th></th>\n      <th>item_id</th>\n      <th>feature_id</th>\n      <th>data</th>\n    </tr>\n  </thead>\n  <tbody>\n    <tr>\n      <th>0</th>\n      <td>0</td>\n      <td>1</td>\n      <td>1</td>\n    </tr>\n    <tr>\n      <th>0</th>\n      <td>0</td>\n      <td>0</td>\n      <td>1</td>\n    </tr>\n    <tr>\n      <th>1</th>\n      <td>1</td>\n      <td>0</td>\n      <td>1</td>\n    </tr>\n    <tr>\n      <th>1</th>\n      <td>1</td>\n      <td>3</td>\n      <td>1</td>\n    </tr>\n    <tr>\n      <th>2</th>\n      <td>2</td>\n      <td>4</td>\n      <td>1</td>\n    </tr>\n    <tr>\n      <th>...</th>\n      <td>...</td>\n      <td>...</td>\n      <td>...</td>\n    </tr>\n    <tr>\n      <th>23088</th>\n      <td>27965</td>\n      <td>1</td>\n      <td>1</td>\n    </tr>\n    <tr>\n      <th>23089</th>\n      <td>27966</td>\n      <td>0</td>\n      <td>1</td>\n    </tr>\n    <tr>\n      <th>23089</th>\n      <td>27966</td>\n      <td>1</td>\n      <td>1</td>\n    </tr>\n    <tr>\n      <th>23090</th>\n      <td>27967</td>\n      <td>4</td>\n      <td>1</td>\n    </tr>\n    <tr>\n      <th>23090</th>\n      <td>27967</td>\n      <td>0</td>\n      <td>2</td>\n    </tr>\n  </tbody>\n</table>\n<p>46182 rows × 3 columns</p>\n</div>"
     },
     "metadata": {}
    }
   ]
  },
  {
   "cell_type": "markdown",
   "source": [
    "#### Getting rid of duplicates and empty indices\n",
    "Let's start with the indices, the mapping is done for consistency"
   ],
   "metadata": {
    "papermill": {
     "duration": 0.009891,
     "end_time": "2022-12-06T08:36:51.161673",
     "exception": false,
     "start_time": "2022-12-06T08:36:51.151782",
     "status": "completed"
    },
    "tags": []
   }
  },
  {
   "cell_type": "code",
   "source": [
    "mapped_id, original_id = pd.factorize(URM_all[\"UserID\"].unique())\n",
    "user_original_Id_to_index = pd.Series(mapped_id, index=original_id)\n",
    "\n",
    "print(\"Unique UserID in the URM are {}\".format(len(original_id)))\n",
    "\n",
    "mapped_id, original_id = pd.factorize(URM_all[\"ItemID\"].unique())\n",
    "\n",
    "print(\"Unique ItemID in the URM are {}\".format(len(original_id)))\n",
    "\n",
    "all_item_indices = pd.concat([URM_all[\"ItemID\"], ICM_all[\"item_id\"]], ignore_index=True)\n",
    "mapped_id, original_id = pd.factorize(all_item_indices.unique())\n",
    "\n",
    "print(\"Unique ItemID in the URM and ICM are {}\".format(len(original_id)))\n",
    "\n",
    "item_original_ID_to_index = pd.Series(mapped_id, index=original_id)\n",
    "\n",
    "mapped_id, original_id = pd.factorize(ICM_all[\"feature_id\"].unique())\n",
    "feature_original_ID_to_index = pd.Series(mapped_id, index=original_id)\n",
    "\n",
    "print(\"Unique FeatureID in the URM are {}\".format(len(feature_original_ID_to_index)))\n",
    "\n",
    "URM_all[\"UserID\"] = URM_all[\"UserID\"].map(user_original_Id_to_index)\n",
    "URM_all[\"ItemID\"] = URM_all[\"ItemID\"].map(item_original_ID_to_index)\n",
    "ICM_all[\"item_id\"] = ICM_all[\"item_id\"].map(item_original_ID_to_index)\n",
    "ICM_all[\"feature_id\"] = ICM_all[\"feature_id\"].map(feature_original_ID_to_index)"
   ],
   "metadata": {
    "papermill": {
     "duration": 0.224761,
     "end_time": "2022-12-06T08:36:51.396405",
     "exception": false,
     "start_time": "2022-12-06T08:36:51.171644",
     "status": "completed"
    },
    "tags": [],
    "execution": {
     "iopub.status.busy": "2022-12-11T11:24:43.990528Z",
     "iopub.execute_input": "2022-12-11T11:24:43.990859Z",
     "iopub.status.idle": "2022-12-11T11:24:44.394750Z",
     "shell.execute_reply.started": "2022-12-11T11:24:43.990830Z",
     "shell.execute_reply": "2022-12-11T11:24:44.393339Z"
    },
    "trusted": true
   },
   "execution_count": 7,
   "outputs": [
    {
     "name": "stdout",
     "text": "Unique UserID in the URM are 41629\nUnique ItemID in the URM are 24507\nUnique ItemID in the URM and ICM are 27968\nUnique FeatureID in the URM are 6\n",
     "output_type": "stream"
    }
   ]
  },
  {
   "cell_type": "markdown",
   "source": [
    "And then we remove duplicate values"
   ],
   "metadata": {
    "papermill": {
     "duration": 0.011027,
     "end_time": "2022-12-06T08:36:51.417720",
     "exception": false,
     "start_time": "2022-12-06T08:36:51.406693",
     "status": "completed"
    },
    "tags": []
   }
  },
  {
   "cell_type": "code",
   "source": [
    "URM_all = URM_all.drop([\"Impressions\", \"Data\"], axis=1).drop_duplicates()\n",
    "URM_all[\"Rating\"] = 1\n",
    "ICM_all = ICM_all.drop_duplicates()"
   ],
   "metadata": {
    "papermill": {
     "duration": 0.567718,
     "end_time": "2022-12-06T08:36:51.995111",
     "exception": false,
     "start_time": "2022-12-06T08:36:51.427393",
     "status": "completed"
    },
    "tags": [],
    "execution": {
     "iopub.status.busy": "2022-12-11T11:24:44.396464Z",
     "iopub.execute_input": "2022-12-11T11:24:44.396977Z",
     "iopub.status.idle": "2022-12-11T11:24:44.880688Z",
     "shell.execute_reply.started": "2022-12-11T11:24:44.396929Z",
     "shell.execute_reply": "2022-12-11T11:24:44.879309Z"
    },
    "trusted": true
   },
   "execution_count": 8,
   "outputs": []
  },
  {
   "cell_type": "code",
   "source": [
    "URM_all"
   ],
   "metadata": {
    "papermill": {
     "duration": 0.025333,
     "end_time": "2022-12-06T08:36:52.030174",
     "exception": false,
     "start_time": "2022-12-06T08:36:52.004841",
     "status": "completed"
    },
    "tags": [],
    "execution": {
     "iopub.status.busy": "2022-12-11T11:24:44.882428Z",
     "iopub.execute_input": "2022-12-11T11:24:44.882939Z",
     "iopub.status.idle": "2022-12-11T11:24:44.897927Z",
     "shell.execute_reply.started": "2022-12-11T11:24:44.882886Z",
     "shell.execute_reply": "2022-12-11T11:24:44.896563Z"
    },
    "trusted": true
   },
   "execution_count": 9,
   "outputs": [
    {
     "execution_count": 9,
     "output_type": "execute_result",
     "data": {
      "text/plain": "         UserID  ItemID  Rating\n0             0       0       1\n1             0       1       1\n13            0       2       1\n28            0       3       1\n29            0       4       1\n...         ...     ...     ...\n5826501   41628    3700       1\n5826502   41628   12694       1\n5826503   41628   15132       1\n5826504   41628   18128       1\n5826505   41628   14573       1\n\n[1554640 rows x 3 columns]",
      "text/html": "<div>\n<style scoped>\n    .dataframe tbody tr th:only-of-type {\n        vertical-align: middle;\n    }\n\n    .dataframe tbody tr th {\n        vertical-align: top;\n    }\n\n    .dataframe thead th {\n        text-align: right;\n    }\n</style>\n<table border=\"1\" class=\"dataframe\">\n  <thead>\n    <tr style=\"text-align: right;\">\n      <th></th>\n      <th>UserID</th>\n      <th>ItemID</th>\n      <th>Rating</th>\n    </tr>\n  </thead>\n  <tbody>\n    <tr>\n      <th>0</th>\n      <td>0</td>\n      <td>0</td>\n      <td>1</td>\n    </tr>\n    <tr>\n      <th>1</th>\n      <td>0</td>\n      <td>1</td>\n      <td>1</td>\n    </tr>\n    <tr>\n      <th>13</th>\n      <td>0</td>\n      <td>2</td>\n      <td>1</td>\n    </tr>\n    <tr>\n      <th>28</th>\n      <td>0</td>\n      <td>3</td>\n      <td>1</td>\n    </tr>\n    <tr>\n      <th>29</th>\n      <td>0</td>\n      <td>4</td>\n      <td>1</td>\n    </tr>\n    <tr>\n      <th>...</th>\n      <td>...</td>\n      <td>...</td>\n      <td>...</td>\n    </tr>\n    <tr>\n      <th>5826501</th>\n      <td>41628</td>\n      <td>3700</td>\n      <td>1</td>\n    </tr>\n    <tr>\n      <th>5826502</th>\n      <td>41628</td>\n      <td>12694</td>\n      <td>1</td>\n    </tr>\n    <tr>\n      <th>5826503</th>\n      <td>41628</td>\n      <td>15132</td>\n      <td>1</td>\n    </tr>\n    <tr>\n      <th>5826504</th>\n      <td>41628</td>\n      <td>18128</td>\n      <td>1</td>\n    </tr>\n    <tr>\n      <th>5826505</th>\n      <td>41628</td>\n      <td>14573</td>\n      <td>1</td>\n    </tr>\n  </tbody>\n</table>\n<p>1554640 rows × 3 columns</p>\n</div>"
     },
     "metadata": {}
    }
   ]
  },
  {
   "cell_type": "code",
   "source": [
    "ICM_all"
   ],
   "metadata": {
    "papermill": {
     "duration": 0.027943,
     "end_time": "2022-12-06T08:36:52.068356",
     "exception": false,
     "start_time": "2022-12-06T08:36:52.040413",
     "status": "completed"
    },
    "tags": [],
    "execution": {
     "iopub.status.busy": "2022-12-11T11:24:44.903449Z",
     "iopub.execute_input": "2022-12-11T11:24:44.903970Z",
     "iopub.status.idle": "2022-12-11T11:24:44.918328Z",
     "shell.execute_reply.started": "2022-12-11T11:24:44.903924Z",
     "shell.execute_reply": "2022-12-11T11:24:44.917009Z"
    },
    "trusted": true
   },
   "execution_count": 10,
   "outputs": [
    {
     "execution_count": 10,
     "output_type": "execute_result",
     "data": {
      "text/plain": "       item_id  feature_id  data\n0         3668           0     1\n0         3668           1     1\n1         1945           1     1\n1         1945           2     1\n2        18373           3     1\n...        ...         ...   ...\n23088    27965           0     1\n23089    27966           1     1\n23089    27966           0     1\n23090    27967           3     1\n23090    27967           1     2\n\n[46182 rows x 3 columns]",
      "text/html": "<div>\n<style scoped>\n    .dataframe tbody tr th:only-of-type {\n        vertical-align: middle;\n    }\n\n    .dataframe tbody tr th {\n        vertical-align: top;\n    }\n\n    .dataframe thead th {\n        text-align: right;\n    }\n</style>\n<table border=\"1\" class=\"dataframe\">\n  <thead>\n    <tr style=\"text-align: right;\">\n      <th></th>\n      <th>item_id</th>\n      <th>feature_id</th>\n      <th>data</th>\n    </tr>\n  </thead>\n  <tbody>\n    <tr>\n      <th>0</th>\n      <td>3668</td>\n      <td>0</td>\n      <td>1</td>\n    </tr>\n    <tr>\n      <th>0</th>\n      <td>3668</td>\n      <td>1</td>\n      <td>1</td>\n    </tr>\n    <tr>\n      <th>1</th>\n      <td>1945</td>\n      <td>1</td>\n      <td>1</td>\n    </tr>\n    <tr>\n      <th>1</th>\n      <td>1945</td>\n      <td>2</td>\n      <td>1</td>\n    </tr>\n    <tr>\n      <th>2</th>\n      <td>18373</td>\n      <td>3</td>\n      <td>1</td>\n    </tr>\n    <tr>\n      <th>...</th>\n      <td>...</td>\n      <td>...</td>\n      <td>...</td>\n    </tr>\n    <tr>\n      <th>23088</th>\n      <td>27965</td>\n      <td>0</td>\n      <td>1</td>\n    </tr>\n    <tr>\n      <th>23089</th>\n      <td>27966</td>\n      <td>1</td>\n      <td>1</td>\n    </tr>\n    <tr>\n      <th>23089</th>\n      <td>27966</td>\n      <td>0</td>\n      <td>1</td>\n    </tr>\n    <tr>\n      <th>23090</th>\n      <td>27967</td>\n      <td>3</td>\n      <td>1</td>\n    </tr>\n    <tr>\n      <th>23090</th>\n      <td>27967</td>\n      <td>1</td>\n      <td>2</td>\n    </tr>\n  </tbody>\n</table>\n<p>46182 rows × 3 columns</p>\n</div>"
     },
     "metadata": {}
    }
   ]
  },
  {
   "cell_type": "markdown",
   "source": [
    "#### Creating the matrices"
   ],
   "metadata": {
    "papermill": {
     "duration": 0.013495,
     "end_time": "2022-12-06T08:36:52.093977",
     "exception": false,
     "start_time": "2022-12-06T08:36:52.080482",
     "status": "completed"
    },
    "tags": []
   }
  },
  {
   "cell_type": "code",
   "source": [
    "n_users = len(user_original_Id_to_index)\n",
    "n_items = len(item_original_ID_to_index)\n",
    "n_features = len(feature_original_ID_to_index)\n",
    "\n",
    "from sklearn.model_selection import train_test_split\n",
    "\n",
    "seed = 42\n",
    "\n",
    "(user_ids_training_validation, user_ids_test,\n",
    " item_ids_training_validation, item_ids_test,\n",
    " ratings_training_validation, ratings_test) = train_test_split(URM_all.UserID,\n",
    "                                                    URM_all.ItemID,\n",
    "                                                    URM_all.Rating,\n",
    "                                                    test_size=0.20,\n",
    "                                                    shuffle=True,\n",
    "                                                    random_state=seed)\n",
    "\n",
    "(user_ids_training, user_ids_validation,\n",
    " item_ids_training, item_ids_validation,\n",
    " ratings_training, ratings_validation) = train_test_split(user_ids_training_validation,\n",
    "                                                          item_ids_training_validation,\n",
    "                                                          ratings_training_validation,\n",
    "                                                          test_size=0.20,\n",
    "                                                          shuffle=True,\n",
    "                                                          random_state=seed)\n",
    "\n",
    "URM_all = sps.csr_matrix((URM_all.Rating, (URM_all.UserID, URM_all.ItemID)),\n",
    "                           shape = (n_users, n_items))\n",
    "\n",
    "URM_train = sps.csr_matrix((ratings_training, (user_ids_training, item_ids_training)),\n",
    "                           shape = (n_users, n_items))\n",
    "\n",
    "URM_validation = sps.csr_matrix((ratings_validation, (user_ids_validation, item_ids_validation)),\n",
    "                           shape = (n_users, n_items))\n",
    "\n",
    "URM_train_validation = sps.csr_matrix((ratings_training_validation, (user_ids_training_validation, item_ids_training_validation)),\n",
    "                           shape = (n_users, n_items))\n",
    "\n",
    "URM_test = sps.csr_matrix((ratings_test, (user_ids_test, item_ids_test)),\n",
    "                           shape = (n_users, n_items))\n",
    "\n",
    "\n",
    "ICM_all = sps.csr_matrix((np.ones(len(ICM_all[\"item_id\"].values)), \n",
    "                          (ICM_all[\"item_id\"].values, ICM_all[\"feature_id\"].values)),\n",
    "                        shape = (n_items, n_features))\n",
    "\n",
    "ICM_all.data = np.ones_like(ICM_all.data)\n",
    "\n",
    "ICM_all = sps.csr_matrix(ICM_all)\n",
    "features_per_item = np.ediff1d(ICM_all.indptr)\n",
    "\n",
    "ICM_all = sps.csc_matrix(ICM_all)\n",
    "items_per_feature = np.ediff1d(ICM_all.indptr)\n",
    "\n",
    "ICM_all = sps.csr_matrix(ICM_all)"
   ],
   "metadata": {
    "papermill": {
     "duration": 0.115712,
     "end_time": "2022-12-06T08:36:52.220229",
     "exception": false,
     "start_time": "2022-12-06T08:36:52.104517",
     "status": "completed"
    },
    "tags": [],
    "execution": {
     "iopub.status.busy": "2022-12-11T11:24:44.919740Z",
     "iopub.execute_input": "2022-12-11T11:24:44.920122Z",
     "iopub.status.idle": "2022-12-11T11:24:45.886336Z",
     "shell.execute_reply.started": "2022-12-11T11:24:44.920088Z",
     "shell.execute_reply": "2022-12-11T11:24:45.885154Z"
    },
    "trusted": true
   },
   "execution_count": 11,
   "outputs": []
  },
  {
   "cell_type": "markdown",
   "source": [
    "#### Setting up evaluators"
   ],
   "metadata": {
    "papermill": {
     "duration": 0.043787,
     "end_time": "2022-12-06T08:37:58.167702",
     "exception": false,
     "start_time": "2022-12-06T08:37:58.123915",
     "status": "completed"
    },
    "tags": []
   }
  },
  {
   "cell_type": "code",
   "source": [
    "from Evaluation.Evaluator import EvaluatorHoldout\n",
    "\n",
    "evaluator_validation = EvaluatorHoldout(URM_validation, cutoff_list=[10])\n",
    "evaluator_test = EvaluatorHoldout(URM_test, cutoff_list=[10])"
   ],
   "metadata": {
    "papermill": {
     "duration": 34.89703,
     "end_time": "2022-12-06T08:38:33.107502",
     "exception": false,
     "start_time": "2022-12-06T08:37:58.210472",
     "status": "completed"
    },
    "tags": [],
    "execution": {
     "iopub.status.busy": "2022-12-11T11:24:45.887860Z",
     "iopub.execute_input": "2022-12-11T11:24:45.888266Z",
     "iopub.status.idle": "2022-12-11T11:24:45.947400Z",
     "shell.execute_reply.started": "2022-12-11T11:24:45.888232Z",
     "shell.execute_reply": "2022-12-11T11:24:45.946083Z"
    },
    "trusted": true
   },
   "execution_count": 12,
   "outputs": [
    {
     "name": "stdout",
     "text": "EvaluatorHoldout: Ignoring 753 ( 1.8%) Users that have less than 1 test interactions\nEvaluatorHoldout: Ignoring 323 ( 0.8%) Users that have less than 1 test interactions\n",
     "output_type": "stream"
    }
   ]
  },
  {
   "cell_type": "markdown",
   "source": [
    "### Models"
   ],
   "metadata": {}
  },
  {
   "cell_type": "code",
   "source": [
    "SLIM_Elastic = SLIMElasticNetRecommender(URM_train_validation)\n",
    "SLIM_Elastic.fit(\n",
    "    topK=5325, \n",
    "    l1_ratio= 1e-05, \n",
    "    alpha= 0.001\n",
    ")"
   ],
   "metadata": {
    "execution": {
     "iopub.status.busy": "2022-12-11T11:24:45.948964Z",
     "iopub.execute_input": "2022-12-11T11:24:45.949732Z",
     "iopub.status.idle": "2022-12-11T12:57:58.883325Z",
     "shell.execute_reply.started": "2022-12-11T11:24:45.949685Z",
     "shell.execute_reply": "2022-12-11T12:57:58.882256Z"
    },
    "trusted": true
   },
   "execution_count": 13,
   "outputs": [
    {
     "name": "stdout",
     "text": "SLIMElasticNetRecommender: URM Detected 3461 (12.4%) items with no interactions.\nSLIMElasticNetRecommender: Processed 1324 ( 4.7%) in 5.00 min. Items per second: 4.41\nSLIMElasticNetRecommender: Processed 3310 (11.8%) in 10.00 min. Items per second: 5.51\nSLIMElasticNetRecommender: Processed 5522 (19.7%) in 15.00 min. Items per second: 6.13\nSLIMElasticNetRecommender: Processed 8015 (28.7%) in 20.00 min. Items per second: 6.68\nSLIMElasticNetRecommender: Processed 10559 (37.8%) in 25.00 min. Items per second: 7.04\nSLIMElasticNetRecommender: Processed 13235 (47.3%) in 30.00 min. Items per second: 7.35\nSLIMElasticNetRecommender: Processed 16018 (57.3%) in 35.01 min. Items per second: 7.63\nSLIMElasticNetRecommender: Processed 18767 (67.1%) in 40.01 min. Items per second: 7.82\nSLIMElasticNetRecommender: Processed 21528 (77.0%) in 45.01 min. Items per second: 7.97\nSLIMElasticNetRecommender: Processed 23791 (85.1%) in 50.01 min. Items per second: 7.93\nSLIMElasticNetRecommender: Processed 24776 (88.6%) in 55.01 min. Items per second: 7.51\nSLIMElasticNetRecommender: Processed 25159 (90.0%) in 1.00 hour. Items per second: 6.99\nSLIMElasticNetRecommender: Processed 25634 (91.7%) in 1.08 hour. Items per second: 6.57\nSLIMElasticNetRecommender: Processed 26142 (93.5%) in 1.17 hour. Items per second: 6.22\nSLIMElasticNetRecommender: Processed 26550 (94.9%) in 1.25 hour. Items per second: 5.90\nSLIMElasticNetRecommender: Processed 26928 (96.3%) in 1.33 hour. Items per second: 5.61\nSLIMElasticNetRecommender: Processed 27324 (97.7%) in 1.42 hour. Items per second: 5.35\nSLIMElasticNetRecommender: Processed 27714 (99.1%) in 1.50 hour. Items per second: 5.13\nSLIMElasticNetRecommender: Processed 27968 (100.0%) in 1.55 hour. Items per second: 5.00\n",
     "output_type": "stream"
    }
   ]
  },
  {
   "cell_type": "code",
   "source": [
    "ItemKNN_CFCBF = ItemKNN_CFCBF_Hybrid_Recommender(URM_train_validation, ICM_all)\n",
    "ItemKNN_CFCBF.fit(\n",
    "    topK= 40, \n",
    "    shrink= 34, \n",
    "    similarity= 'tversky', \n",
    "    normalize= True, \n",
    "    tversky_alpha= 0.1911656636857864, \n",
    "    tversky_beta= 1.4823556453405908, \n",
    "    ICM_weight= 0.026917911342859663\n",
    ")"
   ],
   "metadata": {
    "execution": {
     "iopub.status.busy": "2022-12-11T13:18:38.833563Z",
     "iopub.execute_input": "2022-12-11T13:18:38.834095Z",
     "iopub.status.idle": "2022-12-11T13:18:58.992589Z",
     "shell.execute_reply.started": "2022-12-11T13:18:38.834047Z",
     "shell.execute_reply": "2022-12-11T13:18:58.991576Z"
    },
    "trusted": true
   },
   "execution_count": 15,
   "outputs": [
    {
     "name": "stdout",
     "text": "ItemKNN_CFCBF_HybridRecommender: URM Detected 3461 (12.4%) items with no interactions.\nItemKNN_CFCBF_HybridRecommender: ICM Detected 4877 (17.4%) items with no features.\nSimilarity column 27968 (100.0%), 1413.50 column/sec. Elapsed time 19.79 sec\n",
     "output_type": "stream"
    }
   ]
  },
  {
   "cell_type": "code",
   "source": [
    "RP3Beta = RP3betaRecommender(URM_train_validation)\n",
    "RP3Beta.fit(\n",
    "    topK= 135,\n",
    "    alpha= 0.8473968835576251, \n",
    "    beta= 0.25814662527577076,\n",
    "    normalize_similarity= True\n",
    ")"
   ],
   "metadata": {
    "execution": {
     "iopub.status.busy": "2022-12-11T13:18:58.994411Z",
     "iopub.execute_input": "2022-12-11T13:18:58.995059Z",
     "iopub.status.idle": "2022-12-11T13:19:20.633141Z",
     "shell.execute_reply.started": "2022-12-11T13:18:58.995017Z",
     "shell.execute_reply": "2022-12-11T13:19:20.631756Z"
    },
    "trusted": true
   },
   "execution_count": 16,
   "outputs": [
    {
     "name": "stdout",
     "text": "RP3betaRecommender: URM Detected 3461 (12.4%) items with no interactions.\nRP3betaRecommender: Similarity column 27968 (100.0%), 1773.82 column/sec. Elapsed time 15.77 sec\n",
     "output_type": "stream"
    }
   ]
  },
  {
   "cell_type": "markdown",
   "source": [
    "#### Combining the models into the hybrid"
   ],
   "metadata": {}
  },
  {
   "cell_type": "code",
   "source": [
    "recommenders = [SLIM_Elastic, ItemKNN_CFCBF, RP3Beta] \n",
    "alphas = [2.0, 0.1523307518368696, 2.0]\n",
    "\n",
    "recommender = GeneralizedLinearHybridRecommender(\n",
    "    URM_train = URM_train_validation, \n",
    "    recommenders=recommenders\n",
    ")\n",
    "\n",
    "recommender.fit(alphas)"
   ],
   "metadata": {
    "execution": {
     "iopub.status.busy": "2022-12-11T13:20:05.032311Z",
     "iopub.execute_input": "2022-12-11T13:20:05.032725Z",
     "iopub.status.idle": "2022-12-11T13:20:05.079289Z",
     "shell.execute_reply.started": "2022-12-11T13:20:05.032695Z",
     "shell.execute_reply": "2022-12-11T13:20:05.077126Z"
    },
    "trusted": true
   },
   "execution_count": 18,
   "outputs": [
    {
     "name": "stdout",
     "text": "SLIMElasticNetItemKNN_CFCBF_HybridRP3betaHybridRecommender: URM Detected 3461 (12.4%) items with no interactions.\n",
     "output_type": "stream"
    }
   ]
  },
  {
   "cell_type": "code",
   "source": [
    "evaluator_test.evaluateRecommender(recommender)"
   ],
   "metadata": {
    "execution": {
     "iopub.status.busy": "2022-12-11T13:21:26.015962Z",
     "iopub.execute_input": "2022-12-11T13:21:26.016466Z",
     "iopub.status.idle": "2022-12-11T13:22:45.424311Z",
     "shell.execute_reply.started": "2022-12-11T13:21:26.016427Z",
     "shell.execute_reply": "2022-12-11T13:22:45.422318Z"
    },
    "trusted": true
   },
   "execution_count": 22,
   "outputs": [
    {
     "name": "stdout",
     "text": "EvaluatorHoldout: Processed 41306 (100.0%) in 1.32 min. Users per second: 520\n",
     "output_type": "stream"
    },
    {
     "execution_count": 22,
     "output_type": "execute_result",
     "data": {
      "text/plain": "(       PRECISION PRECISION_RECALL_MIN_DEN   RECALL       MAP MAP_MIN_DEN  \\\n cutoff                                                                     \n 10      0.069612                 0.095166  0.08263  0.035856    0.048042   \n \n              MRR      NDCG        F1  HIT_RATE ARHR_ALL_HITS  ...  \\\n cutoff                                                        ...   \n 10      0.217853  0.098936  0.075565  0.415412      0.276454  ...   \n \n        COVERAGE_USER COVERAGE_USER_HIT USERS_IN_GT DIVERSITY_GINI  \\\n cutoff                                                              \n 10          0.992241          0.412189    0.992241       0.015762   \n \n        SHANNON_ENTROPY RATIO_DIVERSITY_HERFINDAHL RATIO_DIVERSITY_GINI  \\\n cutoff                                                                   \n 10            8.638782                   0.992176             0.035417   \n \n        RATIO_SHANNON_ENTROPY RATIO_AVERAGE_POPULARITY RATIO_NOVELTY  \n cutoff                                                               \n 10                  0.640219                 4.511416      0.256346  \n \n [1 rows x 27 columns],\n 'CUTOFF: 10 - PRECISION: 0.0696122, PRECISION_RECALL_MIN_DEN: 0.0951661, RECALL: 0.0826302, MAP: 0.0358565, MAP_MIN_DEN: 0.0480417, MRR: 0.2178528, NDCG: 0.0989360, F1: 0.0755646, HIT_RATE: 0.4154118, ARHR_ALL_HITS: 0.2764544, NOVELTY: 0.0036950, AVERAGE_POPULARITY: 0.2287384, DIVERSITY_MEAN_INTER_LIST: 0.9185070, DIVERSITY_HERFINDAHL: 0.9918485, COVERAGE_ITEM: 0.1472397, COVERAGE_ITEM_HIT: 0.0534539, ITEMS_IN_GT: 0.8748212, COVERAGE_USER: 0.9922410, COVERAGE_USER_HIT: 0.4121886, USERS_IN_GT: 0.9922410, DIVERSITY_GINI: 0.0157621, SHANNON_ENTROPY: 8.6387817, RATIO_DIVERSITY_HERFINDAHL: 0.9921757, RATIO_DIVERSITY_GINI: 0.0354168, RATIO_SHANNON_ENTROPY: 0.6402189, RATIO_AVERAGE_POPULARITY: 4.5114160, RATIO_NOVELTY: 0.2563457, \\n')"
     },
     "metadata": {}
    }
   ]
  },
  {
   "cell_type": "markdown",
   "source": [
    "## Submission\n",
    "### Preparing the submission\n",
    "<br>\n",
    "Computing the original indexes"
   ],
   "metadata": {}
  },
  {
   "cell_type": "code",
   "source": [
    "target = pd.read_csv(filepath_or_buffer=\"/kaggle/input/recommender-system-2022-challenge-polimi/data_target_users_test.csv\",\n",
    "                                          sep=\",\",\n",
    "                                          header=0,\n",
    "                                          engine='python',\n",
    "                                          names=['id'])"
   ],
   "metadata": {
    "execution": {
     "iopub.status.busy": "2022-12-11T14:02:01.716186Z",
     "iopub.execute_input": "2022-12-11T14:02:01.716578Z",
     "iopub.status.idle": "2022-12-11T14:02:01.828459Z",
     "shell.execute_reply.started": "2022-12-11T14:02:01.716548Z",
     "shell.execute_reply": "2022-12-11T14:02:01.827358Z"
    },
    "trusted": true
   },
   "execution_count": 54,
   "outputs": []
  },
  {
   "cell_type": "code",
   "source": [
    "def write_recommendations(recommender, file_name):\n",
    "    recommendations = 'user_id,item_list'\n",
    "    f = open(file_name + \".csv\", \"w\")\n",
    "\n",
    "    for id in target['id']:\n",
    "        recommendations_per_user = recommender.recommend(user_id_array=id, remove_seen_flag=True, cutoff=10)\n",
    "\n",
    "        recommendation_string = str(user_original_Id_to_index[user_original_Id_to_index==id].index.item()\n",
    "                                    ) + ','\n",
    "\n",
    "        for rec in recommendations_per_user:\n",
    "            recommendation_string = recommendation_string + str(item_original_ID_to_index[item_original_ID_to_index==rec].index.item()) + ' '\n",
    "\n",
    "        recommendation_string = recommendation_string[:-1]\n",
    "        recommendations = recommendations + '\\n' + recommendation_string\n",
    "\n",
    "    f.write(recommendations)\n",
    "    f.close()"
   ],
   "metadata": {
    "execution": {
     "iopub.status.busy": "2022-12-11T13:47:49.650398Z",
     "iopub.execute_input": "2022-12-11T13:47:49.650963Z",
     "iopub.status.idle": "2022-12-11T13:47:49.662762Z",
     "shell.execute_reply.started": "2022-12-11T13:47:49.650917Z",
     "shell.execute_reply": "2022-12-11T13:47:49.661002Z"
    },
    "trusted": true
   },
   "execution_count": 41,
   "outputs": []
  },
  {
   "cell_type": "code",
   "source": [
    "write_recommendations(recommender = recommender, file_name = \"submission\")"
   ],
   "metadata": {
    "execution": {
     "iopub.status.busy": "2022-12-11T14:04:23.273908Z",
     "iopub.execute_input": "2022-12-11T14:04:23.274550Z",
     "iopub.status.idle": "2022-12-11T14:08:21.156857Z",
     "shell.execute_reply.started": "2022-12-11T14:04:23.274499Z",
     "shell.execute_reply": "2022-12-11T14:08:21.155209Z"
    },
    "trusted": true
   },
   "execution_count": 60,
   "outputs": []
  },
  {
   "cell_type": "code",
   "source": [
    "my_submission = pd.read_csv(\"submission.csv\")\n",
    "my_submission"
   ],
   "metadata": {
    "execution": {
     "iopub.status.busy": "2022-12-11T14:08:21.159477Z",
     "iopub.execute_input": "2022-12-11T14:08:21.160117Z",
     "iopub.status.idle": "2022-12-11T14:08:21.225272Z",
     "shell.execute_reply.started": "2022-12-11T14:08:21.160067Z",
     "shell.execute_reply": "2022-12-11T14:08:21.223907Z"
    },
    "trusted": true
   },
   "execution_count": 61,
   "outputs": [
    {
     "execution_count": 61,
     "output_type": "execute_result",
     "data": {
      "text/plain": "       user_id                                          item_list\n0            0              22 617 18484 752 23 20 29 2488 25 673\n1            1           20420 6874 61 56 665 393 352 450 62 1068\n2            2  7864 121 8819 453 6712 21319 18939 1311 1308 2...\n3            3                21 20 58 269 352 613 917 53 130 169\n4            4                 23 21 80 68 56 124 348 2106 541 64\n...        ...                                                ...\n41111    41624  7864 22403 10221 18939 617 11044 22441 8819 11...\n41112    41625                  53 21 23 25 393 56 270 20 596 450\n41113    41626            21 124 12118 23 393 53 55 20 22619 3546\n41114    41627  1514 1214 19705 17880 1561 1212 1859 71 4577 5069\n41115    41628          769 771 21 22 1022 929 3596 2904 1004 763\n\n[41116 rows x 2 columns]",
      "text/html": "<div>\n<style scoped>\n    .dataframe tbody tr th:only-of-type {\n        vertical-align: middle;\n    }\n\n    .dataframe tbody tr th {\n        vertical-align: top;\n    }\n\n    .dataframe thead th {\n        text-align: right;\n    }\n</style>\n<table border=\"1\" class=\"dataframe\">\n  <thead>\n    <tr style=\"text-align: right;\">\n      <th></th>\n      <th>user_id</th>\n      <th>item_list</th>\n    </tr>\n  </thead>\n  <tbody>\n    <tr>\n      <th>0</th>\n      <td>0</td>\n      <td>22 617 18484 752 23 20 29 2488 25 673</td>\n    </tr>\n    <tr>\n      <th>1</th>\n      <td>1</td>\n      <td>20420 6874 61 56 665 393 352 450 62 1068</td>\n    </tr>\n    <tr>\n      <th>2</th>\n      <td>2</td>\n      <td>7864 121 8819 453 6712 21319 18939 1311 1308 2...</td>\n    </tr>\n    <tr>\n      <th>3</th>\n      <td>3</td>\n      <td>21 20 58 269 352 613 917 53 130 169</td>\n    </tr>\n    <tr>\n      <th>4</th>\n      <td>4</td>\n      <td>23 21 80 68 56 124 348 2106 541 64</td>\n    </tr>\n    <tr>\n      <th>...</th>\n      <td>...</td>\n      <td>...</td>\n    </tr>\n    <tr>\n      <th>41111</th>\n      <td>41624</td>\n      <td>7864 22403 10221 18939 617 11044 22441 8819 11...</td>\n    </tr>\n    <tr>\n      <th>41112</th>\n      <td>41625</td>\n      <td>53 21 23 25 393 56 270 20 596 450</td>\n    </tr>\n    <tr>\n      <th>41113</th>\n      <td>41626</td>\n      <td>21 124 12118 23 393 53 55 20 22619 3546</td>\n    </tr>\n    <tr>\n      <th>41114</th>\n      <td>41627</td>\n      <td>1514 1214 19705 17880 1561 1212 1859 71 4577 5069</td>\n    </tr>\n    <tr>\n      <th>41115</th>\n      <td>41628</td>\n      <td>769 771 21 22 1022 929 3596 2904 1004 763</td>\n    </tr>\n  </tbody>\n</table>\n<p>41116 rows × 2 columns</p>\n</div>"
     },
     "metadata": {}
    }
   ]
  }
 ]
}
