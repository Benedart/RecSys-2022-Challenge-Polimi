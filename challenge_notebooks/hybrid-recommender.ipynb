{
 "metadata": {
  "kernelspec": {
   "language": "python",
   "display_name": "Python 3",
   "name": "python3"
  },
  "language_info": {
   "name": "python",
   "version": "3.7.12",
   "mimetype": "text/x-python",
   "codemirror_mode": {
    "name": "ipython",
    "version": 3
   },
   "pygments_lexer": "ipython3",
   "nbconvert_exporter": "python",
   "file_extension": ".py"
  }
 },
 "nbformat_minor": 4,
 "nbformat": 4,
 "cells": [
  {
   "cell_type": "markdown",
   "source": [
    "# Hybrid recommender"
   ],
   "metadata": {}
  },
  {
   "cell_type": "markdown",
   "source": [
    "### Importing github repository"
   ],
   "metadata": {}
  },
  {
   "cell_type": "code",
   "source": [
    "from kaggle_secrets import UserSecretsClient\n",
    "user_secrets = UserSecretsClient()\n",
    "token = user_secrets.get_secret(\"token\")\n",
    "\n",
    "!git clone https://{token}@github.com/Benedart/RecSys-2022-Challenge-Polimi.git"
   ],
   "metadata": {
    "execution": {
     "iopub.status.busy": "2023-01-15T15:24:35.135521Z",
     "iopub.execute_input": "2023-01-15T15:24:35.136854Z",
     "iopub.status.idle": "2023-01-15T15:24:36.379527Z",
     "shell.execute_reply.started": "2023-01-15T15:24:35.136715Z",
     "shell.execute_reply": "2023-01-15T15:24:36.377693Z"
    },
    "trusted": true
   },
   "execution_count": 1,
   "outputs": [
    {
     "name": "stdout",
     "text": "fatal: destination path 'RecSys-2022-Challenge-Polimi' already exists and is not an empty directory.\n",
     "output_type": "stream"
    }
   ]
  },
  {
   "cell_type": "code",
   "source": [
    "from kaggle_secrets import UserSecretsClient\n",
    "user_secrets = UserSecretsClient()\n",
    "token = user_secrets.get_secret(\"token\")\n",
    "\n",
    "import os\n",
    "\n",
    "os.chdir( \"./RecSys-2022-Challenge-Polimi\")\n",
    "\n",
    "!git pull https://{token}@github.com/Benedart/RecSys-2022-Challenge-Polimi.git"
   ],
   "metadata": {
    "execution": {
     "iopub.status.busy": "2023-01-15T15:24:38.831492Z",
     "iopub.execute_input": "2023-01-15T15:24:38.832206Z",
     "iopub.status.idle": "2023-01-15T15:24:49.091522Z",
     "shell.execute_reply.started": "2023-01-15T15:24:38.832158Z",
     "shell.execute_reply": "2023-01-15T15:24:49.090418Z"
    },
    "trusted": true
   },
   "execution_count": 2,
   "outputs": [
    {
     "name": "stdout",
     "text": "remote: Enumerating objects: 105, done.\u001B[K\nremote: Counting objects: 100% (51/51), done.\u001B[K\nremote: Compressing objects: 100% (33/33), done.\u001B[K\nremote: Total 105 (delta 27), reused 41 (delta 18), pack-reused 54\u001B[K\nReceiving objects: 100% (105/105), 113.39 MiB | 53.58 MiB/s, done.\nResolving deltas: 100% (50/50), completed with 6 local objects.\nFrom https://github.com/Benedart/RecSys-2022-Challenge-Polimi\n * branch            HEAD       -> FETCH_HEAD\nUpdating 23642d5..5b4c427\nFast-forward\n HyperparameterTuning/SearchAbstractClass.py        |   2 \u001B[32m+\u001B[m\u001B[31m-\u001B[m\n HyperparameterTuning/run_hyperparameter_search.py  |   4 \u001B[32m+\u001B[m\u001B[31m-\u001B[m\n .../Cython/MatrixFactorization_Cython.py           |  35 \u001B[32m+\u001B[m\u001B[31m-\u001B[m\n .../Cython/MatrixFactorization_Cython_Epoch.pyx    |  96 \u001B[32m++++\u001B[m\u001B[31m-\u001B[m\n Recommenders/Recommender_import_list.py            |   2 \u001B[32m+\u001B[m\u001B[31m-\u001B[m\n Recommenders/SLIM/Cython/Triangular_Matrix.pyx     |  24 \u001B[32m+\u001B[m\u001B[31m-\u001B[m\n challenge_notebooks/A look at ImpressionList.ipynb | 206 \u001B[32m+++++++++\u001B[m\n .../Classes to Identify Noise.ipynb                | 471 \u001B[32m+++++++++++++++++++++\u001B[m\n .../Experiments results/Best parameters.txt        | 129 \u001B[32m++++++\u001B[m\n .../XGBoost.txt                                    |   0\n .../Experriments results/Best parameters.txt       | 116 \u001B[31m-----\u001B[m\n models/SLIM_Elastic_all.zip                        | Bin \u001B[31m16992431\u001B[m -> \u001B[32m7146753\u001B[m bytes\n models/SLIM_Elastic_train.zip                      | Bin \u001B[31m11122968\u001B[m -> \u001B[32m4750118\u001B[m bytes\n models/SLIM_Elastic_train_validation.zip           | Bin \u001B[31m13842851\u001B[m -> \u001B[32m5865496\u001B[m bytes\n 14 files changed, 927 insertions(+), 158 deletions(-)\n create mode 100644 challenge_notebooks/A look at ImpressionList.ipynb\n create mode 100644 challenge_notebooks/Classes to Identify Noise.ipynb\n create mode 100644 challenge_notebooks/Experiments results/Best parameters.txt\n rename challenge_notebooks/{Experriments results => Experiments results}/XGBoost.txt (100%)\n delete mode 100644 challenge_notebooks/Experriments results/Best parameters.txt\n",
     "output_type": "stream"
    }
   ]
  },
  {
   "cell_type": "markdown",
   "source": [
    "#### Compiling Cython files"
   ],
   "metadata": {}
  },
  {
   "cell_type": "code",
   "source": [
    "import os\n",
    "\n",
    "os.chdir( \"./RecSys-2022-Challenge-Polimi\")"
   ],
   "metadata": {
    "trusted": true
   },
   "execution_count": null,
   "outputs": []
  },
  {
   "cell_type": "code",
   "source": [
    "import os\n",
    "\n",
    "os.chdir( \"./RecSys-2022-Challenge-Polimi\")\n",
    "!python run_compile_all_cython.py"
   ],
   "metadata": {
    "execution": {
     "iopub.status.busy": "2022-12-12T10:37:12.923559Z",
     "iopub.status.idle": "2022-12-12T10:37:12.923951Z",
     "shell.execute_reply.started": "2022-12-12T10:37:12.923793Z",
     "shell.execute_reply": "2022-12-12T10:37:12.923808Z"
    },
    "trusted": true
   },
   "execution_count": null,
   "outputs": []
  },
  {
   "cell_type": "code",
   "source": [
    "!cp -r /kaggle/input/recsys-models-optimization/result_experiments/SKOPT_test/ result_experiments/SKOPT_test/\n",
    "\n",
    "os.chdir(\"result_experiments/SKOPT_test\")\n",
    "! for i in */; do (cd \"$i\"; zip -r \"../${i%/}.zip\" .); done\n",
    "! rm -R -- */\n",
    "os.chdir(\"../..\")"
   ],
   "metadata": {
    "execution": {
     "iopub.status.busy": "2022-12-12T10:37:12.925173Z",
     "iopub.status.idle": "2022-12-12T10:37:12.925502Z",
     "shell.execute_reply.started": "2022-12-12T10:37:12.925326Z",
     "shell.execute_reply": "2022-12-12T10:37:12.925361Z"
    },
    "trusted": true
   },
   "execution_count": null,
   "outputs": []
  },
  {
   "cell_type": "code",
   "source": [
    "import numpy as np # linear algebra\n",
    "import pandas as pd # data processing, CSV file I/O (e.g. pd.read_csv)\n",
    "import scipy.sparse as sps\n",
    "import csv\n",
    "\n",
    "from Recommenders.Recommender_import_list import *"
   ],
   "metadata": {
    "execution": {
     "iopub.status.busy": "2023-01-15T15:25:10.351413Z",
     "iopub.execute_input": "2023-01-15T15:25:10.351899Z",
     "iopub.status.idle": "2023-01-15T15:25:17.258838Z",
     "shell.execute_reply.started": "2023-01-15T15:25:10.351857Z",
     "shell.execute_reply": "2023-01-15T15:25:17.257505Z"
    },
    "trusted": true
   },
   "execution_count": 4,
   "outputs": []
  },
  {
   "cell_type": "markdown",
   "source": [
    "#### Importing URM & ICM"
   ],
   "metadata": {}
  },
  {
   "cell_type": "code",
   "source": [
    "URM_all = pd.read_csv(\"/kaggle/input/recommender-system-2022-challenge-polimi/interactions_and_impressions.csv\")\n",
    "ICM_type = pd.read_csv(\"/kaggle/input/recommender-system-2022-challenge-polimi/data_ICM_type.csv\")\n",
    "ICM_length = pd.read_csv(\"/kaggle/input/recommender-system-2022-challenge-polimi/data_ICM_length.csv\")\n",
    "\n",
    "ICM_all = pd.concat([ICM_type, ICM_length]).sort_values(by='item_id')"
   ],
   "metadata": {
    "execution": {
     "iopub.status.busy": "2023-01-15T15:25:17.261441Z",
     "iopub.execute_input": "2023-01-15T15:25:17.262380Z",
     "iopub.status.idle": "2023-01-15T15:25:20.653882Z",
     "shell.execute_reply.started": "2023-01-15T15:25:17.262309Z",
     "shell.execute_reply": "2023-01-15T15:25:20.652603Z"
    },
    "trusted": true
   },
   "execution_count": 5,
   "outputs": [
    {
     "name": "stderr",
     "text": "/opt/conda/lib/python3.7/site-packages/IPython/core/interactiveshell.py:3552: DtypeWarning: Columns (2) have mixed types.Specify dtype option on import or set low_memory=False.\n  exec(code_obj, self.user_global_ns, self.user_ns)\n",
     "output_type": "stream"
    }
   ]
  },
  {
   "cell_type": "code",
   "source": [
    "URM_all"
   ],
   "metadata": {
    "execution": {
     "iopub.status.busy": "2022-12-12T10:37:12.928497Z",
     "iopub.status.idle": "2022-12-12T10:37:12.928782Z",
     "shell.execute_reply.started": "2022-12-12T10:37:12.928643Z",
     "shell.execute_reply": "2022-12-12T10:37:12.928657Z"
    },
    "trusted": true
   },
   "execution_count": null,
   "outputs": []
  },
  {
   "cell_type": "code",
   "source": [
    "ICM_all"
   ],
   "metadata": {
    "execution": {
     "iopub.status.busy": "2022-12-12T10:37:12.929837Z",
     "iopub.status.idle": "2022-12-12T10:37:12.930109Z",
     "shell.execute_reply.started": "2022-12-12T10:37:12.929978Z",
     "shell.execute_reply": "2022-12-12T10:37:12.929990Z"
    },
    "trusted": true
   },
   "execution_count": null,
   "outputs": []
  },
  {
   "cell_type": "markdown",
   "source": [
    "#### Getting rid of duplicates and empty indices\n",
    "Let's start with the indices, the mapping is done for consistency"
   ],
   "metadata": {}
  },
  {
   "cell_type": "code",
   "source": [
    "mapped_id, original_id = pd.factorize(URM_all[\"UserID\"].unique())\n",
    "user_original_Id_to_index = pd.Series(mapped_id, index=original_id)\n",
    "\n",
    "print(\"Unique UserID in the URM are {}\".format(len(original_id)))\n",
    "\n",
    "mapped_id, original_id = pd.factorize(URM_all[\"ItemID\"].unique())\n",
    "\n",
    "print(\"Unique ItemID in the URM are {}\".format(len(original_id)))\n",
    "\n",
    "all_item_indices = pd.concat([URM_all[\"ItemID\"], ICM_all[\"item_id\"]], ignore_index=True)\n",
    "mapped_id, original_id = pd.factorize(all_item_indices.unique())\n",
    "\n",
    "print(\"Unique ItemID in the URM and ICM are {}\".format(len(original_id)))\n",
    "\n",
    "item_original_ID_to_index = pd.Series(mapped_id, index=original_id)\n",
    "\n",
    "mapped_id, original_id = pd.factorize(ICM_all[\"feature_id\"].unique())\n",
    "feature_original_ID_to_index = pd.Series(mapped_id, index=original_id)\n",
    "\n",
    "print(\"Unique FeatureID in the URM are {}\".format(len(feature_original_ID_to_index)))\n",
    "\n",
    "URM_all[\"UserID\"] = URM_all[\"UserID\"].map(user_original_Id_to_index)\n",
    "URM_all[\"ItemID\"] = URM_all[\"ItemID\"].map(item_original_ID_to_index)\n",
    "ICM_all[\"item_id\"] = ICM_all[\"item_id\"].map(item_original_ID_to_index)\n",
    "ICM_all[\"feature_id\"] = ICM_all[\"feature_id\"].map(feature_original_ID_to_index)"
   ],
   "metadata": {
    "execution": {
     "iopub.status.busy": "2023-01-15T15:25:23.412337Z",
     "iopub.execute_input": "2023-01-15T15:25:23.412817Z",
     "iopub.status.idle": "2023-01-15T15:25:23.886204Z",
     "shell.execute_reply.started": "2023-01-15T15:25:23.412774Z",
     "shell.execute_reply": "2023-01-15T15:25:23.884633Z"
    },
    "trusted": true
   },
   "execution_count": 6,
   "outputs": [
    {
     "name": "stdout",
     "text": "Unique UserID in the URM are 41629\nUnique ItemID in the URM are 24507\nUnique ItemID in the URM and ICM are 27968\nUnique FeatureID in the URM are 6\n",
     "output_type": "stream"
    }
   ]
  },
  {
   "cell_type": "markdown",
   "source": [
    "And then we remove duplicate values"
   ],
   "metadata": {}
  },
  {
   "cell_type": "code",
   "source": [
    "URM_all = URM_all.drop([\"Impressions\", \"Data\"], axis=1).drop_duplicates()\n",
    "URM_all[\"Rating\"] = 1"
   ],
   "metadata": {
    "execution": {
     "iopub.status.busy": "2023-01-15T15:25:25.992516Z",
     "iopub.execute_input": "2023-01-15T15:25:25.993022Z",
     "iopub.status.idle": "2023-01-15T15:25:26.682290Z",
     "shell.execute_reply.started": "2023-01-15T15:25:25.992979Z",
     "shell.execute_reply": "2023-01-15T15:25:26.680992Z"
    },
    "trusted": true
   },
   "execution_count": 7,
   "outputs": []
  },
  {
   "cell_type": "code",
   "source": [
    "URM_all"
   ],
   "metadata": {
    "execution": {
     "iopub.status.busy": "2022-12-12T10:37:12.934026Z",
     "iopub.status.idle": "2022-12-12T10:37:12.934300Z",
     "shell.execute_reply.started": "2022-12-12T10:37:12.934163Z",
     "shell.execute_reply": "2022-12-12T10:37:12.934177Z"
    },
    "trusted": true
   },
   "execution_count": null,
   "outputs": []
  },
  {
   "cell_type": "code",
   "source": [
    "ICM_all"
   ],
   "metadata": {
    "execution": {
     "iopub.status.busy": "2022-12-12T10:37:12.936153Z",
     "iopub.status.idle": "2022-12-12T10:37:12.936577Z",
     "shell.execute_reply.started": "2022-12-12T10:37:12.936408Z",
     "shell.execute_reply": "2022-12-12T10:37:12.936425Z"
    },
    "trusted": true
   },
   "execution_count": null,
   "outputs": []
  },
  {
   "cell_type": "markdown",
   "source": [
    "#### Creating the matrices"
   ],
   "metadata": {}
  },
  {
   "cell_type": "code",
   "source": [
    "n_users = len(user_original_Id_to_index)\n",
    "n_items = len(item_original_ID_to_index)\n",
    "n_features = len(feature_original_ID_to_index)\n",
    "\n",
    "from sklearn.model_selection import train_test_split\n",
    "\n",
    "seed = 42\n",
    "\n",
    "(user_ids_training_validation, user_ids_test,\n",
    " item_ids_training_validation, item_ids_test,\n",
    " ratings_training_validation, ratings_test) = train_test_split(URM_all.UserID,\n",
    "                                                    URM_all.ItemID,\n",
    "                                                    URM_all.Rating,\n",
    "                                                    test_size=0.15,\n",
    "                                                    shuffle=True,\n",
    "                                                    random_state=seed)\n",
    "\n",
    "(user_ids_training, user_ids_validation,\n",
    " item_ids_training, item_ids_validation,\n",
    " ratings_training, ratings_validation) = train_test_split(user_ids_training_validation,\n",
    "                                                          item_ids_training_validation,\n",
    "                                                          ratings_training_validation,\n",
    "                                                          test_size=0.15,\n",
    "                                                          shuffle=True,\n",
    "                                                          random_state=seed)\n",
    "\n",
    "URM_all = sps.csr_matrix((URM_all.Rating, (URM_all.UserID, URM_all.ItemID)),\n",
    "                           shape = (n_users, n_items))\n",
    "\n",
    "URM_train = sps.csr_matrix((ratings_training, (user_ids_training, item_ids_training)),\n",
    "                           shape = (n_users, n_items))\n",
    "\n",
    "URM_validation = sps.csr_matrix((ratings_validation, (user_ids_validation, item_ids_validation)),\n",
    "                           shape = (n_users, n_items))\n",
    "\n",
    "URM_train_validation = sps.csr_matrix((ratings_training_validation, (user_ids_training_validation, item_ids_training_validation)),\n",
    "                           shape = (n_users, n_items))\n",
    "\n",
    "URM_test = sps.csr_matrix((ratings_test, (user_ids_test, item_ids_test)),\n",
    "                           shape = (n_users, n_items))\n",
    "\n",
    "\n",
    "ICM_all = sps.csr_matrix((np.ones(len(ICM_all[\"item_id\"].values)), \n",
    "                          (ICM_all[\"item_id\"].values, ICM_all[\"feature_id\"].values)),\n",
    "                        shape = (n_items, n_features))\n",
    "\n",
    "ICM_all.data = np.ones_like(ICM_all.data)\n",
    "\n",
    "ICM_all = sps.csr_matrix(ICM_all)\n",
    "features_per_item = np.ediff1d(ICM_all.indptr)\n",
    "\n",
    "ICM_all = sps.csc_matrix(ICM_all)\n",
    "items_per_feature = np.ediff1d(ICM_all.indptr)\n",
    "\n",
    "ICM_all = sps.csr_matrix(ICM_all)"
   ],
   "metadata": {
    "execution": {
     "iopub.status.busy": "2023-01-15T15:25:28.133521Z",
     "iopub.execute_input": "2023-01-15T15:25:28.133973Z",
     "iopub.status.idle": "2023-01-15T15:25:29.308640Z",
     "shell.execute_reply.started": "2023-01-15T15:25:28.133937Z",
     "shell.execute_reply": "2023-01-15T15:25:29.307352Z"
    },
    "trusted": true
   },
   "execution_count": 8,
   "outputs": []
  },
  {
   "cell_type": "markdown",
   "source": [
    "#### Setting up evaluators"
   ],
   "metadata": {}
  },
  {
   "cell_type": "code",
   "source": [
    "from Evaluation.Evaluator import EvaluatorHoldout\n",
    "\n",
    "evaluator_validation = EvaluatorHoldout(URM_validation, cutoff_list=[10])\n",
    "evaluator_test = EvaluatorHoldout(URM_test, cutoff_list=[10])"
   ],
   "metadata": {
    "execution": {
     "iopub.status.busy": "2023-01-15T15:25:31.121932Z",
     "iopub.execute_input": "2023-01-15T15:25:31.123283Z",
     "iopub.status.idle": "2023-01-15T15:25:31.169638Z",
     "shell.execute_reply.started": "2023-01-15T15:25:31.123227Z",
     "shell.execute_reply": "2023-01-15T15:25:31.168607Z"
    },
    "trusted": true
   },
   "execution_count": 9,
   "outputs": [
    {
     "name": "stdout",
     "text": "EvaluatorHoldout: Ignoring 1520 ( 3.7%) Users that have less than 1 test interactions\nEvaluatorHoldout: Ignoring 976 ( 2.3%) Users that have less than 1 test interactions\n",
     "output_type": "stream"
    }
   ]
  },
  {
   "cell_type": "markdown",
   "source": [
    "#### Creating SLIM_Elastic model"
   ],
   "metadata": {}
  },
  {
   "cell_type": "code",
   "source": [
    "ItemKNN_CFCBF = ItemKNN_CFCBF_Hybrid_Recommender(URM_train, ICM_all)\n",
    "ItemKNN_CFCBF.fit(\n",
    "    topK= 40, \n",
    "    shrink= 34, \n",
    "    similarity= 'tversky', \n",
    "    normalize= True, \n",
    "    tversky_alpha= 0.1911656636857864, \n",
    "    tversky_beta= 1.4823556453405908, \n",
    "    ICM_weight= 0.026917911342859663\n",
    ")"
   ],
   "metadata": {
    "execution": {
     "iopub.status.busy": "2022-12-12T10:38:49.065554Z",
     "iopub.execute_input": "2022-12-12T10:38:49.065897Z",
     "iopub.status.idle": "2022-12-12T10:39:05.824887Z",
     "shell.execute_reply.started": "2022-12-12T10:38:49.065873Z",
     "shell.execute_reply": "2022-12-12T10:39:05.823249Z"
    },
    "trusted": true
   },
   "execution_count": 28,
   "outputs": [
    {
     "name": "stdout",
     "text": "ItemKNN_CFCBF_HybridRecommender: URM Detected 3461 (12.4%) items with no interactions.\nItemKNN_CFCBF_HybridRecommender: ICM Detected 4877 (17.4%) items with no features.\nSimilarity column 27968 (100.0%), 1689.36 column/sec. Elapsed time 16.56 sec\n",
     "output_type": "stream"
    }
   ]
  },
  {
   "cell_type": "code",
   "source": [
    "evaluator_test.evaluateRecommender(ItemKNN_CFCBF)"
   ],
   "metadata": {
    "execution": {
     "iopub.status.busy": "2022-12-12T10:37:12.944488Z",
     "iopub.status.idle": "2022-12-12T10:37:12.944900Z",
     "shell.execute_reply.started": "2022-12-12T10:37:12.944733Z",
     "shell.execute_reply": "2022-12-12T10:37:12.944750Z"
    },
    "trusted": true
   },
   "execution_count": null,
   "outputs": []
  },
  {
   "cell_type": "code",
   "source": [
    "UserKNN = UserKNNCFRecommender(URM_train)\n",
    "UserKNN.fit(\n",
    "    topK= 836, \n",
    "    shrink= 0, \n",
    "    similarity= 'tversky', \n",
    "    normalize= True, \n",
    "    tversky_alpha= 1.7489968882972766, \n",
    "    tversky_beta= 3.0\n",
    ")"
   ],
   "metadata": {
    "execution": {
     "iopub.status.busy": "2022-12-12T10:39:05.827289Z",
     "iopub.execute_input": "2022-12-12T10:39:05.828423Z",
     "iopub.status.idle": "2022-12-12T10:39:26.154239Z",
     "shell.execute_reply.started": "2022-12-12T10:39:05.828380Z",
     "shell.execute_reply": "2022-12-12T10:39:26.153135Z"
    },
    "trusted": true
   },
   "execution_count": 29,
   "outputs": [
    {
     "name": "stdout",
     "text": "UserKNNCFRecommender: URM Detected 3461 (12.4%) items with no interactions.\nSimilarity column 41629 (100.0%), 2166.79 column/sec. Elapsed time 19.21 sec\n",
     "output_type": "stream"
    }
   ]
  },
  {
   "cell_type": "code",
   "source": [
    "evaluator_test.evaluateRecommender(UserKNN)"
   ],
   "metadata": {
    "execution": {
     "iopub.status.busy": "2022-12-12T10:37:12.947801Z",
     "iopub.status.idle": "2022-12-12T10:37:12.948095Z",
     "shell.execute_reply.started": "2022-12-12T10:37:12.947951Z",
     "shell.execute_reply": "2022-12-12T10:37:12.947965Z"
    },
    "trusted": true
   },
   "execution_count": null,
   "outputs": []
  },
  {
   "cell_type": "code",
   "source": [
    "SLIM_Elastic_old = SLIMElasticNetRecommender(URM_train_validation)\n",
    "\"\"\" \n",
    "# this was the best before the reproducible splits\n",
    "SLIM_Elastic.fit(\n",
    "    topK= 2298, \n",
    "    l1_ratio= 0.006495366789349948, \n",
    "    alpha= 0.001\n",
    ")\n",
    "\n",
    "SLIM_Elastic.fit(\n",
    "    topK=5325, \n",
    "    l1_ratio= 1e-05, \n",
    "    alpha= 0.001\n",
    ")\n",
    "\"\"\"\n",
    "\n",
    "SLIM_Elastic_old.fit(\n",
    "    topK= 10000, \n",
    "    l1_ratio= 0.03255609147342309, \n",
    "    alpha= 0.001\n",
    ")"
   ],
   "metadata": {
    "execution": {
     "iopub.status.busy": "2022-12-23T12:38:14.303367Z",
     "iopub.execute_input": "2022-12-23T12:38:14.303857Z",
     "iopub.status.idle": "2022-12-23T13:51:58.912040Z",
     "shell.execute_reply.started": "2022-12-23T12:38:14.303820Z",
     "shell.execute_reply": "2022-12-23T13:51:58.910981Z"
    },
    "trusted": true
   },
   "execution_count": 8,
   "outputs": [
    {
     "name": "stdout",
     "text": "SLIMElasticNetRecommender: URM Detected 3461 (12.4%) items with no interactions.\nSLIMElasticNetRecommender: Processed 3161 (11.3%) in 5.00 min. Items per second: 10.53\nSLIMElasticNetRecommender: Processed 6669 (23.8%) in 10.00 min. Items per second: 11.11\nSLIMElasticNetRecommender: Processed 10402 (37.2%) in 15.00 min. Items per second: 11.56\nSLIMElasticNetRecommender: Processed 14126 (50.5%) in 20.00 min. Items per second: 11.77\nSLIMElasticNetRecommender: Processed 17919 (64.1%) in 25.00 min. Items per second: 11.94\nSLIMElasticNetRecommender: Processed 21791 (77.9%) in 30.00 min. Items per second: 12.10\nSLIMElasticNetRecommender: Processed 24638 (88.1%) in 35.01 min. Items per second: 11.73\nSLIMElasticNetRecommender: Processed 25067 (89.6%) in 40.01 min. Items per second: 10.44\nSLIMElasticNetRecommender: Processed 25494 (91.2%) in 45.02 min. Items per second: 9.44\nSLIMElasticNetRecommender: Processed 25928 (92.7%) in 50.03 min. Items per second: 8.64\nSLIMElasticNetRecommender: Processed 26362 (94.3%) in 55.03 min. Items per second: 7.98\nSLIMElasticNetRecommender: Processed 26791 (95.8%) in 1.00 hour. Items per second: 7.44\nSLIMElasticNetRecommender: Processed 27218 (97.3%) in 1.08 hour. Items per second: 6.97\nSLIMElasticNetRecommender: Processed 27645 (98.8%) in 1.17 hour. Items per second: 6.58\nSLIMElasticNetRecommender: Processed 27968 (100.0%) in 1.23 hour. Items per second: 6.32\n",
     "output_type": "stream"
    }
   ]
  },
  {
   "cell_type": "code",
   "source": [
    "SLIM_Elastic = SLIMElasticNetRecommender(URM_train_validation)\n",
    "SLIM_Elastic.load_model(\"result_experiments/SKOPT_test\", SLIM_Elastic.RECOMMENDER_NAME + \"_best_model_last.zip\")"
   ],
   "metadata": {
    "execution": {
     "iopub.status.busy": "2022-12-27T10:28:00.821680Z",
     "iopub.execute_input": "2022-12-27T10:28:00.822199Z",
     "iopub.status.idle": "2022-12-27T10:28:02.997180Z",
     "shell.execute_reply.started": "2022-12-27T10:28:00.822161Z",
     "shell.execute_reply": "2022-12-27T10:28:02.995784Z"
    },
    "trusted": true
   },
   "execution_count": 10,
   "outputs": [
    {
     "name": "stdout",
     "text": "SLIMElasticNetRecommender: URM Detected 3461 (12.4%) items with no interactions.\nSLIMElasticNetRecommender: Loading model from file 'result_experiments/SKOPT_testSLIMElasticNetRecommender_best_model_last.zip'\nSLIMElasticNetRecommender: Loading complete\n",
     "output_type": "stream"
    }
   ]
  },
  {
   "cell_type": "code",
   "source": [
    "evaluator_test.evaluateRecommender(SLIM_Elastic)"
   ],
   "metadata": {
    "execution": {
     "iopub.status.busy": "2022-12-27T10:28:05.109789Z",
     "iopub.execute_input": "2022-12-27T10:28:05.110227Z",
     "iopub.status.idle": "2022-12-27T10:29:02.010421Z",
     "shell.execute_reply.started": "2022-12-27T10:28:05.110193Z",
     "shell.execute_reply": "2022-12-27T10:29:02.009130Z"
    },
    "trusted": true
   },
   "execution_count": 11,
   "outputs": [
    {
     "name": "stdout",
     "text": "EvaluatorHoldout: Processed 40653 (100.0%) in 56.87 sec. Users per second: 715\n",
     "output_type": "stream"
    },
    {
     "execution_count": 11,
     "output_type": "execute_result",
     "data": {
      "text/plain": "(       PRECISION PRECISION_RECALL_MIN_DEN    RECALL       MAP MAP_MIN_DEN  \\\n cutoff                                                                      \n 10      0.054163                 0.090007  0.084078  0.026964    0.043834   \n \n              MRR      NDCG        F1  HIT_RATE ARHR_ALL_HITS  ...  \\\n cutoff                                                        ...   \n 10      0.179425  0.087077  0.065884  0.355226      0.218413  ...   \n \n        COVERAGE_USER COVERAGE_USER_HIT USERS_IN_GT DIVERSITY_GINI  \\\n cutoff                                                              \n 10          0.976555          0.346898    0.976555       0.014255   \n \n        SHANNON_ENTROPY RATIO_DIVERSITY_HERFINDAHL RATIO_DIVERSITY_GINI  \\\n cutoff                                                                   \n 10            8.541745                   0.991672             0.031982   \n \n        RATIO_SHANNON_ENTROPY RATIO_AVERAGE_POPULARITY RATIO_NOVELTY  \n cutoff                                                               \n 10                  0.633011                 4.666243      0.239231  \n \n [1 rows x 27 columns],\n 'CUTOFF: 10 - PRECISION: 0.0541633, PRECISION_RECALL_MIN_DEN: 0.0900066, RECALL: 0.0840781, MAP: 0.0269643, MAP_MIN_DEN: 0.0438335, MRR: 0.1794254, NDCG: 0.0870770, F1: 0.0658840, HIT_RATE: 0.3552259, ARHR_ALL_HITS: 0.2184128, NOVELTY: 0.0036639, AVERAGE_POPULARITY: 0.2361150, DIVERSITY_MEAN_INTER_LIST: 0.9134669, DIVERSITY_HERFINDAHL: 0.9913444, COVERAGE_ITEM: 0.1119136, COVERAGE_ITEM_HIT: 0.0523098, ITEMS_IN_GT: 0.8702446, COVERAGE_USER: 0.9765548, COVERAGE_USER_HIT: 0.3468976, USERS_IN_GT: 0.9765548, DIVERSITY_GINI: 0.0142549, SHANNON_ENTROPY: 8.5417448, RATIO_DIVERSITY_HERFINDAHL: 0.9916716, RATIO_DIVERSITY_GINI: 0.0319822, RATIO_SHANNON_ENTROPY: 0.6330113, RATIO_AVERAGE_POPULARITY: 4.6662428, RATIO_NOVELTY: 0.2392306, \\n')"
     },
     "metadata": {}
    }
   ]
  },
  {
   "cell_type": "code",
   "source": [
    "SLIM_Elastic = SLIMElasticNetRecommender(URM_train_validation)\n",
    "\n",
    "SLIM_Elastic.fit(\n",
    "    topK= 6468, \n",
    "    l1_ratio= 0.03534306561986866, \n",
    "    alpha= 0.001\n",
    ")\n",
    "\n",
    "evaluator_test.evaluateRecommender(SLIM_Elastic)"
   ],
   "metadata": {
    "execution": {
     "iopub.status.busy": "2022-12-26T11:04:36.967921Z",
     "iopub.execute_input": "2022-12-26T11:04:36.968427Z",
     "iopub.status.idle": "2022-12-26T12:34:56.127412Z",
     "shell.execute_reply.started": "2022-12-26T11:04:36.968392Z",
     "shell.execute_reply": "2022-12-26T12:34:56.125718Z"
    },
    "trusted": true
   },
   "execution_count": 8,
   "outputs": [
    {
     "name": "stdout",
     "text": "SLIMElasticNetRecommender: URM Detected 3461 (12.4%) items with no interactions.\nSLIMElasticNetRecommender: Processed 2574 ( 9.2%) in 5.00 min. Items per second: 8.58\nSLIMElasticNetRecommender: Processed 5355 (19.1%) in 10.00 min. Items per second: 8.92\nSLIMElasticNetRecommender: Processed 8390 (30.0%) in 15.00 min. Items per second: 9.32\nSLIMElasticNetRecommender: Processed 11451 (40.9%) in 20.00 min. Items per second: 9.54\nSLIMElasticNetRecommender: Processed 14534 (52.0%) in 25.00 min. Items per second: 9.69\nSLIMElasticNetRecommender: Processed 17663 (63.2%) in 30.01 min. Items per second: 9.81\nSLIMElasticNetRecommender: Processed 20691 (74.0%) in 35.01 min. Items per second: 9.85\nSLIMElasticNetRecommender: Processed 23882 (85.4%) in 40.01 min. Items per second: 9.95\nSLIMElasticNetRecommender: Processed 24786 (88.6%) in 45.02 min. Items per second: 9.18\nSLIMElasticNetRecommender: Processed 25138 (89.9%) in 50.03 min. Items per second: 8.37\nSLIMElasticNetRecommender: Processed 25491 (91.1%) in 55.04 min. Items per second: 7.72\nSLIMElasticNetRecommender: Processed 25848 (92.4%) in 1.00 hour. Items per second: 7.18\nSLIMElasticNetRecommender: Processed 26213 (93.7%) in 1.08 hour. Items per second: 6.72\nSLIMElasticNetRecommender: Processed 26582 (95.0%) in 1.17 hour. Items per second: 6.32\nSLIMElasticNetRecommender: Processed 26941 (96.3%) in 1.25 hour. Items per second: 5.98\nSLIMElasticNetRecommender: Processed 27302 (97.6%) in 1.33 hour. Items per second: 5.68\nSLIMElasticNetRecommender: Processed 27663 (98.9%) in 1.42 hour. Items per second: 5.42\nSLIMElasticNetRecommender: Processed 27968 (100.0%) in 1.49 hour. Items per second: 5.21\nEvaluatorHoldout: Processed 40653 (100.0%) in 54.79 sec. Users per second: 742\n",
     "output_type": "stream"
    },
    {
     "execution_count": 8,
     "output_type": "execute_result",
     "data": {
      "text/plain": "(       PRECISION PRECISION_RECALL_MIN_DEN    RECALL       MAP MAP_MIN_DEN  \\\n cutoff                                                                      \n 10      0.055804                 0.093011  0.086899  0.027753    0.045197   \n \n              MRR      NDCG        F1  HIT_RATE ARHR_ALL_HITS  ...  \\\n cutoff                                                        ...   \n 10      0.184063  0.089693  0.067964  0.364303      0.224396  ...   \n \n        COVERAGE_USER COVERAGE_USER_HIT USERS_IN_GT DIVERSITY_GINI  \\\n cutoff                                                              \n 10          0.976555          0.355762    0.976555       0.021256   \n \n        SHANNON_ENTROPY RATIO_DIVERSITY_HERFINDAHL RATIO_DIVERSITY_GINI  \\\n cutoff                                                                   \n 10            9.103578                   0.993872             0.047689   \n \n        RATIO_SHANNON_ENTROPY RATIO_AVERAGE_POPULARITY RATIO_NOVELTY  \n cutoff                                                               \n 10                  0.674648                 4.083792      0.247574  \n \n [1 rows x 27 columns],\n 'CUTOFF: 10 - PRECISION: 0.0558040, PRECISION_RECALL_MIN_DEN: 0.0930109, RECALL: 0.0868986, MAP: 0.0277527, MAP_MIN_DEN: 0.0451972, MRR: 0.1840627, NDCG: 0.0896929, F1: 0.0679636, HIT_RATE: 0.3643028, ARHR_ALL_HITS: 0.2243963, NOVELTY: 0.0037917, AVERAGE_POPULARITY: 0.2066426, DIVERSITY_MEAN_INTER_LIST: 0.9354600, DIVERSITY_HERFINDAHL: 0.9935437, COVERAGE_ITEM: 0.1462386, COVERAGE_ITEM_HIT: 0.0561713, ITEMS_IN_GT: 0.8702446, COVERAGE_USER: 0.9765548, COVERAGE_USER_HIT: 0.3557616, USERS_IN_GT: 0.9765548, DIVERSITY_GINI: 0.0212558, SHANNON_ENTROPY: 9.1035785, RATIO_DIVERSITY_HERFINDAHL: 0.9938715, RATIO_DIVERSITY_GINI: 0.0476895, RATIO_SHANNON_ENTROPY: 0.6746476, RATIO_AVERAGE_POPULARITY: 4.0837920, RATIO_NOVELTY: 0.2475739, \\n')"
     },
     "metadata": {}
    }
   ]
  },
  {
   "cell_type": "code",
   "source": [
    "# this one should be fine\n",
    "SLIM_Elastic = SLIMElasticNetRecommender(URM_train_validation)\n",
    "SLIM_Elastic.load_model(\"models\", \"SLIM_Elastic_train_validation.zip\")\n",
    "\n",
    "evaluator_test.evaluateRecommender(SLIM_Elastic)"
   ],
   "metadata": {
    "execution": {
     "iopub.status.busy": "2023-01-15T15:25:44.438046Z",
     "iopub.execute_input": "2023-01-15T15:25:44.439101Z",
     "iopub.status.idle": "2023-01-15T15:25:46.143797Z",
     "shell.execute_reply.started": "2023-01-15T15:25:44.439056Z",
     "shell.execute_reply": "2023-01-15T15:25:46.142206Z"
    },
    "trusted": true
   },
   "execution_count": 10,
   "outputs": [
    {
     "name": "stdout",
     "text": "SLIMElasticNetRecommender: URM Detected 3461 (12.4%) items with no interactions.\nSLIMElasticNetRecommender: Loading model from file 'modelsSLIM_Elastic_train_validation.zip'\nSLIMElasticNetRecommender: Loading complete\n",
     "output_type": "stream"
    },
    {
     "traceback": [
      "\u001B[0;31m---------------------------------------------------------------------------\u001B[0m",
      "\u001B[0;31mValueError\u001B[0m                                Traceback (most recent call last)",
      "\u001B[0;32m/tmp/ipykernel_27/1548077803.py\u001B[0m in \u001B[0;36m<module>\u001B[0;34m\u001B[0m\n\u001B[1;32m      3\u001B[0m \u001B[0mSLIM_Elastic\u001B[0m\u001B[0;34m.\u001B[0m\u001B[0mload_model\u001B[0m\u001B[0;34m(\u001B[0m\u001B[0;34m\"models\"\u001B[0m\u001B[0;34m,\u001B[0m \u001B[0;34m\"SLIM_Elastic_train_validation.zip\"\u001B[0m\u001B[0;34m)\u001B[0m\u001B[0;34m\u001B[0m\u001B[0;34m\u001B[0m\u001B[0m\n\u001B[1;32m      4\u001B[0m \u001B[0;34m\u001B[0m\u001B[0m\n\u001B[0;32m----> 5\u001B[0;31m \u001B[0mevaluator_test\u001B[0m\u001B[0;34m.\u001B[0m\u001B[0mevaluateRecommender\u001B[0m\u001B[0;34m(\u001B[0m\u001B[0mSLIM_Elastic\u001B[0m\u001B[0;34m)\u001B[0m\u001B[0;34m\u001B[0m\u001B[0;34m\u001B[0m\u001B[0m\n\u001B[0m",
      "\u001B[0;32m/kaggle/working/RecSys-2022-Challenge-Polimi/Evaluation/Evaluator.py\u001B[0m in \u001B[0;36mevaluateRecommender\u001B[0;34m(self, recommender_object)\u001B[0m\n\u001B[1;32m    274\u001B[0m         \u001B[0mself\u001B[0m\u001B[0;34m.\u001B[0m\u001B[0m_n_users_evaluated\u001B[0m \u001B[0;34m=\u001B[0m \u001B[0;36m0\u001B[0m\u001B[0;34m\u001B[0m\u001B[0;34m\u001B[0m\u001B[0m\n\u001B[1;32m    275\u001B[0m \u001B[0;34m\u001B[0m\u001B[0m\n\u001B[0;32m--> 276\u001B[0;31m         \u001B[0mresults_dict\u001B[0m \u001B[0;34m=\u001B[0m \u001B[0mself\u001B[0m\u001B[0;34m.\u001B[0m\u001B[0m_run_evaluation_on_selected_users\u001B[0m\u001B[0;34m(\u001B[0m\u001B[0mrecommender_object\u001B[0m\u001B[0;34m,\u001B[0m \u001B[0mself\u001B[0m\u001B[0;34m.\u001B[0m\u001B[0musers_to_evaluate\u001B[0m\u001B[0;34m)\u001B[0m\u001B[0;34m\u001B[0m\u001B[0;34m\u001B[0m\u001B[0m\n\u001B[0m\u001B[1;32m    277\u001B[0m \u001B[0;34m\u001B[0m\u001B[0m\n\u001B[1;32m    278\u001B[0m \u001B[0;34m\u001B[0m\u001B[0m\n",
      "\u001B[0;32m/kaggle/working/RecSys-2022-Challenge-Polimi/Evaluation/Evaluator.py\u001B[0m in \u001B[0;36m_run_evaluation_on_selected_users\u001B[0;34m(self, recommender_object, users_to_evaluate, block_size)\u001B[0m\n\u001B[1;32m    479\u001B[0m                                                                       \u001B[0mremove_top_pop_flag\u001B[0m\u001B[0;34m=\u001B[0m\u001B[0;32mFalse\u001B[0m\u001B[0;34m,\u001B[0m\u001B[0;34m\u001B[0m\u001B[0;34m\u001B[0m\u001B[0m\n\u001B[1;32m    480\u001B[0m                                                                       \u001B[0mremove_custom_items_flag\u001B[0m\u001B[0;34m=\u001B[0m\u001B[0mself\u001B[0m\u001B[0;34m.\u001B[0m\u001B[0mignore_items_flag\u001B[0m\u001B[0;34m,\u001B[0m\u001B[0;34m\u001B[0m\u001B[0;34m\u001B[0m\u001B[0m\n\u001B[0;32m--> 481\u001B[0;31m                                                                       \u001B[0mreturn_scores\u001B[0m \u001B[0;34m=\u001B[0m \u001B[0;32mTrue\u001B[0m\u001B[0;34m\u001B[0m\u001B[0;34m\u001B[0m\u001B[0m\n\u001B[0m\u001B[1;32m    482\u001B[0m                                                                      )\n\u001B[1;32m    483\u001B[0m \u001B[0;34m\u001B[0m\u001B[0m\n",
      "\u001B[0;32m/kaggle/working/RecSys-2022-Challenge-Polimi/Recommenders/BaseRecommender.py\u001B[0m in \u001B[0;36mrecommend\u001B[0;34m(self, user_id_array, cutoff, remove_seen_flag, items_to_compute, remove_top_pop_flag, remove_custom_items_flag, return_scores)\u001B[0m\n\u001B[1;32m    145\u001B[0m         \u001B[0;31m# Compute the scores using the model-specific function\u001B[0m\u001B[0;34m\u001B[0m\u001B[0;34m\u001B[0m\u001B[0;34m\u001B[0m\u001B[0m\n\u001B[1;32m    146\u001B[0m         \u001B[0;31m# Vectorize over all users in user_id_array\u001B[0m\u001B[0;34m\u001B[0m\u001B[0;34m\u001B[0m\u001B[0;34m\u001B[0m\u001B[0m\n\u001B[0;32m--> 147\u001B[0;31m         \u001B[0mscores_batch\u001B[0m \u001B[0;34m=\u001B[0m \u001B[0mself\u001B[0m\u001B[0;34m.\u001B[0m\u001B[0m_compute_item_score\u001B[0m\u001B[0;34m(\u001B[0m\u001B[0muser_id_array\u001B[0m\u001B[0;34m,\u001B[0m \u001B[0mitems_to_compute\u001B[0m\u001B[0;34m=\u001B[0m\u001B[0mitems_to_compute\u001B[0m\u001B[0;34m)\u001B[0m\u001B[0;34m\u001B[0m\u001B[0;34m\u001B[0m\u001B[0m\n\u001B[0m\u001B[1;32m    148\u001B[0m \u001B[0;34m\u001B[0m\u001B[0m\n\u001B[1;32m    149\u001B[0m \u001B[0;34m\u001B[0m\u001B[0m\n",
      "\u001B[0;32m/kaggle/working/RecSys-2022-Challenge-Polimi/Recommenders/BaseSimilarityMatrixRecommender.py\u001B[0m in \u001B[0;36m_compute_item_score\u001B[0;34m(self, user_id_array, items_to_compute)\u001B[0m\n\u001B[1;32m     88\u001B[0m             \u001B[0mitem_scores\u001B[0m\u001B[0;34m[\u001B[0m\u001B[0;34m:\u001B[0m\u001B[0;34m,\u001B[0m \u001B[0mitems_to_compute\u001B[0m\u001B[0;34m]\u001B[0m \u001B[0;34m=\u001B[0m \u001B[0mitem_scores_all\u001B[0m\u001B[0;34m[\u001B[0m\u001B[0;34m:\u001B[0m\u001B[0;34m,\u001B[0m \u001B[0mitems_to_compute\u001B[0m\u001B[0;34m]\u001B[0m\u001B[0;34m\u001B[0m\u001B[0;34m\u001B[0m\u001B[0m\n\u001B[1;32m     89\u001B[0m         \u001B[0;32melse\u001B[0m\u001B[0;34m:\u001B[0m\u001B[0;34m\u001B[0m\u001B[0;34m\u001B[0m\u001B[0m\n\u001B[0;32m---> 90\u001B[0;31m             \u001B[0mitem_scores\u001B[0m \u001B[0;34m=\u001B[0m \u001B[0muser_profile_array\u001B[0m\u001B[0;34m.\u001B[0m\u001B[0mdot\u001B[0m\u001B[0;34m(\u001B[0m\u001B[0mself\u001B[0m\u001B[0;34m.\u001B[0m\u001B[0mW_sparse\u001B[0m\u001B[0;34m)\u001B[0m\u001B[0;34m.\u001B[0m\u001B[0mtoarray\u001B[0m\u001B[0;34m(\u001B[0m\u001B[0;34m)\u001B[0m\u001B[0;34m\u001B[0m\u001B[0;34m\u001B[0m\u001B[0m\n\u001B[0m\u001B[1;32m     91\u001B[0m \u001B[0;34m\u001B[0m\u001B[0m\n\u001B[1;32m     92\u001B[0m         \u001B[0;32mreturn\u001B[0m \u001B[0mitem_scores\u001B[0m\u001B[0;34m\u001B[0m\u001B[0;34m\u001B[0m\u001B[0m\n",
      "\u001B[0;32m/opt/conda/lib/python3.7/site-packages/scipy/sparse/base.py\u001B[0m in \u001B[0;36mdot\u001B[0;34m(self, other)\u001B[0m\n\u001B[1;32m    357\u001B[0m \u001B[0;34m\u001B[0m\u001B[0m\n\u001B[1;32m    358\u001B[0m         \"\"\"\n\u001B[0;32m--> 359\u001B[0;31m         \u001B[0;32mreturn\u001B[0m \u001B[0mself\u001B[0m \u001B[0;34m*\u001B[0m \u001B[0mother\u001B[0m\u001B[0;34m\u001B[0m\u001B[0;34m\u001B[0m\u001B[0m\n\u001B[0m\u001B[1;32m    360\u001B[0m \u001B[0;34m\u001B[0m\u001B[0m\n\u001B[1;32m    361\u001B[0m     \u001B[0;32mdef\u001B[0m \u001B[0mpower\u001B[0m\u001B[0;34m(\u001B[0m\u001B[0mself\u001B[0m\u001B[0;34m,\u001B[0m \u001B[0mn\u001B[0m\u001B[0;34m,\u001B[0m \u001B[0mdtype\u001B[0m\u001B[0;34m=\u001B[0m\u001B[0;32mNone\u001B[0m\u001B[0;34m)\u001B[0m\u001B[0;34m:\u001B[0m\u001B[0;34m\u001B[0m\u001B[0;34m\u001B[0m\u001B[0m\n",
      "\u001B[0;32m/opt/conda/lib/python3.7/site-packages/scipy/sparse/base.py\u001B[0m in \u001B[0;36m__mul__\u001B[0;34m(self, other)\u001B[0m\n\u001B[1;32m    477\u001B[0m         \u001B[0;32mif\u001B[0m \u001B[0missparse\u001B[0m\u001B[0;34m(\u001B[0m\u001B[0mother\u001B[0m\u001B[0;34m)\u001B[0m\u001B[0;34m:\u001B[0m\u001B[0;34m\u001B[0m\u001B[0;34m\u001B[0m\u001B[0m\n\u001B[1;32m    478\u001B[0m             \u001B[0;32mif\u001B[0m \u001B[0mself\u001B[0m\u001B[0;34m.\u001B[0m\u001B[0mshape\u001B[0m\u001B[0;34m[\u001B[0m\u001B[0;36m1\u001B[0m\u001B[0;34m]\u001B[0m \u001B[0;34m!=\u001B[0m \u001B[0mother\u001B[0m\u001B[0;34m.\u001B[0m\u001B[0mshape\u001B[0m\u001B[0;34m[\u001B[0m\u001B[0;36m0\u001B[0m\u001B[0;34m]\u001B[0m\u001B[0;34m:\u001B[0m\u001B[0;34m\u001B[0m\u001B[0;34m\u001B[0m\u001B[0m\n\u001B[0;32m--> 479\u001B[0;31m                 \u001B[0;32mraise\u001B[0m \u001B[0mValueError\u001B[0m\u001B[0;34m(\u001B[0m\u001B[0;34m'dimension mismatch'\u001B[0m\u001B[0;34m)\u001B[0m\u001B[0;34m\u001B[0m\u001B[0;34m\u001B[0m\u001B[0m\n\u001B[0m\u001B[1;32m    480\u001B[0m             \u001B[0;32mreturn\u001B[0m \u001B[0mself\u001B[0m\u001B[0;34m.\u001B[0m\u001B[0m_mul_sparse_matrix\u001B[0m\u001B[0;34m(\u001B[0m\u001B[0mother\u001B[0m\u001B[0;34m)\u001B[0m\u001B[0;34m\u001B[0m\u001B[0;34m\u001B[0m\u001B[0m\n\u001B[1;32m    481\u001B[0m \u001B[0;34m\u001B[0m\u001B[0m\n",
      "\u001B[0;31mValueError\u001B[0m: dimension mismatch"
     ],
     "ename": "ValueError",
     "evalue": "dimension mismatch",
     "output_type": "error"
    }
   ]
  },
  {
   "cell_type": "code",
   "source": [
    "RP3Beta = RP3betaRecommender(URM_train_validation)\n",
    "\"\"\" # possibly overfitted\n",
    "RP3Beta.fit(\n",
    "    topK= 87,\n",
    "    alpha= 0.4251768169663159, \n",
    "    beta= 0.2480238726919643,\n",
    "    normalize_similarity= True\n",
    ")\n",
    "\n",
    "RP3Beta.fit(\n",
    "    topK= 135,\n",
    "    alpha= 0.8473968835576251, \n",
    "    beta= 0.25814662527577076,\n",
    "    normalize_similarity= True\n",
    ")\n",
    "\"\"\"\n",
    "\n",
    "RP3Beta.fit(**{\n",
    "    \"topK\": 63,\n",
    "    \"alpha\": 0.6871585126786798,\n",
    "    \"beta\": 0.2893401754537936,\n",
    "    \"normalize_similarity\": True\n",
    "})"
   ],
   "metadata": {
    "execution": {
     "iopub.status.busy": "2023-01-07T09:25:48.272519Z",
     "iopub.execute_input": "2023-01-07T09:25:48.273013Z",
     "iopub.status.idle": "2023-01-07T09:26:04.021167Z",
     "shell.execute_reply.started": "2023-01-07T09:25:48.272964Z",
     "shell.execute_reply": "2023-01-07T09:26:04.020028Z"
    },
    "trusted": true
   },
   "execution_count": 11,
   "outputs": [
    {
     "name": "stdout",
     "text": "RP3betaRecommender: URM Detected 3461 (12.4%) items with no interactions.\nRP3betaRecommender: Similarity column 27968 (100.0%), 2142.05 column/sec. Elapsed time 13.06 sec\n",
     "output_type": "stream"
    }
   ]
  },
  {
   "cell_type": "code",
   "source": [
    "evaluator_test.evaluateRecommender(RP3Beta)"
   ],
   "metadata": {
    "execution": {
     "iopub.status.busy": "2023-01-07T09:26:04.023010Z",
     "iopub.execute_input": "2023-01-07T09:26:04.023370Z",
     "iopub.status.idle": "2023-01-07T09:26:37.753452Z",
     "shell.execute_reply.started": "2023-01-07T09:26:04.023339Z",
     "shell.execute_reply": "2023-01-07T09:26:37.752202Z"
    },
    "trusted": true
   },
   "execution_count": 12,
   "outputs": [
    {
     "name": "stdout",
     "text": "EvaluatorHoldout: Processed 40653 (100.0%) in 33.69 sec. Users per second: 1207\n",
     "output_type": "stream"
    },
    {
     "execution_count": 12,
     "output_type": "execute_result",
     "data": {
      "text/plain": "(       PRECISION PRECISION_RECALL_MIN_DEN    RECALL       MAP MAP_MIN_DEN  \\\n cutoff                                                                      \n 10      0.052601                 0.087559  0.081734  0.025692    0.041978   \n \n              MRR      NDCG        F1  HIT_RATE ARHR_ALL_HITS  ...  \\\n cutoff                                                        ...   \n 10      0.172248  0.083956  0.064009  0.348289      0.208826  ...   \n \n        COVERAGE_USER COVERAGE_USER_HIT USERS_IN_GT DIVERSITY_GINI  \\\n cutoff                                                              \n 10          0.976555          0.340123    0.976555       0.064687   \n \n        SHANNON_ENTROPY RATIO_DIVERSITY_HERFINDAHL RATIO_DIVERSITY_GINI  \\\n cutoff                                                                   \n 10           10.005459                   0.996481             0.145131   \n \n        RATIO_SHANNON_ENTROPY RATIO_AVERAGE_POPULARITY RATIO_NOVELTY  \n cutoff                                                               \n 10                  0.741484                 3.164283      0.262625  \n \n [1 rows x 27 columns],\n 'CUTOFF: 10 - PRECISION: 0.0526013, PRECISION_RECALL_MIN_DEN: 0.0875590, RECALL: 0.0817339, MAP: 0.0256918, MAP_MIN_DEN: 0.0419779, MRR: 0.1722478, NDCG: 0.0839560, F1: 0.0640087, HIT_RATE: 0.3482892, ARHR_ALL_HITS: 0.2088262, NOVELTY: 0.0040222, AVERAGE_POPULARITY: 0.1601148, DIVERSITY_MEAN_INTER_LIST: 0.9615511, DIVERSITY_HERFINDAHL: 0.9961527, COVERAGE_ITEM: 0.6191004, COVERAGE_ITEM_HIT: 0.0572440, ITEMS_IN_GT: 0.8702446, COVERAGE_USER: 0.9765548, COVERAGE_USER_HIT: 0.3401235, USERS_IN_GT: 0.9765548, DIVERSITY_GINI: 0.0646866, SHANNON_ENTROPY: 10.0054585, RATIO_DIVERSITY_HERFINDAHL: 0.9964815, RATIO_DIVERSITY_GINI: 0.1451307, RATIO_SHANNON_ENTROPY: 0.7414841, RATIO_AVERAGE_POPULARITY: 3.1642827, RATIO_NOVELTY: 0.2626250, \\n')"
     },
     "metadata": {}
    }
   ]
  },
  {
   "cell_type": "code",
   "source": [
    "PureSVD = PureSVDRecommender(URM_train)\n",
    "PureSVD.fit(num_factors=19)"
   ],
   "metadata": {
    "execution": {
     "iopub.status.busy": "2022-12-12T10:37:12.958113Z",
     "iopub.status.idle": "2022-12-12T10:37:12.958443Z",
     "shell.execute_reply.started": "2022-12-12T10:37:12.958276Z",
     "shell.execute_reply": "2022-12-12T10:37:12.958290Z"
    },
    "trusted": true
   },
   "execution_count": null,
   "outputs": []
  },
  {
   "cell_type": "code",
   "source": [
    "evaluator_test.evaluateRecommender(PureSVD)"
   ],
   "metadata": {
    "execution": {
     "iopub.status.busy": "2022-12-12T10:37:12.959059Z",
     "iopub.status.idle": "2022-12-12T10:37:12.959484Z",
     "shell.execute_reply.started": "2022-12-12T10:37:12.959250Z",
     "shell.execute_reply": "2022-12-12T10:37:12.959270Z"
    },
    "trusted": true
   },
   "execution_count": null,
   "outputs": []
  },
  {
   "cell_type": "markdown",
   "source": [
    "### Hybrid recommender\n",
    "#### Defining the hybrid classes"
   ],
   "metadata": {}
  },
  {
   "cell_type": "code",
   "source": [
    "from Recommenders.BaseRecommender import BaseRecommender\n",
    "\n",
    "class ScoresHybridRecommender(BaseRecommender):\n",
    "    \"\"\" ScoresHybridRecommender\n",
    "    Hybrid of two prediction scores R = R1*alpha + R2*(1-alpha)\n",
    "\n",
    "    \"\"\"\n",
    "\n",
    "    RECOMMENDER_NAME = \"ScoresHybridRecommender\"\n",
    "\n",
    "    def __init__(self, URM_train, recommender_1, recommender_2):\n",
    "        super(ScoresHybridRecommender, self).__init__(URM_train)\n",
    "\n",
    "        self.URM_train = sps.csr_matrix(URM_train)\n",
    "        self.recommender_1 = recommender_1\n",
    "        self.recommender_2 = recommender_2\n",
    "        \n",
    "        \n",
    "    def fit(self, alpha = 0.5):\n",
    "        self.alpha = alpha      \n",
    "\n",
    "\n",
    "    def _compute_item_score(self, user_id_array, items_to_compute):\n",
    "        \n",
    "        # In a simple extension this could be a loop over a list of pretrained recommender objects\n",
    "        item_weights_1 = self.recommender_1._compute_item_score(user_id_array)\n",
    "        item_weights_2 = self.recommender_2._compute_item_score(user_id_array)\n",
    "\n",
    "        item_weights = item_weights_1*self.alpha + item_weights_2*(1-self.alpha)\n",
    "\n",
    "        return item_weights\n",
    "\n",
    "    \n",
    "\n",
    "class DifferentLossScoresHybridRecommender(BaseRecommender):\n",
    "    \"\"\" ScoresHybridRecommender\n",
    "    Hybrid of two prediction scores R = R1/norm*alpha + R2/norm*(1-alpha) where R1 and R2 come from\n",
    "    algorithms trained on different loss functions.\n",
    "\n",
    "    \"\"\"\n",
    "\n",
    "    RECOMMENDER_NAME = \"DifferentLossScoresHybridRecommender\"\n",
    "\n",
    "\n",
    "    def __init__(self, URM_train, recommender_1, recommender_2):\n",
    "        super(DifferentLossScoresHybridRecommender, self).__init__(URM_train)\n",
    "\n",
    "        self.URM_train = sps.csr_matrix(URM_train)\n",
    "        self.recommender_1 = recommender_1\n",
    "        self.recommender_2 = recommender_2\n",
    "        \n",
    "        \n",
    "        \n",
    "    def fit(self, norm, alpha = 0.5):\n",
    "\n",
    "        self.alpha = alpha\n",
    "        self.norm = norm\n",
    "\n",
    "\n",
    "    def _compute_item_score(self, user_id_array, items_to_compute):\n",
    "        \n",
    "        item_weights_1 = self.recommender_1._compute_item_score(user_id_array)\n",
    "        item_weights_2 = self.recommender_2._compute_item_score(user_id_array)\n",
    "\n",
    "        norm_item_weights_1 = LA.norm(item_weights_1, self.norm)\n",
    "        norm_item_weights_2 = LA.norm(item_weights_2, self.norm)\n",
    "        \n",
    "        \n",
    "        if norm_item_weights_1 == 0:\n",
    "            raise ValueError(\"Norm {} of item weights for recommender 1 is zero. Avoiding division by zero\".format(self.norm))\n",
    "        \n",
    "        if norm_item_weights_2 == 0:\n",
    "            raise ValueError(\"Norm {} of item weights for recommender 2 is zero. Avoiding division by zero\".format(self.norm))\n",
    "        \n",
    "        item_weights = item_weights_1 / norm_item_weights_1 * self.alpha + item_weights_2 / norm_item_weights_2 * (1-self.alpha)\n",
    "\n",
    "        return item_weights\n",
    "    \n",
    "class CustomHybridRecommender(BaseRecommender):\n",
    "\n",
    "    RECOMMENDER_NAME = \"CustomHybridRecommender\"\n",
    "\n",
    "    def __init__(self, URM_train, verbose=True):\n",
    "        super(CustomHybridRecommender, self).__init__(URM_train)\n",
    "        \n",
    "        self.SLIM_Elastic = SLIMElasticNetRecommender(URM_train)\n",
    "        self.SLIM_Elastic.load_model(\"result_experiments/SKOPT_test\", SLIM_Elastic.RECOMMENDER_NAME + \"_best_model_last.zip\")\n",
    "        \n",
    "        self.ItemKNN_CFCBF = ItemKNN_CFCBF_Hybrid_Recommender(URM_train, ICM_all)\n",
    "        self.ItemKNN_CFCBF.fit(\n",
    "            topK= 40, \n",
    "            shrink= 34, \n",
    "            similarity= 'tversky', \n",
    "            normalize= True, \n",
    "            tversky_alpha= 0.1911656636857864, \n",
    "            tversky_beta= 1.4823556453405908, \n",
    "            ICM_weight= 0.026917911342859663\n",
    "        )\n",
    "        \n",
    "        self.RP3Beta = RP3betaRecommender(URM_train)\n",
    "        self.RP3Beta.fit(\n",
    "            topK= 87,\n",
    "            alpha= 0.4251768169663159, \n",
    "            beta= 0.2480238726919643,\n",
    "            normalize_similarity= True\n",
    "        )\n",
    "        \n",
    "        \"\"\"\n",
    "        self.UserKNN = UserKNNCFRecommender(URM_train)\n",
    "        self.UserKNN.fit(\n",
    "            topK= 836, \n",
    "            shrink= 0, \n",
    "            similarity= 'tversky', \n",
    "            normalize= True, \n",
    "            tversky_alpha= 1.7489968882972766, \n",
    "            tversky_beta= 3.0\n",
    "        )\n",
    "        \"\"\"\n",
    "\n",
    "    def fit(self, SLIM_Elastic_weight, ItemKNNCFCBF_weight, RP3Beta_weight):\n",
    "        self.SLIM_Elastic_weight = SLIM_Elastic_weight\n",
    "        self.ItemKNNCFCBF_weight = ItemKNNCFCBF_weight\n",
    "        self.RP3Beta_weight = RP3Beta_weight\n",
    "\n",
    "    def save_model(self, folder_path, file_name=None):\n",
    "        pass\n",
    "\n",
    "    def _compute_item_score(self, user_id_array, items_to_compute=None):\n",
    "        result = self.SLIM_Elastic_weight*self.SLIM_Elastic._compute_item_score(user_id_array,items_to_compute)\n",
    "        result += self.ItemKNNCFCBF_weight*self.ItemKNN_CFCBF._compute_item_score(user_id_array,items_to_compute)\n",
    "        result += self.UserKNN_weight*self.UserKNN._compute_item_score(user_id_array,items_to_compute)\n",
    "   #     for index in range(1,len(self.alphas)):\n",
    "   #         result = result + self.alphas[index]*self.recommenders[index]._compute_item_score(user_id_array,items_to_compute)\n",
    "        return result"
   ],
   "metadata": {
    "execution": {
     "iopub.status.busy": "2023-01-01T20:38:50.283269Z",
     "iopub.execute_input": "2023-01-01T20:38:50.283755Z",
     "iopub.status.idle": "2023-01-01T20:38:50.304376Z",
     "shell.execute_reply.started": "2023-01-01T20:38:50.283711Z",
     "shell.execute_reply": "2023-01-01T20:38:50.303388Z"
    },
    "trusted": true
   },
   "execution_count": 10,
   "outputs": []
  },
  {
   "cell_type": "code",
   "source": [
    "from Recommenders.BaseRecommender import BaseRecommender\n",
    "\n",
    "class GeneralizedMergedHybridRecommender(BaseRecommender):\n",
    "    \"\"\"\n",
    "    This recommender merges two recommendes by weighting their ratings\n",
    "    \"\"\"\n",
    "\n",
    "    RECOMMENDER_NAME = \"GeneralizedMergedHybridRecommender\"\n",
    "\n",
    "    def __init__(self, URM_train, recommenders: list, verbose=True):\n",
    "        self.RECOMMENDER_NAME = ''\n",
    "        for recommender in recommenders:\n",
    "            self.RECOMMENDER_NAME = self.RECOMMENDER_NAME + recommender.RECOMMENDER_NAME[:-11]\n",
    "        self.RECOMMENDER_NAME = self.RECOMMENDER_NAME + 'HybridRecommender'\n",
    "\n",
    "        super(GeneralizedMergedHybridRecommender, self).__init__(\n",
    "            URM_train,\n",
    "            verbose=verbose\n",
    "        )\n",
    "\n",
    "        self.recommenders = recommenders\n",
    "\n",
    "    def fit(self, SLIM_Elastic_weight, RP3Beta_weight, ItemKNNCFCBF_weight, UserKNN_weight):\n",
    "        self.SLIM_Elastic_weight = SLIM_Elastic_weight\n",
    "        self.RP3Beta_weight = RP3Beta_weight\n",
    "        self.ItemKNNCFCBF_weight = ItemKNNCFCBF_weight\n",
    "        self.UserKNN_weight = UserKNN_weight\n",
    "\n",
    "    def save_model(self, folder_path, file_name=None):\n",
    "        pass\n",
    "\n",
    "    def _compute_item_score(self, user_id_array, items_to_compute=None):\n",
    "        result = self.SLIM_Elastic_weight*self.recommenders[0]._compute_item_score(user_id_array,items_to_compute)\n",
    "        result += self.RP3Beta_weight*self.recommenders[1]._compute_item_score(user_id_array,items_to_compute)\n",
    "        result += self.ItemKNNCFCBF_weight*self.recommenders[2]._compute_item_score(user_id_array,items_to_compute)\n",
    "        result += self.UserKNN_weight*self.recommenders[3]._compute_item_score(user_id_array,items_to_compute)\n",
    "   #     for index in range(1,len(self.alphas)):\n",
    "   #         result = result + self.alphas[index]*self.recommenders[index]._compute_item_score(user_id_array,items_to_compute)\n",
    "        return result"
   ],
   "metadata": {
    "execution": {
     "iopub.status.busy": "2023-01-01T20:38:50.308006Z",
     "iopub.execute_input": "2023-01-01T20:38:50.308664Z",
     "iopub.status.idle": "2023-01-01T20:38:50.320484Z",
     "shell.execute_reply.started": "2023-01-01T20:38:50.308626Z",
     "shell.execute_reply": "2023-01-01T20:38:50.319621Z"
    },
    "trusted": true
   },
   "execution_count": 11,
   "outputs": []
  },
  {
   "cell_type": "markdown",
   "source": [
    "#### Creating the hybrid model"
   ],
   "metadata": {}
  },
  {
   "cell_type": "code",
   "source": [
    "user_id = 42"
   ],
   "metadata": {
    "execution": {
     "iopub.status.busy": "2022-12-12T10:37:12.971701Z",
     "iopub.status.idle": "2022-12-12T10:37:12.972127Z",
     "shell.execute_reply.started": "2022-12-12T10:37:12.971950Z",
     "shell.execute_reply": "2022-12-12T10:37:12.971967Z"
    },
    "trusted": true
   },
   "execution_count": null,
   "outputs": []
  },
  {
   "cell_type": "code",
   "source": [
    "RP3Beta_score = RP3Beta._compute_item_score(user_id) \n",
    "RP3Beta_score"
   ],
   "metadata": {
    "execution": {
     "iopub.status.busy": "2022-12-12T10:37:12.974281Z",
     "iopub.status.idle": "2022-12-12T10:37:12.974775Z",
     "shell.execute_reply.started": "2022-12-12T10:37:12.974570Z",
     "shell.execute_reply": "2022-12-12T10:37:12.974588Z"
    },
    "trusted": true
   },
   "execution_count": null,
   "outputs": []
  },
  {
   "cell_type": "code",
   "source": [
    "SLIM_Elastic_score = SLIM_Elastic._compute_item_score(user_id)\n",
    "SLIM_Elastic_score"
   ],
   "metadata": {
    "execution": {
     "iopub.status.busy": "2022-12-12T10:37:12.975907Z",
     "iopub.status.idle": "2022-12-12T10:37:12.976219Z",
     "shell.execute_reply.started": "2022-12-12T10:37:12.976066Z",
     "shell.execute_reply": "2022-12-12T10:37:12.976082Z"
    },
    "trusted": true
   },
   "execution_count": null,
   "outputs": []
  },
  {
   "cell_type": "code",
   "source": [
    "from skopt.space import Real, Integer, Categorical\n",
    "import traceback\n",
    "\n",
    "from HyperparameterTuning.SearchBayesianSkopt import SearchBayesianSkopt\n",
    "from HyperparameterTuning.SearchSingleCase import SearchSingleCase\n",
    "from HyperparameterTuning.SearchAbstractClass import SearchInputRecommenderArgs\n",
    "\n",
    "def runHyperparameterSearch_customHybrid(recommender_class, URM_train, recommenders, URM_train_last_test = None,\n",
    "                                          n_cases = None, n_random_starts = None, resume_from_saved = False,\n",
    "                                          save_model = \"best\", evaluate_on_test = \"best\", max_total_time = None,\n",
    "                                          evaluator_validation = None, evaluator_test = None, evaluator_validation_earlystopping = None,\n",
    "                                          metric_to_optimize = None, cutoff_to_optimize = None,\n",
    "                                          output_folder_path =\"result_experiments/\", parallelizeKNN = True,\n",
    "                                          allow_weighting = True, allow_bias_URM=False, allow_dropout_MF = False, similarity_type_list = None):\n",
    "    \"\"\"\n",
    "    This function performs the hyperparameter optimization for a collaborative recommender\n",
    "    :param recommender_class:   Class of the recommender object to optimize, it must be a BaseRecommender type\n",
    "    :param URM_train:           Sparse matrix containing the URM training data\n",
    "    :param URM_train_last_test: Sparse matrix containing the union of URM training and validation data to be used in the last evaluation\n",
    "    :param n_cases:             Number of hyperparameter sets to explore\n",
    "    :param n_random_starts:     Number of the initial random hyperparameter values to explore, usually set at 30% of n_cases\n",
    "    :param resume_from_saved:   Boolean value, if True the optimization is resumed from the saved files, if False a new one is done\n",
    "    :param save_model:          [\"no\", \"best\", \"last\"] which of the models to save, see HyperparameterTuning/SearchAbstractClass for details\n",
    "    :param evaluate_on_test:    [\"all\", \"best\", \"last\", \"no\"] when to evaluate the model on the test data, see HyperparameterTuning/SearchAbstractClass for details\n",
    "    :param max_total_time:    [None or int] if set stops the hyperparameter optimization when the time in seconds for training and validation exceeds the threshold\n",
    "    :param evaluator_validation:    Evaluator object to be used for the validation of each hyperparameter set\n",
    "    :param evaluator_validation_earlystopping:   Evaluator object to be used for the earlystopping of ML algorithms, can be the same of evaluator_validation\n",
    "    :param evaluator_test:          Evaluator object to be used for the test results, the output will only be saved but not used\n",
    "    :param metric_to_optimize:  String with the name of the metric to be optimized as contained in the output of the evaluator objects\n",
    "    :param cutoff_to_optimize:  Integer with the recommendation list length to be optimized as contained in the output of the evaluator objects\n",
    "    :param output_folder_path:  Folder in which to save the output files\n",
    "    :param parallelizeKNN:      Boolean value, if True the various heuristics of the KNNs will be computed in parallel, if False sequentially\n",
    "    :param allow_weighting:     Boolean value, if True it enables the use of TF-IDF and BM25 to weight features, users and items in KNNs\n",
    "    :param allow_bias_URM:      Boolean value, if True it enables the use of bias to shift the values of the URM\n",
    "    :param allow_dropout_MF:    Boolean value, if True it enables the use of dropout on the latent factors of MF algorithms\n",
    "    :param similarity_type_list: List of strings with the similarity heuristics to be used for the KNNs\n",
    "    \"\"\"\n",
    "\n",
    "\n",
    "\n",
    "    # If directory does not exist, create\n",
    "    if not os.path.exists(output_folder_path):\n",
    "        os.makedirs(output_folder_path)\n",
    "\n",
    "    earlystopping_keywargs = {\"validation_every_n\": 5,\n",
    "                              \"stop_on_validation\": True,\n",
    "                              \"evaluator_object\": evaluator_validation_earlystopping,\n",
    "                              \"lower_validations_allowed\": 5,\n",
    "                              \"validation_metric\": metric_to_optimize,\n",
    "                              }\n",
    "\n",
    "    URM_train = URM_train.copy()\n",
    "    recommenders = recommenders.copy()\n",
    "\n",
    "    n_users, n_items = URM_train.shape\n",
    "\n",
    "    if URM_train_last_test is not None:\n",
    "        URM_train_last_test = URM_train_last_test.copy()\n",
    "\n",
    "    try:\n",
    "\n",
    "        output_file_name_root = recommender_class.RECOMMENDER_NAME\n",
    "\n",
    "        hyperparameterSearch = SearchBayesianSkopt(recommender_class, evaluator_validation=evaluator_validation, evaluator_test=evaluator_test)\n",
    "    \n",
    "       ##########################################################################################################\n",
    "\n",
    "        if recommender_class is GeneralizedMergedHybridRecommender:\n",
    "\n",
    "            hyperparameters_range_dictionary = {\n",
    "                \"SLIM_Elastic_weight\": Real(low = 0, high = 2, prior = 'uniform'),\n",
    "                \"RP3Beta_weight\": Real(low = 0, high = 2, prior = 'uniform'),\n",
    "                \"ItemKNNCFCBF_weight\": Real(low = 0, high = 2, prior = 'uniform'),\n",
    "                \"UserKNN_weight\": Real(low = 0, high = 2, prior = 'uniform'),\n",
    "            }\n",
    "\n",
    "            recommender_input_args = SearchInputRecommenderArgs(\n",
    "                CONSTRUCTOR_POSITIONAL_ARGS = [URM_train, recommenders],\n",
    "                CONSTRUCTOR_KEYWORD_ARGS = {},\n",
    "                FIT_POSITIONAL_ARGS = [],\n",
    "                FIT_KEYWORD_ARGS = {},\n",
    "                EARLYSTOPPING_KEYWORD_ARGS = {},\n",
    "            )\n",
    "\n",
    "       #########################################################################################################\n",
    "\n",
    "        if URM_train_last_test is not None:\n",
    "            recommender_input_args_last_test = recommender_input_args.copy()\n",
    "            recommender_input_args_last_test.CONSTRUCTOR_POSITIONAL_ARGS[0] = URM_train_last_test\n",
    "        else:\n",
    "            recommender_input_args_last_test = None\n",
    "\n",
    "        ## Final step, after the hyperparameter range has been defined for each type of algorithm\n",
    "        hyperparameterSearch.search(recommender_input_args,\n",
    "                               hyperparameter_search_space= hyperparameters_range_dictionary,\n",
    "                               n_cases = n_cases,\n",
    "                               n_random_starts = n_random_starts,\n",
    "                               resume_from_saved = resume_from_saved,\n",
    "                               save_model = save_model,\n",
    "                               evaluate_on_test = evaluate_on_test,\n",
    "                               max_total_time = max_total_time,\n",
    "                               output_folder_path = output_folder_path,\n",
    "                               output_file_name_root = output_file_name_root,\n",
    "                               metric_to_optimize = metric_to_optimize,\n",
    "                               cutoff_to_optimize = cutoff_to_optimize,\n",
    "                               recommender_input_args_last_test = recommender_input_args_last_test)\n",
    "\n",
    "\n",
    "\n",
    "\n",
    "    except Exception as e:\n",
    "\n",
    "        print(\"On recommender {} Exception {}\".format(recommender_class, str(e)))\n",
    "        traceback.print_exc()\n",
    "\n",
    "        error_file = open(output_folder_path + \"ErrorLog.txt\", \"a\")\n",
    "        error_file.write(\"On recommender {} Exception {}\\n\".format(recommender_class, str(e)))\n",
    "        error_file.close()"
   ],
   "metadata": {
    "execution": {
     "iopub.status.busy": "2022-12-12T10:47:53.576307Z",
     "iopub.execute_input": "2022-12-12T10:47:53.576736Z",
     "iopub.status.idle": "2022-12-12T10:47:53.595841Z",
     "shell.execute_reply.started": "2022-12-12T10:47:53.576709Z",
     "shell.execute_reply": "2022-12-12T10:47:53.594323Z"
    },
    "trusted": true
   },
   "execution_count": 42,
   "outputs": []
  },
  {
   "cell_type": "code",
   "source": [
    "recommenders = [SLIM_Elastic, RP3Beta, ItemKNN_CFCBF, UserKNN] # ORDER MATTER!!!!!!!!!\n",
    "\n",
    "from functools import partial\n",
    "\n",
    "output_folder_path = \"result_experiments/SKOPT_test/\"\n",
    "\n",
    "n_cases = 300\n",
    "n_random_starts = int(n_cases * 0.25)\n",
    "\n",
    "runHyperparameterSearch_customHybrid_partial = partial(\n",
    "                    runHyperparameterSearch_customHybrid,\n",
    "                    URM_train = URM_train,\n",
    "                    recommenders = recommenders,\n",
    "                    URM_train_last_test = URM_train_validation,\n",
    "                    metric_to_optimize = \"MAP\",\n",
    "                    cutoff_to_optimize = 10,\n",
    "                    n_cases = n_cases,\n",
    "                    n_random_starts = n_random_starts,\n",
    "                    evaluator_validation_earlystopping = evaluator_validation,\n",
    "                    evaluator_validation = evaluator_validation,\n",
    "                    evaluator_test = evaluator_test,\n",
    "                    output_folder_path = output_folder_path,\n",
    "                    resume_from_saved = False\n",
    ")\n",
    "\n",
    "runHyperparameterSearch_customHybrid_partial(GeneralizedMergedHybridRecommender)"
   ],
   "metadata": {
    "trusted": true
   },
   "execution_count": null,
   "outputs": []
  },
  {
   "cell_type": "code",
   "source": [
    "!zip -r hybrid_results_Elastic_RP3_ItemKNN_UserKNN.zip result_experiments/SKOPT_test/GeneralizedMergedHybridRecommender*"
   ],
   "metadata": {
    "execution": {
     "iopub.status.busy": "2022-12-12T10:51:54.834082Z",
     "iopub.status.idle": "2022-12-12T10:51:54.834593Z",
     "shell.execute_reply.started": "2022-12-12T10:51:54.834316Z",
     "shell.execute_reply": "2022-12-12T10:51:54.834338Z"
    },
    "trusted": true
   },
   "execution_count": null,
   "outputs": []
  },
  {
   "cell_type": "code",
   "source": [
    "hybrid_recommender = Generalized(URM_train_validation)"
   ],
   "metadata": {
    "execution": {
     "iopub.status.busy": "2022-12-12T10:37:12.983892Z",
     "iopub.status.idle": "2022-12-12T10:37:12.984445Z",
     "shell.execute_reply.started": "2022-12-12T10:37:12.984190Z",
     "shell.execute_reply": "2022-12-12T10:37:12.984209Z"
    },
    "trusted": true
   },
   "execution_count": null,
   "outputs": []
  },
  {
   "cell_type": "code",
   "source": [
    "hybrid_recommender = GeneralizedMergedHybridRecommender(\n",
    "    URM_train = URM_train_validation, \n",
    "    recommenders=recommenders\n",
    ")\n",
    "\n",
    "hybrid_recommender.fit(2.0, 0.1767812598481143, 2.0)\n",
    "\n",
    "print(recommenders)"
   ],
   "metadata": {
    "execution": {
     "iopub.status.busy": "2022-12-12T10:37:12.987046Z",
     "iopub.status.idle": "2022-12-12T10:37:12.987650Z",
     "shell.execute_reply.started": "2022-12-12T10:37:12.987371Z",
     "shell.execute_reply": "2022-12-12T10:37:12.987397Z"
    },
    "trusted": true
   },
   "execution_count": null,
   "outputs": []
  },
  {
   "cell_type": "code",
   "source": [
    "evaluator_test.evaluateRecommender(hybrid_recommender)"
   ],
   "metadata": {
    "execution": {
     "iopub.status.busy": "2022-12-12T10:37:12.989039Z",
     "iopub.status.idle": "2022-12-12T10:37:12.989500Z",
     "shell.execute_reply.started": "2022-12-12T10:37:12.989250Z",
     "shell.execute_reply": "2022-12-12T10:37:12.989272Z"
    },
    "trusted": true
   },
   "execution_count": null,
   "outputs": []
  },
  {
   "cell_type": "markdown",
   "source": [
    "<hr>"
   ],
   "metadata": {}
  },
  {
   "cell_type": "markdown",
   "source": [
    "## Random tries"
   ],
   "metadata": {}
  },
  {
   "cell_type": "code",
   "source": [
    "IALS = IALSRecommender(URM_train_validation)\n",
    "IALS.fit(**{\n",
    "    'epochs': 34,\n",
    "    'num_factors': 79,\n",
    "    'alpha': 5.743821416717141,\n",
    "    'epsilon': 0.3498236011181738,\n",
    "    'reg': 0.13292125016403122,\n",
    "    \"validation_every_n\": 5,\n",
    "    \"stop_on_validation\": True,\n",
    "    \"evaluator_object\": evaluator_validation,\n",
    "    \"lower_validations_allowed\": 5,\n",
    "    \"validation_metric\": \"MAP\",\n",
    "})\n",
    "\n",
    "evaluator_test.evaluateRecommender(IALS)"
   ],
   "metadata": {
    "execution": {
     "iopub.status.busy": "2023-01-07T10:26:37.219339Z",
     "iopub.execute_input": "2023-01-07T10:26:37.219798Z",
     "iopub.status.idle": "2023-01-07T10:47:45.537317Z",
     "shell.execute_reply.started": "2023-01-07T10:26:37.219760Z",
     "shell.execute_reply": "2023-01-07T10:47:45.535967Z"
    },
    "trusted": true
   },
   "execution_count": 21,
   "outputs": [
    {
     "name": "stdout",
     "text": "IALSRecommender: URM Detected 3461 (12.4%) items with no interactions.\nIALSRecommender: Epoch 1 of 34. Elapsed time 32.62 sec\nIALSRecommender: Epoch 2 of 34. Elapsed time 1.09 min\nIALSRecommender: Epoch 3 of 34. Elapsed time 1.65 min\nIALSRecommender: Epoch 4 of 34. Elapsed time 2.19 min\nIALSRecommender: Validation begins...\nEvaluatorHoldout: Processed 40109 (100.0%) in 40.08 sec. Users per second: 1001\nIALSRecommender: CUTOFF: 10 - PRECISION: 0.0000000, PRECISION_RECALL_MIN_DEN: 0.0000000, RECALL: 0.0000000, MAP: 0.0000000, MAP_MIN_DEN: 0.0000000, MRR: 0.0000000, NDCG: 0.0000000, F1: 0.0000000, HIT_RATE: 0.0000000, ARHR_ALL_HITS: 0.0000000, NOVELTY: 0.0037333, AVERAGE_POPULARITY: 0.1604166, DIVERSITY_MEAN_INTER_LIST: 0.9638425, DIVERSITY_HERFINDAHL: 0.9963819, COVERAGE_ITEM: 0.0445509, COVERAGE_ITEM_HIT: 0.0000000, ITEMS_IN_GT: 0.8628432, COVERAGE_USER: 0.9634870, COVERAGE_USER_HIT: 0.0000000, USERS_IN_GT: 0.9634870, DIVERSITY_GINI: 0.0108419, SHANNON_ENTROPY: 8.6671033, RATIO_DIVERSITY_HERFINDAHL: 0.9967106, RATIO_DIVERSITY_GINI: 0.0243250, RATIO_SHANNON_ENTROPY: 0.6423013, RATIO_AVERAGE_POPULARITY: 3.1702482, RATIO_NOVELTY: 0.2437636, \n\nIALSRecommender: New best model found! Updating.\nIALSRecommender: Epoch 5 of 34. Elapsed time 3.40 min\nIALSRecommender: Epoch 6 of 34. Elapsed time 3.95 min\nIALSRecommender: Epoch 7 of 34. Elapsed time 4.49 min\nIALSRecommender: Epoch 8 of 34. Elapsed time 5.03 min\nIALSRecommender: Epoch 9 of 34. Elapsed time 5.58 min\nIALSRecommender: Validation begins...\nEvaluatorHoldout: Processed 40109 (100.0%) in 40.57 sec. Users per second: 989\nIALSRecommender: CUTOFF: 10 - PRECISION: 0.0000000, PRECISION_RECALL_MIN_DEN: 0.0000000, RECALL: 0.0000000, MAP: 0.0000000, MAP_MIN_DEN: 0.0000000, MRR: 0.0000000, NDCG: 0.0000000, F1: 0.0000000, HIT_RATE: 0.0000000, ARHR_ALL_HITS: 0.0000000, NOVELTY: 0.0037583, AVERAGE_POPULARITY: 0.1530246, DIVERSITY_MEAN_INTER_LIST: 0.9666709, DIVERSITY_HERFINDAHL: 0.9966647, COVERAGE_ITEM: 0.0463387, COVERAGE_ITEM_HIT: 0.0000000, ITEMS_IN_GT: 0.8628432, COVERAGE_USER: 0.9634870, COVERAGE_USER_HIT: 0.0000000, USERS_IN_GT: 0.9634870, DIVERSITY_GINI: 0.0115729, SHANNON_ENTROPY: 8.7645571, RATIO_DIVERSITY_HERFINDAHL: 0.9969936, RATIO_DIVERSITY_GINI: 0.0259649, RATIO_SHANNON_ENTROPY: 0.6495234, RATIO_AVERAGE_POPULARITY: 3.0241622, RATIO_NOVELTY: 0.2453915, \n\nIALSRecommender: Epoch 10 of 34. Elapsed time 6.80 min\nIALSRecommender: Epoch 11 of 34. Elapsed time 7.33 min\nIALSRecommender: Epoch 12 of 34. Elapsed time 7.88 min\nIALSRecommender: Epoch 13 of 34. Elapsed time 8.42 min\nIALSRecommender: Epoch 14 of 34. Elapsed time 8.95 min\nIALSRecommender: Validation begins...\nEvaluatorHoldout: Processed 40109 (100.0%) in 40.39 sec. Users per second: 993\nIALSRecommender: CUTOFF: 10 - PRECISION: 0.0000000, PRECISION_RECALL_MIN_DEN: 0.0000000, RECALL: 0.0000000, MAP: 0.0000000, MAP_MIN_DEN: 0.0000000, MRR: 0.0000000, NDCG: 0.0000000, F1: 0.0000000, HIT_RATE: 0.0000000, ARHR_ALL_HITS: 0.0000000, NOVELTY: 0.0037625, AVERAGE_POPULARITY: 0.1517249, DIVERSITY_MEAN_INTER_LIST: 0.9671223, DIVERSITY_HERFINDAHL: 0.9967098, COVERAGE_ITEM: 0.0469108, COVERAGE_ITEM_HIT: 0.0000000, ITEMS_IN_GT: 0.8628432, COVERAGE_USER: 0.9634870, COVERAGE_USER_HIT: 0.0000000, USERS_IN_GT: 0.9634870, DIVERSITY_GINI: 0.0117028, SHANNON_ENTROPY: 8.7810220, RATIO_DIVERSITY_HERFINDAHL: 0.9970387, RATIO_DIVERSITY_GINI: 0.0262564, RATIO_SHANNON_ENTROPY: 0.6507436, RATIO_AVERAGE_POPULARITY: 2.9984769, RATIO_NOVELTY: 0.2456710, \n\nIALSRecommender: Epoch 15 of 34. Elapsed time 10.19 min\nIALSRecommender: Epoch 16 of 34. Elapsed time 10.73 min\nIALSRecommender: Epoch 17 of 34. Elapsed time 11.28 min\nIALSRecommender: Epoch 18 of 34. Elapsed time 11.83 min\nIALSRecommender: Epoch 19 of 34. Elapsed time 12.37 min\nIALSRecommender: Validation begins...\nEvaluatorHoldout: Processed 40109 (100.0%) in 40.24 sec. Users per second: 997\nIALSRecommender: CUTOFF: 10 - PRECISION: 0.0000000, PRECISION_RECALL_MIN_DEN: 0.0000000, RECALL: 0.0000000, MAP: 0.0000000, MAP_MIN_DEN: 0.0000000, MRR: 0.0000000, NDCG: 0.0000000, F1: 0.0000000, HIT_RATE: 0.0000000, ARHR_ALL_HITS: 0.0000000, NOVELTY: 0.0037638, AVERAGE_POPULARITY: 0.1513485, DIVERSITY_MEAN_INTER_LIST: 0.9672696, DIVERSITY_HERFINDAHL: 0.9967245, COVERAGE_ITEM: 0.0468035, COVERAGE_ITEM_HIT: 0.0000000, ITEMS_IN_GT: 0.8628432, COVERAGE_USER: 0.9634870, COVERAGE_USER_HIT: 0.0000000, USERS_IN_GT: 0.9634870, DIVERSITY_GINI: 0.0117435, SHANNON_ENTROPY: 8.7861495, RATIO_DIVERSITY_HERFINDAHL: 0.9970535, RATIO_DIVERSITY_GINI: 0.0263478, RATIO_SHANNON_ENTROPY: 0.6511236, RATIO_AVERAGE_POPULARITY: 2.9910376, RATIO_NOVELTY: 0.2457538, \n\nIALSRecommender: Epoch 20 of 34. Elapsed time 13.58 min\nIALSRecommender: Epoch 21 of 34. Elapsed time 14.12 min\nIALSRecommender: Epoch 22 of 34. Elapsed time 14.66 min\nIALSRecommender: Epoch 23 of 34. Elapsed time 15.23 min\nIALSRecommender: Epoch 24 of 34. Elapsed time 15.77 min\nIALSRecommender: Validation begins...\nEvaluatorHoldout: Processed 40109 (100.0%) in 40.50 sec. Users per second: 990\nIALSRecommender: CUTOFF: 10 - PRECISION: 0.0000000, PRECISION_RECALL_MIN_DEN: 0.0000000, RECALL: 0.0000000, MAP: 0.0000000, MAP_MIN_DEN: 0.0000000, MRR: 0.0000000, NDCG: 0.0000000, F1: 0.0000000, HIT_RATE: 0.0000000, ARHR_ALL_HITS: 0.0000000, NOVELTY: 0.0037638, AVERAGE_POPULARITY: 0.1513570, DIVERSITY_MEAN_INTER_LIST: 0.9672446, DIVERSITY_HERFINDAHL: 0.9967220, COVERAGE_ITEM: 0.0471253, COVERAGE_ITEM_HIT: 0.0000000, ITEMS_IN_GT: 0.8628432, COVERAGE_USER: 0.9634870, COVERAGE_USER_HIT: 0.0000000, USERS_IN_GT: 0.9634870, DIVERSITY_GINI: 0.0117444, SHANNON_ENTROPY: 8.7861672, RATIO_DIVERSITY_HERFINDAHL: 0.9970509, RATIO_DIVERSITY_GINI: 0.0263498, RATIO_SHANNON_ENTROPY: 0.6511249, RATIO_AVERAGE_POPULARITY: 2.9912068, RATIO_NOVELTY: 0.2457524, \n\nIALSRecommender: Epoch 25 of 34. Elapsed time 16.99 min\nIALSRecommender: Epoch 26 of 34. Elapsed time 17.54 min\nIALSRecommender: Epoch 27 of 34. Elapsed time 18.09 min\nIALSRecommender: Epoch 28 of 34. Elapsed time 18.65 min\nIALSRecommender: Epoch 29 of 34. Elapsed time 19.21 min\nIALSRecommender: Validation begins...\nEvaluatorHoldout: Processed 40109 (100.0%) in 40.79 sec. Users per second: 983\nIALSRecommender: CUTOFF: 10 - PRECISION: 0.0000000, PRECISION_RECALL_MIN_DEN: 0.0000000, RECALL: 0.0000000, MAP: 0.0000000, MAP_MIN_DEN: 0.0000000, MRR: 0.0000000, NDCG: 0.0000000, F1: 0.0000000, HIT_RATE: 0.0000000, ARHR_ALL_HITS: 0.0000000, NOVELTY: 0.0037638, AVERAGE_POPULARITY: 0.1513288, DIVERSITY_MEAN_INTER_LIST: 0.9672378, DIVERSITY_HERFINDAHL: 0.9967214, COVERAGE_ITEM: 0.0469823, COVERAGE_ITEM_HIT: 0.0000000, ITEMS_IN_GT: 0.8628432, COVERAGE_USER: 0.9634870, COVERAGE_USER_HIT: 0.0000000, USERS_IN_GT: 0.9634870, DIVERSITY_GINI: 0.0117444, SHANNON_ENTROPY: 8.7860852, RATIO_DIVERSITY_HERFINDAHL: 0.9970503, RATIO_DIVERSITY_GINI: 0.0263496, RATIO_SHANNON_ENTROPY: 0.6511188, RATIO_AVERAGE_POPULARITY: 2.9906487, RATIO_NOVELTY: 0.2457551, \n\nIALSRecommender: Convergence reached! Terminating at epoch 30. Best value for 'MAP' at epoch 5 is 0.0000. Elapsed time 20.44 min\nIALSRecommender: Epoch 30 of 34. Elapsed time 20.44 min\nEvaluatorHoldout: Processed 40653 (100.0%) in 41.67 sec. Users per second: 976\n",
     "output_type": "stream"
    },
    {
     "execution_count": 21,
     "output_type": "execute_result",
     "data": {
      "text/plain": "(       PRECISION PRECISION_RECALL_MIN_DEN    RECALL       MAP MAP_MIN_DEN  \\\n cutoff                                                                      \n 10      0.041225                 0.069101  0.064768  0.019182     0.03199   \n \n              MRR      NDCG        F1  HIT_RATE ARHR_ALL_HITS  ...  \\\n cutoff                                                        ...   \n 10      0.137902  0.065683  0.050382  0.293582      0.161689  ...   \n \n        COVERAGE_USER COVERAGE_USER_HIT USERS_IN_GT DIVERSITY_GINI  \\\n cutoff                                                              \n 10          0.976555          0.286699    0.976555       0.010835   \n \n        SHANNON_ENTROPY RATIO_DIVERSITY_HERFINDAHL RATIO_DIVERSITY_GINI  \\\n cutoff                                                                   \n 10            8.666144                   0.996708             0.024309   \n \n        RATIO_SHANNON_ENTROPY RATIO_AVERAGE_POPULARITY RATIO_NOVELTY  \n cutoff                                                               \n 10                   0.64223                  3.17187      0.243751  \n \n [1 rows x 27 columns],\n 'CUTOFF: 10 - PRECISION: 0.0412245, PRECISION_RECALL_MIN_DEN: 0.0691005, RECALL: 0.0647682, MAP: 0.0191821, MAP_MIN_DEN: 0.0319901, MRR: 0.1379020, NDCG: 0.0656829, F1: 0.0503815, HIT_RATE: 0.2935823, ARHR_ALL_HITS: 0.1616894, NOVELTY: 0.0037331, AVERAGE_POPULARITY: 0.1604987, DIVERSITY_MEAN_INTER_LIST: 0.9638139, DIVERSITY_HERFINDAHL: 0.9963790, COVERAGE_ITEM: 0.0445867, COVERAGE_ITEM_HIT: 0.0311070, ITEMS_IN_GT: 0.8702446, COVERAGE_USER: 0.9765548, COVERAGE_USER_HIT: 0.2866992, USERS_IN_GT: 0.9765548, DIVERSITY_GINI: 0.0108347, SHANNON_ENTROPY: 8.6661438, RATIO_DIVERSITY_HERFINDAHL: 0.9967078, RATIO_DIVERSITY_GINI: 0.0243088, RATIO_SHANNON_ENTROPY: 0.6422302, RATIO_AVERAGE_POPULARITY: 3.1718702, RATIO_NOVELTY: 0.2437513, \\n')"
     },
     "metadata": {}
    }
   ]
  },
  {
   "cell_type": "code",
   "source": [
    "IALS.save_model(\".\", \"IALS_train_validation\")"
   ],
   "metadata": {
    "execution": {
     "iopub.status.busy": "2023-01-07T10:20:40.239930Z",
     "iopub.execute_input": "2023-01-07T10:20:40.240358Z",
     "iopub.status.idle": "2023-01-07T10:20:43.125169Z",
     "shell.execute_reply.started": "2023-01-07T10:20:40.240326Z",
     "shell.execute_reply": "2023-01-07T10:20:43.123877Z"
    },
    "trusted": true
   },
   "execution_count": 18,
   "outputs": [
    {
     "name": "stdout",
     "text": "IALSRecommender: Saving model in file '.IALS_train_validation'\nIALSRecommender: Saving complete\n",
     "output_type": "stream"
    }
   ]
  },
  {
   "cell_type": "code",
   "source": [
    "recommenders = [SLIM_Elastic, RP3Beta] \n",
    "alphas = [2.097339118738173, 1.0568674680305168]\n",
    "\n",
    "recommender = GeneralizedLinearHybridRecommender(\n",
    "    URM_train = URM_train_validation, \n",
    "    recommenders=recommenders\n",
    ")\n",
    "\n",
    "recommender.fit(alphas)"
   ],
   "metadata": {
    "execution": {
     "iopub.status.busy": "2023-01-07T09:27:49.408729Z",
     "iopub.execute_input": "2023-01-07T09:27:49.409202Z",
     "iopub.status.idle": "2023-01-07T09:27:49.452918Z",
     "shell.execute_reply.started": "2023-01-07T09:27:49.409160Z",
     "shell.execute_reply": "2023-01-07T09:27:49.451240Z"
    },
    "trusted": true
   },
   "execution_count": 13,
   "outputs": [
    {
     "name": "stdout",
     "text": "SLIMElasticNetRP3betaHybridRecommender: URM Detected 3461 (12.4%) items with no interactions.\n",
     "output_type": "stream"
    }
   ]
  },
  {
   "cell_type": "code",
   "source": [
    "evaluator_test.evaluateRecommender(recommender) #27923"
   ],
   "metadata": {
    "execution": {
     "iopub.status.busy": "2023-01-07T09:27:57.686486Z",
     "iopub.execute_input": "2023-01-07T09:27:57.687207Z",
     "iopub.status.idle": "2023-01-07T09:29:02.134513Z",
     "shell.execute_reply.started": "2023-01-07T09:27:57.687172Z",
     "shell.execute_reply": "2023-01-07T09:29:02.133064Z"
    },
    "trusted": true
   },
   "execution_count": 14,
   "outputs": [
    {
     "name": "stdout",
     "text": "EvaluatorHoldout: Processed 40653 (100.0%) in 1.07 min. Users per second: 631\n",
     "output_type": "stream"
    },
    {
     "execution_count": 14,
     "output_type": "execute_result",
     "data": {
      "text/plain": "(       PRECISION PRECISION_RECALL_MIN_DEN    RECALL       MAP MAP_MIN_DEN  \\\n cutoff                                                                      \n 10      0.056146                 0.093555  0.087395  0.027923    0.045523   \n \n              MRR      NDCG        F1 HIT_RATE ARHR_ALL_HITS  ...  \\\n cutoff                                                       ...   \n 10      0.184495  0.090174  0.068369  0.36536      0.225285  ...   \n \n        COVERAGE_USER COVERAGE_USER_HIT USERS_IN_GT DIVERSITY_GINI  \\\n cutoff                                                              \n 10          0.976555          0.356795    0.976555       0.022732   \n \n        SHANNON_ENTROPY RATIO_DIVERSITY_HERFINDAHL RATIO_DIVERSITY_GINI  \\\n cutoff                                                                   \n 10            9.224434                   0.994627             0.051001   \n \n        RATIO_SHANNON_ENTROPY RATIO_AVERAGE_POPULARITY RATIO_NOVELTY  \n cutoff                                                               \n 10                  0.683604                 3.871408      0.249798  \n \n [1 rows x 27 columns],\n 'CUTOFF: 10 - PRECISION: 0.0561459, PRECISION_RECALL_MIN_DEN: 0.0935545, RECALL: 0.0873945, MAP: 0.0279229, MAP_MIN_DEN: 0.0455226, MRR: 0.1844945, NDCG: 0.0901738, F1: 0.0683688, HIT_RATE: 0.3653605, ARHR_ALL_HITS: 0.2252849, NOVELTY: 0.0038257, AVERAGE_POPULARITY: 0.1958958, DIVERSITY_MEAN_INTER_LIST: 0.9430111, DIVERSITY_HERFINDAHL: 0.9942988, COVERAGE_ITEM: 0.1603618, COVERAGE_ITEM_HIT: 0.0573155, ITEMS_IN_GT: 0.8702446, COVERAGE_USER: 0.9765548, COVERAGE_USER_HIT: 0.3567945, USERS_IN_GT: 0.9765548, DIVERSITY_GINI: 0.0227320, SHANNON_ENTROPY: 9.2244344, RATIO_DIVERSITY_HERFINDAHL: 0.9946269, RATIO_DIVERSITY_GINI: 0.0510015, RATIO_SHANNON_ENTROPY: 0.6836040, RATIO_AVERAGE_POPULARITY: 3.8714085, RATIO_NOVELTY: 0.2497980, \\n')"
     },
     "metadata": {}
    }
   ]
  },
  {
   "cell_type": "code",
   "source": [
    "new_alphas = [3, 1.25]\n",
    "\n",
    "recommender = GeneralizedLinearHybridRecommender(\n",
    "    URM_train = URM_train_validation, \n",
    "    recommenders=recommenders\n",
    ")\n",
    "\n",
    "recommender.fit(new_alphas)\n",
    "\n",
    "evaluator_test.evaluateRecommender(recommender)"
   ],
   "metadata": {
    "execution": {
     "iopub.status.busy": "2023-01-01T20:39:52.710743Z",
     "iopub.execute_input": "2023-01-01T20:39:52.711102Z",
     "iopub.status.idle": "2023-01-01T20:40:54.430999Z",
     "shell.execute_reply.started": "2023-01-01T20:39:52.711069Z",
     "shell.execute_reply": "2023-01-01T20:40:54.429943Z"
    },
    "trusted": true
   },
   "execution_count": 14,
   "outputs": [
    {
     "name": "stdout",
     "text": "SLIMElasticNetRP3betaHybridRecommender: URM Detected 3461 (12.4%) items with no interactions.\nEvaluatorHoldout: Processed 40653 (100.0%) in 1.03 min. Users per second: 659\n",
     "output_type": "stream"
    },
    {
     "execution_count": 14,
     "output_type": "execute_result",
     "data": {
      "text/plain": "(       PRECISION PRECISION_RECALL_MIN_DEN    RECALL       MAP MAP_MIN_DEN  \\\n cutoff                                                                      \n 10       0.05618                 0.093531  0.087365  0.027924    0.045486   \n \n              MRR      NDCG        F1  HIT_RATE ARHR_ALL_HITS  ...  \\\n cutoff                                                        ...   \n 10      0.184404  0.090145  0.068385  0.365164      0.225252  ...   \n \n        COVERAGE_USER COVERAGE_USER_HIT USERS_IN_GT DIVERSITY_GINI  \\\n cutoff                                                              \n 10          0.976555          0.356602    0.976555       0.022805   \n \n        SHANNON_ENTROPY RATIO_DIVERSITY_HERFINDAHL RATIO_DIVERSITY_GINI  \\\n cutoff                                                                   \n 10             9.23073                   0.994625             0.051166   \n \n        RATIO_SHANNON_ENTROPY RATIO_AVERAGE_POPULARITY RATIO_NOVELTY  \n cutoff                                                               \n 10                  0.684071                 3.872209      0.249851  \n \n [1 rows x 27 columns],\n 'CUTOFF: 10 - PRECISION: 0.0561804, PRECISION_RECALL_MIN_DEN: 0.0935310, RECALL: 0.0873645, MAP: 0.0279243, MAP_MIN_DEN: 0.0454858, MRR: 0.1844038, NDCG: 0.0901448, F1: 0.0683852, HIT_RATE: 0.3651637, ARHR_ALL_HITS: 0.2252521, NOVELTY: 0.0038265, AVERAGE_POPULARITY: 0.1959363, DIVERSITY_MEAN_INTER_LIST: 0.9429877, DIVERSITY_HERFINDAHL: 0.9942965, COVERAGE_ITEM: 0.1585383, COVERAGE_ITEM_HIT: 0.0572082, ITEMS_IN_GT: 0.8702446, COVERAGE_USER: 0.9765548, COVERAGE_USER_HIT: 0.3566024, USERS_IN_GT: 0.9765548, DIVERSITY_GINI: 0.0228054, SHANNON_ENTROPY: 9.2307301, RATIO_DIVERSITY_HERFINDAHL: 0.9946246, RATIO_DIVERSITY_GINI: 0.0511662, RATIO_SHANNON_ENTROPY: 0.6840706, RATIO_AVERAGE_POPULARITY: 3.8722087, RATIO_NOVELTY: 0.2498507, \\n')"
     },
     "metadata": {}
    }
   ]
  },
  {
   "cell_type": "markdown",
   "source": [
    "|Alphas|Score|\n",
    "|------|-----|\n",
    "|[2, 1.75]|0.027859|\n",
    "|[2, 1.6]|0.027853|\n",
    "|[2, 1.4]|0.027853|\n",
    "|**[2, 1.5]**|**0.0279307**|\n",
    "|**[2, 0.7]**|**0.0279307**|\n",
    "|[2, 0.75]|0.027928|\n",
    "|[2, 0.8]|0.027925|\n",
    "|[2, 0.69]|0.027923|\n",
    "|[2, 0.6]|0.027921|\n",
    "|[1.8, 0.8]|0.027916|\n",
    "|[2, 0.5]|0.027905|\n",
    "|[2.5, 0.7]|0.027913|\n",
    "|[2.1, 0.7]|0.027919|\n",
    "|[2.05, 0.7]|0.02792|\n",
    "|[1.95, 0.7]|0.027928|"
   ],
   "metadata": {}
  }
 ]
}
