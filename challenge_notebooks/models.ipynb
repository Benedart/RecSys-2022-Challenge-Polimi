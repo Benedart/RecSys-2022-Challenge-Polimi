{
 "cells": [
  {
   "cell_type": "markdown",
   "id": "b66e2051",
   "metadata": {
    "papermill": {
     "duration": 0.00904,
     "end_time": "2023-01-15T11:07:03.629125",
     "exception": false,
     "start_time": "2023-01-15T11:07:03.620085",
     "status": "completed"
    },
    "tags": []
   },
   "source": [
    "# Models!"
   ]
  },
  {
   "cell_type": "markdown",
   "id": "322820c2",
   "metadata": {
    "papermill": {
     "duration": 0.006701,
     "end_time": "2023-01-15T11:07:03.643004",
     "exception": false,
     "start_time": "2023-01-15T11:07:03.636303",
     "status": "completed"
    },
    "tags": []
   },
   "source": [
    "### Importing github repository"
   ]
  },
  {
   "cell_type": "code",
   "execution_count": 1,
   "id": "c7b4bc74",
   "metadata": {
    "execution": {
     "iopub.execute_input": "2023-01-15T11:07:03.659628Z",
     "iopub.status.busy": "2023-01-15T11:07:03.657976Z",
     "iopub.status.idle": "2023-01-15T11:07:52.749465Z",
     "shell.execute_reply": "2023-01-15T11:07:52.747866Z"
    },
    "papermill": {
     "duration": 49.103715,
     "end_time": "2023-01-15T11:07:52.753275",
     "exception": false,
     "start_time": "2023-01-15T11:07:03.649560",
     "status": "completed"
    },
    "tags": []
   },
   "outputs": [
    {
     "name": "stdout",
     "output_type": "stream",
     "text": [
      "Cloning into 'RecSys-2022-Challenge-Polimi'...\r\n",
      "remote: Enumerating objects: 648, done.\u001b[K\r\n",
      "remote: Counting objects: 100% (33/33), done.\u001b[K\r\n",
      "remote: Compressing objects: 100% (25/25), done.\u001b[K\r\n",
      "remote: Total 648 (delta 15), reused 24 (delta 8), pack-reused 615\u001b[K\r\n",
      "Receiving objects: 100% (648/648), 1.08 GiB | 27.53 MiB/s, done.\r\n",
      "Resolving deltas: 100% (281/281), done.\r\n",
      "Updating files: 100% (205/205), done.\r\n"
     ]
    }
   ],
   "source": [
    "from kaggle_secrets import UserSecretsClient\n",
    "user_secrets = UserSecretsClient()\n",
    "token = user_secrets.get_secret(\"token\")\n",
    "\n",
    "!git clone https://{token}@github.com/Benedart/RecSys-2022-Challenge-Polimi.git"
   ]
  },
  {
   "cell_type": "markdown",
   "id": "6d4dadf5",
   "metadata": {
    "papermill": {
     "duration": 0.013357,
     "end_time": "2023-01-15T11:07:52.779253",
     "exception": false,
     "start_time": "2023-01-15T11:07:52.765896",
     "status": "completed"
    },
    "tags": []
   },
   "source": [
    "#### Compiling Cython files"
   ]
  },
  {
   "cell_type": "code",
   "execution_count": 2,
   "id": "0f743a71",
   "metadata": {
    "_kg_hide-output": true,
    "execution": {
     "iopub.execute_input": "2023-01-15T11:07:52.804765Z",
     "iopub.status.busy": "2023-01-15T11:07:52.803744Z",
     "iopub.status.idle": "2023-01-15T11:10:49.547265Z",
     "shell.execute_reply": "2023-01-15T11:10:49.545945Z"
    },
    "papermill": {
     "duration": 176.759619,
     "end_time": "2023-01-15T11:10:49.550394",
     "exception": false,
     "start_time": "2023-01-15T11:07:52.790775",
     "status": "completed"
    },
    "tags": []
   },
   "outputs": [
    {
     "name": "stdout",
     "output_type": "stream",
     "text": [
      "run_compile_all_cython: Found 10 Cython files in 4 folders...\r\n",
      "run_compile_all_cython: All files will be compiled using your current python environment: '/opt/conda/bin/python'\r\n",
      "Compiling [1/10]: MatrixFactorization_Cython_Epoch.pyx... \r\n",
      "In file included from \u001b[01m\u001b[K/opt/conda/lib/python3.7/site-packages/numpy/core/include/numpy/ndarraytypes.h:1969\u001b[m\u001b[K,\r\n",
      "                 from \u001b[01m\u001b[K/opt/conda/lib/python3.7/site-packages/numpy/core/include/numpy/ndarrayobject.h:12\u001b[m\u001b[K,\r\n",
      "                 from \u001b[01m\u001b[K/opt/conda/lib/python3.7/site-packages/numpy/core/include/numpy/arrayobject.h:4\u001b[m\u001b[K,\r\n",
      "                 from \u001b[01m\u001b[KMatrixFactorization_Cython_Epoch.c:746\u001b[m\u001b[K:\r\n",
      "\u001b[01m\u001b[K/opt/conda/lib/python3.7/site-packages/numpy/core/include/numpy/npy_1_7_deprecated_api.h:17:2:\u001b[m\u001b[K \u001b[01;35m\u001b[Kwarning: \u001b[m\u001b[K#warning \"Using deprecated NumPy API, disable it with \" \"#define NPY_NO_DEPRECATED_API NPY_1_7_API_VERSION\" [\u001b[01;35m\u001b[K-Wcpp\u001b[m\u001b[K]\r\n",
      "   17 | #\u001b[01;35m\u001b[Kwarning\u001b[m\u001b[K \"Using deprecated NumPy API, disable it with \" \\\r\n",
      "      |  \u001b[01;35m\u001b[K^~~~~~~\u001b[m\u001b[K\r\n",
      "\u001b[01m\u001b[KMatrixFactorization_Cython_Epoch.c:\u001b[m\u001b[K In function ‘\u001b[01m\u001b[K__pyx_pf_32MatrixFactorization_Cython_Epoch_32MatrixFactorization_Cython_Epoch_10epochIteration_Cython_ASY_SVD_SGD\u001b[m\u001b[K’:\r\n",
      "\u001b[01m\u001b[KMatrixFactorization_Cython_Epoch.c:8785:9:\u001b[m\u001b[K \u001b[01;35m\u001b[Kwarning: \u001b[m\u001b[K‘\u001b[01m\u001b[K__pyx_v_end_pos_seen_items\u001b[m\u001b[K’ may be used uninitialized in this function [\u001b[01;35m\u001b[K-Wmaybe-uninitialized\u001b[m\u001b[K]\r\n",
      " 8785 |         \u001b[01;35m\u001b[Kfor\u001b[m\u001b[K (__pyx_t_19 = __pyx_v_start_pos_seen_items; __pyx_t_19 < __pyx_t_18; __pyx_t_19+=1) {\r\n",
      "      |         \u001b[01;35m\u001b[K^~~\u001b[m\u001b[K\r\n",
      "\u001b[01m\u001b[KMatrixFactorization_Cython_Epoch.c:8785:9:\u001b[m\u001b[K \u001b[01;35m\u001b[Kwarning: \u001b[m\u001b[K‘\u001b[01m\u001b[K__pyx_v_start_pos_seen_items\u001b[m\u001b[K’ may be used uninitialized in this function [\u001b[01;35m\u001b[K-Wmaybe-uninitialized\u001b[m\u001b[K]\r\n",
      "/opt/conda/lib/python3.7/site-packages/Cython/Compiler/Main.py:369: FutureWarning: Cython directive 'language_level' not set, using 2 for now (Py2). This will change in a later release! File: /kaggle/working/RecSys-2022-Challenge-Polimi/Recommenders/MatrixFactorization/Cython/MatrixFactorization_Cython_Epoch.pyx\r\n",
      "  tree = Parsing.p_module(s, pxd, full_module_name)\r\n",
      "Compiling [1/10]: MatrixFactorization_Cython_Epoch.pyx... PASS\r\n",
      "\r\n",
      "Compiling [2/10]: MatrixFactorizationImpressions_Cython_Epoch.pyx... \r\n",
      "In file included from \u001b[01m\u001b[K/opt/conda/lib/python3.7/site-packages/numpy/core/include/numpy/ndarraytypes.h:1969\u001b[m\u001b[K,\r\n",
      "                 from \u001b[01m\u001b[K/opt/conda/lib/python3.7/site-packages/numpy/core/include/numpy/ndarrayobject.h:12\u001b[m\u001b[K,\r\n",
      "                 from \u001b[01m\u001b[K/opt/conda/lib/python3.7/site-packages/numpy/core/include/numpy/arrayobject.h:4\u001b[m\u001b[K,\r\n",
      "                 from \u001b[01m\u001b[KMatrixFactorizationImpressions_Cython_Epoch.c:746\u001b[m\u001b[K:\r\n",
      "\u001b[01m\u001b[K/opt/conda/lib/python3.7/site-packages/numpy/core/include/numpy/npy_1_7_deprecated_api.h:17:2:\u001b[m\u001b[K \u001b[01;35m\u001b[Kwarning: \u001b[m\u001b[K#warning \"Using deprecated NumPy API, disable it with \" \"#define NPY_NO_DEPRECATED_API NPY_1_7_API_VERSION\" [\u001b[01;35m\u001b[K-Wcpp\u001b[m\u001b[K]\r\n",
      "   17 | #\u001b[01;35m\u001b[Kwarning\u001b[m\u001b[K \"Using deprecated NumPy API, disable it with \" \\\r\n",
      "      |  \u001b[01;35m\u001b[K^~~~~~~\u001b[m\u001b[K\r\n",
      "\u001b[01m\u001b[KMatrixFactorizationImpressions_Cython_Epoch.c:\u001b[m\u001b[K In function ‘\u001b[01m\u001b[K__pyx_f_43MatrixFactorizationImpressions_Cython_Epoch_32MatrixFactorization_Cython_Epoch_sampleBPR_Cython\u001b[m\u001b[K’:\r\n",
      "\u001b[01m\u001b[KMatrixFactorizationImpressions_Cython_Epoch.c:12758:17:\u001b[m\u001b[K \u001b[01;35m\u001b[Kwarning: \u001b[m\u001b[K‘\u001b[01m\u001b[K__pyx_v_start_pos_impression_items\u001b[m\u001b[K’ may be used uninitialized in this function [\u001b[01;35m\u001b[K-Wmaybe-uninitialized\u001b[m\u001b[K]\r\n",
      "12758 |       \u001b[01;35m\u001b[K__pyx_t_4 = (__pyx_v_start_pos_impression_items + __pyx_v_index)\u001b[m\u001b[K;\r\n",
      "      |       \u001b[01;35m\u001b[K~~~~~~~~~~^~~~~~~~~~~~~~~~~~~~~~~~~~~~~~~~~~~~~~~~~~~~~~~~~~~~~~\u001b[m\u001b[K\r\n",
      "\u001b[01m\u001b[KMatrixFactorizationImpressions_Cython_Epoch.c:\u001b[m\u001b[K In function ‘\u001b[01m\u001b[K__pyx_pf_43MatrixFactorizationImpressions_Cython_Epoch_32MatrixFactorization_Cython_Epoch_10epochIteration_Cython_ASY_SVD_SGD\u001b[m\u001b[K’:\r\n",
      "\u001b[01m\u001b[KMatrixFactorizationImpressions_Cython_Epoch.c:8736:7:\u001b[m\u001b[K \u001b[01;35m\u001b[Kwarning: \u001b[m\u001b[K‘\u001b[01m\u001b[K__pyx_v_end_pos_seen_items\u001b[m\u001b[K’ may be used uninitialized in this function [\u001b[01;35m\u001b[K-Wmaybe-uninitialized\u001b[m\u001b[K]\r\n",
      " 8736 |       \u001b[01;35m\u001b[Kfor\u001b[m\u001b[K (__pyx_t_19 = __pyx_v_start_pos_seen_items; __pyx_t_19 < __pyx_t_18; __pyx_t_19+=1) {\r\n",
      "      |       \u001b[01;35m\u001b[K^~~\u001b[m\u001b[K\r\n",
      "\u001b[01m\u001b[KMatrixFactorizationImpressions_Cython_Epoch.c:8736:7:\u001b[m\u001b[K \u001b[01;35m\u001b[Kwarning: \u001b[m\u001b[K‘\u001b[01m\u001b[K__pyx_v_start_pos_seen_items\u001b[m\u001b[K’ may be used uninitialized in this function [\u001b[01;35m\u001b[K-Wmaybe-uninitialized\u001b[m\u001b[K]\r\n",
      "/opt/conda/lib/python3.7/site-packages/Cython/Compiler/Main.py:369: FutureWarning: Cython directive 'language_level' not set, using 2 for now (Py2). This will change in a later release! File: /kaggle/working/RecSys-2022-Challenge-Polimi/Recommenders/MatrixFactorization/Cython/MatrixFactorizationImpressions_Cython_Epoch.pyx\r\n",
      "  tree = Parsing.p_module(s, pxd, full_module_name)\r\n",
      "Compiling [2/10]: MatrixFactorizationImpressions_Cython_Epoch.pyx... PASS\r\n",
      "\r\n",
      "Compiling [3/10]: Compute_Similarity_Cython.pyx... \r\n",
      "In file included from \u001b[01m\u001b[K/opt/conda/lib/python3.7/site-packages/numpy/core/include/numpy/ndarraytypes.h:1969\u001b[m\u001b[K,\r\n",
      "                 from \u001b[01m\u001b[K/opt/conda/lib/python3.7/site-packages/numpy/core/include/numpy/ndarrayobject.h:12\u001b[m\u001b[K,\r\n",
      "                 from \u001b[01m\u001b[K/opt/conda/lib/python3.7/site-packages/numpy/core/include/numpy/arrayobject.h:4\u001b[m\u001b[K,\r\n",
      "                 from \u001b[01m\u001b[KCompute_Similarity_Cython.c:746\u001b[m\u001b[K:\r\n",
      "\u001b[01m\u001b[K/opt/conda/lib/python3.7/site-packages/numpy/core/include/numpy/npy_1_7_deprecated_api.h:17:2:\u001b[m\u001b[K \u001b[01;35m\u001b[Kwarning: \u001b[m\u001b[K#warning \"Using deprecated NumPy API, disable it with \" \"#define NPY_NO_DEPRECATED_API NPY_1_7_API_VERSION\" [\u001b[01;35m\u001b[K-Wcpp\u001b[m\u001b[K]\r\n",
      "   17 | #\u001b[01;35m\u001b[Kwarning\u001b[m\u001b[K \"Using deprecated NumPy API, disable it with \" \\\r\n",
      "      |  \u001b[01;35m\u001b[K^~~~~~~\u001b[m\u001b[K\r\n",
      "/opt/conda/lib/python3.7/site-packages/Cython/Compiler/Main.py:369: FutureWarning: Cython directive 'language_level' not set, using 2 for now (Py2). This will change in a later release! File: /kaggle/working/RecSys-2022-Challenge-Polimi/Recommenders/Similarity/Cython/Compute_Similarity_Cython.pyx\r\n",
      "  tree = Parsing.p_module(s, pxd, full_module_name)\r\n",
      "Compiling [3/10]: Compute_Similarity_Cython.pyx... PASS\r\n",
      "\r\n",
      "Compiling [4/10]: Triangular_Matrix.pyx... \r\n",
      "In file included from \u001b[01m\u001b[K/opt/conda/lib/python3.7/site-packages/numpy/core/include/numpy/ndarraytypes.h:1969\u001b[m\u001b[K,\r\n",
      "                 from \u001b[01m\u001b[K/opt/conda/lib/python3.7/site-packages/numpy/core/include/numpy/ndarrayobject.h:12\u001b[m\u001b[K,\r\n",
      "                 from \u001b[01m\u001b[K/opt/conda/lib/python3.7/site-packages/numpy/core/include/numpy/arrayobject.h:4\u001b[m\u001b[K,\r\n",
      "                 from \u001b[01m\u001b[KTriangular_Matrix.c:746\u001b[m\u001b[K:\r\n",
      "\u001b[01m\u001b[K/opt/conda/lib/python3.7/site-packages/numpy/core/include/numpy/npy_1_7_deprecated_api.h:17:2:\u001b[m\u001b[K \u001b[01;35m\u001b[Kwarning: \u001b[m\u001b[K#warning \"Using deprecated NumPy API, disable it with \" \"#define NPY_NO_DEPRECATED_API NPY_1_7_API_VERSION\" [\u001b[01;35m\u001b[K-Wcpp\u001b[m\u001b[K]\r\n",
      "   17 | #\u001b[01;35m\u001b[Kwarning\u001b[m\u001b[K \"Using deprecated NumPy API, disable it with \" \\\r\n",
      "      |  \u001b[01;35m\u001b[K^~~~~~~\u001b[m\u001b[K\r\n",
      "/opt/conda/lib/python3.7/site-packages/Cython/Compiler/Main.py:369: FutureWarning: Cython directive 'language_level' not set, using 2 for now (Py2). This will change in a later release! File: /kaggle/working/RecSys-2022-Challenge-Polimi/Recommenders/SLIM/Cython/Triangular_Matrix.pyx\r\n",
      "  tree = Parsing.p_module(s, pxd, full_module_name)\r\n",
      "Compiling [4/10]: Triangular_Matrix.pyx... PASS\r\n",
      "\r\n",
      "Compiling [5/10]: Sparse_Matrix_Tree_CSR.pyx... \r\n",
      "warning: Sparse_Matrix_Tree_CSR.pyx:132:34: Non-trivial type declarators in shared declaration (e.g. mix of pointers and values). Each pointer declaration should be on its own line.\r\n",
      "warning: Sparse_Matrix_Tree_CSR.pyx:132:66: Non-trivial type declarators in shared declaration (e.g. mix of pointers and values). Each pointer declaration should be on its own line.\r\n",
      "warning: Sparse_Matrix_Tree_CSR.pyx:343:35: Non-trivial type declarators in shared declaration (e.g. mix of pointers and values). Each pointer declaration should be on its own line.\r\n",
      "warning: Sparse_Matrix_Tree_CSR.pyx:343:52: Non-trivial type declarators in shared declaration (e.g. mix of pointers and values). Each pointer declaration should be on its own line.\r\n",
      "warning: Sparse_Matrix_Tree_CSR.pyx:442:35: Non-trivial type declarators in shared declaration (e.g. mix of pointers and values). Each pointer declaration should be on its own line.\r\n",
      "warning: Sparse_Matrix_Tree_CSR.pyx:442:53: Non-trivial type declarators in shared declaration (e.g. mix of pointers and values). Each pointer declaration should be on its own line.\r\n",
      "warning: Sparse_Matrix_Tree_CSR.pyx:442:69: Non-trivial type declarators in shared declaration (e.g. mix of pointers and values). Each pointer declaration should be on its own line.\r\n",
      "warning: Sparse_Matrix_Tree_CSR.pyx:577:35: Non-trivial type declarators in shared declaration (e.g. mix of pointers and values). Each pointer declaration should be on its own line.\r\n",
      "warning: Sparse_Matrix_Tree_CSR.pyx:577:42: Non-trivial type declarators in shared declaration (e.g. mix of pointers and values). Each pointer declaration should be on its own line.\r\n",
      "warning: Sparse_Matrix_Tree_CSR.pyx:578:35: Non-trivial type declarators in shared declaration (e.g. mix of pointers and values). Each pointer declaration should be on its own line.\r\n",
      "warning: Sparse_Matrix_Tree_CSR.pyx:578:53: Non-trivial type declarators in shared declaration (e.g. mix of pointers and values). Each pointer declaration should be on its own line.\r\n",
      "In file included from \u001b[01m\u001b[K/opt/conda/lib/python3.7/site-packages/numpy/core/include/numpy/ndarraytypes.h:1969\u001b[m\u001b[K,\r\n",
      "                 from \u001b[01m\u001b[K/opt/conda/lib/python3.7/site-packages/numpy/core/include/numpy/ndarrayobject.h:12\u001b[m\u001b[K,\r\n",
      "                 from \u001b[01m\u001b[K/opt/conda/lib/python3.7/site-packages/numpy/core/include/numpy/arrayobject.h:4\u001b[m\u001b[K,\r\n",
      "                 from \u001b[01m\u001b[KSparse_Matrix_Tree_CSR.c:746\u001b[m\u001b[K:\r\n",
      "\u001b[01m\u001b[K/opt/conda/lib/python3.7/site-packages/numpy/core/include/numpy/npy_1_7_deprecated_api.h:17:2:\u001b[m\u001b[K \u001b[01;35m\u001b[Kwarning: \u001b[m\u001b[K#warning \"Using deprecated NumPy API, disable it with \" \"#define NPY_NO_DEPRECATED_API NPY_1_7_API_VERSION\" [\u001b[01;35m\u001b[K-Wcpp\u001b[m\u001b[K]\r\n",
      "   17 | #\u001b[01;35m\u001b[Kwarning\u001b[m\u001b[K \"Using deprecated NumPy API, disable it with \" \\\r\n",
      "      |  \u001b[01;35m\u001b[K^~~~~~~\u001b[m\u001b[K\r\n",
      "\u001b[01m\u001b[KSparse_Matrix_Tree_CSR.c:\u001b[m\u001b[K In function ‘\u001b[01m\u001b[K__pyx_f_22Sparse_Matrix_Tree_CSR_22Sparse_Matrix_Tree_CSR_test_list_tree_conversion\u001b[m\u001b[K’:\r\n",
      "\u001b[01m\u001b[KSparse_Matrix_Tree_CSR.c:5844:15:\u001b[m\u001b[K \u001b[01;35m\u001b[Kwarning: \u001b[m\u001b[K‘\u001b[01m\u001b[K__pyx_v_previous_element\u001b[m\u001b[K’ may be used uninitialized in this function [\u001b[01;35m\u001b[K-Wmaybe-uninitialized\u001b[m\u001b[K]\r\n",
      " 5844 |     \u001b[01;35m\u001b[K__pyx_t_7 = __pyx_v_current_element->lower\u001b[m\u001b[K;\r\n",
      "      |     \u001b[01;35m\u001b[K~~~~~~~~~~^~~~~~~~~~~~~~~~~~~~~~~~~~~~~~~~\u001b[m\u001b[K\r\n",
      "/opt/conda/lib/python3.7/site-packages/Cython/Compiler/Main.py:369: FutureWarning: Cython directive 'language_level' not set, using 2 for now (Py2). This will change in a later release! File: /kaggle/working/RecSys-2022-Challenge-Polimi/Recommenders/SLIM/Cython/Sparse_Matrix_Tree_CSR.pyx\r\n",
      "  tree = Parsing.p_module(s, pxd, full_module_name)\r\n",
      "warning: Sparse_Matrix_Tree_CSR.pyx:132:34: Non-trivial type declarators in shared declaration (e.g. mix of pointers and values). Each pointer declaration should be on its own line.\r\n",
      "warning: Sparse_Matrix_Tree_CSR.pyx:132:66: Non-trivial type declarators in shared declaration (e.g. mix of pointers and values). Each pointer declaration should be on its own line.\r\n",
      "warning: Sparse_Matrix_Tree_CSR.pyx:343:35: Non-trivial type declarators in shared declaration (e.g. mix of pointers and values). Each pointer declaration should be on its own line.\r\n",
      "warning: Sparse_Matrix_Tree_CSR.pyx:343:52: Non-trivial type declarators in shared declaration (e.g. mix of pointers and values). Each pointer declaration should be on its own line.\r\n",
      "warning: Sparse_Matrix_Tree_CSR.pyx:442:35: Non-trivial type declarators in shared declaration (e.g. mix of pointers and values). Each pointer declaration should be on its own line.\r\n",
      "warning: Sparse_Matrix_Tree_CSR.pyx:442:53: Non-trivial type declarators in shared declaration (e.g. mix of pointers and values). Each pointer declaration should be on its own line.\r\n",
      "warning: Sparse_Matrix_Tree_CSR.pyx:442:69: Non-trivial type declarators in shared declaration (e.g. mix of pointers and values). Each pointer declaration should be on its own line.\r\n",
      "warning: Sparse_Matrix_Tree_CSR.pyx:577:35: Non-trivial type declarators in shared declaration (e.g. mix of pointers and values). Each pointer declaration should be on its own line.\r\n",
      "warning: Sparse_Matrix_Tree_CSR.pyx:577:42: Non-trivial type declarators in shared declaration (e.g. mix of pointers and values). Each pointer declaration should be on its own line.\r\n",
      "warning: Sparse_Matrix_Tree_CSR.pyx:578:35: Non-trivial type declarators in shared declaration (e.g. mix of pointers and values). Each pointer declaration should be on its own line.\r\n",
      "warning: Sparse_Matrix_Tree_CSR.pyx:578:53: Non-trivial type declarators in shared declaration (e.g. mix of pointers and values). Each pointer declaration should be on its own line.\r\n",
      "Compiling [5/10]: Sparse_Matrix_Tree_CSR.pyx... PASS\r\n",
      "\r\n",
      "Compiling [6/10]: SLIM_BPR_Cython_Epoch.pyx... \r\n",
      "warning: SLIM_BPR_Cython_Epoch.pyx:633:34: Non-trivial type declarators in shared declaration (e.g. mix of pointers and values). Each pointer declaration should be on its own line.\r\n",
      "warning: SLIM_BPR_Cython_Epoch.pyx:633:66: Non-trivial type declarators in shared declaration (e.g. mix of pointers and values). Each pointer declaration should be on its own line.\r\n",
      "warning: SLIM_BPR_Cython_Epoch.pyx:818:35: Non-trivial type declarators in shared declaration (e.g. mix of pointers and values). Each pointer declaration should be on its own line.\r\n",
      "warning: SLIM_BPR_Cython_Epoch.pyx:818:52: Non-trivial type declarators in shared declaration (e.g. mix of pointers and values). Each pointer declaration should be on its own line.\r\n",
      "warning: SLIM_BPR_Cython_Epoch.pyx:917:35: Non-trivial type declarators in shared declaration (e.g. mix of pointers and values). Each pointer declaration should be on its own line.\r\n",
      "warning: SLIM_BPR_Cython_Epoch.pyx:917:53: Non-trivial type declarators in shared declaration (e.g. mix of pointers and values). Each pointer declaration should be on its own line.\r\n",
      "warning: SLIM_BPR_Cython_Epoch.pyx:917:69: Non-trivial type declarators in shared declaration (e.g. mix of pointers and values). Each pointer declaration should be on its own line.\r\n",
      "warning: SLIM_BPR_Cython_Epoch.pyx:1052:35: Non-trivial type declarators in shared declaration (e.g. mix of pointers and values). Each pointer declaration should be on its own line.\r\n",
      "warning: SLIM_BPR_Cython_Epoch.pyx:1052:42: Non-trivial type declarators in shared declaration (e.g. mix of pointers and values). Each pointer declaration should be on its own line.\r\n",
      "warning: SLIM_BPR_Cython_Epoch.pyx:1053:35: Non-trivial type declarators in shared declaration (e.g. mix of pointers and values). Each pointer declaration should be on its own line.\r\n",
      "warning: SLIM_BPR_Cython_Epoch.pyx:1053:53: Non-trivial type declarators in shared declaration (e.g. mix of pointers and values). Each pointer declaration should be on its own line.\r\n",
      "In file included from \u001b[01m\u001b[K/opt/conda/lib/python3.7/site-packages/numpy/core/include/numpy/ndarraytypes.h:1969\u001b[m\u001b[K,\r\n",
      "                 from \u001b[01m\u001b[K/opt/conda/lib/python3.7/site-packages/numpy/core/include/numpy/ndarrayobject.h:12\u001b[m\u001b[K,\r\n",
      "                 from \u001b[01m\u001b[K/opt/conda/lib/python3.7/site-packages/numpy/core/include/numpy/arrayobject.h:4\u001b[m\u001b[K,\r\n",
      "                 from \u001b[01m\u001b[KSLIM_BPR_Cython_Epoch.c:746\u001b[m\u001b[K:\r\n",
      "\u001b[01m\u001b[K/opt/conda/lib/python3.7/site-packages/numpy/core/include/numpy/npy_1_7_deprecated_api.h:17:2:\u001b[m\u001b[K \u001b[01;35m\u001b[Kwarning: \u001b[m\u001b[K#warning \"Using deprecated NumPy API, disable it with \" \"#define NPY_NO_DEPRECATED_API NPY_1_7_API_VERSION\" [\u001b[01;35m\u001b[K-Wcpp\u001b[m\u001b[K]\r\n",
      "   17 | #\u001b[01;35m\u001b[Kwarning\u001b[m\u001b[K \"Using deprecated NumPy API, disable it with \" \\\r\n",
      "      |  \u001b[01;35m\u001b[K^~~~~~~\u001b[m\u001b[K\r\n",
      "\u001b[01m\u001b[KSLIM_BPR_Cython_Epoch.c:\u001b[m\u001b[K In function ‘\u001b[01m\u001b[K__pyx_f_21SLIM_BPR_Cython_Epoch_22Sparse_Matrix_Tree_CSR_test_list_tee_conversion\u001b[m\u001b[K’:\r\n",
      "\u001b[01m\u001b[KSLIM_BPR_Cython_Epoch.c:10848:15:\u001b[m\u001b[K \u001b[01;35m\u001b[Kwarning: \u001b[m\u001b[K‘\u001b[01m\u001b[K__pyx_v_previous_element\u001b[m\u001b[K’ may be used uninitialized in this function [\u001b[01;35m\u001b[K-Wmaybe-uninitialized\u001b[m\u001b[K]\r\n",
      "10848 |     \u001b[01;35m\u001b[K__pyx_t_7 = __pyx_v_current_element->lower\u001b[m\u001b[K;\r\n",
      "      |     \u001b[01;35m\u001b[K~~~~~~~~~~^~~~~~~~~~~~~~~~~~~~~~~~~~~~~~~~\u001b[m\u001b[K\r\n",
      "/opt/conda/lib/python3.7/site-packages/Cython/Compiler/Main.py:369: FutureWarning: Cython directive 'language_level' not set, using 2 for now (Py2). This will change in a later release! File: /kaggle/working/RecSys-2022-Challenge-Polimi/Recommenders/SLIM/Cython/SLIM_BPR_Cython_Epoch.pyx\r\n",
      "  tree = Parsing.p_module(s, pxd, full_module_name)\r\n",
      "warning: SLIM_BPR_Cython_Epoch.pyx:633:34: Non-trivial type declarators in shared declaration (e.g. mix of pointers and values). Each pointer declaration should be on its own line.\r\n",
      "warning: SLIM_BPR_Cython_Epoch.pyx:633:66: Non-trivial type declarators in shared declaration (e.g. mix of pointers and values). Each pointer declaration should be on its own line.\r\n",
      "warning: SLIM_BPR_Cython_Epoch.pyx:818:35: Non-trivial type declarators in shared declaration (e.g. mix of pointers and values). Each pointer declaration should be on its own line.\r\n",
      "warning: SLIM_BPR_Cython_Epoch.pyx:818:52: Non-trivial type declarators in shared declaration (e.g. mix of pointers and values). Each pointer declaration should be on its own line.\r\n",
      "warning: SLIM_BPR_Cython_Epoch.pyx:917:35: Non-trivial type declarators in shared declaration (e.g. mix of pointers and values). Each pointer declaration should be on its own line.\r\n",
      "warning: SLIM_BPR_Cython_Epoch.pyx:917:53: Non-trivial type declarators in shared declaration (e.g. mix of pointers and values). Each pointer declaration should be on its own line.\r\n",
      "warning: SLIM_BPR_Cython_Epoch.pyx:917:69: Non-trivial type declarators in shared declaration (e.g. mix of pointers and values). Each pointer declaration should be on its own line.\r\n",
      "warning: SLIM_BPR_Cython_Epoch.pyx:1052:35: Non-trivial type declarators in shared declaration (e.g. mix of pointers and values). Each pointer declaration should be on its own line.\r\n",
      "warning: SLIM_BPR_Cython_Epoch.pyx:1052:42: Non-trivial type declarators in shared declaration (e.g. mix of pointers and values). Each pointer declaration should be on its own line.\r\n",
      "warning: SLIM_BPR_Cython_Epoch.pyx:1053:35: Non-trivial type declarators in shared declaration (e.g. mix of pointers and values). Each pointer declaration should be on its own line.\r\n",
      "warning: SLIM_BPR_Cython_Epoch.pyx:1053:53: Non-trivial type declarators in shared declaration (e.g. mix of pointers and values). Each pointer declaration should be on its own line.\r\n",
      "Compiling [6/10]: SLIM_BPR_Cython_Epoch.pyx... PASS\r\n",
      "\r\n",
      "Compiling [7/10]: CFW_DVV_Similarity_Cython_SGD.pyx... \r\n",
      "In file included from \u001b[01m\u001b[K/opt/conda/lib/python3.7/site-packages/numpy/core/include/numpy/ndarraytypes.h:1969\u001b[m\u001b[K,\r\n",
      "                 from \u001b[01m\u001b[K/opt/conda/lib/python3.7/site-packages/numpy/core/include/numpy/ndarrayobject.h:12\u001b[m\u001b[K,\r\n",
      "                 from \u001b[01m\u001b[K/opt/conda/lib/python3.7/site-packages/numpy/core/include/numpy/arrayobject.h:4\u001b[m\u001b[K,\r\n",
      "                 from \u001b[01m\u001b[KCFW_DVV_Similarity_Cython_SGD.c:746\u001b[m\u001b[K:\r\n",
      "\u001b[01m\u001b[K/opt/conda/lib/python3.7/site-packages/numpy/core/include/numpy/npy_1_7_deprecated_api.h:17:2:\u001b[m\u001b[K \u001b[01;35m\u001b[Kwarning: \u001b[m\u001b[K#warning \"Using deprecated NumPy API, disable it with \" \"#define NPY_NO_DEPRECATED_API NPY_1_7_API_VERSION\" [\u001b[01;35m\u001b[K-Wcpp\u001b[m\u001b[K]\r\n",
      "   17 | #\u001b[01;35m\u001b[Kwarning\u001b[m\u001b[K \"Using deprecated NumPy API, disable it with \" \\\r\n",
      "      |  \u001b[01;35m\u001b[K^~~~~~~\u001b[m\u001b[K\r\n",
      "/opt/conda/lib/python3.7/site-packages/Cython/Compiler/Main.py:369: FutureWarning: Cython directive 'language_level' not set, using 2 for now (Py2). This will change in a later release! File: /kaggle/working/RecSys-2022-Challenge-Polimi/Recommenders/FeatureWeighting/Cython/CFW_DVV_Similarity_Cython_SGD.pyx\r\n",
      "  tree = Parsing.p_module(s, pxd, full_module_name)\r\n",
      "Compiling [7/10]: CFW_DVV_Similarity_Cython_SGD.pyx... PASS\r\n",
      "\r\n",
      "Compiling [8/10]: HP3_Similarity_Cython_SGD.pyx... \r\n",
      "warning: HP3_Similarity_Cython_SGD.pyx:113:40: Index should be typed for more efficient access\r\n",
      "In file included from \u001b[01m\u001b[K/opt/conda/lib/python3.7/site-packages/numpy/core/include/numpy/ndarraytypes.h:1969\u001b[m\u001b[K,\r\n",
      "                 from \u001b[01m\u001b[K/opt/conda/lib/python3.7/site-packages/numpy/core/include/numpy/ndarrayobject.h:12\u001b[m\u001b[K,\r\n",
      "                 from \u001b[01m\u001b[K/opt/conda/lib/python3.7/site-packages/numpy/core/include/numpy/arrayobject.h:4\u001b[m\u001b[K,\r\n",
      "                 from \u001b[01m\u001b[KHP3_Similarity_Cython_SGD.c:746\u001b[m\u001b[K:\r\n",
      "\u001b[01m\u001b[K/opt/conda/lib/python3.7/site-packages/numpy/core/include/numpy/npy_1_7_deprecated_api.h:17:2:\u001b[m\u001b[K \u001b[01;35m\u001b[Kwarning: \u001b[m\u001b[K#warning \"Using deprecated NumPy API, disable it with \" \"#define NPY_NO_DEPRECATED_API NPY_1_7_API_VERSION\" [\u001b[01;35m\u001b[K-Wcpp\u001b[m\u001b[K]\r\n",
      "   17 | #\u001b[01;35m\u001b[Kwarning\u001b[m\u001b[K \"Using deprecated NumPy API, disable it with \" \\\r\n",
      "      |  \u001b[01;35m\u001b[K^~~~~~~\u001b[m\u001b[K\r\n",
      "\u001b[01m\u001b[KHP3_Similarity_Cython_SGD.c:\u001b[m\u001b[K In function ‘\u001b[01m\u001b[K__pyx_pf_25HP3_Similarity_Cython_SGD_25HP3_Similarity_Cython_SGD_4fit\u001b[m\u001b[K’:\r\n",
      "\u001b[01m\u001b[KHP3_Similarity_Cython_SGD.c:6303:55:\u001b[m\u001b[K \u001b[01;35m\u001b[Kwarning: \u001b[m\u001b[K‘\u001b[01m\u001b[K__pyx_v_sample_num\u001b[m\u001b[K’ may be used uninitialized in this function [\u001b[01;35m\u001b[K-Wmaybe-uninitialized\u001b[m\u001b[K]\r\n",
      " 6303 |   __pyx_t_1 = PyFloat_FromDouble((__pyx_v_cum_loss / \u001b[01;35m\u001b[K((double)__pyx_v_sample_num)\u001b[m\u001b[K)); if (unlikely(!__pyx_t_1)) __PYX_ERR(0, 291, __pyx_L1_error)\r\n",
      "      |                                                      \u001b[01;35m\u001b[K~^~~~~~~~~~~~~~~~~~~~~~~~~~~\u001b[m\u001b[K\r\n",
      "/opt/conda/lib/python3.7/site-packages/Cython/Compiler/Main.py:369: FutureWarning: Cython directive 'language_level' not set, using 2 for now (Py2). This will change in a later release! File: /kaggle/working/RecSys-2022-Challenge-Polimi/Recommenders/FeatureWeighting/Cython/HP3_Similarity_Cython_SGD.pyx\r\n",
      "  tree = Parsing.p_module(s, pxd, full_module_name)\r\n",
      "warning: HP3_Similarity_Cython_SGD.pyx:113:40: Index should be typed for more efficient access\r\n",
      "Compiling [8/10]: HP3_Similarity_Cython_SGD.pyx... PASS\r\n",
      "\r\n",
      "Compiling [9/10]: FBSM_Rating_Cython_SGD.pyx... \r\n",
      "In file included from \u001b[01m\u001b[K/opt/conda/lib/python3.7/site-packages/numpy/core/include/numpy/ndarraytypes.h:1969\u001b[m\u001b[K,\r\n",
      "                 from \u001b[01m\u001b[K/opt/conda/lib/python3.7/site-packages/numpy/core/include/numpy/ndarrayobject.h:12\u001b[m\u001b[K,\r\n",
      "                 from \u001b[01m\u001b[K/opt/conda/lib/python3.7/site-packages/numpy/core/include/numpy/arrayobject.h:4\u001b[m\u001b[K,\r\n",
      "                 from \u001b[01m\u001b[KFBSM_Rating_Cython_SGD.c:746\u001b[m\u001b[K:\r\n",
      "\u001b[01m\u001b[K/opt/conda/lib/python3.7/site-packages/numpy/core/include/numpy/npy_1_7_deprecated_api.h:17:2:\u001b[m\u001b[K \u001b[01;35m\u001b[Kwarning: \u001b[m\u001b[K#warning \"Using deprecated NumPy API, disable it with \" \"#define NPY_NO_DEPRECATED_API NPY_1_7_API_VERSION\" [\u001b[01;35m\u001b[K-Wcpp\u001b[m\u001b[K]\r\n",
      "   17 | #\u001b[01;35m\u001b[Kwarning\u001b[m\u001b[K \"Using deprecated NumPy API, disable it with \" \\\r\n",
      "      |  \u001b[01;35m\u001b[K^~~~~~~\u001b[m\u001b[K\r\n",
      "\u001b[01m\u001b[KFBSM_Rating_Cython_SGD.c:\u001b[m\u001b[K In function ‘\u001b[01m\u001b[K__pyx_pf_22FBSM_Rating_Cython_SGD_22FBSM_Rating_Cython_SGD_2fit\u001b[m\u001b[K’:\r\n",
      "\u001b[01m\u001b[KFBSM_Rating_Cython_SGD.c:9031:55:\u001b[m\u001b[K \u001b[01;35m\u001b[Kwarning: \u001b[m\u001b[K‘\u001b[01m\u001b[K__pyx_v_num_sample\u001b[m\u001b[K’ may be used uninitialized in this function [\u001b[01;35m\u001b[K-Wmaybe-uninitialized\u001b[m\u001b[K]\r\n",
      " 9031 |   __pyx_t_5 = PyFloat_FromDouble((__pyx_v_cum_loss / \u001b[01;35m\u001b[K((double)__pyx_v_num_sample)\u001b[m\u001b[K)); if (unlikely(!__pyx_t_5)) __PYX_ERR(0, 551, __pyx_L1_error)\r\n",
      "      |                                                      \u001b[01;35m\u001b[K~^~~~~~~~~~~~~~~~~~~~~~~~~~~\u001b[m\u001b[K\r\n",
      "/opt/conda/lib/python3.7/site-packages/Cython/Compiler/Main.py:369: FutureWarning: Cython directive 'language_level' not set, using 2 for now (Py2). This will change in a later release! File: /kaggle/working/RecSys-2022-Challenge-Polimi/Recommenders/FeatureWeighting/Cython/FBSM_Rating_Cython_SGD.pyx\r\n",
      "  tree = Parsing.p_module(s, pxd, full_module_name)\r\n",
      "Compiling [9/10]: FBSM_Rating_Cython_SGD.pyx... PASS\r\n",
      "\r\n",
      "Compiling [10/10]: CFW_D_Similarity_Cython_SGD.pyx... \r\n",
      "In file included from \u001b[01m\u001b[K/opt/conda/lib/python3.7/site-packages/numpy/core/include/numpy/ndarraytypes.h:1969\u001b[m\u001b[K,\r\n",
      "                 from \u001b[01m\u001b[K/opt/conda/lib/python3.7/site-packages/numpy/core/include/numpy/ndarrayobject.h:12\u001b[m\u001b[K,\r\n",
      "                 from \u001b[01m\u001b[K/opt/conda/lib/python3.7/site-packages/numpy/core/include/numpy/arrayobject.h:4\u001b[m\u001b[K,\r\n",
      "                 from \u001b[01m\u001b[KCFW_D_Similarity_Cython_SGD.c:746\u001b[m\u001b[K:\r\n",
      "\u001b[01m\u001b[K/opt/conda/lib/python3.7/site-packages/numpy/core/include/numpy/npy_1_7_deprecated_api.h:17:2:\u001b[m\u001b[K \u001b[01;35m\u001b[Kwarning: \u001b[m\u001b[K#warning \"Using deprecated NumPy API, disable it with \" \"#define NPY_NO_DEPRECATED_API NPY_1_7_API_VERSION\" [\u001b[01;35m\u001b[K-Wcpp\u001b[m\u001b[K]\r\n",
      "   17 | #\u001b[01;35m\u001b[Kwarning\u001b[m\u001b[K \"Using deprecated NumPy API, disable it with \" \\\r\n",
      "      |  \u001b[01;35m\u001b[K^~~~~~~\u001b[m\u001b[K\r\n",
      "\u001b[01m\u001b[KCFW_D_Similarity_Cython_SGD.c:\u001b[m\u001b[K In function ‘\u001b[01m\u001b[K__pyx_pf_27CFW_D_Similarity_Cython_SGD_27CFW_D_Similarity_Cython_SGD_6fit\u001b[m\u001b[K’:\r\n",
      "\u001b[01m\u001b[KCFW_D_Similarity_Cython_SGD.c:6056:55:\u001b[m\u001b[K \u001b[01;35m\u001b[Kwarning: \u001b[m\u001b[K‘\u001b[01m\u001b[K__pyx_v_sample_num\u001b[m\u001b[K’ may be used uninitialized in this function [\u001b[01;35m\u001b[K-Wmaybe-uninitialized\u001b[m\u001b[K]\r\n",
      " 6056 |   __pyx_t_3 = PyFloat_FromDouble((__pyx_v_cum_loss / \u001b[01;35m\u001b[K((double)__pyx_v_sample_num)\u001b[m\u001b[K)); if (unlikely(!__pyx_t_3)) __PYX_ERR(0, 290, __pyx_L1_error)\r\n",
      "      |                                                      \u001b[01;35m\u001b[K~^~~~~~~~~~~~~~~~~~~~~~~~~~~\u001b[m\u001b[K\r\n",
      "/opt/conda/lib/python3.7/site-packages/Cython/Compiler/Main.py:369: FutureWarning: Cython directive 'language_level' not set, using 2 for now (Py2). This will change in a later release! File: /kaggle/working/RecSys-2022-Challenge-Polimi/Recommenders/FeatureWeighting/Cython/CFW_D_Similarity_Cython_SGD.pyx\r\n",
      "  tree = Parsing.p_module(s, pxd, full_module_name)\r\n",
      "Compiling [10/10]: CFW_D_Similarity_Cython_SGD.pyx... PASS\r\n",
      "\r\n",
      "run_compile_all_cython: Compilation finished. SUCCESS.\r\n",
      "Compilation log can be found here: './result_experiments/run_compile_all_cython.txt'\r\n"
     ]
    }
   ],
   "source": [
    "import os\n",
    "\n",
    "os.chdir( \"./RecSys-2022-Challenge-Polimi\")\n",
    "!python run_compile_all_cython.py"
   ]
  },
  {
   "cell_type": "code",
   "execution_count": 3,
   "id": "e3c4939c",
   "metadata": {
    "execution": {
     "iopub.execute_input": "2023-01-15T11:10:49.583716Z",
     "iopub.status.busy": "2023-01-15T11:10:49.583182Z",
     "iopub.status.idle": "2023-01-15T11:10:50.649726Z",
     "shell.execute_reply": "2023-01-15T11:10:50.647882Z"
    },
    "papermill": {
     "duration": 1.086855,
     "end_time": "2023-01-15T11:10:50.653031",
     "exception": false,
     "start_time": "2023-01-15T11:10:49.566176",
     "status": "completed"
    },
    "tags": []
   },
   "outputs": [],
   "source": [
    "!rm -r models/*"
   ]
  },
  {
   "cell_type": "code",
   "execution_count": 4,
   "id": "3cb7d995",
   "metadata": {
    "execution": {
     "iopub.execute_input": "2023-01-15T11:10:50.687835Z",
     "iopub.status.busy": "2023-01-15T11:10:50.686595Z",
     "iopub.status.idle": "2023-01-15T11:10:57.195863Z",
     "shell.execute_reply": "2023-01-15T11:10:57.194517Z"
    },
    "papermill": {
     "duration": 6.529669,
     "end_time": "2023-01-15T11:10:57.198934",
     "exception": false,
     "start_time": "2023-01-15T11:10:50.669265",
     "status": "completed"
    },
    "tags": []
   },
   "outputs": [],
   "source": [
    "import numpy as np # linear algebra\n",
    "import pandas as pd # data processing, CSV file I/O (e.g. pd.read_csv)\n",
    "import scipy.sparse as sps\n",
    "import csv\n",
    "\n",
    "from Recommenders.Recommender_import_list import *"
   ]
  },
  {
   "cell_type": "markdown",
   "id": "8ca6d3bf",
   "metadata": {
    "papermill": {
     "duration": 0.01444,
     "end_time": "2023-01-15T11:10:57.228845",
     "exception": false,
     "start_time": "2023-01-15T11:10:57.214405",
     "status": "completed"
    },
    "tags": []
   },
   "source": [
    "# Data preprocessing\n",
    "#### Importing URM & ICM"
   ]
  },
  {
   "cell_type": "code",
   "execution_count": 5,
   "id": "bc1c774e",
   "metadata": {
    "execution": {
     "iopub.execute_input": "2023-01-15T11:10:57.260898Z",
     "iopub.status.busy": "2023-01-15T11:10:57.260106Z",
     "iopub.status.idle": "2023-01-15T11:11:00.180589Z",
     "shell.execute_reply": "2023-01-15T11:11:00.179314Z"
    },
    "papermill": {
     "duration": 2.940364,
     "end_time": "2023-01-15T11:11:00.183707",
     "exception": false,
     "start_time": "2023-01-15T11:10:57.243343",
     "status": "completed"
    },
    "tags": []
   },
   "outputs": [
    {
     "name": "stderr",
     "output_type": "stream",
     "text": [
      "/opt/conda/lib/python3.7/site-packages/IPython/core/interactiveshell.py:3552: DtypeWarning: Columns (2) have mixed types.Specify dtype option on import or set low_memory=False.\n",
      "  exec(code_obj, self.user_global_ns, self.user_ns)\n"
     ]
    }
   ],
   "source": [
    "URM_all = pd.read_csv(\"/kaggle/input/recommender-system-2022-challenge-polimi/interactions_and_impressions.csv\")\n",
    "ICM_type = pd.read_csv(\"/kaggle/input/recommender-system-2022-challenge-polimi/data_ICM_type.csv\")\n",
    "ICM_length = pd.read_csv(\"/kaggle/input/recommender-system-2022-challenge-polimi/data_ICM_length.csv\")\n",
    "\n",
    "ICM_all = pd.concat([ICM_type, ICM_length]).sort_values(by='item_id')"
   ]
  },
  {
   "cell_type": "code",
   "execution_count": 6,
   "id": "628fd195",
   "metadata": {
    "execution": {
     "iopub.execute_input": "2023-01-15T11:11:00.216679Z",
     "iopub.status.busy": "2023-01-15T11:11:00.216178Z",
     "iopub.status.idle": "2023-01-15T11:11:00.238874Z",
     "shell.execute_reply": "2023-01-15T11:11:00.237748Z"
    },
    "papermill": {
     "duration": 0.041843,
     "end_time": "2023-01-15T11:11:00.241259",
     "exception": false,
     "start_time": "2023-01-15T11:11:00.199416",
     "status": "completed"
    },
    "tags": []
   },
   "outputs": [
    {
     "data": {
      "text/html": [
       "<div>\n",
       "<style scoped>\n",
       "    .dataframe tbody tr th:only-of-type {\n",
       "        vertical-align: middle;\n",
       "    }\n",
       "\n",
       "    .dataframe tbody tr th {\n",
       "        vertical-align: top;\n",
       "    }\n",
       "\n",
       "    .dataframe thead th {\n",
       "        text-align: right;\n",
       "    }\n",
       "</style>\n",
       "<table border=\"1\" class=\"dataframe\">\n",
       "  <thead>\n",
       "    <tr style=\"text-align: right;\">\n",
       "      <th></th>\n",
       "      <th>UserID</th>\n",
       "      <th>ItemID</th>\n",
       "      <th>Impressions</th>\n",
       "      <th>Data</th>\n",
       "    </tr>\n",
       "  </thead>\n",
       "  <tbody>\n",
       "    <tr>\n",
       "      <th>0</th>\n",
       "      <td>0</td>\n",
       "      <td>11</td>\n",
       "      <td>0,1,2,3,4,5,6,7,8,9,10,11,12,13,14,15,16,17,18,19</td>\n",
       "      <td>1</td>\n",
       "    </tr>\n",
       "    <tr>\n",
       "      <th>1</th>\n",
       "      <td>0</td>\n",
       "      <td>21</td>\n",
       "      <td>NaN</td>\n",
       "      <td>0</td>\n",
       "    </tr>\n",
       "    <tr>\n",
       "      <th>2</th>\n",
       "      <td>0</td>\n",
       "      <td>21</td>\n",
       "      <td>NaN</td>\n",
       "      <td>0</td>\n",
       "    </tr>\n",
       "    <tr>\n",
       "      <th>3</th>\n",
       "      <td>0</td>\n",
       "      <td>21</td>\n",
       "      <td>20,21,22,23,24,25,26,27,28,29</td>\n",
       "      <td>0</td>\n",
       "    </tr>\n",
       "    <tr>\n",
       "      <th>4</th>\n",
       "      <td>0</td>\n",
       "      <td>21</td>\n",
       "      <td>NaN</td>\n",
       "      <td>1</td>\n",
       "    </tr>\n",
       "    <tr>\n",
       "      <th>...</th>\n",
       "      <td>...</td>\n",
       "      <td>...</td>\n",
       "      <td>...</td>\n",
       "      <td>...</td>\n",
       "    </tr>\n",
       "    <tr>\n",
       "      <th>5826501</th>\n",
       "      <td>41628</td>\n",
       "      <td>20448</td>\n",
       "      <td>NaN</td>\n",
       "      <td>0</td>\n",
       "    </tr>\n",
       "    <tr>\n",
       "      <th>5826502</th>\n",
       "      <td>41628</td>\n",
       "      <td>20896</td>\n",
       "      <td>NaN</td>\n",
       "      <td>1</td>\n",
       "    </tr>\n",
       "    <tr>\n",
       "      <th>5826503</th>\n",
       "      <td>41628</td>\n",
       "      <td>21506</td>\n",
       "      <td>NaN</td>\n",
       "      <td>1</td>\n",
       "    </tr>\n",
       "    <tr>\n",
       "      <th>5826504</th>\n",
       "      <td>41628</td>\n",
       "      <td>22882</td>\n",
       "      <td>NaN</td>\n",
       "      <td>0</td>\n",
       "    </tr>\n",
       "    <tr>\n",
       "      <th>5826505</th>\n",
       "      <td>41628</td>\n",
       "      <td>23757</td>\n",
       "      <td>NaN</td>\n",
       "      <td>0</td>\n",
       "    </tr>\n",
       "  </tbody>\n",
       "</table>\n",
       "<p>5826506 rows × 4 columns</p>\n",
       "</div>"
      ],
      "text/plain": [
       "         UserID  ItemID                                        Impressions  \\\n",
       "0             0      11  0,1,2,3,4,5,6,7,8,9,10,11,12,13,14,15,16,17,18,19   \n",
       "1             0      21                                                NaN   \n",
       "2             0      21                                                NaN   \n",
       "3             0      21                      20,21,22,23,24,25,26,27,28,29   \n",
       "4             0      21                                                NaN   \n",
       "...         ...     ...                                                ...   \n",
       "5826501   41628   20448                                                NaN   \n",
       "5826502   41628   20896                                                NaN   \n",
       "5826503   41628   21506                                                NaN   \n",
       "5826504   41628   22882                                                NaN   \n",
       "5826505   41628   23757                                                NaN   \n",
       "\n",
       "         Data  \n",
       "0           1  \n",
       "1           0  \n",
       "2           0  \n",
       "3           0  \n",
       "4           1  \n",
       "...       ...  \n",
       "5826501     0  \n",
       "5826502     1  \n",
       "5826503     1  \n",
       "5826504     0  \n",
       "5826505     0  \n",
       "\n",
       "[5826506 rows x 4 columns]"
      ]
     },
     "execution_count": 6,
     "metadata": {},
     "output_type": "execute_result"
    }
   ],
   "source": [
    "URM_all"
   ]
  },
  {
   "cell_type": "code",
   "execution_count": 7,
   "id": "6219ff73",
   "metadata": {
    "execution": {
     "iopub.execute_input": "2023-01-15T11:11:00.274114Z",
     "iopub.status.busy": "2023-01-15T11:11:00.273191Z",
     "iopub.status.idle": "2023-01-15T11:11:00.286650Z",
     "shell.execute_reply": "2023-01-15T11:11:00.285531Z"
    },
    "papermill": {
     "duration": 0.032214,
     "end_time": "2023-01-15T11:11:00.288895",
     "exception": false,
     "start_time": "2023-01-15T11:11:00.256681",
     "status": "completed"
    },
    "tags": []
   },
   "outputs": [
    {
     "data": {
      "text/html": [
       "<div>\n",
       "<style scoped>\n",
       "    .dataframe tbody tr th:only-of-type {\n",
       "        vertical-align: middle;\n",
       "    }\n",
       "\n",
       "    .dataframe tbody tr th {\n",
       "        vertical-align: top;\n",
       "    }\n",
       "\n",
       "    .dataframe thead th {\n",
       "        text-align: right;\n",
       "    }\n",
       "</style>\n",
       "<table border=\"1\" class=\"dataframe\">\n",
       "  <thead>\n",
       "    <tr style=\"text-align: right;\">\n",
       "      <th></th>\n",
       "      <th>item_id</th>\n",
       "      <th>feature_id</th>\n",
       "      <th>data</th>\n",
       "    </tr>\n",
       "  </thead>\n",
       "  <tbody>\n",
       "    <tr>\n",
       "      <th>0</th>\n",
       "      <td>0</td>\n",
       "      <td>1</td>\n",
       "      <td>1</td>\n",
       "    </tr>\n",
       "    <tr>\n",
       "      <th>0</th>\n",
       "      <td>0</td>\n",
       "      <td>0</td>\n",
       "      <td>1</td>\n",
       "    </tr>\n",
       "    <tr>\n",
       "      <th>1</th>\n",
       "      <td>1</td>\n",
       "      <td>0</td>\n",
       "      <td>1</td>\n",
       "    </tr>\n",
       "    <tr>\n",
       "      <th>1</th>\n",
       "      <td>1</td>\n",
       "      <td>3</td>\n",
       "      <td>1</td>\n",
       "    </tr>\n",
       "    <tr>\n",
       "      <th>2</th>\n",
       "      <td>2</td>\n",
       "      <td>4</td>\n",
       "      <td>1</td>\n",
       "    </tr>\n",
       "    <tr>\n",
       "      <th>...</th>\n",
       "      <td>...</td>\n",
       "      <td>...</td>\n",
       "      <td>...</td>\n",
       "    </tr>\n",
       "    <tr>\n",
       "      <th>23088</th>\n",
       "      <td>27965</td>\n",
       "      <td>1</td>\n",
       "      <td>1</td>\n",
       "    </tr>\n",
       "    <tr>\n",
       "      <th>23089</th>\n",
       "      <td>27966</td>\n",
       "      <td>0</td>\n",
       "      <td>1</td>\n",
       "    </tr>\n",
       "    <tr>\n",
       "      <th>23089</th>\n",
       "      <td>27966</td>\n",
       "      <td>1</td>\n",
       "      <td>1</td>\n",
       "    </tr>\n",
       "    <tr>\n",
       "      <th>23090</th>\n",
       "      <td>27967</td>\n",
       "      <td>4</td>\n",
       "      <td>1</td>\n",
       "    </tr>\n",
       "    <tr>\n",
       "      <th>23090</th>\n",
       "      <td>27967</td>\n",
       "      <td>0</td>\n",
       "      <td>2</td>\n",
       "    </tr>\n",
       "  </tbody>\n",
       "</table>\n",
       "<p>46182 rows × 3 columns</p>\n",
       "</div>"
      ],
      "text/plain": [
       "       item_id  feature_id  data\n",
       "0            0           1     1\n",
       "0            0           0     1\n",
       "1            1           0     1\n",
       "1            1           3     1\n",
       "2            2           4     1\n",
       "...        ...         ...   ...\n",
       "23088    27965           1     1\n",
       "23089    27966           0     1\n",
       "23089    27966           1     1\n",
       "23090    27967           4     1\n",
       "23090    27967           0     2\n",
       "\n",
       "[46182 rows x 3 columns]"
      ]
     },
     "execution_count": 7,
     "metadata": {},
     "output_type": "execute_result"
    }
   ],
   "source": [
    "ICM_all"
   ]
  },
  {
   "cell_type": "markdown",
   "id": "2f586beb",
   "metadata": {
    "papermill": {
     "duration": 0.014859,
     "end_time": "2023-01-15T11:11:00.318936",
     "exception": false,
     "start_time": "2023-01-15T11:11:00.304077",
     "status": "completed"
    },
    "tags": []
   },
   "source": [
    "#### Getting rid of duplicates and empty indices\n",
    "Let's start with the indices, the mapping is done for consistency"
   ]
  },
  {
   "cell_type": "code",
   "execution_count": 8,
   "id": "60284058",
   "metadata": {
    "execution": {
     "iopub.execute_input": "2023-01-15T11:11:00.351190Z",
     "iopub.status.busy": "2023-01-15T11:11:00.350670Z",
     "iopub.status.idle": "2023-01-15T11:11:00.715935Z",
     "shell.execute_reply": "2023-01-15T11:11:00.714601Z"
    },
    "papermill": {
     "duration": 0.384464,
     "end_time": "2023-01-15T11:11:00.718547",
     "exception": false,
     "start_time": "2023-01-15T11:11:00.334083",
     "status": "completed"
    },
    "tags": []
   },
   "outputs": [
    {
     "name": "stdout",
     "output_type": "stream",
     "text": [
      "Unique UserID in the URM are 41629\n",
      "Unique FeatureID in the URM are 6\n"
     ]
    }
   ],
   "source": [
    "users_URM = pd.DataFrame({\"UserID\": URM_all[\"UserID\"].unique()})\n",
    "items_URM = pd.DataFrame({\"item_id\": URM_all[\"ItemID\"].unique()})\n",
    "\n",
    "all_items_ICM = pd.DataFrame({\"item_id\": ICM_all[\"item_id\"].unique()})\n",
    "relevant_ICM_items = items_URM.merge(all_items_ICM, on=\"item_id\")\n",
    "relevant_ICM = relevant_ICM_items.merge(ICM_all, on=\"item_id\", how=\"left\")\n",
    "\n",
    "mapped_id, original_id = pd.factorize(URM_all[\"UserID\"].unique())\n",
    "user_original_ID_to_index = pd.Series(mapped_id, index=original_id)\n",
    "print(\"Unique UserID in the URM are {}\".format(len(original_id)))\n",
    "\n",
    "mapped_id, original_id = pd.factorize(URM_all[\"ItemID\"].unique())\n",
    "item_original_ID_to_index = pd.Series(mapped_id, index=original_id)\n",
    "\n",
    "feature_original_ID_to_index = pd.Series({\n",
    "    0: 5,\n",
    "    1: 0,\n",
    "    2: 2,\n",
    "    3: 3,\n",
    "    7: 1,\n",
    "    4: 4\n",
    "}, index = [0, 1, 2, 3, 4, 7]) # feature id mapping\n",
    "\n",
    "print(\"Unique FeatureID in the URM are {}\".format(len(feature_original_ID_to_index)))\n",
    "\n",
    "URM_all[\"UserID\"] = URM_all[\"UserID\"].map(user_original_ID_to_index)\n",
    "URM_all[\"ItemID\"] = URM_all[\"ItemID\"].map(item_original_ID_to_index)\n",
    "relevant_ICM[\"item_id\"] = relevant_ICM[\"item_id\"].map(item_original_ID_to_index)\n",
    "relevant_ICM[\"feature_id\"] = relevant_ICM[\"feature_id\"].map(feature_original_ID_to_index)\n",
    "\n",
    "ICM_all = relevant_ICM"
   ]
  },
  {
   "cell_type": "code",
   "execution_count": 9,
   "id": "19834777",
   "metadata": {
    "execution": {
     "iopub.execute_input": "2023-01-15T11:11:00.751331Z",
     "iopub.status.busy": "2023-01-15T11:11:00.750891Z",
     "iopub.status.idle": "2023-01-15T11:11:00.764542Z",
     "shell.execute_reply": "2023-01-15T11:11:00.763715Z"
    },
    "papermill": {
     "duration": 0.032685,
     "end_time": "2023-01-15T11:11:00.766827",
     "exception": false,
     "start_time": "2023-01-15T11:11:00.734142",
     "status": "completed"
    },
    "tags": []
   },
   "outputs": [],
   "source": [
    "def subtract_dfs(df1, df2):\n",
    "    result = pd.merge(df1, df2, indicator=True, how='outer').query('_merge==\"left_only\"').drop('_merge', axis=1)\n",
    "    return result\n",
    "\n",
    "def get_bonus_fakemalus_realmalus(u):\n",
    "    DF_Clicked = u[u[\"Data\"] == 1].drop([\"Impressions\"], axis=1)\n",
    "    DF_Clicked = DF_Clicked.groupby(['UserID', 'ItemID'], as_index=False).count()\n",
    "    DF_Clicked.rename(inplace=True, columns={\"Data\": \"Clicked\"})\n",
    "    DF_Watched = u[u[\"Data\"] == 0].drop([\"Impressions\"], axis=1)\n",
    "    DF_Watched = DF_Watched.groupby(['UserID', 'ItemID'], as_index=False).count()\n",
    "    DF_Watched.rename(inplace=True, columns={\"Data\": \"Watched\"})\n",
    "    \n",
    "    # find bonus: interactiors that are both watched and clicked\n",
    "    comparison_df = DF_Watched.merge(DF_Clicked, on=[\"UserID\", \"ItemID\"])\n",
    "    comparison_df = comparison_df.drop([\"Clicked\", \"Watched\"], axis=1)\n",
    "    bonus = np.array((comparison_df.UserID, comparison_df.ItemID))\n",
    "    \n",
    "    # fake malus: interactions that have been only watched\n",
    "    Watched_once_df = DF_Watched[DF_Watched[\"Watched\"]==1]\n",
    "    Fake_Malus_df = subtract_dfs(Watched_once_df.drop([\"Watched\"], axis=1), DF_Clicked.drop([\"Clicked\"], axis=1))\n",
    "    fake_malus = np.array((Fake_Malus_df.UserID, Fake_Malus_df.ItemID))\n",
    "    \n",
    "    # real malus: interactions that have been only clicked\n",
    "    Clicked_once_df = DF_Clicked[DF_Clicked[\"Clicked\"]==1]\n",
    "    Real_Malus_df = subtract_dfs(Clicked_once_df.drop([\"Clicked\"], axis=1), DF_Watched.drop([\"Watched\"], axis=1))\n",
    "    real_malus = np.array((Real_Malus_df.UserID, Real_Malus_df.ItemID))\n",
    "\n",
    "    return bonus, fake_malus, real_malus\n",
    "\n",
    "def get_modified_urm(urm_original, bonus_amount, bonus_interactions):     # malus negativi!!!!\n",
    "    bonus_length = bonus_interactions.shape[1]\n",
    "       \n",
    "        \n",
    "    urm_copy = urm_original.copy()\n",
    "    \n",
    "    for i in range(0, bonus_length):\n",
    "        x = urm_copy[bonus_interactions[0][i], bonus_interactions[1][i]]\n",
    "        if (x!=0): urm_copy[bonus_interactions[0][i], bonus_interactions[1][i]] += bonus_amount\n",
    "            \n",
    "    \n",
    "    return urm_copy"
   ]
  },
  {
   "cell_type": "code",
   "execution_count": 10,
   "id": "f961b3c3",
   "metadata": {
    "execution": {
     "iopub.execute_input": "2023-01-15T11:11:00.800553Z",
     "iopub.status.busy": "2023-01-15T11:11:00.799630Z",
     "iopub.status.idle": "2023-01-15T11:11:01.348752Z",
     "shell.execute_reply": "2023-01-15T11:11:01.347564Z"
    },
    "papermill": {
     "duration": 0.568161,
     "end_time": "2023-01-15T11:11:01.351252",
     "exception": false,
     "start_time": "2023-01-15T11:11:00.783091",
     "status": "completed"
    },
    "tags": []
   },
   "outputs": [
    {
     "data": {
      "text/plain": [
       "array([5, 0, 4, 2, 3, 1])"
      ]
     },
     "execution_count": 10,
     "metadata": {},
     "output_type": "execute_result"
    }
   ],
   "source": [
    "URM_all_binary = URM_all.drop([\"Impressions\", \"Data\"], axis=1).drop_duplicates()\n",
    "URM_all_binary[\"Rating\"]=1.0\n",
    "\n",
    "ICM_all[\"feature_id\"].unique()"
   ]
  },
  {
   "cell_type": "code",
   "execution_count": 11,
   "id": "4715f836",
   "metadata": {
    "execution": {
     "iopub.execute_input": "2023-01-15T11:11:01.384831Z",
     "iopub.status.busy": "2023-01-15T11:11:01.384348Z",
     "iopub.status.idle": "2023-01-15T11:11:02.360622Z",
     "shell.execute_reply": "2023-01-15T11:11:02.359293Z"
    },
    "papermill": {
     "duration": 0.99585,
     "end_time": "2023-01-15T11:11:02.363106",
     "exception": false,
     "start_time": "2023-01-15T11:11:01.367256",
     "status": "completed"
    },
    "tags": []
   },
   "outputs": [
    {
     "name": "stdout",
     "output_type": "stream",
     "text": [
      "Number of users is 41629\n",
      "Number of items is 24507\n",
      "Number of features is 6\n"
     ]
    },
    {
     "data": {
      "text/plain": [
       "(<41629x24507 sparse matrix of type '<class 'numpy.float64'>'\n",
       " \twith 1123227 stored elements in Compressed Sparse Row format>,\n",
       " <41629x24507 sparse matrix of type '<class 'numpy.float64'>'\n",
       " \twith 198217 stored elements in Compressed Sparse Row format>,\n",
       " <41629x24507 sparse matrix of type '<class 'numpy.float64'>'\n",
       " \twith 1554640 stored elements in Compressed Sparse Row format>,\n",
       " <24507x6 sparse matrix of type '<class 'numpy.float64'>'\n",
       " \twith 39260 stored elements in Compressed Sparse Row format>)"
      ]
     },
     "execution_count": 11,
     "metadata": {},
     "output_type": "execute_result"
    }
   ],
   "source": [
    "n_users = len(user_original_ID_to_index)\n",
    "n_items = len(item_original_ID_to_index)\n",
    "n_features = len(feature_original_ID_to_index)\n",
    "\n",
    "print(\"Number of users is {}\".format(n_users))\n",
    "print(\"Number of items is {}\".format(n_items))\n",
    "print(\"Number of features is {}\".format(n_features))\n",
    "\n",
    "from sklearn.model_selection import train_test_split\n",
    "seed = 42\n",
    "\n",
    "(user_ids_train_validation, user_ids_test,\n",
    " item_ids_train_validation, item_ids_test,\n",
    " ratings_train_validation, ratings_test) = train_test_split(URM_all_binary.UserID,\n",
    "                                                        URM_all_binary.ItemID,\n",
    "                                                        URM_all_binary.Rating,\n",
    "                                                        test_size=0.15,\n",
    "                                                        shuffle=True,\n",
    "                                                        random_state=seed)\n",
    "\n",
    "(user_ids_train, user_ids_validation,\n",
    " item_ids_train, item_ids_validation,\n",
    " ratings_train, ratings_validation) = train_test_split(user_ids_train_validation,\n",
    "                                                        item_ids_train_validation,\n",
    "                                                        ratings_train_validation,\n",
    "                                                        test_size=0.15,\n",
    "                                                        shuffle=True,\n",
    "                                                        random_state=seed)\n",
    "\n",
    "urm_train = sps.csr_matrix((ratings_train, (user_ids_train, item_ids_train)),\n",
    "                           shape = (n_users, n_items))\n",
    "\n",
    "urm_validation = sps.csr_matrix((ratings_validation, (user_ids_validation, item_ids_validation)),\n",
    "                           shape = (n_users, n_items))\n",
    "\n",
    "urm_train_validation = sps.csr_matrix((ratings_train_validation, (user_ids_train_validation, item_ids_train_validation)),\n",
    "                           shape = (n_users, n_items))\n",
    "\n",
    "urm_test = sps.csr_matrix((ratings_test, (user_ids_test, item_ids_test)),\n",
    "                           shape = (n_users, n_items))\n",
    "\n",
    "urm_all = sps.csr_matrix((URM_all_binary.Rating, (URM_all_binary.UserID, URM_all_binary.ItemID)),\n",
    "                           shape = (n_users, n_items))\n",
    "\n",
    "icm_all = sps.csr_matrix((np.ones(len(ICM_all[\"item_id\"].values)), \n",
    "                          (ICM_all[\"item_id\"].values, ICM_all[\"feature_id\"].values)),\n",
    "                        shape = (n_items, 6))\n",
    "\n",
    "icm_all.data = np.ones_like(icm_all.data)\n",
    "\n",
    "icm_all = sps.csr_matrix(icm_all)\n",
    "features_per_item = np.ediff1d(icm_all.indptr)\n",
    "\n",
    "icm_all = sps.csc_matrix(icm_all)\n",
    "items_per_feature = np.ediff1d(icm_all.indptr)\n",
    "\n",
    "icm_all = sps.csr_matrix(icm_all) \n",
    "\n",
    "urm_train, urm_validation, urm_all, icm_all"
   ]
  },
  {
   "cell_type": "code",
   "execution_count": 12,
   "id": "3c28adc0",
   "metadata": {
    "execution": {
     "iopub.execute_input": "2023-01-15T11:11:02.397216Z",
     "iopub.status.busy": "2023-01-15T11:11:02.396739Z",
     "iopub.status.idle": "2023-01-15T11:11:02.444722Z",
     "shell.execute_reply": "2023-01-15T11:11:02.443373Z"
    },
    "papermill": {
     "duration": 0.068231,
     "end_time": "2023-01-15T11:11:02.447657",
     "exception": false,
     "start_time": "2023-01-15T11:11:02.379426",
     "status": "completed"
    },
    "tags": []
   },
   "outputs": [
    {
     "name": "stdout",
     "output_type": "stream",
     "text": [
      "EvaluatorHoldout: Ignoring 1520 ( 3.7%) Users that have less than 1 test interactions\n",
      "EvaluatorHoldout: Ignoring 976 ( 2.3%) Users that have less than 1 test interactions\n"
     ]
    }
   ],
   "source": [
    "from Evaluation.Evaluator import EvaluatorHoldout\n",
    "\n",
    "evaluator_validation = EvaluatorHoldout(urm_validation, cutoff_list=[10])\n",
    "evaluator_test = EvaluatorHoldout(urm_test, cutoff_list=[10])"
   ]
  },
  {
   "cell_type": "markdown",
   "id": "9068465c",
   "metadata": {
    "papermill": {
     "duration": 0.01643,
     "end_time": "2023-01-15T11:11:02.480153",
     "exception": false,
     "start_time": "2023-01-15T11:11:02.463723",
     "status": "completed"
    },
    "tags": []
   },
   "source": [
    "# Models"
   ]
  },
  {
   "cell_type": "code",
   "execution_count": 13,
   "id": "53851620",
   "metadata": {
    "execution": {
     "iopub.execute_input": "2023-01-15T11:11:02.514455Z",
     "iopub.status.busy": "2023-01-15T11:11:02.513470Z",
     "iopub.status.idle": "2023-01-15T11:11:02.520750Z",
     "shell.execute_reply": "2023-01-15T11:11:02.519574Z"
    },
    "papermill": {
     "duration": 0.027097,
     "end_time": "2023-01-15T11:11:02.523228",
     "exception": false,
     "start_time": "2023-01-15T11:11:02.496131",
     "status": "completed"
    },
    "tags": []
   },
   "outputs": [],
   "source": [
    "params = {\n",
    "    'topK': 2492,\n",
    "    'l1_ratio': 0.09122038444743771,\n",
    "    'alpha': 0.00031614482201457075,\n",
    "}"
   ]
  },
  {
   "cell_type": "code",
   "execution_count": 14,
   "id": "e7248f70",
   "metadata": {
    "execution": {
     "iopub.execute_input": "2023-01-15T11:11:02.558366Z",
     "iopub.status.busy": "2023-01-15T11:11:02.557461Z",
     "iopub.status.idle": "2023-01-15T11:11:02.563466Z",
     "shell.execute_reply": "2023-01-15T11:11:02.562324Z"
    },
    "papermill": {
     "duration": 0.026204,
     "end_time": "2023-01-15T11:11:02.565889",
     "exception": false,
     "start_time": "2023-01-15T11:11:02.539685",
     "status": "completed"
    },
    "tags": []
   },
   "outputs": [],
   "source": [
    "slim_both_bonus = 0.25\n",
    "slim_only_watched_once_malus = -0.1\n",
    "slim_only_clicked_once_malus = -0.1"
   ]
  },
  {
   "cell_type": "code",
   "execution_count": 15,
   "id": "913a60b8",
   "metadata": {
    "execution": {
     "iopub.execute_input": "2023-01-15T11:11:02.601160Z",
     "iopub.status.busy": "2023-01-15T11:11:02.600717Z",
     "iopub.status.idle": "2023-01-15T11:16:56.066623Z",
     "shell.execute_reply": "2023-01-15T11:16:56.065226Z"
    },
    "papermill": {
     "duration": 353.486844,
     "end_time": "2023-01-15T11:16:56.069749",
     "exception": false,
     "start_time": "2023-01-15T11:11:02.582905",
     "status": "completed"
    },
    "tags": []
   },
   "outputs": [],
   "source": [
    "both_watched_and_clicked, only_watched_once, only_clicked_once = get_bonus_fakemalus_realmalus(URM_all)\n",
    "\n",
    "slim_urm_all = get_modified_urm(urm_all, slim_both_bonus, both_watched_and_clicked)\n",
    "slim_urm_all = get_modified_urm(slim_urm_all, slim_only_watched_once_malus, only_watched_once)\n",
    "slim_urm_all = get_modified_urm(slim_urm_all, slim_only_clicked_once_malus, only_clicked_once)\n",
    "\n",
    "slim_urm_train_validation = get_modified_urm(urm_train_validation, slim_both_bonus, both_watched_and_clicked)\n",
    "slim_urm_train_validation = get_modified_urm(slim_urm_train_validation, slim_only_watched_once_malus, only_watched_once)\n",
    "slim_urm_train_validation = get_modified_urm(slim_urm_train_validation, slim_only_clicked_once_malus, only_clicked_once)\n",
    "\n",
    "slim_urm_train = get_modified_urm(urm_train, slim_both_bonus, both_watched_and_clicked)\n",
    "slim_urm_train = get_modified_urm(slim_urm_train, slim_only_watched_once_malus, only_watched_once)\n",
    "slim_urm_train = get_modified_urm(slim_urm_train, slim_only_clicked_once_malus, only_clicked_once)"
   ]
  },
  {
   "cell_type": "code",
   "execution_count": 16,
   "id": "e3a00343",
   "metadata": {
    "execution": {
     "iopub.execute_input": "2023-01-15T11:16:56.103536Z",
     "iopub.status.busy": "2023-01-15T11:16:56.103102Z",
     "iopub.status.idle": "2023-01-15T11:16:56.112661Z",
     "shell.execute_reply": "2023-01-15T11:16:56.111648Z"
    },
    "papermill": {
     "duration": 0.028923,
     "end_time": "2023-01-15T11:16:56.114986",
     "exception": false,
     "start_time": "2023-01-15T11:16:56.086063",
     "status": "completed"
    },
    "tags": []
   },
   "outputs": [],
   "source": [
    "ICM_Type = ICM_all[ICM_all[\"feature_id\"] != 5] # togliamo la length\n",
    "icm_type = sps.csr_matrix((ICM_Type.data, (ICM_Type.feature_id, ICM_Type.item_id)),\n",
    "                         shape = (5, n_items))"
   ]
  },
  {
   "cell_type": "code",
   "execution_count": 17,
   "id": "9a3ddf18",
   "metadata": {
    "execution": {
     "iopub.execute_input": "2023-01-15T11:16:56.148032Z",
     "iopub.status.busy": "2023-01-15T11:16:56.147619Z",
     "iopub.status.idle": "2023-01-15T11:16:56.185695Z",
     "shell.execute_reply": "2023-01-15T11:16:56.184561Z"
    },
    "papermill": {
     "duration": 0.057935,
     "end_time": "2023-01-15T11:16:56.188510",
     "exception": false,
     "start_time": "2023-01-15T11:16:56.130575",
     "status": "completed"
    },
    "tags": []
   },
   "outputs": [
    {
     "data": {
      "text/plain": [
       "(<41634x24507 sparse matrix of type '<class 'numpy.float64'>'\n",
       " \twith 1574270 stored elements in Compressed Sparse Row format>,\n",
       " <41634x24507 sparse matrix of type '<class 'numpy.float64'>'\n",
       " \twith 1341074 stored elements in Compressed Sparse Row format>,\n",
       " <41634x24507 sparse matrix of type '<class 'numpy.float64'>'\n",
       " \twith 1142857 stored elements in Compressed Sparse Row format>)"
      ]
     },
     "execution_count": 17,
     "metadata": {},
     "output_type": "execute_result"
    }
   ],
   "source": [
    "stack_alpha = 0.7896376793234108\n",
    "stacked_urm_all = sps.vstack([slim_urm_all.multiply(stack_alpha), icm_type.multiply(1 - stack_alpha)]) # stack su quella con bonus\n",
    "stacked_urm_train_validation = sps.vstack([slim_urm_train_validation.multiply(stack_alpha), icm_type.multiply(1 - stack_alpha)]) # stack su quella con bonus\n",
    "stacked_urm_train = sps.vstack([slim_urm_train.multiply(stack_alpha), icm_type.multiply(1 - stack_alpha)]) # stack su quella con bonus\n",
    "stacked_urm_all, stacked_urm_train_validation, stacked_urm_train"
   ]
  },
  {
   "cell_type": "code",
   "execution_count": 18,
   "id": "b2641ec7",
   "metadata": {
    "execution": {
     "iopub.execute_input": "2023-01-15T11:16:56.222686Z",
     "iopub.status.busy": "2023-01-15T11:16:56.221961Z",
     "iopub.status.idle": "2023-01-15T11:48:24.169089Z",
     "shell.execute_reply": "2023-01-15T11:48:24.168134Z"
    },
    "papermill": {
     "duration": 1887.966953,
     "end_time": "2023-01-15T11:48:24.171360",
     "exception": false,
     "start_time": "2023-01-15T11:16:56.204407",
     "status": "completed"
    },
    "tags": []
   },
   "outputs": [
    {
     "name": "stdout",
     "output_type": "stream",
     "text": [
      "SLIMElasticNetRecommender: Processed 3566 (14.6%) in 5.00 min. Items per second: 11.88\n",
      "SLIMElasticNetRecommender: Processed 7381 (30.1%) in 10.00 min. Items per second: 12.30\n",
      "SLIMElasticNetRecommender: Processed 11329 (46.2%) in 15.00 min. Items per second: 12.59\n",
      "SLIMElasticNetRecommender: Processed 15300 (62.4%) in 20.00 min. Items per second: 12.75\n",
      "SLIMElasticNetRecommender: Processed 19184 (78.3%) in 25.00 min. Items per second: 12.79\n",
      "SLIMElasticNetRecommender: Processed 23276 (95.0%) in 30.00 min. Items per second: 12.93\n",
      "SLIMElasticNetRecommender: Processed 24507 (100.0%) in 31.44 min. Items per second: 12.99\n",
      "SLIMElasticNetRecommender: Saving model in file 'modelsSLIM_Elastic_all.zip'\n",
      "SLIMElasticNetRecommender: Saving complete\n"
     ]
    }
   ],
   "source": [
    "SLIM_Elastic_all = SLIMElasticNetRecommender(stacked_urm_all)\n",
    "SLIM_Elastic_all.fit(**params)\n",
    "\n",
    "SLIM_Elastic_all.save_model(\"models\", \"SLIM_Elastic_all.zip\")"
   ]
  },
  {
   "cell_type": "code",
   "execution_count": 19,
   "id": "fff0bd55",
   "metadata": {
    "execution": {
     "iopub.execute_input": "2023-01-15T11:48:24.207860Z",
     "iopub.status.busy": "2023-01-15T11:48:24.207384Z",
     "iopub.status.idle": "2023-01-15T12:14:16.462511Z",
     "shell.execute_reply": "2023-01-15T12:14:16.461332Z"
    },
    "papermill": {
     "duration": 1552.27627,
     "end_time": "2023-01-15T12:14:16.464812",
     "exception": false,
     "start_time": "2023-01-15T11:48:24.188542",
     "status": "completed"
    },
    "tags": []
   },
   "outputs": [
    {
     "name": "stdout",
     "output_type": "stream",
     "text": [
      "SLIMElasticNetRecommender: Processed 4367 (17.8%) in 5.00 min. Items per second: 14.55\n",
      "SLIMElasticNetRecommender: Processed 9131 (37.3%) in 10.00 min. Items per second: 15.21\n",
      "SLIMElasticNetRecommender: Processed 13865 (56.6%) in 15.00 min. Items per second: 15.40\n",
      "SLIMElasticNetRecommender: Processed 18706 (76.3%) in 20.00 min. Items per second: 15.59\n",
      "SLIMElasticNetRecommender: Processed 23625 (96.4%) in 25.00 min. Items per second: 15.75\n",
      "SLIMElasticNetRecommender: Processed 24507 (100.0%) in 25.85 min. Items per second: 15.80\n",
      "SLIMElasticNetRecommender: Saving model in file 'modelsSLIM_Elastic_train_validation.zip'\n",
      "SLIMElasticNetRecommender: Saving complete\n"
     ]
    }
   ],
   "source": [
    "SLIM_Elastic_train_validation = SLIMElasticNetRecommender(stacked_urm_train_validation)\n",
    "SLIM_Elastic_train_validation.fit(**params)\n",
    "\n",
    "SLIM_Elastic_train_validation.save_model(\"models\", \"SLIM_Elastic_train_validation.zip\")"
   ]
  },
  {
   "cell_type": "code",
   "execution_count": 20,
   "id": "891ab27c",
   "metadata": {
    "execution": {
     "iopub.execute_input": "2023-01-15T12:14:16.500505Z",
     "iopub.status.busy": "2023-01-15T12:14:16.499819Z",
     "iopub.status.idle": "2023-01-15T12:35:53.028946Z",
     "shell.execute_reply": "2023-01-15T12:35:53.027752Z"
    },
    "papermill": {
     "duration": 1296.549799,
     "end_time": "2023-01-15T12:35:53.031555",
     "exception": false,
     "start_time": "2023-01-15T12:14:16.481756",
     "status": "completed"
    },
    "tags": []
   },
   "outputs": [
    {
     "name": "stdout",
     "output_type": "stream",
     "text": [
      "SLIMElasticNetRecommender: Processed 4996 (20.4%) in 5.00 min. Items per second: 16.65\n",
      "SLIMElasticNetRecommender: Processed 10372 (42.3%) in 10.00 min. Items per second: 17.28\n",
      "SLIMElasticNetRecommender: Processed 16336 (66.7%) in 15.00 min. Items per second: 18.15\n",
      "SLIMElasticNetRecommender: Processed 22510 (91.9%) in 20.00 min. Items per second: 18.76\n",
      "SLIMElasticNetRecommender: Processed 24507 (100.0%) in 21.59 min. Items per second: 18.92\n",
      "SLIMElasticNetRecommender: Saving model in file 'modelsSLIM_Elastic_train.zip'\n",
      "SLIMElasticNetRecommender: Saving complete\n"
     ]
    }
   ],
   "source": [
    "SLIM_Elastic_train = SLIMElasticNetRecommender(stacked_urm_train)\n",
    "SLIM_Elastic_train.fit(**params)\n",
    "\n",
    "SLIM_Elastic_train.save_model(\"models\", \"SLIM_Elastic_train.zip\")"
   ]
  },
  {
   "cell_type": "code",
   "execution_count": 21,
   "id": "a10ef649",
   "metadata": {
    "execution": {
     "iopub.execute_input": "2023-01-15T12:35:53.069595Z",
     "iopub.status.busy": "2023-01-15T12:35:53.068560Z",
     "iopub.status.idle": "2023-01-15T12:35:56.446552Z",
     "shell.execute_reply": "2023-01-15T12:35:56.444744Z"
    },
    "papermill": {
     "duration": 3.400419,
     "end_time": "2023-01-15T12:35:56.449616",
     "exception": false,
     "start_time": "2023-01-15T12:35:53.049197",
     "status": "completed"
    },
    "tags": []
   },
   "outputs": [],
   "source": [
    "!mkdir ../models\n",
    "!cp models/* ../models\n",
    "os.chdir(\"..\")\n",
    "!rm -r RecSys-2022-Challenge-Polimi"
   ]
  }
 ],
 "metadata": {
  "kernelspec": {
   "display_name": "Python 3",
   "language": "python",
   "name": "python3"
  },
  "language_info": {
   "codemirror_mode": {
    "name": "ipython",
    "version": 3
   },
   "file_extension": ".py",
   "mimetype": "text/x-python",
   "name": "python",
   "nbconvert_exporter": "python",
   "pygments_lexer": "ipython3",
   "version": "3.7.12"
  },
  "papermill": {
   "default_parameters": {},
   "duration": 5344.490045,
   "end_time": "2023-01-15T12:35:59.333966",
   "environment_variables": {},
   "exception": null,
   "input_path": "__notebook__.ipynb",
   "output_path": "__notebook__.ipynb",
   "parameters": {},
   "start_time": "2023-01-15T11:06:54.843921",
   "version": "2.3.4"
  }
 },
 "nbformat": 4,
 "nbformat_minor": 5
}
