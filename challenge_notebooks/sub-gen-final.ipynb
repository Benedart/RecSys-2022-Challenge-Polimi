{
 "cells": [
  {
   "cell_type": "markdown",
   "id": "73faecb1",
   "metadata": {
    "_cell_guid": "b1076dfc-b9ad-4769-8c92-a6c4dae69d19",
    "_uuid": "8f2839f25d086af736a60e9eeb907d3b93b6e0e5",
    "papermill": {
     "duration": 0.025579,
     "end_time": "2023-01-15T16:31:49.740612",
     "exception": false,
     "start_time": "2023-01-15T16:31:49.715033",
     "status": "completed"
    },
    "tags": []
   },
   "source": [
    "# RECSYS COMPETITION - 1st place"
   ]
  },
  {
   "cell_type": "code",
   "execution_count": 1,
   "id": "29c542b6",
   "metadata": {
    "execution": {
     "iopub.execute_input": "2023-01-15T16:31:49.791670Z",
     "iopub.status.busy": "2023-01-15T16:31:49.791150Z",
     "iopub.status.idle": "2023-01-15T16:31:49.803729Z",
     "shell.execute_reply": "2023-01-15T16:31:49.802725Z"
    },
    "papermill": {
     "duration": 0.041105,
     "end_time": "2023-01-15T16:31:49.806567",
     "exception": false,
     "start_time": "2023-01-15T16:31:49.765462",
     "status": "completed"
    },
    "tags": []
   },
   "outputs": [],
   "source": [
    "LOAD_MODELS = False"
   ]
  },
  {
   "cell_type": "markdown",
   "id": "5d4527f5",
   "metadata": {
    "papermill": {
     "duration": 0.023892,
     "end_time": "2023-01-15T16:31:49.855045",
     "exception": false,
     "start_time": "2023-01-15T16:31:49.831153",
     "status": "completed"
    },
    "tags": []
   },
   "source": [
    "# Importing the repo"
   ]
  },
  {
   "cell_type": "code",
   "execution_count": 2,
   "id": "e6b82982",
   "metadata": {
    "execution": {
     "iopub.execute_input": "2023-01-15T16:31:49.905241Z",
     "iopub.status.busy": "2023-01-15T16:31:49.904873Z",
     "iopub.status.idle": "2023-01-15T16:32:33.863088Z",
     "shell.execute_reply": "2023-01-15T16:32:33.861387Z"
    },
    "papermill": {
     "duration": 43.986169,
     "end_time": "2023-01-15T16:32:33.865801",
     "exception": false,
     "start_time": "2023-01-15T16:31:49.879632",
     "status": "completed"
    },
    "tags": []
   },
   "outputs": [
    {
     "name": "stdout",
     "output_type": "stream",
     "text": [
      "Cloning into 'RecSys-2022-Challenge-Polimi'...\r\n",
      "remote: Enumerating objects: 659, done.\u001b[K\r\n",
      "remote: Counting objects: 100% (44/44), done.\u001b[K\r\n",
      "remote: Compressing objects: 100% (33/33), done.\u001b[K\r\n",
      "remote: Total 659 (delta 20), reused 34 (delta 11), pack-reused 615\u001b[K\r\n",
      "Receiving objects: 100% (659/659), 1.10 GiB | 31.04 MiB/s, done.\r\n",
      "Resolving deltas: 100% (286/286), done.\r\n"
     ]
    }
   ],
   "source": [
    "from kaggle_secrets import UserSecretsClient\n",
    "user_secrets = UserSecretsClient()\n",
    "token = user_secrets.get_secret(\"token\")\n",
    "\n",
    "!git clone https://{token}@github.com/Benedart/RecSys-2022-Challenge-Polimi.git"
   ]
  },
  {
   "cell_type": "code",
   "execution_count": 3,
   "id": "a9953018",
   "metadata": {
    "execution": {
     "iopub.execute_input": "2023-01-15T16:32:33.923857Z",
     "iopub.status.busy": "2023-01-15T16:32:33.923444Z",
     "iopub.status.idle": "2023-01-15T16:32:33.928317Z",
     "shell.execute_reply": "2023-01-15T16:32:33.927570Z"
    },
    "papermill": {
     "duration": 0.036311,
     "end_time": "2023-01-15T16:32:33.930055",
     "exception": false,
     "start_time": "2023-01-15T16:32:33.893744",
     "status": "completed"
    },
    "tags": []
   },
   "outputs": [],
   "source": [
    "import os\n",
    "\n",
    "os.chdir( \"./RecSys-2022-Challenge-Polimi\")"
   ]
  },
  {
   "cell_type": "code",
   "execution_count": 4,
   "id": "a28786ea",
   "metadata": {
    "execution": {
     "iopub.execute_input": "2023-01-15T16:32:33.987244Z",
     "iopub.status.busy": "2023-01-15T16:32:33.986868Z",
     "iopub.status.idle": "2023-01-15T16:34:49.631151Z",
     "shell.execute_reply": "2023-01-15T16:34:49.629774Z"
    },
    "papermill": {
     "duration": 135.678786,
     "end_time": "2023-01-15T16:34:49.636689",
     "exception": false,
     "start_time": "2023-01-15T16:32:33.957903",
     "status": "completed"
    },
    "tags": []
   },
   "outputs": [
    {
     "name": "stdout",
     "output_type": "stream",
     "text": [
      "run_compile_all_cython: Found 10 Cython files in 4 folders...\r\n",
      "run_compile_all_cython: All files will be compiled using your current python environment: '/opt/conda/bin/python'\r\n",
      "Compiling [1/10]: MatrixFactorization_Cython_Epoch.pyx... \r\n",
      "In file included from \u001b[01m\u001b[K/opt/conda/lib/python3.7/site-packages/numpy/core/include/numpy/ndarraytypes.h:1969\u001b[m\u001b[K,\r\n",
      "                 from \u001b[01m\u001b[K/opt/conda/lib/python3.7/site-packages/numpy/core/include/numpy/ndarrayobject.h:12\u001b[m\u001b[K,\r\n",
      "                 from \u001b[01m\u001b[K/opt/conda/lib/python3.7/site-packages/numpy/core/include/numpy/arrayobject.h:4\u001b[m\u001b[K,\r\n",
      "                 from \u001b[01m\u001b[KMatrixFactorization_Cython_Epoch.c:746\u001b[m\u001b[K:\r\n",
      "\u001b[01m\u001b[K/opt/conda/lib/python3.7/site-packages/numpy/core/include/numpy/npy_1_7_deprecated_api.h:17:2:\u001b[m\u001b[K \u001b[01;35m\u001b[Kwarning: \u001b[m\u001b[K#warning \"Using deprecated NumPy API, disable it with \" \"#define NPY_NO_DEPRECATED_API NPY_1_7_API_VERSION\" [\u001b[01;35m\u001b[K-Wcpp\u001b[m\u001b[K]\r\n",
      "   17 | #\u001b[01;35m\u001b[Kwarning\u001b[m\u001b[K \"Using deprecated NumPy API, disable it with \" \\\r\n",
      "      |  \u001b[01;35m\u001b[K^~~~~~~\u001b[m\u001b[K\r\n",
      "\u001b[01m\u001b[KMatrixFactorization_Cython_Epoch.c:\u001b[m\u001b[K In function ‘\u001b[01m\u001b[K__pyx_pf_32MatrixFactorization_Cython_Epoch_32MatrixFactorization_Cython_Epoch_10epochIteration_Cython_ASY_SVD_SGD\u001b[m\u001b[K’:\r\n",
      "\u001b[01m\u001b[KMatrixFactorization_Cython_Epoch.c:8785:9:\u001b[m\u001b[K \u001b[01;35m\u001b[Kwarning: \u001b[m\u001b[K‘\u001b[01m\u001b[K__pyx_v_end_pos_seen_items\u001b[m\u001b[K’ may be used uninitialized in this function [\u001b[01;35m\u001b[K-Wmaybe-uninitialized\u001b[m\u001b[K]\r\n",
      " 8785 |         \u001b[01;35m\u001b[Kfor\u001b[m\u001b[K (__pyx_t_19 = __pyx_v_start_pos_seen_items; __pyx_t_19 < __pyx_t_18; __pyx_t_19+=1) {\r\n",
      "      |         \u001b[01;35m\u001b[K^~~\u001b[m\u001b[K\r\n",
      "\u001b[01m\u001b[KMatrixFactorization_Cython_Epoch.c:8785:9:\u001b[m\u001b[K \u001b[01;35m\u001b[Kwarning: \u001b[m\u001b[K‘\u001b[01m\u001b[K__pyx_v_start_pos_seen_items\u001b[m\u001b[K’ may be used uninitialized in this function [\u001b[01;35m\u001b[K-Wmaybe-uninitialized\u001b[m\u001b[K]\r\n",
      "/opt/conda/lib/python3.7/site-packages/Cython/Compiler/Main.py:369: FutureWarning: Cython directive 'language_level' not set, using 2 for now (Py2). This will change in a later release! File: /kaggle/working/RecSys-2022-Challenge-Polimi/Recommenders/MatrixFactorization/Cython/MatrixFactorization_Cython_Epoch.pyx\r\n",
      "  tree = Parsing.p_module(s, pxd, full_module_name)\r\n",
      "Compiling [1/10]: MatrixFactorization_Cython_Epoch.pyx... PASS\r\n",
      "\r\n",
      "Compiling [2/10]: MatrixFactorizationImpressions_Cython_Epoch.pyx... \r\n",
      "In file included from \u001b[01m\u001b[K/opt/conda/lib/python3.7/site-packages/numpy/core/include/numpy/ndarraytypes.h:1969\u001b[m\u001b[K,\r\n",
      "                 from \u001b[01m\u001b[K/opt/conda/lib/python3.7/site-packages/numpy/core/include/numpy/ndarrayobject.h:12\u001b[m\u001b[K,\r\n",
      "                 from \u001b[01m\u001b[K/opt/conda/lib/python3.7/site-packages/numpy/core/include/numpy/arrayobject.h:4\u001b[m\u001b[K,\r\n",
      "                 from \u001b[01m\u001b[KMatrixFactorizationImpressions_Cython_Epoch.c:746\u001b[m\u001b[K:\r\n",
      "\u001b[01m\u001b[K/opt/conda/lib/python3.7/site-packages/numpy/core/include/numpy/npy_1_7_deprecated_api.h:17:2:\u001b[m\u001b[K \u001b[01;35m\u001b[Kwarning: \u001b[m\u001b[K#warning \"Using deprecated NumPy API, disable it with \" \"#define NPY_NO_DEPRECATED_API NPY_1_7_API_VERSION\" [\u001b[01;35m\u001b[K-Wcpp\u001b[m\u001b[K]\r\n",
      "   17 | #\u001b[01;35m\u001b[Kwarning\u001b[m\u001b[K \"Using deprecated NumPy API, disable it with \" \\\r\n",
      "      |  \u001b[01;35m\u001b[K^~~~~~~\u001b[m\u001b[K\r\n",
      "\u001b[01m\u001b[KMatrixFactorizationImpressions_Cython_Epoch.c:\u001b[m\u001b[K In function ‘\u001b[01m\u001b[K__pyx_f_43MatrixFactorizationImpressions_Cython_Epoch_32MatrixFactorization_Cython_Epoch_sampleBPR_Cython\u001b[m\u001b[K’:\r\n",
      "\u001b[01m\u001b[KMatrixFactorizationImpressions_Cython_Epoch.c:12758:17:\u001b[m\u001b[K \u001b[01;35m\u001b[Kwarning: \u001b[m\u001b[K‘\u001b[01m\u001b[K__pyx_v_start_pos_impression_items\u001b[m\u001b[K’ may be used uninitialized in this function [\u001b[01;35m\u001b[K-Wmaybe-uninitialized\u001b[m\u001b[K]\r\n",
      "12758 |       \u001b[01;35m\u001b[K__pyx_t_4 = (__pyx_v_start_pos_impression_items + __pyx_v_index)\u001b[m\u001b[K;\r\n",
      "      |       \u001b[01;35m\u001b[K~~~~~~~~~~^~~~~~~~~~~~~~~~~~~~~~~~~~~~~~~~~~~~~~~~~~~~~~~~~~~~~~\u001b[m\u001b[K\r\n",
      "\u001b[01m\u001b[KMatrixFactorizationImpressions_Cython_Epoch.c:\u001b[m\u001b[K In function ‘\u001b[01m\u001b[K__pyx_pf_43MatrixFactorizationImpressions_Cython_Epoch_32MatrixFactorization_Cython_Epoch_10epochIteration_Cython_ASY_SVD_SGD\u001b[m\u001b[K’:\r\n",
      "\u001b[01m\u001b[KMatrixFactorizationImpressions_Cython_Epoch.c:8736:7:\u001b[m\u001b[K \u001b[01;35m\u001b[Kwarning: \u001b[m\u001b[K‘\u001b[01m\u001b[K__pyx_v_end_pos_seen_items\u001b[m\u001b[K’ may be used uninitialized in this function [\u001b[01;35m\u001b[K-Wmaybe-uninitialized\u001b[m\u001b[K]\r\n",
      " 8736 |       \u001b[01;35m\u001b[Kfor\u001b[m\u001b[K (__pyx_t_19 = __pyx_v_start_pos_seen_items; __pyx_t_19 < __pyx_t_18; __pyx_t_19+=1) {\r\n",
      "      |       \u001b[01;35m\u001b[K^~~\u001b[m\u001b[K\r\n",
      "\u001b[01m\u001b[KMatrixFactorizationImpressions_Cython_Epoch.c:8736:7:\u001b[m\u001b[K \u001b[01;35m\u001b[Kwarning: \u001b[m\u001b[K‘\u001b[01m\u001b[K__pyx_v_start_pos_seen_items\u001b[m\u001b[K’ may be used uninitialized in this function [\u001b[01;35m\u001b[K-Wmaybe-uninitialized\u001b[m\u001b[K]\r\n",
      "/opt/conda/lib/python3.7/site-packages/Cython/Compiler/Main.py:369: FutureWarning: Cython directive 'language_level' not set, using 2 for now (Py2). This will change in a later release! File: /kaggle/working/RecSys-2022-Challenge-Polimi/Recommenders/MatrixFactorization/Cython/MatrixFactorizationImpressions_Cython_Epoch.pyx\r\n",
      "  tree = Parsing.p_module(s, pxd, full_module_name)\r\n",
      "Compiling [2/10]: MatrixFactorizationImpressions_Cython_Epoch.pyx... PASS\r\n",
      "\r\n",
      "Compiling [3/10]: Compute_Similarity_Cython.pyx... \r\n",
      "In file included from \u001b[01m\u001b[K/opt/conda/lib/python3.7/site-packages/numpy/core/include/numpy/ndarraytypes.h:1969\u001b[m\u001b[K,\r\n",
      "                 from \u001b[01m\u001b[K/opt/conda/lib/python3.7/site-packages/numpy/core/include/numpy/ndarrayobject.h:12\u001b[m\u001b[K,\r\n",
      "                 from \u001b[01m\u001b[K/opt/conda/lib/python3.7/site-packages/numpy/core/include/numpy/arrayobject.h:4\u001b[m\u001b[K,\r\n",
      "                 from \u001b[01m\u001b[KCompute_Similarity_Cython.c:746\u001b[m\u001b[K:\r\n",
      "\u001b[01m\u001b[K/opt/conda/lib/python3.7/site-packages/numpy/core/include/numpy/npy_1_7_deprecated_api.h:17:2:\u001b[m\u001b[K \u001b[01;35m\u001b[Kwarning: \u001b[m\u001b[K#warning \"Using deprecated NumPy API, disable it with \" \"#define NPY_NO_DEPRECATED_API NPY_1_7_API_VERSION\" [\u001b[01;35m\u001b[K-Wcpp\u001b[m\u001b[K]\r\n",
      "   17 | #\u001b[01;35m\u001b[Kwarning\u001b[m\u001b[K \"Using deprecated NumPy API, disable it with \" \\\r\n",
      "      |  \u001b[01;35m\u001b[K^~~~~~~\u001b[m\u001b[K\r\n",
      "/opt/conda/lib/python3.7/site-packages/Cython/Compiler/Main.py:369: FutureWarning: Cython directive 'language_level' not set, using 2 for now (Py2). This will change in a later release! File: /kaggle/working/RecSys-2022-Challenge-Polimi/Recommenders/Similarity/Cython/Compute_Similarity_Cython.pyx\r\n",
      "  tree = Parsing.p_module(s, pxd, full_module_name)\r\n",
      "Compiling [3/10]: Compute_Similarity_Cython.pyx... PASS\r\n",
      "\r\n",
      "Compiling [4/10]: Triangular_Matrix.pyx... \r\n",
      "In file included from \u001b[01m\u001b[K/opt/conda/lib/python3.7/site-packages/numpy/core/include/numpy/ndarraytypes.h:1969\u001b[m\u001b[K,\r\n",
      "                 from \u001b[01m\u001b[K/opt/conda/lib/python3.7/site-packages/numpy/core/include/numpy/ndarrayobject.h:12\u001b[m\u001b[K,\r\n",
      "                 from \u001b[01m\u001b[K/opt/conda/lib/python3.7/site-packages/numpy/core/include/numpy/arrayobject.h:4\u001b[m\u001b[K,\r\n",
      "                 from \u001b[01m\u001b[KTriangular_Matrix.c:746\u001b[m\u001b[K:\r\n",
      "\u001b[01m\u001b[K/opt/conda/lib/python3.7/site-packages/numpy/core/include/numpy/npy_1_7_deprecated_api.h:17:2:\u001b[m\u001b[K \u001b[01;35m\u001b[Kwarning: \u001b[m\u001b[K#warning \"Using deprecated NumPy API, disable it with \" \"#define NPY_NO_DEPRECATED_API NPY_1_7_API_VERSION\" [\u001b[01;35m\u001b[K-Wcpp\u001b[m\u001b[K]\r\n",
      "   17 | #\u001b[01;35m\u001b[Kwarning\u001b[m\u001b[K \"Using deprecated NumPy API, disable it with \" \\\r\n",
      "      |  \u001b[01;35m\u001b[K^~~~~~~\u001b[m\u001b[K\r\n",
      "/opt/conda/lib/python3.7/site-packages/Cython/Compiler/Main.py:369: FutureWarning: Cython directive 'language_level' not set, using 2 for now (Py2). This will change in a later release! File: /kaggle/working/RecSys-2022-Challenge-Polimi/Recommenders/SLIM/Cython/Triangular_Matrix.pyx\r\n",
      "  tree = Parsing.p_module(s, pxd, full_module_name)\r\n",
      "Compiling [4/10]: Triangular_Matrix.pyx... PASS\r\n",
      "\r\n",
      "Compiling [5/10]: SLIM_BPR_Cython_Epoch.pyx... \r\n",
      "warning: SLIM_BPR_Cython_Epoch.pyx:633:34: Non-trivial type declarators in shared declaration (e.g. mix of pointers and values). Each pointer declaration should be on its own line.\r\n",
      "warning: SLIM_BPR_Cython_Epoch.pyx:633:66: Non-trivial type declarators in shared declaration (e.g. mix of pointers and values). Each pointer declaration should be on its own line.\r\n",
      "warning: SLIM_BPR_Cython_Epoch.pyx:818:35: Non-trivial type declarators in shared declaration (e.g. mix of pointers and values). Each pointer declaration should be on its own line.\r\n",
      "warning: SLIM_BPR_Cython_Epoch.pyx:818:52: Non-trivial type declarators in shared declaration (e.g. mix of pointers and values). Each pointer declaration should be on its own line.\r\n",
      "warning: SLIM_BPR_Cython_Epoch.pyx:917:35: Non-trivial type declarators in shared declaration (e.g. mix of pointers and values). Each pointer declaration should be on its own line.\r\n",
      "warning: SLIM_BPR_Cython_Epoch.pyx:917:53: Non-trivial type declarators in shared declaration (e.g. mix of pointers and values). Each pointer declaration should be on its own line.\r\n",
      "warning: SLIM_BPR_Cython_Epoch.pyx:917:69: Non-trivial type declarators in shared declaration (e.g. mix of pointers and values). Each pointer declaration should be on its own line.\r\n",
      "warning: SLIM_BPR_Cython_Epoch.pyx:1052:35: Non-trivial type declarators in shared declaration (e.g. mix of pointers and values). Each pointer declaration should be on its own line.\r\n",
      "warning: SLIM_BPR_Cython_Epoch.pyx:1052:42: Non-trivial type declarators in shared declaration (e.g. mix of pointers and values). Each pointer declaration should be on its own line.\r\n",
      "warning: SLIM_BPR_Cython_Epoch.pyx:1053:35: Non-trivial type declarators in shared declaration (e.g. mix of pointers and values). Each pointer declaration should be on its own line.\r\n",
      "warning: SLIM_BPR_Cython_Epoch.pyx:1053:53: Non-trivial type declarators in shared declaration (e.g. mix of pointers and values). Each pointer declaration should be on its own line.\r\n",
      "In file included from \u001b[01m\u001b[K/opt/conda/lib/python3.7/site-packages/numpy/core/include/numpy/ndarraytypes.h:1969\u001b[m\u001b[K,\r\n",
      "                 from \u001b[01m\u001b[K/opt/conda/lib/python3.7/site-packages/numpy/core/include/numpy/ndarrayobject.h:12\u001b[m\u001b[K,\r\n",
      "                 from \u001b[01m\u001b[K/opt/conda/lib/python3.7/site-packages/numpy/core/include/numpy/arrayobject.h:4\u001b[m\u001b[K,\r\n",
      "                 from \u001b[01m\u001b[KSLIM_BPR_Cython_Epoch.c:746\u001b[m\u001b[K:\r\n",
      "\u001b[01m\u001b[K/opt/conda/lib/python3.7/site-packages/numpy/core/include/numpy/npy_1_7_deprecated_api.h:17:2:\u001b[m\u001b[K \u001b[01;35m\u001b[Kwarning: \u001b[m\u001b[K#warning \"Using deprecated NumPy API, disable it with \" \"#define NPY_NO_DEPRECATED_API NPY_1_7_API_VERSION\" [\u001b[01;35m\u001b[K-Wcpp\u001b[m\u001b[K]\r\n",
      "   17 | #\u001b[01;35m\u001b[Kwarning\u001b[m\u001b[K \"Using deprecated NumPy API, disable it with \" \\\r\n",
      "      |  \u001b[01;35m\u001b[K^~~~~~~\u001b[m\u001b[K\r\n",
      "\u001b[01m\u001b[KSLIM_BPR_Cython_Epoch.c:\u001b[m\u001b[K In function ‘\u001b[01m\u001b[K__pyx_f_21SLIM_BPR_Cython_Epoch_22Sparse_Matrix_Tree_CSR_test_list_tee_conversion\u001b[m\u001b[K’:\r\n",
      "\u001b[01m\u001b[KSLIM_BPR_Cython_Epoch.c:10848:15:\u001b[m\u001b[K \u001b[01;35m\u001b[Kwarning: \u001b[m\u001b[K‘\u001b[01m\u001b[K__pyx_v_previous_element\u001b[m\u001b[K’ may be used uninitialized in this function [\u001b[01;35m\u001b[K-Wmaybe-uninitialized\u001b[m\u001b[K]\r\n",
      "10848 |     \u001b[01;35m\u001b[K__pyx_t_7 = __pyx_v_current_element->lower\u001b[m\u001b[K;\r\n",
      "      |     \u001b[01;35m\u001b[K~~~~~~~~~~^~~~~~~~~~~~~~~~~~~~~~~~~~~~~~~~\u001b[m\u001b[K\r\n",
      "/opt/conda/lib/python3.7/site-packages/Cython/Compiler/Main.py:369: FutureWarning: Cython directive 'language_level' not set, using 2 for now (Py2). This will change in a later release! File: /kaggle/working/RecSys-2022-Challenge-Polimi/Recommenders/SLIM/Cython/SLIM_BPR_Cython_Epoch.pyx\r\n",
      "  tree = Parsing.p_module(s, pxd, full_module_name)\r\n",
      "warning: SLIM_BPR_Cython_Epoch.pyx:633:34: Non-trivial type declarators in shared declaration (e.g. mix of pointers and values). Each pointer declaration should be on its own line.\r\n",
      "warning: SLIM_BPR_Cython_Epoch.pyx:633:66: Non-trivial type declarators in shared declaration (e.g. mix of pointers and values). Each pointer declaration should be on its own line.\r\n",
      "warning: SLIM_BPR_Cython_Epoch.pyx:818:35: Non-trivial type declarators in shared declaration (e.g. mix of pointers and values). Each pointer declaration should be on its own line.\r\n",
      "warning: SLIM_BPR_Cython_Epoch.pyx:818:52: Non-trivial type declarators in shared declaration (e.g. mix of pointers and values). Each pointer declaration should be on its own line.\r\n",
      "warning: SLIM_BPR_Cython_Epoch.pyx:917:35: Non-trivial type declarators in shared declaration (e.g. mix of pointers and values). Each pointer declaration should be on its own line.\r\n",
      "warning: SLIM_BPR_Cython_Epoch.pyx:917:53: Non-trivial type declarators in shared declaration (e.g. mix of pointers and values). Each pointer declaration should be on its own line.\r\n",
      "warning: SLIM_BPR_Cython_Epoch.pyx:917:69: Non-trivial type declarators in shared declaration (e.g. mix of pointers and values). Each pointer declaration should be on its own line.\r\n",
      "warning: SLIM_BPR_Cython_Epoch.pyx:1052:35: Non-trivial type declarators in shared declaration (e.g. mix of pointers and values). Each pointer declaration should be on its own line.\r\n",
      "warning: SLIM_BPR_Cython_Epoch.pyx:1052:42: Non-trivial type declarators in shared declaration (e.g. mix of pointers and values). Each pointer declaration should be on its own line.\r\n",
      "warning: SLIM_BPR_Cython_Epoch.pyx:1053:35: Non-trivial type declarators in shared declaration (e.g. mix of pointers and values). Each pointer declaration should be on its own line.\r\n",
      "warning: SLIM_BPR_Cython_Epoch.pyx:1053:53: Non-trivial type declarators in shared declaration (e.g. mix of pointers and values). Each pointer declaration should be on its own line.\r\n",
      "Compiling [5/10]: SLIM_BPR_Cython_Epoch.pyx... PASS\r\n",
      "\r\n",
      "Compiling [6/10]: Sparse_Matrix_Tree_CSR.pyx... \r\n",
      "warning: Sparse_Matrix_Tree_CSR.pyx:132:34: Non-trivial type declarators in shared declaration (e.g. mix of pointers and values). Each pointer declaration should be on its own line.\r\n",
      "warning: Sparse_Matrix_Tree_CSR.pyx:132:66: Non-trivial type declarators in shared declaration (e.g. mix of pointers and values). Each pointer declaration should be on its own line.\r\n",
      "warning: Sparse_Matrix_Tree_CSR.pyx:343:35: Non-trivial type declarators in shared declaration (e.g. mix of pointers and values). Each pointer declaration should be on its own line.\r\n",
      "warning: Sparse_Matrix_Tree_CSR.pyx:343:52: Non-trivial type declarators in shared declaration (e.g. mix of pointers and values). Each pointer declaration should be on its own line.\r\n",
      "warning: Sparse_Matrix_Tree_CSR.pyx:442:35: Non-trivial type declarators in shared declaration (e.g. mix of pointers and values). Each pointer declaration should be on its own line.\r\n",
      "warning: Sparse_Matrix_Tree_CSR.pyx:442:53: Non-trivial type declarators in shared declaration (e.g. mix of pointers and values). Each pointer declaration should be on its own line.\r\n",
      "warning: Sparse_Matrix_Tree_CSR.pyx:442:69: Non-trivial type declarators in shared declaration (e.g. mix of pointers and values). Each pointer declaration should be on its own line.\r\n",
      "warning: Sparse_Matrix_Tree_CSR.pyx:577:35: Non-trivial type declarators in shared declaration (e.g. mix of pointers and values). Each pointer declaration should be on its own line.\r\n",
      "warning: Sparse_Matrix_Tree_CSR.pyx:577:42: Non-trivial type declarators in shared declaration (e.g. mix of pointers and values). Each pointer declaration should be on its own line.\r\n",
      "warning: Sparse_Matrix_Tree_CSR.pyx:578:35: Non-trivial type declarators in shared declaration (e.g. mix of pointers and values). Each pointer declaration should be on its own line.\r\n",
      "warning: Sparse_Matrix_Tree_CSR.pyx:578:53: Non-trivial type declarators in shared declaration (e.g. mix of pointers and values). Each pointer declaration should be on its own line.\r\n",
      "In file included from \u001b[01m\u001b[K/opt/conda/lib/python3.7/site-packages/numpy/core/include/numpy/ndarraytypes.h:1969\u001b[m\u001b[K,\r\n",
      "                 from \u001b[01m\u001b[K/opt/conda/lib/python3.7/site-packages/numpy/core/include/numpy/ndarrayobject.h:12\u001b[m\u001b[K,\r\n",
      "                 from \u001b[01m\u001b[K/opt/conda/lib/python3.7/site-packages/numpy/core/include/numpy/arrayobject.h:4\u001b[m\u001b[K,\r\n",
      "                 from \u001b[01m\u001b[KSparse_Matrix_Tree_CSR.c:746\u001b[m\u001b[K:\r\n",
      "\u001b[01m\u001b[K/opt/conda/lib/python3.7/site-packages/numpy/core/include/numpy/npy_1_7_deprecated_api.h:17:2:\u001b[m\u001b[K \u001b[01;35m\u001b[Kwarning: \u001b[m\u001b[K#warning \"Using deprecated NumPy API, disable it with \" \"#define NPY_NO_DEPRECATED_API NPY_1_7_API_VERSION\" [\u001b[01;35m\u001b[K-Wcpp\u001b[m\u001b[K]\r\n",
      "   17 | #\u001b[01;35m\u001b[Kwarning\u001b[m\u001b[K \"Using deprecated NumPy API, disable it with \" \\\r\n",
      "      |  \u001b[01;35m\u001b[K^~~~~~~\u001b[m\u001b[K\r\n",
      "\u001b[01m\u001b[KSparse_Matrix_Tree_CSR.c:\u001b[m\u001b[K In function ‘\u001b[01m\u001b[K__pyx_f_22Sparse_Matrix_Tree_CSR_22Sparse_Matrix_Tree_CSR_test_list_tree_conversion\u001b[m\u001b[K’:\r\n",
      "\u001b[01m\u001b[KSparse_Matrix_Tree_CSR.c:5844:15:\u001b[m\u001b[K \u001b[01;35m\u001b[Kwarning: \u001b[m\u001b[K‘\u001b[01m\u001b[K__pyx_v_previous_element\u001b[m\u001b[K’ may be used uninitialized in this function [\u001b[01;35m\u001b[K-Wmaybe-uninitialized\u001b[m\u001b[K]\r\n",
      " 5844 |     \u001b[01;35m\u001b[K__pyx_t_7 = __pyx_v_current_element->lower\u001b[m\u001b[K;\r\n",
      "      |     \u001b[01;35m\u001b[K~~~~~~~~~~^~~~~~~~~~~~~~~~~~~~~~~~~~~~~~~~\u001b[m\u001b[K\r\n",
      "/opt/conda/lib/python3.7/site-packages/Cython/Compiler/Main.py:369: FutureWarning: Cython directive 'language_level' not set, using 2 for now (Py2). This will change in a later release! File: /kaggle/working/RecSys-2022-Challenge-Polimi/Recommenders/SLIM/Cython/Sparse_Matrix_Tree_CSR.pyx\r\n",
      "  tree = Parsing.p_module(s, pxd, full_module_name)\r\n",
      "warning: Sparse_Matrix_Tree_CSR.pyx:132:34: Non-trivial type declarators in shared declaration (e.g. mix of pointers and values). Each pointer declaration should be on its own line.\r\n",
      "warning: Sparse_Matrix_Tree_CSR.pyx:132:66: Non-trivial type declarators in shared declaration (e.g. mix of pointers and values). Each pointer declaration should be on its own line.\r\n",
      "warning: Sparse_Matrix_Tree_CSR.pyx:343:35: Non-trivial type declarators in shared declaration (e.g. mix of pointers and values). Each pointer declaration should be on its own line.\r\n",
      "warning: Sparse_Matrix_Tree_CSR.pyx:343:52: Non-trivial type declarators in shared declaration (e.g. mix of pointers and values). Each pointer declaration should be on its own line.\r\n",
      "warning: Sparse_Matrix_Tree_CSR.pyx:442:35: Non-trivial type declarators in shared declaration (e.g. mix of pointers and values). Each pointer declaration should be on its own line.\r\n",
      "warning: Sparse_Matrix_Tree_CSR.pyx:442:53: Non-trivial type declarators in shared declaration (e.g. mix of pointers and values). Each pointer declaration should be on its own line.\r\n",
      "warning: Sparse_Matrix_Tree_CSR.pyx:442:69: Non-trivial type declarators in shared declaration (e.g. mix of pointers and values). Each pointer declaration should be on its own line.\r\n",
      "warning: Sparse_Matrix_Tree_CSR.pyx:577:35: Non-trivial type declarators in shared declaration (e.g. mix of pointers and values). Each pointer declaration should be on its own line.\r\n",
      "warning: Sparse_Matrix_Tree_CSR.pyx:577:42: Non-trivial type declarators in shared declaration (e.g. mix of pointers and values). Each pointer declaration should be on its own line.\r\n",
      "warning: Sparse_Matrix_Tree_CSR.pyx:578:35: Non-trivial type declarators in shared declaration (e.g. mix of pointers and values). Each pointer declaration should be on its own line.\r\n",
      "warning: Sparse_Matrix_Tree_CSR.pyx:578:53: Non-trivial type declarators in shared declaration (e.g. mix of pointers and values). Each pointer declaration should be on its own line.\r\n",
      "Compiling [6/10]: Sparse_Matrix_Tree_CSR.pyx... PASS\r\n",
      "\r\n",
      "Compiling [7/10]: FBSM_Rating_Cython_SGD.pyx... \r\n",
      "In file included from \u001b[01m\u001b[K/opt/conda/lib/python3.7/site-packages/numpy/core/include/numpy/ndarraytypes.h:1969\u001b[m\u001b[K,\r\n",
      "                 from \u001b[01m\u001b[K/opt/conda/lib/python3.7/site-packages/numpy/core/include/numpy/ndarrayobject.h:12\u001b[m\u001b[K,\r\n",
      "                 from \u001b[01m\u001b[K/opt/conda/lib/python3.7/site-packages/numpy/core/include/numpy/arrayobject.h:4\u001b[m\u001b[K,\r\n",
      "                 from \u001b[01m\u001b[KFBSM_Rating_Cython_SGD.c:746\u001b[m\u001b[K:\r\n",
      "\u001b[01m\u001b[K/opt/conda/lib/python3.7/site-packages/numpy/core/include/numpy/npy_1_7_deprecated_api.h:17:2:\u001b[m\u001b[K \u001b[01;35m\u001b[Kwarning: \u001b[m\u001b[K#warning \"Using deprecated NumPy API, disable it with \" \"#define NPY_NO_DEPRECATED_API NPY_1_7_API_VERSION\" [\u001b[01;35m\u001b[K-Wcpp\u001b[m\u001b[K]\r\n",
      "   17 | #\u001b[01;35m\u001b[Kwarning\u001b[m\u001b[K \"Using deprecated NumPy API, disable it with \" \\\r\n",
      "      |  \u001b[01;35m\u001b[K^~~~~~~\u001b[m\u001b[K\r\n",
      "\u001b[01m\u001b[KFBSM_Rating_Cython_SGD.c:\u001b[m\u001b[K In function ‘\u001b[01m\u001b[K__pyx_pf_22FBSM_Rating_Cython_SGD_22FBSM_Rating_Cython_SGD_2fit\u001b[m\u001b[K’:\r\n",
      "\u001b[01m\u001b[KFBSM_Rating_Cython_SGD.c:9031:55:\u001b[m\u001b[K \u001b[01;35m\u001b[Kwarning: \u001b[m\u001b[K‘\u001b[01m\u001b[K__pyx_v_num_sample\u001b[m\u001b[K’ may be used uninitialized in this function [\u001b[01;35m\u001b[K-Wmaybe-uninitialized\u001b[m\u001b[K]\r\n",
      " 9031 |   __pyx_t_5 = PyFloat_FromDouble((__pyx_v_cum_loss / \u001b[01;35m\u001b[K((double)__pyx_v_num_sample)\u001b[m\u001b[K)); if (unlikely(!__pyx_t_5)) __PYX_ERR(0, 551, __pyx_L1_error)\r\n",
      "      |                                                      \u001b[01;35m\u001b[K~^~~~~~~~~~~~~~~~~~~~~~~~~~~\u001b[m\u001b[K\r\n",
      "/opt/conda/lib/python3.7/site-packages/Cython/Compiler/Main.py:369: FutureWarning: Cython directive 'language_level' not set, using 2 for now (Py2). This will change in a later release! File: /kaggle/working/RecSys-2022-Challenge-Polimi/Recommenders/FeatureWeighting/Cython/FBSM_Rating_Cython_SGD.pyx\r\n",
      "  tree = Parsing.p_module(s, pxd, full_module_name)\r\n",
      "Compiling [7/10]: FBSM_Rating_Cython_SGD.pyx... PASS\r\n",
      "\r\n",
      "Compiling [8/10]: CFW_D_Similarity_Cython_SGD.pyx... \r\n",
      "In file included from \u001b[01m\u001b[K/opt/conda/lib/python3.7/site-packages/numpy/core/include/numpy/ndarraytypes.h:1969\u001b[m\u001b[K,\r\n",
      "                 from \u001b[01m\u001b[K/opt/conda/lib/python3.7/site-packages/numpy/core/include/numpy/ndarrayobject.h:12\u001b[m\u001b[K,\r\n",
      "                 from \u001b[01m\u001b[K/opt/conda/lib/python3.7/site-packages/numpy/core/include/numpy/arrayobject.h:4\u001b[m\u001b[K,\r\n",
      "                 from \u001b[01m\u001b[KCFW_D_Similarity_Cython_SGD.c:746\u001b[m\u001b[K:\r\n",
      "\u001b[01m\u001b[K/opt/conda/lib/python3.7/site-packages/numpy/core/include/numpy/npy_1_7_deprecated_api.h:17:2:\u001b[m\u001b[K \u001b[01;35m\u001b[Kwarning: \u001b[m\u001b[K#warning \"Using deprecated NumPy API, disable it with \" \"#define NPY_NO_DEPRECATED_API NPY_1_7_API_VERSION\" [\u001b[01;35m\u001b[K-Wcpp\u001b[m\u001b[K]\r\n",
      "   17 | #\u001b[01;35m\u001b[Kwarning\u001b[m\u001b[K \"Using deprecated NumPy API, disable it with \" \\\r\n",
      "      |  \u001b[01;35m\u001b[K^~~~~~~\u001b[m\u001b[K\r\n",
      "\u001b[01m\u001b[KCFW_D_Similarity_Cython_SGD.c:\u001b[m\u001b[K In function ‘\u001b[01m\u001b[K__pyx_pf_27CFW_D_Similarity_Cython_SGD_27CFW_D_Similarity_Cython_SGD_6fit\u001b[m\u001b[K’:\r\n",
      "\u001b[01m\u001b[KCFW_D_Similarity_Cython_SGD.c:6056:55:\u001b[m\u001b[K \u001b[01;35m\u001b[Kwarning: \u001b[m\u001b[K‘\u001b[01m\u001b[K__pyx_v_sample_num\u001b[m\u001b[K’ may be used uninitialized in this function [\u001b[01;35m\u001b[K-Wmaybe-uninitialized\u001b[m\u001b[K]\r\n",
      " 6056 |   __pyx_t_3 = PyFloat_FromDouble((__pyx_v_cum_loss / \u001b[01;35m\u001b[K((double)__pyx_v_sample_num)\u001b[m\u001b[K)); if (unlikely(!__pyx_t_3)) __PYX_ERR(0, 290, __pyx_L1_error)\r\n",
      "      |                                                      \u001b[01;35m\u001b[K~^~~~~~~~~~~~~~~~~~~~~~~~~~~\u001b[m\u001b[K\r\n",
      "/opt/conda/lib/python3.7/site-packages/Cython/Compiler/Main.py:369: FutureWarning: Cython directive 'language_level' not set, using 2 for now (Py2). This will change in a later release! File: /kaggle/working/RecSys-2022-Challenge-Polimi/Recommenders/FeatureWeighting/Cython/CFW_D_Similarity_Cython_SGD.pyx\r\n",
      "  tree = Parsing.p_module(s, pxd, full_module_name)\r\n",
      "Compiling [8/10]: CFW_D_Similarity_Cython_SGD.pyx... PASS\r\n",
      "\r\n",
      "Compiling [9/10]: CFW_DVV_Similarity_Cython_SGD.pyx... \r\n",
      "In file included from \u001b[01m\u001b[K/opt/conda/lib/python3.7/site-packages/numpy/core/include/numpy/ndarraytypes.h:1969\u001b[m\u001b[K,\r\n",
      "                 from \u001b[01m\u001b[K/opt/conda/lib/python3.7/site-packages/numpy/core/include/numpy/ndarrayobject.h:12\u001b[m\u001b[K,\r\n",
      "                 from \u001b[01m\u001b[K/opt/conda/lib/python3.7/site-packages/numpy/core/include/numpy/arrayobject.h:4\u001b[m\u001b[K,\r\n",
      "                 from \u001b[01m\u001b[KCFW_DVV_Similarity_Cython_SGD.c:746\u001b[m\u001b[K:\r\n",
      "\u001b[01m\u001b[K/opt/conda/lib/python3.7/site-packages/numpy/core/include/numpy/npy_1_7_deprecated_api.h:17:2:\u001b[m\u001b[K \u001b[01;35m\u001b[Kwarning: \u001b[m\u001b[K#warning \"Using deprecated NumPy API, disable it with \" \"#define NPY_NO_DEPRECATED_API NPY_1_7_API_VERSION\" [\u001b[01;35m\u001b[K-Wcpp\u001b[m\u001b[K]\r\n",
      "   17 | #\u001b[01;35m\u001b[Kwarning\u001b[m\u001b[K \"Using deprecated NumPy API, disable it with \" \\\r\n",
      "      |  \u001b[01;35m\u001b[K^~~~~~~\u001b[m\u001b[K\r\n",
      "/opt/conda/lib/python3.7/site-packages/Cython/Compiler/Main.py:369: FutureWarning: Cython directive 'language_level' not set, using 2 for now (Py2). This will change in a later release! File: /kaggle/working/RecSys-2022-Challenge-Polimi/Recommenders/FeatureWeighting/Cython/CFW_DVV_Similarity_Cython_SGD.pyx\r\n",
      "  tree = Parsing.p_module(s, pxd, full_module_name)\r\n",
      "Compiling [9/10]: CFW_DVV_Similarity_Cython_SGD.pyx... PASS\r\n",
      "\r\n",
      "Compiling [10/10]: HP3_Similarity_Cython_SGD.pyx... \r\n",
      "warning: HP3_Similarity_Cython_SGD.pyx:113:40: Index should be typed for more efficient access\r\n",
      "In file included from \u001b[01m\u001b[K/opt/conda/lib/python3.7/site-packages/numpy/core/include/numpy/ndarraytypes.h:1969\u001b[m\u001b[K,\r\n",
      "                 from \u001b[01m\u001b[K/opt/conda/lib/python3.7/site-packages/numpy/core/include/numpy/ndarrayobject.h:12\u001b[m\u001b[K,\r\n",
      "                 from \u001b[01m\u001b[K/opt/conda/lib/python3.7/site-packages/numpy/core/include/numpy/arrayobject.h:4\u001b[m\u001b[K,\r\n",
      "                 from \u001b[01m\u001b[KHP3_Similarity_Cython_SGD.c:746\u001b[m\u001b[K:\r\n",
      "\u001b[01m\u001b[K/opt/conda/lib/python3.7/site-packages/numpy/core/include/numpy/npy_1_7_deprecated_api.h:17:2:\u001b[m\u001b[K \u001b[01;35m\u001b[Kwarning: \u001b[m\u001b[K#warning \"Using deprecated NumPy API, disable it with \" \"#define NPY_NO_DEPRECATED_API NPY_1_7_API_VERSION\" [\u001b[01;35m\u001b[K-Wcpp\u001b[m\u001b[K]\r\n",
      "   17 | #\u001b[01;35m\u001b[Kwarning\u001b[m\u001b[K \"Using deprecated NumPy API, disable it with \" \\\r\n",
      "      |  \u001b[01;35m\u001b[K^~~~~~~\u001b[m\u001b[K\r\n",
      "\u001b[01m\u001b[KHP3_Similarity_Cython_SGD.c:\u001b[m\u001b[K In function ‘\u001b[01m\u001b[K__pyx_pf_25HP3_Similarity_Cython_SGD_25HP3_Similarity_Cython_SGD_4fit\u001b[m\u001b[K’:\r\n",
      "\u001b[01m\u001b[KHP3_Similarity_Cython_SGD.c:6303:55:\u001b[m\u001b[K \u001b[01;35m\u001b[Kwarning: \u001b[m\u001b[K‘\u001b[01m\u001b[K__pyx_v_sample_num\u001b[m\u001b[K’ may be used uninitialized in this function [\u001b[01;35m\u001b[K-Wmaybe-uninitialized\u001b[m\u001b[K]\r\n",
      " 6303 |   __pyx_t_1 = PyFloat_FromDouble((__pyx_v_cum_loss / \u001b[01;35m\u001b[K((double)__pyx_v_sample_num)\u001b[m\u001b[K)); if (unlikely(!__pyx_t_1)) __PYX_ERR(0, 291, __pyx_L1_error)\r\n",
      "      |                                                      \u001b[01;35m\u001b[K~^~~~~~~~~~~~~~~~~~~~~~~~~~~\u001b[m\u001b[K\r\n",
      "/opt/conda/lib/python3.7/site-packages/Cython/Compiler/Main.py:369: FutureWarning: Cython directive 'language_level' not set, using 2 for now (Py2). This will change in a later release! File: /kaggle/working/RecSys-2022-Challenge-Polimi/Recommenders/FeatureWeighting/Cython/HP3_Similarity_Cython_SGD.pyx\r\n",
      "  tree = Parsing.p_module(s, pxd, full_module_name)\r\n",
      "warning: HP3_Similarity_Cython_SGD.pyx:113:40: Index should be typed for more efficient access\r\n",
      "Compiling [10/10]: HP3_Similarity_Cython_SGD.pyx... PASS\r\n",
      "\r\n",
      "run_compile_all_cython: Compilation finished. SUCCESS.\r\n",
      "Compilation log can be found here: './result_experiments/run_compile_all_cython.txt'\r\n"
     ]
    }
   ],
   "source": [
    "!python run_compile_all_cython.py"
   ]
  },
  {
   "cell_type": "code",
   "execution_count": 5,
   "id": "7b4e327a",
   "metadata": {
    "execution": {
     "iopub.execute_input": "2023-01-15T16:34:49.706228Z",
     "iopub.status.busy": "2023-01-15T16:34:49.705788Z",
     "iopub.status.idle": "2023-01-15T16:34:56.122319Z",
     "shell.execute_reply": "2023-01-15T16:34:56.120769Z"
    },
    "papermill": {
     "duration": 6.452057,
     "end_time": "2023-01-15T16:34:56.124897",
     "exception": false,
     "start_time": "2023-01-15T16:34:49.672840",
     "status": "completed"
    },
    "tags": []
   },
   "outputs": [],
   "source": [
    "import numpy as np # linear algebra\n",
    "import pandas as pd # data processing, CSV file I/O (e.g. pd.read_csv)\n",
    "import scipy.sparse as sps\n",
    "import csv\n",
    "from tqdm import tqdm\n",
    "\n",
    "from Recommenders.Recommender_import_list import *"
   ]
  },
  {
   "cell_type": "markdown",
   "id": "ccaeb7fb",
   "metadata": {
    "papermill": {
     "duration": 0.030074,
     "end_time": "2023-01-15T16:34:56.185597",
     "exception": false,
     "start_time": "2023-01-15T16:34:56.155523",
     "status": "completed"
    },
    "tags": []
   },
   "source": [
    "## Data Import and Preprocessing"
   ]
  },
  {
   "cell_type": "markdown",
   "id": "8d501920",
   "metadata": {
    "papermill": {
     "duration": 0.030382,
     "end_time": "2023-01-15T16:34:56.246305",
     "exception": false,
     "start_time": "2023-01-15T16:34:56.215923",
     "status": "completed"
    },
    "tags": []
   },
   "source": [
    "Import dataframes"
   ]
  },
  {
   "cell_type": "code",
   "execution_count": 6,
   "id": "dc2997d7",
   "metadata": {
    "execution": {
     "iopub.execute_input": "2023-01-15T16:34:56.309304Z",
     "iopub.status.busy": "2023-01-15T16:34:56.308694Z",
     "iopub.status.idle": "2023-01-15T16:34:58.869985Z",
     "shell.execute_reply": "2023-01-15T16:34:58.869178Z"
    },
    "papermill": {
     "duration": 2.595927,
     "end_time": "2023-01-15T16:34:58.872486",
     "exception": false,
     "start_time": "2023-01-15T16:34:56.276559",
     "status": "completed"
    },
    "tags": []
   },
   "outputs": [
    {
     "name": "stderr",
     "output_type": "stream",
     "text": [
      "/opt/conda/lib/python3.7/site-packages/IPython/core/interactiveshell.py:3552: DtypeWarning: Columns (2) have mixed types.Specify dtype option on import or set low_memory=False.\n",
      "  exec(code_obj, self.user_global_ns, self.user_ns)\n"
     ]
    }
   ],
   "source": [
    "URM_all = pd.read_csv(\"/kaggle/input/recommender-system-2022-challenge-polimi/interactions_and_impressions.csv\")\n",
    "ICM_type = pd.read_csv(\"/kaggle/input/recommender-system-2022-challenge-polimi/data_ICM_type.csv\")\n",
    "ICM_length = pd.read_csv(\"/kaggle/input/recommender-system-2022-challenge-polimi/data_ICM_length.csv\")\n",
    "\n",
    "ICM_all = pd.concat([ICM_type, ICM_length]).sort_values(by='item_id')"
   ]
  },
  {
   "cell_type": "code",
   "execution_count": 7,
   "id": "c5515ff4",
   "metadata": {
    "execution": {
     "iopub.execute_input": "2023-01-15T16:34:58.936957Z",
     "iopub.status.busy": "2023-01-15T16:34:58.936566Z",
     "iopub.status.idle": "2023-01-15T16:34:58.953863Z",
     "shell.execute_reply": "2023-01-15T16:34:58.952985Z"
    },
    "papermill": {
     "duration": 0.051403,
     "end_time": "2023-01-15T16:34:58.955828",
     "exception": false,
     "start_time": "2023-01-15T16:34:58.904425",
     "status": "completed"
    },
    "tags": []
   },
   "outputs": [
    {
     "data": {
      "text/html": [
       "<div>\n",
       "<style scoped>\n",
       "    .dataframe tbody tr th:only-of-type {\n",
       "        vertical-align: middle;\n",
       "    }\n",
       "\n",
       "    .dataframe tbody tr th {\n",
       "        vertical-align: top;\n",
       "    }\n",
       "\n",
       "    .dataframe thead th {\n",
       "        text-align: right;\n",
       "    }\n",
       "</style>\n",
       "<table border=\"1\" class=\"dataframe\">\n",
       "  <thead>\n",
       "    <tr style=\"text-align: right;\">\n",
       "      <th></th>\n",
       "      <th>UserID</th>\n",
       "      <th>ItemID</th>\n",
       "      <th>Impressions</th>\n",
       "      <th>Data</th>\n",
       "    </tr>\n",
       "  </thead>\n",
       "  <tbody>\n",
       "    <tr>\n",
       "      <th>0</th>\n",
       "      <td>0</td>\n",
       "      <td>11</td>\n",
       "      <td>0,1,2,3,4,5,6,7,8,9,10,11,12,13,14,15,16,17,18,19</td>\n",
       "      <td>1</td>\n",
       "    </tr>\n",
       "    <tr>\n",
       "      <th>1</th>\n",
       "      <td>0</td>\n",
       "      <td>21</td>\n",
       "      <td>NaN</td>\n",
       "      <td>0</td>\n",
       "    </tr>\n",
       "    <tr>\n",
       "      <th>2</th>\n",
       "      <td>0</td>\n",
       "      <td>21</td>\n",
       "      <td>NaN</td>\n",
       "      <td>0</td>\n",
       "    </tr>\n",
       "    <tr>\n",
       "      <th>3</th>\n",
       "      <td>0</td>\n",
       "      <td>21</td>\n",
       "      <td>20,21,22,23,24,25,26,27,28,29</td>\n",
       "      <td>0</td>\n",
       "    </tr>\n",
       "    <tr>\n",
       "      <th>4</th>\n",
       "      <td>0</td>\n",
       "      <td>21</td>\n",
       "      <td>NaN</td>\n",
       "      <td>1</td>\n",
       "    </tr>\n",
       "  </tbody>\n",
       "</table>\n",
       "</div>"
      ],
      "text/plain": [
       "   UserID  ItemID                                        Impressions  Data\n",
       "0       0      11  0,1,2,3,4,5,6,7,8,9,10,11,12,13,14,15,16,17,18,19     1\n",
       "1       0      21                                                NaN     0\n",
       "2       0      21                                                NaN     0\n",
       "3       0      21                      20,21,22,23,24,25,26,27,28,29     0\n",
       "4       0      21                                                NaN     1"
      ]
     },
     "execution_count": 7,
     "metadata": {},
     "output_type": "execute_result"
    }
   ],
   "source": [
    "URM_all.head(5)"
   ]
  },
  {
   "cell_type": "markdown",
   "id": "c30834b2",
   "metadata": {
    "papermill": {
     "duration": 0.030672,
     "end_time": "2023-01-15T16:34:59.017320",
     "exception": false,
     "start_time": "2023-01-15T16:34:58.986648",
     "status": "completed"
    },
    "tags": []
   },
   "source": [
    "### Data = 0 => Watched\n",
    "\n",
    "### Data = 1 => Clicked"
   ]
  },
  {
   "cell_type": "code",
   "execution_count": 8,
   "id": "9b9c47c5",
   "metadata": {
    "execution": {
     "iopub.execute_input": "2023-01-15T16:34:59.095711Z",
     "iopub.status.busy": "2023-01-15T16:34:59.095023Z",
     "iopub.status.idle": "2023-01-15T16:34:59.136904Z",
     "shell.execute_reply": "2023-01-15T16:34:59.135919Z"
    },
    "papermill": {
     "duration": 0.085723,
     "end_time": "2023-01-15T16:34:59.138926",
     "exception": false,
     "start_time": "2023-01-15T16:34:59.053203",
     "status": "completed"
    },
    "tags": []
   },
   "outputs": [
    {
     "name": "stdout",
     "output_type": "stream",
     "text": [
      "Items with type are 23091\n",
      "Items with length are 23091\n",
      "Items in the urm are 24507\n"
     ]
    }
   ],
   "source": [
    "print(\"Items with type are {}\".format(len(ICM_type)))\n",
    "print(\"Items with length are {}\".format(len(ICM_length)))\n",
    "print(\"Items in the urm are {}\".format(len(URM_all[\"ItemID\"].unique())))"
   ]
  },
  {
   "cell_type": "markdown",
   "id": "c21fbb67",
   "metadata": {
    "papermill": {
     "duration": 0.036385,
     "end_time": "2023-01-15T16:34:59.206554",
     "exception": false,
     "start_time": "2023-01-15T16:34:59.170169",
     "status": "completed"
    },
    "tags": []
   },
   "source": [
    "#### Let's remove items that don't appear in the urm"
   ]
  },
  {
   "cell_type": "code",
   "execution_count": 9,
   "id": "34216e31",
   "metadata": {
    "execution": {
     "iopub.execute_input": "2023-01-15T16:34:59.271103Z",
     "iopub.status.busy": "2023-01-15T16:34:59.270698Z",
     "iopub.status.idle": "2023-01-15T16:34:59.313059Z",
     "shell.execute_reply": "2023-01-15T16:34:59.311784Z"
    },
    "papermill": {
     "duration": 0.077144,
     "end_time": "2023-01-15T16:34:59.315085",
     "exception": false,
     "start_time": "2023-01-15T16:34:59.237941",
     "status": "completed"
    },
    "tags": []
   },
   "outputs": [
    {
     "data": {
      "text/html": [
       "<div>\n",
       "<style scoped>\n",
       "    .dataframe tbody tr th:only-of-type {\n",
       "        vertical-align: middle;\n",
       "    }\n",
       "\n",
       "    .dataframe tbody tr th {\n",
       "        vertical-align: top;\n",
       "    }\n",
       "\n",
       "    .dataframe thead th {\n",
       "        text-align: right;\n",
       "    }\n",
       "</style>\n",
       "<table border=\"1\" class=\"dataframe\">\n",
       "  <thead>\n",
       "    <tr style=\"text-align: right;\">\n",
       "      <th></th>\n",
       "      <th>UserID</th>\n",
       "    </tr>\n",
       "  </thead>\n",
       "  <tbody>\n",
       "    <tr>\n",
       "      <th>0</th>\n",
       "      <td>0</td>\n",
       "    </tr>\n",
       "    <tr>\n",
       "      <th>1</th>\n",
       "      <td>1</td>\n",
       "    </tr>\n",
       "    <tr>\n",
       "      <th>2</th>\n",
       "      <td>2</td>\n",
       "    </tr>\n",
       "    <tr>\n",
       "      <th>3</th>\n",
       "      <td>3</td>\n",
       "    </tr>\n",
       "    <tr>\n",
       "      <th>4</th>\n",
       "      <td>4</td>\n",
       "    </tr>\n",
       "    <tr>\n",
       "      <th>5</th>\n",
       "      <td>5</td>\n",
       "    </tr>\n",
       "    <tr>\n",
       "      <th>6</th>\n",
       "      <td>6</td>\n",
       "    </tr>\n",
       "    <tr>\n",
       "      <th>7</th>\n",
       "      <td>7</td>\n",
       "    </tr>\n",
       "    <tr>\n",
       "      <th>8</th>\n",
       "      <td>8</td>\n",
       "    </tr>\n",
       "    <tr>\n",
       "      <th>9</th>\n",
       "      <td>9</td>\n",
       "    </tr>\n",
       "    <tr>\n",
       "      <th>10</th>\n",
       "      <td>10</td>\n",
       "    </tr>\n",
       "    <tr>\n",
       "      <th>11</th>\n",
       "      <td>11</td>\n",
       "    </tr>\n",
       "    <tr>\n",
       "      <th>12</th>\n",
       "      <td>12</td>\n",
       "    </tr>\n",
       "    <tr>\n",
       "      <th>13</th>\n",
       "      <td>13</td>\n",
       "    </tr>\n",
       "    <tr>\n",
       "      <th>14</th>\n",
       "      <td>14</td>\n",
       "    </tr>\n",
       "  </tbody>\n",
       "</table>\n",
       "</div>"
      ],
      "text/plain": [
       "    UserID\n",
       "0        0\n",
       "1        1\n",
       "2        2\n",
       "3        3\n",
       "4        4\n",
       "5        5\n",
       "6        6\n",
       "7        7\n",
       "8        8\n",
       "9        9\n",
       "10      10\n",
       "11      11\n",
       "12      12\n",
       "13      13\n",
       "14      14"
      ]
     },
     "execution_count": 9,
     "metadata": {},
     "output_type": "execute_result"
    }
   ],
   "source": [
    "users_URM = pd.DataFrame({\"UserID\": URM_all[\"UserID\"].unique()})\n",
    "users_URM.head(15)"
   ]
  },
  {
   "cell_type": "code",
   "execution_count": 10,
   "id": "e35050cd",
   "metadata": {
    "execution": {
     "iopub.execute_input": "2023-01-15T16:34:59.384836Z",
     "iopub.status.busy": "2023-01-15T16:34:59.384222Z",
     "iopub.status.idle": "2023-01-15T16:34:59.427756Z",
     "shell.execute_reply": "2023-01-15T16:34:59.427058Z"
    },
    "papermill": {
     "duration": 0.079821,
     "end_time": "2023-01-15T16:34:59.429758",
     "exception": false,
     "start_time": "2023-01-15T16:34:59.349937",
     "status": "completed"
    },
    "tags": []
   },
   "outputs": [
    {
     "data": {
      "text/html": [
       "<div>\n",
       "<style scoped>\n",
       "    .dataframe tbody tr th:only-of-type {\n",
       "        vertical-align: middle;\n",
       "    }\n",
       "\n",
       "    .dataframe tbody tr th {\n",
       "        vertical-align: top;\n",
       "    }\n",
       "\n",
       "    .dataframe thead th {\n",
       "        text-align: right;\n",
       "    }\n",
       "</style>\n",
       "<table border=\"1\" class=\"dataframe\">\n",
       "  <thead>\n",
       "    <tr style=\"text-align: right;\">\n",
       "      <th></th>\n",
       "      <th>item_id</th>\n",
       "    </tr>\n",
       "  </thead>\n",
       "  <tbody>\n",
       "    <tr>\n",
       "      <th>0</th>\n",
       "      <td>11</td>\n",
       "    </tr>\n",
       "    <tr>\n",
       "      <th>1</th>\n",
       "      <td>21</td>\n",
       "    </tr>\n",
       "    <tr>\n",
       "      <th>2</th>\n",
       "      <td>22</td>\n",
       "    </tr>\n",
       "    <tr>\n",
       "      <th>3</th>\n",
       "      <td>24</td>\n",
       "    </tr>\n",
       "    <tr>\n",
       "      <th>4</th>\n",
       "      <td>44</td>\n",
       "    </tr>\n",
       "    <tr>\n",
       "      <th>...</th>\n",
       "      <td>...</td>\n",
       "    </tr>\n",
       "    <tr>\n",
       "      <th>24502</th>\n",
       "      <td>19714</td>\n",
       "    </tr>\n",
       "    <tr>\n",
       "      <th>24503</th>\n",
       "      <td>19075</td>\n",
       "    </tr>\n",
       "    <tr>\n",
       "      <th>24504</th>\n",
       "      <td>20006</td>\n",
       "    </tr>\n",
       "    <tr>\n",
       "      <th>24505</th>\n",
       "      <td>20177</td>\n",
       "    </tr>\n",
       "    <tr>\n",
       "      <th>24506</th>\n",
       "      <td>2538</td>\n",
       "    </tr>\n",
       "  </tbody>\n",
       "</table>\n",
       "<p>24507 rows × 1 columns</p>\n",
       "</div>"
      ],
      "text/plain": [
       "       item_id\n",
       "0           11\n",
       "1           21\n",
       "2           22\n",
       "3           24\n",
       "4           44\n",
       "...        ...\n",
       "24502    19714\n",
       "24503    19075\n",
       "24504    20006\n",
       "24505    20177\n",
       "24506     2538\n",
       "\n",
       "[24507 rows x 1 columns]"
      ]
     },
     "execution_count": 10,
     "metadata": {},
     "output_type": "execute_result"
    }
   ],
   "source": [
    "items_URM = pd.DataFrame({\"item_id\": URM_all[\"ItemID\"].unique()})\n",
    "items_URM"
   ]
  },
  {
   "cell_type": "code",
   "execution_count": 11,
   "id": "92ab1822",
   "metadata": {
    "execution": {
     "iopub.execute_input": "2023-01-15T16:34:59.496228Z",
     "iopub.status.busy": "2023-01-15T16:34:59.495892Z",
     "iopub.status.idle": "2023-01-15T16:34:59.508266Z",
     "shell.execute_reply": "2023-01-15T16:34:59.507460Z"
    },
    "papermill": {
     "duration": 0.048441,
     "end_time": "2023-01-15T16:34:59.510842",
     "exception": false,
     "start_time": "2023-01-15T16:34:59.462401",
     "status": "completed"
    },
    "tags": []
   },
   "outputs": [
    {
     "data": {
      "text/html": [
       "<div>\n",
       "<style scoped>\n",
       "    .dataframe tbody tr th:only-of-type {\n",
       "        vertical-align: middle;\n",
       "    }\n",
       "\n",
       "    .dataframe tbody tr th {\n",
       "        vertical-align: top;\n",
       "    }\n",
       "\n",
       "    .dataframe thead th {\n",
       "        text-align: right;\n",
       "    }\n",
       "</style>\n",
       "<table border=\"1\" class=\"dataframe\">\n",
       "  <thead>\n",
       "    <tr style=\"text-align: right;\">\n",
       "      <th></th>\n",
       "      <th>item_id</th>\n",
       "    </tr>\n",
       "  </thead>\n",
       "  <tbody>\n",
       "    <tr>\n",
       "      <th>0</th>\n",
       "      <td>0</td>\n",
       "    </tr>\n",
       "    <tr>\n",
       "      <th>1</th>\n",
       "      <td>1</td>\n",
       "    </tr>\n",
       "    <tr>\n",
       "      <th>2</th>\n",
       "      <td>2</td>\n",
       "    </tr>\n",
       "    <tr>\n",
       "      <th>3</th>\n",
       "      <td>3</td>\n",
       "    </tr>\n",
       "    <tr>\n",
       "      <th>4</th>\n",
       "      <td>4</td>\n",
       "    </tr>\n",
       "    <tr>\n",
       "      <th>...</th>\n",
       "      <td>...</td>\n",
       "    </tr>\n",
       "    <tr>\n",
       "      <th>23086</th>\n",
       "      <td>27963</td>\n",
       "    </tr>\n",
       "    <tr>\n",
       "      <th>23087</th>\n",
       "      <td>27964</td>\n",
       "    </tr>\n",
       "    <tr>\n",
       "      <th>23088</th>\n",
       "      <td>27965</td>\n",
       "    </tr>\n",
       "    <tr>\n",
       "      <th>23089</th>\n",
       "      <td>27966</td>\n",
       "    </tr>\n",
       "    <tr>\n",
       "      <th>23090</th>\n",
       "      <td>27967</td>\n",
       "    </tr>\n",
       "  </tbody>\n",
       "</table>\n",
       "<p>23091 rows × 1 columns</p>\n",
       "</div>"
      ],
      "text/plain": [
       "       item_id\n",
       "0            0\n",
       "1            1\n",
       "2            2\n",
       "3            3\n",
       "4            4\n",
       "...        ...\n",
       "23086    27963\n",
       "23087    27964\n",
       "23088    27965\n",
       "23089    27966\n",
       "23090    27967\n",
       "\n",
       "[23091 rows x 1 columns]"
      ]
     },
     "execution_count": 11,
     "metadata": {},
     "output_type": "execute_result"
    }
   ],
   "source": [
    "all_items_ICM = pd.DataFrame({\"item_id\": ICM_all[\"item_id\"].unique()})\n",
    "all_items_ICM"
   ]
  },
  {
   "cell_type": "code",
   "execution_count": 12,
   "id": "f2608462",
   "metadata": {
    "execution": {
     "iopub.execute_input": "2023-01-15T16:34:59.583950Z",
     "iopub.status.busy": "2023-01-15T16:34:59.583611Z",
     "iopub.status.idle": "2023-01-15T16:34:59.610219Z",
     "shell.execute_reply": "2023-01-15T16:34:59.609242Z"
    },
    "papermill": {
     "duration": 0.062452,
     "end_time": "2023-01-15T16:34:59.612215",
     "exception": false,
     "start_time": "2023-01-15T16:34:59.549763",
     "status": "completed"
    },
    "tags": []
   },
   "outputs": [
    {
     "data": {
      "text/html": [
       "<div>\n",
       "<style scoped>\n",
       "    .dataframe tbody tr th:only-of-type {\n",
       "        vertical-align: middle;\n",
       "    }\n",
       "\n",
       "    .dataframe tbody tr th {\n",
       "        vertical-align: top;\n",
       "    }\n",
       "\n",
       "    .dataframe thead th {\n",
       "        text-align: right;\n",
       "    }\n",
       "</style>\n",
       "<table border=\"1\" class=\"dataframe\">\n",
       "  <thead>\n",
       "    <tr style=\"text-align: right;\">\n",
       "      <th></th>\n",
       "      <th>item_id</th>\n",
       "    </tr>\n",
       "  </thead>\n",
       "  <tbody>\n",
       "    <tr>\n",
       "      <th>0</th>\n",
       "      <td>11</td>\n",
       "    </tr>\n",
       "    <tr>\n",
       "      <th>1</th>\n",
       "      <td>21</td>\n",
       "    </tr>\n",
       "    <tr>\n",
       "      <th>2</th>\n",
       "      <td>22</td>\n",
       "    </tr>\n",
       "    <tr>\n",
       "      <th>3</th>\n",
       "      <td>44</td>\n",
       "    </tr>\n",
       "    <tr>\n",
       "      <th>4</th>\n",
       "      <td>54</td>\n",
       "    </tr>\n",
       "    <tr>\n",
       "      <th>...</th>\n",
       "      <td>...</td>\n",
       "    </tr>\n",
       "    <tr>\n",
       "      <th>19625</th>\n",
       "      <td>13608</td>\n",
       "    </tr>\n",
       "    <tr>\n",
       "      <th>19626</th>\n",
       "      <td>21627</td>\n",
       "    </tr>\n",
       "    <tr>\n",
       "      <th>19627</th>\n",
       "      <td>19714</td>\n",
       "    </tr>\n",
       "    <tr>\n",
       "      <th>19628</th>\n",
       "      <td>20006</td>\n",
       "    </tr>\n",
       "    <tr>\n",
       "      <th>19629</th>\n",
       "      <td>20177</td>\n",
       "    </tr>\n",
       "  </tbody>\n",
       "</table>\n",
       "<p>19630 rows × 1 columns</p>\n",
       "</div>"
      ],
      "text/plain": [
       "       item_id\n",
       "0           11\n",
       "1           21\n",
       "2           22\n",
       "3           44\n",
       "4           54\n",
       "...        ...\n",
       "19625    13608\n",
       "19626    21627\n",
       "19627    19714\n",
       "19628    20006\n",
       "19629    20177\n",
       "\n",
       "[19630 rows x 1 columns]"
      ]
     },
     "execution_count": 12,
     "metadata": {},
     "output_type": "execute_result"
    }
   ],
   "source": [
    "relevant_ICM_items = items_URM.merge(all_items_ICM, on=\"item_id\")\n",
    "\n",
    "relevant_ICM_items"
   ]
  },
  {
   "cell_type": "code",
   "execution_count": 13,
   "id": "a25bd2ef",
   "metadata": {
    "execution": {
     "iopub.execute_input": "2023-01-15T16:34:59.682116Z",
     "iopub.status.busy": "2023-01-15T16:34:59.680648Z",
     "iopub.status.idle": "2023-01-15T16:34:59.704355Z",
     "shell.execute_reply": "2023-01-15T16:34:59.702948Z"
    },
    "papermill": {
     "duration": 0.061156,
     "end_time": "2023-01-15T16:34:59.706659",
     "exception": false,
     "start_time": "2023-01-15T16:34:59.645503",
     "status": "completed"
    },
    "tags": []
   },
   "outputs": [
    {
     "data": {
      "text/html": [
       "<div>\n",
       "<style scoped>\n",
       "    .dataframe tbody tr th:only-of-type {\n",
       "        vertical-align: middle;\n",
       "    }\n",
       "\n",
       "    .dataframe tbody tr th {\n",
       "        vertical-align: top;\n",
       "    }\n",
       "\n",
       "    .dataframe thead th {\n",
       "        text-align: right;\n",
       "    }\n",
       "</style>\n",
       "<table border=\"1\" class=\"dataframe\">\n",
       "  <thead>\n",
       "    <tr style=\"text-align: right;\">\n",
       "      <th></th>\n",
       "      <th>item_id</th>\n",
       "      <th>feature_id</th>\n",
       "      <th>data</th>\n",
       "    </tr>\n",
       "  </thead>\n",
       "  <tbody>\n",
       "    <tr>\n",
       "      <th>0</th>\n",
       "      <td>11</td>\n",
       "      <td>0</td>\n",
       "      <td>1</td>\n",
       "    </tr>\n",
       "    <tr>\n",
       "      <th>1</th>\n",
       "      <td>11</td>\n",
       "      <td>1</td>\n",
       "      <td>1</td>\n",
       "    </tr>\n",
       "    <tr>\n",
       "      <th>2</th>\n",
       "      <td>21</td>\n",
       "      <td>4</td>\n",
       "      <td>1</td>\n",
       "    </tr>\n",
       "    <tr>\n",
       "      <th>3</th>\n",
       "      <td>21</td>\n",
       "      <td>0</td>\n",
       "      <td>27</td>\n",
       "    </tr>\n",
       "    <tr>\n",
       "      <th>4</th>\n",
       "      <td>22</td>\n",
       "      <td>2</td>\n",
       "      <td>1</td>\n",
       "    </tr>\n",
       "    <tr>\n",
       "      <th>...</th>\n",
       "      <td>...</td>\n",
       "      <td>...</td>\n",
       "      <td>...</td>\n",
       "    </tr>\n",
       "    <tr>\n",
       "      <th>39255</th>\n",
       "      <td>19714</td>\n",
       "      <td>0</td>\n",
       "      <td>3</td>\n",
       "    </tr>\n",
       "    <tr>\n",
       "      <th>39256</th>\n",
       "      <td>20006</td>\n",
       "      <td>3</td>\n",
       "      <td>1</td>\n",
       "    </tr>\n",
       "    <tr>\n",
       "      <th>39257</th>\n",
       "      <td>20006</td>\n",
       "      <td>0</td>\n",
       "      <td>1</td>\n",
       "    </tr>\n",
       "    <tr>\n",
       "      <th>39258</th>\n",
       "      <td>20177</td>\n",
       "      <td>0</td>\n",
       "      <td>3</td>\n",
       "    </tr>\n",
       "    <tr>\n",
       "      <th>39259</th>\n",
       "      <td>20177</td>\n",
       "      <td>1</td>\n",
       "      <td>1</td>\n",
       "    </tr>\n",
       "  </tbody>\n",
       "</table>\n",
       "<p>39260 rows × 3 columns</p>\n",
       "</div>"
      ],
      "text/plain": [
       "       item_id  feature_id  data\n",
       "0           11           0     1\n",
       "1           11           1     1\n",
       "2           21           4     1\n",
       "3           21           0    27\n",
       "4           22           2     1\n",
       "...        ...         ...   ...\n",
       "39255    19714           0     3\n",
       "39256    20006           3     1\n",
       "39257    20006           0     1\n",
       "39258    20177           0     3\n",
       "39259    20177           1     1\n",
       "\n",
       "[39260 rows x 3 columns]"
      ]
     },
     "execution_count": 13,
     "metadata": {},
     "output_type": "execute_result"
    }
   ],
   "source": [
    "relevant_ICM = relevant_ICM_items.merge(ICM_all, on=\"item_id\", how=\"left\")\n",
    "relevant_ICM  # these are the only features we want to care about"
   ]
  },
  {
   "cell_type": "code",
   "execution_count": 14,
   "id": "8b8e28c8",
   "metadata": {
    "execution": {
     "iopub.execute_input": "2023-01-15T16:34:59.774234Z",
     "iopub.status.busy": "2023-01-15T16:34:59.773013Z",
     "iopub.status.idle": "2023-01-15T16:34:59.964093Z",
     "shell.execute_reply": "2023-01-15T16:34:59.962538Z"
    },
    "papermill": {
     "duration": 0.227737,
     "end_time": "2023-01-15T16:34:59.966420",
     "exception": false,
     "start_time": "2023-01-15T16:34:59.738683",
     "status": "completed"
    },
    "tags": []
   },
   "outputs": [
    {
     "name": "stdout",
     "output_type": "stream",
     "text": [
      "Unique UserID in the URM are 41629\n",
      "Unique FeatureID in the URM are 6\n"
     ]
    }
   ],
   "source": [
    "mapped_id, original_id = pd.factorize(URM_all[\"UserID\"].unique())\n",
    "user_original_ID_to_index = pd.Series(mapped_id, index=original_id)\n",
    "print(\"Unique UserID in the URM are {}\".format(len(original_id)))\n",
    "\n",
    "mapped_id, original_id = pd.factorize(URM_all[\"ItemID\"].unique())\n",
    "item_original_ID_to_index = pd.Series(mapped_id, index=original_id)\n",
    "\n",
    "feature_original_ID_to_index = pd.Series({\n",
    "    0: 5,\n",
    "    1: 0,\n",
    "    2: 2,\n",
    "    3: 3,\n",
    "    7: 1,\n",
    "    4: 4\n",
    "}, index = [0, 1, 2, 3, 4, 7]) # feature id mapping\n",
    "\n",
    "print(\"Unique FeatureID in the URM are {}\".format(len(feature_original_ID_to_index)))\n",
    "\n",
    "URM_all[\"UserID\"] = URM_all[\"UserID\"].map(user_original_ID_to_index)\n",
    "URM_all[\"ItemID\"] = URM_all[\"ItemID\"].map(item_original_ID_to_index)\n",
    "relevant_ICM[\"item_id\"] = relevant_ICM[\"item_id\"].map(item_original_ID_to_index)\n",
    "relevant_ICM[\"feature_id\"] = relevant_ICM[\"feature_id\"].map(feature_original_ID_to_index)"
   ]
  },
  {
   "cell_type": "code",
   "execution_count": 15,
   "id": "fc871e8a",
   "metadata": {
    "execution": {
     "iopub.execute_input": "2023-01-15T16:35:00.035215Z",
     "iopub.status.busy": "2023-01-15T16:35:00.034839Z",
     "iopub.status.idle": "2023-01-15T16:35:00.052123Z",
     "shell.execute_reply": "2023-01-15T16:35:00.050675Z"
    },
    "papermill": {
     "duration": 0.055109,
     "end_time": "2023-01-15T16:35:00.054876",
     "exception": false,
     "start_time": "2023-01-15T16:34:59.999767",
     "status": "completed"
    },
    "tags": []
   },
   "outputs": [
    {
     "data": {
      "text/html": [
       "<div>\n",
       "<style scoped>\n",
       "    .dataframe tbody tr th:only-of-type {\n",
       "        vertical-align: middle;\n",
       "    }\n",
       "\n",
       "    .dataframe tbody tr th {\n",
       "        vertical-align: top;\n",
       "    }\n",
       "\n",
       "    .dataframe thead th {\n",
       "        text-align: right;\n",
       "    }\n",
       "</style>\n",
       "<table border=\"1\" class=\"dataframe\">\n",
       "  <thead>\n",
       "    <tr style=\"text-align: right;\">\n",
       "      <th></th>\n",
       "      <th>UserID</th>\n",
       "      <th>ItemID</th>\n",
       "      <th>Impressions</th>\n",
       "      <th>Data</th>\n",
       "    </tr>\n",
       "  </thead>\n",
       "  <tbody>\n",
       "    <tr>\n",
       "      <th>0</th>\n",
       "      <td>0</td>\n",
       "      <td>0</td>\n",
       "      <td>0,1,2,3,4,5,6,7,8,9,10,11,12,13,14,15,16,17,18,19</td>\n",
       "      <td>1</td>\n",
       "    </tr>\n",
       "    <tr>\n",
       "      <th>1</th>\n",
       "      <td>0</td>\n",
       "      <td>1</td>\n",
       "      <td>NaN</td>\n",
       "      <td>0</td>\n",
       "    </tr>\n",
       "    <tr>\n",
       "      <th>2</th>\n",
       "      <td>0</td>\n",
       "      <td>1</td>\n",
       "      <td>NaN</td>\n",
       "      <td>0</td>\n",
       "    </tr>\n",
       "    <tr>\n",
       "      <th>3</th>\n",
       "      <td>0</td>\n",
       "      <td>1</td>\n",
       "      <td>20,21,22,23,24,25,26,27,28,29</td>\n",
       "      <td>0</td>\n",
       "    </tr>\n",
       "    <tr>\n",
       "      <th>4</th>\n",
       "      <td>0</td>\n",
       "      <td>1</td>\n",
       "      <td>NaN</td>\n",
       "      <td>1</td>\n",
       "    </tr>\n",
       "    <tr>\n",
       "      <th>...</th>\n",
       "      <td>...</td>\n",
       "      <td>...</td>\n",
       "      <td>...</td>\n",
       "      <td>...</td>\n",
       "    </tr>\n",
       "    <tr>\n",
       "      <th>5826501</th>\n",
       "      <td>41628</td>\n",
       "      <td>3700</td>\n",
       "      <td>NaN</td>\n",
       "      <td>0</td>\n",
       "    </tr>\n",
       "    <tr>\n",
       "      <th>5826502</th>\n",
       "      <td>41628</td>\n",
       "      <td>12694</td>\n",
       "      <td>NaN</td>\n",
       "      <td>1</td>\n",
       "    </tr>\n",
       "    <tr>\n",
       "      <th>5826503</th>\n",
       "      <td>41628</td>\n",
       "      <td>15132</td>\n",
       "      <td>NaN</td>\n",
       "      <td>1</td>\n",
       "    </tr>\n",
       "    <tr>\n",
       "      <th>5826504</th>\n",
       "      <td>41628</td>\n",
       "      <td>18128</td>\n",
       "      <td>NaN</td>\n",
       "      <td>0</td>\n",
       "    </tr>\n",
       "    <tr>\n",
       "      <th>5826505</th>\n",
       "      <td>41628</td>\n",
       "      <td>14573</td>\n",
       "      <td>NaN</td>\n",
       "      <td>0</td>\n",
       "    </tr>\n",
       "  </tbody>\n",
       "</table>\n",
       "<p>5826506 rows × 4 columns</p>\n",
       "</div>"
      ],
      "text/plain": [
       "         UserID  ItemID                                        Impressions  \\\n",
       "0             0       0  0,1,2,3,4,5,6,7,8,9,10,11,12,13,14,15,16,17,18,19   \n",
       "1             0       1                                                NaN   \n",
       "2             0       1                                                NaN   \n",
       "3             0       1                      20,21,22,23,24,25,26,27,28,29   \n",
       "4             0       1                                                NaN   \n",
       "...         ...     ...                                                ...   \n",
       "5826501   41628    3700                                                NaN   \n",
       "5826502   41628   12694                                                NaN   \n",
       "5826503   41628   15132                                                NaN   \n",
       "5826504   41628   18128                                                NaN   \n",
       "5826505   41628   14573                                                NaN   \n",
       "\n",
       "         Data  \n",
       "0           1  \n",
       "1           0  \n",
       "2           0  \n",
       "3           0  \n",
       "4           1  \n",
       "...       ...  \n",
       "5826501     0  \n",
       "5826502     1  \n",
       "5826503     1  \n",
       "5826504     0  \n",
       "5826505     0  \n",
       "\n",
       "[5826506 rows x 4 columns]"
      ]
     },
     "execution_count": 15,
     "metadata": {},
     "output_type": "execute_result"
    }
   ],
   "source": [
    "URM_all"
   ]
  },
  {
   "cell_type": "code",
   "execution_count": 16,
   "id": "37dc08ff",
   "metadata": {
    "execution": {
     "iopub.execute_input": "2023-01-15T16:35:00.122410Z",
     "iopub.status.busy": "2023-01-15T16:35:00.122016Z",
     "iopub.status.idle": "2023-01-15T16:35:00.135610Z",
     "shell.execute_reply": "2023-01-15T16:35:00.134449Z"
    },
    "papermill": {
     "duration": 0.049787,
     "end_time": "2023-01-15T16:35:00.138004",
     "exception": false,
     "start_time": "2023-01-15T16:35:00.088217",
     "status": "completed"
    },
    "tags": []
   },
   "outputs": [
    {
     "data": {
      "text/html": [
       "<div>\n",
       "<style scoped>\n",
       "    .dataframe tbody tr th:only-of-type {\n",
       "        vertical-align: middle;\n",
       "    }\n",
       "\n",
       "    .dataframe tbody tr th {\n",
       "        vertical-align: top;\n",
       "    }\n",
       "\n",
       "    .dataframe thead th {\n",
       "        text-align: right;\n",
       "    }\n",
       "</style>\n",
       "<table border=\"1\" class=\"dataframe\">\n",
       "  <thead>\n",
       "    <tr style=\"text-align: right;\">\n",
       "      <th></th>\n",
       "      <th>item_id</th>\n",
       "      <th>feature_id</th>\n",
       "      <th>data</th>\n",
       "    </tr>\n",
       "  </thead>\n",
       "  <tbody>\n",
       "    <tr>\n",
       "      <th>0</th>\n",
       "      <td>0</td>\n",
       "      <td>5</td>\n",
       "      <td>1</td>\n",
       "    </tr>\n",
       "    <tr>\n",
       "      <th>1</th>\n",
       "      <td>0</td>\n",
       "      <td>0</td>\n",
       "      <td>1</td>\n",
       "    </tr>\n",
       "    <tr>\n",
       "      <th>2</th>\n",
       "      <td>1</td>\n",
       "      <td>4</td>\n",
       "      <td>1</td>\n",
       "    </tr>\n",
       "    <tr>\n",
       "      <th>3</th>\n",
       "      <td>1</td>\n",
       "      <td>5</td>\n",
       "      <td>27</td>\n",
       "    </tr>\n",
       "    <tr>\n",
       "      <th>4</th>\n",
       "      <td>2</td>\n",
       "      <td>2</td>\n",
       "      <td>1</td>\n",
       "    </tr>\n",
       "    <tr>\n",
       "      <th>...</th>\n",
       "      <td>...</td>\n",
       "      <td>...</td>\n",
       "      <td>...</td>\n",
       "    </tr>\n",
       "    <tr>\n",
       "      <th>39255</th>\n",
       "      <td>24502</td>\n",
       "      <td>5</td>\n",
       "      <td>3</td>\n",
       "    </tr>\n",
       "    <tr>\n",
       "      <th>39256</th>\n",
       "      <td>24504</td>\n",
       "      <td>3</td>\n",
       "      <td>1</td>\n",
       "    </tr>\n",
       "    <tr>\n",
       "      <th>39257</th>\n",
       "      <td>24504</td>\n",
       "      <td>5</td>\n",
       "      <td>1</td>\n",
       "    </tr>\n",
       "    <tr>\n",
       "      <th>39258</th>\n",
       "      <td>24505</td>\n",
       "      <td>5</td>\n",
       "      <td>3</td>\n",
       "    </tr>\n",
       "    <tr>\n",
       "      <th>39259</th>\n",
       "      <td>24505</td>\n",
       "      <td>0</td>\n",
       "      <td>1</td>\n",
       "    </tr>\n",
       "  </tbody>\n",
       "</table>\n",
       "<p>39260 rows × 3 columns</p>\n",
       "</div>"
      ],
      "text/plain": [
       "       item_id  feature_id  data\n",
       "0            0           5     1\n",
       "1            0           0     1\n",
       "2            1           4     1\n",
       "3            1           5    27\n",
       "4            2           2     1\n",
       "...        ...         ...   ...\n",
       "39255    24502           5     3\n",
       "39256    24504           3     1\n",
       "39257    24504           5     1\n",
       "39258    24505           5     3\n",
       "39259    24505           0     1\n",
       "\n",
       "[39260 rows x 3 columns]"
      ]
     },
     "execution_count": 16,
     "metadata": {},
     "output_type": "execute_result"
    }
   ],
   "source": [
    "relevant_ICM"
   ]
  },
  {
   "cell_type": "code",
   "execution_count": 17,
   "id": "0fec358e",
   "metadata": {
    "execution": {
     "iopub.execute_input": "2023-01-15T16:35:00.212831Z",
     "iopub.status.busy": "2023-01-15T16:35:00.212454Z",
     "iopub.status.idle": "2023-01-15T16:35:00.224687Z",
     "shell.execute_reply": "2023-01-15T16:35:00.223461Z"
    },
    "papermill": {
     "duration": 0.050487,
     "end_time": "2023-01-15T16:35:00.226490",
     "exception": false,
     "start_time": "2023-01-15T16:35:00.176003",
     "status": "completed"
    },
    "tags": []
   },
   "outputs": [
    {
     "data": {
      "text/html": [
       "<div>\n",
       "<style scoped>\n",
       "    .dataframe tbody tr th:only-of-type {\n",
       "        vertical-align: middle;\n",
       "    }\n",
       "\n",
       "    .dataframe tbody tr th {\n",
       "        vertical-align: top;\n",
       "    }\n",
       "\n",
       "    .dataframe thead th {\n",
       "        text-align: right;\n",
       "    }\n",
       "</style>\n",
       "<table border=\"1\" class=\"dataframe\">\n",
       "  <thead>\n",
       "    <tr style=\"text-align: right;\">\n",
       "      <th></th>\n",
       "      <th>item_id</th>\n",
       "      <th>feature_id</th>\n",
       "      <th>data</th>\n",
       "    </tr>\n",
       "  </thead>\n",
       "  <tbody>\n",
       "    <tr>\n",
       "      <th>0</th>\n",
       "      <td>0</td>\n",
       "      <td>5</td>\n",
       "      <td>1</td>\n",
       "    </tr>\n",
       "    <tr>\n",
       "      <th>1</th>\n",
       "      <td>0</td>\n",
       "      <td>0</td>\n",
       "      <td>1</td>\n",
       "    </tr>\n",
       "    <tr>\n",
       "      <th>2</th>\n",
       "      <td>1</td>\n",
       "      <td>4</td>\n",
       "      <td>1</td>\n",
       "    </tr>\n",
       "    <tr>\n",
       "      <th>3</th>\n",
       "      <td>1</td>\n",
       "      <td>5</td>\n",
       "      <td>27</td>\n",
       "    </tr>\n",
       "    <tr>\n",
       "      <th>4</th>\n",
       "      <td>2</td>\n",
       "      <td>2</td>\n",
       "      <td>1</td>\n",
       "    </tr>\n",
       "    <tr>\n",
       "      <th>...</th>\n",
       "      <td>...</td>\n",
       "      <td>...</td>\n",
       "      <td>...</td>\n",
       "    </tr>\n",
       "    <tr>\n",
       "      <th>39255</th>\n",
       "      <td>24502</td>\n",
       "      <td>5</td>\n",
       "      <td>3</td>\n",
       "    </tr>\n",
       "    <tr>\n",
       "      <th>39256</th>\n",
       "      <td>24504</td>\n",
       "      <td>3</td>\n",
       "      <td>1</td>\n",
       "    </tr>\n",
       "    <tr>\n",
       "      <th>39257</th>\n",
       "      <td>24504</td>\n",
       "      <td>5</td>\n",
       "      <td>1</td>\n",
       "    </tr>\n",
       "    <tr>\n",
       "      <th>39258</th>\n",
       "      <td>24505</td>\n",
       "      <td>5</td>\n",
       "      <td>3</td>\n",
       "    </tr>\n",
       "    <tr>\n",
       "      <th>39259</th>\n",
       "      <td>24505</td>\n",
       "      <td>0</td>\n",
       "      <td>1</td>\n",
       "    </tr>\n",
       "  </tbody>\n",
       "</table>\n",
       "<p>39260 rows × 3 columns</p>\n",
       "</div>"
      ],
      "text/plain": [
       "       item_id  feature_id  data\n",
       "0            0           5     1\n",
       "1            0           0     1\n",
       "2            1           4     1\n",
       "3            1           5    27\n",
       "4            2           2     1\n",
       "...        ...         ...   ...\n",
       "39255    24502           5     3\n",
       "39256    24504           3     1\n",
       "39257    24504           5     1\n",
       "39258    24505           5     3\n",
       "39259    24505           0     1\n",
       "\n",
       "[39260 rows x 3 columns]"
      ]
     },
     "execution_count": 17,
     "metadata": {},
     "output_type": "execute_result"
    }
   ],
   "source": [
    "ICM_all = relevant_ICM\n",
    "ICM_all"
   ]
  },
  {
   "cell_type": "markdown",
   "id": "2b287182",
   "metadata": {
    "papermill": {
     "duration": 0.033273,
     "end_time": "2023-01-15T16:35:00.292516",
     "exception": false,
     "start_time": "2023-01-15T16:35:00.259243",
     "status": "completed"
    },
    "tags": []
   },
   "source": [
    "---------"
   ]
  },
  {
   "cell_type": "markdown",
   "id": "d5c59ea2",
   "metadata": {
    "papermill": {
     "duration": 0.039024,
     "end_time": "2023-01-15T16:35:00.363988",
     "exception": false,
     "start_time": "2023-01-15T16:35:00.324964",
     "status": "completed"
    },
    "tags": []
   },
   "source": [
    "## Define User-Items to bonus/malus"
   ]
  },
  {
   "cell_type": "code",
   "execution_count": 18,
   "id": "22703991",
   "metadata": {
    "execution": {
     "iopub.execute_input": "2023-01-15T16:35:00.436495Z",
     "iopub.status.busy": "2023-01-15T16:35:00.436134Z",
     "iopub.status.idle": "2023-01-15T16:35:00.441931Z",
     "shell.execute_reply": "2023-01-15T16:35:00.440470Z"
    },
    "papermill": {
     "duration": 0.04341,
     "end_time": "2023-01-15T16:35:00.443950",
     "exception": false,
     "start_time": "2023-01-15T16:35:00.400540",
     "status": "completed"
    },
    "tags": []
   },
   "outputs": [],
   "source": [
    "def subtract_dfs(df1, df2):\n",
    "    result = pd.merge(df1, df2, indicator=True, how='outer').query('_merge==\"left_only\"').drop('_merge', axis=1)\n",
    "    return result"
   ]
  },
  {
   "cell_type": "code",
   "execution_count": 19,
   "id": "22255564",
   "metadata": {
    "execution": {
     "iopub.execute_input": "2023-01-15T16:35:00.514897Z",
     "iopub.status.busy": "2023-01-15T16:35:00.513352Z",
     "iopub.status.idle": "2023-01-15T16:35:00.525451Z",
     "shell.execute_reply": "2023-01-15T16:35:00.524323Z"
    },
    "papermill": {
     "duration": 0.050688,
     "end_time": "2023-01-15T16:35:00.527873",
     "exception": false,
     "start_time": "2023-01-15T16:35:00.477185",
     "status": "completed"
    },
    "tags": []
   },
   "outputs": [],
   "source": [
    "def get_bonus_fakemalus_realmalus(u):\n",
    "    DF_Clicked = u[u[\"Data\"] == 1].drop([\"Impressions\"], axis=1)\n",
    "    DF_Clicked = DF_Clicked.groupby(['UserID', 'ItemID'], as_index=False).count()\n",
    "    DF_Clicked.rename(inplace=True, columns={\"Data\": \"Clicked\"})\n",
    "    DF_Watched = u[u[\"Data\"] == 0].drop([\"Impressions\"], axis=1)\n",
    "    DF_Watched = DF_Watched.groupby(['UserID', 'ItemID'], as_index=False).count()\n",
    "    DF_Watched.rename(inplace=True, columns={\"Data\": \"Watched\"})\n",
    "    \n",
    "    # find bonus: interactiors that are both watched and clicked\n",
    "    comparison_df = DF_Watched.merge(DF_Clicked, on=[\"UserID\", \"ItemID\"])\n",
    "    comparison_df = comparison_df.drop([\"Clicked\", \"Watched\"], axis=1)\n",
    "    bonus = np.array((comparison_df.UserID, comparison_df.ItemID))\n",
    "    \n",
    "    # fake malus: interactions that have been only watched\n",
    "    Watched_once_df = DF_Watched[DF_Watched[\"Watched\"]==1]\n",
    "    Fake_Malus_df = subtract_dfs(Watched_once_df.drop([\"Watched\"], axis=1), DF_Clicked.drop([\"Clicked\"], axis=1))\n",
    "    fake_malus = np.array((Fake_Malus_df.UserID, Fake_Malus_df.ItemID))\n",
    "    \n",
    "    # real malus: interactions that have been only clicked\n",
    "    Clicked_once_df = DF_Clicked[DF_Clicked[\"Clicked\"]==1]\n",
    "    Real_Malus_df = subtract_dfs(Clicked_once_df.drop([\"Clicked\"], axis=1), DF_Watched.drop([\"Watched\"], axis=1))\n",
    "    real_malus = np.array((Real_Malus_df.UserID, Real_Malus_df.ItemID))\n",
    "\n",
    "    return bonus, fake_malus, real_malus"
   ]
  },
  {
   "cell_type": "code",
   "execution_count": 20,
   "id": "c9c1799e",
   "metadata": {
    "execution": {
     "iopub.execute_input": "2023-01-15T16:35:00.595651Z",
     "iopub.status.busy": "2023-01-15T16:35:00.595293Z",
     "iopub.status.idle": "2023-01-15T16:35:02.759624Z",
     "shell.execute_reply": "2023-01-15T16:35:02.758346Z"
    },
    "papermill": {
     "duration": 2.201465,
     "end_time": "2023-01-15T16:35:02.762628",
     "exception": false,
     "start_time": "2023-01-15T16:35:00.561163",
     "status": "completed"
    },
    "tags": []
   },
   "outputs": [],
   "source": [
    "both_watched_and_clicked, only_watched_once, only_clicked_once = get_bonus_fakemalus_realmalus(URM_all)"
   ]
  },
  {
   "cell_type": "code",
   "execution_count": 21,
   "id": "59a75cbf",
   "metadata": {
    "execution": {
     "iopub.execute_input": "2023-01-15T16:35:02.829672Z",
     "iopub.status.busy": "2023-01-15T16:35:02.829325Z",
     "iopub.status.idle": "2023-01-15T16:35:02.836971Z",
     "shell.execute_reply": "2023-01-15T16:35:02.835842Z"
    },
    "papermill": {
     "duration": 0.044407,
     "end_time": "2023-01-15T16:35:02.839542",
     "exception": false,
     "start_time": "2023-01-15T16:35:02.795135",
     "status": "completed"
    },
    "tags": []
   },
   "outputs": [
    {
     "data": {
      "text/plain": [
       "(array([[    0,     0,     0, ..., 41617, 41624, 41624],\n",
       "        [    1,    13,    15, ...,   487,  1384,  5463]]),\n",
       " array([[    0,     0,     0, ..., 41628, 41628, 41628],\n",
       "        [    6,    11,    25, ..., 18128, 19540, 20960]]),\n",
       " array([[    0,     0,     0, ..., 41628, 41628, 41628],\n",
       "        [    0,     3,     4, ..., 17163, 18725, 22724]]))"
      ]
     },
     "execution_count": 21,
     "metadata": {},
     "output_type": "execute_result"
    }
   ],
   "source": [
    "both_watched_and_clicked, only_watched_once, only_clicked_once"
   ]
  },
  {
   "cell_type": "code",
   "execution_count": 22,
   "id": "b90adf25",
   "metadata": {
    "execution": {
     "iopub.execute_input": "2023-01-15T16:35:02.906310Z",
     "iopub.status.busy": "2023-01-15T16:35:02.905919Z",
     "iopub.status.idle": "2023-01-15T16:35:02.912672Z",
     "shell.execute_reply": "2023-01-15T16:35:02.911280Z"
    },
    "papermill": {
     "duration": 0.043024,
     "end_time": "2023-01-15T16:35:02.915220",
     "exception": false,
     "start_time": "2023-01-15T16:35:02.872196",
     "status": "completed"
    },
    "tags": []
   },
   "outputs": [],
   "source": [
    "def get_modified_urm(urm_original, bonus_amount, bonus_interactions):     # malus negativi!!!!\n",
    "    bonus_length = bonus_interactions.shape[1]\n",
    "       \n",
    "        \n",
    "    urm_copy = urm_original.copy()\n",
    "    \n",
    "    for i in range(0, bonus_length):\n",
    "        x = urm_copy[bonus_interactions[0][i], bonus_interactions[1][i]]\n",
    "        if (x!=0): urm_copy[bonus_interactions[0][i], bonus_interactions[1][i]] += bonus_amount\n",
    "            \n",
    "    \n",
    "    return urm_copy"
   ]
  },
  {
   "cell_type": "markdown",
   "id": "a593ea85",
   "metadata": {
    "papermill": {
     "duration": 0.033025,
     "end_time": "2023-01-15T16:35:02.981395",
     "exception": false,
     "start_time": "2023-01-15T16:35:02.948370",
     "status": "completed"
    },
    "tags": []
   },
   "source": [
    "---------"
   ]
  },
  {
   "cell_type": "markdown",
   "id": "8d5b61c3",
   "metadata": {
    "execution": {
     "iopub.execute_input": "2023-01-13T22:37:45.691848Z",
     "iopub.status.busy": "2023-01-13T22:37:45.691371Z",
     "iopub.status.idle": "2023-01-13T22:37:45.697752Z",
     "shell.execute_reply": "2023-01-13T22:37:45.696224Z",
     "shell.execute_reply.started": "2023-01-13T22:37:45.691792Z"
    },
    "papermill": {
     "duration": 0.032868,
     "end_time": "2023-01-15T16:35:03.047556",
     "exception": false,
     "start_time": "2023-01-15T16:35:03.014688",
     "status": "completed"
    },
    "tags": []
   },
   "source": [
    "## Creating the matrixces"
   ]
  },
  {
   "cell_type": "code",
   "execution_count": 23,
   "id": "ae922afe",
   "metadata": {
    "execution": {
     "iopub.execute_input": "2023-01-15T16:35:03.114691Z",
     "iopub.status.busy": "2023-01-15T16:35:03.114346Z",
     "iopub.status.idle": "2023-01-15T16:35:03.420820Z",
     "shell.execute_reply": "2023-01-15T16:35:03.419608Z"
    },
    "papermill": {
     "duration": 0.343136,
     "end_time": "2023-01-15T16:35:03.423512",
     "exception": false,
     "start_time": "2023-01-15T16:35:03.080376",
     "status": "completed"
    },
    "tags": []
   },
   "outputs": [],
   "source": [
    "URM_all_binary = URM_all.drop([\"Impressions\", \"Data\"], axis=1).drop_duplicates()"
   ]
  },
  {
   "cell_type": "code",
   "execution_count": 24,
   "id": "03887224",
   "metadata": {
    "execution": {
     "iopub.execute_input": "2023-01-15T16:35:03.492327Z",
     "iopub.status.busy": "2023-01-15T16:35:03.491965Z",
     "iopub.status.idle": "2023-01-15T16:35:03.504000Z",
     "shell.execute_reply": "2023-01-15T16:35:03.503123Z"
    },
    "papermill": {
     "duration": 0.048853,
     "end_time": "2023-01-15T16:35:03.506360",
     "exception": false,
     "start_time": "2023-01-15T16:35:03.457507",
     "status": "completed"
    },
    "tags": []
   },
   "outputs": [
    {
     "data": {
      "text/html": [
       "<div>\n",
       "<style scoped>\n",
       "    .dataframe tbody tr th:only-of-type {\n",
       "        vertical-align: middle;\n",
       "    }\n",
       "\n",
       "    .dataframe tbody tr th {\n",
       "        vertical-align: top;\n",
       "    }\n",
       "\n",
       "    .dataframe thead th {\n",
       "        text-align: right;\n",
       "    }\n",
       "</style>\n",
       "<table border=\"1\" class=\"dataframe\">\n",
       "  <thead>\n",
       "    <tr style=\"text-align: right;\">\n",
       "      <th></th>\n",
       "      <th>UserID</th>\n",
       "      <th>ItemID</th>\n",
       "      <th>Rating</th>\n",
       "    </tr>\n",
       "  </thead>\n",
       "  <tbody>\n",
       "    <tr>\n",
       "      <th>0</th>\n",
       "      <td>0</td>\n",
       "      <td>0</td>\n",
       "      <td>1.0</td>\n",
       "    </tr>\n",
       "    <tr>\n",
       "      <th>1</th>\n",
       "      <td>0</td>\n",
       "      <td>1</td>\n",
       "      <td>1.0</td>\n",
       "    </tr>\n",
       "    <tr>\n",
       "      <th>13</th>\n",
       "      <td>0</td>\n",
       "      <td>2</td>\n",
       "      <td>1.0</td>\n",
       "    </tr>\n",
       "    <tr>\n",
       "      <th>28</th>\n",
       "      <td>0</td>\n",
       "      <td>3</td>\n",
       "      <td>1.0</td>\n",
       "    </tr>\n",
       "    <tr>\n",
       "      <th>29</th>\n",
       "      <td>0</td>\n",
       "      <td>4</td>\n",
       "      <td>1.0</td>\n",
       "    </tr>\n",
       "    <tr>\n",
       "      <th>...</th>\n",
       "      <td>...</td>\n",
       "      <td>...</td>\n",
       "      <td>...</td>\n",
       "    </tr>\n",
       "    <tr>\n",
       "      <th>5826501</th>\n",
       "      <td>41628</td>\n",
       "      <td>3700</td>\n",
       "      <td>1.0</td>\n",
       "    </tr>\n",
       "    <tr>\n",
       "      <th>5826502</th>\n",
       "      <td>41628</td>\n",
       "      <td>12694</td>\n",
       "      <td>1.0</td>\n",
       "    </tr>\n",
       "    <tr>\n",
       "      <th>5826503</th>\n",
       "      <td>41628</td>\n",
       "      <td>15132</td>\n",
       "      <td>1.0</td>\n",
       "    </tr>\n",
       "    <tr>\n",
       "      <th>5826504</th>\n",
       "      <td>41628</td>\n",
       "      <td>18128</td>\n",
       "      <td>1.0</td>\n",
       "    </tr>\n",
       "    <tr>\n",
       "      <th>5826505</th>\n",
       "      <td>41628</td>\n",
       "      <td>14573</td>\n",
       "      <td>1.0</td>\n",
       "    </tr>\n",
       "  </tbody>\n",
       "</table>\n",
       "<p>1554640 rows × 3 columns</p>\n",
       "</div>"
      ],
      "text/plain": [
       "         UserID  ItemID  Rating\n",
       "0             0       0     1.0\n",
       "1             0       1     1.0\n",
       "13            0       2     1.0\n",
       "28            0       3     1.0\n",
       "29            0       4     1.0\n",
       "...         ...     ...     ...\n",
       "5826501   41628    3700     1.0\n",
       "5826502   41628   12694     1.0\n",
       "5826503   41628   15132     1.0\n",
       "5826504   41628   18128     1.0\n",
       "5826505   41628   14573     1.0\n",
       "\n",
       "[1554640 rows x 3 columns]"
      ]
     },
     "execution_count": 24,
     "metadata": {},
     "output_type": "execute_result"
    }
   ],
   "source": [
    "URM_all_binary[\"Rating\"]=1.0\n",
    "URM_all_binary"
   ]
  },
  {
   "cell_type": "code",
   "execution_count": 25,
   "id": "0edb37d1",
   "metadata": {
    "execution": {
     "iopub.execute_input": "2023-01-15T16:35:03.574575Z",
     "iopub.status.busy": "2023-01-15T16:35:03.574236Z",
     "iopub.status.idle": "2023-01-15T16:35:03.580968Z",
     "shell.execute_reply": "2023-01-15T16:35:03.579608Z"
    },
    "papermill": {
     "duration": 0.042829,
     "end_time": "2023-01-15T16:35:03.583029",
     "exception": false,
     "start_time": "2023-01-15T16:35:03.540200",
     "status": "completed"
    },
    "tags": []
   },
   "outputs": [
    {
     "data": {
      "text/plain": [
       "array([5, 0, 4, 2, 3, 1])"
      ]
     },
     "execution_count": 25,
     "metadata": {},
     "output_type": "execute_result"
    }
   ],
   "source": [
    "ICM_all[\"feature_id\"].unique()"
   ]
  },
  {
   "cell_type": "code",
   "execution_count": 26,
   "id": "86d5854b",
   "metadata": {
    "execution": {
     "iopub.execute_input": "2023-01-15T16:35:03.650931Z",
     "iopub.status.busy": "2023-01-15T16:35:03.650527Z",
     "iopub.status.idle": "2023-01-15T16:35:04.146439Z",
     "shell.execute_reply": "2023-01-15T16:35:04.145367Z"
    },
    "papermill": {
     "duration": 0.532743,
     "end_time": "2023-01-15T16:35:04.148598",
     "exception": false,
     "start_time": "2023-01-15T16:35:03.615855",
     "status": "completed"
    },
    "tags": []
   },
   "outputs": [
    {
     "name": "stdout",
     "output_type": "stream",
     "text": [
      "Number of users is 41629\n",
      "Number of items is 24507\n",
      "Number of features is 6\n"
     ]
    },
    {
     "data": {
      "text/plain": [
       "(<41629x24507 sparse matrix of type '<class 'numpy.float64'>'\n",
       " \twith 1321444 stored elements in Compressed Sparse Row format>,\n",
       " <41629x24507 sparse matrix of type '<class 'numpy.float64'>'\n",
       " \twith 233196 stored elements in Compressed Sparse Row format>,\n",
       " <41629x24507 sparse matrix of type '<class 'numpy.float64'>'\n",
       " \twith 1554640 stored elements in Compressed Sparse Row format>,\n",
       " <24507x6 sparse matrix of type '<class 'numpy.float64'>'\n",
       " \twith 39260 stored elements in Compressed Sparse Row format>)"
      ]
     },
     "execution_count": 26,
     "metadata": {},
     "output_type": "execute_result"
    }
   ],
   "source": [
    "n_users = len(user_original_ID_to_index)\n",
    "n_items = len(item_original_ID_to_index)\n",
    "n_features = len(feature_original_ID_to_index)\n",
    "\n",
    "print(\"Number of users is {}\".format(n_users))\n",
    "print(\"Number of items is {}\".format(n_items))\n",
    "print(\"Number of features is {}\".format(n_features))\n",
    "\n",
    "from sklearn.model_selection import train_test_split\n",
    "seed = 42\n",
    "\n",
    "(user_ids_training, user_ids_validation,\n",
    " item_ids_training, item_ids_validation,\n",
    " ratings_training, ratings_validation) = train_test_split(URM_all_binary.UserID,\n",
    "                                                        URM_all_binary.ItemID,\n",
    "                                                        URM_all_binary.Rating,\n",
    "                                                        test_size=0.15,\n",
    "                                                        shuffle=True,\n",
    "                                                        random_state=seed)\n",
    "\n",
    "urm_train = sps.csr_matrix((ratings_training, (user_ids_training, item_ids_training)),\n",
    "                           shape = (n_users, n_items))\n",
    "\n",
    "urm_validation = sps.csr_matrix((ratings_validation, (user_ids_validation, item_ids_validation)),\n",
    "                           shape = (n_users, n_items))\n",
    "\n",
    "urm_all = sps.csr_matrix((URM_all_binary.Rating, (URM_all_binary.UserID, URM_all_binary.ItemID)),\n",
    "                           shape = (n_users, n_items))\n",
    "\n",
    "icm_all = sps.csr_matrix((np.ones(len(ICM_all[\"item_id\"].values)), \n",
    "                          (ICM_all[\"item_id\"].values, ICM_all[\"feature_id\"].values)),\n",
    "                        shape = (n_items, 6))\n",
    "\n",
    "icm_all.data = np.ones_like(icm_all.data)\n",
    "\n",
    "icm_all = sps.csr_matrix(icm_all)\n",
    "features_per_item = np.ediff1d(icm_all.indptr)\n",
    "\n",
    "icm_all = sps.csc_matrix(icm_all)\n",
    "items_per_feature = np.ediff1d(icm_all.indptr)\n",
    "\n",
    "icm_all = sps.csr_matrix(icm_all)        # come maaaaiiiii?????\n",
    "\n",
    "urm_train, urm_validation, urm_all, icm_all"
   ]
  },
  {
   "cell_type": "code",
   "execution_count": 27,
   "id": "907c07a7",
   "metadata": {
    "execution": {
     "iopub.execute_input": "2023-01-15T16:35:04.218141Z",
     "iopub.status.busy": "2023-01-15T16:35:04.217571Z",
     "iopub.status.idle": "2023-01-15T16:35:04.296274Z",
     "shell.execute_reply": "2023-01-15T16:35:04.294785Z"
    },
    "papermill": {
     "duration": 0.116501,
     "end_time": "2023-01-15T16:35:04.298717",
     "exception": false,
     "start_time": "2023-01-15T16:35:04.182216",
     "status": "completed"
    },
    "tags": []
   },
   "outputs": [
    {
     "name": "stdout",
     "output_type": "stream",
     "text": [
      "EvaluatorHoldout: Ignoring 976 ( 2.3%) Users that have less than 1 test interactions\n"
     ]
    }
   ],
   "source": [
    "from Evaluation.Evaluator import EvaluatorHoldout\n",
    "\n",
    "evaluator_validation = EvaluatorHoldout(urm_train, cutoff_list=[10])\n",
    "evaluator_test = EvaluatorHoldout(urm_validation, cutoff_list=[10])"
   ]
  },
  {
   "cell_type": "markdown",
   "id": "12fd3ed4",
   "metadata": {
    "papermill": {
     "duration": 0.03377,
     "end_time": "2023-01-15T16:35:04.365732",
     "exception": false,
     "start_time": "2023-01-15T16:35:04.331962",
     "status": "completed"
    },
    "tags": []
   },
   "source": [
    "--------------"
   ]
  },
  {
   "cell_type": "markdown",
   "id": "b7271b4e",
   "metadata": {
    "papermill": {
     "duration": 0.034147,
     "end_time": "2023-01-15T16:35:04.433531",
     "exception": false,
     "start_time": "2023-01-15T16:35:04.399384",
     "status": "completed"
    },
    "tags": []
   },
   "source": [
    "# Models"
   ]
  },
  {
   "cell_type": "markdown",
   "id": "5d106c8e",
   "metadata": {
    "papermill": {
     "duration": 0.033768,
     "end_time": "2023-01-15T16:35:04.502687",
     "exception": false,
     "start_time": "2023-01-15T16:35:04.468919",
     "status": "completed"
    },
    "tags": []
   },
   "source": [
    "### Slim Elastic + Stacking + URM Bonus"
   ]
  },
  {
   "cell_type": "code",
   "execution_count": 28,
   "id": "80886f88",
   "metadata": {
    "execution": {
     "iopub.execute_input": "2023-01-15T16:35:04.572935Z",
     "iopub.status.busy": "2023-01-15T16:35:04.572522Z",
     "iopub.status.idle": "2023-01-15T16:35:04.578175Z",
     "shell.execute_reply": "2023-01-15T16:35:04.577000Z"
    },
    "papermill": {
     "duration": 0.043237,
     "end_time": "2023-01-15T16:35:04.579916",
     "exception": false,
     "start_time": "2023-01-15T16:35:04.536679",
     "status": "completed"
    },
    "tags": []
   },
   "outputs": [],
   "source": [
    "slim_both_bonus = 0.25\n",
    "slim_only_watched_once_malus = -0.10  \n",
    "slim_only_clicked_once_malus = -0.10"
   ]
  },
  {
   "cell_type": "code",
   "execution_count": 29,
   "id": "8b45021c",
   "metadata": {
    "execution": {
     "iopub.execute_input": "2023-01-15T16:35:04.650383Z",
     "iopub.status.busy": "2023-01-15T16:35:04.649769Z",
     "iopub.status.idle": "2023-01-15T16:38:24.957632Z",
     "shell.execute_reply": "2023-01-15T16:38:24.956545Z"
    },
    "papermill": {
     "duration": 200.345816,
     "end_time": "2023-01-15T16:38:24.960142",
     "exception": false,
     "start_time": "2023-01-15T16:35:04.614326",
     "status": "completed"
    },
    "tags": []
   },
   "outputs": [],
   "source": [
    "slim_urm_all = get_modified_urm(urm_all, slim_both_bonus, both_watched_and_clicked)\n",
    "slim_urm_all = get_modified_urm(slim_urm_all, slim_only_watched_once_malus, only_watched_once)\n",
    "slim_urm_all = get_modified_urm(slim_urm_all, slim_only_clicked_once_malus, only_clicked_once)\n",
    "\n",
    "slim_urm_train = get_modified_urm(urm_train, slim_both_bonus, both_watched_and_clicked)\n",
    "slim_urm_train = get_modified_urm(slim_urm_train, slim_only_watched_once_malus, only_watched_once)\n",
    "slim_urm_train = get_modified_urm(slim_urm_train, slim_only_clicked_once_malus, only_clicked_once)"
   ]
  },
  {
   "cell_type": "code",
   "execution_count": 30,
   "id": "478f9ce8",
   "metadata": {
    "execution": {
     "iopub.execute_input": "2023-01-15T16:38:25.029783Z",
     "iopub.status.busy": "2023-01-15T16:38:25.029412Z",
     "iopub.status.idle": "2023-01-15T16:38:25.040120Z",
     "shell.execute_reply": "2023-01-15T16:38:25.038279Z"
    },
    "papermill": {
     "duration": 0.048657,
     "end_time": "2023-01-15T16:38:25.042665",
     "exception": false,
     "start_time": "2023-01-15T16:38:24.994008",
     "status": "completed"
    },
    "tags": []
   },
   "outputs": [
    {
     "data": {
      "text/plain": [
       "(1.0, 1.25)"
      ]
     },
     "execution_count": 30,
     "metadata": {},
     "output_type": "execute_result"
    }
   ],
   "source": [
    "urm_train[0,1], slim_urm_train[0,1]"
   ]
  },
  {
   "cell_type": "code",
   "execution_count": 31,
   "id": "ef7fa16a",
   "metadata": {
    "execution": {
     "iopub.execute_input": "2023-01-15T16:38:25.114698Z",
     "iopub.status.busy": "2023-01-15T16:38:25.114326Z",
     "iopub.status.idle": "2023-01-15T16:38:25.122951Z",
     "shell.execute_reply": "2023-01-15T16:38:25.121030Z"
    },
    "papermill": {
     "duration": 0.048409,
     "end_time": "2023-01-15T16:38:25.125654",
     "exception": false,
     "start_time": "2023-01-15T16:38:25.077245",
     "status": "completed"
    },
    "tags": []
   },
   "outputs": [
    {
     "data": {
      "text/plain": [
       "(1.0, 0.9)"
      ]
     },
     "execution_count": 31,
     "metadata": {},
     "output_type": "execute_result"
    }
   ],
   "source": [
    "urm_train[0,6], slim_urm_train[0,6]"
   ]
  },
  {
   "cell_type": "code",
   "execution_count": 32,
   "id": "2b556c5d",
   "metadata": {
    "execution": {
     "iopub.execute_input": "2023-01-15T16:38:25.196195Z",
     "iopub.status.busy": "2023-01-15T16:38:25.195569Z",
     "iopub.status.idle": "2023-01-15T16:38:25.200812Z",
     "shell.execute_reply": "2023-01-15T16:38:25.200196Z"
    },
    "papermill": {
     "duration": 0.042215,
     "end_time": "2023-01-15T16:38:25.202616",
     "exception": false,
     "start_time": "2023-01-15T16:38:25.160401",
     "status": "completed"
    },
    "tags": []
   },
   "outputs": [
    {
     "data": {
      "text/plain": [
       "(1.0, 0.9)"
      ]
     },
     "execution_count": 32,
     "metadata": {},
     "output_type": "execute_result"
    }
   ],
   "source": [
    "urm_train[0,0], slim_urm_train[0,0]"
   ]
  },
  {
   "cell_type": "code",
   "execution_count": 33,
   "id": "05d686ad",
   "metadata": {
    "execution": {
     "iopub.execute_input": "2023-01-15T16:38:25.270882Z",
     "iopub.status.busy": "2023-01-15T16:38:25.270558Z",
     "iopub.status.idle": "2023-01-15T16:38:25.275832Z",
     "shell.execute_reply": "2023-01-15T16:38:25.274319Z"
    },
    "papermill": {
     "duration": 0.041411,
     "end_time": "2023-01-15T16:38:25.277588",
     "exception": false,
     "start_time": "2023-01-15T16:38:25.236177",
     "status": "completed"
    },
    "tags": []
   },
   "outputs": [],
   "source": [
    "SLIM_Elastic_params = {\n",
    "    \"topK\": 2492, \n",
    "    \"l1_ratio\": 0.09122038444743771, \n",
    "    \"alpha\": 0.00031614482201457075\n",
    "}"
   ]
  },
  {
   "cell_type": "markdown",
   "id": "386daada",
   "metadata": {
    "execution": {
     "iopub.execute_input": "2023-01-13T23:03:47.88891Z",
     "iopub.status.busy": "2023-01-13T23:03:47.888353Z",
     "iopub.status.idle": "2023-01-13T23:03:47.894818Z",
     "shell.execute_reply": "2023-01-13T23:03:47.893724Z",
     "shell.execute_reply.started": "2023-01-13T23:03:47.888875Z"
    },
    "papermill": {
     "duration": 0.032756,
     "end_time": "2023-01-15T16:38:25.343217",
     "exception": false,
     "start_time": "2023-01-15T16:38:25.310461",
     "status": "completed"
    },
    "tags": []
   },
   "source": [
    "#### Stacking"
   ]
  },
  {
   "cell_type": "code",
   "execution_count": 34,
   "id": "11b9ef6f",
   "metadata": {
    "execution": {
     "iopub.execute_input": "2023-01-15T16:38:25.410134Z",
     "iopub.status.busy": "2023-01-15T16:38:25.409767Z",
     "iopub.status.idle": "2023-01-15T16:38:25.418766Z",
     "shell.execute_reply": "2023-01-15T16:38:25.417264Z"
    },
    "papermill": {
     "duration": 0.045647,
     "end_time": "2023-01-15T16:38:25.421424",
     "exception": false,
     "start_time": "2023-01-15T16:38:25.375777",
     "status": "completed"
    },
    "tags": []
   },
   "outputs": [],
   "source": [
    "ICM_Type = ICM_all[ICM_all[\"feature_id\"] != 5] # togliamo la length\n",
    "icm_type = sps.csr_matrix((ICM_Type.data, (ICM_Type.feature_id, ICM_Type.item_id)),\n",
    "                         shape = (5, n_items))"
   ]
  },
  {
   "cell_type": "code",
   "execution_count": 35,
   "id": "4d91ccc8",
   "metadata": {
    "execution": {
     "iopub.execute_input": "2023-01-15T16:38:25.491321Z",
     "iopub.status.busy": "2023-01-15T16:38:25.490929Z",
     "iopub.status.idle": "2023-01-15T16:38:25.498282Z",
     "shell.execute_reply": "2023-01-15T16:38:25.496744Z"
    },
    "papermill": {
     "duration": 0.044674,
     "end_time": "2023-01-15T16:38:25.500548",
     "exception": false,
     "start_time": "2023-01-15T16:38:25.455874",
     "status": "completed"
    },
    "tags": []
   },
   "outputs": [
    {
     "data": {
      "text/plain": [
       "<5x24507 sparse matrix of type '<class 'numpy.int64'>'\n",
       "\twith 19630 stored elements in Compressed Sparse Row format>"
      ]
     },
     "execution_count": 35,
     "metadata": {},
     "output_type": "execute_result"
    }
   ],
   "source": [
    "icm_type"
   ]
  },
  {
   "cell_type": "code",
   "execution_count": 36,
   "id": "b46eb105",
   "metadata": {
    "execution": {
     "iopub.execute_input": "2023-01-15T16:38:25.570579Z",
     "iopub.status.busy": "2023-01-15T16:38:25.570201Z",
     "iopub.status.idle": "2023-01-15T16:38:25.590331Z",
     "shell.execute_reply": "2023-01-15T16:38:25.589136Z"
    },
    "papermill": {
     "duration": 0.058449,
     "end_time": "2023-01-15T16:38:25.592868",
     "exception": false,
     "start_time": "2023-01-15T16:38:25.534419",
     "status": "completed"
    },
    "tags": []
   },
   "outputs": [
    {
     "data": {
      "text/plain": [
       "(<41634x24507 sparse matrix of type '<class 'numpy.float64'>'\n",
       " \twith 1574270 stored elements in Compressed Sparse Row format>,\n",
       " <41634x24507 sparse matrix of type '<class 'numpy.float64'>'\n",
       " \twith 1341074 stored elements in Compressed Sparse Row format>)"
      ]
     },
     "execution_count": 36,
     "metadata": {},
     "output_type": "execute_result"
    }
   ],
   "source": [
    "stack_alpha = 0.7896376793234108\n",
    "stacked_urm_all = sps.vstack([slim_urm_all.multiply(stack_alpha), icm_type.multiply(1 - stack_alpha)]) # stack su quella con bonus\n",
    "stacked_urm_train = sps.vstack([slim_urm_train.multiply(stack_alpha), icm_type.multiply(1 - stack_alpha)]) # stack su quella con bonus\n",
    "stacked_urm_all, stacked_urm_train"
   ]
  },
  {
   "cell_type": "markdown",
   "id": "28cff0f6",
   "metadata": {
    "execution": {
     "iopub.execute_input": "2023-01-14T10:34:50.044132Z",
     "iopub.status.busy": "2023-01-14T10:34:50.041019Z",
     "iopub.status.idle": "2023-01-14T10:34:50.099345Z",
     "shell.execute_reply": "2023-01-14T10:34:50.096824Z",
     "shell.execute_reply.started": "2023-01-14T10:34:50.043868Z"
    },
    "papermill": {
     "duration": 0.03375,
     "end_time": "2023-01-15T16:38:25.660779",
     "exception": false,
     "start_time": "2023-01-15T16:38:25.627029",
     "status": "completed"
    },
    "tags": []
   },
   "source": [
    "----------"
   ]
  },
  {
   "cell_type": "markdown",
   "id": "57e23ac7",
   "metadata": {
    "papermill": {
     "duration": 0.032919,
     "end_time": "2023-01-15T16:38:25.727029",
     "exception": false,
     "start_time": "2023-01-15T16:38:25.694110",
     "status": "completed"
    },
    "tags": []
   },
   "source": [
    "### RP3Beta"
   ]
  },
  {
   "cell_type": "code",
   "execution_count": 37,
   "id": "22e3136e",
   "metadata": {
    "execution": {
     "iopub.execute_input": "2023-01-15T16:38:25.795108Z",
     "iopub.status.busy": "2023-01-15T16:38:25.794720Z",
     "iopub.status.idle": "2023-01-15T16:38:25.799355Z",
     "shell.execute_reply": "2023-01-15T16:38:25.798380Z"
    },
    "papermill": {
     "duration": 0.040662,
     "end_time": "2023-01-15T16:38:25.801201",
     "exception": false,
     "start_time": "2023-01-15T16:38:25.760539",
     "status": "completed"
    },
    "tags": []
   },
   "outputs": [],
   "source": [
    "rp3_both_bonus = 0.75"
   ]
  },
  {
   "cell_type": "code",
   "execution_count": 38,
   "id": "dc32e024",
   "metadata": {
    "execution": {
     "iopub.execute_input": "2023-01-15T16:38:25.871970Z",
     "iopub.status.busy": "2023-01-15T16:38:25.870481Z",
     "iopub.status.idle": "2023-01-15T16:38:49.860620Z",
     "shell.execute_reply": "2023-01-15T16:38:49.859538Z"
    },
    "papermill": {
     "duration": 24.027993,
     "end_time": "2023-01-15T16:38:49.863345",
     "exception": false,
     "start_time": "2023-01-15T16:38:25.835352",
     "status": "completed"
    },
    "tags": []
   },
   "outputs": [],
   "source": [
    "rp3_urm_all = get_modified_urm(urm_all, rp3_both_bonus, both_watched_and_clicked)\n",
    "rp3_urm_train = get_modified_urm(urm_train, rp3_both_bonus, both_watched_and_clicked)"
   ]
  },
  {
   "cell_type": "code",
   "execution_count": 39,
   "id": "62148e64",
   "metadata": {
    "execution": {
     "iopub.execute_input": "2023-01-15T16:38:49.933280Z",
     "iopub.status.busy": "2023-01-15T16:38:49.932864Z",
     "iopub.status.idle": "2023-01-15T16:38:49.938426Z",
     "shell.execute_reply": "2023-01-15T16:38:49.937096Z"
    },
    "papermill": {
     "duration": 0.043241,
     "end_time": "2023-01-15T16:38:49.941104",
     "exception": false,
     "start_time": "2023-01-15T16:38:49.897863",
     "status": "completed"
    },
    "tags": []
   },
   "outputs": [],
   "source": [
    "RP3Beta_params = {\n",
    "    \"topK\": 58,\n",
    "    \"alpha\": 0.77005628804658,\n",
    "    \"beta\": 0.3180366423309866,\n",
    "    \"normalize_similarity\": True\n",
    "}"
   ]
  },
  {
   "cell_type": "markdown",
   "id": "a69d5f62",
   "metadata": {
    "papermill": {
     "duration": 0.033582,
     "end_time": "2023-01-15T16:38:50.008307",
     "exception": false,
     "start_time": "2023-01-15T16:38:49.974725",
     "status": "completed"
    },
    "tags": []
   },
   "source": [
    "-----"
   ]
  },
  {
   "cell_type": "markdown",
   "id": "932e368d",
   "metadata": {
    "execution": {
     "iopub.execute_input": "2023-01-14T10:44:53.729613Z",
     "iopub.status.busy": "2023-01-14T10:44:53.729179Z",
     "iopub.status.idle": "2023-01-14T10:44:53.735067Z",
     "shell.execute_reply": "2023-01-14T10:44:53.733782Z",
     "shell.execute_reply.started": "2023-01-14T10:44:53.72958Z"
    },
    "papermill": {
     "duration": 0.033633,
     "end_time": "2023-01-15T16:38:50.075901",
     "exception": false,
     "start_time": "2023-01-15T16:38:50.042268",
     "status": "completed"
    },
    "tags": []
   },
   "source": [
    "### IALS"
   ]
  },
  {
   "cell_type": "code",
   "execution_count": 40,
   "id": "77cc1084",
   "metadata": {
    "execution": {
     "iopub.execute_input": "2023-01-15T16:38:50.146266Z",
     "iopub.status.busy": "2023-01-15T16:38:50.144904Z",
     "iopub.status.idle": "2023-01-15T16:38:50.150916Z",
     "shell.execute_reply": "2023-01-15T16:38:50.150247Z"
    },
    "papermill": {
     "duration": 0.04333,
     "end_time": "2023-01-15T16:38:50.153257",
     "exception": false,
     "start_time": "2023-01-15T16:38:50.109927",
     "status": "completed"
    },
    "tags": []
   },
   "outputs": [],
   "source": [
    "import math\n",
    "\n",
    "IALS_params = {\n",
    "    'epochs': 36,\n",
    "    'num_factors': 86,\n",
    "    'confidence_scaling': \"log\",\n",
    "    'alpha': 5.024961505795806,\n",
    "    'epsilon': 0.3208262245960988,\n",
    "    'reg': 0.46509664550837687,\n",
    "    'init_std': 1 / math.sqrt(86) * 0.1\n",
    "}"
   ]
  },
  {
   "cell_type": "markdown",
   "id": "57bc9891",
   "metadata": {
    "papermill": {
     "duration": 0.033963,
     "end_time": "2023-01-15T16:38:50.221759",
     "exception": false,
     "start_time": "2023-01-15T16:38:50.187796",
     "status": "completed"
    },
    "tags": []
   },
   "source": [
    "---"
   ]
  },
  {
   "cell_type": "markdown",
   "id": "a03d2a2d",
   "metadata": {
    "papermill": {
     "duration": 0.033786,
     "end_time": "2023-01-15T16:38:50.289689",
     "exception": false,
     "start_time": "2023-01-15T16:38:50.255903",
     "status": "completed"
    },
    "tags": []
   },
   "source": [
    "### Others"
   ]
  },
  {
   "cell_type": "code",
   "execution_count": 41,
   "id": "7096e14c",
   "metadata": {
    "execution": {
     "iopub.execute_input": "2023-01-15T16:38:50.359269Z",
     "iopub.status.busy": "2023-01-15T16:38:50.358872Z",
     "iopub.status.idle": "2023-01-15T16:38:50.364319Z",
     "shell.execute_reply": "2023-01-15T16:38:50.363299Z"
    },
    "papermill": {
     "duration": 0.04262,
     "end_time": "2023-01-15T16:38:50.366275",
     "exception": false,
     "start_time": "2023-01-15T16:38:50.323655",
     "status": "completed"
    },
    "tags": []
   },
   "outputs": [],
   "source": [
    "ItemKNN_CFCBF_params = {\n",
    "    'ICM_weight': 0.7942705620438129,\n",
    "    'topK': 57,\n",
    "    'shrink': 46,\n",
    "    'similarity': 'asymmetric',\n",
    "    'asymmetric_alpha': 1.0078079911435072,\n",
    "    'normalize': True,\n",
    "    'feature_weighting': 'BM25',\n",
    "    'ICM_bias': 0.05378471200597431\n",
    "}"
   ]
  },
  {
   "cell_type": "code",
   "execution_count": 42,
   "id": "19da0c14",
   "metadata": {
    "execution": {
     "iopub.execute_input": "2023-01-15T16:38:50.496855Z",
     "iopub.status.busy": "2023-01-15T16:38:50.496228Z",
     "iopub.status.idle": "2023-01-15T16:38:50.502224Z",
     "shell.execute_reply": "2023-01-15T16:38:50.500778Z"
    },
    "papermill": {
     "duration": 0.103919,
     "end_time": "2023-01-15T16:38:50.504025",
     "exception": false,
     "start_time": "2023-01-15T16:38:50.400106",
     "status": "completed"
    },
    "tags": []
   },
   "outputs": [],
   "source": [
    "UserKNN_params = {\n",
    "    'topK': 570,\n",
    "    'shrink': 197,\n",
    "    'similarity': 'asymmetric',\n",
    "    'asymmetric_alpha': 0.5016128296674885,\n",
    "    'normalize': True,\n",
    "    'feature_weighting': 'BM25',\n",
    "    'URM_bias': 71.84496171909362\n",
    "}"
   ]
  },
  {
   "cell_type": "code",
   "execution_count": 43,
   "id": "1d33a2d1",
   "metadata": {
    "execution": {
     "iopub.execute_input": "2023-01-15T16:38:50.577241Z",
     "iopub.status.busy": "2023-01-15T16:38:50.576805Z",
     "iopub.status.idle": "2023-01-15T16:38:50.582318Z",
     "shell.execute_reply": "2023-01-15T16:38:50.580707Z"
    },
    "papermill": {
     "duration": 0.045079,
     "end_time": "2023-01-15T16:38:50.584844",
     "exception": false,
     "start_time": "2023-01-15T16:38:50.539765",
     "status": "completed"
    },
    "tags": []
   },
   "outputs": [],
   "source": [
    "P3Alpha_params = {'topK': 114, 'alpha': 1.0704657899898833, 'normalize_similarity': True}"
   ]
  },
  {
   "cell_type": "markdown",
   "id": "22302462",
   "metadata": {
    "papermill": {
     "duration": 0.035395,
     "end_time": "2023-01-15T16:38:50.654978",
     "exception": false,
     "start_time": "2023-01-15T16:38:50.619583",
     "status": "completed"
    },
    "tags": []
   },
   "source": [
    "----"
   ]
  },
  {
   "cell_type": "markdown",
   "id": "0aea2721",
   "metadata": {
    "execution": {
     "iopub.execute_input": "2023-01-14T10:45:32.542863Z",
     "iopub.status.busy": "2023-01-14T10:45:32.542434Z",
     "iopub.status.idle": "2023-01-14T10:45:32.548655Z",
     "shell.execute_reply": "2023-01-14T10:45:32.546961Z",
     "shell.execute_reply.started": "2023-01-14T10:45:32.542806Z"
    },
    "papermill": {
     "duration": 0.034689,
     "end_time": "2023-01-15T16:38:50.725897",
     "exception": false,
     "start_time": "2023-01-15T16:38:50.691208",
     "status": "completed"
    },
    "tags": []
   },
   "source": [
    "### Ease-R"
   ]
  },
  {
   "cell_type": "code",
   "execution_count": 44,
   "id": "9ebbd39d",
   "metadata": {
    "execution": {
     "iopub.execute_input": "2023-01-15T16:38:50.799155Z",
     "iopub.status.busy": "2023-01-15T16:38:50.798748Z",
     "iopub.status.idle": "2023-01-15T16:46:33.929664Z",
     "shell.execute_reply": "2023-01-15T16:46:33.925043Z"
    },
    "papermill": {
     "duration": 463.172616,
     "end_time": "2023-01-15T16:46:33.934225",
     "exception": false,
     "start_time": "2023-01-15T16:38:50.761609",
     "status": "completed"
    },
    "tags": []
   },
   "outputs": [
    {
     "name": "stdout",
     "output_type": "stream",
     "text": [
      "  adding: W_sparse.npy (deflated 30%)\r\n",
      "  adding: W_sparse.npy (deflated 30%)\r\n",
      "  adding: W_sparse.npy (deflated 30%)\r\n"
     ]
    }
   ],
   "source": [
    "!cp -r /kaggle/input/ease-r/* models/\n",
    "\n",
    "os.chdir(\"models\")\n",
    "! for i in */; do (cd \"$i\"; zip -r \"../${i%/}.zip\" .); done\n",
    "! rm -R -- */\n",
    "os.chdir(\"..\")"
   ]
  },
  {
   "cell_type": "markdown",
   "id": "9a76337f",
   "metadata": {
    "papermill": {
     "duration": 0.03535,
     "end_time": "2023-01-15T16:46:34.012106",
     "exception": false,
     "start_time": "2023-01-15T16:46:33.976756",
     "status": "completed"
    },
    "tags": []
   },
   "source": [
    "-------"
   ]
  },
  {
   "cell_type": "markdown",
   "id": "e65bad4b",
   "metadata": {
    "papermill": {
     "duration": 0.035399,
     "end_time": "2023-01-15T16:46:34.082835",
     "exception": false,
     "start_time": "2023-01-15T16:46:34.047436",
     "status": "completed"
    },
    "tags": []
   },
   "source": [
    "### Hybrid"
   ]
  },
  {
   "cell_type": "markdown",
   "id": "95bf4df7",
   "metadata": {
    "papermill": {
     "duration": 0.037501,
     "end_time": "2023-01-15T16:46:34.158184",
     "exception": false,
     "start_time": "2023-01-15T16:46:34.120683",
     "status": "completed"
    },
    "tags": []
   },
   "source": [
    "Training the components"
   ]
  },
  {
   "cell_type": "code",
   "execution_count": 45,
   "id": "c7a06282",
   "metadata": {
    "execution": {
     "iopub.execute_input": "2023-01-15T16:46:34.241478Z",
     "iopub.status.busy": "2023-01-15T16:46:34.238536Z",
     "iopub.status.idle": "2023-01-15T17:16:41.899570Z",
     "shell.execute_reply": "2023-01-15T17:16:41.898078Z"
    },
    "papermill": {
     "duration": 1807.706759,
     "end_time": "2023-01-15T17:16:41.903352",
     "exception": false,
     "start_time": "2023-01-15T16:46:34.196593",
     "status": "completed"
    },
    "tags": []
   },
   "outputs": [
    {
     "name": "stdout",
     "output_type": "stream",
     "text": [
      "SLIMElasticNetRecommender: Processed 3559 (14.5%) in 5.00 min. Items per second: 11.86\n",
      "SLIMElasticNetRecommender: Processed 7612 (31.1%) in 10.00 min. Items per second: 12.68\n",
      "SLIMElasticNetRecommender: Processed 11719 (47.8%) in 15.00 min. Items per second: 13.02\n",
      "SLIMElasticNetRecommender: Processed 15859 (64.7%) in 20.00 min. Items per second: 13.21\n",
      "SLIMElasticNetRecommender: Processed 20095 (82.0%) in 25.00 min. Items per second: 13.40\n",
      "SLIMElasticNetRecommender: Processed 24400 (99.6%) in 30.00 min. Items per second: 13.55\n",
      "SLIMElasticNetRecommender: Processed 24507 (100.0%) in 30.12 min. Items per second: 13.56\n"
     ]
    }
   ],
   "source": [
    "SLIM_Elastic_all = SLIMElasticNetRecommender(stacked_urm_all)\n",
    "SLIM_Elastic_all.fit(**SLIM_Elastic_params)"
   ]
  },
  {
   "cell_type": "code",
   "execution_count": 46,
   "id": "88c8aeea",
   "metadata": {
    "execution": {
     "iopub.execute_input": "2023-01-15T17:16:41.979847Z",
     "iopub.status.busy": "2023-01-15T17:16:41.978862Z",
     "iopub.status.idle": "2023-01-15T17:16:53.983468Z",
     "shell.execute_reply": "2023-01-15T17:16:53.982620Z"
    },
    "papermill": {
     "duration": 12.045505,
     "end_time": "2023-01-15T17:16:53.986113",
     "exception": false,
     "start_time": "2023-01-15T17:16:41.940608",
     "status": "completed"
    },
    "tags": []
   },
   "outputs": [
    {
     "name": "stdout",
     "output_type": "stream",
     "text": [
      "RP3betaRecommender: Similarity column 24507 (100.0%), 2465.41 column/sec. Elapsed time 9.94 sec\n"
     ]
    }
   ],
   "source": [
    "RP3Beta = RP3betaRecommender(rp3_urm_all)\n",
    "RP3Beta.fit(**RP3Beta_params)"
   ]
  },
  {
   "cell_type": "code",
   "execution_count": 47,
   "id": "265d05ce",
   "metadata": {
    "execution": {
     "iopub.execute_input": "2023-01-15T17:16:54.060108Z",
     "iopub.status.busy": "2023-01-15T17:16:54.059267Z",
     "iopub.status.idle": "2023-01-15T17:29:35.913196Z",
     "shell.execute_reply": "2023-01-15T17:29:35.912245Z"
    },
    "papermill": {
     "duration": 761.91645,
     "end_time": "2023-01-15T17:29:35.938290",
     "exception": false,
     "start_time": "2023-01-15T17:16:54.021840",
     "status": "completed"
    },
    "tags": []
   },
   "outputs": [
    {
     "name": "stdout",
     "output_type": "stream",
     "text": [
      "IALSRecommender: Epoch 1 of 36. Elapsed time 22.16 sec\n",
      "IALSRecommender: Epoch 2 of 36. Elapsed time 44.11 sec\n",
      "IALSRecommender: Epoch 3 of 36. Elapsed time 1.09 min\n",
      "IALSRecommender: Epoch 4 of 36. Elapsed time 1.45 min\n",
      "IALSRecommender: Epoch 5 of 36. Elapsed time 1.82 min\n",
      "IALSRecommender: Epoch 6 of 36. Elapsed time 2.16 min\n",
      "IALSRecommender: Epoch 7 of 36. Elapsed time 2.53 min\n",
      "IALSRecommender: Epoch 8 of 36. Elapsed time 2.90 min\n",
      "IALSRecommender: Epoch 9 of 36. Elapsed time 3.24 min\n",
      "IALSRecommender: Epoch 10 of 36. Elapsed time 3.60 min\n",
      "IALSRecommender: Epoch 11 of 36. Elapsed time 3.97 min\n",
      "IALSRecommender: Epoch 12 of 36. Elapsed time 4.31 min\n",
      "IALSRecommender: Epoch 13 of 36. Elapsed time 4.66 min\n",
      "IALSRecommender: Epoch 14 of 36. Elapsed time 5.02 min\n",
      "IALSRecommender: Epoch 15 of 36. Elapsed time 5.36 min\n",
      "IALSRecommender: Epoch 16 of 36. Elapsed time 5.72 min\n",
      "IALSRecommender: Epoch 17 of 36. Elapsed time 6.07 min\n",
      "IALSRecommender: Epoch 18 of 36. Elapsed time 6.42 min\n",
      "IALSRecommender: Epoch 19 of 36. Elapsed time 6.77 min\n",
      "IALSRecommender: Epoch 20 of 36. Elapsed time 7.12 min\n",
      "IALSRecommender: Epoch 21 of 36. Elapsed time 7.47 min\n",
      "IALSRecommender: Epoch 22 of 36. Elapsed time 7.83 min\n",
      "IALSRecommender: Epoch 23 of 36. Elapsed time 8.18 min\n",
      "IALSRecommender: Epoch 24 of 36. Elapsed time 8.52 min\n",
      "IALSRecommender: Epoch 25 of 36. Elapsed time 8.88 min\n",
      "IALSRecommender: Epoch 26 of 36. Elapsed time 9.23 min\n",
      "IALSRecommender: Epoch 27 of 36. Elapsed time 9.57 min\n",
      "IALSRecommender: Epoch 28 of 36. Elapsed time 9.93 min\n",
      "IALSRecommender: Epoch 29 of 36. Elapsed time 10.28 min\n",
      "IALSRecommender: Epoch 30 of 36. Elapsed time 10.62 min\n",
      "IALSRecommender: Epoch 31 of 36. Elapsed time 10.97 min\n",
      "IALSRecommender: Epoch 32 of 36. Elapsed time 11.32 min\n",
      "IALSRecommender: Epoch 33 of 36. Elapsed time 11.65 min\n",
      "IALSRecommender: Epoch 34 of 36. Elapsed time 12.00 min\n",
      "IALSRecommender: Epoch 35 of 36. Elapsed time 12.36 min\n",
      "IALSRecommender: Epoch 36 of 36. Elapsed time 12.69 min\n",
      "IALSRecommender: Terminating at epoch 36. Elapsed time 12.69 min\n"
     ]
    }
   ],
   "source": [
    "IALS = IALSRecommender(urm_all)\n",
    "if LOAD_MODELS:\n",
    "    IALS.load_model(\"models\", \"IALS_all.zip\")\n",
    "else: \n",
    "    IALS.fit(**IALS_params)"
   ]
  },
  {
   "cell_type": "markdown",
   "id": "1cebc341",
   "metadata": {
    "execution": {
     "iopub.execute_input": "2023-01-14T10:49:47.342107Z",
     "iopub.status.busy": "2023-01-14T10:49:47.341622Z",
     "iopub.status.idle": "2023-01-14T10:49:47.349971Z",
     "shell.execute_reply": "2023-01-14T10:49:47.348176Z",
     "shell.execute_reply.started": "2023-01-14T10:49:47.342068Z"
    },
    "papermill": {
     "duration": 0.036936,
     "end_time": "2023-01-15T17:29:36.022299",
     "exception": false,
     "start_time": "2023-01-15T17:29:35.985363",
     "status": "completed"
    },
    "tags": []
   },
   "source": [
    "Fitting the hybrid"
   ]
  },
  {
   "cell_type": "code",
   "execution_count": 48,
   "id": "35e03dd3",
   "metadata": {
    "execution": {
     "iopub.execute_input": "2023-01-15T17:29:36.099624Z",
     "iopub.status.busy": "2023-01-15T17:29:36.099275Z",
     "iopub.status.idle": "2023-01-15T17:29:36.140291Z",
     "shell.execute_reply": "2023-01-15T17:29:36.138934Z"
    },
    "papermill": {
     "duration": 0.083436,
     "end_time": "2023-01-15T17:29:36.142897",
     "exception": false,
     "start_time": "2023-01-15T17:29:36.059461",
     "status": "completed"
    },
    "tags": []
   },
   "outputs": [],
   "source": [
    "recommenders = [SLIM_Elastic_all, RP3Beta, IALS] \n",
    "alphas = [2.351930632750354, 1.4190742269131145, 0.06628530616057444]\n",
    "\n",
    "hybrid_all = GeneralizedLinearHybridRecommender(urm_all, recommenders)\n",
    "\n",
    "hybrid_all.fit(alphas)"
   ]
  },
  {
   "cell_type": "markdown",
   "id": "4df3ad3e",
   "metadata": {
    "papermill": {
     "duration": 0.036556,
     "end_time": "2023-01-15T17:29:36.217926",
     "exception": false,
     "start_time": "2023-01-15T17:29:36.181370",
     "status": "completed"
    },
    "tags": []
   },
   "source": [
    "--------"
   ]
  },
  {
   "cell_type": "markdown",
   "id": "47d94eda",
   "metadata": {
    "papermill": {
     "duration": 0.036878,
     "end_time": "2023-01-15T17:29:36.291585",
     "exception": false,
     "start_time": "2023-01-15T17:29:36.254707",
     "status": "completed"
    },
    "tags": []
   },
   "source": [
    "### Submissions without reranking"
   ]
  },
  {
   "cell_type": "code",
   "execution_count": 49,
   "id": "98ad952c",
   "metadata": {
    "execution": {
     "iopub.execute_input": "2023-01-15T17:29:36.475815Z",
     "iopub.status.busy": "2023-01-15T17:29:36.475370Z",
     "iopub.status.idle": "2023-01-15T17:29:36.606805Z",
     "shell.execute_reply": "2023-01-15T17:29:36.605094Z"
    },
    "papermill": {
     "duration": 0.27957,
     "end_time": "2023-01-15T17:29:36.609558",
     "exception": false,
     "start_time": "2023-01-15T17:29:36.329988",
     "status": "completed"
    },
    "tags": []
   },
   "outputs": [],
   "source": [
    "target = pd.read_csv(filepath_or_buffer=\"/kaggle/input/recommender-system-2022-challenge-polimi/data_target_users_test.csv\",\n",
    "                                          sep=\",\",\n",
    "                                          header=0,\n",
    "                                          engine='python',\n",
    "                                          names=['id'])"
   ]
  },
  {
   "cell_type": "code",
   "execution_count": 50,
   "id": "86fa26b0",
   "metadata": {
    "execution": {
     "iopub.execute_input": "2023-01-15T17:29:36.687241Z",
     "iopub.status.busy": "2023-01-15T17:29:36.686792Z",
     "iopub.status.idle": "2023-01-15T17:29:36.695354Z",
     "shell.execute_reply": "2023-01-15T17:29:36.694373Z"
    },
    "papermill": {
     "duration": 0.049686,
     "end_time": "2023-01-15T17:29:36.697188",
     "exception": false,
     "start_time": "2023-01-15T17:29:36.647502",
     "status": "completed"
    },
    "tags": []
   },
   "outputs": [],
   "source": [
    "def write_recommendations(recommender, file_name):\n",
    "    recommendations = 'user_id,item_list'\n",
    "    f = open(file_name + \".csv\", \"w\")\n",
    "\n",
    "    for id in tqdm(target['id']):\n",
    "        recommendations_per_user = recommender.recommend(user_id_array=id, remove_seen_flag=True, cutoff=10)\n",
    "\n",
    "        recommendation_string = str(user_original_ID_to_index[user_original_ID_to_index==id].index.item()\n",
    "                                    ) + ','\n",
    "\n",
    "        for rec in recommendations_per_user:\n",
    "            recommendation_string = recommendation_string + str(item_original_ID_to_index[item_original_ID_to_index==rec].index.item()) + ' '\n",
    "\n",
    "        recommendation_string = recommendation_string[:-1]\n",
    "        recommendations = recommendations + '\\n' + recommendation_string\n",
    "\n",
    "    f.write(recommendations)\n",
    "    f.close()"
   ]
  },
  {
   "cell_type": "code",
   "execution_count": 51,
   "id": "e0bf98ec",
   "metadata": {
    "execution": {
     "iopub.execute_input": "2023-01-15T17:29:36.775807Z",
     "iopub.status.busy": "2023-01-15T17:29:36.775080Z",
     "iopub.status.idle": "2023-01-15T17:33:23.636857Z",
     "shell.execute_reply": "2023-01-15T17:33:23.635575Z"
    },
    "papermill": {
     "duration": 226.906953,
     "end_time": "2023-01-15T17:33:23.641901",
     "exception": false,
     "start_time": "2023-01-15T17:29:36.734948",
     "status": "completed"
    },
    "tags": []
   },
   "outputs": [
    {
     "name": "stderr",
     "output_type": "stream",
     "text": [
      "100%|██████████| 41116/41116 [03:46<00:00, 181.26it/s]\n"
     ]
    }
   ],
   "source": [
    "write_recommendations(recommender = hybrid_all, file_name = \"submission_norerank\")"
   ]
  },
  {
   "cell_type": "code",
   "execution_count": 52,
   "id": "9805a429",
   "metadata": {
    "execution": {
     "iopub.execute_input": "2023-01-15T17:33:23.997658Z",
     "iopub.status.busy": "2023-01-15T17:33:23.997229Z",
     "iopub.status.idle": "2023-01-15T17:33:24.049301Z",
     "shell.execute_reply": "2023-01-15T17:33:24.047584Z"
    },
    "papermill": {
     "duration": 0.218414,
     "end_time": "2023-01-15T17:33:24.051507",
     "exception": false,
     "start_time": "2023-01-15T17:33:23.833093",
     "status": "completed"
    },
    "tags": []
   },
   "outputs": [
    {
     "data": {
      "text/html": [
       "<div>\n",
       "<style scoped>\n",
       "    .dataframe tbody tr th:only-of-type {\n",
       "        vertical-align: middle;\n",
       "    }\n",
       "\n",
       "    .dataframe tbody tr th {\n",
       "        vertical-align: top;\n",
       "    }\n",
       "\n",
       "    .dataframe thead th {\n",
       "        text-align: right;\n",
       "    }\n",
       "</style>\n",
       "<table border=\"1\" class=\"dataframe\">\n",
       "  <thead>\n",
       "    <tr style=\"text-align: right;\">\n",
       "      <th></th>\n",
       "      <th>user_id</th>\n",
       "      <th>item_list</th>\n",
       "    </tr>\n",
       "  </thead>\n",
       "  <tbody>\n",
       "    <tr>\n",
       "      <th>0</th>\n",
       "      <td>0</td>\n",
       "      <td>20 391 752 617 18484 23 56 29 2488 2495</td>\n",
       "    </tr>\n",
       "    <tr>\n",
       "      <th>1</th>\n",
       "      <td>1</td>\n",
       "      <td>6874 665 1068 56 62 352 393 1689 61 124</td>\n",
       "    </tr>\n",
       "    <tr>\n",
       "      <th>2</th>\n",
       "      <td>2</td>\n",
       "      <td>121 7864 453 8819 22415 1308 21319 6712 1311 925</td>\n",
       "    </tr>\n",
       "    <tr>\n",
       "      <th>3</th>\n",
       "      <td>3</td>\n",
       "      <td>20 21 352 917 269 557 393 1911 169 22752</td>\n",
       "    </tr>\n",
       "    <tr>\n",
       "      <th>4</th>\n",
       "      <td>4</td>\n",
       "      <td>23 80 68 21 124 64 56 2119 436 541</td>\n",
       "    </tr>\n",
       "    <tr>\n",
       "      <th>...</th>\n",
       "      <td>...</td>\n",
       "      <td>...</td>\n",
       "    </tr>\n",
       "    <tr>\n",
       "      <th>41111</th>\n",
       "      <td>41624</td>\n",
       "      <td>22403 11552 10221 7864 15711 617 18939 752 148...</td>\n",
       "    </tr>\n",
       "    <tr>\n",
       "      <th>41112</th>\n",
       "      <td>41625</td>\n",
       "      <td>53 23 393 56 23200 60 598 1449 1068 25</td>\n",
       "    </tr>\n",
       "    <tr>\n",
       "      <th>41113</th>\n",
       "      <td>41626</td>\n",
       "      <td>387 21 270 22619 61 12118 598 3546 60 393</td>\n",
       "    </tr>\n",
       "    <tr>\n",
       "      <th>41114</th>\n",
       "      <td>41627</td>\n",
       "      <td>1214 1754 1859 4577 19705 1558 5136 5068 1561 ...</td>\n",
       "    </tr>\n",
       "    <tr>\n",
       "      <th>41115</th>\n",
       "      <td>41628</td>\n",
       "      <td>769 771 1022 2904 21 22 763 3596 6967 2512</td>\n",
       "    </tr>\n",
       "  </tbody>\n",
       "</table>\n",
       "<p>41116 rows × 2 columns</p>\n",
       "</div>"
      ],
      "text/plain": [
       "       user_id                                          item_list\n",
       "0            0            20 391 752 617 18484 23 56 29 2488 2495\n",
       "1            1            6874 665 1068 56 62 352 393 1689 61 124\n",
       "2            2   121 7864 453 8819 22415 1308 21319 6712 1311 925\n",
       "3            3           20 21 352 917 269 557 393 1911 169 22752\n",
       "4            4                 23 80 68 21 124 64 56 2119 436 541\n",
       "...        ...                                                ...\n",
       "41111    41624  22403 11552 10221 7864 15711 617 18939 752 148...\n",
       "41112    41625             53 23 393 56 23200 60 598 1449 1068 25\n",
       "41113    41626          387 21 270 22619 61 12118 598 3546 60 393\n",
       "41114    41627  1214 1754 1859 4577 19705 1558 5136 5068 1561 ...\n",
       "41115    41628         769 771 1022 2904 21 22 763 3596 6967 2512\n",
       "\n",
       "[41116 rows x 2 columns]"
      ]
     },
     "execution_count": 52,
     "metadata": {},
     "output_type": "execute_result"
    }
   ],
   "source": [
    "hybrid_submission = pd.read_csv(\"submission_norerank.csv\")\n",
    "hybrid_submission"
   ]
  },
  {
   "cell_type": "markdown",
   "id": "f298a460",
   "metadata": {
    "papermill": {
     "duration": 0.163271,
     "end_time": "2023-01-15T17:33:24.379477",
     "exception": false,
     "start_time": "2023-01-15T17:33:24.216206",
     "status": "completed"
    },
    "tags": []
   },
   "source": [
    "----------"
   ]
  },
  {
   "cell_type": "markdown",
   "id": "889cf35f",
   "metadata": {
    "papermill": {
     "duration": 0.162641,
     "end_time": "2023-01-15T17:33:24.706925",
     "exception": false,
     "start_time": "2023-01-15T17:33:24.544284",
     "status": "completed"
    },
    "tags": []
   },
   "source": [
    "## XGBoost"
   ]
  },
  {
   "cell_type": "code",
   "execution_count": 53,
   "id": "f65e3aaf",
   "metadata": {
    "execution": {
     "iopub.execute_input": "2023-01-15T17:33:25.031158Z",
     "iopub.status.busy": "2023-01-15T17:33:25.030718Z",
     "iopub.status.idle": "2023-01-15T17:33:25.037444Z",
     "shell.execute_reply": "2023-01-15T17:33:25.035888Z"
    },
    "papermill": {
     "duration": 0.171975,
     "end_time": "2023-01-15T17:33:25.040610",
     "exception": false,
     "start_time": "2023-01-15T17:33:24.868635",
     "status": "completed"
    },
    "tags": []
   },
   "outputs": [],
   "source": [
    "import pandas as pd\n",
    "import scipy.sparse as sps\n",
    "import numpy as np"
   ]
  },
  {
   "cell_type": "code",
   "execution_count": 54,
   "id": "2243f715",
   "metadata": {
    "execution": {
     "iopub.execute_input": "2023-01-15T17:33:25.365368Z",
     "iopub.status.busy": "2023-01-15T17:33:25.364910Z",
     "iopub.status.idle": "2023-01-15T17:33:25.401457Z",
     "shell.execute_reply": "2023-01-15T17:33:25.400733Z"
    },
    "papermill": {
     "duration": 0.203587,
     "end_time": "2023-01-15T17:33:25.403710",
     "exception": false,
     "start_time": "2023-01-15T17:33:25.200123",
     "status": "completed"
    },
    "tags": []
   },
   "outputs": [
    {
     "data": {
      "text/html": [
       "<div>\n",
       "<style scoped>\n",
       "    .dataframe tbody tr th:only-of-type {\n",
       "        vertical-align: middle;\n",
       "    }\n",
       "\n",
       "    .dataframe tbody tr th {\n",
       "        vertical-align: top;\n",
       "    }\n",
       "\n",
       "    .dataframe thead th {\n",
       "        text-align: right;\n",
       "    }\n",
       "</style>\n",
       "<table border=\"1\" class=\"dataframe\">\n",
       "  <thead>\n",
       "    <tr style=\"text-align: right;\">\n",
       "      <th></th>\n",
       "      <th>item_id</th>\n",
       "      <th>item_type</th>\n",
       "      <th>item_length</th>\n",
       "    </tr>\n",
       "  </thead>\n",
       "  <tbody>\n",
       "    <tr>\n",
       "      <th>0</th>\n",
       "      <td>3668.0</td>\n",
       "      <td>1</td>\n",
       "      <td>1</td>\n",
       "    </tr>\n",
       "    <tr>\n",
       "      <th>1</th>\n",
       "      <td>1945.0</td>\n",
       "      <td>3</td>\n",
       "      <td>1</td>\n",
       "    </tr>\n",
       "    <tr>\n",
       "      <th>2</th>\n",
       "      <td>18373.0</td>\n",
       "      <td>4</td>\n",
       "      <td>21</td>\n",
       "    </tr>\n",
       "    <tr>\n",
       "      <th>3</th>\n",
       "      <td>7153.0</td>\n",
       "      <td>1</td>\n",
       "      <td>1</td>\n",
       "    </tr>\n",
       "    <tr>\n",
       "      <th>4</th>\n",
       "      <td>3423.0</td>\n",
       "      <td>3</td>\n",
       "      <td>1</td>\n",
       "    </tr>\n",
       "    <tr>\n",
       "      <th>...</th>\n",
       "      <td>...</td>\n",
       "      <td>...</td>\n",
       "      <td>...</td>\n",
       "    </tr>\n",
       "    <tr>\n",
       "      <th>23086</th>\n",
       "      <td>NaN</td>\n",
       "      <td>1</td>\n",
       "      <td>1</td>\n",
       "    </tr>\n",
       "    <tr>\n",
       "      <th>23087</th>\n",
       "      <td>NaN</td>\n",
       "      <td>2</td>\n",
       "      <td>1</td>\n",
       "    </tr>\n",
       "    <tr>\n",
       "      <th>23088</th>\n",
       "      <td>NaN</td>\n",
       "      <td>1</td>\n",
       "      <td>1</td>\n",
       "    </tr>\n",
       "    <tr>\n",
       "      <th>23089</th>\n",
       "      <td>NaN</td>\n",
       "      <td>1</td>\n",
       "      <td>1</td>\n",
       "    </tr>\n",
       "    <tr>\n",
       "      <th>23090</th>\n",
       "      <td>NaN</td>\n",
       "      <td>4</td>\n",
       "      <td>2</td>\n",
       "    </tr>\n",
       "  </tbody>\n",
       "</table>\n",
       "<p>23091 rows × 3 columns</p>\n",
       "</div>"
      ],
      "text/plain": [
       "       item_id  item_type  item_length\n",
       "0       3668.0          1            1\n",
       "1       1945.0          3            1\n",
       "2      18373.0          4           21\n",
       "3       7153.0          1            1\n",
       "4       3423.0          3            1\n",
       "...        ...        ...          ...\n",
       "23086      NaN          1            1\n",
       "23087      NaN          2            1\n",
       "23088      NaN          1            1\n",
       "23089      NaN          1            1\n",
       "23090      NaN          4            2\n",
       "\n",
       "[23091 rows x 3 columns]"
      ]
     },
     "execution_count": 54,
     "metadata": {},
     "output_type": "execute_result"
    }
   ],
   "source": [
    "ICM_type = ICM_type.drop([\"data\"], axis=1) # drop the data column on type\n",
    "ICM_length = ICM_length.drop([\"feature_id\"], axis=1) # drop the featureId column on type\n",
    "\n",
    "ICM = ICM_type.merge(ICM_length, on=\"item_id\", how=\"left\")\n",
    "ICM.rename(columns={'data': 'item_length', \"feature_id\": \"item_type\"}, inplace=True)\n",
    "ICM['item_id'] = ICM['item_id'].map(item_original_ID_to_index)\n",
    "ICM"
   ]
  },
  {
   "cell_type": "code",
   "execution_count": 55,
   "id": "6d047d50",
   "metadata": {
    "execution": {
     "iopub.execute_input": "2023-01-15T17:33:25.797330Z",
     "iopub.status.busy": "2023-01-15T17:33:25.795869Z",
     "iopub.status.idle": "2023-01-15T17:33:25.817652Z",
     "shell.execute_reply": "2023-01-15T17:33:25.816329Z"
    },
    "papermill": {
     "duration": 0.25476,
     "end_time": "2023-01-15T17:33:25.820519",
     "exception": false,
     "start_time": "2023-01-15T17:33:25.565759",
     "status": "completed"
    },
    "tags": []
   },
   "outputs": [
    {
     "name": "stderr",
     "output_type": "stream",
     "text": [
      "/opt/conda/lib/python3.7/site-packages/ipykernel_launcher.py:2: SettingWithCopyWarning: \n",
      "A value is trying to be set on a copy of a slice from a DataFrame.\n",
      "Try using .loc[row_indexer,col_indexer] = value instead\n",
      "\n",
      "See the caveats in the documentation: https://pandas.pydata.org/pandas-docs/stable/user_guide/indexing.html#returning-a-view-versus-a-copy\n",
      "  \n"
     ]
    },
    {
     "data": {
      "text/html": [
       "<div>\n",
       "<style scoped>\n",
       "    .dataframe tbody tr th:only-of-type {\n",
       "        vertical-align: middle;\n",
       "    }\n",
       "\n",
       "    .dataframe tbody tr th {\n",
       "        vertical-align: top;\n",
       "    }\n",
       "\n",
       "    .dataframe thead th {\n",
       "        text-align: right;\n",
       "    }\n",
       "</style>\n",
       "<table border=\"1\" class=\"dataframe\">\n",
       "  <thead>\n",
       "    <tr style=\"text-align: right;\">\n",
       "      <th></th>\n",
       "      <th>item_id</th>\n",
       "      <th>item_type</th>\n",
       "      <th>item_length</th>\n",
       "    </tr>\n",
       "  </thead>\n",
       "  <tbody>\n",
       "    <tr>\n",
       "      <th>0</th>\n",
       "      <td>3668</td>\n",
       "      <td>1</td>\n",
       "      <td>1</td>\n",
       "    </tr>\n",
       "    <tr>\n",
       "      <th>1</th>\n",
       "      <td>1945</td>\n",
       "      <td>3</td>\n",
       "      <td>1</td>\n",
       "    </tr>\n",
       "    <tr>\n",
       "      <th>2</th>\n",
       "      <td>18373</td>\n",
       "      <td>4</td>\n",
       "      <td>21</td>\n",
       "    </tr>\n",
       "    <tr>\n",
       "      <th>3</th>\n",
       "      <td>7153</td>\n",
       "      <td>1</td>\n",
       "      <td>1</td>\n",
       "    </tr>\n",
       "    <tr>\n",
       "      <th>4</th>\n",
       "      <td>3423</td>\n",
       "      <td>3</td>\n",
       "      <td>1</td>\n",
       "    </tr>\n",
       "    <tr>\n",
       "      <th>...</th>\n",
       "      <td>...</td>\n",
       "      <td>...</td>\n",
       "      <td>...</td>\n",
       "    </tr>\n",
       "    <tr>\n",
       "      <th>19625</th>\n",
       "      <td>24300</td>\n",
       "      <td>1</td>\n",
       "      <td>1</td>\n",
       "    </tr>\n",
       "    <tr>\n",
       "      <th>19626</th>\n",
       "      <td>19410</td>\n",
       "      <td>4</td>\n",
       "      <td>6</td>\n",
       "    </tr>\n",
       "    <tr>\n",
       "      <th>19627</th>\n",
       "      <td>13665</td>\n",
       "      <td>1</td>\n",
       "      <td>1</td>\n",
       "    </tr>\n",
       "    <tr>\n",
       "      <th>19628</th>\n",
       "      <td>17793</td>\n",
       "      <td>4</td>\n",
       "      <td>1001</td>\n",
       "    </tr>\n",
       "    <tr>\n",
       "      <th>19629</th>\n",
       "      <td>24380</td>\n",
       "      <td>1</td>\n",
       "      <td>1</td>\n",
       "    </tr>\n",
       "  </tbody>\n",
       "</table>\n",
       "<p>19630 rows × 3 columns</p>\n",
       "</div>"
      ],
      "text/plain": [
       "       item_id  item_type  item_length\n",
       "0         3668          1            1\n",
       "1         1945          3            1\n",
       "2        18373          4           21\n",
       "3         7153          1            1\n",
       "4         3423          3            1\n",
       "...        ...        ...          ...\n",
       "19625    24300          1            1\n",
       "19626    19410          4            6\n",
       "19627    13665          1            1\n",
       "19628    17793          4         1001\n",
       "19629    24380          1            1\n",
       "\n",
       "[19630 rows x 3 columns]"
      ]
     },
     "execution_count": 55,
     "metadata": {},
     "output_type": "execute_result"
    }
   ],
   "source": [
    "ICM = ICM.dropna()\n",
    "ICM[\"item_id\"] = ICM[\"item_id\"].astype(int)\n",
    "ICM"
   ]
  },
  {
   "cell_type": "code",
   "execution_count": 56,
   "id": "e38d95d3",
   "metadata": {
    "execution": {
     "iopub.execute_input": "2023-01-15T17:33:26.154378Z",
     "iopub.status.busy": "2023-01-15T17:33:26.153960Z",
     "iopub.status.idle": "2023-01-15T17:33:26.163928Z",
     "shell.execute_reply": "2023-01-15T17:33:26.163219Z"
    },
    "papermill": {
     "duration": 0.183879,
     "end_time": "2023-01-15T17:33:26.165608",
     "exception": false,
     "start_time": "2023-01-15T17:33:25.981729",
     "status": "completed"
    },
    "tags": []
   },
   "outputs": [
    {
     "data": {
      "text/html": [
       "<div>\n",
       "<style scoped>\n",
       "    .dataframe tbody tr th:only-of-type {\n",
       "        vertical-align: middle;\n",
       "    }\n",
       "\n",
       "    .dataframe tbody tr th {\n",
       "        vertical-align: top;\n",
       "    }\n",
       "\n",
       "    .dataframe thead th {\n",
       "        text-align: right;\n",
       "    }\n",
       "</style>\n",
       "<table border=\"1\" class=\"dataframe\">\n",
       "  <thead>\n",
       "    <tr style=\"text-align: right;\">\n",
       "      <th></th>\n",
       "      <th>item_id</th>\n",
       "      <th>feature_id</th>\n",
       "      <th>data</th>\n",
       "    </tr>\n",
       "  </thead>\n",
       "  <tbody>\n",
       "    <tr>\n",
       "      <th>28568</th>\n",
       "      <td>17793</td>\n",
       "      <td>5</td>\n",
       "      <td>1001</td>\n",
       "    </tr>\n",
       "    <tr>\n",
       "      <th>28569</th>\n",
       "      <td>17793</td>\n",
       "      <td>4</td>\n",
       "      <td>1</td>\n",
       "    </tr>\n",
       "  </tbody>\n",
       "</table>\n",
       "</div>"
      ],
      "text/plain": [
       "       item_id  feature_id  data\n",
       "28568    17793           5  1001\n",
       "28569    17793           4     1"
      ]
     },
     "execution_count": 56,
     "metadata": {},
     "output_type": "execute_result"
    }
   ],
   "source": [
    "ICM_all[(ICM_all[\"item_id\"]==17793)]"
   ]
  },
  {
   "cell_type": "markdown",
   "id": "1c43bf02",
   "metadata": {
    "papermill": {
     "duration": 0.163386,
     "end_time": "2023-01-15T17:33:26.489222",
     "exception": false,
     "start_time": "2023-01-15T17:33:26.325836",
     "status": "completed"
    },
    "tags": []
   },
   "source": [
    "### Building the recommenders for the XGBoost training"
   ]
  },
  {
   "cell_type": "code",
   "execution_count": 57,
   "id": "a60fc602",
   "metadata": {
    "execution": {
     "iopub.execute_input": "2023-01-15T17:33:26.822135Z",
     "iopub.status.busy": "2023-01-15T17:33:26.821514Z",
     "iopub.status.idle": "2023-01-15T17:54:27.230273Z",
     "shell.execute_reply": "2023-01-15T17:54:27.229285Z"
    },
    "papermill": {
     "duration": 1260.714116,
     "end_time": "2023-01-15T17:54:27.365880",
     "exception": false,
     "start_time": "2023-01-15T17:33:26.651764",
     "status": "completed"
    },
    "tags": []
   },
   "outputs": [
    {
     "name": "stdout",
     "output_type": "stream",
     "text": [
      "SLIMElasticNetRecommender: Processed 5305 (21.6%) in 5.00 min. Items per second: 17.68\n",
      "SLIMElasticNetRecommender: Processed 11110 (45.3%) in 10.00 min. Items per second: 18.51\n",
      "SLIMElasticNetRecommender: Processed 17100 (69.8%) in 15.00 min. Items per second: 19.00\n",
      "SLIMElasticNetRecommender: Processed 23233 (94.8%) in 20.00 min. Items per second: 19.36\n",
      "SLIMElasticNetRecommender: Processed 24507 (100.0%) in 21.01 min. Items per second: 19.44\n"
     ]
    }
   ],
   "source": [
    "SLIM_Elastic_train = SLIMElasticNetRecommender(stacked_urm_train)\n",
    "SLIM_Elastic_train.fit(**SLIM_Elastic_params)"
   ]
  },
  {
   "cell_type": "code",
   "execution_count": 58,
   "id": "6b2c0b6b",
   "metadata": {
    "execution": {
     "iopub.execute_input": "2023-01-15T17:54:27.679987Z",
     "iopub.status.busy": "2023-01-15T17:54:27.679198Z",
     "iopub.status.idle": "2023-01-15T17:54:38.060295Z",
     "shell.execute_reply": "2023-01-15T17:54:38.059267Z"
    },
    "papermill": {
     "duration": 10.540731,
     "end_time": "2023-01-15T17:54:38.063144",
     "exception": false,
     "start_time": "2023-01-15T17:54:27.522413",
     "status": "completed"
    },
    "tags": []
   },
   "outputs": [
    {
     "name": "stdout",
     "output_type": "stream",
     "text": [
      "RP3betaRecommender: Similarity column 24507 (100.0%), 2952.92 column/sec. Elapsed time 8.30 sec\n"
     ]
    }
   ],
   "source": [
    "RP3Beta_train = RP3betaRecommender(rp3_urm_train)\n",
    "RP3Beta_train.fit(**RP3Beta_params)"
   ]
  },
  {
   "cell_type": "code",
   "execution_count": 59,
   "id": "137582b0",
   "metadata": {
    "execution": {
     "iopub.execute_input": "2023-01-15T17:54:38.376440Z",
     "iopub.status.busy": "2023-01-15T17:54:38.375725Z",
     "iopub.status.idle": "2023-01-15T18:06:57.625420Z",
     "shell.execute_reply": "2023-01-15T18:06:57.624521Z"
    },
    "papermill": {
     "duration": 739.537129,
     "end_time": "2023-01-15T18:06:57.755426",
     "exception": false,
     "start_time": "2023-01-15T17:54:38.218297",
     "status": "completed"
    },
    "tags": []
   },
   "outputs": [
    {
     "name": "stdout",
     "output_type": "stream",
     "text": [
      "IALSRecommender: Epoch 1 of 36. Elapsed time 19.70 sec\n",
      "IALSRecommender: Epoch 2 of 36. Elapsed time 40.66 sec\n",
      "IALSRecommender: Epoch 3 of 36. Elapsed time 1.03 min\n",
      "IALSRecommender: Epoch 4 of 36. Elapsed time 1.37 min\n",
      "IALSRecommender: Epoch 5 of 36. Elapsed time 1.72 min\n",
      "IALSRecommender: Epoch 6 of 36. Elapsed time 2.07 min\n",
      "IALSRecommender: Epoch 7 of 36. Elapsed time 2.40 min\n",
      "IALSRecommender: Epoch 8 of 36. Elapsed time 2.75 min\n",
      "IALSRecommender: Epoch 9 of 36. Elapsed time 3.09 min\n",
      "IALSRecommender: Epoch 10 of 36. Elapsed time 3.42 min\n",
      "IALSRecommender: Epoch 11 of 36. Elapsed time 3.76 min\n",
      "IALSRecommender: Epoch 12 of 36. Elapsed time 4.11 min\n",
      "IALSRecommender: Epoch 13 of 36. Elapsed time 4.45 min\n",
      "IALSRecommender: Epoch 14 of 36. Elapsed time 4.80 min\n",
      "IALSRecommender: Epoch 15 of 36. Elapsed time 5.15 min\n",
      "IALSRecommender: Epoch 16 of 36. Elapsed time 5.48 min\n",
      "IALSRecommender: Epoch 17 of 36. Elapsed time 5.83 min\n",
      "IALSRecommender: Epoch 18 of 36. Elapsed time 6.18 min\n",
      "IALSRecommender: Epoch 19 of 36. Elapsed time 6.51 min\n",
      "IALSRecommender: Epoch 20 of 36. Elapsed time 6.85 min\n",
      "IALSRecommender: Epoch 21 of 36. Elapsed time 7.19 min\n",
      "IALSRecommender: Epoch 22 of 36. Elapsed time 7.53 min\n",
      "IALSRecommender: Epoch 23 of 36. Elapsed time 7.88 min\n",
      "IALSRecommender: Epoch 24 of 36. Elapsed time 8.20 min\n",
      "IALSRecommender: Epoch 25 of 36. Elapsed time 8.56 min\n",
      "IALSRecommender: Epoch 26 of 36. Elapsed time 8.91 min\n",
      "IALSRecommender: Epoch 27 of 36. Elapsed time 9.24 min\n",
      "IALSRecommender: Epoch 28 of 36. Elapsed time 9.59 min\n",
      "IALSRecommender: Epoch 29 of 36. Elapsed time 9.94 min\n",
      "IALSRecommender: Epoch 30 of 36. Elapsed time 10.28 min\n",
      "IALSRecommender: Epoch 31 of 36. Elapsed time 10.63 min\n",
      "IALSRecommender: Epoch 32 of 36. Elapsed time 10.98 min\n",
      "IALSRecommender: Epoch 33 of 36. Elapsed time 11.30 min\n",
      "IALSRecommender: Epoch 34 of 36. Elapsed time 11.64 min\n",
      "IALSRecommender: Epoch 35 of 36. Elapsed time 11.99 min\n",
      "IALSRecommender: Epoch 36 of 36. Elapsed time 12.32 min\n",
      "IALSRecommender: Terminating at epoch 36. Elapsed time 12.32 min\n"
     ]
    }
   ],
   "source": [
    "IALS_train = IALSRecommender(urm_train)\n",
    "if LOAD_MODELS:\n",
    "    IALS_train.load_model(\"models\", \"IALS_train_validation.zip\")\n",
    "else: \n",
    "    IALS_train.fit(**IALS_params)"
   ]
  },
  {
   "cell_type": "markdown",
   "id": "985afee0",
   "metadata": {
    "papermill": {
     "duration": 0.157443,
     "end_time": "2023-01-15T18:06:58.072955",
     "exception": false,
     "start_time": "2023-01-15T18:06:57.915512",
     "status": "completed"
    },
    "tags": []
   },
   "source": [
    "And the hybrid"
   ]
  },
  {
   "cell_type": "code",
   "execution_count": 60,
   "id": "c65075ba",
   "metadata": {
    "execution": {
     "iopub.execute_input": "2023-01-15T18:06:58.387861Z",
     "iopub.status.busy": "2023-01-15T18:06:58.387509Z",
     "iopub.status.idle": "2023-01-15T18:06:58.423292Z",
     "shell.execute_reply": "2023-01-15T18:06:58.422207Z"
    },
    "papermill": {
     "duration": 0.196547,
     "end_time": "2023-01-15T18:06:58.425800",
     "exception": false,
     "start_time": "2023-01-15T18:06:58.229253",
     "status": "completed"
    },
    "tags": []
   },
   "outputs": [],
   "source": [
    "recommenders_train = [SLIM_Elastic_train, RP3Beta_train, IALS_train] \n",
    "\n",
    "hybrid_train = GeneralizedLinearHybridRecommender(urm_train, recommenders_train)\n",
    "\n",
    "hybrid_train.fit(alphas)"
   ]
  },
  {
   "cell_type": "markdown",
   "id": "987d3c69",
   "metadata": {
    "papermill": {
     "duration": 0.227782,
     "end_time": "2023-01-15T18:06:58.808498",
     "exception": false,
     "start_time": "2023-01-15T18:06:58.580716",
     "status": "completed"
    },
    "tags": []
   },
   "source": [
    "### First, we prepare the df for the training"
   ]
  },
  {
   "cell_type": "code",
   "execution_count": 61,
   "id": "e38eb1b1",
   "metadata": {
    "execution": {
     "iopub.execute_input": "2023-01-15T18:06:59.124296Z",
     "iopub.status.busy": "2023-01-15T18:06:59.123885Z",
     "iopub.status.idle": "2023-01-15T18:06:59.128985Z",
     "shell.execute_reply": "2023-01-15T18:06:59.127913Z"
    },
    "papermill": {
     "duration": 0.165348,
     "end_time": "2023-01-15T18:06:59.130839",
     "exception": false,
     "start_time": "2023-01-15T18:06:58.965491",
     "status": "completed"
    },
    "tags": []
   },
   "outputs": [],
   "source": [
    "cutoff = 35"
   ]
  },
  {
   "cell_type": "code",
   "execution_count": 62,
   "id": "e22a44ad",
   "metadata": {
    "execution": {
     "iopub.execute_input": "2023-01-15T18:06:59.447739Z",
     "iopub.status.busy": "2023-01-15T18:06:59.447403Z",
     "iopub.status.idle": "2023-01-15T18:06:59.466593Z",
     "shell.execute_reply": "2023-01-15T18:06:59.464916Z"
    },
    "papermill": {
     "duration": 0.180892,
     "end_time": "2023-01-15T18:06:59.469516",
     "exception": false,
     "start_time": "2023-01-15T18:06:59.288624",
     "status": "completed"
    },
    "tags": []
   },
   "outputs": [],
   "source": [
    "n_users, n_items = urm_train.shape\n",
    "\n",
    "training_dataframe = pd.DataFrame(index=range(0,n_users), columns = [\"ItemID\"])\n",
    "training_dataframe.index.name='UserID'\n",
    "\n",
    "candidate_generator_recommender = hybrid_train"
   ]
  },
  {
   "cell_type": "code",
   "execution_count": 63,
   "id": "707a055e",
   "metadata": {
    "execution": {
     "iopub.execute_input": "2023-01-15T18:06:59.788995Z",
     "iopub.status.busy": "2023-01-15T18:06:59.787313Z",
     "iopub.status.idle": "2023-01-15T18:08:37.680643Z",
     "shell.execute_reply": "2023-01-15T18:08:37.679221Z"
    },
    "papermill": {
     "duration": 98.055345,
     "end_time": "2023-01-15T18:08:37.683660",
     "exception": false,
     "start_time": "2023-01-15T18:06:59.628315",
     "status": "completed"
    },
    "tags": []
   },
   "outputs": [
    {
     "name": "stderr",
     "output_type": "stream",
     "text": [
      "100%|██████████| 41629/41629 [01:37<00:00, 426.41it/s]\n"
     ]
    }
   ],
   "source": [
    "for user_id in tqdm(range(n_users)):    \n",
    "    recommendations = candidate_generator_recommender.recommend(user_id, cutoff = cutoff)\n",
    "    training_dataframe.loc[user_id, \"ItemID\"] = recommendations\n",
    "\n",
    "training_dataframe = training_dataframe.explode(\"ItemID\")"
   ]
  },
  {
   "cell_type": "code",
   "execution_count": 64,
   "id": "b2259a3e",
   "metadata": {
    "execution": {
     "iopub.execute_input": "2023-01-15T18:08:38.115106Z",
     "iopub.status.busy": "2023-01-15T18:08:38.113576Z",
     "iopub.status.idle": "2023-01-15T18:08:39.119013Z",
     "shell.execute_reply": "2023-01-15T18:08:39.117734Z"
    },
    "papermill": {
     "duration": 1.21552,
     "end_time": "2023-01-15T18:08:39.120943",
     "exception": false,
     "start_time": "2023-01-15T18:08:37.905423",
     "status": "completed"
    },
    "tags": []
   },
   "outputs": [
    {
     "data": {
      "text/html": [
       "<div>\n",
       "<style scoped>\n",
       "    .dataframe tbody tr th:only-of-type {\n",
       "        vertical-align: middle;\n",
       "    }\n",
       "\n",
       "    .dataframe tbody tr th {\n",
       "        vertical-align: top;\n",
       "    }\n",
       "\n",
       "    .dataframe thead th {\n",
       "        text-align: right;\n",
       "    }\n",
       "</style>\n",
       "<table border=\"1\" class=\"dataframe\">\n",
       "  <thead>\n",
       "    <tr style=\"text-align: right;\">\n",
       "      <th></th>\n",
       "      <th>UserID</th>\n",
       "      <th>ItemID</th>\n",
       "      <th>Label</th>\n",
       "    </tr>\n",
       "  </thead>\n",
       "  <tbody>\n",
       "    <tr>\n",
       "      <th>0</th>\n",
       "      <td>0</td>\n",
       "      <td>2</td>\n",
       "      <td>True</td>\n",
       "    </tr>\n",
       "    <tr>\n",
       "      <th>1</th>\n",
       "      <td>0</td>\n",
       "      <td>175</td>\n",
       "      <td>False</td>\n",
       "    </tr>\n",
       "    <tr>\n",
       "      <th>2</th>\n",
       "      <td>0</td>\n",
       "      <td>111</td>\n",
       "      <td>False</td>\n",
       "    </tr>\n",
       "    <tr>\n",
       "      <th>3</th>\n",
       "      <td>0</td>\n",
       "      <td>108</td>\n",
       "      <td>False</td>\n",
       "    </tr>\n",
       "    <tr>\n",
       "      <th>4</th>\n",
       "      <td>0</td>\n",
       "      <td>88</td>\n",
       "      <td>False</td>\n",
       "    </tr>\n",
       "    <tr>\n",
       "      <th>...</th>\n",
       "      <td>...</td>\n",
       "      <td>...</td>\n",
       "      <td>...</td>\n",
       "    </tr>\n",
       "    <tr>\n",
       "      <th>1457010</th>\n",
       "      <td>41628</td>\n",
       "      <td>2042</td>\n",
       "      <td>False</td>\n",
       "    </tr>\n",
       "    <tr>\n",
       "      <th>1457011</th>\n",
       "      <td>41628</td>\n",
       "      <td>103</td>\n",
       "      <td>False</td>\n",
       "    </tr>\n",
       "    <tr>\n",
       "      <th>1457012</th>\n",
       "      <td>41628</td>\n",
       "      <td>17670</td>\n",
       "      <td>False</td>\n",
       "    </tr>\n",
       "    <tr>\n",
       "      <th>1457013</th>\n",
       "      <td>41628</td>\n",
       "      <td>958</td>\n",
       "      <td>False</td>\n",
       "    </tr>\n",
       "    <tr>\n",
       "      <th>1457014</th>\n",
       "      <td>41628</td>\n",
       "      <td>379</td>\n",
       "      <td>False</td>\n",
       "    </tr>\n",
       "  </tbody>\n",
       "</table>\n",
       "<p>1457015 rows × 3 columns</p>\n",
       "</div>"
      ],
      "text/plain": [
       "         UserID ItemID  Label\n",
       "0             0      2   True\n",
       "1             0    175  False\n",
       "2             0    111  False\n",
       "3             0    108  False\n",
       "4             0     88  False\n",
       "...         ...    ...    ...\n",
       "1457010   41628   2042  False\n",
       "1457011   41628    103  False\n",
       "1457012   41628  17670  False\n",
       "1457013   41628    958  False\n",
       "1457014   41628    379  False\n",
       "\n",
       "[1457015 rows x 3 columns]"
      ]
     },
     "execution_count": 64,
     "metadata": {},
     "output_type": "execute_result"
    }
   ],
   "source": [
    "urm_validation_coo = sps.coo_matrix(urm_validation)\n",
    "\n",
    "correct_recommendations = pd.DataFrame({\"UserID\": urm_validation_coo.row,\n",
    "                                        \"ItemID\": urm_validation_coo.col})\n",
    "\n",
    "training_dataframe = pd.merge(training_dataframe, correct_recommendations, on=['UserID','ItemID'], how='left', indicator='Exist')\n",
    "\n",
    "training_dataframe[\"Label\"] = training_dataframe[\"Exist\"] == \"both\"\n",
    "training_dataframe.drop(columns = ['Exist'], inplace=True)\n",
    "training_dataframe"
   ]
  },
  {
   "cell_type": "markdown",
   "id": "ed263d68",
   "metadata": {
    "papermill": {
     "duration": 0.209764,
     "end_time": "2023-01-15T18:08:39.607100",
     "exception": false,
     "start_time": "2023-01-15T18:08:39.397336",
     "status": "completed"
    },
    "tags": []
   },
   "source": [
    "**We add features to the df:**\n",
    "- first we train some models\n",
    "- then we add their computed scores to the XGB Train Df"
   ]
  },
  {
   "cell_type": "code",
   "execution_count": 65,
   "id": "86b9cfc2",
   "metadata": {
    "execution": {
     "iopub.execute_input": "2023-01-15T18:08:40.024092Z",
     "iopub.status.busy": "2023-01-15T18:08:40.023365Z",
     "iopub.status.idle": "2023-01-15T18:09:32.148175Z",
     "shell.execute_reply": "2023-01-15T18:09:32.146283Z"
    },
    "papermill": {
     "duration": 52.335582,
     "end_time": "2023-01-15T18:09:32.150970",
     "exception": false,
     "start_time": "2023-01-15T18:08:39.815388",
     "status": "completed"
    },
    "tags": []
   },
   "outputs": [
    {
     "name": "stdout",
     "output_type": "stream",
     "text": [
      "ItemKNN_CFCBF_HybridRecommender: ICM Detected 4877 (19.9%) items with no features.\n",
      "Similarity column 24507 (100.0%), 1642.30 column/sec. Elapsed time 14.92 sec\n",
      "Similarity column 41629 (100.0%), 1799.54 column/sec. Elapsed time 23.13 sec\n",
      "P3alphaRecommender: Similarity column 24507 (100.0%), 2720.16 column/sec. Elapsed time 9.01 sec\n"
     ]
    }
   ],
   "source": [
    "ItemKNN_CFCBF_train = ItemKNN_CFCBF_Hybrid_Recommender(urm_train, icm_all)\n",
    "ItemKNN_CFCBF_train.fit(**ItemKNN_CFCBF_params)\n",
    "\n",
    "UserKNN_train = UserKNNCFRecommender(urm_train)\n",
    "UserKNN_train.fit(**UserKNN_params)\n",
    "\n",
    "P3Alpha_train = P3alphaRecommender(urm_train)\n",
    "P3Alpha_train.fit(**P3Alpha_params)\n",
    "\n",
    "other_algorithms = {\n",
    "    \"Hybrid\": hybrid_train,\n",
    "    \"SLIM_Elastic\": SLIM_Elastic_train,\n",
    "    \"RP3Beta\": RP3Beta_train,\n",
    "    \"ItemKNN_CFCBF\": ItemKNN_CFCBF_train,\n",
    "    \"UserKNN\": UserKNN_train,\n",
    "    \"IALS\": IALS_train,\n",
    "    \"P3Alpha\": P3Alpha_train,\n",
    "}"
   ]
  },
  {
   "cell_type": "code",
   "execution_count": 66,
   "id": "fdbed406",
   "metadata": {
    "execution": {
     "iopub.execute_input": "2023-01-15T18:09:32.610811Z",
     "iopub.status.busy": "2023-01-15T18:09:32.609804Z",
     "iopub.status.idle": "2023-01-15T18:22:27.719660Z",
     "shell.execute_reply": "2023-01-15T18:22:27.718529Z"
    },
    "papermill": {
     "duration": 775.323775,
     "end_time": "2023-01-15T18:22:27.722097",
     "exception": false,
     "start_time": "2023-01-15T18:09:32.398322",
     "status": "completed"
    },
    "tags": []
   },
   "outputs": [
    {
     "name": "stderr",
     "output_type": "stream",
     "text": [
      "100%|██████████| 41629/41629 [12:55<00:00, 53.71it/s]\n"
     ]
    },
    {
     "data": {
      "text/html": [
       "<div>\n",
       "<style scoped>\n",
       "    .dataframe tbody tr th:only-of-type {\n",
       "        vertical-align: middle;\n",
       "    }\n",
       "\n",
       "    .dataframe tbody tr th {\n",
       "        vertical-align: top;\n",
       "    }\n",
       "\n",
       "    .dataframe thead th {\n",
       "        text-align: right;\n",
       "    }\n",
       "</style>\n",
       "<table border=\"1\" class=\"dataframe\">\n",
       "  <thead>\n",
       "    <tr style=\"text-align: right;\">\n",
       "      <th></th>\n",
       "      <th>UserID</th>\n",
       "      <th>ItemID</th>\n",
       "      <th>Label</th>\n",
       "      <th>Hybrid</th>\n",
       "      <th>SLIM_Elastic</th>\n",
       "      <th>RP3Beta</th>\n",
       "      <th>ItemKNN_CFCBF</th>\n",
       "      <th>UserKNN</th>\n",
       "      <th>IALS</th>\n",
       "      <th>P3Alpha</th>\n",
       "    </tr>\n",
       "  </thead>\n",
       "  <tbody>\n",
       "    <tr>\n",
       "      <th>0</th>\n",
       "      <td>0</td>\n",
       "      <td>2</td>\n",
       "      <td>True</td>\n",
       "      <td>0.747181</td>\n",
       "      <td>0.203044</td>\n",
       "      <td>0.187012</td>\n",
       "      <td>0.483225</td>\n",
       "      <td>6.875664</td>\n",
       "      <td>0.064130</td>\n",
       "      <td>0.123025</td>\n",
       "    </tr>\n",
       "    <tr>\n",
       "      <th>1</th>\n",
       "      <td>0</td>\n",
       "      <td>175</td>\n",
       "      <td>False</td>\n",
       "      <td>0.628614</td>\n",
       "      <td>0.201045</td>\n",
       "      <td>0.083669</td>\n",
       "      <td>0.319717</td>\n",
       "      <td>4.577500</td>\n",
       "      <td>0.558769</td>\n",
       "      <td>0.056642</td>\n",
       "    </tr>\n",
       "    <tr>\n",
       "      <th>2</th>\n",
       "      <td>0</td>\n",
       "      <td>111</td>\n",
       "      <td>False</td>\n",
       "      <td>0.617020</td>\n",
       "      <td>0.201354</td>\n",
       "      <td>0.082889</td>\n",
       "      <td>0.398465</td>\n",
       "      <td>1.467862</td>\n",
       "      <td>0.389578</td>\n",
       "      <td>0.047010</td>\n",
       "    </tr>\n",
       "    <tr>\n",
       "      <th>3</th>\n",
       "      <td>0</td>\n",
       "      <td>108</td>\n",
       "      <td>False</td>\n",
       "      <td>0.605981</td>\n",
       "      <td>0.193164</td>\n",
       "      <td>0.084707</td>\n",
       "      <td>0.473874</td>\n",
       "      <td>3.770549</td>\n",
       "      <td>0.474713</td>\n",
       "      <td>0.049158</td>\n",
       "    </tr>\n",
       "    <tr>\n",
       "      <th>4</th>\n",
       "      <td>0</td>\n",
       "      <td>88</td>\n",
       "      <td>False</td>\n",
       "      <td>0.572219</td>\n",
       "      <td>0.144053</td>\n",
       "      <td>0.151315</td>\n",
       "      <td>0.521039</td>\n",
       "      <td>6.207745</td>\n",
       "      <td>0.281953</td>\n",
       "      <td>0.000000</td>\n",
       "    </tr>\n",
       "    <tr>\n",
       "      <th>...</th>\n",
       "      <td>...</td>\n",
       "      <td>...</td>\n",
       "      <td>...</td>\n",
       "      <td>...</td>\n",
       "      <td>...</td>\n",
       "      <td>...</td>\n",
       "      <td>...</td>\n",
       "      <td>...</td>\n",
       "      <td>...</td>\n",
       "      <td>...</td>\n",
       "    </tr>\n",
       "    <tr>\n",
       "      <th>1457010</th>\n",
       "      <td>41628</td>\n",
       "      <td>2042</td>\n",
       "      <td>False</td>\n",
       "      <td>0.086856</td>\n",
       "      <td>0.022511</td>\n",
       "      <td>0.021935</td>\n",
       "      <td>0.097674</td>\n",
       "      <td>0.000000</td>\n",
       "      <td>0.042027</td>\n",
       "      <td>0.008274</td>\n",
       "    </tr>\n",
       "    <tr>\n",
       "      <th>1457011</th>\n",
       "      <td>41628</td>\n",
       "      <td>103</td>\n",
       "      <td>False</td>\n",
       "      <td>0.084558</td>\n",
       "      <td>0.034853</td>\n",
       "      <td>0.000000</td>\n",
       "      <td>0.000000</td>\n",
       "      <td>5.720413</td>\n",
       "      <td>0.039001</td>\n",
       "      <td>0.000000</td>\n",
       "    </tr>\n",
       "    <tr>\n",
       "      <th>1457012</th>\n",
       "      <td>41628</td>\n",
       "      <td>17670</td>\n",
       "      <td>False</td>\n",
       "      <td>0.083563</td>\n",
       "      <td>0.023314</td>\n",
       "      <td>0.019073</td>\n",
       "      <td>0.097231</td>\n",
       "      <td>0.000000</td>\n",
       "      <td>0.025089</td>\n",
       "      <td>0.007410</td>\n",
       "    </tr>\n",
       "    <tr>\n",
       "      <th>1457013</th>\n",
       "      <td>41628</td>\n",
       "      <td>958</td>\n",
       "      <td>False</td>\n",
       "      <td>0.083279</td>\n",
       "      <td>0.032724</td>\n",
       "      <td>0.000000</td>\n",
       "      <td>0.000000</td>\n",
       "      <td>2.662573</td>\n",
       "      <td>0.095279</td>\n",
       "      <td>0.000000</td>\n",
       "    </tr>\n",
       "    <tr>\n",
       "      <th>1457014</th>\n",
       "      <td>41628</td>\n",
       "      <td>379</td>\n",
       "      <td>False</td>\n",
       "      <td>0.082973</td>\n",
       "      <td>0.025649</td>\n",
       "      <td>0.012936</td>\n",
       "      <td>0.000000</td>\n",
       "      <td>1.814341</td>\n",
       "      <td>0.064710</td>\n",
       "      <td>0.000000</td>\n",
       "    </tr>\n",
       "  </tbody>\n",
       "</table>\n",
       "<p>1457015 rows × 10 columns</p>\n",
       "</div>"
      ],
      "text/plain": [
       "         UserID ItemID  Label    Hybrid  SLIM_Elastic   RP3Beta  \\\n",
       "0             0      2   True  0.747181      0.203044  0.187012   \n",
       "1             0    175  False  0.628614      0.201045  0.083669   \n",
       "2             0    111  False  0.617020      0.201354  0.082889   \n",
       "3             0    108  False  0.605981      0.193164  0.084707   \n",
       "4             0     88  False  0.572219      0.144053  0.151315   \n",
       "...         ...    ...    ...       ...           ...       ...   \n",
       "1457010   41628   2042  False  0.086856      0.022511  0.021935   \n",
       "1457011   41628    103  False  0.084558      0.034853  0.000000   \n",
       "1457012   41628  17670  False  0.083563      0.023314  0.019073   \n",
       "1457013   41628    958  False  0.083279      0.032724  0.000000   \n",
       "1457014   41628    379  False  0.082973      0.025649  0.012936   \n",
       "\n",
       "         ItemKNN_CFCBF   UserKNN      IALS   P3Alpha  \n",
       "0             0.483225  6.875664  0.064130  0.123025  \n",
       "1             0.319717  4.577500  0.558769  0.056642  \n",
       "2             0.398465  1.467862  0.389578  0.047010  \n",
       "3             0.473874  3.770549  0.474713  0.049158  \n",
       "4             0.521039  6.207745  0.281953  0.000000  \n",
       "...                ...       ...       ...       ...  \n",
       "1457010       0.097674  0.000000  0.042027  0.008274  \n",
       "1457011       0.000000  5.720413  0.039001  0.000000  \n",
       "1457012       0.097231  0.000000  0.025089  0.007410  \n",
       "1457013       0.000000  2.662573  0.095279  0.000000  \n",
       "1457014       0.000000  1.814341  0.064710  0.000000  \n",
       "\n",
       "[1457015 rows x 10 columns]"
      ]
     },
     "execution_count": 66,
     "metadata": {},
     "output_type": "execute_result"
    }
   ],
   "source": [
    "training_dataframe = training_dataframe.set_index('UserID')\n",
    "\n",
    "for user_id in tqdm(range(n_users)):       \n",
    "    for rec_label, rec_instance in other_algorithms.items():\n",
    "        \n",
    "        item_list = training_dataframe.loc[user_id, \"ItemID\"].values.tolist()\n",
    "        \n",
    "        all_item_scores = rec_instance._compute_item_score([user_id], items_to_compute = item_list)\n",
    "\n",
    "        training_dataframe.loc[user_id, rec_label] = all_item_scores[0, item_list] \n",
    "\n",
    "training_dataframe = training_dataframe.reset_index()\n",
    "training_dataframe = training_dataframe.rename(columns = {\"index\": \"UserID\"})\n",
    "training_dataframe"
   ]
  },
  {
   "cell_type": "code",
   "execution_count": 67,
   "id": "f9f31555",
   "metadata": {
    "execution": {
     "iopub.execute_input": "2023-01-15T18:22:28.977446Z",
     "iopub.status.busy": "2023-01-15T18:22:28.977095Z",
     "iopub.status.idle": "2023-01-15T18:22:29.066637Z",
     "shell.execute_reply": "2023-01-15T18:22:29.064982Z"
    },
    "papermill": {
     "duration": 0.678711,
     "end_time": "2023-01-15T18:22:29.069686",
     "exception": false,
     "start_time": "2023-01-15T18:22:28.390975",
     "status": "completed"
    },
    "tags": []
   },
   "outputs": [
    {
     "data": {
      "text/html": [
       "<div>\n",
       "<style scoped>\n",
       "    .dataframe tbody tr th:only-of-type {\n",
       "        vertical-align: middle;\n",
       "    }\n",
       "\n",
       "    .dataframe tbody tr th {\n",
       "        vertical-align: top;\n",
       "    }\n",
       "\n",
       "    .dataframe thead th {\n",
       "        text-align: right;\n",
       "    }\n",
       "</style>\n",
       "<table border=\"1\" class=\"dataframe\">\n",
       "  <thead>\n",
       "    <tr style=\"text-align: right;\">\n",
       "      <th></th>\n",
       "      <th>UserID</th>\n",
       "      <th>ItemID</th>\n",
       "      <th>Label</th>\n",
       "      <th>Hybrid</th>\n",
       "      <th>SLIM_Elastic</th>\n",
       "      <th>RP3Beta</th>\n",
       "      <th>ItemKNN_CFCBF</th>\n",
       "      <th>UserKNN</th>\n",
       "      <th>IALS</th>\n",
       "      <th>P3Alpha</th>\n",
       "      <th>item_popularity</th>\n",
       "      <th>user_profile_len</th>\n",
       "    </tr>\n",
       "  </thead>\n",
       "  <tbody>\n",
       "    <tr>\n",
       "      <th>0</th>\n",
       "      <td>0</td>\n",
       "      <td>2</td>\n",
       "      <td>True</td>\n",
       "      <td>0.747181</td>\n",
       "      <td>0.203044</td>\n",
       "      <td>0.187012</td>\n",
       "      <td>0.483225</td>\n",
       "      <td>6.875664</td>\n",
       "      <td>0.064130</td>\n",
       "      <td>0.123025</td>\n",
       "      <td>5085</td>\n",
       "      <td>54</td>\n",
       "    </tr>\n",
       "    <tr>\n",
       "      <th>1</th>\n",
       "      <td>0</td>\n",
       "      <td>175</td>\n",
       "      <td>False</td>\n",
       "      <td>0.628614</td>\n",
       "      <td>0.201045</td>\n",
       "      <td>0.083669</td>\n",
       "      <td>0.319717</td>\n",
       "      <td>4.577500</td>\n",
       "      <td>0.558769</td>\n",
       "      <td>0.056642</td>\n",
       "      <td>1144</td>\n",
       "      <td>54</td>\n",
       "    </tr>\n",
       "    <tr>\n",
       "      <th>2</th>\n",
       "      <td>0</td>\n",
       "      <td>111</td>\n",
       "      <td>False</td>\n",
       "      <td>0.617020</td>\n",
       "      <td>0.201354</td>\n",
       "      <td>0.082889</td>\n",
       "      <td>0.398465</td>\n",
       "      <td>1.467862</td>\n",
       "      <td>0.389578</td>\n",
       "      <td>0.047010</td>\n",
       "      <td>557</td>\n",
       "      <td>54</td>\n",
       "    </tr>\n",
       "    <tr>\n",
       "      <th>3</th>\n",
       "      <td>0</td>\n",
       "      <td>108</td>\n",
       "      <td>False</td>\n",
       "      <td>0.605981</td>\n",
       "      <td>0.193164</td>\n",
       "      <td>0.084707</td>\n",
       "      <td>0.473874</td>\n",
       "      <td>3.770549</td>\n",
       "      <td>0.474713</td>\n",
       "      <td>0.049158</td>\n",
       "      <td>585</td>\n",
       "      <td>54</td>\n",
       "    </tr>\n",
       "    <tr>\n",
       "      <th>4</th>\n",
       "      <td>0</td>\n",
       "      <td>88</td>\n",
       "      <td>False</td>\n",
       "      <td>0.572219</td>\n",
       "      <td>0.144053</td>\n",
       "      <td>0.151315</td>\n",
       "      <td>0.521039</td>\n",
       "      <td>6.207745</td>\n",
       "      <td>0.281953</td>\n",
       "      <td>0.000000</td>\n",
       "      <td>4275</td>\n",
       "      <td>54</td>\n",
       "    </tr>\n",
       "    <tr>\n",
       "      <th>...</th>\n",
       "      <td>...</td>\n",
       "      <td>...</td>\n",
       "      <td>...</td>\n",
       "      <td>...</td>\n",
       "      <td>...</td>\n",
       "      <td>...</td>\n",
       "      <td>...</td>\n",
       "      <td>...</td>\n",
       "      <td>...</td>\n",
       "      <td>...</td>\n",
       "      <td>...</td>\n",
       "      <td>...</td>\n",
       "    </tr>\n",
       "    <tr>\n",
       "      <th>1457010</th>\n",
       "      <td>41628</td>\n",
       "      <td>2042</td>\n",
       "      <td>False</td>\n",
       "      <td>0.086856</td>\n",
       "      <td>0.022511</td>\n",
       "      <td>0.021935</td>\n",
       "      <td>0.097674</td>\n",
       "      <td>0.000000</td>\n",
       "      <td>0.042027</td>\n",
       "      <td>0.008274</td>\n",
       "      <td>51</td>\n",
       "      <td>23</td>\n",
       "    </tr>\n",
       "    <tr>\n",
       "      <th>1457011</th>\n",
       "      <td>41628</td>\n",
       "      <td>103</td>\n",
       "      <td>False</td>\n",
       "      <td>0.084558</td>\n",
       "      <td>0.034853</td>\n",
       "      <td>0.000000</td>\n",
       "      <td>0.000000</td>\n",
       "      <td>5.720413</td>\n",
       "      <td>0.039001</td>\n",
       "      <td>0.000000</td>\n",
       "      <td>4090</td>\n",
       "      <td>23</td>\n",
       "    </tr>\n",
       "    <tr>\n",
       "      <th>1457012</th>\n",
       "      <td>41628</td>\n",
       "      <td>17670</td>\n",
       "      <td>False</td>\n",
       "      <td>0.083563</td>\n",
       "      <td>0.023314</td>\n",
       "      <td>0.019073</td>\n",
       "      <td>0.097231</td>\n",
       "      <td>0.000000</td>\n",
       "      <td>0.025089</td>\n",
       "      <td>0.007410</td>\n",
       "      <td>51</td>\n",
       "      <td>23</td>\n",
       "    </tr>\n",
       "    <tr>\n",
       "      <th>1457013</th>\n",
       "      <td>41628</td>\n",
       "      <td>958</td>\n",
       "      <td>False</td>\n",
       "      <td>0.083279</td>\n",
       "      <td>0.032724</td>\n",
       "      <td>0.000000</td>\n",
       "      <td>0.000000</td>\n",
       "      <td>2.662573</td>\n",
       "      <td>0.095279</td>\n",
       "      <td>0.000000</td>\n",
       "      <td>1898</td>\n",
       "      <td>23</td>\n",
       "    </tr>\n",
       "    <tr>\n",
       "      <th>1457014</th>\n",
       "      <td>41628</td>\n",
       "      <td>379</td>\n",
       "      <td>False</td>\n",
       "      <td>0.082973</td>\n",
       "      <td>0.025649</td>\n",
       "      <td>0.012936</td>\n",
       "      <td>0.000000</td>\n",
       "      <td>1.814341</td>\n",
       "      <td>0.064710</td>\n",
       "      <td>0.000000</td>\n",
       "      <td>651</td>\n",
       "      <td>23</td>\n",
       "    </tr>\n",
       "  </tbody>\n",
       "</table>\n",
       "<p>1457015 rows × 12 columns</p>\n",
       "</div>"
      ],
      "text/plain": [
       "         UserID ItemID  Label    Hybrid  SLIM_Elastic   RP3Beta  \\\n",
       "0             0      2   True  0.747181      0.203044  0.187012   \n",
       "1             0    175  False  0.628614      0.201045  0.083669   \n",
       "2             0    111  False  0.617020      0.201354  0.082889   \n",
       "3             0    108  False  0.605981      0.193164  0.084707   \n",
       "4             0     88  False  0.572219      0.144053  0.151315   \n",
       "...         ...    ...    ...       ...           ...       ...   \n",
       "1457010   41628   2042  False  0.086856      0.022511  0.021935   \n",
       "1457011   41628    103  False  0.084558      0.034853  0.000000   \n",
       "1457012   41628  17670  False  0.083563      0.023314  0.019073   \n",
       "1457013   41628    958  False  0.083279      0.032724  0.000000   \n",
       "1457014   41628    379  False  0.082973      0.025649  0.012936   \n",
       "\n",
       "         ItemKNN_CFCBF   UserKNN      IALS   P3Alpha  item_popularity  \\\n",
       "0             0.483225  6.875664  0.064130  0.123025             5085   \n",
       "1             0.319717  4.577500  0.558769  0.056642             1144   \n",
       "2             0.398465  1.467862  0.389578  0.047010              557   \n",
       "3             0.473874  3.770549  0.474713  0.049158              585   \n",
       "4             0.521039  6.207745  0.281953  0.000000             4275   \n",
       "...                ...       ...       ...       ...              ...   \n",
       "1457010       0.097674  0.000000  0.042027  0.008274               51   \n",
       "1457011       0.000000  5.720413  0.039001  0.000000             4090   \n",
       "1457012       0.097231  0.000000  0.025089  0.007410               51   \n",
       "1457013       0.000000  2.662573  0.095279  0.000000             1898   \n",
       "1457014       0.000000  1.814341  0.064710  0.000000              651   \n",
       "\n",
       "         user_profile_len  \n",
       "0                      54  \n",
       "1                      54  \n",
       "2                      54  \n",
       "3                      54  \n",
       "4                      54  \n",
       "...                   ...  \n",
       "1457010                23  \n",
       "1457011                23  \n",
       "1457012                23  \n",
       "1457013                23  \n",
       "1457014                23  \n",
       "\n",
       "[1457015 rows x 12 columns]"
      ]
     },
     "execution_count": 67,
     "metadata": {},
     "output_type": "execute_result"
    }
   ],
   "source": [
    "item_popularity = np.ediff1d(sps.csc_matrix(urm_train).indptr)\n",
    "training_dataframe['item_popularity'] = item_popularity[training_dataframe[\"ItemID\"].values.astype(int)]\n",
    "\n",
    "user_popularity = np.ediff1d(sps.csr_matrix(urm_train).indptr)\n",
    "training_dataframe['user_profile_len'] = user_popularity[training_dataframe[\"UserID\"].values.astype(int)]\n",
    "\n",
    "training_dataframe"
   ]
  },
  {
   "cell_type": "markdown",
   "id": "fb67dbf1",
   "metadata": {
    "papermill": {
     "duration": 0.582947,
     "end_time": "2023-01-15T18:22:30.310223",
     "exception": false,
     "start_time": "2023-01-15T18:22:29.727276",
     "status": "completed"
    },
    "tags": []
   },
   "source": [
    "NOT TESTED\n",
    "--------------"
   ]
  },
  {
   "cell_type": "code",
   "execution_count": 68,
   "id": "f0278943",
   "metadata": {
    "execution": {
     "iopub.execute_input": "2023-01-15T18:22:31.558057Z",
     "iopub.status.busy": "2023-01-15T18:22:31.557680Z",
     "iopub.status.idle": "2023-01-15T18:22:32.450294Z",
     "shell.execute_reply": "2023-01-15T18:22:32.448453Z"
    },
    "papermill": {
     "duration": 1.567026,
     "end_time": "2023-01-15T18:22:32.453003",
     "exception": false,
     "start_time": "2023-01-15T18:22:30.885977",
     "status": "completed"
    },
    "tags": []
   },
   "outputs": [],
   "source": [
    "features_df = pd.DataFrame.sparse.from_spmatrix(icm_all)\n",
    "\n",
    "training_dataframe = training_dataframe.set_index('ItemID').join(features_df, how='inner')\n",
    "training_dataframe = training_dataframe.reset_index()\n",
    "training_dataframe = training_dataframe.rename(columns = {\"index\": \"ItemID\"})"
   ]
  },
  {
   "cell_type": "code",
   "execution_count": 69,
   "id": "c75bb570",
   "metadata": {
    "execution": {
     "iopub.execute_input": "2023-01-15T18:22:33.682137Z",
     "iopub.status.busy": "2023-01-15T18:22:33.681667Z",
     "iopub.status.idle": "2023-01-15T18:22:34.218498Z",
     "shell.execute_reply": "2023-01-15T18:22:34.216926Z"
    },
    "papermill": {
     "duration": 1.137609,
     "end_time": "2023-01-15T18:22:34.220846",
     "exception": false,
     "start_time": "2023-01-15T18:22:33.083237",
     "status": "completed"
    },
    "tags": []
   },
   "outputs": [
    {
     "data": {
      "text/html": [
       "<div>\n",
       "<style scoped>\n",
       "    .dataframe tbody tr th:only-of-type {\n",
       "        vertical-align: middle;\n",
       "    }\n",
       "\n",
       "    .dataframe tbody tr th {\n",
       "        vertical-align: top;\n",
       "    }\n",
       "\n",
       "    .dataframe thead th {\n",
       "        text-align: right;\n",
       "    }\n",
       "</style>\n",
       "<table border=\"1\" class=\"dataframe\">\n",
       "  <thead>\n",
       "    <tr style=\"text-align: right;\">\n",
       "      <th></th>\n",
       "      <th>ItemID</th>\n",
       "      <th>UserID</th>\n",
       "      <th>Label</th>\n",
       "      <th>Hybrid</th>\n",
       "      <th>SLIM_Elastic</th>\n",
       "      <th>RP3Beta</th>\n",
       "      <th>ItemKNN_CFCBF</th>\n",
       "      <th>UserKNN</th>\n",
       "      <th>IALS</th>\n",
       "      <th>P3Alpha</th>\n",
       "      <th>item_popularity</th>\n",
       "      <th>user_profile_len</th>\n",
       "      <th>0</th>\n",
       "      <th>1</th>\n",
       "      <th>2</th>\n",
       "      <th>3</th>\n",
       "      <th>4</th>\n",
       "      <th>5</th>\n",
       "      <th>item_length</th>\n",
       "    </tr>\n",
       "  </thead>\n",
       "  <tbody>\n",
       "    <tr>\n",
       "      <th>0</th>\n",
       "      <td>0</td>\n",
       "      <td>112</td>\n",
       "      <td>False</td>\n",
       "      <td>0.098427</td>\n",
       "      <td>0.030713</td>\n",
       "      <td>0.017342</td>\n",
       "      <td>0.082453</td>\n",
       "      <td>0.000000</td>\n",
       "      <td>0.023871</td>\n",
       "      <td>0.000000</td>\n",
       "      <td>59</td>\n",
       "      <td>18</td>\n",
       "      <td>1.0</td>\n",
       "      <td>0.0</td>\n",
       "      <td>0.0</td>\n",
       "      <td>0.0</td>\n",
       "      <td>0.0</td>\n",
       "      <td>1.0</td>\n",
       "      <td>1</td>\n",
       "    </tr>\n",
       "    <tr>\n",
       "      <th>1</th>\n",
       "      <td>0</td>\n",
       "      <td>405</td>\n",
       "      <td>False</td>\n",
       "      <td>0.139775</td>\n",
       "      <td>0.039084</td>\n",
       "      <td>0.032030</td>\n",
       "      <td>0.122556</td>\n",
       "      <td>0.779026</td>\n",
       "      <td>0.036194</td>\n",
       "      <td>0.009890</td>\n",
       "      <td>59</td>\n",
       "      <td>14</td>\n",
       "      <td>1.0</td>\n",
       "      <td>0.0</td>\n",
       "      <td>0.0</td>\n",
       "      <td>0.0</td>\n",
       "      <td>0.0</td>\n",
       "      <td>1.0</td>\n",
       "      <td>1</td>\n",
       "    </tr>\n",
       "    <tr>\n",
       "      <th>2</th>\n",
       "      <td>0</td>\n",
       "      <td>1279</td>\n",
       "      <td>False</td>\n",
       "      <td>0.201852</td>\n",
       "      <td>0.049941</td>\n",
       "      <td>0.056052</td>\n",
       "      <td>0.122556</td>\n",
       "      <td>2.874523</td>\n",
       "      <td>0.073215</td>\n",
       "      <td>0.009890</td>\n",
       "      <td>59</td>\n",
       "      <td>24</td>\n",
       "      <td>1.0</td>\n",
       "      <td>0.0</td>\n",
       "      <td>0.0</td>\n",
       "      <td>0.0</td>\n",
       "      <td>0.0</td>\n",
       "      <td>1.0</td>\n",
       "      <td>1</td>\n",
       "    </tr>\n",
       "    <tr>\n",
       "      <th>3</th>\n",
       "      <td>0</td>\n",
       "      <td>3025</td>\n",
       "      <td>False</td>\n",
       "      <td>0.131212</td>\n",
       "      <td>0.035176</td>\n",
       "      <td>0.032030</td>\n",
       "      <td>0.122556</td>\n",
       "      <td>1.362597</td>\n",
       "      <td>0.045689</td>\n",
       "      <td>0.009890</td>\n",
       "      <td>59</td>\n",
       "      <td>16</td>\n",
       "      <td>1.0</td>\n",
       "      <td>0.0</td>\n",
       "      <td>0.0</td>\n",
       "      <td>0.0</td>\n",
       "      <td>0.0</td>\n",
       "      <td>1.0</td>\n",
       "      <td>1</td>\n",
       "    </tr>\n",
       "    <tr>\n",
       "      <th>4</th>\n",
       "      <td>0</td>\n",
       "      <td>3353</td>\n",
       "      <td>False</td>\n",
       "      <td>0.129762</td>\n",
       "      <td>0.035176</td>\n",
       "      <td>0.032030</td>\n",
       "      <td>0.122556</td>\n",
       "      <td>0.771685</td>\n",
       "      <td>0.023803</td>\n",
       "      <td>0.009890</td>\n",
       "      <td>59</td>\n",
       "      <td>15</td>\n",
       "      <td>1.0</td>\n",
       "      <td>0.0</td>\n",
       "      <td>0.0</td>\n",
       "      <td>0.0</td>\n",
       "      <td>0.0</td>\n",
       "      <td>1.0</td>\n",
       "      <td>1</td>\n",
       "    </tr>\n",
       "    <tr>\n",
       "      <th>...</th>\n",
       "      <td>...</td>\n",
       "      <td>...</td>\n",
       "      <td>...</td>\n",
       "      <td>...</td>\n",
       "      <td>...</td>\n",
       "      <td>...</td>\n",
       "      <td>...</td>\n",
       "      <td>...</td>\n",
       "      <td>...</td>\n",
       "      <td>...</td>\n",
       "      <td>...</td>\n",
       "      <td>...</td>\n",
       "      <td>...</td>\n",
       "      <td>...</td>\n",
       "      <td>...</td>\n",
       "      <td>...</td>\n",
       "      <td>...</td>\n",
       "      <td>...</td>\n",
       "      <td>...</td>\n",
       "    </tr>\n",
       "    <tr>\n",
       "      <th>1457010</th>\n",
       "      <td>24502</td>\n",
       "      <td>34787</td>\n",
       "      <td>False</td>\n",
       "      <td>0.076953</td>\n",
       "      <td>0.000000</td>\n",
       "      <td>0.054209</td>\n",
       "      <td>0.104535</td>\n",
       "      <td>3.367455</td>\n",
       "      <td>0.000401</td>\n",
       "      <td>0.017627</td>\n",
       "      <td>20</td>\n",
       "      <td>11</td>\n",
       "      <td>1.0</td>\n",
       "      <td>0.0</td>\n",
       "      <td>0.0</td>\n",
       "      <td>0.0</td>\n",
       "      <td>0.0</td>\n",
       "      <td>1.0</td>\n",
       "      <td>3</td>\n",
       "    </tr>\n",
       "    <tr>\n",
       "      <th>1457011</th>\n",
       "      <td>24502</td>\n",
       "      <td>36635</td>\n",
       "      <td>False</td>\n",
       "      <td>0.053860</td>\n",
       "      <td>0.000000</td>\n",
       "      <td>0.037710</td>\n",
       "      <td>0.104535</td>\n",
       "      <td>2.990902</td>\n",
       "      <td>0.005232</td>\n",
       "      <td>0.017627</td>\n",
       "      <td>20</td>\n",
       "      <td>15</td>\n",
       "      <td>1.0</td>\n",
       "      <td>0.0</td>\n",
       "      <td>0.0</td>\n",
       "      <td>0.0</td>\n",
       "      <td>0.0</td>\n",
       "      <td>1.0</td>\n",
       "      <td>3</td>\n",
       "    </tr>\n",
       "    <tr>\n",
       "      <th>1457012</th>\n",
       "      <td>24503</td>\n",
       "      <td>8057</td>\n",
       "      <td>False</td>\n",
       "      <td>0.052700</td>\n",
       "      <td>0.000000</td>\n",
       "      <td>0.036889</td>\n",
       "      <td>0.125300</td>\n",
       "      <td>2.863844</td>\n",
       "      <td>0.005318</td>\n",
       "      <td>0.009560</td>\n",
       "      <td>17</td>\n",
       "      <td>11</td>\n",
       "      <td>0.0</td>\n",
       "      <td>0.0</td>\n",
       "      <td>0.0</td>\n",
       "      <td>0.0</td>\n",
       "      <td>0.0</td>\n",
       "      <td>0.0</td>\n",
       "      <td>0</td>\n",
       "    </tr>\n",
       "    <tr>\n",
       "      <th>1457013</th>\n",
       "      <td>24506</td>\n",
       "      <td>42</td>\n",
       "      <td>False</td>\n",
       "      <td>0.053588</td>\n",
       "      <td>0.000000</td>\n",
       "      <td>0.037842</td>\n",
       "      <td>0.058180</td>\n",
       "      <td>1.752333</td>\n",
       "      <td>-0.001704</td>\n",
       "      <td>0.014719</td>\n",
       "      <td>16</td>\n",
       "      <td>21</td>\n",
       "      <td>0.0</td>\n",
       "      <td>0.0</td>\n",
       "      <td>0.0</td>\n",
       "      <td>0.0</td>\n",
       "      <td>0.0</td>\n",
       "      <td>0.0</td>\n",
       "      <td>0</td>\n",
       "    </tr>\n",
       "    <tr>\n",
       "      <th>1457014</th>\n",
       "      <td>24506</td>\n",
       "      <td>41313</td>\n",
       "      <td>False</td>\n",
       "      <td>0.056823</td>\n",
       "      <td>0.000000</td>\n",
       "      <td>0.040024</td>\n",
       "      <td>0.124683</td>\n",
       "      <td>2.707096</td>\n",
       "      <td>0.000394</td>\n",
       "      <td>0.016350</td>\n",
       "      <td>16</td>\n",
       "      <td>9</td>\n",
       "      <td>0.0</td>\n",
       "      <td>0.0</td>\n",
       "      <td>0.0</td>\n",
       "      <td>0.0</td>\n",
       "      <td>0.0</td>\n",
       "      <td>0.0</td>\n",
       "      <td>0</td>\n",
       "    </tr>\n",
       "  </tbody>\n",
       "</table>\n",
       "<p>1457015 rows × 19 columns</p>\n",
       "</div>"
      ],
      "text/plain": [
       "         ItemID  UserID  Label    Hybrid  SLIM_Elastic   RP3Beta  \\\n",
       "0             0     112  False  0.098427      0.030713  0.017342   \n",
       "1             0     405  False  0.139775      0.039084  0.032030   \n",
       "2             0    1279  False  0.201852      0.049941  0.056052   \n",
       "3             0    3025  False  0.131212      0.035176  0.032030   \n",
       "4             0    3353  False  0.129762      0.035176  0.032030   \n",
       "...         ...     ...    ...       ...           ...       ...   \n",
       "1457010   24502   34787  False  0.076953      0.000000  0.054209   \n",
       "1457011   24502   36635  False  0.053860      0.000000  0.037710   \n",
       "1457012   24503    8057  False  0.052700      0.000000  0.036889   \n",
       "1457013   24506      42  False  0.053588      0.000000  0.037842   \n",
       "1457014   24506   41313  False  0.056823      0.000000  0.040024   \n",
       "\n",
       "         ItemKNN_CFCBF   UserKNN      IALS   P3Alpha  item_popularity  \\\n",
       "0             0.082453  0.000000  0.023871  0.000000               59   \n",
       "1             0.122556  0.779026  0.036194  0.009890               59   \n",
       "2             0.122556  2.874523  0.073215  0.009890               59   \n",
       "3             0.122556  1.362597  0.045689  0.009890               59   \n",
       "4             0.122556  0.771685  0.023803  0.009890               59   \n",
       "...                ...       ...       ...       ...              ...   \n",
       "1457010       0.104535  3.367455  0.000401  0.017627               20   \n",
       "1457011       0.104535  2.990902  0.005232  0.017627               20   \n",
       "1457012       0.125300  2.863844  0.005318  0.009560               17   \n",
       "1457013       0.058180  1.752333 -0.001704  0.014719               16   \n",
       "1457014       0.124683  2.707096  0.000394  0.016350               16   \n",
       "\n",
       "         user_profile_len    0    1    2    3    4    5  item_length  \n",
       "0                      18  1.0  0.0  0.0  0.0  0.0  1.0            1  \n",
       "1                      14  1.0  0.0  0.0  0.0  0.0  1.0            1  \n",
       "2                      24  1.0  0.0  0.0  0.0  0.0  1.0            1  \n",
       "3                      16  1.0  0.0  0.0  0.0  0.0  1.0            1  \n",
       "4                      15  1.0  0.0  0.0  0.0  0.0  1.0            1  \n",
       "...                   ...  ...  ...  ...  ...  ...  ...          ...  \n",
       "1457010                11  1.0  0.0  0.0  0.0  0.0  1.0            3  \n",
       "1457011                15  1.0  0.0  0.0  0.0  0.0  1.0            3  \n",
       "1457012                11  0.0  0.0  0.0  0.0  0.0  0.0            0  \n",
       "1457013                21  0.0  0.0  0.0  0.0  0.0  0.0            0  \n",
       "1457014                 9  0.0  0.0  0.0  0.0  0.0  0.0            0  \n",
       "\n",
       "[1457015 rows x 19 columns]"
      ]
     },
     "execution_count": 69,
     "metadata": {},
     "output_type": "execute_result"
    }
   ],
   "source": [
    "icm_length_mapped = ICM.drop(['item_type'], axis=1).rename(columns={'item_id': 'ItemID'})\n",
    "\n",
    "training_dataframe = training_dataframe.merge(icm_length_mapped, how=\"left\")\n",
    "training_dataframe['item_length'] = training_dataframe['item_length'].fillna(0).astype(int)\n",
    "training_dataframe"
   ]
  },
  {
   "cell_type": "code",
   "execution_count": 70,
   "id": "e800d743",
   "metadata": {
    "execution": {
     "iopub.execute_input": "2023-01-15T18:22:35.503947Z",
     "iopub.status.busy": "2023-01-15T18:22:35.503565Z",
     "iopub.status.idle": "2023-01-15T18:22:37.492609Z",
     "shell.execute_reply": "2023-01-15T18:22:37.491239Z"
    },
    "papermill": {
     "duration": 2.67625,
     "end_time": "2023-01-15T18:22:37.494717",
     "exception": false,
     "start_time": "2023-01-15T18:22:34.818467",
     "status": "completed"
    },
    "tags": []
   },
   "outputs": [
    {
     "data": {
      "text/html": [
       "<div>\n",
       "<style scoped>\n",
       "    .dataframe tbody tr th:only-of-type {\n",
       "        vertical-align: middle;\n",
       "    }\n",
       "\n",
       "    .dataframe tbody tr th {\n",
       "        vertical-align: top;\n",
       "    }\n",
       "\n",
       "    .dataframe thead th {\n",
       "        text-align: right;\n",
       "    }\n",
       "</style>\n",
       "<table border=\"1\" class=\"dataframe\">\n",
       "  <thead>\n",
       "    <tr style=\"text-align: right;\">\n",
       "      <th></th>\n",
       "      <th>ItemID</th>\n",
       "      <th>UserID</th>\n",
       "      <th>Label</th>\n",
       "      <th>Hybrid</th>\n",
       "      <th>SLIM_Elastic</th>\n",
       "      <th>RP3Beta</th>\n",
       "      <th>ItemKNN_CFCBF</th>\n",
       "      <th>UserKNN</th>\n",
       "      <th>IALS</th>\n",
       "      <th>P3Alpha</th>\n",
       "      <th>item_popularity</th>\n",
       "      <th>user_profile_len</th>\n",
       "      <th>0</th>\n",
       "      <th>1</th>\n",
       "      <th>2</th>\n",
       "      <th>3</th>\n",
       "      <th>4</th>\n",
       "      <th>5</th>\n",
       "      <th>item_length</th>\n",
       "    </tr>\n",
       "  </thead>\n",
       "  <tbody>\n",
       "    <tr>\n",
       "      <th>0</th>\n",
       "      <td>275</td>\n",
       "      <td>0</td>\n",
       "      <td>False</td>\n",
       "      <td>0.281510</td>\n",
       "      <td>0.079990</td>\n",
       "      <td>0.042701</td>\n",
       "      <td>0.561643</td>\n",
       "      <td>8.431123</td>\n",
       "      <td>0.494568</td>\n",
       "      <td>0.034489</td>\n",
       "      <td>452</td>\n",
       "      <td>54</td>\n",
       "      <td>0.0</td>\n",
       "      <td>0.0</td>\n",
       "      <td>0.0</td>\n",
       "      <td>0.0</td>\n",
       "      <td>1.0</td>\n",
       "      <td>1.0</td>\n",
       "      <td>12</td>\n",
       "    </tr>\n",
       "    <tr>\n",
       "      <th>1</th>\n",
       "      <td>99</td>\n",
       "      <td>0</td>\n",
       "      <td>False</td>\n",
       "      <td>0.536962</td>\n",
       "      <td>0.132574</td>\n",
       "      <td>0.134644</td>\n",
       "      <td>0.831668</td>\n",
       "      <td>8.827147</td>\n",
       "      <td>0.514255</td>\n",
       "      <td>0.074943</td>\n",
       "      <td>316</td>\n",
       "      <td>54</td>\n",
       "      <td>1.0</td>\n",
       "      <td>0.0</td>\n",
       "      <td>0.0</td>\n",
       "      <td>0.0</td>\n",
       "      <td>0.0</td>\n",
       "      <td>1.0</td>\n",
       "      <td>1</td>\n",
       "    </tr>\n",
       "    <tr>\n",
       "      <th>2</th>\n",
       "      <td>4654</td>\n",
       "      <td>0</td>\n",
       "      <td>False</td>\n",
       "      <td>0.416782</td>\n",
       "      <td>0.133053</td>\n",
       "      <td>0.061594</td>\n",
       "      <td>0.352430</td>\n",
       "      <td>0.685817</td>\n",
       "      <td>0.248083</td>\n",
       "      <td>0.037348</td>\n",
       "      <td>208</td>\n",
       "      <td>54</td>\n",
       "      <td>1.0</td>\n",
       "      <td>0.0</td>\n",
       "      <td>0.0</td>\n",
       "      <td>0.0</td>\n",
       "      <td>0.0</td>\n",
       "      <td>1.0</td>\n",
       "      <td>1</td>\n",
       "    </tr>\n",
       "    <tr>\n",
       "      <th>3</th>\n",
       "      <td>445</td>\n",
       "      <td>0</td>\n",
       "      <td>False</td>\n",
       "      <td>0.325849</td>\n",
       "      <td>0.068068</td>\n",
       "      <td>0.099735</td>\n",
       "      <td>0.629883</td>\n",
       "      <td>7.604171</td>\n",
       "      <td>0.365481</td>\n",
       "      <td>0.075764</td>\n",
       "      <td>947</td>\n",
       "      <td>54</td>\n",
       "      <td>1.0</td>\n",
       "      <td>0.0</td>\n",
       "      <td>0.0</td>\n",
       "      <td>0.0</td>\n",
       "      <td>0.0</td>\n",
       "      <td>1.0</td>\n",
       "      <td>1</td>\n",
       "    </tr>\n",
       "    <tr>\n",
       "      <th>4</th>\n",
       "      <td>1132</td>\n",
       "      <td>0</td>\n",
       "      <td>False</td>\n",
       "      <td>0.295759</td>\n",
       "      <td>0.073672</td>\n",
       "      <td>0.067227</td>\n",
       "      <td>0.652858</td>\n",
       "      <td>6.990578</td>\n",
       "      <td>0.408639</td>\n",
       "      <td>0.043840</td>\n",
       "      <td>600</td>\n",
       "      <td>54</td>\n",
       "      <td>0.0</td>\n",
       "      <td>0.0</td>\n",
       "      <td>0.0</td>\n",
       "      <td>0.0</td>\n",
       "      <td>0.0</td>\n",
       "      <td>0.0</td>\n",
       "      <td>0</td>\n",
       "    </tr>\n",
       "    <tr>\n",
       "      <th>...</th>\n",
       "      <td>...</td>\n",
       "      <td>...</td>\n",
       "      <td>...</td>\n",
       "      <td>...</td>\n",
       "      <td>...</td>\n",
       "      <td>...</td>\n",
       "      <td>...</td>\n",
       "      <td>...</td>\n",
       "      <td>...</td>\n",
       "      <td>...</td>\n",
       "      <td>...</td>\n",
       "      <td>...</td>\n",
       "      <td>...</td>\n",
       "      <td>...</td>\n",
       "      <td>...</td>\n",
       "      <td>...</td>\n",
       "      <td>...</td>\n",
       "      <td>...</td>\n",
       "      <td>...</td>\n",
       "    </tr>\n",
       "    <tr>\n",
       "      <th>1457010</th>\n",
       "      <td>475</td>\n",
       "      <td>41628</td>\n",
       "      <td>False</td>\n",
       "      <td>0.604170</td>\n",
       "      <td>0.182748</td>\n",
       "      <td>0.087300</td>\n",
       "      <td>0.461767</td>\n",
       "      <td>12.362746</td>\n",
       "      <td>0.761456</td>\n",
       "      <td>0.046969</td>\n",
       "      <td>1977</td>\n",
       "      <td>23</td>\n",
       "      <td>0.0</td>\n",
       "      <td>0.0</td>\n",
       "      <td>0.0</td>\n",
       "      <td>1.0</td>\n",
       "      <td>0.0</td>\n",
       "      <td>1.0</td>\n",
       "      <td>1</td>\n",
       "    </tr>\n",
       "    <tr>\n",
       "      <th>1457011</th>\n",
       "      <td>3277</td>\n",
       "      <td>41628</td>\n",
       "      <td>False</td>\n",
       "      <td>0.247427</td>\n",
       "      <td>0.078147</td>\n",
       "      <td>0.043269</td>\n",
       "      <td>0.150326</td>\n",
       "      <td>2.138905</td>\n",
       "      <td>0.033600</td>\n",
       "      <td>0.016401</td>\n",
       "      <td>64</td>\n",
       "      <td>23</td>\n",
       "      <td>1.0</td>\n",
       "      <td>0.0</td>\n",
       "      <td>0.0</td>\n",
       "      <td>0.0</td>\n",
       "      <td>0.0</td>\n",
       "      <td>1.0</td>\n",
       "      <td>1</td>\n",
       "    </tr>\n",
       "    <tr>\n",
       "      <th>1457012</th>\n",
       "      <td>9975</td>\n",
       "      <td>41628</td>\n",
       "      <td>False</td>\n",
       "      <td>0.117978</td>\n",
       "      <td>0.031129</td>\n",
       "      <td>0.023993</td>\n",
       "      <td>0.113859</td>\n",
       "      <td>0.719772</td>\n",
       "      <td>0.161671</td>\n",
       "      <td>0.000000</td>\n",
       "      <td>121</td>\n",
       "      <td>23</td>\n",
       "      <td>0.0</td>\n",
       "      <td>0.0</td>\n",
       "      <td>0.0</td>\n",
       "      <td>0.0</td>\n",
       "      <td>1.0</td>\n",
       "      <td>1.0</td>\n",
       "      <td>26</td>\n",
       "    </tr>\n",
       "    <tr>\n",
       "      <th>1457013</th>\n",
       "      <td>4569</td>\n",
       "      <td>41628</td>\n",
       "      <td>False</td>\n",
       "      <td>0.341922</td>\n",
       "      <td>0.088600</td>\n",
       "      <td>0.086424</td>\n",
       "      <td>0.385385</td>\n",
       "      <td>8.983379</td>\n",
       "      <td>0.164399</td>\n",
       "      <td>0.033659</td>\n",
       "      <td>96</td>\n",
       "      <td>23</td>\n",
       "      <td>1.0</td>\n",
       "      <td>0.0</td>\n",
       "      <td>0.0</td>\n",
       "      <td>0.0</td>\n",
       "      <td>0.0</td>\n",
       "      <td>1.0</td>\n",
       "      <td>1</td>\n",
       "    </tr>\n",
       "    <tr>\n",
       "      <th>1457014</th>\n",
       "      <td>2026</td>\n",
       "      <td>41628</td>\n",
       "      <td>False</td>\n",
       "      <td>0.107005</td>\n",
       "      <td>0.031570</td>\n",
       "      <td>0.021265</td>\n",
       "      <td>0.101109</td>\n",
       "      <td>0.000000</td>\n",
       "      <td>0.038880</td>\n",
       "      <td>0.008666</td>\n",
       "      <td>61</td>\n",
       "      <td>23</td>\n",
       "      <td>0.0</td>\n",
       "      <td>0.0</td>\n",
       "      <td>0.0</td>\n",
       "      <td>0.0</td>\n",
       "      <td>0.0</td>\n",
       "      <td>0.0</td>\n",
       "      <td>0</td>\n",
       "    </tr>\n",
       "  </tbody>\n",
       "</table>\n",
       "<p>1457015 rows × 19 columns</p>\n",
       "</div>"
      ],
      "text/plain": [
       "         ItemID  UserID  Label    Hybrid  SLIM_Elastic   RP3Beta  \\\n",
       "0           275       0  False  0.281510      0.079990  0.042701   \n",
       "1            99       0  False  0.536962      0.132574  0.134644   \n",
       "2          4654       0  False  0.416782      0.133053  0.061594   \n",
       "3           445       0  False  0.325849      0.068068  0.099735   \n",
       "4          1132       0  False  0.295759      0.073672  0.067227   \n",
       "...         ...     ...    ...       ...           ...       ...   \n",
       "1457010     475   41628  False  0.604170      0.182748  0.087300   \n",
       "1457011    3277   41628  False  0.247427      0.078147  0.043269   \n",
       "1457012    9975   41628  False  0.117978      0.031129  0.023993   \n",
       "1457013    4569   41628  False  0.341922      0.088600  0.086424   \n",
       "1457014    2026   41628  False  0.107005      0.031570  0.021265   \n",
       "\n",
       "         ItemKNN_CFCBF    UserKNN      IALS   P3Alpha  item_popularity  \\\n",
       "0             0.561643   8.431123  0.494568  0.034489              452   \n",
       "1             0.831668   8.827147  0.514255  0.074943              316   \n",
       "2             0.352430   0.685817  0.248083  0.037348              208   \n",
       "3             0.629883   7.604171  0.365481  0.075764              947   \n",
       "4             0.652858   6.990578  0.408639  0.043840              600   \n",
       "...                ...        ...       ...       ...              ...   \n",
       "1457010       0.461767  12.362746  0.761456  0.046969             1977   \n",
       "1457011       0.150326   2.138905  0.033600  0.016401               64   \n",
       "1457012       0.113859   0.719772  0.161671  0.000000              121   \n",
       "1457013       0.385385   8.983379  0.164399  0.033659               96   \n",
       "1457014       0.101109   0.000000  0.038880  0.008666               61   \n",
       "\n",
       "         user_profile_len    0    1    2    3    4    5  item_length  \n",
       "0                      54  0.0  0.0  0.0  0.0  1.0  1.0           12  \n",
       "1                      54  1.0  0.0  0.0  0.0  0.0  1.0            1  \n",
       "2                      54  1.0  0.0  0.0  0.0  0.0  1.0            1  \n",
       "3                      54  1.0  0.0  0.0  0.0  0.0  1.0            1  \n",
       "4                      54  0.0  0.0  0.0  0.0  0.0  0.0            0  \n",
       "...                   ...  ...  ...  ...  ...  ...  ...          ...  \n",
       "1457010                23  0.0  0.0  0.0  1.0  0.0  1.0            1  \n",
       "1457011                23  1.0  0.0  0.0  0.0  0.0  1.0            1  \n",
       "1457012                23  0.0  0.0  0.0  0.0  1.0  1.0           26  \n",
       "1457013                23  1.0  0.0  0.0  0.0  0.0  1.0            1  \n",
       "1457014                23  0.0  0.0  0.0  0.0  0.0  0.0            0  \n",
       "\n",
       "[1457015 rows x 19 columns]"
      ]
     },
     "execution_count": 70,
     "metadata": {},
     "output_type": "execute_result"
    }
   ],
   "source": [
    "training_dataframe = training_dataframe.sort_values(\"UserID\").reset_index()\n",
    "training_dataframe.drop(columns = ['index'], inplace=True)\n",
    "training_dataframe"
   ]
  },
  {
   "cell_type": "markdown",
   "id": "b7a9c61d",
   "metadata": {
    "papermill": {
     "duration": 0.689795,
     "end_time": "2023-01-15T18:22:38.790109",
     "exception": false,
     "start_time": "2023-01-15T18:22:38.100314",
     "status": "completed"
    },
    "tags": []
   },
   "source": [
    "### Time to train XGBoost"
   ]
  },
  {
   "cell_type": "code",
   "execution_count": 71,
   "id": "69e80559",
   "metadata": {
    "execution": {
     "iopub.execute_input": "2023-01-15T18:22:40.001092Z",
     "iopub.status.busy": "2023-01-15T18:22:40.000695Z",
     "iopub.status.idle": "2023-01-15T18:22:40.033229Z",
     "shell.execute_reply": "2023-01-15T18:22:40.032288Z"
    },
    "papermill": {
     "duration": 0.640598,
     "end_time": "2023-01-15T18:22:40.036002",
     "exception": false,
     "start_time": "2023-01-15T18:22:39.395404",
     "status": "completed"
    },
    "tags": []
   },
   "outputs": [
    {
     "data": {
      "text/plain": [
       "array([35, 35, 35, ..., 35, 35, 35])"
      ]
     },
     "execution_count": 71,
     "metadata": {},
     "output_type": "execute_result"
    }
   ],
   "source": [
    "groups = training_dataframe.groupby(\"UserID\").size().values\n",
    "groups"
   ]
  },
  {
   "cell_type": "code",
   "execution_count": 72,
   "id": "9a0243d5",
   "metadata": {
    "execution": {
     "iopub.execute_input": "2023-01-15T18:22:41.312467Z",
     "iopub.status.busy": "2023-01-15T18:22:41.311860Z",
     "iopub.status.idle": "2023-01-15T18:22:41.527658Z",
     "shell.execute_reply": "2023-01-15T18:22:41.526124Z"
    },
    "papermill": {
     "duration": 0.883546,
     "end_time": "2023-01-15T18:22:41.530734",
     "exception": false,
     "start_time": "2023-01-15T18:22:40.647188",
     "status": "completed"
    },
    "tags": []
   },
   "outputs": [],
   "source": [
    "from xgboost import XGBRanker\n",
    "\n",
    "n_estimators = 1000\n",
    "learning_rate = 0.19823429576094637\n",
    "reg_alpha = 47\n",
    "reg_lambda = 0.313\n",
    "max_depth = 3\n",
    "max_leaves = 0\n",
    "grow_policy = \"depthwise\"\n",
    "objective = \"pairwise\"\n",
    "booster = \"gbtree\"\n",
    "use_user_profile = False\n",
    "random_seed = None\n",
    "\n",
    "colsample_bytree = 0.6113704247857885\n",
    "gamma = 8.964184693722684\n",
    "min_child_weight = 7.0\n",
    "\n",
    "XGB_model = XGBRanker(objective='rank:{}'.format(objective),\n",
    "                      n_estimators = int(n_estimators),\n",
    "                      random_state = random_seed,\n",
    "                      learning_rate = learning_rate,\n",
    "                      reg_alpha = reg_alpha,\n",
    "                      reg_lambda = reg_lambda,\n",
    "                      max_depth = int(max_depth),\n",
    "                      max_leaves = int(max_leaves),\n",
    "                      grow_policy = grow_policy,\n",
    "                      verbosity = 0, # 2 if self.verbose else 0,\n",
    "                      booster = booster,\n",
    "                      colsample_bytree = colsample_bytree,\n",
    "                      gamma = gamma,\n",
    "                      min_child_weight = min_child_weight,\n",
    "                      tree_method = \"hist\"\n",
    "                      )"
   ]
  },
  {
   "cell_type": "code",
   "execution_count": 73,
   "id": "ba10911b",
   "metadata": {
    "execution": {
     "iopub.execute_input": "2023-01-15T18:22:42.788814Z",
     "iopub.status.busy": "2023-01-15T18:22:42.788439Z",
     "iopub.status.idle": "2023-01-15T18:24:13.847749Z",
     "shell.execute_reply": "2023-01-15T18:24:13.846752Z"
    },
    "papermill": {
     "duration": 92.308425,
     "end_time": "2023-01-15T18:24:14.436806",
     "exception": false,
     "start_time": "2023-01-15T18:22:42.128381",
     "status": "completed"
    },
    "tags": []
   },
   "outputs": [
    {
     "data": {
      "text/plain": [
       "XGBRanker(base_score=0.5, booster='gbtree', callbacks=None, colsample_bylevel=1,\n",
       "          colsample_bynode=1, colsample_bytree=0.6113704247857885,\n",
       "          early_stopping_rounds=None, enable_categorical=False,\n",
       "          eval_metric=None, gamma=8.964184693722684, gpu_id=-1,\n",
       "          grow_policy='depthwise', importance_type=None,\n",
       "          interaction_constraints='', learning_rate=0.19823429576094637,\n",
       "          max_bin=256, max_cat_to_onehot=4, max_delta_step=0, max_depth=3,\n",
       "          max_leaves=0, min_child_weight=7.0, missing=nan,\n",
       "          monotone_constraints='()', n_estimators=1000, n_jobs=0,\n",
       "          num_parallel_tree=1, predictor='auto', random_state=0, reg_alpha=47,\n",
       "          reg_lambda=0.313, ...)"
      ]
     },
     "execution_count": 73,
     "metadata": {},
     "output_type": "execute_result"
    }
   ],
   "source": [
    "X_train = training_dataframe.drop(columns=[\"Label\"])\n",
    "y_train = training_dataframe[\"Label\"]\n",
    "\n",
    "XGB_model.fit(X_train,\n",
    "          y_train,\n",
    "          group=groups,\n",
    "          verbose=True)"
   ]
  },
  {
   "cell_type": "code",
   "execution_count": 74,
   "id": "1927bec2",
   "metadata": {
    "execution": {
     "iopub.execute_input": "2023-01-15T18:24:15.672972Z",
     "iopub.status.busy": "2023-01-15T18:24:15.672411Z",
     "iopub.status.idle": "2023-01-15T18:24:15.998108Z",
     "shell.execute_reply": "2023-01-15T18:24:15.996929Z"
    },
    "papermill": {
     "duration": 0.986205,
     "end_time": "2023-01-15T18:24:16.000612",
     "exception": false,
     "start_time": "2023-01-15T18:24:15.014407",
     "status": "completed"
    },
    "tags": []
   },
   "outputs": [
    {
     "data": {
      "text/plain": [
       "<AxesSubplot:title={'center':'Weight (Frequence)'}, xlabel='F score', ylabel='Features'>"
      ]
     },
     "execution_count": 74,
     "metadata": {},
     "output_type": "execute_result"
    },
    {
     "data": {
      "image/png": "[encoded data removed]",
      "text/plain": [
       "<Figure size 432x288 with 1 Axes>"
      ]
     },
     "metadata": {
      "needs_background": "light"
     },
     "output_type": "display_data"
    }
   ],
   "source": [
    "%matplotlib inline\n",
    "from xgboost import plot_importance\n",
    "plot_importance(XGB_model, importance_type='weight', title='Weight (Frequence)')"
   ]
  },
  {
   "cell_type": "markdown",
   "id": "0d17e031",
   "metadata": {
    "papermill": {
     "duration": 0.581311,
     "end_time": "2023-01-15T18:24:17.167749",
     "exception": false,
     "start_time": "2023-01-15T18:24:16.586438",
     "status": "completed"
    },
    "tags": []
   },
   "source": [
    "#### Creating the dataframe with the predictions"
   ]
  },
  {
   "cell_type": "code",
   "execution_count": 75,
   "id": "af408c48",
   "metadata": {
    "execution": {
     "iopub.execute_input": "2023-01-15T18:24:18.431442Z",
     "iopub.status.busy": "2023-01-15T18:24:18.431003Z",
     "iopub.status.idle": "2023-01-15T18:25:48.734603Z",
     "shell.execute_reply": "2023-01-15T18:25:48.733613Z"
    },
    "papermill": {
     "duration": 90.983305,
     "end_time": "2023-01-15T18:25:48.747132",
     "exception": false,
     "start_time": "2023-01-15T18:24:17.763827",
     "status": "completed"
    },
    "tags": []
   },
   "outputs": [
    {
     "name": "stderr",
     "output_type": "stream",
     "text": [
      "100%|██████████| 41116/41116 [01:30<00:00, 455.36it/s]\n"
     ]
    }
   ],
   "source": [
    "user_recommendations_items = []\n",
    "user_recommendations_user_id = []\n",
    "\n",
    "for id in tqdm(target['id']):\n",
    "    recommendations = hybrid_all.recommend(user_id_array=id, remove_seen_flag=True, cutoff=cutoff)\n",
    "    \n",
    "    user_recommendations_items.extend(recommendations)\n",
    "    user_recommendations_user_id.extend([id]*len(recommendations))"
   ]
  },
  {
   "cell_type": "code",
   "execution_count": 76,
   "id": "c9ace25c",
   "metadata": {
    "execution": {
     "iopub.execute_input": "2023-01-15T18:25:50.143239Z",
     "iopub.status.busy": "2023-01-15T18:25:50.142882Z",
     "iopub.status.idle": "2023-01-15T18:25:50.722297Z",
     "shell.execute_reply": "2023-01-15T18:25:50.720857Z"
    },
    "papermill": {
     "duration": 1.225825,
     "end_time": "2023-01-15T18:25:50.724927",
     "exception": false,
     "start_time": "2023-01-15T18:25:49.499102",
     "status": "completed"
    },
    "tags": []
   },
   "outputs": [],
   "source": [
    "test_dataframe = pd.DataFrame({\"UserID\":user_recommendations_user_id, \"ItemID\":user_recommendations_items})"
   ]
  },
  {
   "cell_type": "code",
   "execution_count": 77,
   "id": "dcfcbd06",
   "metadata": {
    "execution": {
     "iopub.execute_input": "2023-01-15T18:25:52.090202Z",
     "iopub.status.busy": "2023-01-15T18:25:52.089836Z",
     "iopub.status.idle": "2023-01-15T18:26:46.873675Z",
     "shell.execute_reply": "2023-01-15T18:26:46.871933Z"
    },
    "papermill": {
     "duration": 55.431416,
     "end_time": "2023-01-15T18:26:46.876364",
     "exception": false,
     "start_time": "2023-01-15T18:25:51.444948",
     "status": "completed"
    },
    "tags": []
   },
   "outputs": [
    {
     "name": "stdout",
     "output_type": "stream",
     "text": [
      "ItemKNN_CFCBF_HybridRecommender: ICM Detected 4877 (19.9%) items with no features.\n",
      "Similarity column 24507 (100.0%), 1621.68 column/sec. Elapsed time 15.11 sec\n",
      "Similarity column 41629 (100.0%), 1595.61 column/sec. Elapsed time 26.09 sec\n",
      "P3alphaRecommender: Similarity column 24507 (100.0%), 2468.40 column/sec. Elapsed time 9.93 sec\n"
     ]
    }
   ],
   "source": [
    "ItemKNN_CFCBF_all = ItemKNN_CFCBF_Hybrid_Recommender(urm_all, icm_all)\n",
    "ItemKNN_CFCBF_all.fit(**ItemKNN_CFCBF_params)\n",
    "\n",
    "UserKNN_all = UserKNNCFRecommender(urm_all)\n",
    "UserKNN_all.fit(**UserKNN_params)\n",
    "\n",
    "P3Alpha_all = P3alphaRecommender(urm_all)\n",
    "P3Alpha_all.fit(**P3Alpha_params)\n",
    "\n",
    "other_algorithms_all = {\n",
    "    \"Hybrid\": hybrid_all,\n",
    "    \"SLIM_Elastic\": SLIM_Elastic_all,\n",
    "    \"RP3Beta\": RP3Beta,\n",
    "    \"ItemKNN_CFCBF\": ItemKNN_CFCBF_all,\n",
    "    \"UserKNN\": UserKNN_all,\n",
    "    \"IALS\": IALS,\n",
    "    \"P3Alpha\": P3Alpha_all,\n",
    "}"
   ]
  },
  {
   "cell_type": "code",
   "execution_count": 78,
   "id": "6b72f8c8",
   "metadata": {
    "execution": {
     "iopub.execute_input": "2023-01-15T18:26:48.199285Z",
     "iopub.status.busy": "2023-01-15T18:26:48.198444Z",
     "iopub.status.idle": "2023-01-15T18:38:59.644484Z",
     "shell.execute_reply": "2023-01-15T18:38:59.642670Z"
    },
    "papermill": {
     "duration": 732.073393,
     "end_time": "2023-01-15T18:38:59.647599",
     "exception": false,
     "start_time": "2023-01-15T18:26:47.574206",
     "status": "completed"
    },
    "tags": []
   },
   "outputs": [
    {
     "name": "stderr",
     "output_type": "stream",
     "text": [
      "100%|██████████| 41116/41116 [12:11<00:00, 56.22it/s]\n"
     ]
    }
   ],
   "source": [
    "test_dataframe = test_dataframe.set_index('UserID')\n",
    "\n",
    "for user_id in tqdm(target['id']):\n",
    "    for rec_label, rec_instance in other_algorithms_all.items():\n",
    "        \n",
    "        item_list = test_dataframe.loc[user_id, \"ItemID\"].values.tolist()\n",
    "        \n",
    "        all_item_scores = rec_instance._compute_item_score([user_id], items_to_compute = item_list)\n",
    "\n",
    "        test_dataframe.loc[user_id, rec_label] = all_item_scores[0, item_list] \n",
    "\n",
    "test_dataframe = test_dataframe.reset_index()\n",
    "test_dataframe = test_dataframe.rename(columns = {\"index\": \"UserID\"})"
   ]
  },
  {
   "cell_type": "code",
   "execution_count": 79,
   "id": "08dae4b3",
   "metadata": {
    "execution": {
     "iopub.execute_input": "2023-01-15T18:39:01.735704Z",
     "iopub.status.busy": "2023-01-15T18:39:01.735165Z",
     "iopub.status.idle": "2023-01-15T18:39:01.788705Z",
     "shell.execute_reply": "2023-01-15T18:39:01.787172Z"
    },
    "papermill": {
     "duration": 1.05596,
     "end_time": "2023-01-15T18:39:01.792176",
     "exception": false,
     "start_time": "2023-01-15T18:39:00.736216",
     "status": "completed"
    },
    "tags": []
   },
   "outputs": [
    {
     "data": {
      "text/html": [
       "<div>\n",
       "<style scoped>\n",
       "    .dataframe tbody tr th:only-of-type {\n",
       "        vertical-align: middle;\n",
       "    }\n",
       "\n",
       "    .dataframe tbody tr th {\n",
       "        vertical-align: top;\n",
       "    }\n",
       "\n",
       "    .dataframe thead th {\n",
       "        text-align: right;\n",
       "    }\n",
       "</style>\n",
       "<table border=\"1\" class=\"dataframe\">\n",
       "  <thead>\n",
       "    <tr style=\"text-align: right;\">\n",
       "      <th></th>\n",
       "      <th>UserID</th>\n",
       "      <th>ItemID</th>\n",
       "      <th>Hybrid</th>\n",
       "      <th>SLIM_Elastic</th>\n",
       "      <th>RP3Beta</th>\n",
       "      <th>ItemKNN_CFCBF</th>\n",
       "      <th>UserKNN</th>\n",
       "      <th>IALS</th>\n",
       "      <th>P3Alpha</th>\n",
       "      <th>item_popularity</th>\n",
       "      <th>user_profile_len</th>\n",
       "    </tr>\n",
       "  </thead>\n",
       "  <tbody>\n",
       "    <tr>\n",
       "      <th>0</th>\n",
       "      <td>0</td>\n",
       "      <td>88</td>\n",
       "      <td>0.858603</td>\n",
       "      <td>0.225797</td>\n",
       "      <td>0.197448</td>\n",
       "      <td>0.669624</td>\n",
       "      <td>2.989326</td>\n",
       "      <td>0.714361</td>\n",
       "      <td>0.040531</td>\n",
       "      <td>5016</td>\n",
       "      <td>66</td>\n",
       "    </tr>\n",
       "    <tr>\n",
       "      <th>1</th>\n",
       "      <td>0</td>\n",
       "      <td>99</td>\n",
       "      <td>0.696343</td>\n",
       "      <td>0.182745</td>\n",
       "      <td>0.163713</td>\n",
       "      <td>1.017144</td>\n",
       "      <td>11.227981</td>\n",
       "      <td>0.516253</td>\n",
       "      <td>0.079201</td>\n",
       "      <td>379</td>\n",
       "      <td>66</td>\n",
       "    </tr>\n",
       "    <tr>\n",
       "      <th>2</th>\n",
       "      <td>0</td>\n",
       "      <td>111</td>\n",
       "      <td>0.692986</td>\n",
       "      <td>0.227246</td>\n",
       "      <td>0.084482</td>\n",
       "      <td>0.591702</td>\n",
       "      <td>0.750476</td>\n",
       "      <td>0.582824</td>\n",
       "      <td>0.048149</td>\n",
       "      <td>648</td>\n",
       "      <td>66</td>\n",
       "    </tr>\n",
       "    <tr>\n",
       "      <th>3</th>\n",
       "      <td>0</td>\n",
       "      <td>108</td>\n",
       "      <td>0.668093</td>\n",
       "      <td>0.218287</td>\n",
       "      <td>0.085561</td>\n",
       "      <td>0.553165</td>\n",
       "      <td>1.113960</td>\n",
       "      <td>0.502094</td>\n",
       "      <td>0.049999</td>\n",
       "      <td>699</td>\n",
       "      <td>66</td>\n",
       "    </tr>\n",
       "    <tr>\n",
       "      <th>4</th>\n",
       "      <td>0</td>\n",
       "      <td>175</td>\n",
       "      <td>0.642713</td>\n",
       "      <td>0.214141</td>\n",
       "      <td>0.079379</td>\n",
       "      <td>0.351877</td>\n",
       "      <td>3.869202</td>\n",
       "      <td>0.398641</td>\n",
       "      <td>0.053071</td>\n",
       "      <td>1337</td>\n",
       "      <td>66</td>\n",
       "    </tr>\n",
       "    <tr>\n",
       "      <th>...</th>\n",
       "      <td>...</td>\n",
       "      <td>...</td>\n",
       "      <td>...</td>\n",
       "      <td>...</td>\n",
       "      <td>...</td>\n",
       "      <td>...</td>\n",
       "      <td>...</td>\n",
       "      <td>...</td>\n",
       "      <td>...</td>\n",
       "      <td>...</td>\n",
       "      <td>...</td>\n",
       "    </tr>\n",
       "    <tr>\n",
       "      <th>1439055</th>\n",
       "      <td>41628</td>\n",
       "      <td>2010</td>\n",
       "      <td>0.105127</td>\n",
       "      <td>0.028257</td>\n",
       "      <td>0.024824</td>\n",
       "      <td>0.125081</td>\n",
       "      <td>1.368649</td>\n",
       "      <td>0.051930</td>\n",
       "      <td>0.010317</td>\n",
       "      <td>84</td>\n",
       "      <td>23</td>\n",
       "    </tr>\n",
       "    <tr>\n",
       "      <th>1439056</th>\n",
       "      <td>41628</td>\n",
       "      <td>2262</td>\n",
       "      <td>0.100732</td>\n",
       "      <td>0.020391</td>\n",
       "      <td>0.037359</td>\n",
       "      <td>0.100870</td>\n",
       "      <td>0.890115</td>\n",
       "      <td>-0.003629</td>\n",
       "      <td>0.010663</td>\n",
       "      <td>33</td>\n",
       "      <td>23</td>\n",
       "    </tr>\n",
       "    <tr>\n",
       "      <th>1439057</th>\n",
       "      <td>41628</td>\n",
       "      <td>8589</td>\n",
       "      <td>0.100591</td>\n",
       "      <td>0.025593</td>\n",
       "      <td>0.027459</td>\n",
       "      <td>0.058114</td>\n",
       "      <td>0.680482</td>\n",
       "      <td>0.021612</td>\n",
       "      <td>0.016671</td>\n",
       "      <td>241</td>\n",
       "      <td>23</td>\n",
       "    </tr>\n",
       "    <tr>\n",
       "      <th>1439058</th>\n",
       "      <td>41628</td>\n",
       "      <td>1991</td>\n",
       "      <td>0.099506</td>\n",
       "      <td>0.026454</td>\n",
       "      <td>0.024137</td>\n",
       "      <td>0.134864</td>\n",
       "      <td>0.000000</td>\n",
       "      <td>0.045796</td>\n",
       "      <td>0.009319</td>\n",
       "      <td>66</td>\n",
       "      <td>23</td>\n",
       "    </tr>\n",
       "    <tr>\n",
       "      <th>1439059</th>\n",
       "      <td>41628</td>\n",
       "      <td>2030</td>\n",
       "      <td>0.094512</td>\n",
       "      <td>0.024239</td>\n",
       "      <td>0.024083</td>\n",
       "      <td>0.132197</td>\n",
       "      <td>0.000000</td>\n",
       "      <td>0.050201</td>\n",
       "      <td>0.009019</td>\n",
       "      <td>60</td>\n",
       "      <td>23</td>\n",
       "    </tr>\n",
       "  </tbody>\n",
       "</table>\n",
       "<p>1439060 rows × 11 columns</p>\n",
       "</div>"
      ],
      "text/plain": [
       "         UserID  ItemID    Hybrid  SLIM_Elastic   RP3Beta  ItemKNN_CFCBF  \\\n",
       "0             0      88  0.858603      0.225797  0.197448       0.669624   \n",
       "1             0      99  0.696343      0.182745  0.163713       1.017144   \n",
       "2             0     111  0.692986      0.227246  0.084482       0.591702   \n",
       "3             0     108  0.668093      0.218287  0.085561       0.553165   \n",
       "4             0     175  0.642713      0.214141  0.079379       0.351877   \n",
       "...         ...     ...       ...           ...       ...            ...   \n",
       "1439055   41628    2010  0.105127      0.028257  0.024824       0.125081   \n",
       "1439056   41628    2262  0.100732      0.020391  0.037359       0.100870   \n",
       "1439057   41628    8589  0.100591      0.025593  0.027459       0.058114   \n",
       "1439058   41628    1991  0.099506      0.026454  0.024137       0.134864   \n",
       "1439059   41628    2030  0.094512      0.024239  0.024083       0.132197   \n",
       "\n",
       "           UserKNN      IALS   P3Alpha  item_popularity  user_profile_len  \n",
       "0         2.989326  0.714361  0.040531             5016                66  \n",
       "1        11.227981  0.516253  0.079201              379                66  \n",
       "2         0.750476  0.582824  0.048149              648                66  \n",
       "3         1.113960  0.502094  0.049999              699                66  \n",
       "4         3.869202  0.398641  0.053071             1337                66  \n",
       "...            ...       ...       ...              ...               ...  \n",
       "1439055   1.368649  0.051930  0.010317               84                23  \n",
       "1439056   0.890115 -0.003629  0.010663               33                23  \n",
       "1439057   0.680482  0.021612  0.016671              241                23  \n",
       "1439058   0.000000  0.045796  0.009319               66                23  \n",
       "1439059   0.000000  0.050201  0.009019               60                23  \n",
       "\n",
       "[1439060 rows x 11 columns]"
      ]
     },
     "execution_count": 79,
     "metadata": {},
     "output_type": "execute_result"
    }
   ],
   "source": [
    "item_popularity = np.ediff1d(sps.csc_matrix(urm_all).indptr)\n",
    "test_dataframe['item_popularity'] = item_popularity[test_dataframe[\"ItemID\"].values.astype(int)]\n",
    "\n",
    "user_popularity = np.ediff1d(sps.csr_matrix(urm_all).indptr)\n",
    "test_dataframe['user_profile_len'] = user_popularity[test_dataframe[\"UserID\"].values.astype(int)]\n",
    "\n",
    "test_dataframe"
   ]
  },
  {
   "cell_type": "code",
   "execution_count": 80,
   "id": "53f75613",
   "metadata": {
    "execution": {
     "iopub.execute_input": "2023-01-15T18:39:03.865133Z",
     "iopub.status.busy": "2023-01-15T18:39:03.864646Z",
     "iopub.status.idle": "2023-01-15T18:39:06.828516Z",
     "shell.execute_reply": "2023-01-15T18:39:06.826932Z"
    },
    "papermill": {
     "duration": 3.957666,
     "end_time": "2023-01-15T18:39:06.830713",
     "exception": false,
     "start_time": "2023-01-15T18:39:02.873047",
     "status": "completed"
    },
    "tags": []
   },
   "outputs": [
    {
     "data": {
      "text/html": [
       "<div>\n",
       "<style scoped>\n",
       "    .dataframe tbody tr th:only-of-type {\n",
       "        vertical-align: middle;\n",
       "    }\n",
       "\n",
       "    .dataframe tbody tr th {\n",
       "        vertical-align: top;\n",
       "    }\n",
       "\n",
       "    .dataframe thead th {\n",
       "        text-align: right;\n",
       "    }\n",
       "</style>\n",
       "<table border=\"1\" class=\"dataframe\">\n",
       "  <thead>\n",
       "    <tr style=\"text-align: right;\">\n",
       "      <th></th>\n",
       "      <th>ItemID</th>\n",
       "      <th>UserID</th>\n",
       "      <th>Hybrid</th>\n",
       "      <th>SLIM_Elastic</th>\n",
       "      <th>RP3Beta</th>\n",
       "      <th>ItemKNN_CFCBF</th>\n",
       "      <th>UserKNN</th>\n",
       "      <th>IALS</th>\n",
       "      <th>P3Alpha</th>\n",
       "      <th>item_popularity</th>\n",
       "      <th>user_profile_len</th>\n",
       "      <th>0</th>\n",
       "      <th>1</th>\n",
       "      <th>2</th>\n",
       "      <th>3</th>\n",
       "      <th>4</th>\n",
       "      <th>5</th>\n",
       "      <th>item_length</th>\n",
       "    </tr>\n",
       "  </thead>\n",
       "  <tbody>\n",
       "    <tr>\n",
       "      <th>0</th>\n",
       "      <td>88</td>\n",
       "      <td>0</td>\n",
       "      <td>0.858603</td>\n",
       "      <td>0.225797</td>\n",
       "      <td>0.197448</td>\n",
       "      <td>0.669624</td>\n",
       "      <td>2.989326</td>\n",
       "      <td>0.714361</td>\n",
       "      <td>0.040531</td>\n",
       "      <td>5016</td>\n",
       "      <td>66</td>\n",
       "      <td>0.0</td>\n",
       "      <td>0.0</td>\n",
       "      <td>0.0</td>\n",
       "      <td>0.0</td>\n",
       "      <td>1.0</td>\n",
       "      <td>1.0</td>\n",
       "      <td>14</td>\n",
       "    </tr>\n",
       "    <tr>\n",
       "      <th>1</th>\n",
       "      <td>489</td>\n",
       "      <td>0</td>\n",
       "      <td>0.353746</td>\n",
       "      <td>0.084492</td>\n",
       "      <td>0.093340</td>\n",
       "      <td>0.202199</td>\n",
       "      <td>1.169173</td>\n",
       "      <td>0.340531</td>\n",
       "      <td>0.020668</td>\n",
       "      <td>1849</td>\n",
       "      <td>66</td>\n",
       "      <td>1.0</td>\n",
       "      <td>0.0</td>\n",
       "      <td>0.0</td>\n",
       "      <td>0.0</td>\n",
       "      <td>0.0</td>\n",
       "      <td>1.0</td>\n",
       "      <td>1</td>\n",
       "    </tr>\n",
       "    <tr>\n",
       "      <th>2</th>\n",
       "      <td>113</td>\n",
       "      <td>0</td>\n",
       "      <td>0.334711</td>\n",
       "      <td>0.078879</td>\n",
       "      <td>0.075057</td>\n",
       "      <td>0.848110</td>\n",
       "      <td>7.532577</td>\n",
       "      <td>0.643896</td>\n",
       "      <td>0.076749</td>\n",
       "      <td>1173</td>\n",
       "      <td>66</td>\n",
       "      <td>0.0</td>\n",
       "      <td>0.0</td>\n",
       "      <td>0.0</td>\n",
       "      <td>1.0</td>\n",
       "      <td>0.0</td>\n",
       "      <td>1.0</td>\n",
       "      <td>1</td>\n",
       "    </tr>\n",
       "    <tr>\n",
       "      <th>3</th>\n",
       "      <td>544</td>\n",
       "      <td>0</td>\n",
       "      <td>0.445981</td>\n",
       "      <td>0.136331</td>\n",
       "      <td>0.061757</td>\n",
       "      <td>0.729285</td>\n",
       "      <td>2.307708</td>\n",
       "      <td>0.568779</td>\n",
       "      <td>0.088551</td>\n",
       "      <td>801</td>\n",
       "      <td>66</td>\n",
       "      <td>0.0</td>\n",
       "      <td>0.0</td>\n",
       "      <td>0.0</td>\n",
       "      <td>0.0</td>\n",
       "      <td>1.0</td>\n",
       "      <td>1.0</td>\n",
       "      <td>14</td>\n",
       "    </tr>\n",
       "    <tr>\n",
       "      <th>4</th>\n",
       "      <td>111</td>\n",
       "      <td>0</td>\n",
       "      <td>0.692986</td>\n",
       "      <td>0.227246</td>\n",
       "      <td>0.084482</td>\n",
       "      <td>0.591702</td>\n",
       "      <td>0.750476</td>\n",
       "      <td>0.582824</td>\n",
       "      <td>0.048149</td>\n",
       "      <td>648</td>\n",
       "      <td>66</td>\n",
       "      <td>0.0</td>\n",
       "      <td>0.0</td>\n",
       "      <td>0.0</td>\n",
       "      <td>0.0</td>\n",
       "      <td>1.0</td>\n",
       "      <td>1.0</td>\n",
       "      <td>8</td>\n",
       "    </tr>\n",
       "    <tr>\n",
       "      <th>...</th>\n",
       "      <td>...</td>\n",
       "      <td>...</td>\n",
       "      <td>...</td>\n",
       "      <td>...</td>\n",
       "      <td>...</td>\n",
       "      <td>...</td>\n",
       "      <td>...</td>\n",
       "      <td>...</td>\n",
       "      <td>...</td>\n",
       "      <td>...</td>\n",
       "      <td>...</td>\n",
       "      <td>...</td>\n",
       "      <td>...</td>\n",
       "      <td>...</td>\n",
       "      <td>...</td>\n",
       "      <td>...</td>\n",
       "      <td>...</td>\n",
       "      <td>...</td>\n",
       "    </tr>\n",
       "    <tr>\n",
       "      <th>1439055</th>\n",
       "      <td>2026</td>\n",
       "      <td>41628</td>\n",
       "      <td>0.147914</td>\n",
       "      <td>0.047519</td>\n",
       "      <td>0.023995</td>\n",
       "      <td>0.128844</td>\n",
       "      <td>0.000000</td>\n",
       "      <td>0.031715</td>\n",
       "      <td>0.009165</td>\n",
       "      <td>64</td>\n",
       "      <td>23</td>\n",
       "      <td>0.0</td>\n",
       "      <td>0.0</td>\n",
       "      <td>0.0</td>\n",
       "      <td>0.0</td>\n",
       "      <td>0.0</td>\n",
       "      <td>0.0</td>\n",
       "      <td>0</td>\n",
       "    </tr>\n",
       "    <tr>\n",
       "      <th>1439056</th>\n",
       "      <td>2956</td>\n",
       "      <td>41628</td>\n",
       "      <td>0.198776</td>\n",
       "      <td>0.041094</td>\n",
       "      <td>0.047026</td>\n",
       "      <td>0.290263</td>\n",
       "      <td>6.194128</td>\n",
       "      <td>0.533923</td>\n",
       "      <td>0.016090</td>\n",
       "      <td>918</td>\n",
       "      <td>23</td>\n",
       "      <td>0.0</td>\n",
       "      <td>0.0</td>\n",
       "      <td>0.0</td>\n",
       "      <td>0.0</td>\n",
       "      <td>1.0</td>\n",
       "      <td>1.0</td>\n",
       "      <td>8</td>\n",
       "    </tr>\n",
       "    <tr>\n",
       "      <th>1439057</th>\n",
       "      <td>4529</td>\n",
       "      <td>41628</td>\n",
       "      <td>0.130937</td>\n",
       "      <td>0.040355</td>\n",
       "      <td>0.025788</td>\n",
       "      <td>0.108635</td>\n",
       "      <td>0.000000</td>\n",
       "      <td>-0.008604</td>\n",
       "      <td>0.008257</td>\n",
       "      <td>34</td>\n",
       "      <td>23</td>\n",
       "      <td>0.0</td>\n",
       "      <td>0.0</td>\n",
       "      <td>0.0</td>\n",
       "      <td>0.0</td>\n",
       "      <td>0.0</td>\n",
       "      <td>0.0</td>\n",
       "      <td>0</td>\n",
       "    </tr>\n",
       "    <tr>\n",
       "      <th>1439058</th>\n",
       "      <td>2656</td>\n",
       "      <td>41628</td>\n",
       "      <td>0.177156</td>\n",
       "      <td>0.051240</td>\n",
       "      <td>0.032070</td>\n",
       "      <td>0.160865</td>\n",
       "      <td>4.207815</td>\n",
       "      <td>0.167950</td>\n",
       "      <td>0.000000</td>\n",
       "      <td>385</td>\n",
       "      <td>23</td>\n",
       "      <td>0.0</td>\n",
       "      <td>0.0</td>\n",
       "      <td>0.0</td>\n",
       "      <td>1.0</td>\n",
       "      <td>0.0</td>\n",
       "      <td>1.0</td>\n",
       "      <td>1</td>\n",
       "    </tr>\n",
       "    <tr>\n",
       "      <th>1439059</th>\n",
       "      <td>2262</td>\n",
       "      <td>41628</td>\n",
       "      <td>0.100732</td>\n",
       "      <td>0.020391</td>\n",
       "      <td>0.037359</td>\n",
       "      <td>0.100870</td>\n",
       "      <td>0.890115</td>\n",
       "      <td>-0.003629</td>\n",
       "      <td>0.010663</td>\n",
       "      <td>33</td>\n",
       "      <td>23</td>\n",
       "      <td>1.0</td>\n",
       "      <td>0.0</td>\n",
       "      <td>0.0</td>\n",
       "      <td>0.0</td>\n",
       "      <td>0.0</td>\n",
       "      <td>1.0</td>\n",
       "      <td>1</td>\n",
       "    </tr>\n",
       "  </tbody>\n",
       "</table>\n",
       "<p>1439060 rows × 18 columns</p>\n",
       "</div>"
      ],
      "text/plain": [
       "         ItemID  UserID    Hybrid  SLIM_Elastic   RP3Beta  ItemKNN_CFCBF  \\\n",
       "0            88       0  0.858603      0.225797  0.197448       0.669624   \n",
       "1           489       0  0.353746      0.084492  0.093340       0.202199   \n",
       "2           113       0  0.334711      0.078879  0.075057       0.848110   \n",
       "3           544       0  0.445981      0.136331  0.061757       0.729285   \n",
       "4           111       0  0.692986      0.227246  0.084482       0.591702   \n",
       "...         ...     ...       ...           ...       ...            ...   \n",
       "1439055    2026   41628  0.147914      0.047519  0.023995       0.128844   \n",
       "1439056    2956   41628  0.198776      0.041094  0.047026       0.290263   \n",
       "1439057    4529   41628  0.130937      0.040355  0.025788       0.108635   \n",
       "1439058    2656   41628  0.177156      0.051240  0.032070       0.160865   \n",
       "1439059    2262   41628  0.100732      0.020391  0.037359       0.100870   \n",
       "\n",
       "          UserKNN      IALS   P3Alpha  item_popularity  user_profile_len    0  \\\n",
       "0        2.989326  0.714361  0.040531             5016                66  0.0   \n",
       "1        1.169173  0.340531  0.020668             1849                66  1.0   \n",
       "2        7.532577  0.643896  0.076749             1173                66  0.0   \n",
       "3        2.307708  0.568779  0.088551              801                66  0.0   \n",
       "4        0.750476  0.582824  0.048149              648                66  0.0   \n",
       "...           ...       ...       ...              ...               ...  ...   \n",
       "1439055  0.000000  0.031715  0.009165               64                23  0.0   \n",
       "1439056  6.194128  0.533923  0.016090              918                23  0.0   \n",
       "1439057  0.000000 -0.008604  0.008257               34                23  0.0   \n",
       "1439058  4.207815  0.167950  0.000000              385                23  0.0   \n",
       "1439059  0.890115 -0.003629  0.010663               33                23  1.0   \n",
       "\n",
       "           1    2    3    4    5  item_length  \n",
       "0        0.0  0.0  0.0  1.0  1.0           14  \n",
       "1        0.0  0.0  0.0  0.0  1.0            1  \n",
       "2        0.0  0.0  1.0  0.0  1.0            1  \n",
       "3        0.0  0.0  0.0  1.0  1.0           14  \n",
       "4        0.0  0.0  0.0  1.0  1.0            8  \n",
       "...      ...  ...  ...  ...  ...          ...  \n",
       "1439055  0.0  0.0  0.0  0.0  0.0            0  \n",
       "1439056  0.0  0.0  0.0  1.0  1.0            8  \n",
       "1439057  0.0  0.0  0.0  0.0  0.0            0  \n",
       "1439058  0.0  0.0  1.0  0.0  1.0            1  \n",
       "1439059  0.0  0.0  0.0  0.0  1.0            1  \n",
       "\n",
       "[1439060 rows x 18 columns]"
      ]
     },
     "execution_count": 80,
     "metadata": {},
     "output_type": "execute_result"
    }
   ],
   "source": [
    "# qui va messo stesso codice di prima\n",
    "\n",
    "features_df = pd.DataFrame.sparse.from_spmatrix(icm_all)\n",
    "\n",
    "test_dataframe = test_dataframe.set_index('ItemID').join(features_df, how='inner')\n",
    "test_dataframe = test_dataframe.reset_index()\n",
    "test_dataframe = test_dataframe.rename(columns = {\"index\": \"ItemID\"})\n",
    "\n",
    "test_dataframe = test_dataframe.merge(icm_length_mapped, how=\"left\")\n",
    "test_dataframe['item_length'] = test_dataframe['item_length'].fillna(0).astype(int)\n",
    "\n",
    "test_dataframe = test_dataframe.sort_values(\"UserID\").reset_index()\n",
    "test_dataframe.drop(columns = ['index'], inplace=True)\n",
    "test_dataframe"
   ]
  },
  {
   "cell_type": "code",
   "execution_count": 81,
   "id": "c28f9e70",
   "metadata": {
    "execution": {
     "iopub.execute_input": "2023-01-15T18:39:08.922485Z",
     "iopub.status.busy": "2023-01-15T18:39:08.921999Z",
     "iopub.status.idle": "2023-01-15T18:39:08.925808Z",
     "shell.execute_reply": "2023-01-15T18:39:08.925121Z"
    },
    "papermill": {
     "duration": 1.01275,
     "end_time": "2023-01-15T18:39:08.927414",
     "exception": false,
     "start_time": "2023-01-15T18:39:07.914664",
     "status": "completed"
    },
    "tags": []
   },
   "outputs": [],
   "source": [
    "X = test_dataframe"
   ]
  },
  {
   "cell_type": "code",
   "execution_count": 82,
   "id": "db464806",
   "metadata": {
    "execution": {
     "iopub.execute_input": "2023-01-15T18:39:10.994392Z",
     "iopub.status.busy": "2023-01-15T18:39:10.993344Z",
     "iopub.status.idle": "2023-01-15T18:39:13.015713Z",
     "shell.execute_reply": "2023-01-15T18:39:13.015024Z"
    },
    "papermill": {
     "duration": 3.010983,
     "end_time": "2023-01-15T18:39:13.017737",
     "exception": false,
     "start_time": "2023-01-15T18:39:10.006754",
     "status": "completed"
    },
    "tags": []
   },
   "outputs": [
    {
     "data": {
      "text/plain": [
       "array([ 0.54007655, -0.71502   , -0.300681  , ..., -2.7608242 ,\n",
       "       -1.0123451 , -2.6541162 ], dtype=float32)"
      ]
     },
     "execution_count": 82,
     "metadata": {},
     "output_type": "execute_result"
    }
   ],
   "source": [
    "predictions = XGB_model.predict(X)\n",
    "predictions"
   ]
  },
  {
   "cell_type": "code",
   "execution_count": 83,
   "id": "99137e88",
   "metadata": {
    "execution": {
     "iopub.execute_input": "2023-01-15T18:39:15.173200Z",
     "iopub.status.busy": "2023-01-15T18:39:15.172463Z",
     "iopub.status.idle": "2023-01-15T18:39:15.229384Z",
     "shell.execute_reply": "2023-01-15T18:39:15.227987Z"
    },
    "papermill": {
     "duration": 1.140709,
     "end_time": "2023-01-15T18:39:15.232671",
     "exception": false,
     "start_time": "2023-01-15T18:39:14.091962",
     "status": "completed"
    },
    "tags": []
   },
   "outputs": [
    {
     "data": {
      "text/html": [
       "<div>\n",
       "<style scoped>\n",
       "    .dataframe tbody tr th:only-of-type {\n",
       "        vertical-align: middle;\n",
       "    }\n",
       "\n",
       "    .dataframe tbody tr th {\n",
       "        vertical-align: top;\n",
       "    }\n",
       "\n",
       "    .dataframe thead th {\n",
       "        text-align: right;\n",
       "    }\n",
       "</style>\n",
       "<table border=\"1\" class=\"dataframe\">\n",
       "  <thead>\n",
       "    <tr style=\"text-align: right;\">\n",
       "      <th></th>\n",
       "      <th>ItemID</th>\n",
       "      <th>UserID</th>\n",
       "      <th>Hybrid</th>\n",
       "      <th>SLIM_Elastic</th>\n",
       "      <th>RP3Beta</th>\n",
       "      <th>ItemKNN_CFCBF</th>\n",
       "      <th>UserKNN</th>\n",
       "      <th>IALS</th>\n",
       "      <th>P3Alpha</th>\n",
       "      <th>item_popularity</th>\n",
       "      <th>user_profile_len</th>\n",
       "      <th>0</th>\n",
       "      <th>1</th>\n",
       "      <th>2</th>\n",
       "      <th>3</th>\n",
       "      <th>4</th>\n",
       "      <th>5</th>\n",
       "      <th>item_length</th>\n",
       "      <th>rating_xgb</th>\n",
       "    </tr>\n",
       "  </thead>\n",
       "  <tbody>\n",
       "    <tr>\n",
       "      <th>0</th>\n",
       "      <td>88</td>\n",
       "      <td>0</td>\n",
       "      <td>0.858603</td>\n",
       "      <td>0.225797</td>\n",
       "      <td>0.197448</td>\n",
       "      <td>0.669624</td>\n",
       "      <td>2.989326</td>\n",
       "      <td>0.714361</td>\n",
       "      <td>0.040531</td>\n",
       "      <td>5016</td>\n",
       "      <td>66</td>\n",
       "      <td>0.0</td>\n",
       "      <td>0.0</td>\n",
       "      <td>0.0</td>\n",
       "      <td>0.0</td>\n",
       "      <td>1.0</td>\n",
       "      <td>1.0</td>\n",
       "      <td>14</td>\n",
       "      <td>0.540077</td>\n",
       "    </tr>\n",
       "    <tr>\n",
       "      <th>1</th>\n",
       "      <td>489</td>\n",
       "      <td>0</td>\n",
       "      <td>0.353746</td>\n",
       "      <td>0.084492</td>\n",
       "      <td>0.093340</td>\n",
       "      <td>0.202199</td>\n",
       "      <td>1.169173</td>\n",
       "      <td>0.340531</td>\n",
       "      <td>0.020668</td>\n",
       "      <td>1849</td>\n",
       "      <td>66</td>\n",
       "      <td>1.0</td>\n",
       "      <td>0.0</td>\n",
       "      <td>0.0</td>\n",
       "      <td>0.0</td>\n",
       "      <td>0.0</td>\n",
       "      <td>1.0</td>\n",
       "      <td>1</td>\n",
       "      <td>-0.715020</td>\n",
       "    </tr>\n",
       "    <tr>\n",
       "      <th>2</th>\n",
       "      <td>113</td>\n",
       "      <td>0</td>\n",
       "      <td>0.334711</td>\n",
       "      <td>0.078879</td>\n",
       "      <td>0.075057</td>\n",
       "      <td>0.848110</td>\n",
       "      <td>7.532577</td>\n",
       "      <td>0.643896</td>\n",
       "      <td>0.076749</td>\n",
       "      <td>1173</td>\n",
       "      <td>66</td>\n",
       "      <td>0.0</td>\n",
       "      <td>0.0</td>\n",
       "      <td>0.0</td>\n",
       "      <td>1.0</td>\n",
       "      <td>0.0</td>\n",
       "      <td>1.0</td>\n",
       "      <td>1</td>\n",
       "      <td>-0.300681</td>\n",
       "    </tr>\n",
       "    <tr>\n",
       "      <th>3</th>\n",
       "      <td>544</td>\n",
       "      <td>0</td>\n",
       "      <td>0.445981</td>\n",
       "      <td>0.136331</td>\n",
       "      <td>0.061757</td>\n",
       "      <td>0.729285</td>\n",
       "      <td>2.307708</td>\n",
       "      <td>0.568779</td>\n",
       "      <td>0.088551</td>\n",
       "      <td>801</td>\n",
       "      <td>66</td>\n",
       "      <td>0.0</td>\n",
       "      <td>0.0</td>\n",
       "      <td>0.0</td>\n",
       "      <td>0.0</td>\n",
       "      <td>1.0</td>\n",
       "      <td>1.0</td>\n",
       "      <td>14</td>\n",
       "      <td>-0.129371</td>\n",
       "    </tr>\n",
       "    <tr>\n",
       "      <th>4</th>\n",
       "      <td>111</td>\n",
       "      <td>0</td>\n",
       "      <td>0.692986</td>\n",
       "      <td>0.227246</td>\n",
       "      <td>0.084482</td>\n",
       "      <td>0.591702</td>\n",
       "      <td>0.750476</td>\n",
       "      <td>0.582824</td>\n",
       "      <td>0.048149</td>\n",
       "      <td>648</td>\n",
       "      <td>66</td>\n",
       "      <td>0.0</td>\n",
       "      <td>0.0</td>\n",
       "      <td>0.0</td>\n",
       "      <td>0.0</td>\n",
       "      <td>1.0</td>\n",
       "      <td>1.0</td>\n",
       "      <td>8</td>\n",
       "      <td>0.466037</td>\n",
       "    </tr>\n",
       "    <tr>\n",
       "      <th>...</th>\n",
       "      <td>...</td>\n",
       "      <td>...</td>\n",
       "      <td>...</td>\n",
       "      <td>...</td>\n",
       "      <td>...</td>\n",
       "      <td>...</td>\n",
       "      <td>...</td>\n",
       "      <td>...</td>\n",
       "      <td>...</td>\n",
       "      <td>...</td>\n",
       "      <td>...</td>\n",
       "      <td>...</td>\n",
       "      <td>...</td>\n",
       "      <td>...</td>\n",
       "      <td>...</td>\n",
       "      <td>...</td>\n",
       "      <td>...</td>\n",
       "      <td>...</td>\n",
       "      <td>...</td>\n",
       "    </tr>\n",
       "    <tr>\n",
       "      <th>1439055</th>\n",
       "      <td>2026</td>\n",
       "      <td>41628</td>\n",
       "      <td>0.147914</td>\n",
       "      <td>0.047519</td>\n",
       "      <td>0.023995</td>\n",
       "      <td>0.128844</td>\n",
       "      <td>0.000000</td>\n",
       "      <td>0.031715</td>\n",
       "      <td>0.009165</td>\n",
       "      <td>64</td>\n",
       "      <td>23</td>\n",
       "      <td>0.0</td>\n",
       "      <td>0.0</td>\n",
       "      <td>0.0</td>\n",
       "      <td>0.0</td>\n",
       "      <td>0.0</td>\n",
       "      <td>0.0</td>\n",
       "      <td>0</td>\n",
       "      <td>-2.651794</td>\n",
       "    </tr>\n",
       "    <tr>\n",
       "      <th>1439056</th>\n",
       "      <td>2956</td>\n",
       "      <td>41628</td>\n",
       "      <td>0.198776</td>\n",
       "      <td>0.041094</td>\n",
       "      <td>0.047026</td>\n",
       "      <td>0.290263</td>\n",
       "      <td>6.194128</td>\n",
       "      <td>0.533923</td>\n",
       "      <td>0.016090</td>\n",
       "      <td>918</td>\n",
       "      <td>23</td>\n",
       "      <td>0.0</td>\n",
       "      <td>0.0</td>\n",
       "      <td>0.0</td>\n",
       "      <td>0.0</td>\n",
       "      <td>1.0</td>\n",
       "      <td>1.0</td>\n",
       "      <td>8</td>\n",
       "      <td>-0.040634</td>\n",
       "    </tr>\n",
       "    <tr>\n",
       "      <th>1439057</th>\n",
       "      <td>4529</td>\n",
       "      <td>41628</td>\n",
       "      <td>0.130937</td>\n",
       "      <td>0.040355</td>\n",
       "      <td>0.025788</td>\n",
       "      <td>0.108635</td>\n",
       "      <td>0.000000</td>\n",
       "      <td>-0.008604</td>\n",
       "      <td>0.008257</td>\n",
       "      <td>34</td>\n",
       "      <td>23</td>\n",
       "      <td>0.0</td>\n",
       "      <td>0.0</td>\n",
       "      <td>0.0</td>\n",
       "      <td>0.0</td>\n",
       "      <td>0.0</td>\n",
       "      <td>0.0</td>\n",
       "      <td>0</td>\n",
       "      <td>-2.760824</td>\n",
       "    </tr>\n",
       "    <tr>\n",
       "      <th>1439058</th>\n",
       "      <td>2656</td>\n",
       "      <td>41628</td>\n",
       "      <td>0.177156</td>\n",
       "      <td>0.051240</td>\n",
       "      <td>0.032070</td>\n",
       "      <td>0.160865</td>\n",
       "      <td>4.207815</td>\n",
       "      <td>0.167950</td>\n",
       "      <td>0.000000</td>\n",
       "      <td>385</td>\n",
       "      <td>23</td>\n",
       "      <td>0.0</td>\n",
       "      <td>0.0</td>\n",
       "      <td>0.0</td>\n",
       "      <td>1.0</td>\n",
       "      <td>0.0</td>\n",
       "      <td>1.0</td>\n",
       "      <td>1</td>\n",
       "      <td>-1.012345</td>\n",
       "    </tr>\n",
       "    <tr>\n",
       "      <th>1439059</th>\n",
       "      <td>2262</td>\n",
       "      <td>41628</td>\n",
       "      <td>0.100732</td>\n",
       "      <td>0.020391</td>\n",
       "      <td>0.037359</td>\n",
       "      <td>0.100870</td>\n",
       "      <td>0.890115</td>\n",
       "      <td>-0.003629</td>\n",
       "      <td>0.010663</td>\n",
       "      <td>33</td>\n",
       "      <td>23</td>\n",
       "      <td>1.0</td>\n",
       "      <td>0.0</td>\n",
       "      <td>0.0</td>\n",
       "      <td>0.0</td>\n",
       "      <td>0.0</td>\n",
       "      <td>1.0</td>\n",
       "      <td>1</td>\n",
       "      <td>-2.654116</td>\n",
       "    </tr>\n",
       "  </tbody>\n",
       "</table>\n",
       "<p>1439060 rows × 19 columns</p>\n",
       "</div>"
      ],
      "text/plain": [
       "         ItemID  UserID    Hybrid  SLIM_Elastic   RP3Beta  ItemKNN_CFCBF  \\\n",
       "0            88       0  0.858603      0.225797  0.197448       0.669624   \n",
       "1           489       0  0.353746      0.084492  0.093340       0.202199   \n",
       "2           113       0  0.334711      0.078879  0.075057       0.848110   \n",
       "3           544       0  0.445981      0.136331  0.061757       0.729285   \n",
       "4           111       0  0.692986      0.227246  0.084482       0.591702   \n",
       "...         ...     ...       ...           ...       ...            ...   \n",
       "1439055    2026   41628  0.147914      0.047519  0.023995       0.128844   \n",
       "1439056    2956   41628  0.198776      0.041094  0.047026       0.290263   \n",
       "1439057    4529   41628  0.130937      0.040355  0.025788       0.108635   \n",
       "1439058    2656   41628  0.177156      0.051240  0.032070       0.160865   \n",
       "1439059    2262   41628  0.100732      0.020391  0.037359       0.100870   \n",
       "\n",
       "          UserKNN      IALS   P3Alpha  item_popularity  user_profile_len    0  \\\n",
       "0        2.989326  0.714361  0.040531             5016                66  0.0   \n",
       "1        1.169173  0.340531  0.020668             1849                66  1.0   \n",
       "2        7.532577  0.643896  0.076749             1173                66  0.0   \n",
       "3        2.307708  0.568779  0.088551              801                66  0.0   \n",
       "4        0.750476  0.582824  0.048149              648                66  0.0   \n",
       "...           ...       ...       ...              ...               ...  ...   \n",
       "1439055  0.000000  0.031715  0.009165               64                23  0.0   \n",
       "1439056  6.194128  0.533923  0.016090              918                23  0.0   \n",
       "1439057  0.000000 -0.008604  0.008257               34                23  0.0   \n",
       "1439058  4.207815  0.167950  0.000000              385                23  0.0   \n",
       "1439059  0.890115 -0.003629  0.010663               33                23  1.0   \n",
       "\n",
       "           1    2    3    4    5  item_length  rating_xgb  \n",
       "0        0.0  0.0  0.0  1.0  1.0           14    0.540077  \n",
       "1        0.0  0.0  0.0  0.0  1.0            1   -0.715020  \n",
       "2        0.0  0.0  1.0  0.0  1.0            1   -0.300681  \n",
       "3        0.0  0.0  0.0  1.0  1.0           14   -0.129371  \n",
       "4        0.0  0.0  0.0  1.0  1.0            8    0.466037  \n",
       "...      ...  ...  ...  ...  ...          ...         ...  \n",
       "1439055  0.0  0.0  0.0  0.0  0.0            0   -2.651794  \n",
       "1439056  0.0  0.0  0.0  1.0  1.0            8   -0.040634  \n",
       "1439057  0.0  0.0  0.0  0.0  0.0            0   -2.760824  \n",
       "1439058  0.0  0.0  1.0  0.0  1.0            1   -1.012345  \n",
       "1439059  0.0  0.0  0.0  0.0  1.0            1   -2.654116  \n",
       "\n",
       "[1439060 rows x 19 columns]"
      ]
     },
     "execution_count": 83,
     "metadata": {},
     "output_type": "execute_result"
    }
   ],
   "source": [
    "reranked_dataframe = test_dataframe.copy()\n",
    "reranked_dataframe['rating_xgb'] = pd.Series(predictions, index=reranked_dataframe.index)\n",
    "reranked_dataframe"
   ]
  },
  {
   "cell_type": "code",
   "execution_count": 84,
   "id": "25ed4781",
   "metadata": {
    "execution": {
     "iopub.execute_input": "2023-01-15T18:39:17.312022Z",
     "iopub.status.busy": "2023-01-15T18:39:17.311640Z",
     "iopub.status.idle": "2023-01-15T18:39:18.895855Z",
     "shell.execute_reply": "2023-01-15T18:39:18.894942Z"
    },
    "papermill": {
     "duration": 2.671894,
     "end_time": "2023-01-15T18:39:18.897771",
     "exception": false,
     "start_time": "2023-01-15T18:39:16.225877",
     "status": "completed"
    },
    "tags": []
   },
   "outputs": [
    {
     "data": {
      "text/html": [
       "<div>\n",
       "<style scoped>\n",
       "    .dataframe tbody tr th:only-of-type {\n",
       "        vertical-align: middle;\n",
       "    }\n",
       "\n",
       "    .dataframe tbody tr th {\n",
       "        vertical-align: top;\n",
       "    }\n",
       "\n",
       "    .dataframe thead th {\n",
       "        text-align: right;\n",
       "    }\n",
       "</style>\n",
       "<table border=\"1\" class=\"dataframe\">\n",
       "  <thead>\n",
       "    <tr style=\"text-align: right;\">\n",
       "      <th></th>\n",
       "      <th>ItemID</th>\n",
       "      <th>UserID</th>\n",
       "      <th>Hybrid</th>\n",
       "      <th>SLIM_Elastic</th>\n",
       "      <th>RP3Beta</th>\n",
       "      <th>ItemKNN_CFCBF</th>\n",
       "      <th>UserKNN</th>\n",
       "      <th>IALS</th>\n",
       "      <th>P3Alpha</th>\n",
       "      <th>item_popularity</th>\n",
       "      <th>user_profile_len</th>\n",
       "      <th>0</th>\n",
       "      <th>1</th>\n",
       "      <th>2</th>\n",
       "      <th>3</th>\n",
       "      <th>4</th>\n",
       "      <th>5</th>\n",
       "      <th>item_length</th>\n",
       "      <th>rating_xgb</th>\n",
       "    </tr>\n",
       "  </thead>\n",
       "  <tbody>\n",
       "    <tr>\n",
       "      <th>5</th>\n",
       "      <td>99</td>\n",
       "      <td>0</td>\n",
       "      <td>0.696343</td>\n",
       "      <td>0.182745</td>\n",
       "      <td>0.163713</td>\n",
       "      <td>1.017144</td>\n",
       "      <td>11.227981</td>\n",
       "      <td>0.516253</td>\n",
       "      <td>0.079201</td>\n",
       "      <td>379</td>\n",
       "      <td>66</td>\n",
       "      <td>1.0</td>\n",
       "      <td>0.0</td>\n",
       "      <td>0.0</td>\n",
       "      <td>0.0</td>\n",
       "      <td>0.0</td>\n",
       "      <td>1.0</td>\n",
       "      <td>1</td>\n",
       "      <td>0.569593</td>\n",
       "    </tr>\n",
       "    <tr>\n",
       "      <th>0</th>\n",
       "      <td>88</td>\n",
       "      <td>0</td>\n",
       "      <td>0.858603</td>\n",
       "      <td>0.225797</td>\n",
       "      <td>0.197448</td>\n",
       "      <td>0.669624</td>\n",
       "      <td>2.989326</td>\n",
       "      <td>0.714361</td>\n",
       "      <td>0.040531</td>\n",
       "      <td>5016</td>\n",
       "      <td>66</td>\n",
       "      <td>0.0</td>\n",
       "      <td>0.0</td>\n",
       "      <td>0.0</td>\n",
       "      <td>0.0</td>\n",
       "      <td>1.0</td>\n",
       "      <td>1.0</td>\n",
       "      <td>14</td>\n",
       "      <td>0.540077</td>\n",
       "    </tr>\n",
       "    <tr>\n",
       "      <th>4</th>\n",
       "      <td>111</td>\n",
       "      <td>0</td>\n",
       "      <td>0.692986</td>\n",
       "      <td>0.227246</td>\n",
       "      <td>0.084482</td>\n",
       "      <td>0.591702</td>\n",
       "      <td>0.750476</td>\n",
       "      <td>0.582824</td>\n",
       "      <td>0.048149</td>\n",
       "      <td>648</td>\n",
       "      <td>66</td>\n",
       "      <td>0.0</td>\n",
       "      <td>0.0</td>\n",
       "      <td>0.0</td>\n",
       "      <td>0.0</td>\n",
       "      <td>1.0</td>\n",
       "      <td>1.0</td>\n",
       "      <td>8</td>\n",
       "      <td>0.466037</td>\n",
       "    </tr>\n",
       "    <tr>\n",
       "      <th>13</th>\n",
       "      <td>108</td>\n",
       "      <td>0</td>\n",
       "      <td>0.668093</td>\n",
       "      <td>0.218287</td>\n",
       "      <td>0.085561</td>\n",
       "      <td>0.553165</td>\n",
       "      <td>1.113960</td>\n",
       "      <td>0.502094</td>\n",
       "      <td>0.049999</td>\n",
       "      <td>699</td>\n",
       "      <td>66</td>\n",
       "      <td>1.0</td>\n",
       "      <td>0.0</td>\n",
       "      <td>0.0</td>\n",
       "      <td>0.0</td>\n",
       "      <td>0.0</td>\n",
       "      <td>1.0</td>\n",
       "      <td>1</td>\n",
       "      <td>0.351891</td>\n",
       "    </tr>\n",
       "    <tr>\n",
       "      <th>29</th>\n",
       "      <td>175</td>\n",
       "      <td>0</td>\n",
       "      <td>0.642713</td>\n",
       "      <td>0.214141</td>\n",
       "      <td>0.079379</td>\n",
       "      <td>0.351877</td>\n",
       "      <td>3.869202</td>\n",
       "      <td>0.398641</td>\n",
       "      <td>0.053071</td>\n",
       "      <td>1337</td>\n",
       "      <td>66</td>\n",
       "      <td>0.0</td>\n",
       "      <td>0.0</td>\n",
       "      <td>0.0</td>\n",
       "      <td>1.0</td>\n",
       "      <td>0.0</td>\n",
       "      <td>1.0</td>\n",
       "      <td>1</td>\n",
       "      <td>0.277329</td>\n",
       "    </tr>\n",
       "    <tr>\n",
       "      <th>...</th>\n",
       "      <td>...</td>\n",
       "      <td>...</td>\n",
       "      <td>...</td>\n",
       "      <td>...</td>\n",
       "      <td>...</td>\n",
       "      <td>...</td>\n",
       "      <td>...</td>\n",
       "      <td>...</td>\n",
       "      <td>...</td>\n",
       "      <td>...</td>\n",
       "      <td>...</td>\n",
       "      <td>...</td>\n",
       "      <td>...</td>\n",
       "      <td>...</td>\n",
       "      <td>...</td>\n",
       "      <td>...</td>\n",
       "      <td>...</td>\n",
       "      <td>...</td>\n",
       "      <td>...</td>\n",
       "    </tr>\n",
       "    <tr>\n",
       "      <th>1439052</th>\n",
       "      <td>2042</td>\n",
       "      <td>41628</td>\n",
       "      <td>0.112287</td>\n",
       "      <td>0.032766</td>\n",
       "      <td>0.022698</td>\n",
       "      <td>0.110710</td>\n",
       "      <td>0.000000</td>\n",
       "      <td>0.045475</td>\n",
       "      <td>0.008008</td>\n",
       "      <td>58</td>\n",
       "      <td>23</td>\n",
       "      <td>0.0</td>\n",
       "      <td>0.0</td>\n",
       "      <td>0.0</td>\n",
       "      <td>0.0</td>\n",
       "      <td>0.0</td>\n",
       "      <td>0.0</td>\n",
       "      <td>0</td>\n",
       "      <td>-3.054165</td>\n",
       "    </tr>\n",
       "    <tr>\n",
       "      <th>1439044</th>\n",
       "      <td>1991</td>\n",
       "      <td>41628</td>\n",
       "      <td>0.099506</td>\n",
       "      <td>0.026454</td>\n",
       "      <td>0.024137</td>\n",
       "      <td>0.134864</td>\n",
       "      <td>0.000000</td>\n",
       "      <td>0.045796</td>\n",
       "      <td>0.009319</td>\n",
       "      <td>66</td>\n",
       "      <td>23</td>\n",
       "      <td>0.0</td>\n",
       "      <td>0.0</td>\n",
       "      <td>0.0</td>\n",
       "      <td>0.0</td>\n",
       "      <td>1.0</td>\n",
       "      <td>1.0</td>\n",
       "      <td>22</td>\n",
       "      <td>-3.147993</td>\n",
       "    </tr>\n",
       "    <tr>\n",
       "      <th>1439032</th>\n",
       "      <td>467</td>\n",
       "      <td>41628</td>\n",
       "      <td>0.110934</td>\n",
       "      <td>0.034066</td>\n",
       "      <td>0.020158</td>\n",
       "      <td>0.095976</td>\n",
       "      <td>0.763269</td>\n",
       "      <td>0.033318</td>\n",
       "      <td>0.012942</td>\n",
       "      <td>68</td>\n",
       "      <td>23</td>\n",
       "      <td>1.0</td>\n",
       "      <td>0.0</td>\n",
       "      <td>0.0</td>\n",
       "      <td>0.0</td>\n",
       "      <td>0.0</td>\n",
       "      <td>1.0</td>\n",
       "      <td>1</td>\n",
       "      <td>-3.160835</td>\n",
       "    </tr>\n",
       "    <tr>\n",
       "      <th>1439042</th>\n",
       "      <td>8589</td>\n",
       "      <td>41628</td>\n",
       "      <td>0.100591</td>\n",
       "      <td>0.025593</td>\n",
       "      <td>0.027459</td>\n",
       "      <td>0.058114</td>\n",
       "      <td>0.680482</td>\n",
       "      <td>0.021612</td>\n",
       "      <td>0.016671</td>\n",
       "      <td>241</td>\n",
       "      <td>23</td>\n",
       "      <td>1.0</td>\n",
       "      <td>0.0</td>\n",
       "      <td>0.0</td>\n",
       "      <td>0.0</td>\n",
       "      <td>0.0</td>\n",
       "      <td>1.0</td>\n",
       "      <td>1</td>\n",
       "      <td>-3.197847</td>\n",
       "    </tr>\n",
       "    <tr>\n",
       "      <th>1439028</th>\n",
       "      <td>17670</td>\n",
       "      <td>41628</td>\n",
       "      <td>0.118752</td>\n",
       "      <td>0.036315</td>\n",
       "      <td>0.022729</td>\n",
       "      <td>0.118240</td>\n",
       "      <td>0.000000</td>\n",
       "      <td>0.016398</td>\n",
       "      <td>0.008747</td>\n",
       "      <td>66</td>\n",
       "      <td>23</td>\n",
       "      <td>1.0</td>\n",
       "      <td>0.0</td>\n",
       "      <td>0.0</td>\n",
       "      <td>0.0</td>\n",
       "      <td>0.0</td>\n",
       "      <td>1.0</td>\n",
       "      <td>1</td>\n",
       "      <td>-3.327543</td>\n",
       "    </tr>\n",
       "  </tbody>\n",
       "</table>\n",
       "<p>1439060 rows × 19 columns</p>\n",
       "</div>"
      ],
      "text/plain": [
       "         ItemID  UserID    Hybrid  SLIM_Elastic   RP3Beta  ItemKNN_CFCBF  \\\n",
       "5            99       0  0.696343      0.182745  0.163713       1.017144   \n",
       "0            88       0  0.858603      0.225797  0.197448       0.669624   \n",
       "4           111       0  0.692986      0.227246  0.084482       0.591702   \n",
       "13          108       0  0.668093      0.218287  0.085561       0.553165   \n",
       "29          175       0  0.642713      0.214141  0.079379       0.351877   \n",
       "...         ...     ...       ...           ...       ...            ...   \n",
       "1439052    2042   41628  0.112287      0.032766  0.022698       0.110710   \n",
       "1439044    1991   41628  0.099506      0.026454  0.024137       0.134864   \n",
       "1439032     467   41628  0.110934      0.034066  0.020158       0.095976   \n",
       "1439042    8589   41628  0.100591      0.025593  0.027459       0.058114   \n",
       "1439028   17670   41628  0.118752      0.036315  0.022729       0.118240   \n",
       "\n",
       "           UserKNN      IALS   P3Alpha  item_popularity  user_profile_len  \\\n",
       "5        11.227981  0.516253  0.079201              379                66   \n",
       "0         2.989326  0.714361  0.040531             5016                66   \n",
       "4         0.750476  0.582824  0.048149              648                66   \n",
       "13        1.113960  0.502094  0.049999              699                66   \n",
       "29        3.869202  0.398641  0.053071             1337                66   \n",
       "...            ...       ...       ...              ...               ...   \n",
       "1439052   0.000000  0.045475  0.008008               58                23   \n",
       "1439044   0.000000  0.045796  0.009319               66                23   \n",
       "1439032   0.763269  0.033318  0.012942               68                23   \n",
       "1439042   0.680482  0.021612  0.016671              241                23   \n",
       "1439028   0.000000  0.016398  0.008747               66                23   \n",
       "\n",
       "           0    1    2    3    4    5  item_length  rating_xgb  \n",
       "5        1.0  0.0  0.0  0.0  0.0  1.0            1    0.569593  \n",
       "0        0.0  0.0  0.0  0.0  1.0  1.0           14    0.540077  \n",
       "4        0.0  0.0  0.0  0.0  1.0  1.0            8    0.466037  \n",
       "13       1.0  0.0  0.0  0.0  0.0  1.0            1    0.351891  \n",
       "29       0.0  0.0  0.0  1.0  0.0  1.0            1    0.277329  \n",
       "...      ...  ...  ...  ...  ...  ...          ...         ...  \n",
       "1439052  0.0  0.0  0.0  0.0  0.0  0.0            0   -3.054165  \n",
       "1439044  0.0  0.0  0.0  0.0  1.0  1.0           22   -3.147993  \n",
       "1439032  1.0  0.0  0.0  0.0  0.0  1.0            1   -3.160835  \n",
       "1439042  1.0  0.0  0.0  0.0  0.0  1.0            1   -3.197847  \n",
       "1439028  1.0  0.0  0.0  0.0  0.0  1.0            1   -3.327543  \n",
       "\n",
       "[1439060 rows x 19 columns]"
      ]
     },
     "execution_count": 84,
     "metadata": {},
     "output_type": "execute_result"
    }
   ],
   "source": [
    "reranked_dataframe = reranked_dataframe.sort_values(['UserID','rating_xgb'], ascending=[True, False])\n",
    "reranked_dataframe"
   ]
  },
  {
   "cell_type": "markdown",
   "id": "03ee41fb",
   "metadata": {
    "execution": {
     "iopub.status.busy": "2023-01-14T18:25:25.025986Z",
     "iopub.status.idle": "2023-01-14T18:25:25.026251Z",
     "shell.execute_reply": "2023-01-14T18:25:25.02613Z",
     "shell.execute_reply.started": "2023-01-14T18:25:25.026117Z"
    },
    "papermill": {
     "duration": 0.991204,
     "end_time": "2023-01-15T18:39:20.999316",
     "exception": false,
     "start_time": "2023-01-15T18:39:20.008112",
     "status": "completed"
    },
    "tags": []
   },
   "source": [
    "# FInally the submission"
   ]
  },
  {
   "cell_type": "code",
   "execution_count": 85,
   "id": "e28e2ee6",
   "metadata": {
    "execution": {
     "iopub.execute_input": "2023-01-15T18:39:23.065831Z",
     "iopub.status.busy": "2023-01-15T18:39:23.065127Z",
     "iopub.status.idle": "2023-01-15T18:39:23.072175Z",
     "shell.execute_reply": "2023-01-15T18:39:23.071131Z"
    },
    "papermill": {
     "duration": 0.999699,
     "end_time": "2023-01-15T18:39:23.074959",
     "exception": false,
     "start_time": "2023-01-15T18:39:22.075260",
     "status": "completed"
    },
    "tags": []
   },
   "outputs": [],
   "source": [
    "def write_reranked_recommendations(file_name):\n",
    "    recommendations = 'user_id,item_list'\n",
    "    f = open(file_name + \".csv\", \"w\")\n",
    "\n",
    "    for id in tqdm(target['id']):\n",
    "        recommendations_per_user = reranked_dataframe.loc[reranked_dataframe['UserID'] == id].ItemID.values[:10]\n",
    "\n",
    "        recommendation_string = str(user_original_ID_to_index[user_original_ID_to_index==id].index.item()\n",
    "                                    ) + ','\n",
    "\n",
    "        for rec in recommendations_per_user:\n",
    "            recommendation_string = recommendation_string + str(item_original_ID_to_index[item_original_ID_to_index==rec].index.item()) + ' '\n",
    "\n",
    "        recommendation_string = recommendation_string[:-1]\n",
    "        recommendations = recommendations + '\\n' + recommendation_string\n",
    "\n",
    "    f.write(recommendations)\n",
    "    f.close()"
   ]
  },
  {
   "cell_type": "code",
   "execution_count": 86,
   "id": "5e0b0b5a",
   "metadata": {
    "execution": {
     "iopub.execute_input": "2023-01-15T18:39:25.139864Z",
     "iopub.status.busy": "2023-01-15T18:39:25.139232Z",
     "iopub.status.idle": "2023-01-15T18:43:16.266995Z",
     "shell.execute_reply": "2023-01-15T18:43:16.265391Z"
    },
    "papermill": {
     "duration": 232.123944,
     "end_time": "2023-01-15T18:43:16.269999",
     "exception": false,
     "start_time": "2023-01-15T18:39:24.146055",
     "status": "completed"
    },
    "tags": []
   },
   "outputs": [
    {
     "name": "stderr",
     "output_type": "stream",
     "text": [
      "100%|██████████| 41116/41116 [03:51<00:00, 177.90it/s]\n"
     ]
    }
   ],
   "source": [
    "write_reranked_recommendations(file_name = \"submission\")"
   ]
  },
  {
   "cell_type": "code",
   "execution_count": 87,
   "id": "26a14ad2",
   "metadata": {
    "execution": {
     "iopub.execute_input": "2023-01-15T18:43:18.600838Z",
     "iopub.status.busy": "2023-01-15T18:43:18.600412Z",
     "iopub.status.idle": "2023-01-15T18:43:18.648120Z",
     "shell.execute_reply": "2023-01-15T18:43:18.646020Z"
    },
    "papermill": {
     "duration": 1.162538,
     "end_time": "2023-01-15T18:43:18.651139",
     "exception": false,
     "start_time": "2023-01-15T18:43:17.488601",
     "status": "completed"
    },
    "tags": []
   },
   "outputs": [
    {
     "data": {
      "text/html": [
       "<div>\n",
       "<style scoped>\n",
       "    .dataframe tbody tr th:only-of-type {\n",
       "        vertical-align: middle;\n",
       "    }\n",
       "\n",
       "    .dataframe tbody tr th {\n",
       "        vertical-align: top;\n",
       "    }\n",
       "\n",
       "    .dataframe thead th {\n",
       "        text-align: right;\n",
       "    }\n",
       "</style>\n",
       "<table border=\"1\" class=\"dataframe\">\n",
       "  <thead>\n",
       "    <tr style=\"text-align: right;\">\n",
       "      <th></th>\n",
       "      <th>user_id</th>\n",
       "      <th>item_list</th>\n",
       "    </tr>\n",
       "  </thead>\n",
       "  <tbody>\n",
       "    <tr>\n",
       "      <th>0</th>\n",
       "      <td>0</td>\n",
       "      <td>391 20 752 617 18484 2495 23 2488 56 107</td>\n",
       "    </tr>\n",
       "    <tr>\n",
       "      <th>1</th>\n",
       "      <td>1</td>\n",
       "      <td>6874 665 56 62 21 352 124 1689 23 61</td>\n",
       "    </tr>\n",
       "    <tr>\n",
       "      <th>2</th>\n",
       "      <td>2</td>\n",
       "      <td>121 7864 925 453 22415 1308 1311 750 21319 8819</td>\n",
       "    </tr>\n",
       "    <tr>\n",
       "      <th>3</th>\n",
       "      <td>3</td>\n",
       "      <td>20 21 352 7113 917 269 169 557 22752 58</td>\n",
       "    </tr>\n",
       "    <tr>\n",
       "      <th>4</th>\n",
       "      <td>4</td>\n",
       "      <td>23 80 68 21 124 64 56 541 436 2119</td>\n",
       "    </tr>\n",
       "    <tr>\n",
       "      <th>...</th>\n",
       "      <td>...</td>\n",
       "      <td>...</td>\n",
       "    </tr>\n",
       "    <tr>\n",
       "      <th>41111</th>\n",
       "      <td>41624</td>\n",
       "      <td>11552 22403 10221 7864 617 15711 13472 752 226...</td>\n",
       "    </tr>\n",
       "    <tr>\n",
       "      <th>41112</th>\n",
       "      <td>41625</td>\n",
       "      <td>56 23 53 25 60 393 1068 268 450 598</td>\n",
       "    </tr>\n",
       "    <tr>\n",
       "      <th>41113</th>\n",
       "      <td>41626</td>\n",
       "      <td>21 61 387 270 58 23 22619 393 25 124</td>\n",
       "    </tr>\n",
       "    <tr>\n",
       "      <th>41114</th>\n",
       "      <td>41627</td>\n",
       "      <td>1214 1754 17021 2803 1558 1561 4577 19705 1859...</td>\n",
       "    </tr>\n",
       "    <tr>\n",
       "      <th>41115</th>\n",
       "      <td>41628</td>\n",
       "      <td>769 771 21 1022 22 763 1004 3596 2904 929</td>\n",
       "    </tr>\n",
       "  </tbody>\n",
       "</table>\n",
       "<p>41116 rows × 2 columns</p>\n",
       "</div>"
      ],
      "text/plain": [
       "       user_id                                          item_list\n",
       "0            0           391 20 752 617 18484 2495 23 2488 56 107\n",
       "1            1               6874 665 56 62 21 352 124 1689 23 61\n",
       "2            2    121 7864 925 453 22415 1308 1311 750 21319 8819\n",
       "3            3            20 21 352 7113 917 269 169 557 22752 58\n",
       "4            4                 23 80 68 21 124 64 56 541 436 2119\n",
       "...        ...                                                ...\n",
       "41111    41624  11552 22403 10221 7864 617 15711 13472 752 226...\n",
       "41112    41625                56 23 53 25 60 393 1068 268 450 598\n",
       "41113    41626               21 61 387 270 58 23 22619 393 25 124\n",
       "41114    41627  1214 1754 17021 2803 1558 1561 4577 19705 1859...\n",
       "41115    41628          769 771 21 1022 22 763 1004 3596 2904 929\n",
       "\n",
       "[41116 rows x 2 columns]"
      ]
     },
     "execution_count": 87,
     "metadata": {},
     "output_type": "execute_result"
    }
   ],
   "source": [
    "submission = pd.read_csv(\"submission.csv\")\n",
    "submission"
   ]
  },
  {
   "cell_type": "markdown",
   "id": "cf8df3ab",
   "metadata": {
    "papermill": {
     "duration": 1.210591,
     "end_time": "2023-01-15T18:43:21.062388",
     "exception": false,
     "start_time": "2023-01-15T18:43:19.851797",
     "status": "completed"
    },
    "tags": []
   },
   "source": [
    "## Sanity check"
   ]
  },
  {
   "cell_type": "code",
   "execution_count": 88,
   "id": "cc617b9e",
   "metadata": {
    "execution": {
     "iopub.execute_input": "2023-01-15T18:43:23.396857Z",
     "iopub.status.busy": "2023-01-15T18:43:23.396434Z",
     "iopub.status.idle": "2023-01-15T18:47:12.217499Z",
     "shell.execute_reply": "2023-01-15T18:47:12.215402Z"
    },
    "papermill": {
     "duration": 230.029111,
     "end_time": "2023-01-15T18:47:12.220367",
     "exception": false,
     "start_time": "2023-01-15T18:43:22.191256",
     "status": "completed"
    },
    "tags": []
   },
   "outputs": [
    {
     "name": "stdout",
     "output_type": "stream",
     "text": [
      "EvaluatorHoldout: Processed 40653 (100.0%) in 50.01 sec. Users per second: 813\n",
      "EvaluatorHoldout: Processed 40653 (100.0%) in 38.15 sec. Users per second: 1066\n",
      "EvaluatorHoldout: Processed 40653 (100.0%) in 22.19 sec. Users per second: 1832\n",
      "EvaluatorHoldout: Processed 40653 (100.0%) in 30.92 sec. Users per second: 1315\n",
      "EvaluatorHoldout: Processed 40653 (100.0%) in 22.62 sec. Users per second: 1797\n",
      "EvaluatorHoldout: Processed 40653 (100.0%) in 42.45 sec. Users per second: 958\n",
      "EvaluatorHoldout: Processed 40653 (100.0%) in 22.36 sec. Users per second: 1818\n",
      "Hybrid: 0.028356867784215145\n",
      "SLIM Elastic: 0.02805443886489457\n",
      "RP3Beta: 0.025883070969595252\n",
      "IALS: 0.02012584049518555\n",
      "ItemKNN_CFCBF: 0.02463771978014404\n",
      "UserKNN: 0.024393476886650327\n",
      "P3Alpha: 0.02393646635344602\n"
     ]
    }
   ],
   "source": [
    "result_hybrid, _ = evaluator_test.evaluateRecommender(hybrid_train)\n",
    "result_elastic, _ = evaluator_test.evaluateRecommender(SLIM_Elastic_train)\n",
    "result_rp3b, _ = evaluator_test.evaluateRecommender(RP3Beta_train)\n",
    "result_ials, _ = evaluator_test.evaluateRecommender(IALS_train)\n",
    "result_itemKnn, _ = evaluator_test.evaluateRecommender(ItemKNN_CFCBF_train)\n",
    "result_userKnn, _ = evaluator_test.evaluateRecommender(UserKNN_train)\n",
    "result_p3a, _ = evaluator_test.evaluateRecommender(P3Alpha_train)\n",
    "\n",
    "\n",
    "print(\"Hybrid: {}\".format(result_hybrid['MAP'].item()))\n",
    "print(\"SLIM Elastic: {}\".format(result_elastic['MAP'].item()))\n",
    "print(\"RP3Beta: {}\".format(result_rp3b['MAP'].item()))\n",
    "print(\"IALS: {}\".format(result_ials['MAP'].item()))\n",
    "print(\"ItemKNN_CFCBF: {}\".format(result_itemKnn['MAP'].item()))\n",
    "print(\"UserKNN: {}\".format(result_userKnn['MAP'].item()))\n",
    "print(\"P3Alpha: {}\".format(result_p3a['MAP'].item()))"
   ]
  },
  {
   "cell_type": "markdown",
   "id": "75aa645a",
   "metadata": {
    "papermill": {
     "duration": 1.101731,
     "end_time": "2023-01-15T18:47:14.544867",
     "exception": false,
     "start_time": "2023-01-15T18:47:13.443136",
     "status": "completed"
    },
    "tags": []
   },
   "source": [
    "## Stats"
   ]
  },
  {
   "cell_type": "code",
   "execution_count": 89,
   "id": "22c8fcf1",
   "metadata": {
    "execution": {
     "iopub.execute_input": "2023-01-15T18:47:16.978576Z",
     "iopub.status.busy": "2023-01-15T18:47:16.978206Z",
     "iopub.status.idle": "2023-01-15T18:47:17.013948Z",
     "shell.execute_reply": "2023-01-15T18:47:17.012981Z"
    },
    "papermill": {
     "duration": 1.273847,
     "end_time": "2023-01-15T18:47:17.016413",
     "exception": false,
     "start_time": "2023-01-15T18:47:15.742566",
     "status": "completed"
    },
    "tags": []
   },
   "outputs": [],
   "source": [
    "noreranksubmission = pd.read_csv(\"submission_norerank.csv\")"
   ]
  },
  {
   "cell_type": "code",
   "execution_count": 90,
   "id": "758d6313",
   "metadata": {
    "execution": {
     "iopub.execute_input": "2023-01-15T18:47:19.407678Z",
     "iopub.status.busy": "2023-01-15T18:47:19.407027Z",
     "iopub.status.idle": "2023-01-15T18:47:49.780742Z",
     "shell.execute_reply": "2023-01-15T18:47:49.779136Z"
    },
    "papermill": {
     "duration": 32.785696,
     "end_time": "2023-01-15T18:47:50.934368",
     "exception": false,
     "start_time": "2023-01-15T18:47:18.148672",
     "status": "completed"
    },
    "tags": []
   },
   "outputs": [
    {
     "name": "stdout",
     "output_type": "stream",
     "text": [
      "Changed 84678 items, 20.59% of total\n"
     ]
    }
   ],
   "source": [
    "changed_item_count = 0\n",
    "\n",
    "for user_id in submission['user_id']:\n",
    "    default_items = noreranksubmission[noreranksubmission['user_id'] == user_id].item_list.values[0].split()\n",
    "    reranked_items = submission[submission['user_id'] == user_id].item_list.values[0].split()\n",
    "    \n",
    "    new_items = list(set(reranked_items) - set(default_items))\n",
    "    \n",
    "    changed_item_count = changed_item_count + len(new_items)\n",
    "    \n",
    "n_users_to_recommend = len(target['id'])\n",
    "n_recommended_items = n_users_to_recommend * 10\n",
    "\n",
    "print(\"Changed {} items, {:.2f}% of total\".format(changed_item_count, changed_item_count/n_recommended_items * 100))"
   ]
  },
  {
   "cell_type": "markdown",
   "id": "34216600",
   "metadata": {
    "papermill": {
     "duration": 1.213783,
     "end_time": "2023-01-15T18:47:53.360866",
     "exception": false,
     "start_time": "2023-01-15T18:47:52.147083",
     "status": "completed"
    },
    "tags": []
   },
   "source": [
    "## Save models"
   ]
  },
  {
   "cell_type": "code",
   "execution_count": 91,
   "id": "78ba4b3b",
   "metadata": {
    "execution": {
     "iopub.execute_input": "2023-01-15T18:47:55.682311Z",
     "iopub.status.busy": "2023-01-15T18:47:55.681579Z",
     "iopub.status.idle": "2023-01-15T18:48:05.472251Z",
     "shell.execute_reply": "2023-01-15T18:48:05.470291Z"
    },
    "papermill": {
     "duration": 11.0072,
     "end_time": "2023-01-15T18:48:05.474710",
     "exception": false,
     "start_time": "2023-01-15T18:47:54.467510",
     "status": "completed"
    },
    "tags": []
   },
   "outputs": [
    {
     "name": "stdout",
     "output_type": "stream",
     "text": [
      "SLIMElasticNetRecommender: Saving model in file 'used_modelsSLIM_Elastic_all.zip'\n",
      "SLIMElasticNetRecommender: Saving complete\n",
      "SLIMElasticNetRecommender: Saving model in file 'used_modelsSLIM_Elastic_train_validation.zip'\n",
      "SLIMElasticNetRecommender: Saving complete\n",
      "RP3betaRecommender: Saving model in file 'used_modelsRP3Beta_all.zip'\n",
      "RP3betaRecommender: Saving complete\n",
      "RP3betaRecommender: Saving model in file 'used_modelsRP3Beta_train_validation.zip'\n",
      "RP3betaRecommender: Saving complete\n",
      "IALSRecommender: Saving model in file 'used_modelsIALS_all.zip'\n",
      "IALSRecommender: Saving complete\n",
      "IALSRecommender: Saving model in file 'used_modelsIALS_train_validation.zip'\n",
      "IALSRecommender: Saving complete\n"
     ]
    }
   ],
   "source": [
    "SLIM_Elastic_all.save_model(\"used_models\", \"SLIM_Elastic_all.zip\")\n",
    "SLIM_Elastic_train.save_model(\"used_models\", \"SLIM_Elastic_train_validation.zip\")\n",
    "\n",
    "RP3Beta.save_model(\"used_models\", \"RP3Beta_all.zip\")\n",
    "RP3Beta_train.save_model(\"used_models\", \"RP3Beta_train_validation.zip\")\n",
    "\n",
    "IALS.save_model(\"used_models\", \"IALS_all.zip\")\n",
    "IALS_train.save_model(\"used_models\", \"IALS_train_validation.zip\")"
   ]
  },
  {
   "cell_type": "code",
   "execution_count": 92,
   "id": "53a0ee4d",
   "metadata": {
    "execution": {
     "iopub.execute_input": "2023-01-15T18:48:07.812153Z",
     "iopub.status.busy": "2023-01-15T18:48:07.811719Z",
     "iopub.status.idle": "2023-01-15T18:48:09.037285Z",
     "shell.execute_reply": "2023-01-15T18:48:09.035467Z"
    },
    "papermill": {
     "duration": 2.452347,
     "end_time": "2023-01-15T18:48:09.040189",
     "exception": false,
     "start_time": "2023-01-15T18:48:06.587842",
     "status": "completed"
    },
    "tags": []
   },
   "outputs": [],
   "source": [
    "!mkdir ../data\n",
    "!cp used_models/* ../data\n",
    "!cp submission.csv ..\n",
    "!cp submission_norerank.csv .."
   ]
  },
  {
   "cell_type": "code",
   "execution_count": 93,
   "id": "0fbf27f9",
   "metadata": {
    "execution": {
     "iopub.execute_input": "2023-01-15T18:48:11.360550Z",
     "iopub.status.busy": "2023-01-15T18:48:11.360110Z",
     "iopub.status.idle": "2023-01-15T18:48:12.208793Z",
     "shell.execute_reply": "2023-01-15T18:48:12.206680Z"
    },
    "papermill": {
     "duration": 1.962723,
     "end_time": "2023-01-15T18:48:12.211604",
     "exception": false,
     "start_time": "2023-01-15T18:48:10.248881",
     "status": "completed"
    },
    "tags": []
   },
   "outputs": [],
   "source": [
    "os.chdir(\"..\")\n",
    "!rm -r RecSys-2022-Challenge-Polimi"
   ]
  },
  {
   "cell_type": "code",
   "execution_count": 94,
   "id": "2f4be67b",
   "metadata": {
    "execution": {
     "iopub.execute_input": "2023-01-15T18:48:14.536923Z",
     "iopub.status.busy": "2023-01-15T18:48:14.536311Z",
     "iopub.status.idle": "2023-01-15T18:48:39.942150Z",
     "shell.execute_reply": "2023-01-15T18:48:39.940561Z"
    },
    "papermill": {
     "duration": 26.517532,
     "end_time": "2023-01-15T18:48:39.944813",
     "exception": false,
     "start_time": "2023-01-15T18:48:13.427281",
     "status": "completed"
    },
    "tags": []
   },
   "outputs": [],
   "source": [
    "training_dataframe.to_csv(\"training_dataframe.csv\")\n",
    "test_dataframe.to_csv(\"test_dataframe.csv\")"
   ]
  }
 ],
 "metadata": {
  "kernelspec": {
   "display_name": "Python 3",
   "language": "python",
   "name": "python3"
  },
  "language_info": {
   "codemirror_mode": {
    "name": "ipython",
    "version": 3
   },
   "file_extension": ".py",
   "mimetype": "text/x-python",
   "name": "python",
   "nbconvert_exporter": "python",
   "pygments_lexer": "ipython3",
   "version": "3.7.12"
  },
  "papermill": {
   "default_parameters": {},
   "duration": 8221.789469,
   "end_time": "2023-01-15T18:48:44.063815",
   "environment_variables": {},
   "exception": null,
   "input_path": "__notebook__.ipynb",
   "output_path": "__notebook__.ipynb",
   "parameters": {},
   "start_time": "2023-01-15T16:31:42.274346",
   "version": "2.3.4"
  }
 },
 "nbformat": 4,
 "nbformat_minor": 5
}
