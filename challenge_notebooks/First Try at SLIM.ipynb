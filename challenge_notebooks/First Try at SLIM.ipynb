{
 "cells": [
  {
   "cell_type": "markdown",
   "id": "556718eb",
   "metadata": {},
   "source": [
    "# Data Load\n",
    "### Create the Pandas Dataframe"
   ]
  },
  {
   "cell_type": "code",
   "execution_count": 72,
   "id": "71b3b376",
   "metadata": {},
   "outputs": [
    {
     "data": {
      "text/plain": "         UserId  ItemId                 ImpressionList  Data\n0             0      21                            NaN     0\n1             0      21                            NaN     0\n2             0      21  20,21,22,23,24,25,26,27,28,29     0\n3             0      21                            NaN     1\n4             0      21                            NaN     1\n...         ...     ...                            ...   ...\n5826500   41628   20448                            NaN     0\n5826501   41628   20896                            NaN     1\n5826502   41628   21506                            NaN     1\n5826503   41628   22882                            NaN     0\n5826504   41628   23757                            NaN     0\n\n[5826505 rows x 4 columns]",
      "text/html": "<div>\n<style scoped>\n    .dataframe tbody tr th:only-of-type {\n        vertical-align: middle;\n    }\n\n    .dataframe tbody tr th {\n        vertical-align: top;\n    }\n\n    .dataframe thead th {\n        text-align: right;\n    }\n</style>\n<table border=\"1\" class=\"dataframe\">\n  <thead>\n    <tr style=\"text-align: right;\">\n      <th></th>\n      <th>UserId</th>\n      <th>ItemId</th>\n      <th>ImpressionList</th>\n      <th>Data</th>\n    </tr>\n  </thead>\n  <tbody>\n    <tr>\n      <th>0</th>\n      <td>0</td>\n      <td>21</td>\n      <td>NaN</td>\n      <td>0</td>\n    </tr>\n    <tr>\n      <th>1</th>\n      <td>0</td>\n      <td>21</td>\n      <td>NaN</td>\n      <td>0</td>\n    </tr>\n    <tr>\n      <th>2</th>\n      <td>0</td>\n      <td>21</td>\n      <td>20,21,22,23,24,25,26,27,28,29</td>\n      <td>0</td>\n    </tr>\n    <tr>\n      <th>3</th>\n      <td>0</td>\n      <td>21</td>\n      <td>NaN</td>\n      <td>1</td>\n    </tr>\n    <tr>\n      <th>4</th>\n      <td>0</td>\n      <td>21</td>\n      <td>NaN</td>\n      <td>1</td>\n    </tr>\n    <tr>\n      <th>...</th>\n      <td>...</td>\n      <td>...</td>\n      <td>...</td>\n      <td>...</td>\n    </tr>\n    <tr>\n      <th>5826500</th>\n      <td>41628</td>\n      <td>20448</td>\n      <td>NaN</td>\n      <td>0</td>\n    </tr>\n    <tr>\n      <th>5826501</th>\n      <td>41628</td>\n      <td>20896</td>\n      <td>NaN</td>\n      <td>1</td>\n    </tr>\n    <tr>\n      <th>5826502</th>\n      <td>41628</td>\n      <td>21506</td>\n      <td>NaN</td>\n      <td>1</td>\n    </tr>\n    <tr>\n      <th>5826503</th>\n      <td>41628</td>\n      <td>22882</td>\n      <td>NaN</td>\n      <td>0</td>\n    </tr>\n    <tr>\n      <th>5826504</th>\n      <td>41628</td>\n      <td>23757</td>\n      <td>NaN</td>\n      <td>0</td>\n    </tr>\n  </tbody>\n</table>\n<p>5826505 rows × 4 columns</p>\n</div>"
     },
     "execution_count": 72,
     "metadata": {},
     "output_type": "execute_result"
    }
   ],
   "source": [
    "import pandas as pd\n",
    "path = \"recommender-system-2022-challenge-polimi-data/interactions_and_impressions.csv\"\n",
    "\n",
    "Interactions_and_Impressions = pd.read_csv(filepath_or_buffer=path,\n",
    "                               sep=\",\",\n",
    "                               header=1,\n",
    "                               engine='python',\n",
    "                               names=['UserId', 'ItemId', 'ImpressionList', 'Data'])\n",
    "Interactions_and_Impressions"
   ]
  },
  {
   "cell_type": "code",
   "execution_count": 73,
   "outputs": [
    {
     "name": "stdout",
     "output_type": "stream",
     "text": [
      "41628\n",
      "24506\n"
     ]
    }
   ],
   "source": [
    "print(Interactions_and_Impressions[\"UserId\"].max())\n",
    "print(Interactions_and_Impressions[\"ItemId\"].max())"
   ],
   "metadata": {
    "collapsed": false
   }
  },
  {
   "cell_type": "markdown",
   "id": "ec95abb9",
   "metadata": {},
   "source": [
    "### Data Preparation\n",
    "First we remove empty indeces:"
   ]
  },
  {
   "cell_type": "code",
   "execution_count": 74,
   "id": "5e377983",
   "metadata": {},
   "outputs": [],
   "source": [
    "userId_unique = Interactions_and_Impressions[\"UserId\"].unique()\n",
    "itemId_unique = Interactions_and_Impressions[\"ItemId\"].unique()"
   ]
  },
  {
   "cell_type": "code",
   "execution_count": 75,
   "id": "d854ffc3",
   "metadata": {},
   "outputs": [],
   "source": [
    "mapped_id, original_id = pd.factorize(Interactions_and_Impressions[\"UserId\"].unique())\n",
    "user_original_Id_to_index = pd.Series(mapped_id, index=original_id)\n",
    "\n",
    "mapped_id, original_id = pd.factorize(Interactions_and_Impressions[\"ItemId\"].unique())\n",
    "item_original_Id_to_index = pd.Series(mapped_id, index=original_id)"
   ]
  },
  {
   "cell_type": "code",
   "execution_count": 76,
   "id": "c7597206",
   "metadata": {},
   "outputs": [],
   "source": [
    "Interactions_and_Impressions[\"UserId\"] = Interactions_and_Impressions[\"UserId\"].map(user_original_Id_to_index)\n",
    "Interactions_and_Impressions[\"ItemId\"] = Interactions_and_Impressions[\"ItemId\"].map(item_original_Id_to_index)"
   ]
  },
  {
   "cell_type": "code",
   "execution_count": 77,
   "id": "64240300",
   "metadata": {},
   "outputs": [
    {
     "data": {
      "text/plain": "    UserId  ItemId                 ImpressionList  Data\n0        0       0                            NaN     0\n1        0       0                            NaN     0\n2        0       0  20,21,22,23,24,25,26,27,28,29     0\n3        0       0                            NaN     1\n4        0       0                            NaN     1\n5        0       0                            NaN     1\n6        0       0                            NaN     1\n7        0       0                            NaN     1\n8        0       0                            NaN     1\n9        0       0                            NaN     1\n10       0       0  20,21,30,22,23,24,26,31,29,32     1\n11       0       0  20,21,22,23,24,25,26,27,28,29     1\n12       0       1                            NaN     1\n13       0       1                            NaN     1\n14       0       1                            NaN     1",
      "text/html": "<div>\n<style scoped>\n    .dataframe tbody tr th:only-of-type {\n        vertical-align: middle;\n    }\n\n    .dataframe tbody tr th {\n        vertical-align: top;\n    }\n\n    .dataframe thead th {\n        text-align: right;\n    }\n</style>\n<table border=\"1\" class=\"dataframe\">\n  <thead>\n    <tr style=\"text-align: right;\">\n      <th></th>\n      <th>UserId</th>\n      <th>ItemId</th>\n      <th>ImpressionList</th>\n      <th>Data</th>\n    </tr>\n  </thead>\n  <tbody>\n    <tr>\n      <th>0</th>\n      <td>0</td>\n      <td>0</td>\n      <td>NaN</td>\n      <td>0</td>\n    </tr>\n    <tr>\n      <th>1</th>\n      <td>0</td>\n      <td>0</td>\n      <td>NaN</td>\n      <td>0</td>\n    </tr>\n    <tr>\n      <th>2</th>\n      <td>0</td>\n      <td>0</td>\n      <td>20,21,22,23,24,25,26,27,28,29</td>\n      <td>0</td>\n    </tr>\n    <tr>\n      <th>3</th>\n      <td>0</td>\n      <td>0</td>\n      <td>NaN</td>\n      <td>1</td>\n    </tr>\n    <tr>\n      <th>4</th>\n      <td>0</td>\n      <td>0</td>\n      <td>NaN</td>\n      <td>1</td>\n    </tr>\n    <tr>\n      <th>5</th>\n      <td>0</td>\n      <td>0</td>\n      <td>NaN</td>\n      <td>1</td>\n    </tr>\n    <tr>\n      <th>6</th>\n      <td>0</td>\n      <td>0</td>\n      <td>NaN</td>\n      <td>1</td>\n    </tr>\n    <tr>\n      <th>7</th>\n      <td>0</td>\n      <td>0</td>\n      <td>NaN</td>\n      <td>1</td>\n    </tr>\n    <tr>\n      <th>8</th>\n      <td>0</td>\n      <td>0</td>\n      <td>NaN</td>\n      <td>1</td>\n    </tr>\n    <tr>\n      <th>9</th>\n      <td>0</td>\n      <td>0</td>\n      <td>NaN</td>\n      <td>1</td>\n    </tr>\n    <tr>\n      <th>10</th>\n      <td>0</td>\n      <td>0</td>\n      <td>20,21,30,22,23,24,26,31,29,32</td>\n      <td>1</td>\n    </tr>\n    <tr>\n      <th>11</th>\n      <td>0</td>\n      <td>0</td>\n      <td>20,21,22,23,24,25,26,27,28,29</td>\n      <td>1</td>\n    </tr>\n    <tr>\n      <th>12</th>\n      <td>0</td>\n      <td>1</td>\n      <td>NaN</td>\n      <td>1</td>\n    </tr>\n    <tr>\n      <th>13</th>\n      <td>0</td>\n      <td>1</td>\n      <td>NaN</td>\n      <td>1</td>\n    </tr>\n    <tr>\n      <th>14</th>\n      <td>0</td>\n      <td>1</td>\n      <td>NaN</td>\n      <td>1</td>\n    </tr>\n  </tbody>\n</table>\n</div>"
     },
     "execution_count": 77,
     "metadata": {},
     "output_type": "execute_result"
    }
   ],
   "source": [
    "Interactions_and_Impressions.head(15)"
   ]
  },
  {
   "cell_type": "markdown",
   "source": [
    "### Remove Single 0 Interactions"
   ],
   "metadata": {
    "collapsed": false
   }
  },
  {
   "cell_type": "markdown",
   "source": [
    "First remove ImpressionList"
   ],
   "metadata": {
    "collapsed": false
   }
  },
  {
   "cell_type": "code",
   "execution_count": 78,
   "outputs": [
    {
     "data": {
      "text/plain": "         UserId  ItemId  Data\n0             0       0     0\n1             0       0     0\n2             0       0     0\n3             0       0     1\n4             0       0     1\n...         ...     ...   ...\n5826500   41628    3699     0\n5826501   41628   12693     1\n5826502   41628   15131     1\n5826503   41628   18127     0\n5826504   41628   14572     0\n\n[5826505 rows x 3 columns]",
      "text/html": "<div>\n<style scoped>\n    .dataframe tbody tr th:only-of-type {\n        vertical-align: middle;\n    }\n\n    .dataframe tbody tr th {\n        vertical-align: top;\n    }\n\n    .dataframe thead th {\n        text-align: right;\n    }\n</style>\n<table border=\"1\" class=\"dataframe\">\n  <thead>\n    <tr style=\"text-align: right;\">\n      <th></th>\n      <th>UserId</th>\n      <th>ItemId</th>\n      <th>Data</th>\n    </tr>\n  </thead>\n  <tbody>\n    <tr>\n      <th>0</th>\n      <td>0</td>\n      <td>0</td>\n      <td>0</td>\n    </tr>\n    <tr>\n      <th>1</th>\n      <td>0</td>\n      <td>0</td>\n      <td>0</td>\n    </tr>\n    <tr>\n      <th>2</th>\n      <td>0</td>\n      <td>0</td>\n      <td>0</td>\n    </tr>\n    <tr>\n      <th>3</th>\n      <td>0</td>\n      <td>0</td>\n      <td>1</td>\n    </tr>\n    <tr>\n      <th>4</th>\n      <td>0</td>\n      <td>0</td>\n      <td>1</td>\n    </tr>\n    <tr>\n      <th>...</th>\n      <td>...</td>\n      <td>...</td>\n      <td>...</td>\n    </tr>\n    <tr>\n      <th>5826500</th>\n      <td>41628</td>\n      <td>3699</td>\n      <td>0</td>\n    </tr>\n    <tr>\n      <th>5826501</th>\n      <td>41628</td>\n      <td>12693</td>\n      <td>1</td>\n    </tr>\n    <tr>\n      <th>5826502</th>\n      <td>41628</td>\n      <td>15131</td>\n      <td>1</td>\n    </tr>\n    <tr>\n      <th>5826503</th>\n      <td>41628</td>\n      <td>18127</td>\n      <td>0</td>\n    </tr>\n    <tr>\n      <th>5826504</th>\n      <td>41628</td>\n      <td>14572</td>\n      <td>0</td>\n    </tr>\n  </tbody>\n</table>\n<p>5826505 rows × 3 columns</p>\n</div>"
     },
     "execution_count": 78,
     "metadata": {},
     "output_type": "execute_result"
    }
   ],
   "source": [
    "Distinct_Interactions = Interactions_and_Impressions.copy(deep=True)\n",
    "Distinct_Interactions = Distinct_Interactions.drop([\"ImpressionList\"], axis=1)\n",
    "Distinct_Interactions"
   ],
   "metadata": {
    "collapsed": false
   }
  },
  {
   "cell_type": "markdown",
   "source": [
    "Group the interactions by UserId+ItemId with Data==0 and add their respective count: we have to get rid of those couples with count == 1"
   ],
   "metadata": {
    "collapsed": false
   }
  },
  {
   "cell_type": "code",
   "execution_count": 79,
   "outputs": [
    {
     "data": {
      "text/plain": "         UserId  ItemId  Data\n1             0       5     1\n2             0      10     1\n3             0      12     1\n4             0      14     1\n5             0      24     1\n...         ...     ...   ...\n1051823   41628   10974     1\n1051824   41628   14572     1\n1051825   41628   18127     1\n1051826   41628   19539     1\n1051827   41628   20959     1\n\n[803927 rows x 3 columns]",
      "text/html": "<div>\n<style scoped>\n    .dataframe tbody tr th:only-of-type {\n        vertical-align: middle;\n    }\n\n    .dataframe tbody tr th {\n        vertical-align: top;\n    }\n\n    .dataframe thead th {\n        text-align: right;\n    }\n</style>\n<table border=\"1\" class=\"dataframe\">\n  <thead>\n    <tr style=\"text-align: right;\">\n      <th></th>\n      <th>UserId</th>\n      <th>ItemId</th>\n      <th>Data</th>\n    </tr>\n  </thead>\n  <tbody>\n    <tr>\n      <th>1</th>\n      <td>0</td>\n      <td>5</td>\n      <td>1</td>\n    </tr>\n    <tr>\n      <th>2</th>\n      <td>0</td>\n      <td>10</td>\n      <td>1</td>\n    </tr>\n    <tr>\n      <th>3</th>\n      <td>0</td>\n      <td>12</td>\n      <td>1</td>\n    </tr>\n    <tr>\n      <th>4</th>\n      <td>0</td>\n      <td>14</td>\n      <td>1</td>\n    </tr>\n    <tr>\n      <th>5</th>\n      <td>0</td>\n      <td>24</td>\n      <td>1</td>\n    </tr>\n    <tr>\n      <th>...</th>\n      <td>...</td>\n      <td>...</td>\n      <td>...</td>\n    </tr>\n    <tr>\n      <th>1051823</th>\n      <td>41628</td>\n      <td>10974</td>\n      <td>1</td>\n    </tr>\n    <tr>\n      <th>1051824</th>\n      <td>41628</td>\n      <td>14572</td>\n      <td>1</td>\n    </tr>\n    <tr>\n      <th>1051825</th>\n      <td>41628</td>\n      <td>18127</td>\n      <td>1</td>\n    </tr>\n    <tr>\n      <th>1051826</th>\n      <td>41628</td>\n      <td>19539</td>\n      <td>1</td>\n    </tr>\n    <tr>\n      <th>1051827</th>\n      <td>41628</td>\n      <td>20959</td>\n      <td>1</td>\n    </tr>\n  </tbody>\n</table>\n<p>803927 rows × 3 columns</p>\n</div>"
     },
     "execution_count": 79,
     "metadata": {},
     "output_type": "execute_result"
    }
   ],
   "source": [
    "g = Distinct_Interactions[Distinct_Interactions[\"Data\"]==0].groupby(['UserId', 'ItemId'], as_index=False).count()\n",
    "g = g[g[\"Data\"]==1]\n",
    "g # queste sono le coppie UserId-ItemId da eliminare in Distinct_Interactions"
   ],
   "metadata": {
    "collapsed": false
   }
  },
  {
   "cell_type": "markdown",
   "source": [
    "Let's drop the duplicates now"
   ],
   "metadata": {
    "collapsed": false
   }
  },
  {
   "cell_type": "code",
   "execution_count": 80,
   "outputs": [
    {
     "data": {
      "text/plain": "         UserId  ItemId  Data\n0             0       0     0\n3             0       0     1\n12            0       1     1\n27            0       2     1\n28            0       3     1\n...         ...     ...   ...\n5826500   41628    3699     0\n5826501   41628   12693     1\n5826502   41628   15131     1\n5826503   41628   18127     0\n5826504   41628   14572     0\n\n[1715197 rows x 3 columns]",
      "text/html": "<div>\n<style scoped>\n    .dataframe tbody tr th:only-of-type {\n        vertical-align: middle;\n    }\n\n    .dataframe tbody tr th {\n        vertical-align: top;\n    }\n\n    .dataframe thead th {\n        text-align: right;\n    }\n</style>\n<table border=\"1\" class=\"dataframe\">\n  <thead>\n    <tr style=\"text-align: right;\">\n      <th></th>\n      <th>UserId</th>\n      <th>ItemId</th>\n      <th>Data</th>\n    </tr>\n  </thead>\n  <tbody>\n    <tr>\n      <th>0</th>\n      <td>0</td>\n      <td>0</td>\n      <td>0</td>\n    </tr>\n    <tr>\n      <th>3</th>\n      <td>0</td>\n      <td>0</td>\n      <td>1</td>\n    </tr>\n    <tr>\n      <th>12</th>\n      <td>0</td>\n      <td>1</td>\n      <td>1</td>\n    </tr>\n    <tr>\n      <th>27</th>\n      <td>0</td>\n      <td>2</td>\n      <td>1</td>\n    </tr>\n    <tr>\n      <th>28</th>\n      <td>0</td>\n      <td>3</td>\n      <td>1</td>\n    </tr>\n    <tr>\n      <th>...</th>\n      <td>...</td>\n      <td>...</td>\n      <td>...</td>\n    </tr>\n    <tr>\n      <th>5826500</th>\n      <td>41628</td>\n      <td>3699</td>\n      <td>0</td>\n    </tr>\n    <tr>\n      <th>5826501</th>\n      <td>41628</td>\n      <td>12693</td>\n      <td>1</td>\n    </tr>\n    <tr>\n      <th>5826502</th>\n      <td>41628</td>\n      <td>15131</td>\n      <td>1</td>\n    </tr>\n    <tr>\n      <th>5826503</th>\n      <td>41628</td>\n      <td>18127</td>\n      <td>0</td>\n    </tr>\n    <tr>\n      <th>5826504</th>\n      <td>41628</td>\n      <td>14572</td>\n      <td>0</td>\n    </tr>\n  </tbody>\n</table>\n<p>1715197 rows × 3 columns</p>\n</div>"
     },
     "execution_count": 80,
     "metadata": {},
     "output_type": "execute_result"
    }
   ],
   "source": [
    "Distinct_Interactions = Distinct_Interactions.drop_duplicates()\n",
    "Distinct_Interactions"
   ],
   "metadata": {
    "collapsed": false
   }
  },
  {
   "cell_type": "markdown",
   "source": [
    "Non so come funzioni questa cella ma funziona gg"
   ],
   "metadata": {
    "collapsed": false
   }
  },
  {
   "cell_type": "code",
   "execution_count": 81,
   "outputs": [
    {
     "data": {
      "text/plain": "         UserId  ItemId  Data\n0             0       0     0\n1             0       0     1\n2             0       1     1\n3             0       2     1\n4             0       3     1\n...         ...     ...   ...\n1715186   41628   12162     1\n1715188   41628   22724     1\n1715189   41628    2284     1\n1715193   41628   12693     1\n1715194   41628   15131     1\n\n[911270 rows x 3 columns]",
      "text/html": "<div>\n<style scoped>\n    .dataframe tbody tr th:only-of-type {\n        vertical-align: middle;\n    }\n\n    .dataframe tbody tr th {\n        vertical-align: top;\n    }\n\n    .dataframe thead th {\n        text-align: right;\n    }\n</style>\n<table border=\"1\" class=\"dataframe\">\n  <thead>\n    <tr style=\"text-align: right;\">\n      <th></th>\n      <th>UserId</th>\n      <th>ItemId</th>\n      <th>Data</th>\n    </tr>\n  </thead>\n  <tbody>\n    <tr>\n      <th>0</th>\n      <td>0</td>\n      <td>0</td>\n      <td>0</td>\n    </tr>\n    <tr>\n      <th>1</th>\n      <td>0</td>\n      <td>0</td>\n      <td>1</td>\n    </tr>\n    <tr>\n      <th>2</th>\n      <td>0</td>\n      <td>1</td>\n      <td>1</td>\n    </tr>\n    <tr>\n      <th>3</th>\n      <td>0</td>\n      <td>2</td>\n      <td>1</td>\n    </tr>\n    <tr>\n      <th>4</th>\n      <td>0</td>\n      <td>3</td>\n      <td>1</td>\n    </tr>\n    <tr>\n      <th>...</th>\n      <td>...</td>\n      <td>...</td>\n      <td>...</td>\n    </tr>\n    <tr>\n      <th>1715186</th>\n      <td>41628</td>\n      <td>12162</td>\n      <td>1</td>\n    </tr>\n    <tr>\n      <th>1715188</th>\n      <td>41628</td>\n      <td>22724</td>\n      <td>1</td>\n    </tr>\n    <tr>\n      <th>1715189</th>\n      <td>41628</td>\n      <td>2284</td>\n      <td>1</td>\n    </tr>\n    <tr>\n      <th>1715193</th>\n      <td>41628</td>\n      <td>12693</td>\n      <td>1</td>\n    </tr>\n    <tr>\n      <th>1715194</th>\n      <td>41628</td>\n      <td>15131</td>\n      <td>1</td>\n    </tr>\n  </tbody>\n</table>\n<p>911270 rows × 3 columns</p>\n</div>"
     },
     "execution_count": 81,
     "metadata": {},
     "output_type": "execute_result"
    }
   ],
   "source": [
    "g[\"Data\"]=0\n",
    "new = pd.merge(Distinct_Interactions, g, indicator=True, how='outer').query('_merge==\"left_only\"').drop('_merge', axis=1)\n",
    "new"
   ],
   "metadata": {
    "collapsed": false
   }
  },
  {
   "cell_type": "markdown",
   "id": "94168cdf",
   "metadata": {},
   "source": [
    "We want an Implicit/Binary Matrix, so:\n",
    "1) We drop the Data column, only keeping User and Item Id\n",
    "2) We remove duplicates\n",
    "3) Split data into Train/Test/Validation\n",
    "4) We build the Sparse URM using Scipy"
   ]
  },
  {
   "cell_type": "markdown",
   "id": "6f520da9",
   "metadata": {},
   "source": [
    "##### Step 1"
   ]
  },
  {
   "cell_type": "code",
   "execution_count": 82,
   "id": "4ee1a948",
   "metadata": {},
   "outputs": [],
   "source": [
    "new = new.drop([\"Data\"], axis=1)"
   ]
  },
  {
   "cell_type": "markdown",
   "id": "2e3b7dc9",
   "metadata": {},
   "source": [
    "##### Step 2"
   ]
  },
  {
   "cell_type": "code",
   "execution_count": 83,
   "id": "75e3e64c",
   "metadata": {},
   "outputs": [
    {
     "data": {
      "text/plain": "         UserId  ItemId  Rating\n0             0       0       1\n2             0       1       1\n3             0       2       1\n4             0       3       1\n5             0       4       1\n...         ...     ...     ...\n1715186   41628   12162       1\n1715188   41628   22724       1\n1715189   41628    2284       1\n1715193   41628   12693       1\n1715194   41628   15131       1\n\n[819479 rows x 3 columns]",
      "text/html": "<div>\n<style scoped>\n    .dataframe tbody tr th:only-of-type {\n        vertical-align: middle;\n    }\n\n    .dataframe tbody tr th {\n        vertical-align: top;\n    }\n\n    .dataframe thead th {\n        text-align: right;\n    }\n</style>\n<table border=\"1\" class=\"dataframe\">\n  <thead>\n    <tr style=\"text-align: right;\">\n      <th></th>\n      <th>UserId</th>\n      <th>ItemId</th>\n      <th>Rating</th>\n    </tr>\n  </thead>\n  <tbody>\n    <tr>\n      <th>0</th>\n      <td>0</td>\n      <td>0</td>\n      <td>1</td>\n    </tr>\n    <tr>\n      <th>2</th>\n      <td>0</td>\n      <td>1</td>\n      <td>1</td>\n    </tr>\n    <tr>\n      <th>3</th>\n      <td>0</td>\n      <td>2</td>\n      <td>1</td>\n    </tr>\n    <tr>\n      <th>4</th>\n      <td>0</td>\n      <td>3</td>\n      <td>1</td>\n    </tr>\n    <tr>\n      <th>5</th>\n      <td>0</td>\n      <td>4</td>\n      <td>1</td>\n    </tr>\n    <tr>\n      <th>...</th>\n      <td>...</td>\n      <td>...</td>\n      <td>...</td>\n    </tr>\n    <tr>\n      <th>1715186</th>\n      <td>41628</td>\n      <td>12162</td>\n      <td>1</td>\n    </tr>\n    <tr>\n      <th>1715188</th>\n      <td>41628</td>\n      <td>22724</td>\n      <td>1</td>\n    </tr>\n    <tr>\n      <th>1715189</th>\n      <td>41628</td>\n      <td>2284</td>\n      <td>1</td>\n    </tr>\n    <tr>\n      <th>1715193</th>\n      <td>41628</td>\n      <td>12693</td>\n      <td>1</td>\n    </tr>\n    <tr>\n      <th>1715194</th>\n      <td>41628</td>\n      <td>15131</td>\n      <td>1</td>\n    </tr>\n  </tbody>\n</table>\n<p>819479 rows × 3 columns</p>\n</div>"
     },
     "execution_count": 83,
     "metadata": {},
     "output_type": "execute_result"
    }
   ],
   "source": [
    "new = new.drop_duplicates()\n",
    "new['Rating'] = 1\n",
    "new"
   ]
  },
  {
   "cell_type": "code",
   "execution_count": 84,
   "outputs": [
    {
     "name": "stdout",
     "output_type": "stream",
     "text": [
      "41629\n",
      "24507\n"
     ]
    }
   ],
   "source": [
    "unique_userId = Distinct_Interactions.UserId.unique()\n",
    "num_users = len(unique_userId)\n",
    "print(num_users)\n",
    "\n",
    "unique_itemId = Distinct_Interactions.ItemId.unique()\n",
    "num_items = len(unique_itemId)\n",
    "print(num_items)"
   ],
   "metadata": {
    "collapsed": false
   }
  },
  {
   "cell_type": "markdown",
   "source": [
    "We can see some User profiles are now empty"
   ],
   "metadata": {
    "collapsed": false
   }
  },
  {
   "cell_type": "code",
   "execution_count": 85,
   "outputs": [
    {
     "name": "stdout",
     "output_type": "stream",
     "text": [
      "41624\n",
      "24507\n"
     ]
    }
   ],
   "source": [
    "print(len(new.UserId.unique()))\n",
    "print(len(new.ItemId.unique()))"
   ],
   "metadata": {
    "collapsed": false
   }
  },
  {
   "cell_type": "markdown",
   "source": [
    "#### Step 3"
   ],
   "metadata": {
    "collapsed": false
   }
  },
  {
   "cell_type": "code",
   "execution_count": 86,
   "outputs": [],
   "source": [
    "from sklearn.model_selection import train_test_split\n",
    "import numpy as np\n",
    "\n",
    "seed = 1234\n",
    "\n",
    "\n",
    "(user_ids_training, user_ids_test,\n",
    " item_ids_training, item_ids_test,\n",
    " ratings_training, ratings_test) = train_test_split(new.UserId,\n",
    "                                                    new.ItemId,\n",
    "                                                    new.Rating,\n",
    "                                                    test_size=0.20,\n",
    "                                                    shuffle=True,\n",
    "                                                    random_state=seed)\n",
    "\n",
    "\n",
    "(user_ids_training, user_ids_validation,\n",
    " item_ids_training, item_ids_validation,\n",
    " ratings_training, ratings_validation) = train_test_split(user_ids_training,\n",
    "                                                          item_ids_training,\n",
    "                                                          ratings_training,\n",
    "                                                          test_size=0.10,\n",
    "                                                          )"
   ],
   "metadata": {
    "collapsed": false
   }
  },
  {
   "cell_type": "markdown",
   "id": "d260c4e7",
   "metadata": {},
   "source": [
    "##### Step 4"
   ]
  },
  {
   "cell_type": "code",
   "execution_count": 87,
   "id": "63d28dc5",
   "metadata": {},
   "outputs": [
    {
     "data": {
      "text/plain": "(<41629x24507 sparse matrix of type '<class 'numpy.int64'>'\n \twith 590024 stored elements in Compressed Sparse Row format>,\n <41629x24507 sparse matrix of type '<class 'numpy.int64'>'\n \twith 163896 stored elements in Compressed Sparse Row format>,\n <41629x24507 sparse matrix of type '<class 'numpy.int64'>'\n \twith 65559 stored elements in Compressed Sparse Row format>)"
     },
     "execution_count": 87,
     "metadata": {},
     "output_type": "execute_result"
    }
   ],
   "source": [
    "import scipy.sparse as sp\n",
    "urm_train = sp.csr_matrix((ratings_training, (user_ids_training, item_ids_training)),\n",
    "                          shape=(num_users, num_items))\n",
    "\n",
    "urm_test = sp.csr_matrix((ratings_test, (user_ids_test, item_ids_test)),\n",
    "                         shape=(num_users, num_items))\n",
    "\n",
    "urm_validation = sp.csr_matrix((ratings_validation, (user_ids_validation, item_ids_validation)),\n",
    "                               shape=(num_users, num_items))\n",
    "\n",
    "urm_train, urm_test, urm_validation"
   ]
  },
  {
   "cell_type": "markdown",
   "id": "93389fda",
   "metadata": {},
   "source": [
    "# Now we try running SLIM"
   ]
  },
  {
   "cell_type": "code",
   "execution_count": 88,
   "id": "b89fa582",
   "metadata": {},
   "outputs": [],
   "source": [
    "from Recommenders.SLIM.SLIMElasticNetRecommender import SLIMElasticNetRecommender"
   ]
  },
  {
   "cell_type": "code",
   "execution_count": 89,
   "id": "54395299",
   "metadata": {},
   "outputs": [
    {
     "name": "stdout",
     "output_type": "stream",
     "text": [
      "SLIMElasticNetRecommender: URM Detected 50 ( 0.1%) users with no interactions.\n",
      "SLIMElasticNetRecommender: URM Detected 3 ( 0.0%) items with no interactions.\n"
     ]
    }
   ],
   "source": [
    "MySlimRecommender = SLIMElasticNetRecommender(urm_train)"
   ]
  },
  {
   "cell_type": "code",
   "execution_count": 100,
   "id": "71950c7c",
   "metadata": {},
   "outputs": [
    {
     "name": "stdout",
     "output_type": "stream",
     "text": [
      "EvaluatorHoldout: Ignoring 3970 ( 9.5%) Users that have less than 1 test interactions\n",
      "SLIMElasticNetRecommender: Processed 24507 (100.0%) in 2.73 min. Items per second: 149.51\n",
      "\n",
      "-----------------------------------------------------\n",
      "\n",
      "0.1       0.1\n",
      "\n",
      "EvaluatorHoldout: Processed 37659 (100.0%) in 14.98 sec. Users per second: 2514\n",
      "(       PRECISION PRECISION_RECALL_MIN_DEN    RECALL       MAP MAP_MIN_DEN  \\\n",
      "cutoff                                                                      \n",
      "10      0.007841                 0.017955  0.017339  0.004883    0.011151   \n",
      "\n",
      "             MRR      NDCG        F1  HIT_RATE ARHR_ALL_HITS  ...  \\\n",
      "cutoff                                                        ...   \n",
      "10      0.044179  0.019302  0.010799  0.070368      0.046398  ...   \n",
      "\n",
      "       COVERAGE_USER COVERAGE_USER_HIT USERS_IN_GT DIVERSITY_GINI  \\\n",
      "cutoff                                                              \n",
      "10          0.904634          0.063658    0.904634       0.000683   \n",
      "\n",
      "       SHANNON_ENTROPY RATIO_DIVERSITY_HERFINDAHL RATIO_DIVERSITY_GINI  \\\n",
      "cutoff                                                                   \n",
      "10            4.364295                   0.940782             0.001667   \n",
      "\n",
      "       RATIO_SHANNON_ENTROPY RATIO_AVERAGE_POPULARITY RATIO_NOVELTY  \n",
      "cutoff                                                               \n",
      "10                  0.333347                 1.462411      0.781561  \n",
      "\n",
      "[1 rows x 27 columns], 'CUTOFF: 10 - PRECISION: 0.0078414, PRECISION_RECALL_MIN_DEN: 0.0179554, RECALL: 0.0173389, MAP: 0.0048835, MAP_MIN_DEN: 0.0111506, MRR: 0.0441789, NDCG: 0.0193016, F1: 0.0107990, HIT_RATE: 0.0703683, ARHR_ALL_HITS: 0.0463976, NOVELTY: 0.0059178, AVERAGE_POPULARITY: 0.0833771, DIVERSITY_MEAN_INTER_LIST: 0.4028901, DIVERSITY_HERFINDAHL: 0.9402879, COVERAGE_ITEM: 0.0044885, COVERAGE_ITEM_HIT: 0.0009385, ITEMS_IN_GT: 0.9481781, COVERAGE_USER: 0.9046338, COVERAGE_USER_HIT: 0.0636575, USERS_IN_GT: 0.9046338, DIVERSITY_GINI: 0.0006828, SHANNON_ENTROPY: 4.3642949, RATIO_DIVERSITY_HERFINDAHL: 0.9407823, RATIO_DIVERSITY_GINI: 0.0016671, RATIO_SHANNON_ENTROPY: 0.3333472, RATIO_AVERAGE_POPULARITY: 1.4624106, RATIO_NOVELTY: 0.7815608, \\n')\n",
      "\n",
      "-----------------------------------------------------\n",
      "\n",
      "SLIMElasticNetRecommender: Processed 24507 (100.0%) in 3.00 min. Items per second: 136.02\n",
      "\n",
      "-----------------------------------------------------\n",
      "\n",
      "0.1       0.01\n",
      "\n",
      "EvaluatorHoldout: Processed 37659 (100.0%) in 15.67 sec. Users per second: 2403\n",
      "(       PRECISION PRECISION_RECALL_MIN_DEN    RECALL       MAP MAP_MIN_DEN  \\\n",
      "cutoff                                                                      \n",
      "10      0.031119                 0.068633  0.065885  0.014373    0.031789   \n",
      "\n",
      "             MRR      NDCG        F1  HIT_RATE ARHR_ALL_HITS  ...  \\\n",
      "cutoff                                                        ...   \n",
      "10      0.109112  0.059317  0.042272  0.232959      0.124813  ...   \n",
      "\n",
      "       COVERAGE_USER COVERAGE_USER_HIT USERS_IN_GT DIVERSITY_GINI  \\\n",
      "cutoff                                                              \n",
      "10          0.904634          0.210743    0.904634       0.003143   \n",
      "\n",
      "       SHANNON_ENTROPY RATIO_DIVERSITY_HERFINDAHL RATIO_DIVERSITY_GINI  \\\n",
      "cutoff                                                                   \n",
      "10            6.614936                   0.983749             0.007674   \n",
      "\n",
      "       RATIO_SHANNON_ENTROPY RATIO_AVERAGE_POPULARITY RATIO_NOVELTY  \n",
      "cutoff                                                               \n",
      "10                  0.505252                 3.898081      0.581455  \n",
      "\n",
      "[1 rows x 27 columns], 'CUTOFF: 10 - PRECISION: 0.0311187, PRECISION_RECALL_MIN_DEN: 0.0686333, RECALL: 0.0658854, MAP: 0.0143726, MAP_MIN_DEN: 0.0317890, MRR: 0.1091122, NDCG: 0.0593167, F1: 0.0422718, HIT_RATE: 0.2329589, ARHR_ALL_HITS: 0.1248127, NOVELTY: 0.0044027, AVERAGE_POPULARITY: 0.2222432, DIVERSITY_MEAN_INTER_LIST: 0.8323478, DIVERSITY_HERFINDAHL: 0.9832326, COVERAGE_ITEM: 0.0131799, COVERAGE_ITEM_HIT: 0.0102012, ITEMS_IN_GT: 0.9481781, COVERAGE_USER: 0.9046338, COVERAGE_USER_HIT: 0.2107425, USERS_IN_GT: 0.9046338, DIVERSITY_GINI: 0.0031430, SHANNON_ENTROPY: 6.6149357, RATIO_DIVERSITY_HERFINDAHL: 0.9837495, RATIO_DIVERSITY_GINI: 0.0076739, RATIO_SHANNON_ENTROPY: 0.5052523, RATIO_AVERAGE_POPULARITY: 3.8980814, RATIO_NOVELTY: 0.5814550, \\n')\n",
      "\n",
      "-----------------------------------------------------\n",
      "\n",
      "SLIMElasticNetRecommender: Processed 24507 (100.0%) in 4.28 min. Items per second: 95.49\n",
      "\n",
      "-----------------------------------------------------\n",
      "\n",
      "0.1       0.001\n",
      "\n",
      "EvaluatorHoldout: Processed 37659 (100.0%) in 20.75 sec. Users per second: 1815\n",
      "(       PRECISION PRECISION_RECALL_MIN_DEN    RECALL      MAP MAP_MIN_DEN  \\\n",
      "cutoff                                                                     \n",
      "10      0.040591                 0.089308  0.085658  0.01851    0.040605   \n",
      "\n",
      "             MRR      NDCG       F1  HIT_RATE ARHR_ALL_HITS  ...  \\\n",
      "cutoff                                                       ...   \n",
      "10      0.134144  0.075664  0.05508  0.289254      0.156844  ...   \n",
      "\n",
      "       COVERAGE_USER COVERAGE_USER_HIT USERS_IN_GT DIVERSITY_GINI  \\\n",
      "cutoff                                                              \n",
      "10          0.904634          0.261669    0.904634       0.017487   \n",
      "\n",
      "       SHANNON_ENTROPY RATIO_DIVERSITY_HERFINDAHL RATIO_DIVERSITY_GINI  \\\n",
      "cutoff                                                                   \n",
      "10            8.803776                   0.994774             0.042696   \n",
      "\n",
      "       RATIO_SHANNON_ENTROPY RATIO_AVERAGE_POPULARITY RATIO_NOVELTY  \n",
      "cutoff                                                               \n",
      "10                  0.672437                  2.98987      0.570736  \n",
      "\n",
      "[1 rows x 27 columns], 'CUTOFF: 10 - PRECISION: 0.0405906, PRECISION_RECALL_MIN_DEN: 0.0893083, RECALL: 0.0856575, MAP: 0.0185104, MAP_MIN_DEN: 0.0406052, MRR: 0.1341441, NDCG: 0.0756641, F1: 0.0550802, HIT_RATE: 0.2892536, ARHR_ALL_HITS: 0.1568444, NOVELTY: 0.0043215, AVERAGE_POPULARITY: 0.1704629, DIVERSITY_MEAN_INTER_LIST: 0.9425386, DIVERSITY_HERFINDAHL: 0.9942514, COVERAGE_ITEM: 0.1201289, COVERAGE_ITEM_HIT: 0.0413351, ITEMS_IN_GT: 0.9481781, COVERAGE_USER: 0.9046338, COVERAGE_USER_HIT: 0.2616685, USERS_IN_GT: 0.9046338, DIVERSITY_GINI: 0.0174868, SHANNON_ENTROPY: 8.8037758, RATIO_DIVERSITY_HERFINDAHL: 0.9947741, RATIO_DIVERSITY_GINI: 0.0426962, RATIO_SHANNON_ENTROPY: 0.6724371, RATIO_AVERAGE_POPULARITY: 2.9898699, RATIO_NOVELTY: 0.5707360, \\n')\n",
      "\n",
      "-----------------------------------------------------\n",
      "\n",
      "SLIMElasticNetRecommender: Processed 24507 (100.0%) in 2.81 min. Items per second: 145.29\n",
      "\n",
      "-----------------------------------------------------\n",
      "\n",
      "0.01       0.1\n",
      "\n",
      "EvaluatorHoldout: Processed 37659 (100.0%) in 15.37 sec. Users per second: 2451\n",
      "(       PRECISION PRECISION_RECALL_MIN_DEN    RECALL       MAP MAP_MIN_DEN  \\\n",
      "cutoff                                                                      \n",
      "10      0.029326                 0.066305  0.063861  0.013265    0.030009   \n",
      "\n",
      "             MRR      NDCG        F1  HIT_RATE ARHR_ALL_HITS  ...  \\\n",
      "cutoff                                                        ...   \n",
      "10      0.102669  0.056303  0.040194  0.223957      0.116318  ...   \n",
      "\n",
      "       COVERAGE_USER COVERAGE_USER_HIT USERS_IN_GT DIVERSITY_GINI  \\\n",
      "cutoff                                                              \n",
      "10          0.904634          0.202599    0.904634        0.00238   \n",
      "\n",
      "       SHANNON_ENTROPY RATIO_DIVERSITY_HERFINDAHL RATIO_DIVERSITY_GINI  \\\n",
      "cutoff                                                                   \n",
      "10            6.209663                   0.978798             0.005812   \n",
      "\n",
      "       RATIO_SHANNON_ENTROPY RATIO_AVERAGE_POPULARITY RATIO_NOVELTY  \n",
      "cutoff                                                               \n",
      "10                  0.474297                 4.581911      0.562783  \n",
      "\n",
      "[1 rows x 27 columns], 'CUTOFF: 10 - PRECISION: 0.0293263, PRECISION_RECALL_MIN_DEN: 0.0663052, RECALL: 0.0638610, MAP: 0.0132653, MAP_MIN_DEN: 0.0300088, MRR: 0.1026687, NDCG: 0.0563035, F1: 0.0401945, HIT_RATE: 0.2239571, ARHR_ALL_HITS: 0.1163178, NOVELTY: 0.0042613, AVERAGE_POPULARITY: 0.2612307, DIVERSITY_MEAN_INTER_LIST: 0.7828598, DIVERSITY_HERFINDAHL: 0.9782839, COVERAGE_ITEM: 0.0121190, COVERAGE_ITEM_HIT: 0.0092627, ITEMS_IN_GT: 0.9481781, COVERAGE_USER: 0.9046338, COVERAGE_USER_HIT: 0.2025991, USERS_IN_GT: 0.9046338, DIVERSITY_GINI: 0.0023805, SHANNON_ENTROPY: 6.2096630, RATIO_DIVERSITY_HERFINDAHL: 0.9787982, RATIO_DIVERSITY_GINI: 0.0058122, RATIO_SHANNON_ENTROPY: 0.4742974, RATIO_AVERAGE_POPULARITY: 4.5819115, RATIO_NOVELTY: 0.5627835, \\n')\n",
      "\n",
      "-----------------------------------------------------\n",
      "\n",
      "SLIMElasticNetRecommender: Processed 24507 (100.0%) in 3.96 min. Items per second: 103.11\n",
      "\n",
      "-----------------------------------------------------\n",
      "\n",
      "0.01       0.01\n",
      "\n",
      "EvaluatorHoldout: Processed 37659 (100.0%) in 19.03 sec. Users per second: 1979\n",
      "(       PRECISION PRECISION_RECALL_MIN_DEN    RECALL     MAP MAP_MIN_DEN  \\\n",
      "cutoff                                                                    \n",
      "10      0.039125                 0.087041  0.083601  0.0177    0.039053   \n",
      "\n",
      "             MRR      NDCG        F1  HIT_RATE ARHR_ALL_HITS  ...  \\\n",
      "cutoff                                                        ...   \n",
      "10      0.129027  0.073071  0.053304  0.281606      0.150428  ...   \n",
      "\n",
      "       COVERAGE_USER COVERAGE_USER_HIT USERS_IN_GT DIVERSITY_GINI  \\\n",
      "cutoff                                                              \n",
      "10          0.904634           0.25475    0.904634       0.011607   \n",
      "\n",
      "       SHANNON_ENTROPY RATIO_DIVERSITY_HERFINDAHL RATIO_DIVERSITY_GINI  \\\n",
      "cutoff                                                                   \n",
      "10            8.170927                   0.991869              0.02834   \n",
      "\n",
      "       RATIO_SHANNON_ENTROPY RATIO_AVERAGE_POPULARITY RATIO_NOVELTY  \n",
      "cutoff                                                               \n",
      "10                    0.6241                  3.61366      0.549496  \n",
      "\n",
      "[1 rows x 27 columns], 'CUTOFF: 10 - PRECISION: 0.0391248, PRECISION_RECALL_MIN_DEN: 0.0870406, RECALL: 0.0836009, MAP: 0.0177004, MAP_MIN_DEN: 0.0390535, MRR: 0.1290266, NDCG: 0.0730711, F1: 0.0533037, HIT_RATE: 0.2816060, ARHR_ALL_HITS: 0.1504280, NOVELTY: 0.0041607, AVERAGE_POPULARITY: 0.2060273, DIVERSITY_MEAN_INTER_LIST: 0.9135012, DIVERSITY_HERFINDAHL: 0.9913477, COVERAGE_ITEM: 0.1115600, COVERAGE_ITEM_HIT: 0.0290121, ITEMS_IN_GT: 0.9481781, COVERAGE_USER: 0.9046338, COVERAGE_USER_HIT: 0.2547503, USERS_IN_GT: 0.9046338, DIVERSITY_GINI: 0.0116069, SHANNON_ENTROPY: 8.1709268, RATIO_DIVERSITY_HERFINDAHL: 0.9918689, RATIO_DIVERSITY_GINI: 0.0283396, RATIO_SHANNON_ENTROPY: 0.6240998, RATIO_AVERAGE_POPULARITY: 3.6136601, RATIO_NOVELTY: 0.5494962, \\n')\n",
      "\n",
      "-----------------------------------------------------\n",
      "\n",
      "SLIMElasticNetRecommender: Processed 8918 (36.4%) in 5.00 min. Items per second: 29.72\n",
      "SLIMElasticNetRecommender: Processed 18984 (77.5%) in 10.00 min. Items per second: 31.64\n",
      "SLIMElasticNetRecommender: Processed 24507 (100.0%) in 12.70 min. Items per second: 32.16\n",
      "\n",
      "-----------------------------------------------------\n",
      "\n",
      "0.01       0.001\n",
      "\n",
      "EvaluatorHoldout: Processed 37659 (100.0%) in 19.72 sec. Users per second: 1909\n",
      "(       PRECISION PRECISION_RECALL_MIN_DEN    RECALL       MAP MAP_MIN_DEN  \\\n",
      "cutoff                                                                      \n",
      "10      0.038363                  0.08274  0.079106  0.017722     0.03839   \n",
      "\n",
      "             MRR      NDCG        F1 HIT_RATE ARHR_ALL_HITS  ...  \\\n",
      "cutoff                                                       ...   \n",
      "10      0.128738  0.071378  0.051669  0.27279       0.15018  ...   \n",
      "\n",
      "       COVERAGE_USER COVERAGE_USER_HIT USERS_IN_GT DIVERSITY_GINI  \\\n",
      "cutoff                                                              \n",
      "10          0.904634          0.246775    0.904634        0.05114   \n",
      "\n",
      "       SHANNON_ENTROPY RATIO_DIVERSITY_HERFINDAHL RATIO_DIVERSITY_GINI  \\\n",
      "cutoff                                                                   \n",
      "10           10.197508                   0.998093             0.124865   \n",
      "\n",
      "       RATIO_SHANNON_ENTROPY RATIO_AVERAGE_POPULARITY RATIO_NOVELTY  \n",
      "cutoff                                                               \n",
      "10                  0.778891                 2.084196      0.595558  \n",
      "\n",
      "[1 rows x 27 columns], 'CUTOFF: 10 - PRECISION: 0.0383627, PRECISION_RECALL_MIN_DEN: 0.0827402, RECALL: 0.0791059, MAP: 0.0177218, MAP_MIN_DEN: 0.0383904, MRR: 0.1287380, NDCG: 0.0713779, F1: 0.0516685, HIT_RATE: 0.2727900, ARHR_ALL_HITS: 0.1501798, NOVELTY: 0.0045095, AVERAGE_POPULARITY: 0.1188273, DIVERSITY_MEAN_INTER_LIST: 0.9757155, DIVERSITY_HERFINDAHL: 0.9975690, COVERAGE_ITEM: 0.4403640, COVERAGE_ITEM_HIT: 0.0590852, ITEMS_IN_GT: 0.9481781, COVERAGE_USER: 0.9046338, COVERAGE_USER_HIT: 0.2467751, USERS_IN_GT: 0.9046338, DIVERSITY_GINI: 0.0511402, SHANNON_ENTROPY: 10.1975080, RATIO_DIVERSITY_HERFINDAHL: 0.9980934, RATIO_DIVERSITY_GINI: 0.1248650, RATIO_SHANNON_ENTROPY: 0.7788911, RATIO_AVERAGE_POPULARITY: 2.0841961, RATIO_NOVELTY: 0.5955584, \\n')\n",
      "\n",
      "-----------------------------------------------------\n",
      "\n",
      "SLIMElasticNetRecommender: Processed 24507 (100.0%) in 3.79 min. Items per second: 107.79\n",
      "\n",
      "-----------------------------------------------------\n",
      "\n",
      "0.001       0.1\n",
      "\n",
      "EvaluatorHoldout: Processed 37659 (100.0%) in 18.40 sec. Users per second: 2047\n",
      "(       PRECISION PRECISION_RECALL_MIN_DEN    RECALL       MAP MAP_MIN_DEN  \\\n",
      "cutoff                                                                      \n",
      "10      0.034571                   0.0785  0.075541  0.015539    0.034844   \n",
      "\n",
      "             MRR      NDCG        F1  HIT_RATE ARHR_ALL_HITS  ...  \\\n",
      "cutoff                                                        ...   \n",
      "10      0.116733  0.065498  0.047434  0.257548      0.134105  ...   \n",
      "\n",
      "       COVERAGE_USER COVERAGE_USER_HIT USERS_IN_GT DIVERSITY_GINI  \\\n",
      "cutoff                                                              \n",
      "10          0.904634          0.232987    0.904634       0.008161   \n",
      "\n",
      "       SHANNON_ENTROPY RATIO_DIVERSITY_HERFINDAHL RATIO_DIVERSITY_GINI  \\\n",
      "cutoff                                                                   \n",
      "10            7.400192                   0.985346             0.019927   \n",
      "\n",
      "       RATIO_SHANNON_ENTROPY RATIO_AVERAGE_POPULARITY RATIO_NOVELTY  \n",
      "cutoff                                                               \n",
      "10                  0.565231                 4.493117      0.529407  \n",
      "\n",
      "[1 rows x 27 columns], 'CUTOFF: 10 - PRECISION: 0.0345708, PRECISION_RECALL_MIN_DEN: 0.0784999, RECALL: 0.0755411, MAP: 0.0155390, MAP_MIN_DEN: 0.0348435, MRR: 0.1167326, NDCG: 0.0654984, F1: 0.0474338, HIT_RATE: 0.2575480, ARHR_ALL_HITS: 0.1341049, NOVELTY: 0.0040086, AVERAGE_POPULARITY: 0.2561682, DIVERSITY_MEAN_INTER_LIST: 0.8483025, DIVERSITY_HERFINDAHL: 0.9848280, COVERAGE_ITEM: 0.1104990, COVERAGE_ITEM_HIT: 0.0207288, ITEMS_IN_GT: 0.9481781, COVERAGE_USER: 0.9046338, COVERAGE_USER_HIT: 0.2329866, USERS_IN_GT: 0.9046338, DIVERSITY_GINI: 0.0081614, SHANNON_ENTROPY: 7.4001920, RATIO_DIVERSITY_HERFINDAHL: 0.9853458, RATIO_DIVERSITY_GINI: 0.0199271, RATIO_SHANNON_ENTROPY: 0.5652306, RATIO_AVERAGE_POPULARITY: 4.4931167, RATIO_NOVELTY: 0.5294075, \\n')\n",
      "\n",
      "-----------------------------------------------------\n",
      "\n",
      "SLIMElasticNetRecommender: Processed 9526 (38.9%) in 5.00 min. Items per second: 31.75\n",
      "SLIMElasticNetRecommender: Processed 19938 (81.4%) in 10.00 min. Items per second: 33.23\n",
      "SLIMElasticNetRecommender: Processed 24507 (100.0%) in 12.13 min. Items per second: 33.68\n",
      "\n",
      "-----------------------------------------------------\n",
      "\n",
      "0.001       0.01\n",
      "\n",
      "EvaluatorHoldout: Processed 37659 (100.0%) in 21.14 sec. Users per second: 1781\n",
      "(       PRECISION PRECISION_RECALL_MIN_DEN    RECALL       MAP MAP_MIN_DEN  \\\n",
      "cutoff                                                                      \n",
      "10      0.039982                  0.08884  0.085288  0.018124    0.039924   \n",
      "\n",
      "             MRR      NDCG        F1  HIT_RATE ARHR_ALL_HITS  ...  \\\n",
      "cutoff                                                        ...   \n",
      "10      0.131564  0.074616  0.054443  0.286465      0.153695  ...   \n",
      "\n",
      "       COVERAGE_USER COVERAGE_USER_HIT USERS_IN_GT DIVERSITY_GINI  \\\n",
      "cutoff                                                              \n",
      "10          0.904634          0.259146    0.904634        0.03267   \n",
      "\n",
      "       SHANNON_ENTROPY RATIO_DIVERSITY_HERFINDAHL RATIO_DIVERSITY_GINI  \\\n",
      "cutoff                                                                   \n",
      "10            8.903778                   0.993128             0.079768   \n",
      "\n",
      "       RATIO_SHANNON_ENTROPY RATIO_AVERAGE_POPULARITY RATIO_NOVELTY  \n",
      "cutoff                                                               \n",
      "10                  0.680075                 3.480199      0.546783  \n",
      "\n",
      "[1 rows x 27 columns], 'CUTOFF: 10 - PRECISION: 0.0399825, PRECISION_RECALL_MIN_DEN: 0.0888400, RECALL: 0.0852881, MAP: 0.0181240, MAP_MIN_DEN: 0.0399244, MRR: 0.1315636, NDCG: 0.0746159, F1: 0.0544426, HIT_RATE: 0.2864654, ARHR_ALL_HITS: 0.1536946, NOVELTY: 0.0041402, AVERAGE_POPULARITY: 0.1984182, DIVERSITY_MEAN_INTER_LIST: 0.9260856, DIVERSITY_HERFINDAHL: 0.9926061, COVERAGE_ITEM: 0.4458726, COVERAGE_ITEM_HIT: 0.0361121, ITEMS_IN_GT: 0.9481781, COVERAGE_USER: 0.9046338, COVERAGE_USER_HIT: 0.2591463, USERS_IN_GT: 0.9046338, DIVERSITY_GINI: 0.0326702, SHANNON_ENTROPY: 8.9037783, RATIO_DIVERSITY_HERFINDAHL: 0.9931280, RATIO_DIVERSITY_GINI: 0.0797682, RATIO_SHANNON_ENTROPY: 0.6800754, RATIO_AVERAGE_POPULARITY: 3.4801987, RATIO_NOVELTY: 0.5467835, \\n')\n",
      "\n",
      "-----------------------------------------------------\n",
      "\n",
      "SLIMElasticNetRecommender: Processed 8822 (36.0%) in 5.00 min. Items per second: 29.40\n",
      "SLIMElasticNetRecommender: Processed 18451 (75.3%) in 10.00 min. Items per second: 30.75\n",
      "SLIMElasticNetRecommender: Processed 24507 (100.0%) in 12.93 min. Items per second: 31.60\n",
      "\n",
      "-----------------------------------------------------\n",
      "\n",
      "0.001       0.001\n",
      "\n",
      "EvaluatorHoldout: Processed 37659 (100.0%) in 19.50 sec. Users per second: 1931\n",
      "(       PRECISION PRECISION_RECALL_MIN_DEN    RECALL       MAP MAP_MIN_DEN  \\\n",
      "cutoff                                                                      \n",
      "10      0.037311                 0.079775  0.076177  0.017326    0.037402   \n",
      "\n",
      "             MRR      NDCG        F1  HIT_RATE ARHR_ALL_HITS  ...  \\\n",
      "cutoff                                                        ...   \n",
      "10      0.126204  0.069441  0.050089  0.265674      0.146969  ...   \n",
      "\n",
      "       COVERAGE_USER COVERAGE_USER_HIT USERS_IN_GT DIVERSITY_GINI  \\\n",
      "cutoff                                                              \n",
      "10          0.904634          0.240337    0.904634        0.06468   \n",
      "\n",
      "       SHANNON_ENTROPY RATIO_DIVERSITY_HERFINDAHL RATIO_DIVERSITY_GINI  \\\n",
      "cutoff                                                                   \n",
      "10           10.388899                   0.998328             0.157924   \n",
      "\n",
      "       RATIO_SHANNON_ENTROPY RATIO_AVERAGE_POPULARITY RATIO_NOVELTY  \n",
      "cutoff                                                               \n",
      "10                   0.79351                 1.962672      0.602119  \n",
      "\n",
      "[1 rows x 27 columns], 'CUTOFF: 10 - PRECISION: 0.0373111, PRECISION_RECALL_MIN_DEN: 0.0797749, RECALL: 0.0761768, MAP: 0.0173261, MAP_MIN_DEN: 0.0374015, MRR: 0.1262040, NDCG: 0.0694412, F1: 0.0500889, HIT_RATE: 0.2656735, ARHR_ALL_HITS: 0.1469695, NOVELTY: 0.0045591, AVERAGE_POPULARITY: 0.1118988, DIVERSITY_MEAN_INTER_LIST: 0.9780569, DIVERSITY_HERFINDAHL: 0.9978031, COVERAGE_ITEM: 0.5836700, COVERAGE_ITEM_HIT: 0.0590852, ITEMS_IN_GT: 0.9481781, COVERAGE_USER: 0.9046338, COVERAGE_USER_HIT: 0.2403373, USERS_IN_GT: 0.9046338, DIVERSITY_GINI: 0.0646798, SHANNON_ENTROPY: 10.3888994, RATIO_DIVERSITY_HERFINDAHL: 0.9983277, RATIO_DIVERSITY_GINI: 0.1579235, RATIO_SHANNON_ENTROPY: 0.7935097, RATIO_AVERAGE_POPULARITY: 1.9626723, RATIO_NOVELTY: 0.6021188, \\n')\n",
      "\n",
      "-----------------------------------------------------\n",
      "\n"
     ]
    }
   ],
   "source": [
    "liS = [0.1, 0.01, 0.001]\n",
    "alphaS = [0.1, 0.01, 0.001]\n",
    "\n",
    "from Evaluation.Evaluator import EvaluatorHoldout\n",
    "e = EvaluatorHoldout(urm_test, [10])\n",
    "\n",
    "for li in liS:\n",
    "    for alp in alphaS:\n",
    "        MySlimRecommender.fit(l1_ratio=li, alpha = alp, positive_only=True, topK = 100)\n",
    "        print(\"\\n-----------------------------------------------------\\n\")\n",
    "        print(str(li) + \"       \" + str(alp) + \"\\n\")\n",
    "        print(e.evaluateRecommender(MySlimRecommender))\n",
    "        print(\"\\n-----------------------------------------------------\\n\")"
   ]
  },
  {
   "cell_type": "markdown",
   "source": [
    "### No parameter tuning for now"
   ],
   "metadata": {
    "collapsed": false
   }
  },
  {
   "cell_type": "markdown",
   "source": [
    "# Computing the submission\n",
    "First we compute the original indexes"
   ],
   "metadata": {
    "collapsed": false
   }
  },
  {
   "cell_type": "code",
   "execution_count": null,
   "outputs": [],
   "source": [
    "target = pd.read_csv(filepath_or_buffer=\"recommender-system-2022-challenge-polimi-data/data_target_users_test.csv\",\n",
    "                                          sep=\",\",\n",
    "                                          header=0,\n",
    "                                          engine='python',\n",
    "                                          names=['id'])\n",
    "target"
   ],
   "metadata": {
    "collapsed": false
   }
  },
  {
   "cell_type": "code",
   "execution_count": null,
   "outputs": [],
   "source": [
    "def write_recommendations(file_name):\n",
    "    recommendations = 'user_id,item_list'\n",
    "    f = open(\"submissions/\" + file_name + \".csv\", \"w\")\n",
    "\n",
    "    for id in target['id']:\n",
    "        recommendations_per_user = MySlimRecommender.recommend(user_id_array=id, remove_seen_flag=True, cutoff=10)\n",
    "\n",
    "        recommendation_string = str(user_original_Id_to_index[user_original_Id_to_index==id].index.item()\n",
    "                                    ) + ','\n",
    "\n",
    "        for rec in recommendations_per_user:\n",
    "            recommendation_string = recommendation_string + str(item_original_Id_to_index[item_original_Id_to_index==rec].index.item()) + ' '\n",
    "\n",
    "        recommendation_string = recommendation_string[:-1]\n",
    "        recommendations = recommendations + '\\n' + recommendation_string\n",
    "\n",
    "    f.write(recommendations)\n",
    "    f.close()"
   ],
   "metadata": {
    "collapsed": false
   }
  },
  {
   "cell_type": "code",
   "execution_count": null,
   "outputs": [],
   "source": [],
   "metadata": {
    "collapsed": false
   }
  }
 ],
 "metadata": {
  "kernelspec": {
   "display_name": "Python 3 (ipykernel)",
   "language": "python",
   "name": "python3"
  },
  "language_info": {
   "codemirror_mode": {
    "name": "ipython",
    "version": 3
   },
   "file_extension": ".py",
   "mimetype": "text/x-python",
   "name": "python",
   "nbconvert_exporter": "python",
   "pygments_lexer": "ipython3",
   "version": "3.8.13"
  }
 },
 "nbformat": 4,
 "nbformat_minor": 5
}
