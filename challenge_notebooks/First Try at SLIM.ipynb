{
 "cells": [
  {
   "cell_type": "markdown",
   "id": "556718eb",
   "metadata": {},
   "source": [
    "# Data Load\n",
    "### Create the Pandas Dataframe"
   ]
  },
  {
   "cell_type": "code",
   "execution_count": 1,
   "id": "71b3b376",
   "metadata": {},
   "outputs": [
    {
     "data": {
      "text/plain": "         UserId  ItemId                 ImpressionList  Data\n0             0      21                            NaN     0\n1             0      21                            NaN     0\n2             0      21  20,21,22,23,24,25,26,27,28,29     0\n3             0      21                            NaN     1\n4             0      21                            NaN     1\n...         ...     ...                            ...   ...\n5826500   41628   20448                            NaN     0\n5826501   41628   20896                            NaN     1\n5826502   41628   21506                            NaN     1\n5826503   41628   22882                            NaN     0\n5826504   41628   23757                            NaN     0\n\n[5826505 rows x 4 columns]",
      "text/html": "<div>\n<style scoped>\n    .dataframe tbody tr th:only-of-type {\n        vertical-align: middle;\n    }\n\n    .dataframe tbody tr th {\n        vertical-align: top;\n    }\n\n    .dataframe thead th {\n        text-align: right;\n    }\n</style>\n<table border=\"1\" class=\"dataframe\">\n  <thead>\n    <tr style=\"text-align: right;\">\n      <th></th>\n      <th>UserId</th>\n      <th>ItemId</th>\n      <th>ImpressionList</th>\n      <th>Data</th>\n    </tr>\n  </thead>\n  <tbody>\n    <tr>\n      <th>0</th>\n      <td>0</td>\n      <td>21</td>\n      <td>NaN</td>\n      <td>0</td>\n    </tr>\n    <tr>\n      <th>1</th>\n      <td>0</td>\n      <td>21</td>\n      <td>NaN</td>\n      <td>0</td>\n    </tr>\n    <tr>\n      <th>2</th>\n      <td>0</td>\n      <td>21</td>\n      <td>20,21,22,23,24,25,26,27,28,29</td>\n      <td>0</td>\n    </tr>\n    <tr>\n      <th>3</th>\n      <td>0</td>\n      <td>21</td>\n      <td>NaN</td>\n      <td>1</td>\n    </tr>\n    <tr>\n      <th>4</th>\n      <td>0</td>\n      <td>21</td>\n      <td>NaN</td>\n      <td>1</td>\n    </tr>\n    <tr>\n      <th>...</th>\n      <td>...</td>\n      <td>...</td>\n      <td>...</td>\n      <td>...</td>\n    </tr>\n    <tr>\n      <th>5826500</th>\n      <td>41628</td>\n      <td>20448</td>\n      <td>NaN</td>\n      <td>0</td>\n    </tr>\n    <tr>\n      <th>5826501</th>\n      <td>41628</td>\n      <td>20896</td>\n      <td>NaN</td>\n      <td>1</td>\n    </tr>\n    <tr>\n      <th>5826502</th>\n      <td>41628</td>\n      <td>21506</td>\n      <td>NaN</td>\n      <td>1</td>\n    </tr>\n    <tr>\n      <th>5826503</th>\n      <td>41628</td>\n      <td>22882</td>\n      <td>NaN</td>\n      <td>0</td>\n    </tr>\n    <tr>\n      <th>5826504</th>\n      <td>41628</td>\n      <td>23757</td>\n      <td>NaN</td>\n      <td>0</td>\n    </tr>\n  </tbody>\n</table>\n<p>5826505 rows × 4 columns</p>\n</div>"
     },
     "execution_count": 1,
     "metadata": {},
     "output_type": "execute_result"
    }
   ],
   "source": [
    "import pandas as pd\n",
    "path = \"recommender-system-2022-challenge-polimi-data/interactions_and_impressions.csv\"\n",
    "\n",
    "Interactions_and_Impressions = pd.read_csv(filepath_or_buffer=path,\n",
    "                               sep=\",\",\n",
    "                               header=1,\n",
    "                               engine='python',\n",
    "                               names=['UserId', 'ItemId', 'ImpressionList', 'Data'])\n",
    "Interactions_and_Impressions"
   ]
  },
  {
   "cell_type": "code",
   "execution_count": 2,
   "outputs": [
    {
     "name": "stdout",
     "output_type": "stream",
     "text": [
      "41628\n",
      "24506\n"
     ]
    }
   ],
   "source": [
    "print(Interactions_and_Impressions[\"UserId\"].max())\n",
    "print(Interactions_and_Impressions[\"ItemId\"].max())"
   ],
   "metadata": {
    "collapsed": false
   }
  },
  {
   "cell_type": "markdown",
   "id": "ec95abb9",
   "metadata": {},
   "source": [
    "### Data Preparation\n",
    "First we remove empty indeces:"
   ]
  },
  {
   "cell_type": "code",
   "execution_count": 3,
   "id": "5e377983",
   "metadata": {},
   "outputs": [],
   "source": [
    "userId_unique = Interactions_and_Impressions[\"UserId\"].unique()\n",
    "itemId_unique = Interactions_and_Impressions[\"ItemId\"].unique()"
   ]
  },
  {
   "cell_type": "code",
   "execution_count": 4,
   "id": "d854ffc3",
   "metadata": {},
   "outputs": [],
   "source": [
    "mapped_id, original_id = pd.factorize(Interactions_and_Impressions[\"UserId\"].unique())\n",
    "user_original_Id_to_index = pd.Series(mapped_id, index=original_id)\n",
    "\n",
    "mapped_id, original_id = pd.factorize(Interactions_and_Impressions[\"ItemId\"].unique())\n",
    "item_original_Id_to_index = pd.Series(mapped_id, index=original_id)"
   ]
  },
  {
   "cell_type": "code",
   "execution_count": 5,
   "id": "c7597206",
   "metadata": {},
   "outputs": [],
   "source": [
    "Interactions_and_Impressions[\"UserId\"] = Interactions_and_Impressions[\"UserId\"].map(user_original_Id_to_index)\n",
    "Interactions_and_Impressions[\"ItemId\"] = Interactions_and_Impressions[\"ItemId\"].map(item_original_Id_to_index)"
   ]
  },
  {
   "cell_type": "code",
   "execution_count": 6,
   "id": "64240300",
   "metadata": {},
   "outputs": [
    {
     "data": {
      "text/plain": "    UserId  ItemId                 ImpressionList  Data\n0        0       0                            NaN     0\n1        0       0                            NaN     0\n2        0       0  20,21,22,23,24,25,26,27,28,29     0\n3        0       0                            NaN     1\n4        0       0                            NaN     1\n5        0       0                            NaN     1\n6        0       0                            NaN     1\n7        0       0                            NaN     1\n8        0       0                            NaN     1\n9        0       0                            NaN     1\n10       0       0  20,21,30,22,23,24,26,31,29,32     1\n11       0       0  20,21,22,23,24,25,26,27,28,29     1\n12       0       1                            NaN     1\n13       0       1                            NaN     1\n14       0       1                            NaN     1",
      "text/html": "<div>\n<style scoped>\n    .dataframe tbody tr th:only-of-type {\n        vertical-align: middle;\n    }\n\n    .dataframe tbody tr th {\n        vertical-align: top;\n    }\n\n    .dataframe thead th {\n        text-align: right;\n    }\n</style>\n<table border=\"1\" class=\"dataframe\">\n  <thead>\n    <tr style=\"text-align: right;\">\n      <th></th>\n      <th>UserId</th>\n      <th>ItemId</th>\n      <th>ImpressionList</th>\n      <th>Data</th>\n    </tr>\n  </thead>\n  <tbody>\n    <tr>\n      <th>0</th>\n      <td>0</td>\n      <td>0</td>\n      <td>NaN</td>\n      <td>0</td>\n    </tr>\n    <tr>\n      <th>1</th>\n      <td>0</td>\n      <td>0</td>\n      <td>NaN</td>\n      <td>0</td>\n    </tr>\n    <tr>\n      <th>2</th>\n      <td>0</td>\n      <td>0</td>\n      <td>20,21,22,23,24,25,26,27,28,29</td>\n      <td>0</td>\n    </tr>\n    <tr>\n      <th>3</th>\n      <td>0</td>\n      <td>0</td>\n      <td>NaN</td>\n      <td>1</td>\n    </tr>\n    <tr>\n      <th>4</th>\n      <td>0</td>\n      <td>0</td>\n      <td>NaN</td>\n      <td>1</td>\n    </tr>\n    <tr>\n      <th>5</th>\n      <td>0</td>\n      <td>0</td>\n      <td>NaN</td>\n      <td>1</td>\n    </tr>\n    <tr>\n      <th>6</th>\n      <td>0</td>\n      <td>0</td>\n      <td>NaN</td>\n      <td>1</td>\n    </tr>\n    <tr>\n      <th>7</th>\n      <td>0</td>\n      <td>0</td>\n      <td>NaN</td>\n      <td>1</td>\n    </tr>\n    <tr>\n      <th>8</th>\n      <td>0</td>\n      <td>0</td>\n      <td>NaN</td>\n      <td>1</td>\n    </tr>\n    <tr>\n      <th>9</th>\n      <td>0</td>\n      <td>0</td>\n      <td>NaN</td>\n      <td>1</td>\n    </tr>\n    <tr>\n      <th>10</th>\n      <td>0</td>\n      <td>0</td>\n      <td>20,21,30,22,23,24,26,31,29,32</td>\n      <td>1</td>\n    </tr>\n    <tr>\n      <th>11</th>\n      <td>0</td>\n      <td>0</td>\n      <td>20,21,22,23,24,25,26,27,28,29</td>\n      <td>1</td>\n    </tr>\n    <tr>\n      <th>12</th>\n      <td>0</td>\n      <td>1</td>\n      <td>NaN</td>\n      <td>1</td>\n    </tr>\n    <tr>\n      <th>13</th>\n      <td>0</td>\n      <td>1</td>\n      <td>NaN</td>\n      <td>1</td>\n    </tr>\n    <tr>\n      <th>14</th>\n      <td>0</td>\n      <td>1</td>\n      <td>NaN</td>\n      <td>1</td>\n    </tr>\n  </tbody>\n</table>\n</div>"
     },
     "execution_count": 6,
     "metadata": {},
     "output_type": "execute_result"
    }
   ],
   "source": [
    "Interactions_and_Impressions.head(15)"
   ]
  },
  {
   "cell_type": "markdown",
   "id": "94168cdf",
   "metadata": {},
   "source": [
    "We want an Implicit/Binary Matrix, so:\n",
    "1) We drop the last two columns, only keeping User and Item Id\n",
    "2) We remove duplicates\n",
    "3) Split data into Train/Test/Validation\n",
    "4) We build the Sparse URM using Scipy"
   ]
  },
  {
   "cell_type": "markdown",
   "id": "6f520da9",
   "metadata": {},
   "source": [
    "##### Step 1"
   ]
  },
  {
   "cell_type": "code",
   "execution_count": 7,
   "id": "4ee1a948",
   "metadata": {},
   "outputs": [],
   "source": [
    "Distinct_Interactions = Interactions_and_Impressions.copy(deep=True)\n",
    "Distinct_Interactions = Distinct_Interactions.drop([\"ImpressionList\", \"Data\"], axis=1)"
   ]
  },
  {
   "cell_type": "markdown",
   "id": "2e3b7dc9",
   "metadata": {},
   "source": [
    "##### Step 2"
   ]
  },
  {
   "cell_type": "code",
   "execution_count": 8,
   "id": "75e3e64c",
   "metadata": {},
   "outputs": [
    {
     "data": {
      "text/plain": "         UserId  ItemId  Rating\n0             0       0       1\n12            0       1       1\n27            0       2       1\n28            0       3       1\n29            0       4       1\n...         ...     ...     ...\n5826500   41628    3699       1\n5826501   41628   12693       1\n5826502   41628   15131       1\n5826503   41628   18127       1\n5826504   41628   14572       1\n\n[1554639 rows x 3 columns]",
      "text/html": "<div>\n<style scoped>\n    .dataframe tbody tr th:only-of-type {\n        vertical-align: middle;\n    }\n\n    .dataframe tbody tr th {\n        vertical-align: top;\n    }\n\n    .dataframe thead th {\n        text-align: right;\n    }\n</style>\n<table border=\"1\" class=\"dataframe\">\n  <thead>\n    <tr style=\"text-align: right;\">\n      <th></th>\n      <th>UserId</th>\n      <th>ItemId</th>\n      <th>Rating</th>\n    </tr>\n  </thead>\n  <tbody>\n    <tr>\n      <th>0</th>\n      <td>0</td>\n      <td>0</td>\n      <td>1</td>\n    </tr>\n    <tr>\n      <th>12</th>\n      <td>0</td>\n      <td>1</td>\n      <td>1</td>\n    </tr>\n    <tr>\n      <th>27</th>\n      <td>0</td>\n      <td>2</td>\n      <td>1</td>\n    </tr>\n    <tr>\n      <th>28</th>\n      <td>0</td>\n      <td>3</td>\n      <td>1</td>\n    </tr>\n    <tr>\n      <th>29</th>\n      <td>0</td>\n      <td>4</td>\n      <td>1</td>\n    </tr>\n    <tr>\n      <th>...</th>\n      <td>...</td>\n      <td>...</td>\n      <td>...</td>\n    </tr>\n    <tr>\n      <th>5826500</th>\n      <td>41628</td>\n      <td>3699</td>\n      <td>1</td>\n    </tr>\n    <tr>\n      <th>5826501</th>\n      <td>41628</td>\n      <td>12693</td>\n      <td>1</td>\n    </tr>\n    <tr>\n      <th>5826502</th>\n      <td>41628</td>\n      <td>15131</td>\n      <td>1</td>\n    </tr>\n    <tr>\n      <th>5826503</th>\n      <td>41628</td>\n      <td>18127</td>\n      <td>1</td>\n    </tr>\n    <tr>\n      <th>5826504</th>\n      <td>41628</td>\n      <td>14572</td>\n      <td>1</td>\n    </tr>\n  </tbody>\n</table>\n<p>1554639 rows × 3 columns</p>\n</div>"
     },
     "execution_count": 8,
     "metadata": {},
     "output_type": "execute_result"
    }
   ],
   "source": [
    "Distinct_Interactions = Distinct_Interactions.drop_duplicates()\n",
    "Distinct_Interactions['Rating'] = 1\n",
    "Distinct_Interactions"
   ]
  },
  {
   "cell_type": "code",
   "execution_count": 9,
   "outputs": [
    {
     "name": "stdout",
     "output_type": "stream",
     "text": [
      "41629\n",
      "24507\n"
     ]
    }
   ],
   "source": [
    "unique_userId = Distinct_Interactions.UserId.unique()\n",
    "num_users = len(unique_userId)\n",
    "print(num_users)\n",
    "\n",
    "unique_itemId = Distinct_Interactions.ItemId.unique()\n",
    "num_items = len(unique_itemId)\n",
    "print(num_items)"
   ],
   "metadata": {
    "collapsed": false
   }
  },
  {
   "cell_type": "markdown",
   "source": [
    "#### Step 3"
   ],
   "metadata": {
    "collapsed": false
   }
  },
  {
   "cell_type": "code",
   "execution_count": 10,
   "outputs": [],
   "source": [
    "from sklearn.model_selection import train_test_split\n",
    "import numpy as np\n",
    "\n",
    "seed = 1234\n",
    "\n",
    "\n",
    "(user_ids_training, user_ids_test,\n",
    " item_ids_training, item_ids_test,\n",
    " ratings_training, ratings_test) = train_test_split(Distinct_Interactions.UserId,\n",
    "                                                    Distinct_Interactions.ItemId,\n",
    "                                                    Distinct_Interactions.Rating,\n",
    "                                                    test_size=0.20,\n",
    "                                                    shuffle=True,\n",
    "                                                    random_state=seed)\n",
    "\n",
    "\n",
    "(user_ids_training, user_ids_validation,\n",
    " item_ids_training, item_ids_validation,\n",
    " ratings_training, ratings_validation) = train_test_split(user_ids_training,\n",
    "                                                          item_ids_training,\n",
    "                                                          ratings_training,\n",
    "                                                          test_size=0.10,\n",
    "                                                          )"
   ],
   "metadata": {
    "collapsed": false
   }
  },
  {
   "cell_type": "markdown",
   "id": "d260c4e7",
   "metadata": {},
   "source": [
    "##### Step 4"
   ]
  },
  {
   "cell_type": "code",
   "execution_count": 11,
   "id": "63d28dc5",
   "metadata": {},
   "outputs": [
    {
     "data": {
      "text/plain": "(<41629x24507 sparse matrix of type '<class 'numpy.int64'>'\n \twith 1119339 stored elements in Compressed Sparse Row format>,\n <41629x24507 sparse matrix of type '<class 'numpy.int64'>'\n \twith 310928 stored elements in Compressed Sparse Row format>,\n <41629x24507 sparse matrix of type '<class 'numpy.int64'>'\n \twith 124372 stored elements in Compressed Sparse Row format>)"
     },
     "execution_count": 11,
     "metadata": {},
     "output_type": "execute_result"
    }
   ],
   "source": [
    "import scipy.sparse as sp\n",
    "urm_train = sp.csr_matrix((ratings_training, (user_ids_training, item_ids_training)),\n",
    "                          shape=(num_users, num_items))\n",
    "\n",
    "urm_test = sp.csr_matrix((ratings_test, (user_ids_test, item_ids_test)),\n",
    "                         shape=(num_users, num_items))\n",
    "\n",
    "urm_validation = sp.csr_matrix((ratings_validation, (user_ids_validation, item_ids_validation)),\n",
    "                               shape=(num_users, num_items))\n",
    "\n",
    "urm_train, urm_test, urm_validation"
   ]
  },
  {
   "cell_type": "markdown",
   "id": "93389fda",
   "metadata": {},
   "source": [
    "# Now we try running SLIM"
   ]
  },
  {
   "cell_type": "code",
   "execution_count": 13,
   "id": "b89fa582",
   "metadata": {},
   "outputs": [],
   "source": [
    "from Recommenders.SLIM.SLIMElasticNetRecommender import SLIMElasticNetRecommender"
   ]
  },
  {
   "cell_type": "code",
   "execution_count": 14,
   "id": "54395299",
   "metadata": {},
   "outputs": [],
   "source": [
    "MySlimRecommender = SLIMElasticNetRecommender(urm_train)"
   ]
  },
  {
   "cell_type": "code",
   "execution_count": 15,
   "id": "71950c7c",
   "metadata": {},
   "outputs": [
    {
     "name": "stdout",
     "output_type": "stream",
     "text": [
      "SLIMElasticNetRecommender: Processed 12419 (50.7%) in 5.00 min. Items per second: 41.39\n",
      "SLIMElasticNetRecommender: Processed 24507 (100.0%) in 8.04 min. Items per second: 50.79\n"
     ]
    }
   ],
   "source": [
    "MySlimRecommender.fit(l1_ratio=0.1, alpha = 0.0013109430160438843, positive_only=True, topK = 948)"
   ]
  },
  {
   "cell_type": "markdown",
   "id": "c4b00753",
   "metadata": {},
   "source": [
    "##### Should have worked"
   ]
  },
  {
   "cell_type": "code",
   "execution_count": 16,
   "id": "7930d2c7",
   "metadata": {},
   "outputs": [],
   "source": [
    "from Evaluation.Evaluator import EvaluatorHoldout"
   ]
  },
  {
   "cell_type": "code",
   "execution_count": 17,
   "id": "f7a7e206",
   "metadata": {},
   "outputs": [
    {
     "name": "stdout",
     "output_type": "stream",
     "text": [
      "EvaluatorHoldout: Ignoring 309 ( 0.7%) Users that have less than 1 test interactions\n"
     ]
    }
   ],
   "source": [
    "e = EvaluatorHoldout(urm_test, [10])"
   ]
  },
  {
   "cell_type": "code",
   "execution_count": 18,
   "outputs": [
    {
     "name": "stdout",
     "output_type": "stream",
     "text": [
      "EvaluatorHoldout: Processed 41320 (100.0%) in 21.52 sec. Users per second: 1920\n"
     ]
    },
    {
     "data": {
      "text/plain": "(       PRECISION PRECISION_RECALL_MIN_DEN    RECALL       MAP MAP_MIN_DEN  \\\n cutoff                                                                      \n 10       0.06453                 0.088168  0.076703  0.032181    0.043305   \n \n              MRR      NDCG        F1  HIT_RATE ARHR_ALL_HITS  ...  \\\n cutoff                                                        ...   \n 10      0.201232  0.090888  0.070092  0.397531      0.252298  ...   \n \n        COVERAGE_USER COVERAGE_USER_HIT USERS_IN_GT DIVERSITY_GINI  \\\n cutoff                                                              \n 10          0.992577          0.394581    0.992577       0.019471   \n \n        SHANNON_ENTROPY RATIO_DIVERSITY_HERFINDAHL RATIO_DIVERSITY_GINI  \\\n cutoff                                                                   \n 10            8.918205                   0.994214             0.038473   \n \n        RATIO_SHANNON_ENTROPY RATIO_AVERAGE_POPULARITY RATIO_NOVELTY  \n cutoff                                                               \n 10                  0.660993                 4.020924      0.290315  \n \n [1 rows x 27 columns],\n 'CUTOFF: 10 - PRECISION: 0.0645305, PRECISION_RECALL_MIN_DEN: 0.0881682, RECALL: 0.0767025, MAP: 0.0321813, MAP_MIN_DEN: 0.0433054, MRR: 0.2012324, NDCG: 0.0908883, F1: 0.0700920, HIT_RATE: 0.3975315, ARHR_ALL_HITS: 0.2522975, NOVELTY: 0.0042976, AVERAGE_POPULARITY: 0.2039426, DIVERSITY_MEAN_INTER_LIST: 0.9388820, DIVERSITY_HERFINDAHL: 0.9938859, COVERAGE_ITEM: 0.1355531, COVERAGE_ITEM_HIT: 0.0503530, ITEMS_IN_GT: 0.9984086, COVERAGE_USER: 0.9925773, COVERAGE_USER_HIT: 0.3945807, USERS_IN_GT: 0.9925773, DIVERSITY_GINI: 0.0194708, SHANNON_ENTROPY: 8.9182046, RATIO_DIVERSITY_HERFINDAHL: 0.9942141, RATIO_DIVERSITY_GINI: 0.0384731, RATIO_SHANNON_ENTROPY: 0.6609934, RATIO_AVERAGE_POPULARITY: 4.0209243, RATIO_NOVELTY: 0.2903148, \\n')"
     },
     "execution_count": 18,
     "metadata": {},
     "output_type": "execute_result"
    }
   ],
   "source": [
    "e.evaluateRecommender(MySlimRecommender)"
   ],
   "metadata": {
    "collapsed": false
   }
  },
  {
   "cell_type": "markdown",
   "source": [
    "### No parameter tuning for now"
   ],
   "metadata": {
    "collapsed": false
   }
  },
  {
   "cell_type": "markdown",
   "source": [
    "# Computing the submission\n",
    "First we compute the original indexes"
   ],
   "metadata": {
    "collapsed": false
   }
  },
  {
   "cell_type": "code",
   "execution_count": 5,
   "outputs": [
    {
     "data": {
      "text/plain": "          id\n0          0\n1          1\n2          2\n3          3\n4          4\n...      ...\n41111  41624\n41112  41625\n41113  41626\n41114  41627\n41115  41628\n\n[41116 rows x 1 columns]",
      "text/html": "<div>\n<style scoped>\n    .dataframe tbody tr th:only-of-type {\n        vertical-align: middle;\n    }\n\n    .dataframe tbody tr th {\n        vertical-align: top;\n    }\n\n    .dataframe thead th {\n        text-align: right;\n    }\n</style>\n<table border=\"1\" class=\"dataframe\">\n  <thead>\n    <tr style=\"text-align: right;\">\n      <th></th>\n      <th>id</th>\n    </tr>\n  </thead>\n  <tbody>\n    <tr>\n      <th>0</th>\n      <td>0</td>\n    </tr>\n    <tr>\n      <th>1</th>\n      <td>1</td>\n    </tr>\n    <tr>\n      <th>2</th>\n      <td>2</td>\n    </tr>\n    <tr>\n      <th>3</th>\n      <td>3</td>\n    </tr>\n    <tr>\n      <th>4</th>\n      <td>4</td>\n    </tr>\n    <tr>\n      <th>...</th>\n      <td>...</td>\n    </tr>\n    <tr>\n      <th>41111</th>\n      <td>41624</td>\n    </tr>\n    <tr>\n      <th>41112</th>\n      <td>41625</td>\n    </tr>\n    <tr>\n      <th>41113</th>\n      <td>41626</td>\n    </tr>\n    <tr>\n      <th>41114</th>\n      <td>41627</td>\n    </tr>\n    <tr>\n      <th>41115</th>\n      <td>41628</td>\n    </tr>\n  </tbody>\n</table>\n<p>41116 rows × 1 columns</p>\n</div>"
     },
     "execution_count": 5,
     "metadata": {},
     "output_type": "execute_result"
    }
   ],
   "source": [
    "target = pd.read_csv(filepath_or_buffer=\"recommender-system-2022-challenge-polimi-data/data_target_users_test.csv\",\n",
    "                                          sep=\",\",\n",
    "                                          header=0,\n",
    "                                          engine='python',\n",
    "                                          names=['id'])\n",
    "target"
   ],
   "metadata": {
    "collapsed": false
   }
  },
  {
   "cell_type": "code",
   "execution_count": null,
   "outputs": [],
   "source": [
    "def write_recommendations(file_name):\n",
    "    recommendations = 'user_id,item_list'\n",
    "    f = open(\"submissions/\" + file_name + \".csv\", \"w\")\n",
    "\n",
    "    for id in target['id']:\n",
    "        recommendations_per_user = MySlimRecommender.recommend(user_id_array=id, remove_seen_flag=True, cutoff=10)\n",
    "\n",
    "        recommendation_string = str(user_original_Id_to_index[user_original_Id_to_index==id].index.item()\n",
    "                                    ) + ','\n",
    "\n",
    "        for rec in recommendations_per_user:\n",
    "            recommendation_string = recommendation_string + str(item_original_Id_to_index[item_original_Id_to_index==rec].index.item()) + ' '\n",
    "\n",
    "        recommendation_string = recommendation_string[:-1]\n",
    "        recommendations = recommendations + '\\n' + recommendation_string\n",
    "\n",
    "    f.write(recommendations)\n",
    "    f.close()"
   ],
   "metadata": {
    "collapsed": false
   }
  },
  {
   "cell_type": "code",
   "execution_count": null,
   "outputs": [],
   "source": [],
   "metadata": {
    "collapsed": false
   }
  }
 ],
 "metadata": {
  "kernelspec": {
   "display_name": "Python 3 (ipykernel)",
   "language": "python",
   "name": "python3"
  },
  "language_info": {
   "codemirror_mode": {
    "name": "ipython",
    "version": 3
   },
   "file_extension": ".py",
   "mimetype": "text/x-python",
   "name": "python",
   "nbconvert_exporter": "python",
   "pygments_lexer": "ipython3",
   "version": "3.8.13"
  }
 },
 "nbformat": 4,
 "nbformat_minor": 5
}
