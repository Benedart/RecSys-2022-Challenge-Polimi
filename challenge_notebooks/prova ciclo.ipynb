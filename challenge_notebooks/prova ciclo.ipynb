{
 "cells": [
  {
   "cell_type": "code",
   "execution_count": 15,
   "outputs": [],
   "source": [
    "import pandas as pd\n",
    "\n",
    "path = \"recommender-system-2022-challenge-polimi-data/interactions_and_impressions.csv\"\n",
    "\n",
    "URM_all = pd.read_csv(filepath_or_buffer=path,\n",
    "                                           sep=\",\",\n",
    "                                           header=1,\n",
    "                                           engine='python',\n",
    "                                           names=['UserId', 'ItemId', 'ImpressionList', 'Data'])\n",
    "\n",
    "content_type = pd.read_csv(\"recommender-system-2022-challenge-polimi-data/data_ICM_type.csv\")\n",
    "content_length = pd.read_csv(\"recommender-system-2022-challenge-polimi-data/data_ICM_length.csv\")"
   ],
   "metadata": {
    "collapsed": false
   }
  },
  {
   "cell_type": "code",
   "execution_count": 16,
   "outputs": [
    {
     "data": {
      "text/plain": "    UserId  ItemId                 ImpressionList  Data\n0        0      21                            NaN     0\n1        0      21                            NaN     0\n2        0      21  20,21,22,23,24,25,26,27,28,29     0\n3        0      21                            NaN     1\n4        0      21                            NaN     1\n5        0      21                            NaN     1\n6        0      21                            NaN     1\n7        0      21                            NaN     1\n8        0      21                            NaN     1\n9        0      21                            NaN     1\n10       0      21  20,21,30,22,23,24,26,31,29,32     1\n11       0      21  20,21,22,23,24,25,26,27,28,29     1\n12       0      22                            NaN     1\n13       0      22                            NaN     1\n14       0      22                            NaN     1",
      "text/html": "<div>\n<style scoped>\n    .dataframe tbody tr th:only-of-type {\n        vertical-align: middle;\n    }\n\n    .dataframe tbody tr th {\n        vertical-align: top;\n    }\n\n    .dataframe thead th {\n        text-align: right;\n    }\n</style>\n<table border=\"1\" class=\"dataframe\">\n  <thead>\n    <tr style=\"text-align: right;\">\n      <th></th>\n      <th>UserId</th>\n      <th>ItemId</th>\n      <th>ImpressionList</th>\n      <th>Data</th>\n    </tr>\n  </thead>\n  <tbody>\n    <tr>\n      <th>0</th>\n      <td>0</td>\n      <td>21</td>\n      <td>NaN</td>\n      <td>0</td>\n    </tr>\n    <tr>\n      <th>1</th>\n      <td>0</td>\n      <td>21</td>\n      <td>NaN</td>\n      <td>0</td>\n    </tr>\n    <tr>\n      <th>2</th>\n      <td>0</td>\n      <td>21</td>\n      <td>20,21,22,23,24,25,26,27,28,29</td>\n      <td>0</td>\n    </tr>\n    <tr>\n      <th>3</th>\n      <td>0</td>\n      <td>21</td>\n      <td>NaN</td>\n      <td>1</td>\n    </tr>\n    <tr>\n      <th>4</th>\n      <td>0</td>\n      <td>21</td>\n      <td>NaN</td>\n      <td>1</td>\n    </tr>\n    <tr>\n      <th>5</th>\n      <td>0</td>\n      <td>21</td>\n      <td>NaN</td>\n      <td>1</td>\n    </tr>\n    <tr>\n      <th>6</th>\n      <td>0</td>\n      <td>21</td>\n      <td>NaN</td>\n      <td>1</td>\n    </tr>\n    <tr>\n      <th>7</th>\n      <td>0</td>\n      <td>21</td>\n      <td>NaN</td>\n      <td>1</td>\n    </tr>\n    <tr>\n      <th>8</th>\n      <td>0</td>\n      <td>21</td>\n      <td>NaN</td>\n      <td>1</td>\n    </tr>\n    <tr>\n      <th>9</th>\n      <td>0</td>\n      <td>21</td>\n      <td>NaN</td>\n      <td>1</td>\n    </tr>\n    <tr>\n      <th>10</th>\n      <td>0</td>\n      <td>21</td>\n      <td>20,21,30,22,23,24,26,31,29,32</td>\n      <td>1</td>\n    </tr>\n    <tr>\n      <th>11</th>\n      <td>0</td>\n      <td>21</td>\n      <td>20,21,22,23,24,25,26,27,28,29</td>\n      <td>1</td>\n    </tr>\n    <tr>\n      <th>12</th>\n      <td>0</td>\n      <td>22</td>\n      <td>NaN</td>\n      <td>1</td>\n    </tr>\n    <tr>\n      <th>13</th>\n      <td>0</td>\n      <td>22</td>\n      <td>NaN</td>\n      <td>1</td>\n    </tr>\n    <tr>\n      <th>14</th>\n      <td>0</td>\n      <td>22</td>\n      <td>NaN</td>\n      <td>1</td>\n    </tr>\n  </tbody>\n</table>\n</div>"
     },
     "execution_count": 16,
     "metadata": {},
     "output_type": "execute_result"
    }
   ],
   "source": [
    "URM_all.head(15)"
   ],
   "metadata": {
    "collapsed": false
   }
  },
  {
   "cell_type": "code",
   "execution_count": 17,
   "outputs": [
    {
     "data": {
      "text/plain": "       item_id  feature_id  data\n0            0           1     1\n1            1           3     1\n2            2           4     1\n3            3           1     1\n4            4           3     1\n...        ...         ...   ...\n23086    27963           1     1\n23087    27964           2     1\n23088    27965           1     1\n23089    27966           1     1\n23090    27967           4     1\n\n[23091 rows x 3 columns]",
      "text/html": "<div>\n<style scoped>\n    .dataframe tbody tr th:only-of-type {\n        vertical-align: middle;\n    }\n\n    .dataframe tbody tr th {\n        vertical-align: top;\n    }\n\n    .dataframe thead th {\n        text-align: right;\n    }\n</style>\n<table border=\"1\" class=\"dataframe\">\n  <thead>\n    <tr style=\"text-align: right;\">\n      <th></th>\n      <th>item_id</th>\n      <th>feature_id</th>\n      <th>data</th>\n    </tr>\n  </thead>\n  <tbody>\n    <tr>\n      <th>0</th>\n      <td>0</td>\n      <td>1</td>\n      <td>1</td>\n    </tr>\n    <tr>\n      <th>1</th>\n      <td>1</td>\n      <td>3</td>\n      <td>1</td>\n    </tr>\n    <tr>\n      <th>2</th>\n      <td>2</td>\n      <td>4</td>\n      <td>1</td>\n    </tr>\n    <tr>\n      <th>3</th>\n      <td>3</td>\n      <td>1</td>\n      <td>1</td>\n    </tr>\n    <tr>\n      <th>4</th>\n      <td>4</td>\n      <td>3</td>\n      <td>1</td>\n    </tr>\n    <tr>\n      <th>...</th>\n      <td>...</td>\n      <td>...</td>\n      <td>...</td>\n    </tr>\n    <tr>\n      <th>23086</th>\n      <td>27963</td>\n      <td>1</td>\n      <td>1</td>\n    </tr>\n    <tr>\n      <th>23087</th>\n      <td>27964</td>\n      <td>2</td>\n      <td>1</td>\n    </tr>\n    <tr>\n      <th>23088</th>\n      <td>27965</td>\n      <td>1</td>\n      <td>1</td>\n    </tr>\n    <tr>\n      <th>23089</th>\n      <td>27966</td>\n      <td>1</td>\n      <td>1</td>\n    </tr>\n    <tr>\n      <th>23090</th>\n      <td>27967</td>\n      <td>4</td>\n      <td>1</td>\n    </tr>\n  </tbody>\n</table>\n<p>23091 rows × 3 columns</p>\n</div>"
     },
     "execution_count": 17,
     "metadata": {},
     "output_type": "execute_result"
    }
   ],
   "source": [
    "content_type"
   ],
   "metadata": {
    "collapsed": false
   }
  },
  {
   "cell_type": "code",
   "execution_count": 18,
   "outputs": [
    {
     "data": {
      "text/plain": "       item_id  feature_id  data\n0            0           0     1\n1            1           0     1\n2            2           0    21\n3            3           0     1\n4            4           0     1\n...        ...         ...   ...\n23086    27963           0     1\n23087    27964           0     1\n23088    27965           0     1\n23089    27966           0     1\n23090    27967           0     2\n\n[23091 rows x 3 columns]",
      "text/html": "<div>\n<style scoped>\n    .dataframe tbody tr th:only-of-type {\n        vertical-align: middle;\n    }\n\n    .dataframe tbody tr th {\n        vertical-align: top;\n    }\n\n    .dataframe thead th {\n        text-align: right;\n    }\n</style>\n<table border=\"1\" class=\"dataframe\">\n  <thead>\n    <tr style=\"text-align: right;\">\n      <th></th>\n      <th>item_id</th>\n      <th>feature_id</th>\n      <th>data</th>\n    </tr>\n  </thead>\n  <tbody>\n    <tr>\n      <th>0</th>\n      <td>0</td>\n      <td>0</td>\n      <td>1</td>\n    </tr>\n    <tr>\n      <th>1</th>\n      <td>1</td>\n      <td>0</td>\n      <td>1</td>\n    </tr>\n    <tr>\n      <th>2</th>\n      <td>2</td>\n      <td>0</td>\n      <td>21</td>\n    </tr>\n    <tr>\n      <th>3</th>\n      <td>3</td>\n      <td>0</td>\n      <td>1</td>\n    </tr>\n    <tr>\n      <th>4</th>\n      <td>4</td>\n      <td>0</td>\n      <td>1</td>\n    </tr>\n    <tr>\n      <th>...</th>\n      <td>...</td>\n      <td>...</td>\n      <td>...</td>\n    </tr>\n    <tr>\n      <th>23086</th>\n      <td>27963</td>\n      <td>0</td>\n      <td>1</td>\n    </tr>\n    <tr>\n      <th>23087</th>\n      <td>27964</td>\n      <td>0</td>\n      <td>1</td>\n    </tr>\n    <tr>\n      <th>23088</th>\n      <td>27965</td>\n      <td>0</td>\n      <td>1</td>\n    </tr>\n    <tr>\n      <th>23089</th>\n      <td>27966</td>\n      <td>0</td>\n      <td>1</td>\n    </tr>\n    <tr>\n      <th>23090</th>\n      <td>27967</td>\n      <td>0</td>\n      <td>2</td>\n    </tr>\n  </tbody>\n</table>\n<p>23091 rows × 3 columns</p>\n</div>"
     },
     "execution_count": 18,
     "metadata": {},
     "output_type": "execute_result"
    }
   ],
   "source": [
    "content_length"
   ],
   "metadata": {
    "collapsed": false
   }
  },
  {
   "cell_type": "code",
   "execution_count": 19,
   "outputs": [
    {
     "name": "stdout",
     "output_type": "stream",
     "text": [
      "Unique items in ICM_length are 23091\n",
      "Unique items in ICM_content are 23091\n"
     ]
    }
   ],
   "source": [
    "print(\"Unique items in ICM_length are {}\".format(len(content_length.item_id.unique())))\n",
    "print(\"Unique items in ICM_content are {}\".format(len(content_type.item_id.unique())))\n",
    "\n",
    "content_type = content_type.drop([\"data\"], axis=1) # drop the data column on type\n",
    "content_length = content_length.drop([\"feature_id\"], axis=1) # drop the featureId column on type\n",
    "\n",
    "ICM_all = content_type.merge(content_length, on=\"item_id\", how=\"left\")\n",
    "ICM_all.rename(columns={'data': 'length', \"feature_id\": \"content_type\"}, inplace=True)\n"
   ],
   "metadata": {
    "collapsed": false
   }
  },
  {
   "cell_type": "code",
   "execution_count": 20,
   "outputs": [
    {
     "data": {
      "text/plain": "       item_id  content_type  length\n0            0             1       1\n1            1             3       1\n2            2             4      21\n3            3             1       1\n4            4             3       1\n...        ...           ...     ...\n23086    27963             1       1\n23087    27964             2       1\n23088    27965             1       1\n23089    27966             1       1\n23090    27967             4       2\n\n[23091 rows x 3 columns]",
      "text/html": "<div>\n<style scoped>\n    .dataframe tbody tr th:only-of-type {\n        vertical-align: middle;\n    }\n\n    .dataframe tbody tr th {\n        vertical-align: top;\n    }\n\n    .dataframe thead th {\n        text-align: right;\n    }\n</style>\n<table border=\"1\" class=\"dataframe\">\n  <thead>\n    <tr style=\"text-align: right;\">\n      <th></th>\n      <th>item_id</th>\n      <th>content_type</th>\n      <th>length</th>\n    </tr>\n  </thead>\n  <tbody>\n    <tr>\n      <th>0</th>\n      <td>0</td>\n      <td>1</td>\n      <td>1</td>\n    </tr>\n    <tr>\n      <th>1</th>\n      <td>1</td>\n      <td>3</td>\n      <td>1</td>\n    </tr>\n    <tr>\n      <th>2</th>\n      <td>2</td>\n      <td>4</td>\n      <td>21</td>\n    </tr>\n    <tr>\n      <th>3</th>\n      <td>3</td>\n      <td>1</td>\n      <td>1</td>\n    </tr>\n    <tr>\n      <th>4</th>\n      <td>4</td>\n      <td>3</td>\n      <td>1</td>\n    </tr>\n    <tr>\n      <th>...</th>\n      <td>...</td>\n      <td>...</td>\n      <td>...</td>\n    </tr>\n    <tr>\n      <th>23086</th>\n      <td>27963</td>\n      <td>1</td>\n      <td>1</td>\n    </tr>\n    <tr>\n      <th>23087</th>\n      <td>27964</td>\n      <td>2</td>\n      <td>1</td>\n    </tr>\n    <tr>\n      <th>23088</th>\n      <td>27965</td>\n      <td>1</td>\n      <td>1</td>\n    </tr>\n    <tr>\n      <th>23089</th>\n      <td>27966</td>\n      <td>1</td>\n      <td>1</td>\n    </tr>\n    <tr>\n      <th>23090</th>\n      <td>27967</td>\n      <td>4</td>\n      <td>2</td>\n    </tr>\n  </tbody>\n</table>\n<p>23091 rows × 3 columns</p>\n</div>"
     },
     "execution_count": 20,
     "metadata": {},
     "output_type": "execute_result"
    }
   ],
   "source": [
    "ICM_all"
   ],
   "metadata": {
    "collapsed": false
   }
  },
  {
   "cell_type": "markdown",
   "source": [
    "## Mapping"
   ],
   "metadata": {
    "collapsed": false
   }
  },
  {
   "cell_type": "code",
   "execution_count": 21,
   "outputs": [
    {
     "data": {
      "text/plain": "0            0\n1            1\n2            2\n3            3\n4            4\n         ...  \n41624    41624\n41625    41625\n41626    41626\n41627    41627\n41628    41628\nLength: 41629, dtype: int64"
     },
     "execution_count": 21,
     "metadata": {},
     "output_type": "execute_result"
    }
   ],
   "source": [
    "# UserIDs mapping\n",
    "mapped_id, original_id = pd.factorize(URM_all[\"UserId\"].unique())\n",
    "user_original_Id_to_index = pd.Series(mapped_id, index=original_id)\n",
    "user_original_Id_to_index   # remains the same"
   ],
   "metadata": {
    "collapsed": false
   }
  },
  {
   "cell_type": "code",
   "execution_count": 22,
   "outputs": [
    {
     "data": {
      "text/plain": "0            0\n1            1\n2            2\n3            3\n4            4\n         ...  \n27963    23086\n27964    23087\n27965    23088\n27966    23089\n27967    23090\nLength: 23091, dtype: int64"
     },
     "execution_count": 22,
     "metadata": {},
     "output_type": "execute_result"
    }
   ],
   "source": [
    "# ItemIDs mapping\n",
    "mapped_id, original_id = pd.factorize(ICM_all.item_id.unique())\n",
    "item_original_ID_to_index = pd.Series(mapped_id, index=original_id)\n",
    "item_original_ID_to_index"
   ],
   "metadata": {
    "collapsed": false
   }
  },
  {
   "cell_type": "code",
   "execution_count": 23,
   "outputs": [
    {
     "data": {
      "text/plain": "         UserId  ItemId                 ImpressionList  Data\n0             0      21                            NaN     0\n1             0      21                            NaN     0\n2             0      21  20,21,22,23,24,25,26,27,28,29     0\n3             0      21                            NaN     1\n4             0      21                            NaN     1\n...         ...     ...                            ...   ...\n5826500   41628   20448                            NaN     0\n5826501   41628   20896                            NaN     1\n5826502   41628   21506                            NaN     1\n5826503   41628   22882                            NaN     0\n5826504   41628   23757                            NaN     0\n\n[5826505 rows x 4 columns]",
      "text/html": "<div>\n<style scoped>\n    .dataframe tbody tr th:only-of-type {\n        vertical-align: middle;\n    }\n\n    .dataframe tbody tr th {\n        vertical-align: top;\n    }\n\n    .dataframe thead th {\n        text-align: right;\n    }\n</style>\n<table border=\"1\" class=\"dataframe\">\n  <thead>\n    <tr style=\"text-align: right;\">\n      <th></th>\n      <th>UserId</th>\n      <th>ItemId</th>\n      <th>ImpressionList</th>\n      <th>Data</th>\n    </tr>\n  </thead>\n  <tbody>\n    <tr>\n      <th>0</th>\n      <td>0</td>\n      <td>21</td>\n      <td>NaN</td>\n      <td>0</td>\n    </tr>\n    <tr>\n      <th>1</th>\n      <td>0</td>\n      <td>21</td>\n      <td>NaN</td>\n      <td>0</td>\n    </tr>\n    <tr>\n      <th>2</th>\n      <td>0</td>\n      <td>21</td>\n      <td>20,21,22,23,24,25,26,27,28,29</td>\n      <td>0</td>\n    </tr>\n    <tr>\n      <th>3</th>\n      <td>0</td>\n      <td>21</td>\n      <td>NaN</td>\n      <td>1</td>\n    </tr>\n    <tr>\n      <th>4</th>\n      <td>0</td>\n      <td>21</td>\n      <td>NaN</td>\n      <td>1</td>\n    </tr>\n    <tr>\n      <th>...</th>\n      <td>...</td>\n      <td>...</td>\n      <td>...</td>\n      <td>...</td>\n    </tr>\n    <tr>\n      <th>5826500</th>\n      <td>41628</td>\n      <td>20448</td>\n      <td>NaN</td>\n      <td>0</td>\n    </tr>\n    <tr>\n      <th>5826501</th>\n      <td>41628</td>\n      <td>20896</td>\n      <td>NaN</td>\n      <td>1</td>\n    </tr>\n    <tr>\n      <th>5826502</th>\n      <td>41628</td>\n      <td>21506</td>\n      <td>NaN</td>\n      <td>1</td>\n    </tr>\n    <tr>\n      <th>5826503</th>\n      <td>41628</td>\n      <td>22882</td>\n      <td>NaN</td>\n      <td>0</td>\n    </tr>\n    <tr>\n      <th>5826504</th>\n      <td>41628</td>\n      <td>23757</td>\n      <td>NaN</td>\n      <td>0</td>\n    </tr>\n  </tbody>\n</table>\n<p>5826505 rows × 4 columns</p>\n</div>"
     },
     "execution_count": 23,
     "metadata": {},
     "output_type": "execute_result"
    }
   ],
   "source": [
    "URM_all[\"UserId\"] = URM_all[\"UserId\"].map(user_original_Id_to_index)\n",
    "URM_all"
   ],
   "metadata": {
    "collapsed": false
   }
  },
  {
   "cell_type": "code",
   "execution_count": 24,
   "outputs": [
    {
     "data": {
      "text/plain": "         UserId   ItemId                 ImpressionList  Data\n0             0     19.0                            NaN     0\n1             0     19.0                            NaN     0\n2             0     19.0  20,21,22,23,24,25,26,27,28,29     0\n3             0     19.0                            NaN     1\n4             0     19.0                            NaN     1\n...         ...      ...                            ...   ...\n5826500   41628  16364.0                            NaN     0\n5826501   41628      NaN                            NaN     1\n5826502   41628      NaN                            NaN     1\n5826503   41628  18304.0                            NaN     0\n5826504   41628  19018.0                            NaN     0\n\n[5826505 rows x 4 columns]",
      "text/html": "<div>\n<style scoped>\n    .dataframe tbody tr th:only-of-type {\n        vertical-align: middle;\n    }\n\n    .dataframe tbody tr th {\n        vertical-align: top;\n    }\n\n    .dataframe thead th {\n        text-align: right;\n    }\n</style>\n<table border=\"1\" class=\"dataframe\">\n  <thead>\n    <tr style=\"text-align: right;\">\n      <th></th>\n      <th>UserId</th>\n      <th>ItemId</th>\n      <th>ImpressionList</th>\n      <th>Data</th>\n    </tr>\n  </thead>\n  <tbody>\n    <tr>\n      <th>0</th>\n      <td>0</td>\n      <td>19.0</td>\n      <td>NaN</td>\n      <td>0</td>\n    </tr>\n    <tr>\n      <th>1</th>\n      <td>0</td>\n      <td>19.0</td>\n      <td>NaN</td>\n      <td>0</td>\n    </tr>\n    <tr>\n      <th>2</th>\n      <td>0</td>\n      <td>19.0</td>\n      <td>20,21,22,23,24,25,26,27,28,29</td>\n      <td>0</td>\n    </tr>\n    <tr>\n      <th>3</th>\n      <td>0</td>\n      <td>19.0</td>\n      <td>NaN</td>\n      <td>1</td>\n    </tr>\n    <tr>\n      <th>4</th>\n      <td>0</td>\n      <td>19.0</td>\n      <td>NaN</td>\n      <td>1</td>\n    </tr>\n    <tr>\n      <th>...</th>\n      <td>...</td>\n      <td>...</td>\n      <td>...</td>\n      <td>...</td>\n    </tr>\n    <tr>\n      <th>5826500</th>\n      <td>41628</td>\n      <td>16364.0</td>\n      <td>NaN</td>\n      <td>0</td>\n    </tr>\n    <tr>\n      <th>5826501</th>\n      <td>41628</td>\n      <td>NaN</td>\n      <td>NaN</td>\n      <td>1</td>\n    </tr>\n    <tr>\n      <th>5826502</th>\n      <td>41628</td>\n      <td>NaN</td>\n      <td>NaN</td>\n      <td>1</td>\n    </tr>\n    <tr>\n      <th>5826503</th>\n      <td>41628</td>\n      <td>18304.0</td>\n      <td>NaN</td>\n      <td>0</td>\n    </tr>\n    <tr>\n      <th>5826504</th>\n      <td>41628</td>\n      <td>19018.0</td>\n      <td>NaN</td>\n      <td>0</td>\n    </tr>\n  </tbody>\n</table>\n<p>5826505 rows × 4 columns</p>\n</div>"
     },
     "execution_count": 24,
     "metadata": {},
     "output_type": "execute_result"
    }
   ],
   "source": [
    "URM_all[\"ItemId\"] = URM_all[\"ItemId\"].map(item_original_ID_to_index)\n",
    "URM_all"
   ],
   "metadata": {
    "collapsed": false
   }
  },
  {
   "cell_type": "code",
   "execution_count": 25,
   "outputs": [
    {
     "data": {
      "text/plain": "       item_id  content_type  length\n0            0             1       1\n1            1             3       1\n2            2             4      21\n3            3             1       1\n4            4             3       1\n...        ...           ...     ...\n23086    23086             1       1\n23087    23087             2       1\n23088    23088             1       1\n23089    23089             1       1\n23090    23090             4       2\n\n[23091 rows x 3 columns]",
      "text/html": "<div>\n<style scoped>\n    .dataframe tbody tr th:only-of-type {\n        vertical-align: middle;\n    }\n\n    .dataframe tbody tr th {\n        vertical-align: top;\n    }\n\n    .dataframe thead th {\n        text-align: right;\n    }\n</style>\n<table border=\"1\" class=\"dataframe\">\n  <thead>\n    <tr style=\"text-align: right;\">\n      <th></th>\n      <th>item_id</th>\n      <th>content_type</th>\n      <th>length</th>\n    </tr>\n  </thead>\n  <tbody>\n    <tr>\n      <th>0</th>\n      <td>0</td>\n      <td>1</td>\n      <td>1</td>\n    </tr>\n    <tr>\n      <th>1</th>\n      <td>1</td>\n      <td>3</td>\n      <td>1</td>\n    </tr>\n    <tr>\n      <th>2</th>\n      <td>2</td>\n      <td>4</td>\n      <td>21</td>\n    </tr>\n    <tr>\n      <th>3</th>\n      <td>3</td>\n      <td>1</td>\n      <td>1</td>\n    </tr>\n    <tr>\n      <th>4</th>\n      <td>4</td>\n      <td>3</td>\n      <td>1</td>\n    </tr>\n    <tr>\n      <th>...</th>\n      <td>...</td>\n      <td>...</td>\n      <td>...</td>\n    </tr>\n    <tr>\n      <th>23086</th>\n      <td>23086</td>\n      <td>1</td>\n      <td>1</td>\n    </tr>\n    <tr>\n      <th>23087</th>\n      <td>23087</td>\n      <td>2</td>\n      <td>1</td>\n    </tr>\n    <tr>\n      <th>23088</th>\n      <td>23088</td>\n      <td>1</td>\n      <td>1</td>\n    </tr>\n    <tr>\n      <th>23089</th>\n      <td>23089</td>\n      <td>1</td>\n      <td>1</td>\n    </tr>\n    <tr>\n      <th>23090</th>\n      <td>23090</td>\n      <td>4</td>\n      <td>2</td>\n    </tr>\n  </tbody>\n</table>\n<p>23091 rows × 3 columns</p>\n</div>"
     },
     "execution_count": 25,
     "metadata": {},
     "output_type": "execute_result"
    }
   ],
   "source": [
    "ICM_all_mapped = ICM_all.copy()\n",
    "ICM_all_mapped[\"item_id\"] = ICM_all_mapped[\"item_id\"].map(item_original_ID_to_index)\n",
    "ICM_all_mapped"
   ],
   "metadata": {
    "collapsed": false
   }
  },
  {
   "cell_type": "markdown",
   "source": [
    "#### Create a submission"
   ],
   "metadata": {
    "collapsed": false
   }
  },
  {
   "cell_type": "code",
   "execution_count": 26,
   "outputs": [
    {
     "data": {
      "text/plain": "   user_id  item_id\n0        0       34\n1        0       55\n2        0       77\n3        0        1\n4        0       43\n5        1       43\n6        1        9\n7        1     1888\n8        1       90\n9        1    11111",
      "text/html": "<div>\n<style scoped>\n    .dataframe tbody tr th:only-of-type {\n        vertical-align: middle;\n    }\n\n    .dataframe tbody tr th {\n        vertical-align: top;\n    }\n\n    .dataframe thead th {\n        text-align: right;\n    }\n</style>\n<table border=\"1\" class=\"dataframe\">\n  <thead>\n    <tr style=\"text-align: right;\">\n      <th></th>\n      <th>user_id</th>\n      <th>item_id</th>\n    </tr>\n  </thead>\n  <tbody>\n    <tr>\n      <th>0</th>\n      <td>0</td>\n      <td>34</td>\n    </tr>\n    <tr>\n      <th>1</th>\n      <td>0</td>\n      <td>55</td>\n    </tr>\n    <tr>\n      <th>2</th>\n      <td>0</td>\n      <td>77</td>\n    </tr>\n    <tr>\n      <th>3</th>\n      <td>0</td>\n      <td>1</td>\n    </tr>\n    <tr>\n      <th>4</th>\n      <td>0</td>\n      <td>43</td>\n    </tr>\n    <tr>\n      <th>5</th>\n      <td>1</td>\n      <td>43</td>\n    </tr>\n    <tr>\n      <th>6</th>\n      <td>1</td>\n      <td>9</td>\n    </tr>\n    <tr>\n      <th>7</th>\n      <td>1</td>\n      <td>1888</td>\n    </tr>\n    <tr>\n      <th>8</th>\n      <td>1</td>\n      <td>90</td>\n    </tr>\n    <tr>\n      <th>9</th>\n      <td>1</td>\n      <td>11111</td>\n    </tr>\n  </tbody>\n</table>\n</div>"
     },
     "execution_count": 26,
     "metadata": {},
     "output_type": "execute_result"
    }
   ],
   "source": [
    "submission_df = pd.DataFrame({\"user_id\": [0, 0, 0, 0, 0, 1, 1, 1, 1, 1], \"item_id\": [34, 55, 77, 1, 43, 43, 9, 1888, 90, 11111]})\n",
    "submission_df"
   ],
   "metadata": {
    "collapsed": false
   }
  },
  {
   "cell_type": "code",
   "execution_count": 27,
   "outputs": [
    {
     "data": {
      "text/plain": "   user_id  item_id  content_type  length\n0        0       34             3       1\n1        0       55             1       1\n2        0       77             1       1\n3        0        1             3       1\n4        0       43             4       9\n5        1       43             4       9\n6        1        9             1       3\n7        1     1888             1       1\n8        1       90             1       1\n9        1    11111             4      33",
      "text/html": "<div>\n<style scoped>\n    .dataframe tbody tr th:only-of-type {\n        vertical-align: middle;\n    }\n\n    .dataframe tbody tr th {\n        vertical-align: top;\n    }\n\n    .dataframe thead th {\n        text-align: right;\n    }\n</style>\n<table border=\"1\" class=\"dataframe\">\n  <thead>\n    <tr style=\"text-align: right;\">\n      <th></th>\n      <th>user_id</th>\n      <th>item_id</th>\n      <th>content_type</th>\n      <th>length</th>\n    </tr>\n  </thead>\n  <tbody>\n    <tr>\n      <th>0</th>\n      <td>0</td>\n      <td>34</td>\n      <td>3</td>\n      <td>1</td>\n    </tr>\n    <tr>\n      <th>1</th>\n      <td>0</td>\n      <td>55</td>\n      <td>1</td>\n      <td>1</td>\n    </tr>\n    <tr>\n      <th>2</th>\n      <td>0</td>\n      <td>77</td>\n      <td>1</td>\n      <td>1</td>\n    </tr>\n    <tr>\n      <th>3</th>\n      <td>0</td>\n      <td>1</td>\n      <td>3</td>\n      <td>1</td>\n    </tr>\n    <tr>\n      <th>4</th>\n      <td>0</td>\n      <td>43</td>\n      <td>4</td>\n      <td>9</td>\n    </tr>\n    <tr>\n      <th>5</th>\n      <td>1</td>\n      <td>43</td>\n      <td>4</td>\n      <td>9</td>\n    </tr>\n    <tr>\n      <th>6</th>\n      <td>1</td>\n      <td>9</td>\n      <td>1</td>\n      <td>3</td>\n    </tr>\n    <tr>\n      <th>7</th>\n      <td>1</td>\n      <td>1888</td>\n      <td>1</td>\n      <td>1</td>\n    </tr>\n    <tr>\n      <th>8</th>\n      <td>1</td>\n      <td>90</td>\n      <td>1</td>\n      <td>1</td>\n    </tr>\n    <tr>\n      <th>9</th>\n      <td>1</td>\n      <td>11111</td>\n      <td>4</td>\n      <td>33</td>\n    </tr>\n  </tbody>\n</table>\n</div>"
     },
     "execution_count": 27,
     "metadata": {},
     "output_type": "execute_result"
    }
   ],
   "source": [
    "rich_df = submission_df.merge(ICM_all_mapped, how=\"left\")\n",
    "rich_df"
   ],
   "metadata": {
    "collapsed": false
   }
  },
  {
   "cell_type": "code",
   "execution_count": 36,
   "outputs": [
    {
     "name": "stdout",
     "output_type": "stream",
     "text": [
      "ItemId which is now 1888, was once 2355\n",
      "Current ItemId 1888, in the ICM has length 1 and type 1\n"
     ]
    }
   ],
   "source": [
    "new_item_id = 1888\n",
    "old_item_id = item_original_ID_to_index[item_original_ID_to_index==new_item_id].index.item()\n",
    "print(\"ItemId which is now {}, was once {}\".format(new_item_id, old_item_id))\n",
    "print(\"Current ItemId {}, in the ICM has length {} and type {}\".format(new_item_id, ICM_all[ICM_all[\"item_id\"]==old_item_id].length.item(), ICM_all[ICM_all[\"item_id\"]==old_item_id].content_type.item()))"
   ],
   "metadata": {
    "collapsed": false
   }
  },
  {
   "cell_type": "markdown",
   "source": [
    "#### Then get the old IDs as before"
   ],
   "metadata": {
    "collapsed": false
   }
  },
  {
   "cell_type": "markdown",
   "source": [
    "-----------------"
   ],
   "metadata": {
    "collapsed": false
   }
  }
 ],
 "metadata": {
  "kernelspec": {
   "display_name": "Python 3",
   "language": "python",
   "name": "python3"
  },
  "language_info": {
   "codemirror_mode": {
    "name": "ipython",
    "version": 2
   },
   "file_extension": ".py",
   "mimetype": "text/x-python",
   "name": "python",
   "nbconvert_exporter": "python",
   "pygments_lexer": "ipython2",
   "version": "2.7.6"
  }
 },
 "nbformat": 4,
 "nbformat_minor": 0
}
